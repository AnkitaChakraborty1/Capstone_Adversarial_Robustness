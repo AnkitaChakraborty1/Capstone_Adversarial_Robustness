{
  "cells": [
    {
      "cell_type": "markdown",
      "metadata": {
        "id": "view-in-github",
        "colab_type": "text"
      },
      "source": [
        "<a href=\"https://colab.research.google.com/github/AnkitaChakraborty1/Capstone_Adversarial_Robustness/blob/main/Custom_Recipe_list_CompositeTransformations_Keras.ipynb\" target=\"_parent\"><img src=\"https://colab.research.google.com/assets/colab-badge.svg\" alt=\"Open In Colab\"/></a>"
      ]
    },
    {
      "cell_type": "markdown",
      "source": [
        "##pip installs"
      ],
      "metadata": {
        "id": "qFwazax85sRR"
      }
    },
    {
      "cell_type": "code",
      "execution_count": null,
      "metadata": {
        "id": "ByQttbCVWzZ9"
      },
      "outputs": [],
      "source": [
        "pip install transformers"
      ]
    },
    {
      "cell_type": "code",
      "execution_count": 2,
      "metadata": {
        "id": "Gcp6ZZGvVk_T",
        "colab": {
          "base_uri": "https://localhost:8080/",
          "height": 1000
        },
        "outputId": "c9768aee-fc53-4b35-b4a1-9021f823d92e"
      },
      "outputs": [
        {
          "output_type": "stream",
          "name": "stdout",
          "text": [
            "Collecting textattack[tensorflow]\n",
            "  Downloading textattack-0.3.4-py3-none-any.whl (373 kB)\n",
            "\u001b[?25l\r\u001b[K     |▉                               | 10 kB 24.2 MB/s eta 0:00:01\r\u001b[K     |█▊                              | 20 kB 8.7 MB/s eta 0:00:01\r\u001b[K     |██▋                             | 30 kB 7.6 MB/s eta 0:00:01\r\u001b[K     |███▌                            | 40 kB 3.6 MB/s eta 0:00:01\r\u001b[K     |████▍                           | 51 kB 3.6 MB/s eta 0:00:01\r\u001b[K     |█████▎                          | 61 kB 4.3 MB/s eta 0:00:01\r\u001b[K     |██████▏                         | 71 kB 4.5 MB/s eta 0:00:01\r\u001b[K     |███████                         | 81 kB 4.7 MB/s eta 0:00:01\r\u001b[K     |████████                        | 92 kB 5.3 MB/s eta 0:00:01\r\u001b[K     |████████▊                       | 102 kB 4.2 MB/s eta 0:00:01\r\u001b[K     |█████████▋                      | 112 kB 4.2 MB/s eta 0:00:01\r\u001b[K     |██████████▌                     | 122 kB 4.2 MB/s eta 0:00:01\r\u001b[K     |███████████▍                    | 133 kB 4.2 MB/s eta 0:00:01\r\u001b[K     |████████████▎                   | 143 kB 4.2 MB/s eta 0:00:01\r\u001b[K     |█████████████▏                  | 153 kB 4.2 MB/s eta 0:00:01\r\u001b[K     |██████████████                  | 163 kB 4.2 MB/s eta 0:00:01\r\u001b[K     |███████████████                 | 174 kB 4.2 MB/s eta 0:00:01\r\u001b[K     |███████████████▉                | 184 kB 4.2 MB/s eta 0:00:01\r\u001b[K     |████████████████▋               | 194 kB 4.2 MB/s eta 0:00:01\r\u001b[K     |█████████████████▌              | 204 kB 4.2 MB/s eta 0:00:01\r\u001b[K     |██████████████████▍             | 215 kB 4.2 MB/s eta 0:00:01\r\u001b[K     |███████████████████▎            | 225 kB 4.2 MB/s eta 0:00:01\r\u001b[K     |████████████████████▏           | 235 kB 4.2 MB/s eta 0:00:01\r\u001b[K     |█████████████████████           | 245 kB 4.2 MB/s eta 0:00:01\r\u001b[K     |██████████████████████          | 256 kB 4.2 MB/s eta 0:00:01\r\u001b[K     |██████████████████████▉         | 266 kB 4.2 MB/s eta 0:00:01\r\u001b[K     |███████████████████████▊        | 276 kB 4.2 MB/s eta 0:00:01\r\u001b[K     |████████████████████████▌       | 286 kB 4.2 MB/s eta 0:00:01\r\u001b[K     |█████████████████████████▍      | 296 kB 4.2 MB/s eta 0:00:01\r\u001b[K     |██████████████████████████▎     | 307 kB 4.2 MB/s eta 0:00:01\r\u001b[K     |███████████████████████████▏    | 317 kB 4.2 MB/s eta 0:00:01\r\u001b[K     |████████████████████████████    | 327 kB 4.2 MB/s eta 0:00:01\r\u001b[K     |█████████████████████████████   | 337 kB 4.2 MB/s eta 0:00:01\r\u001b[K     |█████████████████████████████▉  | 348 kB 4.2 MB/s eta 0:00:01\r\u001b[K     |██████████████████████████████▊ | 358 kB 4.2 MB/s eta 0:00:01\r\u001b[K     |███████████████████████████████▋| 368 kB 4.2 MB/s eta 0:00:01\r\u001b[K     |████████████████████████████████| 373 kB 4.2 MB/s \n",
            "\u001b[?25hRequirement already satisfied: pandas>=1.0.1 in /usr/local/lib/python3.7/dist-packages (from textattack[tensorflow]) (1.3.5)\n",
            "Collecting lemminflect\n",
            "  Downloading lemminflect-0.2.2-py3-none-any.whl (769 kB)\n",
            "\u001b[K     |████████████████████████████████| 769 kB 48.8 MB/s \n",
            "\u001b[?25hRequirement already satisfied: editdistance in /usr/local/lib/python3.7/dist-packages (from textattack[tensorflow]) (0.5.3)\n",
            "Requirement already satisfied: scipy>=1.4.1 in /usr/local/lib/python3.7/dist-packages (from textattack[tensorflow]) (1.4.1)\n",
            "Collecting tqdm<4.50.0,>=4.27\n",
            "  Downloading tqdm-4.49.0-py2.py3-none-any.whl (69 kB)\n",
            "\u001b[K     |████████████████████████████████| 69 kB 8.1 MB/s \n",
            "\u001b[?25hCollecting flair\n",
            "  Downloading flair-0.10-py3-none-any.whl (322 kB)\n",
            "\u001b[K     |████████████████████████████████| 322 kB 52.1 MB/s \n",
            "\u001b[?25hRequirement already satisfied: filelock in /usr/local/lib/python3.7/dist-packages (from textattack[tensorflow]) (3.6.0)\n",
            "Requirement already satisfied: numpy>=1.19.2 in /usr/local/lib/python3.7/dist-packages (from textattack[tensorflow]) (1.21.5)\n",
            "Requirement already satisfied: nltk in /usr/local/lib/python3.7/dist-packages (from textattack[tensorflow]) (3.2.5)\n",
            "Collecting language-tool-python\n",
            "  Downloading language_tool_python-2.7.0-py3-none-any.whl (34 kB)\n",
            "Collecting word2number\n",
            "  Downloading word2number-1.1.zip (9.7 kB)\n",
            "Requirement already satisfied: PySocks!=1.5.7,>=1.5.6 in /usr/local/lib/python3.7/dist-packages (from textattack[tensorflow]) (1.7.1)\n",
            "Requirement already satisfied: torch!=1.8,>=1.7.0 in /usr/local/lib/python3.7/dist-packages (from textattack[tensorflow]) (1.10.0+cu111)\n",
            "Requirement already satisfied: more-itertools in /usr/local/lib/python3.7/dist-packages (from textattack[tensorflow]) (8.12.0)\n",
            "Collecting lru-dict\n",
            "  Downloading lru-dict-1.1.7.tar.gz (10 kB)\n",
            "Requirement already satisfied: transformers>=3.3.0 in /usr/local/lib/python3.7/dist-packages (from textattack[tensorflow]) (4.17.0)\n",
            "Collecting terminaltables\n",
            "  Downloading terminaltables-3.1.10-py2.py3-none-any.whl (15 kB)\n",
            "Collecting num2words\n",
            "  Downloading num2words-0.5.10-py3-none-any.whl (101 kB)\n",
            "\u001b[K     |████████████████████████████████| 101 kB 11.1 MB/s \n",
            "\u001b[?25hCollecting bert-score>=0.3.5\n",
            "  Downloading bert_score-0.3.11-py3-none-any.whl (60 kB)\n",
            "\u001b[K     |████████████████████████████████| 60 kB 7.6 MB/s \n",
            "\u001b[?25hCollecting datasets\n",
            "  Downloading datasets-1.18.4-py3-none-any.whl (312 kB)\n",
            "\u001b[K     |████████████████████████████████| 312 kB 63.5 MB/s \n",
            "\u001b[?25hRequirement already satisfied: tensorflow-hub in /usr/local/lib/python3.7/dist-packages (from textattack[tensorflow]) (0.12.0)\n",
            "Collecting tensorflow==2.5.0\n",
            "  Downloading tensorflow-2.5.0-cp37-cp37m-manylinux2010_x86_64.whl (454.3 MB)\n",
            "\u001b[K     |████████████████████████████████| 454.3 MB 16 kB/s \n",
            "\u001b[?25hCollecting tensorflow-text>=2\n",
            "  Downloading tensorflow_text-2.8.1-cp37-cp37m-manylinux_2_12_x86_64.manylinux2010_x86_64.whl (4.9 MB)\n",
            "\u001b[K     |████████████████████████████████| 4.9 MB 42.3 MB/s \n",
            "\u001b[?25hCollecting tensorboardX\n",
            "  Downloading tensorboardX-2.5-py2.py3-none-any.whl (125 kB)\n",
            "\u001b[K     |████████████████████████████████| 125 kB 63.7 MB/s \n",
            "\u001b[?25hCollecting tensorflow-estimator==2.5.0\n",
            "  Downloading tensorflow_estimator-2.5.0-py2.py3-none-any.whl (462 kB)\n",
            "\u001b[K     |████████████████████████████████| 462 kB 65.1 MB/s \n",
            "\u001b[?25hCollecting grpcio~=1.34.0\n",
            "  Downloading grpcio-1.34.1-cp37-cp37m-manylinux2014_x86_64.whl (4.0 MB)\n",
            "\u001b[K     |████████████████████████████████| 4.0 MB 38.6 MB/s \n",
            "\u001b[?25hRequirement already satisfied: keras-preprocessing~=1.1.2 in /usr/local/lib/python3.7/dist-packages (from tensorflow==2.5.0->textattack[tensorflow]) (1.1.2)\n",
            "Requirement already satisfied: opt-einsum~=3.3.0 in /usr/local/lib/python3.7/dist-packages (from tensorflow==2.5.0->textattack[tensorflow]) (3.3.0)\n",
            "Collecting wrapt~=1.12.1\n",
            "  Downloading wrapt-1.12.1.tar.gz (27 kB)\n",
            "Collecting gast==0.4.0\n",
            "  Downloading gast-0.4.0-py3-none-any.whl (9.8 kB)\n",
            "Requirement already satisfied: google-pasta~=0.2 in /usr/local/lib/python3.7/dist-packages (from tensorflow==2.5.0->textattack[tensorflow]) (0.2.0)\n",
            "Collecting keras-nightly~=2.5.0.dev\n",
            "  Downloading keras_nightly-2.5.0.dev2021032900-py2.py3-none-any.whl (1.2 MB)\n",
            "\u001b[K     |████████████████████████████████| 1.2 MB 49.3 MB/s \n",
            "\u001b[?25hRequirement already satisfied: protobuf>=3.9.2 in /usr/local/lib/python3.7/dist-packages (from tensorflow==2.5.0->textattack[tensorflow]) (3.17.3)\n",
            "Requirement already satisfied: termcolor~=1.1.0 in /usr/local/lib/python3.7/dist-packages (from tensorflow==2.5.0->textattack[tensorflow]) (1.1.0)\n",
            "Collecting absl-py~=0.10\n",
            "  Downloading absl_py-0.15.0-py3-none-any.whl (132 kB)\n",
            "\u001b[K     |████████████████████████████████| 132 kB 64.8 MB/s \n",
            "\u001b[?25hRequirement already satisfied: wheel~=0.35 in /usr/local/lib/python3.7/dist-packages (from tensorflow==2.5.0->textattack[tensorflow]) (0.37.1)\n",
            "Requirement already satisfied: h5py~=3.1.0 in /usr/local/lib/python3.7/dist-packages (from tensorflow==2.5.0->textattack[tensorflow]) (3.1.0)\n",
            "Requirement already satisfied: astunparse~=1.6.3 in /usr/local/lib/python3.7/dist-packages (from tensorflow==2.5.0->textattack[tensorflow]) (1.6.3)\n",
            "Collecting flatbuffers~=1.12.0\n",
            "  Downloading flatbuffers-1.12-py2.py3-none-any.whl (15 kB)\n",
            "Collecting numpy>=1.19.2\n",
            "  Downloading numpy-1.19.5-cp37-cp37m-manylinux2010_x86_64.whl (14.8 MB)\n",
            "\u001b[K     |████████████████████████████████| 14.8 MB 53.5 MB/s \n",
            "\u001b[?25hCollecting typing-extensions~=3.7.4\n",
            "  Downloading typing_extensions-3.7.4.3-py3-none-any.whl (22 kB)\n",
            "Requirement already satisfied: tensorboard~=2.5 in /usr/local/lib/python3.7/dist-packages (from tensorflow==2.5.0->textattack[tensorflow]) (2.8.0)\n",
            "Requirement already satisfied: six~=1.15.0 in /usr/local/lib/python3.7/dist-packages (from tensorflow==2.5.0->textattack[tensorflow]) (1.15.0)\n",
            "Requirement already satisfied: requests in /usr/local/lib/python3.7/dist-packages (from bert-score>=0.3.5->textattack[tensorflow]) (2.23.0)\n",
            "Requirement already satisfied: matplotlib in /usr/local/lib/python3.7/dist-packages (from bert-score>=0.3.5->textattack[tensorflow]) (3.2.2)\n",
            "Requirement already satisfied: packaging>=20.9 in /usr/local/lib/python3.7/dist-packages (from bert-score>=0.3.5->textattack[tensorflow]) (21.3)\n",
            "Requirement already satisfied: cached-property in /usr/local/lib/python3.7/dist-packages (from h5py~=3.1.0->tensorflow==2.5.0->textattack[tensorflow]) (1.5.2)\n",
            "Requirement already satisfied: pyparsing!=3.0.5,>=2.0.2 in /usr/local/lib/python3.7/dist-packages (from packaging>=20.9->bert-score>=0.3.5->textattack[tensorflow]) (3.0.7)\n",
            "Requirement already satisfied: pytz>=2017.3 in /usr/local/lib/python3.7/dist-packages (from pandas>=1.0.1->textattack[tensorflow]) (2018.9)\n",
            "Requirement already satisfied: python-dateutil>=2.7.3 in /usr/local/lib/python3.7/dist-packages (from pandas>=1.0.1->textattack[tensorflow]) (2.8.2)\n",
            "Requirement already satisfied: tensorboard-plugin-wit>=1.6.0 in /usr/local/lib/python3.7/dist-packages (from tensorboard~=2.5->tensorflow==2.5.0->textattack[tensorflow]) (1.8.1)\n",
            "Requirement already satisfied: markdown>=2.6.8 in /usr/local/lib/python3.7/dist-packages (from tensorboard~=2.5->tensorflow==2.5.0->textattack[tensorflow]) (3.3.6)\n",
            "Requirement already satisfied: google-auth<3,>=1.6.3 in /usr/local/lib/python3.7/dist-packages (from tensorboard~=2.5->tensorflow==2.5.0->textattack[tensorflow]) (1.35.0)\n",
            "Requirement already satisfied: tensorboard-data-server<0.7.0,>=0.6.0 in /usr/local/lib/python3.7/dist-packages (from tensorboard~=2.5->tensorflow==2.5.0->textattack[tensorflow]) (0.6.1)\n",
            "Requirement already satisfied: werkzeug>=0.11.15 in /usr/local/lib/python3.7/dist-packages (from tensorboard~=2.5->tensorflow==2.5.0->textattack[tensorflow]) (1.0.1)\n",
            "Requirement already satisfied: setuptools>=41.0.0 in /usr/local/lib/python3.7/dist-packages (from tensorboard~=2.5->tensorflow==2.5.0->textattack[tensorflow]) (57.4.0)\n",
            "Requirement already satisfied: google-auth-oauthlib<0.5,>=0.4.1 in /usr/local/lib/python3.7/dist-packages (from tensorboard~=2.5->tensorflow==2.5.0->textattack[tensorflow]) (0.4.6)\n",
            "Requirement already satisfied: pyasn1-modules>=0.2.1 in /usr/local/lib/python3.7/dist-packages (from google-auth<3,>=1.6.3->tensorboard~=2.5->tensorflow==2.5.0->textattack[tensorflow]) (0.2.8)\n",
            "Requirement already satisfied: rsa<5,>=3.1.4 in /usr/local/lib/python3.7/dist-packages (from google-auth<3,>=1.6.3->tensorboard~=2.5->tensorflow==2.5.0->textattack[tensorflow]) (4.8)\n",
            "Requirement already satisfied: cachetools<5.0,>=2.0.0 in /usr/local/lib/python3.7/dist-packages (from google-auth<3,>=1.6.3->tensorboard~=2.5->tensorflow==2.5.0->textattack[tensorflow]) (4.2.4)\n",
            "Requirement already satisfied: requests-oauthlib>=0.7.0 in /usr/local/lib/python3.7/dist-packages (from google-auth-oauthlib<0.5,>=0.4.1->tensorboard~=2.5->tensorflow==2.5.0->textattack[tensorflow]) (1.3.1)\n",
            "Requirement already satisfied: importlib-metadata>=4.4 in /usr/local/lib/python3.7/dist-packages (from markdown>=2.6.8->tensorboard~=2.5->tensorflow==2.5.0->textattack[tensorflow]) (4.11.2)\n",
            "Requirement already satisfied: zipp>=0.5 in /usr/local/lib/python3.7/dist-packages (from importlib-metadata>=4.4->markdown>=2.6.8->tensorboard~=2.5->tensorflow==2.5.0->textattack[tensorflow]) (3.7.0)\n",
            "Requirement already satisfied: pyasn1<0.5.0,>=0.4.6 in /usr/local/lib/python3.7/dist-packages (from pyasn1-modules>=0.2.1->google-auth<3,>=1.6.3->tensorboard~=2.5->tensorflow==2.5.0->textattack[tensorflow]) (0.4.8)\n",
            "Requirement already satisfied: certifi>=2017.4.17 in /usr/local/lib/python3.7/dist-packages (from requests->bert-score>=0.3.5->textattack[tensorflow]) (2021.10.8)\n",
            "Requirement already satisfied: idna<3,>=2.5 in /usr/local/lib/python3.7/dist-packages (from requests->bert-score>=0.3.5->textattack[tensorflow]) (2.10)\n",
            "Requirement already satisfied: urllib3!=1.25.0,!=1.25.1,<1.26,>=1.21.1 in /usr/local/lib/python3.7/dist-packages (from requests->bert-score>=0.3.5->textattack[tensorflow]) (1.24.3)\n",
            "Requirement already satisfied: chardet<4,>=3.0.2 in /usr/local/lib/python3.7/dist-packages (from requests->bert-score>=0.3.5->textattack[tensorflow]) (3.0.4)\n",
            "Requirement already satisfied: oauthlib>=3.0.0 in /usr/local/lib/python3.7/dist-packages (from requests-oauthlib>=0.7.0->google-auth-oauthlib<0.5,>=0.4.1->tensorboard~=2.5->tensorflow==2.5.0->textattack[tensorflow]) (3.2.0)\n",
            "Collecting tensorflow-text>=2\n",
            "  Downloading tensorflow_text-2.7.3-cp37-cp37m-manylinux2010_x86_64.whl (4.9 MB)\n",
            "\u001b[K     |████████████████████████████████| 4.9 MB 32.8 MB/s \n",
            "\u001b[?25h  Downloading tensorflow_text-2.7.0-cp37-cp37m-manylinux2010_x86_64.whl (4.9 MB)\n",
            "\u001b[K     |████████████████████████████████| 4.9 MB 33.0 MB/s \n",
            "\u001b[?25h  Downloading tensorflow_text-2.6.0-cp37-cp37m-manylinux1_x86_64.whl (4.4 MB)\n",
            "\u001b[K     |████████████████████████████████| 4.4 MB 21.6 MB/s \n",
            "\u001b[?25h  Downloading tensorflow_text-2.5.0-cp37-cp37m-manylinux1_x86_64.whl (4.3 MB)\n",
            "\u001b[K     |████████████████████████████████| 4.3 MB 39.5 MB/s \n",
            "\u001b[?25hRequirement already satisfied: pyyaml>=5.1 in /usr/local/lib/python3.7/dist-packages (from transformers>=3.3.0->textattack[tensorflow]) (6.0)\n",
            "Requirement already satisfied: huggingface-hub<1.0,>=0.1.0 in /usr/local/lib/python3.7/dist-packages (from transformers>=3.3.0->textattack[tensorflow]) (0.4.0)\n",
            "Requirement already satisfied: regex!=2019.12.17 in /usr/local/lib/python3.7/dist-packages (from transformers>=3.3.0->textattack[tensorflow]) (2019.12.20)\n",
            "Requirement already satisfied: sacremoses in /usr/local/lib/python3.7/dist-packages (from transformers>=3.3.0->textattack[tensorflow]) (0.0.47)\n",
            "Requirement already satisfied: tokenizers!=0.11.3,>=0.11.1 in /usr/local/lib/python3.7/dist-packages (from transformers>=3.3.0->textattack[tensorflow]) (0.11.6)\n",
            "Collecting datasets\n",
            "  Downloading datasets-1.18.3-py3-none-any.whl (311 kB)\n",
            "\u001b[K     |████████████████████████████████| 311 kB 44.1 MB/s \n",
            "\u001b[?25h  Downloading datasets-1.18.2-py3-none-any.whl (312 kB)\n",
            "\u001b[K     |████████████████████████████████| 312 kB 20.4 MB/s \n",
            "\u001b[?25h  Downloading datasets-1.18.1-py3-none-any.whl (311 kB)\n",
            "\u001b[K     |████████████████████████████████| 311 kB 51.4 MB/s \n",
            "\u001b[?25h  Downloading datasets-1.18.0-py3-none-any.whl (311 kB)\n",
            "\u001b[K     |████████████████████████████████| 311 kB 61.9 MB/s \n",
            "\u001b[?25h  Downloading datasets-1.17.0-py3-none-any.whl (306 kB)\n",
            "\u001b[K     |████████████████████████████████| 306 kB 58.9 MB/s \n",
            "\u001b[?25h  Downloading datasets-1.16.1-py3-none-any.whl (298 kB)\n",
            "\u001b[K     |████████████████████████████████| 298 kB 48.6 MB/s \n",
            "\u001b[?25h  Downloading datasets-1.16.0-py3-none-any.whl (298 kB)\n",
            "\u001b[K     |████████████████████████████████| 298 kB 60.3 MB/s \n",
            "\u001b[?25h  Downloading datasets-1.15.1-py3-none-any.whl (290 kB)\n",
            "\u001b[K     |████████████████████████████████| 290 kB 64.1 MB/s \n",
            "\u001b[?25h  Downloading datasets-1.15.0-py3-none-any.whl (290 kB)\n",
            "\u001b[K     |████████████████████████████████| 290 kB 60.4 MB/s \n",
            "\u001b[?25h  Downloading datasets-1.14.0-py3-none-any.whl (290 kB)\n",
            "\u001b[K     |████████████████████████████████| 290 kB 64.0 MB/s \n",
            "\u001b[?25h  Downloading datasets-1.13.3-py3-none-any.whl (287 kB)\n",
            "\u001b[K     |████████████████████████████████| 287 kB 48.4 MB/s \n",
            "\u001b[?25h  Downloading datasets-1.13.2-py3-none-any.whl (287 kB)\n",
            "\u001b[K     |████████████████████████████████| 287 kB 52.4 MB/s \n",
            "\u001b[?25h  Downloading datasets-1.13.1-py3-none-any.whl (287 kB)\n",
            "\u001b[K     |████████████████████████████████| 287 kB 61.4 MB/s \n",
            "\u001b[?25h  Downloading datasets-1.13.0-py3-none-any.whl (285 kB)\n",
            "\u001b[K     |████████████████████████████████| 285 kB 40.9 MB/s \n",
            "\u001b[?25h  Downloading datasets-1.12.1-py3-none-any.whl (270 kB)\n",
            "\u001b[K     |████████████████████████████████| 270 kB 59.9 MB/s \n",
            "\u001b[?25h  Downloading datasets-1.12.0-py3-none-any.whl (269 kB)\n",
            "\u001b[K     |████████████████████████████████| 269 kB 64.1 MB/s \n",
            "\u001b[?25h  Downloading datasets-1.11.0-py3-none-any.whl (264 kB)\n",
            "\u001b[K     |████████████████████████████████| 264 kB 64.5 MB/s \n",
            "\u001b[?25hCollecting xxhash\n",
            "  Downloading xxhash-3.0.0-cp37-cp37m-manylinux_2_17_x86_64.manylinux2014_x86_64.whl (212 kB)\n",
            "\u001b[K     |████████████████████████████████| 212 kB 53.9 MB/s \n",
            "\u001b[?25hCollecting fsspec>=2021.05.0\n",
            "  Downloading fsspec-2022.2.0-py3-none-any.whl (134 kB)\n",
            "\u001b[K     |████████████████████████████████| 134 kB 54.8 MB/s \n",
            "\u001b[?25hCollecting datasets\n",
            "  Downloading datasets-1.10.2-py3-none-any.whl (542 kB)\n",
            "\u001b[K     |████████████████████████████████| 542 kB 56.6 MB/s \n",
            "\u001b[?25h  Downloading datasets-1.10.1-py3-none-any.whl (542 kB)\n",
            "\u001b[K     |████████████████████████████████| 542 kB 57.5 MB/s \n",
            "\u001b[?25h  Downloading datasets-1.10.0-py3-none-any.whl (542 kB)\n",
            "\u001b[K     |████████████████████████████████| 542 kB 62.4 MB/s \n",
            "\u001b[?25hRequirement already satisfied: multiprocess in /usr/local/lib/python3.7/dist-packages (from datasets->textattack[tensorflow]) (0.70.12.2)\n",
            "  Downloading datasets-1.9.0-py3-none-any.whl (262 kB)\n",
            "\u001b[K     |████████████████████████████████| 262 kB 54.0 MB/s \n",
            "\u001b[?25h  Downloading datasets-1.8.0-py3-none-any.whl (237 kB)\n",
            "\u001b[K     |████████████████████████████████| 237 kB 63.7 MB/s \n",
            "\u001b[?25h  Downloading datasets-1.7.0-py3-none-any.whl (234 kB)\n",
            "\u001b[K     |████████████████████████████████| 234 kB 64.8 MB/s \n",
            "\u001b[?25h  Downloading datasets-1.6.2-py3-none-any.whl (221 kB)\n",
            "\u001b[K     |████████████████████████████████| 221 kB 66.0 MB/s \n",
            "\u001b[?25h  Downloading datasets-1.6.1-py3-none-any.whl (220 kB)\n",
            "\u001b[K     |████████████████████████████████| 220 kB 66.2 MB/s \n",
            "\u001b[?25h  Downloading datasets-1.6.0-py3-none-any.whl (202 kB)\n",
            "\u001b[K     |████████████████████████████████| 202 kB 70.9 MB/s \n",
            "\u001b[?25h  Downloading datasets-1.5.0-py3-none-any.whl (192 kB)\n",
            "\u001b[K     |████████████████████████████████| 192 kB 54.0 MB/s \n",
            "\u001b[?25h  Downloading datasets-1.4.1-py3-none-any.whl (186 kB)\n",
            "\u001b[K     |████████████████████████████████| 186 kB 56.0 MB/s \n",
            "\u001b[?25hRequirement already satisfied: dill in /usr/local/lib/python3.7/dist-packages (from datasets->textattack[tensorflow]) (0.3.4)\n",
            "  Downloading datasets-1.4.0-py3-none-any.whl (186 kB)\n",
            "\u001b[K     |████████████████████████████████| 186 kB 58.9 MB/s \n",
            "\u001b[?25h  Downloading datasets-1.3.0-py3-none-any.whl (181 kB)\n",
            "\u001b[K     |████████████████████████████████| 181 kB 68.8 MB/s \n",
            "\u001b[?25h  Downloading datasets-1.2.1-py3-none-any.whl (159 kB)\n",
            "\u001b[K     |████████████████████████████████| 159 kB 53.8 MB/s \n",
            "\u001b[?25hRequirement already satisfied: pyarrow>=0.17.1 in /usr/local/lib/python3.7/dist-packages (from datasets->textattack[tensorflow]) (6.0.1)\n",
            "Collecting janome\n",
            "  Downloading Janome-0.4.2-py2.py3-none-any.whl (19.7 MB)\n",
            "\u001b[K     |████████████████████████████████| 19.7 MB 56.6 MB/s \n",
            "\u001b[?25hCollecting konoha<5.0.0,>=4.0.0\n",
            "  Downloading konoha-4.6.5-py3-none-any.whl (20 kB)\n",
            "Requirement already satisfied: gensim>=3.4.0 in /usr/local/lib/python3.7/dist-packages (from flair->textattack[tensorflow]) (3.6.0)\n",
            "Collecting wikipedia-api\n",
            "  Downloading Wikipedia-API-0.5.4.tar.gz (18 kB)\n",
            "Collecting mpld3==0.3\n",
            "  Downloading mpld3-0.3.tar.gz (788 kB)\n",
            "\u001b[K     |████████████████████████████████| 788 kB 59.9 MB/s \n",
            "\u001b[?25hCollecting bpemb>=0.3.2\n",
            "  Downloading bpemb-0.3.3-py3-none-any.whl (19 kB)\n",
            "Collecting deprecated>=1.2.4\n",
            "  Downloading Deprecated-1.2.13-py2.py3-none-any.whl (9.6 kB)\n",
            "Collecting sqlitedict>=1.6.0\n",
            "  Downloading sqlitedict-2.0.0.tar.gz (46 kB)\n",
            "\u001b[K     |████████████████████████████████| 46 kB 3.9 MB/s \n",
            "\u001b[?25hCollecting conllu>=4.0\n",
            "  Downloading conllu-4.4.1-py2.py3-none-any.whl (15 kB)\n",
            "Collecting sentencepiece==0.1.95\n",
            "  Downloading sentencepiece-0.1.95-cp37-cp37m-manylinux2014_x86_64.whl (1.2 MB)\n",
            "\u001b[K     |████████████████████████████████| 1.2 MB 54.2 MB/s \n",
            "\u001b[?25hCollecting more-itertools\n",
            "  Downloading more_itertools-8.8.0-py3-none-any.whl (48 kB)\n",
            "\u001b[K     |████████████████████████████████| 48 kB 5.9 MB/s \n",
            "\u001b[?25hCollecting ftfy\n",
            "  Downloading ftfy-6.1.1-py3-none-any.whl (53 kB)\n",
            "\u001b[K     |████████████████████████████████| 53 kB 1.8 MB/s \n",
            "\u001b[?25hCollecting gdown==3.12.2\n",
            "  Downloading gdown-3.12.2.tar.gz (8.2 kB)\n",
            "  Installing build dependencies ... \u001b[?25l\u001b[?25hdone\n",
            "  Getting requirements to build wheel ... \u001b[?25l\u001b[?25hdone\n",
            "    Preparing wheel metadata ... \u001b[?25l\u001b[?25hdone\n",
            "Collecting langdetect\n",
            "  Downloading langdetect-1.0.9.tar.gz (981 kB)\n",
            "\u001b[K     |████████████████████████████████| 981 kB 52.4 MB/s \n",
            "\u001b[?25hRequirement already satisfied: scikit-learn>=0.21.3 in /usr/local/lib/python3.7/dist-packages (from flair->textattack[tensorflow]) (1.0.2)\n",
            "Collecting segtok>=1.5.7\n",
            "  Downloading segtok-1.5.11-py3-none-any.whl (24 kB)\n",
            "Requirement already satisfied: lxml in /usr/local/lib/python3.7/dist-packages (from flair->textattack[tensorflow]) (4.2.6)\n",
            "Requirement already satisfied: tabulate in /usr/local/lib/python3.7/dist-packages (from flair->textattack[tensorflow]) (0.8.9)\n",
            "Requirement already satisfied: smart-open>=1.2.1 in /usr/local/lib/python3.7/dist-packages (from gensim>=3.4.0->flair->textattack[tensorflow]) (5.2.1)\n",
            "Collecting konoha<5.0.0,>=4.0.0\n",
            "  Downloading konoha-4.6.4-py3-none-any.whl (19 kB)\n",
            "  Downloading konoha-4.6.3-py3-none-any.whl (19 kB)\n",
            "Collecting overrides<4.0.0,>=3.0.0\n",
            "  Downloading overrides-3.1.0.tar.gz (11 kB)\n",
            "Requirement already satisfied: kiwisolver>=1.0.1 in /usr/local/lib/python3.7/dist-packages (from matplotlib->bert-score>=0.3.5->textattack[tensorflow]) (1.3.2)\n",
            "Requirement already satisfied: cycler>=0.10 in /usr/local/lib/python3.7/dist-packages (from matplotlib->bert-score>=0.3.5->textattack[tensorflow]) (0.11.0)\n",
            "Requirement already satisfied: joblib>=0.11 in /usr/local/lib/python3.7/dist-packages (from scikit-learn>=0.21.3->flair->textattack[tensorflow]) (1.1.0)\n",
            "Requirement already satisfied: threadpoolctl>=2.0.0 in /usr/local/lib/python3.7/dist-packages (from scikit-learn>=0.21.3->flair->textattack[tensorflow]) (3.1.0)\n",
            "Requirement already satisfied: wcwidth>=0.2.5 in /usr/local/lib/python3.7/dist-packages (from ftfy->flair->textattack[tensorflow]) (0.2.5)\n",
            "Requirement already satisfied: docopt>=0.6.2 in /usr/local/lib/python3.7/dist-packages (from num2words->textattack[tensorflow]) (0.6.2)\n",
            "Requirement already satisfied: click in /usr/local/lib/python3.7/dist-packages (from sacremoses->transformers>=3.3.0->textattack[tensorflow]) (7.1.2)\n",
            "Building wheels for collected packages: wrapt, gdown, mpld3, overrides, sqlitedict, langdetect, lru-dict, wikipedia-api, word2number\n",
            "  Building wheel for wrapt (setup.py) ... \u001b[?25l\u001b[?25hdone\n",
            "  Created wheel for wrapt: filename=wrapt-1.12.1-cp37-cp37m-linux_x86_64.whl size=68723 sha256=1ccc6697b98daaa7305a506400a0a0c0a4c22a98ebba9bbe24094468858039da\n",
            "  Stored in directory: /root/.cache/pip/wheels/62/76/4c/aa25851149f3f6d9785f6c869387ad82b3fd37582fa8147ac6\n",
            "  Building wheel for gdown (PEP 517) ... \u001b[?25l\u001b[?25hdone\n",
            "  Created wheel for gdown: filename=gdown-3.12.2-py3-none-any.whl size=9692 sha256=5d92ff3a30a21a9a014c04dfc3dcc3950aee1c5a8a118cf522c5ad4ed7cc23a8\n",
            "  Stored in directory: /root/.cache/pip/wheels/ba/e0/7e/726e872a53f7358b4b96a9975b04e98113b005cd8609a63abc\n",
            "  Building wheel for mpld3 (setup.py) ... \u001b[?25l\u001b[?25hdone\n",
            "  Created wheel for mpld3: filename=mpld3-0.3-py3-none-any.whl size=116702 sha256=900fcf867c8a7a15f6a6b13957a3db7b1393c4f69df2192134e97d313cb9d667\n",
            "  Stored in directory: /root/.cache/pip/wheels/26/70/6a/1c79e59951a41b4045497da187b2724f5659ca64033cf4548e\n",
            "  Building wheel for overrides (setup.py) ... \u001b[?25l\u001b[?25hdone\n",
            "  Created wheel for overrides: filename=overrides-3.1.0-py3-none-any.whl size=10187 sha256=fc763c3b2b5eaec990d42ee6e9b736b42ca81432659750e5f05e52dfa9c74a15\n",
            "  Stored in directory: /root/.cache/pip/wheels/3a/0d/38/01a9bc6e20dcfaf0a6a7b552d03137558ba1c38aea47644682\n",
            "  Building wheel for sqlitedict (setup.py) ... \u001b[?25l\u001b[?25hdone\n",
            "  Created wheel for sqlitedict: filename=sqlitedict-2.0.0-py3-none-any.whl size=15736 sha256=be9b0ffa4f3c9cf8a6389879299a0fae2eb02312822e470beb5db8357538d68d\n",
            "  Stored in directory: /root/.cache/pip/wheels/96/dd/2e/0ed4a25cb73fc30c7ea8d10b50acb7226175736067e40a7ea3\n",
            "  Building wheel for langdetect (setup.py) ... \u001b[?25l\u001b[?25hdone\n",
            "  Created wheel for langdetect: filename=langdetect-1.0.9-py3-none-any.whl size=993242 sha256=7b645a33b5e572738e0fa3b77404562d87e73abf98e3a909e7ca53d6cf4990aa\n",
            "  Stored in directory: /root/.cache/pip/wheels/c5/96/8a/f90c59ed25d75e50a8c10a1b1c2d4c402e4dacfa87f3aff36a\n",
            "  Building wheel for lru-dict (setup.py) ... \u001b[?25l\u001b[?25hdone\n",
            "  Created wheel for lru-dict: filename=lru_dict-1.1.7-cp37-cp37m-linux_x86_64.whl size=28411 sha256=02da61687faa4830ec40a5a8ae9f84cd75aaca30ac58c73c4355624b2454bace\n",
            "  Stored in directory: /root/.cache/pip/wheels/9d/0b/4e/aa8fec9833090cd52bcd76f92f9d95e1ee7b915c12093663b4\n",
            "  Building wheel for wikipedia-api (setup.py) ... \u001b[?25l\u001b[?25hdone\n",
            "  Created wheel for wikipedia-api: filename=Wikipedia_API-0.5.4-py3-none-any.whl size=13477 sha256=7c0e34b04e011ec355d294b22e1523da652080a13c3263b81f611fb9d6e2a523\n",
            "  Stored in directory: /root/.cache/pip/wheels/d3/24/56/58ba93cf78be162451144e7a9889603f437976ef1ae7013d04\n",
            "  Building wheel for word2number (setup.py) ... \u001b[?25l\u001b[?25hdone\n",
            "  Created wheel for word2number: filename=word2number-1.1-py3-none-any.whl size=5582 sha256=811cdbcfed189ce7cb5b40a3c7641f678b9c18942b526803e7375606ab7c84b2\n",
            "  Stored in directory: /root/.cache/pip/wheels/4b/c3/77/a5f48aeb0d3efb7cd5ad61cbd3da30bbf9ffc9662b07c9f879\n",
            "Successfully built wrapt gdown mpld3 overrides sqlitedict langdetect lru-dict wikipedia-api word2number\n",
            "Installing collected packages: typing-extensions, numpy, tqdm, wrapt, sentencepiece, overrides, grpcio, absl-py, xxhash, wikipedia-api, tensorflow-estimator, sqlitedict, segtok, mpld3, more-itertools, langdetect, konoha, keras-nightly, janome, gdown, gast, ftfy, flatbuffers, deprecated, conllu, bpemb, word2number, terminaltables, tensorflow, num2words, lru-dict, lemminflect, language-tool-python, flair, datasets, bert-score, textattack, tensorflow-text, tensorboardX\n",
            "  Attempting uninstall: typing-extensions\n",
            "    Found existing installation: typing-extensions 3.10.0.2\n",
            "    Uninstalling typing-extensions-3.10.0.2:\n",
            "      Successfully uninstalled typing-extensions-3.10.0.2\n",
            "  Attempting uninstall: numpy\n",
            "    Found existing installation: numpy 1.21.5\n",
            "    Uninstalling numpy-1.21.5:\n",
            "      Successfully uninstalled numpy-1.21.5\n",
            "  Attempting uninstall: tqdm\n",
            "    Found existing installation: tqdm 4.63.0\n",
            "    Uninstalling tqdm-4.63.0:\n",
            "      Successfully uninstalled tqdm-4.63.0\n",
            "  Attempting uninstall: wrapt\n",
            "    Found existing installation: wrapt 1.13.3\n",
            "    Uninstalling wrapt-1.13.3:\n",
            "      Successfully uninstalled wrapt-1.13.3\n",
            "  Attempting uninstall: grpcio\n",
            "    Found existing installation: grpcio 1.44.0\n",
            "    Uninstalling grpcio-1.44.0:\n",
            "      Successfully uninstalled grpcio-1.44.0\n",
            "  Attempting uninstall: absl-py\n",
            "    Found existing installation: absl-py 1.0.0\n",
            "    Uninstalling absl-py-1.0.0:\n",
            "      Successfully uninstalled absl-py-1.0.0\n",
            "  Attempting uninstall: tensorflow-estimator\n",
            "    Found existing installation: tensorflow-estimator 2.8.0\n",
            "    Uninstalling tensorflow-estimator-2.8.0:\n",
            "      Successfully uninstalled tensorflow-estimator-2.8.0\n",
            "  Attempting uninstall: more-itertools\n",
            "    Found existing installation: more-itertools 8.12.0\n",
            "    Uninstalling more-itertools-8.12.0:\n",
            "      Successfully uninstalled more-itertools-8.12.0\n",
            "  Attempting uninstall: gdown\n",
            "    Found existing installation: gdown 4.2.2\n",
            "    Uninstalling gdown-4.2.2:\n",
            "      Successfully uninstalled gdown-4.2.2\n",
            "  Attempting uninstall: gast\n",
            "    Found existing installation: gast 0.5.3\n",
            "    Uninstalling gast-0.5.3:\n",
            "      Successfully uninstalled gast-0.5.3\n",
            "  Attempting uninstall: flatbuffers\n",
            "    Found existing installation: flatbuffers 2.0\n",
            "    Uninstalling flatbuffers-2.0:\n",
            "      Successfully uninstalled flatbuffers-2.0\n",
            "  Attempting uninstall: tensorflow\n",
            "    Found existing installation: tensorflow 2.8.0\n",
            "    Uninstalling tensorflow-2.8.0:\n",
            "      Successfully uninstalled tensorflow-2.8.0\n",
            "\u001b[31mERROR: pip's dependency resolver does not currently take into account all the packages that are installed. This behaviour is the source of the following dependency conflicts.\n",
            "datascience 0.10.6 requires folium==0.2.1, but you have folium 0.8.3 which is incompatible.\n",
            "albumentations 0.1.12 requires imgaug<0.2.7,>=0.2.5, but you have imgaug 0.2.9 which is incompatible.\u001b[0m\n",
            "Successfully installed absl-py-0.15.0 bert-score-0.3.11 bpemb-0.3.3 conllu-4.4.1 datasets-1.2.1 deprecated-1.2.13 flair-0.10 flatbuffers-1.12 ftfy-6.1.1 gast-0.4.0 gdown-3.12.2 grpcio-1.34.1 janome-0.4.2 keras-nightly-2.5.0.dev2021032900 konoha-4.6.3 langdetect-1.0.9 language-tool-python-2.7.0 lemminflect-0.2.2 lru-dict-1.1.7 more-itertools-8.8.0 mpld3-0.3 num2words-0.5.10 numpy-1.19.5 overrides-3.1.0 segtok-1.5.11 sentencepiece-0.1.95 sqlitedict-2.0.0 tensorboardX-2.5 tensorflow-2.5.0 tensorflow-estimator-2.5.0 tensorflow-text-2.5.0 terminaltables-3.1.10 textattack-0.3.4 tqdm-4.49.0 typing-extensions-3.7.4.3 wikipedia-api-0.5.4 word2number-1.1 wrapt-1.12.1 xxhash-3.0.0\n"
          ]
        },
        {
          "output_type": "display_data",
          "data": {
            "application/vnd.colab-display-data+json": {
              "pip_warning": {
                "packages": [
                  "numpy"
                ]
              }
            }
          },
          "metadata": {}
        }
      ],
      "source": [
        "!pip3 install textattack[tensorflow]"
      ]
    },
    {
      "cell_type": "code",
      "execution_count": 3,
      "metadata": {
        "id": "KNCInb7pfKEt",
        "colab": {
          "base_uri": "https://localhost:8080/",
          "height": 346
        },
        "outputId": "5bab58b7-9b0a-43ad-cceb-ff46a324b798"
      },
      "outputs": [
        {
          "output_type": "stream",
          "name": "stdout",
          "text": [
            "Requirement already satisfied: numpy in /usr/local/lib/python3.7/dist-packages (1.19.5)\n",
            "Collecting numpy\n",
            "  Downloading numpy-1.21.5-cp37-cp37m-manylinux_2_12_x86_64.manylinux2010_x86_64.whl (15.7 MB)\n",
            "\u001b[K     |████████████████████████████████| 15.7 MB 4.3 MB/s \n",
            "\u001b[?25hInstalling collected packages: numpy\n",
            "  Attempting uninstall: numpy\n",
            "    Found existing installation: numpy 1.19.5\n",
            "    Uninstalling numpy-1.19.5:\n",
            "      Successfully uninstalled numpy-1.19.5\n",
            "\u001b[31mERROR: pip's dependency resolver does not currently take into account all the packages that are installed. This behaviour is the source of the following dependency conflicts.\n",
            "tensorflow 2.5.0 requires numpy~=1.19.2, but you have numpy 1.21.5 which is incompatible.\n",
            "datascience 0.10.6 requires folium==0.2.1, but you have folium 0.8.3 which is incompatible.\n",
            "albumentations 0.1.12 requires imgaug<0.2.7,>=0.2.5, but you have imgaug 0.2.9 which is incompatible.\u001b[0m\n",
            "Successfully installed numpy-1.21.5\n"
          ]
        },
        {
          "output_type": "display_data",
          "data": {
            "application/vnd.colab-display-data+json": {
              "pip_warning": {
                "packages": [
                  "numpy"
                ]
              }
            }
          },
          "metadata": {}
        }
      ],
      "source": [
        "pip install --upgrade numpy"
      ]
    },
    {
      "cell_type": "code",
      "execution_count": 1,
      "metadata": {
        "id": "jNCaMfyjeEcP",
        "colab": {
          "base_uri": "https://localhost:8080/"
        },
        "outputId": "5a400186-4647-498e-ec3a-b1cf0dea197d"
      },
      "outputs": [
        {
          "output_type": "stream",
          "name": "stdout",
          "text": [
            "Collecting folium==0.2.1\n",
            "  Downloading folium-0.2.1.tar.gz (69 kB)\n",
            "\u001b[?25l\r\u001b[K     |████▊                           | 10 kB 27.6 MB/s eta 0:00:01\r\u001b[K     |█████████▍                      | 20 kB 8.1 MB/s eta 0:00:01\r\u001b[K     |██████████████                  | 30 kB 7.3 MB/s eta 0:00:01\r\u001b[K     |██████████████████▊             | 40 kB 3.6 MB/s eta 0:00:01\r\u001b[K     |███████████████████████▍        | 51 kB 3.6 MB/s eta 0:00:01\r\u001b[K     |████████████████████████████    | 61 kB 4.2 MB/s eta 0:00:01\r\u001b[K     |████████████████████████████████| 69 kB 3.1 MB/s \n",
            "\u001b[?25hRequirement already satisfied: Jinja2 in /usr/local/lib/python3.7/dist-packages (from folium==0.2.1) (2.11.3)\n",
            "Requirement already satisfied: MarkupSafe>=0.23 in /usr/local/lib/python3.7/dist-packages (from Jinja2->folium==0.2.1) (2.0.1)\n",
            "Building wheels for collected packages: folium\n",
            "  Building wheel for folium (setup.py) ... \u001b[?25l\u001b[?25hdone\n",
            "  Created wheel for folium: filename=folium-0.2.1-py3-none-any.whl size=79808 sha256=396f989b0b104542af06bd471e507e1aa6db70627cc7c45aca96e0ae441ae0a1\n",
            "  Stored in directory: /root/.cache/pip/wheels/9a/f0/3a/3f79a6914ff5affaf50cabad60c9f4d565283283c97f0bdccf\n",
            "Successfully built folium\n",
            "Installing collected packages: folium\n",
            "  Attempting uninstall: folium\n",
            "    Found existing installation: folium 0.8.3\n",
            "    Uninstalling folium-0.8.3:\n",
            "      Successfully uninstalled folium-0.8.3\n",
            "Successfully installed folium-0.2.1\n"
          ]
        }
      ],
      "source": [
        "pip install folium==0.2.1"
      ]
    },
    {
      "cell_type": "markdown",
      "metadata": {
        "id": "lrq7Mk7seR2N"
      },
      "source": [
        "## Creating the Keras Model"
      ]
    },
    {
      "cell_type": "code",
      "execution_count": 2,
      "metadata": {
        "id": "sFmEbx32cgRX",
        "colab": {
          "base_uri": "https://localhost:8080/"
        },
        "outputId": "8fd55787-bd38-4070-92d8-d866b944779d"
      },
      "outputs": [
        {
          "output_type": "stream",
          "name": "stderr",
          "text": [
            "textattack: Updating TextAttack package dependencies.\n",
            "textattack: Downloading NLTK required packages.\n"
          ]
        },
        {
          "output_type": "stream",
          "name": "stdout",
          "text": [
            "[nltk_data] Downloading package averaged_perceptron_tagger to\n",
            "[nltk_data]     /root/nltk_data...\n",
            "[nltk_data]   Unzipping taggers/averaged_perceptron_tagger.zip.\n",
            "[nltk_data] Downloading package stopwords to /root/nltk_data...\n",
            "[nltk_data]   Unzipping corpora/stopwords.zip.\n",
            "[nltk_data] Downloading package omw to /root/nltk_data...\n",
            "[nltk_data]   Unzipping corpora/omw.zip.\n",
            "[nltk_data] Downloading package universal_tagset to /root/nltk_data...\n",
            "[nltk_data]   Unzipping taggers/universal_tagset.zip.\n",
            "[nltk_data] Downloading package wordnet to /root/nltk_data...\n",
            "[nltk_data]   Unzipping corpora/wordnet.zip.\n",
            "[nltk_data] Downloading package punkt to /root/nltk_data...\n",
            "[nltk_data]   Unzipping tokenizers/punkt.zip.\n"
          ]
        },
        {
          "output_type": "stream",
          "name": "stderr",
          "text": [
            "textattack: Downloading https://textattack.s3.amazonaws.com/word_embeddings/paragramcf.\n",
            "100%|██████████| 481M/481M [00:34<00:00, 14.0MB/s]\n",
            "textattack: Unzipping file /root/.cache/textattack/tmph_lwvc3w.zip to /root/.cache/textattack/word_embeddings/paragramcf.\n",
            "textattack: Successfully saved word_embeddings/paragramcf to cache.\n"
          ]
        }
      ],
      "source": [
        "import tensorflow as tf\n",
        "import tensorflow.keras\n",
        "import numpy as np\n",
        "from tensorflow.keras.utils import to_categorical\n",
        "from textattack.models.wrappers import ModelWrapper\n",
        "from textattack.datasets import HuggingFaceDataset\n",
        "from textattack.attack_recipes import PWWSRen2019\n",
        "\n",
        "import numpy as np\n",
        "from tensorflow.keras.utils import to_categorical\n",
        "from tensorflow.keras import models\n",
        "from tensorflow.keras import layers\n",
        "from tensorflow.keras.models import Sequential\n",
        "from tensorflow.keras.layers import Dense\n",
        "from tensorflow.keras.layers import Flatten\n",
        "from tensorflow.keras.layers import Dropout\n",
        "\n",
        "from nltk.tokenize import word_tokenize, RegexpTokenizer"
      ]
    },
    {
      "cell_type": "code",
      "execution_count": 3,
      "metadata": {
        "id": "HQowlAHSL4fC",
        "colab": {
          "base_uri": "https://localhost:8080/"
        },
        "outputId": "3d09577c-442e-4a52-9976-a66c7d576da9"
      },
      "outputs": [
        {
          "output_type": "stream",
          "name": "stdout",
          "text": [
            "Downloading data from https://storage.googleapis.com/tensorflow/tf-keras-datasets/imdb.npz\n",
            "17465344/17464789 [==============================] - 0s 0us/step\n"
          ]
        },
        {
          "output_type": "stream",
          "name": "stderr",
          "text": [
            "<string>:6: VisibleDeprecationWarning: Creating an ndarray from ragged nested sequences (which is a list-or-tuple of lists-or-tuples-or ndarrays with different lengths or shapes) is deprecated. If you meant to do this, you must specify 'dtype=object' when creating the ndarray.\n",
            "/usr/local/lib/python3.7/dist-packages/tensorflow/python/keras/datasets/imdb.py:155: VisibleDeprecationWarning: Creating an ndarray from ragged nested sequences (which is a list-or-tuple of lists-or-tuples-or ndarrays with different lengths or shapes) is deprecated. If you meant to do this, you must specify 'dtype=object' when creating the ndarray.\n",
            "  x_train, y_train = np.array(xs[:idx]), np.array(labels[:idx])\n",
            "/usr/local/lib/python3.7/dist-packages/tensorflow/python/keras/datasets/imdb.py:156: VisibleDeprecationWarning: Creating an ndarray from ragged nested sequences (which is a list-or-tuple of lists-or-tuples-or ndarrays with different lengths or shapes) is deprecated. If you meant to do this, you must specify 'dtype=object' when creating the ndarray.\n",
            "  x_test, y_test = np.array(xs[idx:]), np.array(labels[idx:])\n"
          ]
        },
        {
          "output_type": "stream",
          "name": "stdout",
          "text": [
            "Downloading data from https://storage.googleapis.com/tensorflow/tf-keras-datasets/imdb_word_index.json\n",
            "1646592/1641221 [==============================] - 0s 0us/step\n"
          ]
        }
      ],
      "source": [
        "NUM_WORDS = 1000\n",
        "\n",
        "(x_train_tokens, y_train), (x_test_tokens, y_test) = tf.keras.datasets.imdb.load_data(\n",
        "    path=\"imdb.npz\",\n",
        "    num_words=NUM_WORDS,\n",
        "    skip_top=0,\n",
        "    maxlen=None,\n",
        "    seed=113,\n",
        "    start_char=1,\n",
        "    oov_char=2,\n",
        "    index_from=3\n",
        ")\n",
        "\n",
        "def transform(x):\n",
        "  x_transform = []\n",
        "  for i, word_indices in enumerate(x):\n",
        "    BoW_array = np.zeros((NUM_WORDS,))\n",
        "    for index in word_indices:\n",
        "      if index < len(BoW_array):\n",
        "        BoW_array[index] += 1\n",
        "    x_transform.append(BoW_array)\n",
        "  return np.array(x_transform)\n",
        "\n",
        "\n",
        "index = int(0.9 * len(x_train_tokens))\n",
        "x_train = transform(x_train_tokens)[:index]\n",
        "x_test = transform(x_test_tokens)[index:]\n",
        "y_train = np.array(y_train[:index])\n",
        "y_test = np.array(y_test[index:])\n",
        "y_train = to_categorical(y_train)\n",
        "y_test = to_categorical(y_test)\n",
        "\n",
        "vocabulary = tf.keras.datasets.imdb.get_word_index(\n",
        "    path='imdb_word_index.json'\n",
        ")"
      ]
    },
    {
      "cell_type": "code",
      "source": [
        "#Model Created with Keras\n",
        "model = Sequential()\n",
        "model.add(Dense(512, activation='relu', input_dim=NUM_WORDS))\n",
        "model.add(Dropout(0.3))\n",
        "model.add(Dense(100, activation='relu'))\n",
        "model.add(Dense(2, activation='sigmoid'))\n",
        "opt = tensorflow.keras.optimizers.Adam(learning_rate=0.00001)\n",
        "\n",
        "model.compile(\n",
        " optimizer = opt,\n",
        " loss = \"binary_crossentropy\",\n",
        " metrics = [\"accuracy\"]\n",
        ")\n",
        "\n",
        "\n",
        "results = model.fit(\n",
        " x_train, y_train,\n",
        " epochs= 18,\n",
        " batch_size = 512,\n",
        " validation_data = (x_test, y_test)\n",
        ")\n",
        "\n",
        "\n",
        "print(results.history)"
      ],
      "metadata": {
        "colab": {
          "base_uri": "https://localhost:8080/"
        },
        "id": "mPrP-N7T7Y89",
        "outputId": "f98a7f74-7a3e-4727-ac56-d3e5a1a19f20"
      },
      "execution_count": 4,
      "outputs": [
        {
          "output_type": "stream",
          "name": "stdout",
          "text": [
            "Epoch 1/18\n",
            "44/44 [==============================] - 2s 7ms/step - loss: 0.9500 - accuracy: 0.4950 - val_loss: 0.7453 - val_accuracy: 0.4876\n",
            "Epoch 2/18\n",
            "44/44 [==============================] - 0s 4ms/step - loss: 0.8950 - accuracy: 0.5057 - val_loss: 0.7194 - val_accuracy: 0.5216\n",
            "Epoch 3/18\n",
            "44/44 [==============================] - 0s 4ms/step - loss: 0.8613 - accuracy: 0.5235 - val_loss: 0.6973 - val_accuracy: 0.5640\n",
            "Epoch 4/18\n",
            "44/44 [==============================] - 0s 4ms/step - loss: 0.8372 - accuracy: 0.5360 - val_loss: 0.6845 - val_accuracy: 0.5884\n",
            "Epoch 5/18\n",
            "44/44 [==============================] - 0s 4ms/step - loss: 0.8085 - accuracy: 0.5583 - val_loss: 0.6724 - val_accuracy: 0.6128\n",
            "Epoch 6/18\n",
            "44/44 [==============================] - 0s 4ms/step - loss: 0.7957 - accuracy: 0.5680 - val_loss: 0.6602 - val_accuracy: 0.6348\n",
            "Epoch 7/18\n",
            "44/44 [==============================] - 0s 4ms/step - loss: 0.7722 - accuracy: 0.5832 - val_loss: 0.6524 - val_accuracy: 0.6516\n",
            "Epoch 8/18\n",
            "44/44 [==============================] - 0s 4ms/step - loss: 0.7644 - accuracy: 0.5870 - val_loss: 0.6397 - val_accuracy: 0.6724\n",
            "Epoch 9/18\n",
            "44/44 [==============================] - 0s 4ms/step - loss: 0.7458 - accuracy: 0.6014 - val_loss: 0.6335 - val_accuracy: 0.6852\n",
            "Epoch 10/18\n",
            "44/44 [==============================] - 0s 4ms/step - loss: 0.7365 - accuracy: 0.6090 - val_loss: 0.6234 - val_accuracy: 0.6952\n",
            "Epoch 11/18\n",
            "44/44 [==============================] - 0s 4ms/step - loss: 0.7294 - accuracy: 0.6191 - val_loss: 0.6176 - val_accuracy: 0.7004\n",
            "Epoch 12/18\n",
            "44/44 [==============================] - 0s 4ms/step - loss: 0.7192 - accuracy: 0.6264 - val_loss: 0.6104 - val_accuracy: 0.7112\n",
            "Epoch 13/18\n",
            "44/44 [==============================] - 0s 4ms/step - loss: 0.6993 - accuracy: 0.6384 - val_loss: 0.6024 - val_accuracy: 0.7244\n",
            "Epoch 14/18\n",
            "44/44 [==============================] - 0s 4ms/step - loss: 0.6910 - accuracy: 0.6498 - val_loss: 0.5981 - val_accuracy: 0.7312\n",
            "Epoch 15/18\n",
            "44/44 [==============================] - 0s 4ms/step - loss: 0.6788 - accuracy: 0.6619 - val_loss: 0.5891 - val_accuracy: 0.7460\n",
            "Epoch 16/18\n",
            "44/44 [==============================] - 0s 4ms/step - loss: 0.6708 - accuracy: 0.6754 - val_loss: 0.5818 - val_accuracy: 0.7508\n",
            "Epoch 17/18\n",
            "44/44 [==============================] - 0s 4ms/step - loss: 0.6571 - accuracy: 0.6801 - val_loss: 0.5743 - val_accuracy: 0.7592\n",
            "Epoch 18/18\n",
            "44/44 [==============================] - 0s 4ms/step - loss: 0.6526 - accuracy: 0.6866 - val_loss: 0.5662 - val_accuracy: 0.7660\n",
            "{'loss': [0.9499630928039551, 0.8949615359306335, 0.8612545728683472, 0.8372317552566528, 0.8084942698478699, 0.7957494854927063, 0.7721610069274902, 0.7644155621528625, 0.7458018064498901, 0.7364560961723328, 0.7294168472290039, 0.7191730737686157, 0.6993487477302551, 0.6909851431846619, 0.6788420081138611, 0.6708318591117859, 0.6570505499839783, 0.6526423096656799], 'accuracy': [0.4950222074985504, 0.5057333111763, 0.5234666466712952, 0.5360000133514404, 0.5583111047744751, 0.5679555535316467, 0.5831555724143982, 0.5869777798652649, 0.6014222502708435, 0.6089777946472168, 0.6191111207008362, 0.6263999938964844, 0.6384000182151794, 0.6498222351074219, 0.6618666648864746, 0.6754222512245178, 0.6800888776779175, 0.6865777969360352], 'val_loss': [0.7453495860099792, 0.7194220423698425, 0.6973429918289185, 0.6844606399536133, 0.6723502278327942, 0.6602092981338501, 0.6524185538291931, 0.6397316455841064, 0.633513331413269, 0.6234413981437683, 0.6176436543464661, 0.6104313135147095, 0.6023814082145691, 0.5981028079986572, 0.5891119241714478, 0.5817641615867615, 0.574325442314148, 0.566184401512146], 'val_accuracy': [0.4875999987125397, 0.5216000080108643, 0.5640000104904175, 0.5884000062942505, 0.6128000020980835, 0.6348000168800354, 0.6516000032424927, 0.6723999977111816, 0.6851999759674072, 0.6952000260353088, 0.7003999948501587, 0.7111999988555908, 0.724399983882904, 0.7311999797821045, 0.7459999918937683, 0.7508000135421753, 0.7591999769210815, 0.765999972820282]}\n"
          ]
        }
      ]
    },
    {
      "cell_type": "code",
      "source": [
        "class CustomKerasModelWrapper(ModelWrapper):\n",
        "    def __init__(self, model):\n",
        "        self.model = model\n",
        "\n",
        "    def __call__(self, text_input_list):\n",
        "\n",
        "      x_transform = []\n",
        "      for i, review in enumerate(text_input_list):\n",
        "        tokens = [x.strip(\",\") for x in review.split()]\n",
        "        BoW_array = np.zeros((NUM_WORDS,))\n",
        "        for word in tokens:\n",
        "          if word in vocabulary:\n",
        "            if vocabulary[word] < len(BoW_array):\n",
        "              BoW_array[vocabulary[word]] += 1\n",
        "        x_transform.append(BoW_array)\n",
        "      x_transform = np.array(x_transform)\n",
        "      prediction = self.model.predict(x_transform)\n",
        "      return prediction\n",
        "\n",
        "\n",
        "CustomKerasModelWrapper(model)([\"bad bad bad bad bad\", \"good good good good\"])"
      ],
      "metadata": {
        "colab": {
          "base_uri": "https://localhost:8080/"
        },
        "id": "ls99lNSN7cEZ",
        "outputId": "bdb6d67b-8fca-49bc-e164-f84f43f4f558"
      },
      "execution_count": 5,
      "outputs": [
        {
          "output_type": "execute_result",
          "data": {
            "text/plain": [
              "array([[0.47961628, 0.52680826],\n",
              "       [0.4934077 , 0.5205451 ]], dtype=float32)"
            ]
          },
          "metadata": {},
          "execution_count": 5
        }
      ]
    },
    {
      "cell_type": "code",
      "source": [
        "model_wrapper = CustomKerasModelWrapper(model)"
      ],
      "metadata": {
        "id": "_uhOuGBM7ua5"
      },
      "execution_count": 6,
      "outputs": []
    },
    {
      "cell_type": "code",
      "source": [
        "from textattack import AttackArgs, Attacker\n",
        "from textattack.datasets import HuggingFaceDataset\n",
        "from textattack.models.wrappers import ModelWrapper\n",
        "from textattack import Attack\n",
        "from textattack.constraints.pre_transformation import (\n",
        "        InputColumnModification,\n",
        "        MaxModificationRate,\n",
        "        RepeatModification,\n",
        "        StopwordModification,\n",
        "        MaxWordIndexModification\n",
        "                )\n",
        "from textattack.constraints.semantics import WordEmbeddingDistance\n",
        "from textattack.goal_functions import UntargetedClassification\n",
        "from textattack.search_methods import GreedyWordSwapWIR,AlzantotGeneticAlgorithm\n",
        "from textattack.transformations import WordSwapQWERTY\n",
        "from textattack.transformations import (\n",
        "    CompositeTransformation,\n",
        "    WordSwapNeighboringCharacterSwap,\n",
        "    WordSwapQWERTY,\n",
        "    WordSwapWordNet,\n",
        "    WordSwapRandomCharacterDeletion,\n",
        "    WordSwapRandomCharacterInsertion,\n",
        "    WordSwapRandomCharacterSubstitution,\n",
        "    WordSwapHomoglyphSwap,\n",
        "    WordSwapEmbedding\n",
        ")\n",
        "from textattack.constraints.overlap import LevenshteinEditDistance\n",
        "#from textattack.attack_recipe import AttackRecipe\n",
        "\n",
        "from abc import ABC, abstractmethod"
      ],
      "metadata": {
        "id": "qmQ9-Bl74Ihv"
      },
      "execution_count": 7,
      "outputs": []
    },
    {
      "cell_type": "code",
      "source": [
        "from textattack.datasets import HuggingFaceDataset\n",
        "from textattack.attacker import Attacker\n",
        "from textattack import AttackArgs, Attacker\n",
        "from textattack.datasets import HuggingFaceDataset\n",
        "from textattack.goal_functions import TargetedClassification\n",
        "\n",
        "import torch\n",
        "\n",
        "\n",
        "torch.multiprocessing.freeze_support()\n",
        "dataset = HuggingFaceDataset(\"glue\", \"sst2\", \"train\")  "
      ],
      "metadata": {
        "id": "QQmwMwqyQ7Qy",
        "colab": {
          "base_uri": "https://localhost:8080/",
          "height": 237,
          "referenced_widgets": [
            "b935ef9f498143e2bb9d4d980c91321b",
            "05af3d1e4502406db93c5a8ac24896dc",
            "7969a2b896654d3c85bbc816458609c0",
            "369111f69e164822a1f89d29b1d4e5d0",
            "fb7c204e66004c1d8a8575b7720047b2",
            "23b30c9718d348389c8847c1c8ff08b4",
            "49dfd88795a049a28ca72b5554153842",
            "20344fb583ee4e85bf6c6b4f07e435ff",
            "cb8b2805e6914146bb8d51b8afeb9a28",
            "8ea8092c14ed468db30d75809fc31b55",
            "cc26df2ca84b4b009ac8e1ed972e4b7d",
            "b45c11628356444c8136986bc1972247",
            "d77aea5550674508b2b821ddb3eb4cc0",
            "d2ca54fdc17645b28e7441162dd02a21",
            "cfb8008d63104b76a038a0dcc0c8e31b",
            "1abf6045ac674908b4aa1d28ea30a322",
            "7ae1239a29624dcfa9e58ddeab20d1ed",
            "fe059fda2e1b4445acbf91b3ff27dd6a",
            "f44eb3c10abb4317b8e778903afc17fb",
            "662bb5cf7c14414090adbee14e9b031d",
            "6a7e038ae5294cab8073b9d543226d84",
            "c42e74e414ef431bb6bf1b3e338b6cee",
            "7e5f0dea041546459fc8550caec49fe5",
            "6ae2b22d1fc3493d816679a54a9fbc2e",
            "c57d849dce92415384290e198e568a10",
            "074689340c3e46b6be4646c49db5205b",
            "8bff8fc9c35b4bf3a994ac7edc4a7938",
            "d910059a44a24d85aa3e3f1ec49f0216",
            "91dbff23687b47b9a18f0b7945a97da5",
            "a7be18a6edbe4dd29e1735e371cf9c71",
            "4218bc8453ae439e9658c7c9fb08411f",
            "11dc80b530e840feac6b740078e157a8",
            "d2af1a68909846a3812f2738a757e8aa",
            "a19868da3ce440418217316b82c08619",
            "2b12f9a2278047df9bb4af34fd8e6c81",
            "8b47e4849bd84d6cb0298525d3ed9a0c",
            "048439bc41c94224b513126d573e5f21",
            "7880e8307ce843899d23004f921ea007",
            "fb40efd358b44335adebcf7b1cb6f363",
            "0896370e13ee475a9a7936056add696a",
            "57af794e0e52406cba1b4b7728c7285c",
            "240024b4c82c4a6c87fe9e5fabe21a2b",
            "43ef3c19c2dd407e9790e6d76a6ace13",
            "9784fdf60bd14b8f8867bc017e181e0b",
            "d265d392509647488c3c50ef0123a1aa",
            "b837a4bc87954052919a6697eb36d5c0",
            "49caec68bd4e49988719af23cc665923",
            "96cefb4839a749aabf5f4534f4cf8be1"
          ]
        },
        "outputId": "d9d2b53b-4c61-4dc6-9fa5-06cb40fc0b0f"
      },
      "execution_count": 8,
      "outputs": [
        {
          "output_type": "display_data",
          "data": {
            "application/vnd.jupyter.widget-view+json": {
              "model_id": "b935ef9f498143e2bb9d4d980c91321b",
              "version_minor": 0,
              "version_major": 2
            },
            "text/plain": [
              "HBox(children=(FloatProgress(value=0.0, description='Downloading', max=7826.0, style=ProgressStyle(description…"
            ]
          },
          "metadata": {}
        },
        {
          "output_type": "stream",
          "name": "stdout",
          "text": [
            "\n"
          ]
        },
        {
          "output_type": "display_data",
          "data": {
            "application/vnd.jupyter.widget-view+json": {
              "model_id": "cb8b2805e6914146bb8d51b8afeb9a28",
              "version_minor": 0,
              "version_major": 2
            },
            "text/plain": [
              "HBox(children=(FloatProgress(value=0.0, description='Downloading', max=4473.0, style=ProgressStyle(description…"
            ]
          },
          "metadata": {}
        },
        {
          "output_type": "stream",
          "name": "stdout",
          "text": [
            "\n",
            "Downloading and preparing dataset glue/sst2 (download: 7.09 MiB, generated: 4.81 MiB, post-processed: Unknown size, total: 11.90 MiB) to /root/.cache/huggingface/datasets/glue/sst2/1.0.0/7c99657241149a24692c402a5c3f34d4c9f1df5ac2e4c3759fadea38f6cb29c4...\n"
          ]
        },
        {
          "output_type": "display_data",
          "data": {
            "application/vnd.jupyter.widget-view+json": {
              "model_id": "7ae1239a29624dcfa9e58ddeab20d1ed",
              "version_minor": 0,
              "version_major": 2
            },
            "text/plain": [
              "HBox(children=(FloatProgress(value=0.0, description='Downloading', max=7439277.0, style=ProgressStyle(descript…"
            ]
          },
          "metadata": {}
        },
        {
          "output_type": "stream",
          "name": "stdout",
          "text": [
            "\n"
          ]
        },
        {
          "output_type": "display_data",
          "data": {
            "application/vnd.jupyter.widget-view+json": {
              "model_id": "c57d849dce92415384290e198e568a10",
              "version_minor": 0,
              "version_major": 2
            },
            "text/plain": [
              "HBox(children=(FloatProgress(value=1.0, bar_style='info', layout=Layout(width='20px'), max=1.0), HTML(value=''…"
            ]
          },
          "metadata": {}
        },
        {
          "output_type": "display_data",
          "data": {
            "application/vnd.jupyter.widget-view+json": {
              "model_id": "d2af1a68909846a3812f2738a757e8aa",
              "version_minor": 0,
              "version_major": 2
            },
            "text/plain": [
              "HBox(children=(FloatProgress(value=1.0, bar_style='info', layout=Layout(width='20px'), max=1.0), HTML(value=''…"
            ]
          },
          "metadata": {}
        },
        {
          "output_type": "display_data",
          "data": {
            "application/vnd.jupyter.widget-view+json": {
              "model_id": "57af794e0e52406cba1b4b7728c7285c",
              "version_minor": 0,
              "version_major": 2
            },
            "text/plain": [
              "HBox(children=(FloatProgress(value=1.0, bar_style='info', layout=Layout(width='20px'), max=1.0), HTML(value=''…"
            ]
          },
          "metadata": {}
        },
        {
          "output_type": "stream",
          "name": "stdout",
          "text": [
            "Dataset glue downloaded and prepared to /root/.cache/huggingface/datasets/glue/sst2/1.0.0/7c99657241149a24692c402a5c3f34d4c9f1df5ac2e4c3759fadea38f6cb29c4. Subsequent calls will reuse this data.\n"
          ]
        },
        {
          "output_type": "stream",
          "name": "stderr",
          "text": [
            "textattack: Loading \u001b[94mdatasets\u001b[0m dataset \u001b[94mglue\u001b[0m, subset \u001b[94msst2\u001b[0m, split \u001b[94mtrain\u001b[0m.\n"
          ]
        }
      ]
    },
    {
      "cell_type": "markdown",
      "source": [
        "##Custom Recipes"
      ],
      "metadata": {
        "id": "vShRxU9QwnG9"
      }
    },
    {
      "cell_type": "markdown",
      "source": [
        "##Recipe1    \n",
        "            WordSwapQWERTY\n",
        "            WordSwapWordNet\n",
        "            WordSwapHomoglyphSwap\n",
        "            WordSwapNeighboringCharacterSwap\n",
        "            WordSwapRandomCharacterInsertion\n",
        "            WordSwapRandomCharacterDeletion\n",
        "            WordSwapEmbedding\n",
        "            WordEmbedding\n",
        "      "
      ],
      "metadata": {
        "id": "_R6DAeBUQeOG"
      }
    },
    {
      "cell_type": "code",
      "source": [
        "class Recipe1(Attack,ABC):\n",
        "    @staticmethod\n",
        "    def build(model_wrapper):\n",
        "        #transformation =  WordSwapNeighboringCharacterSwap(random_one=True,skip_first_char=True,skip_last_char=True,)\n",
        "        transformation = CompositeTransformation(\n",
        "                [\n",
        "                    WordSwapQWERTY(),\n",
        "                    WordSwapWordNet(),\n",
        "                    WordSwapHomoglyphSwap(),\n",
        "                    WordSwapNeighboringCharacterSwap(random_one=True,skip_first_char=True,skip_last_char=True,),\n",
        "                    # (1) Insert: Insert a space into the word.\n",
        "                    # Generally, words are segmented by spaces in English. Therefore,\n",
        "                    # we can deceive classifiers by inserting spaces into words.\n",
        "                    WordSwapRandomCharacterInsertion(\n",
        "                        random_one=True,\n",
        "                        letters_to_insert=\" \",\n",
        "                        skip_first_char=True,\n",
        "                        skip_last_char=True,\n",
        "                    ),\n",
        "                    # (2) Delete: Delete a random character of the word except for the first\n",
        "                    # and the last character\n",
        "                    WordSwapRandomCharacterDeletion(\n",
        "                        random_one=True, skip_first_char=True, skip_last_char=True\n",
        "                    ),\n",
        "                    # (5) Substitute-W\n",
        "                    # (Sub-W): Replace a word with its topk nearest neighbors in a\n",
        "                    # context-aware word vector space. Specifically, we use the pre-trained\n",
        "                    # GloVe model [30] provided by Stanford for word embedding and set\n",
        "                    # topk = 5 in the experiment.\n",
        "                    WordSwapEmbedding(max_candidates=5),\n",
        "                ])\n",
        "\n",
        "        constraints = [RepeatModification(), StopwordModification()]\n",
        "\n",
        "        goal_function = UntargetedClassification(model_wrapper)\n",
        "        # search over words based on a combination of their saliency score, and how efficient the WordSwap transform is\n",
        "        search_method = GreedyWordSwapWIR(wir_method=\"delete\")\n",
        "        return Attack(goal_function, constraints, transformation, search_method)\n"
      ],
      "metadata": {
        "id": "BNET1-TUwlx-"
      },
      "execution_count": 9,
      "outputs": []
    },
    {
      "cell_type": "code",
      "execution_count": 10,
      "metadata": {
        "id": "fFCHzAdCFZNj",
        "colab": {
          "base_uri": "https://localhost:8080/"
        },
        "outputId": "7153f7db-afed-463b-eca8-ba13984bffb4"
      },
      "outputs": [
        {
          "output_type": "stream",
          "name": "stderr",
          "text": [
            "textattack: Unknown if model of class <class 'tensorflow.python.keras.engine.sequential.Sequential'> compatible with goal function <class 'textattack.goal_functions.classification.untargeted_classification.UntargetedClassification'>.\n",
            "[Succeeded / Failed / Skipped / Total] 0 / 0 / 1 / 1:  10%|█         | 1/10 [00:00<00:01,  6.39it/s]"
          ]
        },
        {
          "output_type": "stream",
          "name": "stdout",
          "text": [
            "Attack(\n",
            "  (search_method): GreedyWordSwapWIR(\n",
            "    (wir_method):  delete\n",
            "  )\n",
            "  (goal_function):  UntargetedClassification\n",
            "  (transformation):  CompositeTransformation(\n",
            "    (0): WordSwapQWERTY\n",
            "    (1): WordSwapWordNet\n",
            "    (2): WordSwapHomoglyphSwap\n",
            "    (3): WordSwapNeighboringCharacterSwap(\n",
            "        (random_one):  True\n",
            "      )\n",
            "    (4): WordSwapRandomCharacterInsertion(\n",
            "        (random_one):  True\n",
            "      )\n",
            "    (5): WordSwapRandomCharacterDeletion(\n",
            "        (random_one):  True\n",
            "      )\n",
            "    (6): WordSwapEmbedding(\n",
            "        (max_candidates):  5\n",
            "        (embedding):  WordEmbedding\n",
            "      )\n",
            "    )\n",
            "  (constraints): \n",
            "    (0): RepeatModification\n",
            "    (1): StopwordModification\n",
            "  (is_black_box):  True\n",
            ") \n",
            "\n",
            "--------------------------------------------- Result 1 ---------------------------------------------\n",
            "[[Positive (50%)]] --> [[[SKIPPED]]]\n",
            "\n",
            "hide new secretions from the parental units \n",
            "\n",
            "\n"
          ]
        },
        {
          "output_type": "stream",
          "name": "stderr",
          "text": [
            "[Succeeded / Failed / Skipped / Total] 1 / 0 / 2 / 3:  30%|███       | 3/10 [00:00<00:00,  7.87it/s]"
          ]
        },
        {
          "output_type": "stream",
          "name": "stdout",
          "text": [
            "--------------------------------------------- Result 2 ---------------------------------------------\n",
            "[[Positive (50%)]] --> [[[SKIPPED]]]\n",
            "\n",
            "contains no wit , only labored gags \n",
            "\n",
            "\n",
            "--------------------------------------------- Result 3 ---------------------------------------------\n",
            "[[Positive (50%)]] --> [[Negative (50%)]]\n",
            "\n",
            "that loves its characters and communicates something [[rather]] [[beautiful]] about human nature \n",
            "\n",
            "that loves its characters and communicates something [[quite]] [[bea]] [[utiful]] about human nature \n",
            "\n",
            "\n"
          ]
        },
        {
          "output_type": "stream",
          "name": "stderr",
          "text": [
            "[Succeeded / Failed / Skipped / Total] 2 / 0 / 4 / 6:  60%|██████    | 6/10 [00:00<00:00,  9.90it/s]"
          ]
        },
        {
          "output_type": "stream",
          "name": "stdout",
          "text": [
            "--------------------------------------------- Result 4 ---------------------------------------------\n",
            "[[Positive (51%)]] --> [[[SKIPPED]]]\n",
            "\n",
            "remains utterly satisfied to remain the same throughout \n",
            "\n",
            "\n",
            "--------------------------------------------- Result 5 ---------------------------------------------\n",
            "[[Negative (50%)]] --> [[Positive (50%)]]\n",
            "\n",
            "on the worst revenge-of-the-nerds clichés the filmmakers [[could]] dredge up \n",
            "\n",
            "on the worst revenge-of-the-nerds clichés the filmmakers [[c]] [[ould]] dredge up \n",
            "\n",
            "\n",
            "--------------------------------------------- Result 6 ---------------------------------------------\n",
            "[[Positive (50%)]] --> [[[SKIPPED]]]\n",
            "\n",
            "that 's far too tragic to merit such superficial treatment \n",
            "\n",
            "\n"
          ]
        },
        {
          "output_type": "stream",
          "name": "stderr",
          "text": [
            "[Succeeded / Failed / Skipped / Total] 2 / 1 / 6 / 9:  90%|█████████ | 9/10 [00:00<00:00, 11.07it/s]"
          ]
        },
        {
          "output_type": "stream",
          "name": "stdout",
          "text": [
            "--------------------------------------------- Result 7 ---------------------------------------------\n",
            "[[Negative (51%)]] --> [[[SKIPPED]]]\n",
            "\n",
            "demonstrates that the director of such hollywood blockbusters as patriot games can still turn out a small , personal film with an emotional wallop . \n",
            "\n",
            "\n",
            "--------------------------------------------- Result 8 ---------------------------------------------\n",
            "[[Positive (51%)]] --> [[[FAILED]]]\n",
            "\n",
            "of saucy \n",
            "\n",
            "\n",
            "--------------------------------------------- Result 9 ---------------------------------------------\n",
            "[[Positive (50%)]] --> [[[SKIPPED]]]\n",
            "\n",
            "a depressed fifteen-year-old 's suicidal poetry \n",
            "\n",
            "\n"
          ]
        },
        {
          "output_type": "stream",
          "name": "stderr",
          "text": [
            "[Succeeded / Failed / Skipped / Total] 2 / 1 / 7 / 10: 100%|██████████| 10/10 [00:00<00:00, 11.66it/s]"
          ]
        },
        {
          "output_type": "stream",
          "name": "stdout",
          "text": [
            "--------------------------------------------- Result 10 ---------------------------------------------\n",
            "[[Negative (51%)]] --> [[[SKIPPED]]]\n",
            "\n",
            "are more deeply thought through than in most ` right-thinking ' films \n",
            "\n",
            "\n",
            "\n",
            "+-------------------------------+--------+\n",
            "| Attack Results                |        |\n",
            "+-------------------------------+--------+\n",
            "| Number of successful attacks: | 2      |\n",
            "| Number of failed attacks:     | 1      |\n",
            "| Number of skipped attacks:    | 7      |\n",
            "| Original accuracy:            | 30.0%  |\n",
            "| Accuracy under attack:        | 10.0%  |\n",
            "| Attack success rate:          | 66.67% |\n",
            "| Average perturbed word %:     | 35.83% |\n",
            "| Average num. words per input: | 9.5    |\n",
            "| Avg num queries:              | 34.0   |\n",
            "+-------------------------------+--------+\n"
          ]
        },
        {
          "output_type": "stream",
          "name": "stderr",
          "text": [
            "\n"
          ]
        },
        {
          "output_type": "execute_result",
          "data": {
            "text/plain": [
              "[<textattack.attack_results.skipped_attack_result.SkippedAttackResult at 0x7f7306c10590>,\n",
              " <textattack.attack_results.skipped_attack_result.SkippedAttackResult at 0x7f7308525050>,\n",
              " <textattack.attack_results.successful_attack_result.SuccessfulAttackResult at 0x7f7300449210>,\n",
              " <textattack.attack_results.skipped_attack_result.SkippedAttackResult at 0x7f7300449310>,\n",
              " <textattack.attack_results.successful_attack_result.SuccessfulAttackResult at 0x7f72a6f1f390>,\n",
              " <textattack.attack_results.skipped_attack_result.SkippedAttackResult at 0x7f72a79ffc90>,\n",
              " <textattack.attack_results.skipped_attack_result.SkippedAttackResult at 0x7f7302347d50>,\n",
              " <textattack.attack_results.failed_attack_result.FailedAttackResult at 0x7f7302347e50>,\n",
              " <textattack.attack_results.skipped_attack_result.SkippedAttackResult at 0x7f72a709c8d0>,\n",
              " <textattack.attack_results.skipped_attack_result.SkippedAttackResult at 0x7f72a709ce50>]"
            ]
          },
          "metadata": {},
          "execution_count": 10
        }
      ],
      "source": [
        "attack = Recipe1.build(model_wrapper)\n",
        "attacker = Attacker(attack, dataset)\n",
        "attacker.attack_dataset()"
      ]
    },
    {
      "cell_type": "markdown",
      "source": [
        "##Recipe2\n",
        "          WordSwapQWERTY\n",
        "          WordSwapWordNet\n",
        "          WordSwapHomoglyphSwap\n",
        "          WordSwapNeighboringCharacterSwap\n",
        "          WordSwapRandomCharacterInsertion\n",
        "          WordSwapRandomCharacterDeletion       "
      ],
      "metadata": {
        "id": "DoPybFRWRF7A"
      }
    },
    {
      "cell_type": "code",
      "source": [
        "class Recipe2(Attack,ABC):\n",
        "    @staticmethod\n",
        "    def build(model_wrapper):\n",
        "        #transformation =  WordSwapNeighboringCharacterSwap(random_one=True,skip_first_char=True,skip_last_char=True,)\n",
        "        transformation = CompositeTransformation(\n",
        "                [\n",
        "                    WordSwapQWERTY(),\n",
        "                    WordSwapWordNet(),\n",
        "                    WordSwapHomoglyphSwap(),\n",
        "                    WordSwapNeighboringCharacterSwap(random_one=True,skip_first_char=True,skip_last_char=True,),\n",
        "                    # (1) Insert: Insert a space into the word.\n",
        "                    # Generally, words are segmented by spaces in English. Therefore,\n",
        "                    # we can deceive classifiers by inserting spaces into words.\n",
        "                    WordSwapRandomCharacterInsertion(\n",
        "                        random_one=True,\n",
        "                        letters_to_insert=\" \",\n",
        "                        skip_first_char=True,\n",
        "                        skip_last_char=True,\n",
        "                    ),\n",
        "                    # (2) Delete: Delete a random character of the word except for the first\n",
        "                    # and the last character\n",
        "                    WordSwapRandomCharacterDeletion(\n",
        "                        random_one=True, skip_first_char=True, skip_last_char=True\n",
        "                    ),\n",
        "                ])\n",
        "\n",
        "        constraints = [RepeatModification(), StopwordModification()]\n",
        "\n",
        "        goal_function = UntargetedClassification(model_wrapper)\n",
        "        # search over words based on a combination of their saliency score, and how efficient the WordSwap transform is\n",
        "        search_method = GreedyWordSwapWIR(wir_method=\"delete\")\n",
        "        return Attack(goal_function, constraints, transformation, search_method)"
      ],
      "metadata": {
        "id": "SJpgU5uq44vJ"
      },
      "execution_count": 11,
      "outputs": []
    },
    {
      "cell_type": "code",
      "source": [
        "attack = Recipe2.build(model_wrapper)\n",
        "attacker = Attacker(attack, dataset)\n",
        "attacker.attack_dataset()"
      ],
      "metadata": {
        "id": "fIVDor5P5eHU",
        "colab": {
          "base_uri": "https://localhost:8080/"
        },
        "outputId": "830df23f-1564-4ef2-9f1d-5e64b47dd993"
      },
      "execution_count": 12,
      "outputs": [
        {
          "output_type": "stream",
          "name": "stderr",
          "text": [
            "textattack: Unknown if model of class <class 'tensorflow.python.keras.engine.sequential.Sequential'> compatible with goal function <class 'textattack.goal_functions.classification.untargeted_classification.UntargetedClassification'>.\n",
            "[Succeeded / Failed / Skipped / Total] 0 / 0 / 2 / 2:  20%|██        | 2/10 [00:00<00:00, 24.41it/s]"
          ]
        },
        {
          "output_type": "stream",
          "name": "stdout",
          "text": [
            "Attack(\n",
            "  (search_method): GreedyWordSwapWIR(\n",
            "    (wir_method):  delete\n",
            "  )\n",
            "  (goal_function):  UntargetedClassification\n",
            "  (transformation):  CompositeTransformation(\n",
            "    (0): WordSwapQWERTY\n",
            "    (1): WordSwapWordNet\n",
            "    (2): WordSwapHomoglyphSwap\n",
            "    (3): WordSwapNeighboringCharacterSwap(\n",
            "        (random_one):  True\n",
            "      )\n",
            "    (4): WordSwapRandomCharacterInsertion(\n",
            "        (random_one):  True\n",
            "      )\n",
            "    (5): WordSwapRandomCharacterDeletion(\n",
            "        (random_one):  True\n",
            "      )\n",
            "    )\n",
            "  (constraints): \n",
            "    (0): RepeatModification\n",
            "    (1): StopwordModification\n",
            "  (is_black_box):  True\n",
            ") \n",
            "\n",
            "--------------------------------------------- Result 1 ---------------------------------------------\n",
            "[[Positive (50%)]] --> [[[SKIPPED]]]\n",
            "\n",
            "hide new secretions from the parental units \n",
            "\n",
            "\n",
            "--------------------------------------------- Result 2 ---------------------------------------------\n",
            "[[Positive (50%)]] --> [[[SKIPPED]]]\n",
            "\n",
            "contains no wit , only labored gags \n",
            "\n",
            "\n"
          ]
        },
        {
          "output_type": "stream",
          "name": "stderr",
          "text": [
            "[Succeeded / Failed / Skipped / Total] 2 / 0 / 3 / 5:  50%|█████     | 5/10 [00:00<00:00, 12.05it/s]"
          ]
        },
        {
          "output_type": "stream",
          "name": "stdout",
          "text": [
            "--------------------------------------------- Result 3 ---------------------------------------------\n",
            "[[Positive (50%)]] --> [[Negative (50%)]]\n",
            "\n",
            "that loves its characters and communicates something [[rather]] [[beautiful]] about human nature \n",
            "\n",
            "that loves its characters and communicates something [[quite]] [[bea]] [[utiful]] about human nature \n",
            "\n",
            "\n",
            "--------------------------------------------- Result 4 ---------------------------------------------\n",
            "[[Positive (51%)]] --> [[[SKIPPED]]]\n",
            "\n",
            "remains utterly satisfied to remain the same throughout \n",
            "\n",
            "\n",
            "--------------------------------------------- Result 5 ---------------------------------------------\n",
            "[[Negative (50%)]] --> [[Positive (50%)]]\n",
            "\n",
            "on the worst revenge-of-the-nerds clichés the filmmakers [[could]] dredge up \n",
            "\n",
            "on the worst revenge-of-the-nerds clichés the filmmakers [[c]] [[ould]] dredge up \n",
            "\n",
            "\n"
          ]
        },
        {
          "output_type": "stream",
          "name": "stderr",
          "text": [
            "[Succeeded / Failed / Skipped / Total] 2 / 1 / 5 / 8:  80%|████████  | 8/10 [00:00<00:00, 12.58it/s]"
          ]
        },
        {
          "output_type": "stream",
          "name": "stdout",
          "text": [
            "--------------------------------------------- Result 6 ---------------------------------------------\n",
            "[[Positive (50%)]] --> [[[SKIPPED]]]\n",
            "\n",
            "that 's far too tragic to merit such superficial treatment \n",
            "\n",
            "\n",
            "--------------------------------------------- Result 7 ---------------------------------------------\n",
            "[[Negative (51%)]] --> [[[SKIPPED]]]\n",
            "\n",
            "demonstrates that the director of such hollywood blockbusters as patriot games can still turn out a small , personal film with an emotional wallop . \n",
            "\n",
            "\n",
            "--------------------------------------------- Result 8 ---------------------------------------------\n",
            "[[Positive (51%)]] --> [[[FAILED]]]\n",
            "\n",
            "of saucy \n",
            "\n",
            "\n"
          ]
        },
        {
          "output_type": "stream",
          "name": "stderr",
          "text": [
            "[Succeeded / Failed / Skipped / Total] 2 / 1 / 7 / 10: 100%|██████████| 10/10 [00:00<00:00, 13.74it/s]"
          ]
        },
        {
          "output_type": "stream",
          "name": "stdout",
          "text": [
            "--------------------------------------------- Result 9 ---------------------------------------------\n",
            "[[Positive (50%)]] --> [[[SKIPPED]]]\n",
            "\n",
            "a depressed fifteen-year-old 's suicidal poetry \n",
            "\n",
            "\n",
            "--------------------------------------------- Result 10 ---------------------------------------------\n",
            "[[Negative (51%)]] --> [[[SKIPPED]]]\n",
            "\n",
            "are more deeply thought through than in most ` right-thinking ' films \n",
            "\n",
            "\n",
            "\n",
            "+-------------------------------+--------+\n",
            "| Attack Results                |        |\n",
            "+-------------------------------+--------+\n",
            "| Number of successful attacks: | 2      |\n",
            "| Number of failed attacks:     | 1      |\n",
            "| Number of skipped attacks:    | 7      |\n",
            "| Original accuracy:            | 30.0%  |\n",
            "| Accuracy under attack:        | 10.0%  |\n",
            "| Attack success rate:          | 66.67% |\n",
            "| Average perturbed word %:     | 35.83% |\n",
            "| Average num. words per input: | 9.5    |\n",
            "| Avg num queries:              | 27.33  |\n",
            "+-------------------------------+--------+\n"
          ]
        },
        {
          "output_type": "stream",
          "name": "stderr",
          "text": [
            "\n"
          ]
        },
        {
          "output_type": "execute_result",
          "data": {
            "text/plain": [
              "[<textattack.attack_results.skipped_attack_result.SkippedAttackResult at 0x7f72ffe500d0>,\n",
              " <textattack.attack_results.skipped_attack_result.SkippedAttackResult at 0x7f72ffe3df50>,\n",
              " <textattack.attack_results.successful_attack_result.SuccessfulAttackResult at 0x7f72fb269d10>,\n",
              " <textattack.attack_results.skipped_attack_result.SkippedAttackResult at 0x7f72a79e3310>,\n",
              " <textattack.attack_results.successful_attack_result.SuccessfulAttackResult at 0x7f72a6ef4710>,\n",
              " <textattack.attack_results.skipped_attack_result.SkippedAttackResult at 0x7f72a6ef4650>,\n",
              " <textattack.attack_results.skipped_attack_result.SkippedAttackResult at 0x7f7307525e50>,\n",
              " <textattack.attack_results.failed_attack_result.FailedAttackResult at 0x7f72ffe3ddd0>,\n",
              " <textattack.attack_results.skipped_attack_result.SkippedAttackResult at 0x7f72ffe50650>,\n",
              " <textattack.attack_results.skipped_attack_result.SkippedAttackResult at 0x7f72ffe36d10>]"
            ]
          },
          "metadata": {},
          "execution_count": 12
        }
      ]
    },
    {
      "cell_type": "markdown",
      "source": [
        "##Recipe3\n",
        "          WordSwapWordNet\n",
        "          WordSwapHomoglyphSwap\n",
        "          WordSwapNeighboringCharacterSwap\n",
        "          WordSwapRandomCharacterInsertion\n",
        "          WordSwapRandomCharacterDeletion\n",
        "          WordSwapEmbedding"
      ],
      "metadata": {
        "id": "Sfx6pm64RdFM"
      }
    },
    {
      "cell_type": "code",
      "source": [
        "class Recipe3(Attack,ABC):\n",
        "    @staticmethod\n",
        "    def build(model_wrapper):\n",
        "        #transformation =  WordSwapNeighboringCharacterSwap(random_one=True,skip_first_char=True,skip_last_char=True,)\n",
        "        transformation = CompositeTransformation(\n",
        "                [\n",
        "                    WordSwapWordNet(),\n",
        "                    WordSwapHomoglyphSwap(),\n",
        "                    WordSwapNeighboringCharacterSwap(random_one=True,skip_first_char=True,skip_last_char=True,),\n",
        "                    # (1) Insert: Insert a space into the word.\n",
        "                    # Generally, words are segmented by spaces in English. Therefore,\n",
        "                    # we can deceive classifiers by inserting spaces into words.\n",
        "                    WordSwapRandomCharacterInsertion(\n",
        "                        random_one=True,\n",
        "                        letters_to_insert=\" \",\n",
        "                        skip_first_char=True,\n",
        "                        skip_last_char=True,\n",
        "                    ),\n",
        "                    # (2) Delete: Delete a random character of the word except for the first\n",
        "                    # and the last character\n",
        "                    WordSwapRandomCharacterDeletion(\n",
        "                        random_one=True, skip_first_char=True, skip_last_char=True\n",
        "                    ),\n",
        "                    # (5) Substitute-W\n",
        "                    # (Sub-W): Replace a word with its topk nearest neighbors in a\n",
        "                    # context-aware word vector space. Specifically, we use the pre-trained\n",
        "                    # GloVe model [30] provided by Stanford for word embedding and set\n",
        "                    # topk = 5 in the experiment.\n",
        "                    WordSwapEmbedding(max_candidates=5),\n",
        "                ])\n",
        "\n",
        "        constraints = [RepeatModification(), StopwordModification()]\n",
        "\n",
        "        goal_function = UntargetedClassification(model_wrapper)\n",
        "        # search over words based on a combination of their saliency score, and how efficient the WordSwap transform is\n",
        "        search_method = GreedyWordSwapWIR(wir_method=\"delete\")\n",
        "        return Attack(goal_function, constraints, transformation, search_method)\n"
      ],
      "metadata": {
        "id": "5T0zD0Y263N8"
      },
      "execution_count": 13,
      "outputs": []
    },
    {
      "cell_type": "code",
      "source": [
        "attack = Recipe3.build(model_wrapper)\n",
        "attacker = Attacker(attack, dataset)\n",
        "attacker.attack_dataset()"
      ],
      "metadata": {
        "id": "iHjjyO6j7HXx",
        "colab": {
          "base_uri": "https://localhost:8080/"
        },
        "outputId": "fd441221-4749-45fe-e9d9-831638dc311c"
      },
      "execution_count": 14,
      "outputs": [
        {
          "output_type": "stream",
          "name": "stderr",
          "text": [
            "textattack: Unknown if model of class <class 'tensorflow.python.keras.engine.sequential.Sequential'> compatible with goal function <class 'textattack.goal_functions.classification.untargeted_classification.UntargetedClassification'>.\n",
            "[Succeeded / Failed / Skipped / Total] 0 / 0 / 2 / 2:  20%|██        | 2/10 [00:00<00:00, 22.65it/s]"
          ]
        },
        {
          "output_type": "stream",
          "name": "stdout",
          "text": [
            "Attack(\n",
            "  (search_method): GreedyWordSwapWIR(\n",
            "    (wir_method):  delete\n",
            "  )\n",
            "  (goal_function):  UntargetedClassification\n",
            "  (transformation):  CompositeTransformation(\n",
            "    (0): WordSwapWordNet\n",
            "    (1): WordSwapHomoglyphSwap\n",
            "    (2): WordSwapNeighboringCharacterSwap(\n",
            "        (random_one):  True\n",
            "      )\n",
            "    (3): WordSwapRandomCharacterInsertion(\n",
            "        (random_one):  True\n",
            "      )\n",
            "    (4): WordSwapRandomCharacterDeletion(\n",
            "        (random_one):  True\n",
            "      )\n",
            "    (5): WordSwapEmbedding(\n",
            "        (max_candidates):  5\n",
            "        (embedding):  WordEmbedding\n",
            "      )\n",
            "    )\n",
            "  (constraints): \n",
            "    (0): RepeatModification\n",
            "    (1): StopwordModification\n",
            "  (is_black_box):  True\n",
            ") \n",
            "\n",
            "--------------------------------------------- Result 1 ---------------------------------------------\n",
            "[[Positive (50%)]] --> [[[SKIPPED]]]\n",
            "\n",
            "hide new secretions from the parental units \n",
            "\n",
            "\n",
            "--------------------------------------------- Result 2 ---------------------------------------------\n",
            "[[Positive (50%)]] --> [[[SKIPPED]]]\n",
            "\n",
            "contains no wit , only labored gags \n",
            "\n",
            "\n"
          ]
        },
        {
          "output_type": "stream",
          "name": "stderr",
          "text": [
            "[Succeeded / Failed / Skipped / Total] 2 / 0 / 3 / 5:  50%|█████     | 5/10 [00:00<00:00, 11.39it/s]"
          ]
        },
        {
          "output_type": "stream",
          "name": "stdout",
          "text": [
            "--------------------------------------------- Result 3 ---------------------------------------------\n",
            "[[Positive (50%)]] --> [[Negative (50%)]]\n",
            "\n",
            "that loves its characters and communicates something [[rather]] [[beautiful]] about human nature \n",
            "\n",
            "that loves its characters and communicates something [[quite]] [[bea]] [[utiful]] about human nature \n",
            "\n",
            "\n",
            "--------------------------------------------- Result 4 ---------------------------------------------\n",
            "[[Positive (51%)]] --> [[[SKIPPED]]]\n",
            "\n",
            "remains utterly satisfied to remain the same throughout \n",
            "\n",
            "\n",
            "--------------------------------------------- Result 5 ---------------------------------------------\n",
            "[[Negative (50%)]] --> [[Positive (50%)]]\n",
            "\n",
            "on the worst revenge-of-the-nerds clichés the filmmakers [[could]] dredge up \n",
            "\n",
            "on the worst revenge-of-the-nerds clichés the filmmakers [[c]] [[ould]] dredge up \n",
            "\n",
            "\n"
          ]
        },
        {
          "output_type": "stream",
          "name": "stderr",
          "text": [
            "[Succeeded / Failed / Skipped / Total] 2 / 1 / 5 / 8:  80%|████████  | 8/10 [00:00<00:00, 12.11it/s]"
          ]
        },
        {
          "output_type": "stream",
          "name": "stdout",
          "text": [
            "--------------------------------------------- Result 6 ---------------------------------------------\n",
            "[[Positive (50%)]] --> [[[SKIPPED]]]\n",
            "\n",
            "that 's far too tragic to merit such superficial treatment \n",
            "\n",
            "\n",
            "--------------------------------------------- Result 7 ---------------------------------------------\n",
            "[[Negative (51%)]] --> [[[SKIPPED]]]\n",
            "\n",
            "demonstrates that the director of such hollywood blockbusters as patriot games can still turn out a small , personal film with an emotional wallop . \n",
            "\n",
            "\n",
            "--------------------------------------------- Result 8 ---------------------------------------------\n",
            "[[Positive (51%)]] --> [[[FAILED]]]\n",
            "\n",
            "of saucy \n",
            "\n",
            "\n"
          ]
        },
        {
          "output_type": "stream",
          "name": "stderr",
          "text": [
            "[Succeeded / Failed / Skipped / Total] 2 / 1 / 7 / 10: 100%|██████████| 10/10 [00:00<00:00, 13.32it/s]"
          ]
        },
        {
          "output_type": "stream",
          "name": "stdout",
          "text": [
            "--------------------------------------------- Result 9 ---------------------------------------------\n",
            "[[Positive (50%)]] --> [[[SKIPPED]]]\n",
            "\n",
            "a depressed fifteen-year-old 's suicidal poetry \n",
            "\n",
            "\n",
            "--------------------------------------------- Result 10 ---------------------------------------------\n",
            "[[Negative (51%)]] --> [[[SKIPPED]]]\n",
            "\n",
            "are more deeply thought through than in most ` right-thinking ' films \n",
            "\n",
            "\n",
            "\n",
            "+-------------------------------+--------+\n",
            "| Attack Results                |        |\n",
            "+-------------------------------+--------+\n",
            "| Number of successful attacks: | 2      |\n",
            "| Number of failed attacks:     | 1      |\n",
            "| Number of skipped attacks:    | 7      |\n",
            "| Original accuracy:            | 30.0%  |\n",
            "| Accuracy under attack:        | 10.0%  |\n",
            "| Attack success rate:          | 66.67% |\n",
            "| Average perturbed word %:     | 35.83% |\n",
            "| Average num. words per input: | 9.5    |\n",
            "| Avg num queries:              | 32.67  |\n",
            "+-------------------------------+--------+\n"
          ]
        },
        {
          "output_type": "stream",
          "name": "stderr",
          "text": [
            "\n"
          ]
        },
        {
          "output_type": "execute_result",
          "data": {
            "text/plain": [
              "[<textattack.attack_results.skipped_attack_result.SkippedAttackResult at 0x7f7304c66bd0>,\n",
              " <textattack.attack_results.skipped_attack_result.SkippedAttackResult at 0x7f72a7113950>,\n",
              " <textattack.attack_results.successful_attack_result.SuccessfulAttackResult at 0x7f7308fe7350>,\n",
              " <textattack.attack_results.skipped_attack_result.SkippedAttackResult at 0x7f7309011650>,\n",
              " <textattack.attack_results.successful_attack_result.SuccessfulAttackResult at 0x7f72a6ee6610>,\n",
              " <textattack.attack_results.skipped_attack_result.SkippedAttackResult at 0x7f72a7bef450>,\n",
              " <textattack.attack_results.skipped_attack_result.SkippedAttackResult at 0x7f72a6ee6050>,\n",
              " <textattack.attack_results.failed_attack_result.FailedAttackResult at 0x7f7304c66390>,\n",
              " <textattack.attack_results.skipped_attack_result.SkippedAttackResult at 0x7f72a7a55550>,\n",
              " <textattack.attack_results.skipped_attack_result.SkippedAttackResult at 0x7f72ffe501d0>]"
            ]
          },
          "metadata": {},
          "execution_count": 14
        }
      ]
    },
    {
      "cell_type": "markdown",
      "source": [
        "##Recipe 4"
      ],
      "metadata": {
        "id": "PIoqPccXSBV_"
      }
    },
    {
      "cell_type": "code",
      "source": [
        "class Recipe4(Attack,ABC):\n",
        "    @staticmethod\n",
        "    def build(model_wrapper):\n",
        "        #transformation =  WordSwapNeighboringCharacterSwap(random_one=True,skip_first_char=True,skip_last_char=True,)\n",
        "        transformation = CompositeTransformation(\n",
        "                [\n",
        "                    WordSwapWordNet(),\n",
        "\n",
        "                    WordSwapNeighboringCharacterSwap(random_one=True,skip_first_char=True,skip_last_char=True,),\n",
        "                    # (1) Insert: Insert a space into the word.\n",
        "                    # Generally, words are segmented by spaces in English. Therefore,\n",
        "                    # we can deceive classifiers by inserting spaces into words.\n",
        "                    WordSwapRandomCharacterInsertion(\n",
        "                        random_one=True,\n",
        "                        letters_to_insert=\" \",\n",
        "                        skip_first_char=True,\n",
        "                        skip_last_char=True,\n",
        "                    ),\n",
        "                    # (2) Delete: Delete a random character of the word except for the first\n",
        "                    # and the last character\n",
        "                    WordSwapRandomCharacterDeletion(\n",
        "                        random_one=True, skip_first_char=True, skip_last_char=True\n",
        "                    ),\n",
        "                    # (5) Substitute-W\n",
        "                    # (Sub-W): Replace a word with its topk nearest neighbors in a\n",
        "                    # context-aware word vector space. Specifically, we use the pre-trained\n",
        "                    # GloVe model [30] provided by Stanford for word embedding and set\n",
        "                    # topk = 5 in the experiment.\n",
        "                    WordSwapEmbedding(max_candidates=5),\n",
        "                ])\n",
        "\n",
        "        constraints = [RepeatModification(), StopwordModification()]\n",
        "\n",
        "        goal_function = UntargetedClassification(model_wrapper)\n",
        "        # search over words based on a combination of their saliency score, and how efficient the WordSwap transform is\n",
        "        search_method = GreedyWordSwapWIR(wir_method=\"delete\")\n",
        "        return Attack(goal_function, constraints, transformation, search_method)"
      ],
      "metadata": {
        "id": "L5Z4wggn7fqj"
      },
      "execution_count": 15,
      "outputs": []
    },
    {
      "cell_type": "code",
      "source": [
        "attack = Recipe4.build(model_wrapper)\n",
        "attacker = Attacker(attack, dataset)\n",
        "attacker.attack_dataset()"
      ],
      "metadata": {
        "id": "aAszwyzK8LTK",
        "colab": {
          "base_uri": "https://localhost:8080/"
        },
        "outputId": "5159086e-9074-455d-b518-968419b7c7d8"
      },
      "execution_count": 16,
      "outputs": [
        {
          "output_type": "stream",
          "name": "stderr",
          "text": [
            "textattack: Unknown if model of class <class 'tensorflow.python.keras.engine.sequential.Sequential'> compatible with goal function <class 'textattack.goal_functions.classification.untargeted_classification.UntargetedClassification'>.\n",
            "[Succeeded / Failed / Skipped / Total] 0 / 0 / 2 / 2:  20%|██        | 2/10 [00:00<00:00, 21.75it/s]"
          ]
        },
        {
          "output_type": "stream",
          "name": "stdout",
          "text": [
            "Attack(\n",
            "  (search_method): GreedyWordSwapWIR(\n",
            "    (wir_method):  delete\n",
            "  )\n",
            "  (goal_function):  UntargetedClassification\n",
            "  (transformation):  CompositeTransformation(\n",
            "    (0): WordSwapWordNet\n",
            "    (1): WordSwapNeighboringCharacterSwap(\n",
            "        (random_one):  True\n",
            "      )\n",
            "    (2): WordSwapRandomCharacterInsertion(\n",
            "        (random_one):  True\n",
            "      )\n",
            "    (3): WordSwapRandomCharacterDeletion(\n",
            "        (random_one):  True\n",
            "      )\n",
            "    (4): WordSwapEmbedding(\n",
            "        (max_candidates):  5\n",
            "        (embedding):  WordEmbedding\n",
            "      )\n",
            "    )\n",
            "  (constraints): \n",
            "    (0): RepeatModification\n",
            "    (1): StopwordModification\n",
            "  (is_black_box):  True\n",
            ") \n",
            "\n",
            "--------------------------------------------- Result 1 ---------------------------------------------\n",
            "[[Positive (50%)]] --> [[[SKIPPED]]]\n",
            "\n",
            "hide new secretions from the parental units \n",
            "\n",
            "\n",
            "--------------------------------------------- Result 2 ---------------------------------------------\n",
            "[[Positive (50%)]] --> [[[SKIPPED]]]\n",
            "\n",
            "contains no wit , only labored gags \n",
            "\n",
            "\n"
          ]
        },
        {
          "output_type": "stream",
          "name": "stderr",
          "text": [
            "[Succeeded / Failed / Skipped / Total] 2 / 0 / 3 / 5:  50%|█████     | 5/10 [00:00<00:00, 11.31it/s]"
          ]
        },
        {
          "output_type": "stream",
          "name": "stdout",
          "text": [
            "--------------------------------------------- Result 3 ---------------------------------------------\n",
            "[[Positive (50%)]] --> [[Negative (50%)]]\n",
            "\n",
            "that loves its characters and communicates something [[rather]] [[beautiful]] about human nature \n",
            "\n",
            "that loves its characters and communicates something [[quite]] [[bea]] [[utiful]] about human nature \n",
            "\n",
            "\n",
            "--------------------------------------------- Result 4 ---------------------------------------------\n",
            "[[Positive (51%)]] --> [[[SKIPPED]]]\n",
            "\n",
            "remains utterly satisfied to remain the same throughout \n",
            "\n",
            "\n",
            "--------------------------------------------- Result 5 ---------------------------------------------\n",
            "[[Negative (50%)]] --> [[Positive (50%)]]\n",
            "\n",
            "on the worst revenge-of-the-nerds clichés the filmmakers [[could]] dredge up \n",
            "\n",
            "on the worst revenge-of-the-nerds clichés the filmmakers [[c]] [[ould]] dredge up \n",
            "\n",
            "\n"
          ]
        },
        {
          "output_type": "stream",
          "name": "stderr",
          "text": [
            "[Succeeded / Failed / Skipped / Total] 2 / 1 / 5 / 8:  80%|████████  | 8/10 [00:00<00:00, 11.73it/s]"
          ]
        },
        {
          "output_type": "stream",
          "name": "stdout",
          "text": [
            "--------------------------------------------- Result 6 ---------------------------------------------\n",
            "[[Positive (50%)]] --> [[[SKIPPED]]]\n",
            "\n",
            "that 's far too tragic to merit such superficial treatment \n",
            "\n",
            "\n",
            "--------------------------------------------- Result 7 ---------------------------------------------\n",
            "[[Negative (51%)]] --> [[[SKIPPED]]]\n",
            "\n",
            "demonstrates that the director of such hollywood blockbusters as patriot games can still turn out a small , personal film with an emotional wallop . \n",
            "\n",
            "\n",
            "--------------------------------------------- Result 8 ---------------------------------------------\n",
            "[[Positive (51%)]] --> [[[FAILED]]]\n",
            "\n",
            "of saucy \n",
            "\n",
            "\n"
          ]
        },
        {
          "output_type": "stream",
          "name": "stderr",
          "text": [
            "[Succeeded / Failed / Skipped / Total] 2 / 1 / 7 / 10: 100%|██████████| 10/10 [00:00<00:00, 12.91it/s]"
          ]
        },
        {
          "output_type": "stream",
          "name": "stdout",
          "text": [
            "--------------------------------------------- Result 9 ---------------------------------------------\n",
            "[[Positive (50%)]] --> [[[SKIPPED]]]\n",
            "\n",
            "a depressed fifteen-year-old 's suicidal poetry \n",
            "\n",
            "\n",
            "--------------------------------------------- Result 10 ---------------------------------------------\n",
            "[[Negative (51%)]] --> [[[SKIPPED]]]\n",
            "\n",
            "are more deeply thought through than in most ` right-thinking ' films \n",
            "\n",
            "\n",
            "\n",
            "+-------------------------------+--------+\n",
            "| Attack Results                |        |\n",
            "+-------------------------------+--------+\n",
            "| Number of successful attacks: | 2      |\n",
            "| Number of failed attacks:     | 1      |\n",
            "| Number of skipped attacks:    | 7      |\n",
            "| Original accuracy:            | 30.0%  |\n",
            "| Accuracy under attack:        | 10.0%  |\n",
            "| Attack success rate:          | 66.67% |\n",
            "| Average perturbed word %:     | 35.83% |\n",
            "| Average num. words per input: | 9.5    |\n",
            "| Avg num queries:              | 24.33  |\n",
            "+-------------------------------+--------+\n"
          ]
        },
        {
          "output_type": "stream",
          "name": "stderr",
          "text": [
            "\n"
          ]
        },
        {
          "output_type": "execute_result",
          "data": {
            "text/plain": [
              "[<textattack.attack_results.skipped_attack_result.SkippedAttackResult at 0x7f72a7c2cb50>,\n",
              " <textattack.attack_results.skipped_attack_result.SkippedAttackResult at 0x7f72a6bcab10>,\n",
              " <textattack.attack_results.successful_attack_result.SuccessfulAttackResult at 0x7f72a709c2d0>,\n",
              " <textattack.attack_results.skipped_attack_result.SkippedAttackResult at 0x7f73044bdc90>,\n",
              " <textattack.attack_results.successful_attack_result.SuccessfulAttackResult at 0x7f7305d7ca90>,\n",
              " <textattack.attack_results.skipped_attack_result.SkippedAttackResult at 0x7f72a6eb5210>,\n",
              " <textattack.attack_results.skipped_attack_result.SkippedAttackResult at 0x7f72a7c7ea10>,\n",
              " <textattack.attack_results.failed_attack_result.FailedAttackResult at 0x7f730431ab90>,\n",
              " <textattack.attack_results.skipped_attack_result.SkippedAttackResult at 0x7f72a7c45250>,\n",
              " <textattack.attack_results.skipped_attack_result.SkippedAttackResult at 0x7f72a7a55750>]"
            ]
          },
          "metadata": {},
          "execution_count": 16
        }
      ]
    },
    {
      "cell_type": "markdown",
      "source": [
        "##Recipe5\n",
        "          WordSwapQWERTY\n",
        "          WordSwapWordNet\n",
        "          WordSwapHomoglyphSwap\n",
        "          WordSwapNeighboringCharacterSwap\n",
        "          WordSwapRandomCharacterInsertion"
      ],
      "metadata": {
        "id": "XDFKtTLpSEex"
      }
    },
    {
      "cell_type": "code",
      "source": [
        "class Recipe5(Attack,ABC):\n",
        "    @staticmethod\n",
        "    def build(model_wrapper):\n",
        "        #transformation =  WordSwapNeighboringCharacterSwap(random_one=True,skip_first_char=True,skip_last_char=True,)\n",
        "        transformation = CompositeTransformation(\n",
        "                [\n",
        "                    WordSwapQWERTY(),\n",
        "                    WordSwapWordNet(),\n",
        "                    WordSwapHomoglyphSwap(),\n",
        "                    WordSwapNeighboringCharacterSwap(random_one=True,skip_first_char=True,skip_last_char=True,),\n",
        "                    # (1) Insert: Insert a space into the word.\n",
        "                    # Generally, words are segmented by spaces in English. Therefore,\n",
        "                    # we can deceive classifiers by inserting spaces into words.\n",
        "                    WordSwapRandomCharacterInsertion(\n",
        "                        random_one=True,\n",
        "                        letters_to_insert=\" \",\n",
        "                        skip_first_char=True,\n",
        "                        skip_last_char=True,\n",
        "                    ),\n",
        "                ])\n",
        "\n",
        "        constraints = [RepeatModification(), StopwordModification()]\n",
        "\n",
        "        goal_function = UntargetedClassification(model_wrapper)\n",
        "        # search over words based on a combination of their saliency score, and how efficient the WordSwap transform is\n",
        "        search_method = GreedyWordSwapWIR(wir_method=\"delete\")\n",
        "        return Attack(goal_function, constraints, transformation, search_method)\n"
      ],
      "metadata": {
        "id": "0u2SNXbu8w18"
      },
      "execution_count": 17,
      "outputs": []
    },
    {
      "cell_type": "code",
      "source": [
        "attack = Recipe5.build(model_wrapper)\n",
        "attacker = Attacker(attack, dataset)\n",
        "attacker.attack_dataset()"
      ],
      "metadata": {
        "id": "wapesCEW9MCi",
        "colab": {
          "base_uri": "https://localhost:8080/"
        },
        "outputId": "5a8e9b59-b8af-4c95-9fef-1a2270f790c1"
      },
      "execution_count": 18,
      "outputs": [
        {
          "output_type": "stream",
          "name": "stderr",
          "text": [
            "textattack: Unknown if model of class <class 'tensorflow.python.keras.engine.sequential.Sequential'> compatible with goal function <class 'textattack.goal_functions.classification.untargeted_classification.UntargetedClassification'>.\n",
            "[Succeeded / Failed / Skipped / Total] 0 / 0 / 2 / 2:  20%|██        | 2/10 [00:00<00:00, 21.55it/s]"
          ]
        },
        {
          "output_type": "stream",
          "name": "stdout",
          "text": [
            "Attack(\n",
            "  (search_method): GreedyWordSwapWIR(\n",
            "    (wir_method):  delete\n",
            "  )\n",
            "  (goal_function):  UntargetedClassification\n",
            "  (transformation):  CompositeTransformation(\n",
            "    (0): WordSwapQWERTY\n",
            "    (1): WordSwapWordNet\n",
            "    (2): WordSwapHomoglyphSwap\n",
            "    (3): WordSwapNeighboringCharacterSwap(\n",
            "        (random_one):  True\n",
            "      )\n",
            "    (4): WordSwapRandomCharacterInsertion(\n",
            "        (random_one):  True\n",
            "      )\n",
            "    )\n",
            "  (constraints): \n",
            "    (0): RepeatModification\n",
            "    (1): StopwordModification\n",
            "  (is_black_box):  True\n",
            ") \n",
            "\n",
            "--------------------------------------------- Result 1 ---------------------------------------------\n",
            "[[Positive (50%)]] --> [[[SKIPPED]]]\n",
            "\n",
            "hide new secretions from the parental units \n",
            "\n",
            "\n",
            "--------------------------------------------- Result 2 ---------------------------------------------\n",
            "[[Positive (50%)]] --> [[[SKIPPED]]]\n",
            "\n",
            "contains no wit , only labored gags \n",
            "\n",
            "\n"
          ]
        },
        {
          "output_type": "stream",
          "name": "stderr",
          "text": [
            "[Succeeded / Failed / Skipped / Total] 2 / 0 / 3 / 5:  50%|█████     | 5/10 [00:00<00:00, 11.66it/s]"
          ]
        },
        {
          "output_type": "stream",
          "name": "stdout",
          "text": [
            "--------------------------------------------- Result 3 ---------------------------------------------\n",
            "[[Positive (50%)]] --> [[Negative (50%)]]\n",
            "\n",
            "that loves its characters and communicates something [[rather]] [[beautiful]] about human nature \n",
            "\n",
            "that loves its characters and communicates something [[rat]] [[her]] [[bea]] [[utiful]] about human nature \n",
            "\n",
            "\n",
            "--------------------------------------------- Result 4 ---------------------------------------------\n",
            "[[Positive (51%)]] --> [[[SKIPPED]]]\n",
            "\n",
            "remains utterly satisfied to remain the same throughout \n",
            "\n",
            "\n",
            "--------------------------------------------- Result 5 ---------------------------------------------\n",
            "[[Negative (50%)]] --> [[Positive (50%)]]\n",
            "\n",
            "on the worst revenge-of-the-nerds clichés the filmmakers [[could]] dredge up \n",
            "\n",
            "on the worst revenge-of-the-nerds clichés the filmmakers [[co]] [[uld]] dredge up \n",
            "\n",
            "\n"
          ]
        },
        {
          "output_type": "stream",
          "name": "stderr",
          "text": [
            "[Succeeded / Failed / Skipped / Total] 2 / 1 / 5 / 8:  80%|████████  | 8/10 [00:00<00:00, 12.59it/s]"
          ]
        },
        {
          "output_type": "stream",
          "name": "stdout",
          "text": [
            "--------------------------------------------- Result 6 ---------------------------------------------\n",
            "[[Positive (50%)]] --> [[[SKIPPED]]]\n",
            "\n",
            "that 's far too tragic to merit such superficial treatment \n",
            "\n",
            "\n",
            "--------------------------------------------- Result 7 ---------------------------------------------\n",
            "[[Negative (51%)]] --> [[[SKIPPED]]]\n",
            "\n",
            "demonstrates that the director of such hollywood blockbusters as patriot games can still turn out a small , personal film with an emotional wallop . \n",
            "\n",
            "\n",
            "--------------------------------------------- Result 8 ---------------------------------------------\n",
            "[[Positive (51%)]] --> [[[FAILED]]]\n",
            "\n",
            "of saucy \n",
            "\n",
            "\n"
          ]
        },
        {
          "output_type": "stream",
          "name": "stderr",
          "text": [
            "[Succeeded / Failed / Skipped / Total] 2 / 1 / 7 / 10: 100%|██████████| 10/10 [00:00<00:00, 13.62it/s]"
          ]
        },
        {
          "output_type": "stream",
          "name": "stdout",
          "text": [
            "--------------------------------------------- Result 9 ---------------------------------------------\n",
            "[[Positive (50%)]] --> [[[SKIPPED]]]\n",
            "\n",
            "a depressed fifteen-year-old 's suicidal poetry \n",
            "\n",
            "\n",
            "--------------------------------------------- Result 10 ---------------------------------------------\n",
            "[[Negative (51%)]] --> [[[SKIPPED]]]\n",
            "\n",
            "are more deeply thought through than in most ` right-thinking ' films \n",
            "\n",
            "\n",
            "\n",
            "+-------------------------------+--------+\n",
            "| Attack Results                |        |\n",
            "+-------------------------------+--------+\n",
            "| Number of successful attacks: | 2      |\n",
            "| Number of failed attacks:     | 1      |\n",
            "| Number of skipped attacks:    | 7      |\n",
            "| Original accuracy:            | 30.0%  |\n",
            "| Accuracy under attack:        | 10.0%  |\n",
            "| Attack success rate:          | 66.67% |\n",
            "| Average perturbed word %:     | 35.83% |\n",
            "| Average num. words per input: | 9.5    |\n",
            "| Avg num queries:              | 26.0   |\n",
            "+-------------------------------+--------+\n"
          ]
        },
        {
          "output_type": "stream",
          "name": "stderr",
          "text": [
            "\n"
          ]
        },
        {
          "output_type": "execute_result",
          "data": {
            "text/plain": [
              "[<textattack.attack_results.skipped_attack_result.SkippedAttackResult at 0x7f72a7bb6710>,\n",
              " <textattack.attack_results.skipped_attack_result.SkippedAttackResult at 0x7f72a7139410>,\n",
              " <textattack.attack_results.successful_attack_result.SuccessfulAttackResult at 0x7f73086f36d0>,\n",
              " <textattack.attack_results.skipped_attack_result.SkippedAttackResult at 0x7f73095ab950>,\n",
              " <textattack.attack_results.successful_attack_result.SuccessfulAttackResult at 0x7f7306db3850>,\n",
              " <textattack.attack_results.skipped_attack_result.SkippedAttackResult at 0x7f73095b0350>,\n",
              " <textattack.attack_results.skipped_attack_result.SkippedAttackResult at 0x7f72a7a555d0>,\n",
              " <textattack.attack_results.failed_attack_result.FailedAttackResult at 0x7f72a7bf6750>,\n",
              " <textattack.attack_results.skipped_attack_result.SkippedAttackResult at 0x7f73045d86d0>,\n",
              " <textattack.attack_results.skipped_attack_result.SkippedAttackResult at 0x7f73023510d0>]"
            ]
          },
          "metadata": {},
          "execution_count": 18
        }
      ]
    },
    {
      "cell_type": "markdown",
      "source": [
        "##Recipe 6\n",
        "          WordSwapNeighboringCharacterSwap\n",
        "          WordSwapRandomCharacterInsertion\n",
        "          WordSwapRandomCharacterDeletion\n",
        "          WordSwapEmbedding\n",
        "          "
      ],
      "metadata": {
        "id": "5-W9A9dL-L9M"
      }
    },
    {
      "cell_type": "code",
      "source": [
        "class Recipe6(Attack,ABC):\n",
        "    @staticmethod\n",
        "    def build(model_wrapper):\n",
        "        #transformation =  WordSwapNeighboringCharacterSwap(random_one=True,skip_first_char=True,skip_last_char=True,)\n",
        "        transformation = CompositeTransformation(\n",
        "                [\n",
        "                    WordSwapNeighboringCharacterSwap(random_one=True,skip_first_char=True,skip_last_char=True,),\n",
        "                    # (1) Insert: Insert a space into the word.\n",
        "                    # Generally, words are segmented by spaces in English. Therefore,\n",
        "                    # we can deceive classifiers by inserting spaces into words.\n",
        "                    WordSwapRandomCharacterInsertion(\n",
        "                        random_one=True,\n",
        "                        letters_to_insert=\" \",\n",
        "                        skip_first_char=True,\n",
        "                        skip_last_char=True,\n",
        "                    ),\n",
        "                    # (2) Delete: Delete a random character of the word except for the first\n",
        "                    # and the last character\n",
        "                    WordSwapRandomCharacterDeletion(\n",
        "                        random_one=True, skip_first_char=True, skip_last_char=True\n",
        "                    ),\n",
        "                    # (5) Substitute-W\n",
        "                    # (Sub-W): Replace a word with its topk nearest neighbors in a\n",
        "                    # context-aware word vector space. Specifically, we use the pre-trained\n",
        "                    # GloVe model [30] provided by Stanford for word embedding and set\n",
        "                    # topk = 5 in the experiment.\n",
        "                    WordSwapEmbedding(max_candidates=5),\n",
        "                ])\n",
        "\n",
        "        constraints = [RepeatModification(), StopwordModification()]\n",
        "\n",
        "        goal_function = UntargetedClassification(model_wrapper)\n",
        "        # search over words based on a combination of their saliency score, and how efficient the WordSwap transform is\n",
        "        search_method = GreedyWordSwapWIR(wir_method=\"delete\")\n",
        "        return Attack(goal_function, constraints, transformation, search_method)"
      ],
      "metadata": {
        "id": "4LO67u7L9VBs"
      },
      "execution_count": 19,
      "outputs": []
    },
    {
      "cell_type": "code",
      "source": [
        "attack = Recipe6.build(model_wrapper)\n",
        "attacker = Attacker(attack, dataset)\n",
        "attacker.attack_dataset()"
      ],
      "metadata": {
        "id": "6-p5CtH49qOm",
        "colab": {
          "base_uri": "https://localhost:8080/"
        },
        "outputId": "73741d89-ba55-47d9-9a2d-3a00fd969025"
      },
      "execution_count": 20,
      "outputs": [
        {
          "output_type": "stream",
          "name": "stderr",
          "text": [
            "textattack: Unknown if model of class <class 'tensorflow.python.keras.engine.sequential.Sequential'> compatible with goal function <class 'textattack.goal_functions.classification.untargeted_classification.UntargetedClassification'>.\n",
            "[Succeeded / Failed / Skipped / Total] 0 / 0 / 2 / 2:  20%|██        | 2/10 [00:00<00:00, 21.68it/s]"
          ]
        },
        {
          "output_type": "stream",
          "name": "stdout",
          "text": [
            "Attack(\n",
            "  (search_method): GreedyWordSwapWIR(\n",
            "    (wir_method):  delete\n",
            "  )\n",
            "  (goal_function):  UntargetedClassification\n",
            "  (transformation):  CompositeTransformation(\n",
            "    (0): WordSwapNeighboringCharacterSwap(\n",
            "        (random_one):  True\n",
            "      )\n",
            "    (1): WordSwapRandomCharacterInsertion(\n",
            "        (random_one):  True\n",
            "      )\n",
            "    (2): WordSwapRandomCharacterDeletion(\n",
            "        (random_one):  True\n",
            "      )\n",
            "    (3): WordSwapEmbedding(\n",
            "        (max_candidates):  5\n",
            "        (embedding):  WordEmbedding\n",
            "      )\n",
            "    )\n",
            "  (constraints): \n",
            "    (0): RepeatModification\n",
            "    (1): StopwordModification\n",
            "  (is_black_box):  True\n",
            ") \n",
            "\n",
            "--------------------------------------------- Result 1 ---------------------------------------------\n",
            "[[Positive (50%)]] --> [[[SKIPPED]]]\n",
            "\n",
            "hide new secretions from the parental units \n",
            "\n",
            "\n",
            "--------------------------------------------- Result 2 ---------------------------------------------\n",
            "[[Positive (50%)]] --> [[[SKIPPED]]]\n",
            "\n",
            "contains no wit , only labored gags \n",
            "\n",
            "\n"
          ]
        },
        {
          "output_type": "stream",
          "name": "stderr",
          "text": [
            "[Succeeded / Failed / Skipped / Total] 2 / 0 / 3 / 5:  50%|█████     | 5/10 [00:00<00:00, 11.43it/s]"
          ]
        },
        {
          "output_type": "stream",
          "name": "stdout",
          "text": [
            "--------------------------------------------- Result 3 ---------------------------------------------\n",
            "[[Positive (50%)]] --> [[Negative (50%)]]\n",
            "\n",
            "that loves its characters and communicates something [[rather]] [[beautiful]] about human nature \n",
            "\n",
            "that loves its characters and communicates something [[quite]] [[bea]] [[utiful]] about human nature \n",
            "\n",
            "\n",
            "--------------------------------------------- Result 4 ---------------------------------------------\n",
            "[[Positive (51%)]] --> [[[SKIPPED]]]\n",
            "\n",
            "remains utterly satisfied to remain the same throughout \n",
            "\n",
            "\n",
            "--------------------------------------------- Result 5 ---------------------------------------------\n",
            "[[Negative (50%)]] --> [[Positive (50%)]]\n",
            "\n",
            "on the worst revenge-of-the-nerds clichés the filmmakers [[could]] dredge up \n",
            "\n",
            "on the worst revenge-of-the-nerds clichés the filmmakers [[c]] [[ould]] dredge up \n",
            "\n",
            "\n"
          ]
        },
        {
          "output_type": "stream",
          "name": "stderr",
          "text": [
            "[Succeeded / Failed / Skipped / Total] 2 / 1 / 5 / 8:  80%|████████  | 8/10 [00:00<00:00, 12.19it/s]"
          ]
        },
        {
          "output_type": "stream",
          "name": "stdout",
          "text": [
            "--------------------------------------------- Result 6 ---------------------------------------------\n",
            "[[Positive (50%)]] --> [[[SKIPPED]]]\n",
            "\n",
            "that 's far too tragic to merit such superficial treatment \n",
            "\n",
            "\n",
            "--------------------------------------------- Result 7 ---------------------------------------------\n",
            "[[Negative (51%)]] --> [[[SKIPPED]]]\n",
            "\n",
            "demonstrates that the director of such hollywood blockbusters as patriot games can still turn out a small , personal film with an emotional wallop . \n",
            "\n",
            "\n",
            "--------------------------------------------- Result 8 ---------------------------------------------\n",
            "[[Positive (51%)]] --> [[[FAILED]]]\n",
            "\n",
            "of saucy \n",
            "\n",
            "\n"
          ]
        },
        {
          "output_type": "stream",
          "name": "stderr",
          "text": [
            "[Succeeded / Failed / Skipped / Total] 2 / 1 / 7 / 10: 100%|██████████| 10/10 [00:00<00:00, 13.39it/s]"
          ]
        },
        {
          "output_type": "stream",
          "name": "stdout",
          "text": [
            "--------------------------------------------- Result 9 ---------------------------------------------\n",
            "[[Positive (50%)]] --> [[[SKIPPED]]]\n",
            "\n",
            "a depressed fifteen-year-old 's suicidal poetry \n",
            "\n",
            "\n",
            "--------------------------------------------- Result 10 ---------------------------------------------\n",
            "[[Negative (51%)]] --> [[[SKIPPED]]]\n",
            "\n",
            "are more deeply thought through than in most ` right-thinking ' films \n",
            "\n",
            "\n",
            "\n",
            "+-------------------------------+--------+\n",
            "| Attack Results                |        |\n",
            "+-------------------------------+--------+\n",
            "| Number of successful attacks: | 2      |\n",
            "| Number of failed attacks:     | 1      |\n",
            "| Number of skipped attacks:    | 7      |\n",
            "| Original accuracy:            | 30.0%  |\n",
            "| Accuracy under attack:        | 10.0%  |\n",
            "| Attack success rate:          | 66.67% |\n",
            "| Average perturbed word %:     | 35.83% |\n",
            "| Average num. words per input: | 9.5    |\n",
            "| Avg num queries:              | 19.67  |\n",
            "+-------------------------------+--------+\n"
          ]
        },
        {
          "output_type": "stream",
          "name": "stderr",
          "text": [
            "\n"
          ]
        },
        {
          "output_type": "execute_result",
          "data": {
            "text/plain": [
              "[<textattack.attack_results.skipped_attack_result.SkippedAttackResult at 0x7f72a6f1fdd0>,\n",
              " <textattack.attack_results.skipped_attack_result.SkippedAttackResult at 0x7f7300449e10>,\n",
              " <textattack.attack_results.successful_attack_result.SuccessfulAttackResult at 0x7f72a70fbf90>,\n",
              " <textattack.attack_results.skipped_attack_result.SkippedAttackResult at 0x7f7306924d10>,\n",
              " <textattack.attack_results.successful_attack_result.SuccessfulAttackResult at 0x7f7303c02650>,\n",
              " <textattack.attack_results.skipped_attack_result.SkippedAttackResult at 0x7f7303c0b190>,\n",
              " <textattack.attack_results.skipped_attack_result.SkippedAttackResult at 0x7f72ff061b90>,\n",
              " <textattack.attack_results.failed_attack_result.FailedAttackResult at 0x7f7303383590>,\n",
              " <textattack.attack_results.skipped_attack_result.SkippedAttackResult at 0x7f7305d64d90>,\n",
              " <textattack.attack_results.skipped_attack_result.SkippedAttackResult at 0x7f72a7920d90>]"
            ]
          },
          "metadata": {},
          "execution_count": 20
        }
      ]
    },
    {
      "cell_type": "markdown",
      "source": [
        "##Recipe 7\n",
        "          WordSwapQWERTY\n",
        "          WordSwapWordNet\n",
        "          WordSwapHomoglyphSwap\n",
        "          WordSwapNeighboringCharacterSwap"
      ],
      "metadata": {
        "id": "rDbqWY_M-T86"
      }
    },
    {
      "cell_type": "code",
      "source": [
        "class Recipe7(Attack,ABC):\n",
        "    @staticmethod\n",
        "    def build(model_wrapper):\n",
        "        #transformation =  WordSwapNeighboringCharacterSwap(random_one=True,skip_first_char=True,skip_last_char=True,)\n",
        "        transformation = CompositeTransformation(\n",
        "                [\n",
        "                    WordSwapQWERTY(),\n",
        "                    WordSwapWordNet(),\n",
        "                    WordSwapHomoglyphSwap(),\n",
        "                    WordSwapNeighboringCharacterSwap(random_one=True,skip_first_char=True,skip_last_char=True,),\n",
        "                ])\n",
        "\n",
        "        constraints = [RepeatModification(), StopwordModification()]\n",
        "\n",
        "        goal_function = UntargetedClassification(model_wrapper)\n",
        "        # search over words based on a combination of their saliency score, and how efficient the WordSwap transform is\n",
        "        search_method = GreedyWordSwapWIR(wir_method=\"delete\")\n",
        "        return Attack(goal_function, constraints, transformation, search_method)"
      ],
      "metadata": {
        "id": "sgZmFGKJ94Jz"
      },
      "execution_count": 21,
      "outputs": []
    },
    {
      "cell_type": "code",
      "source": [
        "attack = Recipe7.build(model_wrapper)\n",
        "attacker = Attacker(attack, dataset)\n",
        "attacker.attack_dataset()"
      ],
      "metadata": {
        "id": "WZjAoX2a-Isx",
        "colab": {
          "base_uri": "https://localhost:8080/"
        },
        "outputId": "96132c48-0fbf-49a4-af3c-c8c022795f8d"
      },
      "execution_count": 22,
      "outputs": [
        {
          "output_type": "stream",
          "name": "stderr",
          "text": [
            "textattack: Unknown if model of class <class 'tensorflow.python.keras.engine.sequential.Sequential'> compatible with goal function <class 'textattack.goal_functions.classification.untargeted_classification.UntargetedClassification'>.\n",
            "[Succeeded / Failed / Skipped / Total] 0 / 0 / 2 / 2:  20%|██        | 2/10 [00:00<00:00, 17.77it/s]"
          ]
        },
        {
          "output_type": "stream",
          "name": "stdout",
          "text": [
            "Attack(\n",
            "  (search_method): GreedyWordSwapWIR(\n",
            "    (wir_method):  delete\n",
            "  )\n",
            "  (goal_function):  UntargetedClassification\n",
            "  (transformation):  CompositeTransformation(\n",
            "    (0): WordSwapQWERTY\n",
            "    (1): WordSwapWordNet\n",
            "    (2): WordSwapHomoglyphSwap\n",
            "    (3): WordSwapNeighboringCharacterSwap(\n",
            "        (random_one):  True\n",
            "      )\n",
            "    )\n",
            "  (constraints): \n",
            "    (0): RepeatModification\n",
            "    (1): StopwordModification\n",
            "  (is_black_box):  True\n",
            ") \n",
            "\n",
            "--------------------------------------------- Result 1 ---------------------------------------------\n",
            "[[Positive (50%)]] --> [[[SKIPPED]]]\n",
            "\n",
            "hide new secretions from the parental units \n",
            "\n",
            "\n",
            "--------------------------------------------- Result 2 ---------------------------------------------\n",
            "[[Positive (50%)]] --> [[[SKIPPED]]]\n",
            "\n",
            "contains no wit , only labored gags \n",
            "\n",
            "\n"
          ]
        },
        {
          "output_type": "stream",
          "name": "stderr",
          "text": [
            "[Succeeded / Failed / Skipped / Total] 1 / 0 / 3 / 4:  40%|████      | 4/10 [00:00<00:00,  9.06it/s]"
          ]
        },
        {
          "output_type": "stream",
          "name": "stdout",
          "text": [
            "--------------------------------------------- Result 3 ---------------------------------------------\n",
            "[[Positive (50%)]] --> [[Negative (50%)]]\n",
            "\n",
            "that loves its characters and communicates something [[rather]] [[beautiful]] about human nature \n",
            "\n",
            "that loves its characters and communicates something [[quite]] [[beautifuⅼ]] about human nature \n",
            "\n",
            "\n",
            "--------------------------------------------- Result 4 ---------------------------------------------\n",
            "[[Positive (51%)]] --> [[[SKIPPED]]]\n",
            "\n",
            "remains utterly satisfied to remain the same throughout \n",
            "\n",
            "\n"
          ]
        },
        {
          "output_type": "stream",
          "name": "stderr",
          "text": [
            "[Succeeded / Failed / Skipped / Total] 2 / 0 / 5 / 7:  70%|███████   | 7/10 [00:00<00:00,  9.47it/s]"
          ]
        },
        {
          "output_type": "stream",
          "name": "stdout",
          "text": [
            "--------------------------------------------- Result 5 ---------------------------------------------\n",
            "[[Negative (50%)]] --> [[Positive (50%)]]\n",
            "\n",
            "on the worst revenge-of-the-nerds clichés the filmmakers [[could]] dredge up \n",
            "\n",
            "on the worst revenge-of-the-nerds clichés the filmmakers [[cohld]] dredge up \n",
            "\n",
            "\n",
            "--------------------------------------------- Result 6 ---------------------------------------------\n",
            "[[Positive (50%)]] --> [[[SKIPPED]]]\n",
            "\n",
            "that 's far too tragic to merit such superficial treatment \n",
            "\n",
            "\n",
            "--------------------------------------------- Result 7 ---------------------------------------------\n",
            "[[Negative (51%)]] --> [[[SKIPPED]]]\n",
            "\n",
            "demonstrates that the director of such hollywood blockbusters as patriot games can still turn out a small , personal film with an emotional wallop . \n",
            "\n",
            "\n"
          ]
        },
        {
          "output_type": "stream",
          "name": "stderr",
          "text": [
            "[Succeeded / Failed / Skipped / Total] 2 / 1 / 7 / 10: 100%|██████████| 10/10 [00:00<00:00, 10.07it/s]"
          ]
        },
        {
          "output_type": "stream",
          "name": "stdout",
          "text": [
            "--------------------------------------------- Result 8 ---------------------------------------------\n",
            "[[Positive (51%)]] --> [[[FAILED]]]\n",
            "\n",
            "of saucy \n",
            "\n",
            "\n",
            "--------------------------------------------- Result 9 ---------------------------------------------\n",
            "[[Positive (50%)]] --> [[[SKIPPED]]]\n",
            "\n",
            "a depressed fifteen-year-old 's suicidal poetry \n",
            "\n",
            "\n",
            "--------------------------------------------- Result 10 ---------------------------------------------\n",
            "[[Negative (51%)]] --> [[[SKIPPED]]]\n",
            "\n",
            "are more deeply thought through than in most ` right-thinking ' films \n",
            "\n",
            "\n",
            "\n",
            "+-------------------------------+--------+\n",
            "| Attack Results                |        |\n",
            "+-------------------------------+--------+\n",
            "| Number of successful attacks: | 2      |\n",
            "| Number of failed attacks:     | 1      |\n",
            "| Number of skipped attacks:    | 7      |\n",
            "| Original accuracy:            | 30.0%  |\n",
            "| Accuracy under attack:        | 10.0%  |\n",
            "| Attack success rate:          | 66.67% |\n",
            "| Average perturbed word %:     | 13.33% |\n",
            "| Average num. words per input: | 9.5    |\n",
            "| Avg num queries:              | 24.67  |\n",
            "+-------------------------------+--------+\n"
          ]
        },
        {
          "output_type": "stream",
          "name": "stderr",
          "text": [
            "\n"
          ]
        },
        {
          "output_type": "execute_result",
          "data": {
            "text/plain": [
              "[<textattack.attack_results.skipped_attack_result.SkippedAttackResult at 0x7f7308715ad0>,\n",
              " <textattack.attack_results.skipped_attack_result.SkippedAttackResult at 0x7f72a7c48850>,\n",
              " <textattack.attack_results.successful_attack_result.SuccessfulAttackResult at 0x7f7302731310>,\n",
              " <textattack.attack_results.skipped_attack_result.SkippedAttackResult at 0x7f72a6dcde50>,\n",
              " <textattack.attack_results.successful_attack_result.SuccessfulAttackResult at 0x7f730045c810>,\n",
              " <textattack.attack_results.skipped_attack_result.SkippedAttackResult at 0x7f73020a2150>,\n",
              " <textattack.attack_results.skipped_attack_result.SkippedAttackResult at 0x7f7308ff4e90>,\n",
              " <textattack.attack_results.failed_attack_result.FailedAttackResult at 0x7f72a6b31a90>,\n",
              " <textattack.attack_results.skipped_attack_result.SkippedAttackResult at 0x7f72a6ef4f90>,\n",
              " <textattack.attack_results.skipped_attack_result.SkippedAttackResult at 0x7f72a7bb6550>]"
            ]
          },
          "metadata": {},
          "execution_count": 22
        }
      ]
    },
    {
      "cell_type": "markdown",
      "source": [
        "##Recipe 8\n",
        "            WordSwapRandomCharacterInsertion\n",
        "            WordSwapRandomCharacterDeletion\n",
        "            WordSwapEmbedding"
      ],
      "metadata": {
        "id": "wnsWg7ei-g5e"
      }
    },
    {
      "cell_type": "code",
      "source": [
        "class Recipe8(Attack,ABC):\n",
        "    @staticmethod\n",
        "    def build(model_wrapper):\n",
        "        #transformation =  WordSwapNeighboringCharacterSwap(random_one=True,skip_first_char=True,skip_last_char=True,)\n",
        "        transformation = CompositeTransformation(\n",
        "                [\n",
        "                    # (1) Insert: Insert a space into the word.\n",
        "                    # Generally, words are segmented by spaces in English. Therefore,\n",
        "                    # we can deceive classifiers by inserting spaces into words.\n",
        "                    WordSwapRandomCharacterInsertion(\n",
        "                        random_one=True,\n",
        "                        letters_to_insert=\" \",\n",
        "                        skip_first_char=True,\n",
        "                        skip_last_char=True,\n",
        "                    ),\n",
        "                    # (2) Delete: Delete a random character of the word except for the first\n",
        "                    # and the last character\n",
        "                    WordSwapRandomCharacterDeletion(\n",
        "                        random_one=True, skip_first_char=True, skip_last_char=True\n",
        "                    ),\n",
        "                    # (5) Substitute-W\n",
        "                    # (Sub-W): Replace a word with its topk nearest neighbors in a\n",
        "                    # context-aware word vector space. Specifically, we use the pre-trained\n",
        "                    # GloVe model [30] provided by Stanford for word embedding and set\n",
        "                    # topk = 5 in the experiment.\n",
        "                    WordSwapEmbedding(max_candidates=5),\n",
        "                ])\n",
        "\n",
        "        constraints = [RepeatModification(), StopwordModification()]\n",
        "\n",
        "        goal_function = UntargetedClassification(model_wrapper)\n",
        "        # search over words based on a combination of their saliency score, and how efficient the WordSwap transform is\n",
        "        search_method = GreedyWordSwapWIR(wir_method=\"delete\")\n",
        "        return Attack(goal_function, constraints, transformation, search_method)"
      ],
      "metadata": {
        "id": "ssUZmZzX-msX"
      },
      "execution_count": 23,
      "outputs": []
    },
    {
      "cell_type": "code",
      "source": [
        "attack = Recipe8.build(model_wrapper)\n",
        "attacker = Attacker(attack, dataset)\n",
        "attacker.attack_dataset()"
      ],
      "metadata": {
        "id": "U-DefkGS-8UZ",
        "colab": {
          "base_uri": "https://localhost:8080/"
        },
        "outputId": "17223b03-8eb0-4da1-95b6-1516ceeea0f3"
      },
      "execution_count": 24,
      "outputs": [
        {
          "output_type": "stream",
          "name": "stderr",
          "text": [
            "textattack: Unknown if model of class <class 'tensorflow.python.keras.engine.sequential.Sequential'> compatible with goal function <class 'textattack.goal_functions.classification.untargeted_classification.UntargetedClassification'>.\n",
            "[Succeeded / Failed / Skipped / Total] 0 / 0 / 2 / 2:  20%|██        | 2/10 [00:00<00:00, 23.98it/s]"
          ]
        },
        {
          "output_type": "stream",
          "name": "stdout",
          "text": [
            "Attack(\n",
            "  (search_method): GreedyWordSwapWIR(\n",
            "    (wir_method):  delete\n",
            "  )\n",
            "  (goal_function):  UntargetedClassification\n",
            "  (transformation):  CompositeTransformation(\n",
            "    (0): WordSwapRandomCharacterInsertion(\n",
            "        (random_one):  True\n",
            "      )\n",
            "    (1): WordSwapRandomCharacterDeletion(\n",
            "        (random_one):  True\n",
            "      )\n",
            "    (2): WordSwapEmbedding(\n",
            "        (max_candidates):  5\n",
            "        (embedding):  WordEmbedding\n",
            "      )\n",
            "    )\n",
            "  (constraints): \n",
            "    (0): RepeatModification\n",
            "    (1): StopwordModification\n",
            "  (is_black_box):  True\n",
            ") \n",
            "\n",
            "--------------------------------------------- Result 1 ---------------------------------------------\n",
            "[[Positive (50%)]] --> [[[SKIPPED]]]\n",
            "\n",
            "hide new secretions from the parental units \n",
            "\n",
            "\n",
            "--------------------------------------------- Result 2 ---------------------------------------------\n",
            "[[Positive (50%)]] --> [[[SKIPPED]]]\n",
            "\n",
            "contains no wit , only labored gags \n",
            "\n",
            "\n"
          ]
        },
        {
          "output_type": "stream",
          "name": "stderr",
          "text": [
            "[Succeeded / Failed / Skipped / Total] 2 / 0 / 3 / 5:  50%|█████     | 5/10 [00:00<00:00, 11.92it/s]"
          ]
        },
        {
          "output_type": "stream",
          "name": "stdout",
          "text": [
            "--------------------------------------------- Result 3 ---------------------------------------------\n",
            "[[Positive (50%)]] --> [[Negative (50%)]]\n",
            "\n",
            "that loves its characters and communicates something [[rather]] [[beautiful]] about human nature \n",
            "\n",
            "that loves its characters and communicates something [[quite]] [[beatiful]] about human nature \n",
            "\n",
            "\n",
            "--------------------------------------------- Result 4 ---------------------------------------------\n",
            "[[Positive (51%)]] --> [[[SKIPPED]]]\n",
            "\n",
            "remains utterly satisfied to remain the same throughout \n",
            "\n",
            "\n",
            "--------------------------------------------- Result 5 ---------------------------------------------\n",
            "[[Negative (50%)]] --> [[Positive (50%)]]\n",
            "\n",
            "on the worst revenge-of-the-nerds clichés the filmmakers [[could]] dredge up \n",
            "\n",
            "on the worst revenge-of-the-nerds clichés the filmmakers [[ca]] dredge up \n",
            "\n",
            "\n"
          ]
        },
        {
          "output_type": "stream",
          "name": "stderr",
          "text": [
            "[Succeeded / Failed / Skipped / Total] 2 / 1 / 5 / 8:  80%|████████  | 8/10 [00:00<00:00, 12.31it/s]"
          ]
        },
        {
          "output_type": "stream",
          "name": "stdout",
          "text": [
            "--------------------------------------------- Result 6 ---------------------------------------------\n",
            "[[Positive (50%)]] --> [[[SKIPPED]]]\n",
            "\n",
            "that 's far too tragic to merit such superficial treatment \n",
            "\n",
            "\n",
            "--------------------------------------------- Result 7 ---------------------------------------------\n",
            "[[Negative (51%)]] --> [[[SKIPPED]]]\n",
            "\n",
            "demonstrates that the director of such hollywood blockbusters as patriot games can still turn out a small , personal film with an emotional wallop . \n",
            "\n",
            "\n",
            "--------------------------------------------- Result 8 ---------------------------------------------\n",
            "[[Positive (51%)]] --> [[[FAILED]]]\n",
            "\n",
            "of saucy \n",
            "\n",
            "\n"
          ]
        },
        {
          "output_type": "stream",
          "name": "stderr",
          "text": [
            "[Succeeded / Failed / Skipped / Total] 2 / 1 / 7 / 10: 100%|██████████| 10/10 [00:00<00:00, 13.40it/s]"
          ]
        },
        {
          "output_type": "stream",
          "name": "stdout",
          "text": [
            "--------------------------------------------- Result 9 ---------------------------------------------\n",
            "[[Positive (50%)]] --> [[[SKIPPED]]]\n",
            "\n",
            "a depressed fifteen-year-old 's suicidal poetry \n",
            "\n",
            "\n",
            "--------------------------------------------- Result 10 ---------------------------------------------\n",
            "[[Negative (51%)]] --> [[[SKIPPED]]]\n",
            "\n",
            "are more deeply thought through than in most ` right-thinking ' films \n",
            "\n",
            "\n",
            "\n",
            "+-------------------------------+--------+\n",
            "| Attack Results                |        |\n",
            "+-------------------------------+--------+\n",
            "| Number of successful attacks: | 2      |\n",
            "| Number of failed attacks:     | 1      |\n",
            "| Number of skipped attacks:    | 7      |\n",
            "| Original accuracy:            | 30.0%  |\n",
            "| Accuracy under attack:        | 10.0%  |\n",
            "| Attack success rate:          | 66.67% |\n",
            "| Average perturbed word %:     | 13.33% |\n",
            "| Average num. words per input: | 9.5    |\n",
            "| Avg num queries:              | 18.33  |\n",
            "+-------------------------------+--------+\n"
          ]
        },
        {
          "output_type": "stream",
          "name": "stderr",
          "text": [
            "\n"
          ]
        },
        {
          "output_type": "execute_result",
          "data": {
            "text/plain": [
              "[<textattack.attack_results.skipped_attack_result.SkippedAttackResult at 0x7f72a78f50d0>,\n",
              " <textattack.attack_results.skipped_attack_result.SkippedAttackResult at 0x7f72a88b7190>,\n",
              " <textattack.attack_results.successful_attack_result.SuccessfulAttackResult at 0x7f7305d91b90>,\n",
              " <textattack.attack_results.skipped_attack_result.SkippedAttackResult at 0x7f72a899f2d0>,\n",
              " <textattack.attack_results.successful_attack_result.SuccessfulAttackResult at 0x7f73045af210>,\n",
              " <textattack.attack_results.skipped_attack_result.SkippedAttackResult at 0x7f72a887d710>,\n",
              " <textattack.attack_results.skipped_attack_result.SkippedAttackResult at 0x7f73050fd1d0>,\n",
              " <textattack.attack_results.failed_attack_result.FailedAttackResult at 0x7f72a6b56850>,\n",
              " <textattack.attack_results.skipped_attack_result.SkippedAttackResult at 0x7f73081e6990>,\n",
              " <textattack.attack_results.skipped_attack_result.SkippedAttackResult at 0x7f72a887d3d0>]"
            ]
          },
          "metadata": {},
          "execution_count": 24
        }
      ]
    },
    {
      "cell_type": "markdown",
      "source": [
        "##Recipe 9\n",
        "            WordSwapQWERTY\n",
        "            WordSwapWordNet\n",
        "            WordSwapNeighboringCharacterSwap"
      ],
      "metadata": {
        "id": "GT5YmnJJAETS"
      }
    },
    {
      "cell_type": "code",
      "source": [
        "class Recipe10(Attack,ABC):\n",
        "    @staticmethod\n",
        "    def build(model_wrapper):\n",
        "        #transformation =  WordSwapNeighboringCharacterSwap(random_one=True,skip_first_char=True,skip_last_char=True,)\n",
        "        transformation = CompositeTransformation(\n",
        "                [\n",
        "                    WordSwapQWERTY(),\n",
        "                    WordSwapWordNet(),\n",
        "                    WordSwapNeighboringCharacterSwap(random_one=True,skip_first_char=True,skip_last_char=True,)\n",
        "                ])\n",
        "\n",
        "        constraints = [RepeatModification(), StopwordModification()]\n",
        "\n",
        "        goal_function = UntargetedClassification(model_wrapper)\n",
        "        # search over words based on a combination of their saliency score, and how efficient the WordSwap transform is\n",
        "        search_method = GreedyWordSwapWIR(wir_method=\"delete\")\n",
        "        return Attack(goal_function, constraints, transformation, search_method)"
      ],
      "metadata": {
        "id": "NaI9OrA4AETl"
      },
      "execution_count": 27,
      "outputs": []
    },
    {
      "cell_type": "code",
      "source": [
        "attack = Recipe10.build(model_wrapper)\n",
        "attacker = Attacker(attack, dataset)\n",
        "attacker.attack_dataset()"
      ],
      "metadata": {
        "id": "NmUZ_iM5AETm",
        "colab": {
          "base_uri": "https://localhost:8080/"
        },
        "outputId": "b102a5dd-7aac-45cd-f63e-d5ebf1c01cac"
      },
      "execution_count": 28,
      "outputs": [
        {
          "output_type": "stream",
          "name": "stderr",
          "text": [
            "textattack: Unknown if model of class <class 'tensorflow.python.keras.engine.sequential.Sequential'> compatible with goal function <class 'textattack.goal_functions.classification.untargeted_classification.UntargetedClassification'>.\n",
            "[Succeeded / Failed / Skipped / Total] 0 / 0 / 2 / 2:  20%|██        | 2/10 [00:00<00:00, 23.30it/s]"
          ]
        },
        {
          "output_type": "stream",
          "name": "stdout",
          "text": [
            "Attack(\n",
            "  (search_method): GreedyWordSwapWIR(\n",
            "    (wir_method):  delete\n",
            "  )\n",
            "  (goal_function):  UntargetedClassification\n",
            "  (transformation):  CompositeTransformation(\n",
            "    (0): WordSwapQWERTY\n",
            "    (1): WordSwapWordNet\n",
            "    (2): WordSwapNeighboringCharacterSwap(\n",
            "        (random_one):  True\n",
            "      )\n",
            "    )\n",
            "  (constraints): \n",
            "    (0): RepeatModification\n",
            "    (1): StopwordModification\n",
            "  (is_black_box):  True\n",
            ") \n",
            "\n",
            "--------------------------------------------- Result 1 ---------------------------------------------\n",
            "[[Positive (50%)]] --> [[[SKIPPED]]]\n",
            "\n",
            "hide new secretions from the parental units \n",
            "\n",
            "\n",
            "--------------------------------------------- Result 2 ---------------------------------------------\n",
            "[[Positive (50%)]] --> [[[SKIPPED]]]\n",
            "\n",
            "contains no wit , only labored gags \n",
            "\n",
            "\n"
          ]
        },
        {
          "output_type": "stream",
          "name": "stderr",
          "text": [
            "[Succeeded / Failed / Skipped / Total] 2 / 0 / 3 / 5:  50%|█████     | 5/10 [00:00<00:00, 11.44it/s]"
          ]
        },
        {
          "output_type": "stream",
          "name": "stdout",
          "text": [
            "--------------------------------------------- Result 3 ---------------------------------------------\n",
            "[[Positive (50%)]] --> [[Negative (50%)]]\n",
            "\n",
            "that loves its characters and communicates something [[rather]] [[beautiful]] about human nature \n",
            "\n",
            "that loves its characters and communicates something [[quite]] [[beautiufl]] about human nature \n",
            "\n",
            "\n",
            "--------------------------------------------- Result 4 ---------------------------------------------\n",
            "[[Positive (51%)]] --> [[[SKIPPED]]]\n",
            "\n",
            "remains utterly satisfied to remain the same throughout \n",
            "\n",
            "\n",
            "--------------------------------------------- Result 5 ---------------------------------------------\n",
            "[[Negative (50%)]] --> [[Positive (50%)]]\n",
            "\n",
            "on the worst revenge-of-the-nerds clichés the filmmakers [[could]] dredge up \n",
            "\n",
            "on the worst revenge-of-the-nerds clichés the filmmakers [[cohld]] dredge up \n",
            "\n",
            "\n"
          ]
        },
        {
          "output_type": "stream",
          "name": "stderr",
          "text": [
            "[Succeeded / Failed / Skipped / Total] 2 / 1 / 5 / 8:  80%|████████  | 8/10 [00:00<00:00, 12.44it/s]"
          ]
        },
        {
          "output_type": "stream",
          "name": "stdout",
          "text": [
            "--------------------------------------------- Result 6 ---------------------------------------------\n",
            "[[Positive (50%)]] --> [[[SKIPPED]]]\n",
            "\n",
            "that 's far too tragic to merit such superficial treatment \n",
            "\n",
            "\n",
            "--------------------------------------------- Result 7 ---------------------------------------------\n",
            "[[Negative (51%)]] --> [[[SKIPPED]]]\n",
            "\n",
            "demonstrates that the director of such hollywood blockbusters as patriot games can still turn out a small , personal film with an emotional wallop . \n",
            "\n",
            "\n",
            "--------------------------------------------- Result 8 ---------------------------------------------\n",
            "[[Positive (51%)]] --> [[[FAILED]]]\n",
            "\n",
            "of saucy \n",
            "\n",
            "\n"
          ]
        },
        {
          "output_type": "stream",
          "name": "stderr",
          "text": [
            "[Succeeded / Failed / Skipped / Total] 2 / 1 / 7 / 10: 100%|██████████| 10/10 [00:00<00:00, 13.62it/s]"
          ]
        },
        {
          "output_type": "stream",
          "name": "stdout",
          "text": [
            "--------------------------------------------- Result 9 ---------------------------------------------\n",
            "[[Positive (50%)]] --> [[[SKIPPED]]]\n",
            "\n",
            "a depressed fifteen-year-old 's suicidal poetry \n",
            "\n",
            "\n",
            "--------------------------------------------- Result 10 ---------------------------------------------\n",
            "[[Negative (51%)]] --> [[[SKIPPED]]]\n",
            "\n",
            "are more deeply thought through than in most ` right-thinking ' films \n",
            "\n",
            "\n",
            "\n",
            "+-------------------------------+--------+\n",
            "| Attack Results                |        |\n",
            "+-------------------------------+--------+\n",
            "| Number of successful attacks: | 2      |\n",
            "| Number of failed attacks:     | 1      |\n",
            "| Number of skipped attacks:    | 7      |\n",
            "| Original accuracy:            | 30.0%  |\n",
            "| Accuracy under attack:        | 10.0%  |\n",
            "| Attack success rate:          | 66.67% |\n",
            "| Average perturbed word %:     | 13.33% |\n",
            "| Average num. words per input: | 9.5    |\n",
            "| Avg num queries:              | 16.33  |\n",
            "+-------------------------------+--------+\n"
          ]
        },
        {
          "output_type": "stream",
          "name": "stderr",
          "text": [
            "\n"
          ]
        },
        {
          "output_type": "execute_result",
          "data": {
            "text/plain": [
              "[<textattack.attack_results.skipped_attack_result.SkippedAttackResult at 0x7f730519ff10>,\n",
              " <textattack.attack_results.skipped_attack_result.SkippedAttackResult at 0x7f73041a6690>,\n",
              " <textattack.attack_results.successful_attack_result.SuccessfulAttackResult at 0x7f72a7113f10>,\n",
              " <textattack.attack_results.skipped_attack_result.SkippedAttackResult at 0x7f7306f27610>,\n",
              " <textattack.attack_results.successful_attack_result.SuccessfulAttackResult at 0x7f7308352350>,\n",
              " <textattack.attack_results.skipped_attack_result.SkippedAttackResult at 0x7f72a7aeeed0>,\n",
              " <textattack.attack_results.skipped_attack_result.SkippedAttackResult at 0x7f73050e5e50>,\n",
              " <textattack.attack_results.failed_attack_result.FailedAttackResult at 0x7f72a87339d0>,\n",
              " <textattack.attack_results.skipped_attack_result.SkippedAttackResult at 0x7f7305183910>,\n",
              " <textattack.attack_results.skipped_attack_result.SkippedAttackResult at 0x7f73050fd6d0>]"
            ]
          },
          "metadata": {},
          "execution_count": 28
        }
      ]
    },
    {
      "cell_type": "markdown",
      "source": [
        "##Recipe 10\n",
        "            WordSwapRandomCharacterDeletion\n",
        "            WordSwapEmbedding"
      ],
      "metadata": {
        "id": "xEgGAofUApQp"
      }
    },
    {
      "cell_type": "code",
      "source": [
        "class Recipe11(Attack,ABC):\n",
        "    @staticmethod\n",
        "    def build(model_wrapper):\n",
        "        #transformation =  WordSwapNeighboringCharacterSwap(random_one=True,skip_first_char=True,skip_last_char=True,)\n",
        "        transformation = CompositeTransformation(\n",
        "                [\n",
        "                    # (2) Delete: Delete a random character of the word except for the first\n",
        "                    # and the last character\n",
        "                    WordSwapRandomCharacterDeletion(\n",
        "                        random_one=True, skip_first_char=True, skip_last_char=True\n",
        "                    ),\n",
        "                    # (5) Substitute-W\n",
        "                    # (Sub-W): Replace a word with its topk nearest neighbors in a\n",
        "                    # context-aware word vector space. Specifically, we use the pre-trained\n",
        "                    # GloVe model [30] provided by Stanford for word embedding and set\n",
        "                    # topk = 5 in the experiment.\n",
        "                    WordSwapEmbedding(max_candidates=5),\n",
        "                ])\n",
        "\n",
        "        constraints = [RepeatModification(), StopwordModification()]\n",
        "\n",
        "        goal_function = UntargetedClassification(model_wrapper)\n",
        "        # search over words based on a combination of their saliency score, and how efficient the WordSwap transform is\n",
        "        search_method = GreedyWordSwapWIR(wir_method=\"delete\")\n",
        "        return Attack(goal_function, constraints, transformation, search_method)\n"
      ],
      "metadata": {
        "id": "aWvisNnGApQ4"
      },
      "execution_count": 29,
      "outputs": []
    },
    {
      "cell_type": "code",
      "source": [
        "attack = Recipe11.build(model_wrapper)\n",
        "attacker = Attacker(attack, dataset)\n",
        "attacker.attack_dataset()"
      ],
      "metadata": {
        "id": "hjjFku33ApQ4",
        "colab": {
          "base_uri": "https://localhost:8080/"
        },
        "outputId": "038345df-c418-4d94-e860-bccc429ba6c6"
      },
      "execution_count": 30,
      "outputs": [
        {
          "output_type": "stream",
          "name": "stderr",
          "text": [
            "textattack: Unknown if model of class <class 'tensorflow.python.keras.engine.sequential.Sequential'> compatible with goal function <class 'textattack.goal_functions.classification.untargeted_classification.UntargetedClassification'>.\n",
            "[Succeeded / Failed / Skipped / Total] 0 / 0 / 2 / 2:  20%|██        | 2/10 [00:00<00:00, 22.26it/s]"
          ]
        },
        {
          "output_type": "stream",
          "name": "stdout",
          "text": [
            "Attack(\n",
            "  (search_method): GreedyWordSwapWIR(\n",
            "    (wir_method):  delete\n",
            "  )\n",
            "  (goal_function):  UntargetedClassification\n",
            "  (transformation):  CompositeTransformation(\n",
            "    (0): WordSwapRandomCharacterDeletion(\n",
            "        (random_one):  True\n",
            "      )\n",
            "    (1): WordSwapEmbedding(\n",
            "        (max_candidates):  5\n",
            "        (embedding):  WordEmbedding\n",
            "      )\n",
            "    )\n",
            "  (constraints): \n",
            "    (0): RepeatModification\n",
            "    (1): StopwordModification\n",
            "  (is_black_box):  True\n",
            ") \n",
            "\n",
            "--------------------------------------------- Result 1 ---------------------------------------------\n",
            "[[Positive (50%)]] --> [[[SKIPPED]]]\n",
            "\n",
            "hide new secretions from the parental units \n",
            "\n",
            "\n",
            "--------------------------------------------- Result 2 ---------------------------------------------\n",
            "[[Positive (50%)]] --> [[[SKIPPED]]]\n",
            "\n",
            "contains no wit , only labored gags \n",
            "\n",
            "\n"
          ]
        },
        {
          "output_type": "stream",
          "name": "stderr",
          "text": [
            "[Succeeded / Failed / Skipped / Total] 2 / 0 / 3 / 5:  50%|█████     | 5/10 [00:00<00:00, 11.50it/s]"
          ]
        },
        {
          "output_type": "stream",
          "name": "stdout",
          "text": [
            "--------------------------------------------- Result 3 ---------------------------------------------\n",
            "[[Positive (50%)]] --> [[Negative (50%)]]\n",
            "\n",
            "that loves its characters and communicates something [[rather]] [[beautiful]] about human nature \n",
            "\n",
            "that loves its characters and communicates something [[quite]] [[beautiul]] about human nature \n",
            "\n",
            "\n",
            "--------------------------------------------- Result 4 ---------------------------------------------\n",
            "[[Positive (51%)]] --> [[[SKIPPED]]]\n",
            "\n",
            "remains utterly satisfied to remain the same throughout \n",
            "\n",
            "\n",
            "--------------------------------------------- Result 5 ---------------------------------------------\n",
            "[[Negative (50%)]] --> [[Positive (50%)]]\n",
            "\n",
            "on the worst revenge-of-the-nerds clichés the filmmakers [[could]] dredge up \n",
            "\n",
            "on the worst revenge-of-the-nerds clichés the filmmakers [[ca]] dredge up \n",
            "\n",
            "\n"
          ]
        },
        {
          "output_type": "stream",
          "name": "stderr",
          "text": [
            "[Succeeded / Failed / Skipped / Total] 2 / 1 / 5 / 8:  80%|████████  | 8/10 [00:00<00:00, 12.38it/s]"
          ]
        },
        {
          "output_type": "stream",
          "name": "stdout",
          "text": [
            "--------------------------------------------- Result 6 ---------------------------------------------\n",
            "[[Positive (50%)]] --> [[[SKIPPED]]]\n",
            "\n",
            "that 's far too tragic to merit such superficial treatment \n",
            "\n",
            "\n",
            "--------------------------------------------- Result 7 ---------------------------------------------\n",
            "[[Negative (51%)]] --> [[[SKIPPED]]]\n",
            "\n",
            "demonstrates that the director of such hollywood blockbusters as patriot games can still turn out a small , personal film with an emotional wallop . \n",
            "\n",
            "\n",
            "--------------------------------------------- Result 8 ---------------------------------------------\n",
            "[[Positive (51%)]] --> [[[FAILED]]]\n",
            "\n",
            "of saucy \n",
            "\n",
            "\n"
          ]
        },
        {
          "output_type": "stream",
          "name": "stderr",
          "text": [
            "[Succeeded / Failed / Skipped / Total] 2 / 1 / 7 / 10: 100%|██████████| 10/10 [00:00<00:00, 13.47it/s]"
          ]
        },
        {
          "output_type": "stream",
          "name": "stdout",
          "text": [
            "--------------------------------------------- Result 9 ---------------------------------------------\n",
            "[[Positive (50%)]] --> [[[SKIPPED]]]\n",
            "\n",
            "a depressed fifteen-year-old 's suicidal poetry \n",
            "\n",
            "\n",
            "--------------------------------------------- Result 10 ---------------------------------------------\n",
            "[[Negative (51%)]] --> [[[SKIPPED]]]\n",
            "\n",
            "are more deeply thought through than in most ` right-thinking ' films \n",
            "\n",
            "\n",
            "\n",
            "+-------------------------------+--------+\n",
            "| Attack Results                |        |\n",
            "+-------------------------------+--------+\n",
            "| Number of successful attacks: | 2      |\n",
            "| Number of failed attacks:     | 1      |\n",
            "| Number of skipped attacks:    | 7      |\n",
            "| Original accuracy:            | 30.0%  |\n",
            "| Accuracy under attack:        | 10.0%  |\n",
            "| Attack success rate:          | 66.67% |\n",
            "| Average perturbed word %:     | 13.33% |\n",
            "| Average num. words per input: | 9.5    |\n",
            "| Avg num queries:              | 17.0   |\n",
            "+-------------------------------+--------+\n"
          ]
        },
        {
          "output_type": "stream",
          "name": "stderr",
          "text": [
            "\n"
          ]
        },
        {
          "output_type": "execute_result",
          "data": {
            "text/plain": [
              "[<textattack.attack_results.skipped_attack_result.SkippedAttackResult at 0x7f73044d2950>,\n",
              " <textattack.attack_results.skipped_attack_result.SkippedAttackResult at 0x7f73045bea10>,\n",
              " <textattack.attack_results.successful_attack_result.SuccessfulAttackResult at 0x7f72a7370310>,\n",
              " <textattack.attack_results.skipped_attack_result.SkippedAttackResult at 0x7f73020d1750>,\n",
              " <textattack.attack_results.successful_attack_result.SuccessfulAttackResult at 0x7f730870e4d0>,\n",
              " <textattack.attack_results.skipped_attack_result.SkippedAttackResult at 0x7f73020d1b90>,\n",
              " <textattack.attack_results.skipped_attack_result.SkippedAttackResult at 0x7f72a760edd0>,\n",
              " <textattack.attack_results.failed_attack_result.FailedAttackResult at 0x7f73052b52d0>,\n",
              " <textattack.attack_results.skipped_attack_result.SkippedAttackResult at 0x7f72a6bb0910>,\n",
              " <textattack.attack_results.skipped_attack_result.SkippedAttackResult at 0x7f7307037250>]"
            ]
          },
          "metadata": {},
          "execution_count": 30
        }
      ]
    }
  ],
  "metadata": {
    "accelerator": "GPU",
    "colab": {
      "collapsed_sections": [],
      "machine_shape": "hm",
      "name": "Custom Recipe_list_CompositeTransformations_Keras.ipynb",
      "provenance": [],
      "authorship_tag": "ABX9TyPowfD882GAsBTKaHJzG6IG",
      "include_colab_link": true
    },
    "kernelspec": {
      "display_name": "Python 3",
      "name": "python3"
    },
    "language_info": {
      "name": "python"
    },
    "widgets": {
      "application/vnd.jupyter.widget-state+json": {
        "b935ef9f498143e2bb9d4d980c91321b": {
          "model_module": "@jupyter-widgets/controls",
          "model_name": "HBoxModel",
          "model_module_version": "1.5.0",
          "state": {
            "_view_name": "HBoxView",
            "_dom_classes": [],
            "_model_name": "HBoxModel",
            "_view_module": "@jupyter-widgets/controls",
            "_model_module_version": "1.5.0",
            "_view_count": null,
            "_view_module_version": "1.5.0",
            "box_style": "",
            "layout": "IPY_MODEL_05af3d1e4502406db93c5a8ac24896dc",
            "_model_module": "@jupyter-widgets/controls",
            "children": [
              "IPY_MODEL_7969a2b896654d3c85bbc816458609c0",
              "IPY_MODEL_369111f69e164822a1f89d29b1d4e5d0"
            ]
          }
        },
        "05af3d1e4502406db93c5a8ac24896dc": {
          "model_module": "@jupyter-widgets/base",
          "model_name": "LayoutModel",
          "model_module_version": "1.2.0",
          "state": {
            "_view_name": "LayoutView",
            "grid_template_rows": null,
            "right": null,
            "justify_content": null,
            "_view_module": "@jupyter-widgets/base",
            "overflow": null,
            "_model_module_version": "1.2.0",
            "_view_count": null,
            "flex_flow": null,
            "width": null,
            "min_width": null,
            "border": null,
            "align_items": null,
            "bottom": null,
            "_model_module": "@jupyter-widgets/base",
            "top": null,
            "grid_column": null,
            "overflow_y": null,
            "overflow_x": null,
            "grid_auto_flow": null,
            "grid_area": null,
            "grid_template_columns": null,
            "flex": null,
            "_model_name": "LayoutModel",
            "justify_items": null,
            "grid_row": null,
            "max_height": null,
            "align_content": null,
            "visibility": null,
            "align_self": null,
            "height": null,
            "min_height": null,
            "padding": null,
            "grid_auto_rows": null,
            "grid_gap": null,
            "max_width": null,
            "order": null,
            "_view_module_version": "1.2.0",
            "grid_template_areas": null,
            "object_position": null,
            "object_fit": null,
            "grid_auto_columns": null,
            "margin": null,
            "display": null,
            "left": null
          }
        },
        "7969a2b896654d3c85bbc816458609c0": {
          "model_module": "@jupyter-widgets/controls",
          "model_name": "FloatProgressModel",
          "model_module_version": "1.5.0",
          "state": {
            "_view_name": "ProgressView",
            "style": "IPY_MODEL_fb7c204e66004c1d8a8575b7720047b2",
            "_dom_classes": [],
            "description": "Downloading: ",
            "_model_name": "FloatProgressModel",
            "bar_style": "success",
            "max": 7826,
            "_view_module": "@jupyter-widgets/controls",
            "_model_module_version": "1.5.0",
            "value": 7826,
            "_view_count": null,
            "_view_module_version": "1.5.0",
            "orientation": "horizontal",
            "min": 0,
            "description_tooltip": null,
            "_model_module": "@jupyter-widgets/controls",
            "layout": "IPY_MODEL_23b30c9718d348389c8847c1c8ff08b4"
          }
        },
        "369111f69e164822a1f89d29b1d4e5d0": {
          "model_module": "@jupyter-widgets/controls",
          "model_name": "HTMLModel",
          "model_module_version": "1.5.0",
          "state": {
            "_view_name": "HTMLView",
            "style": "IPY_MODEL_49dfd88795a049a28ca72b5554153842",
            "_dom_classes": [],
            "description": "",
            "_model_name": "HTMLModel",
            "placeholder": "​",
            "_view_module": "@jupyter-widgets/controls",
            "_model_module_version": "1.5.0",
            "value": " 28.7k/? [00:00&lt;00:00, 53.9kB/s]",
            "_view_count": null,
            "_view_module_version": "1.5.0",
            "description_tooltip": null,
            "_model_module": "@jupyter-widgets/controls",
            "layout": "IPY_MODEL_20344fb583ee4e85bf6c6b4f07e435ff"
          }
        },
        "fb7c204e66004c1d8a8575b7720047b2": {
          "model_module": "@jupyter-widgets/controls",
          "model_name": "ProgressStyleModel",
          "model_module_version": "1.5.0",
          "state": {
            "_view_name": "StyleView",
            "_model_name": "ProgressStyleModel",
            "description_width": "initial",
            "_view_module": "@jupyter-widgets/base",
            "_model_module_version": "1.5.0",
            "_view_count": null,
            "_view_module_version": "1.2.0",
            "bar_color": null,
            "_model_module": "@jupyter-widgets/controls"
          }
        },
        "23b30c9718d348389c8847c1c8ff08b4": {
          "model_module": "@jupyter-widgets/base",
          "model_name": "LayoutModel",
          "model_module_version": "1.2.0",
          "state": {
            "_view_name": "LayoutView",
            "grid_template_rows": null,
            "right": null,
            "justify_content": null,
            "_view_module": "@jupyter-widgets/base",
            "overflow": null,
            "_model_module_version": "1.2.0",
            "_view_count": null,
            "flex_flow": null,
            "width": null,
            "min_width": null,
            "border": null,
            "align_items": null,
            "bottom": null,
            "_model_module": "@jupyter-widgets/base",
            "top": null,
            "grid_column": null,
            "overflow_y": null,
            "overflow_x": null,
            "grid_auto_flow": null,
            "grid_area": null,
            "grid_template_columns": null,
            "flex": null,
            "_model_name": "LayoutModel",
            "justify_items": null,
            "grid_row": null,
            "max_height": null,
            "align_content": null,
            "visibility": null,
            "align_self": null,
            "height": null,
            "min_height": null,
            "padding": null,
            "grid_auto_rows": null,
            "grid_gap": null,
            "max_width": null,
            "order": null,
            "_view_module_version": "1.2.0",
            "grid_template_areas": null,
            "object_position": null,
            "object_fit": null,
            "grid_auto_columns": null,
            "margin": null,
            "display": null,
            "left": null
          }
        },
        "49dfd88795a049a28ca72b5554153842": {
          "model_module": "@jupyter-widgets/controls",
          "model_name": "DescriptionStyleModel",
          "model_module_version": "1.5.0",
          "state": {
            "_view_name": "StyleView",
            "_model_name": "DescriptionStyleModel",
            "description_width": "",
            "_view_module": "@jupyter-widgets/base",
            "_model_module_version": "1.5.0",
            "_view_count": null,
            "_view_module_version": "1.2.0",
            "_model_module": "@jupyter-widgets/controls"
          }
        },
        "20344fb583ee4e85bf6c6b4f07e435ff": {
          "model_module": "@jupyter-widgets/base",
          "model_name": "LayoutModel",
          "model_module_version": "1.2.0",
          "state": {
            "_view_name": "LayoutView",
            "grid_template_rows": null,
            "right": null,
            "justify_content": null,
            "_view_module": "@jupyter-widgets/base",
            "overflow": null,
            "_model_module_version": "1.2.0",
            "_view_count": null,
            "flex_flow": null,
            "width": null,
            "min_width": null,
            "border": null,
            "align_items": null,
            "bottom": null,
            "_model_module": "@jupyter-widgets/base",
            "top": null,
            "grid_column": null,
            "overflow_y": null,
            "overflow_x": null,
            "grid_auto_flow": null,
            "grid_area": null,
            "grid_template_columns": null,
            "flex": null,
            "_model_name": "LayoutModel",
            "justify_items": null,
            "grid_row": null,
            "max_height": null,
            "align_content": null,
            "visibility": null,
            "align_self": null,
            "height": null,
            "min_height": null,
            "padding": null,
            "grid_auto_rows": null,
            "grid_gap": null,
            "max_width": null,
            "order": null,
            "_view_module_version": "1.2.0",
            "grid_template_areas": null,
            "object_position": null,
            "object_fit": null,
            "grid_auto_columns": null,
            "margin": null,
            "display": null,
            "left": null
          }
        },
        "cb8b2805e6914146bb8d51b8afeb9a28": {
          "model_module": "@jupyter-widgets/controls",
          "model_name": "HBoxModel",
          "model_module_version": "1.5.0",
          "state": {
            "_view_name": "HBoxView",
            "_dom_classes": [],
            "_model_name": "HBoxModel",
            "_view_module": "@jupyter-widgets/controls",
            "_model_module_version": "1.5.0",
            "_view_count": null,
            "_view_module_version": "1.5.0",
            "box_style": "",
            "layout": "IPY_MODEL_8ea8092c14ed468db30d75809fc31b55",
            "_model_module": "@jupyter-widgets/controls",
            "children": [
              "IPY_MODEL_cc26df2ca84b4b009ac8e1ed972e4b7d",
              "IPY_MODEL_b45c11628356444c8136986bc1972247"
            ]
          }
        },
        "8ea8092c14ed468db30d75809fc31b55": {
          "model_module": "@jupyter-widgets/base",
          "model_name": "LayoutModel",
          "model_module_version": "1.2.0",
          "state": {
            "_view_name": "LayoutView",
            "grid_template_rows": null,
            "right": null,
            "justify_content": null,
            "_view_module": "@jupyter-widgets/base",
            "overflow": null,
            "_model_module_version": "1.2.0",
            "_view_count": null,
            "flex_flow": null,
            "width": null,
            "min_width": null,
            "border": null,
            "align_items": null,
            "bottom": null,
            "_model_module": "@jupyter-widgets/base",
            "top": null,
            "grid_column": null,
            "overflow_y": null,
            "overflow_x": null,
            "grid_auto_flow": null,
            "grid_area": null,
            "grid_template_columns": null,
            "flex": null,
            "_model_name": "LayoutModel",
            "justify_items": null,
            "grid_row": null,
            "max_height": null,
            "align_content": null,
            "visibility": null,
            "align_self": null,
            "height": null,
            "min_height": null,
            "padding": null,
            "grid_auto_rows": null,
            "grid_gap": null,
            "max_width": null,
            "order": null,
            "_view_module_version": "1.2.0",
            "grid_template_areas": null,
            "object_position": null,
            "object_fit": null,
            "grid_auto_columns": null,
            "margin": null,
            "display": null,
            "left": null
          }
        },
        "cc26df2ca84b4b009ac8e1ed972e4b7d": {
          "model_module": "@jupyter-widgets/controls",
          "model_name": "FloatProgressModel",
          "model_module_version": "1.5.0",
          "state": {
            "_view_name": "ProgressView",
            "style": "IPY_MODEL_d77aea5550674508b2b821ddb3eb4cc0",
            "_dom_classes": [],
            "description": "Downloading: ",
            "_model_name": "FloatProgressModel",
            "bar_style": "success",
            "max": 4473,
            "_view_module": "@jupyter-widgets/controls",
            "_model_module_version": "1.5.0",
            "value": 4473,
            "_view_count": null,
            "_view_module_version": "1.5.0",
            "orientation": "horizontal",
            "min": 0,
            "description_tooltip": null,
            "_model_module": "@jupyter-widgets/controls",
            "layout": "IPY_MODEL_d2ca54fdc17645b28e7441162dd02a21"
          }
        },
        "b45c11628356444c8136986bc1972247": {
          "model_module": "@jupyter-widgets/controls",
          "model_name": "HTMLModel",
          "model_module_version": "1.5.0",
          "state": {
            "_view_name": "HTMLView",
            "style": "IPY_MODEL_cfb8008d63104b76a038a0dcc0c8e31b",
            "_dom_classes": [],
            "description": "",
            "_model_name": "HTMLModel",
            "placeholder": "​",
            "_view_module": "@jupyter-widgets/controls",
            "_model_module_version": "1.5.0",
            "value": " 28.7k/? [00:00&lt;00:00, 596kB/s]",
            "_view_count": null,
            "_view_module_version": "1.5.0",
            "description_tooltip": null,
            "_model_module": "@jupyter-widgets/controls",
            "layout": "IPY_MODEL_1abf6045ac674908b4aa1d28ea30a322"
          }
        },
        "d77aea5550674508b2b821ddb3eb4cc0": {
          "model_module": "@jupyter-widgets/controls",
          "model_name": "ProgressStyleModel",
          "model_module_version": "1.5.0",
          "state": {
            "_view_name": "StyleView",
            "_model_name": "ProgressStyleModel",
            "description_width": "initial",
            "_view_module": "@jupyter-widgets/base",
            "_model_module_version": "1.5.0",
            "_view_count": null,
            "_view_module_version": "1.2.0",
            "bar_color": null,
            "_model_module": "@jupyter-widgets/controls"
          }
        },
        "d2ca54fdc17645b28e7441162dd02a21": {
          "model_module": "@jupyter-widgets/base",
          "model_name": "LayoutModel",
          "model_module_version": "1.2.0",
          "state": {
            "_view_name": "LayoutView",
            "grid_template_rows": null,
            "right": null,
            "justify_content": null,
            "_view_module": "@jupyter-widgets/base",
            "overflow": null,
            "_model_module_version": "1.2.0",
            "_view_count": null,
            "flex_flow": null,
            "width": null,
            "min_width": null,
            "border": null,
            "align_items": null,
            "bottom": null,
            "_model_module": "@jupyter-widgets/base",
            "top": null,
            "grid_column": null,
            "overflow_y": null,
            "overflow_x": null,
            "grid_auto_flow": null,
            "grid_area": null,
            "grid_template_columns": null,
            "flex": null,
            "_model_name": "LayoutModel",
            "justify_items": null,
            "grid_row": null,
            "max_height": null,
            "align_content": null,
            "visibility": null,
            "align_self": null,
            "height": null,
            "min_height": null,
            "padding": null,
            "grid_auto_rows": null,
            "grid_gap": null,
            "max_width": null,
            "order": null,
            "_view_module_version": "1.2.0",
            "grid_template_areas": null,
            "object_position": null,
            "object_fit": null,
            "grid_auto_columns": null,
            "margin": null,
            "display": null,
            "left": null
          }
        },
        "cfb8008d63104b76a038a0dcc0c8e31b": {
          "model_module": "@jupyter-widgets/controls",
          "model_name": "DescriptionStyleModel",
          "model_module_version": "1.5.0",
          "state": {
            "_view_name": "StyleView",
            "_model_name": "DescriptionStyleModel",
            "description_width": "",
            "_view_module": "@jupyter-widgets/base",
            "_model_module_version": "1.5.0",
            "_view_count": null,
            "_view_module_version": "1.2.0",
            "_model_module": "@jupyter-widgets/controls"
          }
        },
        "1abf6045ac674908b4aa1d28ea30a322": {
          "model_module": "@jupyter-widgets/base",
          "model_name": "LayoutModel",
          "model_module_version": "1.2.0",
          "state": {
            "_view_name": "LayoutView",
            "grid_template_rows": null,
            "right": null,
            "justify_content": null,
            "_view_module": "@jupyter-widgets/base",
            "overflow": null,
            "_model_module_version": "1.2.0",
            "_view_count": null,
            "flex_flow": null,
            "width": null,
            "min_width": null,
            "border": null,
            "align_items": null,
            "bottom": null,
            "_model_module": "@jupyter-widgets/base",
            "top": null,
            "grid_column": null,
            "overflow_y": null,
            "overflow_x": null,
            "grid_auto_flow": null,
            "grid_area": null,
            "grid_template_columns": null,
            "flex": null,
            "_model_name": "LayoutModel",
            "justify_items": null,
            "grid_row": null,
            "max_height": null,
            "align_content": null,
            "visibility": null,
            "align_self": null,
            "height": null,
            "min_height": null,
            "padding": null,
            "grid_auto_rows": null,
            "grid_gap": null,
            "max_width": null,
            "order": null,
            "_view_module_version": "1.2.0",
            "grid_template_areas": null,
            "object_position": null,
            "object_fit": null,
            "grid_auto_columns": null,
            "margin": null,
            "display": null,
            "left": null
          }
        },
        "7ae1239a29624dcfa9e58ddeab20d1ed": {
          "model_module": "@jupyter-widgets/controls",
          "model_name": "HBoxModel",
          "model_module_version": "1.5.0",
          "state": {
            "_view_name": "HBoxView",
            "_dom_classes": [],
            "_model_name": "HBoxModel",
            "_view_module": "@jupyter-widgets/controls",
            "_model_module_version": "1.5.0",
            "_view_count": null,
            "_view_module_version": "1.5.0",
            "box_style": "",
            "layout": "IPY_MODEL_fe059fda2e1b4445acbf91b3ff27dd6a",
            "_model_module": "@jupyter-widgets/controls",
            "children": [
              "IPY_MODEL_f44eb3c10abb4317b8e778903afc17fb",
              "IPY_MODEL_662bb5cf7c14414090adbee14e9b031d"
            ]
          }
        },
        "fe059fda2e1b4445acbf91b3ff27dd6a": {
          "model_module": "@jupyter-widgets/base",
          "model_name": "LayoutModel",
          "model_module_version": "1.2.0",
          "state": {
            "_view_name": "LayoutView",
            "grid_template_rows": null,
            "right": null,
            "justify_content": null,
            "_view_module": "@jupyter-widgets/base",
            "overflow": null,
            "_model_module_version": "1.2.0",
            "_view_count": null,
            "flex_flow": null,
            "width": null,
            "min_width": null,
            "border": null,
            "align_items": null,
            "bottom": null,
            "_model_module": "@jupyter-widgets/base",
            "top": null,
            "grid_column": null,
            "overflow_y": null,
            "overflow_x": null,
            "grid_auto_flow": null,
            "grid_area": null,
            "grid_template_columns": null,
            "flex": null,
            "_model_name": "LayoutModel",
            "justify_items": null,
            "grid_row": null,
            "max_height": null,
            "align_content": null,
            "visibility": null,
            "align_self": null,
            "height": null,
            "min_height": null,
            "padding": null,
            "grid_auto_rows": null,
            "grid_gap": null,
            "max_width": null,
            "order": null,
            "_view_module_version": "1.2.0",
            "grid_template_areas": null,
            "object_position": null,
            "object_fit": null,
            "grid_auto_columns": null,
            "margin": null,
            "display": null,
            "left": null
          }
        },
        "f44eb3c10abb4317b8e778903afc17fb": {
          "model_module": "@jupyter-widgets/controls",
          "model_name": "FloatProgressModel",
          "model_module_version": "1.5.0",
          "state": {
            "_view_name": "ProgressView",
            "style": "IPY_MODEL_6a7e038ae5294cab8073b9d543226d84",
            "_dom_classes": [],
            "description": "Downloading: 100%",
            "_model_name": "FloatProgressModel",
            "bar_style": "success",
            "max": 7439277,
            "_view_module": "@jupyter-widgets/controls",
            "_model_module_version": "1.5.0",
            "value": 7439277,
            "_view_count": null,
            "_view_module_version": "1.5.0",
            "orientation": "horizontal",
            "min": 0,
            "description_tooltip": null,
            "_model_module": "@jupyter-widgets/controls",
            "layout": "IPY_MODEL_c42e74e414ef431bb6bf1b3e338b6cee"
          }
        },
        "662bb5cf7c14414090adbee14e9b031d": {
          "model_module": "@jupyter-widgets/controls",
          "model_name": "HTMLModel",
          "model_module_version": "1.5.0",
          "state": {
            "_view_name": "HTMLView",
            "style": "IPY_MODEL_7e5f0dea041546459fc8550caec49fe5",
            "_dom_classes": [],
            "description": "",
            "_model_name": "HTMLModel",
            "placeholder": "​",
            "_view_module": "@jupyter-widgets/controls",
            "_model_module_version": "1.5.0",
            "value": " 7.44M/7.44M [00:01&lt;00:00, 4.28MB/s]",
            "_view_count": null,
            "_view_module_version": "1.5.0",
            "description_tooltip": null,
            "_model_module": "@jupyter-widgets/controls",
            "layout": "IPY_MODEL_6ae2b22d1fc3493d816679a54a9fbc2e"
          }
        },
        "6a7e038ae5294cab8073b9d543226d84": {
          "model_module": "@jupyter-widgets/controls",
          "model_name": "ProgressStyleModel",
          "model_module_version": "1.5.0",
          "state": {
            "_view_name": "StyleView",
            "_model_name": "ProgressStyleModel",
            "description_width": "initial",
            "_view_module": "@jupyter-widgets/base",
            "_model_module_version": "1.5.0",
            "_view_count": null,
            "_view_module_version": "1.2.0",
            "bar_color": null,
            "_model_module": "@jupyter-widgets/controls"
          }
        },
        "c42e74e414ef431bb6bf1b3e338b6cee": {
          "model_module": "@jupyter-widgets/base",
          "model_name": "LayoutModel",
          "model_module_version": "1.2.0",
          "state": {
            "_view_name": "LayoutView",
            "grid_template_rows": null,
            "right": null,
            "justify_content": null,
            "_view_module": "@jupyter-widgets/base",
            "overflow": null,
            "_model_module_version": "1.2.0",
            "_view_count": null,
            "flex_flow": null,
            "width": null,
            "min_width": null,
            "border": null,
            "align_items": null,
            "bottom": null,
            "_model_module": "@jupyter-widgets/base",
            "top": null,
            "grid_column": null,
            "overflow_y": null,
            "overflow_x": null,
            "grid_auto_flow": null,
            "grid_area": null,
            "grid_template_columns": null,
            "flex": null,
            "_model_name": "LayoutModel",
            "justify_items": null,
            "grid_row": null,
            "max_height": null,
            "align_content": null,
            "visibility": null,
            "align_self": null,
            "height": null,
            "min_height": null,
            "padding": null,
            "grid_auto_rows": null,
            "grid_gap": null,
            "max_width": null,
            "order": null,
            "_view_module_version": "1.2.0",
            "grid_template_areas": null,
            "object_position": null,
            "object_fit": null,
            "grid_auto_columns": null,
            "margin": null,
            "display": null,
            "left": null
          }
        },
        "7e5f0dea041546459fc8550caec49fe5": {
          "model_module": "@jupyter-widgets/controls",
          "model_name": "DescriptionStyleModel",
          "model_module_version": "1.5.0",
          "state": {
            "_view_name": "StyleView",
            "_model_name": "DescriptionStyleModel",
            "description_width": "",
            "_view_module": "@jupyter-widgets/base",
            "_model_module_version": "1.5.0",
            "_view_count": null,
            "_view_module_version": "1.2.0",
            "_model_module": "@jupyter-widgets/controls"
          }
        },
        "6ae2b22d1fc3493d816679a54a9fbc2e": {
          "model_module": "@jupyter-widgets/base",
          "model_name": "LayoutModel",
          "model_module_version": "1.2.0",
          "state": {
            "_view_name": "LayoutView",
            "grid_template_rows": null,
            "right": null,
            "justify_content": null,
            "_view_module": "@jupyter-widgets/base",
            "overflow": null,
            "_model_module_version": "1.2.0",
            "_view_count": null,
            "flex_flow": null,
            "width": null,
            "min_width": null,
            "border": null,
            "align_items": null,
            "bottom": null,
            "_model_module": "@jupyter-widgets/base",
            "top": null,
            "grid_column": null,
            "overflow_y": null,
            "overflow_x": null,
            "grid_auto_flow": null,
            "grid_area": null,
            "grid_template_columns": null,
            "flex": null,
            "_model_name": "LayoutModel",
            "justify_items": null,
            "grid_row": null,
            "max_height": null,
            "align_content": null,
            "visibility": null,
            "align_self": null,
            "height": null,
            "min_height": null,
            "padding": null,
            "grid_auto_rows": null,
            "grid_gap": null,
            "max_width": null,
            "order": null,
            "_view_module_version": "1.2.0",
            "grid_template_areas": null,
            "object_position": null,
            "object_fit": null,
            "grid_auto_columns": null,
            "margin": null,
            "display": null,
            "left": null
          }
        },
        "c57d849dce92415384290e198e568a10": {
          "model_module": "@jupyter-widgets/controls",
          "model_name": "HBoxModel",
          "model_module_version": "1.5.0",
          "state": {
            "_view_name": "HBoxView",
            "_dom_classes": [],
            "_model_name": "HBoxModel",
            "_view_module": "@jupyter-widgets/controls",
            "_model_module_version": "1.5.0",
            "_view_count": null,
            "_view_module_version": "1.5.0",
            "box_style": "",
            "layout": "IPY_MODEL_074689340c3e46b6be4646c49db5205b",
            "_model_module": "@jupyter-widgets/controls",
            "children": [
              "IPY_MODEL_8bff8fc9c35b4bf3a994ac7edc4a7938",
              "IPY_MODEL_d910059a44a24d85aa3e3f1ec49f0216"
            ]
          }
        },
        "074689340c3e46b6be4646c49db5205b": {
          "model_module": "@jupyter-widgets/base",
          "model_name": "LayoutModel",
          "model_module_version": "1.2.0",
          "state": {
            "_view_name": "LayoutView",
            "grid_template_rows": null,
            "right": null,
            "justify_content": null,
            "_view_module": "@jupyter-widgets/base",
            "overflow": null,
            "_model_module_version": "1.2.0",
            "_view_count": null,
            "flex_flow": null,
            "width": null,
            "min_width": null,
            "border": null,
            "align_items": null,
            "bottom": null,
            "_model_module": "@jupyter-widgets/base",
            "top": null,
            "grid_column": null,
            "overflow_y": null,
            "overflow_x": null,
            "grid_auto_flow": null,
            "grid_area": null,
            "grid_template_columns": null,
            "flex": null,
            "_model_name": "LayoutModel",
            "justify_items": null,
            "grid_row": null,
            "max_height": null,
            "align_content": null,
            "visibility": null,
            "align_self": null,
            "height": null,
            "min_height": null,
            "padding": null,
            "grid_auto_rows": null,
            "grid_gap": null,
            "max_width": null,
            "order": null,
            "_view_module_version": "1.2.0",
            "grid_template_areas": null,
            "object_position": null,
            "object_fit": null,
            "grid_auto_columns": null,
            "margin": null,
            "display": null,
            "left": null
          }
        },
        "8bff8fc9c35b4bf3a994ac7edc4a7938": {
          "model_module": "@jupyter-widgets/controls",
          "model_name": "FloatProgressModel",
          "model_module_version": "1.5.0",
          "state": {
            "_view_name": "ProgressView",
            "style": "IPY_MODEL_91dbff23687b47b9a18f0b7945a97da5",
            "_dom_classes": [],
            "description": "",
            "_model_name": "FloatProgressModel",
            "bar_style": "info",
            "max": 1,
            "_view_module": "@jupyter-widgets/controls",
            "_model_module_version": "1.5.0",
            "value": 1,
            "_view_count": null,
            "_view_module_version": "1.5.0",
            "orientation": "horizontal",
            "min": 0,
            "description_tooltip": null,
            "_model_module": "@jupyter-widgets/controls",
            "layout": "IPY_MODEL_a7be18a6edbe4dd29e1735e371cf9c71"
          }
        },
        "d910059a44a24d85aa3e3f1ec49f0216": {
          "model_module": "@jupyter-widgets/controls",
          "model_name": "HTMLModel",
          "model_module_version": "1.5.0",
          "state": {
            "_view_name": "HTMLView",
            "style": "IPY_MODEL_4218bc8453ae439e9658c7c9fb08411f",
            "_dom_classes": [],
            "description": "",
            "_model_name": "HTMLModel",
            "placeholder": "​",
            "_view_module": "@jupyter-widgets/controls",
            "_model_module_version": "1.5.0",
            "value": "67349 examples [00:02, 31104.64 examples/s]",
            "_view_count": null,
            "_view_module_version": "1.5.0",
            "description_tooltip": null,
            "_model_module": "@jupyter-widgets/controls",
            "layout": "IPY_MODEL_11dc80b530e840feac6b740078e157a8"
          }
        },
        "91dbff23687b47b9a18f0b7945a97da5": {
          "model_module": "@jupyter-widgets/controls",
          "model_name": "ProgressStyleModel",
          "model_module_version": "1.5.0",
          "state": {
            "_view_name": "StyleView",
            "_model_name": "ProgressStyleModel",
            "description_width": "initial",
            "_view_module": "@jupyter-widgets/base",
            "_model_module_version": "1.5.0",
            "_view_count": null,
            "_view_module_version": "1.2.0",
            "bar_color": null,
            "_model_module": "@jupyter-widgets/controls"
          }
        },
        "a7be18a6edbe4dd29e1735e371cf9c71": {
          "model_module": "@jupyter-widgets/base",
          "model_name": "LayoutModel",
          "model_module_version": "1.2.0",
          "state": {
            "_view_name": "LayoutView",
            "grid_template_rows": null,
            "right": null,
            "justify_content": null,
            "_view_module": "@jupyter-widgets/base",
            "overflow": null,
            "_model_module_version": "1.2.0",
            "_view_count": null,
            "flex_flow": null,
            "width": "20px",
            "min_width": null,
            "border": null,
            "align_items": null,
            "bottom": null,
            "_model_module": "@jupyter-widgets/base",
            "top": null,
            "grid_column": null,
            "overflow_y": null,
            "overflow_x": null,
            "grid_auto_flow": null,
            "grid_area": null,
            "grid_template_columns": null,
            "flex": null,
            "_model_name": "LayoutModel",
            "justify_items": null,
            "grid_row": null,
            "max_height": null,
            "align_content": null,
            "visibility": null,
            "align_self": null,
            "height": null,
            "min_height": null,
            "padding": null,
            "grid_auto_rows": null,
            "grid_gap": null,
            "max_width": null,
            "order": null,
            "_view_module_version": "1.2.0",
            "grid_template_areas": null,
            "object_position": null,
            "object_fit": null,
            "grid_auto_columns": null,
            "margin": null,
            "display": null,
            "left": null
          }
        },
        "4218bc8453ae439e9658c7c9fb08411f": {
          "model_module": "@jupyter-widgets/controls",
          "model_name": "DescriptionStyleModel",
          "model_module_version": "1.5.0",
          "state": {
            "_view_name": "StyleView",
            "_model_name": "DescriptionStyleModel",
            "description_width": "",
            "_view_module": "@jupyter-widgets/base",
            "_model_module_version": "1.5.0",
            "_view_count": null,
            "_view_module_version": "1.2.0",
            "_model_module": "@jupyter-widgets/controls"
          }
        },
        "11dc80b530e840feac6b740078e157a8": {
          "model_module": "@jupyter-widgets/base",
          "model_name": "LayoutModel",
          "model_module_version": "1.2.0",
          "state": {
            "_view_name": "LayoutView",
            "grid_template_rows": null,
            "right": null,
            "justify_content": null,
            "_view_module": "@jupyter-widgets/base",
            "overflow": null,
            "_model_module_version": "1.2.0",
            "_view_count": null,
            "flex_flow": null,
            "width": null,
            "min_width": null,
            "border": null,
            "align_items": null,
            "bottom": null,
            "_model_module": "@jupyter-widgets/base",
            "top": null,
            "grid_column": null,
            "overflow_y": null,
            "overflow_x": null,
            "grid_auto_flow": null,
            "grid_area": null,
            "grid_template_columns": null,
            "flex": null,
            "_model_name": "LayoutModel",
            "justify_items": null,
            "grid_row": null,
            "max_height": null,
            "align_content": null,
            "visibility": null,
            "align_self": null,
            "height": null,
            "min_height": null,
            "padding": null,
            "grid_auto_rows": null,
            "grid_gap": null,
            "max_width": null,
            "order": null,
            "_view_module_version": "1.2.0",
            "grid_template_areas": null,
            "object_position": null,
            "object_fit": null,
            "grid_auto_columns": null,
            "margin": null,
            "display": null,
            "left": null
          }
        },
        "d2af1a68909846a3812f2738a757e8aa": {
          "model_module": "@jupyter-widgets/controls",
          "model_name": "HBoxModel",
          "model_module_version": "1.5.0",
          "state": {
            "_view_name": "HBoxView",
            "_dom_classes": [],
            "_model_name": "HBoxModel",
            "_view_module": "@jupyter-widgets/controls",
            "_model_module_version": "1.5.0",
            "_view_count": null,
            "_view_module_version": "1.5.0",
            "box_style": "",
            "layout": "IPY_MODEL_a19868da3ce440418217316b82c08619",
            "_model_module": "@jupyter-widgets/controls",
            "children": [
              "IPY_MODEL_2b12f9a2278047df9bb4af34fd8e6c81",
              "IPY_MODEL_8b47e4849bd84d6cb0298525d3ed9a0c"
            ]
          }
        },
        "a19868da3ce440418217316b82c08619": {
          "model_module": "@jupyter-widgets/base",
          "model_name": "LayoutModel",
          "model_module_version": "1.2.0",
          "state": {
            "_view_name": "LayoutView",
            "grid_template_rows": null,
            "right": null,
            "justify_content": null,
            "_view_module": "@jupyter-widgets/base",
            "overflow": null,
            "_model_module_version": "1.2.0",
            "_view_count": null,
            "flex_flow": null,
            "width": null,
            "min_width": null,
            "border": null,
            "align_items": null,
            "bottom": null,
            "_model_module": "@jupyter-widgets/base",
            "top": null,
            "grid_column": null,
            "overflow_y": null,
            "overflow_x": null,
            "grid_auto_flow": null,
            "grid_area": null,
            "grid_template_columns": null,
            "flex": null,
            "_model_name": "LayoutModel",
            "justify_items": null,
            "grid_row": null,
            "max_height": null,
            "align_content": null,
            "visibility": null,
            "align_self": null,
            "height": null,
            "min_height": null,
            "padding": null,
            "grid_auto_rows": null,
            "grid_gap": null,
            "max_width": null,
            "order": null,
            "_view_module_version": "1.2.0",
            "grid_template_areas": null,
            "object_position": null,
            "object_fit": null,
            "grid_auto_columns": null,
            "margin": null,
            "display": null,
            "left": null
          }
        },
        "2b12f9a2278047df9bb4af34fd8e6c81": {
          "model_module": "@jupyter-widgets/controls",
          "model_name": "FloatProgressModel",
          "model_module_version": "1.5.0",
          "state": {
            "_view_name": "ProgressView",
            "style": "IPY_MODEL_048439bc41c94224b513126d573e5f21",
            "_dom_classes": [],
            "description": "",
            "_model_name": "FloatProgressModel",
            "bar_style": "info",
            "max": 1,
            "_view_module": "@jupyter-widgets/controls",
            "_model_module_version": "1.5.0",
            "value": 1,
            "_view_count": null,
            "_view_module_version": "1.5.0",
            "orientation": "horizontal",
            "min": 0,
            "description_tooltip": null,
            "_model_module": "@jupyter-widgets/controls",
            "layout": "IPY_MODEL_7880e8307ce843899d23004f921ea007"
          }
        },
        "8b47e4849bd84d6cb0298525d3ed9a0c": {
          "model_module": "@jupyter-widgets/controls",
          "model_name": "HTMLModel",
          "model_module_version": "1.5.0",
          "state": {
            "_view_name": "HTMLView",
            "style": "IPY_MODEL_fb40efd358b44335adebcf7b1cb6f363",
            "_dom_classes": [],
            "description": "",
            "_model_name": "HTMLModel",
            "placeholder": "​",
            "_view_module": "@jupyter-widgets/controls",
            "_model_module_version": "1.5.0",
            "value": "872 examples [00:00, 11404.92 examples/s]",
            "_view_count": null,
            "_view_module_version": "1.5.0",
            "description_tooltip": null,
            "_model_module": "@jupyter-widgets/controls",
            "layout": "IPY_MODEL_0896370e13ee475a9a7936056add696a"
          }
        },
        "048439bc41c94224b513126d573e5f21": {
          "model_module": "@jupyter-widgets/controls",
          "model_name": "ProgressStyleModel",
          "model_module_version": "1.5.0",
          "state": {
            "_view_name": "StyleView",
            "_model_name": "ProgressStyleModel",
            "description_width": "initial",
            "_view_module": "@jupyter-widgets/base",
            "_model_module_version": "1.5.0",
            "_view_count": null,
            "_view_module_version": "1.2.0",
            "bar_color": null,
            "_model_module": "@jupyter-widgets/controls"
          }
        },
        "7880e8307ce843899d23004f921ea007": {
          "model_module": "@jupyter-widgets/base",
          "model_name": "LayoutModel",
          "model_module_version": "1.2.0",
          "state": {
            "_view_name": "LayoutView",
            "grid_template_rows": null,
            "right": null,
            "justify_content": null,
            "_view_module": "@jupyter-widgets/base",
            "overflow": null,
            "_model_module_version": "1.2.0",
            "_view_count": null,
            "flex_flow": null,
            "width": "20px",
            "min_width": null,
            "border": null,
            "align_items": null,
            "bottom": null,
            "_model_module": "@jupyter-widgets/base",
            "top": null,
            "grid_column": null,
            "overflow_y": null,
            "overflow_x": null,
            "grid_auto_flow": null,
            "grid_area": null,
            "grid_template_columns": null,
            "flex": null,
            "_model_name": "LayoutModel",
            "justify_items": null,
            "grid_row": null,
            "max_height": null,
            "align_content": null,
            "visibility": null,
            "align_self": null,
            "height": null,
            "min_height": null,
            "padding": null,
            "grid_auto_rows": null,
            "grid_gap": null,
            "max_width": null,
            "order": null,
            "_view_module_version": "1.2.0",
            "grid_template_areas": null,
            "object_position": null,
            "object_fit": null,
            "grid_auto_columns": null,
            "margin": null,
            "display": null,
            "left": null
          }
        },
        "fb40efd358b44335adebcf7b1cb6f363": {
          "model_module": "@jupyter-widgets/controls",
          "model_name": "DescriptionStyleModel",
          "model_module_version": "1.5.0",
          "state": {
            "_view_name": "StyleView",
            "_model_name": "DescriptionStyleModel",
            "description_width": "",
            "_view_module": "@jupyter-widgets/base",
            "_model_module_version": "1.5.0",
            "_view_count": null,
            "_view_module_version": "1.2.0",
            "_model_module": "@jupyter-widgets/controls"
          }
        },
        "0896370e13ee475a9a7936056add696a": {
          "model_module": "@jupyter-widgets/base",
          "model_name": "LayoutModel",
          "model_module_version": "1.2.0",
          "state": {
            "_view_name": "LayoutView",
            "grid_template_rows": null,
            "right": null,
            "justify_content": null,
            "_view_module": "@jupyter-widgets/base",
            "overflow": null,
            "_model_module_version": "1.2.0",
            "_view_count": null,
            "flex_flow": null,
            "width": null,
            "min_width": null,
            "border": null,
            "align_items": null,
            "bottom": null,
            "_model_module": "@jupyter-widgets/base",
            "top": null,
            "grid_column": null,
            "overflow_y": null,
            "overflow_x": null,
            "grid_auto_flow": null,
            "grid_area": null,
            "grid_template_columns": null,
            "flex": null,
            "_model_name": "LayoutModel",
            "justify_items": null,
            "grid_row": null,
            "max_height": null,
            "align_content": null,
            "visibility": null,
            "align_self": null,
            "height": null,
            "min_height": null,
            "padding": null,
            "grid_auto_rows": null,
            "grid_gap": null,
            "max_width": null,
            "order": null,
            "_view_module_version": "1.2.0",
            "grid_template_areas": null,
            "object_position": null,
            "object_fit": null,
            "grid_auto_columns": null,
            "margin": null,
            "display": null,
            "left": null
          }
        },
        "57af794e0e52406cba1b4b7728c7285c": {
          "model_module": "@jupyter-widgets/controls",
          "model_name": "HBoxModel",
          "model_module_version": "1.5.0",
          "state": {
            "_view_name": "HBoxView",
            "_dom_classes": [],
            "_model_name": "HBoxModel",
            "_view_module": "@jupyter-widgets/controls",
            "_model_module_version": "1.5.0",
            "_view_count": null,
            "_view_module_version": "1.5.0",
            "box_style": "",
            "layout": "IPY_MODEL_240024b4c82c4a6c87fe9e5fabe21a2b",
            "_model_module": "@jupyter-widgets/controls",
            "children": [
              "IPY_MODEL_43ef3c19c2dd407e9790e6d76a6ace13",
              "IPY_MODEL_9784fdf60bd14b8f8867bc017e181e0b"
            ]
          }
        },
        "240024b4c82c4a6c87fe9e5fabe21a2b": {
          "model_module": "@jupyter-widgets/base",
          "model_name": "LayoutModel",
          "model_module_version": "1.2.0",
          "state": {
            "_view_name": "LayoutView",
            "grid_template_rows": null,
            "right": null,
            "justify_content": null,
            "_view_module": "@jupyter-widgets/base",
            "overflow": null,
            "_model_module_version": "1.2.0",
            "_view_count": null,
            "flex_flow": null,
            "width": null,
            "min_width": null,
            "border": null,
            "align_items": null,
            "bottom": null,
            "_model_module": "@jupyter-widgets/base",
            "top": null,
            "grid_column": null,
            "overflow_y": null,
            "overflow_x": null,
            "grid_auto_flow": null,
            "grid_area": null,
            "grid_template_columns": null,
            "flex": null,
            "_model_name": "LayoutModel",
            "justify_items": null,
            "grid_row": null,
            "max_height": null,
            "align_content": null,
            "visibility": null,
            "align_self": null,
            "height": null,
            "min_height": null,
            "padding": null,
            "grid_auto_rows": null,
            "grid_gap": null,
            "max_width": null,
            "order": null,
            "_view_module_version": "1.2.0",
            "grid_template_areas": null,
            "object_position": null,
            "object_fit": null,
            "grid_auto_columns": null,
            "margin": null,
            "display": null,
            "left": null
          }
        },
        "43ef3c19c2dd407e9790e6d76a6ace13": {
          "model_module": "@jupyter-widgets/controls",
          "model_name": "FloatProgressModel",
          "model_module_version": "1.5.0",
          "state": {
            "_view_name": "ProgressView",
            "style": "IPY_MODEL_d265d392509647488c3c50ef0123a1aa",
            "_dom_classes": [],
            "description": "",
            "_model_name": "FloatProgressModel",
            "bar_style": "info",
            "max": 1,
            "_view_module": "@jupyter-widgets/controls",
            "_model_module_version": "1.5.0",
            "value": 1,
            "_view_count": null,
            "_view_module_version": "1.5.0",
            "orientation": "horizontal",
            "min": 0,
            "description_tooltip": null,
            "_model_module": "@jupyter-widgets/controls",
            "layout": "IPY_MODEL_b837a4bc87954052919a6697eb36d5c0"
          }
        },
        "9784fdf60bd14b8f8867bc017e181e0b": {
          "model_module": "@jupyter-widgets/controls",
          "model_name": "HTMLModel",
          "model_module_version": "1.5.0",
          "state": {
            "_view_name": "HTMLView",
            "style": "IPY_MODEL_49caec68bd4e49988719af23cc665923",
            "_dom_classes": [],
            "description": "",
            "_model_name": "HTMLModel",
            "placeholder": "​",
            "_view_module": "@jupyter-widgets/controls",
            "_model_module_version": "1.5.0",
            "value": "1821 examples [00:00, 18241.77 examples/s]",
            "_view_count": null,
            "_view_module_version": "1.5.0",
            "description_tooltip": null,
            "_model_module": "@jupyter-widgets/controls",
            "layout": "IPY_MODEL_96cefb4839a749aabf5f4534f4cf8be1"
          }
        },
        "d265d392509647488c3c50ef0123a1aa": {
          "model_module": "@jupyter-widgets/controls",
          "model_name": "ProgressStyleModel",
          "model_module_version": "1.5.0",
          "state": {
            "_view_name": "StyleView",
            "_model_name": "ProgressStyleModel",
            "description_width": "initial",
            "_view_module": "@jupyter-widgets/base",
            "_model_module_version": "1.5.0",
            "_view_count": null,
            "_view_module_version": "1.2.0",
            "bar_color": null,
            "_model_module": "@jupyter-widgets/controls"
          }
        },
        "b837a4bc87954052919a6697eb36d5c0": {
          "model_module": "@jupyter-widgets/base",
          "model_name": "LayoutModel",
          "model_module_version": "1.2.0",
          "state": {
            "_view_name": "LayoutView",
            "grid_template_rows": null,
            "right": null,
            "justify_content": null,
            "_view_module": "@jupyter-widgets/base",
            "overflow": null,
            "_model_module_version": "1.2.0",
            "_view_count": null,
            "flex_flow": null,
            "width": "20px",
            "min_width": null,
            "border": null,
            "align_items": null,
            "bottom": null,
            "_model_module": "@jupyter-widgets/base",
            "top": null,
            "grid_column": null,
            "overflow_y": null,
            "overflow_x": null,
            "grid_auto_flow": null,
            "grid_area": null,
            "grid_template_columns": null,
            "flex": null,
            "_model_name": "LayoutModel",
            "justify_items": null,
            "grid_row": null,
            "max_height": null,
            "align_content": null,
            "visibility": null,
            "align_self": null,
            "height": null,
            "min_height": null,
            "padding": null,
            "grid_auto_rows": null,
            "grid_gap": null,
            "max_width": null,
            "order": null,
            "_view_module_version": "1.2.0",
            "grid_template_areas": null,
            "object_position": null,
            "object_fit": null,
            "grid_auto_columns": null,
            "margin": null,
            "display": null,
            "left": null
          }
        },
        "49caec68bd4e49988719af23cc665923": {
          "model_module": "@jupyter-widgets/controls",
          "model_name": "DescriptionStyleModel",
          "model_module_version": "1.5.0",
          "state": {
            "_view_name": "StyleView",
            "_model_name": "DescriptionStyleModel",
            "description_width": "",
            "_view_module": "@jupyter-widgets/base",
            "_model_module_version": "1.5.0",
            "_view_count": null,
            "_view_module_version": "1.2.0",
            "_model_module": "@jupyter-widgets/controls"
          }
        },
        "96cefb4839a749aabf5f4534f4cf8be1": {
          "model_module": "@jupyter-widgets/base",
          "model_name": "LayoutModel",
          "model_module_version": "1.2.0",
          "state": {
            "_view_name": "LayoutView",
            "grid_template_rows": null,
            "right": null,
            "justify_content": null,
            "_view_module": "@jupyter-widgets/base",
            "overflow": null,
            "_model_module_version": "1.2.0",
            "_view_count": null,
            "flex_flow": null,
            "width": null,
            "min_width": null,
            "border": null,
            "align_items": null,
            "bottom": null,
            "_model_module": "@jupyter-widgets/base",
            "top": null,
            "grid_column": null,
            "overflow_y": null,
            "overflow_x": null,
            "grid_auto_flow": null,
            "grid_area": null,
            "grid_template_columns": null,
            "flex": null,
            "_model_name": "LayoutModel",
            "justify_items": null,
            "grid_row": null,
            "max_height": null,
            "align_content": null,
            "visibility": null,
            "align_self": null,
            "height": null,
            "min_height": null,
            "padding": null,
            "grid_auto_rows": null,
            "grid_gap": null,
            "max_width": null,
            "order": null,
            "_view_module_version": "1.2.0",
            "grid_template_areas": null,
            "object_position": null,
            "object_fit": null,
            "grid_auto_columns": null,
            "margin": null,
            "display": null,
            "left": null
          }
        }
      }
    }
  },
  "nbformat": 4,
  "nbformat_minor": 0
}