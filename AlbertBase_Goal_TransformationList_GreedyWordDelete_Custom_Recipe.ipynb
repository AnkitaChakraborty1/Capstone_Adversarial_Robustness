{
  "cells": [
    {
      "cell_type": "markdown",
      "metadata": {
        "id": "view-in-github",
        "colab_type": "text"
      },
      "source": [
        "<a href=\"https://colab.research.google.com/github/AnkitaChakraborty1/Capstone_Adversarial_Robustness/blob/main/AlbertBase_Goal_TransformationList_GreedyWordDelete_Custom_Recipe.ipynb\" target=\"_parent\"><img src=\"https://colab.research.google.com/assets/colab-badge.svg\" alt=\"Open In Colab\"/></a>"
      ]
    },
    {
      "cell_type": "markdown",
      "source": [
        "##pip installs"
      ],
      "metadata": {
        "id": "qFwazax85sRR"
      }
    },
    {
      "cell_type": "code",
      "execution_count": 1,
      "metadata": {
        "id": "ByQttbCVWzZ9",
        "colab": {
          "base_uri": "https://localhost:8080/"
        },
        "outputId": "9830c34d-7ea1-4b12-a8f1-a7a1304aa907"
      },
      "outputs": [
        {
          "output_type": "stream",
          "name": "stdout",
          "text": [
            "Collecting transformers\n",
            "  Downloading transformers-4.17.0-py3-none-any.whl (3.8 MB)\n",
            "\u001b[K     |████████████████████████████████| 3.8 MB 4.3 MB/s \n",
            "\u001b[?25hRequirement already satisfied: packaging>=20.0 in /usr/local/lib/python3.7/dist-packages (from transformers) (21.3)\n",
            "Requirement already satisfied: regex!=2019.12.17 in /usr/local/lib/python3.7/dist-packages (from transformers) (2019.12.20)\n",
            "Collecting pyyaml>=5.1\n",
            "  Downloading PyYAML-6.0-cp37-cp37m-manylinux_2_5_x86_64.manylinux1_x86_64.manylinux_2_12_x86_64.manylinux2010_x86_64.whl (596 kB)\n",
            "\u001b[K     |████████████████████████████████| 596 kB 60.5 MB/s \n",
            "\u001b[?25hCollecting tokenizers!=0.11.3,>=0.11.1\n",
            "  Downloading tokenizers-0.11.6-cp37-cp37m-manylinux_2_12_x86_64.manylinux2010_x86_64.whl (6.5 MB)\n",
            "\u001b[K     |████████████████████████████████| 6.5 MB 64.3 MB/s \n",
            "\u001b[?25hRequirement already satisfied: tqdm>=4.27 in /usr/local/lib/python3.7/dist-packages (from transformers) (4.63.0)\n",
            "Collecting sacremoses\n",
            "  Downloading sacremoses-0.0.47-py2.py3-none-any.whl (895 kB)\n",
            "\u001b[K     |████████████████████████████████| 895 kB 66.2 MB/s \n",
            "\u001b[?25hRequirement already satisfied: requests in /usr/local/lib/python3.7/dist-packages (from transformers) (2.23.0)\n",
            "Requirement already satisfied: numpy>=1.17 in /usr/local/lib/python3.7/dist-packages (from transformers) (1.21.5)\n",
            "Requirement already satisfied: filelock in /usr/local/lib/python3.7/dist-packages (from transformers) (3.6.0)\n",
            "Collecting huggingface-hub<1.0,>=0.1.0\n",
            "  Downloading huggingface_hub-0.4.0-py3-none-any.whl (67 kB)\n",
            "\u001b[K     |████████████████████████████████| 67 kB 6.7 MB/s \n",
            "\u001b[?25hRequirement already satisfied: importlib-metadata in /usr/local/lib/python3.7/dist-packages (from transformers) (4.11.2)\n",
            "Requirement already satisfied: typing-extensions>=3.7.4.3 in /usr/local/lib/python3.7/dist-packages (from huggingface-hub<1.0,>=0.1.0->transformers) (3.10.0.2)\n",
            "Requirement already satisfied: pyparsing!=3.0.5,>=2.0.2 in /usr/local/lib/python3.7/dist-packages (from packaging>=20.0->transformers) (3.0.7)\n",
            "Requirement already satisfied: zipp>=0.5 in /usr/local/lib/python3.7/dist-packages (from importlib-metadata->transformers) (3.7.0)\n",
            "Requirement already satisfied: urllib3!=1.25.0,!=1.25.1,<1.26,>=1.21.1 in /usr/local/lib/python3.7/dist-packages (from requests->transformers) (1.24.3)\n",
            "Requirement already satisfied: certifi>=2017.4.17 in /usr/local/lib/python3.7/dist-packages (from requests->transformers) (2021.10.8)\n",
            "Requirement already satisfied: chardet<4,>=3.0.2 in /usr/local/lib/python3.7/dist-packages (from requests->transformers) (3.0.4)\n",
            "Requirement already satisfied: idna<3,>=2.5 in /usr/local/lib/python3.7/dist-packages (from requests->transformers) (2.10)\n",
            "Requirement already satisfied: six in /usr/local/lib/python3.7/dist-packages (from sacremoses->transformers) (1.15.0)\n",
            "Requirement already satisfied: joblib in /usr/local/lib/python3.7/dist-packages (from sacremoses->transformers) (1.1.0)\n",
            "Requirement already satisfied: click in /usr/local/lib/python3.7/dist-packages (from sacremoses->transformers) (7.1.2)\n",
            "Installing collected packages: pyyaml, tokenizers, sacremoses, huggingface-hub, transformers\n",
            "  Attempting uninstall: pyyaml\n",
            "    Found existing installation: PyYAML 3.13\n",
            "    Uninstalling PyYAML-3.13:\n",
            "      Successfully uninstalled PyYAML-3.13\n",
            "Successfully installed huggingface-hub-0.4.0 pyyaml-6.0 sacremoses-0.0.47 tokenizers-0.11.6 transformers-4.17.0\n"
          ]
        }
      ],
      "source": [
        "pip install transformers"
      ]
    },
    {
      "cell_type": "code",
      "execution_count": 2,
      "metadata": {
        "id": "Gcp6ZZGvVk_T",
        "colab": {
          "base_uri": "https://localhost:8080/",
          "height": 1000
        },
        "outputId": "e106bdba-0884-421b-b835-878a891c9e56"
      },
      "outputs": [
        {
          "output_type": "stream",
          "name": "stdout",
          "text": [
            "Collecting textattack[tensorflow]\n",
            "  Downloading textattack-0.3.4-py3-none-any.whl (373 kB)\n",
            "\u001b[K     |████████████████████████████████| 373 kB 4.0 MB/s \n",
            "\u001b[?25hRequirement already satisfied: pandas>=1.0.1 in /usr/local/lib/python3.7/dist-packages (from textattack[tensorflow]) (1.3.5)\n",
            "Collecting lemminflect\n",
            "  Downloading lemminflect-0.2.2-py3-none-any.whl (769 kB)\n",
            "\u001b[K     |████████████████████████████████| 769 kB 77.7 MB/s \n",
            "\u001b[?25hCollecting bert-score>=0.3.5\n",
            "  Downloading bert_score-0.3.11-py3-none-any.whl (60 kB)\n",
            "\u001b[K     |████████████████████████████████| 60 kB 9.5 MB/s \n",
            "\u001b[?25hRequirement already satisfied: scipy>=1.4.1 in /usr/local/lib/python3.7/dist-packages (from textattack[tensorflow]) (1.4.1)\n",
            "Requirement already satisfied: transformers>=3.3.0 in /usr/local/lib/python3.7/dist-packages (from textattack[tensorflow]) (4.17.0)\n",
            "Collecting word2number\n",
            "  Downloading word2number-1.1.zip (9.7 kB)\n",
            "Requirement already satisfied: more-itertools in /usr/local/lib/python3.7/dist-packages (from textattack[tensorflow]) (8.12.0)\n",
            "Requirement already satisfied: editdistance in /usr/local/lib/python3.7/dist-packages (from textattack[tensorflow]) (0.5.3)\n",
            "Requirement already satisfied: PySocks!=1.5.7,>=1.5.6 in /usr/local/lib/python3.7/dist-packages (from textattack[tensorflow]) (1.7.1)\n",
            "Requirement already satisfied: numpy>=1.19.2 in /usr/local/lib/python3.7/dist-packages (from textattack[tensorflow]) (1.21.5)\n",
            "Collecting num2words\n",
            "  Downloading num2words-0.5.10-py3-none-any.whl (101 kB)\n",
            "\u001b[K     |████████████████████████████████| 101 kB 15.2 MB/s \n",
            "\u001b[?25hCollecting tqdm<4.50.0,>=4.27\n",
            "  Downloading tqdm-4.49.0-py2.py3-none-any.whl (69 kB)\n",
            "\u001b[K     |████████████████████████████████| 69 kB 10.1 MB/s \n",
            "\u001b[?25hRequirement already satisfied: nltk in /usr/local/lib/python3.7/dist-packages (from textattack[tensorflow]) (3.2.5)\n",
            "Requirement already satisfied: torch!=1.8,>=1.7.0 in /usr/local/lib/python3.7/dist-packages (from textattack[tensorflow]) (1.10.0+cu111)\n",
            "Collecting lru-dict\n",
            "  Downloading lru-dict-1.1.7.tar.gz (10 kB)\n",
            "Collecting flair\n",
            "  Downloading flair-0.10-py3-none-any.whl (322 kB)\n",
            "\u001b[K     |████████████████████████████████| 322 kB 66.6 MB/s \n",
            "\u001b[?25hCollecting language-tool-python\n",
            "  Downloading language_tool_python-2.7.0-py3-none-any.whl (34 kB)\n",
            "Collecting datasets\n",
            "  Downloading datasets-1.18.4-py3-none-any.whl (312 kB)\n",
            "\u001b[K     |████████████████████████████████| 312 kB 68.6 MB/s \n",
            "\u001b[?25hRequirement already satisfied: filelock in /usr/local/lib/python3.7/dist-packages (from textattack[tensorflow]) (3.6.0)\n",
            "Collecting terminaltables\n",
            "  Downloading terminaltables-3.1.10-py2.py3-none-any.whl (15 kB)\n",
            "Collecting tensorflow-text>=2\n",
            "  Downloading tensorflow_text-2.8.1-cp37-cp37m-manylinux_2_12_x86_64.manylinux2010_x86_64.whl (4.9 MB)\n",
            "\u001b[K     |████████████████████████████████| 4.9 MB 71.0 MB/s \n",
            "\u001b[?25hCollecting tensorflow==2.5.0\n",
            "  Downloading tensorflow-2.5.0-cp37-cp37m-manylinux2010_x86_64.whl (454.3 MB)\n",
            "\u001b[K     |████████████████████████████████| 454.3 MB 14 kB/s \n",
            "\u001b[?25hCollecting tensorboardX\n",
            "  Downloading tensorboardX-2.5-py2.py3-none-any.whl (125 kB)\n",
            "\u001b[K     |████████████████████████████████| 125 kB 80.9 MB/s \n",
            "\u001b[?25hRequirement already satisfied: tensorflow-hub in /usr/local/lib/python3.7/dist-packages (from textattack[tensorflow]) (0.12.0)\n",
            "Collecting tensorflow-estimator==2.5.0\n",
            "  Downloading tensorflow_estimator-2.5.0-py2.py3-none-any.whl (462 kB)\n",
            "\u001b[K     |████████████████████████████████| 462 kB 85.1 MB/s \n",
            "\u001b[?25hCollecting typing-extensions~=3.7.4\n",
            "  Downloading typing_extensions-3.7.4.3-py3-none-any.whl (22 kB)\n",
            "Collecting flatbuffers~=1.12.0\n",
            "  Downloading flatbuffers-1.12-py2.py3-none-any.whl (15 kB)\n",
            "Requirement already satisfied: google-pasta~=0.2 in /usr/local/lib/python3.7/dist-packages (from tensorflow==2.5.0->textattack[tensorflow]) (0.2.0)\n",
            "Requirement already satisfied: wheel~=0.35 in /usr/local/lib/python3.7/dist-packages (from tensorflow==2.5.0->textattack[tensorflow]) (0.37.1)\n",
            "Collecting keras-nightly~=2.5.0.dev\n",
            "  Downloading keras_nightly-2.5.0.dev2021032900-py2.py3-none-any.whl (1.2 MB)\n",
            "\u001b[K     |████████████████████████████████| 1.2 MB 60.7 MB/s \n",
            "\u001b[?25hRequirement already satisfied: astunparse~=1.6.3 in /usr/local/lib/python3.7/dist-packages (from tensorflow==2.5.0->textattack[tensorflow]) (1.6.3)\n",
            "Requirement already satisfied: opt-einsum~=3.3.0 in /usr/local/lib/python3.7/dist-packages (from tensorflow==2.5.0->textattack[tensorflow]) (3.3.0)\n",
            "Collecting numpy>=1.19.2\n",
            "  Downloading numpy-1.19.5-cp37-cp37m-manylinux2010_x86_64.whl (14.8 MB)\n",
            "\u001b[K     |████████████████████████████████| 14.8 MB 54.5 MB/s \n",
            "\u001b[?25hCollecting wrapt~=1.12.1\n",
            "  Downloading wrapt-1.12.1.tar.gz (27 kB)\n",
            "Requirement already satisfied: six~=1.15.0 in /usr/local/lib/python3.7/dist-packages (from tensorflow==2.5.0->textattack[tensorflow]) (1.15.0)\n",
            "Requirement already satisfied: tensorboard~=2.5 in /usr/local/lib/python3.7/dist-packages (from tensorflow==2.5.0->textattack[tensorflow]) (2.8.0)\n",
            "Requirement already satisfied: h5py~=3.1.0 in /usr/local/lib/python3.7/dist-packages (from tensorflow==2.5.0->textattack[tensorflow]) (3.1.0)\n",
            "Collecting absl-py~=0.10\n",
            "  Downloading absl_py-0.15.0-py3-none-any.whl (132 kB)\n",
            "\u001b[K     |████████████████████████████████| 132 kB 76.7 MB/s \n",
            "\u001b[?25hRequirement already satisfied: keras-preprocessing~=1.1.2 in /usr/local/lib/python3.7/dist-packages (from tensorflow==2.5.0->textattack[tensorflow]) (1.1.2)\n",
            "Collecting gast==0.4.0\n",
            "  Downloading gast-0.4.0-py3-none-any.whl (9.8 kB)\n",
            "Requirement already satisfied: termcolor~=1.1.0 in /usr/local/lib/python3.7/dist-packages (from tensorflow==2.5.0->textattack[tensorflow]) (1.1.0)\n",
            "Requirement already satisfied: protobuf>=3.9.2 in /usr/local/lib/python3.7/dist-packages (from tensorflow==2.5.0->textattack[tensorflow]) (3.17.3)\n",
            "Collecting grpcio~=1.34.0\n",
            "  Downloading grpcio-1.34.1-cp37-cp37m-manylinux2014_x86_64.whl (4.0 MB)\n",
            "\u001b[K     |████████████████████████████████| 4.0 MB 64.3 MB/s \n",
            "\u001b[?25hRequirement already satisfied: requests in /usr/local/lib/python3.7/dist-packages (from bert-score>=0.3.5->textattack[tensorflow]) (2.23.0)\n",
            "Requirement already satisfied: matplotlib in /usr/local/lib/python3.7/dist-packages (from bert-score>=0.3.5->textattack[tensorflow]) (3.2.2)\n",
            "Requirement already satisfied: packaging>=20.9 in /usr/local/lib/python3.7/dist-packages (from bert-score>=0.3.5->textattack[tensorflow]) (21.3)\n",
            "Requirement already satisfied: cached-property in /usr/local/lib/python3.7/dist-packages (from h5py~=3.1.0->tensorflow==2.5.0->textattack[tensorflow]) (1.5.2)\n",
            "Requirement already satisfied: pyparsing!=3.0.5,>=2.0.2 in /usr/local/lib/python3.7/dist-packages (from packaging>=20.9->bert-score>=0.3.5->textattack[tensorflow]) (3.0.7)\n",
            "Requirement already satisfied: pytz>=2017.3 in /usr/local/lib/python3.7/dist-packages (from pandas>=1.0.1->textattack[tensorflow]) (2018.9)\n",
            "Requirement already satisfied: python-dateutil>=2.7.3 in /usr/local/lib/python3.7/dist-packages (from pandas>=1.0.1->textattack[tensorflow]) (2.8.2)\n",
            "Requirement already satisfied: setuptools>=41.0.0 in /usr/local/lib/python3.7/dist-packages (from tensorboard~=2.5->tensorflow==2.5.0->textattack[tensorflow]) (57.4.0)\n",
            "Requirement already satisfied: tensorboard-data-server<0.7.0,>=0.6.0 in /usr/local/lib/python3.7/dist-packages (from tensorboard~=2.5->tensorflow==2.5.0->textattack[tensorflow]) (0.6.1)\n",
            "Requirement already satisfied: werkzeug>=0.11.15 in /usr/local/lib/python3.7/dist-packages (from tensorboard~=2.5->tensorflow==2.5.0->textattack[tensorflow]) (1.0.1)\n",
            "Requirement already satisfied: tensorboard-plugin-wit>=1.6.0 in /usr/local/lib/python3.7/dist-packages (from tensorboard~=2.5->tensorflow==2.5.0->textattack[tensorflow]) (1.8.1)\n",
            "Requirement already satisfied: markdown>=2.6.8 in /usr/local/lib/python3.7/dist-packages (from tensorboard~=2.5->tensorflow==2.5.0->textattack[tensorflow]) (3.3.6)\n",
            "Requirement already satisfied: google-auth-oauthlib<0.5,>=0.4.1 in /usr/local/lib/python3.7/dist-packages (from tensorboard~=2.5->tensorflow==2.5.0->textattack[tensorflow]) (0.4.6)\n",
            "Requirement already satisfied: google-auth<3,>=1.6.3 in /usr/local/lib/python3.7/dist-packages (from tensorboard~=2.5->tensorflow==2.5.0->textattack[tensorflow]) (1.35.0)\n",
            "Requirement already satisfied: pyasn1-modules>=0.2.1 in /usr/local/lib/python3.7/dist-packages (from google-auth<3,>=1.6.3->tensorboard~=2.5->tensorflow==2.5.0->textattack[tensorflow]) (0.2.8)\n",
            "Requirement already satisfied: rsa<5,>=3.1.4 in /usr/local/lib/python3.7/dist-packages (from google-auth<3,>=1.6.3->tensorboard~=2.5->tensorflow==2.5.0->textattack[tensorflow]) (4.8)\n",
            "Requirement already satisfied: cachetools<5.0,>=2.0.0 in /usr/local/lib/python3.7/dist-packages (from google-auth<3,>=1.6.3->tensorboard~=2.5->tensorflow==2.5.0->textattack[tensorflow]) (4.2.4)\n",
            "Requirement already satisfied: requests-oauthlib>=0.7.0 in /usr/local/lib/python3.7/dist-packages (from google-auth-oauthlib<0.5,>=0.4.1->tensorboard~=2.5->tensorflow==2.5.0->textattack[tensorflow]) (1.3.1)\n",
            "Requirement already satisfied: importlib-metadata>=4.4 in /usr/local/lib/python3.7/dist-packages (from markdown>=2.6.8->tensorboard~=2.5->tensorflow==2.5.0->textattack[tensorflow]) (4.11.2)\n",
            "Requirement already satisfied: zipp>=0.5 in /usr/local/lib/python3.7/dist-packages (from importlib-metadata>=4.4->markdown>=2.6.8->tensorboard~=2.5->tensorflow==2.5.0->textattack[tensorflow]) (3.7.0)\n",
            "Requirement already satisfied: pyasn1<0.5.0,>=0.4.6 in /usr/local/lib/python3.7/dist-packages (from pyasn1-modules>=0.2.1->google-auth<3,>=1.6.3->tensorboard~=2.5->tensorflow==2.5.0->textattack[tensorflow]) (0.4.8)\n",
            "Requirement already satisfied: chardet<4,>=3.0.2 in /usr/local/lib/python3.7/dist-packages (from requests->bert-score>=0.3.5->textattack[tensorflow]) (3.0.4)\n",
            "Requirement already satisfied: urllib3!=1.25.0,!=1.25.1,<1.26,>=1.21.1 in /usr/local/lib/python3.7/dist-packages (from requests->bert-score>=0.3.5->textattack[tensorflow]) (1.24.3)\n",
            "Requirement already satisfied: idna<3,>=2.5 in /usr/local/lib/python3.7/dist-packages (from requests->bert-score>=0.3.5->textattack[tensorflow]) (2.10)\n",
            "Requirement already satisfied: certifi>=2017.4.17 in /usr/local/lib/python3.7/dist-packages (from requests->bert-score>=0.3.5->textattack[tensorflow]) (2021.10.8)\n",
            "Requirement already satisfied: oauthlib>=3.0.0 in /usr/local/lib/python3.7/dist-packages (from requests-oauthlib>=0.7.0->google-auth-oauthlib<0.5,>=0.4.1->tensorboard~=2.5->tensorflow==2.5.0->textattack[tensorflow]) (3.2.0)\n",
            "Collecting tensorflow-text>=2\n",
            "  Downloading tensorflow_text-2.7.3-cp37-cp37m-manylinux2010_x86_64.whl (4.9 MB)\n",
            "\u001b[K     |████████████████████████████████| 4.9 MB 56.6 MB/s \n",
            "\u001b[?25h  Downloading tensorflow_text-2.7.0-cp37-cp37m-manylinux2010_x86_64.whl (4.9 MB)\n",
            "\u001b[K     |████████████████████████████████| 4.9 MB 49.3 MB/s \n",
            "\u001b[?25h  Downloading tensorflow_text-2.6.0-cp37-cp37m-manylinux1_x86_64.whl (4.4 MB)\n",
            "\u001b[K     |████████████████████████████████| 4.4 MB 49.3 MB/s \n",
            "\u001b[?25h  Downloading tensorflow_text-2.5.0-cp37-cp37m-manylinux1_x86_64.whl (4.3 MB)\n",
            "\u001b[K     |████████████████████████████████| 4.3 MB 55.5 MB/s \n",
            "\u001b[?25hRequirement already satisfied: sacremoses in /usr/local/lib/python3.7/dist-packages (from transformers>=3.3.0->textattack[tensorflow]) (0.0.47)\n",
            "Requirement already satisfied: tokenizers!=0.11.3,>=0.11.1 in /usr/local/lib/python3.7/dist-packages (from transformers>=3.3.0->textattack[tensorflow]) (0.11.6)\n",
            "Requirement already satisfied: pyyaml>=5.1 in /usr/local/lib/python3.7/dist-packages (from transformers>=3.3.0->textattack[tensorflow]) (6.0)\n",
            "Requirement already satisfied: huggingface-hub<1.0,>=0.1.0 in /usr/local/lib/python3.7/dist-packages (from transformers>=3.3.0->textattack[tensorflow]) (0.4.0)\n",
            "Requirement already satisfied: regex!=2019.12.17 in /usr/local/lib/python3.7/dist-packages (from transformers>=3.3.0->textattack[tensorflow]) (2019.12.20)\n",
            "Collecting fsspec[http]>=2021.05.0\n",
            "  Downloading fsspec-2022.2.0-py3-none-any.whl (134 kB)\n",
            "\u001b[K     |████████████████████████████████| 134 kB 83.5 MB/s \n",
            "\u001b[?25hCollecting responses<0.19\n",
            "  Downloading responses-0.18.0-py3-none-any.whl (38 kB)\n",
            "Requirement already satisfied: dill in /usr/local/lib/python3.7/dist-packages (from datasets->textattack[tensorflow]) (0.3.4)\n",
            "Collecting aiohttp\n",
            "  Downloading aiohttp-3.8.1-cp37-cp37m-manylinux_2_5_x86_64.manylinux1_x86_64.manylinux_2_12_x86_64.manylinux2010_x86_64.whl (1.1 MB)\n",
            "\u001b[K     |████████████████████████████████| 1.1 MB 75.1 MB/s \n",
            "\u001b[?25hCollecting datasets\n",
            "  Downloading datasets-1.18.3-py3-none-any.whl (311 kB)\n",
            "\u001b[K     |████████████████████████████████| 311 kB 77.5 MB/s \n",
            "\u001b[?25h  Downloading datasets-1.18.2-py3-none-any.whl (312 kB)\n",
            "\u001b[K     |████████████████████████████████| 312 kB 68.0 MB/s \n",
            "\u001b[?25h  Downloading datasets-1.18.1-py3-none-any.whl (311 kB)\n",
            "\u001b[K     |████████████████████████████████| 311 kB 77.0 MB/s \n",
            "\u001b[?25h  Downloading datasets-1.18.0-py3-none-any.whl (311 kB)\n",
            "\u001b[K     |████████████████████████████████| 311 kB 75.7 MB/s \n",
            "\u001b[?25h  Downloading datasets-1.17.0-py3-none-any.whl (306 kB)\n",
            "\u001b[K     |████████████████████████████████| 306 kB 82.6 MB/s \n",
            "\u001b[?25h  Downloading datasets-1.16.1-py3-none-any.whl (298 kB)\n",
            "\u001b[K     |████████████████████████████████| 298 kB 74.5 MB/s \n",
            "\u001b[?25h  Downloading datasets-1.16.0-py3-none-any.whl (298 kB)\n",
            "\u001b[K     |████████████████████████████████| 298 kB 82.4 MB/s \n",
            "\u001b[?25h  Downloading datasets-1.15.1-py3-none-any.whl (290 kB)\n",
            "\u001b[K     |████████████████████████████████| 290 kB 78.5 MB/s \n",
            "\u001b[?25hRequirement already satisfied: pyarrow!=4.0.0,>=1.0.0 in /usr/local/lib/python3.7/dist-packages (from datasets->textattack[tensorflow]) (6.0.1)\n",
            "  Downloading datasets-1.15.0-py3-none-any.whl (290 kB)\n",
            "\u001b[K     |████████████████████████████████| 290 kB 89.0 MB/s \n",
            "\u001b[?25h  Downloading datasets-1.14.0-py3-none-any.whl (290 kB)\n",
            "\u001b[K     |████████████████████████████████| 290 kB 84.8 MB/s \n",
            "\u001b[?25h  Downloading datasets-1.13.3-py3-none-any.whl (287 kB)\n",
            "\u001b[K     |████████████████████████████████| 287 kB 73.4 MB/s \n",
            "\u001b[?25h  Downloading datasets-1.13.2-py3-none-any.whl (287 kB)\n",
            "\u001b[K     |████████████████████████████████| 287 kB 72.8 MB/s \n",
            "\u001b[?25h  Downloading datasets-1.13.1-py3-none-any.whl (287 kB)\n",
            "\u001b[K     |████████████████████████████████| 287 kB 70.2 MB/s \n",
            "\u001b[?25h  Downloading datasets-1.13.0-py3-none-any.whl (285 kB)\n",
            "\u001b[K     |████████████████████████████████| 285 kB 73.3 MB/s \n",
            "\u001b[?25h  Downloading datasets-1.12.1-py3-none-any.whl (270 kB)\n",
            "\u001b[K     |████████████████████████████████| 270 kB 86.7 MB/s \n",
            "\u001b[?25h  Downloading datasets-1.12.0-py3-none-any.whl (269 kB)\n",
            "\u001b[K     |████████████████████████████████| 269 kB 78.1 MB/s \n",
            "\u001b[?25h  Downloading datasets-1.11.0-py3-none-any.whl (264 kB)\n",
            "\u001b[K     |████████████████████████████████| 264 kB 89.2 MB/s \n",
            "\u001b[?25hCollecting xxhash\n",
            "  Downloading xxhash-3.0.0-cp37-cp37m-manylinux_2_17_x86_64.manylinux2014_x86_64.whl (212 kB)\n",
            "\u001b[K     |████████████████████████████████| 212 kB 97.0 MB/s \n",
            "\u001b[?25hRequirement already satisfied: multiprocess in /usr/local/lib/python3.7/dist-packages (from datasets->textattack[tensorflow]) (0.70.12.2)\n",
            "Collecting datasets\n",
            "  Downloading datasets-1.10.2-py3-none-any.whl (542 kB)\n",
            "\u001b[K     |████████████████████████████████| 542 kB 94.5 MB/s \n",
            "\u001b[?25h  Downloading datasets-1.10.1-py3-none-any.whl (542 kB)\n",
            "\u001b[K     |████████████████████████████████| 542 kB 55.2 MB/s \n",
            "\u001b[?25h  Downloading datasets-1.10.0-py3-none-any.whl (542 kB)\n",
            "\u001b[K     |████████████████████████████████| 542 kB 73.6 MB/s \n",
            "\u001b[?25h  Downloading datasets-1.9.0-py3-none-any.whl (262 kB)\n",
            "\u001b[K     |████████████████████████████████| 262 kB 83.6 MB/s \n",
            "\u001b[?25h  Downloading datasets-1.8.0-py3-none-any.whl (237 kB)\n",
            "\u001b[K     |████████████████████████████████| 237 kB 93.3 MB/s \n",
            "\u001b[?25hCollecting pyarrow<4.0.0,>=1.0.0\n",
            "  Downloading pyarrow-3.0.0-cp37-cp37m-manylinux2014_x86_64.whl (20.7 MB)\n",
            "\u001b[K     |████████████████████████████████| 20.7 MB 80.2 MB/s \n",
            "\u001b[?25hCollecting datasets\n",
            "  Downloading datasets-1.7.0-py3-none-any.whl (234 kB)\n",
            "\u001b[K     |████████████████████████████████| 234 kB 85.3 MB/s \n",
            "\u001b[?25h  Downloading datasets-1.6.2-py3-none-any.whl (221 kB)\n",
            "\u001b[K     |████████████████████████████████| 221 kB 86.7 MB/s \n",
            "\u001b[?25h  Downloading datasets-1.6.1-py3-none-any.whl (220 kB)\n",
            "\u001b[K     |████████████████████████████████| 220 kB 64.4 MB/s \n",
            "\u001b[?25h  Downloading datasets-1.6.0-py3-none-any.whl (202 kB)\n",
            "\u001b[K     |████████████████████████████████| 202 kB 85.4 MB/s \n",
            "\u001b[?25h  Downloading datasets-1.5.0-py3-none-any.whl (192 kB)\n",
            "\u001b[K     |████████████████████████████████| 192 kB 81.1 MB/s \n",
            "\u001b[?25h  Downloading datasets-1.4.1-py3-none-any.whl (186 kB)\n",
            "\u001b[K     |████████████████████████████████| 186 kB 96.2 MB/s \n",
            "\u001b[?25h  Downloading datasets-1.4.0-py3-none-any.whl (186 kB)\n",
            "\u001b[K     |████████████████████████████████| 186 kB 73.0 MB/s \n",
            "\u001b[?25h  Downloading datasets-1.3.0-py3-none-any.whl (181 kB)\n",
            "\u001b[K     |████████████████████████████████| 181 kB 83.1 MB/s \n",
            "\u001b[?25h  Downloading datasets-1.2.1-py3-none-any.whl (159 kB)\n",
            "\u001b[K     |████████████████████████████████| 159 kB 91.0 MB/s \n",
            "\u001b[?25hCollecting segtok>=1.5.7\n",
            "  Downloading segtok-1.5.11-py3-none-any.whl (24 kB)\n",
            "Collecting more-itertools\n",
            "  Downloading more_itertools-8.8.0-py3-none-any.whl (48 kB)\n",
            "\u001b[K     |████████████████████████████████| 48 kB 7.3 MB/s \n",
            "\u001b[?25hCollecting mpld3==0.3\n",
            "  Downloading mpld3-0.3.tar.gz (788 kB)\n",
            "\u001b[K     |████████████████████████████████| 788 kB 86.2 MB/s \n",
            "\u001b[?25hRequirement already satisfied: scikit-learn>=0.21.3 in /usr/local/lib/python3.7/dist-packages (from flair->textattack[tensorflow]) (1.0.2)\n",
            "Requirement already satisfied: gensim>=3.4.0 in /usr/local/lib/python3.7/dist-packages (from flair->textattack[tensorflow]) (3.6.0)\n",
            "Collecting wikipedia-api\n",
            "  Downloading Wikipedia-API-0.5.4.tar.gz (18 kB)\n",
            "Collecting conllu>=4.0\n",
            "  Downloading conllu-4.4.1-py2.py3-none-any.whl (15 kB)\n",
            "Collecting sentencepiece==0.1.95\n",
            "  Downloading sentencepiece-0.1.95-cp37-cp37m-manylinux2014_x86_64.whl (1.2 MB)\n",
            "\u001b[K     |████████████████████████████████| 1.2 MB 75.8 MB/s \n",
            "\u001b[?25hCollecting langdetect\n",
            "  Downloading langdetect-1.0.9.tar.gz (981 kB)\n",
            "\u001b[K     |████████████████████████████████| 981 kB 85.1 MB/s \n",
            "\u001b[?25hCollecting bpemb>=0.3.2\n",
            "\u001b[33m  WARNING: Retrying (Retry(total=4, connect=None, read=None, redirect=None, status=None)) after connection broken by 'ProtocolError('Connection aborted.', ConnectionResetError(104, 'Connection reset by peer'))': /packages/f2/6f/9191b85109772636a8f8accb122900c34db26c091d2793218aa94954524c/bpemb-0.3.3-py3-none-any.whl\u001b[0m\n",
            "  Downloading bpemb-0.3.3-py3-none-any.whl (19 kB)\n",
            "Collecting konoha<5.0.0,>=4.0.0\n",
            "  Downloading konoha-4.6.5-py3-none-any.whl (20 kB)\n",
            "Requirement already satisfied: lxml in /usr/local/lib/python3.7/dist-packages (from flair->textattack[tensorflow]) (4.2.6)\n",
            "Collecting gdown==3.12.2\n",
            "  Downloading gdown-3.12.2.tar.gz (8.2 kB)\n",
            "  Installing build dependencies ... \u001b[?25l\u001b[?25hdone\n",
            "  Getting requirements to build wheel ... \u001b[?25l\u001b[?25hdone\n",
            "    Preparing wheel metadata ... \u001b[?25l\u001b[?25hdone\n",
            "Collecting janome\n",
            "  Downloading Janome-0.4.2-py2.py3-none-any.whl (19.7 MB)\n",
            "\u001b[K     |████████████████████████████████| 19.7 MB 64 kB/s \n",
            "\u001b[?25hCollecting sqlitedict>=1.6.0\n",
            "  Downloading sqlitedict-2.0.0.tar.gz (46 kB)\n",
            "\u001b[K     |████████████████████████████████| 46 kB 5.0 MB/s \n",
            "\u001b[?25hRequirement already satisfied: tabulate in /usr/local/lib/python3.7/dist-packages (from flair->textattack[tensorflow]) (0.8.9)\n",
            "Collecting ftfy\n",
            "  Downloading ftfy-6.1.1-py3-none-any.whl (53 kB)\n",
            "\u001b[K     |████████████████████████████████| 53 kB 2.3 MB/s \n",
            "\u001b[?25hCollecting deprecated>=1.2.4\n",
            "  Downloading Deprecated-1.2.13-py2.py3-none-any.whl (9.6 kB)\n",
            "Requirement already satisfied: smart-open>=1.2.1 in /usr/local/lib/python3.7/dist-packages (from gensim>=3.4.0->flair->textattack[tensorflow]) (5.2.1)\n",
            "Collecting konoha<5.0.0,>=4.0.0\n",
            "  Downloading konoha-4.6.4-py3-none-any.whl (19 kB)\n",
            "  Downloading konoha-4.6.3-py3-none-any.whl (19 kB)\n",
            "Collecting overrides<4.0.0,>=3.0.0\n",
            "  Downloading overrides-3.1.0.tar.gz (11 kB)\n",
            "Requirement already satisfied: kiwisolver>=1.0.1 in /usr/local/lib/python3.7/dist-packages (from matplotlib->bert-score>=0.3.5->textattack[tensorflow]) (1.3.2)\n",
            "Requirement already satisfied: cycler>=0.10 in /usr/local/lib/python3.7/dist-packages (from matplotlib->bert-score>=0.3.5->textattack[tensorflow]) (0.11.0)\n",
            "Requirement already satisfied: joblib>=0.11 in /usr/local/lib/python3.7/dist-packages (from scikit-learn>=0.21.3->flair->textattack[tensorflow]) (1.1.0)\n",
            "Requirement already satisfied: threadpoolctl>=2.0.0 in /usr/local/lib/python3.7/dist-packages (from scikit-learn>=0.21.3->flair->textattack[tensorflow]) (3.1.0)\n",
            "Requirement already satisfied: wcwidth>=0.2.5 in /usr/local/lib/python3.7/dist-packages (from ftfy->flair->textattack[tensorflow]) (0.2.5)\n",
            "Requirement already satisfied: docopt>=0.6.2 in /usr/local/lib/python3.7/dist-packages (from num2words->textattack[tensorflow]) (0.6.2)\n",
            "Requirement already satisfied: click in /usr/local/lib/python3.7/dist-packages (from sacremoses->transformers>=3.3.0->textattack[tensorflow]) (7.1.2)\n",
            "Building wheels for collected packages: wrapt, gdown, mpld3, overrides, sqlitedict, langdetect, lru-dict, wikipedia-api, word2number\n",
            "  Building wheel for wrapt (setup.py) ... \u001b[?25l\u001b[?25hdone\n",
            "  Created wheel for wrapt: filename=wrapt-1.12.1-cp37-cp37m-linux_x86_64.whl size=68717 sha256=0711ac7768729e5efcbb1443c1205138a369831a65eaa758f51af936e53a19ea\n",
            "  Stored in directory: /root/.cache/pip/wheels/62/76/4c/aa25851149f3f6d9785f6c869387ad82b3fd37582fa8147ac6\n",
            "  Building wheel for gdown (PEP 517) ... \u001b[?25l\u001b[?25hdone\n",
            "  Created wheel for gdown: filename=gdown-3.12.2-py3-none-any.whl size=9692 sha256=57c02a26deb37a8f35428429b34c370a2017a83f84d37a30d899677f89cfaa0f\n",
            "  Stored in directory: /root/.cache/pip/wheels/ba/e0/7e/726e872a53f7358b4b96a9975b04e98113b005cd8609a63abc\n",
            "  Building wheel for mpld3 (setup.py) ... \u001b[?25l\u001b[?25hdone\n",
            "  Created wheel for mpld3: filename=mpld3-0.3-py3-none-any.whl size=116702 sha256=489361d8f1fa0aee08e8757a60073fda610611c7e2fe3d63258c67257ab727f6\n",
            "  Stored in directory: /root/.cache/pip/wheels/26/70/6a/1c79e59951a41b4045497da187b2724f5659ca64033cf4548e\n",
            "  Building wheel for overrides (setup.py) ... \u001b[?25l\u001b[?25hdone\n",
            "  Created wheel for overrides: filename=overrides-3.1.0-py3-none-any.whl size=10187 sha256=d7789c94441401db6e008480da7b5294739079ea33647a75c316fb479da7097b\n",
            "  Stored in directory: /root/.cache/pip/wheels/3a/0d/38/01a9bc6e20dcfaf0a6a7b552d03137558ba1c38aea47644682\n",
            "  Building wheel for sqlitedict (setup.py) ... \u001b[?25l\u001b[?25hdone\n",
            "  Created wheel for sqlitedict: filename=sqlitedict-2.0.0-py3-none-any.whl size=15736 sha256=47d48de7bf3e26fd73c36a8c5481ef12cf06dc937aeca0b4634592763cfdc6b2\n",
            "  Stored in directory: /root/.cache/pip/wheels/96/dd/2e/0ed4a25cb73fc30c7ea8d10b50acb7226175736067e40a7ea3\n",
            "  Building wheel for langdetect (setup.py) ... \u001b[?25l\u001b[?25hdone\n",
            "  Created wheel for langdetect: filename=langdetect-1.0.9-py3-none-any.whl size=993242 sha256=0dc828bd41f3d262e6934b7a8623a9e093b8a076be1ebb89caad2beaf34bba09\n",
            "  Stored in directory: /root/.cache/pip/wheels/c5/96/8a/f90c59ed25d75e50a8c10a1b1c2d4c402e4dacfa87f3aff36a\n",
            "  Building wheel for lru-dict (setup.py) ... \u001b[?25l\u001b[?25hdone\n",
            "  Created wheel for lru-dict: filename=lru_dict-1.1.7-cp37-cp37m-linux_x86_64.whl size=28412 sha256=0790947b58f930e3d02839e9f0106234aee009e2d88f02e63c9dcba43898fd38\n",
            "  Stored in directory: /root/.cache/pip/wheels/9d/0b/4e/aa8fec9833090cd52bcd76f92f9d95e1ee7b915c12093663b4\n",
            "  Building wheel for wikipedia-api (setup.py) ... \u001b[?25l\u001b[?25hdone\n",
            "  Created wheel for wikipedia-api: filename=Wikipedia_API-0.5.4-py3-none-any.whl size=13477 sha256=25d3e633f87885eb849601eea6612fb74bc83eca7be2b3ec30c7db7a3705a8b8\n",
            "  Stored in directory: /root/.cache/pip/wheels/d3/24/56/58ba93cf78be162451144e7a9889603f437976ef1ae7013d04\n",
            "  Building wheel for word2number (setup.py) ... \u001b[?25l\u001b[?25hdone\n",
            "  Created wheel for word2number: filename=word2number-1.1-py3-none-any.whl size=5582 sha256=e6507b862fd01dba35418444a46c54ae04e51f6d33ad98960fae4c9dfde6cf06\n",
            "  Stored in directory: /root/.cache/pip/wheels/4b/c3/77/a5f48aeb0d3efb7cd5ad61cbd3da30bbf9ffc9662b07c9f879\n",
            "Successfully built wrapt gdown mpld3 overrides sqlitedict langdetect lru-dict wikipedia-api word2number\n",
            "Installing collected packages: typing-extensions, numpy, tqdm, wrapt, sentencepiece, overrides, grpcio, absl-py, xxhash, wikipedia-api, tensorflow-estimator, sqlitedict, segtok, mpld3, more-itertools, langdetect, konoha, keras-nightly, janome, gdown, gast, ftfy, flatbuffers, deprecated, conllu, bpemb, word2number, terminaltables, tensorflow, num2words, lru-dict, lemminflect, language-tool-python, flair, datasets, bert-score, textattack, tensorflow-text, tensorboardX\n",
            "  Attempting uninstall: typing-extensions\n",
            "    Found existing installation: typing-extensions 3.10.0.2\n",
            "    Uninstalling typing-extensions-3.10.0.2:\n",
            "      Successfully uninstalled typing-extensions-3.10.0.2\n",
            "  Attempting uninstall: numpy\n",
            "    Found existing installation: numpy 1.21.5\n",
            "    Uninstalling numpy-1.21.5:\n",
            "      Successfully uninstalled numpy-1.21.5\n",
            "  Attempting uninstall: tqdm\n",
            "    Found existing installation: tqdm 4.63.0\n",
            "    Uninstalling tqdm-4.63.0:\n",
            "      Successfully uninstalled tqdm-4.63.0\n",
            "  Attempting uninstall: wrapt\n",
            "    Found existing installation: wrapt 1.13.3\n",
            "    Uninstalling wrapt-1.13.3:\n",
            "      Successfully uninstalled wrapt-1.13.3\n",
            "  Attempting uninstall: grpcio\n",
            "    Found existing installation: grpcio 1.44.0\n",
            "    Uninstalling grpcio-1.44.0:\n",
            "      Successfully uninstalled grpcio-1.44.0\n",
            "  Attempting uninstall: absl-py\n",
            "    Found existing installation: absl-py 1.0.0\n",
            "    Uninstalling absl-py-1.0.0:\n",
            "      Successfully uninstalled absl-py-1.0.0\n",
            "  Attempting uninstall: tensorflow-estimator\n",
            "    Found existing installation: tensorflow-estimator 2.8.0\n",
            "    Uninstalling tensorflow-estimator-2.8.0:\n",
            "      Successfully uninstalled tensorflow-estimator-2.8.0\n",
            "  Attempting uninstall: more-itertools\n",
            "    Found existing installation: more-itertools 8.12.0\n",
            "    Uninstalling more-itertools-8.12.0:\n",
            "      Successfully uninstalled more-itertools-8.12.0\n",
            "  Attempting uninstall: gdown\n",
            "    Found existing installation: gdown 4.2.2\n",
            "    Uninstalling gdown-4.2.2:\n",
            "      Successfully uninstalled gdown-4.2.2\n",
            "  Attempting uninstall: gast\n",
            "    Found existing installation: gast 0.5.3\n",
            "    Uninstalling gast-0.5.3:\n",
            "      Successfully uninstalled gast-0.5.3\n",
            "  Attempting uninstall: flatbuffers\n",
            "    Found existing installation: flatbuffers 2.0\n",
            "    Uninstalling flatbuffers-2.0:\n",
            "      Successfully uninstalled flatbuffers-2.0\n",
            "  Attempting uninstall: tensorflow\n",
            "    Found existing installation: tensorflow 2.8.0\n",
            "    Uninstalling tensorflow-2.8.0:\n",
            "      Successfully uninstalled tensorflow-2.8.0\n",
            "\u001b[31mERROR: pip's dependency resolver does not currently take into account all the packages that are installed. This behaviour is the source of the following dependency conflicts.\n",
            "datascience 0.10.6 requires folium==0.2.1, but you have folium 0.8.3 which is incompatible.\n",
            "albumentations 0.1.12 requires imgaug<0.2.7,>=0.2.5, but you have imgaug 0.2.9 which is incompatible.\u001b[0m\n",
            "Successfully installed absl-py-0.15.0 bert-score-0.3.11 bpemb-0.3.3 conllu-4.4.1 datasets-1.2.1 deprecated-1.2.13 flair-0.10 flatbuffers-1.12 ftfy-6.1.1 gast-0.4.0 gdown-3.12.2 grpcio-1.34.1 janome-0.4.2 keras-nightly-2.5.0.dev2021032900 konoha-4.6.3 langdetect-1.0.9 language-tool-python-2.7.0 lemminflect-0.2.2 lru-dict-1.1.7 more-itertools-8.8.0 mpld3-0.3 num2words-0.5.10 numpy-1.19.5 overrides-3.1.0 segtok-1.5.11 sentencepiece-0.1.95 sqlitedict-2.0.0 tensorboardX-2.5 tensorflow-2.5.0 tensorflow-estimator-2.5.0 tensorflow-text-2.5.0 terminaltables-3.1.10 textattack-0.3.4 tqdm-4.49.0 typing-extensions-3.7.4.3 wikipedia-api-0.5.4 word2number-1.1 wrapt-1.12.1 xxhash-3.0.0\n"
          ]
        },
        {
          "output_type": "display_data",
          "data": {
            "application/vnd.colab-display-data+json": {
              "pip_warning": {
                "packages": [
                  "numpy"
                ]
              }
            }
          },
          "metadata": {}
        }
      ],
      "source": [
        "!pip3 install textattack[tensorflow]"
      ]
    },
    {
      "cell_type": "code",
      "execution_count": 3,
      "metadata": {
        "colab": {
          "base_uri": "https://localhost:8080/",
          "height": 346
        },
        "id": "KNCInb7pfKEt",
        "outputId": "7d3b4f45-7a43-46c5-e0c4-131cf71d8bbe"
      },
      "outputs": [
        {
          "output_type": "stream",
          "name": "stdout",
          "text": [
            "Requirement already satisfied: numpy in /usr/local/lib/python3.7/dist-packages (1.19.5)\n",
            "Collecting numpy\n",
            "  Downloading numpy-1.21.5-cp37-cp37m-manylinux_2_12_x86_64.manylinux2010_x86_64.whl (15.7 MB)\n",
            "\u001b[K     |████████████████████████████████| 15.7 MB 4.2 MB/s \n",
            "\u001b[?25hInstalling collected packages: numpy\n",
            "  Attempting uninstall: numpy\n",
            "    Found existing installation: numpy 1.19.5\n",
            "    Uninstalling numpy-1.19.5:\n",
            "      Successfully uninstalled numpy-1.19.5\n",
            "\u001b[31mERROR: pip's dependency resolver does not currently take into account all the packages that are installed. This behaviour is the source of the following dependency conflicts.\n",
            "tensorflow 2.5.0 requires numpy~=1.19.2, but you have numpy 1.21.5 which is incompatible.\n",
            "datascience 0.10.6 requires folium==0.2.1, but you have folium 0.8.3 which is incompatible.\n",
            "albumentations 0.1.12 requires imgaug<0.2.7,>=0.2.5, but you have imgaug 0.2.9 which is incompatible.\u001b[0m\n",
            "Successfully installed numpy-1.21.5\n"
          ]
        },
        {
          "output_type": "display_data",
          "data": {
            "application/vnd.colab-display-data+json": {
              "pip_warning": {
                "packages": [
                  "numpy"
                ]
              }
            }
          },
          "metadata": {}
        }
      ],
      "source": [
        "pip install --upgrade numpy"
      ]
    },
    {
      "cell_type": "code",
      "execution_count": 4,
      "metadata": {
        "colab": {
          "base_uri": "https://localhost:8080/"
        },
        "id": "jNCaMfyjeEcP",
        "outputId": "aaa979dc-50a3-4e13-93ac-6b1d22dcad85"
      },
      "outputs": [
        {
          "output_type": "stream",
          "name": "stdout",
          "text": [
            "Collecting folium==0.2.1\n",
            "  Downloading folium-0.2.1.tar.gz (69 kB)\n",
            "\u001b[?25l\r\u001b[K     |████▊                           | 10 kB 32.4 MB/s eta 0:00:01\r\u001b[K     |█████████▍                      | 20 kB 7.8 MB/s eta 0:00:01\r\u001b[K     |██████████████                  | 30 kB 6.9 MB/s eta 0:00:01\r\u001b[K     |██████████████████▊             | 40 kB 3.6 MB/s eta 0:00:01\r\u001b[K     |███████████████████████▍        | 51 kB 3.6 MB/s eta 0:00:01\r\u001b[K     |████████████████████████████    | 61 kB 4.2 MB/s eta 0:00:01\r\u001b[K     |████████████████████████████████| 69 kB 3.3 MB/s \n",
            "\u001b[?25hRequirement already satisfied: Jinja2 in /usr/local/lib/python3.7/dist-packages (from folium==0.2.1) (2.11.3)\n",
            "Requirement already satisfied: MarkupSafe>=0.23 in /usr/local/lib/python3.7/dist-packages (from Jinja2->folium==0.2.1) (2.0.1)\n",
            "Building wheels for collected packages: folium\n",
            "  Building wheel for folium (setup.py) ... \u001b[?25l\u001b[?25hdone\n",
            "  Created wheel for folium: filename=folium-0.2.1-py3-none-any.whl size=79808 sha256=0bbb8ad3d09124b07c1e254c055d3d60b51029f99a1f39eea5e8cfa71dfdf7d8\n",
            "  Stored in directory: /root/.cache/pip/wheels/9a/f0/3a/3f79a6914ff5affaf50cabad60c9f4d565283283c97f0bdccf\n",
            "Successfully built folium\n",
            "Installing collected packages: folium\n",
            "  Attempting uninstall: folium\n",
            "    Found existing installation: folium 0.8.3\n",
            "    Uninstalling folium-0.8.3:\n",
            "      Successfully uninstalled folium-0.8.3\n",
            "Successfully installed folium-0.2.1\n"
          ]
        }
      ],
      "source": [
        "pip install folium==0.2.1"
      ]
    },
    {
      "cell_type": "markdown",
      "metadata": {
        "id": "lrq7Mk7seR2N"
      },
      "source": [
        "## Imports"
      ]
    },
    {
      "cell_type": "code",
      "source": [
        "from textattack import AttackArgs, Attacker\n",
        "from textattack.datasets import HuggingFaceDataset\n",
        "from textattack.models.wrappers import ModelWrapper\n",
        "from textattack import Attack\n",
        "from textattack.constraints.pre_transformation import (\n",
        "        InputColumnModification,\n",
        "        MaxModificationRate,\n",
        "        RepeatModification,\n",
        "        StopwordModification,\n",
        "        MaxWordIndexModification\n",
        "                )\n",
        "from textattack.constraints.semantics import WordEmbeddingDistance\n",
        "from textattack.goal_functions import UntargetedClassification,InputReduction,TargetedClassification\n",
        "from textattack.search_methods import GreedyWordSwapWIR\n",
        "from textattack.transformations import (\n",
        "   \n",
        "    WordSwapNeighboringCharacterSwap,\n",
        "    WordSwapQWERTY,\n",
        "    WordSwapWordNet,\n",
        "    WordSwapRandomCharacterDeletion,\n",
        "    WordSwapRandomCharacterInsertion,\n",
        "    WordSwapRandomCharacterSubstitution,\n",
        "    WordSwapHomoglyphSwap,\n",
        "    WordSwapEmbedding,\n",
        "    WordSwapHowNet,\n",
        "    WordSwapInflections,\n",
        "    WordDeletion,\n",
        "    WordSwapGradientBased,\n",
        "    WordSwapExtend,\n",
        "    WordSwapContract,\n",
        "    WordSwapChangeName,\n",
        "    WordSwapChangeNumber,\n",
        "    WordSwapChangeLocation,\n",
        "    WordSwapRandomCharacterSubstitution,\n",
        "    WordSwapMaskedLM,\n",
        "    WordInsertionMaskedLM,\n",
        "    WordMergeMaskedLM,\n",
        ")\n",
        "from textattack.constraints.overlap import LevenshteinEditDistance\n",
        "#from textattack.attack_recipe import AttackRecipe\n",
        "\n",
        "from abc import ABC, abstractmethod\n",
        "from tqdm import tqdm # tqdm provides us a nice progress bar.\n",
        "from textattack.loggers import CSVLogger # tracks a dataframe for us.\n",
        "from IPython.core.display import display, HTML"
      ],
      "metadata": {
        "id": "qmQ9-Bl74Ihv",
        "colab": {
          "base_uri": "https://localhost:8080/"
        },
        "outputId": "bd67a8b3-715c-4841-83e1-58ccc8fdf1b3"
      },
      "execution_count": 5,
      "outputs": [
        {
          "output_type": "stream",
          "name": "stderr",
          "text": [
            "textattack: Updating TextAttack package dependencies.\n",
            "textattack: Downloading NLTK required packages.\n"
          ]
        },
        {
          "output_type": "stream",
          "name": "stdout",
          "text": [
            "[nltk_data] Downloading package averaged_perceptron_tagger to\n",
            "[nltk_data]     /root/nltk_data...\n",
            "[nltk_data]   Unzipping taggers/averaged_perceptron_tagger.zip.\n",
            "[nltk_data] Downloading package stopwords to /root/nltk_data...\n",
            "[nltk_data]   Unzipping corpora/stopwords.zip.\n",
            "[nltk_data] Downloading package omw to /root/nltk_data...\n",
            "[nltk_data]   Unzipping corpora/omw.zip.\n",
            "[nltk_data] Downloading package universal_tagset to /root/nltk_data...\n",
            "[nltk_data]   Unzipping taggers/universal_tagset.zip.\n",
            "[nltk_data] Downloading package wordnet to /root/nltk_data...\n",
            "[nltk_data]   Unzipping corpora/wordnet.zip.\n",
            "[nltk_data] Downloading package punkt to /root/nltk_data...\n",
            "[nltk_data]   Unzipping tokenizers/punkt.zip.\n"
          ]
        },
        {
          "output_type": "stream",
          "name": "stderr",
          "text": [
            "textattack: Downloading https://textattack.s3.amazonaws.com/word_embeddings/paragramcf.\n",
            "100%|██████████| 481M/481M [00:36<00:00, 13.1MB/s]\n",
            "textattack: Unzipping file /root/.cache/textattack/tmp9xtns2h2.zip to /root/.cache/textattack/word_embeddings/paragramcf.\n",
            "textattack: Successfully saved word_embeddings/paragramcf to cache.\n"
          ]
        }
      ]
    },
    {
      "cell_type": "code",
      "source": [
        "from textattack.datasets import HuggingFaceDataset\n",
        "from textattack.attacker import Attacker\n",
        "from textattack import AttackArgs, Attacker\n",
        "from textattack.datasets import HuggingFaceDataset\n",
        "from textattack.goal_functions import TargetedClassification\n",
        "import transformers\n",
        "from textattack.models.wrappers import HuggingFaceModelWrapper\n",
        "import torch\n",
        "\n",
        "model = transformers.AutoModelForSequenceClassification.from_pretrained(\"textattack/albert-base-v2-imdb\")\n",
        "tokenizer = transformers.AutoTokenizer.from_pretrained(\"textattack/albert-base-v2-imdb\")\n",
        "# We wrap the model so it can be used by textattack\n",
        "model_wrapper = HuggingFaceModelWrapper(model, tokenizer)\n",
        "\n",
        "dataset = HuggingFaceDataset(\"rotten_tomatoes\", None, \"test\", shuffle=True)\n",
        "#dataset = HuggingFaceDataset(\"imdb\", split=\"test\")\n",
        "#dataset = HuggingFaceDataset(\"glue\", \"sst2\", \"train\")"
      ],
      "metadata": {
        "colab": {
          "base_uri": "https://localhost:8080/",
          "height": 502,
          "referenced_widgets": [
            "ac39f59b12ee44dc990d5208e40beb3c",
            "c7aed05c5dad4d93abe1cb5978c911f8",
            "62e38ca7549b48ab8ce9931bbfb4f678",
            "37a126a2310042219539a2548acfcbd4",
            "7c9b998d067c421387bbb88c322ee153",
            "ce7c67f04b7f417983002c8812227c37",
            "7cf42a247b204849a25c29c1ff2d5ac3",
            "67510c9fafc040f19580815a68230bb5",
            "de58c840958843b284793089d73a215a",
            "31422e60e3234dd68e23058c3f063d87",
            "24a151821b1944c5be89ec868991076e",
            "f346292598844a4599a4ee68edb3856a",
            "39429285dfa94c1eab9d5ddbb23f6216",
            "41c615c01245445480b306877769055a",
            "782e1b1a743d44e7920d2be2e3059ae6",
            "3b3f7191306d4e74b521b8a2c7bde71c",
            "03918e4c7d5d46299ec30d872e402c84",
            "9292c5d950b0477e897eea8b38c28ba1",
            "7e6bbd2751d547aaa8b29485690c3310",
            "a091c0659f694f64a8ee5fcb49f8db25",
            "f3cfde99c7884539b80c114f0dd9c245",
            "e05e745c454a46acbe025e97614910cc",
            "e1812af986fc419188d8b2c059aa25f8",
            "858e702d31fc431da19e109864adcfbd",
            "3f5a020f629945b8b07f7888e1e2549e",
            "09b963286a6745b4adb2f2f564472eea",
            "817e70cf58374839b429057700105a7d",
            "af0c6894dc1a42208af00fd1ba2bf308",
            "f26548f34a6941c4ad4928de60470b40",
            "c80a39e3d2f94ec6bd874e1c1c71a5b1",
            "138ecdfbe4a34e0081281ac38e93cdbd",
            "8ca934ccedea489ca444f3cfa476c851",
            "1aeffff66e60470eae9dec947dcc457d",
            "0006ef7ccda444539aed00318c20b4cc",
            "df8d46a0f96347c28412fc85a645183b",
            "1c8f654e4b2942ed8ee8af9d502f1f1d",
            "abf6ad63a6dc4b6c89db8f79a8e66dc8",
            "a82984bbb35a40bdb9bb9710960ebb84",
            "b076a07b52f24a21b1e0ffc437a2975c",
            "49263b37662e44889071985d82099ff7",
            "8d09b0b7dde0414faf306f04308a6e06",
            "74dd7f8873a542b79dbf4bb31486c517",
            "119aff5953494ec4b5f4eeebb47f20ae",
            "29cbff8db279451580428d1d602369c4",
            "cc688e05cd6345a7a8b534cc880894d2",
            "85c381a00f6e4839add2dec4c56ea496",
            "4822b6683adc418dabf09bbfb8062b10",
            "e0fbbd3372ec403887da0faeafa2d81e",
            "478dee9784c044908026f1dfdcc0c2e5",
            "bf2c82ebbf884642803bb91e3607b7de",
            "ea87ad1c24924feb864dec7223f2e238",
            "b530df60db004fe4bad8724de9ea6e30",
            "aa4dcaa707e145d8a2ff6bc4c0fb5036",
            "526373f8dfdd49d797c4339d1153cad2",
            "3c0fafef4de241329d7815f3c5661c7b",
            "958329898f26460fb460cc770fe68052",
            "0ff58c806d2341e7b5542daff135240d",
            "676bdcd24a2042ebadac4a3127d1c9ab",
            "12632af063834aa5b8f0afec9fb14b2d",
            "c4b2f87ccc9f4239af19cd70526a7b50",
            "1104555bfcfd49cd854ac87e888d5916",
            "fe0ce45077e84af08036f2b0636943a6",
            "0ba310b3c3914b38b15162f5be0e9d2b",
            "50aab0d0508441e5b1a6d134115e429a",
            "56fd3b385c9146d09b62dff4396c0d79",
            "b7fd7b80a9db4465bd1254ae206272e1",
            "2d862a3729e94ad78123ef58ad978caa",
            "a1127cf8080747da83554fbcfbb4bd7b",
            "a01c7d9bd2194115928e2a273af25610",
            "ef25cdee87a249328ea7e33f7dcb7f50",
            "d6fa73c9222d4419a4207edb3b8f38f5",
            "ee3a99618d8b4b56b4881118f2b68cfe",
            "b3ca82e549ca4df9aa3289432aa78114",
            "a5bb526e4add4960a995cb5454f45792",
            "e7570f7c830e442a90bad9c73719c3fa",
            "cad31cae40e94f47b26ba185dcae0ee8",
            "79efd05dde6f4b90a2fa31c6ed388e10",
            "46720736cdb446209021c851323214a0",
            "303d22ee4ef64cbcb417406ea70bc966",
            "0b68267b631e48f6b79b91853c2a7bbc",
            "f1b93f2a225b4175a744925ba0b11408",
            "dcca5f3c88da44a294b7e7ca97816b63",
            "7252e0ed68b14822b9a98cf73a81ba15",
            "d9f2cccdc16948dca8032c9ca23d3cf4",
            "078cd08ae3134a218a217977d1de3518",
            "ea104dc3d29b474f83b10704c66ed6c7",
            "179fac6ccd934ea1b5bcc169ce1f94d7",
            "f808afdd4f78472988d7008d816bbeeb"
          ]
        },
        "id": "QQmwMwqyQ7Qy",
        "outputId": "d8223d23-c611-4648-fdd9-252197447c77"
      },
      "execution_count": 6,
      "outputs": [
        {
          "output_type": "display_data",
          "data": {
            "application/vnd.jupyter.widget-view+json": {
              "model_id": "ac39f59b12ee44dc990d5208e40beb3c",
              "version_minor": 0,
              "version_major": 2
            },
            "text/plain": [
              "HBox(children=(FloatProgress(value=0.0, description='Downloading', max=727.0, style=ProgressStyle(description_…"
            ]
          },
          "metadata": {}
        },
        {
          "output_type": "stream",
          "name": "stdout",
          "text": [
            "\n"
          ]
        },
        {
          "output_type": "display_data",
          "data": {
            "application/vnd.jupyter.widget-view+json": {
              "model_id": "de58c840958843b284793089d73a215a",
              "version_minor": 0,
              "version_major": 2
            },
            "text/plain": [
              "HBox(children=(FloatProgress(value=0.0, description='Downloading', max=46747112.0, style=ProgressStyle(descrip…"
            ]
          },
          "metadata": {}
        },
        {
          "output_type": "stream",
          "name": "stdout",
          "text": [
            "\n"
          ]
        },
        {
          "output_type": "display_data",
          "data": {
            "application/vnd.jupyter.widget-view+json": {
              "model_id": "03918e4c7d5d46299ec30d872e402c84",
              "version_minor": 0,
              "version_major": 2
            },
            "text/plain": [
              "HBox(children=(FloatProgress(value=0.0, description='Downloading', max=25.0, style=ProgressStyle(description_w…"
            ]
          },
          "metadata": {}
        },
        {
          "output_type": "stream",
          "name": "stdout",
          "text": [
            "\n"
          ]
        },
        {
          "output_type": "display_data",
          "data": {
            "application/vnd.jupyter.widget-view+json": {
              "model_id": "3f5a020f629945b8b07f7888e1e2549e",
              "version_minor": 0,
              "version_major": 2
            },
            "text/plain": [
              "HBox(children=(FloatProgress(value=0.0, description='Downloading', max=760289.0, style=ProgressStyle(descripti…"
            ]
          },
          "metadata": {}
        },
        {
          "output_type": "stream",
          "name": "stdout",
          "text": [
            "\n"
          ]
        },
        {
          "output_type": "display_data",
          "data": {
            "application/vnd.jupyter.widget-view+json": {
              "model_id": "1aeffff66e60470eae9dec947dcc457d",
              "version_minor": 0,
              "version_major": 2
            },
            "text/plain": [
              "HBox(children=(FloatProgress(value=0.0, description='Downloading', max=156.0, style=ProgressStyle(description_…"
            ]
          },
          "metadata": {}
        },
        {
          "output_type": "stream",
          "name": "stdout",
          "text": [
            "\n"
          ]
        },
        {
          "output_type": "display_data",
          "data": {
            "application/vnd.jupyter.widget-view+json": {
              "model_id": "8d09b0b7dde0414faf306f04308a6e06",
              "version_minor": 0,
              "version_major": 2
            },
            "text/plain": [
              "HBox(children=(FloatProgress(value=0.0, description='Downloading', max=1895.0, style=ProgressStyle(description…"
            ]
          },
          "metadata": {}
        },
        {
          "output_type": "stream",
          "name": "stdout",
          "text": [
            "\n"
          ]
        },
        {
          "output_type": "display_data",
          "data": {
            "application/vnd.jupyter.widget-view+json": {
              "model_id": "478dee9784c044908026f1dfdcc0c2e5",
              "version_minor": 0,
              "version_major": 2
            },
            "text/plain": [
              "HBox(children=(FloatProgress(value=0.0, description='Downloading', max=869.0, style=ProgressStyle(description_…"
            ]
          },
          "metadata": {}
        },
        {
          "output_type": "stream",
          "name": "stderr",
          "text": [
            "Using custom data configuration default\n"
          ]
        },
        {
          "output_type": "stream",
          "name": "stdout",
          "text": [
            "\n",
            "Downloading and preparing dataset rotten_tomatoes_movie_review/default (download: 476.34 KiB, generated: 1.28 MiB, post-processed: Unknown size, total: 1.75 MiB) to /root/.cache/huggingface/datasets/rotten_tomatoes_movie_review/default/1.0.0/9198dbc50858df8bdb0d5f18ccaf33125800af96ad8434bc8b829918c987ee8a...\n"
          ]
        },
        {
          "output_type": "display_data",
          "data": {
            "application/vnd.jupyter.widget-view+json": {
              "model_id": "0ff58c806d2341e7b5542daff135240d",
              "version_minor": 0,
              "version_major": 2
            },
            "text/plain": [
              "HBox(children=(FloatProgress(value=0.0, description='Downloading', max=487770.0, style=ProgressStyle(descripti…"
            ]
          },
          "metadata": {}
        },
        {
          "output_type": "stream",
          "name": "stdout",
          "text": [
            "\n"
          ]
        },
        {
          "output_type": "display_data",
          "data": {
            "application/vnd.jupyter.widget-view+json": {
              "model_id": "56fd3b385c9146d09b62dff4396c0d79",
              "version_minor": 0,
              "version_major": 2
            },
            "text/plain": [
              "HBox(children=(FloatProgress(value=1.0, bar_style='info', layout=Layout(width='20px'), max=1.0), HTML(value=''…"
            ]
          },
          "metadata": {}
        },
        {
          "output_type": "display_data",
          "data": {
            "application/vnd.jupyter.widget-view+json": {
              "model_id": "b3ca82e549ca4df9aa3289432aa78114",
              "version_minor": 0,
              "version_major": 2
            },
            "text/plain": [
              "HBox(children=(FloatProgress(value=1.0, bar_style='info', layout=Layout(width='20px'), max=1.0), HTML(value=''…"
            ]
          },
          "metadata": {}
        },
        {
          "output_type": "display_data",
          "data": {
            "application/vnd.jupyter.widget-view+json": {
              "model_id": "f1b93f2a225b4175a744925ba0b11408",
              "version_minor": 0,
              "version_major": 2
            },
            "text/plain": [
              "HBox(children=(FloatProgress(value=1.0, bar_style='info', layout=Layout(width='20px'), max=1.0), HTML(value=''…"
            ]
          },
          "metadata": {}
        },
        {
          "output_type": "stream",
          "name": "stderr",
          "text": [
            "textattack: Loading \u001b[94mdatasets\u001b[0m dataset \u001b[94mrotten_tomatoes\u001b[0m, split \u001b[94mtest\u001b[0m.\n"
          ]
        },
        {
          "output_type": "stream",
          "name": "stdout",
          "text": [
            "Dataset rotten_tomatoes_movie_review downloaded and prepared to /root/.cache/huggingface/datasets/rotten_tomatoes_movie_review/default/1.0.0/9198dbc50858df8bdb0d5f18ccaf33125800af96ad8434bc8b829918c987ee8a. Subsequent calls will reuse this data.\n"
          ]
        }
      ]
    },
    {
      "cell_type": "markdown",
      "source": [
        "Creating the Keras Model"
      ],
      "metadata": {
        "id": "ogbXdO2pgEbB"
      }
    },
    {
      "cell_type": "markdown",
      "source": [
        "##Custom Recipes"
      ],
      "metadata": {
        "id": "vShRxU9QwnG9"
      }
    },
    {
      "cell_type": "code",
      "source": [
        "class Recipe(Attack,ABC):\n",
        "    @staticmethod\n",
        "    def build(model_wrapper,transf,gf):\n",
        "        if(transf == \"WordSwapWordNet\"):\n",
        "            transformation = WordSwapWordNet()\n",
        "        elif(transf == \"WordSwapQWERTY\"):\n",
        "            transformation = WordSwapQWERTY()\n",
        "        elif(transf == \"WordSwapHomoglyphSwap\"):\n",
        "            transformation = WordSwapHomoglyphSwap()\n",
        "        elif(transf == \"WordSwapNeighboringCharacterSwap\"):\n",
        "            transformation = WordSwapNeighboringCharacterSwap(random_one=True,skip_first_char=True,skip_last_char=True,)\n",
        "        elif(transf == \"WordSwapRandomCharacterInsertion\"):\n",
        "            transformation = WordSwapRandomCharacterInsertion(\n",
        "                        random_one=True,\n",
        "                        letters_to_insert=\" \",\n",
        "                        skip_first_char=True,\n",
        "                        skip_last_char=True,\n",
        "                    )\n",
        "        elif(transf == \"WordSwapRandomCharacterDeletion\"):\n",
        "             transformation = WordSwapRandomCharacterDeletion(\n",
        "                        random_one=True, skip_first_char=True, skip_last_char=True\n",
        "                    )\n",
        "        elif(transf == \"WordSwapEmbedding\"):\n",
        "             transformation = WordSwapEmbedding(max_candidates=5)\n",
        "        elif(transf == \"WordSwapHowNet\"):\n",
        "             transformation = WordSwapHowNet()\n",
        "        elif(transf == \"WordSwapInflections\"):\n",
        "             transformation = WordSwapInflections()\n",
        "        elif(transf == \"WordDeletion\"):\n",
        "             transformation = WordDeletion()\n",
        "        elif(transf == \"WordSwapGradientBased\"):\n",
        "             transformation = WordSwapGradientBased(model_wrapper, top_n=1)\n",
        "        elif(transf == \"WordSwapExtend\"):\n",
        "             transformation = WordSwapExtend()\n",
        "        elif(transf == \"WordSwapContract\"):\n",
        "             transformation = WordSwapContract()\n",
        "        elif(transf == \"WordSwapChangeName\"):\n",
        "             transformation = WordSwapChangeName()\n",
        "        elif(transf == \"WordSwapChangeNumber\"):\n",
        "             transformation = WordSwapChangeNumber()  \n",
        "        elif(transf == \"WordSwapChangeLocation\"):\n",
        "             transformation = WordSwapChangeLocation()\n",
        "        elif(transf == \"WordSwapRandomCharacterSubstitution\"):\n",
        "             transformation = WordSwapRandomCharacterSubstitution()\n",
        "        elif(transf == \"WordSwapMaskedLM\"):\n",
        "             transformation = WordSwapMaskedLM(method=\"bert-attack\", max_candidates=48)\n",
        "        elif(transf == \"WordInsertionMaskedLM\"):\n",
        "             transformation = WordInsertionMaskedLM(\n",
        "                    #masked_language_model=shared_masked_lm,\n",
        "                    #tokenizer=shared_tokenizer,\n",
        "                    max_candidates=50,\n",
        "                    min_confidence=0.0,\n",
        "                )\n",
        "        elif(transf == \"WordMergeMaskedLM\"):\n",
        "             transformation = WordMergeMaskedLM(\n",
        "                    #masked_language_model=shared_masked_lm,\n",
        "                    #tokenizer=shared_tokenizer,\n",
        "                    max_candidates=50,\n",
        "                    min_confidence=5e-3,\n",
        "                )\n",
        "\n",
        "        constraints = [RepeatModification(), StopwordModification()]\n",
        "        if(gf == \"TC\"):\n",
        "            goal_function = TargetedClassification(model_wrapper)\n",
        "        elif(gf == \"IR\"):\n",
        "            goal_function = InputReduction(model_wrapper)\n",
        "        elif(gf == \"UTC\"):\n",
        "            goal_function = UntargetedClassification(model_wrapper)\n",
        "        # search over words based on a combination of their saliency score, and how efficient the WordSwap transform is\n",
        "        search_method = GreedyWordSwapWIR(wir_method=\"delete\")\n",
        "        return Attack(goal_function, constraints, transformation, search_method)\n"
      ],
      "metadata": {
        "id": "BNET1-TUwlx-"
      },
      "execution_count": 9,
      "outputs": []
    },
    {
      "cell_type": "markdown",
      "source": [
        "Input Reduction - 'WordSwapWordNet','WordSwapHomoglyphSwap','WordSwapNeighboringCharacterSwap',\n",
        "'WordSwapRandomCharacterDeletion','WordSwapEmbedding',\n",
        "'WordSwapHowNet','WordDeletion','WordMergeMaskedLM',\n",
        "'WordSwapRandomCharacterSubstitution'"
      ],
      "metadata": {
        "id": "DIrvQpSNy5Uh"
      }
    },
    {
      "cell_type": "code",
      "source": [
        "transf_list = ['WordSwapWordNet','WordSwapHomoglyphSwap','WordSwapNeighboringCharacterSwap',\n",
        "               'WordSwapRandomCharacterDeletion','WordSwapEmbedding',\n",
        "               'WordSwapHowNet','WordDeletion',\n",
        "               'WordSwapRandomCharacterSubstitution','WordSwapMaskedLM',\n",
        "               'WordInsertionMaskedLM','WordMergeMaskedLM',\n",
        "               'WordSwapExtend','WordSwapContract','WordSwapChangeName',\n",
        "               'WordSwapChangeNumber','WordSwapChangeLocation']\n",
        "gf_list = ['TC','UTC','IR']\n",
        "              \n",
        "for gf in gf_list:         \n",
        "    for transf in transf_list:\n",
        "        print(\"Starting attack for-----------------\",transf,gf)\n",
        "        try:\n",
        "            attack = Recipe.build(model_wrapper,transf,gf)\n",
        "            attack_args = AttackArgs(num_examples=10,)\n",
        "            attacker = Attacker(attack, dataset,attack_args)\n",
        "            attack_results = attacker.attack_dataset()\n",
        "        except ValueError:\n",
        "            print(\"Not compatible\")\n",
        "            pass\n",
        "        except KeyError:\n",
        "            print(\"Key Error\")\n",
        "            pass"
      ],
      "metadata": {
        "colab": {
          "base_uri": "https://localhost:8080/"
        },
        "id": "NodNydwWggcA",
        "outputId": "e7336234-c8c6-44f3-8456-d6de5c37db99"
      },
      "execution_count": null,
      "outputs": [
        {
          "output_type": "stream",
          "name": "stderr",
          "text": [
            "textattack: Unknown if model of class <class 'transformers.models.albert.modeling_albert.AlbertForSequenceClassification'> compatible with goal function <class 'textattack.goal_functions.classification.targeted_classification.TargetedClassification'>.\n",
            "\n",
            "  0%|          | 0/10 [00:00<?, ?it/s]\u001b[A"
          ]
        },
        {
          "output_type": "stream",
          "name": "stdout",
          "text": [
            "Starting attack for----------------- WordSwapWordNet TC\n",
            "Attack(\n",
            "  (search_method): GreedyWordSwapWIR(\n",
            "    (wir_method):  delete\n",
            "  )\n",
            "  (goal_function):  TargetedClassification(\n",
            "    (target_class):  0\n",
            "  )\n",
            "  (transformation):  WordSwapWordNet\n",
            "  (constraints): \n",
            "    (0): RepeatModification\n",
            "    (1): StopwordModification\n",
            "  (is_black_box):  True\n",
            ") \n",
            "\n"
          ]
        },
        {
          "output_type": "stream",
          "name": "stderr",
          "text": [
            "\n",
            " 10%|█         | 1/10 [00:00<00:08,  1.08it/s]\u001b[A\n",
            "[Succeeded / Failed / Skipped / Total] 1 / 0 / 0 / 1:  10%|█         | 1/10 [00:00<00:08,  1.08it/s]\u001b[A"
          ]
        },
        {
          "output_type": "stream",
          "name": "stdout",
          "text": [
            "--------------------------------------------- Result 1 ---------------------------------------------\n",
            "[[Positive (100%)]] --> [[Negative (55%)]]\n",
            "\n",
            "lovingly photographed in the manner of a golden book sprung to life , stuart little 2 [[manages]] [[sweetness]] largely without stickiness .\n",
            "\n",
            "lovingly photographed in the manner of a golden book sprung to life , stuart little 2 [[contend]] [[sugariness]] largely without stickiness .\n",
            "\n",
            "\n"
          ]
        },
        {
          "output_type": "stream",
          "name": "stderr",
          "text": [
            "\n",
            "[Succeeded / Failed / Skipped / Total] 1 / 0 / 0 / 1:  20%|██        | 2/10 [00:01<00:05,  1.57it/s]\u001b[A\n",
            "[Succeeded / Failed / Skipped / Total] 1 / 1 / 0 / 2:  20%|██        | 2/10 [00:01<00:05,  1.57it/s]\u001b[A\n",
            "[Succeeded / Failed / Skipped / Total] 1 / 1 / 1 / 3:  30%|███       | 3/10 [00:01<00:03,  2.30it/s]\u001b[A"
          ]
        },
        {
          "output_type": "stream",
          "name": "stdout",
          "text": [
            "--------------------------------------------- Result 2 ---------------------------------------------\n",
            "[[Positive (100%)]] --> [[[FAILED]]]\n",
            "\n",
            "consistently clever and suspenseful .\n",
            "\n",
            "\n",
            "--------------------------------------------- Result 3 ---------------------------------------------\n",
            "[[Negative (85%)]] --> [[[SKIPPED]]]\n",
            "\n",
            "it's like a \" big chill \" reunion of the baader-meinhof gang , only these guys are more harmless pranksters than political activists .\n",
            "\n",
            "\n"
          ]
        },
        {
          "output_type": "stream",
          "name": "stderr",
          "text": [
            "\n",
            "[Succeeded / Failed / Skipped / Total] 1 / 1 / 1 / 3:  40%|████      | 4/10 [00:01<00:02,  2.03it/s]\u001b[A\n",
            "[Succeeded / Failed / Skipped / Total] 2 / 1 / 1 / 4:  40%|████      | 4/10 [00:01<00:02,  2.03it/s]\u001b[A"
          ]
        },
        {
          "output_type": "stream",
          "name": "stdout",
          "text": [
            "--------------------------------------------- Result 4 ---------------------------------------------\n",
            "[[Positive (100%)]] --> [[Negative (99%)]]\n",
            "\n",
            "the story gives ample opportunity for large-scale action and suspense , which director shekhar kapur supplies with [[tremendous]] skill .\n",
            "\n",
            "the story gives ample opportunity for large-scale action and suspense , which director shekhar kapur supplies with [[terrible]] skill .\n",
            "\n",
            "\n"
          ]
        },
        {
          "output_type": "stream",
          "name": "stderr",
          "text": [
            "\n",
            "[Succeeded / Failed / Skipped / Total] 3 / 1 / 1 / 5:  50%|█████     | 5/10 [00:02<00:02,  2.23it/s]\u001b[A\n",
            "[Succeeded / Failed / Skipped / Total] 3 / 1 / 1 / 5:  60%|██████    | 6/10 [00:02<00:01,  2.64it/s]\u001b[A\n",
            "[Succeeded / Failed / Skipped / Total] 3 / 1 / 2 / 6:  60%|██████    | 6/10 [00:02<00:01,  2.64it/s]\u001b[A"
          ]
        },
        {
          "output_type": "stream",
          "name": "stdout",
          "text": [
            "--------------------------------------------- Result 5 ---------------------------------------------\n",
            "[[Positive (74%)]] --> [[Negative (70%)]]\n",
            "\n",
            "red [[dragon]] \" [[never]] cuts corners .\n",
            "\n",
            "red [[Draco]] \" [[ne'er]] cuts corners .\n",
            "\n",
            "\n",
            "--------------------------------------------- Result 6 ---------------------------------------------\n",
            "[[Negative (64%)]] --> [[[SKIPPED]]]\n",
            "\n",
            "fresnadillo has something serious to say about the ways in which extravagant chance can distort our perspective and throw us off the path of good sense .\n",
            "\n",
            "\n"
          ]
        },
        {
          "output_type": "stream",
          "name": "stderr",
          "text": [
            "\n",
            "[Succeeded / Failed / Skipped / Total] 4 / 1 / 2 / 7:  70%|███████   | 7/10 [00:03<00:01,  1.96it/s]\u001b[A"
          ]
        },
        {
          "output_type": "stream",
          "name": "stdout",
          "text": [
            "--------------------------------------------- Result 7 ---------------------------------------------\n",
            "[[Positive (100%)]] --> [[Negative (99%)]]\n",
            "\n",
            "throws in enough [[clever]] and unexpected [[twists]] to make the [[formula]] feel fresh .\n",
            "\n",
            "throws in enough [[cagy]] and unexpected [[gimmick]] to make the [[recipe]] feel fresh .\n",
            "\n",
            "\n"
          ]
        },
        {
          "output_type": "stream",
          "name": "stderr",
          "text": [
            "\n",
            "[Succeeded / Failed / Skipped / Total] 4 / 1 / 2 / 7:  80%|████████  | 8/10 [00:04<00:01,  1.93it/s]\u001b[A\n",
            "[Succeeded / Failed / Skipped / Total] 5 / 1 / 2 / 8:  80%|████████  | 8/10 [00:04<00:01,  1.93it/s]\u001b[A"
          ]
        },
        {
          "output_type": "stream",
          "name": "stdout",
          "text": [
            "--------------------------------------------- Result 8 ---------------------------------------------\n",
            "[[Positive (97%)]] --> [[Negative (71%)]]\n",
            "\n",
            "weighty and ponderous but every bit as [[filling]] as the treat of the title .\n",
            "\n",
            "weighty and ponderous but every bit as [[weft]] as the treat of the title .\n",
            "\n",
            "\n"
          ]
        },
        {
          "output_type": "stream",
          "name": "stderr",
          "text": [
            "\n",
            "[Succeeded / Failed / Skipped / Total] 6 / 1 / 2 / 9:  90%|█████████ | 9/10 [00:06<00:00,  1.46it/s]\u001b[A"
          ]
        },
        {
          "output_type": "stream",
          "name": "stdout",
          "text": [
            "--------------------------------------------- Result 9 ---------------------------------------------\n",
            "[[Positive (100%)]] --> [[Negative (54%)]]\n",
            "\n",
            "a [[real]] audience-pleaser that will [[strike]] a [[chord]] with anyone who's [[ever]] [[waited]] in a doctor's [[office]] , emergency room , hospital bed or insurance company [[office]] .\n",
            "\n",
            "a [[existent]] audience-pleaser that will [[excise]] a [[harmonize]] with anyone who's [[e'er]] [[waitress]] in a doctor's [[authority]] , emergency room , hospital bed or insurance company [[authority]] .\n",
            "\n",
            "\n"
          ]
        },
        {
          "output_type": "stream",
          "name": "stderr",
          "text": [
            "\n",
            "[Succeeded / Failed / Skipped / Total] 6 / 1 / 2 / 9: 100%|██████████| 10/10 [00:07<00:00,  1.38it/s]\u001b[A\n",
            "[Succeeded / Failed / Skipped / Total] 7 / 1 / 2 / 10: 100%|██████████| 10/10 [00:07<00:00,  1.38it/s]"
          ]
        },
        {
          "output_type": "stream",
          "name": "stdout",
          "text": [
            "--------------------------------------------- Result 10 ---------------------------------------------\n",
            "[[Positive (100%)]] --> [[Negative (80%)]]\n",
            "\n",
            "[[generates]] an enormous [[feeling]] of empathy for its [[characters]] .\n",
            "\n",
            "[[render]] an enormous [[finger]] of empathy for its [[fibre]] .\n",
            "\n",
            "\n",
            "\n",
            "+-------------------------------+--------+\n",
            "| Attack Results                |        |\n",
            "+-------------------------------+--------+\n",
            "| Number of successful attacks: | 7      |\n",
            "| Number of failed attacks:     | 1      |\n",
            "| Number of skipped attacks:    | 2      |\n",
            "| Original accuracy:            | 80.0%  |\n",
            "| Accuracy under attack:        | 10.0%  |\n",
            "| Attack success rate:          | 87.5%  |\n",
            "| Average perturbed word %:     | 21.02% |\n",
            "| Average num. words per input: | 15.4   |\n",
            "| Avg num queries:              | 42.38  |\n",
            "+-------------------------------+--------+"
          ]
        },
        {
          "output_type": "stream",
          "name": "stderr",
          "text": [
            "\n",
            "textattack: Unknown if model of class <class 'transformers.models.albert.modeling_albert.AlbertForSequenceClassification'> compatible with goal function <class 'textattack.goal_functions.classification.targeted_classification.TargetedClassification'>.\n",
            "\n",
            "  0%|          | 0/10 [00:00<?, ?it/s]\u001b[A"
          ]
        },
        {
          "output_type": "stream",
          "name": "stdout",
          "text": [
            "\n",
            "Starting attack for----------------- WordSwapHomoglyphSwap TC\n",
            "Attack(\n",
            "  (search_method): GreedyWordSwapWIR(\n",
            "    (wir_method):  delete\n",
            "  )\n",
            "  (goal_function):  TargetedClassification(\n",
            "    (target_class):  0\n",
            "  )\n",
            "  (transformation):  WordSwapHomoglyphSwap\n",
            "  (constraints): \n",
            "    (0): RepeatModification\n",
            "    (1): StopwordModification\n",
            "  (is_black_box):  True\n",
            ") \n",
            "\n"
          ]
        },
        {
          "output_type": "stream",
          "name": "stderr",
          "text": [
            "\n",
            " 10%|█         | 1/10 [00:00<00:06,  1.29it/s]\u001b[A\n",
            "[Succeeded / Failed / Skipped / Total] 1 / 0 / 0 / 1:  10%|█         | 1/10 [00:00<00:07,  1.28it/s]\u001b[A"
          ]
        },
        {
          "output_type": "stream",
          "name": "stdout",
          "text": [
            "--------------------------------------------- Result 1 ---------------------------------------------\n",
            "[[Positive (100%)]] --> [[Negative (98%)]]\n",
            "\n",
            "lovingly photographed in the manner of a golden book sprung to life , stuart little 2 [[manages]] [[sweetness]] largely without stickiness .\n",
            "\n",
            "lovingly photographed in the manner of a golden book sprung to life , stuart little 2 [[manɑges]] [[sweеtness]] largely without stickiness .\n",
            "\n",
            "\n"
          ]
        },
        {
          "output_type": "stream",
          "name": "stderr",
          "text": [
            "\n",
            "[Succeeded / Failed / Skipped / Total] 1 / 0 / 0 / 1:  20%|██        | 2/10 [00:01<00:06,  1.32it/s]\u001b[A\n",
            "[Succeeded / Failed / Skipped / Total] 2 / 0 / 0 / 2:  20%|██        | 2/10 [00:01<00:06,  1.32it/s]\u001b[A\n",
            "[Succeeded / Failed / Skipped / Total] 2 / 0 / 1 / 3:  30%|███       | 3/10 [00:01<00:03,  1.93it/s]\u001b[A"
          ]
        },
        {
          "output_type": "stream",
          "name": "stdout",
          "text": [
            "--------------------------------------------- Result 2 ---------------------------------------------\n",
            "[[Positive (100%)]] --> [[Negative (90%)]]\n",
            "\n",
            "[[consistently]] [[clever]] and [[suspenseful]] .\n",
            "\n",
            "[[consiѕtently]] [[ϲlever]] and [[suspenѕeful]] .\n",
            "\n",
            "\n",
            "--------------------------------------------- Result 3 ---------------------------------------------\n",
            "[[Negative (85%)]] --> [[[SKIPPED]]]\n",
            "\n",
            "it's like a \" big chill \" reunion of the baader-meinhof gang , only these guys are more harmless pranksters than political activists .\n",
            "\n",
            "\n"
          ]
        },
        {
          "output_type": "stream",
          "name": "stderr",
          "text": [
            "\n",
            "[Succeeded / Failed / Skipped / Total] 2 / 0 / 1 / 3:  40%|████      | 4/10 [00:02<00:03,  1.71it/s]\u001b[A\n",
            "[Succeeded / Failed / Skipped / Total] 3 / 0 / 1 / 4:  40%|████      | 4/10 [00:02<00:03,  1.71it/s]\u001b[A"
          ]
        },
        {
          "output_type": "stream",
          "name": "stdout",
          "text": [
            "--------------------------------------------- Result 4 ---------------------------------------------\n",
            "[[Positive (100%)]] --> [[Negative (79%)]]\n",
            "\n",
            "the story gives ample opportunity for large-scale action and suspense , which director shekhar kapur [[supplies]] with [[tremendous]] skill .\n",
            "\n",
            "the story gives ample opportunity for large-scale action and suspense , which director shekhar kapur [[ѕupplies]] with [[tⲅemendous]] skill .\n",
            "\n",
            "\n"
          ]
        },
        {
          "output_type": "stream",
          "name": "stderr",
          "text": [
            "\n",
            "[Succeeded / Failed / Skipped / Total] 4 / 0 / 1 / 5:  50%|█████     | 5/10 [00:02<00:02,  1.92it/s]\u001b[A\n",
            "[Succeeded / Failed / Skipped / Total] 4 / 0 / 1 / 5:  60%|██████    | 6/10 [00:02<00:01,  2.27it/s]\u001b[A\n",
            "[Succeeded / Failed / Skipped / Total] 4 / 0 / 2 / 6:  60%|██████    | 6/10 [00:02<00:01,  2.27it/s]\u001b[A"
          ]
        },
        {
          "output_type": "stream",
          "name": "stdout",
          "text": [
            "--------------------------------------------- Result 5 ---------------------------------------------\n",
            "[[Positive (74%)]] --> [[Negative (94%)]]\n",
            "\n",
            "red dragon \" [[never]] cuts corners .\n",
            "\n",
            "red dragon \" [[neveⲅ]] cuts corners .\n",
            "\n",
            "\n",
            "--------------------------------------------- Result 6 ---------------------------------------------\n",
            "[[Negative (64%)]] --> [[[SKIPPED]]]\n",
            "\n",
            "fresnadillo has something serious to say about the ways in which extravagant chance can distort our perspective and throw us off the path of good sense .\n",
            "\n",
            "\n"
          ]
        },
        {
          "output_type": "stream",
          "name": "stderr",
          "text": [
            "\n",
            "[Succeeded / Failed / Skipped / Total] 5 / 0 / 2 / 7:  70%|███████   | 7/10 [00:03<00:01,  2.03it/s]\u001b[A"
          ]
        },
        {
          "output_type": "stream",
          "name": "stdout",
          "text": [
            "--------------------------------------------- Result 7 ---------------------------------------------\n",
            "[[Positive (100%)]] --> [[Negative (87%)]]\n",
            "\n",
            "throws in enough [[clever]] and [[unexpected]] twists to make the formula feel fresh .\n",
            "\n",
            "throws in enough [[cleѵer]] and [[une×pected]] twists to make the formula feel fresh .\n",
            "\n",
            "\n"
          ]
        },
        {
          "output_type": "stream",
          "name": "stderr",
          "text": [
            "\n",
            "[Succeeded / Failed / Skipped / Total] 5 / 0 / 2 / 7:  80%|████████  | 8/10 [00:03<00:00,  2.06it/s]\u001b[A\n",
            "[Succeeded / Failed / Skipped / Total] 6 / 0 / 2 / 8:  80%|████████  | 8/10 [00:03<00:00,  2.06it/s]\u001b[A"
          ]
        },
        {
          "output_type": "stream",
          "name": "stdout",
          "text": [
            "--------------------------------------------- Result 8 ---------------------------------------------\n",
            "[[Positive (97%)]] --> [[Negative (89%)]]\n",
            "\n",
            "weighty and ponderous but [[every]] bit as filling as the treat of the title .\n",
            "\n",
            "weighty and ponderous but [[еvery]] bit as filling as the treat of the title .\n",
            "\n",
            "\n"
          ]
        },
        {
          "output_type": "stream",
          "name": "stderr",
          "text": [
            "\n",
            "[Succeeded / Failed / Skipped / Total] 7 / 0 / 2 / 9:  90%|█████████ | 9/10 [00:04<00:00,  1.94it/s]\u001b[A"
          ]
        },
        {
          "output_type": "stream",
          "name": "stdout",
          "text": [
            "--------------------------------------------- Result 9 ---------------------------------------------\n",
            "[[Positive (100%)]] --> [[Negative (74%)]]\n",
            "\n",
            "a [[real]] audience-pleaser that will strike a [[chord]] with anyone who's ever waited in a doctor's office , emergency room , hospital bed or insurance company office .\n",
            "\n",
            "a [[ⲅeal]] audience-pleaser that will strike a [[cհord]] with anyone who's ever waited in a doctor's office , emergency room , hospital bed or insurance company office .\n",
            "\n",
            "\n"
          ]
        },
        {
          "output_type": "stream",
          "name": "stderr",
          "text": [
            "\n",
            "[Succeeded / Failed / Skipped / Total] 7 / 0 / 2 / 9: 100%|██████████| 10/10 [00:05<00:00,  1.80it/s]\u001b[A\n",
            "[Succeeded / Failed / Skipped / Total] 8 / 0 / 2 / 10: 100%|██████████| 10/10 [00:05<00:00,  1.79it/s]"
          ]
        },
        {
          "output_type": "stream",
          "name": "stdout",
          "text": [
            "--------------------------------------------- Result 10 ---------------------------------------------\n",
            "[[Positive (100%)]] --> [[Negative (91%)]]\n",
            "\n",
            "[[generates]] an [[enormous]] [[feeling]] of empathy for its [[characters]] .\n",
            "\n",
            "[[generateѕ]] an [[enormоus]] [[feеling]] of empathy for its [[ϲharacters]] .\n",
            "\n",
            "\n",
            "\n",
            "+-------------------------------+--------+\n",
            "| Attack Results                |        |\n",
            "+-------------------------------+--------+\n",
            "| Number of successful attacks: | 8      |\n",
            "| Number of failed attacks:     | 0      |\n",
            "| Number of skipped attacks:    | 2      |\n",
            "| Original accuracy:            | 80.0%  |\n",
            "| Accuracy under attack:        | 0.0%   |\n",
            "| Attack success rate:          | 100.0% |\n",
            "| Average perturbed word %:     | 23.89% |\n",
            "| Average num. words per input: | 15.4   |\n",
            "| Avg num queries:              | 31.88  |\n",
            "+-------------------------------+--------+"
          ]
        },
        {
          "output_type": "stream",
          "name": "stderr",
          "text": [
            "\n",
            "textattack: Unknown if model of class <class 'transformers.models.albert.modeling_albert.AlbertForSequenceClassification'> compatible with goal function <class 'textattack.goal_functions.classification.targeted_classification.TargetedClassification'>.\n",
            "\n",
            "  0%|          | 0/10 [00:00<?, ?it/s]\u001b[A"
          ]
        },
        {
          "output_type": "stream",
          "name": "stdout",
          "text": [
            "\n",
            "Starting attack for----------------- WordSwapNeighboringCharacterSwap TC\n",
            "Attack(\n",
            "  (search_method): GreedyWordSwapWIR(\n",
            "    (wir_method):  delete\n",
            "  )\n",
            "  (goal_function):  TargetedClassification(\n",
            "    (target_class):  0\n",
            "  )\n",
            "  (transformation):  WordSwapNeighboringCharacterSwap(\n",
            "    (random_one):  True\n",
            "  )\n",
            "  (constraints): \n",
            "    (0): RepeatModification\n",
            "    (1): StopwordModification\n",
            "  (is_black_box):  True\n",
            ") \n",
            "\n"
          ]
        },
        {
          "output_type": "stream",
          "name": "stderr",
          "text": [
            "\n",
            " 10%|█         | 1/10 [00:00<00:04,  1.95it/s]\u001b[A\n",
            "[Succeeded / Failed / Skipped / Total] 1 / 0 / 0 / 1:  10%|█         | 1/10 [00:00<00:04,  1.93it/s]\u001b[A\n",
            "[Succeeded / Failed / Skipped / Total] 1 / 0 / 0 / 1:  20%|██        | 2/10 [00:00<00:02,  2.82it/s]\u001b[A\n",
            "[Succeeded / Failed / Skipped / Total] 1 / 1 / 0 / 2:  20%|██        | 2/10 [00:00<00:02,  2.80it/s]"
          ]
        },
        {
          "output_type": "stream",
          "name": "stdout",
          "text": [
            "--------------------------------------------- Result 1 ---------------------------------------------\n",
            "[[Positive (100%)]] --> [[Negative (90%)]]\n",
            "\n",
            "[[lovingly]] photographed in the manner of a golden book sprung to life , stuart little 2 [[manages]] [[sweetness]] largely without stickiness .\n",
            "\n",
            "[[lovinlgy]] photographed in the manner of a golden book sprung to life , stuart little 2 [[maanges]] [[sweteness]] largely without stickiness .\n",
            "\n",
            "\n",
            "--------------------------------------------- Result 2 ---------------------------------------------\n",
            "[[Positive (100%)]] --> [[[FAILED]]]\n",
            "\n",
            "consistently clever and suspenseful .\n",
            "\n",
            "\n"
          ]
        },
        {
          "output_type": "stream",
          "name": "stderr",
          "text": [
            "\u001b[A\n",
            "[Succeeded / Failed / Skipped / Total] 1 / 1 / 1 / 3:  30%|███       | 3/10 [00:00<00:01,  4.02it/s]\u001b[A"
          ]
        },
        {
          "output_type": "stream",
          "name": "stdout",
          "text": [
            "--------------------------------------------- Result 3 ---------------------------------------------\n",
            "[[Negative (85%)]] --> [[[SKIPPED]]]\n",
            "\n",
            "it's like a \" big chill \" reunion of the baader-meinhof gang , only these guys are more harmless pranksters than political activists .\n",
            "\n",
            "\n"
          ]
        },
        {
          "output_type": "stream",
          "name": "stderr",
          "text": [
            "\n",
            "[Succeeded / Failed / Skipped / Total] 1 / 1 / 1 / 3:  40%|████      | 4/10 [00:01<00:02,  2.74it/s]\u001b[A\n",
            "[Succeeded / Failed / Skipped / Total] 1 / 2 / 1 / 4:  40%|████      | 4/10 [00:01<00:02,  2.73it/s]\u001b[A\n",
            "[Succeeded / Failed / Skipped / Total] 2 / 2 / 1 / 5:  50%|█████     | 5/10 [00:01<00:01,  3.04it/s]\u001b[A"
          ]
        },
        {
          "output_type": "stream",
          "name": "stdout",
          "text": [
            "--------------------------------------------- Result 4 ---------------------------------------------\n",
            "[[Positive (100%)]] --> [[[FAILED]]]\n",
            "\n",
            "the story gives ample opportunity for large-scale action and suspense , which director shekhar kapur supplies with tremendous skill .\n",
            "\n",
            "\n",
            "--------------------------------------------- Result 5 ---------------------------------------------\n",
            "[[Positive (74%)]] --> [[Negative (97%)]]\n",
            "\n",
            "red dragon \" [[never]] cuts corners .\n",
            "\n",
            "red dragon \" [[neevr]] cuts corners .\n",
            "\n",
            "\n"
          ]
        },
        {
          "output_type": "stream",
          "name": "stderr",
          "text": [
            "\n",
            "[Succeeded / Failed / Skipped / Total] 2 / 2 / 1 / 5:  60%|██████    | 6/10 [00:01<00:01,  3.59it/s]\u001b[A\n",
            "[Succeeded / Failed / Skipped / Total] 2 / 2 / 2 / 6:  60%|██████    | 6/10 [00:01<00:01,  3.58it/s]\u001b[A"
          ]
        },
        {
          "output_type": "stream",
          "name": "stdout",
          "text": [
            "--------------------------------------------- Result 6 ---------------------------------------------\n",
            "[[Negative (64%)]] --> [[[SKIPPED]]]\n",
            "\n",
            "fresnadillo has something serious to say about the ways in which extravagant chance can distort our perspective and throw us off the path of good sense .\n",
            "\n",
            "\n"
          ]
        },
        {
          "output_type": "stream",
          "name": "stderr",
          "text": [
            "\n",
            "[Succeeded / Failed / Skipped / Total] 3 / 2 / 2 / 7:  70%|███████   | 7/10 [00:02<00:00,  3.30it/s]\u001b[A"
          ]
        },
        {
          "output_type": "stream",
          "name": "stdout",
          "text": [
            "--------------------------------------------- Result 7 ---------------------------------------------\n",
            "[[Positive (100%)]] --> [[Negative (73%)]]\n",
            "\n",
            "throws in enough [[clever]] and [[unexpected]] [[twists]] to make the formula feel [[fresh]] .\n",
            "\n",
            "throws in enough [[clveer]] and [[uenxpected]] [[tiwsts]] to make the formula feel [[frseh]] .\n",
            "\n",
            "\n"
          ]
        },
        {
          "output_type": "stream",
          "name": "stderr",
          "text": [
            "\n",
            "[Succeeded / Failed / Skipped / Total] 3 / 2 / 2 / 7:  80%|████████  | 8/10 [00:02<00:00,  3.19it/s]\u001b[A\n",
            "[Succeeded / Failed / Skipped / Total] 4 / 2 / 2 / 8:  80%|████████  | 8/10 [00:02<00:00,  3.19it/s]\u001b[A"
          ]
        },
        {
          "output_type": "stream",
          "name": "stdout",
          "text": [
            "--------------------------------------------- Result 8 ---------------------------------------------\n",
            "[[Positive (97%)]] --> [[Negative (71%)]]\n",
            "\n",
            "weighty and [[ponderous]] but [[every]] bit as [[filling]] as the treat of the title .\n",
            "\n",
            "weighty and [[pondeorus]] but [[evrey]] bit as [[fliling]] as the treat of the title .\n",
            "\n",
            "\n"
          ]
        },
        {
          "output_type": "stream",
          "name": "stderr",
          "text": [
            "\n",
            "[Succeeded / Failed / Skipped / Total] 5 / 2 / 2 / 9:  90%|█████████ | 9/10 [00:03<00:00,  2.84it/s]\u001b[A"
          ]
        },
        {
          "output_type": "stream",
          "name": "stdout",
          "text": [
            "--------------------------------------------- Result 9 ---------------------------------------------\n",
            "[[Positive (100%)]] --> [[Negative (95%)]]\n",
            "\n",
            "a [[real]] audience-pleaser that will [[strike]] a [[chord]] with anyone [[who's]] [[ever]] waited in a doctor's office , emergency room , hospital bed or insurance company office .\n",
            "\n",
            "a [[rael]] audience-pleaser that will [[strkie]] a [[cohrd]] with anyone [[woh's]] [[eevr]] waited in a doctor's office , emergency room , hospital bed or insurance company office .\n",
            "\n",
            "\n"
          ]
        },
        {
          "output_type": "stream",
          "name": "stderr",
          "text": [
            "\n",
            "[Succeeded / Failed / Skipped / Total] 5 / 2 / 2 / 9: 100%|██████████| 10/10 [00:03<00:00,  2.85it/s]\u001b[A\n",
            "[Succeeded / Failed / Skipped / Total] 6 / 2 / 2 / 10: 100%|██████████| 10/10 [00:03<00:00,  2.85it/s]"
          ]
        },
        {
          "output_type": "stream",
          "name": "stdout",
          "text": [
            "--------------------------------------------- Result 10 ---------------------------------------------\n",
            "[[Positive (100%)]] --> [[Negative (64%)]]\n",
            "\n",
            "[[generates]] an [[enormous]] [[feeling]] of [[empathy]] for its [[characters]] .\n",
            "\n",
            "[[gneerates]] an [[enomrous]] [[feeilng]] of [[emapthy]] for its [[chraacters]] .\n",
            "\n",
            "\n",
            "\n",
            "+-------------------------------+--------+\n",
            "| Attack Results                |        |\n",
            "+-------------------------------+--------+\n",
            "| Number of successful attacks: | 6      |\n",
            "| Number of failed attacks:     | 2      |\n",
            "| Number of skipped attacks:    | 2      |\n",
            "| Original accuracy:            | 80.0%  |\n",
            "| Accuracy under attack:        | 20.0%  |\n",
            "| Attack success rate:          | 75.0%  |\n",
            "| Average perturbed word %:     | 27.13% |\n",
            "| Average num. words per input: | 15.4   |\n",
            "| Avg num queries:              | 19.38  |\n",
            "+-------------------------------+--------+"
          ]
        },
        {
          "output_type": "stream",
          "name": "stderr",
          "text": [
            "\n",
            "textattack: Unknown if model of class <class 'transformers.models.albert.modeling_albert.AlbertForSequenceClassification'> compatible with goal function <class 'textattack.goal_functions.classification.targeted_classification.TargetedClassification'>.\n",
            "\n",
            "  0%|          | 0/10 [00:00<?, ?it/s]\u001b[A"
          ]
        },
        {
          "output_type": "stream",
          "name": "stdout",
          "text": [
            "\n",
            "Starting attack for----------------- WordSwapRandomCharacterDeletion TC\n",
            "Attack(\n",
            "  (search_method): GreedyWordSwapWIR(\n",
            "    (wir_method):  delete\n",
            "  )\n",
            "  (goal_function):  TargetedClassification(\n",
            "    (target_class):  0\n",
            "  )\n",
            "  (transformation):  WordSwapRandomCharacterDeletion(\n",
            "    (random_one):  True\n",
            "  )\n",
            "  (constraints): \n",
            "    (0): RepeatModification\n",
            "    (1): StopwordModification\n",
            "  (is_black_box):  True\n",
            ") \n",
            "\n"
          ]
        },
        {
          "output_type": "stream",
          "name": "stderr",
          "text": [
            "\n",
            " 10%|█         | 1/10 [00:00<00:04,  1.85it/s]\u001b[A\n",
            "[Succeeded / Failed / Skipped / Total] 1 / 0 / 0 / 1:  10%|█         | 1/10 [00:00<00:04,  1.84it/s]\u001b[A\n",
            "[Succeeded / Failed / Skipped / Total] 1 / 0 / 0 / 1:  20%|██        | 2/10 [00:00<00:02,  2.72it/s]\u001b[A\n",
            "[Succeeded / Failed / Skipped / Total] 1 / 1 / 0 / 2:  20%|██        | 2/10 [00:00<00:02,  2.71it/s]\u001b[A"
          ]
        },
        {
          "output_type": "stream",
          "name": "stdout",
          "text": [
            "--------------------------------------------- Result 1 ---------------------------------------------\n",
            "[[Positive (100%)]] --> [[Negative (92%)]]\n",
            "\n",
            "[[lovingly]] photographed in the manner of a golden book sprung to life , stuart little 2 [[manages]] sweetness largely [[without]] stickiness .\n",
            "\n",
            "[[lovigly]] photographed in the manner of a golden book sprung to life , stuart little 2 [[manges]] sweetness largely [[wihout]] stickiness .\n",
            "\n",
            "\n",
            "--------------------------------------------- Result 2 ---------------------------------------------\n",
            "[[Positive (100%)]] --> [[[FAILED]]]\n",
            "\n",
            "consistently clever and suspenseful .\n",
            "\n",
            "\n"
          ]
        },
        {
          "output_type": "stream",
          "name": "stderr",
          "text": [
            "\n",
            "[Succeeded / Failed / Skipped / Total] 1 / 1 / 1 / 3:  30%|███       | 3/10 [00:00<00:01,  3.89it/s]\u001b[A"
          ]
        },
        {
          "output_type": "stream",
          "name": "stdout",
          "text": [
            "--------------------------------------------- Result 3 ---------------------------------------------\n",
            "[[Negative (85%)]] --> [[[SKIPPED]]]\n",
            "\n",
            "it's like a \" big chill \" reunion of the baader-meinhof gang , only these guys are more harmless pranksters than political activists .\n",
            "\n",
            "\n"
          ]
        },
        {
          "output_type": "stream",
          "name": "stderr",
          "text": [
            "\n",
            "[Succeeded / Failed / Skipped / Total] 1 / 1 / 1 / 3:  40%|████      | 4/10 [00:01<00:01,  3.10it/s]\u001b[A\n",
            "[Succeeded / Failed / Skipped / Total] 2 / 1 / 1 / 4:  40%|████      | 4/10 [00:01<00:01,  3.09it/s]\u001b[A\n",
            "[Succeeded / Failed / Skipped / Total] 3 / 1 / 1 / 5:  50%|█████     | 5/10 [00:01<00:01,  3.39it/s]\u001b[A"
          ]
        },
        {
          "output_type": "stream",
          "name": "stdout",
          "text": [
            "--------------------------------------------- Result 4 ---------------------------------------------\n",
            "[[Positive (100%)]] --> [[Negative (78%)]]\n",
            "\n",
            "the [[story]] [[gives]] [[ample]] opportunity for large-scale action and suspense , which director shekhar kapur [[supplies]] with [[tremendous]] skill .\n",
            "\n",
            "the [[stry]] [[givs]] [[aple]] opportunity for large-scale action and suspense , which director shekhar kapur [[suppies]] with [[temendous]] skill .\n",
            "\n",
            "\n",
            "--------------------------------------------- Result 5 ---------------------------------------------\n",
            "[[Positive (74%)]] --> [[Negative (97%)]]\n",
            "\n",
            "red dragon \" [[never]] cuts corners .\n",
            "\n",
            "red dragon \" [[nevr]] cuts corners .\n",
            "\n",
            "\n"
          ]
        },
        {
          "output_type": "stream",
          "name": "stderr",
          "text": [
            "\n",
            "[Succeeded / Failed / Skipped / Total] 3 / 1 / 1 / 5:  60%|██████    | 6/10 [00:01<00:01,  3.99it/s]\u001b[A\n",
            "[Succeeded / Failed / Skipped / Total] 3 / 1 / 2 / 6:  60%|██████    | 6/10 [00:01<00:01,  3.98it/s]\u001b[A"
          ]
        },
        {
          "output_type": "stream",
          "name": "stdout",
          "text": [
            "--------------------------------------------- Result 6 ---------------------------------------------\n",
            "[[Negative (64%)]] --> [[[SKIPPED]]]\n",
            "\n",
            "fresnadillo has something serious to say about the ways in which extravagant chance can distort our perspective and throw us off the path of good sense .\n",
            "\n",
            "\n"
          ]
        },
        {
          "output_type": "stream",
          "name": "stderr",
          "text": [
            "\n",
            "[Succeeded / Failed / Skipped / Total] 4 / 1 / 2 / 7:  70%|███████   | 7/10 [00:01<00:00,  3.58it/s]\u001b[A"
          ]
        },
        {
          "output_type": "stream",
          "name": "stdout",
          "text": [
            "--------------------------------------------- Result 7 ---------------------------------------------\n",
            "[[Positive (100%)]] --> [[Negative (90%)]]\n",
            "\n",
            "throws in enough [[clever]] and [[unexpected]] [[twists]] to [[make]] the formula feel [[fresh]] .\n",
            "\n",
            "throws in enough [[cever]] and [[unexpcted]] [[twsts]] to [[mke]] the formula feel [[frsh]] .\n",
            "\n",
            "\n"
          ]
        },
        {
          "output_type": "stream",
          "name": "stderr",
          "text": [
            "\n",
            "[Succeeded / Failed / Skipped / Total] 4 / 1 / 2 / 7:  80%|████████  | 8/10 [00:02<00:00,  3.46it/s]\u001b[A\n",
            "[Succeeded / Failed / Skipped / Total] 5 / 1 / 2 / 8:  80%|████████  | 8/10 [00:02<00:00,  3.45it/s]\u001b[A"
          ]
        },
        {
          "output_type": "stream",
          "name": "stdout",
          "text": [
            "--------------------------------------------- Result 8 ---------------------------------------------\n",
            "[[Positive (97%)]] --> [[Negative (79%)]]\n",
            "\n",
            "weighty and ponderous but [[every]] bit as [[filling]] as the treat of the title .\n",
            "\n",
            "weighty and ponderous but [[eery]] bit as [[flling]] as the treat of the title .\n",
            "\n",
            "\n"
          ]
        },
        {
          "output_type": "stream",
          "name": "stderr",
          "text": [
            "\n",
            "[Succeeded / Failed / Skipped / Total] 5 / 2 / 2 / 9:  90%|█████████ | 9/10 [00:03<00:00,  2.74it/s]\u001b[A"
          ]
        },
        {
          "output_type": "stream",
          "name": "stdout",
          "text": [
            "--------------------------------------------- Result 9 ---------------------------------------------\n",
            "[[Positive (100%)]] --> [[[FAILED]]]\n",
            "\n",
            "a real audience-pleaser that will strike a chord with anyone who's ever waited in a doctor's office , emergency room , hospital bed or insurance company office .\n",
            "\n",
            "\n"
          ]
        },
        {
          "output_type": "stream",
          "name": "stderr",
          "text": [
            "\n",
            "[Succeeded / Failed / Skipped / Total] 5 / 2 / 2 / 9: 100%|██████████| 10/10 [00:03<00:00,  2.82it/s]\u001b[A\n",
            "[Succeeded / Failed / Skipped / Total] 6 / 2 / 2 / 10: 100%|██████████| 10/10 [00:03<00:00,  2.81it/s]"
          ]
        },
        {
          "output_type": "stream",
          "name": "stdout",
          "text": [
            "--------------------------------------------- Result 10 ---------------------------------------------\n",
            "[[Positive (100%)]] --> [[Negative (57%)]]\n",
            "\n",
            "[[generates]] an [[enormous]] feeling of empathy for its characters .\n",
            "\n",
            "[[gnerates]] an [[enormus]] feeling of empathy for its characters .\n",
            "\n",
            "\n",
            "\n",
            "+-------------------------------+--------+\n",
            "| Attack Results                |        |\n",
            "+-------------------------------+--------+\n",
            "| Number of successful attacks: | 6      |\n",
            "| Number of failed attacks:     | 2      |\n",
            "| Number of skipped attacks:    | 2      |\n",
            "| Original accuracy:            | 80.0%  |\n",
            "| Accuracy under attack:        | 20.0%  |\n",
            "| Attack success rate:          | 75.0%  |\n",
            "| Average perturbed word %:     | 22.96% |\n",
            "| Average num. words per input: | 15.4   |\n",
            "| Avg num queries:              | 19.5   |\n",
            "+-------------------------------+--------+"
          ]
        },
        {
          "output_type": "stream",
          "name": "stderr",
          "text": [
            "\n",
            "textattack: Unknown if model of class <class 'transformers.models.albert.modeling_albert.AlbertForSequenceClassification'> compatible with goal function <class 'textattack.goal_functions.classification.targeted_classification.TargetedClassification'>.\n",
            "\n",
            "  0%|          | 0/10 [00:00<?, ?it/s]\u001b[A"
          ]
        },
        {
          "output_type": "stream",
          "name": "stdout",
          "text": [
            "\n",
            "Starting attack for----------------- WordSwapEmbedding TC\n",
            "Attack(\n",
            "  (search_method): GreedyWordSwapWIR(\n",
            "    (wir_method):  delete\n",
            "  )\n",
            "  (goal_function):  TargetedClassification(\n",
            "    (target_class):  0\n",
            "  )\n",
            "  (transformation):  WordSwapEmbedding(\n",
            "    (max_candidates):  5\n",
            "    (embedding):  WordEmbedding\n",
            "  )\n",
            "  (constraints): \n",
            "    (0): RepeatModification\n",
            "    (1): StopwordModification\n",
            "  (is_black_box):  True\n",
            ") \n",
            "\n"
          ]
        },
        {
          "output_type": "stream",
          "name": "stderr",
          "text": [
            "\n",
            " 10%|█         | 1/10 [00:00<00:07,  1.24it/s]\u001b[A\n",
            "[Succeeded / Failed / Skipped / Total] 1 / 0 / 0 / 1:  10%|█         | 1/10 [00:00<00:07,  1.24it/s]\u001b[A"
          ]
        },
        {
          "output_type": "stream",
          "name": "stdout",
          "text": [
            "--------------------------------------------- Result 1 ---------------------------------------------\n",
            "[[Positive (100%)]] --> [[Negative (97%)]]\n",
            "\n",
            "[[lovingly]] photographed in the manner of a golden book sprung to life , stuart little 2 [[manages]] [[sweetness]] largely without stickiness .\n",
            "\n",
            "[[painstakingly]] photographed in the manner of a golden book sprung to life , stuart little 2 [[administering]] [[kindness]] largely without stickiness .\n",
            "\n",
            "\n"
          ]
        },
        {
          "output_type": "stream",
          "name": "stderr",
          "text": [
            "\n",
            "[Succeeded / Failed / Skipped / Total] 1 / 0 / 0 / 1:  20%|██        | 2/10 [00:01<00:05,  1.55it/s]\u001b[A\n",
            "[Succeeded / Failed / Skipped / Total] 1 / 1 / 0 / 2:  20%|██        | 2/10 [00:01<00:05,  1.55it/s]\u001b[A\n",
            "[Succeeded / Failed / Skipped / Total] 1 / 1 / 1 / 3:  30%|███       | 3/10 [00:01<00:03,  2.26it/s]\u001b[A"
          ]
        },
        {
          "output_type": "stream",
          "name": "stdout",
          "text": [
            "--------------------------------------------- Result 2 ---------------------------------------------\n",
            "[[Positive (100%)]] --> [[[FAILED]]]\n",
            "\n",
            "consistently clever and suspenseful .\n",
            "\n",
            "\n",
            "--------------------------------------------- Result 3 ---------------------------------------------\n",
            "[[Negative (85%)]] --> [[[SKIPPED]]]\n",
            "\n",
            "it's like a \" big chill \" reunion of the baader-meinhof gang , only these guys are more harmless pranksters than political activists .\n",
            "\n",
            "\n"
          ]
        },
        {
          "output_type": "stream",
          "name": "stderr",
          "text": [
            "\n",
            "[Succeeded / Failed / Skipped / Total] 1 / 1 / 1 / 3:  40%|████      | 4/10 [00:02<00:03,  1.64it/s]\u001b[A\n",
            "[Succeeded / Failed / Skipped / Total] 2 / 1 / 1 / 4:  40%|████      | 4/10 [00:02<00:03,  1.63it/s]\u001b[A"
          ]
        },
        {
          "output_type": "stream",
          "name": "stdout",
          "text": [
            "--------------------------------------------- Result 4 ---------------------------------------------\n",
            "[[Positive (100%)]] --> [[Negative (50%)]]\n",
            "\n",
            "the [[story]] [[gives]] [[ample]] opportunity for large-scale action and suspense , which director [[shekhar]] kapur [[supplies]] with [[tremendous]] skill .\n",
            "\n",
            "the [[storytelling]] [[affords]] [[sufficient]] opportunity for large-scale action and suspense , which director [[suman]] kapur [[foodstuffs]] with [[prodigious]] skill .\n",
            "\n",
            "\n"
          ]
        },
        {
          "output_type": "stream",
          "name": "stderr",
          "text": [
            "\n",
            "[Succeeded / Failed / Skipped / Total] 3 / 1 / 1 / 5:  50%|█████     | 5/10 [00:02<00:02,  1.84it/s]\u001b[A\n",
            "[Succeeded / Failed / Skipped / Total] 3 / 1 / 1 / 5:  60%|██████    | 6/10 [00:02<00:01,  2.18it/s]\u001b[A\n",
            "[Succeeded / Failed / Skipped / Total] 3 / 1 / 2 / 6:  60%|██████    | 6/10 [00:02<00:01,  2.18it/s]\u001b[A"
          ]
        },
        {
          "output_type": "stream",
          "name": "stdout",
          "text": [
            "--------------------------------------------- Result 5 ---------------------------------------------\n",
            "[[Positive (74%)]] --> [[Negative (84%)]]\n",
            "\n",
            "red dragon \" [[never]] cuts corners .\n",
            "\n",
            "red dragon \" [[jamais]] cuts corners .\n",
            "\n",
            "\n",
            "--------------------------------------------- Result 6 ---------------------------------------------\n",
            "[[Negative (64%)]] --> [[[SKIPPED]]]\n",
            "\n",
            "fresnadillo has something serious to say about the ways in which extravagant chance can distort our perspective and throw us off the path of good sense .\n",
            "\n",
            "\n"
          ]
        },
        {
          "output_type": "stream",
          "name": "stderr",
          "text": [
            "\n",
            "[Succeeded / Failed / Skipped / Total] 4 / 1 / 2 / 7:  70%|███████   | 7/10 [00:03<00:01,  1.97it/s]\u001b[A"
          ]
        },
        {
          "output_type": "stream",
          "name": "stdout",
          "text": [
            "--------------------------------------------- Result 7 ---------------------------------------------\n",
            "[[Positive (100%)]] --> [[Negative (81%)]]\n",
            "\n",
            "throws in enough [[clever]] and [[unexpected]] [[twists]] to make the [[formula]] feel fresh .\n",
            "\n",
            "throws in enough [[shrewd]] and [[unplanned]] [[folds]] to make the [[wording]] feel fresh .\n",
            "\n",
            "\n"
          ]
        },
        {
          "output_type": "stream",
          "name": "stderr",
          "text": [
            "\n",
            "[Succeeded / Failed / Skipped / Total] 4 / 1 / 2 / 7:  80%|████████  | 8/10 [00:04<00:01,  1.95it/s]\u001b[A\n",
            "[Succeeded / Failed / Skipped / Total] 5 / 1 / 2 / 8:  80%|████████  | 8/10 [00:04<00:01,  1.95it/s]\u001b[A"
          ]
        },
        {
          "output_type": "stream",
          "name": "stdout",
          "text": [
            "--------------------------------------------- Result 8 ---------------------------------------------\n",
            "[[Positive (97%)]] --> [[Negative (82%)]]\n",
            "\n",
            "weighty and ponderous but [[every]] bit as [[filling]] as the treat of the title .\n",
            "\n",
            "weighty and ponderous but [[any]] bit as [[populate]] as the treat of the title .\n",
            "\n",
            "\n"
          ]
        },
        {
          "output_type": "stream",
          "name": "stderr",
          "text": [
            "\n",
            "[Succeeded / Failed / Skipped / Total] 5 / 2 / 2 / 9:  90%|█████████ | 9/10 [00:06<00:00,  1.42it/s]\u001b[A"
          ]
        },
        {
          "output_type": "stream",
          "name": "stdout",
          "text": [
            "--------------------------------------------- Result 9 ---------------------------------------------\n",
            "[[Positive (100%)]] --> [[[FAILED]]]\n",
            "\n",
            "a real audience-pleaser that will strike a chord with anyone who's ever waited in a doctor's office , emergency room , hospital bed or insurance company office .\n",
            "\n",
            "\n"
          ]
        },
        {
          "output_type": "stream",
          "name": "stderr",
          "text": [
            "\n",
            "[Succeeded / Failed / Skipped / Total] 5 / 2 / 2 / 9: 100%|██████████| 10/10 [00:07<00:00,  1.40it/s]\u001b[A\n",
            "[Succeeded / Failed / Skipped / Total] 5 / 3 / 2 / 10: 100%|██████████| 10/10 [00:07<00:00,  1.39it/s]"
          ]
        },
        {
          "output_type": "stream",
          "name": "stdout",
          "text": [
            "--------------------------------------------- Result 10 ---------------------------------------------\n",
            "[[Positive (100%)]] --> [[[FAILED]]]\n",
            "\n",
            "generates an enormous feeling of empathy for its characters .\n",
            "\n",
            "\n",
            "\n",
            "+-------------------------------+--------+\n",
            "| Attack Results                |        |\n",
            "+-------------------------------+--------+\n",
            "| Number of successful attacks: | 5      |\n",
            "| Number of failed attacks:     | 3      |\n",
            "| Number of skipped attacks:    | 2      |\n",
            "| Original accuracy:            | 80.0%  |\n",
            "| Accuracy under attack:        | 30.0%  |\n",
            "| Attack success rate:          | 62.5%  |\n",
            "| Average perturbed word %:     | 22.68% |\n",
            "| Average num. words per input: | 15.4   |\n",
            "| Avg num queries:              | 38.25  |\n",
            "+-------------------------------+--------+"
          ]
        },
        {
          "output_type": "stream",
          "name": "stderr",
          "text": [
            "\n"
          ]
        },
        {
          "output_type": "stream",
          "name": "stdout",
          "text": [
            "\n",
            "Starting attack for----------------- WordSwapHowNet TC\n"
          ]
        },
        {
          "output_type": "stream",
          "name": "stderr",
          "text": [
            "textattack: Unknown if model of class <class 'transformers.models.albert.modeling_albert.AlbertForSequenceClassification'> compatible with goal function <class 'textattack.goal_functions.classification.targeted_classification.TargetedClassification'>.\n",
            "\n",
            "  0%|          | 0/10 [00:00<?, ?it/s]\u001b[A"
          ]
        },
        {
          "output_type": "stream",
          "name": "stdout",
          "text": [
            "Attack(\n",
            "  (search_method): GreedyWordSwapWIR(\n",
            "    (wir_method):  delete\n",
            "  )\n",
            "  (goal_function):  TargetedClassification(\n",
            "    (target_class):  0\n",
            "  )\n",
            "  (transformation):  WordSwapHowNet(\n",
            "    (max_candidates):  -1\n",
            "  )\n",
            "  (constraints): \n",
            "    (0): RepeatModification\n",
            "    (1): StopwordModification\n",
            "  (is_black_box):  True\n",
            ") \n",
            "\n"
          ]
        },
        {
          "output_type": "stream",
          "name": "stderr",
          "text": [
            "\n",
            " 10%|█         | 1/10 [00:01<00:13,  1.55s/it]\u001b[A\n",
            "[Succeeded / Failed / Skipped / Total] 1 / 0 / 0 / 1:  10%|█         | 1/10 [00:01<00:14,  1.56s/it]\u001b[A"
          ]
        },
        {
          "output_type": "stream",
          "name": "stdout",
          "text": [
            "--------------------------------------------- Result 1 ---------------------------------------------\n",
            "[[Positive (100%)]] --> [[Negative (86%)]]\n",
            "\n",
            "[[lovingly]] photographed in the manner of a golden book sprung to life , stuart little 2 [[manages]] sweetness largely without stickiness .\n",
            "\n",
            "[[placidly]] photographed in the manner of a golden book sprung to life , stuart little 2 [[tries]] sweetness largely without stickiness .\n",
            "\n",
            "\n"
          ]
        },
        {
          "output_type": "stream",
          "name": "stderr",
          "text": [
            "\n",
            "[Succeeded / Failed / Skipped / Total] 1 / 0 / 0 / 1:  20%|██        | 2/10 [00:02<00:09,  1.24s/it]\u001b[A\n",
            "[Succeeded / Failed / Skipped / Total] 2 / 0 / 0 / 2:  20%|██        | 2/10 [00:02<00:09,  1.24s/it]\u001b[A\n",
            "[Succeeded / Failed / Skipped / Total] 2 / 0 / 1 / 3:  30%|███       | 3/10 [00:02<00:05,  1.19it/s]\u001b[A"
          ]
        },
        {
          "output_type": "stream",
          "name": "stdout",
          "text": [
            "--------------------------------------------- Result 2 ---------------------------------------------\n",
            "[[Positive (100%)]] --> [[Negative (99%)]]\n",
            "\n",
            "consistently [[clever]] and [[suspenseful]] .\n",
            "\n",
            "consistently [[tactful]] and [[undecided]] .\n",
            "\n",
            "\n",
            "--------------------------------------------- Result 3 ---------------------------------------------\n",
            "[[Negative (85%)]] --> [[[SKIPPED]]]\n",
            "\n",
            "it's like a \" big chill \" reunion of the baader-meinhof gang , only these guys are more harmless pranksters than political activists .\n",
            "\n",
            "\n"
          ]
        },
        {
          "output_type": "stream",
          "name": "stderr",
          "text": [
            "\n",
            "[Succeeded / Failed / Skipped / Total] 2 / 0 / 1 / 3:  40%|████      | 4/10 [00:03<00:05,  1.06it/s]\u001b[A\n",
            "[Succeeded / Failed / Skipped / Total] 3 / 0 / 1 / 4:  40%|████      | 4/10 [00:03<00:05,  1.05it/s]\u001b[A"
          ]
        },
        {
          "output_type": "stream",
          "name": "stdout",
          "text": [
            "--------------------------------------------- Result 4 ---------------------------------------------\n",
            "[[Positive (100%)]] --> [[Negative (99%)]]\n",
            "\n",
            "the story gives ample opportunity for large-scale action and suspense , which director shekhar kapur supplies with [[tremendous]] skill .\n",
            "\n",
            "the story gives ample opportunity for large-scale action and suspense , which director shekhar kapur supplies with [[terrible]] skill .\n",
            "\n",
            "\n"
          ]
        },
        {
          "output_type": "stream",
          "name": "stderr",
          "text": [
            "\n",
            "[Succeeded / Failed / Skipped / Total] 4 / 0 / 1 / 5:  50%|█████     | 5/10 [00:04<00:04,  1.22it/s]\u001b[A\n",
            "[Succeeded / Failed / Skipped / Total] 4 / 0 / 1 / 5:  60%|██████    | 6/10 [00:04<00:02,  1.46it/s]\u001b[A\n",
            "[Succeeded / Failed / Skipped / Total] 4 / 0 / 2 / 6:  60%|██████    | 6/10 [00:04<00:02,  1.46it/s]\u001b[A"
          ]
        },
        {
          "output_type": "stream",
          "name": "stdout",
          "text": [
            "--------------------------------------------- Result 5 ---------------------------------------------\n",
            "[[Positive (74%)]] --> [[Negative (56%)]]\n",
            "\n",
            "[[red]] dragon \" never cuts corners .\n",
            "\n",
            "[[magenta]] dragon \" never cuts corners .\n",
            "\n",
            "\n",
            "--------------------------------------------- Result 6 ---------------------------------------------\n",
            "[[Negative (64%)]] --> [[[SKIPPED]]]\n",
            "\n",
            "fresnadillo has something serious to say about the ways in which extravagant chance can distort our perspective and throw us off the path of good sense .\n",
            "\n",
            "\n"
          ]
        },
        {
          "output_type": "stream",
          "name": "stderr",
          "text": [
            "\n",
            "[Succeeded / Failed / Skipped / Total] 5 / 0 / 2 / 7:  70%|███████   | 7/10 [00:05<00:02,  1.26it/s]\u001b[A"
          ]
        },
        {
          "output_type": "stream",
          "name": "stdout",
          "text": [
            "--------------------------------------------- Result 7 ---------------------------------------------\n",
            "[[Positive (100%)]] --> [[Negative (72%)]]\n",
            "\n",
            "throws in enough [[clever]] and [[unexpected]] twists to make the [[formula]] feel fresh .\n",
            "\n",
            "throws in enough [[observant]] and [[expectant]] twists to make the [[standard]] feel fresh .\n",
            "\n",
            "\n"
          ]
        },
        {
          "output_type": "stream",
          "name": "stderr",
          "text": [
            "\n",
            "[Succeeded / Failed / Skipped / Total] 5 / 0 / 2 / 7:  80%|████████  | 8/10 [00:06<00:01,  1.25it/s]\u001b[A\n",
            "[Succeeded / Failed / Skipped / Total] 6 / 0 / 2 / 8:  80%|████████  | 8/10 [00:06<00:01,  1.25it/s]\u001b[A"
          ]
        },
        {
          "output_type": "stream",
          "name": "stdout",
          "text": [
            "--------------------------------------------- Result 8 ---------------------------------------------\n",
            "[[Positive (97%)]] --> [[Negative (88%)]]\n",
            "\n",
            "weighty and ponderous but every bit as [[filling]] as the treat of the title .\n",
            "\n",
            "weighty and ponderous but every bit as [[loading]] as the treat of the title .\n",
            "\n",
            "\n"
          ]
        },
        {
          "output_type": "stream",
          "name": "stderr",
          "text": [
            "\n",
            "[Succeeded / Failed / Skipped / Total] 7 / 0 / 2 / 9:  90%|█████████ | 9/10 [00:08<00:00,  1.12it/s]\u001b[A"
          ]
        },
        {
          "output_type": "stream",
          "name": "stdout",
          "text": [
            "--------------------------------------------- Result 9 ---------------------------------------------\n",
            "[[Positive (100%)]] --> [[Negative (92%)]]\n",
            "\n",
            "a [[real]] audience-pleaser that will strike a [[chord]] with anyone who's ever waited in a doctor's office , emergency room , hospital bed or insurance company office .\n",
            "\n",
            "a [[irrefutable]] audience-pleaser that will strike a [[graph]] with anyone who's ever waited in a doctor's office , emergency room , hospital bed or insurance company office .\n",
            "\n",
            "\n"
          ]
        },
        {
          "output_type": "stream",
          "name": "stderr",
          "text": [
            "\n",
            "[Succeeded / Failed / Skipped / Total] 7 / 0 / 2 / 9: 100%|██████████| 10/10 [00:09<00:00,  1.10it/s]\u001b[A\n",
            "[Succeeded / Failed / Skipped / Total] 8 / 0 / 2 / 10: 100%|██████████| 10/10 [00:09<00:00,  1.10it/s]"
          ]
        },
        {
          "output_type": "stream",
          "name": "stdout",
          "text": [
            "--------------------------------------------- Result 10 ---------------------------------------------\n",
            "[[Positive (100%)]] --> [[Negative (99%)]]\n",
            "\n",
            "[[generates]] an [[enormous]] feeling of empathy for its characters .\n",
            "\n",
            "[[appears]] an [[stupendous]] feeling of empathy for its characters .\n",
            "\n",
            "\n",
            "\n",
            "+-------------------------------+--------+\n",
            "| Attack Results                |        |\n",
            "+-------------------------------+--------+\n",
            "| Number of successful attacks: | 8      |\n",
            "| Number of failed attacks:     | 0      |\n",
            "| Number of skipped attacks:    | 2      |\n",
            "| Original accuracy:            | 80.0%  |\n",
            "| Accuracy under attack:        | 0.0%   |\n",
            "| Attack success rate:          | 100.0% |\n",
            "| Average perturbed word %:     | 18.25% |\n",
            "| Average num. words per input: | 15.4   |\n",
            "| Avg num queries:              | 53.5   |\n",
            "+-------------------------------+--------+"
          ]
        },
        {
          "output_type": "stream",
          "name": "stderr",
          "text": [
            "\n",
            "textattack: Unknown if model of class <class 'transformers.models.albert.modeling_albert.AlbertForSequenceClassification'> compatible with goal function <class 'textattack.goal_functions.classification.targeted_classification.TargetedClassification'>.\n",
            "\n",
            "  0%|          | 0/10 [00:00<?, ?it/s]\u001b[A"
          ]
        },
        {
          "output_type": "stream",
          "name": "stdout",
          "text": [
            "\n",
            "Starting attack for----------------- WordDeletion TC\n",
            "Attack(\n",
            "  (search_method): GreedyWordSwapWIR(\n",
            "    (wir_method):  delete\n",
            "  )\n",
            "  (goal_function):  TargetedClassification(\n",
            "    (target_class):  0\n",
            "  )\n",
            "  (transformation):  WordDeletion\n",
            "  (constraints): \n",
            "    (0): RepeatModification\n",
            "    (1): StopwordModification\n",
            "  (is_black_box):  True\n",
            ") \n",
            "\n"
          ]
        },
        {
          "output_type": "stream",
          "name": "stderr",
          "text": [
            "\n",
            " 10%|█         | 1/10 [00:00<00:04,  1.95it/s]\u001b[A\n",
            "[Succeeded / Failed / Skipped / Total] 1 / 0 / 0 / 1:  10%|█         | 1/10 [00:00<00:04,  1.94it/s]\u001b[A\n",
            "[Succeeded / Failed / Skipped / Total] 1 / 0 / 0 / 1:  20%|██        | 2/10 [00:00<00:02,  2.83it/s]\u001b[A\n",
            "[Succeeded / Failed / Skipped / Total] 2 / 0 / 0 / 2:  20%|██        | 2/10 [00:00<00:02,  2.81it/s]\u001b[A"
          ]
        },
        {
          "output_type": "stream",
          "name": "stdout",
          "text": [
            "--------------------------------------------- Result 1 ---------------------------------------------\n",
            "[[Positive (100%)]] --> [[Negative (53%)]]\n",
            "\n",
            "[[lovingly]] photographed in the manner of a golden book sprung to life , stuart little 2 [[manages]] sweetness largely without stickiness .\n",
            "\n",
            "photographed in the manner of a golden book sprung to life , stuart little 2 sweetness largely without stickiness .\n",
            "\n",
            "\n",
            "--------------------------------------------- Result 2 ---------------------------------------------\n",
            "[[Positive (100%)]] --> [[Negative (83%)]]\n",
            "\n",
            "[[consistently]] [[clever]] and [[suspenseful]] .\n",
            "\n",
            "and .\n",
            "\n",
            "\n"
          ]
        },
        {
          "output_type": "stream",
          "name": "stderr",
          "text": [
            "\n",
            "[Succeeded / Failed / Skipped / Total] 2 / 0 / 1 / 3:  30%|███       | 3/10 [00:00<00:01,  4.02it/s]\u001b[A"
          ]
        },
        {
          "output_type": "stream",
          "name": "stdout",
          "text": [
            "--------------------------------------------- Result 3 ---------------------------------------------\n",
            "[[Negative (85%)]] --> [[[SKIPPED]]]\n",
            "\n",
            "it's like a \" big chill \" reunion of the baader-meinhof gang , only these guys are more harmless pranksters than political activists .\n",
            "\n",
            "\n"
          ]
        },
        {
          "output_type": "stream",
          "name": "stderr",
          "text": [
            "\n",
            "[Succeeded / Failed / Skipped / Total] 2 / 0 / 1 / 3:  40%|████      | 4/10 [00:01<00:02,  2.65it/s]\u001b[A\n",
            "[Succeeded / Failed / Skipped / Total] 2 / 1 / 1 / 4:  40%|████      | 4/10 [00:01<00:02,  2.64it/s]\u001b[A\n",
            "[Succeeded / Failed / Skipped / Total] 3 / 1 / 1 / 5:  50%|█████     | 5/10 [00:01<00:01,  2.96it/s]\u001b[A"
          ]
        },
        {
          "output_type": "stream",
          "name": "stdout",
          "text": [
            "--------------------------------------------- Result 4 ---------------------------------------------\n",
            "[[Positive (100%)]] --> [[[FAILED]]]\n",
            "\n",
            "the story gives ample opportunity for large-scale action and suspense , which director shekhar kapur supplies with tremendous skill .\n",
            "\n",
            "\n",
            "--------------------------------------------- Result 5 ---------------------------------------------\n",
            "[[Positive (74%)]] --> [[Negative (78%)]]\n",
            "\n",
            "red dragon \" [[never]] cuts corners .\n",
            "\n",
            "red dragon \" cuts corners .\n",
            "\n",
            "\n"
          ]
        },
        {
          "output_type": "stream",
          "name": "stderr",
          "text": [
            "\n",
            "[Succeeded / Failed / Skipped / Total] 3 / 1 / 1 / 5:  60%|██████    | 6/10 [00:01<00:01,  3.49it/s]\u001b[A\n",
            "[Succeeded / Failed / Skipped / Total] 3 / 1 / 2 / 6:  60%|██████    | 6/10 [00:01<00:01,  3.48it/s]\u001b[A"
          ]
        },
        {
          "output_type": "stream",
          "name": "stdout",
          "text": [
            "--------------------------------------------- Result 6 ---------------------------------------------\n",
            "[[Negative (64%)]] --> [[[SKIPPED]]]\n",
            "\n",
            "fresnadillo has something serious to say about the ways in which extravagant chance can distort our perspective and throw us off the path of good sense .\n",
            "\n",
            "\n"
          ]
        },
        {
          "output_type": "stream",
          "name": "stderr",
          "text": [
            "\n",
            "[Succeeded / Failed / Skipped / Total] 4 / 1 / 2 / 7:  70%|███████   | 7/10 [00:02<00:00,  3.23it/s]\u001b[A"
          ]
        },
        {
          "output_type": "stream",
          "name": "stdout",
          "text": [
            "--------------------------------------------- Result 7 ---------------------------------------------\n",
            "[[Positive (100%)]] --> [[Negative (52%)]]\n",
            "\n",
            "throws in enough [[clever]] and [[unexpected]] twists to [[make]] the [[formula]] [[feel]] fresh .\n",
            "\n",
            "throws in enough and twists to the fresh .\n",
            "\n",
            "\n"
          ]
        },
        {
          "output_type": "stream",
          "name": "stderr",
          "text": [
            "\n",
            "[Succeeded / Failed / Skipped / Total] 4 / 1 / 2 / 7:  80%|████████  | 8/10 [00:02<00:00,  3.20it/s]\u001b[A\n",
            "[Succeeded / Failed / Skipped / Total] 5 / 1 / 2 / 8:  80%|████████  | 8/10 [00:02<00:00,  3.19it/s]\u001b[A"
          ]
        },
        {
          "output_type": "stream",
          "name": "stdout",
          "text": [
            "--------------------------------------------- Result 8 ---------------------------------------------\n",
            "[[Positive (97%)]] --> [[Negative (67%)]]\n",
            "\n",
            "weighty and ponderous but [[every]] bit as filling as the treat of the title .\n",
            "\n",
            "weighty and ponderous but bit as filling as the treat of the title .\n",
            "\n",
            "\n"
          ]
        },
        {
          "output_type": "stream",
          "name": "stderr",
          "text": [
            "\n",
            "[Succeeded / Failed / Skipped / Total] 6 / 1 / 2 / 9:  90%|█████████ | 9/10 [00:03<00:00,  2.84it/s]\u001b[A"
          ]
        },
        {
          "output_type": "stream",
          "name": "stdout",
          "text": [
            "--------------------------------------------- Result 9 ---------------------------------------------\n",
            "[[Positive (100%)]] --> [[Negative (95%)]]\n",
            "\n",
            "[[a]] real [[audience-pleaser]] that will strike a [[chord]] [[with]] anyone who's ever waited [[in]] a doctor's office , emergency room , hospital bed or insurance company office .\n",
            "\n",
            "real that will strike a anyone who's ever waited a doctor's office , emergency room , hospital bed or insurance company office .\n",
            "\n",
            "\n"
          ]
        },
        {
          "output_type": "stream",
          "name": "stderr",
          "text": [
            "\n",
            "[Succeeded / Failed / Skipped / Total] 6 / 1 / 2 / 9: 100%|██████████| 10/10 [00:03<00:00,  2.83it/s]\u001b[A\n",
            "[Succeeded / Failed / Skipped / Total] 6 / 2 / 2 / 10: 100%|██████████| 10/10 [00:03<00:00,  2.83it/s]"
          ]
        },
        {
          "output_type": "stream",
          "name": "stdout",
          "text": [
            "--------------------------------------------- Result 10 ---------------------------------------------\n",
            "[[Positive (100%)]] --> [[[FAILED]]]\n",
            "\n",
            "generates an enormous feeling of empathy for its characters .\n",
            "\n",
            "\n",
            "\n",
            "+-------------------------------+--------+\n",
            "| Attack Results                |        |\n",
            "+-------------------------------+--------+\n",
            "| Number of successful attacks: | 6      |\n",
            "| Number of failed attacks:     | 2      |\n",
            "| Number of skipped attacks:    | 2      |\n",
            "| Original accuracy:            | 80.0%  |\n",
            "| Accuracy under attack:        | 20.0%  |\n",
            "| Attack success rate:          | 75.0%  |\n",
            "| Average perturbed word %:     | 56.29% |\n",
            "| Average num. words per input: | 15.4   |\n",
            "| Avg num queries:              | 19.5   |\n",
            "+-------------------------------+--------+"
          ]
        },
        {
          "output_type": "stream",
          "name": "stderr",
          "text": [
            "\n",
            "textattack: Unknown if model of class <class 'transformers.models.albert.modeling_albert.AlbertForSequenceClassification'> compatible with goal function <class 'textattack.goal_functions.classification.targeted_classification.TargetedClassification'>.\n",
            "\n",
            "  0%|          | 0/10 [00:00<?, ?it/s]\u001b[A"
          ]
        },
        {
          "output_type": "stream",
          "name": "stdout",
          "text": [
            "\n",
            "Starting attack for----------------- WordSwapRandomCharacterSubstitution TC\n",
            "Attack(\n",
            "  (search_method): GreedyWordSwapWIR(\n",
            "    (wir_method):  delete\n",
            "  )\n",
            "  (goal_function):  TargetedClassification(\n",
            "    (target_class):  0\n",
            "  )\n",
            "  (transformation):  WordSwapRandomCharacterSubstitution(\n",
            "    (random_one):  True\n",
            "  )\n",
            "  (constraints): \n",
            "    (0): RepeatModification\n",
            "    (1): StopwordModification\n",
            "  (is_black_box):  True\n",
            ") \n",
            "\n"
          ]
        },
        {
          "output_type": "stream",
          "name": "stderr",
          "text": [
            "\n",
            " 10%|█         | 1/10 [00:00<00:04,  2.05it/s]\u001b[A\n",
            "[Succeeded / Failed / Skipped / Total] 1 / 0 / 0 / 1:  10%|█         | 1/10 [00:00<00:04,  2.03it/s]\u001b[A\n",
            "[Succeeded / Failed / Skipped / Total] 1 / 0 / 0 / 1:  20%|██        | 2/10 [00:00<00:02,  2.92it/s]\u001b[A\n",
            "[Succeeded / Failed / Skipped / Total] 1 / 1 / 0 / 2:  20%|██        | 2/10 [00:00<00:02,  2.90it/s]\u001b[A"
          ]
        },
        {
          "output_type": "stream",
          "name": "stdout",
          "text": [
            "--------------------------------------------- Result 1 ---------------------------------------------\n",
            "[[Positive (100%)]] --> [[Negative (94%)]]\n",
            "\n",
            "lovingly photographed in the manner of a golden book sprung to life , stuart little 2 [[manages]] [[sweetness]] largely without stickiness .\n",
            "\n",
            "lovingly photographed in the manner of a golden book sprung to life , stuart little 2 [[managcs]] [[sweeEness]] largely without stickiness .\n",
            "\n",
            "\n",
            "--------------------------------------------- Result 2 ---------------------------------------------\n",
            "[[Positive (100%)]] --> [[[FAILED]]]\n",
            "\n",
            "consistently clever and suspenseful .\n",
            "\n",
            "\n"
          ]
        },
        {
          "output_type": "stream",
          "name": "stderr",
          "text": [
            "\n",
            "[Succeeded / Failed / Skipped / Total] 1 / 1 / 1 / 3:  30%|███       | 3/10 [00:00<00:01,  4.15it/s]\u001b[A"
          ]
        },
        {
          "output_type": "stream",
          "name": "stdout",
          "text": [
            "--------------------------------------------- Result 3 ---------------------------------------------\n",
            "[[Negative (85%)]] --> [[[SKIPPED]]]\n",
            "\n",
            "it's like a \" big chill \" reunion of the baader-meinhof gang , only these guys are more harmless pranksters than political activists .\n",
            "\n",
            "\n"
          ]
        },
        {
          "output_type": "stream",
          "name": "stderr",
          "text": [
            "\n",
            "[Succeeded / Failed / Skipped / Total] 1 / 1 / 1 / 3:  40%|████      | 4/10 [00:01<00:02,  2.94it/s]\u001b[A\n",
            "[Succeeded / Failed / Skipped / Total] 2 / 1 / 1 / 4:  40%|████      | 4/10 [00:01<00:02,  2.93it/s]\u001b[A\n",
            "[Succeeded / Failed / Skipped / Total] 3 / 1 / 1 / 5:  50%|█████     | 5/10 [00:01<00:01,  3.24it/s]\u001b[A"
          ]
        },
        {
          "output_type": "stream",
          "name": "stdout",
          "text": [
            "--------------------------------------------- Result 4 ---------------------------------------------\n",
            "[[Positive (100%)]] --> [[Negative (62%)]]\n",
            "\n",
            "the [[story]] [[gives]] ample opportunity for [[large-scale]] [[action]] and suspense , which director shekhar kapur [[supplies]] with [[tremendous]] skill .\n",
            "\n",
            "the [[stHry]] [[givgs]] ample opportunity for [[large-sXale]] [[actiNn]] and suspense , which director shekhar kapur [[supplils]] with [[lremendous]] skill .\n",
            "\n",
            "\n",
            "--------------------------------------------- Result 5 ---------------------------------------------\n",
            "[[Positive (74%)]] --> [[Negative (89%)]]\n",
            "\n",
            "red dragon \" [[never]] cuts corners .\n",
            "\n",
            "red dragon \" [[zever]] cuts corners .\n",
            "\n",
            "\n"
          ]
        },
        {
          "output_type": "stream",
          "name": "stderr",
          "text": [
            "\n",
            "[Succeeded / Failed / Skipped / Total] 3 / 1 / 1 / 5:  60%|██████    | 6/10 [00:01<00:01,  3.82it/s]\u001b[A\n",
            "[Succeeded / Failed / Skipped / Total] 3 / 1 / 2 / 6:  60%|██████    | 6/10 [00:01<00:01,  3.81it/s]\u001b[A"
          ]
        },
        {
          "output_type": "stream",
          "name": "stdout",
          "text": [
            "--------------------------------------------- Result 6 ---------------------------------------------\n",
            "[[Negative (64%)]] --> [[[SKIPPED]]]\n",
            "\n",
            "fresnadillo has something serious to say about the ways in which extravagant chance can distort our perspective and throw us off the path of good sense .\n",
            "\n",
            "\n"
          ]
        },
        {
          "output_type": "stream",
          "name": "stderr",
          "text": [
            "\n",
            "[Succeeded / Failed / Skipped / Total] 4 / 1 / 2 / 7:  70%|███████   | 7/10 [00:02<00:00,  3.46it/s]\u001b[A"
          ]
        },
        {
          "output_type": "stream",
          "name": "stdout",
          "text": [
            "--------------------------------------------- Result 7 ---------------------------------------------\n",
            "[[Positive (100%)]] --> [[Negative (93%)]]\n",
            "\n",
            "throws in enough [[clever]] and [[unexpected]] [[twists]] to [[make]] the formula feel [[fresh]] .\n",
            "\n",
            "throws in enough [[cleler]] and [[udexpected]] [[twistr]] to [[makU]] the formula feel [[iresh]] .\n",
            "\n",
            "\n"
          ]
        },
        {
          "output_type": "stream",
          "name": "stderr",
          "text": [
            "\n",
            "[Succeeded / Failed / Skipped / Total] 4 / 1 / 2 / 7:  80%|████████  | 8/10 [00:02<00:00,  3.36it/s]\u001b[A\n",
            "[Succeeded / Failed / Skipped / Total] 5 / 1 / 2 / 8:  80%|████████  | 8/10 [00:02<00:00,  3.35it/s]\u001b[A"
          ]
        },
        {
          "output_type": "stream",
          "name": "stdout",
          "text": [
            "--------------------------------------------- Result 8 ---------------------------------------------\n",
            "[[Positive (97%)]] --> [[Negative (73%)]]\n",
            "\n",
            "weighty and ponderous but [[every]] bit as [[filling]] as the treat of the title .\n",
            "\n",
            "weighty and ponderous but [[zvery]] bit as [[fillyng]] as the treat of the title .\n",
            "\n",
            "\n"
          ]
        },
        {
          "output_type": "stream",
          "name": "stderr",
          "text": [
            "\n",
            "[Succeeded / Failed / Skipped / Total] 6 / 1 / 2 / 9:  90%|█████████ | 9/10 [00:03<00:00,  2.93it/s]\u001b[A"
          ]
        },
        {
          "output_type": "stream",
          "name": "stdout",
          "text": [
            "--------------------------------------------- Result 9 ---------------------------------------------\n",
            "[[Positive (100%)]] --> [[Negative (75%)]]\n",
            "\n",
            "a [[real]] audience-pleaser that will strike a [[chord]] with anyone [[who's]] [[ever]] [[waited]] in a doctor's office , emergency room , hospital bed or insurance company office .\n",
            "\n",
            "a [[reYl]] audience-pleaser that will strike a [[Zhord]] with anyone [[Hho's]] [[evQr]] [[wBited]] in a doctor's office , emergency room , hospital bed or insurance company office .\n",
            "\n",
            "\n"
          ]
        },
        {
          "output_type": "stream",
          "name": "stderr",
          "text": [
            "\n",
            "[Succeeded / Failed / Skipped / Total] 6 / 1 / 2 / 9: 100%|██████████| 10/10 [00:03<00:00,  2.93it/s]\u001b[A\n",
            "[Succeeded / Failed / Skipped / Total] 7 / 1 / 2 / 10: 100%|██████████| 10/10 [00:03<00:00,  2.93it/s]"
          ]
        },
        {
          "output_type": "stream",
          "name": "stdout",
          "text": [
            "--------------------------------------------- Result 10 ---------------------------------------------\n",
            "[[Positive (100%)]] --> [[Negative (99%)]]\n",
            "\n",
            "[[generates]] an [[enormous]] feeling of [[empathy]] for its [[characters]] .\n",
            "\n",
            "[[gmnerates]] an [[enCrmous]] feeling of [[eTpathy]] for its [[charqcters]] .\n",
            "\n",
            "\n",
            "\n",
            "+-------------------------------+--------+\n",
            "| Attack Results                |        |\n",
            "+-------------------------------+--------+\n",
            "| Number of successful attacks: | 7      |\n",
            "| Number of failed attacks:     | 1      |\n",
            "| Number of skipped attacks:    | 2      |\n",
            "| Original accuracy:            | 80.0%  |\n",
            "| Accuracy under attack:        | 10.0%  |\n",
            "| Attack success rate:          | 87.5%  |\n",
            "| Average perturbed word %:     | 25.79% |\n",
            "| Average num. words per input: | 15.4   |\n",
            "| Avg num queries:              | 18.88  |\n",
            "+-------------------------------+--------+"
          ]
        },
        {
          "output_type": "stream",
          "name": "stderr",
          "text": [
            "\n"
          ]
        },
        {
          "output_type": "stream",
          "name": "stdout",
          "text": [
            "\n",
            "Starting attack for----------------- WordSwapMaskedLM TC\n"
          ]
        },
        {
          "output_type": "stream",
          "name": "stderr",
          "text": [
            "Some weights of the model checkpoint at bert-base-uncased were not used when initializing BertForMaskedLM: ['cls.seq_relationship.weight', 'cls.seq_relationship.bias']\n",
            "- This IS expected if you are initializing BertForMaskedLM from the checkpoint of a model trained on another task or with another architecture (e.g. initializing a BertForSequenceClassification model from a BertForPreTraining model).\n",
            "- This IS NOT expected if you are initializing BertForMaskedLM from the checkpoint of a model that you expect to be exactly identical (initializing a BertForSequenceClassification model from a BertForSequenceClassification model).\n",
            "textattack: Unknown if model of class <class 'transformers.models.albert.modeling_albert.AlbertForSequenceClassification'> compatible with goal function <class 'textattack.goal_functions.classification.targeted_classification.TargetedClassification'>.\n",
            "\n",
            "  0%|          | 0/10 [00:00<?, ?it/s]\u001b[A"
          ]
        },
        {
          "output_type": "stream",
          "name": "stdout",
          "text": [
            "Attack(\n",
            "  (search_method): GreedyWordSwapWIR(\n",
            "    (wir_method):  delete\n",
            "  )\n",
            "  (goal_function):  TargetedClassification(\n",
            "    (target_class):  0\n",
            "  )\n",
            "  (transformation):  WordSwapMaskedLM(\n",
            "    (method):  bert-attack\n",
            "    (masked_lm_name):  BertForMaskedLM\n",
            "    (max_length):  512\n",
            "    (max_candidates):  48\n",
            "    (min_confidence):  0.0005\n",
            "  )\n",
            "  (constraints): \n",
            "    (0): RepeatModification\n",
            "    (1): StopwordModification\n",
            "  (is_black_box):  True\n",
            ") \n",
            "\n"
          ]
        },
        {
          "output_type": "stream",
          "name": "stderr",
          "text": [
            "\n",
            " 10%|█         | 1/10 [00:02<00:20,  2.25s/it]\u001b[A\n",
            "[Succeeded / Failed / Skipped / Total] 1 / 0 / 0 / 1:  10%|█         | 1/10 [00:02<00:20,  2.25s/it]\u001b[A"
          ]
        },
        {
          "output_type": "stream",
          "name": "stdout",
          "text": [
            "--------------------------------------------- Result 1 ---------------------------------------------\n",
            "[[Positive (100%)]] --> [[Negative (99%)]]\n",
            "\n",
            "lovingly photographed in the manner of a golden book sprung to life , stuart little 2 [[manages]] [[sweetness]] largely without stickiness .\n",
            "\n",
            "lovingly photographed in the manner of a golden book sprung to life , stuart little 2 [[remains]] [[timeless]] largely without stickiness .\n",
            "\n",
            "\n"
          ]
        },
        {
          "output_type": "stream",
          "name": "stderr",
          "text": [
            "\n",
            "[Succeeded / Failed / Skipped / Total] 1 / 0 / 0 / 1:  20%|██        | 2/10 [00:05<00:21,  2.69s/it]\u001b[A\n",
            "[Succeeded / Failed / Skipped / Total] 1 / 1 / 0 / 2:  20%|██        | 2/10 [00:05<00:21,  2.69s/it]\u001b[A\n",
            "[Succeeded / Failed / Skipped / Total] 1 / 1 / 1 / 3:  30%|███       | 3/10 [00:05<00:12,  1.80s/it]\u001b[A"
          ]
        },
        {
          "output_type": "stream",
          "name": "stdout",
          "text": [
            "--------------------------------------------- Result 2 ---------------------------------------------\n",
            "[[Positive (100%)]] --> [[[FAILED]]]\n",
            "\n",
            "consistently clever and suspenseful .\n",
            "\n",
            "\n",
            "--------------------------------------------- Result 3 ---------------------------------------------\n",
            "[[Negative (85%)]] --> [[[SKIPPED]]]\n",
            "\n",
            "it's like a \" big chill \" reunion of the baader-meinhof gang , only these guys are more harmless pranksters than political activists .\n",
            "\n",
            "\n"
          ]
        },
        {
          "output_type": "stream",
          "name": "stderr",
          "text": [
            "\n",
            "[Succeeded / Failed / Skipped / Total] 1 / 1 / 1 / 3:  40%|████      | 4/10 [00:09<00:14,  2.42s/it]\u001b[A\n",
            "[Succeeded / Failed / Skipped / Total] 2 / 1 / 1 / 4:  40%|████      | 4/10 [00:09<00:14,  2.42s/it]\u001b[A"
          ]
        },
        {
          "output_type": "stream",
          "name": "stdout",
          "text": [
            "--------------------------------------------- Result 4 ---------------------------------------------\n",
            "[[Positive (100%)]] --> [[Negative (74%)]]\n",
            "\n",
            "the [[story]] [[gives]] ample opportunity for large-scale action and suspense , which director shekhar kapur [[supplies]] with [[tremendous]] skill .\n",
            "\n",
            "the [[screenplay]] [[gave]] ample opportunity for large-scale action and suspense , which director shekhar kapur [[hires]] with [[he]] skill .\n",
            "\n",
            "\n"
          ]
        },
        {
          "output_type": "stream",
          "name": "stderr",
          "text": [
            "\n",
            "[Succeeded / Failed / Skipped / Total] 3 / 1 / 1 / 5:  50%|█████     | 5/10 [00:10<00:10,  2.14s/it]\u001b[A\n",
            "[Succeeded / Failed / Skipped / Total] 3 / 1 / 1 / 5:  60%|██████    | 6/10 [00:10<00:07,  1.79s/it]\u001b[A\n",
            "[Succeeded / Failed / Skipped / Total] 3 / 1 / 2 / 6:  60%|██████    | 6/10 [00:10<00:07,  1.79s/it]\u001b[A"
          ]
        },
        {
          "output_type": "stream",
          "name": "stdout",
          "text": [
            "--------------------------------------------- Result 5 ---------------------------------------------\n",
            "[[Positive (74%)]] --> [[Negative (98%)]]\n",
            "\n",
            "red dragon \" [[never]] cuts corners .\n",
            "\n",
            "red dragon \" [[just]] cuts corners .\n",
            "\n",
            "\n",
            "--------------------------------------------- Result 6 ---------------------------------------------\n",
            "[[Negative (64%)]] --> [[[SKIPPED]]]\n",
            "\n",
            "fresnadillo has something serious to say about the ways in which extravagant chance can distort our perspective and throw us off the path of good sense .\n",
            "\n",
            "\n"
          ]
        },
        {
          "output_type": "stream",
          "name": "stderr",
          "text": [
            "\n",
            "[Succeeded / Failed / Skipped / Total] 4 / 1 / 2 / 7:  70%|███████   | 7/10 [00:13<00:05,  1.99s/it]\u001b[A"
          ]
        },
        {
          "output_type": "stream",
          "name": "stdout",
          "text": [
            "--------------------------------------------- Result 7 ---------------------------------------------\n",
            "[[Positive (100%)]] --> [[Negative (60%)]]\n",
            "\n",
            "throws in enough [[clever]] and [[unexpected]] twists to make the [[formula]] feel fresh .\n",
            "\n",
            "throws in enough [[stupid]] and [[absurd]] twists to make the [[title]] feel fresh .\n",
            "\n",
            "\n"
          ]
        },
        {
          "output_type": "stream",
          "name": "stderr",
          "text": [
            "\n",
            "[Succeeded / Failed / Skipped / Total] 4 / 1 / 2 / 7:  80%|████████  | 8/10 [00:15<00:03,  1.89s/it]\u001b[A\n",
            "[Succeeded / Failed / Skipped / Total] 5 / 1 / 2 / 8:  80%|████████  | 8/10 [00:15<00:03,  1.89s/it]\u001b[A"
          ]
        },
        {
          "output_type": "stream",
          "name": "stdout",
          "text": [
            "--------------------------------------------- Result 8 ---------------------------------------------\n",
            "[[Positive (97%)]] --> [[Negative (82%)]]\n",
            "\n",
            "weighty and ponderous but [[every]] bit as filling as the treat of the title .\n",
            "\n",
            "weighty and ponderous but [[just]] bit as filling as the treat of the title .\n",
            "\n",
            "\n"
          ]
        },
        {
          "output_type": "stream",
          "name": "stderr",
          "text": [
            "\n",
            "[Succeeded / Failed / Skipped / Total] 5 / 1 / 2 / 8:  80%|████████  | 8/10 [00:33<00:08,  4.15s/it]\u001b[A\n",
            "[Succeeded / Failed / Skipped / Total] 5 / 1 / 2 / 8:  90%|█████████ | 9/10 [00:57<00:06,  6.34s/it]\u001b[A\n",
            "[Succeeded / Failed / Skipped / Total] 6 / 1 / 2 / 9:  90%|█████████ | 9/10 [00:57<00:06,  6.34s/it]\u001b[A"
          ]
        },
        {
          "output_type": "stream",
          "name": "stdout",
          "text": [
            "--------------------------------------------- Result 9 ---------------------------------------------\n",
            "[[Positive (100%)]] --> [[Negative (65%)]]\n",
            "\n",
            "a [[real]] audience-pleaser that will [[strike]] a [[chord]] with anyone [[who's]] ever waited in a doctor's office , emergency room , hospital bed or insurance company office .\n",
            "\n",
            "a [[fake]] audience-pleaser that will [[trigger]] a [[notch]] with anyone [[who'em]] ever waited in a doctor's office , emergency room , hospital bed or insurance company office .\n",
            "\n",
            "\n"
          ]
        },
        {
          "output_type": "stream",
          "name": "stderr",
          "text": [
            "\n",
            "[Succeeded / Failed / Skipped / Total] 6 / 1 / 2 / 9: 100%|██████████| 10/10 [01:00<00:00,  6.00s/it]\u001b[A\n",
            "[Succeeded / Failed / Skipped / Total] 7 / 1 / 2 / 10: 100%|██████████| 10/10 [01:00<00:00,  6.00s/it]"
          ]
        },
        {
          "output_type": "stream",
          "name": "stdout",
          "text": [
            "--------------------------------------------- Result 10 ---------------------------------------------\n",
            "[[Positive (100%)]] --> [[Negative (65%)]]\n",
            "\n",
            "[[generates]] an [[enormous]] [[feeling]] of empathy for its characters .\n",
            "\n",
            "[[i]] an [[kind]] [[rating]] of empathy for its characters .\n",
            "\n",
            "\n",
            "\n",
            "+-------------------------------+--------+\n",
            "| Attack Results                |        |\n",
            "+-------------------------------+--------+\n",
            "| Number of successful attacks: | 7      |\n",
            "| Number of failed attacks:     | 1      |\n",
            "| Number of skipped attacks:    | 2      |\n",
            "| Original accuracy:            | 80.0%  |\n",
            "| Accuracy under attack:        | 10.0%  |\n",
            "| Attack success rate:          | 87.5%  |\n",
            "| Average perturbed word %:     | 18.83% |\n",
            "| Average num. words per input: | 15.4   |\n",
            "| Avg num queries:              | 129.0  |\n",
            "+-------------------------------+--------+"
          ]
        },
        {
          "output_type": "stream",
          "name": "stderr",
          "text": [
            "\n"
          ]
        },
        {
          "output_type": "stream",
          "name": "stdout",
          "text": [
            "\n",
            "Starting attack for----------------- WordInsertionMaskedLM TC\n"
          ]
        },
        {
          "output_type": "stream",
          "name": "stderr",
          "text": [
            "Some weights of the model checkpoint at bert-base-uncased were not used when initializing BertForMaskedLM: ['cls.seq_relationship.weight', 'cls.seq_relationship.bias']\n",
            "- This IS expected if you are initializing BertForMaskedLM from the checkpoint of a model trained on another task or with another architecture (e.g. initializing a BertForSequenceClassification model from a BertForPreTraining model).\n",
            "- This IS NOT expected if you are initializing BertForMaskedLM from the checkpoint of a model that you expect to be exactly identical (initializing a BertForSequenceClassification model from a BertForSequenceClassification model).\n",
            "textattack: Unknown if model of class <class 'transformers.models.albert.modeling_albert.AlbertForSequenceClassification'> compatible with goal function <class 'textattack.goal_functions.classification.targeted_classification.TargetedClassification'>.\n"
          ]
        },
        {
          "output_type": "stream",
          "name": "stdout",
          "text": [
            "Not compatible\n",
            "Starting attack for----------------- WordMergeMaskedLM TC\n"
          ]
        },
        {
          "output_type": "stream",
          "name": "stderr",
          "text": [
            "Some weights of the model checkpoint at bert-base-uncased were not used when initializing BertForMaskedLM: ['cls.seq_relationship.weight', 'cls.seq_relationship.bias']\n",
            "- This IS expected if you are initializing BertForMaskedLM from the checkpoint of a model trained on another task or with another architecture (e.g. initializing a BertForSequenceClassification model from a BertForPreTraining model).\n",
            "- This IS NOT expected if you are initializing BertForMaskedLM from the checkpoint of a model that you expect to be exactly identical (initializing a BertForSequenceClassification model from a BertForSequenceClassification model).\n",
            "textattack: Unknown if model of class <class 'transformers.models.albert.modeling_albert.AlbertForSequenceClassification'> compatible with goal function <class 'textattack.goal_functions.classification.targeted_classification.TargetedClassification'>.\n",
            "textattack: Unknown if model of class <class 'transformers.models.albert.modeling_albert.AlbertForSequenceClassification'> compatible with goal function <class 'textattack.goal_functions.classification.targeted_classification.TargetedClassification'>.\n",
            "\n",
            "  0%|          | 0/10 [00:00<?, ?it/s]\u001b[A"
          ]
        },
        {
          "output_type": "stream",
          "name": "stdout",
          "text": [
            "Not compatible\n",
            "Starting attack for----------------- WordSwapExtend TC\n",
            "Attack(\n",
            "  (search_method): GreedyWordSwapWIR(\n",
            "    (wir_method):  delete\n",
            "  )\n",
            "  (goal_function):  TargetedClassification(\n",
            "    (target_class):  0\n",
            "  )\n",
            "  (transformation):  WordSwapExtend\n",
            "  (constraints): \n",
            "    (0): RepeatModification\n",
            "    (1): StopwordModification\n",
            "  (is_black_box):  True\n",
            ") \n",
            "\n"
          ]
        },
        {
          "output_type": "stream",
          "name": "stderr",
          "text": [
            "\n",
            " 10%|█         | 1/10 [00:00<00:03,  2.27it/s]\u001b[A\n",
            "[Succeeded / Failed / Skipped / Total] 0 / 1 / 0 / 1:  10%|█         | 1/10 [00:00<00:04,  2.25it/s]\u001b[A\n",
            "[Succeeded / Failed / Skipped / Total] 0 / 1 / 0 / 1:  20%|██        | 2/10 [00:00<00:02,  3.53it/s]\u001b[A\n",
            "[Succeeded / Failed / Skipped / Total] 0 / 2 / 0 / 2:  20%|██        | 2/10 [00:00<00:02,  3.51it/s]\u001b[A\n",
            "[Succeeded / Failed / Skipped / Total] 0 / 2 / 1 / 3:  30%|███       | 3/10 [00:00<00:01,  4.96it/s]\u001b[A"
          ]
        },
        {
          "output_type": "stream",
          "name": "stdout",
          "text": [
            "--------------------------------------------- Result 1 ---------------------------------------------\n",
            "[[Positive (100%)]] --> [[[FAILED]]]\n",
            "\n",
            "lovingly photographed in the manner of a golden book sprung to life , stuart little 2 manages sweetness largely without stickiness .\n",
            "\n",
            "\n",
            "--------------------------------------------- Result 2 ---------------------------------------------\n",
            "[[Positive (100%)]] --> [[[FAILED]]]\n",
            "\n",
            "consistently clever and suspenseful .\n",
            "\n",
            "\n",
            "--------------------------------------------- Result 3 ---------------------------------------------\n",
            "[[Negative (85%)]] --> [[[SKIPPED]]]\n",
            "\n",
            "it's like a \" big chill \" reunion of the baader-meinhof gang , only these guys are more harmless pranksters than political activists .\n",
            "\n",
            "\n"
          ]
        },
        {
          "output_type": "stream",
          "name": "stderr",
          "text": [
            "\n",
            "[Succeeded / Failed / Skipped / Total] 0 / 2 / 1 / 3:  40%|████      | 4/10 [00:01<00:01,  4.00it/s]\u001b[A\n",
            "[Succeeded / Failed / Skipped / Total] 0 / 3 / 1 / 4:  40%|████      | 4/10 [00:01<00:01,  3.97it/s]\u001b[A\n",
            "[Succeeded / Failed / Skipped / Total] 0 / 4 / 1 / 5:  50%|█████     | 5/10 [00:01<00:01,  4.31it/s]\u001b[A\n",
            "[Succeeded / Failed / Skipped / Total] 0 / 4 / 1 / 5:  60%|██████    | 6/10 [00:01<00:00,  5.03it/s]\u001b[A\n",
            "[Succeeded / Failed / Skipped / Total] 0 / 4 / 2 / 6:  60%|██████    | 6/10 [00:01<00:00,  5.02it/s]\u001b[A"
          ]
        },
        {
          "output_type": "stream",
          "name": "stdout",
          "text": [
            "--------------------------------------------- Result 4 ---------------------------------------------\n",
            "[[Positive (100%)]] --> [[[FAILED]]]\n",
            "\n",
            "the story gives ample opportunity for large-scale action and suspense , which director shekhar kapur supplies with tremendous skill .\n",
            "\n",
            "\n",
            "--------------------------------------------- Result 5 ---------------------------------------------\n",
            "[[Positive (74%)]] --> [[[FAILED]]]\n",
            "\n",
            "red dragon \" never cuts corners .\n",
            "\n",
            "\n",
            "--------------------------------------------- Result 6 ---------------------------------------------\n",
            "[[Negative (64%)]] --> [[[SKIPPED]]]\n",
            "\n",
            "fresnadillo has something serious to say about the ways in which extravagant chance can distort our perspective and throw us off the path of good sense .\n",
            "\n",
            "\n"
          ]
        },
        {
          "output_type": "stream",
          "name": "stderr",
          "text": [
            "\n",
            "[Succeeded / Failed / Skipped / Total] 0 / 5 / 2 / 7:  70%|███████   | 7/10 [00:01<00:00,  4.68it/s]\u001b[A"
          ]
        },
        {
          "output_type": "stream",
          "name": "stdout",
          "text": [
            "--------------------------------------------- Result 7 ---------------------------------------------\n",
            "[[Positive (100%)]] --> [[[FAILED]]]\n",
            "\n",
            "throws in enough clever and unexpected twists to make the formula feel fresh .\n",
            "\n",
            "\n"
          ]
        },
        {
          "output_type": "stream",
          "name": "stderr",
          "text": [
            "\n",
            "[Succeeded / Failed / Skipped / Total] 0 / 5 / 2 / 7:  80%|████████  | 8/10 [00:01<00:00,  4.42it/s]\u001b[A\n",
            "[Succeeded / Failed / Skipped / Total] 0 / 6 / 2 / 8:  80%|████████  | 8/10 [00:01<00:00,  4.41it/s]\u001b[A"
          ]
        },
        {
          "output_type": "stream",
          "name": "stdout",
          "text": [
            "--------------------------------------------- Result 8 ---------------------------------------------\n",
            "[[Positive (97%)]] --> [[[FAILED]]]\n",
            "\n",
            "weighty and ponderous but every bit as filling as the treat of the title .\n",
            "\n",
            "\n"
          ]
        },
        {
          "output_type": "stream",
          "name": "stderr",
          "text": [
            "\n",
            "[Succeeded / Failed / Skipped / Total] 0 / 7 / 2 / 9:  90%|█████████ | 9/10 [00:02<00:00,  3.78it/s]\u001b[A"
          ]
        },
        {
          "output_type": "stream",
          "name": "stdout",
          "text": [
            "--------------------------------------------- Result 9 ---------------------------------------------\n",
            "[[Positive (100%)]] --> [[[FAILED]]]\n",
            "\n",
            "a real audience-pleaser that will strike a chord with anyone who's ever waited in a doctor's office , emergency room , hospital bed or insurance company office .\n",
            "\n",
            "\n"
          ]
        },
        {
          "output_type": "stream",
          "name": "stderr",
          "text": [
            "\n",
            "[Succeeded / Failed / Skipped / Total] 0 / 7 / 2 / 9: 100%|██████████| 10/10 [00:02<00:00,  3.85it/s]\u001b[A\n",
            "[Succeeded / Failed / Skipped / Total] 0 / 8 / 2 / 10: 100%|██████████| 10/10 [00:02<00:00,  3.84it/s]"
          ]
        },
        {
          "output_type": "stream",
          "name": "stdout",
          "text": [
            "--------------------------------------------- Result 10 ---------------------------------------------\n",
            "[[Positive (100%)]] --> [[[FAILED]]]\n",
            "\n",
            "generates an enormous feeling of empathy for its characters .\n",
            "\n",
            "\n",
            "\n",
            "+-------------------------------+-------+\n",
            "| Attack Results                |       |\n",
            "+-------------------------------+-------+\n",
            "| Number of successful attacks: | 0     |\n",
            "| Number of failed attacks:     | 8     |\n",
            "| Number of skipped attacks:    | 2     |\n",
            "| Original accuracy:            | 80.0% |\n",
            "| Accuracy under attack:        | 80.0% |\n",
            "| Attack success rate:          | 0.0%  |\n",
            "| Average perturbed word %:     | nan%  |\n",
            "| Average num. words per input: | 15.4  |\n",
            "| Avg num queries:              | 14.62 |\n",
            "+-------------------------------+-------+"
          ]
        },
        {
          "output_type": "stream",
          "name": "stderr",
          "text": [
            "\n",
            "/usr/local/lib/python3.7/dist-packages/textattack/metrics/attack_metrics/words_perturbed.py:83: RuntimeWarning: Mean of empty slice.\n",
            "  average_perc_words_perturbed = self.perturbed_word_percentages.mean()\n",
            "/usr/local/lib/python3.7/dist-packages/numpy/core/_methods.py:189: RuntimeWarning: invalid value encountered in double_scalars\n",
            "  ret = ret.dtype.type(ret / rcount)\n",
            "textattack: Unknown if model of class <class 'transformers.models.albert.modeling_albert.AlbertForSequenceClassification'> compatible with goal function <class 'textattack.goal_functions.classification.targeted_classification.TargetedClassification'>.\n",
            "\n",
            "  0%|          | 0/10 [00:00<?, ?it/s]\u001b[A"
          ]
        },
        {
          "output_type": "stream",
          "name": "stdout",
          "text": [
            "\n",
            "Starting attack for----------------- WordSwapContract TC\n",
            "Attack(\n",
            "  (search_method): GreedyWordSwapWIR(\n",
            "    (wir_method):  delete\n",
            "  )\n",
            "  (goal_function):  TargetedClassification(\n",
            "    (target_class):  0\n",
            "  )\n",
            "  (transformation):  WordSwapContract\n",
            "  (constraints): \n",
            "    (0): RepeatModification\n",
            "    (1): StopwordModification\n",
            "  (is_black_box):  True\n",
            ") \n",
            "\n"
          ]
        },
        {
          "output_type": "stream",
          "name": "stderr",
          "text": [
            "\n",
            " 10%|█         | 1/10 [00:00<00:03,  2.26it/s]\u001b[A\n",
            "[Succeeded / Failed / Skipped / Total] 0 / 1 / 0 / 1:  10%|█         | 1/10 [00:00<00:04,  2.24it/s]\u001b[A\n",
            "[Succeeded / Failed / Skipped / Total] 0 / 1 / 0 / 1:  20%|██        | 2/10 [00:00<00:02,  3.52it/s]\u001b[A\n",
            "[Succeeded / Failed / Skipped / Total] 0 / 2 / 0 / 2:  20%|██        | 2/10 [00:00<00:02,  3.50it/s]\u001b[A\n",
            "[Succeeded / Failed / Skipped / Total] 0 / 2 / 1 / 3:  30%|███       | 3/10 [00:00<00:01,  4.96it/s]\u001b[A"
          ]
        },
        {
          "output_type": "stream",
          "name": "stdout",
          "text": [
            "--------------------------------------------- Result 1 ---------------------------------------------\n",
            "[[Positive (100%)]] --> [[[FAILED]]]\n",
            "\n",
            "lovingly photographed in the manner of a golden book sprung to life , stuart little 2 manages sweetness largely without stickiness .\n",
            "\n",
            "\n",
            "--------------------------------------------- Result 2 ---------------------------------------------\n",
            "[[Positive (100%)]] --> [[[FAILED]]]\n",
            "\n",
            "consistently clever and suspenseful .\n",
            "\n",
            "\n",
            "--------------------------------------------- Result 3 ---------------------------------------------\n",
            "[[Negative (85%)]] --> [[[SKIPPED]]]\n",
            "\n",
            "it's like a \" big chill \" reunion of the baader-meinhof gang , only these guys are more harmless pranksters than political activists .\n",
            "\n",
            "\n"
          ]
        },
        {
          "output_type": "stream",
          "name": "stderr",
          "text": [
            "\n",
            "[Succeeded / Failed / Skipped / Total] 0 / 2 / 1 / 3:  40%|████      | 4/10 [00:01<00:01,  3.99it/s]\u001b[A\n",
            "[Succeeded / Failed / Skipped / Total] 0 / 3 / 1 / 4:  40%|████      | 4/10 [00:01<00:01,  3.98it/s]\u001b[A\n",
            "[Succeeded / Failed / Skipped / Total] 0 / 4 / 1 / 5:  50%|█████     | 5/10 [00:01<00:01,  4.31it/s]\u001b[A\n",
            "[Succeeded / Failed / Skipped / Total] 0 / 4 / 1 / 5:  60%|██████    | 6/10 [00:01<00:00,  5.04it/s]\u001b[A\n",
            "[Succeeded / Failed / Skipped / Total] 0 / 4 / 2 / 6:  60%|██████    | 6/10 [00:01<00:00,  5.02it/s]\u001b[A"
          ]
        },
        {
          "output_type": "stream",
          "name": "stdout",
          "text": [
            "--------------------------------------------- Result 4 ---------------------------------------------\n",
            "[[Positive (100%)]] --> [[[FAILED]]]\n",
            "\n",
            "the story gives ample opportunity for large-scale action and suspense , which director shekhar kapur supplies with tremendous skill .\n",
            "\n",
            "\n",
            "--------------------------------------------- Result 5 ---------------------------------------------\n",
            "[[Positive (74%)]] --> [[[FAILED]]]\n",
            "\n",
            "red dragon \" never cuts corners .\n",
            "\n",
            "\n",
            "--------------------------------------------- Result 6 ---------------------------------------------\n",
            "[[Negative (64%)]] --> [[[SKIPPED]]]\n",
            "\n",
            "fresnadillo has something serious to say about the ways in which extravagant chance can distort our perspective and throw us off the path of good sense .\n",
            "\n",
            "\n"
          ]
        },
        {
          "output_type": "stream",
          "name": "stderr",
          "text": [
            "\n",
            "[Succeeded / Failed / Skipped / Total] 0 / 5 / 2 / 7:  70%|███████   | 7/10 [00:01<00:00,  4.68it/s]\u001b[A"
          ]
        },
        {
          "output_type": "stream",
          "name": "stdout",
          "text": [
            "--------------------------------------------- Result 7 ---------------------------------------------\n",
            "[[Positive (100%)]] --> [[[FAILED]]]\n",
            "\n",
            "throws in enough clever and unexpected twists to make the formula feel fresh .\n",
            "\n",
            "\n"
          ]
        },
        {
          "output_type": "stream",
          "name": "stderr",
          "text": [
            "\n",
            "[Succeeded / Failed / Skipped / Total] 0 / 5 / 2 / 7:  80%|████████  | 8/10 [00:01<00:00,  4.43it/s]\u001b[A\n",
            "[Succeeded / Failed / Skipped / Total] 0 / 6 / 2 / 8:  80%|████████  | 8/10 [00:01<00:00,  4.41it/s]\u001b[A"
          ]
        },
        {
          "output_type": "stream",
          "name": "stdout",
          "text": [
            "--------------------------------------------- Result 8 ---------------------------------------------\n",
            "[[Positive (97%)]] --> [[[FAILED]]]\n",
            "\n",
            "weighty and ponderous but every bit as filling as the treat of the title .\n",
            "\n",
            "\n"
          ]
        },
        {
          "output_type": "stream",
          "name": "stderr",
          "text": [
            "\n",
            "[Succeeded / Failed / Skipped / Total] 0 / 7 / 2 / 9:  90%|█████████ | 9/10 [00:02<00:00,  3.82it/s]\u001b[A"
          ]
        },
        {
          "output_type": "stream",
          "name": "stdout",
          "text": [
            "--------------------------------------------- Result 9 ---------------------------------------------\n",
            "[[Positive (100%)]] --> [[[FAILED]]]\n",
            "\n",
            "a real audience-pleaser that will strike a chord with anyone who's ever waited in a doctor's office , emergency room , hospital bed or insurance company office .\n",
            "\n",
            "\n"
          ]
        },
        {
          "output_type": "stream",
          "name": "stderr",
          "text": [
            "\n",
            "[Succeeded / Failed / Skipped / Total] 0 / 7 / 2 / 9: 100%|██████████| 10/10 [00:02<00:00,  3.89it/s]\u001b[A\n",
            "[Succeeded / Failed / Skipped / Total] 0 / 8 / 2 / 10: 100%|██████████| 10/10 [00:02<00:00,  3.88it/s]"
          ]
        },
        {
          "output_type": "stream",
          "name": "stdout",
          "text": [
            "--------------------------------------------- Result 10 ---------------------------------------------\n",
            "[[Positive (100%)]] --> [[[FAILED]]]\n",
            "\n",
            "generates an enormous feeling of empathy for its characters .\n",
            "\n",
            "\n",
            "\n",
            "+-------------------------------+-------+\n",
            "| Attack Results                |       |\n",
            "+-------------------------------+-------+\n",
            "| Number of successful attacks: | 0     |\n",
            "| Number of failed attacks:     | 8     |\n",
            "| Number of skipped attacks:    | 2     |\n",
            "| Original accuracy:            | 80.0% |\n",
            "| Accuracy under attack:        | 80.0% |\n",
            "| Attack success rate:          | 0.0%  |\n",
            "| Average perturbed word %:     | nan%  |\n",
            "| Average num. words per input: | 15.4  |\n",
            "| Avg num queries:              | 14.5  |\n",
            "+-------------------------------+-------+"
          ]
        },
        {
          "output_type": "stream",
          "name": "stderr",
          "text": [
            "\n",
            "textattack: Unknown if model of class <class 'transformers.models.albert.modeling_albert.AlbertForSequenceClassification'> compatible with goal function <class 'textattack.goal_functions.classification.targeted_classification.TargetedClassification'>.\n",
            "\n",
            "  0%|          | 0/10 [00:00<?, ?it/s]\u001b[A"
          ]
        },
        {
          "output_type": "stream",
          "name": "stdout",
          "text": [
            "\n",
            "Starting attack for----------------- WordSwapChangeName TC\n",
            "Attack(\n",
            "  (search_method): GreedyWordSwapWIR(\n",
            "    (wir_method):  delete\n",
            "  )\n",
            "  (goal_function):  TargetedClassification(\n",
            "    (target_class):  0\n",
            "  )\n",
            "  (transformation):  WordSwapChangeName\n",
            "  (constraints): \n",
            "    (0): RepeatModification\n",
            "    (1): StopwordModification\n",
            "  (is_black_box):  True\n",
            ") \n",
            "\n"
          ]
        },
        {
          "output_type": "stream",
          "name": "stderr",
          "text": [
            "\n",
            " 10%|█         | 1/10 [00:00<00:04,  2.18it/s]\u001b[A\n",
            "[Succeeded / Failed / Skipped / Total] 0 / 1 / 0 / 1:  10%|█         | 1/10 [00:00<00:04,  2.16it/s]\u001b[A\n",
            "[Succeeded / Failed / Skipped / Total] 0 / 1 / 0 / 1:  20%|██        | 2/10 [00:00<00:02,  3.40it/s]\u001b[A\n",
            "[Succeeded / Failed / Skipped / Total] 0 / 2 / 0 / 2:  20%|██        | 2/10 [00:00<00:02,  3.37it/s]\u001b[A\n",
            "[Succeeded / Failed / Skipped / Total] 0 / 2 / 1 / 3:  30%|███       | 3/10 [00:00<00:01,  4.79it/s]\u001b[A"
          ]
        },
        {
          "output_type": "stream",
          "name": "stdout",
          "text": [
            "--------------------------------------------- Result 1 ---------------------------------------------\n",
            "[[Positive (100%)]] --> [[[FAILED]]]\n",
            "\n",
            "lovingly photographed in the manner of a golden book sprung to life , stuart little 2 manages sweetness largely without stickiness .\n",
            "\n",
            "\n",
            "--------------------------------------------- Result 2 ---------------------------------------------\n",
            "[[Positive (100%)]] --> [[[FAILED]]]\n",
            "\n",
            "consistently clever and suspenseful .\n",
            "\n",
            "\n",
            "--------------------------------------------- Result 3 ---------------------------------------------\n",
            "[[Negative (85%)]] --> [[[SKIPPED]]]\n",
            "\n",
            "it's like a \" big chill \" reunion of the baader-meinhof gang , only these guys are more harmless pranksters than political activists .\n",
            "\n",
            "\n"
          ]
        },
        {
          "output_type": "stream",
          "name": "stderr",
          "text": [
            "\n",
            "[Succeeded / Failed / Skipped / Total] 0 / 2 / 1 / 3:  40%|████      | 4/10 [00:01<00:01,  3.85it/s]\u001b[A\n",
            "[Succeeded / Failed / Skipped / Total] 0 / 3 / 1 / 4:  40%|████      | 4/10 [00:01<00:01,  3.84it/s]\u001b[A\n",
            "[Succeeded / Failed / Skipped / Total] 0 / 4 / 1 / 5:  50%|█████     | 5/10 [00:01<00:01,  4.17it/s]\u001b[A\n",
            "[Succeeded / Failed / Skipped / Total] 0 / 4 / 1 / 5:  60%|██████    | 6/10 [00:01<00:00,  4.87it/s]\u001b[A\n",
            "[Succeeded / Failed / Skipped / Total] 0 / 4 / 2 / 6:  60%|██████    | 6/10 [00:01<00:00,  4.86it/s]\u001b[A"
          ]
        },
        {
          "output_type": "stream",
          "name": "stdout",
          "text": [
            "--------------------------------------------- Result 4 ---------------------------------------------\n",
            "[[Positive (100%)]] --> [[[FAILED]]]\n",
            "\n",
            "the story gives ample opportunity for large-scale action and suspense , which director shekhar kapur supplies with tremendous skill .\n",
            "\n",
            "\n",
            "--------------------------------------------- Result 5 ---------------------------------------------\n",
            "[[Positive (74%)]] --> [[[FAILED]]]\n",
            "\n",
            "red dragon \" never cuts corners .\n",
            "\n",
            "\n",
            "--------------------------------------------- Result 6 ---------------------------------------------\n",
            "[[Negative (64%)]] --> [[[SKIPPED]]]\n",
            "\n",
            "fresnadillo has something serious to say about the ways in which extravagant chance can distort our perspective and throw us off the path of good sense .\n",
            "\n",
            "\n"
          ]
        },
        {
          "output_type": "stream",
          "name": "stderr",
          "text": [
            "\n",
            "[Succeeded / Failed / Skipped / Total] 0 / 5 / 2 / 7:  70%|███████   | 7/10 [00:01<00:00,  4.52it/s]\u001b[A"
          ]
        },
        {
          "output_type": "stream",
          "name": "stdout",
          "text": [
            "--------------------------------------------- Result 7 ---------------------------------------------\n",
            "[[Positive (100%)]] --> [[[FAILED]]]\n",
            "\n",
            "throws in enough clever and unexpected twists to make the formula feel fresh .\n",
            "\n",
            "\n"
          ]
        },
        {
          "output_type": "stream",
          "name": "stderr",
          "text": [
            "\n",
            "[Succeeded / Failed / Skipped / Total] 0 / 5 / 2 / 7:  80%|████████  | 8/10 [00:01<00:00,  4.28it/s]\u001b[A\n",
            "[Succeeded / Failed / Skipped / Total] 0 / 6 / 2 / 8:  80%|████████  | 8/10 [00:01<00:00,  4.27it/s]\u001b[A"
          ]
        },
        {
          "output_type": "stream",
          "name": "stdout",
          "text": [
            "--------------------------------------------- Result 8 ---------------------------------------------\n",
            "[[Positive (97%)]] --> [[[FAILED]]]\n",
            "\n",
            "weighty and ponderous but every bit as filling as the treat of the title .\n",
            "\n",
            "\n"
          ]
        },
        {
          "output_type": "stream",
          "name": "stderr",
          "text": [
            "\n",
            "[Succeeded / Failed / Skipped / Total] 0 / 7 / 2 / 9:  90%|█████████ | 9/10 [00:02<00:00,  3.69it/s]\u001b[A"
          ]
        },
        {
          "output_type": "stream",
          "name": "stdout",
          "text": [
            "--------------------------------------------- Result 9 ---------------------------------------------\n",
            "[[Positive (100%)]] --> [[[FAILED]]]\n",
            "\n",
            "a real audience-pleaser that will strike a chord with anyone who's ever waited in a doctor's office , emergency room , hospital bed or insurance company office .\n",
            "\n",
            "\n"
          ]
        },
        {
          "output_type": "stream",
          "name": "stderr",
          "text": [
            "\n",
            "[Succeeded / Failed / Skipped / Total] 0 / 7 / 2 / 9: 100%|██████████| 10/10 [00:02<00:00,  3.76it/s]\u001b[A\n",
            "[Succeeded / Failed / Skipped / Total] 0 / 8 / 2 / 10: 100%|██████████| 10/10 [00:02<00:00,  3.75it/s]"
          ]
        },
        {
          "output_type": "stream",
          "name": "stdout",
          "text": [
            "--------------------------------------------- Result 10 ---------------------------------------------\n",
            "[[Positive (100%)]] --> [[[FAILED]]]\n",
            "\n",
            "generates an enormous feeling of empathy for its characters .\n",
            "\n",
            "\n",
            "\n",
            "+-------------------------------+-------+\n",
            "| Attack Results                |       |\n",
            "+-------------------------------+-------+\n",
            "| Number of successful attacks: | 0     |\n",
            "| Number of failed attacks:     | 8     |\n",
            "| Number of skipped attacks:    | 2     |\n",
            "| Original accuracy:            | 80.0% |\n",
            "| Accuracy under attack:        | 80.0% |\n",
            "| Attack success rate:          | 0.0%  |\n",
            "| Average perturbed word %:     | nan%  |\n",
            "| Average num. words per input: | 15.4  |\n",
            "| Avg num queries:              | 14.5  |\n",
            "+-------------------------------+-------+"
          ]
        },
        {
          "output_type": "stream",
          "name": "stderr",
          "text": [
            "\n",
            "textattack: Unknown if model of class <class 'transformers.models.albert.modeling_albert.AlbertForSequenceClassification'> compatible with goal function <class 'textattack.goal_functions.classification.targeted_classification.TargetedClassification'>.\n",
            "\n",
            "  0%|          | 0/10 [00:00<?, ?it/s]\u001b[A"
          ]
        },
        {
          "output_type": "stream",
          "name": "stdout",
          "text": [
            "\n",
            "Starting attack for----------------- WordSwapChangeNumber TC\n",
            "Attack(\n",
            "  (search_method): GreedyWordSwapWIR(\n",
            "    (wir_method):  delete\n",
            "  )\n",
            "  (goal_function):  TargetedClassification(\n",
            "    (target_class):  0\n",
            "  )\n",
            "  (transformation):  WordSwapChangeNumber\n",
            "  (constraints): \n",
            "    (0): RepeatModification\n",
            "    (1): StopwordModification\n",
            "  (is_black_box):  True\n",
            ") \n",
            "\n"
          ]
        },
        {
          "output_type": "stream",
          "name": "stderr",
          "text": [
            "\n",
            " 10%|█         | 1/10 [00:00<00:03,  2.25it/s]\u001b[A\n",
            "[Succeeded / Failed / Skipped / Total] 0 / 1 / 0 / 1:  10%|█         | 1/10 [00:00<00:04,  2.23it/s]\u001b[A\n",
            "[Succeeded / Failed / Skipped / Total] 0 / 1 / 0 / 1:  20%|██        | 2/10 [00:00<00:02,  3.51it/s]\u001b[A\n",
            "[Succeeded / Failed / Skipped / Total] 0 / 2 / 0 / 2:  20%|██        | 2/10 [00:00<00:02,  3.49it/s]\u001b[A\n",
            "[Succeeded / Failed / Skipped / Total] 0 / 2 / 1 / 3:  30%|███       | 3/10 [00:00<00:01,  4.94it/s]\u001b[A"
          ]
        },
        {
          "output_type": "stream",
          "name": "stdout",
          "text": [
            "--------------------------------------------- Result 1 ---------------------------------------------\n",
            "[[Positive (100%)]] --> [[[FAILED]]]\n",
            "\n",
            "lovingly photographed in the manner of a golden book sprung to life , stuart little 2 manages sweetness largely without stickiness .\n",
            "\n",
            "\n",
            "--------------------------------------------- Result 2 ---------------------------------------------\n",
            "[[Positive (100%)]] --> [[[FAILED]]]\n",
            "\n",
            "consistently clever and suspenseful .\n",
            "\n",
            "\n",
            "--------------------------------------------- Result 3 ---------------------------------------------\n",
            "[[Negative (85%)]] --> [[[SKIPPED]]]\n",
            "\n",
            "it's like a \" big chill \" reunion of the baader-meinhof gang , only these guys are more harmless pranksters than political activists .\n",
            "\n",
            "\n"
          ]
        },
        {
          "output_type": "stream",
          "name": "stderr",
          "text": [
            "\n",
            "[Succeeded / Failed / Skipped / Total] 0 / 2 / 1 / 3:  40%|████      | 4/10 [00:01<00:01,  3.99it/s]\u001b[A\n",
            "[Succeeded / Failed / Skipped / Total] 0 / 3 / 1 / 4:  40%|████      | 4/10 [00:01<00:01,  3.98it/s]\u001b[A\n",
            "[Succeeded / Failed / Skipped / Total] 0 / 4 / 1 / 5:  50%|█████     | 5/10 [00:01<00:01,  4.32it/s]\u001b[A\n",
            "[Succeeded / Failed / Skipped / Total] 0 / 4 / 1 / 5:  60%|██████    | 6/10 [00:01<00:00,  5.05it/s]\u001b[A\n",
            "[Succeeded / Failed / Skipped / Total] 0 / 4 / 2 / 6:  60%|██████    | 6/10 [00:01<00:00,  5.03it/s]\u001b[A"
          ]
        },
        {
          "output_type": "stream",
          "name": "stdout",
          "text": [
            "--------------------------------------------- Result 4 ---------------------------------------------\n",
            "[[Positive (100%)]] --> [[[FAILED]]]\n",
            "\n",
            "the story gives ample opportunity for large-scale action and suspense , which director shekhar kapur supplies with tremendous skill .\n",
            "\n",
            "\n",
            "--------------------------------------------- Result 5 ---------------------------------------------\n",
            "[[Positive (74%)]] --> [[[FAILED]]]\n",
            "\n",
            "red dragon \" never cuts corners .\n",
            "\n",
            "\n",
            "--------------------------------------------- Result 6 ---------------------------------------------\n",
            "[[Negative (64%)]] --> [[[SKIPPED]]]\n",
            "\n",
            "fresnadillo has something serious to say about the ways in which extravagant chance can distort our perspective and throw us off the path of good sense .\n",
            "\n",
            "\n"
          ]
        },
        {
          "output_type": "stream",
          "name": "stderr",
          "text": [
            "\n",
            "[Succeeded / Failed / Skipped / Total] 0 / 5 / 2 / 7:  70%|███████   | 7/10 [00:01<00:00,  4.69it/s]\u001b[A"
          ]
        },
        {
          "output_type": "stream",
          "name": "stdout",
          "text": [
            "--------------------------------------------- Result 7 ---------------------------------------------\n",
            "[[Positive (100%)]] --> [[[FAILED]]]\n",
            "\n",
            "throws in enough clever and unexpected twists to make the formula feel fresh .\n",
            "\n",
            "\n"
          ]
        },
        {
          "output_type": "stream",
          "name": "stderr",
          "text": [
            "\n",
            "[Succeeded / Failed / Skipped / Total] 0 / 5 / 2 / 7:  80%|████████  | 8/10 [00:01<00:00,  4.43it/s]\u001b[A\n",
            "[Succeeded / Failed / Skipped / Total] 0 / 6 / 2 / 8:  80%|████████  | 8/10 [00:01<00:00,  4.42it/s]\u001b[A"
          ]
        },
        {
          "output_type": "stream",
          "name": "stdout",
          "text": [
            "--------------------------------------------- Result 8 ---------------------------------------------\n",
            "[[Positive (97%)]] --> [[[FAILED]]]\n",
            "\n",
            "weighty and ponderous but every bit as filling as the treat of the title .\n",
            "\n",
            "\n"
          ]
        },
        {
          "output_type": "stream",
          "name": "stderr",
          "text": [
            "\n",
            "[Succeeded / Failed / Skipped / Total] 0 / 7 / 2 / 9:  90%|█████████ | 9/10 [00:02<00:00,  3.82it/s]\u001b[A"
          ]
        },
        {
          "output_type": "stream",
          "name": "stdout",
          "text": [
            "--------------------------------------------- Result 9 ---------------------------------------------\n",
            "[[Positive (100%)]] --> [[[FAILED]]]\n",
            "\n",
            "a real audience-pleaser that will strike a chord with anyone who's ever waited in a doctor's office , emergency room , hospital bed or insurance company office .\n",
            "\n",
            "\n"
          ]
        },
        {
          "output_type": "stream",
          "name": "stderr",
          "text": [
            "\n",
            "[Succeeded / Failed / Skipped / Total] 0 / 7 / 2 / 9: 100%|██████████| 10/10 [00:02<00:00,  3.89it/s]\u001b[A\n",
            "[Succeeded / Failed / Skipped / Total] 0 / 8 / 2 / 10: 100%|██████████| 10/10 [00:02<00:00,  3.88it/s]"
          ]
        },
        {
          "output_type": "stream",
          "name": "stdout",
          "text": [
            "--------------------------------------------- Result 10 ---------------------------------------------\n",
            "[[Positive (100%)]] --> [[[FAILED]]]\n",
            "\n",
            "generates an enormous feeling of empathy for its characters .\n",
            "\n",
            "\n",
            "\n",
            "+-------------------------------+-------+\n",
            "| Attack Results                |       |\n",
            "+-------------------------------+-------+\n",
            "| Number of successful attacks: | 0     |\n",
            "| Number of failed attacks:     | 8     |\n",
            "| Number of skipped attacks:    | 2     |\n",
            "| Original accuracy:            | 80.0% |\n",
            "| Accuracy under attack:        | 80.0% |\n",
            "| Attack success rate:          | 0.0%  |\n",
            "| Average perturbed word %:     | nan%  |\n",
            "| Average num. words per input: | 15.4  |\n",
            "| Avg num queries:              | 14.5  |\n",
            "+-------------------------------+-------+"
          ]
        },
        {
          "output_type": "stream",
          "name": "stderr",
          "text": [
            "\n",
            "textattack: Unknown if model of class <class 'transformers.models.albert.modeling_albert.AlbertForSequenceClassification'> compatible with goal function <class 'textattack.goal_functions.classification.targeted_classification.TargetedClassification'>.\n",
            "\n",
            "  0%|          | 0/10 [00:00<?, ?it/s]\u001b[A"
          ]
        },
        {
          "output_type": "stream",
          "name": "stdout",
          "text": [
            "\n",
            "Starting attack for----------------- WordSwapChangeLocation TC\n",
            "Attack(\n",
            "  (search_method): GreedyWordSwapWIR(\n",
            "    (wir_method):  delete\n",
            "  )\n",
            "  (goal_function):  TargetedClassification(\n",
            "    (target_class):  0\n",
            "  )\n",
            "  (transformation):  WordSwapChangeLocation\n",
            "  (constraints): \n",
            "    (0): RepeatModification\n",
            "    (1): StopwordModification\n",
            "  (is_black_box):  True\n",
            ") \n",
            "\n"
          ]
        },
        {
          "output_type": "stream",
          "name": "stderr",
          "text": [
            "\n",
            " 10%|█         | 1/10 [00:00<00:04,  2.18it/s]\u001b[A\n",
            "[Succeeded / Failed / Skipped / Total] 0 / 1 / 0 / 1:  10%|█         | 1/10 [00:00<00:04,  2.16it/s]\u001b[A\n",
            "[Succeeded / Failed / Skipped / Total] 0 / 1 / 0 / 1:  20%|██        | 2/10 [00:00<00:02,  3.39it/s]\u001b[A\n",
            "[Succeeded / Failed / Skipped / Total] 0 / 2 / 0 / 2:  20%|██        | 2/10 [00:00<00:02,  3.37it/s]\u001b[A\n",
            "[Succeeded / Failed / Skipped / Total] 0 / 2 / 1 / 3:  30%|███       | 3/10 [00:00<00:01,  4.79it/s]\u001b[A"
          ]
        },
        {
          "output_type": "stream",
          "name": "stdout",
          "text": [
            "--------------------------------------------- Result 1 ---------------------------------------------\n",
            "[[Positive (100%)]] --> [[[FAILED]]]\n",
            "\n",
            "lovingly photographed in the manner of a golden book sprung to life , stuart little 2 manages sweetness largely without stickiness .\n",
            "\n",
            "\n",
            "--------------------------------------------- Result 2 ---------------------------------------------\n",
            "[[Positive (100%)]] --> [[[FAILED]]]\n",
            "\n",
            "consistently clever and suspenseful .\n",
            "\n",
            "\n",
            "--------------------------------------------- Result 3 ---------------------------------------------\n",
            "[[Negative (85%)]] --> [[[SKIPPED]]]\n",
            "\n",
            "it's like a \" big chill \" reunion of the baader-meinhof gang , only these guys are more harmless pranksters than political activists .\n",
            "\n",
            "\n"
          ]
        },
        {
          "output_type": "stream",
          "name": "stderr",
          "text": [
            "\n",
            "[Succeeded / Failed / Skipped / Total] 0 / 2 / 1 / 3:  40%|████      | 4/10 [00:01<00:01,  3.61it/s]\u001b[A\n",
            "[Succeeded / Failed / Skipped / Total] 0 / 3 / 1 / 4:  40%|████      | 4/10 [00:01<00:01,  3.60it/s]\u001b[A\n",
            "[Succeeded / Failed / Skipped / Total] 0 / 4 / 1 / 5:  50%|█████     | 5/10 [00:01<00:01,  3.93it/s]\u001b[A\n",
            "[Succeeded / Failed / Skipped / Total] 0 / 4 / 1 / 5:  60%|██████    | 6/10 [00:01<00:00,  4.61it/s]\u001b[A\n",
            "[Succeeded / Failed / Skipped / Total] 0 / 4 / 2 / 6:  60%|██████    | 6/10 [00:01<00:00,  4.60it/s]\u001b[A"
          ]
        },
        {
          "output_type": "stream",
          "name": "stdout",
          "text": [
            "--------------------------------------------- Result 4 ---------------------------------------------\n",
            "[[Positive (100%)]] --> [[[FAILED]]]\n",
            "\n",
            "the story gives ample opportunity for large-scale action and suspense , which director shekhar kapur supplies with tremendous skill .\n",
            "\n",
            "\n",
            "--------------------------------------------- Result 5 ---------------------------------------------\n",
            "[[Positive (74%)]] --> [[[FAILED]]]\n",
            "\n",
            "red dragon \" never cuts corners .\n",
            "\n",
            "\n",
            "--------------------------------------------- Result 6 ---------------------------------------------\n",
            "[[Negative (64%)]] --> [[[SKIPPED]]]\n",
            "\n",
            "fresnadillo has something serious to say about the ways in which extravagant chance can distort our perspective and throw us off the path of good sense .\n",
            "\n",
            "\n"
          ]
        },
        {
          "output_type": "stream",
          "name": "stderr",
          "text": [
            "\n",
            "[Succeeded / Failed / Skipped / Total] 0 / 5 / 2 / 7:  70%|███████   | 7/10 [00:01<00:00,  4.33it/s]\u001b[A"
          ]
        },
        {
          "output_type": "stream",
          "name": "stdout",
          "text": [
            "--------------------------------------------- Result 7 ---------------------------------------------\n",
            "[[Positive (100%)]] --> [[[FAILED]]]\n",
            "\n",
            "throws in enough clever and unexpected twists to make the formula feel fresh .\n",
            "\n",
            "\n"
          ]
        },
        {
          "output_type": "stream",
          "name": "stderr",
          "text": [
            "\n",
            "[Succeeded / Failed / Skipped / Total] 0 / 5 / 2 / 7:  80%|████████  | 8/10 [00:01<00:00,  4.13it/s]\u001b[A\n",
            "[Succeeded / Failed / Skipped / Total] 0 / 6 / 2 / 8:  80%|████████  | 8/10 [00:01<00:00,  4.12it/s]\u001b[A"
          ]
        },
        {
          "output_type": "stream",
          "name": "stdout",
          "text": [
            "--------------------------------------------- Result 8 ---------------------------------------------\n",
            "[[Positive (97%)]] --> [[[FAILED]]]\n",
            "\n",
            "weighty and ponderous but every bit as filling as the treat of the title .\n",
            "\n",
            "\n"
          ]
        },
        {
          "output_type": "stream",
          "name": "stderr",
          "text": [
            "\n",
            "[Succeeded / Failed / Skipped / Total] 0 / 7 / 2 / 9:  90%|█████████ | 9/10 [00:02<00:00,  3.59it/s]\u001b[A"
          ]
        },
        {
          "output_type": "stream",
          "name": "stdout",
          "text": [
            "--------------------------------------------- Result 9 ---------------------------------------------\n",
            "[[Positive (100%)]] --> [[[FAILED]]]\n",
            "\n",
            "a real audience-pleaser that will strike a chord with anyone who's ever waited in a doctor's office , emergency room , hospital bed or insurance company office .\n",
            "\n",
            "\n"
          ]
        },
        {
          "output_type": "stream",
          "name": "stderr",
          "text": [
            "\n",
            "[Succeeded / Failed / Skipped / Total] 0 / 7 / 2 / 9: 100%|██████████| 10/10 [00:02<00:00,  3.66it/s]\u001b[A\n",
            "[Succeeded / Failed / Skipped / Total] 0 / 8 / 2 / 10: 100%|██████████| 10/10 [00:02<00:00,  3.65it/s]"
          ]
        },
        {
          "output_type": "stream",
          "name": "stdout",
          "text": [
            "--------------------------------------------- Result 10 ---------------------------------------------\n",
            "[[Positive (100%)]] --> [[[FAILED]]]\n",
            "\n",
            "generates an enormous feeling of empathy for its characters .\n",
            "\n",
            "\n",
            "\n",
            "+-------------------------------+-------+\n",
            "| Attack Results                |       |\n",
            "+-------------------------------+-------+\n",
            "| Number of successful attacks: | 0     |\n",
            "| Number of failed attacks:     | 8     |\n",
            "| Number of skipped attacks:    | 2     |\n",
            "| Original accuracy:            | 80.0% |\n",
            "| Accuracy under attack:        | 80.0% |\n",
            "| Attack success rate:          | 0.0%  |\n",
            "| Average perturbed word %:     | nan%  |\n",
            "| Average num. words per input: | 15.4  |\n",
            "| Avg num queries:              | 14.5  |\n",
            "+-------------------------------+-------+"
          ]
        },
        {
          "output_type": "stream",
          "name": "stderr",
          "text": [
            "\n",
            "textattack: Unknown if model of class <class 'transformers.models.albert.modeling_albert.AlbertForSequenceClassification'> compatible with goal function <class 'textattack.goal_functions.classification.untargeted_classification.UntargetedClassification'>.\n",
            "\n",
            "  0%|          | 0/10 [00:00<?, ?it/s]\u001b[A"
          ]
        },
        {
          "output_type": "stream",
          "name": "stdout",
          "text": [
            "\n",
            "Starting attack for----------------- WordSwapWordNet UTC\n",
            "Attack(\n",
            "  (search_method): GreedyWordSwapWIR(\n",
            "    (wir_method):  delete\n",
            "  )\n",
            "  (goal_function):  UntargetedClassification\n",
            "  (transformation):  WordSwapWordNet\n",
            "  (constraints): \n",
            "    (0): RepeatModification\n",
            "    (1): StopwordModification\n",
            "  (is_black_box):  True\n",
            ") \n",
            "\n"
          ]
        },
        {
          "output_type": "stream",
          "name": "stderr",
          "text": [
            "\n",
            " 10%|█         | 1/10 [00:00<00:08,  1.10it/s]\u001b[A\n",
            "[Succeeded / Failed / Skipped / Total] 1 / 0 / 0 / 1:  10%|█         | 1/10 [00:00<00:08,  1.09it/s]\u001b[A"
          ]
        },
        {
          "output_type": "stream",
          "name": "stdout",
          "text": [
            "--------------------------------------------- Result 1 ---------------------------------------------\n",
            "[[Positive (100%)]] --> [[Negative (55%)]]\n",
            "\n",
            "lovingly photographed in the manner of a golden book sprung to life , stuart little 2 [[manages]] [[sweetness]] largely without stickiness .\n",
            "\n",
            "lovingly photographed in the manner of a golden book sprung to life , stuart little 2 [[contend]] [[sugariness]] largely without stickiness .\n",
            "\n",
            "\n"
          ]
        },
        {
          "output_type": "stream",
          "name": "stderr",
          "text": [
            "\n",
            "[Succeeded / Failed / Skipped / Total] 1 / 0 / 0 / 1:  20%|██        | 2/10 [00:01<00:05,  1.58it/s]\u001b[A\n",
            "[Succeeded / Failed / Skipped / Total] 1 / 1 / 0 / 2:  20%|██        | 2/10 [00:01<00:05,  1.58it/s]\u001b[A\n",
            "[Succeeded / Failed / Skipped / Total] 1 / 1 / 1 / 3:  30%|███       | 3/10 [00:01<00:03,  2.31it/s]\u001b[A"
          ]
        },
        {
          "output_type": "stream",
          "name": "stdout",
          "text": [
            "--------------------------------------------- Result 2 ---------------------------------------------\n",
            "[[Positive (100%)]] --> [[[FAILED]]]\n",
            "\n",
            "consistently clever and suspenseful .\n",
            "\n",
            "\n",
            "--------------------------------------------- Result 3 ---------------------------------------------\n",
            "[[Negative (85%)]] --> [[[SKIPPED]]]\n",
            "\n",
            "it's like a \" big chill \" reunion of the baader-meinhof gang , only these guys are more harmless pranksters than political activists .\n",
            "\n",
            "\n"
          ]
        },
        {
          "output_type": "stream",
          "name": "stderr",
          "text": [
            "\n",
            "[Succeeded / Failed / Skipped / Total] 1 / 1 / 1 / 3:  40%|████      | 4/10 [00:01<00:02,  2.04it/s]\u001b[A\n",
            "[Succeeded / Failed / Skipped / Total] 2 / 1 / 1 / 4:  40%|████      | 4/10 [00:01<00:02,  2.03it/s]\u001b[A"
          ]
        },
        {
          "output_type": "stream",
          "name": "stdout",
          "text": [
            "--------------------------------------------- Result 4 ---------------------------------------------\n",
            "[[Positive (100%)]] --> [[Negative (99%)]]\n",
            "\n",
            "the story gives ample opportunity for large-scale action and suspense , which director shekhar kapur supplies with [[tremendous]] skill .\n",
            "\n",
            "the story gives ample opportunity for large-scale action and suspense , which director shekhar kapur supplies with [[terrible]] skill .\n",
            "\n",
            "\n"
          ]
        },
        {
          "output_type": "stream",
          "name": "stderr",
          "text": [
            "\n",
            "[Succeeded / Failed / Skipped / Total] 3 / 1 / 1 / 5:  50%|█████     | 5/10 [00:02<00:02,  2.24it/s]\u001b[A\n",
            "[Succeeded / Failed / Skipped / Total] 3 / 1 / 1 / 5:  60%|██████    | 6/10 [00:02<00:01,  2.65it/s]\u001b[A\n",
            "[Succeeded / Failed / Skipped / Total] 3 / 1 / 2 / 6:  60%|██████    | 6/10 [00:02<00:01,  2.64it/s]\u001b[A"
          ]
        },
        {
          "output_type": "stream",
          "name": "stdout",
          "text": [
            "--------------------------------------------- Result 5 ---------------------------------------------\n",
            "[[Positive (74%)]] --> [[Negative (70%)]]\n",
            "\n",
            "red [[dragon]] \" [[never]] cuts corners .\n",
            "\n",
            "red [[Draco]] \" [[ne'er]] cuts corners .\n",
            "\n",
            "\n",
            "--------------------------------------------- Result 6 ---------------------------------------------\n",
            "[[Negative (64%)]] --> [[[SKIPPED]]]\n",
            "\n",
            "fresnadillo has something serious to say about the ways in which extravagant chance can distort our perspective and throw us off the path of good sense .\n",
            "\n",
            "\n"
          ]
        },
        {
          "output_type": "stream",
          "name": "stderr",
          "text": [
            "\n",
            "[Succeeded / Failed / Skipped / Total] 4 / 1 / 2 / 7:  70%|███████   | 7/10 [00:03<00:01,  1.96it/s]\u001b[A"
          ]
        },
        {
          "output_type": "stream",
          "name": "stdout",
          "text": [
            "--------------------------------------------- Result 7 ---------------------------------------------\n",
            "[[Positive (100%)]] --> [[Negative (99%)]]\n",
            "\n",
            "throws in enough [[clever]] and unexpected [[twists]] to make the [[formula]] feel fresh .\n",
            "\n",
            "throws in enough [[cagy]] and unexpected [[gimmick]] to make the [[recipe]] feel fresh .\n",
            "\n",
            "\n"
          ]
        },
        {
          "output_type": "stream",
          "name": "stderr",
          "text": [
            "\n",
            "[Succeeded / Failed / Skipped / Total] 4 / 1 / 2 / 7:  80%|████████  | 8/10 [00:04<00:01,  1.93it/s]\u001b[A\n",
            "[Succeeded / Failed / Skipped / Total] 5 / 1 / 2 / 8:  80%|████████  | 8/10 [00:04<00:01,  1.93it/s]\u001b[A"
          ]
        },
        {
          "output_type": "stream",
          "name": "stdout",
          "text": [
            "--------------------------------------------- Result 8 ---------------------------------------------\n",
            "[[Positive (97%)]] --> [[Negative (71%)]]\n",
            "\n",
            "weighty and ponderous but every bit as [[filling]] as the treat of the title .\n",
            "\n",
            "weighty and ponderous but every bit as [[weft]] as the treat of the title .\n",
            "\n",
            "\n"
          ]
        },
        {
          "output_type": "stream",
          "name": "stderr",
          "text": [
            "\n",
            "[Succeeded / Failed / Skipped / Total] 6 / 1 / 2 / 9:  90%|█████████ | 9/10 [00:06<00:00,  1.46it/s]\u001b[A"
          ]
        },
        {
          "output_type": "stream",
          "name": "stdout",
          "text": [
            "--------------------------------------------- Result 9 ---------------------------------------------\n",
            "[[Positive (100%)]] --> [[Negative (54%)]]\n",
            "\n",
            "a [[real]] audience-pleaser that will [[strike]] a [[chord]] with anyone who's [[ever]] [[waited]] in a doctor's [[office]] , emergency room , hospital bed or insurance company [[office]] .\n",
            "\n",
            "a [[existent]] audience-pleaser that will [[excise]] a [[harmonize]] with anyone who's [[e'er]] [[waitress]] in a doctor's [[authority]] , emergency room , hospital bed or insurance company [[authority]] .\n",
            "\n",
            "\n"
          ]
        },
        {
          "output_type": "stream",
          "name": "stderr",
          "text": [
            "\n",
            "[Succeeded / Failed / Skipped / Total] 6 / 1 / 2 / 9: 100%|██████████| 10/10 [00:07<00:00,  1.38it/s]\u001b[A\n",
            "[Succeeded / Failed / Skipped / Total] 7 / 1 / 2 / 10: 100%|██████████| 10/10 [00:07<00:00,  1.38it/s]"
          ]
        },
        {
          "output_type": "stream",
          "name": "stdout",
          "text": [
            "--------------------------------------------- Result 10 ---------------------------------------------\n",
            "[[Positive (100%)]] --> [[Negative (80%)]]\n",
            "\n",
            "[[generates]] an enormous [[feeling]] of empathy for its [[characters]] .\n",
            "\n",
            "[[render]] an enormous [[finger]] of empathy for its [[fibre]] .\n",
            "\n",
            "\n",
            "\n",
            "+-------------------------------+--------+\n",
            "| Attack Results                |        |\n",
            "+-------------------------------+--------+\n",
            "| Number of successful attacks: | 7      |\n",
            "| Number of failed attacks:     | 1      |\n",
            "| Number of skipped attacks:    | 2      |\n",
            "| Original accuracy:            | 80.0%  |\n",
            "| Accuracy under attack:        | 10.0%  |\n",
            "| Attack success rate:          | 87.5%  |\n",
            "| Average perturbed word %:     | 21.02% |\n",
            "| Average num. words per input: | 15.4   |\n",
            "| Avg num queries:              | 42.38  |\n",
            "+-------------------------------+--------+"
          ]
        },
        {
          "output_type": "stream",
          "name": "stderr",
          "text": [
            "\n",
            "textattack: Unknown if model of class <class 'transformers.models.albert.modeling_albert.AlbertForSequenceClassification'> compatible with goal function <class 'textattack.goal_functions.classification.untargeted_classification.UntargetedClassification'>.\n",
            "\n",
            "  0%|          | 0/10 [00:00<?, ?it/s]\u001b[A"
          ]
        },
        {
          "output_type": "stream",
          "name": "stdout",
          "text": [
            "\n",
            "Starting attack for----------------- WordSwapHomoglyphSwap UTC\n",
            "Attack(\n",
            "  (search_method): GreedyWordSwapWIR(\n",
            "    (wir_method):  delete\n",
            "  )\n",
            "  (goal_function):  UntargetedClassification\n",
            "  (transformation):  WordSwapHomoglyphSwap\n",
            "  (constraints): \n",
            "    (0): RepeatModification\n",
            "    (1): StopwordModification\n",
            "  (is_black_box):  True\n",
            ") \n",
            "\n"
          ]
        },
        {
          "output_type": "stream",
          "name": "stderr",
          "text": [
            "\n",
            " 10%|█         | 1/10 [00:00<00:07,  1.28it/s]\u001b[A\n",
            "[Succeeded / Failed / Skipped / Total] 1 / 0 / 0 / 1:  10%|█         | 1/10 [00:00<00:07,  1.27it/s]\u001b[A"
          ]
        },
        {
          "output_type": "stream",
          "name": "stdout",
          "text": [
            "--------------------------------------------- Result 1 ---------------------------------------------\n",
            "[[Positive (100%)]] --> [[Negative (98%)]]\n",
            "\n",
            "lovingly photographed in the manner of a golden book sprung to life , stuart little 2 [[manages]] [[sweetness]] largely without stickiness .\n",
            "\n",
            "lovingly photographed in the manner of a golden book sprung to life , stuart little 2 [[manɑges]] [[sweеtness]] largely without stickiness .\n",
            "\n",
            "\n"
          ]
        },
        {
          "output_type": "stream",
          "name": "stderr",
          "text": [
            "\n",
            "[Succeeded / Failed / Skipped / Total] 1 / 0 / 0 / 1:  20%|██        | 2/10 [00:01<00:06,  1.31it/s]\u001b[A\n",
            "[Succeeded / Failed / Skipped / Total] 2 / 0 / 0 / 2:  20%|██        | 2/10 [00:01<00:06,  1.31it/s]\u001b[A\n",
            "[Succeeded / Failed / Skipped / Total] 2 / 0 / 1 / 3:  30%|███       | 3/10 [00:01<00:03,  1.91it/s]\u001b[A"
          ]
        },
        {
          "output_type": "stream",
          "name": "stdout",
          "text": [
            "--------------------------------------------- Result 2 ---------------------------------------------\n",
            "[[Positive (100%)]] --> [[Negative (90%)]]\n",
            "\n",
            "[[consistently]] [[clever]] and [[suspenseful]] .\n",
            "\n",
            "[[consiѕtently]] [[ϲlever]] and [[suspenѕeful]] .\n",
            "\n",
            "\n",
            "--------------------------------------------- Result 3 ---------------------------------------------\n",
            "[[Negative (85%)]] --> [[[SKIPPED]]]\n",
            "\n",
            "it's like a \" big chill \" reunion of the baader-meinhof gang , only these guys are more harmless pranksters than political activists .\n",
            "\n",
            "\n"
          ]
        },
        {
          "output_type": "stream",
          "name": "stderr",
          "text": [
            "\n",
            "[Succeeded / Failed / Skipped / Total] 2 / 0 / 1 / 3:  40%|████      | 4/10 [00:02<00:03,  1.70it/s]\u001b[A\n",
            "[Succeeded / Failed / Skipped / Total] 3 / 0 / 1 / 4:  40%|████      | 4/10 [00:02<00:03,  1.70it/s]\u001b[A"
          ]
        },
        {
          "output_type": "stream",
          "name": "stdout",
          "text": [
            "--------------------------------------------- Result 4 ---------------------------------------------\n",
            "[[Positive (100%)]] --> [[Negative (79%)]]\n",
            "\n",
            "the story gives ample opportunity for large-scale action and suspense , which director shekhar kapur [[supplies]] with [[tremendous]] skill .\n",
            "\n",
            "the story gives ample opportunity for large-scale action and suspense , which director shekhar kapur [[ѕupplies]] with [[tⲅemendous]] skill .\n",
            "\n",
            "\n"
          ]
        },
        {
          "output_type": "stream",
          "name": "stderr",
          "text": [
            "\n",
            "[Succeeded / Failed / Skipped / Total] 4 / 0 / 1 / 5:  50%|█████     | 5/10 [00:02<00:02,  1.90it/s]\u001b[A\n",
            "[Succeeded / Failed / Skipped / Total] 4 / 0 / 1 / 5:  60%|██████    | 6/10 [00:02<00:01,  2.25it/s]\u001b[A\n",
            "[Succeeded / Failed / Skipped / Total] 4 / 0 / 2 / 6:  60%|██████    | 6/10 [00:02<00:01,  2.25it/s]\u001b[A"
          ]
        },
        {
          "output_type": "stream",
          "name": "stdout",
          "text": [
            "--------------------------------------------- Result 5 ---------------------------------------------\n",
            "[[Positive (74%)]] --> [[Negative (94%)]]\n",
            "\n",
            "red dragon \" [[never]] cuts corners .\n",
            "\n",
            "red dragon \" [[neveⲅ]] cuts corners .\n",
            "\n",
            "\n",
            "--------------------------------------------- Result 6 ---------------------------------------------\n",
            "[[Negative (64%)]] --> [[[SKIPPED]]]\n",
            "\n",
            "fresnadillo has something serious to say about the ways in which extravagant chance can distort our perspective and throw us off the path of good sense .\n",
            "\n",
            "\n"
          ]
        },
        {
          "output_type": "stream",
          "name": "stderr",
          "text": [
            "\n",
            "[Succeeded / Failed / Skipped / Total] 5 / 0 / 2 / 7:  70%|███████   | 7/10 [00:03<00:01,  2.02it/s]\u001b[A"
          ]
        },
        {
          "output_type": "stream",
          "name": "stdout",
          "text": [
            "--------------------------------------------- Result 7 ---------------------------------------------\n",
            "[[Positive (100%)]] --> [[Negative (87%)]]\n",
            "\n",
            "throws in enough [[clever]] and [[unexpected]] twists to make the formula feel fresh .\n",
            "\n",
            "throws in enough [[cleѵer]] and [[une×pected]] twists to make the formula feel fresh .\n",
            "\n",
            "\n"
          ]
        },
        {
          "output_type": "stream",
          "name": "stderr",
          "text": [
            "\n",
            "[Succeeded / Failed / Skipped / Total] 5 / 0 / 2 / 7:  80%|████████  | 8/10 [00:03<00:00,  2.05it/s]\u001b[A\n",
            "[Succeeded / Failed / Skipped / Total] 6 / 0 / 2 / 8:  80%|████████  | 8/10 [00:03<00:00,  2.05it/s]\u001b[A"
          ]
        },
        {
          "output_type": "stream",
          "name": "stdout",
          "text": [
            "--------------------------------------------- Result 8 ---------------------------------------------\n",
            "[[Positive (97%)]] --> [[Negative (89%)]]\n",
            "\n",
            "weighty and ponderous but [[every]] bit as filling as the treat of the title .\n",
            "\n",
            "weighty and ponderous but [[еvery]] bit as filling as the treat of the title .\n",
            "\n",
            "\n"
          ]
        },
        {
          "output_type": "stream",
          "name": "stderr",
          "text": [
            "\n",
            "[Succeeded / Failed / Skipped / Total] 7 / 0 / 2 / 9:  90%|█████████ | 9/10 [00:04<00:00,  1.93it/s]\u001b[A"
          ]
        },
        {
          "output_type": "stream",
          "name": "stdout",
          "text": [
            "--------------------------------------------- Result 9 ---------------------------------------------\n",
            "[[Positive (100%)]] --> [[Negative (74%)]]\n",
            "\n",
            "a [[real]] audience-pleaser that will strike a [[chord]] with anyone who's ever waited in a doctor's office , emergency room , hospital bed or insurance company office .\n",
            "\n",
            "a [[ⲅeal]] audience-pleaser that will strike a [[cհord]] with anyone who's ever waited in a doctor's office , emergency room , hospital bed or insurance company office .\n",
            "\n",
            "\n"
          ]
        },
        {
          "output_type": "stream",
          "name": "stderr",
          "text": [
            "\n",
            "[Succeeded / Failed / Skipped / Total] 7 / 0 / 2 / 9: 100%|██████████| 10/10 [00:05<00:00,  1.79it/s]\u001b[A\n",
            "[Succeeded / Failed / Skipped / Total] 8 / 0 / 2 / 10: 100%|██████████| 10/10 [00:05<00:00,  1.78it/s]"
          ]
        },
        {
          "output_type": "stream",
          "name": "stdout",
          "text": [
            "--------------------------------------------- Result 10 ---------------------------------------------\n",
            "[[Positive (100%)]] --> [[Negative (91%)]]\n",
            "\n",
            "[[generates]] an [[enormous]] [[feeling]] of empathy for its [[characters]] .\n",
            "\n",
            "[[generateѕ]] an [[enormоus]] [[feеling]] of empathy for its [[ϲharacters]] .\n",
            "\n",
            "\n",
            "\n",
            "+-------------------------------+--------+\n",
            "| Attack Results                |        |\n",
            "+-------------------------------+--------+\n",
            "| Number of successful attacks: | 8      |\n",
            "| Number of failed attacks:     | 0      |\n",
            "| Number of skipped attacks:    | 2      |\n",
            "| Original accuracy:            | 80.0%  |\n",
            "| Accuracy under attack:        | 0.0%   |\n",
            "| Attack success rate:          | 100.0% |\n",
            "| Average perturbed word %:     | 23.89% |\n",
            "| Average num. words per input: | 15.4   |\n",
            "| Avg num queries:              | 31.88  |\n",
            "+-------------------------------+--------+"
          ]
        },
        {
          "output_type": "stream",
          "name": "stderr",
          "text": [
            "\n",
            "textattack: Unknown if model of class <class 'transformers.models.albert.modeling_albert.AlbertForSequenceClassification'> compatible with goal function <class 'textattack.goal_functions.classification.untargeted_classification.UntargetedClassification'>.\n",
            "\n",
            "  0%|          | 0/10 [00:00<?, ?it/s]\u001b[A"
          ]
        },
        {
          "output_type": "stream",
          "name": "stdout",
          "text": [
            "\n",
            "Starting attack for----------------- WordSwapNeighboringCharacterSwap UTC\n",
            "Attack(\n",
            "  (search_method): GreedyWordSwapWIR(\n",
            "    (wir_method):  delete\n",
            "  )\n",
            "  (goal_function):  UntargetedClassification\n",
            "  (transformation):  WordSwapNeighboringCharacterSwap(\n",
            "    (random_one):  True\n",
            "  )\n",
            "  (constraints): \n",
            "    (0): RepeatModification\n",
            "    (1): StopwordModification\n",
            "  (is_black_box):  True\n",
            ") \n",
            "\n"
          ]
        },
        {
          "output_type": "stream",
          "name": "stderr",
          "text": [
            "\n",
            " 10%|█         | 1/10 [00:00<00:04,  1.95it/s]\u001b[A\n",
            "[Succeeded / Failed / Skipped / Total] 1 / 0 / 0 / 1:  10%|█         | 1/10 [00:00<00:04,  1.93it/s]\u001b[A\n",
            "[Succeeded / Failed / Skipped / Total] 1 / 0 / 0 / 1:  20%|██        | 2/10 [00:00<00:02,  2.79it/s]\u001b[A"
          ]
        },
        {
          "output_type": "stream",
          "name": "stdout",
          "text": [
            "--------------------------------------------- Result 1 ---------------------------------------------\n",
            "[[Positive (100%)]] --> [[Negative (90%)]]\n",
            "\n",
            "[[lovingly]] photographed in the manner of a golden book sprung to life , stuart little 2 [[manages]] [[sweetness]] largely without stickiness .\n",
            "\n",
            "[[lovinlgy]] photographed in the manner of a golden book sprung to life , stuart little 2 [[maanges]] [[sweteness]] largely without stickiness .\n",
            "\n",
            "\n"
          ]
        },
        {
          "output_type": "stream",
          "name": "stderr",
          "text": [
            "\n",
            "[Succeeded / Failed / Skipped / Total] 1 / 1 / 0 / 2:  20%|██        | 2/10 [00:00<00:02,  2.78it/s]\u001b[A\n",
            "[Succeeded / Failed / Skipped / Total] 1 / 1 / 1 / 3:  30%|███       | 3/10 [00:00<00:01,  3.98it/s]\u001b[A"
          ]
        },
        {
          "output_type": "stream",
          "name": "stdout",
          "text": [
            "--------------------------------------------- Result 2 ---------------------------------------------\n",
            "[[Positive (100%)]] --> [[[FAILED]]]\n",
            "\n",
            "consistently clever and suspenseful .\n",
            "\n",
            "\n",
            "--------------------------------------------- Result 3 ---------------------------------------------\n",
            "[[Negative (85%)]] --> [[[SKIPPED]]]\n",
            "\n",
            "it's like a \" big chill \" reunion of the baader-meinhof gang , only these guys are more harmless pranksters than political activists .\n",
            "\n",
            "\n"
          ]
        },
        {
          "output_type": "stream",
          "name": "stderr",
          "text": [
            "\n",
            "[Succeeded / Failed / Skipped / Total] 1 / 1 / 1 / 3:  40%|████      | 4/10 [00:01<00:02,  2.73it/s]\u001b[A\n",
            "[Succeeded / Failed / Skipped / Total] 1 / 2 / 1 / 4:  40%|████      | 4/10 [00:01<00:02,  2.72it/s]\u001b[A\n",
            "[Succeeded / Failed / Skipped / Total] 2 / 2 / 1 / 5:  50%|█████     | 5/10 [00:01<00:01,  3.03it/s]\u001b[A"
          ]
        },
        {
          "output_type": "stream",
          "name": "stdout",
          "text": [
            "--------------------------------------------- Result 4 ---------------------------------------------\n",
            "[[Positive (100%)]] --> [[[FAILED]]]\n",
            "\n",
            "the story gives ample opportunity for large-scale action and suspense , which director shekhar kapur supplies with tremendous skill .\n",
            "\n",
            "\n",
            "--------------------------------------------- Result 5 ---------------------------------------------\n",
            "[[Positive (74%)]] --> [[Negative (97%)]]\n",
            "\n",
            "red dragon \" [[never]] cuts corners .\n",
            "\n",
            "red dragon \" [[neevr]] cuts corners .\n",
            "\n",
            "\n"
          ]
        },
        {
          "output_type": "stream",
          "name": "stderr",
          "text": [
            "\n",
            "[Succeeded / Failed / Skipped / Total] 2 / 2 / 1 / 5:  60%|██████    | 6/10 [00:01<00:01,  3.58it/s]\u001b[A\n",
            "[Succeeded / Failed / Skipped / Total] 2 / 2 / 2 / 6:  60%|██████    | 6/10 [00:01<00:01,  3.57it/s]\u001b[A"
          ]
        },
        {
          "output_type": "stream",
          "name": "stdout",
          "text": [
            "--------------------------------------------- Result 6 ---------------------------------------------\n",
            "[[Negative (64%)]] --> [[[SKIPPED]]]\n",
            "\n",
            "fresnadillo has something serious to say about the ways in which extravagant chance can distort our perspective and throw us off the path of good sense .\n",
            "\n",
            "\n"
          ]
        },
        {
          "output_type": "stream",
          "name": "stderr",
          "text": [
            "\n",
            "[Succeeded / Failed / Skipped / Total] 3 / 2 / 2 / 7:  70%|███████   | 7/10 [00:02<00:00,  3.29it/s]\u001b[A"
          ]
        },
        {
          "output_type": "stream",
          "name": "stdout",
          "text": [
            "--------------------------------------------- Result 7 ---------------------------------------------\n",
            "[[Positive (100%)]] --> [[Negative (73%)]]\n",
            "\n",
            "throws in enough [[clever]] and [[unexpected]] [[twists]] to make the formula feel [[fresh]] .\n",
            "\n",
            "throws in enough [[clveer]] and [[uenxpected]] [[tiwsts]] to make the formula feel [[frseh]] .\n",
            "\n",
            "\n"
          ]
        },
        {
          "output_type": "stream",
          "name": "stderr",
          "text": [
            "\n",
            "[Succeeded / Failed / Skipped / Total] 3 / 2 / 2 / 7:  80%|████████  | 8/10 [00:02<00:00,  3.18it/s]\u001b[A\n",
            "[Succeeded / Failed / Skipped / Total] 4 / 2 / 2 / 8:  80%|████████  | 8/10 [00:02<00:00,  3.18it/s]\u001b[A"
          ]
        },
        {
          "output_type": "stream",
          "name": "stdout",
          "text": [
            "--------------------------------------------- Result 8 ---------------------------------------------\n",
            "[[Positive (97%)]] --> [[Negative (71%)]]\n",
            "\n",
            "weighty and [[ponderous]] but [[every]] bit as [[filling]] as the treat of the title .\n",
            "\n",
            "weighty and [[pondeorus]] but [[evrey]] bit as [[fliling]] as the treat of the title .\n",
            "\n",
            "\n"
          ]
        },
        {
          "output_type": "stream",
          "name": "stderr",
          "text": [
            "\n",
            "[Succeeded / Failed / Skipped / Total] 5 / 2 / 2 / 9:  90%|█████████ | 9/10 [00:03<00:00,  2.83it/s]\u001b[A"
          ]
        },
        {
          "output_type": "stream",
          "name": "stdout",
          "text": [
            "--------------------------------------------- Result 9 ---------------------------------------------\n",
            "[[Positive (100%)]] --> [[Negative (95%)]]\n",
            "\n",
            "a [[real]] audience-pleaser that will [[strike]] a [[chord]] with anyone [[who's]] [[ever]] waited in a doctor's office , emergency room , hospital bed or insurance company office .\n",
            "\n",
            "a [[rael]] audience-pleaser that will [[strkie]] a [[cohrd]] with anyone [[woh's]] [[eevr]] waited in a doctor's office , emergency room , hospital bed or insurance company office .\n",
            "\n",
            "\n"
          ]
        },
        {
          "output_type": "stream",
          "name": "stderr",
          "text": [
            "\n",
            "[Succeeded / Failed / Skipped / Total] 5 / 2 / 2 / 9: 100%|██████████| 10/10 [00:03<00:00,  2.85it/s]\u001b[A\n",
            "[Succeeded / Failed / Skipped / Total] 6 / 2 / 2 / 10: 100%|██████████| 10/10 [00:03<00:00,  2.84it/s]"
          ]
        },
        {
          "output_type": "stream",
          "name": "stdout",
          "text": [
            "--------------------------------------------- Result 10 ---------------------------------------------\n",
            "[[Positive (100%)]] --> [[Negative (64%)]]\n",
            "\n",
            "[[generates]] an [[enormous]] [[feeling]] of [[empathy]] for its [[characters]] .\n",
            "\n",
            "[[gneerates]] an [[enomrous]] [[feeilng]] of [[emapthy]] for its [[chraacters]] .\n",
            "\n",
            "\n",
            "\n",
            "+-------------------------------+--------+\n",
            "| Attack Results                |        |\n",
            "+-------------------------------+--------+\n",
            "| Number of successful attacks: | 6      |\n",
            "| Number of failed attacks:     | 2      |\n",
            "| Number of skipped attacks:    | 2      |\n",
            "| Original accuracy:            | 80.0%  |\n",
            "| Accuracy under attack:        | 20.0%  |\n",
            "| Attack success rate:          | 75.0%  |\n",
            "| Average perturbed word %:     | 27.13% |\n",
            "| Average num. words per input: | 15.4   |\n",
            "| Avg num queries:              | 19.38  |\n",
            "+-------------------------------+--------+"
          ]
        },
        {
          "output_type": "stream",
          "name": "stderr",
          "text": [
            "\n",
            "textattack: Unknown if model of class <class 'transformers.models.albert.modeling_albert.AlbertForSequenceClassification'> compatible with goal function <class 'textattack.goal_functions.classification.untargeted_classification.UntargetedClassification'>.\n",
            "\n",
            "  0%|          | 0/10 [00:00<?, ?it/s]\u001b[A"
          ]
        },
        {
          "output_type": "stream",
          "name": "stdout",
          "text": [
            "\n",
            "Starting attack for----------------- WordSwapRandomCharacterDeletion UTC\n",
            "Attack(\n",
            "  (search_method): GreedyWordSwapWIR(\n",
            "    (wir_method):  delete\n",
            "  )\n",
            "  (goal_function):  UntargetedClassification\n",
            "  (transformation):  WordSwapRandomCharacterDeletion(\n",
            "    (random_one):  True\n",
            "  )\n",
            "  (constraints): \n",
            "    (0): RepeatModification\n",
            "    (1): StopwordModification\n",
            "  (is_black_box):  True\n",
            ") \n",
            "\n"
          ]
        },
        {
          "output_type": "stream",
          "name": "stderr",
          "text": [
            "\n",
            " 10%|█         | 1/10 [00:00<00:04,  1.86it/s]\u001b[A\n",
            "[Succeeded / Failed / Skipped / Total] 1 / 0 / 0 / 1:  10%|█         | 1/10 [00:00<00:04,  1.84it/s]\u001b[A\n",
            "[Succeeded / Failed / Skipped / Total] 1 / 0 / 0 / 1:  20%|██        | 2/10 [00:00<00:02,  2.72it/s]\u001b[A\n",
            "[Succeeded / Failed / Skipped / Total] 1 / 1 / 0 / 2:  20%|██        | 2/10 [00:00<00:02,  2.70it/s]\u001b[A"
          ]
        },
        {
          "output_type": "stream",
          "name": "stdout",
          "text": [
            "--------------------------------------------- Result 1 ---------------------------------------------\n",
            "[[Positive (100%)]] --> [[Negative (92%)]]\n",
            "\n",
            "[[lovingly]] photographed in the manner of a golden book sprung to life , stuart little 2 [[manages]] sweetness largely [[without]] stickiness .\n",
            "\n",
            "[[lovigly]] photographed in the manner of a golden book sprung to life , stuart little 2 [[manges]] sweetness largely [[wihout]] stickiness .\n",
            "\n",
            "\n",
            "--------------------------------------------- Result 2 ---------------------------------------------\n",
            "[[Positive (100%)]] --> [[[FAILED]]]\n",
            "\n",
            "consistently clever and suspenseful .\n",
            "\n",
            "\n"
          ]
        },
        {
          "output_type": "stream",
          "name": "stderr",
          "text": [
            "\n",
            "[Succeeded / Failed / Skipped / Total] 1 / 1 / 1 / 3:  30%|███       | 3/10 [00:00<00:01,  3.88it/s]\u001b[A"
          ]
        },
        {
          "output_type": "stream",
          "name": "stdout",
          "text": [
            "--------------------------------------------- Result 3 ---------------------------------------------\n",
            "[[Negative (85%)]] --> [[[SKIPPED]]]\n",
            "\n",
            "it's like a \" big chill \" reunion of the baader-meinhof gang , only these guys are more harmless pranksters than political activists .\n",
            "\n",
            "\n"
          ]
        },
        {
          "output_type": "stream",
          "name": "stderr",
          "text": [
            "\n",
            "[Succeeded / Failed / Skipped / Total] 1 / 1 / 1 / 3:  40%|████      | 4/10 [00:01<00:01,  3.10it/s]\u001b[A\n",
            "[Succeeded / Failed / Skipped / Total] 2 / 1 / 1 / 4:  40%|████      | 4/10 [00:01<00:01,  3.09it/s]\u001b[A\n",
            "[Succeeded / Failed / Skipped / Total] 3 / 1 / 1 / 5:  50%|█████     | 5/10 [00:01<00:01,  3.39it/s]\u001b[A"
          ]
        },
        {
          "output_type": "stream",
          "name": "stdout",
          "text": [
            "--------------------------------------------- Result 4 ---------------------------------------------\n",
            "[[Positive (100%)]] --> [[Negative (78%)]]\n",
            "\n",
            "the [[story]] [[gives]] [[ample]] opportunity for large-scale action and suspense , which director shekhar kapur [[supplies]] with [[tremendous]] skill .\n",
            "\n",
            "the [[stry]] [[givs]] [[aple]] opportunity for large-scale action and suspense , which director shekhar kapur [[suppies]] with [[temendous]] skill .\n",
            "\n",
            "\n",
            "--------------------------------------------- Result 5 ---------------------------------------------\n",
            "[[Positive (74%)]] --> [[Negative (97%)]]\n",
            "\n",
            "red dragon \" [[never]] cuts corners .\n",
            "\n",
            "red dragon \" [[nevr]] cuts corners .\n",
            "\n",
            "\n"
          ]
        },
        {
          "output_type": "stream",
          "name": "stderr",
          "text": [
            "\n",
            "[Succeeded / Failed / Skipped / Total] 3 / 1 / 1 / 5:  60%|██████    | 6/10 [00:01<00:01,  3.99it/s]\u001b[A\n",
            "[Succeeded / Failed / Skipped / Total] 3 / 1 / 2 / 6:  60%|██████    | 6/10 [00:01<00:01,  3.98it/s]\u001b[A"
          ]
        },
        {
          "output_type": "stream",
          "name": "stdout",
          "text": [
            "--------------------------------------------- Result 6 ---------------------------------------------\n",
            "[[Negative (64%)]] --> [[[SKIPPED]]]\n",
            "\n",
            "fresnadillo has something serious to say about the ways in which extravagant chance can distort our perspective and throw us off the path of good sense .\n",
            "\n",
            "\n"
          ]
        },
        {
          "output_type": "stream",
          "name": "stderr",
          "text": [
            "\n",
            "[Succeeded / Failed / Skipped / Total] 4 / 1 / 2 / 7:  70%|███████   | 7/10 [00:01<00:00,  3.58it/s]\u001b[A"
          ]
        },
        {
          "output_type": "stream",
          "name": "stdout",
          "text": [
            "--------------------------------------------- Result 7 ---------------------------------------------\n",
            "[[Positive (100%)]] --> [[Negative (90%)]]\n",
            "\n",
            "throws in enough [[clever]] and [[unexpected]] [[twists]] to [[make]] the formula feel [[fresh]] .\n",
            "\n",
            "throws in enough [[cever]] and [[unexpcted]] [[twsts]] to [[mke]] the formula feel [[frsh]] .\n",
            "\n",
            "\n"
          ]
        },
        {
          "output_type": "stream",
          "name": "stderr",
          "text": [
            "\n",
            "[Succeeded / Failed / Skipped / Total] 4 / 1 / 2 / 7:  80%|████████  | 8/10 [00:02<00:00,  3.46it/s]\u001b[A\n",
            "[Succeeded / Failed / Skipped / Total] 5 / 1 / 2 / 8:  80%|████████  | 8/10 [00:02<00:00,  3.45it/s]\u001b[A"
          ]
        },
        {
          "output_type": "stream",
          "name": "stdout",
          "text": [
            "--------------------------------------------- Result 8 ---------------------------------------------\n",
            "[[Positive (97%)]] --> [[Negative (79%)]]\n",
            "\n",
            "weighty and ponderous but [[every]] bit as [[filling]] as the treat of the title .\n",
            "\n",
            "weighty and ponderous but [[eery]] bit as [[flling]] as the treat of the title .\n",
            "\n",
            "\n"
          ]
        },
        {
          "output_type": "stream",
          "name": "stderr",
          "text": [
            "\n",
            "[Succeeded / Failed / Skipped / Total] 5 / 2 / 2 / 9:  90%|█████████ | 9/10 [00:03<00:00,  2.75it/s]\u001b[A"
          ]
        },
        {
          "output_type": "stream",
          "name": "stdout",
          "text": [
            "--------------------------------------------- Result 9 ---------------------------------------------\n",
            "[[Positive (100%)]] --> [[[FAILED]]]\n",
            "\n",
            "a real audience-pleaser that will strike a chord with anyone who's ever waited in a doctor's office , emergency room , hospital bed or insurance company office .\n",
            "\n",
            "\n"
          ]
        },
        {
          "output_type": "stream",
          "name": "stderr",
          "text": [
            "\n",
            "[Succeeded / Failed / Skipped / Total] 5 / 2 / 2 / 9: 100%|██████████| 10/10 [00:03<00:00,  2.83it/s]\u001b[A\n",
            "[Succeeded / Failed / Skipped / Total] 6 / 2 / 2 / 10: 100%|██████████| 10/10 [00:03<00:00,  2.82it/s]"
          ]
        },
        {
          "output_type": "stream",
          "name": "stdout",
          "text": [
            "--------------------------------------------- Result 10 ---------------------------------------------\n",
            "[[Positive (100%)]] --> [[Negative (57%)]]\n",
            "\n",
            "[[generates]] an [[enormous]] feeling of empathy for its characters .\n",
            "\n",
            "[[gnerates]] an [[enormus]] feeling of empathy for its characters .\n",
            "\n",
            "\n",
            "\n",
            "+-------------------------------+--------+\n",
            "| Attack Results                |        |\n",
            "+-------------------------------+--------+\n",
            "| Number of successful attacks: | 6      |\n",
            "| Number of failed attacks:     | 2      |\n",
            "| Number of skipped attacks:    | 2      |\n",
            "| Original accuracy:            | 80.0%  |\n",
            "| Accuracy under attack:        | 20.0%  |\n",
            "| Attack success rate:          | 75.0%  |\n",
            "| Average perturbed word %:     | 22.96% |\n",
            "| Average num. words per input: | 15.4   |\n",
            "| Avg num queries:              | 19.5   |\n",
            "+-------------------------------+--------+"
          ]
        },
        {
          "output_type": "stream",
          "name": "stderr",
          "text": [
            "\n",
            "textattack: Unknown if model of class <class 'transformers.models.albert.modeling_albert.AlbertForSequenceClassification'> compatible with goal function <class 'textattack.goal_functions.classification.untargeted_classification.UntargetedClassification'>.\n",
            "\n",
            "  0%|          | 0/10 [00:00<?, ?it/s]\u001b[A"
          ]
        },
        {
          "output_type": "stream",
          "name": "stdout",
          "text": [
            "\n",
            "Starting attack for----------------- WordSwapEmbedding UTC\n",
            "Attack(\n",
            "  (search_method): GreedyWordSwapWIR(\n",
            "    (wir_method):  delete\n",
            "  )\n",
            "  (goal_function):  UntargetedClassification\n",
            "  (transformation):  WordSwapEmbedding(\n",
            "    (max_candidates):  5\n",
            "    (embedding):  WordEmbedding\n",
            "  )\n",
            "  (constraints): \n",
            "    (0): RepeatModification\n",
            "    (1): StopwordModification\n",
            "  (is_black_box):  True\n",
            ") \n",
            "\n"
          ]
        },
        {
          "output_type": "stream",
          "name": "stderr",
          "text": [
            "\n",
            " 10%|█         | 1/10 [00:00<00:07,  1.24it/s]\u001b[A\n",
            "[Succeeded / Failed / Skipped / Total] 1 / 0 / 0 / 1:  10%|█         | 1/10 [00:00<00:07,  1.23it/s]\u001b[A"
          ]
        },
        {
          "output_type": "stream",
          "name": "stdout",
          "text": [
            "--------------------------------------------- Result 1 ---------------------------------------------\n",
            "[[Positive (100%)]] --> [[Negative (97%)]]\n",
            "\n",
            "[[lovingly]] photographed in the manner of a golden book sprung to life , stuart little 2 [[manages]] [[sweetness]] largely without stickiness .\n",
            "\n",
            "[[painstakingly]] photographed in the manner of a golden book sprung to life , stuart little 2 [[administering]] [[kindness]] largely without stickiness .\n",
            "\n",
            "\n"
          ]
        },
        {
          "output_type": "stream",
          "name": "stderr",
          "text": [
            "\n",
            "[Succeeded / Failed / Skipped / Total] 1 / 0 / 0 / 1:  20%|██        | 2/10 [00:01<00:05,  1.54it/s]\u001b[A\n",
            "[Succeeded / Failed / Skipped / Total] 1 / 1 / 0 / 2:  20%|██        | 2/10 [00:01<00:05,  1.54it/s]\u001b[A\n",
            "[Succeeded / Failed / Skipped / Total] 1 / 1 / 1 / 3:  30%|███       | 3/10 [00:01<00:03,  2.25it/s]\u001b[A"
          ]
        },
        {
          "output_type": "stream",
          "name": "stdout",
          "text": [
            "--------------------------------------------- Result 2 ---------------------------------------------\n",
            "[[Positive (100%)]] --> [[[FAILED]]]\n",
            "\n",
            "consistently clever and suspenseful .\n",
            "\n",
            "\n",
            "--------------------------------------------- Result 3 ---------------------------------------------\n",
            "[[Negative (85%)]] --> [[[SKIPPED]]]\n",
            "\n",
            "it's like a \" big chill \" reunion of the baader-meinhof gang , only these guys are more harmless pranksters than political activists .\n",
            "\n",
            "\n"
          ]
        },
        {
          "output_type": "stream",
          "name": "stderr",
          "text": [
            "\n",
            "[Succeeded / Failed / Skipped / Total] 1 / 1 / 1 / 3:  40%|████      | 4/10 [00:02<00:03,  1.63it/s]\u001b[A\n",
            "[Succeeded / Failed / Skipped / Total] 2 / 1 / 1 / 4:  40%|████      | 4/10 [00:02<00:03,  1.63it/s]\u001b[A"
          ]
        },
        {
          "output_type": "stream",
          "name": "stdout",
          "text": [
            "--------------------------------------------- Result 4 ---------------------------------------------\n",
            "[[Positive (100%)]] --> [[Negative (50%)]]\n",
            "\n",
            "the [[story]] [[gives]] [[ample]] opportunity for large-scale action and suspense , which director [[shekhar]] kapur [[supplies]] with [[tremendous]] skill .\n",
            "\n",
            "the [[storytelling]] [[affords]] [[sufficient]] opportunity for large-scale action and suspense , which director [[suman]] kapur [[foodstuffs]] with [[prodigious]] skill .\n",
            "\n",
            "\n"
          ]
        },
        {
          "output_type": "stream",
          "name": "stderr",
          "text": [
            "\n",
            "[Succeeded / Failed / Skipped / Total] 3 / 1 / 1 / 5:  50%|█████     | 5/10 [00:02<00:02,  1.83it/s]\u001b[A\n",
            "[Succeeded / Failed / Skipped / Total] 3 / 1 / 1 / 5:  60%|██████    | 6/10 [00:02<00:01,  2.17it/s]\u001b[A\n",
            "[Succeeded / Failed / Skipped / Total] 3 / 1 / 2 / 6:  60%|██████    | 6/10 [00:02<00:01,  2.17it/s]\u001b[A"
          ]
        },
        {
          "output_type": "stream",
          "name": "stdout",
          "text": [
            "--------------------------------------------- Result 5 ---------------------------------------------\n",
            "[[Positive (74%)]] --> [[Negative (84%)]]\n",
            "\n",
            "red dragon \" [[never]] cuts corners .\n",
            "\n",
            "red dragon \" [[jamais]] cuts corners .\n",
            "\n",
            "\n",
            "--------------------------------------------- Result 6 ---------------------------------------------\n",
            "[[Negative (64%)]] --> [[[SKIPPED]]]\n",
            "\n",
            "fresnadillo has something serious to say about the ways in which extravagant chance can distort our perspective and throw us off the path of good sense .\n",
            "\n",
            "\n"
          ]
        },
        {
          "output_type": "stream",
          "name": "stderr",
          "text": [
            "\n",
            "[Succeeded / Failed / Skipped / Total] 4 / 1 / 2 / 7:  70%|███████   | 7/10 [00:03<00:01,  1.97it/s]\u001b[A"
          ]
        },
        {
          "output_type": "stream",
          "name": "stdout",
          "text": [
            "--------------------------------------------- Result 7 ---------------------------------------------\n",
            "[[Positive (100%)]] --> [[Negative (81%)]]\n",
            "\n",
            "throws in enough [[clever]] and [[unexpected]] [[twists]] to make the [[formula]] feel fresh .\n",
            "\n",
            "throws in enough [[shrewd]] and [[unplanned]] [[folds]] to make the [[wording]] feel fresh .\n",
            "\n",
            "\n"
          ]
        },
        {
          "output_type": "stream",
          "name": "stderr",
          "text": [
            "\n",
            "[Succeeded / Failed / Skipped / Total] 4 / 1 / 2 / 7:  80%|████████  | 8/10 [00:04<00:01,  1.95it/s]\u001b[A\n",
            "[Succeeded / Failed / Skipped / Total] 5 / 1 / 2 / 8:  80%|████████  | 8/10 [00:04<00:01,  1.95it/s]\u001b[A"
          ]
        },
        {
          "output_type": "stream",
          "name": "stdout",
          "text": [
            "--------------------------------------------- Result 8 ---------------------------------------------\n",
            "[[Positive (97%)]] --> [[Negative (82%)]]\n",
            "\n",
            "weighty and ponderous but [[every]] bit as [[filling]] as the treat of the title .\n",
            "\n",
            "weighty and ponderous but [[any]] bit as [[populate]] as the treat of the title .\n",
            "\n",
            "\n"
          ]
        },
        {
          "output_type": "stream",
          "name": "stderr",
          "text": [
            "\n",
            "[Succeeded / Failed / Skipped / Total] 5 / 2 / 2 / 9:  90%|█████████ | 9/10 [00:06<00:00,  1.42it/s]\u001b[A"
          ]
        },
        {
          "output_type": "stream",
          "name": "stdout",
          "text": [
            "--------------------------------------------- Result 9 ---------------------------------------------\n",
            "[[Positive (100%)]] --> [[[FAILED]]]\n",
            "\n",
            "a real audience-pleaser that will strike a chord with anyone who's ever waited in a doctor's office , emergency room , hospital bed or insurance company office .\n",
            "\n",
            "\n"
          ]
        },
        {
          "output_type": "stream",
          "name": "stderr",
          "text": [
            "\n",
            "[Succeeded / Failed / Skipped / Total] 5 / 2 / 2 / 9: 100%|██████████| 10/10 [00:07<00:00,  1.39it/s]\u001b[A\n",
            "[Succeeded / Failed / Skipped / Total] 5 / 3 / 2 / 10: 100%|██████████| 10/10 [00:07<00:00,  1.39it/s]"
          ]
        },
        {
          "output_type": "stream",
          "name": "stdout",
          "text": [
            "--------------------------------------------- Result 10 ---------------------------------------------\n",
            "[[Positive (100%)]] --> [[[FAILED]]]\n",
            "\n",
            "generates an enormous feeling of empathy for its characters .\n",
            "\n",
            "\n",
            "\n",
            "+-------------------------------+--------+\n",
            "| Attack Results                |        |\n",
            "+-------------------------------+--------+\n",
            "| Number of successful attacks: | 5      |\n",
            "| Number of failed attacks:     | 3      |\n",
            "| Number of skipped attacks:    | 2      |\n",
            "| Original accuracy:            | 80.0%  |\n",
            "| Accuracy under attack:        | 30.0%  |\n",
            "| Attack success rate:          | 62.5%  |\n",
            "| Average perturbed word %:     | 22.68% |\n",
            "| Average num. words per input: | 15.4   |\n",
            "| Avg num queries:              | 38.25  |\n",
            "+-------------------------------+--------+"
          ]
        },
        {
          "output_type": "stream",
          "name": "stderr",
          "text": [
            "\n"
          ]
        },
        {
          "output_type": "stream",
          "name": "stdout",
          "text": [
            "\n",
            "Starting attack for----------------- WordSwapHowNet UTC\n"
          ]
        },
        {
          "output_type": "stream",
          "name": "stderr",
          "text": [
            "textattack: Unknown if model of class <class 'transformers.models.albert.modeling_albert.AlbertForSequenceClassification'> compatible with goal function <class 'textattack.goal_functions.classification.untargeted_classification.UntargetedClassification'>.\n",
            "\n",
            "  0%|          | 0/10 [00:00<?, ?it/s]\u001b[A"
          ]
        },
        {
          "output_type": "stream",
          "name": "stdout",
          "text": [
            "Attack(\n",
            "  (search_method): GreedyWordSwapWIR(\n",
            "    (wir_method):  delete\n",
            "  )\n",
            "  (goal_function):  UntargetedClassification\n",
            "  (transformation):  WordSwapHowNet(\n",
            "    (max_candidates):  -1\n",
            "  )\n",
            "  (constraints): \n",
            "    (0): RepeatModification\n",
            "    (1): StopwordModification\n",
            "  (is_black_box):  True\n",
            ") \n",
            "\n"
          ]
        },
        {
          "output_type": "stream",
          "name": "stderr",
          "text": [
            "\n",
            " 10%|█         | 1/10 [00:01<00:13,  1.55s/it]\u001b[A\n",
            "[Succeeded / Failed / Skipped / Total] 1 / 0 / 0 / 1:  10%|█         | 1/10 [00:01<00:13,  1.55s/it]\u001b[A"
          ]
        },
        {
          "output_type": "stream",
          "name": "stdout",
          "text": [
            "--------------------------------------------- Result 1 ---------------------------------------------\n",
            "[[Positive (100%)]] --> [[Negative (86%)]]\n",
            "\n",
            "[[lovingly]] photographed in the manner of a golden book sprung to life , stuart little 2 [[manages]] sweetness largely without stickiness .\n",
            "\n",
            "[[placidly]] photographed in the manner of a golden book sprung to life , stuart little 2 [[tries]] sweetness largely without stickiness .\n",
            "\n",
            "\n"
          ]
        },
        {
          "output_type": "stream",
          "name": "stderr",
          "text": [
            "\n",
            "[Succeeded / Failed / Skipped / Total] 1 / 0 / 0 / 1:  20%|██        | 2/10 [00:02<00:09,  1.24s/it]\u001b[A\n",
            "[Succeeded / Failed / Skipped / Total] 2 / 0 / 0 / 2:  20%|██        | 2/10 [00:02<00:09,  1.24s/it]\u001b[A\n",
            "[Succeeded / Failed / Skipped / Total] 2 / 0 / 1 / 3:  30%|███       | 3/10 [00:02<00:05,  1.19it/s]\u001b[A"
          ]
        },
        {
          "output_type": "stream",
          "name": "stdout",
          "text": [
            "--------------------------------------------- Result 2 ---------------------------------------------\n",
            "[[Positive (100%)]] --> [[Negative (99%)]]\n",
            "\n",
            "consistently [[clever]] and [[suspenseful]] .\n",
            "\n",
            "consistently [[tactful]] and [[undecided]] .\n",
            "\n",
            "\n",
            "--------------------------------------------- Result 3 ---------------------------------------------\n",
            "[[Negative (85%)]] --> [[[SKIPPED]]]\n",
            "\n",
            "it's like a \" big chill \" reunion of the baader-meinhof gang , only these guys are more harmless pranksters than political activists .\n",
            "\n",
            "\n"
          ]
        },
        {
          "output_type": "stream",
          "name": "stderr",
          "text": [
            "\n",
            "[Succeeded / Failed / Skipped / Total] 2 / 0 / 1 / 3:  40%|████      | 4/10 [00:03<00:05,  1.06it/s]\u001b[A\n",
            "[Succeeded / Failed / Skipped / Total] 3 / 0 / 1 / 4:  40%|████      | 4/10 [00:03<00:05,  1.05it/s]\u001b[A"
          ]
        },
        {
          "output_type": "stream",
          "name": "stdout",
          "text": [
            "--------------------------------------------- Result 4 ---------------------------------------------\n",
            "[[Positive (100%)]] --> [[Negative (99%)]]\n",
            "\n",
            "the story gives ample opportunity for large-scale action and suspense , which director shekhar kapur supplies with [[tremendous]] skill .\n",
            "\n",
            "the story gives ample opportunity for large-scale action and suspense , which director shekhar kapur supplies with [[terrible]] skill .\n",
            "\n",
            "\n"
          ]
        },
        {
          "output_type": "stream",
          "name": "stderr",
          "text": [
            "\n",
            "[Succeeded / Failed / Skipped / Total] 4 / 0 / 1 / 5:  50%|█████     | 5/10 [00:04<00:04,  1.22it/s]\u001b[A\n",
            "[Succeeded / Failed / Skipped / Total] 4 / 0 / 1 / 5:  60%|██████    | 6/10 [00:04<00:02,  1.46it/s]\u001b[A\n",
            "[Succeeded / Failed / Skipped / Total] 4 / 0 / 2 / 6:  60%|██████    | 6/10 [00:04<00:02,  1.46it/s]\u001b[A"
          ]
        },
        {
          "output_type": "stream",
          "name": "stdout",
          "text": [
            "--------------------------------------------- Result 5 ---------------------------------------------\n",
            "[[Positive (74%)]] --> [[Negative (56%)]]\n",
            "\n",
            "[[red]] dragon \" never cuts corners .\n",
            "\n",
            "[[magenta]] dragon \" never cuts corners .\n",
            "\n",
            "\n",
            "--------------------------------------------- Result 6 ---------------------------------------------\n",
            "[[Negative (64%)]] --> [[[SKIPPED]]]\n",
            "\n",
            "fresnadillo has something serious to say about the ways in which extravagant chance can distort our perspective and throw us off the path of good sense .\n",
            "\n",
            "\n"
          ]
        },
        {
          "output_type": "stream",
          "name": "stderr",
          "text": [
            "\n",
            "[Succeeded / Failed / Skipped / Total] 5 / 0 / 2 / 7:  70%|███████   | 7/10 [00:05<00:02,  1.26it/s]\u001b[A"
          ]
        },
        {
          "output_type": "stream",
          "name": "stdout",
          "text": [
            "--------------------------------------------- Result 7 ---------------------------------------------\n",
            "[[Positive (100%)]] --> [[Negative (72%)]]\n",
            "\n",
            "throws in enough [[clever]] and [[unexpected]] twists to make the [[formula]] feel fresh .\n",
            "\n",
            "throws in enough [[observant]] and [[expectant]] twists to make the [[standard]] feel fresh .\n",
            "\n",
            "\n"
          ]
        },
        {
          "output_type": "stream",
          "name": "stderr",
          "text": [
            "\n",
            "[Succeeded / Failed / Skipped / Total] 5 / 0 / 2 / 7:  80%|████████  | 8/10 [00:06<00:01,  1.25it/s]\u001b[A\n",
            "[Succeeded / Failed / Skipped / Total] 6 / 0 / 2 / 8:  80%|████████  | 8/10 [00:06<00:01,  1.25it/s]\u001b[A"
          ]
        },
        {
          "output_type": "stream",
          "name": "stdout",
          "text": [
            "--------------------------------------------- Result 8 ---------------------------------------------\n",
            "[[Positive (97%)]] --> [[Negative (88%)]]\n",
            "\n",
            "weighty and ponderous but every bit as [[filling]] as the treat of the title .\n",
            "\n",
            "weighty and ponderous but every bit as [[loading]] as the treat of the title .\n",
            "\n",
            "\n"
          ]
        },
        {
          "output_type": "stream",
          "name": "stderr",
          "text": [
            "\n",
            "[Succeeded / Failed / Skipped / Total] 7 / 0 / 2 / 9:  90%|█████████ | 9/10 [00:08<00:00,  1.12it/s]\u001b[A"
          ]
        },
        {
          "output_type": "stream",
          "name": "stdout",
          "text": [
            "--------------------------------------------- Result 9 ---------------------------------------------\n",
            "[[Positive (100%)]] --> [[Negative (92%)]]\n",
            "\n",
            "a [[real]] audience-pleaser that will strike a [[chord]] with anyone who's ever waited in a doctor's office , emergency room , hospital bed or insurance company office .\n",
            "\n",
            "a [[irrefutable]] audience-pleaser that will strike a [[graph]] with anyone who's ever waited in a doctor's office , emergency room , hospital bed or insurance company office .\n",
            "\n",
            "\n"
          ]
        },
        {
          "output_type": "stream",
          "name": "stderr",
          "text": [
            "\n",
            "[Succeeded / Failed / Skipped / Total] 7 / 0 / 2 / 9: 100%|██████████| 10/10 [00:09<00:00,  1.10it/s]\u001b[A\n",
            "[Succeeded / Failed / Skipped / Total] 8 / 0 / 2 / 10: 100%|██████████| 10/10 [00:09<00:00,  1.10it/s]"
          ]
        },
        {
          "output_type": "stream",
          "name": "stdout",
          "text": [
            "--------------------------------------------- Result 10 ---------------------------------------------\n",
            "[[Positive (100%)]] --> [[Negative (99%)]]\n",
            "\n",
            "[[generates]] an [[enormous]] feeling of empathy for its characters .\n",
            "\n",
            "[[appears]] an [[stupendous]] feeling of empathy for its characters .\n",
            "\n",
            "\n",
            "\n",
            "+-------------------------------+--------+\n",
            "| Attack Results                |        |\n",
            "+-------------------------------+--------+\n",
            "| Number of successful attacks: | 8      |\n",
            "| Number of failed attacks:     | 0      |\n",
            "| Number of skipped attacks:    | 2      |\n",
            "| Original accuracy:            | 80.0%  |\n",
            "| Accuracy under attack:        | 0.0%   |\n",
            "| Attack success rate:          | 100.0% |\n",
            "| Average perturbed word %:     | 18.25% |\n",
            "| Average num. words per input: | 15.4   |\n",
            "| Avg num queries:              | 53.5   |\n",
            "+-------------------------------+--------+"
          ]
        },
        {
          "output_type": "stream",
          "name": "stderr",
          "text": [
            "\n",
            "textattack: Unknown if model of class <class 'transformers.models.albert.modeling_albert.AlbertForSequenceClassification'> compatible with goal function <class 'textattack.goal_functions.classification.untargeted_classification.UntargetedClassification'>.\n",
            "\n",
            "  0%|          | 0/10 [00:00<?, ?it/s]\u001b[A"
          ]
        },
        {
          "output_type": "stream",
          "name": "stdout",
          "text": [
            "\n",
            "Starting attack for----------------- WordDeletion UTC\n",
            "Attack(\n",
            "  (search_method): GreedyWordSwapWIR(\n",
            "    (wir_method):  delete\n",
            "  )\n",
            "  (goal_function):  UntargetedClassification\n",
            "  (transformation):  WordDeletion\n",
            "  (constraints): \n",
            "    (0): RepeatModification\n",
            "    (1): StopwordModification\n",
            "  (is_black_box):  True\n",
            ") \n",
            "\n"
          ]
        },
        {
          "output_type": "stream",
          "name": "stderr",
          "text": [
            "\n",
            " 10%|█         | 1/10 [00:00<00:04,  1.96it/s]\u001b[A\n",
            "[Succeeded / Failed / Skipped / Total] 1 / 0 / 0 / 1:  10%|█         | 1/10 [00:00<00:04,  1.94it/s]\u001b[A\n",
            "[Succeeded / Failed / Skipped / Total] 1 / 0 / 0 / 1:  20%|██        | 2/10 [00:00<00:02,  2.82it/s]\u001b[A\n",
            "[Succeeded / Failed / Skipped / Total] 2 / 0 / 0 / 2:  20%|██        | 2/10 [00:00<00:02,  2.80it/s]\u001b[A"
          ]
        },
        {
          "output_type": "stream",
          "name": "stdout",
          "text": [
            "--------------------------------------------- Result 1 ---------------------------------------------\n",
            "[[Positive (100%)]] --> [[Negative (53%)]]\n",
            "\n",
            "[[lovingly]] photographed in the manner of a golden book sprung to life , stuart little 2 [[manages]] sweetness largely without stickiness .\n",
            "\n",
            "photographed in the manner of a golden book sprung to life , stuart little 2 sweetness largely without stickiness .\n",
            "\n",
            "\n",
            "--------------------------------------------- Result 2 ---------------------------------------------\n",
            "[[Positive (100%)]] --> [[Negative (83%)]]\n",
            "\n",
            "[[consistently]] [[clever]] and [[suspenseful]] .\n",
            "\n",
            "and .\n",
            "\n",
            "\n"
          ]
        },
        {
          "output_type": "stream",
          "name": "stderr",
          "text": [
            "\n",
            "[Succeeded / Failed / Skipped / Total] 2 / 0 / 1 / 3:  30%|███       | 3/10 [00:00<00:01,  4.02it/s]\u001b[A"
          ]
        },
        {
          "output_type": "stream",
          "name": "stdout",
          "text": [
            "--------------------------------------------- Result 3 ---------------------------------------------\n",
            "[[Negative (85%)]] --> [[[SKIPPED]]]\n",
            "\n",
            "it's like a \" big chill \" reunion of the baader-meinhof gang , only these guys are more harmless pranksters than political activists .\n",
            "\n",
            "\n"
          ]
        },
        {
          "output_type": "stream",
          "name": "stderr",
          "text": [
            "\n",
            "[Succeeded / Failed / Skipped / Total] 2 / 0 / 1 / 3:  40%|████      | 4/10 [00:01<00:02,  2.65it/s]\u001b[A\n",
            "[Succeeded / Failed / Skipped / Total] 2 / 1 / 1 / 4:  40%|████      | 4/10 [00:01<00:02,  2.65it/s]\u001b[A\n",
            "[Succeeded / Failed / Skipped / Total] 3 / 1 / 1 / 5:  50%|█████     | 5/10 [00:01<00:01,  2.96it/s]\u001b[A"
          ]
        },
        {
          "output_type": "stream",
          "name": "stdout",
          "text": [
            "--------------------------------------------- Result 4 ---------------------------------------------\n",
            "[[Positive (100%)]] --> [[[FAILED]]]\n",
            "\n",
            "the story gives ample opportunity for large-scale action and suspense , which director shekhar kapur supplies with tremendous skill .\n",
            "\n",
            "\n",
            "--------------------------------------------- Result 5 ---------------------------------------------\n",
            "[[Positive (74%)]] --> [[Negative (78%)]]\n",
            "\n",
            "red dragon \" [[never]] cuts corners .\n",
            "\n",
            "red dragon \" cuts corners .\n",
            "\n",
            "\n"
          ]
        },
        {
          "output_type": "stream",
          "name": "stderr",
          "text": [
            "\n",
            "[Succeeded / Failed / Skipped / Total] 3 / 1 / 1 / 5:  60%|██████    | 6/10 [00:01<00:01,  3.49it/s]\u001b[A\n",
            "[Succeeded / Failed / Skipped / Total] 3 / 1 / 2 / 6:  60%|██████    | 6/10 [00:01<00:01,  3.48it/s]\u001b[A"
          ]
        },
        {
          "output_type": "stream",
          "name": "stdout",
          "text": [
            "--------------------------------------------- Result 6 ---------------------------------------------\n",
            "[[Negative (64%)]] --> [[[SKIPPED]]]\n",
            "\n",
            "fresnadillo has something serious to say about the ways in which extravagant chance can distort our perspective and throw us off the path of good sense .\n",
            "\n",
            "\n"
          ]
        },
        {
          "output_type": "stream",
          "name": "stderr",
          "text": [
            "\n",
            "[Succeeded / Failed / Skipped / Total] 4 / 1 / 2 / 7:  70%|███████   | 7/10 [00:02<00:00,  3.23it/s]\u001b[A"
          ]
        },
        {
          "output_type": "stream",
          "name": "stdout",
          "text": [
            "--------------------------------------------- Result 7 ---------------------------------------------\n",
            "[[Positive (100%)]] --> [[Negative (52%)]]\n",
            "\n",
            "throws in enough [[clever]] and [[unexpected]] twists to [[make]] the [[formula]] [[feel]] fresh .\n",
            "\n",
            "throws in enough and twists to the fresh .\n",
            "\n",
            "\n"
          ]
        },
        {
          "output_type": "stream",
          "name": "stderr",
          "text": [
            "\n",
            "[Succeeded / Failed / Skipped / Total] 4 / 1 / 2 / 7:  80%|████████  | 8/10 [00:02<00:00,  3.19it/s]\u001b[A\n",
            "[Succeeded / Failed / Skipped / Total] 5 / 1 / 2 / 8:  80%|████████  | 8/10 [00:02<00:00,  3.19it/s]\u001b[A"
          ]
        },
        {
          "output_type": "stream",
          "name": "stdout",
          "text": [
            "--------------------------------------------- Result 8 ---------------------------------------------\n",
            "[[Positive (97%)]] --> [[Negative (67%)]]\n",
            "\n",
            "weighty and ponderous but [[every]] bit as filling as the treat of the title .\n",
            "\n",
            "weighty and ponderous but bit as filling as the treat of the title .\n",
            "\n",
            "\n"
          ]
        },
        {
          "output_type": "stream",
          "name": "stderr",
          "text": [
            "\n",
            "[Succeeded / Failed / Skipped / Total] 6 / 1 / 2 / 9:  90%|█████████ | 9/10 [00:03<00:00,  2.84it/s]\u001b[A"
          ]
        },
        {
          "output_type": "stream",
          "name": "stdout",
          "text": [
            "--------------------------------------------- Result 9 ---------------------------------------------\n",
            "[[Positive (100%)]] --> [[Negative (95%)]]\n",
            "\n",
            "[[a]] real [[audience-pleaser]] that will strike a [[chord]] [[with]] anyone who's ever waited [[in]] a doctor's office , emergency room , hospital bed or insurance company office .\n",
            "\n",
            "real that will strike a anyone who's ever waited a doctor's office , emergency room , hospital bed or insurance company office .\n",
            "\n",
            "\n"
          ]
        },
        {
          "output_type": "stream",
          "name": "stderr",
          "text": [
            "\n",
            "[Succeeded / Failed / Skipped / Total] 6 / 1 / 2 / 9: 100%|██████████| 10/10 [00:03<00:00,  2.83it/s]\u001b[A\n",
            "[Succeeded / Failed / Skipped / Total] 6 / 2 / 2 / 10: 100%|██████████| 10/10 [00:03<00:00,  2.82it/s]"
          ]
        },
        {
          "output_type": "stream",
          "name": "stdout",
          "text": [
            "--------------------------------------------- Result 10 ---------------------------------------------\n",
            "[[Positive (100%)]] --> [[[FAILED]]]\n",
            "\n",
            "generates an enormous feeling of empathy for its characters .\n",
            "\n",
            "\n",
            "\n",
            "+-------------------------------+--------+\n",
            "| Attack Results                |        |\n",
            "+-------------------------------+--------+\n",
            "| Number of successful attacks: | 6      |\n",
            "| Number of failed attacks:     | 2      |\n",
            "| Number of skipped attacks:    | 2      |\n",
            "| Original accuracy:            | 80.0%  |\n",
            "| Accuracy under attack:        | 20.0%  |\n",
            "| Attack success rate:          | 75.0%  |\n",
            "| Average perturbed word %:     | 56.29% |\n",
            "| Average num. words per input: | 15.4   |\n",
            "| Avg num queries:              | 19.5   |\n",
            "+-------------------------------+--------+"
          ]
        },
        {
          "output_type": "stream",
          "name": "stderr",
          "text": [
            "\n",
            "textattack: Unknown if model of class <class 'transformers.models.albert.modeling_albert.AlbertForSequenceClassification'> compatible with goal function <class 'textattack.goal_functions.classification.untargeted_classification.UntargetedClassification'>.\n",
            "\n",
            "  0%|          | 0/10 [00:00<?, ?it/s]\u001b[A"
          ]
        },
        {
          "output_type": "stream",
          "name": "stdout",
          "text": [
            "\n",
            "Starting attack for----------------- WordSwapRandomCharacterSubstitution UTC\n",
            "Attack(\n",
            "  (search_method): GreedyWordSwapWIR(\n",
            "    (wir_method):  delete\n",
            "  )\n",
            "  (goal_function):  UntargetedClassification\n",
            "  (transformation):  WordSwapRandomCharacterSubstitution(\n",
            "    (random_one):  True\n",
            "  )\n",
            "  (constraints): \n",
            "    (0): RepeatModification\n",
            "    (1): StopwordModification\n",
            "  (is_black_box):  True\n",
            ") \n",
            "\n"
          ]
        },
        {
          "output_type": "stream",
          "name": "stderr",
          "text": [
            "\n",
            " 10%|█         | 1/10 [00:00<00:04,  2.05it/s]\u001b[A\n",
            "[Succeeded / Failed / Skipped / Total] 1 / 0 / 0 / 1:  10%|█         | 1/10 [00:00<00:04,  2.03it/s]\u001b[A\n",
            "[Succeeded / Failed / Skipped / Total] 1 / 0 / 0 / 1:  20%|██        | 2/10 [00:00<00:02,  2.92it/s]\u001b[A\n"
          ]
        },
        {
          "output_type": "stream",
          "name": "stdout",
          "text": [
            "--------------------------------------------- Result 1 ---------------------------------------------\n",
            "[[Positive (100%)]] --> [[Negative (94%)]]\n",
            "\n",
            "lovingly photographed in the manner of a golden book sprung to life , stuart little 2 [[manages]] [[sweetness]] largely without stickiness .\n",
            "\n",
            "lovingly photographed in the manner of a golden book sprung to life , stuart little 2 [[managcs]] [[sweeEness]] largely without stickiness .\n",
            "\n",
            "\n",
            "--------------------------------------------- Result 2 ---------------------------------------------\n",
            "[[Positive (100%)]] --> [[[FAILED]]]\n",
            "\n",
            "consistently clever and suspenseful .\n",
            "\n",
            "\n"
          ]
        },
        {
          "output_type": "stream",
          "name": "stderr",
          "text": [
            "[Succeeded / Failed / Skipped / Total] 1 / 1 / 0 / 2:  20%|██        | 2/10 [00:00<00:02,  2.88it/s]\u001b[A\n",
            "[Succeeded / Failed / Skipped / Total] 1 / 1 / 1 / 3:  30%|███       | 3/10 [00:00<00:01,  4.14it/s]\u001b[A"
          ]
        },
        {
          "output_type": "stream",
          "name": "stdout",
          "text": [
            "--------------------------------------------- Result 3 ---------------------------------------------\n",
            "[[Negative (85%)]] --> [[[SKIPPED]]]\n",
            "\n",
            "it's like a \" big chill \" reunion of the baader-meinhof gang , only these guys are more harmless pranksters than political activists .\n",
            "\n",
            "\n"
          ]
        },
        {
          "output_type": "stream",
          "name": "stderr",
          "text": [
            "\n",
            "[Succeeded / Failed / Skipped / Total] 1 / 1 / 1 / 3:  40%|████      | 4/10 [00:01<00:02,  2.92it/s]\u001b[A\n",
            "[Succeeded / Failed / Skipped / Total] 2 / 1 / 1 / 4:  40%|████      | 4/10 [00:01<00:02,  2.91it/s]\u001b[A\n",
            "[Succeeded / Failed / Skipped / Total] 3 / 1 / 1 / 5:  50%|█████     | 5/10 [00:01<00:01,  3.22it/s]\u001b[A"
          ]
        },
        {
          "output_type": "stream",
          "name": "stdout",
          "text": [
            "--------------------------------------------- Result 4 ---------------------------------------------\n",
            "[[Positive (100%)]] --> [[Negative (62%)]]\n",
            "\n",
            "the [[story]] [[gives]] ample opportunity for [[large-scale]] [[action]] and suspense , which director shekhar kapur [[supplies]] with [[tremendous]] skill .\n",
            "\n",
            "the [[stHry]] [[givgs]] ample opportunity for [[large-sXale]] [[actiNn]] and suspense , which director shekhar kapur [[supplils]] with [[lremendous]] skill .\n",
            "\n",
            "\n",
            "--------------------------------------------- Result 5 ---------------------------------------------\n",
            "[[Positive (74%)]] --> [[Negative (89%)]]\n",
            "\n",
            "red dragon \" [[never]] cuts corners .\n",
            "\n",
            "red dragon \" [[zever]] cuts corners .\n",
            "\n",
            "\n"
          ]
        },
        {
          "output_type": "stream",
          "name": "stderr",
          "text": [
            "\n",
            "[Succeeded / Failed / Skipped / Total] 3 / 1 / 1 / 5:  60%|██████    | 6/10 [00:01<00:01,  3.79it/s]\u001b[A\n",
            "[Succeeded / Failed / Skipped / Total] 3 / 1 / 2 / 6:  60%|██████    | 6/10 [00:01<00:01,  3.78it/s]\u001b[A"
          ]
        },
        {
          "output_type": "stream",
          "name": "stdout",
          "text": [
            "--------------------------------------------- Result 6 ---------------------------------------------\n",
            "[[Negative (64%)]] --> [[[SKIPPED]]]\n",
            "\n",
            "fresnadillo has something serious to say about the ways in which extravagant chance can distort our perspective and throw us off the path of good sense .\n",
            "\n",
            "\n"
          ]
        },
        {
          "output_type": "stream",
          "name": "stderr",
          "text": [
            "\n",
            "[Succeeded / Failed / Skipped / Total] 4 / 1 / 2 / 7:  70%|███████   | 7/10 [00:02<00:00,  3.44it/s]\u001b[A"
          ]
        },
        {
          "output_type": "stream",
          "name": "stdout",
          "text": [
            "--------------------------------------------- Result 7 ---------------------------------------------\n",
            "[[Positive (100%)]] --> [[Negative (93%)]]\n",
            "\n",
            "throws in enough [[clever]] and [[unexpected]] [[twists]] to [[make]] the formula feel [[fresh]] .\n",
            "\n",
            "throws in enough [[cleler]] and [[udexpected]] [[twistr]] to [[makU]] the formula feel [[iresh]] .\n",
            "\n",
            "\n"
          ]
        },
        {
          "output_type": "stream",
          "name": "stderr",
          "text": [
            "\n",
            "[Succeeded / Failed / Skipped / Total] 4 / 1 / 2 / 7:  80%|████████  | 8/10 [00:02<00:00,  3.34it/s]\u001b[A\n",
            "[Succeeded / Failed / Skipped / Total] 5 / 1 / 2 / 8:  80%|████████  | 8/10 [00:02<00:00,  3.33it/s]\u001b[A"
          ]
        },
        {
          "output_type": "stream",
          "name": "stdout",
          "text": [
            "--------------------------------------------- Result 8 ---------------------------------------------\n",
            "[[Positive (97%)]] --> [[Negative (73%)]]\n",
            "\n",
            "weighty and ponderous but [[every]] bit as [[filling]] as the treat of the title .\n",
            "\n",
            "weighty and ponderous but [[zvery]] bit as [[fillyng]] as the treat of the title .\n",
            "\n",
            "\n"
          ]
        },
        {
          "output_type": "stream",
          "name": "stderr",
          "text": [
            "\n",
            "[Succeeded / Failed / Skipped / Total] 6 / 1 / 2 / 9:  90%|█████████ | 9/10 [00:03<00:00,  2.91it/s]\u001b[A"
          ]
        },
        {
          "output_type": "stream",
          "name": "stdout",
          "text": [
            "--------------------------------------------- Result 9 ---------------------------------------------\n",
            "[[Positive (100%)]] --> [[Negative (75%)]]\n",
            "\n",
            "a [[real]] audience-pleaser that will strike a [[chord]] with anyone [[who's]] [[ever]] [[waited]] in a doctor's office , emergency room , hospital bed or insurance company office .\n",
            "\n",
            "a [[reYl]] audience-pleaser that will strike a [[Zhord]] with anyone [[Hho's]] [[evQr]] [[wBited]] in a doctor's office , emergency room , hospital bed or insurance company office .\n",
            "\n",
            "\n"
          ]
        },
        {
          "output_type": "stream",
          "name": "stderr",
          "text": [
            "\n",
            "[Succeeded / Failed / Skipped / Total] 6 / 1 / 2 / 9: 100%|██████████| 10/10 [00:03<00:00,  2.92it/s]\u001b[A\n",
            "[Succeeded / Failed / Skipped / Total] 7 / 1 / 2 / 10: 100%|██████████| 10/10 [00:03<00:00,  2.91it/s]"
          ]
        },
        {
          "output_type": "stream",
          "name": "stdout",
          "text": [
            "--------------------------------------------- Result 10 ---------------------------------------------\n",
            "[[Positive (100%)]] --> [[Negative (99%)]]\n",
            "\n",
            "[[generates]] an [[enormous]] feeling of [[empathy]] for its [[characters]] .\n",
            "\n",
            "[[gmnerates]] an [[enCrmous]] feeling of [[eTpathy]] for its [[charqcters]] .\n",
            "\n",
            "\n",
            "\n",
            "+-------------------------------+--------+\n",
            "| Attack Results                |        |\n",
            "+-------------------------------+--------+\n",
            "| Number of successful attacks: | 7      |\n",
            "| Number of failed attacks:     | 1      |\n",
            "| Number of skipped attacks:    | 2      |\n",
            "| Original accuracy:            | 80.0%  |\n",
            "| Accuracy under attack:        | 10.0%  |\n",
            "| Attack success rate:          | 87.5%  |\n",
            "| Average perturbed word %:     | 25.79% |\n",
            "| Average num. words per input: | 15.4   |\n",
            "| Avg num queries:              | 18.88  |\n",
            "+-------------------------------+--------+"
          ]
        },
        {
          "output_type": "stream",
          "name": "stderr",
          "text": [
            "\n"
          ]
        },
        {
          "output_type": "stream",
          "name": "stdout",
          "text": [
            "\n",
            "Starting attack for----------------- WordSwapMaskedLM UTC\n"
          ]
        },
        {
          "output_type": "stream",
          "name": "stderr",
          "text": [
            "Some weights of the model checkpoint at bert-base-uncased were not used when initializing BertForMaskedLM: ['cls.seq_relationship.weight', 'cls.seq_relationship.bias']\n",
            "- This IS expected if you are initializing BertForMaskedLM from the checkpoint of a model trained on another task or with another architecture (e.g. initializing a BertForSequenceClassification model from a BertForPreTraining model).\n",
            "- This IS NOT expected if you are initializing BertForMaskedLM from the checkpoint of a model that you expect to be exactly identical (initializing a BertForSequenceClassification model from a BertForSequenceClassification model).\n",
            "textattack: Unknown if model of class <class 'transformers.models.albert.modeling_albert.AlbertForSequenceClassification'> compatible with goal function <class 'textattack.goal_functions.classification.untargeted_classification.UntargetedClassification'>.\n",
            "\n",
            "  0%|          | 0/10 [00:00<?, ?it/s]\u001b[A"
          ]
        },
        {
          "output_type": "stream",
          "name": "stdout",
          "text": [
            "Attack(\n",
            "  (search_method): GreedyWordSwapWIR(\n",
            "    (wir_method):  delete\n",
            "  )\n",
            "  (goal_function):  UntargetedClassification\n",
            "  (transformation):  WordSwapMaskedLM(\n",
            "    (method):  bert-attack\n",
            "    (masked_lm_name):  BertForMaskedLM\n",
            "    (max_length):  512\n",
            "    (max_candidates):  48\n",
            "    (min_confidence):  0.0005\n",
            "  )\n",
            "  (constraints): \n",
            "    (0): RepeatModification\n",
            "    (1): StopwordModification\n",
            "  (is_black_box):  True\n",
            ") \n",
            "\n"
          ]
        },
        {
          "output_type": "stream",
          "name": "stderr",
          "text": [
            "\n",
            " 10%|█         | 1/10 [00:02<00:19,  2.22s/it]\u001b[A\n",
            "[Succeeded / Failed / Skipped / Total] 1 / 0 / 0 / 1:  10%|█         | 1/10 [00:02<00:19,  2.22s/it]\u001b[A"
          ]
        },
        {
          "output_type": "stream",
          "name": "stdout",
          "text": [
            "--------------------------------------------- Result 1 ---------------------------------------------\n",
            "[[Positive (100%)]] --> [[Negative (99%)]]\n",
            "\n",
            "lovingly photographed in the manner of a golden book sprung to life , stuart little 2 [[manages]] [[sweetness]] largely without stickiness .\n",
            "\n",
            "lovingly photographed in the manner of a golden book sprung to life , stuart little 2 [[remains]] [[timeless]] largely without stickiness .\n",
            "\n",
            "\n"
          ]
        },
        {
          "output_type": "stream",
          "name": "stderr",
          "text": [
            "\n",
            "[Succeeded / Failed / Skipped / Total] 1 / 0 / 0 / 1:  20%|██        | 2/10 [00:05<00:21,  2.69s/it]\u001b[A\n",
            "[Succeeded / Failed / Skipped / Total] 1 / 1 / 0 / 2:  20%|██        | 2/10 [00:05<00:21,  2.69s/it]\u001b[A\n",
            "[Succeeded / Failed / Skipped / Total] 1 / 1 / 1 / 3:  30%|███       | 3/10 [00:05<00:12,  1.80s/it]\u001b[A"
          ]
        },
        {
          "output_type": "stream",
          "name": "stdout",
          "text": [
            "--------------------------------------------- Result 2 ---------------------------------------------\n",
            "[[Positive (100%)]] --> [[[FAILED]]]\n",
            "\n",
            "consistently clever and suspenseful .\n",
            "\n",
            "\n",
            "--------------------------------------------- Result 3 ---------------------------------------------\n",
            "[[Negative (85%)]] --> [[[SKIPPED]]]\n",
            "\n",
            "it's like a \" big chill \" reunion of the baader-meinhof gang , only these guys are more harmless pranksters than political activists .\n",
            "\n",
            "\n"
          ]
        },
        {
          "output_type": "stream",
          "name": "stderr",
          "text": [
            "\n",
            "[Succeeded / Failed / Skipped / Total] 1 / 1 / 1 / 3:  40%|████      | 4/10 [00:09<00:14,  2.42s/it]\u001b[A\n",
            "[Succeeded / Failed / Skipped / Total] 2 / 1 / 1 / 4:  40%|████      | 4/10 [00:09<00:14,  2.42s/it]\u001b[A"
          ]
        },
        {
          "output_type": "stream",
          "name": "stdout",
          "text": [
            "--------------------------------------------- Result 4 ---------------------------------------------\n",
            "[[Positive (100%)]] --> [[Negative (74%)]]\n",
            "\n",
            "the [[story]] [[gives]] ample opportunity for large-scale action and suspense , which director shekhar kapur [[supplies]] with [[tremendous]] skill .\n",
            "\n",
            "the [[screenplay]] [[gave]] ample opportunity for large-scale action and suspense , which director shekhar kapur [[hires]] with [[he]] skill .\n",
            "\n",
            "\n"
          ]
        },
        {
          "output_type": "stream",
          "name": "stderr",
          "text": [
            "\n",
            "[Succeeded / Failed / Skipped / Total] 3 / 1 / 1 / 5:  50%|█████     | 5/10 [00:10<00:10,  2.14s/it]\u001b[A\n",
            "[Succeeded / Failed / Skipped / Total] 3 / 1 / 1 / 5:  60%|██████    | 6/10 [00:10<00:07,  1.79s/it]\u001b[A\n",
            "[Succeeded / Failed / Skipped / Total] 3 / 1 / 2 / 6:  60%|██████    | 6/10 [00:10<00:07,  1.79s/it]\u001b[A"
          ]
        },
        {
          "output_type": "stream",
          "name": "stdout",
          "text": [
            "--------------------------------------------- Result 5 ---------------------------------------------\n",
            "[[Positive (74%)]] --> [[Negative (98%)]]\n",
            "\n",
            "red dragon \" [[never]] cuts corners .\n",
            "\n",
            "red dragon \" [[just]] cuts corners .\n",
            "\n",
            "\n",
            "--------------------------------------------- Result 6 ---------------------------------------------\n",
            "[[Negative (64%)]] --> [[[SKIPPED]]]\n",
            "\n",
            "fresnadillo has something serious to say about the ways in which extravagant chance can distort our perspective and throw us off the path of good sense .\n",
            "\n",
            "\n"
          ]
        },
        {
          "output_type": "stream",
          "name": "stderr",
          "text": [
            "\n",
            "[Succeeded / Failed / Skipped / Total] 4 / 1 / 2 / 7:  70%|███████   | 7/10 [00:13<00:05,  1.99s/it]\u001b[A"
          ]
        },
        {
          "output_type": "stream",
          "name": "stdout",
          "text": [
            "--------------------------------------------- Result 7 ---------------------------------------------\n",
            "[[Positive (100%)]] --> [[Negative (60%)]]\n",
            "\n",
            "throws in enough [[clever]] and [[unexpected]] twists to make the [[formula]] feel fresh .\n",
            "\n",
            "throws in enough [[stupid]] and [[absurd]] twists to make the [[title]] feel fresh .\n",
            "\n",
            "\n"
          ]
        },
        {
          "output_type": "stream",
          "name": "stderr",
          "text": [
            "\n",
            "[Succeeded / Failed / Skipped / Total] 4 / 1 / 2 / 7:  80%|████████  | 8/10 [00:15<00:03,  1.89s/it]\u001b[A\n",
            "[Succeeded / Failed / Skipped / Total] 5 / 1 / 2 / 8:  80%|████████  | 8/10 [00:15<00:03,  1.89s/it]\u001b[A"
          ]
        },
        {
          "output_type": "stream",
          "name": "stdout",
          "text": [
            "--------------------------------------------- Result 8 ---------------------------------------------\n",
            "[[Positive (97%)]] --> [[Negative (82%)]]\n",
            "\n",
            "weighty and ponderous but [[every]] bit as filling as the treat of the title .\n",
            "\n",
            "weighty and ponderous but [[just]] bit as filling as the treat of the title .\n",
            "\n",
            "\n"
          ]
        },
        {
          "output_type": "stream",
          "name": "stderr",
          "text": [
            "\n",
            "[Succeeded / Failed / Skipped / Total] 5 / 1 / 2 / 8:  80%|████████  | 8/10 [00:25<00:06,  3.24s/it]\u001b[A\n",
            "[Succeeded / Failed / Skipped / Total] 5 / 1 / 2 / 8:  90%|█████████ | 9/10 [00:55<00:06,  6.20s/it]\u001b[A\n",
            "[Succeeded / Failed / Skipped / Total] 6 / 1 / 2 / 9:  90%|█████████ | 9/10 [00:55<00:06,  6.20s/it]\u001b[A"
          ]
        },
        {
          "output_type": "stream",
          "name": "stdout",
          "text": [
            "--------------------------------------------- Result 9 ---------------------------------------------\n",
            "[[Positive (100%)]] --> [[Negative (65%)]]\n",
            "\n",
            "a [[real]] audience-pleaser that will [[strike]] a [[chord]] with anyone [[who's]] ever waited in a doctor's office , emergency room , hospital bed or insurance company office .\n",
            "\n",
            "a [[fake]] audience-pleaser that will [[trigger]] a [[notch]] with anyone [[who'em]] ever waited in a doctor's office , emergency room , hospital bed or insurance company office .\n",
            "\n",
            "\n"
          ]
        },
        {
          "output_type": "stream",
          "name": "stderr",
          "text": [
            "\n",
            "[Succeeded / Failed / Skipped / Total] 6 / 1 / 2 / 9: 100%|██████████| 10/10 [00:58<00:00,  5.87s/it]\u001b[A\n",
            "[Succeeded / Failed / Skipped / Total] 7 / 1 / 2 / 10: 100%|██████████| 10/10 [00:58<00:00,  5.87s/it]"
          ]
        },
        {
          "output_type": "stream",
          "name": "stdout",
          "text": [
            "--------------------------------------------- Result 10 ---------------------------------------------\n",
            "[[Positive (100%)]] --> [[Negative (65%)]]\n",
            "\n",
            "[[generates]] an [[enormous]] [[feeling]] of empathy for its characters .\n",
            "\n",
            "[[i]] an [[kind]] [[rating]] of empathy for its characters .\n",
            "\n",
            "\n",
            "\n",
            "+-------------------------------+--------+\n",
            "| Attack Results                |        |\n",
            "+-------------------------------+--------+\n",
            "| Number of successful attacks: | 7      |\n",
            "| Number of failed attacks:     | 1      |\n",
            "| Number of skipped attacks:    | 2      |\n",
            "| Original accuracy:            | 80.0%  |\n",
            "| Accuracy under attack:        | 10.0%  |\n",
            "| Attack success rate:          | 87.5%  |\n",
            "| Average perturbed word %:     | 18.83% |\n",
            "| Average num. words per input: | 15.4   |\n",
            "| Avg num queries:              | 129.0  |\n",
            "+-------------------------------+--------+"
          ]
        },
        {
          "output_type": "stream",
          "name": "stderr",
          "text": [
            "\n"
          ]
        },
        {
          "output_type": "stream",
          "name": "stdout",
          "text": [
            "\n",
            "Starting attack for----------------- WordInsertionMaskedLM UTC\n"
          ]
        },
        {
          "output_type": "stream",
          "name": "stderr",
          "text": [
            "Some weights of the model checkpoint at bert-base-uncased were not used when initializing BertForMaskedLM: ['cls.seq_relationship.weight', 'cls.seq_relationship.bias']\n",
            "- This IS expected if you are initializing BertForMaskedLM from the checkpoint of a model trained on another task or with another architecture (e.g. initializing a BertForSequenceClassification model from a BertForPreTraining model).\n",
            "- This IS NOT expected if you are initializing BertForMaskedLM from the checkpoint of a model that you expect to be exactly identical (initializing a BertForSequenceClassification model from a BertForSequenceClassification model).\n",
            "textattack: Unknown if model of class <class 'transformers.models.albert.modeling_albert.AlbertForSequenceClassification'> compatible with goal function <class 'textattack.goal_functions.classification.untargeted_classification.UntargetedClassification'>.\n"
          ]
        },
        {
          "output_type": "stream",
          "name": "stdout",
          "text": [
            "Not compatible\n",
            "Starting attack for----------------- WordMergeMaskedLM UTC\n"
          ]
        },
        {
          "output_type": "stream",
          "name": "stderr",
          "text": [
            "Some weights of the model checkpoint at bert-base-uncased were not used when initializing BertForMaskedLM: ['cls.seq_relationship.weight', 'cls.seq_relationship.bias']\n",
            "- This IS expected if you are initializing BertForMaskedLM from the checkpoint of a model trained on another task or with another architecture (e.g. initializing a BertForSequenceClassification model from a BertForPreTraining model).\n",
            "- This IS NOT expected if you are initializing BertForMaskedLM from the checkpoint of a model that you expect to be exactly identical (initializing a BertForSequenceClassification model from a BertForSequenceClassification model).\n",
            "textattack: Unknown if model of class <class 'transformers.models.albert.modeling_albert.AlbertForSequenceClassification'> compatible with goal function <class 'textattack.goal_functions.classification.untargeted_classification.UntargetedClassification'>.\n",
            "textattack: Unknown if model of class <class 'transformers.models.albert.modeling_albert.AlbertForSequenceClassification'> compatible with goal function <class 'textattack.goal_functions.classification.untargeted_classification.UntargetedClassification'>.\n",
            "\n",
            "  0%|          | 0/10 [00:00<?, ?it/s]\u001b[A"
          ]
        },
        {
          "output_type": "stream",
          "name": "stdout",
          "text": [
            "Not compatible\n",
            "Starting attack for----------------- WordSwapExtend UTC\n",
            "Attack(\n",
            "  (search_method): GreedyWordSwapWIR(\n",
            "    (wir_method):  delete\n",
            "  )\n",
            "  (goal_function):  UntargetedClassification\n",
            "  (transformation):  WordSwapExtend\n",
            "  (constraints): \n",
            "    (0): RepeatModification\n",
            "    (1): StopwordModification\n",
            "  (is_black_box):  True\n",
            ") \n",
            "\n"
          ]
        },
        {
          "output_type": "stream",
          "name": "stderr",
          "text": [
            "\n",
            " 10%|█         | 1/10 [00:00<00:03,  2.28it/s]\u001b[A\n",
            "[Succeeded / Failed / Skipped / Total] 0 / 1 / 0 / 1:  10%|█         | 1/10 [00:00<00:03,  2.26it/s]\u001b[A\n",
            "[Succeeded / Failed / Skipped / Total] 0 / 1 / 0 / 1:  20%|██        | 2/10 [00:00<00:02,  3.55it/s]\u001b[A\n",
            "[Succeeded / Failed / Skipped / Total] 0 / 2 / 0 / 2:  20%|██        | 2/10 [00:00<00:02,  3.53it/s]\u001b[A\n",
            "[Succeeded / Failed / Skipped / Total] 0 / 2 / 1 / 3:  30%|███       | 3/10 [00:00<00:01,  4.99it/s]\u001b[A"
          ]
        },
        {
          "output_type": "stream",
          "name": "stdout",
          "text": [
            "--------------------------------------------- Result 1 ---------------------------------------------\n",
            "[[Positive (100%)]] --> [[[FAILED]]]\n",
            "\n",
            "lovingly photographed in the manner of a golden book sprung to life , stuart little 2 manages sweetness largely without stickiness .\n",
            "\n",
            "\n",
            "--------------------------------------------- Result 2 ---------------------------------------------\n",
            "[[Positive (100%)]] --> [[[FAILED]]]\n",
            "\n",
            "consistently clever and suspenseful .\n",
            "\n",
            "\n",
            "--------------------------------------------- Result 3 ---------------------------------------------\n",
            "[[Negative (85%)]] --> [[[SKIPPED]]]\n",
            "\n",
            "it's like a \" big chill \" reunion of the baader-meinhof gang , only these guys are more harmless pranksters than political activists .\n",
            "\n",
            "\n"
          ]
        },
        {
          "output_type": "stream",
          "name": "stderr",
          "text": [
            "\n",
            "[Succeeded / Failed / Skipped / Total] 0 / 2 / 1 / 3:  40%|████      | 4/10 [00:00<00:01,  4.01it/s]\u001b[A\n",
            "[Succeeded / Failed / Skipped / Total] 0 / 3 / 1 / 4:  40%|████      | 4/10 [00:01<00:01,  4.00it/s]\u001b[A\n",
            "[Succeeded / Failed / Skipped / Total] 0 / 4 / 1 / 5:  50%|█████     | 5/10 [00:01<00:01,  4.32it/s]\u001b[A\n",
            "[Succeeded / Failed / Skipped / Total] 0 / 4 / 1 / 5:  60%|██████    | 6/10 [00:01<00:00,  5.05it/s]\u001b[A\n",
            "[Succeeded / Failed / Skipped / Total] 0 / 4 / 2 / 6:  60%|██████    | 6/10 [00:01<00:00,  5.04it/s]\u001b[A"
          ]
        },
        {
          "output_type": "stream",
          "name": "stdout",
          "text": [
            "--------------------------------------------- Result 4 ---------------------------------------------\n",
            "[[Positive (100%)]] --> [[[FAILED]]]\n",
            "\n",
            "the story gives ample opportunity for large-scale action and suspense , which director shekhar kapur supplies with tremendous skill .\n",
            "\n",
            "\n",
            "--------------------------------------------- Result 5 ---------------------------------------------\n",
            "[[Positive (74%)]] --> [[[FAILED]]]\n",
            "\n",
            "red dragon \" never cuts corners .\n",
            "\n",
            "\n",
            "--------------------------------------------- Result 6 ---------------------------------------------\n",
            "[[Negative (64%)]] --> [[[SKIPPED]]]\n",
            "\n",
            "fresnadillo has something serious to say about the ways in which extravagant chance can distort our perspective and throw us off the path of good sense .\n",
            "\n",
            "\n"
          ]
        },
        {
          "output_type": "stream",
          "name": "stderr",
          "text": [
            "\n",
            "[Succeeded / Failed / Skipped / Total] 0 / 5 / 2 / 7:  70%|███████   | 7/10 [00:01<00:00,  4.69it/s]\u001b[A"
          ]
        },
        {
          "output_type": "stream",
          "name": "stdout",
          "text": [
            "--------------------------------------------- Result 7 ---------------------------------------------\n",
            "[[Positive (100%)]] --> [[[FAILED]]]\n",
            "\n",
            "throws in enough clever and unexpected twists to make the formula feel fresh .\n",
            "\n",
            "\n"
          ]
        },
        {
          "output_type": "stream",
          "name": "stderr",
          "text": [
            "\n",
            "[Succeeded / Failed / Skipped / Total] 0 / 5 / 2 / 7:  80%|████████  | 8/10 [00:01<00:00,  4.44it/s]\u001b[A\n",
            "[Succeeded / Failed / Skipped / Total] 0 / 6 / 2 / 8:  80%|████████  | 8/10 [00:01<00:00,  4.43it/s]\u001b[A"
          ]
        },
        {
          "output_type": "stream",
          "name": "stdout",
          "text": [
            "--------------------------------------------- Result 8 ---------------------------------------------\n",
            "[[Positive (97%)]] --> [[[FAILED]]]\n",
            "\n",
            "weighty and ponderous but every bit as filling as the treat of the title .\n",
            "\n",
            "\n"
          ]
        },
        {
          "output_type": "stream",
          "name": "stderr",
          "text": [
            "\n",
            "[Succeeded / Failed / Skipped / Total] 0 / 7 / 2 / 9:  90%|█████████ | 9/10 [00:02<00:00,  3.79it/s]\u001b[A"
          ]
        },
        {
          "output_type": "stream",
          "name": "stdout",
          "text": [
            "--------------------------------------------- Result 9 ---------------------------------------------\n",
            "[[Positive (100%)]] --> [[[FAILED]]]\n",
            "\n",
            "a real audience-pleaser that will strike a chord with anyone who's ever waited in a doctor's office , emergency room , hospital bed or insurance company office .\n",
            "\n",
            "\n"
          ]
        },
        {
          "output_type": "stream",
          "name": "stderr",
          "text": [
            "\n",
            "[Succeeded / Failed / Skipped / Total] 0 / 7 / 2 / 9: 100%|██████████| 10/10 [00:02<00:00,  3.86it/s]\u001b[A\n",
            "[Succeeded / Failed / Skipped / Total] 0 / 8 / 2 / 10: 100%|██████████| 10/10 [00:02<00:00,  3.85it/s]"
          ]
        },
        {
          "output_type": "stream",
          "name": "stdout",
          "text": [
            "--------------------------------------------- Result 10 ---------------------------------------------\n",
            "[[Positive (100%)]] --> [[[FAILED]]]\n",
            "\n",
            "generates an enormous feeling of empathy for its characters .\n",
            "\n",
            "\n",
            "\n",
            "+-------------------------------+-------+\n",
            "| Attack Results                |       |\n",
            "+-------------------------------+-------+\n",
            "| Number of successful attacks: | 0     |\n",
            "| Number of failed attacks:     | 8     |\n",
            "| Number of skipped attacks:    | 2     |\n",
            "| Original accuracy:            | 80.0% |\n",
            "| Accuracy under attack:        | 80.0% |\n",
            "| Attack success rate:          | 0.0%  |\n",
            "| Average perturbed word %:     | nan%  |\n",
            "| Average num. words per input: | 15.4  |\n",
            "| Avg num queries:              | 14.62 |\n",
            "+-------------------------------+-------+"
          ]
        },
        {
          "output_type": "stream",
          "name": "stderr",
          "text": [
            "\n",
            "textattack: Unknown if model of class <class 'transformers.models.albert.modeling_albert.AlbertForSequenceClassification'> compatible with goal function <class 'textattack.goal_functions.classification.untargeted_classification.UntargetedClassification'>.\n",
            "\n",
            "  0%|          | 0/10 [00:00<?, ?it/s]\u001b[A"
          ]
        },
        {
          "output_type": "stream",
          "name": "stdout",
          "text": [
            "\n",
            "Starting attack for----------------- WordSwapContract UTC\n",
            "Attack(\n",
            "  (search_method): GreedyWordSwapWIR(\n",
            "    (wir_method):  delete\n",
            "  )\n",
            "  (goal_function):  UntargetedClassification\n",
            "  (transformation):  WordSwapContract\n",
            "  (constraints): \n",
            "    (0): RepeatModification\n",
            "    (1): StopwordModification\n",
            "  (is_black_box):  True\n",
            ") \n",
            "\n"
          ]
        },
        {
          "output_type": "stream",
          "name": "stderr",
          "text": [
            "\n",
            " 10%|█         | 1/10 [00:00<00:03,  2.25it/s]\u001b[A\n",
            "[Succeeded / Failed / Skipped / Total] 0 / 1 / 0 / 1:  10%|█         | 1/10 [00:00<00:04,  2.23it/s]\u001b[A\n",
            "[Succeeded / Failed / Skipped / Total] 0 / 1 / 0 / 1:  20%|██        | 2/10 [00:00<00:02,  3.52it/s]\u001b[A\n",
            "[Succeeded / Failed / Skipped / Total] 0 / 2 / 0 / 2:  20%|██        | 2/10 [00:00<00:02,  3.50it/s]\u001b[A\n",
            "[Succeeded / Failed / Skipped / Total] 0 / 2 / 1 / 3:  30%|███       | 3/10 [00:00<00:01,  4.96it/s]\u001b[A"
          ]
        },
        {
          "output_type": "stream",
          "name": "stdout",
          "text": [
            "--------------------------------------------- Result 1 ---------------------------------------------\n",
            "[[Positive (100%)]] --> [[[FAILED]]]\n",
            "\n",
            "lovingly photographed in the manner of a golden book sprung to life , stuart little 2 manages sweetness largely without stickiness .\n",
            "\n",
            "\n",
            "--------------------------------------------- Result 2 ---------------------------------------------\n",
            "[[Positive (100%)]] --> [[[FAILED]]]\n",
            "\n",
            "consistently clever and suspenseful .\n",
            "\n",
            "\n",
            "--------------------------------------------- Result 3 ---------------------------------------------\n",
            "[[Negative (85%)]] --> [[[SKIPPED]]]\n",
            "\n",
            "it's like a \" big chill \" reunion of the baader-meinhof gang , only these guys are more harmless pranksters than political activists .\n",
            "\n",
            "\n"
          ]
        },
        {
          "output_type": "stream",
          "name": "stderr",
          "text": [
            "\n",
            "[Succeeded / Failed / Skipped / Total] 0 / 2 / 1 / 3:  40%|████      | 4/10 [00:01<00:01,  3.99it/s]\u001b[A\n",
            "[Succeeded / Failed / Skipped / Total] 0 / 3 / 1 / 4:  40%|████      | 4/10 [00:01<00:01,  3.98it/s]\u001b[A\n",
            "[Succeeded / Failed / Skipped / Total] 0 / 4 / 1 / 5:  50%|█████     | 5/10 [00:01<00:01,  4.31it/s]\u001b[A\n",
            "[Succeeded / Failed / Skipped / Total] 0 / 4 / 1 / 5:  60%|██████    | 6/10 [00:01<00:00,  5.04it/s]\u001b[A\n",
            "[Succeeded / Failed / Skipped / Total] 0 / 4 / 2 / 6:  60%|██████    | 6/10 [00:01<00:00,  5.01it/s]\u001b[A"
          ]
        },
        {
          "output_type": "stream",
          "name": "stdout",
          "text": [
            "--------------------------------------------- Result 4 ---------------------------------------------\n",
            "[[Positive (100%)]] --> [[[FAILED]]]\n",
            "\n",
            "the story gives ample opportunity for large-scale action and suspense , which director shekhar kapur supplies with tremendous skill .\n",
            "\n",
            "\n",
            "--------------------------------------------- Result 5 ---------------------------------------------\n",
            "[[Positive (74%)]] --> [[[FAILED]]]\n",
            "\n",
            "red dragon \" never cuts corners .\n",
            "\n",
            "\n",
            "--------------------------------------------- Result 6 ---------------------------------------------\n",
            "[[Negative (64%)]] --> [[[SKIPPED]]]\n",
            "\n",
            "fresnadillo has something serious to say about the ways in which extravagant chance can distort our perspective and throw us off the path of good sense .\n",
            "\n",
            "\n"
          ]
        },
        {
          "output_type": "stream",
          "name": "stderr",
          "text": [
            "\n",
            "[Succeeded / Failed / Skipped / Total] 0 / 5 / 2 / 7:  70%|███████   | 7/10 [00:01<00:00,  4.68it/s]\u001b[A"
          ]
        },
        {
          "output_type": "stream",
          "name": "stdout",
          "text": [
            "--------------------------------------------- Result 7 ---------------------------------------------\n",
            "[[Positive (100%)]] --> [[[FAILED]]]\n",
            "\n",
            "throws in enough clever and unexpected twists to make the formula feel fresh .\n",
            "\n",
            "\n"
          ]
        },
        {
          "output_type": "stream",
          "name": "stderr",
          "text": [
            "\n",
            "[Succeeded / Failed / Skipped / Total] 0 / 5 / 2 / 7:  80%|████████  | 8/10 [00:01<00:00,  4.42it/s]\u001b[A\n",
            "[Succeeded / Failed / Skipped / Total] 0 / 6 / 2 / 8:  80%|████████  | 8/10 [00:01<00:00,  4.41it/s]\u001b[A"
          ]
        },
        {
          "output_type": "stream",
          "name": "stdout",
          "text": [
            "--------------------------------------------- Result 8 ---------------------------------------------\n",
            "[[Positive (97%)]] --> [[[FAILED]]]\n",
            "\n",
            "weighty and ponderous but every bit as filling as the treat of the title .\n",
            "\n",
            "\n"
          ]
        },
        {
          "output_type": "stream",
          "name": "stderr",
          "text": [
            "\n",
            "[Succeeded / Failed / Skipped / Total] 0 / 7 / 2 / 9:  90%|█████████ | 9/10 [00:02<00:00,  3.83it/s]\u001b[A"
          ]
        },
        {
          "output_type": "stream",
          "name": "stdout",
          "text": [
            "--------------------------------------------- Result 9 ---------------------------------------------\n",
            "[[Positive (100%)]] --> [[[FAILED]]]\n",
            "\n",
            "a real audience-pleaser that will strike a chord with anyone who's ever waited in a doctor's office , emergency room , hospital bed or insurance company office .\n",
            "\n",
            "\n"
          ]
        },
        {
          "output_type": "stream",
          "name": "stderr",
          "text": [
            "\n",
            "[Succeeded / Failed / Skipped / Total] 0 / 7 / 2 / 9: 100%|██████████| 10/10 [00:02<00:00,  3.90it/s]\u001b[A\n",
            "[Succeeded / Failed / Skipped / Total] 0 / 8 / 2 / 10: 100%|██████████| 10/10 [00:02<00:00,  3.89it/s]"
          ]
        },
        {
          "output_type": "stream",
          "name": "stdout",
          "text": [
            "--------------------------------------------- Result 10 ---------------------------------------------\n",
            "[[Positive (100%)]] --> [[[FAILED]]]\n",
            "\n",
            "generates an enormous feeling of empathy for its characters .\n",
            "\n",
            "\n",
            "\n",
            "+-------------------------------+-------+\n",
            "| Attack Results                |       |\n",
            "+-------------------------------+-------+\n",
            "| Number of successful attacks: | 0     |\n",
            "| Number of failed attacks:     | 8     |\n",
            "| Number of skipped attacks:    | 2     |\n",
            "| Original accuracy:            | 80.0% |\n",
            "| Accuracy under attack:        | 80.0% |\n",
            "| Attack success rate:          | 0.0%  |\n",
            "| Average perturbed word %:     | nan%  |\n",
            "| Average num. words per input: | 15.4  |\n",
            "| Avg num queries:              | 14.5  |\n",
            "+-------------------------------+-------+"
          ]
        },
        {
          "output_type": "stream",
          "name": "stderr",
          "text": [
            "\n",
            "textattack: Unknown if model of class <class 'transformers.models.albert.modeling_albert.AlbertForSequenceClassification'> compatible with goal function <class 'textattack.goal_functions.classification.untargeted_classification.UntargetedClassification'>.\n",
            "\n",
            "  0%|          | 0/10 [00:00<?, ?it/s]\u001b[A"
          ]
        },
        {
          "output_type": "stream",
          "name": "stdout",
          "text": [
            "\n",
            "Starting attack for----------------- WordSwapChangeName UTC\n",
            "Attack(\n",
            "  (search_method): GreedyWordSwapWIR(\n",
            "    (wir_method):  delete\n",
            "  )\n",
            "  (goal_function):  UntargetedClassification\n",
            "  (transformation):  WordSwapChangeName\n",
            "  (constraints): \n",
            "    (0): RepeatModification\n",
            "    (1): StopwordModification\n",
            "  (is_black_box):  True\n",
            ") \n",
            "\n"
          ]
        },
        {
          "output_type": "stream",
          "name": "stderr",
          "text": [
            "\n",
            " 10%|█         | 1/10 [00:00<00:04,  2.18it/s]\u001b[A\n",
            "[Succeeded / Failed / Skipped / Total] 0 / 1 / 0 / 1:  10%|█         | 1/10 [00:00<00:04,  2.17it/s]\u001b[A\n",
            "[Succeeded / Failed / Skipped / Total] 0 / 1 / 0 / 1:  20%|██        | 2/10 [00:00<00:02,  3.40it/s]\u001b[A\n",
            "[Succeeded / Failed / Skipped / Total] 0 / 2 / 0 / 2:  20%|██        | 2/10 [00:00<00:02,  3.36it/s]\u001b[A\n",
            "[Succeeded / Failed / Skipped / Total] 0 / 2 / 1 / 3:  30%|███       | 3/10 [00:00<00:01,  4.81it/s]\u001b[A"
          ]
        },
        {
          "output_type": "stream",
          "name": "stdout",
          "text": [
            "--------------------------------------------- Result 1 ---------------------------------------------\n",
            "[[Positive (100%)]] --> [[[FAILED]]]\n",
            "\n",
            "lovingly photographed in the manner of a golden book sprung to life , stuart little 2 manages sweetness largely without stickiness .\n",
            "\n",
            "\n",
            "--------------------------------------------- Result 2 ---------------------------------------------\n",
            "[[Positive (100%)]] --> [[[FAILED]]]\n",
            "\n",
            "consistently clever and suspenseful .\n",
            "\n",
            "\n",
            "--------------------------------------------- Result 3 ---------------------------------------------\n",
            "[[Negative (85%)]] --> [[[SKIPPED]]]\n",
            "\n",
            "it's like a \" big chill \" reunion of the baader-meinhof gang , only these guys are more harmless pranksters than political activists .\n",
            "\n",
            "\n"
          ]
        },
        {
          "output_type": "stream",
          "name": "stderr",
          "text": [
            "\n",
            "[Succeeded / Failed / Skipped / Total] 0 / 2 / 1 / 3:  40%|████      | 4/10 [00:01<00:01,  3.86it/s]\u001b[A\n",
            "[Succeeded / Failed / Skipped / Total] 0 / 3 / 1 / 4:  40%|████      | 4/10 [00:01<00:01,  3.84it/s]\u001b[A\n",
            "[Succeeded / Failed / Skipped / Total] 0 / 4 / 1 / 5:  50%|█████     | 5/10 [00:01<00:01,  4.17it/s]\u001b[A\n",
            "[Succeeded / Failed / Skipped / Total] 0 / 4 / 1 / 5:  60%|██████    | 6/10 [00:01<00:00,  4.87it/s]\u001b[A\n",
            "[Succeeded / Failed / Skipped / Total] 0 / 4 / 2 / 6:  60%|██████    | 6/10 [00:01<00:00,  4.85it/s]\u001b[A"
          ]
        },
        {
          "output_type": "stream",
          "name": "stdout",
          "text": [
            "--------------------------------------------- Result 4 ---------------------------------------------\n",
            "[[Positive (100%)]] --> [[[FAILED]]]\n",
            "\n",
            "the story gives ample opportunity for large-scale action and suspense , which director shekhar kapur supplies with tremendous skill .\n",
            "\n",
            "\n",
            "--------------------------------------------- Result 5 ---------------------------------------------\n",
            "[[Positive (74%)]] --> [[[FAILED]]]\n",
            "\n",
            "red dragon \" never cuts corners .\n",
            "\n",
            "\n",
            "--------------------------------------------- Result 6 ---------------------------------------------\n",
            "[[Negative (64%)]] --> [[[SKIPPED]]]\n",
            "\n",
            "fresnadillo has something serious to say about the ways in which extravagant chance can distort our perspective and throw us off the path of good sense .\n",
            "\n",
            "\n"
          ]
        },
        {
          "output_type": "stream",
          "name": "stderr",
          "text": [
            "\n",
            "[Succeeded / Failed / Skipped / Total] 0 / 5 / 2 / 7:  70%|███████   | 7/10 [00:01<00:00,  4.52it/s]\u001b[A"
          ]
        },
        {
          "output_type": "stream",
          "name": "stdout",
          "text": [
            "--------------------------------------------- Result 7 ---------------------------------------------\n",
            "[[Positive (100%)]] --> [[[FAILED]]]\n",
            "\n",
            "throws in enough clever and unexpected twists to make the formula feel fresh .\n",
            "\n",
            "\n"
          ]
        },
        {
          "output_type": "stream",
          "name": "stderr",
          "text": [
            "\n",
            "[Succeeded / Failed / Skipped / Total] 0 / 5 / 2 / 7:  80%|████████  | 8/10 [00:01<00:00,  4.28it/s]\u001b[A\n",
            "[Succeeded / Failed / Skipped / Total] 0 / 6 / 2 / 8:  80%|████████  | 8/10 [00:01<00:00,  4.27it/s]\u001b[A"
          ]
        },
        {
          "output_type": "stream",
          "name": "stdout",
          "text": [
            "--------------------------------------------- Result 8 ---------------------------------------------\n",
            "[[Positive (97%)]] --> [[[FAILED]]]\n",
            "\n",
            "weighty and ponderous but every bit as filling as the treat of the title .\n",
            "\n",
            "\n"
          ]
        },
        {
          "output_type": "stream",
          "name": "stderr",
          "text": [
            "\n",
            "[Succeeded / Failed / Skipped / Total] 0 / 7 / 2 / 9:  90%|█████████ | 9/10 [00:02<00:00,  3.69it/s]\u001b[A"
          ]
        },
        {
          "output_type": "stream",
          "name": "stdout",
          "text": [
            "--------------------------------------------- Result 9 ---------------------------------------------\n",
            "[[Positive (100%)]] --> [[[FAILED]]]\n",
            "\n",
            "a real audience-pleaser that will strike a chord with anyone who's ever waited in a doctor's office , emergency room , hospital bed or insurance company office .\n",
            "\n",
            "\n"
          ]
        },
        {
          "output_type": "stream",
          "name": "stderr",
          "text": [
            "\n",
            "[Succeeded / Failed / Skipped / Total] 0 / 7 / 2 / 9: 100%|██████████| 10/10 [00:02<00:00,  3.76it/s]\u001b[A\n",
            "[Succeeded / Failed / Skipped / Total] 0 / 8 / 2 / 10: 100%|██████████| 10/10 [00:02<00:00,  3.75it/s]"
          ]
        },
        {
          "output_type": "stream",
          "name": "stdout",
          "text": [
            "--------------------------------------------- Result 10 ---------------------------------------------\n",
            "[[Positive (100%)]] --> [[[FAILED]]]\n",
            "\n",
            "generates an enormous feeling of empathy for its characters .\n",
            "\n",
            "\n",
            "\n",
            "+-------------------------------+-------+\n",
            "| Attack Results                |       |\n",
            "+-------------------------------+-------+\n",
            "| Number of successful attacks: | 0     |\n",
            "| Number of failed attacks:     | 8     |\n",
            "| Number of skipped attacks:    | 2     |\n",
            "| Original accuracy:            | 80.0% |\n",
            "| Accuracy under attack:        | 80.0% |\n",
            "| Attack success rate:          | 0.0%  |\n",
            "| Average perturbed word %:     | nan%  |\n",
            "| Average num. words per input: | 15.4  |\n",
            "| Avg num queries:              | 14.5  |\n",
            "+-------------------------------+-------+"
          ]
        },
        {
          "output_type": "stream",
          "name": "stderr",
          "text": [
            "\n",
            "textattack: Unknown if model of class <class 'transformers.models.albert.modeling_albert.AlbertForSequenceClassification'> compatible with goal function <class 'textattack.goal_functions.classification.untargeted_classification.UntargetedClassification'>.\n",
            "\n",
            "  0%|          | 0/10 [00:00<?, ?it/s]\u001b[A"
          ]
        },
        {
          "output_type": "stream",
          "name": "stdout",
          "text": [
            "\n",
            "Starting attack for----------------- WordSwapChangeNumber UTC\n",
            "Attack(\n",
            "  (search_method): GreedyWordSwapWIR(\n",
            "    (wir_method):  delete\n",
            "  )\n",
            "  (goal_function):  UntargetedClassification\n",
            "  (transformation):  WordSwapChangeNumber\n",
            "  (constraints): \n",
            "    (0): RepeatModification\n",
            "    (1): StopwordModification\n",
            "  (is_black_box):  True\n",
            ") \n",
            "\n"
          ]
        },
        {
          "output_type": "stream",
          "name": "stderr",
          "text": [
            "\n",
            " 10%|█         | 1/10 [00:00<00:04,  2.25it/s]\u001b[A\n",
            "[Succeeded / Failed / Skipped / Total] 0 / 1 / 0 / 1:  10%|█         | 1/10 [00:00<00:04,  2.20it/s]\u001b[A\n",
            "[Succeeded / Failed / Skipped / Total] 0 / 1 / 0 / 1:  20%|██        | 2/10 [00:00<00:02,  3.48it/s]\u001b[A\n",
            "[Succeeded / Failed / Skipped / Total] 0 / 2 / 0 / 2:  20%|██        | 2/10 [00:00<00:02,  3.46it/s]\u001b[A\n",
            "[Succeeded / Failed / Skipped / Total] 0 / 2 / 1 / 3:  30%|███       | 3/10 [00:00<00:01,  4.90it/s]\u001b[A"
          ]
        },
        {
          "output_type": "stream",
          "name": "stdout",
          "text": [
            "--------------------------------------------- Result 1 ---------------------------------------------\n",
            "[[Positive (100%)]] --> [[[FAILED]]]\n",
            "\n",
            "lovingly photographed in the manner of a golden book sprung to life , stuart little 2 manages sweetness largely without stickiness .\n",
            "\n",
            "\n",
            "--------------------------------------------- Result 2 ---------------------------------------------\n",
            "[[Positive (100%)]] --> [[[FAILED]]]\n",
            "\n",
            "consistently clever and suspenseful .\n",
            "\n",
            "\n",
            "--------------------------------------------- Result 3 ---------------------------------------------\n",
            "[[Negative (85%)]] --> [[[SKIPPED]]]\n",
            "\n",
            "it's like a \" big chill \" reunion of the baader-meinhof gang , only these guys are more harmless pranksters than political activists .\n",
            "\n",
            "\n"
          ]
        },
        {
          "output_type": "stream",
          "name": "stderr",
          "text": [
            "\n",
            "[Succeeded / Failed / Skipped / Total] 0 / 2 / 1 / 3:  40%|████      | 4/10 [00:01<00:01,  3.97it/s]\u001b[A\n",
            "[Succeeded / Failed / Skipped / Total] 0 / 3 / 1 / 4:  40%|████      | 4/10 [00:01<00:01,  3.95it/s]\u001b[A\n",
            "[Succeeded / Failed / Skipped / Total] 0 / 4 / 1 / 5:  50%|█████     | 5/10 [00:01<00:01,  4.28it/s]\u001b[A\n",
            "[Succeeded / Failed / Skipped / Total] 0 / 4 / 1 / 5:  60%|██████    | 6/10 [00:01<00:00,  5.01it/s]\u001b[A\n",
            "[Succeeded / Failed / Skipped / Total] 0 / 4 / 2 / 6:  60%|██████    | 6/10 [00:01<00:00,  4.99it/s]\u001b[A"
          ]
        },
        {
          "output_type": "stream",
          "name": "stdout",
          "text": [
            "--------------------------------------------- Result 4 ---------------------------------------------\n",
            "[[Positive (100%)]] --> [[[FAILED]]]\n",
            "\n",
            "the story gives ample opportunity for large-scale action and suspense , which director shekhar kapur supplies with tremendous skill .\n",
            "\n",
            "\n",
            "--------------------------------------------- Result 5 ---------------------------------------------\n",
            "[[Positive (74%)]] --> [[[FAILED]]]\n",
            "\n",
            "red dragon \" never cuts corners .\n",
            "\n",
            "\n",
            "--------------------------------------------- Result 6 ---------------------------------------------\n",
            "[[Negative (64%)]] --> [[[SKIPPED]]]\n",
            "\n",
            "fresnadillo has something serious to say about the ways in which extravagant chance can distort our perspective and throw us off the path of good sense .\n",
            "\n",
            "\n"
          ]
        },
        {
          "output_type": "stream",
          "name": "stderr",
          "text": [
            "\n",
            "[Succeeded / Failed / Skipped / Total] 0 / 5 / 2 / 7:  70%|███████   | 7/10 [00:01<00:00,  4.66it/s]\u001b[A"
          ]
        },
        {
          "output_type": "stream",
          "name": "stdout",
          "text": [
            "--------------------------------------------- Result 7 ---------------------------------------------\n",
            "[[Positive (100%)]] --> [[[FAILED]]]\n",
            "\n",
            "throws in enough clever and unexpected twists to make the formula feel fresh .\n",
            "\n",
            "\n"
          ]
        },
        {
          "output_type": "stream",
          "name": "stderr",
          "text": [
            "\n",
            "[Succeeded / Failed / Skipped / Total] 0 / 5 / 2 / 7:  80%|████████  | 8/10 [00:01<00:00,  4.41it/s]\u001b[A\n",
            "[Succeeded / Failed / Skipped / Total] 0 / 6 / 2 / 8:  80%|████████  | 8/10 [00:01<00:00,  4.40it/s]\u001b[A"
          ]
        },
        {
          "output_type": "stream",
          "name": "stdout",
          "text": [
            "--------------------------------------------- Result 8 ---------------------------------------------\n",
            "[[Positive (97%)]] --> [[[FAILED]]]\n",
            "\n",
            "weighty and ponderous but every bit as filling as the treat of the title .\n",
            "\n",
            "\n"
          ]
        },
        {
          "output_type": "stream",
          "name": "stderr",
          "text": [
            "\n",
            "[Succeeded / Failed / Skipped / Total] 0 / 7 / 2 / 9:  90%|█████████ | 9/10 [00:02<00:00,  3.81it/s]\u001b[A"
          ]
        },
        {
          "output_type": "stream",
          "name": "stdout",
          "text": [
            "--------------------------------------------- Result 9 ---------------------------------------------\n",
            "[[Positive (100%)]] --> [[[FAILED]]]\n",
            "\n",
            "a real audience-pleaser that will strike a chord with anyone who's ever waited in a doctor's office , emergency room , hospital bed or insurance company office .\n",
            "\n",
            "\n"
          ]
        },
        {
          "output_type": "stream",
          "name": "stderr",
          "text": [
            "\n",
            "[Succeeded / Failed / Skipped / Total] 0 / 7 / 2 / 9: 100%|██████████| 10/10 [00:02<00:00,  3.88it/s]\u001b[A\n",
            "[Succeeded / Failed / Skipped / Total] 0 / 8 / 2 / 10: 100%|██████████| 10/10 [00:02<00:00,  3.87it/s]"
          ]
        },
        {
          "output_type": "stream",
          "name": "stdout",
          "text": [
            "--------------------------------------------- Result 10 ---------------------------------------------\n",
            "[[Positive (100%)]] --> [[[FAILED]]]\n",
            "\n",
            "generates an enormous feeling of empathy for its characters .\n",
            "\n",
            "\n",
            "\n",
            "+-------------------------------+-------+\n",
            "| Attack Results                |       |\n",
            "+-------------------------------+-------+\n",
            "| Number of successful attacks: | 0     |\n",
            "| Number of failed attacks:     | 8     |\n",
            "| Number of skipped attacks:    | 2     |\n",
            "| Original accuracy:            | 80.0% |\n",
            "| Accuracy under attack:        | 80.0% |\n",
            "| Attack success rate:          | 0.0%  |\n",
            "| Average perturbed word %:     | nan%  |\n",
            "| Average num. words per input: | 15.4  |\n",
            "| Avg num queries:              | 14.5  |\n",
            "+-------------------------------+-------+"
          ]
        },
        {
          "output_type": "stream",
          "name": "stderr",
          "text": [
            "\n",
            "textattack: Unknown if model of class <class 'transformers.models.albert.modeling_albert.AlbertForSequenceClassification'> compatible with goal function <class 'textattack.goal_functions.classification.untargeted_classification.UntargetedClassification'>.\n",
            "\n",
            "  0%|          | 0/10 [00:00<?, ?it/s]\u001b[A"
          ]
        },
        {
          "output_type": "stream",
          "name": "stdout",
          "text": [
            "\n",
            "Starting attack for----------------- WordSwapChangeLocation UTC\n",
            "Attack(\n",
            "  (search_method): GreedyWordSwapWIR(\n",
            "    (wir_method):  delete\n",
            "  )\n",
            "  (goal_function):  UntargetedClassification\n",
            "  (transformation):  WordSwapChangeLocation\n",
            "  (constraints): \n",
            "    (0): RepeatModification\n",
            "    (1): StopwordModification\n",
            "  (is_black_box):  True\n",
            ") \n",
            "\n"
          ]
        },
        {
          "output_type": "stream",
          "name": "stderr",
          "text": [
            "\n",
            " 10%|█         | 1/10 [00:00<00:04,  2.17it/s]\u001b[A\n",
            "[Succeeded / Failed / Skipped / Total] 0 / 1 / 0 / 1:  10%|█         | 1/10 [00:00<00:04,  2.15it/s]\u001b[A\n",
            "[Succeeded / Failed / Skipped / Total] 0 / 1 / 0 / 1:  20%|██        | 2/10 [00:00<00:02,  3.38it/s]\u001b[A\n",
            "[Succeeded / Failed / Skipped / Total] 0 / 2 / 0 / 2:  20%|██        | 2/10 [00:00<00:02,  3.34it/s]\u001b[A\n",
            "[Succeeded / Failed / Skipped / Total] 0 / 2 / 1 / 3:  30%|███       | 3/10 [00:00<00:01,  4.76it/s]\u001b[A"
          ]
        },
        {
          "output_type": "stream",
          "name": "stdout",
          "text": [
            "--------------------------------------------- Result 1 ---------------------------------------------\n",
            "[[Positive (100%)]] --> [[[FAILED]]]\n",
            "\n",
            "lovingly photographed in the manner of a golden book sprung to life , stuart little 2 manages sweetness largely without stickiness .\n",
            "\n",
            "\n",
            "--------------------------------------------- Result 2 ---------------------------------------------\n",
            "[[Positive (100%)]] --> [[[FAILED]]]\n",
            "\n",
            "consistently clever and suspenseful .\n",
            "\n",
            "\n",
            "--------------------------------------------- Result 3 ---------------------------------------------\n",
            "[[Negative (85%)]] --> [[[SKIPPED]]]\n",
            "\n",
            "it's like a \" big chill \" reunion of the baader-meinhof gang , only these guys are more harmless pranksters than political activists .\n",
            "\n",
            "\n"
          ]
        },
        {
          "output_type": "stream",
          "name": "stderr",
          "text": [
            "\n",
            "[Succeeded / Failed / Skipped / Total] 0 / 2 / 1 / 3:  40%|████      | 4/10 [00:01<00:01,  3.84it/s]\u001b[A\n",
            "[Succeeded / Failed / Skipped / Total] 0 / 3 / 1 / 4:  40%|████      | 4/10 [00:01<00:01,  3.83it/s]\u001b[A\n",
            "[Succeeded / Failed / Skipped / Total] 0 / 4 / 1 / 5:  50%|█████     | 5/10 [00:01<00:01,  4.15it/s]\u001b[A\n",
            "[Succeeded / Failed / Skipped / Total] 0 / 4 / 1 / 5:  60%|██████    | 6/10 [00:01<00:00,  4.85it/s]\u001b[A\n",
            "[Succeeded / Failed / Skipped / Total] 0 / 4 / 2 / 6:  60%|██████    | 6/10 [00:01<00:00,  4.84it/s]\u001b[A"
          ]
        },
        {
          "output_type": "stream",
          "name": "stdout",
          "text": [
            "--------------------------------------------- Result 4 ---------------------------------------------\n",
            "[[Positive (100%)]] --> [[[FAILED]]]\n",
            "\n",
            "the story gives ample opportunity for large-scale action and suspense , which director shekhar kapur supplies with tremendous skill .\n",
            "\n",
            "\n",
            "--------------------------------------------- Result 5 ---------------------------------------------\n",
            "[[Positive (74%)]] --> [[[FAILED]]]\n",
            "\n",
            "red dragon \" never cuts corners .\n",
            "\n",
            "\n",
            "--------------------------------------------- Result 6 ---------------------------------------------\n",
            "[[Negative (64%)]] --> [[[SKIPPED]]]\n",
            "\n",
            "fresnadillo has something serious to say about the ways in which extravagant chance can distort our perspective and throw us off the path of good sense .\n",
            "\n",
            "\n"
          ]
        },
        {
          "output_type": "stream",
          "name": "stderr",
          "text": [
            "\n",
            "[Succeeded / Failed / Skipped / Total] 0 / 5 / 2 / 7:  70%|███████   | 7/10 [00:01<00:00,  4.51it/s]\u001b[A"
          ]
        },
        {
          "output_type": "stream",
          "name": "stdout",
          "text": [
            "--------------------------------------------- Result 7 ---------------------------------------------\n",
            "[[Positive (100%)]] --> [[[FAILED]]]\n",
            "\n",
            "throws in enough clever and unexpected twists to make the formula feel fresh .\n",
            "\n",
            "\n"
          ]
        },
        {
          "output_type": "stream",
          "name": "stderr",
          "text": [
            "\n",
            "[Succeeded / Failed / Skipped / Total] 0 / 5 / 2 / 7:  80%|████████  | 8/10 [00:01<00:00,  4.27it/s]\u001b[A\n",
            "[Succeeded / Failed / Skipped / Total] 0 / 6 / 2 / 8:  80%|████████  | 8/10 [00:01<00:00,  4.26it/s]\u001b[A"
          ]
        },
        {
          "output_type": "stream",
          "name": "stdout",
          "text": [
            "--------------------------------------------- Result 8 ---------------------------------------------\n",
            "[[Positive (97%)]] --> [[[FAILED]]]\n",
            "\n",
            "weighty and ponderous but every bit as filling as the treat of the title .\n",
            "\n",
            "\n"
          ]
        },
        {
          "output_type": "stream",
          "name": "stderr",
          "text": [
            "\n",
            "[Succeeded / Failed / Skipped / Total] 0 / 7 / 2 / 9:  90%|█████████ | 9/10 [00:02<00:00,  3.68it/s]\u001b[A"
          ]
        },
        {
          "output_type": "stream",
          "name": "stdout",
          "text": [
            "--------------------------------------------- Result 9 ---------------------------------------------\n",
            "[[Positive (100%)]] --> [[[FAILED]]]\n",
            "\n",
            "a real audience-pleaser that will strike a chord with anyone who's ever waited in a doctor's office , emergency room , hospital bed or insurance company office .\n",
            "\n",
            "\n"
          ]
        },
        {
          "output_type": "stream",
          "name": "stderr",
          "text": [
            "\n",
            "[Succeeded / Failed / Skipped / Total] 0 / 7 / 2 / 9: 100%|██████████| 10/10 [00:02<00:00,  3.75it/s]\u001b[A\n",
            "[Succeeded / Failed / Skipped / Total] 0 / 8 / 2 / 10: 100%|██████████| 10/10 [00:02<00:00,  3.74it/s]"
          ]
        },
        {
          "output_type": "stream",
          "name": "stdout",
          "text": [
            "--------------------------------------------- Result 10 ---------------------------------------------\n",
            "[[Positive (100%)]] --> [[[FAILED]]]\n",
            "\n",
            "generates an enormous feeling of empathy for its characters .\n",
            "\n",
            "\n",
            "\n",
            "+-------------------------------+-------+\n",
            "| Attack Results                |       |\n",
            "+-------------------------------+-------+\n",
            "| Number of successful attacks: | 0     |\n",
            "| Number of failed attacks:     | 8     |\n",
            "| Number of skipped attacks:    | 2     |\n",
            "| Original accuracy:            | 80.0% |\n",
            "| Accuracy under attack:        | 80.0% |\n",
            "| Attack success rate:          | 0.0%  |\n",
            "| Average perturbed word %:     | nan%  |\n",
            "| Average num. words per input: | 15.4  |\n",
            "| Avg num queries:              | 14.5  |\n",
            "+-------------------------------+-------+"
          ]
        },
        {
          "output_type": "stream",
          "name": "stderr",
          "text": [
            "\n",
            "textattack: Unknown if model of class <class 'transformers.models.albert.modeling_albert.AlbertForSequenceClassification'> compatible with goal function <class 'textattack.goal_functions.classification.input_reduction.InputReduction'>.\n",
            "\n",
            "  0%|          | 0/10 [00:00<?, ?it/s]\u001b[A"
          ]
        },
        {
          "output_type": "stream",
          "name": "stdout",
          "text": [
            "\n",
            "Starting attack for----------------- WordSwapWordNet IR\n",
            "Attack(\n",
            "  (search_method): GreedyWordSwapWIR(\n",
            "    (wir_method):  delete\n",
            "  )\n",
            "  (goal_function):  InputReduction(\n",
            "    (maximizable):  False\n",
            "    (target_num_words):  1\n",
            "  )\n",
            "  (transformation):  WordSwapWordNet\n",
            "  (constraints): \n",
            "    (0): RepeatModification\n",
            "    (1): StopwordModification\n",
            "  (is_black_box):  True\n",
            ") \n",
            "\n"
          ]
        },
        {
          "output_type": "stream",
          "name": "stderr",
          "text": [
            "\n",
            " 10%|█         | 1/10 [00:02<00:22,  2.48s/it]\u001b[A\n",
            "[Succeeded / Failed / Skipped / Total] 0 / 1 / 0 / 1:  10%|█         | 1/10 [00:02<00:22,  2.48s/it]\u001b[A"
          ]
        },
        {
          "output_type": "stream",
          "name": "stdout",
          "text": [
            "--------------------------------------------- Result 1 ---------------------------------------------\n",
            "[[Positive (100%)]] --> [[[FAILED]]]\n",
            "\n",
            "lovingly photographed in the manner of a golden book sprung to life , stuart little 2 manages sweetness largely without stickiness .\n",
            "\n",
            "\n"
          ]
        },
        {
          "output_type": "stream",
          "name": "stderr",
          "text": [
            "\n",
            "[Succeeded / Failed / Skipped / Total] 0 / 1 / 0 / 1:  20%|██        | 2/10 [00:02<00:11,  1.41s/it]\u001b[A\n",
            "[Succeeded / Failed / Skipped / Total] 0 / 2 / 0 / 2:  20%|██        | 2/10 [00:02<00:11,  1.42s/it]\u001b[A\n",
            "[Succeeded / Failed / Skipped / Total] 0 / 2 / 1 / 3:  30%|███       | 3/10 [00:02<00:06,  1.05it/s]\u001b[A"
          ]
        },
        {
          "output_type": "stream",
          "name": "stdout",
          "text": [
            "--------------------------------------------- Result 2 ---------------------------------------------\n",
            "[[Positive (100%)]] --> [[[FAILED]]]\n",
            "\n",
            "consistently clever and suspenseful .\n",
            "\n",
            "\n",
            "--------------------------------------------- Result 3 ---------------------------------------------\n",
            "[[Negative (85%)]] --> [[[SKIPPED]]]\n",
            "\n",
            "it's like a \" big chill \" reunion of the baader-meinhof gang , only these guys are more harmless pranksters than political activists .\n",
            "\n",
            "\n"
          ]
        },
        {
          "output_type": "stream",
          "name": "stderr",
          "text": [
            "\n",
            "[Succeeded / Failed / Skipped / Total] 0 / 2 / 1 / 3:  40%|████      | 4/10 [00:05<00:07,  1.31s/it]\u001b[A\n",
            "[Succeeded / Failed / Skipped / Total] 0 / 3 / 1 / 4:  40%|████      | 4/10 [00:05<00:07,  1.31s/it]\u001b[A"
          ]
        },
        {
          "output_type": "stream",
          "name": "stdout",
          "text": [
            "--------------------------------------------- Result 4 ---------------------------------------------\n",
            "[[Positive (100%)]] --> [[[FAILED]]]\n",
            "\n",
            "the story gives ample opportunity for large-scale action and suspense , which director shekhar kapur supplies with tremendous skill .\n",
            "\n",
            "\n"
          ]
        },
        {
          "output_type": "stream",
          "name": "stderr",
          "text": [
            "\n",
            "[Succeeded / Failed / Skipped / Total] 0 / 4 / 1 / 5:  50%|█████     | 5/10 [00:06<00:06,  1.39s/it]\u001b[A\n",
            "[Succeeded / Failed / Skipped / Total] 0 / 4 / 1 / 5:  60%|██████    | 6/10 [00:06<00:04,  1.16s/it]\u001b[A\n",
            "[Succeeded / Failed / Skipped / Total] 0 / 4 / 2 / 6:  60%|██████    | 6/10 [00:06<00:04,  1.16s/it]\u001b[A"
          ]
        },
        {
          "output_type": "stream",
          "name": "stdout",
          "text": [
            "--------------------------------------------- Result 5 ---------------------------------------------\n",
            "[[Positive (74%)]] --> [[[FAILED]]]\n",
            "\n",
            "red dragon \" never cuts corners .\n",
            "\n",
            "\n",
            "--------------------------------------------- Result 6 ---------------------------------------------\n",
            "[[Negative (64%)]] --> [[[SKIPPED]]]\n",
            "\n",
            "fresnadillo has something serious to say about the ways in which extravagant chance can distort our perspective and throw us off the path of good sense .\n",
            "\n",
            "\n"
          ]
        },
        {
          "output_type": "stream",
          "name": "stderr",
          "text": [
            "\n",
            "[Succeeded / Failed / Skipped / Total] 0 / 5 / 2 / 7:  70%|███████   | 7/10 [00:10<00:04,  1.52s/it]\u001b[A"
          ]
        },
        {
          "output_type": "stream",
          "name": "stdout",
          "text": [
            "--------------------------------------------- Result 7 ---------------------------------------------\n",
            "[[Positive (100%)]] --> [[[FAILED]]]\n",
            "\n",
            "throws in enough clever and unexpected twists to make the formula feel fresh .\n",
            "\n",
            "\n"
          ]
        },
        {
          "output_type": "stream",
          "name": "stderr",
          "text": [
            "\n",
            "[Succeeded / Failed / Skipped / Total] 0 / 5 / 2 / 7:  80%|████████  | 8/10 [00:12<00:03,  1.53s/it]\u001b[A\n",
            "[Succeeded / Failed / Skipped / Total] 0 / 6 / 2 / 8:  80%|████████  | 8/10 [00:12<00:03,  1.53s/it]\u001b[A"
          ]
        },
        {
          "output_type": "stream",
          "name": "stdout",
          "text": [
            "--------------------------------------------- Result 8 ---------------------------------------------\n",
            "[[Positive (97%)]] --> [[[FAILED]]]\n",
            "\n",
            "weighty and ponderous but every bit as filling as the treat of the title .\n",
            "\n",
            "\n"
          ]
        },
        {
          "output_type": "stream",
          "name": "stderr",
          "text": [
            "\n",
            "[Succeeded / Failed / Skipped / Total] 0 / 7 / 2 / 9:  90%|█████████ | 9/10 [00:14<00:01,  1.65s/it]\u001b[A"
          ]
        },
        {
          "output_type": "stream",
          "name": "stdout",
          "text": [
            "--------------------------------------------- Result 9 ---------------------------------------------\n",
            "[[Positive (100%)]] --> [[[FAILED]]]\n",
            "\n",
            "a real audience-pleaser that will strike a chord with anyone who's ever waited in a doctor's office , emergency room , hospital bed or insurance company office .\n",
            "\n",
            "\n"
          ]
        },
        {
          "output_type": "stream",
          "name": "stderr",
          "text": [
            "\n",
            "[Succeeded / Failed / Skipped / Total] 0 / 7 / 2 / 9: 100%|██████████| 10/10 [00:15<00:00,  1.60s/it]\u001b[A\n",
            "[Succeeded / Failed / Skipped / Total] 0 / 8 / 2 / 10: 100%|██████████| 10/10 [00:15<00:00,  1.60s/it]"
          ]
        },
        {
          "output_type": "stream",
          "name": "stdout",
          "text": [
            "--------------------------------------------- Result 10 ---------------------------------------------\n",
            "[[Positive (100%)]] --> [[[FAILED]]]\n",
            "\n",
            "generates an enormous feeling of empathy for its characters .\n",
            "\n",
            "\n",
            "\n",
            "+-------------------------------+-------+\n",
            "| Attack Results                |       |\n",
            "+-------------------------------+-------+\n",
            "| Number of successful attacks: | 0     |\n",
            "| Number of failed attacks:     | 8     |\n",
            "| Number of skipped attacks:    | 2     |\n",
            "| Original accuracy:            | 80.0% |\n",
            "| Accuracy under attack:        | 80.0% |\n",
            "| Attack success rate:          | 0.0%  |\n",
            "| Average perturbed word %:     | nan%  |\n",
            "| Average num. words per input: | 15.4  |\n",
            "| Avg num queries:              | 94.25 |\n",
            "+-------------------------------+-------+"
          ]
        },
        {
          "output_type": "stream",
          "name": "stderr",
          "text": [
            "\n",
            "textattack: Unknown if model of class <class 'transformers.models.albert.modeling_albert.AlbertForSequenceClassification'> compatible with goal function <class 'textattack.goal_functions.classification.input_reduction.InputReduction'>.\n",
            "\n",
            "  0%|          | 0/10 [00:00<?, ?it/s]\u001b[A"
          ]
        },
        {
          "output_type": "stream",
          "name": "stdout",
          "text": [
            "\n",
            "Starting attack for----------------- WordSwapHomoglyphSwap IR\n",
            "Attack(\n",
            "  (search_method): GreedyWordSwapWIR(\n",
            "    (wir_method):  delete\n",
            "  )\n",
            "  (goal_function):  InputReduction(\n",
            "    (maximizable):  False\n",
            "    (target_num_words):  1\n",
            "  )\n",
            "  (transformation):  WordSwapHomoglyphSwap\n",
            "  (constraints): \n",
            "    (0): RepeatModification\n",
            "    (1): StopwordModification\n",
            "  (is_black_box):  True\n",
            ") \n",
            "\n"
          ]
        },
        {
          "output_type": "stream",
          "name": "stderr",
          "text": [
            "\n",
            " 10%|█         | 1/10 [00:02<00:23,  2.61s/it]\u001b[A\n",
            "[Succeeded / Failed / Skipped / Total] 0 / 1 / 0 / 1:  10%|█         | 1/10 [00:02<00:23,  2.62s/it]\u001b[A"
          ]
        },
        {
          "output_type": "stream",
          "name": "stdout",
          "text": [
            "--------------------------------------------- Result 1 ---------------------------------------------\n",
            "[[Positive (100%)]] --> [[[FAILED]]]\n",
            "\n",
            "lovingly photographed in the manner of a golden book sprung to life , stuart little 2 manages sweetness largely without stickiness .\n",
            "\n",
            "\n"
          ]
        },
        {
          "output_type": "stream",
          "name": "stderr",
          "text": [
            "\n",
            "[Succeeded / Failed / Skipped / Total] 0 / 1 / 0 / 1:  20%|██        | 2/10 [00:03<00:13,  1.68s/it]\u001b[A\n",
            "[Succeeded / Failed / Skipped / Total] 0 / 2 / 0 / 2:  20%|██        | 2/10 [00:03<00:13,  1.68s/it]\u001b[A\n",
            "[Succeeded / Failed / Skipped / Total] 0 / 2 / 1 / 3:  30%|███       | 3/10 [00:03<00:07,  1.13s/it]\u001b[A"
          ]
        },
        {
          "output_type": "stream",
          "name": "stdout",
          "text": [
            "--------------------------------------------- Result 2 ---------------------------------------------\n",
            "[[Positive (100%)]] --> [[[FAILED]]]\n",
            "\n",
            "consistently clever and suspenseful .\n",
            "\n",
            "\n",
            "--------------------------------------------- Result 3 ---------------------------------------------\n",
            "[[Negative (85%)]] --> [[[SKIPPED]]]\n",
            "\n",
            "it's like a \" big chill \" reunion of the baader-meinhof gang , only these guys are more harmless pranksters than political activists .\n",
            "\n",
            "\n"
          ]
        },
        {
          "output_type": "stream",
          "name": "stderr",
          "text": [
            "\n",
            "[Succeeded / Failed / Skipped / Total] 0 / 2 / 1 / 3:  40%|████      | 4/10 [00:05<00:08,  1.47s/it]\u001b[A\n",
            "[Succeeded / Failed / Skipped / Total] 0 / 3 / 1 / 4:  40%|████      | 4/10 [00:05<00:08,  1.47s/it]\u001b[A"
          ]
        },
        {
          "output_type": "stream",
          "name": "stdout",
          "text": [
            "--------------------------------------------- Result 4 ---------------------------------------------\n",
            "[[Positive (100%)]] --> [[[FAILED]]]\n",
            "\n",
            "the story gives ample opportunity for large-scale action and suspense , which director shekhar kapur supplies with tremendous skill .\n",
            "\n",
            "\n"
          ]
        },
        {
          "output_type": "stream",
          "name": "stderr",
          "text": [
            "\n",
            "[Succeeded / Failed / Skipped / Total] 0 / 4 / 1 / 5:  50%|█████     | 5/10 [00:06<00:06,  1.32s/it]\u001b[A\n",
            "[Succeeded / Failed / Skipped / Total] 0 / 4 / 1 / 5:  60%|██████    | 6/10 [00:06<00:04,  1.11s/it]\u001b[A\n",
            "[Succeeded / Failed / Skipped / Total] 0 / 4 / 2 / 6:  60%|██████    | 6/10 [00:06<00:04,  1.11s/it]\u001b[A"
          ]
        },
        {
          "output_type": "stream",
          "name": "stdout",
          "text": [
            "--------------------------------------------- Result 5 ---------------------------------------------\n",
            "[[Positive (74%)]] --> [[[FAILED]]]\n",
            "\n",
            "red dragon \" never cuts corners .\n",
            "\n",
            "\n",
            "--------------------------------------------- Result 6 ---------------------------------------------\n",
            "[[Negative (64%)]] --> [[[SKIPPED]]]\n",
            "\n",
            "fresnadillo has something serious to say about the ways in which extravagant chance can distort our perspective and throw us off the path of good sense .\n",
            "\n",
            "\n"
          ]
        },
        {
          "output_type": "stream",
          "name": "stderr",
          "text": [
            "\n",
            "[Succeeded / Failed / Skipped / Total] 0 / 5 / 2 / 7:  70%|███████   | 7/10 [00:08<00:03,  1.16s/it]\u001b[A"
          ]
        },
        {
          "output_type": "stream",
          "name": "stdout",
          "text": [
            "--------------------------------------------- Result 7 ---------------------------------------------\n",
            "[[Positive (100%)]] --> [[[FAILED]]]\n",
            "\n",
            "throws in enough clever and unexpected twists to make the formula feel fresh .\n",
            "\n",
            "\n"
          ]
        },
        {
          "output_type": "stream",
          "name": "stderr",
          "text": [
            "\n",
            "[Succeeded / Failed / Skipped / Total] 0 / 5 / 2 / 7:  80%|████████  | 8/10 [00:09<00:02,  1.17s/it]\u001b[A\n",
            "[Succeeded / Failed / Skipped / Total] 0 / 6 / 2 / 8:  80%|████████  | 8/10 [00:09<00:02,  1.17s/it]\u001b[A"
          ]
        },
        {
          "output_type": "stream",
          "name": "stdout",
          "text": [
            "--------------------------------------------- Result 8 ---------------------------------------------\n",
            "[[Positive (97%)]] --> [[[FAILED]]]\n",
            "\n",
            "weighty and ponderous but every bit as filling as the treat of the title .\n",
            "\n",
            "\n"
          ]
        },
        {
          "output_type": "stream",
          "name": "stderr",
          "text": [
            "\n",
            "[Succeeded / Failed / Skipped / Total] 0 / 7 / 2 / 9:  90%|█████████ | 9/10 [00:12<00:01,  1.38s/it]\u001b[A"
          ]
        },
        {
          "output_type": "stream",
          "name": "stdout",
          "text": [
            "--------------------------------------------- Result 9 ---------------------------------------------\n",
            "[[Positive (100%)]] --> [[[FAILED]]]\n",
            "\n",
            "a real audience-pleaser that will strike a chord with anyone who's ever waited in a doctor's office , emergency room , hospital bed or insurance company office .\n",
            "\n",
            "\n"
          ]
        },
        {
          "output_type": "stream",
          "name": "stderr",
          "text": [
            "\n",
            "[Succeeded / Failed / Skipped / Total] 0 / 7 / 2 / 9: 100%|██████████| 10/10 [00:13<00:00,  1.35s/it]\u001b[A\n",
            "[Succeeded / Failed / Skipped / Total] 0 / 8 / 2 / 10: 100%|██████████| 10/10 [00:13<00:00,  1.35s/it]"
          ]
        },
        {
          "output_type": "stream",
          "name": "stdout",
          "text": [
            "--------------------------------------------- Result 10 ---------------------------------------------\n",
            "[[Positive (100%)]] --> [[[FAILED]]]\n",
            "\n",
            "generates an enormous feeling of empathy for its characters .\n",
            "\n",
            "\n",
            "\n",
            "+-------------------------------+-------+\n",
            "| Attack Results                |       |\n",
            "+-------------------------------+-------+\n",
            "| Number of successful attacks: | 0     |\n",
            "| Number of failed attacks:     | 8     |\n",
            "| Number of skipped attacks:    | 2     |\n",
            "| Original accuracy:            | 80.0% |\n",
            "| Accuracy under attack:        | 80.0% |\n",
            "| Attack success rate:          | 0.0%  |\n",
            "| Average perturbed word %:     | nan%  |\n",
            "| Average num. words per input: | 15.4  |\n",
            "| Avg num queries:              | 76.38 |\n",
            "+-------------------------------+-------+"
          ]
        },
        {
          "output_type": "stream",
          "name": "stderr",
          "text": [
            "\n",
            "textattack: Unknown if model of class <class 'transformers.models.albert.modeling_albert.AlbertForSequenceClassification'> compatible with goal function <class 'textattack.goal_functions.classification.input_reduction.InputReduction'>.\n",
            "\n",
            "  0%|          | 0/10 [00:00<?, ?it/s]\u001b[A"
          ]
        },
        {
          "output_type": "stream",
          "name": "stdout",
          "text": [
            "\n",
            "Starting attack for----------------- WordSwapNeighboringCharacterSwap IR\n",
            "Attack(\n",
            "  (search_method): GreedyWordSwapWIR(\n",
            "    (wir_method):  delete\n",
            "  )\n",
            "  (goal_function):  InputReduction(\n",
            "    (maximizable):  False\n",
            "    (target_num_words):  1\n",
            "  )\n",
            "  (transformation):  WordSwapNeighboringCharacterSwap(\n",
            "    (random_one):  True\n",
            "  )\n",
            "  (constraints): \n",
            "    (0): RepeatModification\n",
            "    (1): StopwordModification\n",
            "  (is_black_box):  True\n",
            ") \n",
            "\n"
          ]
        },
        {
          "output_type": "stream",
          "name": "stderr",
          "text": [
            "\n",
            " 10%|█         | 1/10 [00:00<00:06,  1.31it/s]\u001b[A\n",
            "[Succeeded / Failed / Skipped / Total] 0 / 1 / 0 / 1:  10%|█         | 1/10 [00:00<00:06,  1.30it/s]\u001b[A\n"
          ]
        },
        {
          "output_type": "stream",
          "name": "stdout",
          "text": [
            "--------------------------------------------- Result 1 ---------------------------------------------\n",
            "[[Positive (100%)]] --> [[[FAILED]]]\n",
            "\n",
            "lovingly photographed in the manner of a golden book sprung to life , stuart little 2 manages sweetness largely without stickiness .\n",
            "\n",
            "\n"
          ]
        },
        {
          "output_type": "stream",
          "name": "stderr",
          "text": [
            "[Succeeded / Failed / Skipped / Total] 0 / 1 / 0 / 1:  20%|██        | 2/10 [00:00<00:03,  2.07it/s]\u001b[A\n",
            "[Succeeded / Failed / Skipped / Total] 0 / 2 / 0 / 2:  20%|██        | 2/10 [00:00<00:03,  2.06it/s]\u001b[A\n",
            "[Succeeded / Failed / Skipped / Total] 0 / 2 / 1 / 3:  30%|███       | 3/10 [00:01<00:02,  2.98it/s]\u001b[A"
          ]
        },
        {
          "output_type": "stream",
          "name": "stdout",
          "text": [
            "--------------------------------------------- Result 2 ---------------------------------------------\n",
            "[[Positive (100%)]] --> [[[FAILED]]]\n",
            "\n",
            "consistently clever and suspenseful .\n",
            "\n",
            "\n",
            "--------------------------------------------- Result 3 ---------------------------------------------\n",
            "[[Negative (85%)]] --> [[[SKIPPED]]]\n",
            "\n",
            "it's like a \" big chill \" reunion of the baader-meinhof gang , only these guys are more harmless pranksters than political activists .\n",
            "\n",
            "\n"
          ]
        },
        {
          "output_type": "stream",
          "name": "stderr",
          "text": [
            "\n",
            "[Succeeded / Failed / Skipped / Total] 0 / 2 / 1 / 3:  40%|████      | 4/10 [00:01<00:02,  2.32it/s]\u001b[A\n",
            "[Succeeded / Failed / Skipped / Total] 0 / 3 / 1 / 4:  40%|████      | 4/10 [00:01<00:02,  2.32it/s]\u001b[A"
          ]
        },
        {
          "output_type": "stream",
          "name": "stdout",
          "text": [
            "--------------------------------------------- Result 4 ---------------------------------------------\n",
            "[[Positive (100%)]] --> [[[FAILED]]]\n",
            "\n",
            "the story gives ample opportunity for large-scale action and suspense , which director shekhar kapur supplies with tremendous skill .\n",
            "\n",
            "\n"
          ]
        },
        {
          "output_type": "stream",
          "name": "stderr",
          "text": [
            "\n",
            "[Succeeded / Failed / Skipped / Total] 0 / 4 / 1 / 5:  50%|█████     | 5/10 [00:01<00:01,  2.52it/s]\u001b[A\n",
            "[Succeeded / Failed / Skipped / Total] 0 / 4 / 1 / 5:  60%|██████    | 6/10 [00:02<00:01,  2.98it/s]\u001b[A\n",
            "[Succeeded / Failed / Skipped / Total] 0 / 4 / 2 / 6:  60%|██████    | 6/10 [00:02<00:01,  2.98it/s]\u001b[A"
          ]
        },
        {
          "output_type": "stream",
          "name": "stdout",
          "text": [
            "--------------------------------------------- Result 5 ---------------------------------------------\n",
            "[[Positive (74%)]] --> [[[FAILED]]]\n",
            "\n",
            "red dragon \" never cuts corners .\n",
            "\n",
            "\n",
            "--------------------------------------------- Result 6 ---------------------------------------------\n",
            "[[Negative (64%)]] --> [[[SKIPPED]]]\n",
            "\n",
            "fresnadillo has something serious to say about the ways in which extravagant chance can distort our perspective and throw us off the path of good sense .\n",
            "\n",
            "\n"
          ]
        },
        {
          "output_type": "stream",
          "name": "stderr",
          "text": [
            "\n",
            "[Succeeded / Failed / Skipped / Total] 0 / 5 / 2 / 7:  70%|███████   | 7/10 [00:02<00:01,  2.79it/s]\u001b[A"
          ]
        },
        {
          "output_type": "stream",
          "name": "stdout",
          "text": [
            "--------------------------------------------- Result 7 ---------------------------------------------\n",
            "[[Positive (100%)]] --> [[[FAILED]]]\n",
            "\n",
            "throws in enough clever and unexpected twists to make the formula feel fresh .\n",
            "\n",
            "\n"
          ]
        },
        {
          "output_type": "stream",
          "name": "stderr",
          "text": [
            "\n",
            "[Succeeded / Failed / Skipped / Total] 0 / 5 / 2 / 7:  80%|████████  | 8/10 [00:02<00:00,  2.69it/s]\u001b[A\n",
            "[Succeeded / Failed / Skipped / Total] 0 / 6 / 2 / 8:  80%|████████  | 8/10 [00:02<00:00,  2.69it/s]\u001b[A"
          ]
        },
        {
          "output_type": "stream",
          "name": "stdout",
          "text": [
            "--------------------------------------------- Result 8 ---------------------------------------------\n",
            "[[Positive (97%)]] --> [[[FAILED]]]\n",
            "\n",
            "weighty and ponderous but every bit as filling as the treat of the title .\n",
            "\n",
            "\n"
          ]
        },
        {
          "output_type": "stream",
          "name": "stderr",
          "text": [
            "\n",
            "[Succeeded / Failed / Skipped / Total] 0 / 7 / 2 / 9:  90%|█████████ | 9/10 [00:03<00:00,  2.31it/s]\u001b[A"
          ]
        },
        {
          "output_type": "stream",
          "name": "stdout",
          "text": [
            "--------------------------------------------- Result 9 ---------------------------------------------\n",
            "[[Positive (100%)]] --> [[[FAILED]]]\n",
            "\n",
            "a real audience-pleaser that will strike a chord with anyone who's ever waited in a doctor's office , emergency room , hospital bed or insurance company office .\n",
            "\n",
            "\n"
          ]
        },
        {
          "output_type": "stream",
          "name": "stderr",
          "text": [
            "\n",
            "[Succeeded / Failed / Skipped / Total] 0 / 7 / 2 / 9: 100%|██████████| 10/10 [00:04<00:00,  2.36it/s]\u001b[A\n",
            "[Succeeded / Failed / Skipped / Total] 0 / 8 / 2 / 10: 100%|██████████| 10/10 [00:04<00:00,  2.36it/s]"
          ]
        },
        {
          "output_type": "stream",
          "name": "stdout",
          "text": [
            "--------------------------------------------- Result 10 ---------------------------------------------\n",
            "[[Positive (100%)]] --> [[[FAILED]]]\n",
            "\n",
            "generates an enormous feeling of empathy for its characters .\n",
            "\n",
            "\n",
            "\n",
            "+-------------------------------+-------+\n",
            "| Attack Results                |       |\n",
            "+-------------------------------+-------+\n",
            "| Number of successful attacks: | 0     |\n",
            "| Number of failed attacks:     | 8     |\n",
            "| Number of skipped attacks:    | 2     |\n",
            "| Original accuracy:            | 80.0% |\n",
            "| Accuracy under attack:        | 80.0% |\n",
            "| Attack success rate:          | 0.0%  |\n",
            "| Average perturbed word %:     | nan%  |\n",
            "| Average num. words per input: | 15.4  |\n",
            "| Avg num queries:              | 22.88 |\n",
            "+-------------------------------+-------+"
          ]
        },
        {
          "output_type": "stream",
          "name": "stderr",
          "text": [
            "\n",
            "textattack: Unknown if model of class <class 'transformers.models.albert.modeling_albert.AlbertForSequenceClassification'> compatible with goal function <class 'textattack.goal_functions.classification.input_reduction.InputReduction'>.\n",
            "\n",
            "  0%|          | 0/10 [00:00<?, ?it/s]\u001b[A"
          ]
        },
        {
          "output_type": "stream",
          "name": "stdout",
          "text": [
            "\n",
            "Starting attack for----------------- WordSwapRandomCharacterDeletion IR\n",
            "Attack(\n",
            "  (search_method): GreedyWordSwapWIR(\n",
            "    (wir_method):  delete\n",
            "  )\n",
            "  (goal_function):  InputReduction(\n",
            "    (maximizable):  False\n",
            "    (target_num_words):  1\n",
            "  )\n",
            "  (transformation):  WordSwapRandomCharacterDeletion(\n",
            "    (random_one):  True\n",
            "  )\n",
            "  (constraints): \n",
            "    (0): RepeatModification\n",
            "    (1): StopwordModification\n",
            "  (is_black_box):  True\n",
            ") \n",
            "\n"
          ]
        },
        {
          "output_type": "stream",
          "name": "stderr",
          "text": [
            "\n",
            " 10%|█         | 1/10 [00:00<00:07,  1.26it/s]\u001b[A\n",
            "[Succeeded / Failed / Skipped / Total] 0 / 1 / 0 / 1:  10%|█         | 1/10 [00:00<00:07,  1.25it/s]\u001b[A\n",
            "[Succeeded / Failed / Skipped / Total] 0 / 1 / 0 / 1:  20%|██        | 2/10 [00:00<00:03,  2.01it/s]\u001b[A\n",
            "[Succeeded / Failed / Skipped / Total] 0 / 2 / 0 / 2:  20%|██        | 2/10 [00:00<00:03,  2.00it/s]"
          ]
        },
        {
          "output_type": "stream",
          "name": "stdout",
          "text": [
            "--------------------------------------------- Result 1 ---------------------------------------------\n",
            "[[Positive (100%)]] --> [[[FAILED]]]\n",
            "\n",
            "lovingly photographed in the manner of a golden book sprung to life , stuart little 2 manages sweetness largely without stickiness .\n",
            "\n",
            "\n",
            "--------------------------------------------- Result 2 ---------------------------------------------\n",
            "[[Positive (100%)]] --> [[[FAILED]]]\n",
            "\n",
            "consistently clever and suspenseful .\n",
            "\n",
            "\n"
          ]
        },
        {
          "output_type": "stream",
          "name": "stderr",
          "text": [
            "\u001b[A\n",
            "[Succeeded / Failed / Skipped / Total] 0 / 2 / 1 / 3:  30%|███       | 3/10 [00:01<00:02,  2.91it/s]\u001b[A"
          ]
        },
        {
          "output_type": "stream",
          "name": "stdout",
          "text": [
            "--------------------------------------------- Result 3 ---------------------------------------------\n",
            "[[Negative (85%)]] --> [[[SKIPPED]]]\n",
            "\n",
            "it's like a \" big chill \" reunion of the baader-meinhof gang , only these guys are more harmless pranksters than political activists .\n",
            "\n",
            "\n"
          ]
        },
        {
          "output_type": "stream",
          "name": "stderr",
          "text": [
            "\n",
            "[Succeeded / Failed / Skipped / Total] 0 / 2 / 1 / 3:  40%|████      | 4/10 [00:01<00:02,  2.29it/s]\u001b[A\n",
            "[Succeeded / Failed / Skipped / Total] 0 / 3 / 1 / 4:  40%|████      | 4/10 [00:01<00:02,  2.28it/s]\u001b[A"
          ]
        },
        {
          "output_type": "stream",
          "name": "stdout",
          "text": [
            "--------------------------------------------- Result 4 ---------------------------------------------\n",
            "[[Positive (100%)]] --> [[[FAILED]]]\n",
            "\n",
            "the story gives ample opportunity for large-scale action and suspense , which director shekhar kapur supplies with tremendous skill .\n",
            "\n",
            "\n"
          ]
        },
        {
          "output_type": "stream",
          "name": "stderr",
          "text": [
            "\n",
            "[Succeeded / Failed / Skipped / Total] 0 / 4 / 1 / 5:  50%|█████     | 5/10 [00:02<00:02,  2.46it/s]\u001b[A\n",
            "[Succeeded / Failed / Skipped / Total] 0 / 4 / 1 / 5:  60%|██████    | 6/10 [00:02<00:01,  2.91it/s]\u001b[A\n",
            "[Succeeded / Failed / Skipped / Total] 0 / 4 / 2 / 6:  60%|██████    | 6/10 [00:02<00:01,  2.90it/s]\u001b[A"
          ]
        },
        {
          "output_type": "stream",
          "name": "stdout",
          "text": [
            "--------------------------------------------- Result 5 ---------------------------------------------\n",
            "[[Positive (74%)]] --> [[[FAILED]]]\n",
            "\n",
            "red dragon \" never cuts corners .\n",
            "\n",
            "\n",
            "--------------------------------------------- Result 6 ---------------------------------------------\n",
            "[[Negative (64%)]] --> [[[SKIPPED]]]\n",
            "\n",
            "fresnadillo has something serious to say about the ways in which extravagant chance can distort our perspective and throw us off the path of good sense .\n",
            "\n",
            "\n"
          ]
        },
        {
          "output_type": "stream",
          "name": "stderr",
          "text": [
            "\n",
            "[Succeeded / Failed / Skipped / Total] 0 / 5 / 2 / 7:  70%|███████   | 7/10 [00:02<00:01,  2.70it/s]\u001b[A"
          ]
        },
        {
          "output_type": "stream",
          "name": "stdout",
          "text": [
            "--------------------------------------------- Result 7 ---------------------------------------------\n",
            "[[Positive (100%)]] --> [[[FAILED]]]\n",
            "\n",
            "throws in enough clever and unexpected twists to make the formula feel fresh .\n",
            "\n",
            "\n"
          ]
        },
        {
          "output_type": "stream",
          "name": "stderr",
          "text": [
            "\n",
            "[Succeeded / Failed / Skipped / Total] 0 / 5 / 2 / 7:  80%|████████  | 8/10 [00:03<00:00,  2.60it/s]\u001b[A\n",
            "[Succeeded / Failed / Skipped / Total] 0 / 6 / 2 / 8:  80%|████████  | 8/10 [00:03<00:00,  2.59it/s]\u001b[A"
          ]
        },
        {
          "output_type": "stream",
          "name": "stdout",
          "text": [
            "--------------------------------------------- Result 8 ---------------------------------------------\n",
            "[[Positive (97%)]] --> [[[FAILED]]]\n",
            "\n",
            "weighty and ponderous but every bit as filling as the treat of the title .\n",
            "\n",
            "\n"
          ]
        },
        {
          "output_type": "stream",
          "name": "stderr",
          "text": [
            "\n",
            "[Succeeded / Failed / Skipped / Total] 0 / 7 / 2 / 9:  90%|█████████ | 9/10 [00:04<00:00,  2.22it/s]\u001b[A"
          ]
        },
        {
          "output_type": "stream",
          "name": "stdout",
          "text": [
            "--------------------------------------------- Result 9 ---------------------------------------------\n",
            "[[Positive (100%)]] --> [[[FAILED]]]\n",
            "\n",
            "a real audience-pleaser that will strike a chord with anyone who's ever waited in a doctor's office , emergency room , hospital bed or insurance company office .\n",
            "\n",
            "\n"
          ]
        },
        {
          "output_type": "stream",
          "name": "stderr",
          "text": [
            "\n",
            "[Succeeded / Failed / Skipped / Total] 0 / 7 / 2 / 9: 100%|██████████| 10/10 [00:04<00:00,  2.28it/s]\u001b[A\n",
            "[Succeeded / Failed / Skipped / Total] 0 / 8 / 2 / 10: 100%|██████████| 10/10 [00:04<00:00,  2.27it/s]"
          ]
        },
        {
          "output_type": "stream",
          "name": "stdout",
          "text": [
            "--------------------------------------------- Result 10 ---------------------------------------------\n",
            "[[Positive (100%)]] --> [[[FAILED]]]\n",
            "\n",
            "generates an enormous feeling of empathy for its characters .\n",
            "\n",
            "\n",
            "\n",
            "+-------------------------------+-------+\n",
            "| Attack Results                |       |\n",
            "+-------------------------------+-------+\n",
            "| Number of successful attacks: | 0     |\n",
            "| Number of failed attacks:     | 8     |\n",
            "| Number of skipped attacks:    | 2     |\n",
            "| Original accuracy:            | 80.0% |\n",
            "| Accuracy under attack:        | 80.0% |\n",
            "| Attack success rate:          | 0.0%  |\n",
            "| Average perturbed word %:     | nan%  |\n",
            "| Average num. words per input: | 15.4  |\n",
            "| Avg num queries:              | 23.62 |\n",
            "+-------------------------------+-------+"
          ]
        },
        {
          "output_type": "stream",
          "name": "stderr",
          "text": [
            "\n",
            "textattack: Unknown if model of class <class 'transformers.models.albert.modeling_albert.AlbertForSequenceClassification'> compatible with goal function <class 'textattack.goal_functions.classification.input_reduction.InputReduction'>.\n",
            "\n",
            "  0%|          | 0/10 [00:00<?, ?it/s]\u001b[A"
          ]
        },
        {
          "output_type": "stream",
          "name": "stdout",
          "text": [
            "\n",
            "Starting attack for----------------- WordSwapEmbedding IR\n",
            "Attack(\n",
            "  (search_method): GreedyWordSwapWIR(\n",
            "    (wir_method):  delete\n",
            "  )\n",
            "  (goal_function):  InputReduction(\n",
            "    (maximizable):  False\n",
            "    (target_num_words):  1\n",
            "  )\n",
            "  (transformation):  WordSwapEmbedding(\n",
            "    (max_candidates):  5\n",
            "    (embedding):  WordEmbedding\n",
            "  )\n",
            "  (constraints): \n",
            "    (0): RepeatModification\n",
            "    (1): StopwordModification\n",
            "  (is_black_box):  True\n",
            ") \n",
            "\n"
          ]
        },
        {
          "output_type": "stream",
          "name": "stderr",
          "text": [
            "\n",
            " 10%|█         | 1/10 [00:02<00:18,  2.03s/it]\u001b[A\n",
            "[Succeeded / Failed / Skipped / Total] 0 / 1 / 0 / 1:  10%|█         | 1/10 [00:02<00:18,  2.03s/it]\u001b[A"
          ]
        },
        {
          "output_type": "stream",
          "name": "stdout",
          "text": [
            "--------------------------------------------- Result 1 ---------------------------------------------\n",
            "[[Positive (100%)]] --> [[[FAILED]]]\n",
            "\n",
            "lovingly photographed in the manner of a golden book sprung to life , stuart little 2 manages sweetness largely without stickiness .\n",
            "\n",
            "\n"
          ]
        },
        {
          "output_type": "stream",
          "name": "stderr",
          "text": [
            "\n",
            "[Succeeded / Failed / Skipped / Total] 0 / 1 / 0 / 1:  20%|██        | 2/10 [00:02<00:10,  1.26s/it]\u001b[A\n",
            "[Succeeded / Failed / Skipped / Total] 0 / 2 / 0 / 2:  20%|██        | 2/10 [00:02<00:10,  1.26s/it]\u001b[A\n",
            "[Succeeded / Failed / Skipped / Total] 0 / 2 / 1 / 3:  30%|███       | 3/10 [00:02<00:05,  1.18it/s]\u001b[A"
          ]
        },
        {
          "output_type": "stream",
          "name": "stdout",
          "text": [
            "--------------------------------------------- Result 2 ---------------------------------------------\n",
            "[[Positive (100%)]] --> [[[FAILED]]]\n",
            "\n",
            "consistently clever and suspenseful .\n",
            "\n",
            "\n",
            "--------------------------------------------- Result 3 ---------------------------------------------\n",
            "[[Negative (85%)]] --> [[[SKIPPED]]]\n",
            "\n",
            "it's like a \" big chill \" reunion of the baader-meinhof gang , only these guys are more harmless pranksters than political activists .\n",
            "\n",
            "\n"
          ]
        },
        {
          "output_type": "stream",
          "name": "stderr",
          "text": [
            "\n",
            "[Succeeded / Failed / Skipped / Total] 0 / 2 / 1 / 3:  40%|████      | 4/10 [00:04<00:06,  1.07s/it]\u001b[A\n",
            "[Succeeded / Failed / Skipped / Total] 0 / 3 / 1 / 4:  40%|████      | 4/10 [00:04<00:06,  1.07s/it]\u001b[A"
          ]
        },
        {
          "output_type": "stream",
          "name": "stdout",
          "text": [
            "--------------------------------------------- Result 4 ---------------------------------------------\n",
            "[[Positive (100%)]] --> [[[FAILED]]]\n",
            "\n",
            "the story gives ample opportunity for large-scale action and suspense , which director shekhar kapur supplies with tremendous skill .\n",
            "\n",
            "\n"
          ]
        },
        {
          "output_type": "stream",
          "name": "stderr",
          "text": [
            "\n",
            "[Succeeded / Failed / Skipped / Total] 0 / 4 / 1 / 5:  50%|█████     | 5/10 [00:05<00:05,  1.01s/it]\u001b[A\n",
            "[Succeeded / Failed / Skipped / Total] 0 / 4 / 1 / 5:  60%|██████    | 6/10 [00:05<00:03,  1.18it/s]\u001b[A\n",
            "[Succeeded / Failed / Skipped / Total] 0 / 4 / 2 / 6:  60%|██████    | 6/10 [00:05<00:03,  1.18it/s]\u001b[A"
          ]
        },
        {
          "output_type": "stream",
          "name": "stdout",
          "text": [
            "--------------------------------------------- Result 5 ---------------------------------------------\n",
            "[[Positive (74%)]] --> [[[FAILED]]]\n",
            "\n",
            "red dragon \" never cuts corners .\n",
            "\n",
            "\n",
            "--------------------------------------------- Result 6 ---------------------------------------------\n",
            "[[Negative (64%)]] --> [[[SKIPPED]]]\n",
            "\n",
            "fresnadillo has something serious to say about the ways in which extravagant chance can distort our perspective and throw us off the path of good sense .\n",
            "\n",
            "\n"
          ]
        },
        {
          "output_type": "stream",
          "name": "stderr",
          "text": [
            "\n",
            "[Succeeded / Failed / Skipped / Total] 0 / 5 / 2 / 7:  70%|███████   | 7/10 [00:06<00:02,  1.08it/s]\u001b[A"
          ]
        },
        {
          "output_type": "stream",
          "name": "stdout",
          "text": [
            "--------------------------------------------- Result 7 ---------------------------------------------\n",
            "[[Positive (100%)]] --> [[[FAILED]]]\n",
            "\n",
            "throws in enough clever and unexpected twists to make the formula feel fresh .\n",
            "\n",
            "\n"
          ]
        },
        {
          "output_type": "stream",
          "name": "stderr",
          "text": [
            "\n",
            "[Succeeded / Failed / Skipped / Total] 0 / 5 / 2 / 7:  80%|████████  | 8/10 [00:07<00:01,  1.05it/s]\u001b[A\n",
            "[Succeeded / Failed / Skipped / Total] 0 / 6 / 2 / 8:  80%|████████  | 8/10 [00:07<00:01,  1.05it/s]\u001b[A"
          ]
        },
        {
          "output_type": "stream",
          "name": "stdout",
          "text": [
            "--------------------------------------------- Result 8 ---------------------------------------------\n",
            "[[Positive (97%)]] --> [[[FAILED]]]\n",
            "\n",
            "weighty and ponderous but every bit as filling as the treat of the title .\n",
            "\n",
            "\n"
          ]
        },
        {
          "output_type": "stream",
          "name": "stderr",
          "text": [
            "\n",
            "[Succeeded / Failed / Skipped / Total] 0 / 7 / 2 / 9:  90%|█████████ | 9/10 [00:09<00:01,  1.10s/it]\u001b[A"
          ]
        },
        {
          "output_type": "stream",
          "name": "stdout",
          "text": [
            "--------------------------------------------- Result 9 ---------------------------------------------\n",
            "[[Positive (100%)]] --> [[[FAILED]]]\n",
            "\n",
            "a real audience-pleaser that will strike a chord with anyone who's ever waited in a doctor's office , emergency room , hospital bed or insurance company office .\n",
            "\n",
            "\n"
          ]
        },
        {
          "output_type": "stream",
          "name": "stderr",
          "text": [
            "\n",
            "[Succeeded / Failed / Skipped / Total] 0 / 7 / 2 / 9: 100%|██████████| 10/10 [00:10<00:00,  1.07s/it]\u001b[A\n",
            "[Succeeded / Failed / Skipped / Total] 0 / 8 / 2 / 10: 100%|██████████| 10/10 [00:10<00:00,  1.07s/it]"
          ]
        },
        {
          "output_type": "stream",
          "name": "stdout",
          "text": [
            "--------------------------------------------- Result 10 ---------------------------------------------\n",
            "[[Positive (100%)]] --> [[[FAILED]]]\n",
            "\n",
            "generates an enormous feeling of empathy for its characters .\n",
            "\n",
            "\n",
            "\n",
            "+-------------------------------+-------+\n",
            "| Attack Results                |       |\n",
            "+-------------------------------+-------+\n",
            "| Number of successful attacks: | 0     |\n",
            "| Number of failed attacks:     | 8     |\n",
            "| Number of skipped attacks:    | 2     |\n",
            "| Original accuracy:            | 80.0% |\n",
            "| Accuracy under attack:        | 80.0% |\n",
            "| Attack success rate:          | 0.0%  |\n",
            "| Average perturbed word %:     | nan%  |\n",
            "| Average num. words per input: | 15.4  |\n",
            "| Avg num queries:              | 56.38 |\n",
            "+-------------------------------+-------+"
          ]
        },
        {
          "output_type": "stream",
          "name": "stderr",
          "text": [
            "\n"
          ]
        },
        {
          "output_type": "stream",
          "name": "stdout",
          "text": [
            "\n",
            "Starting attack for----------------- WordSwapHowNet IR\n"
          ]
        },
        {
          "output_type": "stream",
          "name": "stderr",
          "text": [
            "textattack: Unknown if model of class <class 'transformers.models.albert.modeling_albert.AlbertForSequenceClassification'> compatible with goal function <class 'textattack.goal_functions.classification.input_reduction.InputReduction'>.\n",
            "\n",
            "  0%|          | 0/10 [00:00<?, ?it/s]\u001b[A"
          ]
        },
        {
          "output_type": "stream",
          "name": "stdout",
          "text": [
            "Attack(\n",
            "  (search_method): GreedyWordSwapWIR(\n",
            "    (wir_method):  delete\n",
            "  )\n",
            "  (goal_function):  InputReduction(\n",
            "    (maximizable):  False\n",
            "    (target_num_words):  1\n",
            "  )\n",
            "  (transformation):  WordSwapHowNet(\n",
            "    (max_candidates):  -1\n",
            "  )\n",
            "  (constraints): \n",
            "    (0): RepeatModification\n",
            "    (1): StopwordModification\n",
            "  (is_black_box):  True\n",
            ") \n",
            "\n"
          ]
        },
        {
          "output_type": "stream",
          "name": "stderr",
          "text": [
            "\n",
            " 10%|█         | 1/10 [00:07<01:04,  7.20s/it]\u001b[A\n",
            "[Succeeded / Failed / Skipped / Total] 0 / 1 / 0 / 1:  10%|█         | 1/10 [00:07<01:04,  7.20s/it]\u001b[A"
          ]
        },
        {
          "output_type": "stream",
          "name": "stdout",
          "text": [
            "--------------------------------------------- Result 1 ---------------------------------------------\n",
            "[[Positive (100%)]] --> [[[FAILED]]]\n",
            "\n",
            "lovingly photographed in the manner of a golden book sprung to life , stuart little 2 manages sweetness largely without stickiness .\n",
            "\n",
            "\n"
          ]
        },
        {
          "output_type": "stream",
          "name": "stderr",
          "text": [
            "\n",
            "[Succeeded / Failed / Skipped / Total] 0 / 1 / 0 / 1:  20%|██        | 2/10 [00:08<00:33,  4.16s/it]\u001b[A\n",
            "[Succeeded / Failed / Skipped / Total] 0 / 2 / 0 / 2:  20%|██        | 2/10 [00:08<00:33,  4.16s/it]\u001b[A\n",
            "[Succeeded / Failed / Skipped / Total] 0 / 2 / 1 / 3:  30%|███       | 3/10 [00:08<00:19,  2.78s/it]\u001b[A"
          ]
        },
        {
          "output_type": "stream",
          "name": "stdout",
          "text": [
            "--------------------------------------------- Result 2 ---------------------------------------------\n",
            "[[Positive (100%)]] --> [[[FAILED]]]\n",
            "\n",
            "consistently clever and suspenseful .\n",
            "\n",
            "\n",
            "--------------------------------------------- Result 3 ---------------------------------------------\n",
            "[[Negative (85%)]] --> [[[SKIPPED]]]\n",
            "\n",
            "it's like a \" big chill \" reunion of the baader-meinhof gang , only these guys are more harmless pranksters than political activists .\n",
            "\n",
            "\n"
          ]
        },
        {
          "output_type": "stream",
          "name": "stderr",
          "text": [
            "\n",
            "[Succeeded / Failed / Skipped / Total] 0 / 2 / 1 / 3:  40%|████      | 4/10 [00:13<00:20,  3.45s/it]\u001b[A\n",
            "[Succeeded / Failed / Skipped / Total] 0 / 3 / 1 / 4:  40%|████      | 4/10 [00:13<00:20,  3.45s/it]\u001b[A"
          ]
        },
        {
          "output_type": "stream",
          "name": "stdout",
          "text": [
            "--------------------------------------------- Result 4 ---------------------------------------------\n",
            "[[Positive (100%)]] --> [[[FAILED]]]\n",
            "\n",
            "the story gives ample opportunity for large-scale action and suspense , which director shekhar kapur supplies with tremendous skill .\n",
            "\n",
            "\n"
          ]
        },
        {
          "output_type": "stream",
          "name": "stderr",
          "text": [
            "\n",
            "[Succeeded / Failed / Skipped / Total] 0 / 4 / 1 / 5:  50%|█████     | 5/10 [00:15<00:15,  3.03s/it]\u001b[A\n",
            "[Succeeded / Failed / Skipped / Total] 0 / 4 / 1 / 5:  60%|██████    | 6/10 [00:15<00:10,  2.53s/it]\u001b[A\n",
            "[Succeeded / Failed / Skipped / Total] 0 / 4 / 2 / 6:  60%|██████    | 6/10 [00:15<00:10,  2.53s/it]\u001b[A"
          ]
        },
        {
          "output_type": "stream",
          "name": "stdout",
          "text": [
            "--------------------------------------------- Result 5 ---------------------------------------------\n",
            "[[Positive (74%)]] --> [[[FAILED]]]\n",
            "\n",
            "red dragon \" never cuts corners .\n",
            "\n",
            "\n",
            "--------------------------------------------- Result 6 ---------------------------------------------\n",
            "[[Negative (64%)]] --> [[[SKIPPED]]]\n",
            "\n",
            "fresnadillo has something serious to say about the ways in which extravagant chance can distort our perspective and throw us off the path of good sense .\n",
            "\n",
            "\n"
          ]
        },
        {
          "output_type": "stream",
          "name": "stderr",
          "text": [
            "\n",
            "[Succeeded / Failed / Skipped / Total] 0 / 5 / 2 / 7:  70%|███████   | 7/10 [00:19<00:08,  2.81s/it]\u001b[A"
          ]
        },
        {
          "output_type": "stream",
          "name": "stdout",
          "text": [
            "--------------------------------------------- Result 7 ---------------------------------------------\n",
            "[[Positive (100%)]] --> [[[FAILED]]]\n",
            "\n",
            "throws in enough clever and unexpected twists to make the formula feel fresh .\n",
            "\n",
            "\n"
          ]
        },
        {
          "output_type": "stream",
          "name": "stderr",
          "text": [
            "\n",
            "[Succeeded / Failed / Skipped / Total] 0 / 5 / 2 / 7:  80%|████████  | 8/10 [00:23<00:05,  2.95s/it]\u001b[A\n",
            "[Succeeded / Failed / Skipped / Total] 0 / 6 / 2 / 8:  80%|████████  | 8/10 [00:23<00:05,  2.95s/it]\u001b[A"
          ]
        },
        {
          "output_type": "stream",
          "name": "stdout",
          "text": [
            "--------------------------------------------- Result 8 ---------------------------------------------\n",
            "[[Positive (97%)]] --> [[[FAILED]]]\n",
            "\n",
            "weighty and ponderous but every bit as filling as the treat of the title .\n",
            "\n",
            "\n"
          ]
        },
        {
          "output_type": "stream",
          "name": "stderr",
          "text": [
            "\n",
            "[Succeeded / Failed / Skipped / Total] 0 / 7 / 2 / 9:  90%|█████████ | 9/10 [00:28<00:03,  3.21s/it]\u001b[A"
          ]
        },
        {
          "output_type": "stream",
          "name": "stdout",
          "text": [
            "--------------------------------------------- Result 9 ---------------------------------------------\n",
            "[[Positive (100%)]] --> [[[FAILED]]]\n",
            "\n",
            "a real audience-pleaser that will strike a chord with anyone who's ever waited in a doctor's office , emergency room , hospital bed or insurance company office .\n",
            "\n",
            "\n"
          ]
        },
        {
          "output_type": "stream",
          "name": "stderr",
          "text": [
            "\n",
            "[Succeeded / Failed / Skipped / Total] 0 / 7 / 2 / 9: 100%|██████████| 10/10 [00:30<00:00,  3.06s/it]\u001b[A\n",
            "[Succeeded / Failed / Skipped / Total] 0 / 8 / 2 / 10: 100%|██████████| 10/10 [00:30<00:00,  3.06s/it]"
          ]
        },
        {
          "output_type": "stream",
          "name": "stdout",
          "text": [
            "--------------------------------------------- Result 10 ---------------------------------------------\n",
            "[[Positive (100%)]] --> [[[FAILED]]]\n",
            "\n",
            "generates an enormous feeling of empathy for its characters .\n",
            "\n",
            "\n",
            "\n",
            "+-------------------------------+--------+\n",
            "| Attack Results                |        |\n",
            "+-------------------------------+--------+\n",
            "| Number of successful attacks: | 0      |\n",
            "| Number of failed attacks:     | 8      |\n",
            "| Number of skipped attacks:    | 2      |\n",
            "| Original accuracy:            | 80.0%  |\n",
            "| Accuracy under attack:        | 80.0%  |\n",
            "| Attack success rate:          | 0.0%   |\n",
            "| Average perturbed word %:     | nan%   |\n",
            "| Average num. words per input: | 15.4   |\n",
            "| Avg num queries:              | 183.12 |\n",
            "+-------------------------------+--------+"
          ]
        },
        {
          "output_type": "stream",
          "name": "stderr",
          "text": [
            "\n",
            "textattack: Unknown if model of class <class 'transformers.models.albert.modeling_albert.AlbertForSequenceClassification'> compatible with goal function <class 'textattack.goal_functions.classification.input_reduction.InputReduction'>.\n",
            "\n",
            "  0%|          | 0/10 [00:00<?, ?it/s]\u001b[A"
          ]
        },
        {
          "output_type": "stream",
          "name": "stdout",
          "text": [
            "\n",
            "Starting attack for----------------- WordDeletion IR\n",
            "Attack(\n",
            "  (search_method): GreedyWordSwapWIR(\n",
            "    (wir_method):  delete\n",
            "  )\n",
            "  (goal_function):  InputReduction(\n",
            "    (maximizable):  False\n",
            "    (target_num_words):  1\n",
            "  )\n",
            "  (transformation):  WordDeletion\n",
            "  (constraints): \n",
            "    (0): RepeatModification\n",
            "    (1): StopwordModification\n",
            "  (is_black_box):  True\n",
            ") \n",
            "\n"
          ]
        },
        {
          "output_type": "stream",
          "name": "stderr",
          "text": [
            "\n",
            " 10%|█         | 1/10 [00:00<00:06,  1.40it/s]\u001b[A\n",
            "[Succeeded / Failed / Skipped / Total] 0 / 1 / 0 / 1:  10%|█         | 1/10 [00:00<00:06,  1.39it/s]\u001b[A\n",
            "[Succeeded / Failed / Skipped / Total] 0 / 1 / 0 / 1:  20%|██        | 2/10 [00:00<00:03,  2.18it/s]\u001b[A\n",
            "[Succeeded / Failed / Skipped / Total] 1 / 1 / 0 / 2:  20%|██        | 2/10 [00:00<00:03,  2.17it/s]"
          ]
        },
        {
          "output_type": "stream",
          "name": "stdout",
          "text": [
            "--------------------------------------------- Result 1 ---------------------------------------------\n",
            "[[Positive (100%)]] --> [[[FAILED]]]\n",
            "\n",
            "lovingly photographed in the manner of a golden book sprung to life , stuart little 2 manages sweetness largely without stickiness .\n",
            "\n",
            "\n",
            "--------------------------------------------- Result 2 ---------------------------------------------\n",
            "[[Positive (100%)]] --> [[Positive (94%)]]\n",
            "\n",
            "[[consistently]] clever [[and]] [[suspenseful]] .\n",
            "\n",
            "clever .\n",
            "\n",
            "\n"
          ]
        },
        {
          "output_type": "stream",
          "name": "stderr",
          "text": [
            "\u001b[A\n",
            "[Succeeded / Failed / Skipped / Total] 1 / 1 / 1 / 3:  30%|███       | 3/10 [00:00<00:02,  3.15it/s]\u001b[A"
          ]
        },
        {
          "output_type": "stream",
          "name": "stdout",
          "text": [
            "--------------------------------------------- Result 3 ---------------------------------------------\n",
            "[[Negative (85%)]] --> [[[SKIPPED]]]\n",
            "\n",
            "it's like a \" big chill \" reunion of the baader-meinhof gang , only these guys are more harmless pranksters than political activists .\n",
            "\n",
            "\n"
          ]
        },
        {
          "output_type": "stream",
          "name": "stderr",
          "text": [
            "\n",
            "[Succeeded / Failed / Skipped / Total] 1 / 1 / 1 / 3:  40%|████      | 4/10 [00:01<00:02,  2.43it/s]\u001b[A\n",
            "[Succeeded / Failed / Skipped / Total] 1 / 2 / 1 / 4:  40%|████      | 4/10 [00:01<00:02,  2.43it/s]\u001b[A"
          ]
        },
        {
          "output_type": "stream",
          "name": "stdout",
          "text": [
            "--------------------------------------------- Result 4 ---------------------------------------------\n",
            "[[Positive (100%)]] --> [[[FAILED]]]\n",
            "\n",
            "the story gives ample opportunity for large-scale action and suspense , which director shekhar kapur supplies with tremendous skill .\n",
            "\n",
            "\n"
          ]
        },
        {
          "output_type": "stream",
          "name": "stderr",
          "text": [
            "\n",
            "[Succeeded / Failed / Skipped / Total] 1 / 3 / 1 / 5:  50%|█████     | 5/10 [00:01<00:01,  2.63it/s]\u001b[A\n",
            "[Succeeded / Failed / Skipped / Total] 1 / 3 / 1 / 5:  60%|██████    | 6/10 [00:01<00:01,  3.11it/s]\u001b[A\n",
            "[Succeeded / Failed / Skipped / Total] 1 / 3 / 2 / 6:  60%|██████    | 6/10 [00:01<00:01,  3.10it/s]\u001b[A"
          ]
        },
        {
          "output_type": "stream",
          "name": "stdout",
          "text": [
            "--------------------------------------------- Result 5 ---------------------------------------------\n",
            "[[Positive (74%)]] --> [[[FAILED]]]\n",
            "\n",
            "red dragon \" never cuts corners .\n",
            "\n",
            "\n",
            "--------------------------------------------- Result 6 ---------------------------------------------\n",
            "[[Negative (64%)]] --> [[[SKIPPED]]]\n",
            "\n",
            "fresnadillo has something serious to say about the ways in which extravagant chance can distort our perspective and throw us off the path of good sense .\n",
            "\n",
            "\n"
          ]
        },
        {
          "output_type": "stream",
          "name": "stderr",
          "text": [
            "\n",
            "[Succeeded / Failed / Skipped / Total] 1 / 4 / 2 / 7:  70%|███████   | 7/10 [00:02<00:01,  2.88it/s]\u001b[A"
          ]
        },
        {
          "output_type": "stream",
          "name": "stdout",
          "text": [
            "--------------------------------------------- Result 7 ---------------------------------------------\n",
            "[[Positive (100%)]] --> [[[FAILED]]]\n",
            "\n",
            "throws in enough clever and unexpected twists to make the formula feel fresh .\n",
            "\n",
            "\n"
          ]
        },
        {
          "output_type": "stream",
          "name": "stderr",
          "text": [
            "\n",
            "[Succeeded / Failed / Skipped / Total] 1 / 4 / 2 / 7:  80%|████████  | 8/10 [00:02<00:00,  2.67it/s]\u001b[A\n",
            "[Succeeded / Failed / Skipped / Total] 1 / 5 / 2 / 8:  80%|████████  | 8/10 [00:02<00:00,  2.67it/s]\u001b[A"
          ]
        },
        {
          "output_type": "stream",
          "name": "stdout",
          "text": [
            "--------------------------------------------- Result 8 ---------------------------------------------\n",
            "[[Positive (97%)]] --> [[[FAILED]]]\n",
            "\n",
            "weighty and ponderous but every bit as filling as the treat of the title .\n",
            "\n",
            "\n"
          ]
        },
        {
          "output_type": "stream",
          "name": "stderr",
          "text": [
            "\n",
            "[Succeeded / Failed / Skipped / Total] 1 / 6 / 2 / 9:  90%|█████████ | 9/10 [00:03<00:00,  2.26it/s]\u001b[A"
          ]
        },
        {
          "output_type": "stream",
          "name": "stdout",
          "text": [
            "--------------------------------------------- Result 9 ---------------------------------------------\n",
            "[[Positive (100%)]] --> [[[FAILED]]]\n",
            "\n",
            "a real audience-pleaser that will strike a chord with anyone who's ever waited in a doctor's office , emergency room , hospital bed or insurance company office .\n",
            "\n",
            "\n"
          ]
        },
        {
          "output_type": "stream",
          "name": "stderr",
          "text": [
            "\n",
            "[Succeeded / Failed / Skipped / Total] 1 / 6 / 2 / 9: 100%|██████████| 10/10 [00:04<00:00,  2.29it/s]\u001b[A\n",
            "[Succeeded / Failed / Skipped / Total] 1 / 7 / 2 / 10: 100%|██████████| 10/10 [00:04<00:00,  2.28it/s]"
          ]
        },
        {
          "output_type": "stream",
          "name": "stdout",
          "text": [
            "--------------------------------------------- Result 10 ---------------------------------------------\n",
            "[[Positive (100%)]] --> [[[FAILED]]]\n",
            "\n",
            "generates an enormous feeling of empathy for its characters .\n",
            "\n",
            "\n",
            "\n",
            "+-------------------------------+-------+\n",
            "| Attack Results                |       |\n",
            "+-------------------------------+-------+\n",
            "| Number of successful attacks: | 1     |\n",
            "| Number of failed attacks:     | 7     |\n",
            "| Number of skipped attacks:    | 2     |\n",
            "| Original accuracy:            | 80.0% |\n",
            "| Accuracy under attack:        | 70.0% |\n",
            "| Attack success rate:          | 12.5% |\n",
            "| Average perturbed word %:     | 25.0% |\n",
            "| Average num. words per input: | 15.4  |\n",
            "| Avg num queries:              | 23.62 |\n",
            "+-------------------------------+-------+"
          ]
        },
        {
          "output_type": "stream",
          "name": "stderr",
          "text": [
            "\n",
            "textattack: Unknown if model of class <class 'transformers.models.albert.modeling_albert.AlbertForSequenceClassification'> compatible with goal function <class 'textattack.goal_functions.classification.input_reduction.InputReduction'>.\n",
            "\n",
            "  0%|          | 0/10 [00:00<?, ?it/s]\u001b[A"
          ]
        },
        {
          "output_type": "stream",
          "name": "stdout",
          "text": [
            "\n",
            "Starting attack for----------------- WordSwapRandomCharacterSubstitution IR\n",
            "Attack(\n",
            "  (search_method): GreedyWordSwapWIR(\n",
            "    (wir_method):  delete\n",
            "  )\n",
            "  (goal_function):  InputReduction(\n",
            "    (maximizable):  False\n",
            "    (target_num_words):  1\n",
            "  )\n",
            "  (transformation):  WordSwapRandomCharacterSubstitution(\n",
            "    (random_one):  True\n",
            "  )\n",
            "  (constraints): \n",
            "    (0): RepeatModification\n",
            "    (1): StopwordModification\n",
            "  (is_black_box):  True\n",
            ") \n",
            "\n"
          ]
        },
        {
          "output_type": "stream",
          "name": "stderr",
          "text": [
            "\n",
            " 10%|█         | 1/10 [00:00<00:06,  1.40it/s]\u001b[A\n",
            "[Succeeded / Failed / Skipped / Total] 0 / 1 / 0 / 1:  10%|█         | 1/10 [00:00<00:06,  1.39it/s]\u001b[A\n",
            "[Succeeded / Failed / Skipped / Total] 0 / 1 / 0 / 1:  20%|██        | 2/10 [00:00<00:03,  2.19it/s]\u001b[A\n",
            "[Succeeded / Failed / Skipped / Total] 0 / 2 / 0 / 2:  20%|██        | 2/10 [00:00<00:03,  2.18it/s]\u001b[A"
          ]
        },
        {
          "output_type": "stream",
          "name": "stdout",
          "text": [
            "--------------------------------------------- Result 1 ---------------------------------------------\n",
            "[[Positive (100%)]] --> [[[FAILED]]]\n",
            "\n",
            "lovingly photographed in the manner of a golden book sprung to life , stuart little 2 manages sweetness largely without stickiness .\n",
            "\n",
            "\n",
            "--------------------------------------------- Result 2 ---------------------------------------------\n",
            "[[Positive (100%)]] --> [[[FAILED]]]\n",
            "\n",
            "consistently clever and suspenseful .\n",
            "\n",
            "\n"
          ]
        },
        {
          "output_type": "stream",
          "name": "stderr",
          "text": [
            "\n",
            "[Succeeded / Failed / Skipped / Total] 0 / 2 / 1 / 3:  30%|███       | 3/10 [00:00<00:02,  3.14it/s]\u001b[A"
          ]
        },
        {
          "output_type": "stream",
          "name": "stdout",
          "text": [
            "--------------------------------------------- Result 3 ---------------------------------------------\n",
            "[[Negative (85%)]] --> [[[SKIPPED]]]\n",
            "\n",
            "it's like a \" big chill \" reunion of the baader-meinhof gang , only these guys are more harmless pranksters than political activists .\n",
            "\n",
            "\n"
          ]
        },
        {
          "output_type": "stream",
          "name": "stderr",
          "text": [
            "\n",
            "[Succeeded / Failed / Skipped / Total] 0 / 2 / 1 / 3:  40%|████      | 4/10 [00:01<00:02,  2.39it/s]\u001b[A\n",
            "[Succeeded / Failed / Skipped / Total] 0 / 3 / 1 / 4:  40%|████      | 4/10 [00:01<00:02,  2.39it/s]\u001b[A"
          ]
        },
        {
          "output_type": "stream",
          "name": "stdout",
          "text": [
            "--------------------------------------------- Result 4 ---------------------------------------------\n",
            "[[Positive (100%)]] --> [[[FAILED]]]\n",
            "\n",
            "the story gives ample opportunity for large-scale action and suspense , which director shekhar kapur supplies with tremendous skill .\n",
            "\n",
            "\n"
          ]
        },
        {
          "output_type": "stream",
          "name": "stderr",
          "text": [
            "\n",
            "[Succeeded / Failed / Skipped / Total] 0 / 4 / 1 / 5:  50%|█████     | 5/10 [00:01<00:01,  2.56it/s]\u001b[A\n",
            "[Succeeded / Failed / Skipped / Total] 0 / 4 / 1 / 5:  60%|██████    | 6/10 [00:01<00:01,  3.02it/s]\u001b[A\n",
            "[Succeeded / Failed / Skipped / Total] 0 / 4 / 2 / 6:  60%|██████    | 6/10 [00:01<00:01,  3.02it/s]\u001b[A"
          ]
        },
        {
          "output_type": "stream",
          "name": "stdout",
          "text": [
            "--------------------------------------------- Result 5 ---------------------------------------------\n",
            "[[Positive (74%)]] --> [[[FAILED]]]\n",
            "\n",
            "red dragon \" never cuts corners .\n",
            "\n",
            "\n",
            "--------------------------------------------- Result 6 ---------------------------------------------\n",
            "[[Negative (64%)]] --> [[[SKIPPED]]]\n",
            "\n",
            "fresnadillo has something serious to say about the ways in which extravagant chance can distort our perspective and throw us off the path of good sense .\n",
            "\n",
            "\n"
          ]
        },
        {
          "output_type": "stream",
          "name": "stderr",
          "text": [
            "\n",
            "[Succeeded / Failed / Skipped / Total] 0 / 5 / 2 / 7:  70%|███████   | 7/10 [00:02<00:01,  2.78it/s]\u001b[A"
          ]
        },
        {
          "output_type": "stream",
          "name": "stdout",
          "text": [
            "--------------------------------------------- Result 7 ---------------------------------------------\n",
            "[[Positive (100%)]] --> [[[FAILED]]]\n",
            "\n",
            "throws in enough clever and unexpected twists to make the formula feel fresh .\n",
            "\n",
            "\n"
          ]
        },
        {
          "output_type": "stream",
          "name": "stderr",
          "text": [
            "\n",
            "[Succeeded / Failed / Skipped / Total] 0 / 5 / 2 / 7:  80%|████████  | 8/10 [00:02<00:00,  2.67it/s]\u001b[A\n",
            "[Succeeded / Failed / Skipped / Total] 0 / 6 / 2 / 8:  80%|████████  | 8/10 [00:03<00:00,  2.66it/s]\u001b[A"
          ]
        },
        {
          "output_type": "stream",
          "name": "stdout",
          "text": [
            "--------------------------------------------- Result 8 ---------------------------------------------\n",
            "[[Positive (97%)]] --> [[[FAILED]]]\n",
            "\n",
            "weighty and ponderous but every bit as filling as the treat of the title .\n",
            "\n",
            "\n"
          ]
        },
        {
          "output_type": "stream",
          "name": "stderr",
          "text": [
            "\n",
            "[Succeeded / Failed / Skipped / Total] 0 / 7 / 2 / 9:  90%|█████████ | 9/10 [00:03<00:00,  2.27it/s]\u001b[A"
          ]
        },
        {
          "output_type": "stream",
          "name": "stdout",
          "text": [
            "--------------------------------------------- Result 9 ---------------------------------------------\n",
            "[[Positive (100%)]] --> [[[FAILED]]]\n",
            "\n",
            "a real audience-pleaser that will strike a chord with anyone who's ever waited in a doctor's office , emergency room , hospital bed or insurance company office .\n",
            "\n",
            "\n"
          ]
        },
        {
          "output_type": "stream",
          "name": "stderr",
          "text": [
            "\n",
            "[Succeeded / Failed / Skipped / Total] 0 / 7 / 2 / 9: 100%|██████████| 10/10 [00:04<00:00,  2.32it/s]\u001b[A\n",
            "[Succeeded / Failed / Skipped / Total] 0 / 8 / 2 / 10: 100%|██████████| 10/10 [00:04<00:00,  2.32it/s]"
          ]
        },
        {
          "output_type": "stream",
          "name": "stdout",
          "text": [
            "--------------------------------------------- Result 10 ---------------------------------------------\n",
            "[[Positive (100%)]] --> [[[FAILED]]]\n",
            "\n",
            "generates an enormous feeling of empathy for its characters .\n",
            "\n",
            "\n",
            "\n",
            "+-------------------------------+-------+\n",
            "| Attack Results                |       |\n",
            "+-------------------------------+-------+\n",
            "| Number of successful attacks: | 0     |\n",
            "| Number of failed attacks:     | 8     |\n",
            "| Number of skipped attacks:    | 2     |\n",
            "| Original accuracy:            | 80.0% |\n",
            "| Accuracy under attack:        | 80.0% |\n",
            "| Attack success rate:          | 0.0%  |\n",
            "| Average perturbed word %:     | nan%  |\n",
            "| Average num. words per input: | 15.4  |\n",
            "| Avg num queries:              | 23.25 |\n",
            "+-------------------------------+-------+"
          ]
        },
        {
          "output_type": "stream",
          "name": "stderr",
          "text": [
            "\n"
          ]
        },
        {
          "output_type": "stream",
          "name": "stdout",
          "text": [
            "\n",
            "Starting attack for----------------- WordSwapMaskedLM IR\n"
          ]
        },
        {
          "output_type": "stream",
          "name": "stderr",
          "text": [
            "Some weights of the model checkpoint at bert-base-uncased were not used when initializing BertForMaskedLM: ['cls.seq_relationship.weight', 'cls.seq_relationship.bias']\n",
            "- This IS expected if you are initializing BertForMaskedLM from the checkpoint of a model trained on another task or with another architecture (e.g. initializing a BertForSequenceClassification model from a BertForPreTraining model).\n",
            "- This IS NOT expected if you are initializing BertForMaskedLM from the checkpoint of a model that you expect to be exactly identical (initializing a BertForSequenceClassification model from a BertForSequenceClassification model).\n",
            "textattack: Unknown if model of class <class 'transformers.models.albert.modeling_albert.AlbertForSequenceClassification'> compatible with goal function <class 'textattack.goal_functions.classification.input_reduction.InputReduction'>.\n",
            "\n",
            "  0%|          | 0/10 [00:00<?, ?it/s]\u001b[A"
          ]
        },
        {
          "output_type": "stream",
          "name": "stdout",
          "text": [
            "Attack(\n",
            "  (search_method): GreedyWordSwapWIR(\n",
            "    (wir_method):  delete\n",
            "  )\n",
            "  (goal_function):  InputReduction(\n",
            "    (maximizable):  False\n",
            "    (target_num_words):  1\n",
            "  )\n",
            "  (transformation):  WordSwapMaskedLM(\n",
            "    (method):  bert-attack\n",
            "    (masked_lm_name):  BertForMaskedLM\n",
            "    (max_length):  512\n",
            "    (max_candidates):  48\n",
            "    (min_confidence):  0.0005\n",
            "  )\n",
            "  (constraints): \n",
            "    (0): RepeatModification\n",
            "    (1): StopwordModification\n",
            "  (is_black_box):  True\n",
            ") \n",
            "\n"
          ]
        },
        {
          "output_type": "stream",
          "name": "stderr",
          "text": [
            "\n",
            " 10%|█         | 1/10 [00:14<02:14, 14.94s/it]\u001b[A\n",
            "[Succeeded / Failed / Skipped / Total] 0 / 1 / 0 / 1:  10%|█         | 1/10 [00:14<02:14, 14.94s/it]\u001b[A"
          ]
        },
        {
          "output_type": "stream",
          "name": "stdout",
          "text": [
            "--------------------------------------------- Result 1 ---------------------------------------------\n",
            "[[Positive (100%)]] --> [[[FAILED]]]\n",
            "\n",
            "lovingly photographed in the manner of a golden book sprung to life , stuart little 2 manages sweetness largely without stickiness .\n",
            "\n",
            "\n"
          ]
        },
        {
          "output_type": "stream",
          "name": "stderr",
          "text": [
            "\n",
            "[Succeeded / Failed / Skipped / Total] 0 / 1 / 0 / 1:  20%|██        | 2/10 [00:18<01:12,  9.08s/it]\u001b[A\n",
            "[Succeeded / Failed / Skipped / Total] 0 / 2 / 0 / 2:  20%|██        | 2/10 [00:18<01:12,  9.08s/it]\u001b[A\n",
            "[Succeeded / Failed / Skipped / Total] 0 / 2 / 1 / 3:  30%|███       | 3/10 [00:18<00:42,  6.07s/it]\u001b[A"
          ]
        },
        {
          "output_type": "stream",
          "name": "stdout",
          "text": [
            "--------------------------------------------- Result 2 ---------------------------------------------\n",
            "[[Positive (100%)]] --> [[[FAILED]]]\n",
            "\n",
            "consistently clever and suspenseful .\n",
            "\n",
            "\n",
            "--------------------------------------------- Result 3 ---------------------------------------------\n",
            "[[Negative (85%)]] --> [[[SKIPPED]]]\n",
            "\n",
            "it's like a \" big chill \" reunion of the baader-meinhof gang , only these guys are more harmless pranksters than political activists .\n",
            "\n",
            "\n"
          ]
        },
        {
          "output_type": "stream",
          "name": "stderr",
          "text": [
            "\n",
            "[Succeeded / Failed / Skipped / Total] 0 / 2 / 1 / 3:  40%|████      | 4/10 [01:08<01:42, 17.08s/it]\u001b[A\n",
            "[Succeeded / Failed / Skipped / Total] 0 / 3 / 1 / 4:  40%|████      | 4/10 [01:08<01:42, 17.08s/it]\u001b[A"
          ]
        },
        {
          "output_type": "stream",
          "name": "stdout",
          "text": [
            "--------------------------------------------- Result 4 ---------------------------------------------\n",
            "[[Positive (100%)]] --> [[[FAILED]]]\n",
            "\n",
            "the story gives ample opportunity for large-scale action and suspense , which director shekhar kapur supplies with tremendous skill .\n",
            "\n",
            "\n"
          ]
        },
        {
          "output_type": "stream",
          "name": "stderr",
          "text": [
            "\n",
            "[Succeeded / Failed / Skipped / Total] 0 / 3 / 1 / 4:  50%|█████     | 5/10 [01:12<01:12, 14.57s/it]\u001b[A\n",
            "[Succeeded / Failed / Skipped / Total] 0 / 4 / 1 / 5:  50%|█████     | 5/10 [01:12<01:12, 14.57s/it]\u001b[A\n",
            "[Succeeded / Failed / Skipped / Total] 0 / 4 / 2 / 6:  60%|██████    | 6/10 [01:12<00:48, 12.15s/it]\u001b[A"
          ]
        },
        {
          "output_type": "stream",
          "name": "stdout",
          "text": [
            "--------------------------------------------- Result 5 ---------------------------------------------\n",
            "[[Positive (74%)]] --> [[[FAILED]]]\n",
            "\n",
            "red dragon \" never cuts corners .\n",
            "\n",
            "\n",
            "--------------------------------------------- Result 6 ---------------------------------------------\n",
            "[[Negative (64%)]] --> [[[SKIPPED]]]\n",
            "\n",
            "fresnadillo has something serious to say about the ways in which extravagant chance can distort our perspective and throw us off the path of good sense .\n",
            "\n",
            "\n"
          ]
        },
        {
          "output_type": "stream",
          "name": "stderr",
          "text": [
            "\n",
            "[Succeeded / Failed / Skipped / Total] 0 / 4 / 2 / 6:  70%|███████   | 7/10 [01:21<00:35, 11.71s/it]\u001b[A\n",
            "[Succeeded / Failed / Skipped / Total] 0 / 5 / 2 / 7:  70%|███████   | 7/10 [01:21<00:35, 11.71s/it]\u001b[A"
          ]
        },
        {
          "output_type": "stream",
          "name": "stdout",
          "text": [
            "--------------------------------------------- Result 7 ---------------------------------------------\n",
            "[[Positive (100%)]] --> [[[FAILED]]]\n",
            "\n",
            "throws in enough clever and unexpected twists to make the formula feel fresh .\n",
            "\n",
            "\n"
          ]
        },
        {
          "output_type": "stream",
          "name": "stderr",
          "text": [
            "\n",
            "[Succeeded / Failed / Skipped / Total] 0 / 6 / 2 / 8:  80%|████████  | 8/10 [01:30<00:22, 11.28s/it]\u001b[A"
          ]
        },
        {
          "output_type": "stream",
          "name": "stdout",
          "text": [
            "--------------------------------------------- Result 8 ---------------------------------------------\n",
            "[[Positive (97%)]] --> [[[FAILED]]]\n",
            "\n",
            "weighty and ponderous but every bit as filling as the treat of the title .\n",
            "\n",
            "\n"
          ]
        },
        {
          "output_type": "stream",
          "name": "stderr",
          "text": [
            "\n",
            "[Succeeded / Failed / Skipped / Total] 0 / 6 / 2 / 8:  80%|████████  | 8/10 [01:35<00:23, 11.92s/it]\u001b[A"
          ]
        }
      ]
    }
  ],
  "metadata": {
    "accelerator": "GPU",
    "colab": {
      "collapsed_sections": [],
      "machine_shape": "hm",
      "name": "AlbertBase_Goal_TransformationList_GreedyWordDelete_Custom Recipe.ipynb",
      "provenance": [],
      "authorship_tag": "ABX9TyOEUwf9re7mmYeShxNCRUIW",
      "include_colab_link": true
    },
    "kernelspec": {
      "display_name": "Python 3",
      "name": "python3"
    },
    "language_info": {
      "name": "python"
    },
    "widgets": {
      "application/vnd.jupyter.widget-state+json": {
        "ac39f59b12ee44dc990d5208e40beb3c": {
          "model_module": "@jupyter-widgets/controls",
          "model_name": "HBoxModel",
          "model_module_version": "1.5.0",
          "state": {
            "_view_name": "HBoxView",
            "_dom_classes": [],
            "_model_name": "HBoxModel",
            "_view_module": "@jupyter-widgets/controls",
            "_model_module_version": "1.5.0",
            "_view_count": null,
            "_view_module_version": "1.5.0",
            "box_style": "",
            "layout": "IPY_MODEL_c7aed05c5dad4d93abe1cb5978c911f8",
            "_model_module": "@jupyter-widgets/controls",
            "children": [
              "IPY_MODEL_62e38ca7549b48ab8ce9931bbfb4f678",
              "IPY_MODEL_37a126a2310042219539a2548acfcbd4"
            ]
          }
        },
        "c7aed05c5dad4d93abe1cb5978c911f8": {
          "model_module": "@jupyter-widgets/base",
          "model_name": "LayoutModel",
          "model_module_version": "1.2.0",
          "state": {
            "_view_name": "LayoutView",
            "grid_template_rows": null,
            "right": null,
            "justify_content": null,
            "_view_module": "@jupyter-widgets/base",
            "overflow": null,
            "_model_module_version": "1.2.0",
            "_view_count": null,
            "flex_flow": null,
            "width": null,
            "min_width": null,
            "border": null,
            "align_items": null,
            "bottom": null,
            "_model_module": "@jupyter-widgets/base",
            "top": null,
            "grid_column": null,
            "overflow_y": null,
            "overflow_x": null,
            "grid_auto_flow": null,
            "grid_area": null,
            "grid_template_columns": null,
            "flex": null,
            "_model_name": "LayoutModel",
            "justify_items": null,
            "grid_row": null,
            "max_height": null,
            "align_content": null,
            "visibility": null,
            "align_self": null,
            "height": null,
            "min_height": null,
            "padding": null,
            "grid_auto_rows": null,
            "grid_gap": null,
            "max_width": null,
            "order": null,
            "_view_module_version": "1.2.0",
            "grid_template_areas": null,
            "object_position": null,
            "object_fit": null,
            "grid_auto_columns": null,
            "margin": null,
            "display": null,
            "left": null
          }
        },
        "62e38ca7549b48ab8ce9931bbfb4f678": {
          "model_module": "@jupyter-widgets/controls",
          "model_name": "FloatProgressModel",
          "model_module_version": "1.5.0",
          "state": {
            "_view_name": "ProgressView",
            "style": "IPY_MODEL_7c9b998d067c421387bbb88c322ee153",
            "_dom_classes": [],
            "description": "Downloading: 100%",
            "_model_name": "FloatProgressModel",
            "bar_style": "success",
            "max": 727,
            "_view_module": "@jupyter-widgets/controls",
            "_model_module_version": "1.5.0",
            "value": 727,
            "_view_count": null,
            "_view_module_version": "1.5.0",
            "orientation": "horizontal",
            "min": 0,
            "description_tooltip": null,
            "_model_module": "@jupyter-widgets/controls",
            "layout": "IPY_MODEL_ce7c67f04b7f417983002c8812227c37"
          }
        },
        "37a126a2310042219539a2548acfcbd4": {
          "model_module": "@jupyter-widgets/controls",
          "model_name": "HTMLModel",
          "model_module_version": "1.5.0",
          "state": {
            "_view_name": "HTMLView",
            "style": "IPY_MODEL_7cf42a247b204849a25c29c1ff2d5ac3",
            "_dom_classes": [],
            "description": "",
            "_model_name": "HTMLModel",
            "placeholder": "​",
            "_view_module": "@jupyter-widgets/controls",
            "_model_module_version": "1.5.0",
            "value": " 727/727 [00:00&lt;00:00, 16.1kB/s]",
            "_view_count": null,
            "_view_module_version": "1.5.0",
            "description_tooltip": null,
            "_model_module": "@jupyter-widgets/controls",
            "layout": "IPY_MODEL_67510c9fafc040f19580815a68230bb5"
          }
        },
        "7c9b998d067c421387bbb88c322ee153": {
          "model_module": "@jupyter-widgets/controls",
          "model_name": "ProgressStyleModel",
          "model_module_version": "1.5.0",
          "state": {
            "_view_name": "StyleView",
            "_model_name": "ProgressStyleModel",
            "description_width": "initial",
            "_view_module": "@jupyter-widgets/base",
            "_model_module_version": "1.5.0",
            "_view_count": null,
            "_view_module_version": "1.2.0",
            "bar_color": null,
            "_model_module": "@jupyter-widgets/controls"
          }
        },
        "ce7c67f04b7f417983002c8812227c37": {
          "model_module": "@jupyter-widgets/base",
          "model_name": "LayoutModel",
          "model_module_version": "1.2.0",
          "state": {
            "_view_name": "LayoutView",
            "grid_template_rows": null,
            "right": null,
            "justify_content": null,
            "_view_module": "@jupyter-widgets/base",
            "overflow": null,
            "_model_module_version": "1.2.0",
            "_view_count": null,
            "flex_flow": null,
            "width": null,
            "min_width": null,
            "border": null,
            "align_items": null,
            "bottom": null,
            "_model_module": "@jupyter-widgets/base",
            "top": null,
            "grid_column": null,
            "overflow_y": null,
            "overflow_x": null,
            "grid_auto_flow": null,
            "grid_area": null,
            "grid_template_columns": null,
            "flex": null,
            "_model_name": "LayoutModel",
            "justify_items": null,
            "grid_row": null,
            "max_height": null,
            "align_content": null,
            "visibility": null,
            "align_self": null,
            "height": null,
            "min_height": null,
            "padding": null,
            "grid_auto_rows": null,
            "grid_gap": null,
            "max_width": null,
            "order": null,
            "_view_module_version": "1.2.0",
            "grid_template_areas": null,
            "object_position": null,
            "object_fit": null,
            "grid_auto_columns": null,
            "margin": null,
            "display": null,
            "left": null
          }
        },
        "7cf42a247b204849a25c29c1ff2d5ac3": {
          "model_module": "@jupyter-widgets/controls",
          "model_name": "DescriptionStyleModel",
          "model_module_version": "1.5.0",
          "state": {
            "_view_name": "StyleView",
            "_model_name": "DescriptionStyleModel",
            "description_width": "",
            "_view_module": "@jupyter-widgets/base",
            "_model_module_version": "1.5.0",
            "_view_count": null,
            "_view_module_version": "1.2.0",
            "_model_module": "@jupyter-widgets/controls"
          }
        },
        "67510c9fafc040f19580815a68230bb5": {
          "model_module": "@jupyter-widgets/base",
          "model_name": "LayoutModel",
          "model_module_version": "1.2.0",
          "state": {
            "_view_name": "LayoutView",
            "grid_template_rows": null,
            "right": null,
            "justify_content": null,
            "_view_module": "@jupyter-widgets/base",
            "overflow": null,
            "_model_module_version": "1.2.0",
            "_view_count": null,
            "flex_flow": null,
            "width": null,
            "min_width": null,
            "border": null,
            "align_items": null,
            "bottom": null,
            "_model_module": "@jupyter-widgets/base",
            "top": null,
            "grid_column": null,
            "overflow_y": null,
            "overflow_x": null,
            "grid_auto_flow": null,
            "grid_area": null,
            "grid_template_columns": null,
            "flex": null,
            "_model_name": "LayoutModel",
            "justify_items": null,
            "grid_row": null,
            "max_height": null,
            "align_content": null,
            "visibility": null,
            "align_self": null,
            "height": null,
            "min_height": null,
            "padding": null,
            "grid_auto_rows": null,
            "grid_gap": null,
            "max_width": null,
            "order": null,
            "_view_module_version": "1.2.0",
            "grid_template_areas": null,
            "object_position": null,
            "object_fit": null,
            "grid_auto_columns": null,
            "margin": null,
            "display": null,
            "left": null
          }
        },
        "de58c840958843b284793089d73a215a": {
          "model_module": "@jupyter-widgets/controls",
          "model_name": "HBoxModel",
          "model_module_version": "1.5.0",
          "state": {
            "_view_name": "HBoxView",
            "_dom_classes": [],
            "_model_name": "HBoxModel",
            "_view_module": "@jupyter-widgets/controls",
            "_model_module_version": "1.5.0",
            "_view_count": null,
            "_view_module_version": "1.5.0",
            "box_style": "",
            "layout": "IPY_MODEL_31422e60e3234dd68e23058c3f063d87",
            "_model_module": "@jupyter-widgets/controls",
            "children": [
              "IPY_MODEL_24a151821b1944c5be89ec868991076e",
              "IPY_MODEL_f346292598844a4599a4ee68edb3856a"
            ]
          }
        },
        "31422e60e3234dd68e23058c3f063d87": {
          "model_module": "@jupyter-widgets/base",
          "model_name": "LayoutModel",
          "model_module_version": "1.2.0",
          "state": {
            "_view_name": "LayoutView",
            "grid_template_rows": null,
            "right": null,
            "justify_content": null,
            "_view_module": "@jupyter-widgets/base",
            "overflow": null,
            "_model_module_version": "1.2.0",
            "_view_count": null,
            "flex_flow": null,
            "width": null,
            "min_width": null,
            "border": null,
            "align_items": null,
            "bottom": null,
            "_model_module": "@jupyter-widgets/base",
            "top": null,
            "grid_column": null,
            "overflow_y": null,
            "overflow_x": null,
            "grid_auto_flow": null,
            "grid_area": null,
            "grid_template_columns": null,
            "flex": null,
            "_model_name": "LayoutModel",
            "justify_items": null,
            "grid_row": null,
            "max_height": null,
            "align_content": null,
            "visibility": null,
            "align_self": null,
            "height": null,
            "min_height": null,
            "padding": null,
            "grid_auto_rows": null,
            "grid_gap": null,
            "max_width": null,
            "order": null,
            "_view_module_version": "1.2.0",
            "grid_template_areas": null,
            "object_position": null,
            "object_fit": null,
            "grid_auto_columns": null,
            "margin": null,
            "display": null,
            "left": null
          }
        },
        "24a151821b1944c5be89ec868991076e": {
          "model_module": "@jupyter-widgets/controls",
          "model_name": "FloatProgressModel",
          "model_module_version": "1.5.0",
          "state": {
            "_view_name": "ProgressView",
            "style": "IPY_MODEL_39429285dfa94c1eab9d5ddbb23f6216",
            "_dom_classes": [],
            "description": "Downloading: 100%",
            "_model_name": "FloatProgressModel",
            "bar_style": "success",
            "max": 46747112,
            "_view_module": "@jupyter-widgets/controls",
            "_model_module_version": "1.5.0",
            "value": 46747112,
            "_view_count": null,
            "_view_module_version": "1.5.0",
            "orientation": "horizontal",
            "min": 0,
            "description_tooltip": null,
            "_model_module": "@jupyter-widgets/controls",
            "layout": "IPY_MODEL_41c615c01245445480b306877769055a"
          }
        },
        "f346292598844a4599a4ee68edb3856a": {
          "model_module": "@jupyter-widgets/controls",
          "model_name": "HTMLModel",
          "model_module_version": "1.5.0",
          "state": {
            "_view_name": "HTMLView",
            "style": "IPY_MODEL_782e1b1a743d44e7920d2be2e3059ae6",
            "_dom_classes": [],
            "description": "",
            "_model_name": "HTMLModel",
            "placeholder": "​",
            "_view_module": "@jupyter-widgets/controls",
            "_model_module_version": "1.5.0",
            "value": " 44.6M/44.6M [00:12&lt;00:00, 3.74MB/s]",
            "_view_count": null,
            "_view_module_version": "1.5.0",
            "description_tooltip": null,
            "_model_module": "@jupyter-widgets/controls",
            "layout": "IPY_MODEL_3b3f7191306d4e74b521b8a2c7bde71c"
          }
        },
        "39429285dfa94c1eab9d5ddbb23f6216": {
          "model_module": "@jupyter-widgets/controls",
          "model_name": "ProgressStyleModel",
          "model_module_version": "1.5.0",
          "state": {
            "_view_name": "StyleView",
            "_model_name": "ProgressStyleModel",
            "description_width": "initial",
            "_view_module": "@jupyter-widgets/base",
            "_model_module_version": "1.5.0",
            "_view_count": null,
            "_view_module_version": "1.2.0",
            "bar_color": null,
            "_model_module": "@jupyter-widgets/controls"
          }
        },
        "41c615c01245445480b306877769055a": {
          "model_module": "@jupyter-widgets/base",
          "model_name": "LayoutModel",
          "model_module_version": "1.2.0",
          "state": {
            "_view_name": "LayoutView",
            "grid_template_rows": null,
            "right": null,
            "justify_content": null,
            "_view_module": "@jupyter-widgets/base",
            "overflow": null,
            "_model_module_version": "1.2.0",
            "_view_count": null,
            "flex_flow": null,
            "width": null,
            "min_width": null,
            "border": null,
            "align_items": null,
            "bottom": null,
            "_model_module": "@jupyter-widgets/base",
            "top": null,
            "grid_column": null,
            "overflow_y": null,
            "overflow_x": null,
            "grid_auto_flow": null,
            "grid_area": null,
            "grid_template_columns": null,
            "flex": null,
            "_model_name": "LayoutModel",
            "justify_items": null,
            "grid_row": null,
            "max_height": null,
            "align_content": null,
            "visibility": null,
            "align_self": null,
            "height": null,
            "min_height": null,
            "padding": null,
            "grid_auto_rows": null,
            "grid_gap": null,
            "max_width": null,
            "order": null,
            "_view_module_version": "1.2.0",
            "grid_template_areas": null,
            "object_position": null,
            "object_fit": null,
            "grid_auto_columns": null,
            "margin": null,
            "display": null,
            "left": null
          }
        },
        "782e1b1a743d44e7920d2be2e3059ae6": {
          "model_module": "@jupyter-widgets/controls",
          "model_name": "DescriptionStyleModel",
          "model_module_version": "1.5.0",
          "state": {
            "_view_name": "StyleView",
            "_model_name": "DescriptionStyleModel",
            "description_width": "",
            "_view_module": "@jupyter-widgets/base",
            "_model_module_version": "1.5.0",
            "_view_count": null,
            "_view_module_version": "1.2.0",
            "_model_module": "@jupyter-widgets/controls"
          }
        },
        "3b3f7191306d4e74b521b8a2c7bde71c": {
          "model_module": "@jupyter-widgets/base",
          "model_name": "LayoutModel",
          "model_module_version": "1.2.0",
          "state": {
            "_view_name": "LayoutView",
            "grid_template_rows": null,
            "right": null,
            "justify_content": null,
            "_view_module": "@jupyter-widgets/base",
            "overflow": null,
            "_model_module_version": "1.2.0",
            "_view_count": null,
            "flex_flow": null,
            "width": null,
            "min_width": null,
            "border": null,
            "align_items": null,
            "bottom": null,
            "_model_module": "@jupyter-widgets/base",
            "top": null,
            "grid_column": null,
            "overflow_y": null,
            "overflow_x": null,
            "grid_auto_flow": null,
            "grid_area": null,
            "grid_template_columns": null,
            "flex": null,
            "_model_name": "LayoutModel",
            "justify_items": null,
            "grid_row": null,
            "max_height": null,
            "align_content": null,
            "visibility": null,
            "align_self": null,
            "height": null,
            "min_height": null,
            "padding": null,
            "grid_auto_rows": null,
            "grid_gap": null,
            "max_width": null,
            "order": null,
            "_view_module_version": "1.2.0",
            "grid_template_areas": null,
            "object_position": null,
            "object_fit": null,
            "grid_auto_columns": null,
            "margin": null,
            "display": null,
            "left": null
          }
        },
        "03918e4c7d5d46299ec30d872e402c84": {
          "model_module": "@jupyter-widgets/controls",
          "model_name": "HBoxModel",
          "model_module_version": "1.5.0",
          "state": {
            "_view_name": "HBoxView",
            "_dom_classes": [],
            "_model_name": "HBoxModel",
            "_view_module": "@jupyter-widgets/controls",
            "_model_module_version": "1.5.0",
            "_view_count": null,
            "_view_module_version": "1.5.0",
            "box_style": "",
            "layout": "IPY_MODEL_9292c5d950b0477e897eea8b38c28ba1",
            "_model_module": "@jupyter-widgets/controls",
            "children": [
              "IPY_MODEL_7e6bbd2751d547aaa8b29485690c3310",
              "IPY_MODEL_a091c0659f694f64a8ee5fcb49f8db25"
            ]
          }
        },
        "9292c5d950b0477e897eea8b38c28ba1": {
          "model_module": "@jupyter-widgets/base",
          "model_name": "LayoutModel",
          "model_module_version": "1.2.0",
          "state": {
            "_view_name": "LayoutView",
            "grid_template_rows": null,
            "right": null,
            "justify_content": null,
            "_view_module": "@jupyter-widgets/base",
            "overflow": null,
            "_model_module_version": "1.2.0",
            "_view_count": null,
            "flex_flow": null,
            "width": null,
            "min_width": null,
            "border": null,
            "align_items": null,
            "bottom": null,
            "_model_module": "@jupyter-widgets/base",
            "top": null,
            "grid_column": null,
            "overflow_y": null,
            "overflow_x": null,
            "grid_auto_flow": null,
            "grid_area": null,
            "grid_template_columns": null,
            "flex": null,
            "_model_name": "LayoutModel",
            "justify_items": null,
            "grid_row": null,
            "max_height": null,
            "align_content": null,
            "visibility": null,
            "align_self": null,
            "height": null,
            "min_height": null,
            "padding": null,
            "grid_auto_rows": null,
            "grid_gap": null,
            "max_width": null,
            "order": null,
            "_view_module_version": "1.2.0",
            "grid_template_areas": null,
            "object_position": null,
            "object_fit": null,
            "grid_auto_columns": null,
            "margin": null,
            "display": null,
            "left": null
          }
        },
        "7e6bbd2751d547aaa8b29485690c3310": {
          "model_module": "@jupyter-widgets/controls",
          "model_name": "FloatProgressModel",
          "model_module_version": "1.5.0",
          "state": {
            "_view_name": "ProgressView",
            "style": "IPY_MODEL_f3cfde99c7884539b80c114f0dd9c245",
            "_dom_classes": [],
            "description": "Downloading: 100%",
            "_model_name": "FloatProgressModel",
            "bar_style": "success",
            "max": 25,
            "_view_module": "@jupyter-widgets/controls",
            "_model_module_version": "1.5.0",
            "value": 25,
            "_view_count": null,
            "_view_module_version": "1.5.0",
            "orientation": "horizontal",
            "min": 0,
            "description_tooltip": null,
            "_model_module": "@jupyter-widgets/controls",
            "layout": "IPY_MODEL_e05e745c454a46acbe025e97614910cc"
          }
        },
        "a091c0659f694f64a8ee5fcb49f8db25": {
          "model_module": "@jupyter-widgets/controls",
          "model_name": "HTMLModel",
          "model_module_version": "1.5.0",
          "state": {
            "_view_name": "HTMLView",
            "style": "IPY_MODEL_e1812af986fc419188d8b2c059aa25f8",
            "_dom_classes": [],
            "description": "",
            "_model_name": "HTMLModel",
            "placeholder": "​",
            "_view_module": "@jupyter-widgets/controls",
            "_model_module_version": "1.5.0",
            "value": " 25.0/25.0 [00:03&lt;00:00, 8.05B/s]",
            "_view_count": null,
            "_view_module_version": "1.5.0",
            "description_tooltip": null,
            "_model_module": "@jupyter-widgets/controls",
            "layout": "IPY_MODEL_858e702d31fc431da19e109864adcfbd"
          }
        },
        "f3cfde99c7884539b80c114f0dd9c245": {
          "model_module": "@jupyter-widgets/controls",
          "model_name": "ProgressStyleModel",
          "model_module_version": "1.5.0",
          "state": {
            "_view_name": "StyleView",
            "_model_name": "ProgressStyleModel",
            "description_width": "initial",
            "_view_module": "@jupyter-widgets/base",
            "_model_module_version": "1.5.0",
            "_view_count": null,
            "_view_module_version": "1.2.0",
            "bar_color": null,
            "_model_module": "@jupyter-widgets/controls"
          }
        },
        "e05e745c454a46acbe025e97614910cc": {
          "model_module": "@jupyter-widgets/base",
          "model_name": "LayoutModel",
          "model_module_version": "1.2.0",
          "state": {
            "_view_name": "LayoutView",
            "grid_template_rows": null,
            "right": null,
            "justify_content": null,
            "_view_module": "@jupyter-widgets/base",
            "overflow": null,
            "_model_module_version": "1.2.0",
            "_view_count": null,
            "flex_flow": null,
            "width": null,
            "min_width": null,
            "border": null,
            "align_items": null,
            "bottom": null,
            "_model_module": "@jupyter-widgets/base",
            "top": null,
            "grid_column": null,
            "overflow_y": null,
            "overflow_x": null,
            "grid_auto_flow": null,
            "grid_area": null,
            "grid_template_columns": null,
            "flex": null,
            "_model_name": "LayoutModel",
            "justify_items": null,
            "grid_row": null,
            "max_height": null,
            "align_content": null,
            "visibility": null,
            "align_self": null,
            "height": null,
            "min_height": null,
            "padding": null,
            "grid_auto_rows": null,
            "grid_gap": null,
            "max_width": null,
            "order": null,
            "_view_module_version": "1.2.0",
            "grid_template_areas": null,
            "object_position": null,
            "object_fit": null,
            "grid_auto_columns": null,
            "margin": null,
            "display": null,
            "left": null
          }
        },
        "e1812af986fc419188d8b2c059aa25f8": {
          "model_module": "@jupyter-widgets/controls",
          "model_name": "DescriptionStyleModel",
          "model_module_version": "1.5.0",
          "state": {
            "_view_name": "StyleView",
            "_model_name": "DescriptionStyleModel",
            "description_width": "",
            "_view_module": "@jupyter-widgets/base",
            "_model_module_version": "1.5.0",
            "_view_count": null,
            "_view_module_version": "1.2.0",
            "_model_module": "@jupyter-widgets/controls"
          }
        },
        "858e702d31fc431da19e109864adcfbd": {
          "model_module": "@jupyter-widgets/base",
          "model_name": "LayoutModel",
          "model_module_version": "1.2.0",
          "state": {
            "_view_name": "LayoutView",
            "grid_template_rows": null,
            "right": null,
            "justify_content": null,
            "_view_module": "@jupyter-widgets/base",
            "overflow": null,
            "_model_module_version": "1.2.0",
            "_view_count": null,
            "flex_flow": null,
            "width": null,
            "min_width": null,
            "border": null,
            "align_items": null,
            "bottom": null,
            "_model_module": "@jupyter-widgets/base",
            "top": null,
            "grid_column": null,
            "overflow_y": null,
            "overflow_x": null,
            "grid_auto_flow": null,
            "grid_area": null,
            "grid_template_columns": null,
            "flex": null,
            "_model_name": "LayoutModel",
            "justify_items": null,
            "grid_row": null,
            "max_height": null,
            "align_content": null,
            "visibility": null,
            "align_self": null,
            "height": null,
            "min_height": null,
            "padding": null,
            "grid_auto_rows": null,
            "grid_gap": null,
            "max_width": null,
            "order": null,
            "_view_module_version": "1.2.0",
            "grid_template_areas": null,
            "object_position": null,
            "object_fit": null,
            "grid_auto_columns": null,
            "margin": null,
            "display": null,
            "left": null
          }
        },
        "3f5a020f629945b8b07f7888e1e2549e": {
          "model_module": "@jupyter-widgets/controls",
          "model_name": "HBoxModel",
          "model_module_version": "1.5.0",
          "state": {
            "_view_name": "HBoxView",
            "_dom_classes": [],
            "_model_name": "HBoxModel",
            "_view_module": "@jupyter-widgets/controls",
            "_model_module_version": "1.5.0",
            "_view_count": null,
            "_view_module_version": "1.5.0",
            "box_style": "",
            "layout": "IPY_MODEL_09b963286a6745b4adb2f2f564472eea",
            "_model_module": "@jupyter-widgets/controls",
            "children": [
              "IPY_MODEL_817e70cf58374839b429057700105a7d",
              "IPY_MODEL_af0c6894dc1a42208af00fd1ba2bf308"
            ]
          }
        },
        "09b963286a6745b4adb2f2f564472eea": {
          "model_module": "@jupyter-widgets/base",
          "model_name": "LayoutModel",
          "model_module_version": "1.2.0",
          "state": {
            "_view_name": "LayoutView",
            "grid_template_rows": null,
            "right": null,
            "justify_content": null,
            "_view_module": "@jupyter-widgets/base",
            "overflow": null,
            "_model_module_version": "1.2.0",
            "_view_count": null,
            "flex_flow": null,
            "width": null,
            "min_width": null,
            "border": null,
            "align_items": null,
            "bottom": null,
            "_model_module": "@jupyter-widgets/base",
            "top": null,
            "grid_column": null,
            "overflow_y": null,
            "overflow_x": null,
            "grid_auto_flow": null,
            "grid_area": null,
            "grid_template_columns": null,
            "flex": null,
            "_model_name": "LayoutModel",
            "justify_items": null,
            "grid_row": null,
            "max_height": null,
            "align_content": null,
            "visibility": null,
            "align_self": null,
            "height": null,
            "min_height": null,
            "padding": null,
            "grid_auto_rows": null,
            "grid_gap": null,
            "max_width": null,
            "order": null,
            "_view_module_version": "1.2.0",
            "grid_template_areas": null,
            "object_position": null,
            "object_fit": null,
            "grid_auto_columns": null,
            "margin": null,
            "display": null,
            "left": null
          }
        },
        "817e70cf58374839b429057700105a7d": {
          "model_module": "@jupyter-widgets/controls",
          "model_name": "FloatProgressModel",
          "model_module_version": "1.5.0",
          "state": {
            "_view_name": "ProgressView",
            "style": "IPY_MODEL_f26548f34a6941c4ad4928de60470b40",
            "_dom_classes": [],
            "description": "Downloading: 100%",
            "_model_name": "FloatProgressModel",
            "bar_style": "success",
            "max": 760289,
            "_view_module": "@jupyter-widgets/controls",
            "_model_module_version": "1.5.0",
            "value": 760289,
            "_view_count": null,
            "_view_module_version": "1.5.0",
            "orientation": "horizontal",
            "min": 0,
            "description_tooltip": null,
            "_model_module": "@jupyter-widgets/controls",
            "layout": "IPY_MODEL_c80a39e3d2f94ec6bd874e1c1c71a5b1"
          }
        },
        "af0c6894dc1a42208af00fd1ba2bf308": {
          "model_module": "@jupyter-widgets/controls",
          "model_name": "HTMLModel",
          "model_module_version": "1.5.0",
          "state": {
            "_view_name": "HTMLView",
            "style": "IPY_MODEL_138ecdfbe4a34e0081281ac38e93cdbd",
            "_dom_classes": [],
            "description": "",
            "_model_name": "HTMLModel",
            "placeholder": "​",
            "_view_module": "@jupyter-widgets/controls",
            "_model_module_version": "1.5.0",
            "value": " 742k/742k [00:06&lt;00:00, 121kB/s]",
            "_view_count": null,
            "_view_module_version": "1.5.0",
            "description_tooltip": null,
            "_model_module": "@jupyter-widgets/controls",
            "layout": "IPY_MODEL_8ca934ccedea489ca444f3cfa476c851"
          }
        },
        "f26548f34a6941c4ad4928de60470b40": {
          "model_module": "@jupyter-widgets/controls",
          "model_name": "ProgressStyleModel",
          "model_module_version": "1.5.0",
          "state": {
            "_view_name": "StyleView",
            "_model_name": "ProgressStyleModel",
            "description_width": "initial",
            "_view_module": "@jupyter-widgets/base",
            "_model_module_version": "1.5.0",
            "_view_count": null,
            "_view_module_version": "1.2.0",
            "bar_color": null,
            "_model_module": "@jupyter-widgets/controls"
          }
        },
        "c80a39e3d2f94ec6bd874e1c1c71a5b1": {
          "model_module": "@jupyter-widgets/base",
          "model_name": "LayoutModel",
          "model_module_version": "1.2.0",
          "state": {
            "_view_name": "LayoutView",
            "grid_template_rows": null,
            "right": null,
            "justify_content": null,
            "_view_module": "@jupyter-widgets/base",
            "overflow": null,
            "_model_module_version": "1.2.0",
            "_view_count": null,
            "flex_flow": null,
            "width": null,
            "min_width": null,
            "border": null,
            "align_items": null,
            "bottom": null,
            "_model_module": "@jupyter-widgets/base",
            "top": null,
            "grid_column": null,
            "overflow_y": null,
            "overflow_x": null,
            "grid_auto_flow": null,
            "grid_area": null,
            "grid_template_columns": null,
            "flex": null,
            "_model_name": "LayoutModel",
            "justify_items": null,
            "grid_row": null,
            "max_height": null,
            "align_content": null,
            "visibility": null,
            "align_self": null,
            "height": null,
            "min_height": null,
            "padding": null,
            "grid_auto_rows": null,
            "grid_gap": null,
            "max_width": null,
            "order": null,
            "_view_module_version": "1.2.0",
            "grid_template_areas": null,
            "object_position": null,
            "object_fit": null,
            "grid_auto_columns": null,
            "margin": null,
            "display": null,
            "left": null
          }
        },
        "138ecdfbe4a34e0081281ac38e93cdbd": {
          "model_module": "@jupyter-widgets/controls",
          "model_name": "DescriptionStyleModel",
          "model_module_version": "1.5.0",
          "state": {
            "_view_name": "StyleView",
            "_model_name": "DescriptionStyleModel",
            "description_width": "",
            "_view_module": "@jupyter-widgets/base",
            "_model_module_version": "1.5.0",
            "_view_count": null,
            "_view_module_version": "1.2.0",
            "_model_module": "@jupyter-widgets/controls"
          }
        },
        "8ca934ccedea489ca444f3cfa476c851": {
          "model_module": "@jupyter-widgets/base",
          "model_name": "LayoutModel",
          "model_module_version": "1.2.0",
          "state": {
            "_view_name": "LayoutView",
            "grid_template_rows": null,
            "right": null,
            "justify_content": null,
            "_view_module": "@jupyter-widgets/base",
            "overflow": null,
            "_model_module_version": "1.2.0",
            "_view_count": null,
            "flex_flow": null,
            "width": null,
            "min_width": null,
            "border": null,
            "align_items": null,
            "bottom": null,
            "_model_module": "@jupyter-widgets/base",
            "top": null,
            "grid_column": null,
            "overflow_y": null,
            "overflow_x": null,
            "grid_auto_flow": null,
            "grid_area": null,
            "grid_template_columns": null,
            "flex": null,
            "_model_name": "LayoutModel",
            "justify_items": null,
            "grid_row": null,
            "max_height": null,
            "align_content": null,
            "visibility": null,
            "align_self": null,
            "height": null,
            "min_height": null,
            "padding": null,
            "grid_auto_rows": null,
            "grid_gap": null,
            "max_width": null,
            "order": null,
            "_view_module_version": "1.2.0",
            "grid_template_areas": null,
            "object_position": null,
            "object_fit": null,
            "grid_auto_columns": null,
            "margin": null,
            "display": null,
            "left": null
          }
        },
        "1aeffff66e60470eae9dec947dcc457d": {
          "model_module": "@jupyter-widgets/controls",
          "model_name": "HBoxModel",
          "model_module_version": "1.5.0",
          "state": {
            "_view_name": "HBoxView",
            "_dom_classes": [],
            "_model_name": "HBoxModel",
            "_view_module": "@jupyter-widgets/controls",
            "_model_module_version": "1.5.0",
            "_view_count": null,
            "_view_module_version": "1.5.0",
            "box_style": "",
            "layout": "IPY_MODEL_0006ef7ccda444539aed00318c20b4cc",
            "_model_module": "@jupyter-widgets/controls",
            "children": [
              "IPY_MODEL_df8d46a0f96347c28412fc85a645183b",
              "IPY_MODEL_1c8f654e4b2942ed8ee8af9d502f1f1d"
            ]
          }
        },
        "0006ef7ccda444539aed00318c20b4cc": {
          "model_module": "@jupyter-widgets/base",
          "model_name": "LayoutModel",
          "model_module_version": "1.2.0",
          "state": {
            "_view_name": "LayoutView",
            "grid_template_rows": null,
            "right": null,
            "justify_content": null,
            "_view_module": "@jupyter-widgets/base",
            "overflow": null,
            "_model_module_version": "1.2.0",
            "_view_count": null,
            "flex_flow": null,
            "width": null,
            "min_width": null,
            "border": null,
            "align_items": null,
            "bottom": null,
            "_model_module": "@jupyter-widgets/base",
            "top": null,
            "grid_column": null,
            "overflow_y": null,
            "overflow_x": null,
            "grid_auto_flow": null,
            "grid_area": null,
            "grid_template_columns": null,
            "flex": null,
            "_model_name": "LayoutModel",
            "justify_items": null,
            "grid_row": null,
            "max_height": null,
            "align_content": null,
            "visibility": null,
            "align_self": null,
            "height": null,
            "min_height": null,
            "padding": null,
            "grid_auto_rows": null,
            "grid_gap": null,
            "max_width": null,
            "order": null,
            "_view_module_version": "1.2.0",
            "grid_template_areas": null,
            "object_position": null,
            "object_fit": null,
            "grid_auto_columns": null,
            "margin": null,
            "display": null,
            "left": null
          }
        },
        "df8d46a0f96347c28412fc85a645183b": {
          "model_module": "@jupyter-widgets/controls",
          "model_name": "FloatProgressModel",
          "model_module_version": "1.5.0",
          "state": {
            "_view_name": "ProgressView",
            "style": "IPY_MODEL_abf6ad63a6dc4b6c89db8f79a8e66dc8",
            "_dom_classes": [],
            "description": "Downloading: 100%",
            "_model_name": "FloatProgressModel",
            "bar_style": "success",
            "max": 156,
            "_view_module": "@jupyter-widgets/controls",
            "_model_module_version": "1.5.0",
            "value": 156,
            "_view_count": null,
            "_view_module_version": "1.5.0",
            "orientation": "horizontal",
            "min": 0,
            "description_tooltip": null,
            "_model_module": "@jupyter-widgets/controls",
            "layout": "IPY_MODEL_a82984bbb35a40bdb9bb9710960ebb84"
          }
        },
        "1c8f654e4b2942ed8ee8af9d502f1f1d": {
          "model_module": "@jupyter-widgets/controls",
          "model_name": "HTMLModel",
          "model_module_version": "1.5.0",
          "state": {
            "_view_name": "HTMLView",
            "style": "IPY_MODEL_b076a07b52f24a21b1e0ffc437a2975c",
            "_dom_classes": [],
            "description": "",
            "_model_name": "HTMLModel",
            "placeholder": "​",
            "_view_module": "@jupyter-widgets/controls",
            "_model_module_version": "1.5.0",
            "value": " 156/156 [00:02&lt;00:00, 66.5B/s]",
            "_view_count": null,
            "_view_module_version": "1.5.0",
            "description_tooltip": null,
            "_model_module": "@jupyter-widgets/controls",
            "layout": "IPY_MODEL_49263b37662e44889071985d82099ff7"
          }
        },
        "abf6ad63a6dc4b6c89db8f79a8e66dc8": {
          "model_module": "@jupyter-widgets/controls",
          "model_name": "ProgressStyleModel",
          "model_module_version": "1.5.0",
          "state": {
            "_view_name": "StyleView",
            "_model_name": "ProgressStyleModel",
            "description_width": "initial",
            "_view_module": "@jupyter-widgets/base",
            "_model_module_version": "1.5.0",
            "_view_count": null,
            "_view_module_version": "1.2.0",
            "bar_color": null,
            "_model_module": "@jupyter-widgets/controls"
          }
        },
        "a82984bbb35a40bdb9bb9710960ebb84": {
          "model_module": "@jupyter-widgets/base",
          "model_name": "LayoutModel",
          "model_module_version": "1.2.0",
          "state": {
            "_view_name": "LayoutView",
            "grid_template_rows": null,
            "right": null,
            "justify_content": null,
            "_view_module": "@jupyter-widgets/base",
            "overflow": null,
            "_model_module_version": "1.2.0",
            "_view_count": null,
            "flex_flow": null,
            "width": null,
            "min_width": null,
            "border": null,
            "align_items": null,
            "bottom": null,
            "_model_module": "@jupyter-widgets/base",
            "top": null,
            "grid_column": null,
            "overflow_y": null,
            "overflow_x": null,
            "grid_auto_flow": null,
            "grid_area": null,
            "grid_template_columns": null,
            "flex": null,
            "_model_name": "LayoutModel",
            "justify_items": null,
            "grid_row": null,
            "max_height": null,
            "align_content": null,
            "visibility": null,
            "align_self": null,
            "height": null,
            "min_height": null,
            "padding": null,
            "grid_auto_rows": null,
            "grid_gap": null,
            "max_width": null,
            "order": null,
            "_view_module_version": "1.2.0",
            "grid_template_areas": null,
            "object_position": null,
            "object_fit": null,
            "grid_auto_columns": null,
            "margin": null,
            "display": null,
            "left": null
          }
        },
        "b076a07b52f24a21b1e0ffc437a2975c": {
          "model_module": "@jupyter-widgets/controls",
          "model_name": "DescriptionStyleModel",
          "model_module_version": "1.5.0",
          "state": {
            "_view_name": "StyleView",
            "_model_name": "DescriptionStyleModel",
            "description_width": "",
            "_view_module": "@jupyter-widgets/base",
            "_model_module_version": "1.5.0",
            "_view_count": null,
            "_view_module_version": "1.2.0",
            "_model_module": "@jupyter-widgets/controls"
          }
        },
        "49263b37662e44889071985d82099ff7": {
          "model_module": "@jupyter-widgets/base",
          "model_name": "LayoutModel",
          "model_module_version": "1.2.0",
          "state": {
            "_view_name": "LayoutView",
            "grid_template_rows": null,
            "right": null,
            "justify_content": null,
            "_view_module": "@jupyter-widgets/base",
            "overflow": null,
            "_model_module_version": "1.2.0",
            "_view_count": null,
            "flex_flow": null,
            "width": null,
            "min_width": null,
            "border": null,
            "align_items": null,
            "bottom": null,
            "_model_module": "@jupyter-widgets/base",
            "top": null,
            "grid_column": null,
            "overflow_y": null,
            "overflow_x": null,
            "grid_auto_flow": null,
            "grid_area": null,
            "grid_template_columns": null,
            "flex": null,
            "_model_name": "LayoutModel",
            "justify_items": null,
            "grid_row": null,
            "max_height": null,
            "align_content": null,
            "visibility": null,
            "align_self": null,
            "height": null,
            "min_height": null,
            "padding": null,
            "grid_auto_rows": null,
            "grid_gap": null,
            "max_width": null,
            "order": null,
            "_view_module_version": "1.2.0",
            "grid_template_areas": null,
            "object_position": null,
            "object_fit": null,
            "grid_auto_columns": null,
            "margin": null,
            "display": null,
            "left": null
          }
        },
        "8d09b0b7dde0414faf306f04308a6e06": {
          "model_module": "@jupyter-widgets/controls",
          "model_name": "HBoxModel",
          "model_module_version": "1.5.0",
          "state": {
            "_view_name": "HBoxView",
            "_dom_classes": [],
            "_model_name": "HBoxModel",
            "_view_module": "@jupyter-widgets/controls",
            "_model_module_version": "1.5.0",
            "_view_count": null,
            "_view_module_version": "1.5.0",
            "box_style": "",
            "layout": "IPY_MODEL_74dd7f8873a542b79dbf4bb31486c517",
            "_model_module": "@jupyter-widgets/controls",
            "children": [
              "IPY_MODEL_119aff5953494ec4b5f4eeebb47f20ae",
              "IPY_MODEL_29cbff8db279451580428d1d602369c4"
            ]
          }
        },
        "74dd7f8873a542b79dbf4bb31486c517": {
          "model_module": "@jupyter-widgets/base",
          "model_name": "LayoutModel",
          "model_module_version": "1.2.0",
          "state": {
            "_view_name": "LayoutView",
            "grid_template_rows": null,
            "right": null,
            "justify_content": null,
            "_view_module": "@jupyter-widgets/base",
            "overflow": null,
            "_model_module_version": "1.2.0",
            "_view_count": null,
            "flex_flow": null,
            "width": null,
            "min_width": null,
            "border": null,
            "align_items": null,
            "bottom": null,
            "_model_module": "@jupyter-widgets/base",
            "top": null,
            "grid_column": null,
            "overflow_y": null,
            "overflow_x": null,
            "grid_auto_flow": null,
            "grid_area": null,
            "grid_template_columns": null,
            "flex": null,
            "_model_name": "LayoutModel",
            "justify_items": null,
            "grid_row": null,
            "max_height": null,
            "align_content": null,
            "visibility": null,
            "align_self": null,
            "height": null,
            "min_height": null,
            "padding": null,
            "grid_auto_rows": null,
            "grid_gap": null,
            "max_width": null,
            "order": null,
            "_view_module_version": "1.2.0",
            "grid_template_areas": null,
            "object_position": null,
            "object_fit": null,
            "grid_auto_columns": null,
            "margin": null,
            "display": null,
            "left": null
          }
        },
        "119aff5953494ec4b5f4eeebb47f20ae": {
          "model_module": "@jupyter-widgets/controls",
          "model_name": "FloatProgressModel",
          "model_module_version": "1.5.0",
          "state": {
            "_view_name": "ProgressView",
            "style": "IPY_MODEL_cc688e05cd6345a7a8b534cc880894d2",
            "_dom_classes": [],
            "description": "Downloading: ",
            "_model_name": "FloatProgressModel",
            "bar_style": "success",
            "max": 1895,
            "_view_module": "@jupyter-widgets/controls",
            "_model_module_version": "1.5.0",
            "value": 1895,
            "_view_count": null,
            "_view_module_version": "1.5.0",
            "orientation": "horizontal",
            "min": 0,
            "description_tooltip": null,
            "_model_module": "@jupyter-widgets/controls",
            "layout": "IPY_MODEL_85c381a00f6e4839add2dec4c56ea496"
          }
        },
        "29cbff8db279451580428d1d602369c4": {
          "model_module": "@jupyter-widgets/controls",
          "model_name": "HTMLModel",
          "model_module_version": "1.5.0",
          "state": {
            "_view_name": "HTMLView",
            "style": "IPY_MODEL_4822b6683adc418dabf09bbfb8062b10",
            "_dom_classes": [],
            "description": "",
            "_model_name": "HTMLModel",
            "placeholder": "​",
            "_view_module": "@jupyter-widgets/controls",
            "_model_module_version": "1.5.0",
            "value": " 5.04k/? [00:00&lt;00:00, 10.2kB/s]",
            "_view_count": null,
            "_view_module_version": "1.5.0",
            "description_tooltip": null,
            "_model_module": "@jupyter-widgets/controls",
            "layout": "IPY_MODEL_e0fbbd3372ec403887da0faeafa2d81e"
          }
        },
        "cc688e05cd6345a7a8b534cc880894d2": {
          "model_module": "@jupyter-widgets/controls",
          "model_name": "ProgressStyleModel",
          "model_module_version": "1.5.0",
          "state": {
            "_view_name": "StyleView",
            "_model_name": "ProgressStyleModel",
            "description_width": "initial",
            "_view_module": "@jupyter-widgets/base",
            "_model_module_version": "1.5.0",
            "_view_count": null,
            "_view_module_version": "1.2.0",
            "bar_color": null,
            "_model_module": "@jupyter-widgets/controls"
          }
        },
        "85c381a00f6e4839add2dec4c56ea496": {
          "model_module": "@jupyter-widgets/base",
          "model_name": "LayoutModel",
          "model_module_version": "1.2.0",
          "state": {
            "_view_name": "LayoutView",
            "grid_template_rows": null,
            "right": null,
            "justify_content": null,
            "_view_module": "@jupyter-widgets/base",
            "overflow": null,
            "_model_module_version": "1.2.0",
            "_view_count": null,
            "flex_flow": null,
            "width": null,
            "min_width": null,
            "border": null,
            "align_items": null,
            "bottom": null,
            "_model_module": "@jupyter-widgets/base",
            "top": null,
            "grid_column": null,
            "overflow_y": null,
            "overflow_x": null,
            "grid_auto_flow": null,
            "grid_area": null,
            "grid_template_columns": null,
            "flex": null,
            "_model_name": "LayoutModel",
            "justify_items": null,
            "grid_row": null,
            "max_height": null,
            "align_content": null,
            "visibility": null,
            "align_self": null,
            "height": null,
            "min_height": null,
            "padding": null,
            "grid_auto_rows": null,
            "grid_gap": null,
            "max_width": null,
            "order": null,
            "_view_module_version": "1.2.0",
            "grid_template_areas": null,
            "object_position": null,
            "object_fit": null,
            "grid_auto_columns": null,
            "margin": null,
            "display": null,
            "left": null
          }
        },
        "4822b6683adc418dabf09bbfb8062b10": {
          "model_module": "@jupyter-widgets/controls",
          "model_name": "DescriptionStyleModel",
          "model_module_version": "1.5.0",
          "state": {
            "_view_name": "StyleView",
            "_model_name": "DescriptionStyleModel",
            "description_width": "",
            "_view_module": "@jupyter-widgets/base",
            "_model_module_version": "1.5.0",
            "_view_count": null,
            "_view_module_version": "1.2.0",
            "_model_module": "@jupyter-widgets/controls"
          }
        },
        "e0fbbd3372ec403887da0faeafa2d81e": {
          "model_module": "@jupyter-widgets/base",
          "model_name": "LayoutModel",
          "model_module_version": "1.2.0",
          "state": {
            "_view_name": "LayoutView",
            "grid_template_rows": null,
            "right": null,
            "justify_content": null,
            "_view_module": "@jupyter-widgets/base",
            "overflow": null,
            "_model_module_version": "1.2.0",
            "_view_count": null,
            "flex_flow": null,
            "width": null,
            "min_width": null,
            "border": null,
            "align_items": null,
            "bottom": null,
            "_model_module": "@jupyter-widgets/base",
            "top": null,
            "grid_column": null,
            "overflow_y": null,
            "overflow_x": null,
            "grid_auto_flow": null,
            "grid_area": null,
            "grid_template_columns": null,
            "flex": null,
            "_model_name": "LayoutModel",
            "justify_items": null,
            "grid_row": null,
            "max_height": null,
            "align_content": null,
            "visibility": null,
            "align_self": null,
            "height": null,
            "min_height": null,
            "padding": null,
            "grid_auto_rows": null,
            "grid_gap": null,
            "max_width": null,
            "order": null,
            "_view_module_version": "1.2.0",
            "grid_template_areas": null,
            "object_position": null,
            "object_fit": null,
            "grid_auto_columns": null,
            "margin": null,
            "display": null,
            "left": null
          }
        },
        "478dee9784c044908026f1dfdcc0c2e5": {
          "model_module": "@jupyter-widgets/controls",
          "model_name": "HBoxModel",
          "model_module_version": "1.5.0",
          "state": {
            "_view_name": "HBoxView",
            "_dom_classes": [],
            "_model_name": "HBoxModel",
            "_view_module": "@jupyter-widgets/controls",
            "_model_module_version": "1.5.0",
            "_view_count": null,
            "_view_module_version": "1.5.0",
            "box_style": "",
            "layout": "IPY_MODEL_bf2c82ebbf884642803bb91e3607b7de",
            "_model_module": "@jupyter-widgets/controls",
            "children": [
              "IPY_MODEL_ea87ad1c24924feb864dec7223f2e238",
              "IPY_MODEL_b530df60db004fe4bad8724de9ea6e30"
            ]
          }
        },
        "bf2c82ebbf884642803bb91e3607b7de": {
          "model_module": "@jupyter-widgets/base",
          "model_name": "LayoutModel",
          "model_module_version": "1.2.0",
          "state": {
            "_view_name": "LayoutView",
            "grid_template_rows": null,
            "right": null,
            "justify_content": null,
            "_view_module": "@jupyter-widgets/base",
            "overflow": null,
            "_model_module_version": "1.2.0",
            "_view_count": null,
            "flex_flow": null,
            "width": null,
            "min_width": null,
            "border": null,
            "align_items": null,
            "bottom": null,
            "_model_module": "@jupyter-widgets/base",
            "top": null,
            "grid_column": null,
            "overflow_y": null,
            "overflow_x": null,
            "grid_auto_flow": null,
            "grid_area": null,
            "grid_template_columns": null,
            "flex": null,
            "_model_name": "LayoutModel",
            "justify_items": null,
            "grid_row": null,
            "max_height": null,
            "align_content": null,
            "visibility": null,
            "align_self": null,
            "height": null,
            "min_height": null,
            "padding": null,
            "grid_auto_rows": null,
            "grid_gap": null,
            "max_width": null,
            "order": null,
            "_view_module_version": "1.2.0",
            "grid_template_areas": null,
            "object_position": null,
            "object_fit": null,
            "grid_auto_columns": null,
            "margin": null,
            "display": null,
            "left": null
          }
        },
        "ea87ad1c24924feb864dec7223f2e238": {
          "model_module": "@jupyter-widgets/controls",
          "model_name": "FloatProgressModel",
          "model_module_version": "1.5.0",
          "state": {
            "_view_name": "ProgressView",
            "style": "IPY_MODEL_aa4dcaa707e145d8a2ff6bc4c0fb5036",
            "_dom_classes": [],
            "description": "Downloading: ",
            "_model_name": "FloatProgressModel",
            "bar_style": "success",
            "max": 869,
            "_view_module": "@jupyter-widgets/controls",
            "_model_module_version": "1.5.0",
            "value": 869,
            "_view_count": null,
            "_view_module_version": "1.5.0",
            "orientation": "horizontal",
            "min": 0,
            "description_tooltip": null,
            "_model_module": "@jupyter-widgets/controls",
            "layout": "IPY_MODEL_526373f8dfdd49d797c4339d1153cad2"
          }
        },
        "b530df60db004fe4bad8724de9ea6e30": {
          "model_module": "@jupyter-widgets/controls",
          "model_name": "HTMLModel",
          "model_module_version": "1.5.0",
          "state": {
            "_view_name": "HTMLView",
            "style": "IPY_MODEL_3c0fafef4de241329d7815f3c5661c7b",
            "_dom_classes": [],
            "description": "",
            "_model_name": "HTMLModel",
            "placeholder": "​",
            "_view_module": "@jupyter-widgets/controls",
            "_model_module_version": "1.5.0",
            "value": " 1.88k/? [00:01&lt;00:00, 1.34kB/s]",
            "_view_count": null,
            "_view_module_version": "1.5.0",
            "description_tooltip": null,
            "_model_module": "@jupyter-widgets/controls",
            "layout": "IPY_MODEL_958329898f26460fb460cc770fe68052"
          }
        },
        "aa4dcaa707e145d8a2ff6bc4c0fb5036": {
          "model_module": "@jupyter-widgets/controls",
          "model_name": "ProgressStyleModel",
          "model_module_version": "1.5.0",
          "state": {
            "_view_name": "StyleView",
            "_model_name": "ProgressStyleModel",
            "description_width": "initial",
            "_view_module": "@jupyter-widgets/base",
            "_model_module_version": "1.5.0",
            "_view_count": null,
            "_view_module_version": "1.2.0",
            "bar_color": null,
            "_model_module": "@jupyter-widgets/controls"
          }
        },
        "526373f8dfdd49d797c4339d1153cad2": {
          "model_module": "@jupyter-widgets/base",
          "model_name": "LayoutModel",
          "model_module_version": "1.2.0",
          "state": {
            "_view_name": "LayoutView",
            "grid_template_rows": null,
            "right": null,
            "justify_content": null,
            "_view_module": "@jupyter-widgets/base",
            "overflow": null,
            "_model_module_version": "1.2.0",
            "_view_count": null,
            "flex_flow": null,
            "width": null,
            "min_width": null,
            "border": null,
            "align_items": null,
            "bottom": null,
            "_model_module": "@jupyter-widgets/base",
            "top": null,
            "grid_column": null,
            "overflow_y": null,
            "overflow_x": null,
            "grid_auto_flow": null,
            "grid_area": null,
            "grid_template_columns": null,
            "flex": null,
            "_model_name": "LayoutModel",
            "justify_items": null,
            "grid_row": null,
            "max_height": null,
            "align_content": null,
            "visibility": null,
            "align_self": null,
            "height": null,
            "min_height": null,
            "padding": null,
            "grid_auto_rows": null,
            "grid_gap": null,
            "max_width": null,
            "order": null,
            "_view_module_version": "1.2.0",
            "grid_template_areas": null,
            "object_position": null,
            "object_fit": null,
            "grid_auto_columns": null,
            "margin": null,
            "display": null,
            "left": null
          }
        },
        "3c0fafef4de241329d7815f3c5661c7b": {
          "model_module": "@jupyter-widgets/controls",
          "model_name": "DescriptionStyleModel",
          "model_module_version": "1.5.0",
          "state": {
            "_view_name": "StyleView",
            "_model_name": "DescriptionStyleModel",
            "description_width": "",
            "_view_module": "@jupyter-widgets/base",
            "_model_module_version": "1.5.0",
            "_view_count": null,
            "_view_module_version": "1.2.0",
            "_model_module": "@jupyter-widgets/controls"
          }
        },
        "958329898f26460fb460cc770fe68052": {
          "model_module": "@jupyter-widgets/base",
          "model_name": "LayoutModel",
          "model_module_version": "1.2.0",
          "state": {
            "_view_name": "LayoutView",
            "grid_template_rows": null,
            "right": null,
            "justify_content": null,
            "_view_module": "@jupyter-widgets/base",
            "overflow": null,
            "_model_module_version": "1.2.0",
            "_view_count": null,
            "flex_flow": null,
            "width": null,
            "min_width": null,
            "border": null,
            "align_items": null,
            "bottom": null,
            "_model_module": "@jupyter-widgets/base",
            "top": null,
            "grid_column": null,
            "overflow_y": null,
            "overflow_x": null,
            "grid_auto_flow": null,
            "grid_area": null,
            "grid_template_columns": null,
            "flex": null,
            "_model_name": "LayoutModel",
            "justify_items": null,
            "grid_row": null,
            "max_height": null,
            "align_content": null,
            "visibility": null,
            "align_self": null,
            "height": null,
            "min_height": null,
            "padding": null,
            "grid_auto_rows": null,
            "grid_gap": null,
            "max_width": null,
            "order": null,
            "_view_module_version": "1.2.0",
            "grid_template_areas": null,
            "object_position": null,
            "object_fit": null,
            "grid_auto_columns": null,
            "margin": null,
            "display": null,
            "left": null
          }
        },
        "0ff58c806d2341e7b5542daff135240d": {
          "model_module": "@jupyter-widgets/controls",
          "model_name": "HBoxModel",
          "model_module_version": "1.5.0",
          "state": {
            "_view_name": "HBoxView",
            "_dom_classes": [],
            "_model_name": "HBoxModel",
            "_view_module": "@jupyter-widgets/controls",
            "_model_module_version": "1.5.0",
            "_view_count": null,
            "_view_module_version": "1.5.0",
            "box_style": "",
            "layout": "IPY_MODEL_676bdcd24a2042ebadac4a3127d1c9ab",
            "_model_module": "@jupyter-widgets/controls",
            "children": [
              "IPY_MODEL_12632af063834aa5b8f0afec9fb14b2d",
              "IPY_MODEL_c4b2f87ccc9f4239af19cd70526a7b50"
            ]
          }
        },
        "676bdcd24a2042ebadac4a3127d1c9ab": {
          "model_module": "@jupyter-widgets/base",
          "model_name": "LayoutModel",
          "model_module_version": "1.2.0",
          "state": {
            "_view_name": "LayoutView",
            "grid_template_rows": null,
            "right": null,
            "justify_content": null,
            "_view_module": "@jupyter-widgets/base",
            "overflow": null,
            "_model_module_version": "1.2.0",
            "_view_count": null,
            "flex_flow": null,
            "width": null,
            "min_width": null,
            "border": null,
            "align_items": null,
            "bottom": null,
            "_model_module": "@jupyter-widgets/base",
            "top": null,
            "grid_column": null,
            "overflow_y": null,
            "overflow_x": null,
            "grid_auto_flow": null,
            "grid_area": null,
            "grid_template_columns": null,
            "flex": null,
            "_model_name": "LayoutModel",
            "justify_items": null,
            "grid_row": null,
            "max_height": null,
            "align_content": null,
            "visibility": null,
            "align_self": null,
            "height": null,
            "min_height": null,
            "padding": null,
            "grid_auto_rows": null,
            "grid_gap": null,
            "max_width": null,
            "order": null,
            "_view_module_version": "1.2.0",
            "grid_template_areas": null,
            "object_position": null,
            "object_fit": null,
            "grid_auto_columns": null,
            "margin": null,
            "display": null,
            "left": null
          }
        },
        "12632af063834aa5b8f0afec9fb14b2d": {
          "model_module": "@jupyter-widgets/controls",
          "model_name": "FloatProgressModel",
          "model_module_version": "1.5.0",
          "state": {
            "_view_name": "ProgressView",
            "style": "IPY_MODEL_1104555bfcfd49cd854ac87e888d5916",
            "_dom_classes": [],
            "description": "Downloading: 100%",
            "_model_name": "FloatProgressModel",
            "bar_style": "success",
            "max": 487770,
            "_view_module": "@jupyter-widgets/controls",
            "_model_module_version": "1.5.0",
            "value": 487770,
            "_view_count": null,
            "_view_module_version": "1.5.0",
            "orientation": "horizontal",
            "min": 0,
            "description_tooltip": null,
            "_model_module": "@jupyter-widgets/controls",
            "layout": "IPY_MODEL_fe0ce45077e84af08036f2b0636943a6"
          }
        },
        "c4b2f87ccc9f4239af19cd70526a7b50": {
          "model_module": "@jupyter-widgets/controls",
          "model_name": "HTMLModel",
          "model_module_version": "1.5.0",
          "state": {
            "_view_name": "HTMLView",
            "style": "IPY_MODEL_0ba310b3c3914b38b15162f5be0e9d2b",
            "_dom_classes": [],
            "description": "",
            "_model_name": "HTMLModel",
            "placeholder": "​",
            "_view_module": "@jupyter-widgets/controls",
            "_model_module_version": "1.5.0",
            "value": " 488k/488k [00:00&lt;00:00, 8.32MB/s]",
            "_view_count": null,
            "_view_module_version": "1.5.0",
            "description_tooltip": null,
            "_model_module": "@jupyter-widgets/controls",
            "layout": "IPY_MODEL_50aab0d0508441e5b1a6d134115e429a"
          }
        },
        "1104555bfcfd49cd854ac87e888d5916": {
          "model_module": "@jupyter-widgets/controls",
          "model_name": "ProgressStyleModel",
          "model_module_version": "1.5.0",
          "state": {
            "_view_name": "StyleView",
            "_model_name": "ProgressStyleModel",
            "description_width": "initial",
            "_view_module": "@jupyter-widgets/base",
            "_model_module_version": "1.5.0",
            "_view_count": null,
            "_view_module_version": "1.2.0",
            "bar_color": null,
            "_model_module": "@jupyter-widgets/controls"
          }
        },
        "fe0ce45077e84af08036f2b0636943a6": {
          "model_module": "@jupyter-widgets/base",
          "model_name": "LayoutModel",
          "model_module_version": "1.2.0",
          "state": {
            "_view_name": "LayoutView",
            "grid_template_rows": null,
            "right": null,
            "justify_content": null,
            "_view_module": "@jupyter-widgets/base",
            "overflow": null,
            "_model_module_version": "1.2.0",
            "_view_count": null,
            "flex_flow": null,
            "width": null,
            "min_width": null,
            "border": null,
            "align_items": null,
            "bottom": null,
            "_model_module": "@jupyter-widgets/base",
            "top": null,
            "grid_column": null,
            "overflow_y": null,
            "overflow_x": null,
            "grid_auto_flow": null,
            "grid_area": null,
            "grid_template_columns": null,
            "flex": null,
            "_model_name": "LayoutModel",
            "justify_items": null,
            "grid_row": null,
            "max_height": null,
            "align_content": null,
            "visibility": null,
            "align_self": null,
            "height": null,
            "min_height": null,
            "padding": null,
            "grid_auto_rows": null,
            "grid_gap": null,
            "max_width": null,
            "order": null,
            "_view_module_version": "1.2.0",
            "grid_template_areas": null,
            "object_position": null,
            "object_fit": null,
            "grid_auto_columns": null,
            "margin": null,
            "display": null,
            "left": null
          }
        },
        "0ba310b3c3914b38b15162f5be0e9d2b": {
          "model_module": "@jupyter-widgets/controls",
          "model_name": "DescriptionStyleModel",
          "model_module_version": "1.5.0",
          "state": {
            "_view_name": "StyleView",
            "_model_name": "DescriptionStyleModel",
            "description_width": "",
            "_view_module": "@jupyter-widgets/base",
            "_model_module_version": "1.5.0",
            "_view_count": null,
            "_view_module_version": "1.2.0",
            "_model_module": "@jupyter-widgets/controls"
          }
        },
        "50aab0d0508441e5b1a6d134115e429a": {
          "model_module": "@jupyter-widgets/base",
          "model_name": "LayoutModel",
          "model_module_version": "1.2.0",
          "state": {
            "_view_name": "LayoutView",
            "grid_template_rows": null,
            "right": null,
            "justify_content": null,
            "_view_module": "@jupyter-widgets/base",
            "overflow": null,
            "_model_module_version": "1.2.0",
            "_view_count": null,
            "flex_flow": null,
            "width": null,
            "min_width": null,
            "border": null,
            "align_items": null,
            "bottom": null,
            "_model_module": "@jupyter-widgets/base",
            "top": null,
            "grid_column": null,
            "overflow_y": null,
            "overflow_x": null,
            "grid_auto_flow": null,
            "grid_area": null,
            "grid_template_columns": null,
            "flex": null,
            "_model_name": "LayoutModel",
            "justify_items": null,
            "grid_row": null,
            "max_height": null,
            "align_content": null,
            "visibility": null,
            "align_self": null,
            "height": null,
            "min_height": null,
            "padding": null,
            "grid_auto_rows": null,
            "grid_gap": null,
            "max_width": null,
            "order": null,
            "_view_module_version": "1.2.0",
            "grid_template_areas": null,
            "object_position": null,
            "object_fit": null,
            "grid_auto_columns": null,
            "margin": null,
            "display": null,
            "left": null
          }
        },
        "56fd3b385c9146d09b62dff4396c0d79": {
          "model_module": "@jupyter-widgets/controls",
          "model_name": "HBoxModel",
          "model_module_version": "1.5.0",
          "state": {
            "_view_name": "HBoxView",
            "_dom_classes": [],
            "_model_name": "HBoxModel",
            "_view_module": "@jupyter-widgets/controls",
            "_model_module_version": "1.5.0",
            "_view_count": null,
            "_view_module_version": "1.5.0",
            "box_style": "",
            "layout": "IPY_MODEL_b7fd7b80a9db4465bd1254ae206272e1",
            "_model_module": "@jupyter-widgets/controls",
            "children": [
              "IPY_MODEL_2d862a3729e94ad78123ef58ad978caa",
              "IPY_MODEL_a1127cf8080747da83554fbcfbb4bd7b"
            ]
          }
        },
        "b7fd7b80a9db4465bd1254ae206272e1": {
          "model_module": "@jupyter-widgets/base",
          "model_name": "LayoutModel",
          "model_module_version": "1.2.0",
          "state": {
            "_view_name": "LayoutView",
            "grid_template_rows": null,
            "right": null,
            "justify_content": null,
            "_view_module": "@jupyter-widgets/base",
            "overflow": null,
            "_model_module_version": "1.2.0",
            "_view_count": null,
            "flex_flow": null,
            "width": null,
            "min_width": null,
            "border": null,
            "align_items": null,
            "bottom": null,
            "_model_module": "@jupyter-widgets/base",
            "top": null,
            "grid_column": null,
            "overflow_y": null,
            "overflow_x": null,
            "grid_auto_flow": null,
            "grid_area": null,
            "grid_template_columns": null,
            "flex": null,
            "_model_name": "LayoutModel",
            "justify_items": null,
            "grid_row": null,
            "max_height": null,
            "align_content": null,
            "visibility": null,
            "align_self": null,
            "height": null,
            "min_height": null,
            "padding": null,
            "grid_auto_rows": null,
            "grid_gap": null,
            "max_width": null,
            "order": null,
            "_view_module_version": "1.2.0",
            "grid_template_areas": null,
            "object_position": null,
            "object_fit": null,
            "grid_auto_columns": null,
            "margin": null,
            "display": null,
            "left": null
          }
        },
        "2d862a3729e94ad78123ef58ad978caa": {
          "model_module": "@jupyter-widgets/controls",
          "model_name": "FloatProgressModel",
          "model_module_version": "1.5.0",
          "state": {
            "_view_name": "ProgressView",
            "style": "IPY_MODEL_a01c7d9bd2194115928e2a273af25610",
            "_dom_classes": [],
            "description": "",
            "_model_name": "FloatProgressModel",
            "bar_style": "info",
            "max": 1,
            "_view_module": "@jupyter-widgets/controls",
            "_model_module_version": "1.5.0",
            "value": 1,
            "_view_count": null,
            "_view_module_version": "1.5.0",
            "orientation": "horizontal",
            "min": 0,
            "description_tooltip": null,
            "_model_module": "@jupyter-widgets/controls",
            "layout": "IPY_MODEL_ef25cdee87a249328ea7e33f7dcb7f50"
          }
        },
        "a1127cf8080747da83554fbcfbb4bd7b": {
          "model_module": "@jupyter-widgets/controls",
          "model_name": "HTMLModel",
          "model_module_version": "1.5.0",
          "state": {
            "_view_name": "HTMLView",
            "style": "IPY_MODEL_d6fa73c9222d4419a4207edb3b8f38f5",
            "_dom_classes": [],
            "description": "",
            "_model_name": "HTMLModel",
            "placeholder": "​",
            "_view_module": "@jupyter-widgets/controls",
            "_model_module_version": "1.5.0",
            "value": "8530 examples [00:00, 39815.29 examples/s]",
            "_view_count": null,
            "_view_module_version": "1.5.0",
            "description_tooltip": null,
            "_model_module": "@jupyter-widgets/controls",
            "layout": "IPY_MODEL_ee3a99618d8b4b56b4881118f2b68cfe"
          }
        },
        "a01c7d9bd2194115928e2a273af25610": {
          "model_module": "@jupyter-widgets/controls",
          "model_name": "ProgressStyleModel",
          "model_module_version": "1.5.0",
          "state": {
            "_view_name": "StyleView",
            "_model_name": "ProgressStyleModel",
            "description_width": "initial",
            "_view_module": "@jupyter-widgets/base",
            "_model_module_version": "1.5.0",
            "_view_count": null,
            "_view_module_version": "1.2.0",
            "bar_color": null,
            "_model_module": "@jupyter-widgets/controls"
          }
        },
        "ef25cdee87a249328ea7e33f7dcb7f50": {
          "model_module": "@jupyter-widgets/base",
          "model_name": "LayoutModel",
          "model_module_version": "1.2.0",
          "state": {
            "_view_name": "LayoutView",
            "grid_template_rows": null,
            "right": null,
            "justify_content": null,
            "_view_module": "@jupyter-widgets/base",
            "overflow": null,
            "_model_module_version": "1.2.0",
            "_view_count": null,
            "flex_flow": null,
            "width": "20px",
            "min_width": null,
            "border": null,
            "align_items": null,
            "bottom": null,
            "_model_module": "@jupyter-widgets/base",
            "top": null,
            "grid_column": null,
            "overflow_y": null,
            "overflow_x": null,
            "grid_auto_flow": null,
            "grid_area": null,
            "grid_template_columns": null,
            "flex": null,
            "_model_name": "LayoutModel",
            "justify_items": null,
            "grid_row": null,
            "max_height": null,
            "align_content": null,
            "visibility": null,
            "align_self": null,
            "height": null,
            "min_height": null,
            "padding": null,
            "grid_auto_rows": null,
            "grid_gap": null,
            "max_width": null,
            "order": null,
            "_view_module_version": "1.2.0",
            "grid_template_areas": null,
            "object_position": null,
            "object_fit": null,
            "grid_auto_columns": null,
            "margin": null,
            "display": null,
            "left": null
          }
        },
        "d6fa73c9222d4419a4207edb3b8f38f5": {
          "model_module": "@jupyter-widgets/controls",
          "model_name": "DescriptionStyleModel",
          "model_module_version": "1.5.0",
          "state": {
            "_view_name": "StyleView",
            "_model_name": "DescriptionStyleModel",
            "description_width": "",
            "_view_module": "@jupyter-widgets/base",
            "_model_module_version": "1.5.0",
            "_view_count": null,
            "_view_module_version": "1.2.0",
            "_model_module": "@jupyter-widgets/controls"
          }
        },
        "ee3a99618d8b4b56b4881118f2b68cfe": {
          "model_module": "@jupyter-widgets/base",
          "model_name": "LayoutModel",
          "model_module_version": "1.2.0",
          "state": {
            "_view_name": "LayoutView",
            "grid_template_rows": null,
            "right": null,
            "justify_content": null,
            "_view_module": "@jupyter-widgets/base",
            "overflow": null,
            "_model_module_version": "1.2.0",
            "_view_count": null,
            "flex_flow": null,
            "width": null,
            "min_width": null,
            "border": null,
            "align_items": null,
            "bottom": null,
            "_model_module": "@jupyter-widgets/base",
            "top": null,
            "grid_column": null,
            "overflow_y": null,
            "overflow_x": null,
            "grid_auto_flow": null,
            "grid_area": null,
            "grid_template_columns": null,
            "flex": null,
            "_model_name": "LayoutModel",
            "justify_items": null,
            "grid_row": null,
            "max_height": null,
            "align_content": null,
            "visibility": null,
            "align_self": null,
            "height": null,
            "min_height": null,
            "padding": null,
            "grid_auto_rows": null,
            "grid_gap": null,
            "max_width": null,
            "order": null,
            "_view_module_version": "1.2.0",
            "grid_template_areas": null,
            "object_position": null,
            "object_fit": null,
            "grid_auto_columns": null,
            "margin": null,
            "display": null,
            "left": null
          }
        },
        "b3ca82e549ca4df9aa3289432aa78114": {
          "model_module": "@jupyter-widgets/controls",
          "model_name": "HBoxModel",
          "model_module_version": "1.5.0",
          "state": {
            "_view_name": "HBoxView",
            "_dom_classes": [],
            "_model_name": "HBoxModel",
            "_view_module": "@jupyter-widgets/controls",
            "_model_module_version": "1.5.0",
            "_view_count": null,
            "_view_module_version": "1.5.0",
            "box_style": "",
            "layout": "IPY_MODEL_a5bb526e4add4960a995cb5454f45792",
            "_model_module": "@jupyter-widgets/controls",
            "children": [
              "IPY_MODEL_e7570f7c830e442a90bad9c73719c3fa",
              "IPY_MODEL_cad31cae40e94f47b26ba185dcae0ee8"
            ]
          }
        },
        "a5bb526e4add4960a995cb5454f45792": {
          "model_module": "@jupyter-widgets/base",
          "model_name": "LayoutModel",
          "model_module_version": "1.2.0",
          "state": {
            "_view_name": "LayoutView",
            "grid_template_rows": null,
            "right": null,
            "justify_content": null,
            "_view_module": "@jupyter-widgets/base",
            "overflow": null,
            "_model_module_version": "1.2.0",
            "_view_count": null,
            "flex_flow": null,
            "width": null,
            "min_width": null,
            "border": null,
            "align_items": null,
            "bottom": null,
            "_model_module": "@jupyter-widgets/base",
            "top": null,
            "grid_column": null,
            "overflow_y": null,
            "overflow_x": null,
            "grid_auto_flow": null,
            "grid_area": null,
            "grid_template_columns": null,
            "flex": null,
            "_model_name": "LayoutModel",
            "justify_items": null,
            "grid_row": null,
            "max_height": null,
            "align_content": null,
            "visibility": null,
            "align_self": null,
            "height": null,
            "min_height": null,
            "padding": null,
            "grid_auto_rows": null,
            "grid_gap": null,
            "max_width": null,
            "order": null,
            "_view_module_version": "1.2.0",
            "grid_template_areas": null,
            "object_position": null,
            "object_fit": null,
            "grid_auto_columns": null,
            "margin": null,
            "display": null,
            "left": null
          }
        },
        "e7570f7c830e442a90bad9c73719c3fa": {
          "model_module": "@jupyter-widgets/controls",
          "model_name": "FloatProgressModel",
          "model_module_version": "1.5.0",
          "state": {
            "_view_name": "ProgressView",
            "style": "IPY_MODEL_79efd05dde6f4b90a2fa31c6ed388e10",
            "_dom_classes": [],
            "description": "",
            "_model_name": "FloatProgressModel",
            "bar_style": "info",
            "max": 1,
            "_view_module": "@jupyter-widgets/controls",
            "_model_module_version": "1.5.0",
            "value": 1,
            "_view_count": null,
            "_view_module_version": "1.5.0",
            "orientation": "horizontal",
            "min": 0,
            "description_tooltip": null,
            "_model_module": "@jupyter-widgets/controls",
            "layout": "IPY_MODEL_46720736cdb446209021c851323214a0"
          }
        },
        "cad31cae40e94f47b26ba185dcae0ee8": {
          "model_module": "@jupyter-widgets/controls",
          "model_name": "HTMLModel",
          "model_module_version": "1.5.0",
          "state": {
            "_view_name": "HTMLView",
            "style": "IPY_MODEL_303d22ee4ef64cbcb417406ea70bc966",
            "_dom_classes": [],
            "description": "",
            "_model_name": "HTMLModel",
            "placeholder": "​",
            "_view_module": "@jupyter-widgets/controls",
            "_model_module_version": "1.5.0",
            "value": "1066 examples [00:00, 20960.90 examples/s]",
            "_view_count": null,
            "_view_module_version": "1.5.0",
            "description_tooltip": null,
            "_model_module": "@jupyter-widgets/controls",
            "layout": "IPY_MODEL_0b68267b631e48f6b79b91853c2a7bbc"
          }
        },
        "79efd05dde6f4b90a2fa31c6ed388e10": {
          "model_module": "@jupyter-widgets/controls",
          "model_name": "ProgressStyleModel",
          "model_module_version": "1.5.0",
          "state": {
            "_view_name": "StyleView",
            "_model_name": "ProgressStyleModel",
            "description_width": "initial",
            "_view_module": "@jupyter-widgets/base",
            "_model_module_version": "1.5.0",
            "_view_count": null,
            "_view_module_version": "1.2.0",
            "bar_color": null,
            "_model_module": "@jupyter-widgets/controls"
          }
        },
        "46720736cdb446209021c851323214a0": {
          "model_module": "@jupyter-widgets/base",
          "model_name": "LayoutModel",
          "model_module_version": "1.2.0",
          "state": {
            "_view_name": "LayoutView",
            "grid_template_rows": null,
            "right": null,
            "justify_content": null,
            "_view_module": "@jupyter-widgets/base",
            "overflow": null,
            "_model_module_version": "1.2.0",
            "_view_count": null,
            "flex_flow": null,
            "width": "20px",
            "min_width": null,
            "border": null,
            "align_items": null,
            "bottom": null,
            "_model_module": "@jupyter-widgets/base",
            "top": null,
            "grid_column": null,
            "overflow_y": null,
            "overflow_x": null,
            "grid_auto_flow": null,
            "grid_area": null,
            "grid_template_columns": null,
            "flex": null,
            "_model_name": "LayoutModel",
            "justify_items": null,
            "grid_row": null,
            "max_height": null,
            "align_content": null,
            "visibility": null,
            "align_self": null,
            "height": null,
            "min_height": null,
            "padding": null,
            "grid_auto_rows": null,
            "grid_gap": null,
            "max_width": null,
            "order": null,
            "_view_module_version": "1.2.0",
            "grid_template_areas": null,
            "object_position": null,
            "object_fit": null,
            "grid_auto_columns": null,
            "margin": null,
            "display": null,
            "left": null
          }
        },
        "303d22ee4ef64cbcb417406ea70bc966": {
          "model_module": "@jupyter-widgets/controls",
          "model_name": "DescriptionStyleModel",
          "model_module_version": "1.5.0",
          "state": {
            "_view_name": "StyleView",
            "_model_name": "DescriptionStyleModel",
            "description_width": "",
            "_view_module": "@jupyter-widgets/base",
            "_model_module_version": "1.5.0",
            "_view_count": null,
            "_view_module_version": "1.2.0",
            "_model_module": "@jupyter-widgets/controls"
          }
        },
        "0b68267b631e48f6b79b91853c2a7bbc": {
          "model_module": "@jupyter-widgets/base",
          "model_name": "LayoutModel",
          "model_module_version": "1.2.0",
          "state": {
            "_view_name": "LayoutView",
            "grid_template_rows": null,
            "right": null,
            "justify_content": null,
            "_view_module": "@jupyter-widgets/base",
            "overflow": null,
            "_model_module_version": "1.2.0",
            "_view_count": null,
            "flex_flow": null,
            "width": null,
            "min_width": null,
            "border": null,
            "align_items": null,
            "bottom": null,
            "_model_module": "@jupyter-widgets/base",
            "top": null,
            "grid_column": null,
            "overflow_y": null,
            "overflow_x": null,
            "grid_auto_flow": null,
            "grid_area": null,
            "grid_template_columns": null,
            "flex": null,
            "_model_name": "LayoutModel",
            "justify_items": null,
            "grid_row": null,
            "max_height": null,
            "align_content": null,
            "visibility": null,
            "align_self": null,
            "height": null,
            "min_height": null,
            "padding": null,
            "grid_auto_rows": null,
            "grid_gap": null,
            "max_width": null,
            "order": null,
            "_view_module_version": "1.2.0",
            "grid_template_areas": null,
            "object_position": null,
            "object_fit": null,
            "grid_auto_columns": null,
            "margin": null,
            "display": null,
            "left": null
          }
        },
        "f1b93f2a225b4175a744925ba0b11408": {
          "model_module": "@jupyter-widgets/controls",
          "model_name": "HBoxModel",
          "model_module_version": "1.5.0",
          "state": {
            "_view_name": "HBoxView",
            "_dom_classes": [],
            "_model_name": "HBoxModel",
            "_view_module": "@jupyter-widgets/controls",
            "_model_module_version": "1.5.0",
            "_view_count": null,
            "_view_module_version": "1.5.0",
            "box_style": "",
            "layout": "IPY_MODEL_dcca5f3c88da44a294b7e7ca97816b63",
            "_model_module": "@jupyter-widgets/controls",
            "children": [
              "IPY_MODEL_7252e0ed68b14822b9a98cf73a81ba15",
              "IPY_MODEL_d9f2cccdc16948dca8032c9ca23d3cf4"
            ]
          }
        },
        "dcca5f3c88da44a294b7e7ca97816b63": {
          "model_module": "@jupyter-widgets/base",
          "model_name": "LayoutModel",
          "model_module_version": "1.2.0",
          "state": {
            "_view_name": "LayoutView",
            "grid_template_rows": null,
            "right": null,
            "justify_content": null,
            "_view_module": "@jupyter-widgets/base",
            "overflow": null,
            "_model_module_version": "1.2.0",
            "_view_count": null,
            "flex_flow": null,
            "width": null,
            "min_width": null,
            "border": null,
            "align_items": null,
            "bottom": null,
            "_model_module": "@jupyter-widgets/base",
            "top": null,
            "grid_column": null,
            "overflow_y": null,
            "overflow_x": null,
            "grid_auto_flow": null,
            "grid_area": null,
            "grid_template_columns": null,
            "flex": null,
            "_model_name": "LayoutModel",
            "justify_items": null,
            "grid_row": null,
            "max_height": null,
            "align_content": null,
            "visibility": null,
            "align_self": null,
            "height": null,
            "min_height": null,
            "padding": null,
            "grid_auto_rows": null,
            "grid_gap": null,
            "max_width": null,
            "order": null,
            "_view_module_version": "1.2.0",
            "grid_template_areas": null,
            "object_position": null,
            "object_fit": null,
            "grid_auto_columns": null,
            "margin": null,
            "display": null,
            "left": null
          }
        },
        "7252e0ed68b14822b9a98cf73a81ba15": {
          "model_module": "@jupyter-widgets/controls",
          "model_name": "FloatProgressModel",
          "model_module_version": "1.5.0",
          "state": {
            "_view_name": "ProgressView",
            "style": "IPY_MODEL_078cd08ae3134a218a217977d1de3518",
            "_dom_classes": [],
            "description": "",
            "_model_name": "FloatProgressModel",
            "bar_style": "info",
            "max": 1,
            "_view_module": "@jupyter-widgets/controls",
            "_model_module_version": "1.5.0",
            "value": 1,
            "_view_count": null,
            "_view_module_version": "1.5.0",
            "orientation": "horizontal",
            "min": 0,
            "description_tooltip": null,
            "_model_module": "@jupyter-widgets/controls",
            "layout": "IPY_MODEL_ea104dc3d29b474f83b10704c66ed6c7"
          }
        },
        "d9f2cccdc16948dca8032c9ca23d3cf4": {
          "model_module": "@jupyter-widgets/controls",
          "model_name": "HTMLModel",
          "model_module_version": "1.5.0",
          "state": {
            "_view_name": "HTMLView",
            "style": "IPY_MODEL_179fac6ccd934ea1b5bcc169ce1f94d7",
            "_dom_classes": [],
            "description": "",
            "_model_name": "HTMLModel",
            "placeholder": "​",
            "_view_module": "@jupyter-widgets/controls",
            "_model_module_version": "1.5.0",
            "value": "1066 examples [00:00, 21211.49 examples/s]",
            "_view_count": null,
            "_view_module_version": "1.5.0",
            "description_tooltip": null,
            "_model_module": "@jupyter-widgets/controls",
            "layout": "IPY_MODEL_f808afdd4f78472988d7008d816bbeeb"
          }
        },
        "078cd08ae3134a218a217977d1de3518": {
          "model_module": "@jupyter-widgets/controls",
          "model_name": "ProgressStyleModel",
          "model_module_version": "1.5.0",
          "state": {
            "_view_name": "StyleView",
            "_model_name": "ProgressStyleModel",
            "description_width": "initial",
            "_view_module": "@jupyter-widgets/base",
            "_model_module_version": "1.5.0",
            "_view_count": null,
            "_view_module_version": "1.2.0",
            "bar_color": null,
            "_model_module": "@jupyter-widgets/controls"
          }
        },
        "ea104dc3d29b474f83b10704c66ed6c7": {
          "model_module": "@jupyter-widgets/base",
          "model_name": "LayoutModel",
          "model_module_version": "1.2.0",
          "state": {
            "_view_name": "LayoutView",
            "grid_template_rows": null,
            "right": null,
            "justify_content": null,
            "_view_module": "@jupyter-widgets/base",
            "overflow": null,
            "_model_module_version": "1.2.0",
            "_view_count": null,
            "flex_flow": null,
            "width": "20px",
            "min_width": null,
            "border": null,
            "align_items": null,
            "bottom": null,
            "_model_module": "@jupyter-widgets/base",
            "top": null,
            "grid_column": null,
            "overflow_y": null,
            "overflow_x": null,
            "grid_auto_flow": null,
            "grid_area": null,
            "grid_template_columns": null,
            "flex": null,
            "_model_name": "LayoutModel",
            "justify_items": null,
            "grid_row": null,
            "max_height": null,
            "align_content": null,
            "visibility": null,
            "align_self": null,
            "height": null,
            "min_height": null,
            "padding": null,
            "grid_auto_rows": null,
            "grid_gap": null,
            "max_width": null,
            "order": null,
            "_view_module_version": "1.2.0",
            "grid_template_areas": null,
            "object_position": null,
            "object_fit": null,
            "grid_auto_columns": null,
            "margin": null,
            "display": null,
            "left": null
          }
        },
        "179fac6ccd934ea1b5bcc169ce1f94d7": {
          "model_module": "@jupyter-widgets/controls",
          "model_name": "DescriptionStyleModel",
          "model_module_version": "1.5.0",
          "state": {
            "_view_name": "StyleView",
            "_model_name": "DescriptionStyleModel",
            "description_width": "",
            "_view_module": "@jupyter-widgets/base",
            "_model_module_version": "1.5.0",
            "_view_count": null,
            "_view_module_version": "1.2.0",
            "_model_module": "@jupyter-widgets/controls"
          }
        },
        "f808afdd4f78472988d7008d816bbeeb": {
          "model_module": "@jupyter-widgets/base",
          "model_name": "LayoutModel",
          "model_module_version": "1.2.0",
          "state": {
            "_view_name": "LayoutView",
            "grid_template_rows": null,
            "right": null,
            "justify_content": null,
            "_view_module": "@jupyter-widgets/base",
            "overflow": null,
            "_model_module_version": "1.2.0",
            "_view_count": null,
            "flex_flow": null,
            "width": null,
            "min_width": null,
            "border": null,
            "align_items": null,
            "bottom": null,
            "_model_module": "@jupyter-widgets/base",
            "top": null,
            "grid_column": null,
            "overflow_y": null,
            "overflow_x": null,
            "grid_auto_flow": null,
            "grid_area": null,
            "grid_template_columns": null,
            "flex": null,
            "_model_name": "LayoutModel",
            "justify_items": null,
            "grid_row": null,
            "max_height": null,
            "align_content": null,
            "visibility": null,
            "align_self": null,
            "height": null,
            "min_height": null,
            "padding": null,
            "grid_auto_rows": null,
            "grid_gap": null,
            "max_width": null,
            "order": null,
            "_view_module_version": "1.2.0",
            "grid_template_areas": null,
            "object_position": null,
            "object_fit": null,
            "grid_auto_columns": null,
            "margin": null,
            "display": null,
            "left": null
          }
        }
      }
    }
  },
  "nbformat": 4,
  "nbformat_minor": 0
}