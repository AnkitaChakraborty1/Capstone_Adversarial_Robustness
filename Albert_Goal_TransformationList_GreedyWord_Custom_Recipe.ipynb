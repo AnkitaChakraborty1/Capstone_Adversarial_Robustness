{
  "cells": [
    {
      "cell_type": "markdown",
      "metadata": {
        "id": "view-in-github",
        "colab_type": "text"
      },
      "source": [
        "<a href=\"https://colab.research.google.com/github/AnkitaChakraborty1/Capstone_Adversarial_Robustness/blob/main/Albert_Goal_TransformationList_GreedyWord_Custom_Recipe.ipynb\" target=\"_parent\"><img src=\"https://colab.research.google.com/assets/colab-badge.svg\" alt=\"Open In Colab\"/></a>"
      ]
    },
    {
      "cell_type": "markdown",
      "source": [
        "##pip installs"
      ],
      "metadata": {
        "id": "qFwazax85sRR"
      }
    },
    {
      "cell_type": "code",
      "execution_count": 2,
      "metadata": {
        "id": "ByQttbCVWzZ9",
        "colab": {
          "base_uri": "https://localhost:8080/"
        },
        "outputId": "4469552a-2af0-49f0-f532-0cff4156dd57"
      },
      "outputs": [
        {
          "output_type": "stream",
          "name": "stdout",
          "text": [
            "Collecting transformers\n",
            "  Downloading transformers-4.17.0-py3-none-any.whl (3.8 MB)\n",
            "\u001b[K     |████████████████████████████████| 3.8 MB 3.2 MB/s \n",
            "\u001b[?25hRequirement already satisfied: tqdm>=4.27 in /usr/local/lib/python3.7/dist-packages (from transformers) (4.63.0)\n",
            "Requirement already satisfied: numpy>=1.17 in /usr/local/lib/python3.7/dist-packages (from transformers) (1.21.5)\n",
            "Requirement already satisfied: packaging>=20.0 in /usr/local/lib/python3.7/dist-packages (from transformers) (21.3)\n",
            "Collecting tokenizers!=0.11.3,>=0.11.1\n",
            "  Downloading tokenizers-0.11.6-cp37-cp37m-manylinux_2_12_x86_64.manylinux2010_x86_64.whl (6.5 MB)\n",
            "\u001b[K     |████████████████████████████████| 6.5 MB 49.7 MB/s \n",
            "\u001b[?25hCollecting pyyaml>=5.1\n",
            "  Downloading PyYAML-6.0-cp37-cp37m-manylinux_2_5_x86_64.manylinux1_x86_64.manylinux_2_12_x86_64.manylinux2010_x86_64.whl (596 kB)\n",
            "\u001b[K     |████████████████████████████████| 596 kB 45.8 MB/s \n",
            "\u001b[?25hRequirement already satisfied: regex!=2019.12.17 in /usr/local/lib/python3.7/dist-packages (from transformers) (2019.12.20)\n",
            "Collecting huggingface-hub<1.0,>=0.1.0\n",
            "  Downloading huggingface_hub-0.4.0-py3-none-any.whl (67 kB)\n",
            "\u001b[K     |████████████████████████████████| 67 kB 5.7 MB/s \n",
            "\u001b[?25hCollecting sacremoses\n",
            "  Downloading sacremoses-0.0.47-py2.py3-none-any.whl (895 kB)\n",
            "\u001b[K     |████████████████████████████████| 895 kB 45.8 MB/s \n",
            "\u001b[?25hRequirement already satisfied: filelock in /usr/local/lib/python3.7/dist-packages (from transformers) (3.6.0)\n",
            "Requirement already satisfied: requests in /usr/local/lib/python3.7/dist-packages (from transformers) (2.23.0)\n",
            "Requirement already satisfied: importlib-metadata in /usr/local/lib/python3.7/dist-packages (from transformers) (4.11.2)\n",
            "Requirement already satisfied: typing-extensions>=3.7.4.3 in /usr/local/lib/python3.7/dist-packages (from huggingface-hub<1.0,>=0.1.0->transformers) (3.10.0.2)\n",
            "Requirement already satisfied: pyparsing!=3.0.5,>=2.0.2 in /usr/local/lib/python3.7/dist-packages (from packaging>=20.0->transformers) (3.0.7)\n",
            "Requirement already satisfied: zipp>=0.5 in /usr/local/lib/python3.7/dist-packages (from importlib-metadata->transformers) (3.7.0)\n",
            "Requirement already satisfied: urllib3!=1.25.0,!=1.25.1,<1.26,>=1.21.1 in /usr/local/lib/python3.7/dist-packages (from requests->transformers) (1.24.3)\n",
            "Requirement already satisfied: certifi>=2017.4.17 in /usr/local/lib/python3.7/dist-packages (from requests->transformers) (2021.10.8)\n",
            "Requirement already satisfied: idna<3,>=2.5 in /usr/local/lib/python3.7/dist-packages (from requests->transformers) (2.10)\n",
            "Requirement already satisfied: chardet<4,>=3.0.2 in /usr/local/lib/python3.7/dist-packages (from requests->transformers) (3.0.4)\n",
            "Requirement already satisfied: six in /usr/local/lib/python3.7/dist-packages (from sacremoses->transformers) (1.15.0)\n",
            "Requirement already satisfied: click in /usr/local/lib/python3.7/dist-packages (from sacremoses->transformers) (7.1.2)\n",
            "Requirement already satisfied: joblib in /usr/local/lib/python3.7/dist-packages (from sacremoses->transformers) (1.1.0)\n",
            "Installing collected packages: pyyaml, tokenizers, sacremoses, huggingface-hub, transformers\n",
            "  Attempting uninstall: pyyaml\n",
            "    Found existing installation: PyYAML 3.13\n",
            "    Uninstalling PyYAML-3.13:\n",
            "      Successfully uninstalled PyYAML-3.13\n",
            "Successfully installed huggingface-hub-0.4.0 pyyaml-6.0 sacremoses-0.0.47 tokenizers-0.11.6 transformers-4.17.0\n"
          ]
        }
      ],
      "source": [
        "pip install transformers"
      ]
    },
    {
      "cell_type": "code",
      "execution_count": 3,
      "metadata": {
        "id": "Gcp6ZZGvVk_T",
        "colab": {
          "base_uri": "https://localhost:8080/",
          "height": 1000
        },
        "outputId": "2f6a31a7-9ab2-49b7-9b8a-fb138fdf7415"
      },
      "outputs": [
        {
          "output_type": "stream",
          "name": "stdout",
          "text": [
            "Collecting textattack[tensorflow]\n",
            "  Downloading textattack-0.3.4-py3-none-any.whl (373 kB)\n",
            "\u001b[K     |████████████████████████████████| 373 kB 3.2 MB/s \n",
            "\u001b[?25hRequirement already satisfied: scipy>=1.4.1 in /usr/local/lib/python3.7/dist-packages (from textattack[tensorflow]) (1.4.1)\n",
            "Collecting language-tool-python\n",
            "  Downloading language_tool_python-2.7.0-py3-none-any.whl (34 kB)\n",
            "Requirement already satisfied: filelock in /usr/local/lib/python3.7/dist-packages (from textattack[tensorflow]) (3.6.0)\n",
            "Collecting word2number\n",
            "  Downloading word2number-1.1.zip (9.7 kB)\n",
            "Collecting tqdm<4.50.0,>=4.27\n",
            "  Downloading tqdm-4.49.0-py2.py3-none-any.whl (69 kB)\n",
            "\u001b[K     |████████████████████████████████| 69 kB 7.3 MB/s \n",
            "\u001b[?25hRequirement already satisfied: pandas>=1.0.1 in /usr/local/lib/python3.7/dist-packages (from textattack[tensorflow]) (1.3.5)\n",
            "Requirement already satisfied: torch!=1.8,>=1.7.0 in /usr/local/lib/python3.7/dist-packages (from textattack[tensorflow]) (1.10.0+cu111)\n",
            "Collecting bert-score>=0.3.5\n",
            "  Downloading bert_score-0.3.11-py3-none-any.whl (60 kB)\n",
            "\u001b[K     |████████████████████████████████| 60 kB 7.3 MB/s \n",
            "\u001b[?25hCollecting datasets\n",
            "  Downloading datasets-1.18.4-py3-none-any.whl (312 kB)\n",
            "\u001b[K     |████████████████████████████████| 312 kB 54.0 MB/s \n",
            "\u001b[?25hRequirement already satisfied: PySocks!=1.5.7,>=1.5.6 in /usr/local/lib/python3.7/dist-packages (from textattack[tensorflow]) (1.7.1)\n",
            "Requirement already satisfied: more-itertools in /usr/local/lib/python3.7/dist-packages (from textattack[tensorflow]) (8.12.0)\n",
            "Collecting num2words\n",
            "  Downloading num2words-0.5.10-py3-none-any.whl (101 kB)\n",
            "\u001b[K     |████████████████████████████████| 101 kB 11.8 MB/s \n",
            "\u001b[?25hRequirement already satisfied: nltk in /usr/local/lib/python3.7/dist-packages (from textattack[tensorflow]) (3.2.5)\n",
            "Collecting lemminflect\n",
            "  Downloading lemminflect-0.2.2-py3-none-any.whl (769 kB)\n",
            "\u001b[K     |████████████████████████████████| 769 kB 55.8 MB/s \n",
            "\u001b[?25hCollecting lru-dict\n",
            "  Downloading lru-dict-1.1.7.tar.gz (10 kB)\n",
            "Requirement already satisfied: editdistance in /usr/local/lib/python3.7/dist-packages (from textattack[tensorflow]) (0.5.3)\n",
            "Requirement already satisfied: numpy>=1.19.2 in /usr/local/lib/python3.7/dist-packages (from textattack[tensorflow]) (1.21.5)\n",
            "Collecting flair\n",
            "  Downloading flair-0.10-py3-none-any.whl (322 kB)\n",
            "\u001b[K     |████████████████████████████████| 322 kB 42.4 MB/s \n",
            "\u001b[?25hRequirement already satisfied: transformers>=3.3.0 in /usr/local/lib/python3.7/dist-packages (from textattack[tensorflow]) (4.17.0)\n",
            "Collecting terminaltables\n",
            "  Downloading terminaltables-3.1.10-py2.py3-none-any.whl (15 kB)\n",
            "Requirement already satisfied: tensorflow-hub in /usr/local/lib/python3.7/dist-packages (from textattack[tensorflow]) (0.12.0)\n",
            "Collecting tensorflow==2.5.0\n",
            "  Downloading tensorflow-2.5.0-cp37-cp37m-manylinux2010_x86_64.whl (454.3 MB)\n",
            "\u001b[K     |████████████████████████████████| 454.3 MB 17 kB/s \n",
            "\u001b[?25hCollecting tensorflow-text>=2\n",
            "  Downloading tensorflow_text-2.8.1-cp37-cp37m-manylinux_2_12_x86_64.manylinux2010_x86_64.whl (4.9 MB)\n",
            "\u001b[K     |████████████████████████████████| 4.9 MB 46.0 MB/s \n",
            "\u001b[?25hCollecting tensorflow-estimator==2.5.0\n",
            "  Downloading tensorflow_estimator-2.5.0-py2.py3-none-any.whl (462 kB)\n",
            "\u001b[K     |████████████████████████████████| 462 kB 50.9 MB/s \n",
            "\u001b[?25hCollecting tensorboardX\n",
            "  Downloading tensorboardX-2.5-py2.py3-none-any.whl (125 kB)\n",
            "\u001b[K     |████████████████████████████████| 125 kB 61.5 MB/s \n",
            "\u001b[?25hRequirement already satisfied: six~=1.15.0 in /usr/local/lib/python3.7/dist-packages (from tensorflow==2.5.0->textattack[tensorflow]) (1.15.0)\n",
            "Collecting typing-extensions~=3.7.4\n",
            "  Downloading typing_extensions-3.7.4.3-py3-none-any.whl (22 kB)\n",
            "Collecting grpcio~=1.34.0\n",
            "  Downloading grpcio-1.34.1-cp37-cp37m-manylinux2014_x86_64.whl (4.0 MB)\n",
            "\u001b[K     |████████████████████████████████| 4.0 MB 45.2 MB/s \n",
            "\u001b[?25hCollecting absl-py~=0.10\n",
            "  Downloading absl_py-0.15.0-py3-none-any.whl (132 kB)\n",
            "\u001b[K     |████████████████████████████████| 132 kB 56.9 MB/s \n",
            "\u001b[?25hCollecting numpy>=1.19.2\n",
            "  Downloading numpy-1.19.5-cp37-cp37m-manylinux2010_x86_64.whl (14.8 MB)\n",
            "\u001b[K     |████████████████████████████████| 14.8 MB 42.0 MB/s \n",
            "\u001b[?25hRequirement already satisfied: tensorboard~=2.5 in /usr/local/lib/python3.7/dist-packages (from tensorflow==2.5.0->textattack[tensorflow]) (2.8.0)\n",
            "Requirement already satisfied: keras-preprocessing~=1.1.2 in /usr/local/lib/python3.7/dist-packages (from tensorflow==2.5.0->textattack[tensorflow]) (1.1.2)\n",
            "Requirement already satisfied: protobuf>=3.9.2 in /usr/local/lib/python3.7/dist-packages (from tensorflow==2.5.0->textattack[tensorflow]) (3.17.3)\n",
            "Collecting keras-nightly~=2.5.0.dev\n",
            "  Downloading keras_nightly-2.5.0.dev2021032900-py2.py3-none-any.whl (1.2 MB)\n",
            "\u001b[K     |████████████████████████████████| 1.2 MB 53.1 MB/s \n",
            "\u001b[?25hCollecting gast==0.4.0\n",
            "  Downloading gast-0.4.0-py3-none-any.whl (9.8 kB)\n",
            "Collecting wrapt~=1.12.1\n",
            "  Downloading wrapt-1.12.1.tar.gz (27 kB)\n",
            "Requirement already satisfied: google-pasta~=0.2 in /usr/local/lib/python3.7/dist-packages (from tensorflow==2.5.0->textattack[tensorflow]) (0.2.0)\n",
            "Requirement already satisfied: astunparse~=1.6.3 in /usr/local/lib/python3.7/dist-packages (from tensorflow==2.5.0->textattack[tensorflow]) (1.6.3)\n",
            "Requirement already satisfied: termcolor~=1.1.0 in /usr/local/lib/python3.7/dist-packages (from tensorflow==2.5.0->textattack[tensorflow]) (1.1.0)\n",
            "Requirement already satisfied: opt-einsum~=3.3.0 in /usr/local/lib/python3.7/dist-packages (from tensorflow==2.5.0->textattack[tensorflow]) (3.3.0)\n",
            "Requirement already satisfied: wheel~=0.35 in /usr/local/lib/python3.7/dist-packages (from tensorflow==2.5.0->textattack[tensorflow]) (0.37.1)\n",
            "Requirement already satisfied: h5py~=3.1.0 in /usr/local/lib/python3.7/dist-packages (from tensorflow==2.5.0->textattack[tensorflow]) (3.1.0)\n",
            "Collecting flatbuffers~=1.12.0\n",
            "  Downloading flatbuffers-1.12-py2.py3-none-any.whl (15 kB)\n",
            "Requirement already satisfied: packaging>=20.9 in /usr/local/lib/python3.7/dist-packages (from bert-score>=0.3.5->textattack[tensorflow]) (21.3)\n",
            "Requirement already satisfied: requests in /usr/local/lib/python3.7/dist-packages (from bert-score>=0.3.5->textattack[tensorflow]) (2.23.0)\n",
            "Requirement already satisfied: matplotlib in /usr/local/lib/python3.7/dist-packages (from bert-score>=0.3.5->textattack[tensorflow]) (3.2.2)\n",
            "Requirement already satisfied: cached-property in /usr/local/lib/python3.7/dist-packages (from h5py~=3.1.0->tensorflow==2.5.0->textattack[tensorflow]) (1.5.2)\n",
            "Requirement already satisfied: pyparsing!=3.0.5,>=2.0.2 in /usr/local/lib/python3.7/dist-packages (from packaging>=20.9->bert-score>=0.3.5->textattack[tensorflow]) (3.0.7)\n",
            "Requirement already satisfied: python-dateutil>=2.7.3 in /usr/local/lib/python3.7/dist-packages (from pandas>=1.0.1->textattack[tensorflow]) (2.8.2)\n",
            "Requirement already satisfied: pytz>=2017.3 in /usr/local/lib/python3.7/dist-packages (from pandas>=1.0.1->textattack[tensorflow]) (2018.9)\n",
            "Requirement already satisfied: google-auth-oauthlib<0.5,>=0.4.1 in /usr/local/lib/python3.7/dist-packages (from tensorboard~=2.5->tensorflow==2.5.0->textattack[tensorflow]) (0.4.6)\n",
            "Requirement already satisfied: google-auth<3,>=1.6.3 in /usr/local/lib/python3.7/dist-packages (from tensorboard~=2.5->tensorflow==2.5.0->textattack[tensorflow]) (1.35.0)\n",
            "Requirement already satisfied: tensorboard-plugin-wit>=1.6.0 in /usr/local/lib/python3.7/dist-packages (from tensorboard~=2.5->tensorflow==2.5.0->textattack[tensorflow]) (1.8.1)\n",
            "Requirement already satisfied: tensorboard-data-server<0.7.0,>=0.6.0 in /usr/local/lib/python3.7/dist-packages (from tensorboard~=2.5->tensorflow==2.5.0->textattack[tensorflow]) (0.6.1)\n",
            "Requirement already satisfied: werkzeug>=0.11.15 in /usr/local/lib/python3.7/dist-packages (from tensorboard~=2.5->tensorflow==2.5.0->textattack[tensorflow]) (1.0.1)\n",
            "Requirement already satisfied: setuptools>=41.0.0 in /usr/local/lib/python3.7/dist-packages (from tensorboard~=2.5->tensorflow==2.5.0->textattack[tensorflow]) (57.4.0)\n",
            "Requirement already satisfied: markdown>=2.6.8 in /usr/local/lib/python3.7/dist-packages (from tensorboard~=2.5->tensorflow==2.5.0->textattack[tensorflow]) (3.3.6)\n",
            "Requirement already satisfied: rsa<5,>=3.1.4 in /usr/local/lib/python3.7/dist-packages (from google-auth<3,>=1.6.3->tensorboard~=2.5->tensorflow==2.5.0->textattack[tensorflow]) (4.8)\n",
            "Requirement already satisfied: pyasn1-modules>=0.2.1 in /usr/local/lib/python3.7/dist-packages (from google-auth<3,>=1.6.3->tensorboard~=2.5->tensorflow==2.5.0->textattack[tensorflow]) (0.2.8)\n",
            "Requirement already satisfied: cachetools<5.0,>=2.0.0 in /usr/local/lib/python3.7/dist-packages (from google-auth<3,>=1.6.3->tensorboard~=2.5->tensorflow==2.5.0->textattack[tensorflow]) (4.2.4)\n",
            "Requirement already satisfied: requests-oauthlib>=0.7.0 in /usr/local/lib/python3.7/dist-packages (from google-auth-oauthlib<0.5,>=0.4.1->tensorboard~=2.5->tensorflow==2.5.0->textattack[tensorflow]) (1.3.1)\n",
            "Requirement already satisfied: importlib-metadata>=4.4 in /usr/local/lib/python3.7/dist-packages (from markdown>=2.6.8->tensorboard~=2.5->tensorflow==2.5.0->textattack[tensorflow]) (4.11.2)\n",
            "Requirement already satisfied: zipp>=0.5 in /usr/local/lib/python3.7/dist-packages (from importlib-metadata>=4.4->markdown>=2.6.8->tensorboard~=2.5->tensorflow==2.5.0->textattack[tensorflow]) (3.7.0)\n",
            "Requirement already satisfied: pyasn1<0.5.0,>=0.4.6 in /usr/local/lib/python3.7/dist-packages (from pyasn1-modules>=0.2.1->google-auth<3,>=1.6.3->tensorboard~=2.5->tensorflow==2.5.0->textattack[tensorflow]) (0.4.8)\n",
            "Requirement already satisfied: certifi>=2017.4.17 in /usr/local/lib/python3.7/dist-packages (from requests->bert-score>=0.3.5->textattack[tensorflow]) (2021.10.8)\n",
            "Requirement already satisfied: urllib3!=1.25.0,!=1.25.1,<1.26,>=1.21.1 in /usr/local/lib/python3.7/dist-packages (from requests->bert-score>=0.3.5->textattack[tensorflow]) (1.24.3)\n",
            "Requirement already satisfied: idna<3,>=2.5 in /usr/local/lib/python3.7/dist-packages (from requests->bert-score>=0.3.5->textattack[tensorflow]) (2.10)\n",
            "Requirement already satisfied: chardet<4,>=3.0.2 in /usr/local/lib/python3.7/dist-packages (from requests->bert-score>=0.3.5->textattack[tensorflow]) (3.0.4)\n",
            "Requirement already satisfied: oauthlib>=3.0.0 in /usr/local/lib/python3.7/dist-packages (from requests-oauthlib>=0.7.0->google-auth-oauthlib<0.5,>=0.4.1->tensorboard~=2.5->tensorflow==2.5.0->textattack[tensorflow]) (3.2.0)\n",
            "Collecting tensorflow-text>=2\n",
            "  Downloading tensorflow_text-2.7.3-cp37-cp37m-manylinux2010_x86_64.whl (4.9 MB)\n",
            "\u001b[K     |████████████████████████████████| 4.9 MB 50.4 MB/s \n",
            "\u001b[?25h  Downloading tensorflow_text-2.7.0-cp37-cp37m-manylinux2010_x86_64.whl (4.9 MB)\n",
            "\u001b[K     |████████████████████████████████| 4.9 MB 48.3 MB/s \n",
            "\u001b[?25h  Downloading tensorflow_text-2.6.0-cp37-cp37m-manylinux1_x86_64.whl (4.4 MB)\n",
            "\u001b[K     |████████████████████████████████| 4.4 MB 41.2 MB/s \n",
            "\u001b[?25h  Downloading tensorflow_text-2.5.0-cp37-cp37m-manylinux1_x86_64.whl (4.3 MB)\n",
            "\u001b[K     |████████████████████████████████| 4.3 MB 41.9 MB/s \n",
            "\u001b[?25hRequirement already satisfied: sacremoses in /usr/local/lib/python3.7/dist-packages (from transformers>=3.3.0->textattack[tensorflow]) (0.0.47)\n",
            "Requirement already satisfied: regex!=2019.12.17 in /usr/local/lib/python3.7/dist-packages (from transformers>=3.3.0->textattack[tensorflow]) (2019.12.20)\n",
            "Requirement already satisfied: tokenizers!=0.11.3,>=0.11.1 in /usr/local/lib/python3.7/dist-packages (from transformers>=3.3.0->textattack[tensorflow]) (0.11.6)\n",
            "Requirement already satisfied: pyyaml>=5.1 in /usr/local/lib/python3.7/dist-packages (from transformers>=3.3.0->textattack[tensorflow]) (6.0)\n",
            "Requirement already satisfied: huggingface-hub<1.0,>=0.1.0 in /usr/local/lib/python3.7/dist-packages (from transformers>=3.3.0->textattack[tensorflow]) (0.4.0)\n",
            "Collecting responses<0.19\n",
            "  Downloading responses-0.18.0-py3-none-any.whl (38 kB)\n",
            "Collecting fsspec[http]>=2021.05.0\n",
            "  Downloading fsspec-2022.2.0-py3-none-any.whl (134 kB)\n",
            "\u001b[K     |████████████████████████████████| 134 kB 59.2 MB/s \n",
            "\u001b[?25hRequirement already satisfied: pyarrow!=4.0.0,>=3.0.0 in /usr/local/lib/python3.7/dist-packages (from datasets->textattack[tensorflow]) (6.0.1)\n",
            "Requirement already satisfied: dill in /usr/local/lib/python3.7/dist-packages (from datasets->textattack[tensorflow]) (0.3.4)\n",
            "Collecting aiohttp\n",
            "  Downloading aiohttp-3.8.1-cp37-cp37m-manylinux_2_5_x86_64.manylinux1_x86_64.manylinux_2_12_x86_64.manylinux2010_x86_64.whl (1.1 MB)\n",
            "\u001b[K     |████████████████████████████████| 1.1 MB 33.6 MB/s \n",
            "\u001b[?25hCollecting datasets\n",
            "  Downloading datasets-1.18.3-py3-none-any.whl (311 kB)\n",
            "\u001b[K     |████████████████████████████████| 311 kB 36.9 MB/s \n",
            "\u001b[?25h  Downloading datasets-1.18.2-py3-none-any.whl (312 kB)\n",
            "\u001b[K     |████████████████████████████████| 312 kB 54.9 MB/s \n",
            "\u001b[?25h  Downloading datasets-1.18.1-py3-none-any.whl (311 kB)\n",
            "\u001b[K     |████████████████████████████████| 311 kB 38.4 MB/s \n",
            "\u001b[?25h  Downloading datasets-1.18.0-py3-none-any.whl (311 kB)\n",
            "\u001b[K     |████████████████████████████████| 311 kB 48.9 MB/s \n",
            "\u001b[?25h  Downloading datasets-1.17.0-py3-none-any.whl (306 kB)\n",
            "\u001b[K     |████████████████████████████████| 306 kB 64.3 MB/s \n",
            "\u001b[?25h  Downloading datasets-1.16.1-py3-none-any.whl (298 kB)\n",
            "\u001b[K     |████████████████████████████████| 298 kB 67.8 MB/s \n",
            "\u001b[?25h  Downloading datasets-1.16.0-py3-none-any.whl (298 kB)\n",
            "\u001b[K     |████████████████████████████████| 298 kB 50.1 MB/s \n",
            "\u001b[?25h  Downloading datasets-1.15.1-py3-none-any.whl (290 kB)\n",
            "\u001b[K     |████████████████████████████████| 290 kB 50.3 MB/s \n",
            "\u001b[?25h  Downloading datasets-1.15.0-py3-none-any.whl (290 kB)\n",
            "\u001b[K     |████████████████████████████████| 290 kB 51.1 MB/s \n",
            "\u001b[?25h  Downloading datasets-1.14.0-py3-none-any.whl (290 kB)\n",
            "\u001b[K     |████████████████████████████████| 290 kB 49.0 MB/s \n",
            "\u001b[?25h  Downloading datasets-1.13.3-py3-none-any.whl (287 kB)\n",
            "\u001b[K     |████████████████████████████████| 287 kB 53.5 MB/s \n",
            "\u001b[?25h  Downloading datasets-1.13.2-py3-none-any.whl (287 kB)\n",
            "\u001b[K     |████████████████████████████████| 287 kB 59.9 MB/s \n",
            "\u001b[?25h  Downloading datasets-1.13.1-py3-none-any.whl (287 kB)\n",
            "\u001b[K     |████████████████████████████████| 287 kB 60.6 MB/s \n",
            "\u001b[?25h  Downloading datasets-1.13.0-py3-none-any.whl (285 kB)\n",
            "\u001b[K     |████████████████████████████████| 285 kB 60.1 MB/s \n",
            "\u001b[?25h  Downloading datasets-1.12.1-py3-none-any.whl (270 kB)\n",
            "\u001b[K     |████████████████████████████████| 270 kB 65.1 MB/s \n",
            "\u001b[?25h  Downloading datasets-1.12.0-py3-none-any.whl (269 kB)\n",
            "\u001b[K     |████████████████████████████████| 269 kB 63.5 MB/s \n",
            "\u001b[?25h  Downloading datasets-1.11.0-py3-none-any.whl (264 kB)\n",
            "\u001b[K     |████████████████████████████████| 264 kB 67.4 MB/s \n",
            "\u001b[?25hCollecting xxhash\n",
            "  Downloading xxhash-3.0.0-cp37-cp37m-manylinux_2_17_x86_64.manylinux2014_x86_64.whl (212 kB)\n",
            "\u001b[K     |████████████████████████████████| 212 kB 61.8 MB/s \n",
            "\u001b[?25hCollecting datasets\n",
            "  Downloading datasets-1.10.2-py3-none-any.whl (542 kB)\n",
            "\u001b[K     |████████████████████████████████| 542 kB 52.4 MB/s \n",
            "\u001b[?25h  Downloading datasets-1.10.1-py3-none-any.whl (542 kB)\n",
            "\u001b[K     |████████████████████████████████| 542 kB 56.0 MB/s \n",
            "\u001b[?25h  Downloading datasets-1.10.0-py3-none-any.whl (542 kB)\n",
            "\u001b[K     |████████████████████████████████| 542 kB 55.6 MB/s \n",
            "\u001b[?25h  Downloading datasets-1.9.0-py3-none-any.whl (262 kB)\n",
            "\u001b[K     |████████████████████████████████| 262 kB 61.2 MB/s \n",
            "\u001b[?25h  Downloading datasets-1.8.0-py3-none-any.whl (237 kB)\n",
            "\u001b[K     |████████████████████████████████| 237 kB 13.2 MB/s \n",
            "\u001b[?25hCollecting pyarrow<4.0.0,>=1.0.0\n",
            "  Downloading pyarrow-3.0.0-cp37-cp37m-manylinux2014_x86_64.whl (20.7 MB)\n",
            "\u001b[K     |████████████████████████████████| 20.7 MB 35.8 MB/s \n",
            "\u001b[?25hCollecting datasets\n",
            "  Downloading datasets-1.7.0-py3-none-any.whl (234 kB)\n",
            "\u001b[K     |████████████████████████████████| 234 kB 55.9 MB/s \n",
            "\u001b[?25h  Downloading datasets-1.6.2-py3-none-any.whl (221 kB)\n",
            "\u001b[K     |████████████████████████████████| 221 kB 49.1 MB/s \n",
            "\u001b[?25h  Downloading datasets-1.6.1-py3-none-any.whl (220 kB)\n",
            "\u001b[K     |████████████████████████████████| 220 kB 54.0 MB/s \n",
            "\u001b[?25h  Downloading datasets-1.6.0-py3-none-any.whl (202 kB)\n",
            "\u001b[K     |████████████████████████████████| 202 kB 66.1 MB/s \n",
            "\u001b[?25h  Downloading datasets-1.5.0-py3-none-any.whl (192 kB)\n",
            "\u001b[K     |████████████████████████████████| 192 kB 60.5 MB/s \n",
            "\u001b[?25h  Downloading datasets-1.4.1-py3-none-any.whl (186 kB)\n",
            "\u001b[K     |████████████████████████████████| 186 kB 43.8 MB/s \n",
            "\u001b[?25h  Downloading datasets-1.4.0-py3-none-any.whl (186 kB)\n",
            "\u001b[K     |████████████████████████████████| 186 kB 59.0 MB/s \n",
            "\u001b[?25h  Downloading datasets-1.3.0-py3-none-any.whl (181 kB)\n",
            "\u001b[K     |████████████████████████████████| 181 kB 59.4 MB/s \n",
            "\u001b[?25h  Downloading datasets-1.2.1-py3-none-any.whl (159 kB)\n",
            "\u001b[K     |████████████████████████████████| 159 kB 64.1 MB/s \n",
            "\u001b[?25hRequirement already satisfied: multiprocess in /usr/local/lib/python3.7/dist-packages (from datasets->textattack[tensorflow]) (0.70.12.2)\n",
            "Requirement already satisfied: scikit-learn>=0.21.3 in /usr/local/lib/python3.7/dist-packages (from flair->textattack[tensorflow]) (1.0.2)\n",
            "Collecting mpld3==0.3\n",
            "  Downloading mpld3-0.3.tar.gz (788 kB)\n",
            "\u001b[K     |████████████████████████████████| 788 kB 47.0 MB/s \n",
            "\u001b[?25hCollecting konoha<5.0.0,>=4.0.0\n",
            "  Downloading konoha-4.6.5-py3-none-any.whl (20 kB)\n",
            "Collecting ftfy\n",
            "  Downloading ftfy-6.1.1-py3-none-any.whl (53 kB)\n",
            "\u001b[K     |████████████████████████████████| 53 kB 1.7 MB/s \n",
            "\u001b[?25hRequirement already satisfied: gensim>=3.4.0 in /usr/local/lib/python3.7/dist-packages (from flair->textattack[tensorflow]) (3.6.0)\n",
            "Collecting sqlitedict>=1.6.0\n",
            "  Downloading sqlitedict-2.0.0.tar.gz (46 kB)\n",
            "\u001b[K     |████████████████████████████████| 46 kB 3.8 MB/s \n",
            "\u001b[?25hCollecting janome\n",
            "  Downloading Janome-0.4.2-py2.py3-none-any.whl (19.7 MB)\n",
            "\u001b[K     |████████████████████████████████| 19.7 MB 27.9 MB/s \n",
            "\u001b[?25hCollecting conllu>=4.0\n",
            "  Downloading conllu-4.4.1-py2.py3-none-any.whl (15 kB)\n",
            "Collecting deprecated>=1.2.4\n",
            "  Downloading Deprecated-1.2.13-py2.py3-none-any.whl (9.6 kB)\n",
            "Collecting more-itertools\n",
            "  Downloading more_itertools-8.8.0-py3-none-any.whl (48 kB)\n",
            "\u001b[K     |████████████████████████████████| 48 kB 5.3 MB/s \n",
            "\u001b[?25hCollecting wikipedia-api\n",
            "  Downloading Wikipedia-API-0.5.4.tar.gz (18 kB)\n",
            "Requirement already satisfied: tabulate in /usr/local/lib/python3.7/dist-packages (from flair->textattack[tensorflow]) (0.8.9)\n",
            "Collecting segtok>=1.5.7\n",
            "  Downloading segtok-1.5.11-py3-none-any.whl (24 kB)\n",
            "Collecting gdown==3.12.2\n",
            "  Downloading gdown-3.12.2.tar.gz (8.2 kB)\n",
            "  Installing build dependencies ... \u001b[?25l\u001b[?25hdone\n",
            "  Getting requirements to build wheel ... \u001b[?25l\u001b[?25hdone\n",
            "    Preparing wheel metadata ... \u001b[?25l\u001b[?25hdone\n",
            "Collecting langdetect\n",
            "  Downloading langdetect-1.0.9.tar.gz (981 kB)\n",
            "\u001b[K     |████████████████████████████████| 981 kB 48.8 MB/s \n",
            "\u001b[?25hRequirement already satisfied: lxml in /usr/local/lib/python3.7/dist-packages (from flair->textattack[tensorflow]) (4.2.6)\n",
            "Collecting bpemb>=0.3.2\n",
            "  Downloading bpemb-0.3.3-py3-none-any.whl (19 kB)\n",
            "Collecting sentencepiece==0.1.95\n",
            "  Downloading sentencepiece-0.1.95-cp37-cp37m-manylinux2014_x86_64.whl (1.2 MB)\n",
            "\u001b[K     |████████████████████████████████| 1.2 MB 42.8 MB/s \n",
            "\u001b[?25hRequirement already satisfied: smart-open>=1.2.1 in /usr/local/lib/python3.7/dist-packages (from gensim>=3.4.0->flair->textattack[tensorflow]) (5.2.1)\n",
            "Collecting requests\n",
            "  Downloading requests-2.27.1-py2.py3-none-any.whl (63 kB)\n",
            "\u001b[K     |████████████████████████████████| 63 kB 1.6 MB/s \n",
            "\u001b[?25hCollecting overrides<4.0.0,>=3.0.0\n",
            "  Downloading overrides-3.1.0.tar.gz (11 kB)\n",
            "Collecting konoha<5.0.0,>=4.0.0\n",
            "  Downloading konoha-4.6.4-py3-none-any.whl (19 kB)\n",
            "  Downloading konoha-4.6.3-py3-none-any.whl (19 kB)\n",
            "Requirement already satisfied: kiwisolver>=1.0.1 in /usr/local/lib/python3.7/dist-packages (from matplotlib->bert-score>=0.3.5->textattack[tensorflow]) (1.3.2)\n",
            "Requirement already satisfied: cycler>=0.10 in /usr/local/lib/python3.7/dist-packages (from matplotlib->bert-score>=0.3.5->textattack[tensorflow]) (0.11.0)\n",
            "Requirement already satisfied: joblib>=0.11 in /usr/local/lib/python3.7/dist-packages (from scikit-learn>=0.21.3->flair->textattack[tensorflow]) (1.1.0)\n",
            "Requirement already satisfied: threadpoolctl>=2.0.0 in /usr/local/lib/python3.7/dist-packages (from scikit-learn>=0.21.3->flair->textattack[tensorflow]) (3.1.0)\n",
            "Requirement already satisfied: wcwidth>=0.2.5 in /usr/local/lib/python3.7/dist-packages (from ftfy->flair->textattack[tensorflow]) (0.2.5)\n",
            "Requirement already satisfied: docopt>=0.6.2 in /usr/local/lib/python3.7/dist-packages (from num2words->textattack[tensorflow]) (0.6.2)\n",
            "Requirement already satisfied: click in /usr/local/lib/python3.7/dist-packages (from sacremoses->transformers>=3.3.0->textattack[tensorflow]) (7.1.2)\n",
            "Building wheels for collected packages: wrapt, gdown, mpld3, overrides, sqlitedict, langdetect, lru-dict, wikipedia-api, word2number\n",
            "  Building wheel for wrapt (setup.py) ... \u001b[?25l\u001b[?25hdone\n",
            "  Created wheel for wrapt: filename=wrapt-1.12.1-cp37-cp37m-linux_x86_64.whl size=68720 sha256=fcafb72b016fe8c2a4d3e9cead98a2c4200db99877e618198cb35d94b7e3a135\n",
            "  Stored in directory: /root/.cache/pip/wheels/62/76/4c/aa25851149f3f6d9785f6c869387ad82b3fd37582fa8147ac6\n",
            "  Building wheel for gdown (PEP 517) ... \u001b[?25l\u001b[?25hdone\n",
            "  Created wheel for gdown: filename=gdown-3.12.2-py3-none-any.whl size=9692 sha256=8e26fee547a7af904c37ee6a7e00a569086e7f57937a1cd174aa39a3d17d78ca\n",
            "  Stored in directory: /root/.cache/pip/wheels/ba/e0/7e/726e872a53f7358b4b96a9975b04e98113b005cd8609a63abc\n",
            "  Building wheel for mpld3 (setup.py) ... \u001b[?25l\u001b[?25hdone\n",
            "  Created wheel for mpld3: filename=mpld3-0.3-py3-none-any.whl size=116702 sha256=c587240a43f24c9e47384f8947801b40a3dc88217d2e0f9543efd9d57c5c9db0\n",
            "  Stored in directory: /root/.cache/pip/wheels/26/70/6a/1c79e59951a41b4045497da187b2724f5659ca64033cf4548e\n",
            "  Building wheel for overrides (setup.py) ... \u001b[?25l\u001b[?25hdone\n",
            "  Created wheel for overrides: filename=overrides-3.1.0-py3-none-any.whl size=10187 sha256=eb3dcef223571bc3d802e53c88ce9618a469bd55062a2224047f62fd505ec723\n",
            "  Stored in directory: /root/.cache/pip/wheels/3a/0d/38/01a9bc6e20dcfaf0a6a7b552d03137558ba1c38aea47644682\n",
            "  Building wheel for sqlitedict (setup.py) ... \u001b[?25l\u001b[?25hdone\n",
            "  Created wheel for sqlitedict: filename=sqlitedict-2.0.0-py3-none-any.whl size=15736 sha256=07bd58341d16f6b6c394b77200f481a3dd428baebdd485ea3ca807ab0a506ddc\n",
            "  Stored in directory: /root/.cache/pip/wheels/96/dd/2e/0ed4a25cb73fc30c7ea8d10b50acb7226175736067e40a7ea3\n",
            "  Building wheel for langdetect (setup.py) ... \u001b[?25l\u001b[?25hdone\n",
            "  Created wheel for langdetect: filename=langdetect-1.0.9-py3-none-any.whl size=993242 sha256=1acfe60a781188a319d2edb55853902ce65284e7b2eb13350e8db0db28e0a161\n",
            "  Stored in directory: /root/.cache/pip/wheels/c5/96/8a/f90c59ed25d75e50a8c10a1b1c2d4c402e4dacfa87f3aff36a\n",
            "  Building wheel for lru-dict (setup.py) ... \u001b[?25l\u001b[?25hdone\n",
            "  Created wheel for lru-dict: filename=lru_dict-1.1.7-cp37-cp37m-linux_x86_64.whl size=28412 sha256=73f0642b9f4fd7ffd715b6afa3d00213c12fed3ae339804df9971545a1362279\n",
            "  Stored in directory: /root/.cache/pip/wheels/9d/0b/4e/aa8fec9833090cd52bcd76f92f9d95e1ee7b915c12093663b4\n",
            "  Building wheel for wikipedia-api (setup.py) ... \u001b[?25l\u001b[?25hdone\n",
            "  Created wheel for wikipedia-api: filename=Wikipedia_API-0.5.4-py3-none-any.whl size=13477 sha256=f9a256ba36adb99db0ad5ea3321c4f992d26bd0bf16f8e5d93a6bf8ef558f3f6\n",
            "  Stored in directory: /root/.cache/pip/wheels/d3/24/56/58ba93cf78be162451144e7a9889603f437976ef1ae7013d04\n",
            "  Building wheel for word2number (setup.py) ... \u001b[?25l\u001b[?25hdone\n",
            "  Created wheel for word2number: filename=word2number-1.1-py3-none-any.whl size=5582 sha256=137051bdbc863254e9f620e1eb98a0d04f56cec5700218fcaa953dc11aa4f73c\n",
            "  Stored in directory: /root/.cache/pip/wheels/4b/c3/77/a5f48aeb0d3efb7cd5ad61cbd3da30bbf9ffc9662b07c9f879\n",
            "Successfully built wrapt gdown mpld3 overrides sqlitedict langdetect lru-dict wikipedia-api word2number\n",
            "Installing collected packages: typing-extensions, numpy, tqdm, wrapt, sentencepiece, overrides, grpcio, absl-py, xxhash, wikipedia-api, tensorflow-estimator, sqlitedict, segtok, mpld3, more-itertools, langdetect, konoha, keras-nightly, janome, gdown, gast, ftfy, flatbuffers, deprecated, conllu, bpemb, word2number, terminaltables, tensorflow, num2words, lru-dict, lemminflect, language-tool-python, flair, datasets, bert-score, textattack, tensorflow-text, tensorboardX\n",
            "  Attempting uninstall: typing-extensions\n",
            "    Found existing installation: typing-extensions 3.10.0.2\n",
            "    Uninstalling typing-extensions-3.10.0.2:\n",
            "      Successfully uninstalled typing-extensions-3.10.0.2\n",
            "  Attempting uninstall: numpy\n",
            "    Found existing installation: numpy 1.21.5\n",
            "    Uninstalling numpy-1.21.5:\n",
            "      Successfully uninstalled numpy-1.21.5\n",
            "  Attempting uninstall: tqdm\n",
            "    Found existing installation: tqdm 4.63.0\n",
            "    Uninstalling tqdm-4.63.0:\n",
            "      Successfully uninstalled tqdm-4.63.0\n",
            "  Attempting uninstall: wrapt\n",
            "    Found existing installation: wrapt 1.13.3\n",
            "    Uninstalling wrapt-1.13.3:\n",
            "      Successfully uninstalled wrapt-1.13.3\n",
            "  Attempting uninstall: grpcio\n",
            "    Found existing installation: grpcio 1.44.0\n",
            "    Uninstalling grpcio-1.44.0:\n",
            "      Successfully uninstalled grpcio-1.44.0\n",
            "  Attempting uninstall: absl-py\n",
            "    Found existing installation: absl-py 1.0.0\n",
            "    Uninstalling absl-py-1.0.0:\n",
            "      Successfully uninstalled absl-py-1.0.0\n",
            "  Attempting uninstall: tensorflow-estimator\n",
            "    Found existing installation: tensorflow-estimator 2.8.0\n",
            "    Uninstalling tensorflow-estimator-2.8.0:\n",
            "      Successfully uninstalled tensorflow-estimator-2.8.0\n",
            "  Attempting uninstall: more-itertools\n",
            "    Found existing installation: more-itertools 8.12.0\n",
            "    Uninstalling more-itertools-8.12.0:\n",
            "      Successfully uninstalled more-itertools-8.12.0\n",
            "  Attempting uninstall: gdown\n",
            "    Found existing installation: gdown 4.2.2\n",
            "    Uninstalling gdown-4.2.2:\n",
            "      Successfully uninstalled gdown-4.2.2\n",
            "  Attempting uninstall: gast\n",
            "    Found existing installation: gast 0.5.3\n",
            "    Uninstalling gast-0.5.3:\n",
            "      Successfully uninstalled gast-0.5.3\n",
            "  Attempting uninstall: flatbuffers\n",
            "    Found existing installation: flatbuffers 2.0\n",
            "    Uninstalling flatbuffers-2.0:\n",
            "      Successfully uninstalled flatbuffers-2.0\n",
            "  Attempting uninstall: tensorflow\n",
            "    Found existing installation: tensorflow 2.8.0\n",
            "    Uninstalling tensorflow-2.8.0:\n",
            "      Successfully uninstalled tensorflow-2.8.0\n",
            "\u001b[31mERROR: pip's dependency resolver does not currently take into account all the packages that are installed. This behaviour is the source of the following dependency conflicts.\n",
            "datascience 0.10.6 requires folium==0.2.1, but you have folium 0.8.3 which is incompatible.\n",
            "albumentations 0.1.12 requires imgaug<0.2.7,>=0.2.5, but you have imgaug 0.2.9 which is incompatible.\u001b[0m\n",
            "Successfully installed absl-py-0.15.0 bert-score-0.3.11 bpemb-0.3.3 conllu-4.4.1 datasets-1.2.1 deprecated-1.2.13 flair-0.10 flatbuffers-1.12 ftfy-6.1.1 gast-0.4.0 gdown-3.12.2 grpcio-1.34.1 janome-0.4.2 keras-nightly-2.5.0.dev2021032900 konoha-4.6.3 langdetect-1.0.9 language-tool-python-2.7.0 lemminflect-0.2.2 lru-dict-1.1.7 more-itertools-8.8.0 mpld3-0.3 num2words-0.5.10 numpy-1.19.5 overrides-3.1.0 segtok-1.5.11 sentencepiece-0.1.95 sqlitedict-2.0.0 tensorboardX-2.5 tensorflow-2.5.0 tensorflow-estimator-2.5.0 tensorflow-text-2.5.0 terminaltables-3.1.10 textattack-0.3.4 tqdm-4.49.0 typing-extensions-3.7.4.3 wikipedia-api-0.5.4 word2number-1.1 wrapt-1.12.1 xxhash-3.0.0\n"
          ]
        },
        {
          "output_type": "display_data",
          "data": {
            "application/vnd.colab-display-data+json": {
              "pip_warning": {
                "packages": [
                  "numpy"
                ]
              }
            }
          },
          "metadata": {}
        }
      ],
      "source": [
        "!pip3 install textattack[tensorflow]"
      ]
    },
    {
      "cell_type": "code",
      "source": [
        ""
      ],
      "metadata": {
        "id": "L_AmVjiSG6P6"
      },
      "execution_count": null,
      "outputs": []
    },
    {
      "cell_type": "code",
      "execution_count": 2,
      "metadata": {
        "id": "KNCInb7pfKEt",
        "colab": {
          "base_uri": "https://localhost:8080/"
        },
        "outputId": "497b60f9-5b9e-447f-dd15-5a42c966b22e"
      },
      "outputs": [
        {
          "output_type": "stream",
          "name": "stdout",
          "text": [
            "Requirement already satisfied: numpy in /usr/local/lib/python3.7/dist-packages (1.21.5)\n"
          ]
        }
      ],
      "source": [
        "pip install --upgrade numpy"
      ]
    },
    {
      "cell_type": "code",
      "execution_count": 1,
      "metadata": {
        "id": "jNCaMfyjeEcP",
        "colab": {
          "base_uri": "https://localhost:8080/"
        },
        "outputId": "8aada978-b23e-474f-e824-cbef7af8fc70"
      },
      "outputs": [
        {
          "output_type": "stream",
          "name": "stdout",
          "text": [
            "Requirement already satisfied: folium==0.2.1 in /usr/local/lib/python3.7/dist-packages (0.2.1)\n",
            "Requirement already satisfied: Jinja2 in /usr/local/lib/python3.7/dist-packages (from folium==0.2.1) (2.11.3)\n",
            "Requirement already satisfied: MarkupSafe>=0.23 in /usr/local/lib/python3.7/dist-packages (from Jinja2->folium==0.2.1) (2.0.1)\n"
          ]
        }
      ],
      "source": [
        "pip install folium==0.2.1"
      ]
    },
    {
      "cell_type": "markdown",
      "metadata": {
        "id": "lrq7Mk7seR2N"
      },
      "source": [
        "## Imports"
      ]
    },
    {
      "cell_type": "code",
      "source": [
        "from textattack import AttackArgs, Attacker\n",
        "from textattack.datasets import HuggingFaceDataset\n",
        "from textattack.models.wrappers import ModelWrapper\n",
        "from textattack import Attack\n",
        "from textattack.constraints.pre_transformation import (\n",
        "        InputColumnModification,\n",
        "        MaxModificationRate,\n",
        "        RepeatModification,\n",
        "        StopwordModification,\n",
        "        MaxWordIndexModification\n",
        "                )\n",
        "from textattack.constraints.semantics import WordEmbeddingDistance\n",
        "from textattack.goal_functions import UntargetedClassification, TargetedClassification, InputReduction\n",
        "from textattack.search_methods import GreedyWordSwapWIR\n",
        "from textattack.transformations import (\n",
        "   \n",
        "    WordSwapNeighboringCharacterSwap,\n",
        "    WordSwapQWERTY,\n",
        "    WordSwapWordNet,\n",
        "    WordSwapRandomCharacterDeletion,\n",
        "    WordSwapRandomCharacterInsertion,\n",
        "    WordSwapRandomCharacterSubstitution,\n",
        "    WordSwapHomoglyphSwap,\n",
        "    WordSwapEmbedding,\n",
        "    WordSwapHowNet,\n",
        "    WordSwapInflections,\n",
        "    WordDeletion,\n",
        "    WordSwapGradientBased,\n",
        "    WordSwapExtend,\n",
        "    WordSwapContract,\n",
        "    WordSwapChangeName,\n",
        "    WordSwapChangeNumber,\n",
        "    WordSwapChangeLocation,\n",
        "    WordSwapRandomCharacterSubstitution,\n",
        "    WordSwapMaskedLM,\n",
        "    WordInsertionMaskedLM,\n",
        "    WordMergeMaskedLM,\n",
        ")\n",
        "from textattack.constraints.overlap import LevenshteinEditDistance\n",
        "#from textattack.attack_recipe import AttackRecipe\n",
        "\n",
        "from abc import ABC, abstractmethod\n",
        "from tqdm import tqdm # tqdm provides us a nice progress bar.\n",
        "from textattack.loggers import CSVLogger # tracks a dataframe for us.\n",
        "from IPython.core.display import display, HTML"
      ],
      "metadata": {
        "id": "qmQ9-Bl74Ihv",
        "colab": {
          "base_uri": "https://localhost:8080/"
        },
        "outputId": "e82cea03-04b5-4617-f722-27e67b011996"
      },
      "execution_count": 3,
      "outputs": [
        {
          "output_type": "stream",
          "name": "stderr",
          "text": [
            "textattack: Updating TextAttack package dependencies.\n",
            "textattack: Downloading NLTK required packages.\n"
          ]
        },
        {
          "output_type": "stream",
          "name": "stdout",
          "text": [
            "[nltk_data] Downloading package averaged_perceptron_tagger to\n",
            "[nltk_data]     /root/nltk_data...\n",
            "[nltk_data]   Unzipping taggers/averaged_perceptron_tagger.zip.\n",
            "[nltk_data] Downloading package stopwords to /root/nltk_data...\n",
            "[nltk_data]   Unzipping corpora/stopwords.zip.\n",
            "[nltk_data] Downloading package omw to /root/nltk_data...\n",
            "[nltk_data]   Unzipping corpora/omw.zip.\n",
            "[nltk_data] Downloading package universal_tagset to /root/nltk_data...\n",
            "[nltk_data]   Unzipping taggers/universal_tagset.zip.\n",
            "[nltk_data] Downloading package wordnet to /root/nltk_data...\n",
            "[nltk_data]   Unzipping corpora/wordnet.zip.\n",
            "[nltk_data] Downloading package punkt to /root/nltk_data...\n",
            "[nltk_data]   Unzipping tokenizers/punkt.zip.\n"
          ]
        },
        {
          "output_type": "stream",
          "name": "stderr",
          "text": [
            "textattack: Downloading https://textattack.s3.amazonaws.com/word_embeddings/paragramcf.\n",
            "100%|██████████| 481M/481M [00:14<00:00, 33.5MB/s]\n",
            "textattack: Unzipping file /root/.cache/textattack/tmp8wrr6h4d.zip to /root/.cache/textattack/word_embeddings/paragramcf.\n",
            "textattack: Successfully saved word_embeddings/paragramcf to cache.\n"
          ]
        }
      ]
    },
    {
      "cell_type": "code",
      "source": [
        "from textattack.datasets import HuggingFaceDataset\n",
        "from textattack.attacker import Attacker\n",
        "from textattack import AttackArgs, Attacker\n",
        "from textattack.datasets import HuggingFaceDataset\n",
        "from textattack.goal_functions import TargetedClassification\n",
        "import transformers\n",
        "from textattack.models.wrappers import HuggingFaceModelWrapper\n",
        "import torch\n",
        "\n",
        "model = transformers.AutoModelForSequenceClassification.from_pretrained(\"textattack/albert-base-v2-imdb\")\n",
        "tokenizer = transformers.AutoTokenizer.from_pretrained(\"textattack/albert-base-v2-imdb\")\n",
        "# We wrap the model so it can be used by textattack\n",
        "model_wrapper = HuggingFaceModelWrapper(model, tokenizer)\n",
        "\n",
        "dataset = HuggingFaceDataset(\"rotten_tomatoes\", None, \"test\", shuffle=True)\n",
        "#dataset = HuggingFaceDataset(\"imdb\", split=\"test\")\n",
        "#dataset = HuggingFaceDataset(\"glue\", \"sst2\", \"train\")"
      ],
      "metadata": {
        "colab": {
          "base_uri": "https://localhost:8080/",
          "height": 502,
          "referenced_widgets": [
            "934bd177a13e4529828def5bcce4fe2b",
            "3653954bf0de4fab97128f76bc526daf",
            "6e80764aa22e45fdb47b8364e5c775cf",
            "d62778fe0d6745469fe7afb74f0c537f",
            "2cd6dc64f9214a36b764f745f3ede831",
            "6b3e5fd7e28844ebb7af17347ac49ae1",
            "4832592a04c34cc9be457981d0e46b41",
            "7de3bd3677f24ea38d591bea92416b34",
            "ad978be2e6a8463386d026ace433124e",
            "1980804a6562437291c1e4663a10470c",
            "46410bcfc58040ab9dca6cdfd23440bb",
            "36971ca6bc074f5c87bb2cd80d8c3788",
            "c1bef7d45e9446769747b4861008a683",
            "7fbb04e7c8c842a4b4877037b89c8a23",
            "f43164733d0b47f990175ae419b3ec9a",
            "bc43ec30a19b426fb785eff27d40a09b",
            "4ec15b14766c46b389ead550f5314939",
            "3dcd3c0951314ca4ae728cfbe0d5fb04",
            "be5fe53bf93e4c5b9c547b0e0333494b",
            "ae81bd4db5024674b887cc32a772c244",
            "32372ab1517443c28f69681ed16ec696",
            "9e7be9280c13429b9ff1195905cc5984",
            "b2e42d556d4f4f3eb032f37e3a2e7cd0",
            "82d204ec85da449eb22ab94676d8073b",
            "d657c056c77c4a2a99e4edd39b960070",
            "8c9859ee502d4dddaefddc5a1121ad97",
            "2180266c0e5c4e2fb9942751d906b725",
            "c02819e2128b40939f49c6ff7149f323",
            "90b116eb89cc4b62beef05599c557fee",
            "77091fabdcac4076967199d7f00d02da",
            "a62d80b1e0594cb0b7fd34423432c11b",
            "3b6e2d60d2c741b5baf798537f9059a8",
            "598ea1277cc84affa83d21899e08ea0e",
            "8f8c543c4d45405c9a072cddb5b6f5fc",
            "90c45a62da854e1385f9fba03425084f",
            "68a4ad5c07274e7fb982162110f7be92",
            "c5cb0dce1b674ac1b51d3cebd5f3984f",
            "7c178384a4c7440e90b3b49302624177",
            "559e349d7c4946b989c03c0622e26fba",
            "68cd5ec1079e4f71bb6589da2a93e6ad",
            "7b6c823e0b7a45dcb59fb3c11590072e",
            "578d7fbd115243b5a55742c5cad15319",
            "991a26a5dd3c49448a340ab9b2dbec5d",
            "5dbedd62a2134bc485cb5be3077070de",
            "396932de3d2d42b8b4a3e39cf0bba4a8",
            "83d054f77c2940799138fd97109c72cd",
            "bc2da1351389403fbcfa9645a6419cd5",
            "a7e393b1549648a59d3d13dc9491dcda",
            "710d67ee14ac40c4be1a0e65a8061fc7",
            "be5780c6249e4384af5d624e6435145c",
            "a02fa4d82f964e10be9aea6c6ae5e45e",
            "dddbc60138874788872d2c8fb960d81c",
            "81b82c5814254178b05bb2a537fa50f4",
            "5b2bf98c5c2d4be19af21aafce9ffabd",
            "3f034ac4586c4733a07eaabfb3812ea8",
            "d4396e4bbd8247498c30be064d7fc768",
            "04997f49a1fb4b52bd81bdfd1023f1ef",
            "a82ff97e4d664c9da940b20c0e67d7c8",
            "53a47de0e04c408299ff9595071dcb5f",
            "114a93ce190f44a19b235248d007c43c",
            "bb987c1e4944424a8bc59d0e5673182d",
            "f759537e5b9743918daa709163c098f6",
            "007c35fbc0af4203b1ea9e5ab94839a4",
            "1a8cbf1a4a864d7d940f837936a207c1",
            "297a2d2cf7e949aeae039aa96dee2aaa",
            "da47cfa64b1040dc9020815b443730d8",
            "2bc0012a3e2545e1b5877567088a03f2",
            "096144772f90485ab7af51acaddf504f",
            "499d03793dd444c1bb2f082d441d8981",
            "95d6c0caa72147bc89f9eb4d14b68c70",
            "aa9c4ed119bf44e097b9a9673c539bfa",
            "d8cd0382711a4095b88f4d51d696f9c1",
            "aabf113b01bd43dd8cf97ef433ad36ab",
            "1009367ca28a44a994f8844f7206975c",
            "aecad6b228764039b70e218524d82131",
            "faf426a93c1745179ded7535fd1e5b57",
            "d09545dbca284fd98bc5df7f96734dee",
            "896f36ece3484571bfbcc6ce28d57275",
            "88967b822e374190997fcd4d498cf3cc",
            "c3c7a354aa0a449d8a131011a63044f3",
            "982d0f46a9ee43d2a90932f3b5bd241b",
            "f2705664334649bba561ae8c7c8558ba",
            "73ff972e92d14be4a118c215cc5d5793",
            "a07ce1ff1388437c9dfdac86af1400de",
            "0a5595c531854171b7e978c5d04c62dd",
            "740c72e7e5be49d2a2c04d4a3ec98034",
            "520280dd727c4db6aa956f57bff28433",
            "de39049f1f3f4a95bcedbe2916cf4c65"
          ]
        },
        "id": "QQmwMwqyQ7Qy",
        "outputId": "dbc05412-8815-4b8e-b23a-3690320bc2b9"
      },
      "execution_count": 4,
      "outputs": [
        {
          "output_type": "display_data",
          "data": {
            "application/vnd.jupyter.widget-view+json": {
              "model_id": "934bd177a13e4529828def5bcce4fe2b",
              "version_minor": 0,
              "version_major": 2
            },
            "text/plain": [
              "HBox(children=(FloatProgress(value=0.0, description='Downloading', max=727.0, style=ProgressStyle(description_…"
            ]
          },
          "metadata": {}
        },
        {
          "output_type": "stream",
          "name": "stdout",
          "text": [
            "\n"
          ]
        },
        {
          "output_type": "display_data",
          "data": {
            "application/vnd.jupyter.widget-view+json": {
              "model_id": "ad978be2e6a8463386d026ace433124e",
              "version_minor": 0,
              "version_major": 2
            },
            "text/plain": [
              "HBox(children=(FloatProgress(value=0.0, description='Downloading', max=46747112.0, style=ProgressStyle(descrip…"
            ]
          },
          "metadata": {}
        },
        {
          "output_type": "stream",
          "name": "stdout",
          "text": [
            "\n"
          ]
        },
        {
          "output_type": "display_data",
          "data": {
            "application/vnd.jupyter.widget-view+json": {
              "model_id": "4ec15b14766c46b389ead550f5314939",
              "version_minor": 0,
              "version_major": 2
            },
            "text/plain": [
              "HBox(children=(FloatProgress(value=0.0, description='Downloading', max=25.0, style=ProgressStyle(description_w…"
            ]
          },
          "metadata": {}
        },
        {
          "output_type": "stream",
          "name": "stdout",
          "text": [
            "\n"
          ]
        },
        {
          "output_type": "display_data",
          "data": {
            "application/vnd.jupyter.widget-view+json": {
              "model_id": "d657c056c77c4a2a99e4edd39b960070",
              "version_minor": 0,
              "version_major": 2
            },
            "text/plain": [
              "HBox(children=(FloatProgress(value=0.0, description='Downloading', max=760289.0, style=ProgressStyle(descripti…"
            ]
          },
          "metadata": {}
        },
        {
          "output_type": "stream",
          "name": "stdout",
          "text": [
            "\n"
          ]
        },
        {
          "output_type": "display_data",
          "data": {
            "application/vnd.jupyter.widget-view+json": {
              "model_id": "598ea1277cc84affa83d21899e08ea0e",
              "version_minor": 0,
              "version_major": 2
            },
            "text/plain": [
              "HBox(children=(FloatProgress(value=0.0, description='Downloading', max=156.0, style=ProgressStyle(description_…"
            ]
          },
          "metadata": {}
        },
        {
          "output_type": "stream",
          "name": "stdout",
          "text": [
            "\n"
          ]
        },
        {
          "output_type": "display_data",
          "data": {
            "application/vnd.jupyter.widget-view+json": {
              "model_id": "7b6c823e0b7a45dcb59fb3c11590072e",
              "version_minor": 0,
              "version_major": 2
            },
            "text/plain": [
              "HBox(children=(FloatProgress(value=0.0, description='Downloading', max=1895.0, style=ProgressStyle(description…"
            ]
          },
          "metadata": {}
        },
        {
          "output_type": "stream",
          "name": "stdout",
          "text": [
            "\n"
          ]
        },
        {
          "output_type": "display_data",
          "data": {
            "application/vnd.jupyter.widget-view+json": {
              "model_id": "710d67ee14ac40c4be1a0e65a8061fc7",
              "version_minor": 0,
              "version_major": 2
            },
            "text/plain": [
              "HBox(children=(FloatProgress(value=0.0, description='Downloading', max=869.0, style=ProgressStyle(description_…"
            ]
          },
          "metadata": {}
        },
        {
          "output_type": "stream",
          "name": "stderr",
          "text": [
            "Using custom data configuration default\n"
          ]
        },
        {
          "output_type": "stream",
          "name": "stdout",
          "text": [
            "\n",
            "Downloading and preparing dataset rotten_tomatoes_movie_review/default (download: 476.34 KiB, generated: 1.28 MiB, post-processed: Unknown size, total: 1.75 MiB) to /root/.cache/huggingface/datasets/rotten_tomatoes_movie_review/default/1.0.0/9198dbc50858df8bdb0d5f18ccaf33125800af96ad8434bc8b829918c987ee8a...\n"
          ]
        },
        {
          "output_type": "display_data",
          "data": {
            "application/vnd.jupyter.widget-view+json": {
              "model_id": "04997f49a1fb4b52bd81bdfd1023f1ef",
              "version_minor": 0,
              "version_major": 2
            },
            "text/plain": [
              "HBox(children=(FloatProgress(value=0.0, description='Downloading', max=487770.0, style=ProgressStyle(descripti…"
            ]
          },
          "metadata": {}
        },
        {
          "output_type": "stream",
          "name": "stdout",
          "text": [
            "\n"
          ]
        },
        {
          "output_type": "display_data",
          "data": {
            "application/vnd.jupyter.widget-view+json": {
              "model_id": "297a2d2cf7e949aeae039aa96dee2aaa",
              "version_minor": 0,
              "version_major": 2
            },
            "text/plain": [
              "HBox(children=(FloatProgress(value=1.0, bar_style='info', layout=Layout(width='20px'), max=1.0), HTML(value=''…"
            ]
          },
          "metadata": {}
        },
        {
          "output_type": "display_data",
          "data": {
            "application/vnd.jupyter.widget-view+json": {
              "model_id": "aabf113b01bd43dd8cf97ef433ad36ab",
              "version_minor": 0,
              "version_major": 2
            },
            "text/plain": [
              "HBox(children=(FloatProgress(value=1.0, bar_style='info', layout=Layout(width='20px'), max=1.0), HTML(value=''…"
            ]
          },
          "metadata": {}
        },
        {
          "output_type": "display_data",
          "data": {
            "application/vnd.jupyter.widget-view+json": {
              "model_id": "982d0f46a9ee43d2a90932f3b5bd241b",
              "version_minor": 0,
              "version_major": 2
            },
            "text/plain": [
              "HBox(children=(FloatProgress(value=1.0, bar_style='info', layout=Layout(width='20px'), max=1.0), HTML(value=''…"
            ]
          },
          "metadata": {}
        },
        {
          "output_type": "stream",
          "name": "stderr",
          "text": [
            "textattack: Loading \u001b[94mdatasets\u001b[0m dataset \u001b[94mrotten_tomatoes\u001b[0m, split \u001b[94mtest\u001b[0m.\n"
          ]
        },
        {
          "output_type": "stream",
          "name": "stdout",
          "text": [
            "Dataset rotten_tomatoes_movie_review downloaded and prepared to /root/.cache/huggingface/datasets/rotten_tomatoes_movie_review/default/1.0.0/9198dbc50858df8bdb0d5f18ccaf33125800af96ad8434bc8b829918c987ee8a. Subsequent calls will reuse this data.\n"
          ]
        }
      ]
    },
    {
      "cell_type": "markdown",
      "source": [
        "##Custom Recipes"
      ],
      "metadata": {
        "id": "vShRxU9QwnG9"
      }
    },
    {
      "cell_type": "code",
      "source": [
        "class Recipe(Attack,ABC):\n",
        "    @staticmethod\n",
        "    def build(model_wrapper,transf,gf):\n",
        "        if(transf == \"WordSwapWordNet\"):\n",
        "            transformation = WordSwapWordNet()\n",
        "        elif(transf == \"WordSwapQWERTY\"):\n",
        "            transformation = WordSwapQWERTY()\n",
        "        elif(transf == \"WordSwapHomoglyphSwap\"):\n",
        "            transformation = WordSwapHomoglyphSwap()\n",
        "        elif(transf == \"WordSwapNeighboringCharacterSwap\"):\n",
        "            transformation = WordSwapNeighboringCharacterSwap(random_one=True,skip_first_char=True,skip_last_char=True,)\n",
        "        elif(transf == \"WordSwapRandomCharacterInsertion\"):\n",
        "            transformation = WordSwapRandomCharacterInsertion(\n",
        "                        random_one=True,\n",
        "                        letters_to_insert=\" \",\n",
        "                        skip_first_char=True,\n",
        "                        skip_last_char=True,\n",
        "                    )\n",
        "        elif(transf == \"WordSwapRandomCharacterDeletion\"):\n",
        "             transformation = WordSwapRandomCharacterDeletion(\n",
        "                        random_one=True, skip_first_char=True, skip_last_char=True\n",
        "                    )\n",
        "        elif(transf == \"WordSwapEmbedding\"):\n",
        "             transformation = WordSwapEmbedding(max_candidates=5)\n",
        "        elif(transf == \"WordSwapHowNet\"):\n",
        "             transformation = WordSwapHowNet()\n",
        "        elif(transf == \"WordSwapInflections\"):\n",
        "             transformation = WordSwapInflections()\n",
        "        elif(transf == \"WordDeletion\"):\n",
        "             transformation = WordDeletion()\n",
        "        elif(transf == \"WordSwapGradientBased\"):\n",
        "             transformation = WordSwapGradientBased(model_wrapper, top_n=1)\n",
        "        elif(transf == \"WordSwapExtend\"):\n",
        "             transformation = WordSwapExtend()\n",
        "        elif(transf == \"WordSwapContract\"):\n",
        "             transformation = WordSwapContract()\n",
        "        elif(transf == \"WordSwapChangeName\"):\n",
        "             transformation = WordSwapChangeName()\n",
        "        elif(transf == \"WordSwapChangeNumber\"):\n",
        "             transformation = WordSwapChangeNumber()  \n",
        "        elif(transf == \"WordSwapChangeLocation\"):\n",
        "             transformation = WordSwapChangeLocation()\n",
        "        elif(transf == \"WordSwapRandomCharacterSubstitution\"):\n",
        "             transformation = WordSwapRandomCharacterSubstitution()\n",
        "        elif(transf == \"WordSwapMaskedLM\"):\n",
        "             transformation = WordSwapMaskedLM(method=\"bert-attack\", max_candidates=48)\n",
        "        elif(transf == \"WordInsertionMaskedLM\"):\n",
        "             transformation = WordInsertionMaskedLM(\n",
        "                    #masked_language_model=shared_masked_lm,\n",
        "                    #tokenizer=shared_tokenizer,\n",
        "                    max_candidates=50,\n",
        "                    min_confidence=0.0,\n",
        "                )\n",
        "        elif(transf == \"WordMergeMaskedLM\"):\n",
        "             transformation = WordMergeMaskedLM(\n",
        "                    #masked_language_model=shared_masked_lm,\n",
        "                    #tokenizer=shared_tokenizer,\n",
        "                    max_candidates=50,\n",
        "                    min_confidence=5e-3,\n",
        "                )\n",
        "\n",
        "        constraints = [RepeatModification(), StopwordModification()]\n",
        "        if(gf == \"TC\"):\n",
        "            goal_function = TargetedClassification(model_wrapper)\n",
        "        elif(gf == \"IR\"):\n",
        "            goal_function = InputReduction(model_wrapper)\n",
        "        elif(gf == \"UTC\"):\n",
        "            goal_function = UntargetedClassification(model_wrapper)\n",
        "        # search over words based on a combination of their saliency score, and how efficient the WordSwap transform is\n",
        "        search_method = GreedyWordSwapWIR(\"weighted-saliency\")\n",
        "        return Attack(goal_function, constraints, transformation, search_method)\n"
      ],
      "metadata": {
        "id": "BNET1-TUwlx-"
      },
      "execution_count": 5,
      "outputs": []
    },
    {
      "cell_type": "markdown",
      "source": [
        "InputReduction - 'WordSwapWordNet','WordSwapHomoglyphSwap','WordSwapNeighboringCharacterSwap',\n",
        "'WordSwapRandomCharacterDeletion','WordSwapEmbedding',\n",
        "'WordSwapHowNet','WordDeletion','WordMergeMaskedLM',\n",
        "               'WordSwapRandomCharacterSubstitution'"
      ],
      "metadata": {
        "id": "smOVTWSUjMew"
      }
    },
    {
      "cell_type": "code",
      "source": [
        "transf_list = ['WordSwapWordNet','WordSwapHomoglyphSwap','WordSwapNeighboringCharacterSwap',\n",
        "               'WordSwapRandomCharacterDeletion','WordSwapEmbedding',\n",
        "               'WordSwapHowNet','WordDeletion','WordMergeMaskedLM',\n",
        "               'WordSwapRandomCharacterSubstitution','WordSwapMaskedLM',\n",
        "               'WordInsertionMaskedLM','WordMergeMaskedLM']\n",
        "gf_list = ['IR','TC','UTC']\n",
        "              \n",
        "for gf in gf_list:         \n",
        "    for transf in transf_list:\n",
        "        print(\"Starting attack for-----------------\",transf,gf)\n",
        "        try:\n",
        "            attack = Recipe.build(model_wrapper,transf,gf)\n",
        "            attack_args = AttackArgs(num_examples=8,)\n",
        "            attacker = Attacker(attack, dataset,attack_args)\n",
        "            attack_results = attacker.attack_dataset()\n",
        "        except ValueError:\n",
        "            print(\"Not compatible\")\n",
        "            pass"
      ],
      "metadata": {
        "colab": {
          "base_uri": "https://localhost:8080/"
        },
        "id": "w34LCjkLigwN",
        "outputId": "8ce55a3b-9901-442d-aec5-e76358c8358b"
      },
      "execution_count": 7,
      "outputs": [
        {
          "output_type": "stream",
          "name": "stderr",
          "text": [
            "textattack: Unknown if model of class <class 'transformers.models.albert.modeling_albert.AlbertForSequenceClassification'> compatible with goal function <class 'textattack.goal_functions.classification.input_reduction.InputReduction'>.\n",
            "  0%|          | 0/8 [00:00<?, ?it/s]"
          ]
        },
        {
          "output_type": "stream",
          "name": "stdout",
          "text": [
            "Starting attack for----------------- WordSwapWordNet IR\n",
            "Attack(\n",
            "  (search_method): GreedyWordSwapWIR(\n",
            "    (wir_method):  weighted-saliency\n",
            "  )\n",
            "  (goal_function):  InputReduction(\n",
            "    (maximizable):  False\n",
            "    (target_num_words):  1\n",
            "  )\n",
            "  (transformation):  WordSwapWordNet\n",
            "  (constraints): \n",
            "    (0): RepeatModification\n",
            "    (1): StopwordModification\n",
            "  (is_black_box):  True\n",
            ") \n",
            "\n"
          ]
        },
        {
          "output_type": "stream",
          "name": "stderr",
          "text": [
            "[Succeeded / Failed / Skipped / Total] 0 / 1 / 0 / 1:  12%|█▎        | 1/8 [00:07<00:50,  7.26s/it]"
          ]
        },
        {
          "output_type": "stream",
          "name": "stdout",
          "text": [
            "--------------------------------------------- Result 1 ---------------------------------------------\n",
            "[[Positive (100%)]] --> [[[FAILED]]]\n",
            "\n",
            "lovingly photographed in the manner of a golden book sprung to life , stuart little 2 manages sweetness largely without stickiness .\n",
            "\n",
            "\n"
          ]
        },
        {
          "output_type": "stream",
          "name": "stderr",
          "text": [
            "[Succeeded / Failed / Skipped / Total] 0 / 2 / 1 / 3:  38%|███▊      | 3/8 [00:07<00:13,  2.62s/it]"
          ]
        },
        {
          "output_type": "stream",
          "name": "stdout",
          "text": [
            "--------------------------------------------- Result 2 ---------------------------------------------\n",
            "[[Positive (100%)]] --> [[[FAILED]]]\n",
            "\n",
            "consistently clever and suspenseful .\n",
            "\n",
            "\n",
            "--------------------------------------------- Result 3 ---------------------------------------------\n",
            "[[Negative (85%)]] --> [[[SKIPPED]]]\n",
            "\n",
            "it's like a \" big chill \" reunion of the baader-meinhof gang , only these guys are more harmless pranksters than political activists .\n",
            "\n",
            "\n"
          ]
        },
        {
          "output_type": "stream",
          "name": "stderr",
          "text": [
            "[Succeeded / Failed / Skipped / Total] 0 / 3 / 1 / 4:  50%|█████     | 4/8 [00:15<00:15,  3.77s/it]"
          ]
        },
        {
          "output_type": "stream",
          "name": "stdout",
          "text": [
            "--------------------------------------------- Result 4 ---------------------------------------------\n",
            "[[Positive (100%)]] --> [[[FAILED]]]\n",
            "\n",
            "the story gives ample opportunity for large-scale action and suspense , which director shekhar kapur supplies with tremendous skill .\n",
            "\n",
            "\n"
          ]
        },
        {
          "output_type": "stream",
          "name": "stderr",
          "text": [
            "[Succeeded / Failed / Skipped / Total] 0 / 4 / 2 / 6:  75%|███████▌  | 6/8 [00:19<00:06,  3.20s/it]"
          ]
        },
        {
          "output_type": "stream",
          "name": "stdout",
          "text": [
            "--------------------------------------------- Result 5 ---------------------------------------------\n",
            "[[Positive (74%)]] --> [[[FAILED]]]\n",
            "\n",
            "red dragon \" never cuts corners .\n",
            "\n",
            "\n",
            "--------------------------------------------- Result 6 ---------------------------------------------\n",
            "[[Negative (64%)]] --> [[[SKIPPED]]]\n",
            "\n",
            "fresnadillo has something serious to say about the ways in which extravagant chance can distort our perspective and throw us off the path of good sense .\n",
            "\n",
            "\n"
          ]
        },
        {
          "output_type": "stream",
          "name": "stderr",
          "text": [
            "\r[Succeeded / Failed / Skipped / Total] 0 / 5 / 2 / 7:  88%|████████▊ | 7/8 [00:30<00:04,  4.34s/it]"
          ]
        },
        {
          "output_type": "stream",
          "name": "stdout",
          "text": [
            "--------------------------------------------- Result 7 ---------------------------------------------\n",
            "[[Positive (100%)]] --> [[[FAILED]]]\n",
            "\n",
            "throws in enough clever and unexpected twists to make the formula feel fresh .\n",
            "\n",
            "\n"
          ]
        },
        {
          "output_type": "stream",
          "name": "stderr",
          "text": [
            "[Succeeded / Failed / Skipped / Total] 0 / 6 / 2 / 8: 100%|██████████| 8/8 [00:34<00:00,  4.31s/it]"
          ]
        },
        {
          "output_type": "stream",
          "name": "stdout",
          "text": [
            "--------------------------------------------- Result 8 ---------------------------------------------\n",
            "[[Positive (97%)]] --> [[[FAILED]]]\n",
            "\n",
            "weighty and ponderous but every bit as filling as the treat of the title .\n",
            "\n",
            "\n",
            "\n",
            "+-------------------------------+--------+\n",
            "| Attack Results                |        |\n",
            "+-------------------------------+--------+\n",
            "| Number of successful attacks: | 0      |\n",
            "| Number of failed attacks:     | 6      |\n",
            "| Number of skipped attacks:    | 2      |\n",
            "| Original accuracy:            | 75.0%  |\n",
            "| Accuracy under attack:        | 75.0%  |\n",
            "| Attack success rate:          | 0.0%   |\n",
            "| Average perturbed word %:     | nan%   |\n",
            "| Average num. words per input: | 15.0   |\n",
            "| Avg num queries:              | 179.33 |\n",
            "+-------------------------------+--------+"
          ]
        },
        {
          "output_type": "stream",
          "name": "stderr",
          "text": [
            "\n",
            "/usr/local/lib/python3.7/dist-packages/textattack/metrics/attack_metrics/words_perturbed.py:83: RuntimeWarning: Mean of empty slice.\n",
            "  average_perc_words_perturbed = self.perturbed_word_percentages.mean()\n",
            "/usr/local/lib/python3.7/dist-packages/numpy/core/_methods.py:189: RuntimeWarning: invalid value encountered in double_scalars\n",
            "  ret = ret.dtype.type(ret / rcount)\n",
            "textattack: Unknown if model of class <class 'transformers.models.albert.modeling_albert.AlbertForSequenceClassification'> compatible with goal function <class 'textattack.goal_functions.classification.input_reduction.InputReduction'>.\n",
            "  0%|          | 0/8 [00:00<?, ?it/s]"
          ]
        },
        {
          "output_type": "stream",
          "name": "stdout",
          "text": [
            "\n",
            "Starting attack for----------------- WordSwapHomoglyphSwap IR\n",
            "Attack(\n",
            "  (search_method): GreedyWordSwapWIR(\n",
            "    (wir_method):  weighted-saliency\n",
            "  )\n",
            "  (goal_function):  InputReduction(\n",
            "    (maximizable):  False\n",
            "    (target_num_words):  1\n",
            "  )\n",
            "  (transformation):  WordSwapHomoglyphSwap\n",
            "  (constraints): \n",
            "    (0): RepeatModification\n",
            "    (1): StopwordModification\n",
            "  (is_black_box):  True\n",
            ") \n",
            "\n"
          ]
        },
        {
          "output_type": "stream",
          "name": "stderr",
          "text": [
            "[Succeeded / Failed / Skipped / Total] 0 / 1 / 0 / 1:  12%|█▎        | 1/8 [00:07<00:52,  7.46s/it]"
          ]
        },
        {
          "output_type": "stream",
          "name": "stdout",
          "text": [
            "--------------------------------------------- Result 1 ---------------------------------------------\n",
            "[[Positive (100%)]] --> [[[FAILED]]]\n",
            "\n",
            "lovingly photographed in the manner of a golden book sprung to life , stuart little 2 manages sweetness largely without stickiness .\n",
            "\n",
            "\n"
          ]
        },
        {
          "output_type": "stream",
          "name": "stderr",
          "text": [
            "[Succeeded / Failed / Skipped / Total] 0 / 2 / 1 / 3:  38%|███▊      | 3/8 [00:08<00:14,  2.91s/it]"
          ]
        },
        {
          "output_type": "stream",
          "name": "stdout",
          "text": [
            "--------------------------------------------- Result 2 ---------------------------------------------\n",
            "[[Positive (100%)]] --> [[[FAILED]]]\n",
            "\n",
            "consistently clever and suspenseful .\n",
            "\n",
            "\n",
            "--------------------------------------------- Result 3 ---------------------------------------------\n",
            "[[Negative (85%)]] --> [[[SKIPPED]]]\n",
            "\n",
            "it's like a \" big chill \" reunion of the baader-meinhof gang , only these guys are more harmless pranksters than political activists .\n",
            "\n",
            "\n"
          ]
        },
        {
          "output_type": "stream",
          "name": "stderr",
          "text": [
            "[Succeeded / Failed / Skipped / Total] 0 / 3 / 1 / 4:  50%|█████     | 4/8 [00:15<00:15,  3.99s/it]"
          ]
        },
        {
          "output_type": "stream",
          "name": "stdout",
          "text": [
            "--------------------------------------------- Result 4 ---------------------------------------------\n",
            "[[Positive (100%)]] --> [[[FAILED]]]\n",
            "\n",
            "the story gives ample opportunity for large-scale action and suspense , which director shekhar kapur supplies with tremendous skill .\n",
            "\n",
            "\n"
          ]
        },
        {
          "output_type": "stream",
          "name": "stderr",
          "text": [
            "[Succeeded / Failed / Skipped / Total] 0 / 4 / 2 / 6:  75%|███████▌  | 6/8 [00:17<00:05,  2.99s/it]"
          ]
        },
        {
          "output_type": "stream",
          "name": "stdout",
          "text": [
            "--------------------------------------------- Result 5 ---------------------------------------------\n",
            "[[Positive (74%)]] --> [[[FAILED]]]\n",
            "\n",
            "red dragon \" never cuts corners .\n",
            "\n",
            "\n",
            "--------------------------------------------- Result 6 ---------------------------------------------\n",
            "[[Negative (64%)]] --> [[[SKIPPED]]]\n",
            "\n",
            "fresnadillo has something serious to say about the ways in which extravagant chance can distort our perspective and throw us off the path of good sense .\n",
            "\n",
            "\n"
          ]
        },
        {
          "output_type": "stream",
          "name": "stderr",
          "text": [
            "\r[Succeeded / Failed / Skipped / Total] 0 / 5 / 2 / 7:  88%|████████▊ | 7/8 [00:22<00:03,  3.16s/it]"
          ]
        },
        {
          "output_type": "stream",
          "name": "stdout",
          "text": [
            "--------------------------------------------- Result 7 ---------------------------------------------\n",
            "[[Positive (100%)]] --> [[[FAILED]]]\n",
            "\n",
            "throws in enough clever and unexpected twists to make the formula feel fresh .\n",
            "\n",
            "\n"
          ]
        },
        {
          "output_type": "stream",
          "name": "stderr",
          "text": [
            "[Succeeded / Failed / Skipped / Total] 0 / 6 / 2 / 8: 100%|██████████| 8/8 [00:25<00:00,  3.18s/it]"
          ]
        },
        {
          "output_type": "stream",
          "name": "stdout",
          "text": [
            "--------------------------------------------- Result 8 ---------------------------------------------\n",
            "[[Positive (97%)]] --> [[[FAILED]]]\n",
            "\n",
            "weighty and ponderous but every bit as filling as the treat of the title .\n",
            "\n",
            "\n",
            "\n",
            "+-------------------------------+--------+\n",
            "| Attack Results                |        |\n",
            "+-------------------------------+--------+\n",
            "| Number of successful attacks: | 0      |\n",
            "| Number of failed attacks:     | 6      |\n",
            "| Number of skipped attacks:    | 2      |\n",
            "| Original accuracy:            | 75.0%  |\n",
            "| Accuracy under attack:        | 75.0%  |\n",
            "| Attack success rate:          | 0.0%   |\n",
            "| Average perturbed word %:     | nan%   |\n",
            "| Average num. words per input: | 15.0   |\n",
            "| Avg num queries:              | 127.33 |\n",
            "+-------------------------------+--------+"
          ]
        },
        {
          "output_type": "stream",
          "name": "stderr",
          "text": [
            "\n",
            "textattack: Unknown if model of class <class 'transformers.models.albert.modeling_albert.AlbertForSequenceClassification'> compatible with goal function <class 'textattack.goal_functions.classification.input_reduction.InputReduction'>.\n",
            "  0%|          | 0/8 [00:00<?, ?it/s]"
          ]
        },
        {
          "output_type": "stream",
          "name": "stdout",
          "text": [
            "\n",
            "Starting attack for----------------- WordSwapNeighboringCharacterSwap IR\n",
            "Attack(\n",
            "  (search_method): GreedyWordSwapWIR(\n",
            "    (wir_method):  weighted-saliency\n",
            "  )\n",
            "  (goal_function):  InputReduction(\n",
            "    (maximizable):  False\n",
            "    (target_num_words):  1\n",
            "  )\n",
            "  (transformation):  WordSwapNeighboringCharacterSwap(\n",
            "    (random_one):  True\n",
            "  )\n",
            "  (constraints): \n",
            "    (0): RepeatModification\n",
            "    (1): StopwordModification\n",
            "  (is_black_box):  True\n",
            ") \n",
            "\n"
          ]
        },
        {
          "output_type": "stream",
          "name": "stderr",
          "text": [
            "[Succeeded / Failed / Skipped / Total] 0 / 1 / 0 / 1:  12%|█▎        | 1/8 [00:01<00:11,  1.71s/it]"
          ]
        },
        {
          "output_type": "stream",
          "name": "stdout",
          "text": [
            "--------------------------------------------- Result 1 ---------------------------------------------\n",
            "[[Positive (100%)]] --> [[[FAILED]]]\n",
            "\n",
            "lovingly photographed in the manner of a golden book sprung to life , stuart little 2 manages sweetness largely without stickiness .\n",
            "\n",
            "\n"
          ]
        },
        {
          "output_type": "stream",
          "name": "stderr",
          "text": [
            "[Succeeded / Failed / Skipped / Total] 0 / 2 / 1 / 3:  38%|███▊      | 3/8 [00:02<00:03,  1.38it/s]"
          ]
        },
        {
          "output_type": "stream",
          "name": "stdout",
          "text": [
            "--------------------------------------------- Result 2 ---------------------------------------------\n",
            "[[Positive (100%)]] --> [[[FAILED]]]\n",
            "\n",
            "consistently clever and suspenseful .\n",
            "\n",
            "\n",
            "--------------------------------------------- Result 3 ---------------------------------------------\n",
            "[[Negative (85%)]] --> [[[SKIPPED]]]\n",
            "\n",
            "it's like a \" big chill \" reunion of the baader-meinhof gang , only these guys are more harmless pranksters than political activists .\n",
            "\n",
            "\n"
          ]
        },
        {
          "output_type": "stream",
          "name": "stderr",
          "text": [
            "[Succeeded / Failed / Skipped / Total] 0 / 3 / 1 / 4:  50%|█████     | 4/8 [00:03<00:03,  1.03it/s]"
          ]
        },
        {
          "output_type": "stream",
          "name": "stdout",
          "text": [
            "--------------------------------------------- Result 4 ---------------------------------------------\n",
            "[[Positive (100%)]] --> [[[FAILED]]]\n",
            "\n",
            "the story gives ample opportunity for large-scale action and suspense , which director shekhar kapur supplies with tremendous skill .\n",
            "\n",
            "\n"
          ]
        },
        {
          "output_type": "stream",
          "name": "stderr",
          "text": [
            "[Succeeded / Failed / Skipped / Total] 0 / 4 / 2 / 6:  75%|███████▌  | 6/8 [00:04<00:01,  1.35it/s]"
          ]
        },
        {
          "output_type": "stream",
          "name": "stdout",
          "text": [
            "--------------------------------------------- Result 5 ---------------------------------------------\n",
            "[[Positive (74%)]] --> [[[FAILED]]]\n",
            "\n",
            "red dragon \" never cuts corners .\n",
            "\n",
            "\n",
            "--------------------------------------------- Result 6 ---------------------------------------------\n",
            "[[Negative (64%)]] --> [[[SKIPPED]]]\n",
            "\n",
            "fresnadillo has something serious to say about the ways in which extravagant chance can distort our perspective and throw us off the path of good sense .\n",
            "\n",
            "\n"
          ]
        },
        {
          "output_type": "stream",
          "name": "stderr",
          "text": [
            "\r[Succeeded / Failed / Skipped / Total] 0 / 5 / 2 / 7:  88%|████████▊ | 7/8 [00:05<00:00,  1.26it/s]"
          ]
        },
        {
          "output_type": "stream",
          "name": "stdout",
          "text": [
            "--------------------------------------------- Result 7 ---------------------------------------------\n",
            "[[Positive (100%)]] --> [[[FAILED]]]\n",
            "\n",
            "throws in enough clever and unexpected twists to make the formula feel fresh .\n",
            "\n",
            "\n"
          ]
        },
        {
          "output_type": "stream",
          "name": "stderr",
          "text": [
            "[Succeeded / Failed / Skipped / Total] 0 / 6 / 2 / 8: 100%|██████████| 8/8 [00:06<00:00,  1.22it/s]"
          ]
        },
        {
          "output_type": "stream",
          "name": "stdout",
          "text": [
            "--------------------------------------------- Result 8 ---------------------------------------------\n",
            "[[Positive (97%)]] --> [[[FAILED]]]\n",
            "\n",
            "weighty and ponderous but every bit as filling as the treat of the title .\n",
            "\n",
            "\n",
            "\n",
            "+-------------------------------+-------+\n",
            "| Attack Results                |       |\n",
            "+-------------------------------+-------+\n",
            "| Number of successful attacks: | 0     |\n",
            "| Number of failed attacks:     | 6     |\n",
            "| Number of skipped attacks:    | 2     |\n",
            "| Original accuracy:            | 75.0% |\n",
            "| Accuracy under attack:        | 75.0% |\n",
            "| Attack success rate:          | 0.0%  |\n",
            "| Average perturbed word %:     | nan%  |\n",
            "| Average num. words per input: | 15.0  |\n",
            "| Avg num queries:              | 28.83 |\n",
            "+-------------------------------+-------+"
          ]
        },
        {
          "output_type": "stream",
          "name": "stderr",
          "text": [
            "\n",
            "textattack: Unknown if model of class <class 'transformers.models.albert.modeling_albert.AlbertForSequenceClassification'> compatible with goal function <class 'textattack.goal_functions.classification.input_reduction.InputReduction'>.\n",
            "  0%|          | 0/8 [00:00<?, ?it/s]"
          ]
        },
        {
          "output_type": "stream",
          "name": "stdout",
          "text": [
            "\n",
            "Starting attack for----------------- WordSwapRandomCharacterDeletion IR\n",
            "Attack(\n",
            "  (search_method): GreedyWordSwapWIR(\n",
            "    (wir_method):  weighted-saliency\n",
            "  )\n",
            "  (goal_function):  InputReduction(\n",
            "    (maximizable):  False\n",
            "    (target_num_words):  1\n",
            "  )\n",
            "  (transformation):  WordSwapRandomCharacterDeletion(\n",
            "    (random_one):  True\n",
            "  )\n",
            "  (constraints): \n",
            "    (0): RepeatModification\n",
            "    (1): StopwordModification\n",
            "  (is_black_box):  True\n",
            ") \n",
            "\n"
          ]
        },
        {
          "output_type": "stream",
          "name": "stderr",
          "text": [
            "[Succeeded / Failed / Skipped / Total] 0 / 1 / 0 / 1:  12%|█▎        | 1/8 [00:01<00:12,  1.83s/it]"
          ]
        },
        {
          "output_type": "stream",
          "name": "stdout",
          "text": [
            "--------------------------------------------- Result 1 ---------------------------------------------\n",
            "[[Positive (100%)]] --> [[[FAILED]]]\n",
            "\n",
            "lovingly photographed in the manner of a golden book sprung to life , stuart little 2 manages sweetness largely without stickiness .\n",
            "\n",
            "\n"
          ]
        },
        {
          "output_type": "stream",
          "name": "stderr",
          "text": [
            "[Succeeded / Failed / Skipped / Total] 0 / 2 / 1 / 3:  38%|███▊      | 3/8 [00:02<00:03,  1.33it/s]"
          ]
        },
        {
          "output_type": "stream",
          "name": "stdout",
          "text": [
            "--------------------------------------------- Result 2 ---------------------------------------------\n",
            "[[Positive (100%)]] --> [[[FAILED]]]\n",
            "\n",
            "consistently clever and suspenseful .\n",
            "\n",
            "\n",
            "--------------------------------------------- Result 3 ---------------------------------------------\n",
            "[[Negative (85%)]] --> [[[SKIPPED]]]\n",
            "\n",
            "it's like a \" big chill \" reunion of the baader-meinhof gang , only these guys are more harmless pranksters than political activists .\n",
            "\n",
            "\n"
          ]
        },
        {
          "output_type": "stream",
          "name": "stderr",
          "text": [
            "[Succeeded / Failed / Skipped / Total] 0 / 3 / 1 / 4:  50%|█████     | 4/8 [00:03<00:03,  1.01it/s]"
          ]
        },
        {
          "output_type": "stream",
          "name": "stdout",
          "text": [
            "--------------------------------------------- Result 4 ---------------------------------------------\n",
            "[[Positive (100%)]] --> [[[FAILED]]]\n",
            "\n",
            "the story gives ample opportunity for large-scale action and suspense , which director shekhar kapur supplies with tremendous skill .\n",
            "\n",
            "\n"
          ]
        },
        {
          "output_type": "stream",
          "name": "stderr",
          "text": [
            "[Succeeded / Failed / Skipped / Total] 0 / 4 / 2 / 6:  75%|███████▌  | 6/8 [00:04<00:01,  1.30it/s]"
          ]
        },
        {
          "output_type": "stream",
          "name": "stdout",
          "text": [
            "--------------------------------------------- Result 5 ---------------------------------------------\n",
            "[[Positive (74%)]] --> [[[FAILED]]]\n",
            "\n",
            "red dragon \" never cuts corners .\n",
            "\n",
            "\n",
            "--------------------------------------------- Result 6 ---------------------------------------------\n",
            "[[Negative (64%)]] --> [[[SKIPPED]]]\n",
            "\n",
            "fresnadillo has something serious to say about the ways in which extravagant chance can distort our perspective and throw us off the path of good sense .\n",
            "\n",
            "\n"
          ]
        },
        {
          "output_type": "stream",
          "name": "stderr",
          "text": [
            "\r[Succeeded / Failed / Skipped / Total] 0 / 5 / 2 / 7:  88%|████████▊ | 7/8 [00:05<00:00,  1.21it/s]"
          ]
        },
        {
          "output_type": "stream",
          "name": "stdout",
          "text": [
            "--------------------------------------------- Result 7 ---------------------------------------------\n",
            "[[Positive (100%)]] --> [[[FAILED]]]\n",
            "\n",
            "throws in enough clever and unexpected twists to make the formula feel fresh .\n",
            "\n",
            "\n"
          ]
        },
        {
          "output_type": "stream",
          "name": "stderr",
          "text": [
            "[Succeeded / Failed / Skipped / Total] 0 / 6 / 2 / 8: 100%|██████████| 8/8 [00:06<00:00,  1.17it/s]"
          ]
        },
        {
          "output_type": "stream",
          "name": "stdout",
          "text": [
            "--------------------------------------------- Result 8 ---------------------------------------------\n",
            "[[Positive (97%)]] --> [[[FAILED]]]\n",
            "\n",
            "weighty and ponderous but every bit as filling as the treat of the title .\n",
            "\n",
            "\n",
            "\n",
            "+-------------------------------+-------+\n",
            "| Attack Results                |       |\n",
            "+-------------------------------+-------+\n",
            "| Number of successful attacks: | 0     |\n",
            "| Number of failed attacks:     | 6     |\n",
            "| Number of skipped attacks:    | 2     |\n",
            "| Original accuracy:            | 75.0% |\n",
            "| Accuracy under attack:        | 75.0% |\n",
            "| Attack success rate:          | 0.0%  |\n",
            "| Average perturbed word %:     | nan%  |\n",
            "| Average num. words per input: | 15.0  |\n",
            "| Avg num queries:              | 30.33 |\n",
            "+-------------------------------+-------+"
          ]
        },
        {
          "output_type": "stream",
          "name": "stderr",
          "text": [
            "\n",
            "textattack: Unknown if model of class <class 'transformers.models.albert.modeling_albert.AlbertForSequenceClassification'> compatible with goal function <class 'textattack.goal_functions.classification.input_reduction.InputReduction'>.\n",
            "  0%|          | 0/8 [00:00<?, ?it/s]"
          ]
        },
        {
          "output_type": "stream",
          "name": "stdout",
          "text": [
            "\n",
            "Starting attack for----------------- WordSwapEmbedding IR\n",
            "Attack(\n",
            "  (search_method): GreedyWordSwapWIR(\n",
            "    (wir_method):  weighted-saliency\n",
            "  )\n",
            "  (goal_function):  InputReduction(\n",
            "    (maximizable):  False\n",
            "    (target_num_words):  1\n",
            "  )\n",
            "  (transformation):  WordSwapEmbedding(\n",
            "    (max_candidates):  5\n",
            "    (embedding):  WordEmbedding\n",
            "  )\n",
            "  (constraints): \n",
            "    (0): RepeatModification\n",
            "    (1): StopwordModification\n",
            "  (is_black_box):  True\n",
            ") \n",
            "\n"
          ]
        },
        {
          "output_type": "stream",
          "name": "stderr",
          "text": [
            "[Succeeded / Failed / Skipped / Total] 0 / 1 / 0 / 1:  12%|█▎        | 1/8 [00:05<00:36,  5.17s/it]"
          ]
        },
        {
          "output_type": "stream",
          "name": "stdout",
          "text": [
            "--------------------------------------------- Result 1 ---------------------------------------------\n",
            "[[Positive (100%)]] --> [[[FAILED]]]\n",
            "\n",
            "lovingly photographed in the manner of a golden book sprung to life , stuart little 2 manages sweetness largely without stickiness .\n",
            "\n",
            "\n"
          ]
        },
        {
          "output_type": "stream",
          "name": "stderr",
          "text": [
            "[Succeeded / Failed / Skipped / Total] 0 / 2 / 1 / 3:  38%|███▊      | 3/8 [00:06<00:10,  2.04s/it]"
          ]
        },
        {
          "output_type": "stream",
          "name": "stdout",
          "text": [
            "--------------------------------------------- Result 2 ---------------------------------------------\n",
            "[[Positive (100%)]] --> [[[FAILED]]]\n",
            "\n",
            "consistently clever and suspenseful .\n",
            "\n",
            "\n",
            "--------------------------------------------- Result 3 ---------------------------------------------\n",
            "[[Negative (85%)]] --> [[[SKIPPED]]]\n",
            "\n",
            "it's like a \" big chill \" reunion of the baader-meinhof gang , only these guys are more harmless pranksters than political activists .\n",
            "\n",
            "\n"
          ]
        },
        {
          "output_type": "stream",
          "name": "stderr",
          "text": [
            "[Succeeded / Failed / Skipped / Total] 0 / 3 / 1 / 4:  50%|█████     | 4/8 [00:10<00:10,  2.63s/it]"
          ]
        },
        {
          "output_type": "stream",
          "name": "stdout",
          "text": [
            "--------------------------------------------- Result 4 ---------------------------------------------\n",
            "[[Positive (100%)]] --> [[[FAILED]]]\n",
            "\n",
            "the story gives ample opportunity for large-scale action and suspense , which director shekhar kapur supplies with tremendous skill .\n",
            "\n",
            "\n"
          ]
        },
        {
          "output_type": "stream",
          "name": "stderr",
          "text": [
            "[Succeeded / Failed / Skipped / Total] 0 / 4 / 2 / 6:  75%|███████▌  | 6/8 [00:12<00:04,  2.06s/it]"
          ]
        },
        {
          "output_type": "stream",
          "name": "stdout",
          "text": [
            "--------------------------------------------- Result 5 ---------------------------------------------\n",
            "[[Positive (74%)]] --> [[[FAILED]]]\n",
            "\n",
            "red dragon \" never cuts corners .\n",
            "\n",
            "\n",
            "--------------------------------------------- Result 6 ---------------------------------------------\n",
            "[[Negative (64%)]] --> [[[SKIPPED]]]\n",
            "\n",
            "fresnadillo has something serious to say about the ways in which extravagant chance can distort our perspective and throw us off the path of good sense .\n",
            "\n",
            "\n"
          ]
        },
        {
          "output_type": "stream",
          "name": "stderr",
          "text": [
            "\r[Succeeded / Failed / Skipped / Total] 0 / 5 / 2 / 7:  88%|████████▊ | 7/8 [00:15<00:02,  2.27s/it]"
          ]
        },
        {
          "output_type": "stream",
          "name": "stdout",
          "text": [
            "--------------------------------------------- Result 7 ---------------------------------------------\n",
            "[[Positive (100%)]] --> [[[FAILED]]]\n",
            "\n",
            "throws in enough clever and unexpected twists to make the formula feel fresh .\n",
            "\n",
            "\n"
          ]
        },
        {
          "output_type": "stream",
          "name": "stderr",
          "text": [
            "[Succeeded / Failed / Skipped / Total] 0 / 6 / 2 / 8: 100%|██████████| 8/8 [00:18<00:00,  2.35s/it]"
          ]
        },
        {
          "output_type": "stream",
          "name": "stdout",
          "text": [
            "--------------------------------------------- Result 8 ---------------------------------------------\n",
            "[[Positive (97%)]] --> [[[FAILED]]]\n",
            "\n",
            "weighty and ponderous but every bit as filling as the treat of the title .\n",
            "\n",
            "\n",
            "\n",
            "+-------------------------------+-------+\n",
            "| Attack Results                |       |\n",
            "+-------------------------------+-------+\n",
            "| Number of successful attacks: | 0     |\n",
            "| Number of failed attacks:     | 6     |\n",
            "| Number of skipped attacks:    | 2     |\n",
            "| Original accuracy:            | 75.0% |\n",
            "| Accuracy under attack:        | 75.0% |\n",
            "| Attack success rate:          | 0.0%  |\n",
            "| Average perturbed word %:     | nan%  |\n",
            "| Average num. words per input: | 15.0  |\n",
            "| Avg num queries:              | 93.33 |\n",
            "+-------------------------------+-------+"
          ]
        },
        {
          "output_type": "stream",
          "name": "stderr",
          "text": [
            "\n"
          ]
        },
        {
          "output_type": "stream",
          "name": "stdout",
          "text": [
            "\n",
            "Starting attack for----------------- WordSwapHowNet IR\n"
          ]
        },
        {
          "output_type": "stream",
          "name": "stderr",
          "text": [
            "textattack: Unknown if model of class <class 'transformers.models.albert.modeling_albert.AlbertForSequenceClassification'> compatible with goal function <class 'textattack.goal_functions.classification.input_reduction.InputReduction'>.\n",
            "  0%|          | 0/8 [00:00<?, ?it/s]"
          ]
        },
        {
          "output_type": "stream",
          "name": "stdout",
          "text": [
            "Attack(\n",
            "  (search_method): GreedyWordSwapWIR(\n",
            "    (wir_method):  weighted-saliency\n",
            "  )\n",
            "  (goal_function):  InputReduction(\n",
            "    (maximizable):  False\n",
            "    (target_num_words):  1\n",
            "  )\n",
            "  (transformation):  WordSwapHowNet(\n",
            "    (max_candidates):  -1\n",
            "  )\n",
            "  (constraints): \n",
            "    (0): RepeatModification\n",
            "    (1): StopwordModification\n",
            "  (is_black_box):  True\n",
            ") \n",
            "\n"
          ]
        },
        {
          "output_type": "stream",
          "name": "stderr",
          "text": [
            "[Succeeded / Failed / Skipped / Total] 0 / 1 / 0 / 1:  12%|█▎        | 1/8 [00:24<02:52, 24.70s/it]"
          ]
        },
        {
          "output_type": "stream",
          "name": "stdout",
          "text": [
            "--------------------------------------------- Result 1 ---------------------------------------------\n",
            "[[Positive (100%)]] --> [[[FAILED]]]\n",
            "\n",
            "lovingly photographed in the manner of a golden book sprung to life , stuart little 2 manages sweetness largely without stickiness .\n",
            "\n",
            "\n"
          ]
        },
        {
          "output_type": "stream",
          "name": "stderr",
          "text": [
            "[Succeeded / Failed / Skipped / Total] 0 / 2 / 1 / 3:  38%|███▊      | 3/8 [00:26<00:44,  8.91s/it]"
          ]
        },
        {
          "output_type": "stream",
          "name": "stdout",
          "text": [
            "--------------------------------------------- Result 2 ---------------------------------------------\n",
            "[[Positive (100%)]] --> [[[FAILED]]]\n",
            "\n",
            "consistently clever and suspenseful .\n",
            "\n",
            "\n",
            "--------------------------------------------- Result 3 ---------------------------------------------\n",
            "[[Negative (85%)]] --> [[[SKIPPED]]]\n",
            "\n",
            "it's like a \" big chill \" reunion of the baader-meinhof gang , only these guys are more harmless pranksters than political activists .\n",
            "\n",
            "\n"
          ]
        },
        {
          "output_type": "stream",
          "name": "stderr",
          "text": [
            "[Succeeded / Failed / Skipped / Total] 0 / 3 / 1 / 4:  50%|█████     | 4/8 [00:43<00:43, 10.95s/it]"
          ]
        },
        {
          "output_type": "stream",
          "name": "stdout",
          "text": [
            "--------------------------------------------- Result 4 ---------------------------------------------\n",
            "[[Positive (100%)]] --> [[[FAILED]]]\n",
            "\n",
            "the story gives ample opportunity for large-scale action and suspense , which director shekhar kapur supplies with tremendous skill .\n",
            "\n",
            "\n"
          ]
        },
        {
          "output_type": "stream",
          "name": "stderr",
          "text": [
            "[Succeeded / Failed / Skipped / Total] 0 / 4 / 2 / 6:  75%|███████▌  | 6/8 [00:46<00:15,  7.73s/it]"
          ]
        },
        {
          "output_type": "stream",
          "name": "stdout",
          "text": [
            "--------------------------------------------- Result 5 ---------------------------------------------\n",
            "[[Positive (74%)]] --> [[[FAILED]]]\n",
            "\n",
            "red dragon \" never cuts corners .\n",
            "\n",
            "\n",
            "--------------------------------------------- Result 6 ---------------------------------------------\n",
            "[[Negative (64%)]] --> [[[SKIPPED]]]\n",
            "\n",
            "fresnadillo has something serious to say about the ways in which extravagant chance can distort our perspective and throw us off the path of good sense .\n",
            "\n",
            "\n"
          ]
        },
        {
          "output_type": "stream",
          "name": "stderr",
          "text": [
            "[Succeeded / Failed / Skipped / Total] 0 / 5 / 2 / 7:  88%|████████▊ | 7/8 [00:59<00:08,  8.56s/it]"
          ]
        },
        {
          "output_type": "stream",
          "name": "stdout",
          "text": [
            "--------------------------------------------- Result 7 ---------------------------------------------\n",
            "[[Positive (100%)]] --> [[[FAILED]]]\n",
            "\n",
            "throws in enough clever and unexpected twists to make the formula feel fresh .\n",
            "\n",
            "\n"
          ]
        },
        {
          "output_type": "stream",
          "name": "stderr",
          "text": [
            "[Succeeded / Failed / Skipped / Total] 0 / 6 / 2 / 8: 100%|██████████| 8/8 [01:11<00:00,  8.94s/it]"
          ]
        },
        {
          "output_type": "stream",
          "name": "stdout",
          "text": [
            "--------------------------------------------- Result 8 ---------------------------------------------\n",
            "[[Positive (97%)]] --> [[[FAILED]]]\n",
            "\n",
            "weighty and ponderous but every bit as filling as the treat of the title .\n",
            "\n",
            "\n",
            "\n",
            "+-------------------------------+-------+\n",
            "| Attack Results                |       |\n",
            "+-------------------------------+-------+\n",
            "| Number of successful attacks: | 0     |\n",
            "| Number of failed attacks:     | 6     |\n",
            "| Number of skipped attacks:    | 2     |\n",
            "| Original accuracy:            | 75.0% |\n",
            "| Accuracy under attack:        | 75.0% |\n",
            "| Attack success rate:          | 0.0%  |\n",
            "| Average perturbed word %:     | nan%  |\n",
            "| Average num. words per input: | 15.0  |\n",
            "| Avg num queries:              | 364.0 |\n",
            "+-------------------------------+-------+"
          ]
        },
        {
          "output_type": "stream",
          "name": "stderr",
          "text": [
            "\n",
            "textattack: Unknown if model of class <class 'transformers.models.albert.modeling_albert.AlbertForSequenceClassification'> compatible with goal function <class 'textattack.goal_functions.classification.input_reduction.InputReduction'>.\n",
            "  0%|          | 0/8 [00:00<?, ?it/s]"
          ]
        },
        {
          "output_type": "stream",
          "name": "stdout",
          "text": [
            "\n",
            "Starting attack for----------------- WordDeletion IR\n",
            "Attack(\n",
            "  (search_method): GreedyWordSwapWIR(\n",
            "    (wir_method):  weighted-saliency\n",
            "  )\n",
            "  (goal_function):  InputReduction(\n",
            "    (maximizable):  False\n",
            "    (target_num_words):  1\n",
            "  )\n",
            "  (transformation):  WordDeletion\n",
            "  (constraints): \n",
            "    (0): RepeatModification\n",
            "    (1): StopwordModification\n",
            "  (is_black_box):  True\n",
            ") \n",
            "\n"
          ]
        },
        {
          "output_type": "stream",
          "name": "stderr",
          "text": [
            "[Succeeded / Failed / Skipped / Total] 0 / 1 / 0 / 1:  12%|█▎        | 1/8 [00:01<00:13,  1.96s/it]"
          ]
        },
        {
          "output_type": "stream",
          "name": "stdout",
          "text": [
            "--------------------------------------------- Result 1 ---------------------------------------------\n",
            "[[Positive (100%)]] --> [[[FAILED]]]\n",
            "\n",
            "lovingly photographed in the manner of a golden book sprung to life , stuart little 2 manages sweetness largely without stickiness .\n",
            "\n",
            "\n"
          ]
        },
        {
          "output_type": "stream",
          "name": "stderr",
          "text": [
            "[Succeeded / Failed / Skipped / Total] 1 / 1 / 1 / 3:  38%|███▊      | 3/8 [00:02<00:04,  1.23it/s]"
          ]
        },
        {
          "output_type": "stream",
          "name": "stdout",
          "text": [
            "--------------------------------------------- Result 2 ---------------------------------------------\n",
            "[[Positive (100%)]] --> [[Positive (99%)]]\n",
            "\n",
            "[[consistently]] [[clever]] [[and]] suspenseful .\n",
            "\n",
            "suspenseful .\n",
            "\n",
            "\n",
            "--------------------------------------------- Result 3 ---------------------------------------------\n",
            "[[Negative (85%)]] --> [[[SKIPPED]]]\n",
            "\n",
            "it's like a \" big chill \" reunion of the baader-meinhof gang , only these guys are more harmless pranksters than political activists .\n",
            "\n",
            "\n"
          ]
        },
        {
          "output_type": "stream",
          "name": "stderr",
          "text": [
            "[Succeeded / Failed / Skipped / Total] 1 / 2 / 1 / 4:  50%|█████     | 4/8 [00:04<00:04,  1.08s/it]"
          ]
        },
        {
          "output_type": "stream",
          "name": "stdout",
          "text": [
            "--------------------------------------------- Result 4 ---------------------------------------------\n",
            "[[Positive (100%)]] --> [[[FAILED]]]\n",
            "\n",
            "the story gives ample opportunity for large-scale action and suspense , which director shekhar kapur supplies with tremendous skill .\n",
            "\n",
            "\n"
          ]
        },
        {
          "output_type": "stream",
          "name": "stderr",
          "text": [
            "[Succeeded / Failed / Skipped / Total] 1 / 3 / 2 / 6:  75%|███████▌  | 6/8 [00:04<00:01,  1.21it/s]"
          ]
        },
        {
          "output_type": "stream",
          "name": "stdout",
          "text": [
            "--------------------------------------------- Result 5 ---------------------------------------------\n",
            "[[Positive (74%)]] --> [[[FAILED]]]\n",
            "\n",
            "red dragon \" never cuts corners .\n",
            "\n",
            "\n",
            "--------------------------------------------- Result 6 ---------------------------------------------\n",
            "[[Negative (64%)]] --> [[[SKIPPED]]]\n",
            "\n",
            "fresnadillo has something serious to say about the ways in which extravagant chance can distort our perspective and throw us off the path of good sense .\n",
            "\n",
            "\n"
          ]
        },
        {
          "output_type": "stream",
          "name": "stderr",
          "text": [
            "\r[Succeeded / Failed / Skipped / Total] 1 / 4 / 2 / 7:  88%|████████▊ | 7/8 [00:06<00:00,  1.12it/s]"
          ]
        },
        {
          "output_type": "stream",
          "name": "stdout",
          "text": [
            "--------------------------------------------- Result 7 ---------------------------------------------\n",
            "[[Positive (100%)]] --> [[[FAILED]]]\n",
            "\n",
            "throws in enough clever and unexpected twists to make the formula feel fresh .\n",
            "\n",
            "\n"
          ]
        },
        {
          "output_type": "stream",
          "name": "stderr",
          "text": [
            "[Succeeded / Failed / Skipped / Total] 1 / 5 / 2 / 8: 100%|██████████| 8/8 [00:07<00:00,  1.03it/s]"
          ]
        },
        {
          "output_type": "stream",
          "name": "stdout",
          "text": [
            "--------------------------------------------- Result 8 ---------------------------------------------\n",
            "[[Positive (97%)]] --> [[[FAILED]]]\n",
            "\n",
            "weighty and ponderous but every bit as filling as the treat of the title .\n",
            "\n",
            "\n",
            "\n",
            "+-------------------------------+--------+\n",
            "| Attack Results                |        |\n",
            "+-------------------------------+--------+\n",
            "| Number of successful attacks: | 1      |\n",
            "| Number of failed attacks:     | 5      |\n",
            "| Number of skipped attacks:    | 2      |\n",
            "| Original accuracy:            | 75.0%  |\n",
            "| Accuracy under attack:        | 62.5%  |\n",
            "| Attack success rate:          | 16.67% |\n",
            "| Average perturbed word %:     | 25.0%  |\n",
            "| Average num. words per input: | 15.0   |\n",
            "| Avg num queries:              | 33.83  |\n",
            "+-------------------------------+--------+"
          ]
        },
        {
          "output_type": "stream",
          "name": "stderr",
          "text": [
            "\n"
          ]
        },
        {
          "output_type": "stream",
          "name": "stdout",
          "text": [
            "\n",
            "Starting attack for----------------- WordMergeMaskedLM IR\n"
          ]
        },
        {
          "output_type": "stream",
          "name": "stderr",
          "text": [
            "Some weights of the model checkpoint at bert-base-uncased were not used when initializing BertForMaskedLM: ['cls.seq_relationship.weight', 'cls.seq_relationship.bias']\n",
            "- This IS expected if you are initializing BertForMaskedLM from the checkpoint of a model trained on another task or with another architecture (e.g. initializing a BertForSequenceClassification model from a BertForPreTraining model).\n",
            "- This IS NOT expected if you are initializing BertForMaskedLM from the checkpoint of a model that you expect to be exactly identical (initializing a BertForSequenceClassification model from a BertForSequenceClassification model).\n",
            "textattack: Unknown if model of class <class 'transformers.models.albert.modeling_albert.AlbertForSequenceClassification'> compatible with goal function <class 'textattack.goal_functions.classification.input_reduction.InputReduction'>.\n",
            "textattack: Unknown if model of class <class 'transformers.models.albert.modeling_albert.AlbertForSequenceClassification'> compatible with goal function <class 'textattack.goal_functions.classification.input_reduction.InputReduction'>.\n",
            "  0%|          | 0/8 [00:00<?, ?it/s]"
          ]
        },
        {
          "output_type": "stream",
          "name": "stdout",
          "text": [
            "Not compatible\n",
            "Starting attack for----------------- WordSwapRandomCharacterSubstitution IR\n",
            "Attack(\n",
            "  (search_method): GreedyWordSwapWIR(\n",
            "    (wir_method):  weighted-saliency\n",
            "  )\n",
            "  (goal_function):  InputReduction(\n",
            "    (maximizable):  False\n",
            "    (target_num_words):  1\n",
            "  )\n",
            "  (transformation):  WordSwapRandomCharacterSubstitution(\n",
            "    (random_one):  True\n",
            "  )\n",
            "  (constraints): \n",
            "    (0): RepeatModification\n",
            "    (1): StopwordModification\n",
            "  (is_black_box):  True\n",
            ") \n",
            "\n"
          ]
        },
        {
          "output_type": "stream",
          "name": "stderr",
          "text": [
            "[Succeeded / Failed / Skipped / Total] 0 / 1 / 0 / 1:  12%|█▎        | 1/8 [00:01<00:13,  1.92s/it]"
          ]
        },
        {
          "output_type": "stream",
          "name": "stdout",
          "text": [
            "--------------------------------------------- Result 1 ---------------------------------------------\n",
            "[[Positive (100%)]] --> [[[FAILED]]]\n",
            "\n",
            "lovingly photographed in the manner of a golden book sprung to life , stuart little 2 manages sweetness largely without stickiness .\n",
            "\n",
            "\n"
          ]
        },
        {
          "output_type": "stream",
          "name": "stderr",
          "text": [
            "[Succeeded / Failed / Skipped / Total] 0 / 2 / 1 / 3:  38%|███▊      | 3/8 [00:02<00:03,  1.25it/s]"
          ]
        },
        {
          "output_type": "stream",
          "name": "stdout",
          "text": [
            "--------------------------------------------- Result 2 ---------------------------------------------\n",
            "[[Positive (100%)]] --> [[[FAILED]]]\n",
            "\n",
            "consistently clever and suspenseful .\n",
            "\n",
            "\n",
            "--------------------------------------------- Result 3 ---------------------------------------------\n",
            "[[Negative (85%)]] --> [[[SKIPPED]]]\n",
            "\n",
            "it's like a \" big chill \" reunion of the baader-meinhof gang , only these guys are more harmless pranksters than political activists .\n",
            "\n",
            "\n"
          ]
        },
        {
          "output_type": "stream",
          "name": "stderr",
          "text": [
            "[Succeeded / Failed / Skipped / Total] 0 / 3 / 1 / 4:  50%|█████     | 4/8 [00:04<00:04,  1.03s/it]"
          ]
        },
        {
          "output_type": "stream",
          "name": "stdout",
          "text": [
            "--------------------------------------------- Result 4 ---------------------------------------------\n",
            "[[Positive (100%)]] --> [[[FAILED]]]\n",
            "\n",
            "the story gives ample opportunity for large-scale action and suspense , which director shekhar kapur supplies with tremendous skill .\n",
            "\n",
            "\n"
          ]
        },
        {
          "output_type": "stream",
          "name": "stderr",
          "text": [
            "[Succeeded / Failed / Skipped / Total] 0 / 4 / 2 / 6:  75%|███████▌  | 6/8 [00:04<00:01,  1.26it/s]"
          ]
        },
        {
          "output_type": "stream",
          "name": "stdout",
          "text": [
            "--------------------------------------------- Result 5 ---------------------------------------------\n",
            "[[Positive (74%)]] --> [[[FAILED]]]\n",
            "\n",
            "red dragon \" never cuts corners .\n",
            "\n",
            "\n",
            "--------------------------------------------- Result 6 ---------------------------------------------\n",
            "[[Negative (64%)]] --> [[[SKIPPED]]]\n",
            "\n",
            "fresnadillo has something serious to say about the ways in which extravagant chance can distort our perspective and throw us off the path of good sense .\n",
            "\n",
            "\n"
          ]
        },
        {
          "output_type": "stream",
          "name": "stderr",
          "text": [
            "\r[Succeeded / Failed / Skipped / Total] 0 / 5 / 2 / 7:  88%|████████▊ | 7/8 [00:05<00:00,  1.17it/s]"
          ]
        },
        {
          "output_type": "stream",
          "name": "stdout",
          "text": [
            "--------------------------------------------- Result 7 ---------------------------------------------\n",
            "[[Positive (100%)]] --> [[[FAILED]]]\n",
            "\n",
            "throws in enough clever and unexpected twists to make the formula feel fresh .\n",
            "\n",
            "\n"
          ]
        },
        {
          "output_type": "stream",
          "name": "stderr",
          "text": [
            "[Succeeded / Failed / Skipped / Total] 0 / 6 / 2 / 8: 100%|██████████| 8/8 [00:07<00:00,  1.13it/s]"
          ]
        },
        {
          "output_type": "stream",
          "name": "stdout",
          "text": [
            "--------------------------------------------- Result 8 ---------------------------------------------\n",
            "[[Positive (97%)]] --> [[[FAILED]]]\n",
            "\n",
            "weighty and ponderous but every bit as filling as the treat of the title .\n",
            "\n",
            "\n",
            "\n",
            "+-------------------------------+-------+\n",
            "| Attack Results                |       |\n",
            "+-------------------------------+-------+\n",
            "| Number of successful attacks: | 0     |\n",
            "| Number of failed attacks:     | 6     |\n",
            "| Number of skipped attacks:    | 2     |\n",
            "| Original accuracy:            | 75.0% |\n",
            "| Accuracy under attack:        | 75.0% |\n",
            "| Attack success rate:          | 0.0%  |\n",
            "| Average perturbed word %:     | nan%  |\n",
            "| Average num. words per input: | 15.0  |\n",
            "| Avg num queries:              | 30.17 |\n",
            "+-------------------------------+-------+"
          ]
        },
        {
          "output_type": "stream",
          "name": "stderr",
          "text": [
            "\n"
          ]
        },
        {
          "output_type": "stream",
          "name": "stdout",
          "text": [
            "\n",
            "Starting attack for----------------- WordSwapMaskedLM IR\n"
          ]
        },
        {
          "output_type": "stream",
          "name": "stderr",
          "text": [
            "Some weights of the model checkpoint at bert-base-uncased were not used when initializing BertForMaskedLM: ['cls.seq_relationship.weight', 'cls.seq_relationship.bias']\n",
            "- This IS expected if you are initializing BertForMaskedLM from the checkpoint of a model trained on another task or with another architecture (e.g. initializing a BertForSequenceClassification model from a BertForPreTraining model).\n",
            "- This IS NOT expected if you are initializing BertForMaskedLM from the checkpoint of a model that you expect to be exactly identical (initializing a BertForSequenceClassification model from a BertForSequenceClassification model).\n",
            "textattack: Unknown if model of class <class 'transformers.models.albert.modeling_albert.AlbertForSequenceClassification'> compatible with goal function <class 'textattack.goal_functions.classification.input_reduction.InputReduction'>.\n",
            "  0%|          | 0/8 [00:00<?, ?it/s]"
          ]
        },
        {
          "output_type": "stream",
          "name": "stdout",
          "text": [
            "Attack(\n",
            "  (search_method): GreedyWordSwapWIR(\n",
            "    (wir_method):  weighted-saliency\n",
            "  )\n",
            "  (goal_function):  InputReduction(\n",
            "    (maximizable):  False\n",
            "    (target_num_words):  1\n",
            "  )\n",
            "  (transformation):  WordSwapMaskedLM(\n",
            "    (method):  bert-attack\n",
            "    (masked_lm_name):  BertForMaskedLM\n",
            "    (max_length):  512\n",
            "    (max_candidates):  48\n",
            "    (min_confidence):  0.0005\n",
            "  )\n",
            "  (constraints): \n",
            "    (0): RepeatModification\n",
            "    (1): StopwordModification\n",
            "  (is_black_box):  True\n",
            ") \n",
            "\n"
          ]
        },
        {
          "output_type": "stream",
          "name": "stderr",
          "text": [
            "[Succeeded / Failed / Skipped / Total] 0 / 1 / 0 / 1:  12%|█▎        | 1/8 [00:50<05:52, 50.42s/it]"
          ]
        },
        {
          "output_type": "stream",
          "name": "stdout",
          "text": [
            "--------------------------------------------- Result 1 ---------------------------------------------\n",
            "[[Positive (100%)]] --> [[[FAILED]]]\n",
            "\n",
            "lovingly photographed in the manner of a golden book sprung to life , stuart little 2 manages sweetness largely without stickiness .\n",
            "\n",
            "\n"
          ]
        },
        {
          "output_type": "stream",
          "name": "stderr",
          "text": [
            "[Succeeded / Failed / Skipped / Total] 0 / 2 / 1 / 3:  38%|███▊      | 3/8 [00:59<01:39, 19.82s/it]"
          ]
        },
        {
          "output_type": "stream",
          "name": "stdout",
          "text": [
            "--------------------------------------------- Result 2 ---------------------------------------------\n",
            "[[Positive (100%)]] --> [[[FAILED]]]\n",
            "\n",
            "consistently clever and suspenseful .\n",
            "\n",
            "\n",
            "--------------------------------------------- Result 3 ---------------------------------------------\n",
            "[[Negative (85%)]] --> [[[SKIPPED]]]\n",
            "\n",
            "it's like a \" big chill \" reunion of the baader-meinhof gang , only these guys are more harmless pranksters than political activists .\n",
            "\n",
            "\n"
          ]
        },
        {
          "output_type": "stream",
          "name": "stderr",
          "text": [
            "[Succeeded / Failed / Skipped / Total] 0 / 3 / 1 / 4:  50%|█████     | 4/8 [03:00<03:00, 45.14s/it]"
          ]
        },
        {
          "output_type": "stream",
          "name": "stdout",
          "text": [
            "--------------------------------------------- Result 4 ---------------------------------------------\n",
            "[[Positive (100%)]] --> [[[FAILED]]]\n",
            "\n",
            "the story gives ample opportunity for large-scale action and suspense , which director shekhar kapur supplies with tremendous skill .\n",
            "\n",
            "\n"
          ]
        },
        {
          "output_type": "stream",
          "name": "stderr",
          "text": [
            "[Succeeded / Failed / Skipped / Total] 0 / 4 / 2 / 6:  75%|███████▌  | 6/8 [03:14<01:04, 32.46s/it]"
          ]
        },
        {
          "output_type": "stream",
          "name": "stdout",
          "text": [
            "--------------------------------------------- Result 5 ---------------------------------------------\n",
            "[[Positive (74%)]] --> [[[FAILED]]]\n",
            "\n",
            "red dragon \" never cuts corners .\n",
            "\n",
            "\n",
            "--------------------------------------------- Result 6 ---------------------------------------------\n",
            "[[Negative (64%)]] --> [[[SKIPPED]]]\n",
            "\n",
            "fresnadillo has something serious to say about the ways in which extravagant chance can distort our perspective and throw us off the path of good sense .\n",
            "\n",
            "\n"
          ]
        },
        {
          "output_type": "stream",
          "name": "stderr",
          "text": [
            "[Succeeded / Failed / Skipped / Total] 0 / 5 / 2 / 7:  88%|████████▊ | 7/8 [03:44<00:32, 32.13s/it]"
          ]
        },
        {
          "output_type": "stream",
          "name": "stdout",
          "text": [
            "--------------------------------------------- Result 7 ---------------------------------------------\n",
            "[[Positive (100%)]] --> [[[FAILED]]]\n",
            "\n",
            "throws in enough clever and unexpected twists to make the formula feel fresh .\n",
            "\n",
            "\n"
          ]
        },
        {
          "output_type": "stream",
          "name": "stderr",
          "text": [
            "[Succeeded / Failed / Skipped / Total] 0 / 6 / 2 / 8: 100%|██████████| 8/8 [04:10<00:00, 31.33s/it]"
          ]
        },
        {
          "output_type": "stream",
          "name": "stdout",
          "text": [
            "--------------------------------------------- Result 8 ---------------------------------------------\n",
            "[[Positive (97%)]] --> [[[FAILED]]]\n",
            "\n",
            "weighty and ponderous but every bit as filling as the treat of the title .\n",
            "\n",
            "\n",
            "\n",
            "+-------------------------------+--------+\n",
            "| Attack Results                |        |\n",
            "+-------------------------------+--------+\n",
            "| Number of successful attacks: | 0      |\n",
            "| Number of failed attacks:     | 6      |\n",
            "| Number of skipped attacks:    | 2      |\n",
            "| Original accuracy:            | 75.0%  |\n",
            "| Accuracy under attack:        | 75.0%  |\n",
            "| Attack success rate:          | 0.0%   |\n",
            "| Average perturbed word %:     | nan%   |\n",
            "| Average num. words per input: | 15.0   |\n",
            "| Avg num queries:              | 773.33 |\n",
            "+-------------------------------+--------+"
          ]
        },
        {
          "output_type": "stream",
          "name": "stderr",
          "text": [
            "\n"
          ]
        },
        {
          "output_type": "stream",
          "name": "stdout",
          "text": [
            "\n",
            "Starting attack for----------------- WordInsertionMaskedLM IR\n"
          ]
        },
        {
          "output_type": "stream",
          "name": "stderr",
          "text": [
            "Some weights of the model checkpoint at bert-base-uncased were not used when initializing BertForMaskedLM: ['cls.seq_relationship.weight', 'cls.seq_relationship.bias']\n",
            "- This IS expected if you are initializing BertForMaskedLM from the checkpoint of a model trained on another task or with another architecture (e.g. initializing a BertForSequenceClassification model from a BertForPreTraining model).\n",
            "- This IS NOT expected if you are initializing BertForMaskedLM from the checkpoint of a model that you expect to be exactly identical (initializing a BertForSequenceClassification model from a BertForSequenceClassification model).\n",
            "textattack: Unknown if model of class <class 'transformers.models.albert.modeling_albert.AlbertForSequenceClassification'> compatible with goal function <class 'textattack.goal_functions.classification.input_reduction.InputReduction'>.\n"
          ]
        },
        {
          "output_type": "stream",
          "name": "stdout",
          "text": [
            "Not compatible\n",
            "Starting attack for----------------- WordMergeMaskedLM IR\n"
          ]
        },
        {
          "output_type": "stream",
          "name": "stderr",
          "text": [
            "Some weights of the model checkpoint at bert-base-uncased were not used when initializing BertForMaskedLM: ['cls.seq_relationship.weight', 'cls.seq_relationship.bias']\n",
            "- This IS expected if you are initializing BertForMaskedLM from the checkpoint of a model trained on another task or with another architecture (e.g. initializing a BertForSequenceClassification model from a BertForPreTraining model).\n",
            "- This IS NOT expected if you are initializing BertForMaskedLM from the checkpoint of a model that you expect to be exactly identical (initializing a BertForSequenceClassification model from a BertForSequenceClassification model).\n",
            "textattack: Unknown if model of class <class 'transformers.models.albert.modeling_albert.AlbertForSequenceClassification'> compatible with goal function <class 'textattack.goal_functions.classification.input_reduction.InputReduction'>.\n",
            "textattack: Unknown if model of class <class 'transformers.models.albert.modeling_albert.AlbertForSequenceClassification'> compatible with goal function <class 'textattack.goal_functions.classification.targeted_classification.TargetedClassification'>.\n",
            "  0%|          | 0/8 [00:00<?, ?it/s]"
          ]
        },
        {
          "output_type": "stream",
          "name": "stdout",
          "text": [
            "Not compatible\n",
            "Starting attack for----------------- WordSwapWordNet TC\n",
            "Attack(\n",
            "  (search_method): GreedyWordSwapWIR(\n",
            "    (wir_method):  weighted-saliency\n",
            "  )\n",
            "  (goal_function):  TargetedClassification(\n",
            "    (target_class):  0\n",
            "  )\n",
            "  (transformation):  WordSwapWordNet\n",
            "  (constraints): \n",
            "    (0): RepeatModification\n",
            "    (1): StopwordModification\n",
            "  (is_black_box):  True\n",
            ") \n",
            "\n"
          ]
        },
        {
          "output_type": "stream",
          "name": "stderr",
          "text": [
            "[Succeeded / Failed / Skipped / Total] 1 / 0 / 0 / 1:  12%|█▎        | 1/8 [00:04<00:31,  4.49s/it]"
          ]
        },
        {
          "output_type": "stream",
          "name": "stdout",
          "text": [
            "--------------------------------------------- Result 1 ---------------------------------------------\n",
            "[[Positive (100%)]] --> [[Negative (55%)]]\n",
            "\n",
            "lovingly photographed in the manner of a golden book sprung to life , stuart little 2 [[manages]] [[sweetness]] largely without stickiness .\n",
            "\n",
            "lovingly photographed in the manner of a golden book sprung to life , stuart little 2 [[contend]] [[sugariness]] largely without stickiness .\n",
            "\n",
            "\n"
          ]
        },
        {
          "output_type": "stream",
          "name": "stderr",
          "text": [
            "[Succeeded / Failed / Skipped / Total] 2 / 0 / 1 / 3:  38%|███▊      | 3/8 [00:05<00:08,  1.75s/it]"
          ]
        },
        {
          "output_type": "stream",
          "name": "stdout",
          "text": [
            "--------------------------------------------- Result 2 ---------------------------------------------\n",
            "[[Positive (100%)]] --> [[Negative (93%)]]\n",
            "\n",
            "[[consistently]] [[clever]] and [[suspenseful]] .\n",
            "\n",
            "[[systematically]] [[cagy]] and [[cliff-hanging]] .\n",
            "\n",
            "\n",
            "--------------------------------------------- Result 3 ---------------------------------------------\n",
            "[[Negative (85%)]] --> [[[SKIPPED]]]\n",
            "\n",
            "it's like a \" big chill \" reunion of the baader-meinhof gang , only these guys are more harmless pranksters than political activists .\n",
            "\n",
            "\n"
          ]
        },
        {
          "output_type": "stream",
          "name": "stderr",
          "text": [
            "[Succeeded / Failed / Skipped / Total] 3 / 0 / 1 / 4:  50%|█████     | 4/8 [00:09<00:09,  2.35s/it]"
          ]
        },
        {
          "output_type": "stream",
          "name": "stdout",
          "text": [
            "--------------------------------------------- Result 4 ---------------------------------------------\n",
            "[[Positive (100%)]] --> [[Negative (99%)]]\n",
            "\n",
            "the story gives ample opportunity for large-scale action and suspense , which director shekhar kapur supplies with [[tremendous]] skill .\n",
            "\n",
            "the story gives ample opportunity for large-scale action and suspense , which director shekhar kapur supplies with [[terrible]] skill .\n",
            "\n",
            "\n"
          ]
        },
        {
          "output_type": "stream",
          "name": "stderr",
          "text": [
            "[Succeeded / Failed / Skipped / Total] 4 / 0 / 2 / 6:  75%|███████▌  | 6/8 [00:12<00:04,  2.07s/it]"
          ]
        },
        {
          "output_type": "stream",
          "name": "stdout",
          "text": [
            "--------------------------------------------- Result 5 ---------------------------------------------\n",
            "[[Positive (74%)]] --> [[Negative (89%)]]\n",
            "\n",
            "[[red]] dragon \" never cuts corners .\n",
            "\n",
            "[[Bolshevik]] dragon \" never cuts corners .\n",
            "\n",
            "\n",
            "--------------------------------------------- Result 6 ---------------------------------------------\n",
            "[[Negative (64%)]] --> [[[SKIPPED]]]\n",
            "\n",
            "fresnadillo has something serious to say about the ways in which extravagant chance can distort our perspective and throw us off the path of good sense .\n",
            "\n",
            "\n"
          ]
        },
        {
          "output_type": "stream",
          "name": "stderr",
          "text": [
            "\r[Succeeded / Failed / Skipped / Total] 5 / 0 / 2 / 7:  88%|████████▊ | 7/8 [00:19<00:02,  2.72s/it]"
          ]
        },
        {
          "output_type": "stream",
          "name": "stdout",
          "text": [
            "--------------------------------------------- Result 7 ---------------------------------------------\n",
            "[[Positive (100%)]] --> [[Negative (79%)]]\n",
            "\n",
            "throws in enough clever and unexpected twists to [[make]] the formula feel fresh .\n",
            "\n",
            "throws in enough clever and unexpected twists to [[crap]] the formula feel fresh .\n",
            "\n",
            "\n"
          ]
        },
        {
          "output_type": "stream",
          "name": "stderr",
          "text": [
            "[Succeeded / Failed / Skipped / Total] 6 / 0 / 2 / 8: 100%|██████████| 8/8 [00:21<00:00,  2.73s/it]"
          ]
        },
        {
          "output_type": "stream",
          "name": "stdout",
          "text": [
            "--------------------------------------------- Result 8 ---------------------------------------------\n",
            "[[Positive (97%)]] --> [[Negative (71%)]]\n",
            "\n",
            "weighty and ponderous but every bit as [[filling]] as the treat of the title .\n",
            "\n",
            "weighty and ponderous but every bit as [[weft]] as the treat of the title .\n",
            "\n",
            "\n",
            "\n",
            "+-------------------------------+--------+\n",
            "| Attack Results                |        |\n",
            "+-------------------------------+--------+\n",
            "| Number of successful attacks: | 6      |\n",
            "| Number of failed attacks:     | 0      |\n",
            "| Number of skipped attacks:    | 2      |\n",
            "| Original accuracy:            | 75.0%  |\n",
            "| Accuracy under attack:        | 0.0%   |\n",
            "| Attack success rate:          | 100.0% |\n",
            "| Average perturbed word %:     | 20.9%  |\n",
            "| Average num. words per input: | 15.0   |\n",
            "| Avg num queries:              | 118.5  |\n",
            "+-------------------------------+--------+"
          ]
        },
        {
          "output_type": "stream",
          "name": "stderr",
          "text": [
            "\n",
            "textattack: Unknown if model of class <class 'transformers.models.albert.modeling_albert.AlbertForSequenceClassification'> compatible with goal function <class 'textattack.goal_functions.classification.targeted_classification.TargetedClassification'>.\n",
            "  0%|          | 0/8 [00:00<?, ?it/s]"
          ]
        },
        {
          "output_type": "stream",
          "name": "stdout",
          "text": [
            "\n",
            "Starting attack for----------------- WordSwapHomoglyphSwap TC\n",
            "Attack(\n",
            "  (search_method): GreedyWordSwapWIR(\n",
            "    (wir_method):  weighted-saliency\n",
            "  )\n",
            "  (goal_function):  TargetedClassification(\n",
            "    (target_class):  0\n",
            "  )\n",
            "  (transformation):  WordSwapHomoglyphSwap\n",
            "  (constraints): \n",
            "    (0): RepeatModification\n",
            "    (1): StopwordModification\n",
            "  (is_black_box):  True\n",
            ") \n",
            "\n"
          ]
        },
        {
          "output_type": "stream",
          "name": "stderr",
          "text": [
            "[Succeeded / Failed / Skipped / Total] 1 / 0 / 0 / 1:  12%|█▎        | 1/8 [00:04<00:33,  4.77s/it]"
          ]
        },
        {
          "output_type": "stream",
          "name": "stdout",
          "text": [
            "--------------------------------------------- Result 1 ---------------------------------------------\n",
            "[[Positive (100%)]] --> [[Negative (56%)]]\n",
            "\n",
            "[[lovingly]] photographed in the manner of a golden book sprung to life , stuart little 2 manages sweetness largely [[without]] stickiness .\n",
            "\n",
            "[[lovinɡly]] photographed in the manner of a golden book sprung to life , stuart little 2 manages sweetness largely [[witհout]] stickiness .\n",
            "\n",
            "\n"
          ]
        },
        {
          "output_type": "stream",
          "name": "stderr",
          "text": [
            "[Succeeded / Failed / Skipped / Total] 2 / 0 / 1 / 3:  38%|███▊      | 3/8 [00:06<00:11,  2.25s/it]"
          ]
        },
        {
          "output_type": "stream",
          "name": "stdout",
          "text": [
            "--------------------------------------------- Result 2 ---------------------------------------------\n",
            "[[Positive (100%)]] --> [[Negative (88%)]]\n",
            "\n",
            "[[consistently]] [[clever]] and [[suspenseful]] .\n",
            "\n",
            "[[consіstently]] [[ϲlever]] and [[suspenѕeful]] .\n",
            "\n",
            "\n",
            "--------------------------------------------- Result 3 ---------------------------------------------\n",
            "[[Negative (85%)]] --> [[[SKIPPED]]]\n",
            "\n",
            "it's like a \" big chill \" reunion of the baader-meinhof gang , only these guys are more harmless pranksters than political activists .\n",
            "\n",
            "\n"
          ]
        },
        {
          "output_type": "stream",
          "name": "stderr",
          "text": [
            "[Succeeded / Failed / Skipped / Total] 3 / 0 / 1 / 4:  50%|█████     | 4/8 [00:11<00:11,  2.81s/it]"
          ]
        },
        {
          "output_type": "stream",
          "name": "stdout",
          "text": [
            "--------------------------------------------- Result 4 ---------------------------------------------\n",
            "[[Positive (100%)]] --> [[Negative (79%)]]\n",
            "\n",
            "the story gives ample opportunity for large-scale action and suspense , which director shekhar kapur [[supplies]] with [[tremendous]] skill .\n",
            "\n",
            "the story gives ample opportunity for large-scale action and suspense , which director shekhar kapur [[ѕupplies]] with [[tⲅemendous]] skill .\n",
            "\n",
            "\n"
          ]
        },
        {
          "output_type": "stream",
          "name": "stderr",
          "text": [
            "[Succeeded / Failed / Skipped / Total] 4 / 0 / 2 / 6:  75%|███████▌  | 6/8 [00:12<00:04,  2.07s/it]"
          ]
        },
        {
          "output_type": "stream",
          "name": "stdout",
          "text": [
            "--------------------------------------------- Result 5 ---------------------------------------------\n",
            "[[Positive (74%)]] --> [[Negative (94%)]]\n",
            "\n",
            "red dragon \" [[never]] cuts corners .\n",
            "\n",
            "red dragon \" [[neveⲅ]] cuts corners .\n",
            "\n",
            "\n",
            "--------------------------------------------- Result 6 ---------------------------------------------\n",
            "[[Negative (64%)]] --> [[[SKIPPED]]]\n",
            "\n",
            "fresnadillo has something serious to say about the ways in which extravagant chance can distort our perspective and throw us off the path of good sense .\n",
            "\n",
            "\n"
          ]
        },
        {
          "output_type": "stream",
          "name": "stderr",
          "text": [
            "\r[Succeeded / Failed / Skipped / Total] 5 / 0 / 2 / 7:  88%|████████▊ | 7/8 [00:15<00:02,  2.18s/it]"
          ]
        },
        {
          "output_type": "stream",
          "name": "stdout",
          "text": [
            "--------------------------------------------- Result 7 ---------------------------------------------\n",
            "[[Positive (100%)]] --> [[Negative (87%)]]\n",
            "\n",
            "throws in enough [[clever]] and [[unexpected]] twists to make the formula feel fresh .\n",
            "\n",
            "throws in enough [[cleѵer]] and [[une×pected]] twists to make the formula feel fresh .\n",
            "\n",
            "\n"
          ]
        },
        {
          "output_type": "stream",
          "name": "stderr",
          "text": [
            "[Succeeded / Failed / Skipped / Total] 6 / 0 / 2 / 8: 100%|██████████| 8/8 [00:17<00:00,  2.17s/it]"
          ]
        },
        {
          "output_type": "stream",
          "name": "stdout",
          "text": [
            "--------------------------------------------- Result 8 ---------------------------------------------\n",
            "[[Positive (97%)]] --> [[Negative (89%)]]\n",
            "\n",
            "weighty and ponderous but [[every]] bit as filling as the treat of the title .\n",
            "\n",
            "weighty and ponderous but [[еvery]] bit as filling as the treat of the title .\n",
            "\n",
            "\n",
            "\n",
            "+-------------------------------+--------+\n",
            "| Attack Results                |        |\n",
            "+-------------------------------+--------+\n",
            "| Number of successful attacks: | 6      |\n",
            "| Number of failed attacks:     | 0      |\n",
            "| Number of skipped attacks:    | 2      |\n",
            "| Original accuracy:            | 75.0%  |\n",
            "| Accuracy under attack:        | 0.0%   |\n",
            "| Attack success rate:          | 100.0% |\n",
            "| Average perturbed word %:     | 23.11% |\n",
            "| Average num. words per input: | 15.0   |\n",
            "| Avg num queries:              | 85.0   |\n",
            "+-------------------------------+--------+"
          ]
        },
        {
          "output_type": "stream",
          "name": "stderr",
          "text": [
            "\n",
            "textattack: Unknown if model of class <class 'transformers.models.albert.modeling_albert.AlbertForSequenceClassification'> compatible with goal function <class 'textattack.goal_functions.classification.targeted_classification.TargetedClassification'>.\n",
            "  0%|          | 0/8 [00:00<?, ?it/s]"
          ]
        },
        {
          "output_type": "stream",
          "name": "stdout",
          "text": [
            "\n",
            "Starting attack for----------------- WordSwapNeighboringCharacterSwap TC\n",
            "Attack(\n",
            "  (search_method): GreedyWordSwapWIR(\n",
            "    (wir_method):  weighted-saliency\n",
            "  )\n",
            "  (goal_function):  TargetedClassification(\n",
            "    (target_class):  0\n",
            "  )\n",
            "  (transformation):  WordSwapNeighboringCharacterSwap(\n",
            "    (random_one):  True\n",
            "  )\n",
            "  (constraints): \n",
            "    (0): RepeatModification\n",
            "    (1): StopwordModification\n",
            "  (is_black_box):  True\n",
            ") \n",
            "\n"
          ]
        },
        {
          "output_type": "stream",
          "name": "stderr",
          "text": [
            "[Succeeded / Failed / Skipped / Total] 1 / 0 / 0 / 1:  12%|█▎        | 1/8 [00:01<00:09,  1.42s/it]"
          ]
        },
        {
          "output_type": "stream",
          "name": "stdout",
          "text": [
            "--------------------------------------------- Result 1 ---------------------------------------------\n",
            "[[Positive (100%)]] --> [[Negative (81%)]]\n",
            "\n",
            "[[lovingly]] photographed in the manner of a golden book sprung to life , stuart little 2 [[manages]] sweetness largely [[without]] stickiness .\n",
            "\n",
            "[[lovnigly]] photographed in the manner of a golden book sprung to life , stuart little 2 [[mnaages]] sweetness largely [[wihtout]] stickiness .\n",
            "\n",
            "\n"
          ]
        },
        {
          "output_type": "stream",
          "name": "stderr",
          "text": [
            "[Succeeded / Failed / Skipped / Total] 1 / 1 / 1 / 3:  38%|███▊      | 3/8 [00:01<00:03,  1.58it/s]"
          ]
        },
        {
          "output_type": "stream",
          "name": "stdout",
          "text": [
            "--------------------------------------------- Result 2 ---------------------------------------------\n",
            "[[Positive (100%)]] --> [[[FAILED]]]\n",
            "\n",
            "consistently clever and suspenseful .\n",
            "\n",
            "\n",
            "--------------------------------------------- Result 3 ---------------------------------------------\n",
            "[[Negative (85%)]] --> [[[SKIPPED]]]\n",
            "\n",
            "it's like a \" big chill \" reunion of the baader-meinhof gang , only these guys are more harmless pranksters than political activists .\n",
            "\n",
            "\n"
          ]
        },
        {
          "output_type": "stream",
          "name": "stderr",
          "text": [
            "[Succeeded / Failed / Skipped / Total] 1 / 2 / 1 / 4:  50%|█████     | 4/8 [00:03<00:03,  1.09it/s]"
          ]
        },
        {
          "output_type": "stream",
          "name": "stdout",
          "text": [
            "--------------------------------------------- Result 4 ---------------------------------------------\n",
            "[[Positive (100%)]] --> [[[FAILED]]]\n",
            "\n",
            "the story gives ample opportunity for large-scale action and suspense , which director shekhar kapur supplies with tremendous skill .\n",
            "\n",
            "\n"
          ]
        },
        {
          "output_type": "stream",
          "name": "stderr",
          "text": [
            "[Succeeded / Failed / Skipped / Total] 2 / 2 / 2 / 6:  75%|███████▌  | 6/8 [00:04<00:01,  1.47it/s]"
          ]
        },
        {
          "output_type": "stream",
          "name": "stdout",
          "text": [
            "--------------------------------------------- Result 5 ---------------------------------------------\n",
            "[[Positive (74%)]] --> [[Negative (97%)]]\n",
            "\n",
            "red dragon \" [[never]] cuts corners .\n",
            "\n",
            "red dragon \" [[neevr]] cuts corners .\n",
            "\n",
            "\n",
            "--------------------------------------------- Result 6 ---------------------------------------------\n",
            "[[Negative (64%)]] --> [[[SKIPPED]]]\n",
            "\n",
            "fresnadillo has something serious to say about the ways in which extravagant chance can distort our perspective and throw us off the path of good sense .\n",
            "\n",
            "\n"
          ]
        },
        {
          "output_type": "stream",
          "name": "stderr",
          "text": [
            "\r[Succeeded / Failed / Skipped / Total] 3 / 2 / 2 / 7:  88%|████████▊ | 7/8 [00:05<00:00,  1.35it/s]"
          ]
        },
        {
          "output_type": "stream",
          "name": "stdout",
          "text": [
            "--------------------------------------------- Result 7 ---------------------------------------------\n",
            "[[Positive (100%)]] --> [[Negative (66%)]]\n",
            "\n",
            "throws in enough [[clever]] and [[unexpected]] [[twists]] to make the formula feel [[fresh]] .\n",
            "\n",
            "throws in enough [[celver]] and [[unepxected]] [[tiwsts]] to make the formula feel [[fersh]] .\n",
            "\n",
            "\n"
          ]
        },
        {
          "output_type": "stream",
          "name": "stderr",
          "text": [
            "[Succeeded / Failed / Skipped / Total] 4 / 2 / 2 / 8: 100%|██████████| 8/8 [00:06<00:00,  1.33it/s]"
          ]
        },
        {
          "output_type": "stream",
          "name": "stdout",
          "text": [
            "--------------------------------------------- Result 8 ---------------------------------------------\n",
            "[[Positive (97%)]] --> [[Negative (53%)]]\n",
            "\n",
            "weighty and ponderous but [[every]] bit as filling as the treat of the [[title]] .\n",
            "\n",
            "weighty and ponderous but [[eevry]] bit as filling as the treat of the [[tilte]] .\n",
            "\n",
            "\n",
            "\n",
            "+-------------------------------+--------+\n",
            "| Attack Results                |        |\n",
            "+-------------------------------+--------+\n",
            "| Number of successful attacks: | 4      |\n",
            "| Number of failed attacks:     | 2      |\n",
            "| Number of skipped attacks:    | 2      |\n",
            "| Original accuracy:            | 75.0%  |\n",
            "| Accuracy under attack:        | 25.0%  |\n",
            "| Attack success rate:          | 66.67% |\n",
            "| Average perturbed word %:     | 20.01% |\n",
            "| Average num. words per input: | 15.0   |\n",
            "| Avg num queries:              | 25.83  |\n",
            "+-------------------------------+--------+"
          ]
        },
        {
          "output_type": "stream",
          "name": "stderr",
          "text": [
            "\n",
            "textattack: Unknown if model of class <class 'transformers.models.albert.modeling_albert.AlbertForSequenceClassification'> compatible with goal function <class 'textattack.goal_functions.classification.targeted_classification.TargetedClassification'>.\n",
            "  0%|          | 0/8 [00:00<?, ?it/s]"
          ]
        },
        {
          "output_type": "stream",
          "name": "stdout",
          "text": [
            "\n",
            "Starting attack for----------------- WordSwapRandomCharacterDeletion TC\n",
            "Attack(\n",
            "  (search_method): GreedyWordSwapWIR(\n",
            "    (wir_method):  weighted-saliency\n",
            "  )\n",
            "  (goal_function):  TargetedClassification(\n",
            "    (target_class):  0\n",
            "  )\n",
            "  (transformation):  WordSwapRandomCharacterDeletion(\n",
            "    (random_one):  True\n",
            "  )\n",
            "  (constraints): \n",
            "    (0): RepeatModification\n",
            "    (1): StopwordModification\n",
            "  (is_black_box):  True\n",
            ") \n",
            "\n"
          ]
        },
        {
          "output_type": "stream",
          "name": "stderr",
          "text": [
            "[Succeeded / Failed / Skipped / Total] 1 / 0 / 0 / 1:  12%|█▎        | 1/8 [00:01<00:10,  1.46s/it]"
          ]
        },
        {
          "output_type": "stream",
          "name": "stdout",
          "text": [
            "--------------------------------------------- Result 1 ---------------------------------------------\n",
            "[[Positive (100%)]] --> [[Negative (87%)]]\n",
            "\n",
            "lovingly photographed in the manner of a golden book sprung to life , stuart little 2 [[manages]] [[sweetness]] largely [[without]] stickiness .\n",
            "\n",
            "lovingly photographed in the manner of a golden book sprung to life , stuart little 2 [[manags]] [[swetness]] largely [[wthout]] stickiness .\n",
            "\n",
            "\n"
          ]
        },
        {
          "output_type": "stream",
          "name": "stderr",
          "text": [
            "[Succeeded / Failed / Skipped / Total] 1 / 1 / 1 / 3:  38%|███▊      | 3/8 [00:01<00:03,  1.54it/s]"
          ]
        },
        {
          "output_type": "stream",
          "name": "stdout",
          "text": [
            "--------------------------------------------- Result 2 ---------------------------------------------\n",
            "[[Positive (100%)]] --> [[[FAILED]]]\n",
            "\n",
            "consistently clever and suspenseful .\n",
            "\n",
            "\n",
            "--------------------------------------------- Result 3 ---------------------------------------------\n",
            "[[Negative (85%)]] --> [[[SKIPPED]]]\n",
            "\n",
            "it's like a \" big chill \" reunion of the baader-meinhof gang , only these guys are more harmless pranksters than political activists .\n",
            "\n",
            "\n"
          ]
        },
        {
          "output_type": "stream",
          "name": "stderr",
          "text": [
            "[Succeeded / Failed / Skipped / Total] 1 / 2 / 1 / 4:  50%|█████     | 4/8 [00:03<00:03,  1.09it/s]"
          ]
        },
        {
          "output_type": "stream",
          "name": "stdout",
          "text": [
            "--------------------------------------------- Result 4 ---------------------------------------------\n",
            "[[Positive (100%)]] --> [[[FAILED]]]\n",
            "\n",
            "the story gives ample opportunity for large-scale action and suspense , which director shekhar kapur supplies with tremendous skill .\n",
            "\n",
            "\n"
          ]
        },
        {
          "output_type": "stream",
          "name": "stderr",
          "text": [
            "[Succeeded / Failed / Skipped / Total] 2 / 2 / 2 / 6:  75%|███████▌  | 6/8 [00:04<00:01,  1.43it/s]"
          ]
        },
        {
          "output_type": "stream",
          "name": "stdout",
          "text": [
            "--------------------------------------------- Result 5 ---------------------------------------------\n",
            "[[Positive (74%)]] --> [[Negative (71%)]]\n",
            "\n",
            "red dragon \" [[never]] cuts corners .\n",
            "\n",
            "red dragon \" [[nver]] cuts corners .\n",
            "\n",
            "\n",
            "--------------------------------------------- Result 6 ---------------------------------------------\n",
            "[[Negative (64%)]] --> [[[SKIPPED]]]\n",
            "\n",
            "fresnadillo has something serious to say about the ways in which extravagant chance can distort our perspective and throw us off the path of good sense .\n",
            "\n",
            "\n"
          ]
        },
        {
          "output_type": "stream",
          "name": "stderr",
          "text": [
            "\r[Succeeded / Failed / Skipped / Total] 3 / 2 / 2 / 7:  88%|████████▊ | 7/8 [00:05<00:00,  1.33it/s]"
          ]
        },
        {
          "output_type": "stream",
          "name": "stdout",
          "text": [
            "--------------------------------------------- Result 7 ---------------------------------------------\n",
            "[[Positive (100%)]] --> [[Negative (97%)]]\n",
            "\n",
            "throws in enough [[clever]] and [[unexpected]] [[twists]] to make the formula feel [[fresh]] .\n",
            "\n",
            "throws in enough [[cever]] and [[unexpeced]] [[twits]] to make the formula feel [[frsh]] .\n",
            "\n",
            "\n"
          ]
        },
        {
          "output_type": "stream",
          "name": "stderr",
          "text": [
            "[Succeeded / Failed / Skipped / Total] 4 / 2 / 2 / 8: 100%|██████████| 8/8 [00:06<00:00,  1.30it/s]"
          ]
        },
        {
          "output_type": "stream",
          "name": "stdout",
          "text": [
            "--------------------------------------------- Result 8 ---------------------------------------------\n",
            "[[Positive (97%)]] --> [[Negative (71%)]]\n",
            "\n",
            "weighty and ponderous but every bit as [[filling]] as the treat of the title .\n",
            "\n",
            "weighty and ponderous but every bit as [[fillig]] as the treat of the title .\n",
            "\n",
            "\n",
            "\n",
            "+-------------------------------+--------+\n",
            "| Attack Results                |        |\n",
            "+-------------------------------+--------+\n",
            "| Number of successful attacks: | 4      |\n",
            "| Number of failed attacks:     | 2      |\n",
            "| Number of skipped attacks:    | 2      |\n",
            "| Original accuracy:            | 75.0%  |\n",
            "| Accuracy under attack:        | 25.0%  |\n",
            "| Attack success rate:          | 66.67% |\n",
            "| Average perturbed word %:     | 18.23% |\n",
            "| Average num. words per input: | 15.0   |\n",
            "| Avg num queries:              | 26.0   |\n",
            "+-------------------------------+--------+"
          ]
        },
        {
          "output_type": "stream",
          "name": "stderr",
          "text": [
            "\n",
            "textattack: Unknown if model of class <class 'transformers.models.albert.modeling_albert.AlbertForSequenceClassification'> compatible with goal function <class 'textattack.goal_functions.classification.targeted_classification.TargetedClassification'>.\n",
            "  0%|          | 0/8 [00:00<?, ?it/s]"
          ]
        },
        {
          "output_type": "stream",
          "name": "stdout",
          "text": [
            "\n",
            "Starting attack for----------------- WordSwapEmbedding TC\n",
            "Attack(\n",
            "  (search_method): GreedyWordSwapWIR(\n",
            "    (wir_method):  weighted-saliency\n",
            "  )\n",
            "  (goal_function):  TargetedClassification(\n",
            "    (target_class):  0\n",
            "  )\n",
            "  (transformation):  WordSwapEmbedding(\n",
            "    (max_candidates):  5\n",
            "    (embedding):  WordEmbedding\n",
            "  )\n",
            "  (constraints): \n",
            "    (0): RepeatModification\n",
            "    (1): StopwordModification\n",
            "  (is_black_box):  True\n",
            ") \n",
            "\n"
          ]
        },
        {
          "output_type": "stream",
          "name": "stderr",
          "text": [
            "[Succeeded / Failed / Skipped / Total] 1 / 0 / 0 / 1:  12%|█▎        | 1/8 [00:03<00:23,  3.37s/it]"
          ]
        },
        {
          "output_type": "stream",
          "name": "stdout",
          "text": [
            "--------------------------------------------- Result 1 ---------------------------------------------\n",
            "[[Positive (100%)]] --> [[Negative (69%)]]\n",
            "\n",
            "lovingly photographed in the manner of a golden book sprung to life , stuart little 2 [[manages]] sweetness largely [[without]] stickiness .\n",
            "\n",
            "lovingly photographed in the manner of a golden book sprung to life , stuart little 2 [[administering]] sweetness largely [[unless]] stickiness .\n",
            "\n",
            "\n"
          ]
        },
        {
          "output_type": "stream",
          "name": "stderr",
          "text": [
            "[Succeeded / Failed / Skipped / Total] 1 / 1 / 1 / 3:  38%|███▊      | 3/8 [00:04<00:07,  1.51s/it]"
          ]
        },
        {
          "output_type": "stream",
          "name": "stdout",
          "text": [
            "--------------------------------------------- Result 2 ---------------------------------------------\n",
            "[[Positive (100%)]] --> [[[FAILED]]]\n",
            "\n",
            "consistently clever and suspenseful .\n",
            "\n",
            "\n",
            "--------------------------------------------- Result 3 ---------------------------------------------\n",
            "[[Negative (85%)]] --> [[[SKIPPED]]]\n",
            "\n",
            "it's like a \" big chill \" reunion of the baader-meinhof gang , only these guys are more harmless pranksters than political activists .\n",
            "\n",
            "\n"
          ]
        },
        {
          "output_type": "stream",
          "name": "stderr",
          "text": [
            "[Succeeded / Failed / Skipped / Total] 2 / 1 / 1 / 4:  50%|█████     | 4/8 [00:08<00:08,  2.15s/it]"
          ]
        },
        {
          "output_type": "stream",
          "name": "stdout",
          "text": [
            "--------------------------------------------- Result 4 ---------------------------------------------\n",
            "[[Positive (100%)]] --> [[Negative (58%)]]\n",
            "\n",
            "the [[story]] [[gives]] [[ample]] opportunity for large-scale action and suspense , which [[director]] shekhar kapur [[supplies]] with [[tremendous]] skill .\n",
            "\n",
            "the [[storytelling]] [[affords]] [[plenty]] opportunity for large-scale action and suspense , which [[headmaster]] shekhar kapur [[foodstuffs]] with [[prodigious]] skill .\n",
            "\n",
            "\n"
          ]
        },
        {
          "output_type": "stream",
          "name": "stderr",
          "text": [
            "[Succeeded / Failed / Skipped / Total] 3 / 1 / 2 / 6:  75%|███████▌  | 6/8 [00:09<00:03,  1.63s/it]"
          ]
        },
        {
          "output_type": "stream",
          "name": "stdout",
          "text": [
            "--------------------------------------------- Result 5 ---------------------------------------------\n",
            "[[Positive (74%)]] --> [[Negative (84%)]]\n",
            "\n",
            "red dragon \" [[never]] cuts corners .\n",
            "\n",
            "red dragon \" [[jamais]] cuts corners .\n",
            "\n",
            "\n",
            "--------------------------------------------- Result 6 ---------------------------------------------\n",
            "[[Negative (64%)]] --> [[[SKIPPED]]]\n",
            "\n",
            "fresnadillo has something serious to say about the ways in which extravagant chance can distort our perspective and throw us off the path of good sense .\n",
            "\n",
            "\n"
          ]
        },
        {
          "output_type": "stream",
          "name": "stderr",
          "text": [
            "\r[Succeeded / Failed / Skipped / Total] 4 / 1 / 2 / 7:  88%|████████▊ | 7/8 [00:12<00:01,  1.79s/it]"
          ]
        },
        {
          "output_type": "stream",
          "name": "stdout",
          "text": [
            "--------------------------------------------- Result 7 ---------------------------------------------\n",
            "[[Positive (100%)]] --> [[Negative (95%)]]\n",
            "\n",
            "throws in enough clever and [[unexpected]] [[twists]] to make the [[formula]] feel [[fresh]] .\n",
            "\n",
            "throws in enough clever and [[unplanned]] [[folds]] to make the [[wording]] feel [[dulce]] .\n",
            "\n",
            "\n"
          ]
        },
        {
          "output_type": "stream",
          "name": "stderr",
          "text": [
            "[Succeeded / Failed / Skipped / Total] 5 / 1 / 2 / 8: 100%|██████████| 8/8 [00:14<00:00,  1.82s/it]"
          ]
        },
        {
          "output_type": "stream",
          "name": "stdout",
          "text": [
            "--------------------------------------------- Result 8 ---------------------------------------------\n",
            "[[Positive (97%)]] --> [[Negative (91%)]]\n",
            "\n",
            "weighty and [[ponderous]] but every bit as [[filling]] as the treat of the title .\n",
            "\n",
            "weighty and [[unwieldy]] but every bit as [[populate]] as the treat of the title .\n",
            "\n",
            "\n",
            "\n",
            "+-------------------------------+--------+\n",
            "| Attack Results                |        |\n",
            "+-------------------------------+--------+\n",
            "| Number of successful attacks: | 5      |\n",
            "| Number of failed attacks:     | 1      |\n",
            "| Number of skipped attacks:    | 2      |\n",
            "| Original accuracy:            | 75.0%  |\n",
            "| Accuracy under attack:        | 12.5%  |\n",
            "| Attack success rate:          | 83.33% |\n",
            "| Average perturbed word %:     | 21.68% |\n",
            "| Average num. words per input: | 15.0   |\n",
            "| Avg num queries:              | 70.0   |\n",
            "+-------------------------------+--------+"
          ]
        },
        {
          "output_type": "stream",
          "name": "stderr",
          "text": [
            "\n"
          ]
        },
        {
          "output_type": "stream",
          "name": "stdout",
          "text": [
            "\n",
            "Starting attack for----------------- WordSwapHowNet TC\n"
          ]
        },
        {
          "output_type": "stream",
          "name": "stderr",
          "text": [
            "textattack: Unknown if model of class <class 'transformers.models.albert.modeling_albert.AlbertForSequenceClassification'> compatible with goal function <class 'textattack.goal_functions.classification.targeted_classification.TargetedClassification'>.\n",
            "  0%|          | 0/8 [00:00<?, ?it/s]"
          ]
        },
        {
          "output_type": "stream",
          "name": "stdout",
          "text": [
            "Attack(\n",
            "  (search_method): GreedyWordSwapWIR(\n",
            "    (wir_method):  weighted-saliency\n",
            "  )\n",
            "  (goal_function):  TargetedClassification(\n",
            "    (target_class):  0\n",
            "  )\n",
            "  (transformation):  WordSwapHowNet(\n",
            "    (max_candidates):  -1\n",
            "  )\n",
            "  (constraints): \n",
            "    (0): RepeatModification\n",
            "    (1): StopwordModification\n",
            "  (is_black_box):  True\n",
            ") \n",
            "\n"
          ]
        },
        {
          "output_type": "stream",
          "name": "stderr",
          "text": [
            "[Succeeded / Failed / Skipped / Total] 1 / 0 / 0 / 1:  12%|█▎        | 1/8 [00:19<02:14, 19.18s/it]"
          ]
        },
        {
          "output_type": "stream",
          "name": "stdout",
          "text": [
            "--------------------------------------------- Result 1 ---------------------------------------------\n",
            "[[Positive (100%)]] --> [[Negative (92%)]]\n",
            "\n",
            "lovingly photographed in the manner of a golden book sprung to life , stuart little 2 [[manages]] sweetness [[largely]] without stickiness .\n",
            "\n",
            "lovingly photographed in the manner of a golden book sprung to life , stuart little 2 [[tries]] sweetness [[unnecessarily]] without stickiness .\n",
            "\n",
            "\n"
          ]
        },
        {
          "output_type": "stream",
          "name": "stderr",
          "text": [
            "[Succeeded / Failed / Skipped / Total] 2 / 0 / 1 / 3:  38%|███▊      | 3/8 [00:21<00:35,  7.16s/it]"
          ]
        },
        {
          "output_type": "stream",
          "name": "stdout",
          "text": [
            "--------------------------------------------- Result 2 ---------------------------------------------\n",
            "[[Positive (100%)]] --> [[Negative (72%)]]\n",
            "\n",
            "consistently [[clever]] and [[suspenseful]] .\n",
            "\n",
            "consistently [[shrewd]] and [[indeterminate]] .\n",
            "\n",
            "\n",
            "--------------------------------------------- Result 3 ---------------------------------------------\n",
            "[[Negative (85%)]] --> [[[SKIPPED]]]\n",
            "\n",
            "it's like a \" big chill \" reunion of the baader-meinhof gang , only these guys are more harmless pranksters than political activists .\n",
            "\n",
            "\n"
          ]
        },
        {
          "output_type": "stream",
          "name": "stderr",
          "text": [
            "[Succeeded / Failed / Skipped / Total] 3 / 0 / 1 / 4:  50%|█████     | 4/8 [00:31<00:31,  7.80s/it]"
          ]
        },
        {
          "output_type": "stream",
          "name": "stdout",
          "text": [
            "--------------------------------------------- Result 4 ---------------------------------------------\n",
            "[[Positive (100%)]] --> [[Negative (99%)]]\n",
            "\n",
            "the story gives ample opportunity for large-scale action and suspense , which director shekhar kapur supplies with [[tremendous]] skill .\n",
            "\n",
            "the story gives ample opportunity for large-scale action and suspense , which director shekhar kapur supplies with [[terrible]] skill .\n",
            "\n",
            "\n"
          ]
        },
        {
          "output_type": "stream",
          "name": "stderr",
          "text": [
            "[Succeeded / Failed / Skipped / Total] 4 / 0 / 2 / 6:  75%|███████▌  | 6/8 [00:33<00:11,  5.59s/it]"
          ]
        },
        {
          "output_type": "stream",
          "name": "stdout",
          "text": [
            "--------------------------------------------- Result 5 ---------------------------------------------\n",
            "[[Positive (74%)]] --> [[Negative (56%)]]\n",
            "\n",
            "[[red]] dragon \" never cuts corners .\n",
            "\n",
            "[[magenta]] dragon \" never cuts corners .\n",
            "\n",
            "\n",
            "--------------------------------------------- Result 6 ---------------------------------------------\n",
            "[[Negative (64%)]] --> [[[SKIPPED]]]\n",
            "\n",
            "fresnadillo has something serious to say about the ways in which extravagant chance can distort our perspective and throw us off the path of good sense .\n",
            "\n",
            "\n"
          ]
        },
        {
          "output_type": "stream",
          "name": "stderr",
          "text": [
            "\r[Succeeded / Failed / Skipped / Total] 5 / 0 / 2 / 7:  88%|████████▊ | 7/8 [00:42<00:06,  6.00s/it]"
          ]
        },
        {
          "output_type": "stream",
          "name": "stdout",
          "text": [
            "--------------------------------------------- Result 7 ---------------------------------------------\n",
            "[[Positive (100%)]] --> [[Negative (98%)]]\n",
            "\n",
            "throws in enough clever and [[unexpected]] twists to make the formula feel [[fresh]] .\n",
            "\n",
            "throws in enough clever and [[expectant]] twists to make the formula feel [[novel]] .\n",
            "\n",
            "\n"
          ]
        },
        {
          "output_type": "stream",
          "name": "stderr",
          "text": [
            "[Succeeded / Failed / Skipped / Total] 6 / 0 / 2 / 8: 100%|██████████| 8/8 [00:49<00:00,  6.14s/it]"
          ]
        },
        {
          "output_type": "stream",
          "name": "stdout",
          "text": [
            "--------------------------------------------- Result 8 ---------------------------------------------\n",
            "[[Positive (97%)]] --> [[Negative (88%)]]\n",
            "\n",
            "weighty and ponderous but every bit as [[filling]] as the treat of the title .\n",
            "\n",
            "weighty and ponderous but every bit as [[loading]] as the treat of the title .\n",
            "\n",
            "\n",
            "\n",
            "+-------------------------------+--------+\n",
            "| Attack Results                |        |\n",
            "+-------------------------------+--------+\n",
            "| Number of successful attacks: | 6      |\n",
            "| Number of failed attacks:     | 0      |\n",
            "| Number of skipped attacks:    | 2      |\n",
            "| Original accuracy:            | 75.0%  |\n",
            "| Accuracy under attack:        | 0.0%   |\n",
            "| Attack success rate:          | 100.0% |\n",
            "| Average perturbed word %:     | 18.01% |\n",
            "| Average num. words per input: | 15.0   |\n",
            "| Avg num queries:              | 243.0  |\n",
            "+-------------------------------+--------+"
          ]
        },
        {
          "output_type": "stream",
          "name": "stderr",
          "text": [
            "\n",
            "textattack: Unknown if model of class <class 'transformers.models.albert.modeling_albert.AlbertForSequenceClassification'> compatible with goal function <class 'textattack.goal_functions.classification.targeted_classification.TargetedClassification'>.\n",
            "  0%|          | 0/8 [00:00<?, ?it/s]"
          ]
        },
        {
          "output_type": "stream",
          "name": "stdout",
          "text": [
            "\n",
            "Starting attack for----------------- WordDeletion TC\n",
            "Attack(\n",
            "  (search_method): GreedyWordSwapWIR(\n",
            "    (wir_method):  weighted-saliency\n",
            "  )\n",
            "  (goal_function):  TargetedClassification(\n",
            "    (target_class):  0\n",
            "  )\n",
            "  (transformation):  WordDeletion\n",
            "  (constraints): \n",
            "    (0): RepeatModification\n",
            "    (1): StopwordModification\n",
            "  (is_black_box):  True\n",
            ") \n",
            "\n"
          ]
        },
        {
          "output_type": "stream",
          "name": "stderr",
          "text": [
            "[Succeeded / Failed / Skipped / Total] 1 / 0 / 0 / 1:  12%|█▎        | 1/8 [00:01<00:11,  1.66s/it]"
          ]
        },
        {
          "output_type": "stream",
          "name": "stdout",
          "text": [
            "--------------------------------------------- Result 1 ---------------------------------------------\n",
            "[[Positive (100%)]] --> [[Negative (53%)]]\n",
            "\n",
            "[[lovingly]] photographed in the manner of a golden book sprung to life , stuart little 2 [[manages]] sweetness largely without stickiness .\n",
            "\n",
            "photographed in the manner of a golden book sprung to life , stuart little 2 sweetness largely without stickiness .\n",
            "\n",
            "\n"
          ]
        },
        {
          "output_type": "stream",
          "name": "stderr",
          "text": [
            "[Succeeded / Failed / Skipped / Total] 2 / 0 / 1 / 3:  38%|███▊      | 3/8 [00:02<00:03,  1.40it/s]"
          ]
        },
        {
          "output_type": "stream",
          "name": "stdout",
          "text": [
            "--------------------------------------------- Result 2 ---------------------------------------------\n",
            "[[Positive (100%)]] --> [[Negative (83%)]]\n",
            "\n",
            "[[consistently]] [[clever]] and [[suspenseful]] .\n",
            "\n",
            "and .\n",
            "\n",
            "\n",
            "--------------------------------------------- Result 3 ---------------------------------------------\n",
            "[[Negative (85%)]] --> [[[SKIPPED]]]\n",
            "\n",
            "it's like a \" big chill \" reunion of the baader-meinhof gang , only these guys are more harmless pranksters than political activists .\n",
            "\n",
            "\n"
          ]
        },
        {
          "output_type": "stream",
          "name": "stderr",
          "text": [
            "[Succeeded / Failed / Skipped / Total] 2 / 1 / 1 / 4:  50%|█████     | 4/8 [00:04<00:04,  1.03s/it]"
          ]
        },
        {
          "output_type": "stream",
          "name": "stdout",
          "text": [
            "--------------------------------------------- Result 4 ---------------------------------------------\n",
            "[[Positive (100%)]] --> [[[FAILED]]]\n",
            "\n",
            "the story gives ample opportunity for large-scale action and suspense , which director shekhar kapur supplies with tremendous skill .\n",
            "\n",
            "\n"
          ]
        },
        {
          "output_type": "stream",
          "name": "stderr",
          "text": [
            "[Succeeded / Failed / Skipped / Total] 3 / 1 / 2 / 6:  75%|███████▌  | 6/8 [00:04<00:01,  1.30it/s]"
          ]
        },
        {
          "output_type": "stream",
          "name": "stdout",
          "text": [
            "--------------------------------------------- Result 5 ---------------------------------------------\n",
            "[[Positive (74%)]] --> [[Negative (78%)]]\n",
            "\n",
            "red dragon \" [[never]] cuts corners .\n",
            "\n",
            "red dragon \" cuts corners .\n",
            "\n",
            "\n",
            "--------------------------------------------- Result 6 ---------------------------------------------\n",
            "[[Negative (64%)]] --> [[[SKIPPED]]]\n",
            "\n",
            "fresnadillo has something serious to say about the ways in which extravagant chance can distort our perspective and throw us off the path of good sense .\n",
            "\n",
            "\n"
          ]
        },
        {
          "output_type": "stream",
          "name": "stderr",
          "text": [
            "\r[Succeeded / Failed / Skipped / Total] 4 / 1 / 2 / 7:  88%|████████▊ | 7/8 [00:05<00:00,  1.19it/s]"
          ]
        },
        {
          "output_type": "stream",
          "name": "stdout",
          "text": [
            "--------------------------------------------- Result 7 ---------------------------------------------\n",
            "[[Positive (100%)]] --> [[Negative (52%)]]\n",
            "\n",
            "throws in enough [[clever]] and [[unexpected]] twists to [[make]] the [[formula]] [[feel]] fresh .\n",
            "\n",
            "throws in enough and twists to the fresh .\n",
            "\n",
            "\n"
          ]
        },
        {
          "output_type": "stream",
          "name": "stderr",
          "text": [
            "[Succeeded / Failed / Skipped / Total] 5 / 1 / 2 / 8: 100%|██████████| 8/8 [00:07<00:00,  1.14it/s]"
          ]
        },
        {
          "output_type": "stream",
          "name": "stdout",
          "text": [
            "--------------------------------------------- Result 8 ---------------------------------------------\n",
            "[[Positive (97%)]] --> [[Negative (66%)]]\n",
            "\n",
            "weighty and ponderous but every bit as [[filling]] as the treat of the title .\n",
            "\n",
            "weighty and ponderous but every bit as as the treat of the title .\n",
            "\n",
            "\n",
            "\n",
            "+-------------------------------+--------+\n",
            "| Attack Results                |        |\n",
            "+-------------------------------+--------+\n",
            "| Number of successful attacks: | 5      |\n",
            "| Number of failed attacks:     | 1      |\n",
            "| Number of skipped attacks:    | 2      |\n",
            "| Original accuracy:            | 75.0%  |\n",
            "| Accuracy under attack:        | 12.5%  |\n",
            "| Attack success rate:          | 83.33% |\n",
            "| Average perturbed word %:     | 47.26% |\n",
            "| Average num. words per input: | 15.0   |\n",
            "| Avg num queries:              | 30.33  |\n",
            "+-------------------------------+--------+"
          ]
        },
        {
          "output_type": "stream",
          "name": "stderr",
          "text": [
            "\n"
          ]
        },
        {
          "output_type": "stream",
          "name": "stdout",
          "text": [
            "\n",
            "Starting attack for----------------- WordMergeMaskedLM TC\n"
          ]
        },
        {
          "output_type": "stream",
          "name": "stderr",
          "text": [
            "Some weights of the model checkpoint at bert-base-uncased were not used when initializing BertForMaskedLM: ['cls.seq_relationship.weight', 'cls.seq_relationship.bias']\n",
            "- This IS expected if you are initializing BertForMaskedLM from the checkpoint of a model trained on another task or with another architecture (e.g. initializing a BertForSequenceClassification model from a BertForPreTraining model).\n",
            "- This IS NOT expected if you are initializing BertForMaskedLM from the checkpoint of a model that you expect to be exactly identical (initializing a BertForSequenceClassification model from a BertForSequenceClassification model).\n",
            "textattack: Unknown if model of class <class 'transformers.models.albert.modeling_albert.AlbertForSequenceClassification'> compatible with goal function <class 'textattack.goal_functions.classification.targeted_classification.TargetedClassification'>.\n",
            "textattack: Unknown if model of class <class 'transformers.models.albert.modeling_albert.AlbertForSequenceClassification'> compatible with goal function <class 'textattack.goal_functions.classification.targeted_classification.TargetedClassification'>.\n",
            "  0%|          | 0/8 [00:00<?, ?it/s]"
          ]
        },
        {
          "output_type": "stream",
          "name": "stdout",
          "text": [
            "Not compatible\n",
            "Starting attack for----------------- WordSwapRandomCharacterSubstitution TC\n",
            "Attack(\n",
            "  (search_method): GreedyWordSwapWIR(\n",
            "    (wir_method):  weighted-saliency\n",
            "  )\n",
            "  (goal_function):  TargetedClassification(\n",
            "    (target_class):  0\n",
            "  )\n",
            "  (transformation):  WordSwapRandomCharacterSubstitution(\n",
            "    (random_one):  True\n",
            "  )\n",
            "  (constraints): \n",
            "    (0): RepeatModification\n",
            "    (1): StopwordModification\n",
            "  (is_black_box):  True\n",
            ") \n",
            "\n"
          ]
        },
        {
          "output_type": "stream",
          "name": "stderr",
          "text": [
            "[Succeeded / Failed / Skipped / Total] 1 / 0 / 0 / 1:  12%|█▎        | 1/8 [00:01<00:11,  1.65s/it]"
          ]
        },
        {
          "output_type": "stream",
          "name": "stdout",
          "text": [
            "--------------------------------------------- Result 1 ---------------------------------------------\n",
            "[[Positive (100%)]] --> [[Negative (90%)]]\n",
            "\n",
            "[[lovingly]] photographed in the manner of a golden book sprung to life , [[stuart]] little 2 [[manages]] [[sweetness]] largely [[without]] stickiness .\n",
            "\n",
            "[[lovinglz]] photographed in the manner of a golden book sprung to life , [[stuaqt]] little 2 [[Uanages]] [[sweedness]] largely [[Nithout]] stickiness .\n",
            "\n",
            "\n"
          ]
        },
        {
          "output_type": "stream",
          "name": "stderr",
          "text": [
            "[Succeeded / Failed / Skipped / Total] 1 / 1 / 1 / 3:  38%|███▊      | 3/8 [00:02<00:03,  1.41it/s]"
          ]
        },
        {
          "output_type": "stream",
          "name": "stdout",
          "text": [
            "--------------------------------------------- Result 2 ---------------------------------------------\n",
            "[[Positive (100%)]] --> [[[FAILED]]]\n",
            "\n",
            "consistently clever and suspenseful .\n",
            "\n",
            "\n",
            "--------------------------------------------- Result 3 ---------------------------------------------\n",
            "[[Negative (85%)]] --> [[[SKIPPED]]]\n",
            "\n",
            "it's like a \" big chill \" reunion of the baader-meinhof gang , only these guys are more harmless pranksters than political activists .\n",
            "\n",
            "\n"
          ]
        },
        {
          "output_type": "stream",
          "name": "stderr",
          "text": [
            "[Succeeded / Failed / Skipped / Total] 1 / 2 / 1 / 4:  50%|█████     | 4/8 [00:03<00:03,  1.04it/s]"
          ]
        },
        {
          "output_type": "stream",
          "name": "stdout",
          "text": [
            "--------------------------------------------- Result 4 ---------------------------------------------\n",
            "[[Positive (100%)]] --> [[[FAILED]]]\n",
            "\n",
            "the story gives ample opportunity for large-scale action and suspense , which director shekhar kapur supplies with tremendous skill .\n",
            "\n",
            "\n"
          ]
        },
        {
          "output_type": "stream",
          "name": "stderr",
          "text": [
            "[Succeeded / Failed / Skipped / Total] 2 / 2 / 2 / 6:  75%|███████▌  | 6/8 [00:04<00:01,  1.36it/s]"
          ]
        },
        {
          "output_type": "stream",
          "name": "stdout",
          "text": [
            "--------------------------------------------- Result 5 ---------------------------------------------\n",
            "[[Positive (74%)]] --> [[Negative (62%)]]\n",
            "\n",
            "red dragon \" [[never]] [[cuts]] corners .\n",
            "\n",
            "red dragon \" [[neveS]] [[cuqs]] corners .\n",
            "\n",
            "\n",
            "--------------------------------------------- Result 6 ---------------------------------------------\n",
            "[[Negative (64%)]] --> [[[SKIPPED]]]\n",
            "\n",
            "fresnadillo has something serious to say about the ways in which extravagant chance can distort our perspective and throw us off the path of good sense .\n",
            "\n",
            "\n"
          ]
        },
        {
          "output_type": "stream",
          "name": "stderr",
          "text": [
            "\r[Succeeded / Failed / Skipped / Total] 3 / 2 / 2 / 7:  88%|████████▊ | 7/8 [00:05<00:00,  1.28it/s]"
          ]
        },
        {
          "output_type": "stream",
          "name": "stdout",
          "text": [
            "--------------------------------------------- Result 7 ---------------------------------------------\n",
            "[[Positive (100%)]] --> [[Negative (84%)]]\n",
            "\n",
            "throws in enough [[clever]] and [[unexpected]] [[twists]] to [[make]] the formula feel [[fresh]] .\n",
            "\n",
            "throws in enough [[clHver]] and [[unexfected]] [[twBsts]] to [[lake]] the formula feel [[frePh]] .\n",
            "\n",
            "\n"
          ]
        },
        {
          "output_type": "stream",
          "name": "stderr",
          "text": [
            "[Succeeded / Failed / Skipped / Total] 4 / 2 / 2 / 8: 100%|██████████| 8/8 [00:06<00:00,  1.26it/s]"
          ]
        },
        {
          "output_type": "stream",
          "name": "stdout",
          "text": [
            "--------------------------------------------- Result 8 ---------------------------------------------\n",
            "[[Positive (97%)]] --> [[Negative (64%)]]\n",
            "\n",
            "weighty and ponderous but every bit as [[filling]] as the treat of the title .\n",
            "\n",
            "weighty and ponderous but every bit as [[filliQg]] as the treat of the title .\n",
            "\n",
            "\n",
            "\n",
            "+-------------------------------+--------+\n",
            "| Attack Results                |        |\n",
            "+-------------------------------+--------+\n",
            "| Number of successful attacks: | 4      |\n",
            "| Number of failed attacks:     | 2      |\n",
            "| Number of skipped attacks:    | 2      |\n",
            "| Original accuracy:            | 75.0%  |\n",
            "| Accuracy under attack:        | 25.0%  |\n",
            "| Attack success rate:          | 66.67% |\n",
            "| Average perturbed word %:     | 27.65% |\n",
            "| Average num. words per input: | 15.0   |\n",
            "| Avg num queries:              | 26.5   |\n",
            "+-------------------------------+--------+"
          ]
        },
        {
          "output_type": "stream",
          "name": "stderr",
          "text": [
            "\n"
          ]
        },
        {
          "output_type": "stream",
          "name": "stdout",
          "text": [
            "\n",
            "Starting attack for----------------- WordSwapMaskedLM TC\n"
          ]
        },
        {
          "output_type": "stream",
          "name": "stderr",
          "text": [
            "Some weights of the model checkpoint at bert-base-uncased were not used when initializing BertForMaskedLM: ['cls.seq_relationship.weight', 'cls.seq_relationship.bias']\n",
            "- This IS expected if you are initializing BertForMaskedLM from the checkpoint of a model trained on another task or with another architecture (e.g. initializing a BertForSequenceClassification model from a BertForPreTraining model).\n",
            "- This IS NOT expected if you are initializing BertForMaskedLM from the checkpoint of a model that you expect to be exactly identical (initializing a BertForSequenceClassification model from a BertForSequenceClassification model).\n",
            "textattack: Unknown if model of class <class 'transformers.models.albert.modeling_albert.AlbertForSequenceClassification'> compatible with goal function <class 'textattack.goal_functions.classification.targeted_classification.TargetedClassification'>.\n",
            "  0%|          | 0/8 [00:00<?, ?it/s]"
          ]
        },
        {
          "output_type": "stream",
          "name": "stdout",
          "text": [
            "Attack(\n",
            "  (search_method): GreedyWordSwapWIR(\n",
            "    (wir_method):  weighted-saliency\n",
            "  )\n",
            "  (goal_function):  TargetedClassification(\n",
            "    (target_class):  0\n",
            "  )\n",
            "  (transformation):  WordSwapMaskedLM(\n",
            "    (method):  bert-attack\n",
            "    (masked_lm_name):  BertForMaskedLM\n",
            "    (max_length):  512\n",
            "    (max_candidates):  48\n",
            "    (min_confidence):  0.0005\n",
            "  )\n",
            "  (constraints): \n",
            "    (0): RepeatModification\n",
            "    (1): StopwordModification\n",
            "  (is_black_box):  True\n",
            ") \n",
            "\n"
          ]
        },
        {
          "output_type": "stream",
          "name": "stderr",
          "text": [
            "[Succeeded / Failed / Skipped / Total] 1 / 0 / 0 / 1:  12%|█▎        | 1/8 [00:26<03:07, 26.77s/it]"
          ]
        },
        {
          "output_type": "stream",
          "name": "stdout",
          "text": [
            "--------------------------------------------- Result 1 ---------------------------------------------\n",
            "[[Positive (100%)]] --> [[Negative (72%)]]\n",
            "\n",
            "lovingly photographed in the manner of a golden book sprung to life , stuart little 2 manages sweetness largely [[without]] stickiness .\n",
            "\n",
            "lovingly photographed in the manner of a golden book sprung to life , stuart little 2 manages sweetness largely [[lack]] stickiness .\n",
            "\n",
            "\n"
          ]
        },
        {
          "output_type": "stream",
          "name": "stderr",
          "text": [
            "[Succeeded / Failed / Skipped / Total] 2 / 0 / 1 / 3:  38%|███▊      | 3/8 [00:32<00:53, 10.76s/it]"
          ]
        },
        {
          "output_type": "stream",
          "name": "stdout",
          "text": [
            "--------------------------------------------- Result 2 ---------------------------------------------\n",
            "[[Positive (100%)]] --> [[Negative (72%)]]\n",
            "\n",
            "[[consistently]] clever and suspenseful .\n",
            "\n",
            "[[not]] clever and suspenseful .\n",
            "\n",
            "\n",
            "--------------------------------------------- Result 3 ---------------------------------------------\n",
            "[[Negative (85%)]] --> [[[SKIPPED]]]\n",
            "\n",
            "it's like a \" big chill \" reunion of the baader-meinhof gang , only these guys are more harmless pranksters than political activists .\n",
            "\n",
            "\n"
          ]
        },
        {
          "output_type": "stream",
          "name": "stderr",
          "text": [
            "[Succeeded / Failed / Skipped / Total] 3 / 0 / 1 / 4:  50%|█████     | 4/8 [01:35<01:35, 23.90s/it]"
          ]
        },
        {
          "output_type": "stream",
          "name": "stdout",
          "text": [
            "--------------------------------------------- Result 4 ---------------------------------------------\n",
            "[[Positive (100%)]] --> [[Negative (94%)]]\n",
            "\n",
            "the story [[gives]] ample opportunity for large-scale action and suspense , which director shekhar kapur supplies with [[tremendous]] skill .\n",
            "\n",
            "the story [[lacks]] ample opportunity for large-scale action and suspense , which director shekhar kapur supplies with [[lightning]] skill .\n",
            "\n",
            "\n"
          ]
        },
        {
          "output_type": "stream",
          "name": "stderr",
          "text": [
            "[Succeeded / Failed / Skipped / Total] 4 / 0 / 2 / 6:  75%|███████▌  | 6/8 [01:43<00:34, 17.29s/it]"
          ]
        },
        {
          "output_type": "stream",
          "name": "stdout",
          "text": [
            "--------------------------------------------- Result 5 ---------------------------------------------\n",
            "[[Positive (74%)]] --> [[Negative (98%)]]\n",
            "\n",
            "red dragon \" [[never]] cuts corners .\n",
            "\n",
            "red dragon \" [[just]] cuts corners .\n",
            "\n",
            "\n",
            "--------------------------------------------- Result 6 ---------------------------------------------\n",
            "[[Negative (64%)]] --> [[[SKIPPED]]]\n",
            "\n",
            "fresnadillo has something serious to say about the ways in which extravagant chance can distort our perspective and throw us off the path of good sense .\n",
            "\n",
            "\n"
          ]
        },
        {
          "output_type": "stream",
          "name": "stderr",
          "text": [
            "[Succeeded / Failed / Skipped / Total] 5 / 0 / 2 / 7:  88%|████████▊ | 7/8 [02:00<00:17, 17.17s/it]"
          ]
        },
        {
          "output_type": "stream",
          "name": "stdout",
          "text": [
            "--------------------------------------------- Result 7 ---------------------------------------------\n",
            "[[Positive (100%)]] --> [[Negative (96%)]]\n",
            "\n",
            "throws in [[enough]] clever and unexpected twists to make the formula feel fresh .\n",
            "\n",
            "throws in [[needed]] clever and unexpected twists to make the formula feel fresh .\n",
            "\n",
            "\n"
          ]
        },
        {
          "output_type": "stream",
          "name": "stderr",
          "text": [
            "[Succeeded / Failed / Skipped / Total] 6 / 0 / 2 / 8: 100%|██████████| 8/8 [02:14<00:00, 16.78s/it]"
          ]
        },
        {
          "output_type": "stream",
          "name": "stdout",
          "text": [
            "--------------------------------------------- Result 8 ---------------------------------------------\n",
            "[[Positive (97%)]] --> [[Negative (82%)]]\n",
            "\n",
            "weighty and ponderous but [[every]] bit as filling as the treat of the title .\n",
            "\n",
            "weighty and ponderous but [[just]] bit as filling as the treat of the title .\n",
            "\n",
            "\n",
            "\n",
            "+-------------------------------+--------+\n",
            "| Attack Results                |        |\n",
            "+-------------------------------+--------+\n",
            "| Number of successful attacks: | 6      |\n",
            "| Number of failed attacks:     | 0      |\n",
            "| Number of skipped attacks:    | 2      |\n",
            "| Original accuracy:            | 75.0%  |\n",
            "| Accuracy under attack:        | 0.0%   |\n",
            "| Attack success rate:          | 100.0% |\n",
            "| Average perturbed word %:     | 12.66% |\n",
            "| Average num. words per input: | 15.0   |\n",
            "| Avg num queries:              | 443.33 |\n",
            "+-------------------------------+--------+"
          ]
        },
        {
          "output_type": "stream",
          "name": "stderr",
          "text": [
            "\n"
          ]
        },
        {
          "output_type": "stream",
          "name": "stdout",
          "text": [
            "\n",
            "Starting attack for----------------- WordInsertionMaskedLM TC\n"
          ]
        },
        {
          "output_type": "stream",
          "name": "stderr",
          "text": [
            "Some weights of the model checkpoint at bert-base-uncased were not used when initializing BertForMaskedLM: ['cls.seq_relationship.weight', 'cls.seq_relationship.bias']\n",
            "- This IS expected if you are initializing BertForMaskedLM from the checkpoint of a model trained on another task or with another architecture (e.g. initializing a BertForSequenceClassification model from a BertForPreTraining model).\n",
            "- This IS NOT expected if you are initializing BertForMaskedLM from the checkpoint of a model that you expect to be exactly identical (initializing a BertForSequenceClassification model from a BertForSequenceClassification model).\n",
            "textattack: Unknown if model of class <class 'transformers.models.albert.modeling_albert.AlbertForSequenceClassification'> compatible with goal function <class 'textattack.goal_functions.classification.targeted_classification.TargetedClassification'>.\n"
          ]
        },
        {
          "output_type": "stream",
          "name": "stdout",
          "text": [
            "Not compatible\n",
            "Starting attack for----------------- WordMergeMaskedLM TC\n"
          ]
        },
        {
          "output_type": "stream",
          "name": "stderr",
          "text": [
            "Some weights of the model checkpoint at bert-base-uncased were not used when initializing BertForMaskedLM: ['cls.seq_relationship.weight', 'cls.seq_relationship.bias']\n",
            "- This IS expected if you are initializing BertForMaskedLM from the checkpoint of a model trained on another task or with another architecture (e.g. initializing a BertForSequenceClassification model from a BertForPreTraining model).\n",
            "- This IS NOT expected if you are initializing BertForMaskedLM from the checkpoint of a model that you expect to be exactly identical (initializing a BertForSequenceClassification model from a BertForSequenceClassification model).\n",
            "textattack: Unknown if model of class <class 'transformers.models.albert.modeling_albert.AlbertForSequenceClassification'> compatible with goal function <class 'textattack.goal_functions.classification.targeted_classification.TargetedClassification'>.\n",
            "textattack: Unknown if model of class <class 'transformers.models.albert.modeling_albert.AlbertForSequenceClassification'> compatible with goal function <class 'textattack.goal_functions.classification.untargeted_classification.UntargetedClassification'>.\n",
            "  0%|          | 0/8 [00:00<?, ?it/s]"
          ]
        },
        {
          "output_type": "stream",
          "name": "stdout",
          "text": [
            "Not compatible\n",
            "Starting attack for----------------- WordSwapWordNet UTC\n",
            "Attack(\n",
            "  (search_method): GreedyWordSwapWIR(\n",
            "    (wir_method):  weighted-saliency\n",
            "  )\n",
            "  (goal_function):  UntargetedClassification\n",
            "  (transformation):  WordSwapWordNet\n",
            "  (constraints): \n",
            "    (0): RepeatModification\n",
            "    (1): StopwordModification\n",
            "  (is_black_box):  True\n",
            ") \n",
            "\n"
          ]
        },
        {
          "output_type": "stream",
          "name": "stderr",
          "text": [
            "[Succeeded / Failed / Skipped / Total] 1 / 0 / 0 / 1:  12%|█▎        | 1/8 [00:04<00:31,  4.52s/it]"
          ]
        },
        {
          "output_type": "stream",
          "name": "stdout",
          "text": [
            "--------------------------------------------- Result 1 ---------------------------------------------\n",
            "[[Positive (100%)]] --> [[Negative (55%)]]\n",
            "\n",
            "lovingly photographed in the manner of a golden book sprung to life , stuart little 2 [[manages]] [[sweetness]] largely without stickiness .\n",
            "\n",
            "lovingly photographed in the manner of a golden book sprung to life , stuart little 2 [[contend]] [[sugariness]] largely without stickiness .\n",
            "\n",
            "\n"
          ]
        },
        {
          "output_type": "stream",
          "name": "stderr",
          "text": [
            "[Succeeded / Failed / Skipped / Total] 2 / 0 / 1 / 3:  38%|███▊      | 3/8 [00:05<00:08,  1.76s/it]"
          ]
        },
        {
          "output_type": "stream",
          "name": "stdout",
          "text": [
            "--------------------------------------------- Result 2 ---------------------------------------------\n",
            "[[Positive (100%)]] --> [[Negative (93%)]]\n",
            "\n",
            "[[consistently]] [[clever]] and [[suspenseful]] .\n",
            "\n",
            "[[systematically]] [[cagy]] and [[cliff-hanging]] .\n",
            "\n",
            "\n",
            "--------------------------------------------- Result 3 ---------------------------------------------\n",
            "[[Negative (85%)]] --> [[[SKIPPED]]]\n",
            "\n",
            "it's like a \" big chill \" reunion of the baader-meinhof gang , only these guys are more harmless pranksters than political activists .\n",
            "\n",
            "\n"
          ]
        },
        {
          "output_type": "stream",
          "name": "stderr",
          "text": [
            "[Succeeded / Failed / Skipped / Total] 3 / 0 / 1 / 4:  50%|█████     | 4/8 [00:09<00:09,  2.36s/it]"
          ]
        },
        {
          "output_type": "stream",
          "name": "stdout",
          "text": [
            "--------------------------------------------- Result 4 ---------------------------------------------\n",
            "[[Positive (100%)]] --> [[Negative (99%)]]\n",
            "\n",
            "the story gives ample opportunity for large-scale action and suspense , which director shekhar kapur supplies with [[tremendous]] skill .\n",
            "\n",
            "the story gives ample opportunity for large-scale action and suspense , which director shekhar kapur supplies with [[terrible]] skill .\n",
            "\n",
            "\n"
          ]
        },
        {
          "output_type": "stream",
          "name": "stderr",
          "text": [
            "[Succeeded / Failed / Skipped / Total] 4 / 0 / 2 / 6:  75%|███████▌  | 6/8 [00:12<00:04,  2.08s/it]"
          ]
        },
        {
          "output_type": "stream",
          "name": "stdout",
          "text": [
            "--------------------------------------------- Result 5 ---------------------------------------------\n",
            "[[Positive (74%)]] --> [[Negative (89%)]]\n",
            "\n",
            "[[red]] dragon \" never cuts corners .\n",
            "\n",
            "[[Bolshevik]] dragon \" never cuts corners .\n",
            "\n",
            "\n",
            "--------------------------------------------- Result 6 ---------------------------------------------\n",
            "[[Negative (64%)]] --> [[[SKIPPED]]]\n",
            "\n",
            "fresnadillo has something serious to say about the ways in which extravagant chance can distort our perspective and throw us off the path of good sense .\n",
            "\n",
            "\n"
          ]
        },
        {
          "output_type": "stream",
          "name": "stderr",
          "text": [
            "\r[Succeeded / Failed / Skipped / Total] 5 / 0 / 2 / 7:  88%|████████▊ | 7/8 [00:19<00:02,  2.71s/it]"
          ]
        },
        {
          "output_type": "stream",
          "name": "stdout",
          "text": [
            "--------------------------------------------- Result 7 ---------------------------------------------\n",
            "[[Positive (100%)]] --> [[Negative (79%)]]\n",
            "\n",
            "throws in enough clever and unexpected twists to [[make]] the formula feel fresh .\n",
            "\n",
            "throws in enough clever and unexpected twists to [[crap]] the formula feel fresh .\n",
            "\n",
            "\n"
          ]
        },
        {
          "output_type": "stream",
          "name": "stderr",
          "text": [
            "[Succeeded / Failed / Skipped / Total] 6 / 0 / 2 / 8: 100%|██████████| 8/8 [00:21<00:00,  2.72s/it]"
          ]
        },
        {
          "output_type": "stream",
          "name": "stdout",
          "text": [
            "--------------------------------------------- Result 8 ---------------------------------------------\n",
            "[[Positive (97%)]] --> [[Negative (71%)]]\n",
            "\n",
            "weighty and ponderous but every bit as [[filling]] as the treat of the title .\n",
            "\n",
            "weighty and ponderous but every bit as [[weft]] as the treat of the title .\n",
            "\n",
            "\n",
            "\n",
            "+-------------------------------+--------+\n",
            "| Attack Results                |        |\n",
            "+-------------------------------+--------+\n",
            "| Number of successful attacks: | 6      |\n",
            "| Number of failed attacks:     | 0      |\n",
            "| Number of skipped attacks:    | 2      |\n",
            "| Original accuracy:            | 75.0%  |\n",
            "| Accuracy under attack:        | 0.0%   |\n",
            "| Attack success rate:          | 100.0% |\n",
            "| Average perturbed word %:     | 20.9%  |\n",
            "| Average num. words per input: | 15.0   |\n",
            "| Avg num queries:              | 118.5  |\n",
            "+-------------------------------+--------+"
          ]
        },
        {
          "output_type": "stream",
          "name": "stderr",
          "text": [
            "\n",
            "textattack: Unknown if model of class <class 'transformers.models.albert.modeling_albert.AlbertForSequenceClassification'> compatible with goal function <class 'textattack.goal_functions.classification.untargeted_classification.UntargetedClassification'>.\n",
            "  0%|          | 0/8 [00:00<?, ?it/s]"
          ]
        },
        {
          "output_type": "stream",
          "name": "stdout",
          "text": [
            "\n",
            "Starting attack for----------------- WordSwapHomoglyphSwap UTC\n",
            "Attack(\n",
            "  (search_method): GreedyWordSwapWIR(\n",
            "    (wir_method):  weighted-saliency\n",
            "  )\n",
            "  (goal_function):  UntargetedClassification\n",
            "  (transformation):  WordSwapHomoglyphSwap\n",
            "  (constraints): \n",
            "    (0): RepeatModification\n",
            "    (1): StopwordModification\n",
            "  (is_black_box):  True\n",
            ") \n",
            "\n"
          ]
        },
        {
          "output_type": "stream",
          "name": "stderr",
          "text": [
            "[Succeeded / Failed / Skipped / Total] 1 / 0 / 0 / 1:  12%|█▎        | 1/8 [00:04<00:33,  4.76s/it]"
          ]
        },
        {
          "output_type": "stream",
          "name": "stdout",
          "text": [
            "--------------------------------------------- Result 1 ---------------------------------------------\n",
            "[[Positive (100%)]] --> [[Negative (56%)]]\n",
            "\n",
            "[[lovingly]] photographed in the manner of a golden book sprung to life , stuart little 2 manages sweetness largely [[without]] stickiness .\n",
            "\n",
            "[[lovinɡly]] photographed in the manner of a golden book sprung to life , stuart little 2 manages sweetness largely [[witհout]] stickiness .\n",
            "\n",
            "\n"
          ]
        },
        {
          "output_type": "stream",
          "name": "stderr",
          "text": [
            "[Succeeded / Failed / Skipped / Total] 2 / 0 / 1 / 3:  38%|███▊      | 3/8 [00:06<00:11,  2.24s/it]"
          ]
        },
        {
          "output_type": "stream",
          "name": "stdout",
          "text": [
            "--------------------------------------------- Result 2 ---------------------------------------------\n",
            "[[Positive (100%)]] --> [[Negative (88%)]]\n",
            "\n",
            "[[consistently]] [[clever]] and [[suspenseful]] .\n",
            "\n",
            "[[consіstently]] [[ϲlever]] and [[suspenѕeful]] .\n",
            "\n",
            "\n",
            "--------------------------------------------- Result 3 ---------------------------------------------\n",
            "[[Negative (85%)]] --> [[[SKIPPED]]]\n",
            "\n",
            "it's like a \" big chill \" reunion of the baader-meinhof gang , only these guys are more harmless pranksters than political activists .\n",
            "\n",
            "\n"
          ]
        },
        {
          "output_type": "stream",
          "name": "stderr",
          "text": [
            "[Succeeded / Failed / Skipped / Total] 3 / 0 / 1 / 4:  50%|█████     | 4/8 [00:11<00:11,  2.80s/it]"
          ]
        },
        {
          "output_type": "stream",
          "name": "stdout",
          "text": [
            "--------------------------------------------- Result 4 ---------------------------------------------\n",
            "[[Positive (100%)]] --> [[Negative (79%)]]\n",
            "\n",
            "the story gives ample opportunity for large-scale action and suspense , which director shekhar kapur [[supplies]] with [[tremendous]] skill .\n",
            "\n",
            "the story gives ample opportunity for large-scale action and suspense , which director shekhar kapur [[ѕupplies]] with [[tⲅemendous]] skill .\n",
            "\n",
            "\n"
          ]
        },
        {
          "output_type": "stream",
          "name": "stderr",
          "text": [
            "[Succeeded / Failed / Skipped / Total] 4 / 0 / 2 / 6:  75%|███████▌  | 6/8 [00:12<00:04,  2.07s/it]"
          ]
        },
        {
          "output_type": "stream",
          "name": "stdout",
          "text": [
            "--------------------------------------------- Result 5 ---------------------------------------------\n",
            "[[Positive (74%)]] --> [[Negative (94%)]]\n",
            "\n",
            "red dragon \" [[never]] cuts corners .\n",
            "\n",
            "red dragon \" [[neveⲅ]] cuts corners .\n",
            "\n",
            "\n",
            "--------------------------------------------- Result 6 ---------------------------------------------\n",
            "[[Negative (64%)]] --> [[[SKIPPED]]]\n",
            "\n",
            "fresnadillo has something serious to say about the ways in which extravagant chance can distort our perspective and throw us off the path of good sense .\n",
            "\n",
            "\n"
          ]
        },
        {
          "output_type": "stream",
          "name": "stderr",
          "text": [
            "\r[Succeeded / Failed / Skipped / Total] 5 / 0 / 2 / 7:  88%|████████▊ | 7/8 [00:15<00:02,  2.17s/it]"
          ]
        },
        {
          "output_type": "stream",
          "name": "stdout",
          "text": [
            "--------------------------------------------- Result 7 ---------------------------------------------\n",
            "[[Positive (100%)]] --> [[Negative (87%)]]\n",
            "\n",
            "throws in enough [[clever]] and [[unexpected]] twists to make the formula feel fresh .\n",
            "\n",
            "throws in enough [[cleѵer]] and [[une×pected]] twists to make the formula feel fresh .\n",
            "\n",
            "\n"
          ]
        },
        {
          "output_type": "stream",
          "name": "stderr",
          "text": [
            "[Succeeded / Failed / Skipped / Total] 6 / 0 / 2 / 8: 100%|██████████| 8/8 [00:17<00:00,  2.16s/it]"
          ]
        },
        {
          "output_type": "stream",
          "name": "stdout",
          "text": [
            "--------------------------------------------- Result 8 ---------------------------------------------\n",
            "[[Positive (97%)]] --> [[Negative (89%)]]\n",
            "\n",
            "weighty and ponderous but [[every]] bit as filling as the treat of the title .\n",
            "\n",
            "weighty and ponderous but [[еvery]] bit as filling as the treat of the title .\n",
            "\n",
            "\n",
            "\n",
            "+-------------------------------+--------+\n",
            "| Attack Results                |        |\n",
            "+-------------------------------+--------+\n",
            "| Number of successful attacks: | 6      |\n",
            "| Number of failed attacks:     | 0      |\n",
            "| Number of skipped attacks:    | 2      |\n",
            "| Original accuracy:            | 75.0%  |\n",
            "| Accuracy under attack:        | 0.0%   |\n",
            "| Attack success rate:          | 100.0% |\n",
            "| Average perturbed word %:     | 23.11% |\n",
            "| Average num. words per input: | 15.0   |\n",
            "| Avg num queries:              | 85.0   |\n",
            "+-------------------------------+--------+"
          ]
        },
        {
          "output_type": "stream",
          "name": "stderr",
          "text": [
            "\n",
            "textattack: Unknown if model of class <class 'transformers.models.albert.modeling_albert.AlbertForSequenceClassification'> compatible with goal function <class 'textattack.goal_functions.classification.untargeted_classification.UntargetedClassification'>.\n",
            "  0%|          | 0/8 [00:00<?, ?it/s]"
          ]
        },
        {
          "output_type": "stream",
          "name": "stdout",
          "text": [
            "\n",
            "Starting attack for----------------- WordSwapNeighboringCharacterSwap UTC\n",
            "Attack(\n",
            "  (search_method): GreedyWordSwapWIR(\n",
            "    (wir_method):  weighted-saliency\n",
            "  )\n",
            "  (goal_function):  UntargetedClassification\n",
            "  (transformation):  WordSwapNeighboringCharacterSwap(\n",
            "    (random_one):  True\n",
            "  )\n",
            "  (constraints): \n",
            "    (0): RepeatModification\n",
            "    (1): StopwordModification\n",
            "  (is_black_box):  True\n",
            ") \n",
            "\n"
          ]
        },
        {
          "output_type": "stream",
          "name": "stderr",
          "text": [
            "[Succeeded / Failed / Skipped / Total] 1 / 0 / 0 / 1:  12%|█▎        | 1/8 [00:01<00:09,  1.39s/it]"
          ]
        },
        {
          "output_type": "stream",
          "name": "stdout",
          "text": [
            "--------------------------------------------- Result 1 ---------------------------------------------\n",
            "[[Positive (100%)]] --> [[Negative (81%)]]\n",
            "\n",
            "[[lovingly]] photographed in the manner of a golden book sprung to life , stuart little 2 [[manages]] sweetness largely [[without]] stickiness .\n",
            "\n",
            "[[lovnigly]] photographed in the manner of a golden book sprung to life , stuart little 2 [[mnaages]] sweetness largely [[wihtout]] stickiness .\n",
            "\n",
            "\n"
          ]
        },
        {
          "output_type": "stream",
          "name": "stderr",
          "text": [
            "[Succeeded / Failed / Skipped / Total] 1 / 1 / 1 / 3:  38%|███▊      | 3/8 [00:01<00:03,  1.61it/s]"
          ]
        },
        {
          "output_type": "stream",
          "name": "stdout",
          "text": [
            "--------------------------------------------- Result 2 ---------------------------------------------\n",
            "[[Positive (100%)]] --> [[[FAILED]]]\n",
            "\n",
            "consistently clever and suspenseful .\n",
            "\n",
            "\n",
            "--------------------------------------------- Result 3 ---------------------------------------------\n",
            "[[Negative (85%)]] --> [[[SKIPPED]]]\n",
            "\n",
            "it's like a \" big chill \" reunion of the baader-meinhof gang , only these guys are more harmless pranksters than political activists .\n",
            "\n",
            "\n"
          ]
        },
        {
          "output_type": "stream",
          "name": "stderr",
          "text": [
            "[Succeeded / Failed / Skipped / Total] 1 / 2 / 1 / 4:  50%|█████     | 4/8 [00:03<00:03,  1.11it/s]"
          ]
        },
        {
          "output_type": "stream",
          "name": "stdout",
          "text": [
            "--------------------------------------------- Result 4 ---------------------------------------------\n",
            "[[Positive (100%)]] --> [[[FAILED]]]\n",
            "\n",
            "the story gives ample opportunity for large-scale action and suspense , which director shekhar kapur supplies with tremendous skill .\n",
            "\n",
            "\n"
          ]
        },
        {
          "output_type": "stream",
          "name": "stderr",
          "text": [
            "[Succeeded / Failed / Skipped / Total] 2 / 2 / 2 / 6:  75%|███████▌  | 6/8 [00:04<00:01,  1.48it/s]"
          ]
        },
        {
          "output_type": "stream",
          "name": "stdout",
          "text": [
            "--------------------------------------------- Result 5 ---------------------------------------------\n",
            "[[Positive (74%)]] --> [[Negative (97%)]]\n",
            "\n",
            "red dragon \" [[never]] cuts corners .\n",
            "\n",
            "red dragon \" [[neevr]] cuts corners .\n",
            "\n",
            "\n",
            "--------------------------------------------- Result 6 ---------------------------------------------\n",
            "[[Negative (64%)]] --> [[[SKIPPED]]]\n",
            "\n",
            "fresnadillo has something serious to say about the ways in which extravagant chance can distort our perspective and throw us off the path of good sense .\n",
            "\n",
            "\n"
          ]
        },
        {
          "output_type": "stream",
          "name": "stderr",
          "text": [
            "\r[Succeeded / Failed / Skipped / Total] 3 / 2 / 2 / 7:  88%|████████▊ | 7/8 [00:05<00:00,  1.37it/s]"
          ]
        },
        {
          "output_type": "stream",
          "name": "stdout",
          "text": [
            "--------------------------------------------- Result 7 ---------------------------------------------\n",
            "[[Positive (100%)]] --> [[Negative (66%)]]\n",
            "\n",
            "throws in enough [[clever]] and [[unexpected]] [[twists]] to make the formula feel [[fresh]] .\n",
            "\n",
            "throws in enough [[celver]] and [[unepxected]] [[tiwsts]] to make the formula feel [[fersh]] .\n",
            "\n",
            "\n"
          ]
        },
        {
          "output_type": "stream",
          "name": "stderr",
          "text": [
            "[Succeeded / Failed / Skipped / Total] 4 / 2 / 2 / 8: 100%|██████████| 8/8 [00:05<00:00,  1.34it/s]"
          ]
        },
        {
          "output_type": "stream",
          "name": "stdout",
          "text": [
            "--------------------------------------------- Result 8 ---------------------------------------------\n",
            "[[Positive (97%)]] --> [[Negative (53%)]]\n",
            "\n",
            "weighty and ponderous but [[every]] bit as filling as the treat of the [[title]] .\n",
            "\n",
            "weighty and ponderous but [[eevry]] bit as filling as the treat of the [[tilte]] .\n",
            "\n",
            "\n",
            "\n",
            "+-------------------------------+--------+\n",
            "| Attack Results                |        |\n",
            "+-------------------------------+--------+\n",
            "| Number of successful attacks: | 4      |\n",
            "| Number of failed attacks:     | 2      |\n",
            "| Number of skipped attacks:    | 2      |\n",
            "| Original accuracy:            | 75.0%  |\n",
            "| Accuracy under attack:        | 25.0%  |\n",
            "| Attack success rate:          | 66.67% |\n",
            "| Average perturbed word %:     | 20.01% |\n",
            "| Average num. words per input: | 15.0   |\n",
            "| Avg num queries:              | 25.83  |\n",
            "+-------------------------------+--------+"
          ]
        },
        {
          "output_type": "stream",
          "name": "stderr",
          "text": [
            "\n",
            "textattack: Unknown if model of class <class 'transformers.models.albert.modeling_albert.AlbertForSequenceClassification'> compatible with goal function <class 'textattack.goal_functions.classification.untargeted_classification.UntargetedClassification'>.\n",
            "  0%|          | 0/8 [00:00<?, ?it/s]"
          ]
        },
        {
          "output_type": "stream",
          "name": "stdout",
          "text": [
            "\n",
            "Starting attack for----------------- WordSwapRandomCharacterDeletion UTC\n",
            "Attack(\n",
            "  (search_method): GreedyWordSwapWIR(\n",
            "    (wir_method):  weighted-saliency\n",
            "  )\n",
            "  (goal_function):  UntargetedClassification\n",
            "  (transformation):  WordSwapRandomCharacterDeletion(\n",
            "    (random_one):  True\n",
            "  )\n",
            "  (constraints): \n",
            "    (0): RepeatModification\n",
            "    (1): StopwordModification\n",
            "  (is_black_box):  True\n",
            ") \n",
            "\n"
          ]
        },
        {
          "output_type": "stream",
          "name": "stderr",
          "text": [
            "[Succeeded / Failed / Skipped / Total] 1 / 0 / 0 / 1:  12%|█▎        | 1/8 [00:01<00:10,  1.44s/it]"
          ]
        },
        {
          "output_type": "stream",
          "name": "stdout",
          "text": [
            "--------------------------------------------- Result 1 ---------------------------------------------\n",
            "[[Positive (100%)]] --> [[Negative (87%)]]\n",
            "\n",
            "lovingly photographed in the manner of a golden book sprung to life , stuart little 2 [[manages]] [[sweetness]] largely [[without]] stickiness .\n",
            "\n",
            "lovingly photographed in the manner of a golden book sprung to life , stuart little 2 [[manags]] [[swetness]] largely [[wthout]] stickiness .\n",
            "\n",
            "\n"
          ]
        },
        {
          "output_type": "stream",
          "name": "stderr",
          "text": [
            "[Succeeded / Failed / Skipped / Total] 1 / 1 / 1 / 3:  38%|███▊      | 3/8 [00:01<00:03,  1.57it/s]"
          ]
        },
        {
          "output_type": "stream",
          "name": "stdout",
          "text": [
            "--------------------------------------------- Result 2 ---------------------------------------------\n",
            "[[Positive (100%)]] --> [[[FAILED]]]\n",
            "\n",
            "consistently clever and suspenseful .\n",
            "\n",
            "\n",
            "--------------------------------------------- Result 3 ---------------------------------------------\n",
            "[[Negative (85%)]] --> [[[SKIPPED]]]\n",
            "\n",
            "it's like a \" big chill \" reunion of the baader-meinhof gang , only these guys are more harmless pranksters than political activists .\n",
            "\n",
            "\n"
          ]
        },
        {
          "output_type": "stream",
          "name": "stderr",
          "text": [
            "[Succeeded / Failed / Skipped / Total] 1 / 2 / 1 / 4:  50%|█████     | 4/8 [00:03<00:03,  1.10it/s]"
          ]
        },
        {
          "output_type": "stream",
          "name": "stdout",
          "text": [
            "--------------------------------------------- Result 4 ---------------------------------------------\n",
            "[[Positive (100%)]] --> [[[FAILED]]]\n",
            "\n",
            "the story gives ample opportunity for large-scale action and suspense , which director shekhar kapur supplies with tremendous skill .\n",
            "\n",
            "\n"
          ]
        },
        {
          "output_type": "stream",
          "name": "stderr",
          "text": [
            "[Succeeded / Failed / Skipped / Total] 2 / 2 / 2 / 6:  75%|███████▌  | 6/8 [00:04<00:01,  1.45it/s]"
          ]
        },
        {
          "output_type": "stream",
          "name": "stdout",
          "text": [
            "--------------------------------------------- Result 5 ---------------------------------------------\n",
            "[[Positive (74%)]] --> [[Negative (71%)]]\n",
            "\n",
            "red dragon \" [[never]] cuts corners .\n",
            "\n",
            "red dragon \" [[nver]] cuts corners .\n",
            "\n",
            "\n",
            "--------------------------------------------- Result 6 ---------------------------------------------\n",
            "[[Negative (64%)]] --> [[[SKIPPED]]]\n",
            "\n",
            "fresnadillo has something serious to say about the ways in which extravagant chance can distort our perspective and throw us off the path of good sense .\n",
            "\n",
            "\n"
          ]
        },
        {
          "output_type": "stream",
          "name": "stderr",
          "text": [
            "\r[Succeeded / Failed / Skipped / Total] 3 / 2 / 2 / 7:  88%|████████▊ | 7/8 [00:05<00:00,  1.35it/s]"
          ]
        },
        {
          "output_type": "stream",
          "name": "stdout",
          "text": [
            "--------------------------------------------- Result 7 ---------------------------------------------\n",
            "[[Positive (100%)]] --> [[Negative (97%)]]\n",
            "\n",
            "throws in enough [[clever]] and [[unexpected]] [[twists]] to make the formula feel [[fresh]] .\n",
            "\n",
            "throws in enough [[cever]] and [[unexpeced]] [[twits]] to make the formula feel [[frsh]] .\n",
            "\n",
            "\n"
          ]
        },
        {
          "output_type": "stream",
          "name": "stderr",
          "text": [
            "[Succeeded / Failed / Skipped / Total] 4 / 2 / 2 / 8: 100%|██████████| 8/8 [00:06<00:00,  1.32it/s]"
          ]
        },
        {
          "output_type": "stream",
          "name": "stdout",
          "text": [
            "--------------------------------------------- Result 8 ---------------------------------------------\n",
            "[[Positive (97%)]] --> [[Negative (71%)]]\n",
            "\n",
            "weighty and ponderous but every bit as [[filling]] as the treat of the title .\n",
            "\n",
            "weighty and ponderous but every bit as [[fillig]] as the treat of the title .\n",
            "\n",
            "\n",
            "\n",
            "+-------------------------------+--------+\n",
            "| Attack Results                |        |\n",
            "+-------------------------------+--------+\n",
            "| Number of successful attacks: | 4      |\n",
            "| Number of failed attacks:     | 2      |\n",
            "| Number of skipped attacks:    | 2      |\n",
            "| Original accuracy:            | 75.0%  |\n",
            "| Accuracy under attack:        | 25.0%  |\n",
            "| Attack success rate:          | 66.67% |\n",
            "| Average perturbed word %:     | 18.23% |\n",
            "| Average num. words per input: | 15.0   |\n",
            "| Avg num queries:              | 26.0   |\n",
            "+-------------------------------+--------+"
          ]
        },
        {
          "output_type": "stream",
          "name": "stderr",
          "text": [
            "\n",
            "textattack: Unknown if model of class <class 'transformers.models.albert.modeling_albert.AlbertForSequenceClassification'> compatible with goal function <class 'textattack.goal_functions.classification.untargeted_classification.UntargetedClassification'>.\n",
            "  0%|          | 0/8 [00:00<?, ?it/s]"
          ]
        },
        {
          "output_type": "stream",
          "name": "stdout",
          "text": [
            "\n",
            "Starting attack for----------------- WordSwapEmbedding UTC\n",
            "Attack(\n",
            "  (search_method): GreedyWordSwapWIR(\n",
            "    (wir_method):  weighted-saliency\n",
            "  )\n",
            "  (goal_function):  UntargetedClassification\n",
            "  (transformation):  WordSwapEmbedding(\n",
            "    (max_candidates):  5\n",
            "    (embedding):  WordEmbedding\n",
            "  )\n",
            "  (constraints): \n",
            "    (0): RepeatModification\n",
            "    (1): StopwordModification\n",
            "  (is_black_box):  True\n",
            ") \n",
            "\n"
          ]
        },
        {
          "output_type": "stream",
          "name": "stderr",
          "text": [
            "[Succeeded / Failed / Skipped / Total] 1 / 0 / 0 / 1:  12%|█▎        | 1/8 [00:03<00:23,  3.35s/it]"
          ]
        },
        {
          "output_type": "stream",
          "name": "stdout",
          "text": [
            "--------------------------------------------- Result 1 ---------------------------------------------\n",
            "[[Positive (100%)]] --> [[Negative (69%)]]\n",
            "\n",
            "lovingly photographed in the manner of a golden book sprung to life , stuart little 2 [[manages]] sweetness largely [[without]] stickiness .\n",
            "\n",
            "lovingly photographed in the manner of a golden book sprung to life , stuart little 2 [[administering]] sweetness largely [[unless]] stickiness .\n",
            "\n",
            "\n"
          ]
        },
        {
          "output_type": "stream",
          "name": "stderr",
          "text": [
            "[Succeeded / Failed / Skipped / Total] 1 / 1 / 1 / 3:  38%|███▊      | 3/8 [00:04<00:07,  1.50s/it]"
          ]
        },
        {
          "output_type": "stream",
          "name": "stdout",
          "text": [
            "--------------------------------------------- Result 2 ---------------------------------------------\n",
            "[[Positive (100%)]] --> [[[FAILED]]]\n",
            "\n",
            "consistently clever and suspenseful .\n",
            "\n",
            "\n",
            "--------------------------------------------- Result 3 ---------------------------------------------\n",
            "[[Negative (85%)]] --> [[[SKIPPED]]]\n",
            "\n",
            "it's like a \" big chill \" reunion of the baader-meinhof gang , only these guys are more harmless pranksters than political activists .\n",
            "\n",
            "\n"
          ]
        },
        {
          "output_type": "stream",
          "name": "stderr",
          "text": [
            "[Succeeded / Failed / Skipped / Total] 2 / 1 / 1 / 4:  50%|█████     | 4/8 [00:08<00:08,  2.12s/it]"
          ]
        },
        {
          "output_type": "stream",
          "name": "stdout",
          "text": [
            "--------------------------------------------- Result 4 ---------------------------------------------\n",
            "[[Positive (100%)]] --> [[Negative (58%)]]\n",
            "\n",
            "the [[story]] [[gives]] [[ample]] opportunity for large-scale action and suspense , which [[director]] shekhar kapur [[supplies]] with [[tremendous]] skill .\n",
            "\n",
            "the [[storytelling]] [[affords]] [[plenty]] opportunity for large-scale action and suspense , which [[headmaster]] shekhar kapur [[foodstuffs]] with [[prodigious]] skill .\n",
            "\n",
            "\n"
          ]
        },
        {
          "output_type": "stream",
          "name": "stderr",
          "text": [
            "[Succeeded / Failed / Skipped / Total] 3 / 1 / 2 / 6:  75%|███████▌  | 6/8 [00:09<00:03,  1.61s/it]"
          ]
        },
        {
          "output_type": "stream",
          "name": "stdout",
          "text": [
            "--------------------------------------------- Result 5 ---------------------------------------------\n",
            "[[Positive (74%)]] --> [[Negative (84%)]]\n",
            "\n",
            "red dragon \" [[never]] cuts corners .\n",
            "\n",
            "red dragon \" [[jamais]] cuts corners .\n",
            "\n",
            "\n",
            "--------------------------------------------- Result 6 ---------------------------------------------\n",
            "[[Negative (64%)]] --> [[[SKIPPED]]]\n",
            "\n",
            "fresnadillo has something serious to say about the ways in which extravagant chance can distort our perspective and throw us off the path of good sense .\n",
            "\n",
            "\n"
          ]
        },
        {
          "output_type": "stream",
          "name": "stderr",
          "text": [
            "\r[Succeeded / Failed / Skipped / Total] 4 / 1 / 2 / 7:  88%|████████▊ | 7/8 [00:12<00:01,  1.76s/it]"
          ]
        },
        {
          "output_type": "stream",
          "name": "stdout",
          "text": [
            "--------------------------------------------- Result 7 ---------------------------------------------\n",
            "[[Positive (100%)]] --> [[Negative (95%)]]\n",
            "\n",
            "throws in enough clever and [[unexpected]] [[twists]] to make the [[formula]] feel [[fresh]] .\n",
            "\n",
            "throws in enough clever and [[unplanned]] [[folds]] to make the [[wording]] feel [[dulce]] .\n",
            "\n",
            "\n"
          ]
        },
        {
          "output_type": "stream",
          "name": "stderr",
          "text": [
            "[Succeeded / Failed / Skipped / Total] 5 / 1 / 2 / 8: 100%|██████████| 8/8 [00:14<00:00,  1.80s/it]"
          ]
        },
        {
          "output_type": "stream",
          "name": "stdout",
          "text": [
            "--------------------------------------------- Result 8 ---------------------------------------------\n",
            "[[Positive (97%)]] --> [[Negative (91%)]]\n",
            "\n",
            "weighty and [[ponderous]] but every bit as [[filling]] as the treat of the title .\n",
            "\n",
            "weighty and [[unwieldy]] but every bit as [[populate]] as the treat of the title .\n",
            "\n",
            "\n",
            "\n",
            "+-------------------------------+--------+\n",
            "| Attack Results                |        |\n",
            "+-------------------------------+--------+\n",
            "| Number of successful attacks: | 5      |\n",
            "| Number of failed attacks:     | 1      |\n",
            "| Number of skipped attacks:    | 2      |\n",
            "| Original accuracy:            | 75.0%  |\n",
            "| Accuracy under attack:        | 12.5%  |\n",
            "| Attack success rate:          | 83.33% |\n",
            "| Average perturbed word %:     | 21.68% |\n",
            "| Average num. words per input: | 15.0   |\n",
            "| Avg num queries:              | 70.0   |\n",
            "+-------------------------------+--------+"
          ]
        },
        {
          "output_type": "stream",
          "name": "stderr",
          "text": [
            "\n"
          ]
        },
        {
          "output_type": "stream",
          "name": "stdout",
          "text": [
            "\n",
            "Starting attack for----------------- WordSwapHowNet UTC\n"
          ]
        },
        {
          "output_type": "stream",
          "name": "stderr",
          "text": [
            "textattack: Unknown if model of class <class 'transformers.models.albert.modeling_albert.AlbertForSequenceClassification'> compatible with goal function <class 'textattack.goal_functions.classification.untargeted_classification.UntargetedClassification'>.\n",
            "  0%|          | 0/8 [00:00<?, ?it/s]"
          ]
        },
        {
          "output_type": "stream",
          "name": "stdout",
          "text": [
            "Attack(\n",
            "  (search_method): GreedyWordSwapWIR(\n",
            "    (wir_method):  weighted-saliency\n",
            "  )\n",
            "  (goal_function):  UntargetedClassification\n",
            "  (transformation):  WordSwapHowNet(\n",
            "    (max_candidates):  -1\n",
            "  )\n",
            "  (constraints): \n",
            "    (0): RepeatModification\n",
            "    (1): StopwordModification\n",
            "  (is_black_box):  True\n",
            ") \n",
            "\n"
          ]
        },
        {
          "output_type": "stream",
          "name": "stderr",
          "text": [
            "[Succeeded / Failed / Skipped / Total] 1 / 0 / 0 / 1:  12%|█▎        | 1/8 [00:19<02:13, 19.02s/it]"
          ]
        },
        {
          "output_type": "stream",
          "name": "stdout",
          "text": [
            "--------------------------------------------- Result 1 ---------------------------------------------\n",
            "[[Positive (100%)]] --> [[Negative (92%)]]\n",
            "\n",
            "lovingly photographed in the manner of a golden book sprung to life , stuart little 2 [[manages]] sweetness [[largely]] without stickiness .\n",
            "\n",
            "lovingly photographed in the manner of a golden book sprung to life , stuart little 2 [[tries]] sweetness [[unnecessarily]] without stickiness .\n",
            "\n",
            "\n"
          ]
        },
        {
          "output_type": "stream",
          "name": "stderr",
          "text": [
            "[Succeeded / Failed / Skipped / Total] 2 / 0 / 1 / 3:  38%|███▊      | 3/8 [00:21<00:35,  7.11s/it]"
          ]
        },
        {
          "output_type": "stream",
          "name": "stdout",
          "text": [
            "--------------------------------------------- Result 2 ---------------------------------------------\n",
            "[[Positive (100%)]] --> [[Negative (72%)]]\n",
            "\n",
            "consistently [[clever]] and [[suspenseful]] .\n",
            "\n",
            "consistently [[shrewd]] and [[indeterminate]] .\n",
            "\n",
            "\n",
            "--------------------------------------------- Result 3 ---------------------------------------------\n",
            "[[Negative (85%)]] --> [[[SKIPPED]]]\n",
            "\n",
            "it's like a \" big chill \" reunion of the baader-meinhof gang , only these guys are more harmless pranksters than political activists .\n",
            "\n",
            "\n"
          ]
        },
        {
          "output_type": "stream",
          "name": "stderr",
          "text": [
            "[Succeeded / Failed / Skipped / Total] 3 / 0 / 1 / 4:  50%|█████     | 4/8 [00:31<00:31,  7.77s/it]"
          ]
        },
        {
          "output_type": "stream",
          "name": "stdout",
          "text": [
            "--------------------------------------------- Result 4 ---------------------------------------------\n",
            "[[Positive (100%)]] --> [[Negative (99%)]]\n",
            "\n",
            "the story gives ample opportunity for large-scale action and suspense , which director shekhar kapur supplies with [[tremendous]] skill .\n",
            "\n",
            "the story gives ample opportunity for large-scale action and suspense , which director shekhar kapur supplies with [[terrible]] skill .\n",
            "\n",
            "\n"
          ]
        },
        {
          "output_type": "stream",
          "name": "stderr",
          "text": [
            "[Succeeded / Failed / Skipped / Total] 4 / 0 / 2 / 6:  75%|███████▌  | 6/8 [00:33<00:11,  5.58s/it]"
          ]
        },
        {
          "output_type": "stream",
          "name": "stdout",
          "text": [
            "--------------------------------------------- Result 5 ---------------------------------------------\n",
            "[[Positive (74%)]] --> [[Negative (56%)]]\n",
            "\n",
            "[[red]] dragon \" never cuts corners .\n",
            "\n",
            "[[magenta]] dragon \" never cuts corners .\n",
            "\n",
            "\n",
            "--------------------------------------------- Result 6 ---------------------------------------------\n",
            "[[Negative (64%)]] --> [[[SKIPPED]]]\n",
            "\n",
            "fresnadillo has something serious to say about the ways in which extravagant chance can distort our perspective and throw us off the path of good sense .\n",
            "\n",
            "\n"
          ]
        },
        {
          "output_type": "stream",
          "name": "stderr",
          "text": [
            "\r[Succeeded / Failed / Skipped / Total] 5 / 0 / 2 / 7:  88%|████████▊ | 7/8 [00:41<00:05,  6.00s/it]"
          ]
        },
        {
          "output_type": "stream",
          "name": "stdout",
          "text": [
            "--------------------------------------------- Result 7 ---------------------------------------------\n",
            "[[Positive (100%)]] --> [[Negative (98%)]]\n",
            "\n",
            "throws in enough clever and [[unexpected]] twists to make the formula feel [[fresh]] .\n",
            "\n",
            "throws in enough clever and [[expectant]] twists to make the formula feel [[novel]] .\n",
            "\n",
            "\n"
          ]
        },
        {
          "output_type": "stream",
          "name": "stderr",
          "text": [
            "[Succeeded / Failed / Skipped / Total] 6 / 0 / 2 / 8: 100%|██████████| 8/8 [00:49<00:00,  6.14s/it]"
          ]
        },
        {
          "output_type": "stream",
          "name": "stdout",
          "text": [
            "--------------------------------------------- Result 8 ---------------------------------------------\n",
            "[[Positive (97%)]] --> [[Negative (88%)]]\n",
            "\n",
            "weighty and ponderous but every bit as [[filling]] as the treat of the title .\n",
            "\n",
            "weighty and ponderous but every bit as [[loading]] as the treat of the title .\n",
            "\n",
            "\n",
            "\n",
            "+-------------------------------+--------+\n",
            "| Attack Results                |        |\n",
            "+-------------------------------+--------+\n",
            "| Number of successful attacks: | 6      |\n",
            "| Number of failed attacks:     | 0      |\n",
            "| Number of skipped attacks:    | 2      |\n",
            "| Original accuracy:            | 75.0%  |\n",
            "| Accuracy under attack:        | 0.0%   |\n",
            "| Attack success rate:          | 100.0% |\n",
            "| Average perturbed word %:     | 18.01% |\n",
            "| Average num. words per input: | 15.0   |\n",
            "| Avg num queries:              | 243.0  |\n",
            "+-------------------------------+--------+"
          ]
        },
        {
          "output_type": "stream",
          "name": "stderr",
          "text": [
            "\n",
            "textattack: Unknown if model of class <class 'transformers.models.albert.modeling_albert.AlbertForSequenceClassification'> compatible with goal function <class 'textattack.goal_functions.classification.untargeted_classification.UntargetedClassification'>.\n",
            "  0%|          | 0/8 [00:00<?, ?it/s]"
          ]
        },
        {
          "output_type": "stream",
          "name": "stdout",
          "text": [
            "\n",
            "Starting attack for----------------- WordDeletion UTC\n",
            "Attack(\n",
            "  (search_method): GreedyWordSwapWIR(\n",
            "    (wir_method):  weighted-saliency\n",
            "  )\n",
            "  (goal_function):  UntargetedClassification\n",
            "  (transformation):  WordDeletion\n",
            "  (constraints): \n",
            "    (0): RepeatModification\n",
            "    (1): StopwordModification\n",
            "  (is_black_box):  True\n",
            ") \n",
            "\n"
          ]
        },
        {
          "output_type": "stream",
          "name": "stderr",
          "text": [
            "[Succeeded / Failed / Skipped / Total] 1 / 0 / 0 / 1:  12%|█▎        | 1/8 [00:01<00:11,  1.67s/it]"
          ]
        },
        {
          "output_type": "stream",
          "name": "stdout",
          "text": [
            "--------------------------------------------- Result 1 ---------------------------------------------\n",
            "[[Positive (100%)]] --> [[Negative (53%)]]\n",
            "\n",
            "[[lovingly]] photographed in the manner of a golden book sprung to life , stuart little 2 [[manages]] sweetness largely without stickiness .\n",
            "\n",
            "photographed in the manner of a golden book sprung to life , stuart little 2 sweetness largely without stickiness .\n",
            "\n",
            "\n"
          ]
        },
        {
          "output_type": "stream",
          "name": "stderr",
          "text": [
            "[Succeeded / Failed / Skipped / Total] 2 / 0 / 1 / 3:  38%|███▊      | 3/8 [00:02<00:03,  1.39it/s]"
          ]
        },
        {
          "output_type": "stream",
          "name": "stdout",
          "text": [
            "--------------------------------------------- Result 2 ---------------------------------------------\n",
            "[[Positive (100%)]] --> [[Negative (83%)]]\n",
            "\n",
            "[[consistently]] [[clever]] and [[suspenseful]] .\n",
            "\n",
            "and .\n",
            "\n",
            "\n",
            "--------------------------------------------- Result 3 ---------------------------------------------\n",
            "[[Negative (85%)]] --> [[[SKIPPED]]]\n",
            "\n",
            "it's like a \" big chill \" reunion of the baader-meinhof gang , only these guys are more harmless pranksters than political activists .\n",
            "\n",
            "\n"
          ]
        },
        {
          "output_type": "stream",
          "name": "stderr",
          "text": [
            "[Succeeded / Failed / Skipped / Total] 2 / 1 / 1 / 4:  50%|█████     | 4/8 [00:04<00:04,  1.03s/it]"
          ]
        },
        {
          "output_type": "stream",
          "name": "stdout",
          "text": [
            "--------------------------------------------- Result 4 ---------------------------------------------\n",
            "[[Positive (100%)]] --> [[[FAILED]]]\n",
            "\n",
            "the story gives ample opportunity for large-scale action and suspense , which director shekhar kapur supplies with tremendous skill .\n",
            "\n",
            "\n"
          ]
        },
        {
          "output_type": "stream",
          "name": "stderr",
          "text": [
            "[Succeeded / Failed / Skipped / Total] 3 / 1 / 2 / 6:  75%|███████▌  | 6/8 [00:04<00:01,  1.30it/s]"
          ]
        },
        {
          "output_type": "stream",
          "name": "stdout",
          "text": [
            "--------------------------------------------- Result 5 ---------------------------------------------\n",
            "[[Positive (74%)]] --> [[Negative (78%)]]\n",
            "\n",
            "red dragon \" [[never]] cuts corners .\n",
            "\n",
            "red dragon \" cuts corners .\n",
            "\n",
            "\n",
            "--------------------------------------------- Result 6 ---------------------------------------------\n",
            "[[Negative (64%)]] --> [[[SKIPPED]]]\n",
            "\n",
            "fresnadillo has something serious to say about the ways in which extravagant chance can distort our perspective and throw us off the path of good sense .\n",
            "\n",
            "\n"
          ]
        },
        {
          "output_type": "stream",
          "name": "stderr",
          "text": [
            "\r[Succeeded / Failed / Skipped / Total] 4 / 1 / 2 / 7:  88%|████████▊ | 7/8 [00:05<00:00,  1.19it/s]"
          ]
        },
        {
          "output_type": "stream",
          "name": "stdout",
          "text": [
            "--------------------------------------------- Result 7 ---------------------------------------------\n",
            "[[Positive (100%)]] --> [[Negative (52%)]]\n",
            "\n",
            "throws in enough [[clever]] and [[unexpected]] twists to [[make]] the [[formula]] [[feel]] fresh .\n",
            "\n",
            "throws in enough and twists to the fresh .\n",
            "\n",
            "\n"
          ]
        },
        {
          "output_type": "stream",
          "name": "stderr",
          "text": [
            "[Succeeded / Failed / Skipped / Total] 5 / 1 / 2 / 8: 100%|██████████| 8/8 [00:07<00:00,  1.14it/s]"
          ]
        },
        {
          "output_type": "stream",
          "name": "stdout",
          "text": [
            "--------------------------------------------- Result 8 ---------------------------------------------\n",
            "[[Positive (97%)]] --> [[Negative (66%)]]\n",
            "\n",
            "weighty and ponderous but every bit as [[filling]] as the treat of the title .\n",
            "\n",
            "weighty and ponderous but every bit as as the treat of the title .\n",
            "\n",
            "\n",
            "\n",
            "+-------------------------------+--------+\n",
            "| Attack Results                |        |\n",
            "+-------------------------------+--------+\n",
            "| Number of successful attacks: | 5      |\n",
            "| Number of failed attacks:     | 1      |\n",
            "| Number of skipped attacks:    | 2      |\n",
            "| Original accuracy:            | 75.0%  |\n",
            "| Accuracy under attack:        | 12.5%  |\n",
            "| Attack success rate:          | 83.33% |\n",
            "| Average perturbed word %:     | 47.26% |\n",
            "| Average num. words per input: | 15.0   |\n",
            "| Avg num queries:              | 30.33  |\n",
            "+-------------------------------+--------+"
          ]
        },
        {
          "output_type": "stream",
          "name": "stderr",
          "text": [
            "\n"
          ]
        },
        {
          "output_type": "stream",
          "name": "stdout",
          "text": [
            "\n",
            "Starting attack for----------------- WordMergeMaskedLM UTC\n"
          ]
        },
        {
          "output_type": "stream",
          "name": "stderr",
          "text": [
            "Some weights of the model checkpoint at bert-base-uncased were not used when initializing BertForMaskedLM: ['cls.seq_relationship.weight', 'cls.seq_relationship.bias']\n",
            "- This IS expected if you are initializing BertForMaskedLM from the checkpoint of a model trained on another task or with another architecture (e.g. initializing a BertForSequenceClassification model from a BertForPreTraining model).\n",
            "- This IS NOT expected if you are initializing BertForMaskedLM from the checkpoint of a model that you expect to be exactly identical (initializing a BertForSequenceClassification model from a BertForSequenceClassification model).\n",
            "textattack: Unknown if model of class <class 'transformers.models.albert.modeling_albert.AlbertForSequenceClassification'> compatible with goal function <class 'textattack.goal_functions.classification.untargeted_classification.UntargetedClassification'>.\n",
            "textattack: Unknown if model of class <class 'transformers.models.albert.modeling_albert.AlbertForSequenceClassification'> compatible with goal function <class 'textattack.goal_functions.classification.untargeted_classification.UntargetedClassification'>.\n",
            "  0%|          | 0/8 [00:00<?, ?it/s]"
          ]
        },
        {
          "output_type": "stream",
          "name": "stdout",
          "text": [
            "Not compatible\n",
            "Starting attack for----------------- WordSwapRandomCharacterSubstitution UTC\n",
            "Attack(\n",
            "  (search_method): GreedyWordSwapWIR(\n",
            "    (wir_method):  weighted-saliency\n",
            "  )\n",
            "  (goal_function):  UntargetedClassification\n",
            "  (transformation):  WordSwapRandomCharacterSubstitution(\n",
            "    (random_one):  True\n",
            "  )\n",
            "  (constraints): \n",
            "    (0): RepeatModification\n",
            "    (1): StopwordModification\n",
            "  (is_black_box):  True\n",
            ") \n",
            "\n"
          ]
        },
        {
          "output_type": "stream",
          "name": "stderr",
          "text": [
            "[Succeeded / Failed / Skipped / Total] 1 / 0 / 0 / 1:  12%|█▎        | 1/8 [00:01<00:11,  1.63s/it]"
          ]
        },
        {
          "output_type": "stream",
          "name": "stdout",
          "text": [
            "--------------------------------------------- Result 1 ---------------------------------------------\n",
            "[[Positive (100%)]] --> [[Negative (90%)]]\n",
            "\n",
            "[[lovingly]] photographed in the manner of a golden book sprung to life , [[stuart]] little 2 [[manages]] [[sweetness]] largely [[without]] stickiness .\n",
            "\n",
            "[[lovinglz]] photographed in the manner of a golden book sprung to life , [[stuaqt]] little 2 [[Uanages]] [[sweedness]] largely [[Nithout]] stickiness .\n",
            "\n",
            "\n"
          ]
        },
        {
          "output_type": "stream",
          "name": "stderr",
          "text": [
            "[Succeeded / Failed / Skipped / Total] 1 / 1 / 1 / 3:  38%|███▊      | 3/8 [00:02<00:03,  1.43it/s]"
          ]
        },
        {
          "output_type": "stream",
          "name": "stdout",
          "text": [
            "--------------------------------------------- Result 2 ---------------------------------------------\n",
            "[[Positive (100%)]] --> [[[FAILED]]]\n",
            "\n",
            "consistently clever and suspenseful .\n",
            "\n",
            "\n",
            "--------------------------------------------- Result 3 ---------------------------------------------\n",
            "[[Negative (85%)]] --> [[[SKIPPED]]]\n",
            "\n",
            "it's like a \" big chill \" reunion of the baader-meinhof gang , only these guys are more harmless pranksters than political activists .\n",
            "\n",
            "\n"
          ]
        },
        {
          "output_type": "stream",
          "name": "stderr",
          "text": [
            "[Succeeded / Failed / Skipped / Total] 1 / 2 / 1 / 4:  50%|█████     | 4/8 [00:03<00:03,  1.05it/s]"
          ]
        },
        {
          "output_type": "stream",
          "name": "stdout",
          "text": [
            "--------------------------------------------- Result 4 ---------------------------------------------\n",
            "[[Positive (100%)]] --> [[[FAILED]]]\n",
            "\n",
            "the story gives ample opportunity for large-scale action and suspense , which director shekhar kapur supplies with tremendous skill .\n",
            "\n",
            "\n"
          ]
        },
        {
          "output_type": "stream",
          "name": "stderr",
          "text": [
            "[Succeeded / Failed / Skipped / Total] 2 / 2 / 2 / 6:  75%|███████▌  | 6/8 [00:04<00:01,  1.37it/s]"
          ]
        },
        {
          "output_type": "stream",
          "name": "stdout",
          "text": [
            "--------------------------------------------- Result 5 ---------------------------------------------\n",
            "[[Positive (74%)]] --> [[Negative (62%)]]\n",
            "\n",
            "red dragon \" [[never]] [[cuts]] corners .\n",
            "\n",
            "red dragon \" [[neveS]] [[cuqs]] corners .\n",
            "\n",
            "\n",
            "--------------------------------------------- Result 6 ---------------------------------------------\n",
            "[[Negative (64%)]] --> [[[SKIPPED]]]\n",
            "\n",
            "fresnadillo has something serious to say about the ways in which extravagant chance can distort our perspective and throw us off the path of good sense .\n",
            "\n",
            "\n"
          ]
        },
        {
          "output_type": "stream",
          "name": "stderr",
          "text": [
            "\r[Succeeded / Failed / Skipped / Total] 3 / 2 / 2 / 7:  88%|████████▊ | 7/8 [00:05<00:00,  1.29it/s]"
          ]
        },
        {
          "output_type": "stream",
          "name": "stdout",
          "text": [
            "--------------------------------------------- Result 7 ---------------------------------------------\n",
            "[[Positive (100%)]] --> [[Negative (84%)]]\n",
            "\n",
            "throws in enough [[clever]] and [[unexpected]] [[twists]] to [[make]] the formula feel [[fresh]] .\n",
            "\n",
            "throws in enough [[clHver]] and [[unexfected]] [[twBsts]] to [[lake]] the formula feel [[frePh]] .\n",
            "\n",
            "\n"
          ]
        },
        {
          "output_type": "stream",
          "name": "stderr",
          "text": [
            "[Succeeded / Failed / Skipped / Total] 4 / 2 / 2 / 8: 100%|██████████| 8/8 [00:06<00:00,  1.27it/s]"
          ]
        },
        {
          "output_type": "stream",
          "name": "stdout",
          "text": [
            "--------------------------------------------- Result 8 ---------------------------------------------\n",
            "[[Positive (97%)]] --> [[Negative (64%)]]\n",
            "\n",
            "weighty and ponderous but every bit as [[filling]] as the treat of the title .\n",
            "\n",
            "weighty and ponderous but every bit as [[filliQg]] as the treat of the title .\n",
            "\n",
            "\n",
            "\n",
            "+-------------------------------+--------+\n",
            "| Attack Results                |        |\n",
            "+-------------------------------+--------+\n",
            "| Number of successful attacks: | 4      |\n",
            "| Number of failed attacks:     | 2      |\n",
            "| Number of skipped attacks:    | 2      |\n",
            "| Original accuracy:            | 75.0%  |\n",
            "| Accuracy under attack:        | 25.0%  |\n",
            "| Attack success rate:          | 66.67% |\n",
            "| Average perturbed word %:     | 27.65% |\n",
            "| Average num. words per input: | 15.0   |\n",
            "| Avg num queries:              | 26.5   |\n",
            "+-------------------------------+--------+"
          ]
        },
        {
          "output_type": "stream",
          "name": "stderr",
          "text": [
            "\n"
          ]
        },
        {
          "output_type": "stream",
          "name": "stdout",
          "text": [
            "\n",
            "Starting attack for----------------- WordSwapMaskedLM UTC\n"
          ]
        },
        {
          "output_type": "stream",
          "name": "stderr",
          "text": [
            "Some weights of the model checkpoint at bert-base-uncased were not used when initializing BertForMaskedLM: ['cls.seq_relationship.weight', 'cls.seq_relationship.bias']\n",
            "- This IS expected if you are initializing BertForMaskedLM from the checkpoint of a model trained on another task or with another architecture (e.g. initializing a BertForSequenceClassification model from a BertForPreTraining model).\n",
            "- This IS NOT expected if you are initializing BertForMaskedLM from the checkpoint of a model that you expect to be exactly identical (initializing a BertForSequenceClassification model from a BertForSequenceClassification model).\n",
            "textattack: Unknown if model of class <class 'transformers.models.albert.modeling_albert.AlbertForSequenceClassification'> compatible with goal function <class 'textattack.goal_functions.classification.untargeted_classification.UntargetedClassification'>.\n",
            "  0%|          | 0/8 [00:00<?, ?it/s]"
          ]
        },
        {
          "output_type": "stream",
          "name": "stdout",
          "text": [
            "Attack(\n",
            "  (search_method): GreedyWordSwapWIR(\n",
            "    (wir_method):  weighted-saliency\n",
            "  )\n",
            "  (goal_function):  UntargetedClassification\n",
            "  (transformation):  WordSwapMaskedLM(\n",
            "    (method):  bert-attack\n",
            "    (masked_lm_name):  BertForMaskedLM\n",
            "    (max_length):  512\n",
            "    (max_candidates):  48\n",
            "    (min_confidence):  0.0005\n",
            "  )\n",
            "  (constraints): \n",
            "    (0): RepeatModification\n",
            "    (1): StopwordModification\n",
            "  (is_black_box):  True\n",
            ") \n",
            "\n"
          ]
        },
        {
          "output_type": "stream",
          "name": "stderr",
          "text": [
            "[Succeeded / Failed / Skipped / Total] 1 / 0 / 0 / 1:  12%|█▎        | 1/8 [00:26<03:07, 26.72s/it]"
          ]
        },
        {
          "output_type": "stream",
          "name": "stdout",
          "text": [
            "--------------------------------------------- Result 1 ---------------------------------------------\n",
            "[[Positive (100%)]] --> [[Negative (72%)]]\n",
            "\n",
            "lovingly photographed in the manner of a golden book sprung to life , stuart little 2 manages sweetness largely [[without]] stickiness .\n",
            "\n",
            "lovingly photographed in the manner of a golden book sprung to life , stuart little 2 manages sweetness largely [[lack]] stickiness .\n",
            "\n",
            "\n"
          ]
        },
        {
          "output_type": "stream",
          "name": "stderr",
          "text": [
            "[Succeeded / Failed / Skipped / Total] 2 / 0 / 1 / 3:  38%|███▊      | 3/8 [00:32<00:53, 10.76s/it]"
          ]
        },
        {
          "output_type": "stream",
          "name": "stdout",
          "text": [
            "--------------------------------------------- Result 2 ---------------------------------------------\n",
            "[[Positive (100%)]] --> [[Negative (72%)]]\n",
            "\n",
            "[[consistently]] clever and suspenseful .\n",
            "\n",
            "[[not]] clever and suspenseful .\n",
            "\n",
            "\n",
            "--------------------------------------------- Result 3 ---------------------------------------------\n",
            "[[Negative (85%)]] --> [[[SKIPPED]]]\n",
            "\n",
            "it's like a \" big chill \" reunion of the baader-meinhof gang , only these guys are more harmless pranksters than political activists .\n",
            "\n",
            "\n"
          ]
        },
        {
          "output_type": "stream",
          "name": "stderr",
          "text": [
            "[Succeeded / Failed / Skipped / Total] 3 / 0 / 1 / 4:  50%|█████     | 4/8 [01:35<01:35, 23.87s/it]"
          ]
        },
        {
          "output_type": "stream",
          "name": "stdout",
          "text": [
            "--------------------------------------------- Result 4 ---------------------------------------------\n",
            "[[Positive (100%)]] --> [[Negative (94%)]]\n",
            "\n",
            "the story [[gives]] ample opportunity for large-scale action and suspense , which director shekhar kapur supplies with [[tremendous]] skill .\n",
            "\n",
            "the story [[lacks]] ample opportunity for large-scale action and suspense , which director shekhar kapur supplies with [[lightning]] skill .\n",
            "\n",
            "\n"
          ]
        },
        {
          "output_type": "stream",
          "name": "stderr",
          "text": [
            "[Succeeded / Failed / Skipped / Total] 4 / 0 / 2 / 6:  75%|███████▌  | 6/8 [01:43<00:34, 17.28s/it]"
          ]
        },
        {
          "output_type": "stream",
          "name": "stdout",
          "text": [
            "--------------------------------------------- Result 5 ---------------------------------------------\n",
            "[[Positive (74%)]] --> [[Negative (98%)]]\n",
            "\n",
            "red dragon \" [[never]] cuts corners .\n",
            "\n",
            "red dragon \" [[just]] cuts corners .\n",
            "\n",
            "\n",
            "--------------------------------------------- Result 6 ---------------------------------------------\n",
            "[[Negative (64%)]] --> [[[SKIPPED]]]\n",
            "\n",
            "fresnadillo has something serious to say about the ways in which extravagant chance can distort our perspective and throw us off the path of good sense .\n",
            "\n",
            "\n"
          ]
        },
        {
          "output_type": "stream",
          "name": "stderr",
          "text": [
            "[Succeeded / Failed / Skipped / Total] 5 / 0 / 2 / 7:  88%|████████▊ | 7/8 [02:00<00:17, 17.16s/it]"
          ]
        },
        {
          "output_type": "stream",
          "name": "stdout",
          "text": [
            "--------------------------------------------- Result 7 ---------------------------------------------\n",
            "[[Positive (100%)]] --> [[Negative (96%)]]\n",
            "\n",
            "throws in [[enough]] clever and unexpected twists to make the formula feel fresh .\n",
            "\n",
            "throws in [[needed]] clever and unexpected twists to make the formula feel fresh .\n",
            "\n",
            "\n"
          ]
        },
        {
          "output_type": "stream",
          "name": "stderr",
          "text": [
            "[Succeeded / Failed / Skipped / Total] 6 / 0 / 2 / 8: 100%|██████████| 8/8 [02:14<00:00, 16.77s/it]"
          ]
        },
        {
          "output_type": "stream",
          "name": "stdout",
          "text": [
            "--------------------------------------------- Result 8 ---------------------------------------------\n",
            "[[Positive (97%)]] --> [[Negative (82%)]]\n",
            "\n",
            "weighty and ponderous but [[every]] bit as filling as the treat of the title .\n",
            "\n",
            "weighty and ponderous but [[just]] bit as filling as the treat of the title .\n",
            "\n",
            "\n",
            "\n",
            "+-------------------------------+--------+\n",
            "| Attack Results                |        |\n",
            "+-------------------------------+--------+\n",
            "| Number of successful attacks: | 6      |\n",
            "| Number of failed attacks:     | 0      |\n",
            "| Number of skipped attacks:    | 2      |\n",
            "| Original accuracy:            | 75.0%  |\n",
            "| Accuracy under attack:        | 0.0%   |\n",
            "| Attack success rate:          | 100.0% |\n",
            "| Average perturbed word %:     | 12.66% |\n",
            "| Average num. words per input: | 15.0   |\n",
            "| Avg num queries:              | 443.33 |\n",
            "+-------------------------------+--------+"
          ]
        },
        {
          "output_type": "stream",
          "name": "stderr",
          "text": [
            "\n"
          ]
        },
        {
          "output_type": "stream",
          "name": "stdout",
          "text": [
            "\n",
            "Starting attack for----------------- WordInsertionMaskedLM UTC\n"
          ]
        },
        {
          "output_type": "stream",
          "name": "stderr",
          "text": [
            "Some weights of the model checkpoint at bert-base-uncased were not used when initializing BertForMaskedLM: ['cls.seq_relationship.weight', 'cls.seq_relationship.bias']\n",
            "- This IS expected if you are initializing BertForMaskedLM from the checkpoint of a model trained on another task or with another architecture (e.g. initializing a BertForSequenceClassification model from a BertForPreTraining model).\n",
            "- This IS NOT expected if you are initializing BertForMaskedLM from the checkpoint of a model that you expect to be exactly identical (initializing a BertForSequenceClassification model from a BertForSequenceClassification model).\n",
            "textattack: Unknown if model of class <class 'transformers.models.albert.modeling_albert.AlbertForSequenceClassification'> compatible with goal function <class 'textattack.goal_functions.classification.untargeted_classification.UntargetedClassification'>.\n"
          ]
        },
        {
          "output_type": "stream",
          "name": "stdout",
          "text": [
            "Not compatible\n",
            "Starting attack for----------------- WordMergeMaskedLM UTC\n"
          ]
        },
        {
          "output_type": "stream",
          "name": "stderr",
          "text": [
            "Some weights of the model checkpoint at bert-base-uncased were not used when initializing BertForMaskedLM: ['cls.seq_relationship.weight', 'cls.seq_relationship.bias']\n",
            "- This IS expected if you are initializing BertForMaskedLM from the checkpoint of a model trained on another task or with another architecture (e.g. initializing a BertForSequenceClassification model from a BertForPreTraining model).\n",
            "- This IS NOT expected if you are initializing BertForMaskedLM from the checkpoint of a model that you expect to be exactly identical (initializing a BertForSequenceClassification model from a BertForSequenceClassification model).\n",
            "textattack: Unknown if model of class <class 'transformers.models.albert.modeling_albert.AlbertForSequenceClassification'> compatible with goal function <class 'textattack.goal_functions.classification.untargeted_classification.UntargetedClassification'>.\n"
          ]
        },
        {
          "output_type": "stream",
          "name": "stdout",
          "text": [
            "Not compatible\n"
          ]
        }
      ]
    },
    {
      "cell_type": "code",
      "source": [
        "transf_list = ['WordInsertionMaskedLM','WordMergeMaskedLM','WordSwapExtend','WordSwapContract',\n",
        "              'WordSwapChangeName','WordSwapChangeNumber','WordSwapChangeLocation']\n",
        "gf_list = ['IR','TC','UTC']\n",
        "              \n",
        "for gf in gf_list:         \n",
        "    for transf in transf_list:\n",
        "        print(\"Starting attack for-----------------\",transf,gf)\n",
        "        try:\n",
        "            attack = Recipe.build(model_wrapper,transf,gf)\n",
        "            attack_args = AttackArgs(num_examples=8,)\n",
        "            attacker = Attacker(attack, dataset,attack_args)\n",
        "            attack_results = attacker.attack_dataset()\n",
        "        except ValueError:\n",
        "            print(\"Not compatible\")\n",
        "            pass"
      ],
      "metadata": {
        "colab": {
          "base_uri": "https://localhost:8080/",
          "height": 1000,
          "referenced_widgets": [
            "0b79561ddcb94994a6955e9d86218dd6",
            "4333ed216ccb41f2a6f3bb9f76532232",
            "2db6fff68af24a35ae2fa4a475b923d3",
            "31a031fff8ce4b45a3f86c33ff6d2047",
            "7752afbb59bc4cc28eddb48f6b8fc9c7",
            "7d5fe95ecd68494b81925e78daf67cc4",
            "250a92d3fdb44a75ac0d539352a19388",
            "103fd11ff33d4750a222685f13cc8890",
            "7a2b9efefac8463a9e00944593309cd4",
            "18401a1bca554b4daa5014aeeced5ad4",
            "60b05515a26041ee8731958a585739f0",
            "0d865f19e4684b1cba84e2db69e3d830",
            "3c09d81cf0dd4bfe8df44df4828b6ba9",
            "65b5a89d3fd84ac3b566da2aac63dc9f",
            "7c66f289ccc042938084e2291f78b94f",
            "096b54354a9346f2b920b36280b73881",
            "71093297219e4fe1afd45d8b8a99000b",
            "29465f6a2ca74544b892406ac975d365",
            "287679ccfd0d4bf18e762e5776ccb749",
            "4d78b36b0c074827b9efc5a9045e730e",
            "b39bafe01b0d4943a520188c4a2ef499",
            "eb23f5ad06594a79909a75c90ebb3dba",
            "113cefacd7fc497880064860238e236f",
            "ca071a8f55214ca5b2917899720e6880",
            "89a1864b8d7e4f31b9f0fb0bcbcfc980",
            "6d32e4f857944dfabfda6f3475524f10",
            "af367c1fd33f48f786e25867cf044083",
            "d213ba25ce664ac6917975c403d1e6c9",
            "f35682d3467b4ee5ac6e17984dd8a4fd",
            "06f691de26a24cc4a0b0b8c905474c2f",
            "13868dd2981e4ffca7d6fc7202e153ff",
            "71e1b57203254414bf8592592aba26bb",
            "c05f24b096c840f49c44cd1455f28bd1",
            "2ec18cd40d1c41e1acd947231424e196",
            "c2ac7e37cd3c4169a8fd92e1bb14a533",
            "771e617aec804643a5ba93229ebfdd5e",
            "e067c8a65fbc41a0ace2e94ba2ae4507",
            "e140e05262564e0189bac3746b120e23",
            "a69e412d18c247749a034021eb438803",
            "ecf6a606c47d481cb13399415d8640d5",
            "6b4f25c1e37d4867848e979917e1866f",
            "7e2178a555154be9b022adbcf00775fe",
            "474d8e43e5394d389ab7b779c57bbed1",
            "3e0c5ee660384559ad4bf836698edf1a",
            "f31ce134373e458cb04308888805903c",
            "ea3b284f4903444e8a839f79d8244ac8",
            "ccfcf6ccccc8484e9cd38b04ae0f2d73",
            "215d3973f0504ac5a5adc3ae7f8b5d5f"
          ]
        },
        "id": "-JcbLqkNE8au",
        "outputId": "78234b66-a321-4af3-fc66-e8e75d6d529c"
      },
      "execution_count": 6,
      "outputs": [
        {
          "output_type": "stream",
          "name": "stdout",
          "text": [
            "Starting attack for----------------- WordInsertionMaskedLM IR\n"
          ]
        },
        {
          "output_type": "display_data",
          "data": {
            "application/vnd.jupyter.widget-view+json": {
              "model_id": "0b79561ddcb94994a6955e9d86218dd6",
              "version_minor": 0,
              "version_major": 2
            },
            "text/plain": [
              "HBox(children=(FloatProgress(value=0.0, description='Downloading', max=570.0, style=ProgressStyle(description_…"
            ]
          },
          "metadata": {}
        },
        {
          "output_type": "stream",
          "name": "stdout",
          "text": [
            "\n"
          ]
        },
        {
          "output_type": "display_data",
          "data": {
            "application/vnd.jupyter.widget-view+json": {
              "model_id": "7a2b9efefac8463a9e00944593309cd4",
              "version_minor": 0,
              "version_major": 2
            },
            "text/plain": [
              "HBox(children=(FloatProgress(value=0.0, description='Downloading', max=440473133.0, style=ProgressStyle(descri…"
            ]
          },
          "metadata": {}
        },
        {
          "output_type": "stream",
          "name": "stdout",
          "text": [
            "\n"
          ]
        },
        {
          "output_type": "stream",
          "name": "stderr",
          "text": [
            "Some weights of the model checkpoint at bert-base-uncased were not used when initializing BertForMaskedLM: ['cls.seq_relationship.bias', 'cls.seq_relationship.weight']\n",
            "- This IS expected if you are initializing BertForMaskedLM from the checkpoint of a model trained on another task or with another architecture (e.g. initializing a BertForSequenceClassification model from a BertForPreTraining model).\n",
            "- This IS NOT expected if you are initializing BertForMaskedLM from the checkpoint of a model that you expect to be exactly identical (initializing a BertForSequenceClassification model from a BertForSequenceClassification model).\n"
          ]
        },
        {
          "output_type": "display_data",
          "data": {
            "application/vnd.jupyter.widget-view+json": {
              "model_id": "71093297219e4fe1afd45d8b8a99000b",
              "version_minor": 0,
              "version_major": 2
            },
            "text/plain": [
              "HBox(children=(FloatProgress(value=0.0, description='Downloading', max=28.0, style=ProgressStyle(description_w…"
            ]
          },
          "metadata": {}
        },
        {
          "output_type": "stream",
          "name": "stdout",
          "text": [
            "\n"
          ]
        },
        {
          "output_type": "display_data",
          "data": {
            "application/vnd.jupyter.widget-view+json": {
              "model_id": "89a1864b8d7e4f31b9f0fb0bcbcfc980",
              "version_minor": 0,
              "version_major": 2
            },
            "text/plain": [
              "HBox(children=(FloatProgress(value=0.0, description='Downloading', max=231508.0, style=ProgressStyle(descripti…"
            ]
          },
          "metadata": {}
        },
        {
          "output_type": "stream",
          "name": "stdout",
          "text": [
            "\n"
          ]
        },
        {
          "output_type": "display_data",
          "data": {
            "application/vnd.jupyter.widget-view+json": {
              "model_id": "c05f24b096c840f49c44cd1455f28bd1",
              "version_minor": 0,
              "version_major": 2
            },
            "text/plain": [
              "HBox(children=(FloatProgress(value=0.0, description='Downloading', max=466062.0, style=ProgressStyle(descripti…"
            ]
          },
          "metadata": {}
        },
        {
          "output_type": "stream",
          "name": "stdout",
          "text": [
            "\n"
          ]
        },
        {
          "output_type": "stream",
          "name": "stderr",
          "text": [
            "textattack: Unknown if model of class <class 'transformers.models.albert.modeling_albert.AlbertForSequenceClassification'> compatible with goal function <class 'textattack.goal_functions.classification.input_reduction.InputReduction'>.\n"
          ]
        },
        {
          "output_type": "stream",
          "name": "stdout",
          "text": [
            "Not compatible\n",
            "Starting attack for----------------- WordMergeMaskedLM IR\n"
          ]
        },
        {
          "output_type": "stream",
          "name": "stderr",
          "text": [
            "Some weights of the model checkpoint at bert-base-uncased were not used when initializing BertForMaskedLM: ['cls.seq_relationship.bias', 'cls.seq_relationship.weight']\n",
            "- This IS expected if you are initializing BertForMaskedLM from the checkpoint of a model trained on another task or with another architecture (e.g. initializing a BertForSequenceClassification model from a BertForPreTraining model).\n",
            "- This IS NOT expected if you are initializing BertForMaskedLM from the checkpoint of a model that you expect to be exactly identical (initializing a BertForSequenceClassification model from a BertForSequenceClassification model).\n",
            "textattack: Unknown if model of class <class 'transformers.models.albert.modeling_albert.AlbertForSequenceClassification'> compatible with goal function <class 'textattack.goal_functions.classification.input_reduction.InputReduction'>.\n",
            "textattack: Unknown if model of class <class 'transformers.models.albert.modeling_albert.AlbertForSequenceClassification'> compatible with goal function <class 'textattack.goal_functions.classification.input_reduction.InputReduction'>.\n",
            "  0%|          | 0/8 [00:00<?, ?it/s]"
          ]
        },
        {
          "output_type": "stream",
          "name": "stdout",
          "text": [
            "Not compatible\n",
            "Starting attack for----------------- WordSwapExtend IR\n",
            "Attack(\n",
            "  (search_method): GreedyWordSwapWIR(\n",
            "    (wir_method):  weighted-saliency\n",
            "  )\n",
            "  (goal_function):  InputReduction(\n",
            "    (maximizable):  False\n",
            "    (target_num_words):  1\n",
            "  )\n",
            "  (transformation):  WordSwapExtend\n",
            "  (constraints): \n",
            "    (0): RepeatModification\n",
            "    (1): StopwordModification\n",
            "  (is_black_box):  True\n",
            ") \n",
            "\n"
          ]
        },
        {
          "output_type": "stream",
          "name": "stderr",
          "text": [
            "[Succeeded / Failed / Skipped / Total] 0 / 2 / 1 / 3:  38%|███▊      | 3/8 [00:00<00:01,  4.02it/s]"
          ]
        },
        {
          "output_type": "stream",
          "name": "stdout",
          "text": [
            "--------------------------------------------- Result 1 ---------------------------------------------\n",
            "[[Positive (100%)]] --> [[[FAILED]]]\n",
            "\n",
            "lovingly photographed in the manner of a golden book sprung to life , stuart little 2 manages sweetness largely without stickiness .\n",
            "\n",
            "\n",
            "--------------------------------------------- Result 2 ---------------------------------------------\n",
            "[[Positive (100%)]] --> [[[FAILED]]]\n",
            "\n",
            "consistently clever and suspenseful .\n",
            "\n",
            "\n",
            "--------------------------------------------- Result 3 ---------------------------------------------\n",
            "[[Negative (85%)]] --> [[[SKIPPED]]]\n",
            "\n",
            "it's like a \" big chill \" reunion of the baader-meinhof gang , only these guys are more harmless pranksters than political activists .\n",
            "\n",
            "\n"
          ]
        },
        {
          "output_type": "stream",
          "name": "stderr",
          "text": [
            "[Succeeded / Failed / Skipped / Total] 0 / 4 / 2 / 6:  75%|███████▌  | 6/8 [00:01<00:00,  4.52it/s]"
          ]
        },
        {
          "output_type": "stream",
          "name": "stdout",
          "text": [
            "--------------------------------------------- Result 4 ---------------------------------------------\n",
            "[[Positive (100%)]] --> [[[FAILED]]]\n",
            "\n",
            "the story gives ample opportunity for large-scale action and suspense , which director shekhar kapur supplies with tremendous skill .\n",
            "\n",
            "\n",
            "--------------------------------------------- Result 5 ---------------------------------------------\n",
            "[[Positive (74%)]] --> [[[FAILED]]]\n",
            "\n",
            "red dragon \" never cuts corners .\n",
            "\n",
            "\n",
            "--------------------------------------------- Result 6 ---------------------------------------------\n",
            "[[Negative (64%)]] --> [[[SKIPPED]]]\n",
            "\n",
            "fresnadillo has something serious to say about the ways in which extravagant chance can distort our perspective and throw us off the path of good sense .\n",
            "\n",
            "\n"
          ]
        },
        {
          "output_type": "stream",
          "name": "stderr",
          "text": [
            "\r[Succeeded / Failed / Skipped / Total] 0 / 5 / 2 / 7:  88%|████████▊ | 7/8 [00:01<00:00,  4.30it/s]"
          ]
        },
        {
          "output_type": "stream",
          "name": "stdout",
          "text": [
            "--------------------------------------------- Result 7 ---------------------------------------------\n",
            "[[Positive (100%)]] --> [[[FAILED]]]\n",
            "\n",
            "throws in enough clever and unexpected twists to make the formula feel fresh .\n",
            "\n",
            "\n"
          ]
        },
        {
          "output_type": "stream",
          "name": "stderr",
          "text": [
            "[Succeeded / Failed / Skipped / Total] 0 / 6 / 2 / 8: 100%|██████████| 8/8 [00:01<00:00,  4.11it/s]"
          ]
        },
        {
          "output_type": "stream",
          "name": "stdout",
          "text": [
            "--------------------------------------------- Result 8 ---------------------------------------------\n",
            "[[Positive (97%)]] --> [[[FAILED]]]\n",
            "\n",
            "weighty and ponderous but every bit as filling as the treat of the title .\n",
            "\n",
            "\n",
            "\n",
            "+-------------------------------+-------+\n",
            "| Attack Results                |       |\n",
            "+-------------------------------+-------+\n",
            "| Number of successful attacks: | 0     |\n",
            "| Number of failed attacks:     | 6     |\n",
            "| Number of skipped attacks:    | 2     |\n",
            "| Original accuracy:            | 75.0% |\n",
            "| Accuracy under attack:        | 75.0% |\n",
            "| Attack success rate:          | 0.0%  |\n",
            "| Average perturbed word %:     | nan%  |\n",
            "| Average num. words per input: | 15.0  |\n",
            "| Avg num queries:              | 13.33 |\n",
            "+-------------------------------+-------+"
          ]
        },
        {
          "output_type": "stream",
          "name": "stderr",
          "text": [
            "\n",
            "/usr/local/lib/python3.7/dist-packages/textattack/metrics/attack_metrics/words_perturbed.py:83: RuntimeWarning: Mean of empty slice.\n",
            "  average_perc_words_perturbed = self.perturbed_word_percentages.mean()\n",
            "/usr/local/lib/python3.7/dist-packages/numpy/core/_methods.py:189: RuntimeWarning: invalid value encountered in double_scalars\n",
            "  ret = ret.dtype.type(ret / rcount)\n",
            "textattack: Unknown if model of class <class 'transformers.models.albert.modeling_albert.AlbertForSequenceClassification'> compatible with goal function <class 'textattack.goal_functions.classification.input_reduction.InputReduction'>.\n",
            "  0%|          | 0/8 [00:00<?, ?it/s]"
          ]
        },
        {
          "output_type": "stream",
          "name": "stdout",
          "text": [
            "\n",
            "Starting attack for----------------- WordSwapContract IR\n",
            "Attack(\n",
            "  (search_method): GreedyWordSwapWIR(\n",
            "    (wir_method):  weighted-saliency\n",
            "  )\n",
            "  (goal_function):  InputReduction(\n",
            "    (maximizable):  False\n",
            "    (target_num_words):  1\n",
            "  )\n",
            "  (transformation):  WordSwapContract\n",
            "  (constraints): \n",
            "    (0): RepeatModification\n",
            "    (1): StopwordModification\n",
            "  (is_black_box):  True\n",
            ") \n",
            "\n"
          ]
        },
        {
          "output_type": "stream",
          "name": "stderr",
          "text": [
            "[Succeeded / Failed / Skipped / Total] 0 / 2 / 1 / 3:  38%|███▊      | 3/8 [00:00<00:00,  5.02it/s]"
          ]
        },
        {
          "output_type": "stream",
          "name": "stdout",
          "text": [
            "--------------------------------------------- Result 1 ---------------------------------------------\n",
            "[[Positive (100%)]] --> [[[FAILED]]]\n",
            "\n",
            "lovingly photographed in the manner of a golden book sprung to life , stuart little 2 manages sweetness largely without stickiness .\n",
            "\n",
            "\n",
            "--------------------------------------------- Result 2 ---------------------------------------------\n",
            "[[Positive (100%)]] --> [[[FAILED]]]\n",
            "\n",
            "consistently clever and suspenseful .\n",
            "\n",
            "\n",
            "--------------------------------------------- Result 3 ---------------------------------------------\n",
            "[[Negative (85%)]] --> [[[SKIPPED]]]\n",
            "\n",
            "it's like a \" big chill \" reunion of the baader-meinhof gang , only these guys are more harmless pranksters than political activists .\n",
            "\n",
            "\n"
          ]
        },
        {
          "output_type": "stream",
          "name": "stderr",
          "text": [
            "[Succeeded / Failed / Skipped / Total] 0 / 4 / 2 / 6:  75%|███████▌  | 6/8 [00:01<00:00,  5.05it/s]"
          ]
        },
        {
          "output_type": "stream",
          "name": "stdout",
          "text": [
            "--------------------------------------------- Result 4 ---------------------------------------------\n",
            "[[Positive (100%)]] --> [[[FAILED]]]\n",
            "\n",
            "the story gives ample opportunity for large-scale action and suspense , which director shekhar kapur supplies with tremendous skill .\n",
            "\n",
            "\n",
            "--------------------------------------------- Result 5 ---------------------------------------------\n",
            "[[Positive (74%)]] --> [[[FAILED]]]\n",
            "\n",
            "red dragon \" never cuts corners .\n",
            "\n",
            "\n",
            "--------------------------------------------- Result 6 ---------------------------------------------\n",
            "[[Negative (64%)]] --> [[[SKIPPED]]]\n",
            "\n",
            "fresnadillo has something serious to say about the ways in which extravagant chance can distort our perspective and throw us off the path of good sense .\n",
            "\n",
            "\n"
          ]
        },
        {
          "output_type": "stream",
          "name": "stderr",
          "text": [
            "\r[Succeeded / Failed / Skipped / Total] 0 / 5 / 2 / 7:  88%|████████▊ | 7/8 [00:01<00:00,  4.70it/s]"
          ]
        },
        {
          "output_type": "stream",
          "name": "stdout",
          "text": [
            "--------------------------------------------- Result 7 ---------------------------------------------\n",
            "[[Positive (100%)]] --> [[[FAILED]]]\n",
            "\n",
            "throws in enough clever and unexpected twists to make the formula feel fresh .\n",
            "\n",
            "\n"
          ]
        },
        {
          "output_type": "stream",
          "name": "stderr",
          "text": [
            "[Succeeded / Failed / Skipped / Total] 0 / 6 / 2 / 8: 100%|██████████| 8/8 [00:01<00:00,  4.43it/s]"
          ]
        },
        {
          "output_type": "stream",
          "name": "stdout",
          "text": [
            "--------------------------------------------- Result 8 ---------------------------------------------\n",
            "[[Positive (97%)]] --> [[[FAILED]]]\n",
            "\n",
            "weighty and ponderous but every bit as filling as the treat of the title .\n",
            "\n",
            "\n",
            "\n",
            "+-------------------------------+-------+\n",
            "| Attack Results                |       |\n",
            "+-------------------------------+-------+\n",
            "| Number of successful attacks: | 0     |\n",
            "| Number of failed attacks:     | 6     |\n",
            "| Number of skipped attacks:    | 2     |\n",
            "| Original accuracy:            | 75.0% |\n",
            "| Accuracy under attack:        | 75.0% |\n",
            "| Attack success rate:          | 0.0%  |\n",
            "| Average perturbed word %:     | nan%  |\n",
            "| Average num. words per input: | 15.0  |\n",
            "| Avg num queries:              | 13.33 |\n",
            "+-------------------------------+-------+"
          ]
        },
        {
          "output_type": "stream",
          "name": "stderr",
          "text": [
            "\n",
            "textattack: Unknown if model of class <class 'transformers.models.albert.modeling_albert.AlbertForSequenceClassification'> compatible with goal function <class 'textattack.goal_functions.classification.input_reduction.InputReduction'>.\n",
            "  0%|          | 0/8 [00:00<?, ?it/s]"
          ]
        },
        {
          "output_type": "stream",
          "name": "stdout",
          "text": [
            "\n",
            "Starting attack for----------------- WordSwapChangeName IR\n",
            "Attack(\n",
            "  (search_method): GreedyWordSwapWIR(\n",
            "    (wir_method):  weighted-saliency\n",
            "  )\n",
            "  (goal_function):  InputReduction(\n",
            "    (maximizable):  False\n",
            "    (target_num_words):  1\n",
            "  )\n",
            "  (transformation):  WordSwapChangeName\n",
            "  (constraints): \n",
            "    (0): RepeatModification\n",
            "    (1): StopwordModification\n",
            "  (is_black_box):  True\n",
            ") \n",
            "\n",
            "2022-03-09 00:42:49,043 --------------------------------------------------------------------------------\n",
            "2022-03-09 00:42:49,046 The model key 'ner' now maps to 'https://huggingface.co/flair/ner-english' on the HuggingFace ModelHub\n",
            "2022-03-09 00:42:49,047  - The most current version of the model is automatically downloaded from there.\n",
            "2022-03-09 00:42:49,049  - (you can alternatively manually download the original model at https://nlp.informatik.hu-berlin.de/resources/models/ner/en-ner-conll03-v0.4.pt)\n",
            "2022-03-09 00:42:49,050 --------------------------------------------------------------------------------\n"
          ]
        },
        {
          "output_type": "display_data",
          "data": {
            "application/vnd.jupyter.widget-view+json": {
              "model_id": "6b4f25c1e37d4867848e979917e1866f",
              "version_minor": 0,
              "version_major": 2
            },
            "text/plain": [
              "HBox(children=(FloatProgress(value=0.0, description='Downloading', max=432176557.0, style=ProgressStyle(descri…"
            ]
          },
          "metadata": {}
        },
        {
          "output_type": "stream",
          "name": "stdout",
          "text": [
            "\n",
            "2022-03-09 00:43:00,907 loading file /root/.flair/models/ner-english/4f4cdab26f24cb98b732b389e6cebc646c36f54cfd6e0b7d3b90b25656e4262f.8baa8ae8795f4df80b28e7f7b61d788ecbb057d1dc85aacb316f1bd02837a4a4\n"
          ]
        },
        {
          "output_type": "stream",
          "name": "stderr",
          "text": [
            "[Succeeded / Failed / Skipped / Total] 0 / 2 / 1 / 3:  38%|███▊      | 3/8 [00:14<00:24,  4.99s/it]"
          ]
        },
        {
          "output_type": "stream",
          "name": "stdout",
          "text": [
            "--------------------------------------------- Result 1 ---------------------------------------------\n",
            "[[Positive (100%)]] --> [[[FAILED]]]\n",
            "\n",
            "lovingly photographed in the manner of a golden book sprung to life , stuart little 2 manages sweetness largely without stickiness .\n",
            "\n",
            "\n",
            "--------------------------------------------- Result 2 ---------------------------------------------\n",
            "[[Positive (100%)]] --> [[[FAILED]]]\n",
            "\n",
            "consistently clever and suspenseful .\n",
            "\n",
            "\n",
            "--------------------------------------------- Result 3 ---------------------------------------------\n",
            "[[Negative (85%)]] --> [[[SKIPPED]]]\n",
            "\n",
            "it's like a \" big chill \" reunion of the baader-meinhof gang , only these guys are more harmless pranksters than political activists .\n",
            "\n",
            "\n"
          ]
        },
        {
          "output_type": "stream",
          "name": "stderr",
          "text": [
            "[Succeeded / Failed / Skipped / Total] 0 / 4 / 2 / 6:  75%|███████▌  | 6/8 [00:15<00:05,  2.63s/it]"
          ]
        },
        {
          "output_type": "stream",
          "name": "stdout",
          "text": [
            "--------------------------------------------- Result 4 ---------------------------------------------\n",
            "[[Positive (100%)]] --> [[[FAILED]]]\n",
            "\n",
            "the story gives ample opportunity for large-scale action and suspense , which director shekhar kapur supplies with tremendous skill .\n",
            "\n",
            "\n",
            "--------------------------------------------- Result 5 ---------------------------------------------\n",
            "[[Positive (74%)]] --> [[[FAILED]]]\n",
            "\n",
            "red dragon \" never cuts corners .\n",
            "\n",
            "\n",
            "--------------------------------------------- Result 6 ---------------------------------------------\n",
            "[[Negative (64%)]] --> [[[SKIPPED]]]\n",
            "\n",
            "fresnadillo has something serious to say about the ways in which extravagant chance can distort our perspective and throw us off the path of good sense .\n",
            "\n",
            "\n"
          ]
        },
        {
          "output_type": "stream",
          "name": "stderr",
          "text": [
            "\r[Succeeded / Failed / Skipped / Total] 0 / 5 / 2 / 7:  88%|████████▊ | 7/8 [00:16<00:02,  2.30s/it]"
          ]
        },
        {
          "output_type": "stream",
          "name": "stdout",
          "text": [
            "--------------------------------------------- Result 7 ---------------------------------------------\n",
            "[[Positive (100%)]] --> [[[FAILED]]]\n",
            "\n",
            "throws in enough clever and unexpected twists to make the formula feel fresh .\n",
            "\n",
            "\n"
          ]
        },
        {
          "output_type": "stream",
          "name": "stderr",
          "text": [
            "[Succeeded / Failed / Skipped / Total] 0 / 6 / 2 / 8: 100%|██████████| 8/8 [00:16<00:00,  2.05s/it]"
          ]
        },
        {
          "output_type": "stream",
          "name": "stdout",
          "text": [
            "--------------------------------------------- Result 8 ---------------------------------------------\n",
            "[[Positive (97%)]] --> [[[FAILED]]]\n",
            "\n",
            "weighty and ponderous but every bit as filling as the treat of the title .\n",
            "\n",
            "\n",
            "\n",
            "+-------------------------------+-------+\n",
            "| Attack Results                |       |\n",
            "+-------------------------------+-------+\n",
            "| Number of successful attacks: | 0     |\n",
            "| Number of failed attacks:     | 6     |\n",
            "| Number of skipped attacks:    | 2     |\n",
            "| Original accuracy:            | 75.0% |\n",
            "| Accuracy under attack:        | 75.0% |\n",
            "| Attack success rate:          | 0.0%  |\n",
            "| Average perturbed word %:     | nan%  |\n",
            "| Average num. words per input: | 15.0  |\n",
            "| Avg num queries:              | 14.33 |\n",
            "+-------------------------------+-------+"
          ]
        },
        {
          "output_type": "stream",
          "name": "stderr",
          "text": [
            "\n",
            "/usr/local/lib/python3.7/dist-packages/textattack/metrics/attack_metrics/words_perturbed.py:83: RuntimeWarning: Mean of empty slice.\n",
            "  average_perc_words_perturbed = self.perturbed_word_percentages.mean()\n",
            "/usr/local/lib/python3.7/dist-packages/numpy/core/_methods.py:189: RuntimeWarning: invalid value encountered in double_scalars\n",
            "  ret = ret.dtype.type(ret / rcount)\n",
            "textattack: Unknown if model of class <class 'transformers.models.albert.modeling_albert.AlbertForSequenceClassification'> compatible with goal function <class 'textattack.goal_functions.classification.input_reduction.InputReduction'>.\n",
            "  0%|          | 0/8 [00:00<?, ?it/s]"
          ]
        },
        {
          "output_type": "stream",
          "name": "stdout",
          "text": [
            "\n",
            "Starting attack for----------------- WordSwapChangeNumber IR\n",
            "Attack(\n",
            "  (search_method): GreedyWordSwapWIR(\n",
            "    (wir_method):  weighted-saliency\n",
            "  )\n",
            "  (goal_function):  InputReduction(\n",
            "    (maximizable):  False\n",
            "    (target_num_words):  1\n",
            "  )\n",
            "  (transformation):  WordSwapChangeNumber\n",
            "  (constraints): \n",
            "    (0): RepeatModification\n",
            "    (1): StopwordModification\n",
            "  (is_black_box):  True\n",
            ") \n",
            "\n"
          ]
        },
        {
          "output_type": "stream",
          "name": "stderr",
          "text": [
            "[Succeeded / Failed / Skipped / Total] 0 / 2 / 1 / 3:  38%|███▊      | 3/8 [00:00<00:01,  5.00it/s]"
          ]
        },
        {
          "output_type": "stream",
          "name": "stdout",
          "text": [
            "--------------------------------------------- Result 1 ---------------------------------------------\n",
            "[[Positive (100%)]] --> [[[FAILED]]]\n",
            "\n",
            "lovingly photographed in the manner of a golden book sprung to life , stuart little 2 manages sweetness largely without stickiness .\n",
            "\n",
            "\n",
            "--------------------------------------------- Result 2 ---------------------------------------------\n",
            "[[Positive (100%)]] --> [[[FAILED]]]\n",
            "\n",
            "consistently clever and suspenseful .\n",
            "\n",
            "\n",
            "--------------------------------------------- Result 3 ---------------------------------------------\n",
            "[[Negative (85%)]] --> [[[SKIPPED]]]\n",
            "\n",
            "it's like a \" big chill \" reunion of the baader-meinhof gang , only these guys are more harmless pranksters than political activists .\n",
            "\n",
            "\n"
          ]
        },
        {
          "output_type": "stream",
          "name": "stderr",
          "text": [
            "[Succeeded / Failed / Skipped / Total] 0 / 4 / 2 / 6:  75%|███████▌  | 6/8 [00:01<00:00,  5.09it/s]"
          ]
        },
        {
          "output_type": "stream",
          "name": "stdout",
          "text": [
            "--------------------------------------------- Result 4 ---------------------------------------------\n",
            "[[Positive (100%)]] --> [[[FAILED]]]\n",
            "\n",
            "the story gives ample opportunity for large-scale action and suspense , which director shekhar kapur supplies with tremendous skill .\n",
            "\n",
            "\n",
            "--------------------------------------------- Result 5 ---------------------------------------------\n",
            "[[Positive (74%)]] --> [[[FAILED]]]\n",
            "\n",
            "red dragon \" never cuts corners .\n",
            "\n",
            "\n",
            "--------------------------------------------- Result 6 ---------------------------------------------\n",
            "[[Negative (64%)]] --> [[[SKIPPED]]]\n",
            "\n",
            "fresnadillo has something serious to say about the ways in which extravagant chance can distort our perspective and throw us off the path of good sense .\n",
            "\n",
            "\n"
          ]
        },
        {
          "output_type": "stream",
          "name": "stderr",
          "text": [
            "\r[Succeeded / Failed / Skipped / Total] 0 / 5 / 2 / 7:  88%|████████▊ | 7/8 [00:01<00:00,  4.73it/s]"
          ]
        },
        {
          "output_type": "stream",
          "name": "stdout",
          "text": [
            "--------------------------------------------- Result 7 ---------------------------------------------\n",
            "[[Positive (100%)]] --> [[[FAILED]]]\n",
            "\n",
            "throws in enough clever and unexpected twists to make the formula feel fresh .\n",
            "\n",
            "\n"
          ]
        },
        {
          "output_type": "stream",
          "name": "stderr",
          "text": [
            "[Succeeded / Failed / Skipped / Total] 0 / 6 / 2 / 8: 100%|██████████| 8/8 [00:01<00:00,  4.46it/s]"
          ]
        },
        {
          "output_type": "stream",
          "name": "stdout",
          "text": [
            "--------------------------------------------- Result 8 ---------------------------------------------\n",
            "[[Positive (97%)]] --> [[[FAILED]]]\n",
            "\n",
            "weighty and ponderous but every bit as filling as the treat of the title .\n",
            "\n",
            "\n",
            "\n",
            "+-------------------------------+-------+\n",
            "| Attack Results                |       |\n",
            "+-------------------------------+-------+\n",
            "| Number of successful attacks: | 0     |\n",
            "| Number of failed attacks:     | 6     |\n",
            "| Number of skipped attacks:    | 2     |\n",
            "| Original accuracy:            | 75.0% |\n",
            "| Accuracy under attack:        | 75.0% |\n",
            "| Attack success rate:          | 0.0%  |\n",
            "| Average perturbed word %:     | nan%  |\n",
            "| Average num. words per input: | 15.0  |\n",
            "| Avg num queries:              | 13.33 |\n",
            "+-------------------------------+-------+"
          ]
        },
        {
          "output_type": "stream",
          "name": "stderr",
          "text": [
            "\n",
            "textattack: Unknown if model of class <class 'transformers.models.albert.modeling_albert.AlbertForSequenceClassification'> compatible with goal function <class 'textattack.goal_functions.classification.input_reduction.InputReduction'>.\n",
            "  0%|          | 0/8 [00:00<?, ?it/s]"
          ]
        },
        {
          "output_type": "stream",
          "name": "stdout",
          "text": [
            "\n",
            "Starting attack for----------------- WordSwapChangeLocation IR\n",
            "Attack(\n",
            "  (search_method): GreedyWordSwapWIR(\n",
            "    (wir_method):  weighted-saliency\n",
            "  )\n",
            "  (goal_function):  InputReduction(\n",
            "    (maximizable):  False\n",
            "    (target_num_words):  1\n",
            "  )\n",
            "  (transformation):  WordSwapChangeLocation\n",
            "  (constraints): \n",
            "    (0): RepeatModification\n",
            "    (1): StopwordModification\n",
            "  (is_black_box):  True\n",
            ") \n",
            "\n"
          ]
        },
        {
          "output_type": "stream",
          "name": "stderr",
          "text": [
            "[Succeeded / Failed / Skipped / Total] 0 / 2 / 1 / 3:  38%|███▊      | 3/8 [00:00<00:01,  4.63it/s]"
          ]
        },
        {
          "output_type": "stream",
          "name": "stdout",
          "text": [
            "--------------------------------------------- Result 1 ---------------------------------------------\n",
            "[[Positive (100%)]] --> [[[FAILED]]]\n",
            "\n",
            "lovingly photographed in the manner of a golden book sprung to life , stuart little 2 manages sweetness largely without stickiness .\n",
            "\n",
            "\n",
            "--------------------------------------------- Result 2 ---------------------------------------------\n",
            "[[Positive (100%)]] --> [[[FAILED]]]\n",
            "\n",
            "consistently clever and suspenseful .\n",
            "\n",
            "\n",
            "--------------------------------------------- Result 3 ---------------------------------------------\n",
            "[[Negative (85%)]] --> [[[SKIPPED]]]\n",
            "\n",
            "it's like a \" big chill \" reunion of the baader-meinhof gang , only these guys are more harmless pranksters than political activists .\n",
            "\n",
            "\n"
          ]
        },
        {
          "output_type": "stream",
          "name": "stderr",
          "text": [
            "[Succeeded / Failed / Skipped / Total] 0 / 4 / 2 / 6:  75%|███████▌  | 6/8 [00:01<00:00,  4.67it/s]"
          ]
        },
        {
          "output_type": "stream",
          "name": "stdout",
          "text": [
            "--------------------------------------------- Result 4 ---------------------------------------------\n",
            "[[Positive (100%)]] --> [[[FAILED]]]\n",
            "\n",
            "the story gives ample opportunity for large-scale action and suspense , which director shekhar kapur supplies with tremendous skill .\n",
            "\n",
            "\n",
            "--------------------------------------------- Result 5 ---------------------------------------------\n",
            "[[Positive (74%)]] --> [[[FAILED]]]\n",
            "\n",
            "red dragon \" never cuts corners .\n",
            "\n",
            "\n",
            "--------------------------------------------- Result 6 ---------------------------------------------\n",
            "[[Negative (64%)]] --> [[[SKIPPED]]]\n",
            "\n",
            "fresnadillo has something serious to say about the ways in which extravagant chance can distort our perspective and throw us off the path of good sense .\n",
            "\n",
            "\n"
          ]
        },
        {
          "output_type": "stream",
          "name": "stderr",
          "text": [
            "\r[Succeeded / Failed / Skipped / Total] 0 / 5 / 2 / 7:  88%|████████▊ | 7/8 [00:01<00:00,  4.34it/s]"
          ]
        },
        {
          "output_type": "stream",
          "name": "stdout",
          "text": [
            "--------------------------------------------- Result 7 ---------------------------------------------\n",
            "[[Positive (100%)]] --> [[[FAILED]]]\n",
            "\n",
            "throws in enough clever and unexpected twists to make the formula feel fresh .\n",
            "\n",
            "\n"
          ]
        },
        {
          "output_type": "stream",
          "name": "stderr",
          "text": [
            "[Succeeded / Failed / Skipped / Total] 0 / 6 / 2 / 8: 100%|██████████| 8/8 [00:01<00:00,  4.10it/s]"
          ]
        },
        {
          "output_type": "stream",
          "name": "stdout",
          "text": [
            "--------------------------------------------- Result 8 ---------------------------------------------\n",
            "[[Positive (97%)]] --> [[[FAILED]]]\n",
            "\n",
            "weighty and ponderous but every bit as filling as the treat of the title .\n",
            "\n",
            "\n",
            "\n",
            "+-------------------------------+-------+\n",
            "| Attack Results                |       |\n",
            "+-------------------------------+-------+\n",
            "| Number of successful attacks: | 0     |\n",
            "| Number of failed attacks:     | 6     |\n",
            "| Number of skipped attacks:    | 2     |\n",
            "| Original accuracy:            | 75.0% |\n",
            "| Accuracy under attack:        | 75.0% |\n",
            "| Attack success rate:          | 0.0%  |\n",
            "| Average perturbed word %:     | nan%  |\n",
            "| Average num. words per input: | 15.0  |\n",
            "| Avg num queries:              | 13.33 |\n",
            "+-------------------------------+-------+"
          ]
        },
        {
          "output_type": "stream",
          "name": "stderr",
          "text": [
            "\n"
          ]
        },
        {
          "output_type": "stream",
          "name": "stdout",
          "text": [
            "\n",
            "Starting attack for----------------- WordInsertionMaskedLM TC\n"
          ]
        },
        {
          "output_type": "stream",
          "name": "stderr",
          "text": [
            "Some weights of the model checkpoint at bert-base-uncased were not used when initializing BertForMaskedLM: ['cls.seq_relationship.bias', 'cls.seq_relationship.weight']\n",
            "- This IS expected if you are initializing BertForMaskedLM from the checkpoint of a model trained on another task or with another architecture (e.g. initializing a BertForSequenceClassification model from a BertForPreTraining model).\n",
            "- This IS NOT expected if you are initializing BertForMaskedLM from the checkpoint of a model that you expect to be exactly identical (initializing a BertForSequenceClassification model from a BertForSequenceClassification model).\n",
            "textattack: Unknown if model of class <class 'transformers.models.albert.modeling_albert.AlbertForSequenceClassification'> compatible with goal function <class 'textattack.goal_functions.classification.targeted_classification.TargetedClassification'>.\n"
          ]
        },
        {
          "output_type": "stream",
          "name": "stdout",
          "text": [
            "Not compatible\n",
            "Starting attack for----------------- WordMergeMaskedLM TC\n"
          ]
        },
        {
          "output_type": "stream",
          "name": "stderr",
          "text": [
            "Some weights of the model checkpoint at bert-base-uncased were not used when initializing BertForMaskedLM: ['cls.seq_relationship.bias', 'cls.seq_relationship.weight']\n",
            "- This IS expected if you are initializing BertForMaskedLM from the checkpoint of a model trained on another task or with another architecture (e.g. initializing a BertForSequenceClassification model from a BertForPreTraining model).\n",
            "- This IS NOT expected if you are initializing BertForMaskedLM from the checkpoint of a model that you expect to be exactly identical (initializing a BertForSequenceClassification model from a BertForSequenceClassification model).\n",
            "textattack: Unknown if model of class <class 'transformers.models.albert.modeling_albert.AlbertForSequenceClassification'> compatible with goal function <class 'textattack.goal_functions.classification.targeted_classification.TargetedClassification'>.\n",
            "textattack: Unknown if model of class <class 'transformers.models.albert.modeling_albert.AlbertForSequenceClassification'> compatible with goal function <class 'textattack.goal_functions.classification.targeted_classification.TargetedClassification'>.\n",
            "  0%|          | 0/8 [00:00<?, ?it/s]"
          ]
        },
        {
          "output_type": "stream",
          "name": "stdout",
          "text": [
            "Not compatible\n",
            "Starting attack for----------------- WordSwapExtend TC\n",
            "Attack(\n",
            "  (search_method): GreedyWordSwapWIR(\n",
            "    (wir_method):  weighted-saliency\n",
            "  )\n",
            "  (goal_function):  TargetedClassification(\n",
            "    (target_class):  0\n",
            "  )\n",
            "  (transformation):  WordSwapExtend\n",
            "  (constraints): \n",
            "    (0): RepeatModification\n",
            "    (1): StopwordModification\n",
            "  (is_black_box):  True\n",
            ") \n",
            "\n"
          ]
        },
        {
          "output_type": "stream",
          "name": "stderr",
          "text": [
            "[Succeeded / Failed / Skipped / Total] 0 / 2 / 1 / 3:  38%|███▊      | 3/8 [00:00<00:00,  5.05it/s]"
          ]
        },
        {
          "output_type": "stream",
          "name": "stdout",
          "text": [
            "--------------------------------------------- Result 1 ---------------------------------------------\n",
            "[[Positive (100%)]] --> [[[FAILED]]]\n",
            "\n",
            "lovingly photographed in the manner of a golden book sprung to life , stuart little 2 manages sweetness largely without stickiness .\n",
            "\n",
            "\n",
            "--------------------------------------------- Result 2 ---------------------------------------------\n",
            "[[Positive (100%)]] --> [[[FAILED]]]\n",
            "\n",
            "consistently clever and suspenseful .\n",
            "\n",
            "\n",
            "--------------------------------------------- Result 3 ---------------------------------------------\n",
            "[[Negative (85%)]] --> [[[SKIPPED]]]\n",
            "\n",
            "it's like a \" big chill \" reunion of the baader-meinhof gang , only these guys are more harmless pranksters than political activists .\n",
            "\n",
            "\n"
          ]
        },
        {
          "output_type": "stream",
          "name": "stderr",
          "text": [
            "[Succeeded / Failed / Skipped / Total] 0 / 4 / 2 / 6:  75%|███████▌  | 6/8 [00:01<00:00,  5.12it/s]"
          ]
        },
        {
          "output_type": "stream",
          "name": "stdout",
          "text": [
            "--------------------------------------------- Result 4 ---------------------------------------------\n",
            "[[Positive (100%)]] --> [[[FAILED]]]\n",
            "\n",
            "the story gives ample opportunity for large-scale action and suspense , which director shekhar kapur supplies with tremendous skill .\n",
            "\n",
            "\n",
            "--------------------------------------------- Result 5 ---------------------------------------------\n",
            "[[Positive (74%)]] --> [[[FAILED]]]\n",
            "\n",
            "red dragon \" never cuts corners .\n",
            "\n",
            "\n",
            "--------------------------------------------- Result 6 ---------------------------------------------\n",
            "[[Negative (64%)]] --> [[[SKIPPED]]]\n",
            "\n",
            "fresnadillo has something serious to say about the ways in which extravagant chance can distort our perspective and throw us off the path of good sense .\n",
            "\n",
            "\n"
          ]
        },
        {
          "output_type": "stream",
          "name": "stderr",
          "text": [
            "\r[Succeeded / Failed / Skipped / Total] 0 / 5 / 2 / 7:  88%|████████▊ | 7/8 [00:01<00:00,  4.76it/s]"
          ]
        },
        {
          "output_type": "stream",
          "name": "stdout",
          "text": [
            "--------------------------------------------- Result 7 ---------------------------------------------\n",
            "[[Positive (100%)]] --> [[[FAILED]]]\n",
            "\n",
            "throws in enough clever and unexpected twists to make the formula feel fresh .\n",
            "\n",
            "\n"
          ]
        },
        {
          "output_type": "stream",
          "name": "stderr",
          "text": [
            "[Succeeded / Failed / Skipped / Total] 0 / 6 / 2 / 8: 100%|██████████| 8/8 [00:01<00:00,  4.48it/s]"
          ]
        },
        {
          "output_type": "stream",
          "name": "stdout",
          "text": [
            "--------------------------------------------- Result 8 ---------------------------------------------\n",
            "[[Positive (97%)]] --> [[[FAILED]]]\n",
            "\n",
            "weighty and ponderous but every bit as filling as the treat of the title .\n",
            "\n",
            "\n",
            "\n",
            "+-------------------------------+-------+\n",
            "| Attack Results                |       |\n",
            "+-------------------------------+-------+\n",
            "| Number of successful attacks: | 0     |\n",
            "| Number of failed attacks:     | 6     |\n",
            "| Number of skipped attacks:    | 2     |\n",
            "| Original accuracy:            | 75.0% |\n",
            "| Accuracy under attack:        | 75.0% |\n",
            "| Attack success rate:          | 0.0%  |\n",
            "| Average perturbed word %:     | nan%  |\n",
            "| Average num. words per input: | 15.0  |\n",
            "| Avg num queries:              | 13.33 |\n",
            "+-------------------------------+-------+"
          ]
        },
        {
          "output_type": "stream",
          "name": "stderr",
          "text": [
            "\n",
            "textattack: Unknown if model of class <class 'transformers.models.albert.modeling_albert.AlbertForSequenceClassification'> compatible with goal function <class 'textattack.goal_functions.classification.targeted_classification.TargetedClassification'>.\n",
            "  0%|          | 0/8 [00:00<?, ?it/s]"
          ]
        },
        {
          "output_type": "stream",
          "name": "stdout",
          "text": [
            "\n",
            "Starting attack for----------------- WordSwapContract TC\n",
            "Attack(\n",
            "  (search_method): GreedyWordSwapWIR(\n",
            "    (wir_method):  weighted-saliency\n",
            "  )\n",
            "  (goal_function):  TargetedClassification(\n",
            "    (target_class):  0\n",
            "  )\n",
            "  (transformation):  WordSwapContract\n",
            "  (constraints): \n",
            "    (0): RepeatModification\n",
            "    (1): StopwordModification\n",
            "  (is_black_box):  True\n",
            ") \n",
            "\n"
          ]
        },
        {
          "output_type": "stream",
          "name": "stderr",
          "text": [
            "[Succeeded / Failed / Skipped / Total] 0 / 2 / 1 / 3:  38%|███▊      | 3/8 [00:00<00:00,  5.03it/s]"
          ]
        },
        {
          "output_type": "stream",
          "name": "stdout",
          "text": [
            "--------------------------------------------- Result 1 ---------------------------------------------\n",
            "[[Positive (100%)]] --> [[[FAILED]]]\n",
            "\n",
            "lovingly photographed in the manner of a golden book sprung to life , stuart little 2 manages sweetness largely without stickiness .\n",
            "\n",
            "\n",
            "--------------------------------------------- Result 2 ---------------------------------------------\n",
            "[[Positive (100%)]] --> [[[FAILED]]]\n",
            "\n",
            "consistently clever and suspenseful .\n",
            "\n",
            "\n",
            "--------------------------------------------- Result 3 ---------------------------------------------\n",
            "[[Negative (85%)]] --> [[[SKIPPED]]]\n",
            "\n",
            "it's like a \" big chill \" reunion of the baader-meinhof gang , only these guys are more harmless pranksters than political activists .\n",
            "\n",
            "\n"
          ]
        },
        {
          "output_type": "stream",
          "name": "stderr",
          "text": [
            "[Succeeded / Failed / Skipped / Total] 0 / 4 / 2 / 6:  75%|███████▌  | 6/8 [00:01<00:00,  5.10it/s]"
          ]
        },
        {
          "output_type": "stream",
          "name": "stdout",
          "text": [
            "--------------------------------------------- Result 4 ---------------------------------------------\n",
            "[[Positive (100%)]] --> [[[FAILED]]]\n",
            "\n",
            "the story gives ample opportunity for large-scale action and suspense , which director shekhar kapur supplies with tremendous skill .\n",
            "\n",
            "\n",
            "--------------------------------------------- Result 5 ---------------------------------------------\n",
            "[[Positive (74%)]] --> [[[FAILED]]]\n",
            "\n",
            "red dragon \" never cuts corners .\n",
            "\n",
            "\n",
            "--------------------------------------------- Result 6 ---------------------------------------------\n",
            "[[Negative (64%)]] --> [[[SKIPPED]]]\n",
            "\n",
            "fresnadillo has something serious to say about the ways in which extravagant chance can distort our perspective and throw us off the path of good sense .\n",
            "\n",
            "\n"
          ]
        },
        {
          "output_type": "stream",
          "name": "stderr",
          "text": [
            "\r[Succeeded / Failed / Skipped / Total] 0 / 5 / 2 / 7:  88%|████████▊ | 7/8 [00:01<00:00,  4.75it/s]"
          ]
        },
        {
          "output_type": "stream",
          "name": "stdout",
          "text": [
            "--------------------------------------------- Result 7 ---------------------------------------------\n",
            "[[Positive (100%)]] --> [[[FAILED]]]\n",
            "\n",
            "throws in enough clever and unexpected twists to make the formula feel fresh .\n",
            "\n",
            "\n"
          ]
        },
        {
          "output_type": "stream",
          "name": "stderr",
          "text": [
            "[Succeeded / Failed / Skipped / Total] 0 / 6 / 2 / 8: 100%|██████████| 8/8 [00:01<00:00,  4.47it/s]"
          ]
        },
        {
          "output_type": "stream",
          "name": "stdout",
          "text": [
            "--------------------------------------------- Result 8 ---------------------------------------------\n",
            "[[Positive (97%)]] --> [[[FAILED]]]\n",
            "\n",
            "weighty and ponderous but every bit as filling as the treat of the title .\n",
            "\n",
            "\n",
            "\n",
            "+-------------------------------+-------+\n",
            "| Attack Results                |       |\n",
            "+-------------------------------+-------+\n",
            "| Number of successful attacks: | 0     |\n",
            "| Number of failed attacks:     | 6     |\n",
            "| Number of skipped attacks:    | 2     |\n",
            "| Original accuracy:            | 75.0% |\n",
            "| Accuracy under attack:        | 75.0% |\n",
            "| Attack success rate:          | 0.0%  |\n",
            "| Average perturbed word %:     | nan%  |\n",
            "| Average num. words per input: | 15.0  |\n",
            "| Avg num queries:              | 13.33 |\n",
            "+-------------------------------+-------+"
          ]
        },
        {
          "output_type": "stream",
          "name": "stderr",
          "text": [
            "\n",
            "textattack: Unknown if model of class <class 'transformers.models.albert.modeling_albert.AlbertForSequenceClassification'> compatible with goal function <class 'textattack.goal_functions.classification.targeted_classification.TargetedClassification'>.\n",
            "  0%|          | 0/8 [00:00<?, ?it/s]"
          ]
        },
        {
          "output_type": "stream",
          "name": "stdout",
          "text": [
            "\n",
            "Starting attack for----------------- WordSwapChangeName TC\n",
            "Attack(\n",
            "  (search_method): GreedyWordSwapWIR(\n",
            "    (wir_method):  weighted-saliency\n",
            "  )\n",
            "  (goal_function):  TargetedClassification(\n",
            "    (target_class):  0\n",
            "  )\n",
            "  (transformation):  WordSwapChangeName\n",
            "  (constraints): \n",
            "    (0): RepeatModification\n",
            "    (1): StopwordModification\n",
            "  (is_black_box):  True\n",
            ") \n",
            "\n"
          ]
        },
        {
          "output_type": "stream",
          "name": "stderr",
          "text": [
            "[Succeeded / Failed / Skipped / Total] 0 / 2 / 1 / 3:  38%|███▊      | 3/8 [00:00<00:01,  4.60it/s]"
          ]
        },
        {
          "output_type": "stream",
          "name": "stdout",
          "text": [
            "--------------------------------------------- Result 1 ---------------------------------------------\n",
            "[[Positive (100%)]] --> [[[FAILED]]]\n",
            "\n",
            "lovingly photographed in the manner of a golden book sprung to life , stuart little 2 manages sweetness largely without stickiness .\n",
            "\n",
            "\n",
            "--------------------------------------------- Result 2 ---------------------------------------------\n",
            "[[Positive (100%)]] --> [[[FAILED]]]\n",
            "\n",
            "consistently clever and suspenseful .\n",
            "\n",
            "\n",
            "--------------------------------------------- Result 3 ---------------------------------------------\n",
            "[[Negative (85%)]] --> [[[SKIPPED]]]\n",
            "\n",
            "it's like a \" big chill \" reunion of the baader-meinhof gang , only these guys are more harmless pranksters than political activists .\n",
            "\n",
            "\n"
          ]
        },
        {
          "output_type": "stream",
          "name": "stderr",
          "text": [
            "[Succeeded / Failed / Skipped / Total] 0 / 4 / 2 / 6:  75%|███████▌  | 6/8 [00:01<00:00,  3.90it/s]"
          ]
        },
        {
          "output_type": "stream",
          "name": "stdout",
          "text": [
            "--------------------------------------------- Result 4 ---------------------------------------------\n",
            "[[Positive (100%)]] --> [[[FAILED]]]\n",
            "\n",
            "the story gives ample opportunity for large-scale action and suspense , which director shekhar kapur supplies with tremendous skill .\n",
            "\n",
            "\n",
            "--------------------------------------------- Result 5 ---------------------------------------------\n",
            "[[Positive (74%)]] --> [[[FAILED]]]\n",
            "\n",
            "red dragon \" never cuts corners .\n",
            "\n",
            "\n",
            "--------------------------------------------- Result 6 ---------------------------------------------\n",
            "[[Negative (64%)]] --> [[[SKIPPED]]]\n",
            "\n",
            "fresnadillo has something serious to say about the ways in which extravagant chance can distort our perspective and throw us off the path of good sense .\n",
            "\n",
            "\n"
          ]
        },
        {
          "output_type": "stream",
          "name": "stderr",
          "text": [
            "\r[Succeeded / Failed / Skipped / Total] 0 / 5 / 2 / 7:  88%|████████▊ | 7/8 [00:01<00:00,  3.74it/s]"
          ]
        },
        {
          "output_type": "stream",
          "name": "stdout",
          "text": [
            "--------------------------------------------- Result 7 ---------------------------------------------\n",
            "[[Positive (100%)]] --> [[[FAILED]]]\n",
            "\n",
            "throws in enough clever and unexpected twists to make the formula feel fresh .\n",
            "\n",
            "\n"
          ]
        },
        {
          "output_type": "stream",
          "name": "stderr",
          "text": [
            "[Succeeded / Failed / Skipped / Total] 0 / 6 / 2 / 8: 100%|██████████| 8/8 [00:02<00:00,  3.62it/s]"
          ]
        },
        {
          "output_type": "stream",
          "name": "stdout",
          "text": [
            "--------------------------------------------- Result 8 ---------------------------------------------\n",
            "[[Positive (97%)]] --> [[[FAILED]]]\n",
            "\n",
            "weighty and ponderous but every bit as filling as the treat of the title .\n",
            "\n",
            "\n",
            "\n",
            "+-------------------------------+-------+\n",
            "| Attack Results                |       |\n",
            "+-------------------------------+-------+\n",
            "| Number of successful attacks: | 0     |\n",
            "| Number of failed attacks:     | 6     |\n",
            "| Number of skipped attacks:    | 2     |\n",
            "| Original accuracy:            | 75.0% |\n",
            "| Accuracy under attack:        | 75.0% |\n",
            "| Attack success rate:          | 0.0%  |\n",
            "| Average perturbed word %:     | nan%  |\n",
            "| Average num. words per input: | 15.0  |\n",
            "| Avg num queries:              | 14.83 |\n",
            "+-------------------------------+-------+"
          ]
        },
        {
          "output_type": "stream",
          "name": "stderr",
          "text": [
            "\n",
            "textattack: Unknown if model of class <class 'transformers.models.albert.modeling_albert.AlbertForSequenceClassification'> compatible with goal function <class 'textattack.goal_functions.classification.targeted_classification.TargetedClassification'>.\n",
            "  0%|          | 0/8 [00:00<?, ?it/s]"
          ]
        },
        {
          "output_type": "stream",
          "name": "stdout",
          "text": [
            "\n",
            "Starting attack for----------------- WordSwapChangeNumber TC\n",
            "Attack(\n",
            "  (search_method): GreedyWordSwapWIR(\n",
            "    (wir_method):  weighted-saliency\n",
            "  )\n",
            "  (goal_function):  TargetedClassification(\n",
            "    (target_class):  0\n",
            "  )\n",
            "  (transformation):  WordSwapChangeNumber\n",
            "  (constraints): \n",
            "    (0): RepeatModification\n",
            "    (1): StopwordModification\n",
            "  (is_black_box):  True\n",
            ") \n",
            "\n"
          ]
        },
        {
          "output_type": "stream",
          "name": "stderr",
          "text": [
            "[Succeeded / Failed / Skipped / Total] 0 / 2 / 1 / 3:  38%|███▊      | 3/8 [00:00<00:00,  5.08it/s]"
          ]
        },
        {
          "output_type": "stream",
          "name": "stdout",
          "text": [
            "--------------------------------------------- Result 1 ---------------------------------------------\n",
            "[[Positive (100%)]] --> [[[FAILED]]]\n",
            "\n",
            "lovingly photographed in the manner of a golden book sprung to life , stuart little 2 manages sweetness largely without stickiness .\n",
            "\n",
            "\n",
            "--------------------------------------------- Result 2 ---------------------------------------------\n",
            "[[Positive (100%)]] --> [[[FAILED]]]\n",
            "\n",
            "consistently clever and suspenseful .\n",
            "\n",
            "\n",
            "--------------------------------------------- Result 3 ---------------------------------------------\n",
            "[[Negative (85%)]] --> [[[SKIPPED]]]\n",
            "\n",
            "it's like a \" big chill \" reunion of the baader-meinhof gang , only these guys are more harmless pranksters than political activists .\n",
            "\n",
            "\n"
          ]
        },
        {
          "output_type": "stream",
          "name": "stderr",
          "text": [
            "[Succeeded / Failed / Skipped / Total] 0 / 4 / 2 / 6:  75%|███████▌  | 6/8 [00:01<00:00,  5.12it/s]"
          ]
        },
        {
          "output_type": "stream",
          "name": "stdout",
          "text": [
            "--------------------------------------------- Result 4 ---------------------------------------------\n",
            "[[Positive (100%)]] --> [[[FAILED]]]\n",
            "\n",
            "the story gives ample opportunity for large-scale action and suspense , which director shekhar kapur supplies with tremendous skill .\n",
            "\n",
            "\n",
            "--------------------------------------------- Result 5 ---------------------------------------------\n",
            "[[Positive (74%)]] --> [[[FAILED]]]\n",
            "\n",
            "red dragon \" never cuts corners .\n",
            "\n",
            "\n",
            "--------------------------------------------- Result 6 ---------------------------------------------\n",
            "[[Negative (64%)]] --> [[[SKIPPED]]]\n",
            "\n",
            "fresnadillo has something serious to say about the ways in which extravagant chance can distort our perspective and throw us off the path of good sense .\n",
            "\n",
            "\n"
          ]
        },
        {
          "output_type": "stream",
          "name": "stderr",
          "text": [
            "\r[Succeeded / Failed / Skipped / Total] 0 / 5 / 2 / 7:  88%|████████▊ | 7/8 [00:01<00:00,  4.76it/s]"
          ]
        },
        {
          "output_type": "stream",
          "name": "stdout",
          "text": [
            "--------------------------------------------- Result 7 ---------------------------------------------\n",
            "[[Positive (100%)]] --> [[[FAILED]]]\n",
            "\n",
            "throws in enough clever and unexpected twists to make the formula feel fresh .\n",
            "\n",
            "\n"
          ]
        },
        {
          "output_type": "stream",
          "name": "stderr",
          "text": [
            "[Succeeded / Failed / Skipped / Total] 0 / 6 / 2 / 8: 100%|██████████| 8/8 [00:01<00:00,  4.48it/s]"
          ]
        },
        {
          "output_type": "stream",
          "name": "stdout",
          "text": [
            "--------------------------------------------- Result 8 ---------------------------------------------\n",
            "[[Positive (97%)]] --> [[[FAILED]]]\n",
            "\n",
            "weighty and ponderous but every bit as filling as the treat of the title .\n",
            "\n",
            "\n",
            "\n",
            "+-------------------------------+-------+\n",
            "| Attack Results                |       |\n",
            "+-------------------------------+-------+\n",
            "| Number of successful attacks: | 0     |\n",
            "| Number of failed attacks:     | 6     |\n",
            "| Number of skipped attacks:    | 2     |\n",
            "| Original accuracy:            | 75.0% |\n",
            "| Accuracy under attack:        | 75.0% |\n",
            "| Attack success rate:          | 0.0%  |\n",
            "| Average perturbed word %:     | nan%  |\n",
            "| Average num. words per input: | 15.0  |\n",
            "| Avg num queries:              | 13.33 |\n",
            "+-------------------------------+-------+"
          ]
        },
        {
          "output_type": "stream",
          "name": "stderr",
          "text": [
            "\n",
            "textattack: Unknown if model of class <class 'transformers.models.albert.modeling_albert.AlbertForSequenceClassification'> compatible with goal function <class 'textattack.goal_functions.classification.targeted_classification.TargetedClassification'>.\n",
            "  0%|          | 0/8 [00:00<?, ?it/s]"
          ]
        },
        {
          "output_type": "stream",
          "name": "stdout",
          "text": [
            "\n",
            "Starting attack for----------------- WordSwapChangeLocation TC\n",
            "Attack(\n",
            "  (search_method): GreedyWordSwapWIR(\n",
            "    (wir_method):  weighted-saliency\n",
            "  )\n",
            "  (goal_function):  TargetedClassification(\n",
            "    (target_class):  0\n",
            "  )\n",
            "  (transformation):  WordSwapChangeLocation\n",
            "  (constraints): \n",
            "    (0): RepeatModification\n",
            "    (1): StopwordModification\n",
            "  (is_black_box):  True\n",
            ") \n",
            "\n"
          ]
        },
        {
          "output_type": "stream",
          "name": "stderr",
          "text": [
            "[Succeeded / Failed / Skipped / Total] 0 / 2 / 1 / 3:  38%|███▊      | 3/8 [00:00<00:01,  4.60it/s]"
          ]
        },
        {
          "output_type": "stream",
          "name": "stdout",
          "text": [
            "--------------------------------------------- Result 1 ---------------------------------------------\n",
            "[[Positive (100%)]] --> [[[FAILED]]]\n",
            "\n",
            "lovingly photographed in the manner of a golden book sprung to life , stuart little 2 manages sweetness largely without stickiness .\n",
            "\n",
            "\n",
            "--------------------------------------------- Result 2 ---------------------------------------------\n",
            "[[Positive (100%)]] --> [[[FAILED]]]\n",
            "\n",
            "consistently clever and suspenseful .\n",
            "\n",
            "\n",
            "--------------------------------------------- Result 3 ---------------------------------------------\n",
            "[[Negative (85%)]] --> [[[SKIPPED]]]\n",
            "\n",
            "it's like a \" big chill \" reunion of the baader-meinhof gang , only these guys are more harmless pranksters than political activists .\n",
            "\n",
            "\n"
          ]
        },
        {
          "output_type": "stream",
          "name": "stderr",
          "text": [
            "[Succeeded / Failed / Skipped / Total] 0 / 4 / 2 / 6:  75%|███████▌  | 6/8 [00:01<00:00,  4.65it/s]"
          ]
        },
        {
          "output_type": "stream",
          "name": "stdout",
          "text": [
            "--------------------------------------------- Result 4 ---------------------------------------------\n",
            "[[Positive (100%)]] --> [[[FAILED]]]\n",
            "\n",
            "the story gives ample opportunity for large-scale action and suspense , which director shekhar kapur supplies with tremendous skill .\n",
            "\n",
            "\n",
            "--------------------------------------------- Result 5 ---------------------------------------------\n",
            "[[Positive (74%)]] --> [[[FAILED]]]\n",
            "\n",
            "red dragon \" never cuts corners .\n",
            "\n",
            "\n",
            "--------------------------------------------- Result 6 ---------------------------------------------\n",
            "[[Negative (64%)]] --> [[[SKIPPED]]]\n",
            "\n",
            "fresnadillo has something serious to say about the ways in which extravagant chance can distort our perspective and throw us off the path of good sense .\n",
            "\n",
            "\n"
          ]
        },
        {
          "output_type": "stream",
          "name": "stderr",
          "text": [
            "\r[Succeeded / Failed / Skipped / Total] 0 / 5 / 2 / 7:  88%|████████▊ | 7/8 [00:01<00:00,  4.32it/s]"
          ]
        },
        {
          "output_type": "stream",
          "name": "stdout",
          "text": [
            "--------------------------------------------- Result 7 ---------------------------------------------\n",
            "[[Positive (100%)]] --> [[[FAILED]]]\n",
            "\n",
            "throws in enough clever and unexpected twists to make the formula feel fresh .\n",
            "\n",
            "\n"
          ]
        },
        {
          "output_type": "stream",
          "name": "stderr",
          "text": [
            "[Succeeded / Failed / Skipped / Total] 0 / 6 / 2 / 8: 100%|██████████| 8/8 [00:01<00:00,  4.08it/s]"
          ]
        },
        {
          "output_type": "stream",
          "name": "stdout",
          "text": [
            "--------------------------------------------- Result 8 ---------------------------------------------\n",
            "[[Positive (97%)]] --> [[[FAILED]]]\n",
            "\n",
            "weighty and ponderous but every bit as filling as the treat of the title .\n",
            "\n",
            "\n",
            "\n",
            "+-------------------------------+-------+\n",
            "| Attack Results                |       |\n",
            "+-------------------------------+-------+\n",
            "| Number of successful attacks: | 0     |\n",
            "| Number of failed attacks:     | 6     |\n",
            "| Number of skipped attacks:    | 2     |\n",
            "| Original accuracy:            | 75.0% |\n",
            "| Accuracy under attack:        | 75.0% |\n",
            "| Attack success rate:          | 0.0%  |\n",
            "| Average perturbed word %:     | nan%  |\n",
            "| Average num. words per input: | 15.0  |\n",
            "| Avg num queries:              | 13.33 |\n",
            "+-------------------------------+-------+"
          ]
        },
        {
          "output_type": "stream",
          "name": "stderr",
          "text": [
            "\n"
          ]
        },
        {
          "output_type": "stream",
          "name": "stdout",
          "text": [
            "\n",
            "Starting attack for----------------- WordInsertionMaskedLM UTC\n"
          ]
        },
        {
          "output_type": "stream",
          "name": "stderr",
          "text": [
            "Some weights of the model checkpoint at bert-base-uncased were not used when initializing BertForMaskedLM: ['cls.seq_relationship.bias', 'cls.seq_relationship.weight']\n",
            "- This IS expected if you are initializing BertForMaskedLM from the checkpoint of a model trained on another task or with another architecture (e.g. initializing a BertForSequenceClassification model from a BertForPreTraining model).\n",
            "- This IS NOT expected if you are initializing BertForMaskedLM from the checkpoint of a model that you expect to be exactly identical (initializing a BertForSequenceClassification model from a BertForSequenceClassification model).\n",
            "textattack: Unknown if model of class <class 'transformers.models.albert.modeling_albert.AlbertForSequenceClassification'> compatible with goal function <class 'textattack.goal_functions.classification.untargeted_classification.UntargetedClassification'>.\n"
          ]
        },
        {
          "output_type": "stream",
          "name": "stdout",
          "text": [
            "Not compatible\n",
            "Starting attack for----------------- WordMergeMaskedLM UTC\n"
          ]
        },
        {
          "output_type": "stream",
          "name": "stderr",
          "text": [
            "Some weights of the model checkpoint at bert-base-uncased were not used when initializing BertForMaskedLM: ['cls.seq_relationship.bias', 'cls.seq_relationship.weight']\n",
            "- This IS expected if you are initializing BertForMaskedLM from the checkpoint of a model trained on another task or with another architecture (e.g. initializing a BertForSequenceClassification model from a BertForPreTraining model).\n",
            "- This IS NOT expected if you are initializing BertForMaskedLM from the checkpoint of a model that you expect to be exactly identical (initializing a BertForSequenceClassification model from a BertForSequenceClassification model).\n",
            "textattack: Unknown if model of class <class 'transformers.models.albert.modeling_albert.AlbertForSequenceClassification'> compatible with goal function <class 'textattack.goal_functions.classification.untargeted_classification.UntargetedClassification'>.\n",
            "textattack: Unknown if model of class <class 'transformers.models.albert.modeling_albert.AlbertForSequenceClassification'> compatible with goal function <class 'textattack.goal_functions.classification.untargeted_classification.UntargetedClassification'>.\n",
            "  0%|          | 0/8 [00:00<?, ?it/s]"
          ]
        },
        {
          "output_type": "stream",
          "name": "stdout",
          "text": [
            "Not compatible\n",
            "Starting attack for----------------- WordSwapExtend UTC\n",
            "Attack(\n",
            "  (search_method): GreedyWordSwapWIR(\n",
            "    (wir_method):  weighted-saliency\n",
            "  )\n",
            "  (goal_function):  UntargetedClassification\n",
            "  (transformation):  WordSwapExtend\n",
            "  (constraints): \n",
            "    (0): RepeatModification\n",
            "    (1): StopwordModification\n",
            "  (is_black_box):  True\n",
            ") \n",
            "\n"
          ]
        },
        {
          "output_type": "stream",
          "name": "stderr",
          "text": [
            "[Succeeded / Failed / Skipped / Total] 0 / 2 / 1 / 3:  38%|███▊      | 3/8 [00:00<00:00,  5.07it/s]"
          ]
        },
        {
          "output_type": "stream",
          "name": "stdout",
          "text": [
            "--------------------------------------------- Result 1 ---------------------------------------------\n",
            "[[Positive (100%)]] --> [[[FAILED]]]\n",
            "\n",
            "lovingly photographed in the manner of a golden book sprung to life , stuart little 2 manages sweetness largely without stickiness .\n",
            "\n",
            "\n",
            "--------------------------------------------- Result 2 ---------------------------------------------\n",
            "[[Positive (100%)]] --> [[[FAILED]]]\n",
            "\n",
            "consistently clever and suspenseful .\n",
            "\n",
            "\n",
            "--------------------------------------------- Result 3 ---------------------------------------------\n",
            "[[Negative (85%)]] --> [[[SKIPPED]]]\n",
            "\n",
            "it's like a \" big chill \" reunion of the baader-meinhof gang , only these guys are more harmless pranksters than political activists .\n",
            "\n",
            "\n"
          ]
        },
        {
          "output_type": "stream",
          "name": "stderr",
          "text": [
            "[Succeeded / Failed / Skipped / Total] 0 / 4 / 2 / 6:  75%|███████▌  | 6/8 [00:01<00:00,  5.12it/s]"
          ]
        },
        {
          "output_type": "stream",
          "name": "stdout",
          "text": [
            "--------------------------------------------- Result 4 ---------------------------------------------\n",
            "[[Positive (100%)]] --> [[[FAILED]]]\n",
            "\n",
            "the story gives ample opportunity for large-scale action and suspense , which director shekhar kapur supplies with tremendous skill .\n",
            "\n",
            "\n",
            "--------------------------------------------- Result 5 ---------------------------------------------\n",
            "[[Positive (74%)]] --> [[[FAILED]]]\n",
            "\n",
            "red dragon \" never cuts corners .\n",
            "\n",
            "\n",
            "--------------------------------------------- Result 6 ---------------------------------------------\n",
            "[[Negative (64%)]] --> [[[SKIPPED]]]\n",
            "\n",
            "fresnadillo has something serious to say about the ways in which extravagant chance can distort our perspective and throw us off the path of good sense .\n",
            "\n",
            "\n"
          ]
        },
        {
          "output_type": "stream",
          "name": "stderr",
          "text": [
            "\r[Succeeded / Failed / Skipped / Total] 0 / 5 / 2 / 7:  88%|████████▊ | 7/8 [00:01<00:00,  4.76it/s]"
          ]
        },
        {
          "output_type": "stream",
          "name": "stdout",
          "text": [
            "--------------------------------------------- Result 7 ---------------------------------------------\n",
            "[[Positive (100%)]] --> [[[FAILED]]]\n",
            "\n",
            "throws in enough clever and unexpected twists to make the formula feel fresh .\n",
            "\n",
            "\n"
          ]
        },
        {
          "output_type": "stream",
          "name": "stderr",
          "text": [
            "[Succeeded / Failed / Skipped / Total] 0 / 6 / 2 / 8: 100%|██████████| 8/8 [00:01<00:00,  4.49it/s]"
          ]
        },
        {
          "output_type": "stream",
          "name": "stdout",
          "text": [
            "--------------------------------------------- Result 8 ---------------------------------------------\n",
            "[[Positive (97%)]] --> [[[FAILED]]]\n",
            "\n",
            "weighty and ponderous but every bit as filling as the treat of the title .\n",
            "\n",
            "\n",
            "\n",
            "+-------------------------------+-------+\n",
            "| Attack Results                |       |\n",
            "+-------------------------------+-------+\n",
            "| Number of successful attacks: | 0     |\n",
            "| Number of failed attacks:     | 6     |\n",
            "| Number of skipped attacks:    | 2     |\n",
            "| Original accuracy:            | 75.0% |\n",
            "| Accuracy under attack:        | 75.0% |\n",
            "| Attack success rate:          | 0.0%  |\n",
            "| Average perturbed word %:     | nan%  |\n",
            "| Average num. words per input: | 15.0  |\n",
            "| Avg num queries:              | 13.33 |\n",
            "+-------------------------------+-------+"
          ]
        },
        {
          "output_type": "stream",
          "name": "stderr",
          "text": [
            "\n",
            "textattack: Unknown if model of class <class 'transformers.models.albert.modeling_albert.AlbertForSequenceClassification'> compatible with goal function <class 'textattack.goal_functions.classification.untargeted_classification.UntargetedClassification'>.\n",
            "  0%|          | 0/8 [00:00<?, ?it/s]"
          ]
        },
        {
          "output_type": "stream",
          "name": "stdout",
          "text": [
            "\n",
            "Starting attack for----------------- WordSwapContract UTC\n",
            "Attack(\n",
            "  (search_method): GreedyWordSwapWIR(\n",
            "    (wir_method):  weighted-saliency\n",
            "  )\n",
            "  (goal_function):  UntargetedClassification\n",
            "  (transformation):  WordSwapContract\n",
            "  (constraints): \n",
            "    (0): RepeatModification\n",
            "    (1): StopwordModification\n",
            "  (is_black_box):  True\n",
            ") \n",
            "\n"
          ]
        },
        {
          "output_type": "stream",
          "name": "stderr",
          "text": [
            "[Succeeded / Failed / Skipped / Total] 0 / 2 / 1 / 3:  38%|███▊      | 3/8 [00:00<00:00,  5.04it/s]"
          ]
        },
        {
          "output_type": "stream",
          "name": "stdout",
          "text": [
            "--------------------------------------------- Result 1 ---------------------------------------------\n",
            "[[Positive (100%)]] --> [[[FAILED]]]\n",
            "\n",
            "lovingly photographed in the manner of a golden book sprung to life , stuart little 2 manages sweetness largely without stickiness .\n",
            "\n",
            "\n",
            "--------------------------------------------- Result 2 ---------------------------------------------\n",
            "[[Positive (100%)]] --> [[[FAILED]]]\n",
            "\n",
            "consistently clever and suspenseful .\n",
            "\n",
            "\n",
            "--------------------------------------------- Result 3 ---------------------------------------------\n",
            "[[Negative (85%)]] --> [[[SKIPPED]]]\n",
            "\n",
            "it's like a \" big chill \" reunion of the baader-meinhof gang , only these guys are more harmless pranksters than political activists .\n",
            "\n",
            "\n"
          ]
        },
        {
          "output_type": "stream",
          "name": "stderr",
          "text": [
            "[Succeeded / Failed / Skipped / Total] 0 / 4 / 2 / 6:  75%|███████▌  | 6/8 [00:01<00:00,  5.09it/s]"
          ]
        },
        {
          "output_type": "stream",
          "name": "stdout",
          "text": [
            "--------------------------------------------- Result 4 ---------------------------------------------\n",
            "[[Positive (100%)]] --> [[[FAILED]]]\n",
            "\n",
            "the story gives ample opportunity for large-scale action and suspense , which director shekhar kapur supplies with tremendous skill .\n",
            "\n",
            "\n",
            "--------------------------------------------- Result 5 ---------------------------------------------\n",
            "[[Positive (74%)]] --> [[[FAILED]]]\n",
            "\n",
            "red dragon \" never cuts corners .\n",
            "\n",
            "\n",
            "--------------------------------------------- Result 6 ---------------------------------------------\n",
            "[[Negative (64%)]] --> [[[SKIPPED]]]\n",
            "\n",
            "fresnadillo has something serious to say about the ways in which extravagant chance can distort our perspective and throw us off the path of good sense .\n",
            "\n",
            "\n"
          ]
        },
        {
          "output_type": "stream",
          "name": "stderr",
          "text": [
            "\r[Succeeded / Failed / Skipped / Total] 0 / 5 / 2 / 7:  88%|████████▊ | 7/8 [00:01<00:00,  4.74it/s]"
          ]
        },
        {
          "output_type": "stream",
          "name": "stdout",
          "text": [
            "--------------------------------------------- Result 7 ---------------------------------------------\n",
            "[[Positive (100%)]] --> [[[FAILED]]]\n",
            "\n",
            "throws in enough clever and unexpected twists to make the formula feel fresh .\n",
            "\n",
            "\n"
          ]
        },
        {
          "output_type": "stream",
          "name": "stderr",
          "text": [
            "[Succeeded / Failed / Skipped / Total] 0 / 6 / 2 / 8: 100%|██████████| 8/8 [00:01<00:00,  4.47it/s]"
          ]
        },
        {
          "output_type": "stream",
          "name": "stdout",
          "text": [
            "--------------------------------------------- Result 8 ---------------------------------------------\n",
            "[[Positive (97%)]] --> [[[FAILED]]]\n",
            "\n",
            "weighty and ponderous but every bit as filling as the treat of the title .\n",
            "\n",
            "\n",
            "\n",
            "+-------------------------------+-------+\n",
            "| Attack Results                |       |\n",
            "+-------------------------------+-------+\n",
            "| Number of successful attacks: | 0     |\n",
            "| Number of failed attacks:     | 6     |\n",
            "| Number of skipped attacks:    | 2     |\n",
            "| Original accuracy:            | 75.0% |\n",
            "| Accuracy under attack:        | 75.0% |\n",
            "| Attack success rate:          | 0.0%  |\n",
            "| Average perturbed word %:     | nan%  |\n",
            "| Average num. words per input: | 15.0  |\n",
            "| Avg num queries:              | 13.33 |\n",
            "+-------------------------------+-------+"
          ]
        },
        {
          "output_type": "stream",
          "name": "stderr",
          "text": [
            "\n",
            "textattack: Unknown if model of class <class 'transformers.models.albert.modeling_albert.AlbertForSequenceClassification'> compatible with goal function <class 'textattack.goal_functions.classification.untargeted_classification.UntargetedClassification'>.\n",
            "  0%|          | 0/8 [00:00<?, ?it/s]"
          ]
        },
        {
          "output_type": "stream",
          "name": "stdout",
          "text": [
            "\n",
            "Starting attack for----------------- WordSwapChangeName UTC\n",
            "Attack(\n",
            "  (search_method): GreedyWordSwapWIR(\n",
            "    (wir_method):  weighted-saliency\n",
            "  )\n",
            "  (goal_function):  UntargetedClassification\n",
            "  (transformation):  WordSwapChangeName\n",
            "  (constraints): \n",
            "    (0): RepeatModification\n",
            "    (1): StopwordModification\n",
            "  (is_black_box):  True\n",
            ") \n",
            "\n"
          ]
        },
        {
          "output_type": "stream",
          "name": "stderr",
          "text": [
            "[Succeeded / Failed / Skipped / Total] 0 / 2 / 1 / 3:  38%|███▊      | 3/8 [00:00<00:01,  4.58it/s]"
          ]
        },
        {
          "output_type": "stream",
          "name": "stdout",
          "text": [
            "--------------------------------------------- Result 1 ---------------------------------------------\n",
            "[[Positive (100%)]] --> [[[FAILED]]]\n",
            "\n",
            "lovingly photographed in the manner of a golden book sprung to life , stuart little 2 manages sweetness largely without stickiness .\n",
            "\n",
            "\n",
            "--------------------------------------------- Result 2 ---------------------------------------------\n",
            "[[Positive (100%)]] --> [[[FAILED]]]\n",
            "\n",
            "consistently clever and suspenseful .\n",
            "\n",
            "\n",
            "--------------------------------------------- Result 3 ---------------------------------------------\n",
            "[[Negative (85%)]] --> [[[SKIPPED]]]\n",
            "\n",
            "it's like a \" big chill \" reunion of the baader-meinhof gang , only these guys are more harmless pranksters than political activists .\n",
            "\n",
            "\n"
          ]
        },
        {
          "output_type": "stream",
          "name": "stderr",
          "text": [
            "[Succeeded / Failed / Skipped / Total] 0 / 4 / 2 / 6:  75%|███████▌  | 6/8 [00:01<00:00,  3.89it/s]"
          ]
        },
        {
          "output_type": "stream",
          "name": "stdout",
          "text": [
            "--------------------------------------------- Result 4 ---------------------------------------------\n",
            "[[Positive (100%)]] --> [[[FAILED]]]\n",
            "\n",
            "the story gives ample opportunity for large-scale action and suspense , which director shekhar kapur supplies with tremendous skill .\n",
            "\n",
            "\n",
            "--------------------------------------------- Result 5 ---------------------------------------------\n",
            "[[Positive (74%)]] --> [[[FAILED]]]\n",
            "\n",
            "red dragon \" never cuts corners .\n",
            "\n",
            "\n",
            "--------------------------------------------- Result 6 ---------------------------------------------\n",
            "[[Negative (64%)]] --> [[[SKIPPED]]]\n",
            "\n",
            "fresnadillo has something serious to say about the ways in which extravagant chance can distort our perspective and throw us off the path of good sense .\n",
            "\n",
            "\n"
          ]
        },
        {
          "output_type": "stream",
          "name": "stderr",
          "text": [
            "\r[Succeeded / Failed / Skipped / Total] 0 / 5 / 2 / 7:  88%|████████▊ | 7/8 [00:01<00:00,  3.75it/s]"
          ]
        },
        {
          "output_type": "stream",
          "name": "stdout",
          "text": [
            "--------------------------------------------- Result 7 ---------------------------------------------\n",
            "[[Positive (100%)]] --> [[[FAILED]]]\n",
            "\n",
            "throws in enough clever and unexpected twists to make the formula feel fresh .\n",
            "\n",
            "\n"
          ]
        },
        {
          "output_type": "stream",
          "name": "stderr",
          "text": [
            "[Succeeded / Failed / Skipped / Total] 0 / 6 / 2 / 8: 100%|██████████| 8/8 [00:02<00:00,  3.62it/s]"
          ]
        },
        {
          "output_type": "stream",
          "name": "stdout",
          "text": [
            "--------------------------------------------- Result 8 ---------------------------------------------\n",
            "[[Positive (97%)]] --> [[[FAILED]]]\n",
            "\n",
            "weighty and ponderous but every bit as filling as the treat of the title .\n",
            "\n",
            "\n",
            "\n",
            "+-------------------------------+-------+\n",
            "| Attack Results                |       |\n",
            "+-------------------------------+-------+\n",
            "| Number of successful attacks: | 0     |\n",
            "| Number of failed attacks:     | 6     |\n",
            "| Number of skipped attacks:    | 2     |\n",
            "| Original accuracy:            | 75.0% |\n",
            "| Accuracy under attack:        | 75.0% |\n",
            "| Attack success rate:          | 0.0%  |\n",
            "| Average perturbed word %:     | nan%  |\n",
            "| Average num. words per input: | 15.0  |\n",
            "| Avg num queries:              | 14.83 |\n",
            "+-------------------------------+-------+"
          ]
        },
        {
          "output_type": "stream",
          "name": "stderr",
          "text": [
            "\n",
            "textattack: Unknown if model of class <class 'transformers.models.albert.modeling_albert.AlbertForSequenceClassification'> compatible with goal function <class 'textattack.goal_functions.classification.untargeted_classification.UntargetedClassification'>.\n",
            "  0%|          | 0/8 [00:00<?, ?it/s]"
          ]
        },
        {
          "output_type": "stream",
          "name": "stdout",
          "text": [
            "\n",
            "Starting attack for----------------- WordSwapChangeNumber UTC\n",
            "Attack(\n",
            "  (search_method): GreedyWordSwapWIR(\n",
            "    (wir_method):  weighted-saliency\n",
            "  )\n",
            "  (goal_function):  UntargetedClassification\n",
            "  (transformation):  WordSwapChangeNumber\n",
            "  (constraints): \n",
            "    (0): RepeatModification\n",
            "    (1): StopwordModification\n",
            "  (is_black_box):  True\n",
            ") \n",
            "\n"
          ]
        },
        {
          "output_type": "stream",
          "name": "stderr",
          "text": [
            "[Succeeded / Failed / Skipped / Total] 0 / 2 / 1 / 3:  38%|███▊      | 3/8 [00:00<00:00,  5.01it/s]"
          ]
        },
        {
          "output_type": "stream",
          "name": "stdout",
          "text": [
            "--------------------------------------------- Result 1 ---------------------------------------------\n",
            "[[Positive (100%)]] --> [[[FAILED]]]\n",
            "\n",
            "lovingly photographed in the manner of a golden book sprung to life , stuart little 2 manages sweetness largely without stickiness .\n",
            "\n",
            "\n",
            "--------------------------------------------- Result 2 ---------------------------------------------\n",
            "[[Positive (100%)]] --> [[[FAILED]]]\n",
            "\n",
            "consistently clever and suspenseful .\n",
            "\n",
            "\n",
            "--------------------------------------------- Result 3 ---------------------------------------------\n",
            "[[Negative (85%)]] --> [[[SKIPPED]]]\n",
            "\n",
            "it's like a \" big chill \" reunion of the baader-meinhof gang , only these guys are more harmless pranksters than political activists .\n",
            "\n",
            "\n"
          ]
        },
        {
          "output_type": "stream",
          "name": "stderr",
          "text": [
            "[Succeeded / Failed / Skipped / Total] 0 / 4 / 2 / 6:  75%|███████▌  | 6/8 [00:01<00:00,  5.09it/s]"
          ]
        },
        {
          "output_type": "stream",
          "name": "stdout",
          "text": [
            "--------------------------------------------- Result 4 ---------------------------------------------\n",
            "[[Positive (100%)]] --> [[[FAILED]]]\n",
            "\n",
            "the story gives ample opportunity for large-scale action and suspense , which director shekhar kapur supplies with tremendous skill .\n",
            "\n",
            "\n",
            "--------------------------------------------- Result 5 ---------------------------------------------\n",
            "[[Positive (74%)]] --> [[[FAILED]]]\n",
            "\n",
            "red dragon \" never cuts corners .\n",
            "\n",
            "\n",
            "--------------------------------------------- Result 6 ---------------------------------------------\n",
            "[[Negative (64%)]] --> [[[SKIPPED]]]\n",
            "\n",
            "fresnadillo has something serious to say about the ways in which extravagant chance can distort our perspective and throw us off the path of good sense .\n",
            "\n",
            "\n"
          ]
        },
        {
          "output_type": "stream",
          "name": "stderr",
          "text": [
            "\r[Succeeded / Failed / Skipped / Total] 0 / 5 / 2 / 7:  88%|████████▊ | 7/8 [00:01<00:00,  4.73it/s]"
          ]
        },
        {
          "output_type": "stream",
          "name": "stdout",
          "text": [
            "--------------------------------------------- Result 7 ---------------------------------------------\n",
            "[[Positive (100%)]] --> [[[FAILED]]]\n",
            "\n",
            "throws in enough clever and unexpected twists to make the formula feel fresh .\n",
            "\n",
            "\n"
          ]
        },
        {
          "output_type": "stream",
          "name": "stderr",
          "text": [
            "[Succeeded / Failed / Skipped / Total] 0 / 6 / 2 / 8: 100%|██████████| 8/8 [00:01<00:00,  4.46it/s]"
          ]
        },
        {
          "output_type": "stream",
          "name": "stdout",
          "text": [
            "--------------------------------------------- Result 8 ---------------------------------------------\n",
            "[[Positive (97%)]] --> [[[FAILED]]]\n",
            "\n",
            "weighty and ponderous but every bit as filling as the treat of the title .\n",
            "\n",
            "\n",
            "\n",
            "+-------------------------------+-------+\n",
            "| Attack Results                |       |\n",
            "+-------------------------------+-------+\n",
            "| Number of successful attacks: | 0     |\n",
            "| Number of failed attacks:     | 6     |\n",
            "| Number of skipped attacks:    | 2     |\n",
            "| Original accuracy:            | 75.0% |\n",
            "| Accuracy under attack:        | 75.0% |\n",
            "| Attack success rate:          | 0.0%  |\n",
            "| Average perturbed word %:     | nan%  |\n",
            "| Average num. words per input: | 15.0  |\n",
            "| Avg num queries:              | 13.33 |\n",
            "+-------------------------------+-------+"
          ]
        },
        {
          "output_type": "stream",
          "name": "stderr",
          "text": [
            "\n",
            "textattack: Unknown if model of class <class 'transformers.models.albert.modeling_albert.AlbertForSequenceClassification'> compatible with goal function <class 'textattack.goal_functions.classification.untargeted_classification.UntargetedClassification'>.\n",
            "  0%|          | 0/8 [00:00<?, ?it/s]"
          ]
        },
        {
          "output_type": "stream",
          "name": "stdout",
          "text": [
            "\n",
            "Starting attack for----------------- WordSwapChangeLocation UTC\n",
            "Attack(\n",
            "  (search_method): GreedyWordSwapWIR(\n",
            "    (wir_method):  weighted-saliency\n",
            "  )\n",
            "  (goal_function):  UntargetedClassification\n",
            "  (transformation):  WordSwapChangeLocation\n",
            "  (constraints): \n",
            "    (0): RepeatModification\n",
            "    (1): StopwordModification\n",
            "  (is_black_box):  True\n",
            ") \n",
            "\n"
          ]
        },
        {
          "output_type": "stream",
          "name": "stderr",
          "text": [
            "[Succeeded / Failed / Skipped / Total] 0 / 2 / 1 / 3:  38%|███▊      | 3/8 [00:00<00:01,  4.21it/s]"
          ]
        },
        {
          "output_type": "stream",
          "name": "stdout",
          "text": [
            "--------------------------------------------- Result 1 ---------------------------------------------\n",
            "[[Positive (100%)]] --> [[[FAILED]]]\n",
            "\n",
            "lovingly photographed in the manner of a golden book sprung to life , stuart little 2 manages sweetness largely without stickiness .\n",
            "\n",
            "\n",
            "--------------------------------------------- Result 2 ---------------------------------------------\n",
            "[[Positive (100%)]] --> [[[FAILED]]]\n",
            "\n",
            "consistently clever and suspenseful .\n",
            "\n",
            "\n",
            "--------------------------------------------- Result 3 ---------------------------------------------\n",
            "[[Negative (85%)]] --> [[[SKIPPED]]]\n",
            "\n",
            "it's like a \" big chill \" reunion of the baader-meinhof gang , only these guys are more harmless pranksters than political activists .\n",
            "\n",
            "\n"
          ]
        },
        {
          "output_type": "stream",
          "name": "stderr",
          "text": [
            "[Succeeded / Failed / Skipped / Total] 0 / 4 / 2 / 6:  75%|███████▌  | 6/8 [00:01<00:00,  4.44it/s]"
          ]
        },
        {
          "output_type": "stream",
          "name": "stdout",
          "text": [
            "--------------------------------------------- Result 4 ---------------------------------------------\n",
            "[[Positive (100%)]] --> [[[FAILED]]]\n",
            "\n",
            "the story gives ample opportunity for large-scale action and suspense , which director shekhar kapur supplies with tremendous skill .\n",
            "\n",
            "\n",
            "--------------------------------------------- Result 5 ---------------------------------------------\n",
            "[[Positive (74%)]] --> [[[FAILED]]]\n",
            "\n",
            "red dragon \" never cuts corners .\n",
            "\n",
            "\n",
            "--------------------------------------------- Result 6 ---------------------------------------------\n",
            "[[Negative (64%)]] --> [[[SKIPPED]]]\n",
            "\n",
            "fresnadillo has something serious to say about the ways in which extravagant chance can distort our perspective and throw us off the path of good sense .\n",
            "\n",
            "\n"
          ]
        },
        {
          "output_type": "stream",
          "name": "stderr",
          "text": [
            "\r[Succeeded / Failed / Skipped / Total] 0 / 5 / 2 / 7:  88%|████████▊ | 7/8 [00:01<00:00,  4.17it/s]"
          ]
        },
        {
          "output_type": "stream",
          "name": "stdout",
          "text": [
            "--------------------------------------------- Result 7 ---------------------------------------------\n",
            "[[Positive (100%)]] --> [[[FAILED]]]\n",
            "\n",
            "throws in enough clever and unexpected twists to make the formula feel fresh .\n",
            "\n",
            "\n"
          ]
        },
        {
          "output_type": "stream",
          "name": "stderr",
          "text": [
            "[Succeeded / Failed / Skipped / Total] 0 / 6 / 2 / 8: 100%|██████████| 8/8 [00:02<00:00,  3.95it/s]"
          ]
        },
        {
          "output_type": "stream",
          "name": "stdout",
          "text": [
            "--------------------------------------------- Result 8 ---------------------------------------------\n",
            "[[Positive (97%)]] --> [[[FAILED]]]\n",
            "\n",
            "weighty and ponderous but every bit as filling as the treat of the title .\n",
            "\n",
            "\n",
            "\n",
            "+-------------------------------+-------+\n",
            "| Attack Results                |       |\n",
            "+-------------------------------+-------+\n",
            "| Number of successful attacks: | 0     |\n",
            "| Number of failed attacks:     | 6     |\n",
            "| Number of skipped attacks:    | 2     |\n",
            "| Original accuracy:            | 75.0% |\n",
            "| Accuracy under attack:        | 75.0% |\n",
            "| Attack success rate:          | 0.0%  |\n",
            "| Average perturbed word %:     | nan%  |\n",
            "| Average num. words per input: | 15.0  |\n",
            "| Avg num queries:              | 13.33 |\n",
            "+-------------------------------+-------+\n"
          ]
        },
        {
          "output_type": "stream",
          "name": "stderr",
          "text": [
            "\n"
          ]
        }
      ]
    },
    {
      "cell_type": "code",
      "source": [
        "transf_list = ['WordSwapWordNet','WordSwapHomoglyphSwap','WordSwapNeighboringCharacterSwap',\n",
        "               'WordSwapRandomCharacterDeletion','WordSwapEmbedding',\n",
        "               'WordSwapHowNet','WordDeletion','WordMergeMaskedLM',\n",
        "               'WordSwapRandomCharacterSubstitution','WordSwapMaskedLM',\n",
        "               'WordInsertionMaskedLM','WordMergeMaskedLM']\n",
        "gf_list = ['IR','TC','UTC']\n",
        "              \n",
        "for gf in gf_list:         \n",
        "    for transf in transf_list:\n",
        "        print(\"Starting attack for-----------------\",transf,gf)\n",
        "        try:\n",
        "            attack = Recipe.build(model_wrapper,transf,gf)\n",
        "            attack_args = AttackArgs(num_examples=100,)\n",
        "            attacker = Attacker(attack, dataset,attack_args)\n",
        "            attack_results = attacker.attack_dataset()\n",
        "        except ValueError:\n",
        "            print(\"Not compatible\")\n",
        "            pass\n",
        "        except KeyError:\n",
        "            print(\"Key Error\")\n",
        "            pass"
      ],
      "metadata": {
        "colab": {
          "base_uri": "https://localhost:8080/",
          "height": 1000
        },
        "outputId": "5dce6b1c-44e0-4a1a-beb6-10182b7e5ed3",
        "id": "hgJsW-aPP86R"
      },
      "execution_count": 8,
      "outputs": [
        {
          "output_type": "stream",
          "name": "stderr",
          "text": [
            "textattack: Unknown if model of class <class 'transformers.models.albert.modeling_albert.AlbertForSequenceClassification'> compatible with goal function <class 'textattack.goal_functions.classification.input_reduction.InputReduction'>.\n",
            "\n",
            "  0%|          | 0/100 [00:00<?, ?it/s]\u001b[A"
          ]
        },
        {
          "output_type": "stream",
          "name": "stdout",
          "text": [
            "Starting attack for----------------- WordSwapWordNet IR\n",
            "Attack(\n",
            "  (search_method): GreedyWordSwapWIR(\n",
            "    (wir_method):  weighted-saliency\n",
            "  )\n",
            "  (goal_function):  InputReduction(\n",
            "    (maximizable):  False\n",
            "    (target_num_words):  1\n",
            "  )\n",
            "  (transformation):  WordSwapWordNet\n",
            "  (constraints): \n",
            "    (0): RepeatModification\n",
            "    (1): StopwordModification\n",
            "  (is_black_box):  True\n",
            ") \n",
            "\n"
          ]
        },
        {
          "output_type": "stream",
          "name": "stderr",
          "text": [
            "\n",
            "  1%|          | 1/100 [00:04<07:23,  4.48s/it]\u001b[A\n",
            "[Succeeded / Failed / Skipped / Total] 0 / 1 / 0 / 1:   1%|          | 1/100 [00:04<07:24,  4.49s/it]\u001b[A"
          ]
        },
        {
          "output_type": "stream",
          "name": "stdout",
          "text": [
            "--------------------------------------------- Result 1 ---------------------------------------------\n",
            "[[Positive (100%)]] --> [[[FAILED]]]\n",
            "\n",
            "lovingly photographed in the manner of a golden book sprung to life , stuart little 2 manages sweetness largely without stickiness .\n",
            "\n",
            "\n"
          ]
        },
        {
          "output_type": "stream",
          "name": "stderr",
          "text": [
            "\n",
            "[Succeeded / Failed / Skipped / Total] 0 / 1 / 0 / 1:   2%|▏         | 2/100 [00:04<03:57,  2.42s/it]\u001b[A\n",
            "[Succeeded / Failed / Skipped / Total] 0 / 2 / 0 / 2:   2%|▏         | 2/100 [00:04<03:57,  2.42s/it]\u001b[A\n",
            "[Succeeded / Failed / Skipped / Total] 0 / 2 / 1 / 3:   3%|▎         | 3/100 [00:04<02:37,  1.63s/it]\u001b[A"
          ]
        },
        {
          "output_type": "stream",
          "name": "stdout",
          "text": [
            "--------------------------------------------- Result 2 ---------------------------------------------\n",
            "[[Positive (100%)]] --> [[[FAILED]]]\n",
            "\n",
            "consistently clever and suspenseful .\n",
            "\n",
            "\n",
            "--------------------------------------------- Result 3 ---------------------------------------------\n",
            "[[Negative (85%)]] --> [[[SKIPPED]]]\n",
            "\n",
            "it's like a \" big chill \" reunion of the baader-meinhof gang , only these guys are more harmless pranksters than political activists .\n",
            "\n",
            "\n"
          ]
        },
        {
          "output_type": "stream",
          "name": "stderr",
          "text": [
            "\n",
            "[Succeeded / Failed / Skipped / Total] 0 / 2 / 1 / 3:   4%|▍         | 4/100 [00:09<03:40,  2.30s/it]\u001b[A\n",
            "[Succeeded / Failed / Skipped / Total] 0 / 3 / 1 / 4:   4%|▍         | 4/100 [00:09<03:40,  2.30s/it]\u001b[A"
          ]
        },
        {
          "output_type": "stream",
          "name": "stdout",
          "text": [
            "--------------------------------------------- Result 4 ---------------------------------------------\n",
            "[[Positive (100%)]] --> [[[FAILED]]]\n",
            "\n",
            "the story gives ample opportunity for large-scale action and suspense , which director shekhar kapur supplies with tremendous skill .\n",
            "\n",
            "\n"
          ]
        },
        {
          "output_type": "stream",
          "name": "stderr",
          "text": [
            "\n",
            "[Succeeded / Failed / Skipped / Total] 0 / 4 / 1 / 5:   5%|▌         | 5/100 [00:11<03:41,  2.33s/it]\u001b[A\n",
            "[Succeeded / Failed / Skipped / Total] 0 / 4 / 1 / 5:   6%|▌         | 6/100 [00:11<03:02,  1.94s/it]\u001b[A\n",
            "[Succeeded / Failed / Skipped / Total] 0 / 4 / 2 / 6:   6%|▌         | 6/100 [00:11<03:02,  1.95s/it]\u001b[A"
          ]
        },
        {
          "output_type": "stream",
          "name": "stdout",
          "text": [
            "--------------------------------------------- Result 5 ---------------------------------------------\n",
            "[[Positive (74%)]] --> [[[FAILED]]]\n",
            "\n",
            "red dragon \" never cuts corners .\n",
            "\n",
            "\n",
            "--------------------------------------------- Result 6 ---------------------------------------------\n",
            "[[Negative (64%)]] --> [[[SKIPPED]]]\n",
            "\n",
            "fresnadillo has something serious to say about the ways in which extravagant chance can distort our perspective and throw us off the path of good sense .\n",
            "\n",
            "\n"
          ]
        },
        {
          "output_type": "stream",
          "name": "stderr",
          "text": [
            "\n",
            "[Succeeded / Failed / Skipped / Total] 0 / 5 / 2 / 7:   7%|▋         | 7/100 [00:18<04:02,  2.61s/it]\u001b[A"
          ]
        },
        {
          "output_type": "stream",
          "name": "stdout",
          "text": [
            "--------------------------------------------- Result 7 ---------------------------------------------\n",
            "[[Positive (100%)]] --> [[[FAILED]]]\n",
            "\n",
            "throws in enough clever and unexpected twists to make the formula feel fresh .\n",
            "\n",
            "\n"
          ]
        },
        {
          "output_type": "stream",
          "name": "stderr",
          "text": [
            "\n",
            "[Succeeded / Failed / Skipped / Total] 0 / 5 / 2 / 7:   8%|▊         | 8/100 [00:20<03:57,  2.59s/it]\u001b[A\n",
            "[Succeeded / Failed / Skipped / Total] 0 / 6 / 2 / 8:   8%|▊         | 8/100 [00:20<03:57,  2.59s/it]\u001b[A"
          ]
        },
        {
          "output_type": "stream",
          "name": "stdout",
          "text": [
            "--------------------------------------------- Result 8 ---------------------------------------------\n",
            "[[Positive (97%)]] --> [[[FAILED]]]\n",
            "\n",
            "weighty and ponderous but every bit as filling as the treat of the title .\n",
            "\n",
            "\n"
          ]
        },
        {
          "output_type": "stream",
          "name": "stderr",
          "text": [
            "\n",
            "[Succeeded / Failed / Skipped / Total] 0 / 7 / 2 / 9:   9%|▉         | 9/100 [00:25<04:14,  2.79s/it]\u001b[A"
          ]
        },
        {
          "output_type": "stream",
          "name": "stdout",
          "text": [
            "--------------------------------------------- Result 9 ---------------------------------------------\n",
            "[[Positive (100%)]] --> [[[FAILED]]]\n",
            "\n",
            "a real audience-pleaser that will strike a chord with anyone who's ever waited in a doctor's office , emergency room , hospital bed or insurance company office .\n",
            "\n",
            "\n"
          ]
        },
        {
          "output_type": "stream",
          "name": "stderr",
          "text": [
            "\n",
            "[Succeeded / Failed / Skipped / Total] 0 / 7 / 2 / 9:  10%|█         | 10/100 [00:26<04:01,  2.69s/it]\u001b[A\n",
            "[Succeeded / Failed / Skipped / Total] 0 / 8 / 2 / 10:  10%|█         | 10/100 [00:26<04:01,  2.69s/it]\u001b[A"
          ]
        },
        {
          "output_type": "stream",
          "name": "stdout",
          "text": [
            "--------------------------------------------- Result 10 ---------------------------------------------\n",
            "[[Positive (100%)]] --> [[[FAILED]]]\n",
            "\n",
            "generates an enormous feeling of empathy for its characters .\n",
            "\n",
            "\n"
          ]
        },
        {
          "output_type": "stream",
          "name": "stderr",
          "text": [
            "\n",
            "[Succeeded / Failed / Skipped / Total] 0 / 9 / 2 / 11:  11%|█         | 11/100 [00:30<04:06,  2.77s/it]\u001b[A\n",
            "[Succeeded / Failed / Skipped / Total] 0 / 9 / 2 / 11:  12%|█▏        | 12/100 [00:30<03:43,  2.54s/it]\u001b[A\n",
            "[Succeeded / Failed / Skipped / Total] 0 / 9 / 3 / 12:  12%|█▏        | 12/100 [00:30<03:43,  2.54s/it]\u001b[A"
          ]
        },
        {
          "output_type": "stream",
          "name": "stdout",
          "text": [
            "--------------------------------------------- Result 11 ---------------------------------------------\n",
            "[[Positive (99%)]] --> [[[FAILED]]]\n",
            "\n",
            "exposing the ways we fool ourselves is one hour photo's real strength .\n",
            "\n",
            "\n",
            "--------------------------------------------- Result 12 ---------------------------------------------\n",
            "[[Negative (77%)]] --> [[[SKIPPED]]]\n",
            "\n",
            "it's up to you to decide whether to admire these people's dedication to their cause or be repelled by their dogmatism , manipulativeness and narrow , fearful view of american life .\n",
            "\n",
            "\n"
          ]
        },
        {
          "output_type": "stream",
          "name": "stderr",
          "text": [
            "\n",
            "[Succeeded / Failed / Skipped / Total] 0 / 10 / 3 / 13:  13%|█▎        | 13/100 [00:33<03:42,  2.55s/it]\u001b[A"
          ]
        },
        {
          "output_type": "stream",
          "name": "stdout",
          "text": [
            "--------------------------------------------- Result 13 ---------------------------------------------\n",
            "[[Positive (96%)]] --> [[[FAILED]]]\n",
            "\n",
            "mostly , [goldbacher] just lets her complicated characters be unruly , confusing and , through it all , human .\n",
            "\n",
            "\n"
          ]
        },
        {
          "output_type": "stream",
          "name": "stderr",
          "text": [
            "\n",
            "[Succeeded / Failed / Skipped / Total] 0 / 10 / 3 / 13:  14%|█▍        | 14/100 [00:37<03:48,  2.66s/it]\u001b[A\n",
            "[Succeeded / Failed / Skipped / Total] 0 / 11 / 3 / 14:  14%|█▍        | 14/100 [00:37<03:49,  2.66s/it]\u001b[A\n",
            "[Succeeded / Failed / Skipped / Total] 0 / 11 / 4 / 15:  15%|█▌        | 15/100 [00:37<03:31,  2.49s/it]\u001b[A"
          ]
        },
        {
          "output_type": "stream",
          "name": "stdout",
          "text": [
            "--------------------------------------------- Result 14 ---------------------------------------------\n",
            "[[Positive (99%)]] --> [[[FAILED]]]\n",
            "\n",
            ". . . quite good at providing some good old fashioned spooks .\n",
            "\n",
            "\n",
            "--------------------------------------------- Result 15 ---------------------------------------------\n",
            "[[Negative (96%)]] --> [[[SKIPPED]]]\n",
            "\n",
            "at its worst , the movie is pretty diverting ; the pity is that it rarely achieves its best .\n",
            "\n",
            "\n"
          ]
        },
        {
          "output_type": "stream",
          "name": "stderr",
          "text": [
            "\n",
            "[Succeeded / Failed / Skipped / Total] 0 / 11 / 4 / 15:  16%|█▌        | 16/100 [00:38<03:21,  2.40s/it]\u001b[A\n",
            "[Succeeded / Failed / Skipped / Total] 0 / 12 / 4 / 16:  16%|█▌        | 16/100 [00:38<03:21,  2.40s/it]\u001b[A"
          ]
        },
        {
          "output_type": "stream",
          "name": "stdout",
          "text": [
            "--------------------------------------------- Result 16 ---------------------------------------------\n",
            "[[Positive (100%)]] --> [[[FAILED]]]\n",
            "\n",
            "scherfig's light-hearted profile of emotional desperation is achingly honest and delightfully cheeky .\n",
            "\n",
            "\n"
          ]
        },
        {
          "output_type": "stream",
          "name": "stderr",
          "text": [
            "\n",
            "[Succeeded / Failed / Skipped / Total] 0 / 13 / 4 / 17:  17%|█▋        | 17/100 [00:48<03:55,  2.83s/it]\u001b[A"
          ]
        },
        {
          "output_type": "stream",
          "name": "stdout",
          "text": [
            "--------------------------------------------- Result 17 ---------------------------------------------\n",
            "[[Positive (100%)]] --> [[[FAILED]]]\n",
            "\n",
            "a journey spanning nearly three decades of bittersweet camaraderie and history , in which we feel that we truly know what makes holly and marina tick , and our hearts go out to them as both continue to negotiate their imperfect , love-hate relationship .\n",
            "\n",
            "\n"
          ]
        },
        {
          "output_type": "stream",
          "name": "stderr",
          "text": [
            "\n",
            "[Succeeded / Failed / Skipped / Total] 0 / 13 / 4 / 17:  18%|█▊        | 18/100 [00:54<04:08,  3.03s/it]\u001b[A\n",
            "[Succeeded / Failed / Skipped / Total] 0 / 14 / 4 / 18:  18%|█▊        | 18/100 [00:54<04:08,  3.03s/it]\u001b[A"
          ]
        },
        {
          "output_type": "stream",
          "name": "stdout",
          "text": [
            "--------------------------------------------- Result 18 ---------------------------------------------\n",
            "[[Positive (100%)]] --> [[[FAILED]]]\n",
            "\n",
            "the wonderfully lush morvern callar is pure punk existentialism , and ms . ramsay and her co-writer , liana dognini , have dramatized the alan warner novel , which itself felt like an answer to irvine welsh's book trainspotting .\n",
            "\n",
            "\n"
          ]
        },
        {
          "output_type": "stream",
          "name": "stderr",
          "text": [
            "\n",
            "[Succeeded / Failed / Skipped / Total] 0 / 14 / 4 / 18:  19%|█▉        | 19/100 [00:58<04:07,  3.06s/it]\u001b[A\n",
            "[Succeeded / Failed / Skipped / Total] 0 / 15 / 4 / 19:  19%|█▉        | 19/100 [00:58<04:07,  3.06s/it]\u001b[A"
          ]
        },
        {
          "output_type": "stream",
          "name": "stdout",
          "text": [
            "--------------------------------------------- Result 19 ---------------------------------------------\n",
            "[[Positive (76%)]] --> [[[FAILED]]]\n",
            "\n",
            "as it turns out , you can go home again .\n",
            "\n",
            "\n"
          ]
        },
        {
          "output_type": "stream",
          "name": "stderr",
          "text": [
            "\n",
            "[Succeeded / Failed / Skipped / Total] 0 / 15 / 4 / 19:  20%|██        | 20/100 [01:02<04:08,  3.10s/it]\u001b[A\n",
            "[Succeeded / Failed / Skipped / Total] 0 / 16 / 4 / 20:  20%|██        | 20/100 [01:02<04:08,  3.10s/it]\u001b[A"
          ]
        },
        {
          "output_type": "stream",
          "name": "stdout",
          "text": [
            "--------------------------------------------- Result 20 ---------------------------------------------\n",
            "[[Positive (99%)]] --> [[[FAILED]]]\n",
            "\n",
            "you've already seen city by the sea under a variety of titles , but it's worth yet another visit .\n",
            "\n",
            "\n"
          ]
        },
        {
          "output_type": "stream",
          "name": "stderr",
          "text": [
            "\n",
            "[Succeeded / Failed / Skipped / Total] 0 / 16 / 4 / 20:  21%|██        | 21/100 [01:09<04:20,  3.30s/it]\u001b[A\n",
            "[Succeeded / Failed / Skipped / Total] 0 / 17 / 4 / 21:  21%|██        | 21/100 [01:09<04:20,  3.30s/it]\u001b[A"
          ]
        },
        {
          "output_type": "stream",
          "name": "stdout",
          "text": [
            "--------------------------------------------- Result 21 ---------------------------------------------\n",
            "[[Positive (100%)]] --> [[[FAILED]]]\n",
            "\n",
            "this kind of hands-on storytelling is ultimately what makes shanghai ghetto move beyond a good , dry , reliable textbook and what allows it to rank with its worthy predecessors .\n",
            "\n",
            "\n"
          ]
        },
        {
          "output_type": "stream",
          "name": "stderr",
          "text": [
            "\n",
            "[Succeeded / Failed / Skipped / Total] 0 / 17 / 4 / 21:  22%|██▏       | 22/100 [01:17<04:35,  3.53s/it]\u001b[A\n",
            "[Succeeded / Failed / Skipped / Total] 0 / 18 / 4 / 22:  22%|██▏       | 22/100 [01:17<04:35,  3.53s/it]\u001b[A"
          ]
        },
        {
          "output_type": "stream",
          "name": "stdout",
          "text": [
            "--------------------------------------------- Result 22 ---------------------------------------------\n",
            "[[Positive (83%)]] --> [[[FAILED]]]\n",
            "\n",
            "making such a tragedy the backdrop to a love story risks trivializing it , though chouraqui no doubt intended the film to affirm love's power to help people endure almost unimaginable horror .\n",
            "\n",
            "\n"
          ]
        },
        {
          "output_type": "stream",
          "name": "stderr",
          "text": [
            "\n",
            "[Succeeded / Failed / Skipped / Total] 0 / 18 / 4 / 22:  23%|██▎       | 23/100 [01:21<04:32,  3.54s/it]\u001b[A\n",
            "[Succeeded / Failed / Skipped / Total] 0 / 19 / 4 / 23:  23%|██▎       | 23/100 [01:21<04:32,  3.54s/it]\u001b[A"
          ]
        },
        {
          "output_type": "stream",
          "name": "stdout",
          "text": [
            "--------------------------------------------- Result 23 ---------------------------------------------\n",
            "[[Positive (79%)]] --> [[[FAILED]]]\n",
            "\n",
            "grown-up quibbles are beside the point here . the little girls understand , and mccracken knows that's all that matters .\n",
            "\n",
            "\n"
          ]
        },
        {
          "output_type": "stream",
          "name": "stderr",
          "text": [
            "\n",
            "[Succeeded / Failed / Skipped / Total] 0 / 19 / 4 / 23:  24%|██▍       | 24/100 [01:26<04:33,  3.60s/it]\u001b[A\n",
            "[Succeeded / Failed / Skipped / Total] 0 / 20 / 4 / 24:  24%|██▍       | 24/100 [01:26<04:33,  3.60s/it]\u001b[A"
          ]
        },
        {
          "output_type": "stream",
          "name": "stdout",
          "text": [
            "--------------------------------------------- Result 24 ---------------------------------------------\n",
            "[[Positive (100%)]] --> [[[FAILED]]]\n",
            "\n",
            "a powerful , chilling , and affecting study of one man's dying fall .\n",
            "\n",
            "\n"
          ]
        },
        {
          "output_type": "stream",
          "name": "stderr",
          "text": [
            "\n",
            "[Succeeded / Failed / Skipped / Total] 0 / 20 / 4 / 24:  25%|██▌       | 25/100 [01:29<04:27,  3.56s/it]\u001b[A\n",
            "[Succeeded / Failed / Skipped / Total] 0 / 21 / 4 / 25:  25%|██▌       | 25/100 [01:29<04:27,  3.56s/it]\u001b[A\n",
            "[Succeeded / Failed / Skipped / Total] 0 / 21 / 5 / 26:  26%|██▌       | 26/100 [01:29<04:13,  3.43s/it]\u001b[A"
          ]
        },
        {
          "output_type": "stream",
          "name": "stdout",
          "text": [
            "--------------------------------------------- Result 25 ---------------------------------------------\n",
            "[[Positive (92%)]] --> [[[FAILED]]]\n",
            "\n",
            "this is a fascinating film because there is no clear-cut hero and no all-out villain .\n",
            "\n",
            "\n",
            "--------------------------------------------- Result 26 ---------------------------------------------\n",
            "[[Negative (66%)]] --> [[[SKIPPED]]]\n",
            "\n",
            "a dreadful day in irish history is given passionate , if somewhat flawed , treatment .\n",
            "\n",
            "\n"
          ]
        },
        {
          "output_type": "stream",
          "name": "stderr",
          "text": [
            "\n",
            "[Succeeded / Failed / Skipped / Total] 0 / 21 / 5 / 26:  27%|██▋       | 27/100 [01:33<04:11,  3.45s/it]\u001b[A\n",
            "[Succeeded / Failed / Skipped / Total] 0 / 22 / 5 / 27:  27%|██▋       | 27/100 [01:33<04:11,  3.45s/it]\u001b[A"
          ]
        },
        {
          "output_type": "stream",
          "name": "stdout",
          "text": [
            "--------------------------------------------- Result 27 ---------------------------------------------\n",
            "[[Positive (92%)]] --> [[[FAILED]]]\n",
            "\n",
            ". . . a good film that must have baffled the folks in the marketing department .\n",
            "\n",
            "\n"
          ]
        },
        {
          "output_type": "stream",
          "name": "stderr",
          "text": [
            "\n",
            "[Succeeded / Failed / Skipped / Total] 0 / 23 / 5 / 28:  28%|██▊       | 28/100 [01:39<04:16,  3.56s/it]\u001b[A\n",
            "[Succeeded / Failed / Skipped / Total] 0 / 23 / 5 / 28:  29%|██▉       | 29/100 [01:39<04:04,  3.44s/it]\u001b[A\n",
            "[Succeeded / Failed / Skipped / Total] 0 / 23 / 6 / 29:  29%|██▉       | 29/100 [01:39<04:04,  3.44s/it]\u001b[A"
          ]
        },
        {
          "output_type": "stream",
          "name": "stdout",
          "text": [
            "--------------------------------------------- Result 28 ---------------------------------------------\n",
            "[[Positive (100%)]] --> [[[FAILED]]]\n",
            "\n",
            ". . . is funny in the way that makes you ache with sadness ( the way chekhov is funny ) , profound without ever being self-important , warm without ever succumbing to sentimentality .\n",
            "\n",
            "\n",
            "--------------------------------------------- Result 29 ---------------------------------------------\n",
            "[[Negative (93%)]] --> [[[SKIPPED]]]\n",
            "\n",
            "devotees of star trek ii : the wrath of khan will feel a nagging sense of deja vu , and the grandeur of the best next generation episodes is lacking .\n",
            "\n",
            "\n"
          ]
        },
        {
          "output_type": "stream",
          "name": "stderr",
          "text": [
            "\n",
            "[Succeeded / Failed / Skipped / Total] 0 / 24 / 6 / 30:  30%|███       | 30/100 [01:42<03:58,  3.41s/it]\u001b[A"
          ]
        },
        {
          "output_type": "stream",
          "name": "stdout",
          "text": [
            "--------------------------------------------- Result 30 ---------------------------------------------\n",
            "[[Positive (99%)]] --> [[[FAILED]]]\n",
            "\n",
            "a soul-stirring documentary about the israeli/palestinian conflict as revealed through the eyes of some children who remain curious about each other against all odds .\n",
            "\n",
            "\n"
          ]
        },
        {
          "output_type": "stream",
          "name": "stderr",
          "text": [
            "\n",
            "[Succeeded / Failed / Skipped / Total] 0 / 24 / 6 / 30:  31%|███       | 31/100 [01:45<03:55,  3.42s/it]\u001b[A\n",
            "[Succeeded / Failed / Skipped / Total] 0 / 25 / 6 / 31:  31%|███       | 31/100 [01:45<03:55,  3.42s/it]\u001b[A\n",
            "[Succeeded / Failed / Skipped / Total] 0 / 25 / 7 / 32:  32%|███▏      | 32/100 [01:46<03:45,  3.31s/it]\u001b[A"
          ]
        },
        {
          "output_type": "stream",
          "name": "stdout",
          "text": [
            "--------------------------------------------- Result 31 ---------------------------------------------\n",
            "[[Positive (93%)]] --> [[[FAILED]]]\n",
            "\n",
            "what's so striking about jolie's performance is that she never lets her character become a caricature -- not even with that radioactive hair .\n",
            "\n",
            "\n",
            "--------------------------------------------- Result 32 ---------------------------------------------\n",
            "[[Negative (98%)]] --> [[[SKIPPED]]]\n",
            "\n",
            "the main story . . . is compelling enough , but it's difficult to shrug off the annoyance of that chatty fish .\n",
            "\n",
            "\n"
          ]
        },
        {
          "output_type": "stream",
          "name": "stderr",
          "text": [
            "\n",
            "[Succeeded / Failed / Skipped / Total] 0 / 25 / 7 / 32:  33%|███▎      | 33/100 [01:47<03:39,  3.27s/it]\u001b[A\n",
            "[Succeeded / Failed / Skipped / Total] 0 / 26 / 7 / 33:  33%|███▎      | 33/100 [01:47<03:39,  3.27s/it]\u001b[A"
          ]
        },
        {
          "output_type": "stream",
          "name": "stdout",
          "text": [
            "--------------------------------------------- Result 33 ---------------------------------------------\n",
            "[[Positive (100%)]] --> [[[FAILED]]]\n",
            "\n",
            "the performances are immaculate , with roussillon providing comic relief .\n",
            "\n",
            "\n"
          ]
        },
        {
          "output_type": "stream",
          "name": "stderr",
          "text": [
            "\n",
            "[Succeeded / Failed / Skipped / Total] 0 / 27 / 7 / 34:  34%|███▍      | 34/100 [01:53<03:40,  3.34s/it]\u001b[A"
          ]
        },
        {
          "output_type": "stream",
          "name": "stdout",
          "text": [
            "--------------------------------------------- Result 34 ---------------------------------------------\n",
            "[[Positive (99%)]] --> [[[FAILED]]]\n",
            "\n",
            "kinnear . . . gives his best screen performance with an oddly winning portrayal of one of life's ultimate losers .\n",
            "\n",
            "\n"
          ]
        },
        {
          "output_type": "stream",
          "name": "stderr",
          "text": [
            "\n",
            "[Succeeded / Failed / Skipped / Total] 0 / 27 / 7 / 34:  34%|███▍      | 34/100 [01:58<03:49,  3.47s/it]\u001b[A\n",
            "[Succeeded / Failed / Skipped / Total] 0 / 27 / 7 / 34:  35%|███▌      | 35/100 [01:58<03:40,  3.39s/it]\u001b[A\n",
            "[Succeeded / Failed / Skipped / Total] 0 / 28 / 7 / 35:  35%|███▌      | 35/100 [01:58<03:40,  3.39s/it]\u001b[A"
          ]
        },
        {
          "output_type": "stream",
          "name": "stdout",
          "text": [
            "--------------------------------------------- Result 35 ---------------------------------------------\n",
            "[[Positive (98%)]] --> [[[FAILED]]]\n",
            "\n",
            "hugh grant , who has a good line in charm , has never been more charming than in about a boy .\n",
            "\n",
            "\n"
          ]
        },
        {
          "output_type": "stream",
          "name": "stderr",
          "text": [
            "\n",
            "[Succeeded / Failed / Skipped / Total] 0 / 28 / 7 / 35:  36%|███▌      | 36/100 [02:02<03:37,  3.39s/it]\u001b[A\n",
            "[Succeeded / Failed / Skipped / Total] 0 / 29 / 7 / 36:  36%|███▌      | 36/100 [02:02<03:37,  3.39s/it]\u001b[A"
          ]
        },
        {
          "output_type": "stream",
          "name": "stdout",
          "text": [
            "--------------------------------------------- Result 36 ---------------------------------------------\n",
            "[[Positive (94%)]] --> [[[FAILED]]]\n",
            "\n",
            "there's a lot of tooth in roger dodger . but what's nice is that there's a casual intelligence that permeates the script .\n",
            "\n",
            "\n"
          ]
        },
        {
          "output_type": "stream",
          "name": "stderr",
          "text": [
            "\n",
            "[Succeeded / Failed / Skipped / Total] 0 / 29 / 7 / 36:  37%|███▋      | 37/100 [02:04<03:32,  3.37s/it]\u001b[A\n",
            "[Succeeded / Failed / Skipped / Total] 0 / 30 / 7 / 37:  37%|███▋      | 37/100 [02:04<03:32,  3.37s/it]\u001b[A"
          ]
        },
        {
          "output_type": "stream",
          "name": "stdout",
          "text": [
            "--------------------------------------------- Result 37 ---------------------------------------------\n",
            "[[Positive (97%)]] --> [[[FAILED]]]\n",
            "\n",
            "reminiscent of alfred hitchcock's thrillers , most of the scary parts in 'signs' occur while waiting for things to happen .\n",
            "\n",
            "\n"
          ]
        },
        {
          "output_type": "stream",
          "name": "stderr",
          "text": [
            "\n",
            "[Succeeded / Failed / Skipped / Total] 0 / 30 / 7 / 37:  38%|███▊      | 38/100 [02:08<03:30,  3.39s/it]\u001b[A\n",
            "[Succeeded / Failed / Skipped / Total] 0 / 31 / 7 / 38:  38%|███▊      | 38/100 [02:08<03:30,  3.39s/it]\u001b[A"
          ]
        },
        {
          "output_type": "stream",
          "name": "stdout",
          "text": [
            "--------------------------------------------- Result 38 ---------------------------------------------\n",
            "[[Positive (100%)]] --> [[[FAILED]]]\n",
            "\n",
            "one of the best looking and stylish animated movies in quite a while . . .\n",
            "\n",
            "\n"
          ]
        },
        {
          "output_type": "stream",
          "name": "stderr",
          "text": [
            "\n",
            "[Succeeded / Failed / Skipped / Total] 0 / 31 / 7 / 38:  39%|███▉      | 39/100 [02:18<03:36,  3.56s/it]\u001b[A\n",
            "[Succeeded / Failed / Skipped / Total] 0 / 32 / 7 / 39:  39%|███▉      | 39/100 [02:18<03:36,  3.56s/it]\u001b[A"
          ]
        },
        {
          "output_type": "stream",
          "name": "stdout",
          "text": [
            "--------------------------------------------- Result 39 ---------------------------------------------\n",
            "[[Positive (100%)]] --> [[[FAILED]]]\n",
            "\n",
            "its use of the thriller form to examine the labyrinthine ways in which people's lives cross and change , buffeted by events seemingly out of their control , is intriguing , provocative stuff .\n",
            "\n",
            "\n"
          ]
        },
        {
          "output_type": "stream",
          "name": "stderr",
          "text": [
            "\n",
            "[Succeeded / Failed / Skipped / Total] 0 / 32 / 7 / 39:  40%|████      | 40/100 [02:26<03:40,  3.67s/it]\u001b[A\n",
            "[Succeeded / Failed / Skipped / Total] 0 / 33 / 7 / 40:  40%|████      | 40/100 [02:26<03:40,  3.67s/it]\u001b[A"
          ]
        },
        {
          "output_type": "stream",
          "name": "stdout",
          "text": [
            "--------------------------------------------- Result 40 ---------------------------------------------\n",
            "[[Positive (100%)]] --> [[[FAILED]]]\n",
            "\n",
            "denver should not get the first and last look at one of the most triumphant performances of vanessa redgrave's career . it deserves to be seen everywhere .\n",
            "\n",
            "\n"
          ]
        },
        {
          "output_type": "stream",
          "name": "stderr",
          "text": [
            "\n",
            "[Succeeded / Failed / Skipped / Total] 0 / 33 / 7 / 40:  41%|████      | 41/100 [02:32<03:40,  3.73s/it]\u001b[A\n",
            "[Succeeded / Failed / Skipped / Total] 0 / 34 / 7 / 41:  41%|████      | 41/100 [02:32<03:40,  3.73s/it]\u001b[A"
          ]
        },
        {
          "output_type": "stream",
          "name": "stdout",
          "text": [
            "--------------------------------------------- Result 41 ---------------------------------------------\n",
            "[[Positive (100%)]] --> [[[FAILED]]]\n",
            "\n",
            "you needn't be steeped in '50s sociology , pop culture or movie lore to appreciate the emotional depth of haynes' work . though haynes' style apes films from the period . . . its message is not rooted in that decade .\n",
            "\n",
            "\n"
          ]
        },
        {
          "output_type": "stream",
          "name": "stderr",
          "text": [
            "\n",
            "[Succeeded / Failed / Skipped / Total] 0 / 34 / 7 / 41:  42%|████▏     | 42/100 [02:33<03:32,  3.66s/it]\u001b[A\n",
            "[Succeeded / Failed / Skipped / Total] 0 / 35 / 7 / 42:  42%|████▏     | 42/100 [02:33<03:32,  3.66s/it]\u001b[A"
          ]
        },
        {
          "output_type": "stream",
          "name": "stdout",
          "text": [
            "--------------------------------------------- Result 42 ---------------------------------------------\n",
            "[[Positive (99%)]] --> [[[FAILED]]]\n",
            "\n",
            "waiting for godard can be fruitful : 'in praise of love' is the director's epitaph for himself .\n",
            "\n",
            "\n"
          ]
        },
        {
          "output_type": "stream",
          "name": "stderr",
          "text": [
            "\n",
            "[Succeeded / Failed / Skipped / Total] 0 / 35 / 7 / 42:  43%|████▎     | 43/100 [02:34<03:24,  3.59s/it]\u001b[A\n",
            "[Succeeded / Failed / Skipped / Total] 0 / 36 / 7 / 43:  43%|████▎     | 43/100 [02:34<03:24,  3.59s/it]\u001b[A"
          ]
        },
        {
          "output_type": "stream",
          "name": "stdout",
          "text": [
            "--------------------------------------------- Result 43 ---------------------------------------------\n",
            "[[Positive (98%)]] --> [[[FAILED]]]\n",
            "\n",
            "a gangster movie with the capacity to surprise .\n",
            "\n",
            "\n"
          ]
        },
        {
          "output_type": "stream",
          "name": "stderr",
          "text": [
            "\n",
            "[Succeeded / Failed / Skipped / Total] 0 / 36 / 7 / 43:  44%|████▍     | 44/100 [02:40<03:23,  3.64s/it]\u001b[A\n",
            "[Succeeded / Failed / Skipped / Total] 0 / 37 / 7 / 44:  44%|████▍     | 44/100 [02:40<03:23,  3.64s/it]\u001b[A\n",
            "[Succeeded / Failed / Skipped / Total] 0 / 37 / 8 / 45:  45%|████▌     | 45/100 [02:40<03:15,  3.56s/it]\u001b[A\n",
            "[Succeeded / Failed / Skipped / Total] 0 / 37 / 9 / 46:  46%|████▌     | 46/100 [02:40<03:08,  3.48s/it]\u001b[A"
          ]
        },
        {
          "output_type": "stream",
          "name": "stdout",
          "text": [
            "--------------------------------------------- Result 44 ---------------------------------------------\n",
            "[[Positive (99%)]] --> [[[FAILED]]]\n",
            "\n",
            "the film has a laundry list of minor shortcomings , but the numerous scenes of gory mayhem are worth the price of admission . . . if \" gory mayhem \" is your idea of a good time .\n",
            "\n",
            "\n",
            "--------------------------------------------- Result 45 ---------------------------------------------\n",
            "[[Negative (94%)]] --> [[[SKIPPED]]]\n",
            "\n",
            "if not a home run , then at least a solid base hit .\n",
            "\n",
            "\n",
            "--------------------------------------------- Result 46 ---------------------------------------------\n",
            "[[Negative (86%)]] --> [[[SKIPPED]]]\n",
            "\n",
            "goldmember is funny enough to justify the embarrassment of bringing a barf bag to the moviehouse .\n",
            "\n",
            "\n"
          ]
        },
        {
          "output_type": "stream",
          "name": "stderr",
          "text": [
            "\n",
            "[Succeeded / Failed / Skipped / Total] 0 / 37 / 9 / 46:  47%|████▋     | 47/100 [02:43<03:04,  3.49s/it]\u001b[A\n",
            "[Succeeded / Failed / Skipped / Total] 0 / 38 / 9 / 47:  47%|████▋     | 47/100 [02:43<03:04,  3.49s/it]\u001b[A"
          ]
        },
        {
          "output_type": "stream",
          "name": "stdout",
          "text": [
            "--------------------------------------------- Result 47 ---------------------------------------------\n",
            "[[Positive (96%)]] --> [[[FAILED]]]\n",
            "\n",
            ". . . a fairly disposable yet still entertaining b picture .\n",
            "\n",
            "\n"
          ]
        },
        {
          "output_type": "stream",
          "name": "stderr",
          "text": [
            "\n",
            "[Succeeded / Failed / Skipped / Total] 0 / 39 / 9 / 48:  48%|████▊     | 48/100 [02:49<03:03,  3.53s/it]\u001b[A"
          ]
        },
        {
          "output_type": "stream",
          "name": "stdout",
          "text": [
            "--------------------------------------------- Result 48 ---------------------------------------------\n",
            "[[Positive (100%)]] --> [[[FAILED]]]\n",
            "\n",
            "it may not be particularly innovative , but the film's crisp , unaffected style and air of gentle longing make it unexpectedly rewarding .\n",
            "\n",
            "\n"
          ]
        },
        {
          "output_type": "stream",
          "name": "stderr",
          "text": [
            "\n",
            "[Succeeded / Failed / Skipped / Total] 0 / 40 / 9 / 49:  49%|████▉     | 49/100 [02:52<02:59,  3.51s/it]\u001b[A"
          ]
        },
        {
          "output_type": "stream",
          "name": "stdout",
          "text": [
            "--------------------------------------------- Result 49 ---------------------------------------------\n",
            "[[Positive (100%)]] --> [[[FAILED]]]\n",
            "\n",
            "the film truly does rescue [the funk brothers] from motown's shadows . it's about time .\n",
            "\n",
            "\n"
          ]
        },
        {
          "output_type": "stream",
          "name": "stderr",
          "text": [
            "\n",
            "[Succeeded / Failed / Skipped / Total] 0 / 40 / 9 / 49:  49%|████▉     | 49/100 [02:54<03:01,  3.57s/it]\u001b[A\n",
            "[Succeeded / Failed / Skipped / Total] 0 / 40 / 9 / 49:  50%|█████     | 50/100 [02:59<02:59,  3.58s/it]\u001b[A\n",
            "[Succeeded / Failed / Skipped / Total] 0 / 41 / 9 / 50:  50%|█████     | 50/100 [02:59<02:59,  3.58s/it]\u001b[A"
          ]
        },
        {
          "output_type": "stream",
          "name": "stdout",
          "text": [
            "--------------------------------------------- Result 50 ---------------------------------------------\n",
            "[[Positive (99%)]] --> [[[FAILED]]]\n",
            "\n",
            "drawing on an irresistible , languid romanticism , byler reveals the ways in which a sultry evening or a beer-fueled afternoon in the sun can inspire even the most retiring heart to venture forth .\n",
            "\n",
            "\n"
          ]
        },
        {
          "output_type": "stream",
          "name": "stderr",
          "text": [
            "\n",
            "[Succeeded / Failed / Skipped / Total] 0 / 41 / 9 / 50:  51%|█████     | 51/100 [03:07<03:00,  3.69s/it]\u001b[A\n",
            "[Succeeded / Failed / Skipped / Total] 0 / 42 / 9 / 51:  51%|█████     | 51/100 [03:07<03:00,  3.69s/it]\u001b[A"
          ]
        },
        {
          "output_type": "stream",
          "name": "stdout",
          "text": [
            "--------------------------------------------- Result 51 ---------------------------------------------\n",
            "[[Positive (95%)]] --> [[[FAILED]]]\n",
            "\n",
            "works because we're never sure if ohlinger's on the level or merely a dying , delusional man trying to get into the history books before he croaks .\n",
            "\n",
            "\n"
          ]
        },
        {
          "output_type": "stream",
          "name": "stderr",
          "text": [
            "\n",
            "[Succeeded / Failed / Skipped / Total] 0 / 42 / 9 / 51:  52%|█████▏    | 52/100 [03:14<02:59,  3.74s/it]\u001b[A\n",
            "[Succeeded / Failed / Skipped / Total] 0 / 43 / 9 / 52:  52%|█████▏    | 52/100 [03:14<02:59,  3.74s/it]\u001b[A"
          ]
        },
        {
          "output_type": "stream",
          "name": "stdout",
          "text": [
            "--------------------------------------------- Result 52 ---------------------------------------------\n",
            "[[Positive (99%)]] --> [[[FAILED]]]\n",
            "\n",
            "[scherfig] has made a movie that will leave you wondering about the characters' lives after the clever credits roll .\n",
            "\n",
            "\n"
          ]
        },
        {
          "output_type": "stream",
          "name": "stderr",
          "text": [
            "\n",
            "[Succeeded / Failed / Skipped / Total] 0 / 43 / 9 / 52:  53%|█████▎    | 53/100 [03:19<02:56,  3.76s/it]\u001b[A\n",
            "[Succeeded / Failed / Skipped / Total] 0 / 44 / 9 / 53:  53%|█████▎    | 53/100 [03:19<02:56,  3.76s/it]\u001b[A"
          ]
        },
        {
          "output_type": "stream",
          "name": "stdout",
          "text": [
            "--------------------------------------------- Result 53 ---------------------------------------------\n",
            "[[Positive (94%)]] --> [[[FAILED]]]\n",
            "\n",
            "a heady , biting , be-bop ride through nighttime manhattan , a loquacious videologue of the modern male and the lengths to which he'll go to weave a protective cocoon around his own ego .\n",
            "\n",
            "\n"
          ]
        },
        {
          "output_type": "stream",
          "name": "stderr",
          "text": [
            "\n",
            "[Succeeded / Failed / Skipped / Total] 0 / 44 / 9 / 53:  54%|█████▍    | 54/100 [03:29<02:58,  3.87s/it]\u001b[A\n",
            "[Succeeded / Failed / Skipped / Total] 0 / 45 / 9 / 54:  54%|█████▍    | 54/100 [03:29<02:58,  3.87s/it]\u001b[A"
          ]
        },
        {
          "output_type": "stream",
          "name": "stdout",
          "text": [
            "--------------------------------------------- Result 54 ---------------------------------------------\n",
            "[[Positive (86%)]] --> [[[FAILED]]]\n",
            "\n",
            "skin of man gets a few cheap shocks from its kids-in-peril theatrics , but it also taps into the primal fears of young people trying to cope with the mysterious and brutal nature of adults .\n",
            "\n",
            "\n"
          ]
        },
        {
          "output_type": "stream",
          "name": "stderr",
          "text": [
            "\n",
            "[Succeeded / Failed / Skipped / Total] 0 / 45 / 9 / 54:  55%|█████▌    | 55/100 [03:34<02:55,  3.91s/it]\u001b[A\n",
            "[Succeeded / Failed / Skipped / Total] 0 / 46 / 9 / 55:  55%|█████▌    | 55/100 [03:34<02:55,  3.91s/it]\u001b[A"
          ]
        },
        {
          "output_type": "stream",
          "name": "stdout",
          "text": [
            "--------------------------------------------- Result 55 ---------------------------------------------\n",
            "[[Positive (99%)]] --> [[[FAILED]]]\n",
            "\n",
            "the piano teacher is not an easy film . it forces you to watch people doing unpleasant things to each other and themselves , and it maintains a cool distance from its material that is deliberately unsettling .\n",
            "\n",
            "\n"
          ]
        },
        {
          "output_type": "stream",
          "name": "stderr",
          "text": [
            "\n",
            "[Succeeded / Failed / Skipped / Total] 0 / 46 / 9 / 55:  56%|█████▌    | 56/100 [03:36<02:50,  3.86s/it]\u001b[A\n",
            "[Succeeded / Failed / Skipped / Total] 0 / 47 / 9 / 56:  56%|█████▌    | 56/100 [03:36<02:50,  3.86s/it]\u001b[A"
          ]
        },
        {
          "output_type": "stream",
          "name": "stdout",
          "text": [
            "--------------------------------------------- Result 56 ---------------------------------------------\n",
            "[[Positive (97%)]] --> [[[FAILED]]]\n",
            "\n",
            "as refreshing as a drink from a woodland stream .\n",
            "\n",
            "\n"
          ]
        },
        {
          "output_type": "stream",
          "name": "stderr",
          "text": [
            "\n",
            "[Succeeded / Failed / Skipped / Total] 0 / 47 / 9 / 56:  57%|█████▋    | 57/100 [03:37<02:44,  3.82s/it]\u001b[A\n",
            "[Succeeded / Failed / Skipped / Total] 0 / 48 / 9 / 57:  57%|█████▋    | 57/100 [03:37<02:44,  3.82s/it]\u001b[A"
          ]
        },
        {
          "output_type": "stream",
          "name": "stdout",
          "text": [
            "--------------------------------------------- Result 57 ---------------------------------------------\n",
            "[[Positive (100%)]] --> [[[FAILED]]]\n",
            "\n",
            "williams absolutely nails sy's queasy infatuation and overall strangeness .\n",
            "\n",
            "\n"
          ]
        },
        {
          "output_type": "stream",
          "name": "stderr",
          "text": [
            "\n",
            "[Succeeded / Failed / Skipped / Total] 0 / 48 / 9 / 57:  58%|█████▊    | 58/100 [03:42<02:41,  3.84s/it]\u001b[A\n",
            "[Succeeded / Failed / Skipped / Total] 0 / 49 / 9 / 58:  58%|█████▊    | 58/100 [03:42<02:41,  3.84s/it]\u001b[A"
          ]
        },
        {
          "output_type": "stream",
          "name": "stdout",
          "text": [
            "--------------------------------------------- Result 58 ---------------------------------------------\n",
            "[[Positive (90%)]] --> [[[FAILED]]]\n",
            "\n",
            "can i admit xxx is as deep as a petri dish and as well-characterized as a telephone book but still say it was a guilty pleasure ?\n",
            "\n",
            "\n"
          ]
        },
        {
          "output_type": "stream",
          "name": "stderr",
          "text": [
            "\n",
            "[Succeeded / Failed / Skipped / Total] 0 / 49 / 9 / 58:  59%|█████▉    | 59/100 [03:48<02:38,  3.87s/it]\u001b[A\n",
            "[Succeeded / Failed / Skipped / Total] 0 / 50 / 9 / 59:  59%|█████▉    | 59/100 [03:48<02:38,  3.87s/it]\u001b[A"
          ]
        },
        {
          "output_type": "stream",
          "name": "stdout",
          "text": [
            "--------------------------------------------- Result 59 ---------------------------------------------\n",
            "[[Positive (99%)]] --> [[[FAILED]]]\n",
            "\n",
            "while it's nothing we haven't seen before from murphy , i spy is still fun and enjoyable and so aggressively silly that it's more than a worthwhile effort .\n",
            "\n",
            "\n"
          ]
        },
        {
          "output_type": "stream",
          "name": "stderr",
          "text": [
            "\n",
            "[Succeeded / Failed / Skipped / Total] 0 / 50 / 9 / 59:  60%|██████    | 60/100 [03:57<02:38,  3.96s/it]\u001b[A\n",
            "[Succeeded / Failed / Skipped / Total] 0 / 51 / 9 / 60:  60%|██████    | 60/100 [03:57<02:38,  3.96s/it]\u001b[A"
          ]
        },
        {
          "output_type": "stream",
          "name": "stdout",
          "text": [
            "--------------------------------------------- Result 60 ---------------------------------------------\n",
            "[[Positive (67%)]] --> [[[FAILED]]]\n",
            "\n",
            "by the time it ends in a rush of sequins , flashbulbs , blaring brass and back-stabbing babes , it has said plenty about how show business has infiltrated every corner of society -- and not always for the better .\n",
            "\n",
            "\n"
          ]
        },
        {
          "output_type": "stream",
          "name": "stderr",
          "text": [
            "\n",
            "[Succeeded / Failed / Skipped / Total] 0 / 51 / 9 / 60:  61%|██████    | 61/100 [04:00<02:33,  3.93s/it]\u001b[A\n",
            "[Succeeded / Failed / Skipped / Total] 0 / 52 / 9 / 61:  61%|██████    | 61/100 [04:00<02:33,  3.93s/it]\u001b[A\n",
            "[Succeeded / Failed / Skipped / Total] 0 / 52 / 10 / 62:  62%|██████▏   | 62/100 [04:00<02:27,  3.87s/it]\u001b[A"
          ]
        },
        {
          "output_type": "stream",
          "name": "stdout",
          "text": [
            "--------------------------------------------- Result 61 ---------------------------------------------\n",
            "[[Positive (100%)]] --> [[[FAILED]]]\n",
            "\n",
            "an intimate contemplation of two marvelously messy lives .\n",
            "\n",
            "\n",
            "--------------------------------------------- Result 62 ---------------------------------------------\n",
            "[[Negative (73%)]] --> [[[SKIPPED]]]\n",
            "\n",
            "rarely has skin looked as beautiful , desirable , even delectable , as it does in trouble every day .\n",
            "\n",
            "\n"
          ]
        },
        {
          "output_type": "stream",
          "name": "stderr",
          "text": [
            "\n",
            "[Succeeded / Failed / Skipped / Total] 0 / 52 / 10 / 62:  63%|██████▎   | 63/100 [04:07<02:25,  3.93s/it]\u001b[A\n",
            "[Succeeded / Failed / Skipped / Total] 0 / 53 / 10 / 63:  63%|██████▎   | 63/100 [04:07<02:25,  3.93s/it]\u001b[A"
          ]
        },
        {
          "output_type": "stream",
          "name": "stdout",
          "text": [
            "--------------------------------------------- Result 63 ---------------------------------------------\n",
            "[[Positive (100%)]] --> [[[FAILED]]]\n",
            "\n",
            "this is one of those rare docs that paints a grand picture of an era and makes the journey feel like a party .\n",
            "\n",
            "\n"
          ]
        },
        {
          "output_type": "stream",
          "name": "stderr",
          "text": [
            "\n",
            "[Succeeded / Failed / Skipped / Total] 0 / 54 / 10 / 64:  64%|██████▍   | 64/100 [04:10<02:20,  3.91s/it]\u001b[A"
          ]
        },
        {
          "output_type": "stream",
          "name": "stdout",
          "text": [
            "--------------------------------------------- Result 64 ---------------------------------------------\n",
            "[[Positive (97%)]] --> [[[FAILED]]]\n",
            "\n",
            "poignant if familiar story of a young person suspended between two cultures .\n",
            "\n",
            "\n"
          ]
        },
        {
          "output_type": "stream",
          "name": "stderr",
          "text": [
            "\n",
            "[Succeeded / Failed / Skipped / Total] 0 / 54 / 10 / 64:  65%|██████▌   | 65/100 [04:11<02:15,  3.86s/it]\u001b[A\n",
            "[Succeeded / Failed / Skipped / Total] 0 / 55 / 10 / 65:  65%|██████▌   | 65/100 [04:11<02:15,  3.86s/it]\u001b[A"
          ]
        },
        {
          "output_type": "stream",
          "name": "stdout",
          "text": [
            "--------------------------------------------- Result 65 ---------------------------------------------\n",
            "[[Positive (97%)]] --> [[[FAILED]]]\n",
            "\n",
            "a metaphor for a modern-day urban china searching for its identity .\n",
            "\n",
            "\n"
          ]
        },
        {
          "output_type": "stream",
          "name": "stderr",
          "text": [
            "\n",
            "[Succeeded / Failed / Skipped / Total] 0 / 56 / 10 / 66:  66%|██████▌   | 66/100 [04:14<02:11,  3.85s/it]\u001b[A"
          ]
        },
        {
          "output_type": "stream",
          "name": "stdout",
          "text": [
            "--------------------------------------------- Result 66 ---------------------------------------------\n",
            "[[Positive (100%)]] --> [[[FAILED]]]\n",
            "\n",
            "for all its brooding quality , ash wednesday is suspenseful and ultimately unpredictable , with a sterling ensemble cast .\n",
            "\n",
            "\n"
          ]
        },
        {
          "output_type": "stream",
          "name": "stderr",
          "text": [
            "\n",
            "[Succeeded / Failed / Skipped / Total] 0 / 56 / 10 / 66:  67%|██████▋   | 67/100 [04:22<02:09,  3.92s/it]\u001b[A\n",
            "[Succeeded / Failed / Skipped / Total] 0 / 57 / 10 / 67:  67%|██████▋   | 67/100 [04:22<02:09,  3.92s/it]\u001b[A"
          ]
        },
        {
          "output_type": "stream",
          "name": "stdout",
          "text": [
            "--------------------------------------------- Result 67 ---------------------------------------------\n",
            "[[Positive (99%)]] --> [[[FAILED]]]\n",
            "\n",
            "an odd drama set in the world of lingerie models and bar dancers in the midwest that held my interest precisely because it didn't try to .\n",
            "\n",
            "\n"
          ]
        },
        {
          "output_type": "stream",
          "name": "stderr",
          "text": [
            "\n",
            "[Succeeded / Failed / Skipped / Total] 0 / 57 / 10 / 67:  68%|██████▊   | 68/100 [04:27<02:06,  3.94s/it]\u001b[A\n",
            "[Succeeded / Failed / Skipped / Total] 0 / 58 / 10 / 68:  68%|██████▊   | 68/100 [04:27<02:06,  3.94s/it]\u001b[A"
          ]
        },
        {
          "output_type": "stream",
          "name": "stdout",
          "text": [
            "--------------------------------------------- Result 68 ---------------------------------------------\n",
            "[[Positive (92%)]] --> [[[FAILED]]]\n",
            "\n",
            "the film feels uncomfortably real , its language and locations bearing the unmistakable stamp of authority .\n",
            "\n",
            "\n"
          ]
        },
        {
          "output_type": "stream",
          "name": "stderr",
          "text": [
            "\n",
            "[Succeeded / Failed / Skipped / Total] 0 / 58 / 10 / 68:  69%|██████▉   | 69/100 [04:29<02:00,  3.90s/it]\u001b[A\n",
            "[Succeeded / Failed / Skipped / Total] 0 / 59 / 10 / 69:  69%|██████▉   | 69/100 [04:29<02:00,  3.90s/it]\u001b[A"
          ]
        },
        {
          "output_type": "stream",
          "name": "stdout",
          "text": [
            "--------------------------------------------- Result 69 ---------------------------------------------\n",
            "[[Positive (99%)]] --> [[[FAILED]]]\n",
            "\n",
            "despite its faults , gangs excels in spectacle and pacing .\n",
            "\n",
            "\n"
          ]
        },
        {
          "output_type": "stream",
          "name": "stderr",
          "text": [
            "\n",
            "[Succeeded / Failed / Skipped / Total] 0 / 59 / 10 / 69:  70%|███████   | 70/100 [04:32<01:56,  3.90s/it]\u001b[A\n",
            "[Succeeded / Failed / Skipped / Total] 0 / 60 / 10 / 70:  70%|███████   | 70/100 [04:32<01:56,  3.90s/it]\u001b[A"
          ]
        },
        {
          "output_type": "stream",
          "name": "stdout",
          "text": [
            "--------------------------------------------- Result 70 ---------------------------------------------\n",
            "[[Positive (99%)]] --> [[[FAILED]]]\n",
            "\n",
            "entertaining despite its one-joke premise with the thesis that women from venus and men from mars can indeed get together .\n",
            "\n",
            "\n"
          ]
        },
        {
          "output_type": "stream",
          "name": "stderr",
          "text": [
            "\n",
            "[Succeeded / Failed / Skipped / Total] 0 / 60 / 10 / 70:  71%|███████   | 71/100 [04:37<01:53,  3.91s/it]\u001b[A\n",
            "[Succeeded / Failed / Skipped / Total] 0 / 61 / 10 / 71:  71%|███████   | 71/100 [04:37<01:53,  3.91s/it]\u001b[A"
          ]
        },
        {
          "output_type": "stream",
          "name": "stdout",
          "text": [
            "--------------------------------------------- Result 71 ---------------------------------------------\n",
            "[[Positive (100%)]] --> [[[FAILED]]]\n",
            "\n",
            "a tightly directed , highly professional film that's old-fashioned in all the best possible ways .\n",
            "\n",
            "\n"
          ]
        },
        {
          "output_type": "stream",
          "name": "stderr",
          "text": [
            "\n",
            "[Succeeded / Failed / Skipped / Total] 0 / 61 / 10 / 71:  72%|███████▏  | 72/100 [04:42<01:50,  3.93s/it]\u001b[A\n",
            "[Succeeded / Failed / Skipped / Total] 0 / 62 / 10 / 72:  72%|███████▏  | 72/100 [04:42<01:50,  3.93s/it]\u001b[A"
          ]
        },
        {
          "output_type": "stream",
          "name": "stdout",
          "text": [
            "--------------------------------------------- Result 72 ---------------------------------------------\n",
            "[[Positive (100%)]] --> [[[FAILED]]]\n",
            "\n",
            "it's dark but has wonderfully funny moments ; you care about the characters ; and the action and special effects are first-rate .\n",
            "\n",
            "\n"
          ]
        },
        {
          "output_type": "stream",
          "name": "stderr",
          "text": [
            "\n",
            "[Succeeded / Failed / Skipped / Total] 0 / 62 / 10 / 72:  73%|███████▎  | 73/100 [04:45<01:45,  3.91s/it]\u001b[A\n",
            "[Succeeded / Failed / Skipped / Total] 0 / 63 / 10 / 73:  73%|███████▎  | 73/100 [04:45<01:45,  3.91s/it]\u001b[A"
          ]
        },
        {
          "output_type": "stream",
          "name": "stdout",
          "text": [
            "--------------------------------------------- Result 73 ---------------------------------------------\n",
            "[[Positive (100%)]] --> [[[FAILED]]]\n",
            "\n",
            "in visual fertility treasure planet rivals the top japanese animations of recent vintage .\n",
            "\n",
            "\n"
          ]
        },
        {
          "output_type": "stream",
          "name": "stderr",
          "text": [
            "\n",
            "[Succeeded / Failed / Skipped / Total] 0 / 63 / 10 / 73:  74%|███████▍  | 74/100 [04:46<01:40,  3.87s/it]\u001b[A\n",
            "[Succeeded / Failed / Skipped / Total] 0 / 64 / 10 / 74:  74%|███████▍  | 74/100 [04:46<01:40,  3.87s/it]\u001b[A"
          ]
        },
        {
          "output_type": "stream",
          "name": "stdout",
          "text": [
            "--------------------------------------------- Result 74 ---------------------------------------------\n",
            "[[Positive (100%)]] --> [[[FAILED]]]\n",
            "\n",
            "enormously enjoyable , high-adrenaline documentary .\n",
            "\n",
            "\n"
          ]
        },
        {
          "output_type": "stream",
          "name": "stderr",
          "text": [
            "\n",
            "[Succeeded / Failed / Skipped / Total] 0 / 64 / 10 / 74:  75%|███████▌  | 75/100 [04:49<01:36,  3.86s/it]\u001b[A\n",
            "[Succeeded / Failed / Skipped / Total] 0 / 65 / 10 / 75:  75%|███████▌  | 75/100 [04:49<01:36,  3.86s/it]\u001b[A"
          ]
        },
        {
          "output_type": "stream",
          "name": "stdout",
          "text": [
            "--------------------------------------------- Result 75 ---------------------------------------------\n",
            "[[Positive (99%)]] --> [[[FAILED]]]\n",
            "\n",
            "buy is an accomplished actress , and this is a big , juicy role .\n",
            "\n",
            "\n"
          ]
        },
        {
          "output_type": "stream",
          "name": "stderr",
          "text": [
            "\n",
            "[Succeeded / Failed / Skipped / Total] 0 / 65 / 10 / 75:  76%|███████▌  | 76/100 [04:53<01:32,  3.86s/it]\u001b[A\n",
            "[Succeeded / Failed / Skipped / Total] 0 / 66 / 10 / 76:  76%|███████▌  | 76/100 [04:53<01:32,  3.86s/it]\u001b[A"
          ]
        },
        {
          "output_type": "stream",
          "name": "stdout",
          "text": [
            "--------------------------------------------- Result 76 ---------------------------------------------\n",
            "[[Positive (100%)]] --> [[[FAILED]]]\n",
            "\n",
            "it works its magic with such exuberance and passion that the film's length becomes a part of its fun .\n",
            "\n",
            "\n"
          ]
        },
        {
          "output_type": "stream",
          "name": "stderr",
          "text": [
            "\n",
            "[Succeeded / Failed / Skipped / Total] 0 / 66 / 10 / 76:  77%|███████▋  | 77/100 [04:56<01:28,  3.86s/it]\u001b[A\n",
            "[Succeeded / Failed / Skipped / Total] 0 / 67 / 10 / 77:  77%|███████▋  | 77/100 [04:56<01:28,  3.86s/it]\u001b[A"
          ]
        },
        {
          "output_type": "stream",
          "name": "stdout",
          "text": [
            "--------------------------------------------- Result 77 ---------------------------------------------\n",
            "[[Positive (100%)]] --> [[[FAILED]]]\n",
            "\n",
            "beautifully crafted and brutally honest , promises offers an unexpected window into the complexities of the middle east struggle and into the humanity of its people .\n",
            "\n",
            "\n"
          ]
        },
        {
          "output_type": "stream",
          "name": "stderr",
          "text": [
            "\n",
            "[Succeeded / Failed / Skipped / Total] 0 / 67 / 10 / 77:  78%|███████▊  | 78/100 [05:00<01:24,  3.85s/it]\u001b[A\n",
            "[Succeeded / Failed / Skipped / Total] 0 / 68 / 10 / 78:  78%|███████▊  | 78/100 [05:00<01:24,  3.85s/it]\u001b[A"
          ]
        },
        {
          "output_type": "stream",
          "name": "stdout",
          "text": [
            "--------------------------------------------- Result 78 ---------------------------------------------\n",
            "[[Positive (100%)]] --> [[[FAILED]]]\n",
            "\n",
            "an old-fashioned but emotionally stirring adventure tale of the kind they rarely make anymore .\n",
            "\n",
            "\n"
          ]
        },
        {
          "output_type": "stream",
          "name": "stderr",
          "text": [
            "\n",
            "[Succeeded / Failed / Skipped / Total] 0 / 68 / 10 / 78:  79%|███████▉  | 79/100 [05:01<01:20,  3.82s/it]\u001b[A\n",
            "[Succeeded / Failed / Skipped / Total] 0 / 69 / 10 / 79:  79%|███████▉  | 79/100 [05:01<01:20,  3.82s/it]\u001b[A"
          ]
        },
        {
          "output_type": "stream",
          "name": "stdout",
          "text": [
            "--------------------------------------------- Result 79 ---------------------------------------------\n",
            "[[Positive (100%)]] --> [[[FAILED]]]\n",
            "\n",
            "charlotte sometimes is a gem . it's always enthralling .\n",
            "\n",
            "\n"
          ]
        },
        {
          "output_type": "stream",
          "name": "stderr",
          "text": [
            "\n",
            "[Succeeded / Failed / Skipped / Total] 0 / 69 / 10 / 79:  80%|████████  | 80/100 [05:04<01:16,  3.80s/it]\u001b[A\n",
            "[Succeeded / Failed / Skipped / Total] 0 / 70 / 10 / 80:  80%|████████  | 80/100 [05:04<01:16,  3.80s/it]\u001b[A"
          ]
        },
        {
          "output_type": "stream",
          "name": "stdout",
          "text": [
            "--------------------------------------------- Result 80 ---------------------------------------------\n",
            "[[Positive (94%)]] --> [[[FAILED]]]\n",
            "\n",
            "in my opinion , analyze that is not as funny or entertaining as analyze this , but it is a respectable sequel .\n",
            "\n",
            "\n"
          ]
        },
        {
          "output_type": "stream",
          "name": "stderr",
          "text": [
            "\n",
            "[Succeeded / Failed / Skipped / Total] 0 / 70 / 10 / 80:  81%|████████  | 81/100 [05:05<01:11,  3.77s/it]\u001b[A\n",
            "[Succeeded / Failed / Skipped / Total] 0 / 71 / 10 / 81:  81%|████████  | 81/100 [05:05<01:11,  3.77s/it]\u001b[A"
          ]
        },
        {
          "output_type": "stream",
          "name": "stdout",
          "text": [
            "--------------------------------------------- Result 81 ---------------------------------------------\n",
            "[[Positive (99%)]] --> [[[FAILED]]]\n",
            "\n",
            "a remarkable film by bernard rose .\n",
            "\n",
            "\n"
          ]
        },
        {
          "output_type": "stream",
          "name": "stderr",
          "text": [
            "\n",
            "[Succeeded / Failed / Skipped / Total] 0 / 71 / 10 / 81:  82%|████████▏ | 82/100 [05:10<01:08,  3.78s/it]\u001b[A\n",
            "[Succeeded / Failed / Skipped / Total] 0 / 72 / 10 / 82:  82%|████████▏ | 82/100 [05:10<01:08,  3.78s/it]\u001b[A"
          ]
        },
        {
          "output_type": "stream",
          "name": "stdout",
          "text": [
            "--------------------------------------------- Result 82 ---------------------------------------------\n",
            "[[Positive (99%)]] --> [[[FAILED]]]\n",
            "\n",
            "zhuangzhuang creates delicate balance of style , text , and subtext that's so simple and precise that anything discordant would topple the balance , but against all odds , nothing does .\n",
            "\n",
            "\n"
          ]
        },
        {
          "output_type": "stream",
          "name": "stderr",
          "text": [
            "\n",
            "[Succeeded / Failed / Skipped / Total] 0 / 72 / 10 / 82:  83%|████████▎ | 83/100 [05:12<01:03,  3.76s/it]\u001b[A\n",
            "[Succeeded / Failed / Skipped / Total] 0 / 73 / 10 / 83:  83%|████████▎ | 83/100 [05:12<01:03,  3.76s/it]\u001b[A"
          ]
        },
        {
          "output_type": "stream",
          "name": "stdout",
          "text": [
            "--------------------------------------------- Result 83 ---------------------------------------------\n",
            "[[Positive (100%)]] --> [[[FAILED]]]\n",
            "\n",
            "a much more successful translation than its most famous previous film adaptation , writer-director anthony friedman's similarly updated 1970 british production .\n",
            "\n",
            "\n"
          ]
        },
        {
          "output_type": "stream",
          "name": "stderr",
          "text": [
            "\n",
            "[Succeeded / Failed / Skipped / Total] 0 / 73 / 10 / 83:  84%|████████▍ | 84/100 [05:13<00:59,  3.73s/it]\u001b[A\n",
            "[Succeeded / Failed / Skipped / Total] 0 / 74 / 10 / 84:  84%|████████▍ | 84/100 [05:13<00:59,  3.73s/it]\u001b[A"
          ]
        },
        {
          "output_type": "stream",
          "name": "stdout",
          "text": [
            "--------------------------------------------- Result 84 ---------------------------------------------\n",
            "[[Positive (99%)]] --> [[[FAILED]]]\n",
            "\n",
            "an original and highly cerebral examination of the psychopathic mind\n",
            "\n",
            "\n"
          ]
        },
        {
          "output_type": "stream",
          "name": "stderr",
          "text": [
            "\n",
            "[Succeeded / Failed / Skipped / Total] 0 / 74 / 10 / 84:  85%|████████▌ | 85/100 [05:15<00:55,  3.71s/it]\u001b[A\n",
            "[Succeeded / Failed / Skipped / Total] 0 / 75 / 10 / 85:  85%|████████▌ | 85/100 [05:15<00:55,  3.71s/it]\u001b[A"
          ]
        },
        {
          "output_type": "stream",
          "name": "stdout",
          "text": [
            "--------------------------------------------- Result 85 ---------------------------------------------\n",
            "[[Positive (100%)]] --> [[[FAILED]]]\n",
            "\n",
            "michel piccoli's moving performance is this films reason for being .\n",
            "\n",
            "\n"
          ]
        },
        {
          "output_type": "stream",
          "name": "stderr",
          "text": [
            "\n",
            "[Succeeded / Failed / Skipped / Total] 0 / 75 / 10 / 85:  86%|████████▌ | 86/100 [05:18<00:51,  3.70s/it]\u001b[A\n",
            "[Succeeded / Failed / Skipped / Total] 0 / 76 / 10 / 86:  86%|████████▌ | 86/100 [05:18<00:51,  3.70s/it]\u001b[A"
          ]
        },
        {
          "output_type": "stream",
          "name": "stdout",
          "text": [
            "--------------------------------------------- Result 86 ---------------------------------------------\n",
            "[[Positive (100%)]] --> [[[FAILED]]]\n",
            "\n",
            "a captivating and intimate study about dying and loving . . .\n",
            "\n",
            "\n"
          ]
        },
        {
          "output_type": "stream",
          "name": "stderr",
          "text": [
            "\n",
            "[Succeeded / Failed / Skipped / Total] 0 / 76 / 10 / 86:  87%|████████▋ | 87/100 [05:21<00:48,  3.70s/it]\u001b[A\n",
            "[Succeeded / Failed / Skipped / Total] 0 / 77 / 10 / 87:  87%|████████▋ | 87/100 [05:21<00:48,  3.70s/it]\u001b[A"
          ]
        },
        {
          "output_type": "stream",
          "name": "stdout",
          "text": [
            "--------------------------------------------- Result 87 ---------------------------------------------\n",
            "[[Positive (100%)]] --> [[[FAILED]]]\n",
            "\n",
            "this is an elegantly balanced movie -- every member of the ensemble has something fascinating to do -- that doesn't reveal even a hint of artifice .\n",
            "\n",
            "\n"
          ]
        },
        {
          "output_type": "stream",
          "name": "stderr",
          "text": [
            "\n",
            "[Succeeded / Failed / Skipped / Total] 0 / 77 / 10 / 87:  88%|████████▊ | 88/100 [05:29<00:44,  3.75s/it]\u001b[A\n",
            "[Succeeded / Failed / Skipped / Total] 0 / 78 / 10 / 88:  88%|████████▊ | 88/100 [05:29<00:44,  3.75s/it]\u001b[A"
          ]
        },
        {
          "output_type": "stream",
          "name": "stdout",
          "text": [
            "--------------------------------------------- Result 88 ---------------------------------------------\n",
            "[[Positive (99%)]] --> [[[FAILED]]]\n",
            "\n",
            "[grant] goes beyond his usual fluttering and stammering and captures the soul of a man in pain who gradually comes to recognize it and deal with it .\n",
            "\n",
            "\n"
          ]
        },
        {
          "output_type": "stream",
          "name": "stderr",
          "text": [
            "\n",
            "[Succeeded / Failed / Skipped / Total] 0 / 78 / 10 / 88:  89%|████████▉ | 89/100 [05:32<00:41,  3.74s/it]\u001b[A\n",
            "[Succeeded / Failed / Skipped / Total] 0 / 79 / 10 / 89:  89%|████████▉ | 89/100 [05:32<00:41,  3.74s/it]\u001b[A"
          ]
        },
        {
          "output_type": "stream",
          "name": "stdout",
          "text": [
            "--------------------------------------------- Result 89 ---------------------------------------------\n",
            "[[Positive (98%)]] --> [[[FAILED]]]\n",
            "\n",
            "a high-spirited buddy movie about the reunion of berlin anarchists who face arrest 15 years after their crime .\n",
            "\n",
            "\n"
          ]
        },
        {
          "output_type": "stream",
          "name": "stderr",
          "text": [
            "\n",
            "[Succeeded / Failed / Skipped / Total] 0 / 79 / 10 / 89:  90%|█████████ | 90/100 [05:38<00:37,  3.76s/it]\u001b[A\n",
            "[Succeeded / Failed / Skipped / Total] 0 / 80 / 10 / 90:  90%|█████████ | 90/100 [05:38<00:37,  3.76s/it]\u001b[A"
          ]
        },
        {
          "output_type": "stream",
          "name": "stdout",
          "text": [
            "--------------------------------------------- Result 90 ---------------------------------------------\n",
            "[[Positive (99%)]] --> [[[FAILED]]]\n",
            "\n",
            "about the best thing you could say about narc is that it's a rock-solid little genre picture . whether you like it or not is basically a matter of taste .\n",
            "\n",
            "\n"
          ]
        },
        {
          "output_type": "stream",
          "name": "stderr",
          "text": [
            "\n",
            "[Succeeded / Failed / Skipped / Total] 0 / 80 / 10 / 90:  91%|█████████ | 91/100 [05:40<00:33,  3.74s/it]\u001b[A\n",
            "[Succeeded / Failed / Skipped / Total] 0 / 81 / 10 / 91:  91%|█████████ | 91/100 [05:40<00:33,  3.74s/it]\u001b[A"
          ]
        },
        {
          "output_type": "stream",
          "name": "stdout",
          "text": [
            "--------------------------------------------- Result 91 ---------------------------------------------\n",
            "[[Positive (100%)]] --> [[[FAILED]]]\n",
            "\n",
            "an involving , inspirational drama that sometimes falls prey to its sob-story trappings .\n",
            "\n",
            "\n"
          ]
        },
        {
          "output_type": "stream",
          "name": "stderr",
          "text": [
            "\n",
            "[Succeeded / Failed / Skipped / Total] 0 / 81 / 10 / 91:  92%|█████████▏| 92/100 [05:42<00:29,  3.72s/it]\u001b[A\n",
            "[Succeeded / Failed / Skipped / Total] 0 / 82 / 10 / 92:  92%|█████████▏| 92/100 [05:42<00:29,  3.72s/it]\u001b[A"
          ]
        },
        {
          "output_type": "stream",
          "name": "stdout",
          "text": [
            "--------------------------------------------- Result 92 ---------------------------------------------\n",
            "[[Positive (99%)]] --> [[[FAILED]]]\n",
            "\n",
            "some of the most inventive silliness you are likely to witness in a movie theatre for some time .\n",
            "\n",
            "\n"
          ]
        },
        {
          "output_type": "stream",
          "name": "stderr",
          "text": [
            "\n",
            "[Succeeded / Failed / Skipped / Total] 0 / 82 / 10 / 92:  93%|█████████▎| 93/100 [05:45<00:25,  3.71s/it]\u001b[A\n",
            "[Succeeded / Failed / Skipped / Total] 0 / 83 / 10 / 93:  93%|█████████▎| 93/100 [05:45<00:25,  3.71s/it]\u001b[A"
          ]
        },
        {
          "output_type": "stream",
          "name": "stdout",
          "text": [
            "--------------------------------------------- Result 93 ---------------------------------------------\n",
            "[[Positive (99%)]] --> [[[FAILED]]]\n",
            "\n",
            "canadian filmmaker gary burns' inventive and mordantly humorous take on the soullessness of work in the city .\n",
            "\n",
            "\n"
          ]
        },
        {
          "output_type": "stream",
          "name": "stderr",
          "text": [
            "\n",
            "[Succeeded / Failed / Skipped / Total] 0 / 83 / 10 / 93:  94%|█████████▍| 94/100 [05:53<00:22,  3.76s/it]\u001b[A\n",
            "[Succeeded / Failed / Skipped / Total] 0 / 84 / 10 / 94:  94%|█████████▍| 94/100 [05:53<00:22,  3.76s/it]\u001b[A"
          ]
        },
        {
          "output_type": "stream",
          "name": "stdout",
          "text": [
            "--------------------------------------------- Result 94 ---------------------------------------------\n",
            "[[Positive (100%)]] --> [[[FAILED]]]\n",
            "\n",
            "a rollicking ride , with jaw-dropping action sequences , striking villains , a gorgeous color palette , astounding technology , stirring music and a boffo last hour that leads up to a strangely sinister happy ending .\n",
            "\n",
            "\n"
          ]
        },
        {
          "output_type": "stream",
          "name": "stderr",
          "text": [
            "\n",
            "[Succeeded / Failed / Skipped / Total] 0 / 84 / 10 / 94:  95%|█████████▌| 95/100 [05:56<00:18,  3.75s/it]\u001b[A\n",
            "[Succeeded / Failed / Skipped / Total] 0 / 85 / 10 / 95:  95%|█████████▌| 95/100 [05:56<00:18,  3.75s/it]\u001b[A"
          ]
        },
        {
          "output_type": "stream",
          "name": "stdout",
          "text": [
            "--------------------------------------------- Result 95 ---------------------------------------------\n",
            "[[Positive (100%)]] --> [[[FAILED]]]\n",
            "\n",
            "everyone's insecure in lovely and amazing , a poignant and wryly amusing film about mothers , daughters and their relationships .\n",
            "\n",
            "\n"
          ]
        },
        {
          "output_type": "stream",
          "name": "stderr",
          "text": [
            "\n",
            "[Succeeded / Failed / Skipped / Total] 0 / 85 / 10 / 95:  96%|█████████▌| 96/100 [05:58<00:14,  3.73s/it]\u001b[A\n",
            "[Succeeded / Failed / Skipped / Total] 0 / 86 / 10 / 96:  96%|█████████▌| 96/100 [05:58<00:14,  3.73s/it]\u001b[A"
          ]
        },
        {
          "output_type": "stream",
          "name": "stdout",
          "text": [
            "--------------------------------------------- Result 96 ---------------------------------------------\n",
            "[[Positive (99%)]] --> [[[FAILED]]]\n",
            "\n",
            "the closest thing to the experience of space travel\n",
            "\n",
            "\n"
          ]
        },
        {
          "output_type": "stream",
          "name": "stderr",
          "text": [
            "\n",
            "[Succeeded / Failed / Skipped / Total] 0 / 86 / 10 / 96:  97%|█████████▋| 97/100 [05:58<00:11,  3.70s/it]\u001b[A\n",
            "[Succeeded / Failed / Skipped / Total] 0 / 87 / 10 / 97:  97%|█████████▋| 97/100 [05:58<00:11,  3.70s/it]\u001b[A"
          ]
        },
        {
          "output_type": "stream",
          "name": "stdout",
          "text": [
            "--------------------------------------------- Result 97 ---------------------------------------------\n",
            "[[Positive (99%)]] --> [[[FAILED]]]\n",
            "\n",
            "full of surprises .\n",
            "\n",
            "\n"
          ]
        },
        {
          "output_type": "stream",
          "name": "stderr",
          "text": [
            "\n",
            "[Succeeded / Failed / Skipped / Total] 0 / 87 / 10 / 97:  98%|█████████▊| 98/100 [06:01<00:07,  3.69s/it]\u001b[A\n",
            "[Succeeded / Failed / Skipped / Total] 0 / 88 / 10 / 98:  98%|█████████▊| 98/100 [06:01<00:07,  3.69s/it]\u001b[A"
          ]
        },
        {
          "output_type": "stream",
          "name": "stdout",
          "text": [
            "--------------------------------------------- Result 98 ---------------------------------------------\n",
            "[[Positive (95%)]] --> [[[FAILED]]]\n",
            "\n",
            "connoisseurs of chinese film will be pleased to discover that tian's meticulous talent has not withered during his enforced hiatus .\n",
            "\n",
            "\n"
          ]
        },
        {
          "output_type": "stream",
          "name": "stderr",
          "text": [
            "\n",
            "[Succeeded / Failed / Skipped / Total] 0 / 88 / 10 / 98:  99%|█████████▉| 99/100 [06:06<00:03,  3.70s/it]\u001b[A\n",
            "[Succeeded / Failed / Skipped / Total] 0 / 89 / 10 / 99:  99%|█████████▉| 99/100 [06:06<00:03,  3.70s/it]\u001b[A"
          ]
        },
        {
          "output_type": "stream",
          "name": "stdout",
          "text": [
            "--------------------------------------------- Result 99 ---------------------------------------------\n",
            "[[Positive (99%)]] --> [[[FAILED]]]\n",
            "\n",
            "if you can push on through the slow spots , you'll be rewarded with some fine acting .\n",
            "\n",
            "\n"
          ]
        },
        {
          "output_type": "stream",
          "name": "stderr",
          "text": [
            "\n",
            "[Succeeded / Failed / Skipped / Total] 0 / 89 / 10 / 99: 100%|██████████| 100/100 [06:08<00:00,  3.69s/it]\u001b[A\n",
            "[Succeeded / Failed / Skipped / Total] 0 / 90 / 10 / 100: 100%|██████████| 100/100 [06:08<00:00,  3.69s/it]"
          ]
        },
        {
          "output_type": "stream",
          "name": "stdout",
          "text": [
            "--------------------------------------------- Result 100 ---------------------------------------------\n",
            "[[Positive (96%)]] --> [[[FAILED]]]\n",
            "\n",
            "an unusually dry-eyed , even analytical approach to material that is generally played for maximum moisture .\n",
            "\n",
            "\n",
            "\n",
            "+-------------------------------+-------+\n",
            "| Attack Results                |       |\n",
            "+-------------------------------+-------+\n",
            "| Number of successful attacks: | 0     |\n",
            "| Number of failed attacks:     | 90    |\n",
            "| Number of skipped attacks:    | 10    |\n",
            "| Original accuracy:            | 90.0% |\n",
            "| Accuracy under attack:        | 90.0% |\n",
            "| Attack success rate:          | 0.0%  |\n",
            "| Average perturbed word %:     | nan%  |\n",
            "| Average num. words per input: | 18.45 |\n",
            "| Avg num queries:              | 209.4 |\n",
            "+-------------------------------+-------+"
          ]
        },
        {
          "output_type": "stream",
          "name": "stderr",
          "text": [
            "\n",
            "/usr/local/lib/python3.7/dist-packages/textattack/metrics/attack_metrics/words_perturbed.py:83: RuntimeWarning: Mean of empty slice.\n",
            "  average_perc_words_perturbed = self.perturbed_word_percentages.mean()\n",
            "/usr/local/lib/python3.7/dist-packages/numpy/core/_methods.py:189: RuntimeWarning: invalid value encountered in double_scalars\n",
            "  ret = ret.dtype.type(ret / rcount)\n",
            "textattack: Unknown if model of class <class 'transformers.models.albert.modeling_albert.AlbertForSequenceClassification'> compatible with goal function <class 'textattack.goal_functions.classification.input_reduction.InputReduction'>.\n",
            "\n",
            "  0%|          | 0/100 [00:00<?, ?it/s]\u001b[A"
          ]
        },
        {
          "output_type": "stream",
          "name": "stdout",
          "text": [
            "\n",
            "Starting attack for----------------- WordSwapHomoglyphSwap IR\n",
            "Attack(\n",
            "  (search_method): GreedyWordSwapWIR(\n",
            "    (wir_method):  weighted-saliency\n",
            "  )\n",
            "  (goal_function):  InputReduction(\n",
            "    (maximizable):  False\n",
            "    (target_num_words):  1\n",
            "  )\n",
            "  (transformation):  WordSwapHomoglyphSwap\n",
            "  (constraints): \n",
            "    (0): RepeatModification\n",
            "    (1): StopwordModification\n",
            "  (is_black_box):  True\n",
            ") \n",
            "\n"
          ]
        },
        {
          "output_type": "stream",
          "name": "stderr",
          "text": [
            "\n",
            "  1%|          | 1/100 [00:04<07:28,  4.53s/it]\u001b[A\n",
            "[Succeeded / Failed / Skipped / Total] 0 / 1 / 0 / 1:   1%|          | 1/100 [00:04<07:29,  4.54s/it]\u001b[A"
          ]
        },
        {
          "output_type": "stream",
          "name": "stdout",
          "text": [
            "--------------------------------------------- Result 1 ---------------------------------------------\n",
            "[[Positive (100%)]] --> [[[FAILED]]]\n",
            "\n",
            "lovingly photographed in the manner of a golden book sprung to life , stuart little 2 manages sweetness largely without stickiness .\n",
            "\n",
            "\n"
          ]
        },
        {
          "output_type": "stream",
          "name": "stderr",
          "text": [
            "\n",
            "[Succeeded / Failed / Skipped / Total] 0 / 1 / 0 / 1:   2%|▏         | 2/100 [00:05<04:19,  2.65s/it]\u001b[A\n",
            "[Succeeded / Failed / Skipped / Total] 0 / 2 / 0 / 2:   2%|▏         | 2/100 [00:05<04:19,  2.65s/it]\u001b[A\n",
            "[Succeeded / Failed / Skipped / Total] 0 / 2 / 1 / 3:   3%|▎         | 3/100 [00:05<02:52,  1.78s/it]\u001b[A"
          ]
        },
        {
          "output_type": "stream",
          "name": "stdout",
          "text": [
            "--------------------------------------------- Result 2 ---------------------------------------------\n",
            "[[Positive (100%)]] --> [[[FAILED]]]\n",
            "\n",
            "consistently clever and suspenseful .\n",
            "\n",
            "\n",
            "--------------------------------------------- Result 3 ---------------------------------------------\n",
            "[[Negative (85%)]] --> [[[SKIPPED]]]\n",
            "\n",
            "it's like a \" big chill \" reunion of the baader-meinhof gang , only these guys are more harmless pranksters than political activists .\n",
            "\n",
            "\n"
          ]
        },
        {
          "output_type": "stream",
          "name": "stderr",
          "text": [
            "\n",
            "[Succeeded / Failed / Skipped / Total] 0 / 2 / 1 / 3:   4%|▍         | 4/100 [00:09<03:55,  2.45s/it]\u001b[A\n",
            "[Succeeded / Failed / Skipped / Total] 0 / 3 / 1 / 4:   4%|▍         | 4/100 [00:09<03:55,  2.45s/it]\u001b[A"
          ]
        },
        {
          "output_type": "stream",
          "name": "stdout",
          "text": [
            "--------------------------------------------- Result 4 ---------------------------------------------\n",
            "[[Positive (100%)]] --> [[[FAILED]]]\n",
            "\n",
            "the story gives ample opportunity for large-scale action and suspense , which director shekhar kapur supplies with tremendous skill .\n",
            "\n",
            "\n"
          ]
        },
        {
          "output_type": "stream",
          "name": "stderr",
          "text": [
            "\n",
            "[Succeeded / Failed / Skipped / Total] 0 / 4 / 1 / 5:   5%|▌         | 5/100 [00:11<03:29,  2.21s/it]\u001b[A\n",
            "[Succeeded / Failed / Skipped / Total] 0 / 4 / 1 / 5:   6%|▌         | 6/100 [00:11<02:53,  1.84s/it]\u001b[A\n",
            "[Succeeded / Failed / Skipped / Total] 0 / 4 / 2 / 6:   6%|▌         | 6/100 [00:11<02:53,  1.85s/it]\u001b[A"
          ]
        },
        {
          "output_type": "stream",
          "name": "stdout",
          "text": [
            "--------------------------------------------- Result 5 ---------------------------------------------\n",
            "[[Positive (74%)]] --> [[[FAILED]]]\n",
            "\n",
            "red dragon \" never cuts corners .\n",
            "\n",
            "\n",
            "--------------------------------------------- Result 6 ---------------------------------------------\n",
            "[[Negative (64%)]] --> [[[SKIPPED]]]\n",
            "\n",
            "fresnadillo has something serious to say about the ways in which extravagant chance can distort our perspective and throw us off the path of good sense .\n",
            "\n",
            "\n"
          ]
        },
        {
          "output_type": "stream",
          "name": "stderr",
          "text": [
            "\n",
            "[Succeeded / Failed / Skipped / Total] 0 / 5 / 2 / 7:   7%|▋         | 7/100 [00:13<03:01,  1.95s/it]\u001b[A"
          ]
        },
        {
          "output_type": "stream",
          "name": "stdout",
          "text": [
            "--------------------------------------------- Result 7 ---------------------------------------------\n",
            "[[Positive (100%)]] --> [[[FAILED]]]\n",
            "\n",
            "throws in enough clever and unexpected twists to make the formula feel fresh .\n",
            "\n",
            "\n"
          ]
        },
        {
          "output_type": "stream",
          "name": "stderr",
          "text": [
            "\n",
            "[Succeeded / Failed / Skipped / Total] 0 / 5 / 2 / 7:   8%|▊         | 8/100 [00:15<03:00,  1.96s/it]\u001b[A\n",
            "[Succeeded / Failed / Skipped / Total] 0 / 6 / 2 / 8:   8%|▊         | 8/100 [00:15<03:00,  1.96s/it]\u001b[A"
          ]
        },
        {
          "output_type": "stream",
          "name": "stdout",
          "text": [
            "--------------------------------------------- Result 8 ---------------------------------------------\n",
            "[[Positive (97%)]] --> [[[FAILED]]]\n",
            "\n",
            "weighty and ponderous but every bit as filling as the treat of the title .\n",
            "\n",
            "\n"
          ]
        },
        {
          "output_type": "stream",
          "name": "stderr",
          "text": [
            "\n",
            "[Succeeded / Failed / Skipped / Total] 0 / 7 / 2 / 9:   9%|▉         | 9/100 [00:20<03:32,  2.33s/it]\u001b[A"
          ]
        },
        {
          "output_type": "stream",
          "name": "stdout",
          "text": [
            "--------------------------------------------- Result 9 ---------------------------------------------\n",
            "[[Positive (100%)]] --> [[[FAILED]]]\n",
            "\n",
            "a real audience-pleaser that will strike a chord with anyone who's ever waited in a doctor's office , emergency room , hospital bed or insurance company office .\n",
            "\n",
            "\n"
          ]
        },
        {
          "output_type": "stream",
          "name": "stderr",
          "text": [
            "\n",
            "[Succeeded / Failed / Skipped / Total] 0 / 7 / 2 / 9:  10%|█         | 10/100 [00:22<03:18,  2.21s/it]\u001b[A\n",
            "[Succeeded / Failed / Skipped / Total] 0 / 8 / 2 / 10:  10%|█         | 10/100 [00:22<03:18,  2.21s/it]\u001b[A"
          ]
        },
        {
          "output_type": "stream",
          "name": "stdout",
          "text": [
            "--------------------------------------------- Result 10 ---------------------------------------------\n",
            "[[Positive (100%)]] --> [[[FAILED]]]\n",
            "\n",
            "generates an enormous feeling of empathy for its characters .\n",
            "\n",
            "\n"
          ]
        },
        {
          "output_type": "stream",
          "name": "stderr",
          "text": [
            "\n",
            "[Succeeded / Failed / Skipped / Total] 0 / 9 / 2 / 11:  11%|█         | 11/100 [00:24<03:15,  2.19s/it]\u001b[A\n",
            "[Succeeded / Failed / Skipped / Total] 0 / 9 / 2 / 11:  12%|█▏        | 12/100 [00:24<02:57,  2.01s/it]\u001b[A\n",
            "[Succeeded / Failed / Skipped / Total] 0 / 9 / 3 / 12:  12%|█▏        | 12/100 [00:24<02:57,  2.01s/it]\u001b[A"
          ]
        },
        {
          "output_type": "stream",
          "name": "stdout",
          "text": [
            "--------------------------------------------- Result 11 ---------------------------------------------\n",
            "[[Positive (99%)]] --> [[[FAILED]]]\n",
            "\n",
            "exposing the ways we fool ourselves is one hour photo's real strength .\n",
            "\n",
            "\n",
            "--------------------------------------------- Result 12 ---------------------------------------------\n",
            "[[Negative (77%)]] --> [[[SKIPPED]]]\n",
            "\n",
            "it's up to you to decide whether to admire these people's dedication to their cause or be repelled by their dogmatism , manipulativeness and narrow , fearful view of american life .\n",
            "\n",
            "\n"
          ]
        },
        {
          "output_type": "stream",
          "name": "stderr",
          "text": [
            "\n",
            "[Succeeded / Failed / Skipped / Total] 0 / 10 / 3 / 13:  13%|█▎        | 13/100 [00:27<03:01,  2.08s/it]\u001b[A"
          ]
        },
        {
          "output_type": "stream",
          "name": "stdout",
          "text": [
            "--------------------------------------------- Result 13 ---------------------------------------------\n",
            "[[Positive (96%)]] --> [[[FAILED]]]\n",
            "\n",
            "mostly , [goldbacher] just lets her complicated characters be unruly , confusing and , through it all , human .\n",
            "\n",
            "\n"
          ]
        },
        {
          "output_type": "stream",
          "name": "stderr",
          "text": [
            "\n",
            "[Succeeded / Failed / Skipped / Total] 0 / 10 / 3 / 13:  14%|█▍        | 14/100 [00:28<02:57,  2.07s/it]\u001b[A\n",
            "[Succeeded / Failed / Skipped / Total] 0 / 11 / 3 / 14:  14%|█▍        | 14/100 [00:28<02:57,  2.07s/it]\u001b[A\n",
            "[Succeeded / Failed / Skipped / Total] 0 / 11 / 4 / 15:  15%|█▌        | 15/100 [00:28<02:44,  1.93s/it]\u001b[A"
          ]
        },
        {
          "output_type": "stream",
          "name": "stdout",
          "text": [
            "--------------------------------------------- Result 14 ---------------------------------------------\n",
            "[[Positive (99%)]] --> [[[FAILED]]]\n",
            "\n",
            ". . . quite good at providing some good old fashioned spooks .\n",
            "\n",
            "\n",
            "--------------------------------------------- Result 15 ---------------------------------------------\n",
            "[[Negative (96%)]] --> [[[SKIPPED]]]\n",
            "\n",
            "at its worst , the movie is pretty diverting ; the pity is that it rarely achieves its best .\n",
            "\n",
            "\n"
          ]
        },
        {
          "output_type": "stream",
          "name": "stderr",
          "text": [
            "\n",
            "[Succeeded / Failed / Skipped / Total] 0 / 11 / 4 / 15:  16%|█▌        | 16/100 [00:32<02:51,  2.04s/it]\u001b[A\n",
            "[Succeeded / Failed / Skipped / Total] 0 / 12 / 4 / 16:  16%|█▌        | 16/100 [00:32<02:51,  2.04s/it]\u001b[A"
          ]
        },
        {
          "output_type": "stream",
          "name": "stdout",
          "text": [
            "--------------------------------------------- Result 16 ---------------------------------------------\n",
            "[[Positive (100%)]] --> [[[FAILED]]]\n",
            "\n",
            "scherfig's light-hearted profile of emotional desperation is achingly honest and delightfully cheeky .\n",
            "\n",
            "\n"
          ]
        },
        {
          "output_type": "stream",
          "name": "stderr",
          "text": [
            "\n",
            "[Succeeded / Failed / Skipped / Total] 0 / 13 / 4 / 17:  17%|█▋        | 17/100 [00:40<03:15,  2.36s/it]\u001b[A"
          ]
        },
        {
          "output_type": "stream",
          "name": "stdout",
          "text": [
            "--------------------------------------------- Result 17 ---------------------------------------------\n",
            "[[Positive (100%)]] --> [[[FAILED]]]\n",
            "\n",
            "a journey spanning nearly three decades of bittersweet camaraderie and history , in which we feel that we truly know what makes holly and marina tick , and our hearts go out to them as both continue to negotiate their imperfect , love-hate relationship .\n",
            "\n",
            "\n"
          ]
        },
        {
          "output_type": "stream",
          "name": "stderr",
          "text": [
            "\n",
            "[Succeeded / Failed / Skipped / Total] 0 / 13 / 4 / 17:  17%|█▋        | 17/100 [00:45<03:44,  2.70s/it]\u001b[A\n",
            "[Succeeded / Failed / Skipped / Total] 0 / 13 / 4 / 17:  18%|█▊        | 18/100 [00:47<03:34,  2.62s/it]\u001b[A\n",
            "[Succeeded / Failed / Skipped / Total] 0 / 14 / 4 / 18:  18%|█▊        | 18/100 [00:47<03:34,  2.62s/it]\u001b[A"
          ]
        },
        {
          "output_type": "stream",
          "name": "stdout",
          "text": [
            "--------------------------------------------- Result 18 ---------------------------------------------\n",
            "[[Positive (100%)]] --> [[[FAILED]]]\n",
            "\n",
            "the wonderfully lush morvern callar is pure punk existentialism , and ms . ramsay and her co-writer , liana dognini , have dramatized the alan warner novel , which itself felt like an answer to irvine welsh's book trainspotting .\n",
            "\n",
            "\n"
          ]
        },
        {
          "output_type": "stream",
          "name": "stderr",
          "text": [
            "\n",
            "[Succeeded / Failed / Skipped / Total] 0 / 14 / 4 / 18:  19%|█▉        | 19/100 [00:47<03:23,  2.52s/it]\u001b[A\n",
            "[Succeeded / Failed / Skipped / Total] 0 / 15 / 4 / 19:  19%|█▉        | 19/100 [00:47<03:23,  2.52s/it]\u001b[A"
          ]
        },
        {
          "output_type": "stream",
          "name": "stdout",
          "text": [
            "--------------------------------------------- Result 19 ---------------------------------------------\n",
            "[[Positive (76%)]] --> [[[FAILED]]]\n",
            "\n",
            "as it turns out , you can go home again .\n",
            "\n",
            "\n"
          ]
        },
        {
          "output_type": "stream",
          "name": "stderr",
          "text": [
            "\n",
            "[Succeeded / Failed / Skipped / Total] 0 / 15 / 4 / 19:  20%|██        | 20/100 [00:50<03:21,  2.52s/it]\u001b[A\n",
            "[Succeeded / Failed / Skipped / Total] 0 / 16 / 4 / 20:  20%|██        | 20/100 [00:50<03:21,  2.52s/it]\u001b[A"
          ]
        },
        {
          "output_type": "stream",
          "name": "stdout",
          "text": [
            "--------------------------------------------- Result 20 ---------------------------------------------\n",
            "[[Positive (99%)]] --> [[[FAILED]]]\n",
            "\n",
            "you've already seen city by the sea under a variety of titles , but it's worth yet another visit .\n",
            "\n",
            "\n"
          ]
        },
        {
          "output_type": "stream",
          "name": "stderr",
          "text": [
            "\n",
            "[Succeeded / Failed / Skipped / Total] 0 / 16 / 4 / 20:  21%|██        | 21/100 [00:55<03:30,  2.66s/it]\u001b[A\n",
            "[Succeeded / Failed / Skipped / Total] 0 / 17 / 4 / 21:  21%|██        | 21/100 [00:55<03:30,  2.66s/it]\u001b[A"
          ]
        },
        {
          "output_type": "stream",
          "name": "stdout",
          "text": [
            "--------------------------------------------- Result 21 ---------------------------------------------\n",
            "[[Positive (100%)]] --> [[[FAILED]]]\n",
            "\n",
            "this kind of hands-on storytelling is ultimately what makes shanghai ghetto move beyond a good , dry , reliable textbook and what allows it to rank with its worthy predecessors .\n",
            "\n",
            "\n"
          ]
        },
        {
          "output_type": "stream",
          "name": "stderr",
          "text": [
            "\n",
            "[Succeeded / Failed / Skipped / Total] 0 / 17 / 4 / 21:  22%|██▏       | 22/100 [01:02<03:41,  2.84s/it]\u001b[A\n",
            "[Succeeded / Failed / Skipped / Total] 0 / 18 / 4 / 22:  22%|██▏       | 22/100 [01:02<03:41,  2.84s/it]\u001b[A"
          ]
        },
        {
          "output_type": "stream",
          "name": "stdout",
          "text": [
            "--------------------------------------------- Result 22 ---------------------------------------------\n",
            "[[Positive (83%)]] --> [[[FAILED]]]\n",
            "\n",
            "making such a tragedy the backdrop to a love story risks trivializing it , though chouraqui no doubt intended the film to affirm love's power to help people endure almost unimaginable horror .\n",
            "\n",
            "\n"
          ]
        },
        {
          "output_type": "stream",
          "name": "stderr",
          "text": [
            "\n",
            "[Succeeded / Failed / Skipped / Total] 0 / 18 / 4 / 22:  23%|██▎       | 23/100 [01:06<03:41,  2.88s/it]\u001b[A\n",
            "[Succeeded / Failed / Skipped / Total] 0 / 19 / 4 / 23:  23%|██▎       | 23/100 [01:06<03:41,  2.88s/it]\u001b[A"
          ]
        },
        {
          "output_type": "stream",
          "name": "stdout",
          "text": [
            "--------------------------------------------- Result 23 ---------------------------------------------\n",
            "[[Positive (79%)]] --> [[[FAILED]]]\n",
            "\n",
            "grown-up quibbles are beside the point here . the little girls understand , and mccracken knows that's all that matters .\n",
            "\n",
            "\n"
          ]
        },
        {
          "output_type": "stream",
          "name": "stderr",
          "text": [
            "\n",
            "[Succeeded / Failed / Skipped / Total] 0 / 19 / 4 / 23:  24%|██▍       | 24/100 [01:08<03:36,  2.85s/it]\u001b[A\n",
            "[Succeeded / Failed / Skipped / Total] 0 / 20 / 4 / 24:  24%|██▍       | 24/100 [01:08<03:36,  2.85s/it]\u001b[A"
          ]
        },
        {
          "output_type": "stream",
          "name": "stdout",
          "text": [
            "--------------------------------------------- Result 24 ---------------------------------------------\n",
            "[[Positive (100%)]] --> [[[FAILED]]]\n",
            "\n",
            "a powerful , chilling , and affecting study of one man's dying fall .\n",
            "\n",
            "\n"
          ]
        },
        {
          "output_type": "stream",
          "name": "stderr",
          "text": [
            "\n",
            "[Succeeded / Failed / Skipped / Total] 0 / 20 / 4 / 24:  25%|██▌       | 25/100 [01:10<03:30,  2.81s/it]\u001b[A\n",
            "[Succeeded / Failed / Skipped / Total] 0 / 21 / 4 / 25:  25%|██▌       | 25/100 [01:10<03:30,  2.81s/it]\u001b[A\n",
            "[Succeeded / Failed / Skipped / Total] 0 / 21 / 5 / 26:  26%|██▌       | 26/100 [01:10<03:20,  2.71s/it]\u001b[A"
          ]
        },
        {
          "output_type": "stream",
          "name": "stdout",
          "text": [
            "--------------------------------------------- Result 25 ---------------------------------------------\n",
            "[[Positive (92%)]] --> [[[FAILED]]]\n",
            "\n",
            "this is a fascinating film because there is no clear-cut hero and no all-out villain .\n",
            "\n",
            "\n",
            "--------------------------------------------- Result 26 ---------------------------------------------\n",
            "[[Negative (66%)]] --> [[[SKIPPED]]]\n",
            "\n",
            "a dreadful day in irish history is given passionate , if somewhat flawed , treatment .\n",
            "\n",
            "\n"
          ]
        },
        {
          "output_type": "stream",
          "name": "stderr",
          "text": [
            "\n",
            "[Succeeded / Failed / Skipped / Total] 0 / 21 / 5 / 26:  27%|██▋       | 27/100 [01:12<03:15,  2.68s/it]\u001b[A\n",
            "[Succeeded / Failed / Skipped / Total] 0 / 22 / 5 / 27:  27%|██▋       | 27/100 [01:12<03:15,  2.68s/it]\u001b[A"
          ]
        },
        {
          "output_type": "stream",
          "name": "stdout",
          "text": [
            "--------------------------------------------- Result 27 ---------------------------------------------\n",
            "[[Positive (92%)]] --> [[[FAILED]]]\n",
            "\n",
            ". . . a good film that must have baffled the folks in the marketing department .\n",
            "\n",
            "\n"
          ]
        },
        {
          "output_type": "stream",
          "name": "stderr",
          "text": [
            "\n",
            "[Succeeded / Failed / Skipped / Total] 0 / 23 / 5 / 28:  28%|██▊       | 28/100 [01:17<03:20,  2.78s/it]\u001b[A\n",
            "[Succeeded / Failed / Skipped / Total] 0 / 23 / 5 / 28:  29%|██▉       | 29/100 [01:17<03:10,  2.68s/it]\u001b[A\n",
            "[Succeeded / Failed / Skipped / Total] 0 / 23 / 6 / 29:  29%|██▉       | 29/100 [01:17<03:10,  2.68s/it]\u001b[A"
          ]
        },
        {
          "output_type": "stream",
          "name": "stdout",
          "text": [
            "--------------------------------------------- Result 28 ---------------------------------------------\n",
            "[[Positive (100%)]] --> [[[FAILED]]]\n",
            "\n",
            ". . . is funny in the way that makes you ache with sadness ( the way chekhov is funny ) , profound without ever being self-important , warm without ever succumbing to sentimentality .\n",
            "\n",
            "\n",
            "--------------------------------------------- Result 29 ---------------------------------------------\n",
            "[[Negative (93%)]] --> [[[SKIPPED]]]\n",
            "\n",
            "devotees of star trek ii : the wrath of khan will feel a nagging sense of deja vu , and the grandeur of the best next generation episodes is lacking .\n",
            "\n",
            "\n"
          ]
        },
        {
          "output_type": "stream",
          "name": "stderr",
          "text": [
            "\n",
            "[Succeeded / Failed / Skipped / Total] 0 / 24 / 6 / 30:  30%|███       | 30/100 [01:21<03:11,  2.73s/it]\u001b[A"
          ]
        },
        {
          "output_type": "stream",
          "name": "stdout",
          "text": [
            "--------------------------------------------- Result 30 ---------------------------------------------\n",
            "[[Positive (99%)]] --> [[[FAILED]]]\n",
            "\n",
            "a soul-stirring documentary about the israeli/palestinian conflict as revealed through the eyes of some children who remain curious about each other against all odds .\n",
            "\n",
            "\n"
          ]
        },
        {
          "output_type": "stream",
          "name": "stderr",
          "text": [
            "\n",
            "[Succeeded / Failed / Skipped / Total] 0 / 24 / 6 / 30:  31%|███       | 31/100 [01:26<03:11,  2.78s/it]\u001b[A\n",
            "[Succeeded / Failed / Skipped / Total] 0 / 25 / 6 / 31:  31%|███       | 31/100 [01:26<03:11,  2.78s/it]\u001b[A\n",
            "[Succeeded / Failed / Skipped / Total] 0 / 25 / 7 / 32:  32%|███▏      | 32/100 [01:26<03:02,  2.69s/it]\u001b[A"
          ]
        },
        {
          "output_type": "stream",
          "name": "stdout",
          "text": [
            "--------------------------------------------- Result 31 ---------------------------------------------\n",
            "[[Positive (93%)]] --> [[[FAILED]]]\n",
            "\n",
            "what's so striking about jolie's performance is that she never lets her character become a caricature -- not even with that radioactive hair .\n",
            "\n",
            "\n",
            "--------------------------------------------- Result 32 ---------------------------------------------\n",
            "[[Negative (98%)]] --> [[[SKIPPED]]]\n",
            "\n",
            "the main story . . . is compelling enough , but it's difficult to shrug off the annoyance of that chatty fish .\n",
            "\n",
            "\n"
          ]
        },
        {
          "output_type": "stream",
          "name": "stderr",
          "text": [
            "\n",
            "[Succeeded / Failed / Skipped / Total] 0 / 25 / 7 / 32:  33%|███▎      | 33/100 [01:28<02:59,  2.68s/it]\u001b[A\n",
            "[Succeeded / Failed / Skipped / Total] 0 / 26 / 7 / 33:  33%|███▎      | 33/100 [01:28<02:59,  2.68s/it]\u001b[A"
          ]
        },
        {
          "output_type": "stream",
          "name": "stdout",
          "text": [
            "--------------------------------------------- Result 33 ---------------------------------------------\n",
            "[[Positive (100%)]] --> [[[FAILED]]]\n",
            "\n",
            "the performances are immaculate , with roussillon providing comic relief .\n",
            "\n",
            "\n"
          ]
        },
        {
          "output_type": "stream",
          "name": "stderr",
          "text": [
            "\n",
            "[Succeeded / Failed / Skipped / Total] 0 / 27 / 7 / 34:  34%|███▍      | 34/100 [01:32<02:58,  2.71s/it]\u001b[A"
          ]
        },
        {
          "output_type": "stream",
          "name": "stdout",
          "text": [
            "--------------------------------------------- Result 34 ---------------------------------------------\n",
            "[[Positive (99%)]] --> [[[FAILED]]]\n",
            "\n",
            "kinnear . . . gives his best screen performance with an oddly winning portrayal of one of life's ultimate losers .\n",
            "\n",
            "\n"
          ]
        },
        {
          "output_type": "stream",
          "name": "stderr",
          "text": [
            "\n",
            "[Succeeded / Failed / Skipped / Total] 0 / 27 / 7 / 34:  35%|███▌      | 35/100 [01:34<02:54,  2.69s/it]\u001b[A\n",
            "[Succeeded / Failed / Skipped / Total] 0 / 28 / 7 / 35:  35%|███▌      | 35/100 [01:34<02:54,  2.69s/it]\u001b[A"
          ]
        },
        {
          "output_type": "stream",
          "name": "stdout",
          "text": [
            "--------------------------------------------- Result 35 ---------------------------------------------\n",
            "[[Positive (98%)]] --> [[[FAILED]]]\n",
            "\n",
            "hugh grant , who has a good line in charm , has never been more charming than in about a boy .\n",
            "\n",
            "\n"
          ]
        },
        {
          "output_type": "stream",
          "name": "stderr",
          "text": [
            "\n",
            "[Succeeded / Failed / Skipped / Total] 0 / 29 / 7 / 36:  36%|███▌      | 36/100 [01:37<02:53,  2.72s/it]\u001b[A"
          ]
        },
        {
          "output_type": "stream",
          "name": "stdout",
          "text": [
            "--------------------------------------------- Result 36 ---------------------------------------------\n",
            "[[Positive (94%)]] --> [[[FAILED]]]\n",
            "\n",
            "there's a lot of tooth in roger dodger . but what's nice is that there's a casual intelligence that permeates the script .\n",
            "\n",
            "\n"
          ]
        },
        {
          "output_type": "stream",
          "name": "stderr",
          "text": [
            "\n",
            "[Succeeded / Failed / Skipped / Total] 0 / 29 / 7 / 36:  37%|███▋      | 37/100 [01:41<02:52,  2.74s/it]\u001b[A\n",
            "[Succeeded / Failed / Skipped / Total] 0 / 30 / 7 / 37:  37%|███▋      | 37/100 [01:41<02:52,  2.74s/it]\u001b[A"
          ]
        },
        {
          "output_type": "stream",
          "name": "stdout",
          "text": [
            "--------------------------------------------- Result 37 ---------------------------------------------\n",
            "[[Positive (97%)]] --> [[[FAILED]]]\n",
            "\n",
            "reminiscent of alfred hitchcock's thrillers , most of the scary parts in 'signs' occur while waiting for things to happen .\n",
            "\n",
            "\n"
          ]
        },
        {
          "output_type": "stream",
          "name": "stderr",
          "text": [
            "\n",
            "[Succeeded / Failed / Skipped / Total] 0 / 31 / 7 / 38:  38%|███▊      | 38/100 [01:43<02:48,  2.72s/it]\u001b[A"
          ]
        },
        {
          "output_type": "stream",
          "name": "stdout",
          "text": [
            "--------------------------------------------- Result 38 ---------------------------------------------\n",
            "[[Positive (100%)]] --> [[[FAILED]]]\n",
            "\n",
            "one of the best looking and stylish animated movies in quite a while . . .\n",
            "\n",
            "\n"
          ]
        },
        {
          "output_type": "stream",
          "name": "stderr",
          "text": [
            "\n",
            "[Succeeded / Failed / Skipped / Total] 0 / 31 / 7 / 38:  39%|███▉      | 39/100 [01:49<02:50,  2.80s/it]\u001b[A\n",
            "[Succeeded / Failed / Skipped / Total] 0 / 32 / 7 / 39:  39%|███▉      | 39/100 [01:49<02:50,  2.80s/it]\u001b[A"
          ]
        },
        {
          "output_type": "stream",
          "name": "stdout",
          "text": [
            "--------------------------------------------- Result 39 ---------------------------------------------\n",
            "[[Positive (100%)]] --> [[[FAILED]]]\n",
            "\n",
            "its use of the thriller form to examine the labyrinthine ways in which people's lives cross and change , buffeted by events seemingly out of their control , is intriguing , provocative stuff .\n",
            "\n",
            "\n"
          ]
        },
        {
          "output_type": "stream",
          "name": "stderr",
          "text": [
            "\n",
            "[Succeeded / Failed / Skipped / Total] 0 / 33 / 7 / 40:  40%|████      | 40/100 [01:53<02:50,  2.84s/it]\u001b[A"
          ]
        },
        {
          "output_type": "stream",
          "name": "stdout",
          "text": [
            "--------------------------------------------- Result 40 ---------------------------------------------\n",
            "[[Positive (100%)]] --> [[[FAILED]]]\n",
            "\n",
            "denver should not get the first and last look at one of the most triumphant performances of vanessa redgrave's career . it deserves to be seen everywhere .\n",
            "\n",
            "\n"
          ]
        },
        {
          "output_type": "stream",
          "name": "stderr",
          "text": [
            "\n",
            "[Succeeded / Failed / Skipped / Total] 0 / 33 / 7 / 40:  40%|████      | 40/100 [01:59<02:58,  2.98s/it]\u001b[A\n",
            "[Succeeded / Failed / Skipped / Total] 0 / 33 / 7 / 40:  41%|████      | 41/100 [01:59<02:52,  2.92s/it]\u001b[A\n",
            "[Succeeded / Failed / Skipped / Total] 0 / 34 / 7 / 41:  41%|████      | 41/100 [01:59<02:52,  2.92s/it]\u001b[A"
          ]
        },
        {
          "output_type": "stream",
          "name": "stdout",
          "text": [
            "--------------------------------------------- Result 41 ---------------------------------------------\n",
            "[[Positive (100%)]] --> [[[FAILED]]]\n",
            "\n",
            "you needn't be steeped in '50s sociology , pop culture or movie lore to appreciate the emotional depth of haynes' work . though haynes' style apes films from the period . . . its message is not rooted in that decade .\n",
            "\n",
            "\n"
          ]
        },
        {
          "output_type": "stream",
          "name": "stderr",
          "text": [
            "\n",
            "[Succeeded / Failed / Skipped / Total] 0 / 34 / 7 / 41:  42%|████▏     | 42/100 [02:02<02:48,  2.91s/it]\u001b[A\n",
            "[Succeeded / Failed / Skipped / Total] 0 / 35 / 7 / 42:  42%|████▏     | 42/100 [02:02<02:48,  2.91s/it]\u001b[A"
          ]
        },
        {
          "output_type": "stream",
          "name": "stdout",
          "text": [
            "--------------------------------------------- Result 42 ---------------------------------------------\n",
            "[[Positive (99%)]] --> [[[FAILED]]]\n",
            "\n",
            "waiting for godard can be fruitful : 'in praise of love' is the director's epitaph for himself .\n",
            "\n",
            "\n"
          ]
        },
        {
          "output_type": "stream",
          "name": "stderr",
          "text": [
            "\n",
            "[Succeeded / Failed / Skipped / Total] 0 / 35 / 7 / 42:  43%|████▎     | 43/100 [02:03<02:43,  2.87s/it]\u001b[A\n",
            "[Succeeded / Failed / Skipped / Total] 0 / 36 / 7 / 43:  43%|████▎     | 43/100 [02:03<02:43,  2.87s/it]\u001b[A"
          ]
        },
        {
          "output_type": "stream",
          "name": "stdout",
          "text": [
            "--------------------------------------------- Result 43 ---------------------------------------------\n",
            "[[Positive (98%)]] --> [[[FAILED]]]\n",
            "\n",
            "a gangster movie with the capacity to surprise .\n",
            "\n",
            "\n"
          ]
        },
        {
          "output_type": "stream",
          "name": "stderr",
          "text": [
            "\n",
            "[Succeeded / Failed / Skipped / Total] 0 / 36 / 7 / 43:  44%|████▍     | 44/100 [02:08<02:43,  2.92s/it]\u001b[A\n",
            "[Succeeded / Failed / Skipped / Total] 0 / 37 / 7 / 44:  44%|████▍     | 44/100 [02:08<02:43,  2.92s/it]\u001b[A\n",
            "[Succeeded / Failed / Skipped / Total] 0 / 37 / 8 / 45:  45%|████▌     | 45/100 [02:08<02:36,  2.85s/it]\u001b[A\n",
            "[Succeeded / Failed / Skipped / Total] 0 / 37 / 9 / 46:  46%|████▌     | 46/100 [02:08<02:30,  2.79s/it]\u001b[A"
          ]
        },
        {
          "output_type": "stream",
          "name": "stdout",
          "text": [
            "--------------------------------------------- Result 44 ---------------------------------------------\n",
            "[[Positive (99%)]] --> [[[FAILED]]]\n",
            "\n",
            "the film has a laundry list of minor shortcomings , but the numerous scenes of gory mayhem are worth the price of admission . . . if \" gory mayhem \" is your idea of a good time .\n",
            "\n",
            "\n",
            "--------------------------------------------- Result 45 ---------------------------------------------\n",
            "[[Negative (94%)]] --> [[[SKIPPED]]]\n",
            "\n",
            "if not a home run , then at least a solid base hit .\n",
            "\n",
            "\n",
            "--------------------------------------------- Result 46 ---------------------------------------------\n",
            "[[Negative (86%)]] --> [[[SKIPPED]]]\n",
            "\n",
            "goldmember is funny enough to justify the embarrassment of bringing a barf bag to the moviehouse .\n",
            "\n",
            "\n"
          ]
        },
        {
          "output_type": "stream",
          "name": "stderr",
          "text": [
            "\n",
            "[Succeeded / Failed / Skipped / Total] 0 / 37 / 9 / 46:  47%|████▋     | 47/100 [02:10<02:27,  2.77s/it]\u001b[A\n",
            "[Succeeded / Failed / Skipped / Total] 0 / 38 / 9 / 47:  47%|████▋     | 47/100 [02:10<02:27,  2.77s/it]\u001b[A"
          ]
        },
        {
          "output_type": "stream",
          "name": "stdout",
          "text": [
            "--------------------------------------------- Result 47 ---------------------------------------------\n",
            "[[Positive (96%)]] --> [[[FAILED]]]\n",
            "\n",
            ". . . a fairly disposable yet still entertaining b picture .\n",
            "\n",
            "\n"
          ]
        },
        {
          "output_type": "stream",
          "name": "stderr",
          "text": [
            "\n",
            "[Succeeded / Failed / Skipped / Total] 0 / 39 / 9 / 48:  48%|████▊     | 48/100 [02:14<02:26,  2.81s/it]\u001b[A"
          ]
        },
        {
          "output_type": "stream",
          "name": "stdout",
          "text": [
            "--------------------------------------------- Result 48 ---------------------------------------------\n",
            "[[Positive (100%)]] --> [[[FAILED]]]\n",
            "\n",
            "it may not be particularly innovative , but the film's crisp , unaffected style and air of gentle longing make it unexpectedly rewarding .\n",
            "\n",
            "\n"
          ]
        },
        {
          "output_type": "stream",
          "name": "stderr",
          "text": [
            "\n",
            "[Succeeded / Failed / Skipped / Total] 0 / 40 / 9 / 49:  49%|████▉     | 49/100 [02:17<02:22,  2.80s/it]\u001b[A"
          ]
        },
        {
          "output_type": "stream",
          "name": "stdout",
          "text": [
            "--------------------------------------------- Result 49 ---------------------------------------------\n",
            "[[Positive (100%)]] --> [[[FAILED]]]\n",
            "\n",
            "the film truly does rescue [the funk brothers] from motown's shadows . it's about time .\n",
            "\n",
            "\n"
          ]
        },
        {
          "output_type": "stream",
          "name": "stderr",
          "text": [
            "\n",
            "[Succeeded / Failed / Skipped / Total] 0 / 40 / 9 / 49:  50%|█████     | 50/100 [02:23<02:23,  2.86s/it]\u001b[A\n",
            "[Succeeded / Failed / Skipped / Total] 0 / 41 / 9 / 50:  50%|█████     | 50/100 [02:23<02:23,  2.86s/it]\u001b[A"
          ]
        },
        {
          "output_type": "stream",
          "name": "stdout",
          "text": [
            "--------------------------------------------- Result 50 ---------------------------------------------\n",
            "[[Positive (99%)]] --> [[[FAILED]]]\n",
            "\n",
            "drawing on an irresistible , languid romanticism , byler reveals the ways in which a sultry evening or a beer-fueled afternoon in the sun can inspire even the most retiring heart to venture forth .\n",
            "\n",
            "\n"
          ]
        },
        {
          "output_type": "stream",
          "name": "stderr",
          "text": [
            "\n",
            "[Succeeded / Failed / Skipped / Total] 0 / 41 / 9 / 50:  51%|█████     | 51/100 [02:27<02:21,  2.89s/it]\u001b[A\n",
            "[Succeeded / Failed / Skipped / Total] 0 / 42 / 9 / 51:  51%|█████     | 51/100 [02:27<02:21,  2.89s/it]\u001b[A"
          ]
        },
        {
          "output_type": "stream",
          "name": "stdout",
          "text": [
            "--------------------------------------------- Result 51 ---------------------------------------------\n",
            "[[Positive (95%)]] --> [[[FAILED]]]\n",
            "\n",
            "works because we're never sure if ohlinger's on the level or merely a dying , delusional man trying to get into the history books before he croaks .\n",
            "\n",
            "\n"
          ]
        },
        {
          "output_type": "stream",
          "name": "stderr",
          "text": [
            "\n",
            "[Succeeded / Failed / Skipped / Total] 0 / 42 / 9 / 51:  52%|█████▏    | 52/100 [02:30<02:18,  2.89s/it]\u001b[A\n",
            "[Succeeded / Failed / Skipped / Total] 0 / 43 / 9 / 52:  52%|█████▏    | 52/100 [02:30<02:18,  2.89s/it]\u001b[A"
          ]
        },
        {
          "output_type": "stream",
          "name": "stdout",
          "text": [
            "--------------------------------------------- Result 52 ---------------------------------------------\n",
            "[[Positive (99%)]] --> [[[FAILED]]]\n",
            "\n",
            "[scherfig] has made a movie that will leave you wondering about the characters' lives after the clever credits roll .\n",
            "\n",
            "\n"
          ]
        },
        {
          "output_type": "stream",
          "name": "stderr",
          "text": [
            "\n",
            "[Succeeded / Failed / Skipped / Total] 0 / 43 / 9 / 52:  53%|█████▎    | 53/100 [02:36<02:18,  2.95s/it]\u001b[A\n",
            "[Succeeded / Failed / Skipped / Total] 0 / 44 / 9 / 53:  53%|█████▎    | 53/100 [02:36<02:18,  2.95s/it]\u001b[A"
          ]
        },
        {
          "output_type": "stream",
          "name": "stdout",
          "text": [
            "--------------------------------------------- Result 53 ---------------------------------------------\n",
            "[[Positive (94%)]] --> [[[FAILED]]]\n",
            "\n",
            "a heady , biting , be-bop ride through nighttime manhattan , a loquacious videologue of the modern male and the lengths to which he'll go to weave a protective cocoon around his own ego .\n",
            "\n",
            "\n"
          ]
        },
        {
          "output_type": "stream",
          "name": "stderr",
          "text": [
            "\n",
            "[Succeeded / Failed / Skipped / Total] 0 / 44 / 9 / 53:  54%|█████▍    | 54/100 [02:41<02:17,  2.99s/it]\u001b[A\n",
            "[Succeeded / Failed / Skipped / Total] 0 / 45 / 9 / 54:  54%|█████▍    | 54/100 [02:41<02:17,  2.99s/it]\u001b[A"
          ]
        },
        {
          "output_type": "stream",
          "name": "stdout",
          "text": [
            "--------------------------------------------- Result 54 ---------------------------------------------\n",
            "[[Positive (86%)]] --> [[[FAILED]]]\n",
            "\n",
            "skin of man gets a few cheap shocks from its kids-in-peril theatrics , but it also taps into the primal fears of young people trying to cope with the mysterious and brutal nature of adults .\n",
            "\n",
            "\n"
          ]
        },
        {
          "output_type": "stream",
          "name": "stderr",
          "text": [
            "\n",
            "[Succeeded / Failed / Skipped / Total] 0 / 45 / 9 / 54:  55%|█████▌    | 55/100 [02:46<02:16,  3.03s/it]\u001b[A\n",
            "[Succeeded / Failed / Skipped / Total] 0 / 46 / 9 / 55:  55%|█████▌    | 55/100 [02:46<02:16,  3.03s/it]\u001b[A"
          ]
        },
        {
          "output_type": "stream",
          "name": "stdout",
          "text": [
            "--------------------------------------------- Result 55 ---------------------------------------------\n",
            "[[Positive (99%)]] --> [[[FAILED]]]\n",
            "\n",
            "the piano teacher is not an easy film . it forces you to watch people doing unpleasant things to each other and themselves , and it maintains a cool distance from its material that is deliberately unsettling .\n",
            "\n",
            "\n"
          ]
        },
        {
          "output_type": "stream",
          "name": "stderr",
          "text": [
            "\n",
            "[Succeeded / Failed / Skipped / Total] 0 / 46 / 9 / 55:  56%|█████▌    | 56/100 [02:48<02:12,  3.01s/it]\u001b[A\n",
            "[Succeeded / Failed / Skipped / Total] 0 / 47 / 9 / 56:  56%|█████▌    | 56/100 [02:48<02:12,  3.01s/it]\u001b[A"
          ]
        },
        {
          "output_type": "stream",
          "name": "stdout",
          "text": [
            "--------------------------------------------- Result 56 ---------------------------------------------\n",
            "[[Positive (97%)]] --> [[[FAILED]]]\n",
            "\n",
            "as refreshing as a drink from a woodland stream .\n",
            "\n",
            "\n"
          ]
        },
        {
          "output_type": "stream",
          "name": "stderr",
          "text": [
            "\n",
            "[Succeeded / Failed / Skipped / Total] 0 / 47 / 9 / 56:  57%|█████▋    | 57/100 [02:51<02:09,  3.00s/it]\u001b[A\n",
            "[Succeeded / Failed / Skipped / Total] 0 / 48 / 9 / 57:  57%|█████▋    | 57/100 [02:51<02:09,  3.00s/it]\u001b[A"
          ]
        },
        {
          "output_type": "stream",
          "name": "stdout",
          "text": [
            "--------------------------------------------- Result 57 ---------------------------------------------\n",
            "[[Positive (100%)]] --> [[[FAILED]]]\n",
            "\n",
            "williams absolutely nails sy's queasy infatuation and overall strangeness .\n",
            "\n",
            "\n"
          ]
        },
        {
          "output_type": "stream",
          "name": "stderr",
          "text": [
            "\n",
            "[Succeeded / Failed / Skipped / Total] 0 / 48 / 9 / 57:  58%|█████▊    | 58/100 [02:54<02:06,  3.01s/it]\u001b[A\n",
            "[Succeeded / Failed / Skipped / Total] 0 / 49 / 9 / 58:  58%|█████▊    | 58/100 [02:54<02:06,  3.01s/it]\u001b[A"
          ]
        },
        {
          "output_type": "stream",
          "name": "stdout",
          "text": [
            "--------------------------------------------- Result 58 ---------------------------------------------\n",
            "[[Positive (90%)]] --> [[[FAILED]]]\n",
            "\n",
            "can i admit xxx is as deep as a petri dish and as well-characterized as a telephone book but still say it was a guilty pleasure ?\n",
            "\n",
            "\n"
          ]
        },
        {
          "output_type": "stream",
          "name": "stderr",
          "text": [
            "\n",
            "[Succeeded / Failed / Skipped / Total] 0 / 49 / 9 / 58:  59%|█████▉    | 59/100 [02:58<02:03,  3.02s/it]\u001b[A\n",
            "[Succeeded / Failed / Skipped / Total] 0 / 50 / 9 / 59:  59%|█████▉    | 59/100 [02:58<02:03,  3.02s/it]\u001b[A"
          ]
        },
        {
          "output_type": "stream",
          "name": "stdout",
          "text": [
            "--------------------------------------------- Result 59 ---------------------------------------------\n",
            "[[Positive (99%)]] --> [[[FAILED]]]\n",
            "\n",
            "while it's nothing we haven't seen before from murphy , i spy is still fun and enjoyable and so aggressively silly that it's more than a worthwhile effort .\n",
            "\n",
            "\n"
          ]
        },
        {
          "output_type": "stream",
          "name": "stderr",
          "text": [
            "\n",
            "[Succeeded / Failed / Skipped / Total] 0 / 50 / 9 / 59:  60%|██████    | 60/100 [03:04<02:03,  3.08s/it]\u001b[A\n",
            "[Succeeded / Failed / Skipped / Total] 0 / 51 / 9 / 60:  60%|██████    | 60/100 [03:04<02:03,  3.08s/it]\u001b[A"
          ]
        },
        {
          "output_type": "stream",
          "name": "stdout",
          "text": [
            "--------------------------------------------- Result 60 ---------------------------------------------\n",
            "[[Positive (67%)]] --> [[[FAILED]]]\n",
            "\n",
            "by the time it ends in a rush of sequins , flashbulbs , blaring brass and back-stabbing babes , it has said plenty about how show business has infiltrated every corner of society -- and not always for the better .\n",
            "\n",
            "\n"
          ]
        },
        {
          "output_type": "stream",
          "name": "stderr",
          "text": [
            "\n",
            "[Succeeded / Failed / Skipped / Total] 0 / 51 / 9 / 60:  61%|██████    | 61/100 [03:06<01:59,  3.06s/it]\u001b[A\n",
            "[Succeeded / Failed / Skipped / Total] 0 / 52 / 9 / 61:  61%|██████    | 61/100 [03:06<01:59,  3.06s/it]\u001b[A\n",
            "[Succeeded / Failed / Skipped / Total] 0 / 52 / 10 / 62:  62%|██████▏   | 62/100 [03:06<01:54,  3.01s/it]\u001b[A"
          ]
        },
        {
          "output_type": "stream",
          "name": "stdout",
          "text": [
            "--------------------------------------------- Result 61 ---------------------------------------------\n",
            "[[Positive (100%)]] --> [[[FAILED]]]\n",
            "\n",
            "an intimate contemplation of two marvelously messy lives .\n",
            "\n",
            "\n",
            "--------------------------------------------- Result 62 ---------------------------------------------\n",
            "[[Negative (73%)]] --> [[[SKIPPED]]]\n",
            "\n",
            "rarely has skin looked as beautiful , desirable , even delectable , as it does in trouble every day .\n",
            "\n",
            "\n"
          ]
        },
        {
          "output_type": "stream",
          "name": "stderr",
          "text": [
            "\n",
            "[Succeeded / Failed / Skipped / Total] 0 / 52 / 10 / 62:  63%|██████▎   | 63/100 [03:09<01:51,  3.01s/it]\u001b[A\n",
            "[Succeeded / Failed / Skipped / Total] 0 / 53 / 10 / 63:  63%|██████▎   | 63/100 [03:09<01:51,  3.01s/it]\u001b[A"
          ]
        },
        {
          "output_type": "stream",
          "name": "stdout",
          "text": [
            "--------------------------------------------- Result 63 ---------------------------------------------\n",
            "[[Positive (100%)]] --> [[[FAILED]]]\n",
            "\n",
            "this is one of those rare docs that paints a grand picture of an era and makes the journey feel like a party .\n",
            "\n",
            "\n"
          ]
        },
        {
          "output_type": "stream",
          "name": "stderr",
          "text": [
            "\n",
            "[Succeeded / Failed / Skipped / Total] 0 / 54 / 10 / 64:  64%|██████▍   | 64/100 [03:12<01:48,  3.00s/it]\u001b[A"
          ]
        },
        {
          "output_type": "stream",
          "name": "stdout",
          "text": [
            "--------------------------------------------- Result 64 ---------------------------------------------\n",
            "[[Positive (97%)]] --> [[[FAILED]]]\n",
            "\n",
            "poignant if familiar story of a young person suspended between two cultures .\n",
            "\n",
            "\n"
          ]
        },
        {
          "output_type": "stream",
          "name": "stderr",
          "text": [
            "\n",
            "[Succeeded / Failed / Skipped / Total] 0 / 54 / 10 / 64:  65%|██████▌   | 65/100 [03:14<01:44,  2.99s/it]\u001b[A\n",
            "[Succeeded / Failed / Skipped / Total] 0 / 55 / 10 / 65:  65%|██████▌   | 65/100 [03:14<01:44,  2.99s/it]\u001b[A"
          ]
        },
        {
          "output_type": "stream",
          "name": "stdout",
          "text": [
            "--------------------------------------------- Result 65 ---------------------------------------------\n",
            "[[Positive (97%)]] --> [[[FAILED]]]\n",
            "\n",
            "a metaphor for a modern-day urban china searching for its identity .\n",
            "\n",
            "\n"
          ]
        },
        {
          "output_type": "stream",
          "name": "stderr",
          "text": [
            "\n",
            "[Succeeded / Failed / Skipped / Total] 0 / 56 / 10 / 66:  66%|██████▌   | 66/100 [03:17<01:41,  3.00s/it]\u001b[A"
          ]
        },
        {
          "output_type": "stream",
          "name": "stdout",
          "text": [
            "--------------------------------------------- Result 66 ---------------------------------------------\n",
            "[[Positive (100%)]] --> [[[FAILED]]]\n",
            "\n",
            "for all its brooding quality , ash wednesday is suspenseful and ultimately unpredictable , with a sterling ensemble cast .\n",
            "\n",
            "\n"
          ]
        },
        {
          "output_type": "stream",
          "name": "stderr",
          "text": [
            "\n",
            "[Succeeded / Failed / Skipped / Total] 0 / 56 / 10 / 66:  67%|██████▋   | 67/100 [03:21<01:39,  3.01s/it]\u001b[A\n",
            "[Succeeded / Failed / Skipped / Total] 0 / 57 / 10 / 67:  67%|██████▋   | 67/100 [03:21<01:39,  3.01s/it]\u001b[A"
          ]
        },
        {
          "output_type": "stream",
          "name": "stdout",
          "text": [
            "--------------------------------------------- Result 67 ---------------------------------------------\n",
            "[[Positive (99%)]] --> [[[FAILED]]]\n",
            "\n",
            "an odd drama set in the world of lingerie models and bar dancers in the midwest that held my interest precisely because it didn't try to .\n",
            "\n",
            "\n"
          ]
        },
        {
          "output_type": "stream",
          "name": "stderr",
          "text": [
            "\n",
            "[Succeeded / Failed / Skipped / Total] 0 / 58 / 10 / 68:  68%|██████▊   | 68/100 [03:24<01:36,  3.01s/it]\u001b[A"
          ]
        },
        {
          "output_type": "stream",
          "name": "stdout",
          "text": [
            "--------------------------------------------- Result 68 ---------------------------------------------\n",
            "[[Positive (92%)]] --> [[[FAILED]]]\n",
            "\n",
            "the film feels uncomfortably real , its language and locations bearing the unmistakable stamp of authority .\n",
            "\n",
            "\n"
          ]
        },
        {
          "output_type": "stream",
          "name": "stderr",
          "text": [
            "\n",
            "[Succeeded / Failed / Skipped / Total] 0 / 58 / 10 / 68:  69%|██████▉   | 69/100 [03:26<01:32,  2.99s/it]\u001b[A\n",
            "[Succeeded / Failed / Skipped / Total] 0 / 59 / 10 / 69:  69%|██████▉   | 69/100 [03:26<01:32,  2.99s/it]\u001b[A"
          ]
        },
        {
          "output_type": "stream",
          "name": "stdout",
          "text": [
            "--------------------------------------------- Result 69 ---------------------------------------------\n",
            "[[Positive (99%)]] --> [[[FAILED]]]\n",
            "\n",
            "despite its faults , gangs excels in spectacle and pacing .\n",
            "\n",
            "\n"
          ]
        },
        {
          "output_type": "stream",
          "name": "stderr",
          "text": [
            "\n",
            "[Succeeded / Failed / Skipped / Total] 0 / 60 / 10 / 70:  70%|███████   | 70/100 [03:30<01:30,  3.00s/it]\u001b[A"
          ]
        },
        {
          "output_type": "stream",
          "name": "stdout",
          "text": [
            "--------------------------------------------- Result 70 ---------------------------------------------\n",
            "[[Positive (99%)]] --> [[[FAILED]]]\n",
            "\n",
            "entertaining despite its one-joke premise with the thesis that women from venus and men from mars can indeed get together .\n",
            "\n",
            "\n"
          ]
        },
        {
          "output_type": "stream",
          "name": "stderr",
          "text": [
            "\n",
            "[Succeeded / Failed / Skipped / Total] 0 / 60 / 10 / 70:  71%|███████   | 71/100 [03:33<01:27,  3.01s/it]\u001b[A\n",
            "[Succeeded / Failed / Skipped / Total] 0 / 61 / 10 / 71:  71%|███████   | 71/100 [03:33<01:27,  3.01s/it]\u001b[A"
          ]
        },
        {
          "output_type": "stream",
          "name": "stdout",
          "text": [
            "--------------------------------------------- Result 71 ---------------------------------------------\n",
            "[[Positive (100%)]] --> [[[FAILED]]]\n",
            "\n",
            "a tightly directed , highly professional film that's old-fashioned in all the best possible ways .\n",
            "\n",
            "\n"
          ]
        },
        {
          "output_type": "stream",
          "name": "stderr",
          "text": [
            "\n",
            "[Succeeded / Failed / Skipped / Total] 0 / 62 / 10 / 72:  72%|███████▏  | 72/100 [03:36<01:24,  3.01s/it]\u001b[A"
          ]
        },
        {
          "output_type": "stream",
          "name": "stdout",
          "text": [
            "--------------------------------------------- Result 72 ---------------------------------------------\n",
            "[[Positive (100%)]] --> [[[FAILED]]]\n",
            "\n",
            "it's dark but has wonderfully funny moments ; you care about the characters ; and the action and special effects are first-rate .\n",
            "\n",
            "\n"
          ]
        },
        {
          "output_type": "stream",
          "name": "stderr",
          "text": [
            "\n",
            "[Succeeded / Failed / Skipped / Total] 0 / 62 / 10 / 72:  73%|███████▎  | 73/100 [03:38<01:20,  3.00s/it]\u001b[A\n",
            "[Succeeded / Failed / Skipped / Total] 0 / 63 / 10 / 73:  73%|███████▎  | 73/100 [03:38<01:20,  3.00s/it]\u001b[A"
          ]
        },
        {
          "output_type": "stream",
          "name": "stdout",
          "text": [
            "--------------------------------------------- Result 73 ---------------------------------------------\n",
            "[[Positive (100%)]] --> [[[FAILED]]]\n",
            "\n",
            "in visual fertility treasure planet rivals the top japanese animations of recent vintage .\n",
            "\n",
            "\n"
          ]
        },
        {
          "output_type": "stream",
          "name": "stderr",
          "text": [
            "\n",
            "[Succeeded / Failed / Skipped / Total] 0 / 64 / 10 / 74:  74%|███████▍  | 74/100 [03:40<01:17,  2.98s/it]\u001b[A"
          ]
        },
        {
          "output_type": "stream",
          "name": "stdout",
          "text": [
            "--------------------------------------------- Result 74 ---------------------------------------------\n",
            "[[Positive (100%)]] --> [[[FAILED]]]\n",
            "\n",
            "enormously enjoyable , high-adrenaline documentary .\n",
            "\n",
            "\n"
          ]
        },
        {
          "output_type": "stream",
          "name": "stderr",
          "text": [
            "\n",
            "[Succeeded / Failed / Skipped / Total] 0 / 64 / 10 / 74:  75%|███████▌  | 75/100 [03:42<01:14,  2.96s/it]\u001b[A\n",
            "[Succeeded / Failed / Skipped / Total] 0 / 65 / 10 / 75:  75%|███████▌  | 75/100 [03:42<01:14,  2.96s/it]\u001b[A"
          ]
        },
        {
          "output_type": "stream",
          "name": "stdout",
          "text": [
            "--------------------------------------------- Result 75 ---------------------------------------------\n",
            "[[Positive (99%)]] --> [[[FAILED]]]\n",
            "\n",
            "buy is an accomplished actress , and this is a big , juicy role .\n",
            "\n",
            "\n"
          ]
        },
        {
          "output_type": "stream",
          "name": "stderr",
          "text": [
            "\n",
            "[Succeeded / Failed / Skipped / Total] 0 / 66 / 10 / 76:  76%|███████▌  | 76/100 [03:44<01:11,  2.96s/it]\u001b[A"
          ]
        },
        {
          "output_type": "stream",
          "name": "stdout",
          "text": [
            "--------------------------------------------- Result 76 ---------------------------------------------\n",
            "[[Positive (100%)]] --> [[[FAILED]]]\n",
            "\n",
            "it works its magic with such exuberance and passion that the film's length becomes a part of its fun .\n",
            "\n",
            "\n"
          ]
        },
        {
          "output_type": "stream",
          "name": "stderr",
          "text": [
            "\n",
            "[Succeeded / Failed / Skipped / Total] 0 / 66 / 10 / 76:  77%|███████▋  | 77/100 [03:49<01:08,  2.99s/it]\u001b[A\n",
            "[Succeeded / Failed / Skipped / Total] 0 / 67 / 10 / 77:  77%|███████▋  | 77/100 [03:49<01:08,  2.99s/it]\u001b[A"
          ]
        },
        {
          "output_type": "stream",
          "name": "stdout",
          "text": [
            "--------------------------------------------- Result 77 ---------------------------------------------\n",
            "[[Positive (100%)]] --> [[[FAILED]]]\n",
            "\n",
            "beautifully crafted and brutally honest , promises offers an unexpected window into the complexities of the middle east struggle and into the humanity of its people .\n",
            "\n",
            "\n"
          ]
        },
        {
          "output_type": "stream",
          "name": "stderr",
          "text": [
            "\n",
            "[Succeeded / Failed / Skipped / Total] 0 / 68 / 10 / 78:  78%|███████▊  | 78/100 [03:52<01:05,  2.99s/it]\u001b[A"
          ]
        },
        {
          "output_type": "stream",
          "name": "stdout",
          "text": [
            "--------------------------------------------- Result 78 ---------------------------------------------\n",
            "[[Positive (100%)]] --> [[[FAILED]]]\n",
            "\n",
            "an old-fashioned but emotionally stirring adventure tale of the kind they rarely make anymore .\n",
            "\n",
            "\n"
          ]
        },
        {
          "output_type": "stream",
          "name": "stderr",
          "text": [
            "\n",
            "[Succeeded / Failed / Skipped / Total] 0 / 68 / 10 / 78:  79%|███████▉  | 79/100 [03:54<01:02,  2.97s/it]\u001b[A\n",
            "[Succeeded / Failed / Skipped / Total] 0 / 69 / 10 / 79:  79%|███████▉  | 79/100 [03:54<01:02,  2.97s/it]\u001b[A"
          ]
        },
        {
          "output_type": "stream",
          "name": "stdout",
          "text": [
            "--------------------------------------------- Result 79 ---------------------------------------------\n",
            "[[Positive (100%)]] --> [[[FAILED]]]\n",
            "\n",
            "charlotte sometimes is a gem . it's always enthralling .\n",
            "\n",
            "\n"
          ]
        },
        {
          "output_type": "stream",
          "name": "stderr",
          "text": [
            "\n",
            "[Succeeded / Failed / Skipped / Total] 0 / 70 / 10 / 80:  80%|████████  | 80/100 [03:57<00:59,  2.97s/it]\u001b[A"
          ]
        },
        {
          "output_type": "stream",
          "name": "stdout",
          "text": [
            "--------------------------------------------- Result 80 ---------------------------------------------\n",
            "[[Positive (94%)]] --> [[[FAILED]]]\n",
            "\n",
            "in my opinion , analyze that is not as funny or entertaining as analyze this , but it is a respectable sequel .\n",
            "\n",
            "\n"
          ]
        },
        {
          "output_type": "stream",
          "name": "stderr",
          "text": [
            "\n",
            "[Succeeded / Failed / Skipped / Total] 0 / 70 / 10 / 80:  81%|████████  | 81/100 [03:58<00:55,  2.94s/it]\u001b[A\n",
            "[Succeeded / Failed / Skipped / Total] 0 / 71 / 10 / 81:  81%|████████  | 81/100 [03:58<00:55,  2.94s/it]\u001b[A"
          ]
        },
        {
          "output_type": "stream",
          "name": "stdout",
          "text": [
            "--------------------------------------------- Result 81 ---------------------------------------------\n",
            "[[Positive (99%)]] --> [[[FAILED]]]\n",
            "\n",
            "a remarkable film by bernard rose .\n",
            "\n",
            "\n"
          ]
        },
        {
          "output_type": "stream",
          "name": "stderr",
          "text": [
            "\n",
            "[Succeeded / Failed / Skipped / Total] 0 / 72 / 10 / 82:  82%|████████▏ | 82/100 [04:03<00:53,  2.98s/it]\u001b[A"
          ]
        },
        {
          "output_type": "stream",
          "name": "stdout",
          "text": [
            "--------------------------------------------- Result 82 ---------------------------------------------\n",
            "[[Positive (99%)]] --> [[[FAILED]]]\n",
            "\n",
            "zhuangzhuang creates delicate balance of style , text , and subtext that's so simple and precise that anything discordant would topple the balance , but against all odds , nothing does .\n",
            "\n",
            "\n"
          ]
        },
        {
          "output_type": "stream",
          "name": "stderr",
          "text": [
            "\n",
            "[Succeeded / Failed / Skipped / Total] 0 / 72 / 10 / 82:  82%|████████▏ | 82/100 [04:09<00:54,  3.04s/it]\u001b[A\n",
            "[Succeeded / Failed / Skipped / Total] 0 / 72 / 10 / 82:  83%|████████▎ | 83/100 [04:09<00:51,  3.01s/it]\u001b[A\n",
            "[Succeeded / Failed / Skipped / Total] 0 / 73 / 10 / 83:  83%|████████▎ | 83/100 [04:09<00:51,  3.01s/it]\u001b[A"
          ]
        },
        {
          "output_type": "stream",
          "name": "stdout",
          "text": [
            "--------------------------------------------- Result 83 ---------------------------------------------\n",
            "[[Positive (100%)]] --> [[[FAILED]]]\n",
            "\n",
            "a much more successful translation than its most famous previous film adaptation , writer-director anthony friedman's similarly updated 1970 british production .\n",
            "\n",
            "\n"
          ]
        },
        {
          "output_type": "stream",
          "name": "stderr",
          "text": [
            "\n",
            "[Succeeded / Failed / Skipped / Total] 0 / 73 / 10 / 83:  84%|████████▍ | 84/100 [04:11<00:47,  3.00s/it]\u001b[A\n",
            "[Succeeded / Failed / Skipped / Total] 0 / 74 / 10 / 84:  84%|████████▍ | 84/100 [04:11<00:47,  3.00s/it]\u001b[A"
          ]
        },
        {
          "output_type": "stream",
          "name": "stdout",
          "text": [
            "--------------------------------------------- Result 84 ---------------------------------------------\n",
            "[[Positive (99%)]] --> [[[FAILED]]]\n",
            "\n",
            "an original and highly cerebral examination of the psychopathic mind\n",
            "\n",
            "\n"
          ]
        },
        {
          "output_type": "stream",
          "name": "stderr",
          "text": [
            "\n",
            "[Succeeded / Failed / Skipped / Total] 0 / 74 / 10 / 84:  85%|████████▌ | 85/100 [04:13<00:44,  2.98s/it]\u001b[A\n",
            "[Succeeded / Failed / Skipped / Total] 0 / 75 / 10 / 85:  85%|████████▌ | 85/100 [04:13<00:44,  2.98s/it]\u001b[A"
          ]
        },
        {
          "output_type": "stream",
          "name": "stdout",
          "text": [
            "--------------------------------------------- Result 85 ---------------------------------------------\n",
            "[[Positive (100%)]] --> [[[FAILED]]]\n",
            "\n",
            "michel piccoli's moving performance is this films reason for being .\n",
            "\n",
            "\n"
          ]
        },
        {
          "output_type": "stream",
          "name": "stderr",
          "text": [
            "\n",
            "[Succeeded / Failed / Skipped / Total] 0 / 75 / 10 / 85:  86%|████████▌ | 86/100 [04:15<00:41,  2.97s/it]\u001b[A\n",
            "[Succeeded / Failed / Skipped / Total] 0 / 76 / 10 / 86:  86%|████████▌ | 86/100 [04:15<00:41,  2.97s/it]\u001b[A"
          ]
        },
        {
          "output_type": "stream",
          "name": "stdout",
          "text": [
            "--------------------------------------------- Result 86 ---------------------------------------------\n",
            "[[Positive (100%)]] --> [[[FAILED]]]\n",
            "\n",
            "a captivating and intimate study about dying and loving . . .\n",
            "\n",
            "\n"
          ]
        },
        {
          "output_type": "stream",
          "name": "stderr",
          "text": [
            "\n",
            "[Succeeded / Failed / Skipped / Total] 0 / 76 / 10 / 86:  87%|████████▋ | 87/100 [04:19<00:38,  2.98s/it]\u001b[A\n",
            "[Succeeded / Failed / Skipped / Total] 0 / 77 / 10 / 87:  87%|████████▋ | 87/100 [04:19<00:38,  2.98s/it]\u001b[A"
          ]
        },
        {
          "output_type": "stream",
          "name": "stdout",
          "text": [
            "--------------------------------------------- Result 87 ---------------------------------------------\n",
            "[[Positive (100%)]] --> [[[FAILED]]]\n",
            "\n",
            "this is an elegantly balanced movie -- every member of the ensemble has something fascinating to do -- that doesn't reveal even a hint of artifice .\n",
            "\n",
            "\n"
          ]
        },
        {
          "output_type": "stream",
          "name": "stderr",
          "text": [
            "\n",
            "[Succeeded / Failed / Skipped / Total] 0 / 77 / 10 / 87:  88%|████████▊ | 88/100 [04:23<00:35,  2.99s/it]\u001b[A\n",
            "[Succeeded / Failed / Skipped / Total] 0 / 78 / 10 / 88:  88%|████████▊ | 88/100 [04:23<00:35,  2.99s/it]\u001b[A"
          ]
        },
        {
          "output_type": "stream",
          "name": "stdout",
          "text": [
            "--------------------------------------------- Result 88 ---------------------------------------------\n",
            "[[Positive (99%)]] --> [[[FAILED]]]\n",
            "\n",
            "[grant] goes beyond his usual fluttering and stammering and captures the soul of a man in pain who gradually comes to recognize it and deal with it .\n",
            "\n",
            "\n"
          ]
        },
        {
          "output_type": "stream",
          "name": "stderr",
          "text": [
            "\n",
            "[Succeeded / Failed / Skipped / Total] 0 / 78 / 10 / 88:  89%|████████▉ | 89/100 [04:26<00:32,  3.00s/it]\u001b[A\n",
            "[Succeeded / Failed / Skipped / Total] 0 / 79 / 10 / 89:  89%|████████▉ | 89/100 [04:26<00:32,  3.00s/it]\u001b[A"
          ]
        },
        {
          "output_type": "stream",
          "name": "stdout",
          "text": [
            "--------------------------------------------- Result 89 ---------------------------------------------\n",
            "[[Positive (98%)]] --> [[[FAILED]]]\n",
            "\n",
            "a high-spirited buddy movie about the reunion of berlin anarchists who face arrest 15 years after their crime .\n",
            "\n",
            "\n"
          ]
        },
        {
          "output_type": "stream",
          "name": "stderr",
          "text": [
            "\n",
            "[Succeeded / Failed / Skipped / Total] 0 / 79 / 10 / 89:  90%|█████████ | 90/100 [04:30<00:30,  3.01s/it]\u001b[A\n",
            "[Succeeded / Failed / Skipped / Total] 0 / 80 / 10 / 90:  90%|█████████ | 90/100 [04:30<00:30,  3.01s/it]\u001b[A"
          ]
        },
        {
          "output_type": "stream",
          "name": "stdout",
          "text": [
            "--------------------------------------------- Result 90 ---------------------------------------------\n",
            "[[Positive (99%)]] --> [[[FAILED]]]\n",
            "\n",
            "about the best thing you could say about narc is that it's a rock-solid little genre picture . whether you like it or not is basically a matter of taste .\n",
            "\n",
            "\n"
          ]
        },
        {
          "output_type": "stream",
          "name": "stderr",
          "text": [
            "\n",
            "[Succeeded / Failed / Skipped / Total] 0 / 80 / 10 / 90:  91%|█████████ | 91/100 [04:33<00:27,  3.01s/it]\u001b[A\n",
            "[Succeeded / Failed / Skipped / Total] 0 / 81 / 10 / 91:  91%|█████████ | 91/100 [04:33<00:27,  3.01s/it]\u001b[A"
          ]
        },
        {
          "output_type": "stream",
          "name": "stdout",
          "text": [
            "--------------------------------------------- Result 91 ---------------------------------------------\n",
            "[[Positive (100%)]] --> [[[FAILED]]]\n",
            "\n",
            "an involving , inspirational drama that sometimes falls prey to its sob-story trappings .\n",
            "\n",
            "\n"
          ]
        },
        {
          "output_type": "stream",
          "name": "stderr",
          "text": [
            "\n",
            "[Succeeded / Failed / Skipped / Total] 0 / 81 / 10 / 91:  92%|█████████▏| 92/100 [04:36<00:24,  3.00s/it]\u001b[A\n",
            "[Succeeded / Failed / Skipped / Total] 0 / 82 / 10 / 92:  92%|█████████▏| 92/100 [04:36<00:24,  3.00s/it]\u001b[A"
          ]
        },
        {
          "output_type": "stream",
          "name": "stdout",
          "text": [
            "--------------------------------------------- Result 92 ---------------------------------------------\n",
            "[[Positive (99%)]] --> [[[FAILED]]]\n",
            "\n",
            "some of the most inventive silliness you are likely to witness in a movie theatre for some time .\n",
            "\n",
            "\n"
          ]
        },
        {
          "output_type": "stream",
          "name": "stderr",
          "text": [
            "\n",
            "[Succeeded / Failed / Skipped / Total] 0 / 82 / 10 / 92:  93%|█████████▎| 93/100 [04:39<00:21,  3.01s/it]\u001b[A\n",
            "[Succeeded / Failed / Skipped / Total] 0 / 83 / 10 / 93:  93%|█████████▎| 93/100 [04:39<00:21,  3.01s/it]\u001b[A"
          ]
        },
        {
          "output_type": "stream",
          "name": "stdout",
          "text": [
            "--------------------------------------------- Result 93 ---------------------------------------------\n",
            "[[Positive (99%)]] --> [[[FAILED]]]\n",
            "\n",
            "canadian filmmaker gary burns' inventive and mordantly humorous take on the soullessness of work in the city .\n",
            "\n",
            "\n"
          ]
        },
        {
          "output_type": "stream",
          "name": "stderr",
          "text": [
            "\n",
            "[Succeeded / Failed / Skipped / Total] 0 / 83 / 10 / 93:  94%|█████████▍| 94/100 [04:46<00:18,  3.05s/it]\u001b[A\n",
            "[Succeeded / Failed / Skipped / Total] 0 / 84 / 10 / 94:  94%|█████████▍| 94/100 [04:47<00:18,  3.05s/it]\u001b[A"
          ]
        },
        {
          "output_type": "stream",
          "name": "stdout",
          "text": [
            "--------------------------------------------- Result 94 ---------------------------------------------\n",
            "[[Positive (100%)]] --> [[[FAILED]]]\n",
            "\n",
            "a rollicking ride , with jaw-dropping action sequences , striking villains , a gorgeous color palette , astounding technology , stirring music and a boffo last hour that leads up to a strangely sinister happy ending .\n",
            "\n",
            "\n"
          ]
        },
        {
          "output_type": "stream",
          "name": "stderr",
          "text": [
            "\n",
            "[Succeeded / Failed / Skipped / Total] 0 / 84 / 10 / 94:  95%|█████████▌| 95/100 [04:50<00:15,  3.06s/it]\u001b[A\n",
            "[Succeeded / Failed / Skipped / Total] 0 / 85 / 10 / 95:  95%|█████████▌| 95/100 [04:50<00:15,  3.06s/it]\u001b[A"
          ]
        },
        {
          "output_type": "stream",
          "name": "stdout",
          "text": [
            "--------------------------------------------- Result 95 ---------------------------------------------\n",
            "[[Positive (100%)]] --> [[[FAILED]]]\n",
            "\n",
            "everyone's insecure in lovely and amazing , a poignant and wryly amusing film about mothers , daughters and their relationships .\n",
            "\n",
            "\n"
          ]
        },
        {
          "output_type": "stream",
          "name": "stderr",
          "text": [
            "\n",
            "[Succeeded / Failed / Skipped / Total] 0 / 85 / 10 / 95:  96%|█████████▌| 96/100 [04:52<00:12,  3.05s/it]\u001b[A\n",
            "[Succeeded / Failed / Skipped / Total] 0 / 86 / 10 / 96:  96%|█████████▌| 96/100 [04:52<00:12,  3.05s/it]\u001b[A"
          ]
        },
        {
          "output_type": "stream",
          "name": "stdout",
          "text": [
            "--------------------------------------------- Result 96 ---------------------------------------------\n",
            "[[Positive (99%)]] --> [[[FAILED]]]\n",
            "\n",
            "the closest thing to the experience of space travel\n",
            "\n",
            "\n"
          ]
        },
        {
          "output_type": "stream",
          "name": "stderr",
          "text": [
            "\n",
            "[Succeeded / Failed / Skipped / Total] 0 / 86 / 10 / 96:  97%|█████████▋| 97/100 [04:52<00:09,  3.02s/it]\u001b[A\n",
            "[Succeeded / Failed / Skipped / Total] 0 / 87 / 10 / 97:  97%|█████████▋| 97/100 [04:52<00:09,  3.02s/it]\u001b[A"
          ]
        },
        {
          "output_type": "stream",
          "name": "stdout",
          "text": [
            "--------------------------------------------- Result 97 ---------------------------------------------\n",
            "[[Positive (99%)]] --> [[[FAILED]]]\n",
            "\n",
            "full of surprises .\n",
            "\n",
            "\n"
          ]
        },
        {
          "output_type": "stream",
          "name": "stderr",
          "text": [
            "\n",
            "[Succeeded / Failed / Skipped / Total] 0 / 87 / 10 / 97:  98%|█████████▊| 98/100 [04:56<00:06,  3.03s/it]\u001b[A\n",
            "[Succeeded / Failed / Skipped / Total] 0 / 88 / 10 / 98:  98%|█████████▊| 98/100 [04:56<00:06,  3.03s/it]\u001b[A"
          ]
        },
        {
          "output_type": "stream",
          "name": "stdout",
          "text": [
            "--------------------------------------------- Result 98 ---------------------------------------------\n",
            "[[Positive (95%)]] --> [[[FAILED]]]\n",
            "\n",
            "connoisseurs of chinese film will be pleased to discover that tian's meticulous talent has not withered during his enforced hiatus .\n",
            "\n",
            "\n"
          ]
        },
        {
          "output_type": "stream",
          "name": "stderr",
          "text": [
            "\n",
            "[Succeeded / Failed / Skipped / Total] 0 / 88 / 10 / 98:  99%|█████████▉| 99/100 [04:58<00:03,  3.01s/it]\u001b[A\n",
            "[Succeeded / Failed / Skipped / Total] 0 / 89 / 10 / 99:  99%|█████████▉| 99/100 [04:58<00:03,  3.01s/it]\u001b[A"
          ]
        },
        {
          "output_type": "stream",
          "name": "stdout",
          "text": [
            "--------------------------------------------- Result 99 ---------------------------------------------\n",
            "[[Positive (99%)]] --> [[[FAILED]]]\n",
            "\n",
            "if you can push on through the slow spots , you'll be rewarded with some fine acting .\n",
            "\n",
            "\n"
          ]
        },
        {
          "output_type": "stream",
          "name": "stderr",
          "text": [
            "\n",
            "[Succeeded / Failed / Skipped / Total] 0 / 89 / 10 / 99: 100%|██████████| 100/100 [05:01<00:00,  3.02s/it]\u001b[A\n",
            "[Succeeded / Failed / Skipped / Total] 0 / 90 / 10 / 100: 100%|██████████| 100/100 [05:01<00:00,  3.02s/it]"
          ]
        },
        {
          "output_type": "stream",
          "name": "stdout",
          "text": [
            "--------------------------------------------- Result 100 ---------------------------------------------\n",
            "[[Positive (96%)]] --> [[[FAILED]]]\n",
            "\n",
            "an unusually dry-eyed , even analytical approach to material that is generally played for maximum moisture .\n",
            "\n",
            "\n",
            "\n",
            "+-------------------------------+--------+\n",
            "| Attack Results                |        |\n",
            "+-------------------------------+--------+\n",
            "| Number of successful attacks: | 0      |\n",
            "| Number of failed attacks:     | 90     |\n",
            "| Number of skipped attacks:    | 10     |\n",
            "| Original accuracy:            | 90.0%  |\n",
            "| Accuracy under attack:        | 90.0%  |\n",
            "| Attack success rate:          | 0.0%   |\n",
            "| Average perturbed word %:     | nan%   |\n",
            "| Average num. words per input: | 18.45  |\n",
            "| Avg num queries:              | 160.47 |\n",
            "+-------------------------------+--------+"
          ]
        },
        {
          "output_type": "stream",
          "name": "stderr",
          "text": [
            "\n",
            "textattack: Unknown if model of class <class 'transformers.models.albert.modeling_albert.AlbertForSequenceClassification'> compatible with goal function <class 'textattack.goal_functions.classification.input_reduction.InputReduction'>.\n",
            "\n",
            "  0%|          | 0/100 [00:00<?, ?it/s]\u001b[A"
          ]
        },
        {
          "output_type": "stream",
          "name": "stdout",
          "text": [
            "\n",
            "Starting attack for----------------- WordSwapNeighboringCharacterSwap IR\n",
            "Attack(\n",
            "  (search_method): GreedyWordSwapWIR(\n",
            "    (wir_method):  weighted-saliency\n",
            "  )\n",
            "  (goal_function):  InputReduction(\n",
            "    (maximizable):  False\n",
            "    (target_num_words):  1\n",
            "  )\n",
            "  (transformation):  WordSwapNeighboringCharacterSwap(\n",
            "    (random_one):  True\n",
            "  )\n",
            "  (constraints): \n",
            "    (0): RepeatModification\n",
            "    (1): StopwordModification\n",
            "  (is_black_box):  True\n",
            ") \n",
            "\n"
          ]
        },
        {
          "output_type": "stream",
          "name": "stderr",
          "text": [
            "\n",
            "  1%|          | 1/100 [00:01<01:46,  1.07s/it]\u001b[A\n",
            "[Succeeded / Failed / Skipped / Total] 0 / 1 / 0 / 1:   1%|          | 1/100 [00:01<01:46,  1.08s/it]\u001b[A"
          ]
        },
        {
          "output_type": "stream",
          "name": "stdout",
          "text": [
            "--------------------------------------------- Result 1 ---------------------------------------------\n",
            "[[Positive (100%)]] --> [[[FAILED]]]\n",
            "\n",
            "lovingly photographed in the manner of a golden book sprung to life , stuart little 2 manages sweetness largely without stickiness .\n",
            "\n",
            "\n"
          ]
        },
        {
          "output_type": "stream",
          "name": "stderr",
          "text": [
            "\n",
            "[Succeeded / Failed / Skipped / Total] 0 / 1 / 0 / 1:   2%|▏         | 2/100 [00:01<01:06,  1.47it/s]\u001b[A\n",
            "[Succeeded / Failed / Skipped / Total] 0 / 2 / 0 / 2:   2%|▏         | 2/100 [00:01<01:06,  1.47it/s]\u001b[A\n",
            "[Succeeded / Failed / Skipped / Total] 0 / 2 / 1 / 3:   3%|▎         | 3/100 [00:01<00:45,  2.14it/s]\u001b[A"
          ]
        },
        {
          "output_type": "stream",
          "name": "stdout",
          "text": [
            "--------------------------------------------- Result 2 ---------------------------------------------\n",
            "[[Positive (100%)]] --> [[[FAILED]]]\n",
            "\n",
            "consistently clever and suspenseful .\n",
            "\n",
            "\n",
            "--------------------------------------------- Result 3 ---------------------------------------------\n",
            "[[Negative (85%)]] --> [[[SKIPPED]]]\n",
            "\n",
            "it's like a \" big chill \" reunion of the baader-meinhof gang , only these guys are more harmless pranksters than political activists .\n",
            "\n",
            "\n"
          ]
        },
        {
          "output_type": "stream",
          "name": "stderr",
          "text": [
            "\n",
            "[Succeeded / Failed / Skipped / Total] 0 / 2 / 1 / 3:   4%|▍         | 4/100 [00:02<00:58,  1.63it/s]\u001b[A\n",
            "[Succeeded / Failed / Skipped / Total] 0 / 3 / 1 / 4:   4%|▍         | 4/100 [00:02<00:59,  1.63it/s]\u001b[A"
          ]
        },
        {
          "output_type": "stream",
          "name": "stdout",
          "text": [
            "--------------------------------------------- Result 4 ---------------------------------------------\n",
            "[[Positive (100%)]] --> [[[FAILED]]]\n",
            "\n",
            "the story gives ample opportunity for large-scale action and suspense , which director shekhar kapur supplies with tremendous skill .\n",
            "\n",
            "\n"
          ]
        },
        {
          "output_type": "stream",
          "name": "stderr",
          "text": [
            "\n",
            "[Succeeded / Failed / Skipped / Total] 0 / 4 / 1 / 5:   5%|▌         | 5/100 [00:02<00:53,  1.77it/s]\u001b[A\n",
            "[Succeeded / Failed / Skipped / Total] 0 / 4 / 1 / 5:   6%|▌         | 6/100 [00:02<00:44,  2.10it/s]\u001b[A\n",
            "[Succeeded / Failed / Skipped / Total] 0 / 4 / 2 / 6:   6%|▌         | 6/100 [00:02<00:44,  2.10it/s]\u001b[A"
          ]
        },
        {
          "output_type": "stream",
          "name": "stdout",
          "text": [
            "--------------------------------------------- Result 5 ---------------------------------------------\n",
            "[[Positive (74%)]] --> [[[FAILED]]]\n",
            "\n",
            "red dragon \" never cuts corners .\n",
            "\n",
            "\n",
            "--------------------------------------------- Result 6 ---------------------------------------------\n",
            "[[Negative (64%)]] --> [[[SKIPPED]]]\n",
            "\n",
            "fresnadillo has something serious to say about the ways in which extravagant chance can distort our perspective and throw us off the path of good sense .\n",
            "\n",
            "\n"
          ]
        },
        {
          "output_type": "stream",
          "name": "stderr",
          "text": [
            "\n",
            "[Succeeded / Failed / Skipped / Total] 0 / 5 / 2 / 7:   7%|▋         | 7/100 [00:03<00:47,  1.98it/s]\u001b[A"
          ]
        },
        {
          "output_type": "stream",
          "name": "stdout",
          "text": [
            "--------------------------------------------- Result 7 ---------------------------------------------\n",
            "[[Positive (100%)]] --> [[[FAILED]]]\n",
            "\n",
            "throws in enough clever and unexpected twists to make the formula feel fresh .\n",
            "\n",
            "\n"
          ]
        },
        {
          "output_type": "stream",
          "name": "stderr",
          "text": [
            "\n",
            "[Succeeded / Failed / Skipped / Total] 0 / 5 / 2 / 7:   8%|▊         | 8/100 [00:04<00:47,  1.93it/s]\u001b[A\n",
            "[Succeeded / Failed / Skipped / Total] 0 / 6 / 2 / 8:   8%|▊         | 8/100 [00:04<00:47,  1.93it/s]\u001b[A"
          ]
        },
        {
          "output_type": "stream",
          "name": "stdout",
          "text": [
            "--------------------------------------------- Result 8 ---------------------------------------------\n",
            "[[Positive (97%)]] --> [[[FAILED]]]\n",
            "\n",
            "weighty and ponderous but every bit as filling as the treat of the title .\n",
            "\n",
            "\n"
          ]
        },
        {
          "output_type": "stream",
          "name": "stderr",
          "text": [
            "\n",
            "[Succeeded / Failed / Skipped / Total] 0 / 7 / 2 / 9:   9%|▉         | 9/100 [00:05<00:54,  1.68it/s]\u001b[A"
          ]
        },
        {
          "output_type": "stream",
          "name": "stdout",
          "text": [
            "--------------------------------------------- Result 9 ---------------------------------------------\n",
            "[[Positive (100%)]] --> [[[FAILED]]]\n",
            "\n",
            "a real audience-pleaser that will strike a chord with anyone who's ever waited in a doctor's office , emergency room , hospital bed or insurance company office .\n",
            "\n",
            "\n"
          ]
        },
        {
          "output_type": "stream",
          "name": "stderr",
          "text": [
            "\n",
            "[Succeeded / Failed / Skipped / Total] 0 / 7 / 2 / 9:  10%|█         | 10/100 [00:05<00:51,  1.74it/s]\u001b[A\n",
            "[Succeeded / Failed / Skipped / Total] 0 / 8 / 2 / 10:  10%|█         | 10/100 [00:05<00:51,  1.74it/s]\u001b[A"
          ]
        },
        {
          "output_type": "stream",
          "name": "stdout",
          "text": [
            "--------------------------------------------- Result 10 ---------------------------------------------\n",
            "[[Positive (100%)]] --> [[[FAILED]]]\n",
            "\n",
            "generates an enormous feeling of empathy for its characters .\n",
            "\n",
            "\n"
          ]
        },
        {
          "output_type": "stream",
          "name": "stderr",
          "text": [
            "\n",
            "[Succeeded / Failed / Skipped / Total] 0 / 9 / 2 / 11:  11%|█         | 11/100 [00:06<00:51,  1.74it/s]\u001b[A\n",
            "[Succeeded / Failed / Skipped / Total] 0 / 9 / 2 / 11:  12%|█▏        | 12/100 [00:06<00:46,  1.89it/s]\u001b[A\n",
            "[Succeeded / Failed / Skipped / Total] 0 / 9 / 3 / 12:  12%|█▏        | 12/100 [00:06<00:46,  1.89it/s]\u001b[A"
          ]
        },
        {
          "output_type": "stream",
          "name": "stdout",
          "text": [
            "--------------------------------------------- Result 11 ---------------------------------------------\n",
            "[[Positive (99%)]] --> [[[FAILED]]]\n",
            "\n",
            "exposing the ways we fool ourselves is one hour photo's real strength .\n",
            "\n",
            "\n",
            "--------------------------------------------- Result 12 ---------------------------------------------\n",
            "[[Negative (77%)]] --> [[[SKIPPED]]]\n",
            "\n",
            "it's up to you to decide whether to admire these people's dedication to their cause or be repelled by their dogmatism , manipulativeness and narrow , fearful view of american life .\n",
            "\n",
            "\n"
          ]
        },
        {
          "output_type": "stream",
          "name": "stderr",
          "text": [
            "\n",
            "[Succeeded / Failed / Skipped / Total] 0 / 10 / 3 / 13:  13%|█▎        | 13/100 [00:07<00:47,  1.83it/s]\u001b[A"
          ]
        },
        {
          "output_type": "stream",
          "name": "stdout",
          "text": [
            "--------------------------------------------- Result 13 ---------------------------------------------\n",
            "[[Positive (96%)]] --> [[[FAILED]]]\n",
            "\n",
            "mostly , [goldbacher] just lets her complicated characters be unruly , confusing and , through it all , human .\n",
            "\n",
            "\n"
          ]
        },
        {
          "output_type": "stream",
          "name": "stderr",
          "text": [
            "\n",
            "[Succeeded / Failed / Skipped / Total] 0 / 10 / 3 / 13:  14%|█▍        | 14/100 [00:07<00:46,  1.87it/s]\u001b[A\n",
            "[Succeeded / Failed / Skipped / Total] 0 / 11 / 3 / 14:  14%|█▍        | 14/100 [00:07<00:46,  1.86it/s]\u001b[A\n",
            "[Succeeded / Failed / Skipped / Total] 0 / 11 / 4 / 15:  15%|█▌        | 15/100 [00:07<00:42,  1.99it/s]\u001b[A"
          ]
        },
        {
          "output_type": "stream",
          "name": "stdout",
          "text": [
            "--------------------------------------------- Result 14 ---------------------------------------------\n",
            "[[Positive (99%)]] --> [[[FAILED]]]\n",
            "\n",
            ". . . quite good at providing some good old fashioned spooks .\n",
            "\n",
            "\n",
            "--------------------------------------------- Result 15 ---------------------------------------------\n",
            "[[Negative (96%)]] --> [[[SKIPPED]]]\n",
            "\n",
            "at its worst , the movie is pretty diverting ; the pity is that it rarely achieves its best .\n",
            "\n",
            "\n"
          ]
        },
        {
          "output_type": "stream",
          "name": "stderr",
          "text": [
            "\n",
            "[Succeeded / Failed / Skipped / Total] 0 / 11 / 4 / 15:  16%|█▌        | 16/100 [00:08<00:43,  1.94it/s]\u001b[A\n",
            "[Succeeded / Failed / Skipped / Total] 0 / 12 / 4 / 16:  16%|█▌        | 16/100 [00:08<00:43,  1.94it/s]\u001b[A"
          ]
        },
        {
          "output_type": "stream",
          "name": "stdout",
          "text": [
            "--------------------------------------------- Result 16 ---------------------------------------------\n",
            "[[Positive (100%)]] --> [[[FAILED]]]\n",
            "\n",
            "scherfig's light-hearted profile of emotional desperation is achingly honest and delightfully cheeky .\n",
            "\n",
            "\n"
          ]
        },
        {
          "output_type": "stream",
          "name": "stderr",
          "text": [
            "\n",
            "[Succeeded / Failed / Skipped / Total] 0 / 13 / 4 / 17:  17%|█▋        | 17/100 [00:10<00:48,  1.70it/s]\u001b[A"
          ]
        },
        {
          "output_type": "stream",
          "name": "stdout",
          "text": [
            "--------------------------------------------- Result 17 ---------------------------------------------\n",
            "[[Positive (100%)]] --> [[[FAILED]]]\n",
            "\n",
            "a journey spanning nearly three decades of bittersweet camaraderie and history , in which we feel that we truly know what makes holly and marina tick , and our hearts go out to them as both continue to negotiate their imperfect , love-hate relationship .\n",
            "\n",
            "\n"
          ]
        },
        {
          "output_type": "stream",
          "name": "stderr",
          "text": [
            "\n",
            "[Succeeded / Failed / Skipped / Total] 0 / 13 / 4 / 17:  18%|█▊        | 18/100 [00:11<00:53,  1.54it/s]\u001b[A\n",
            "[Succeeded / Failed / Skipped / Total] 0 / 14 / 4 / 18:  18%|█▊        | 18/100 [00:11<00:53,  1.53it/s]\u001b[A"
          ]
        },
        {
          "output_type": "stream",
          "name": "stdout",
          "text": [
            "--------------------------------------------- Result 18 ---------------------------------------------\n",
            "[[Positive (100%)]] --> [[[FAILED]]]\n",
            "\n",
            "the wonderfully lush morvern callar is pure punk existentialism , and ms . ramsay and her co-writer , liana dognini , have dramatized the alan warner novel , which itself felt like an answer to irvine welsh's book trainspotting .\n",
            "\n",
            "\n"
          ]
        },
        {
          "output_type": "stream",
          "name": "stderr",
          "text": [
            "\n",
            "[Succeeded / Failed / Skipped / Total] 0 / 15 / 4 / 19:  19%|█▉        | 19/100 [00:12<00:51,  1.58it/s]\u001b[A"
          ]
        },
        {
          "output_type": "stream",
          "name": "stdout",
          "text": [
            "--------------------------------------------- Result 19 ---------------------------------------------\n",
            "[[Positive (76%)]] --> [[[FAILED]]]\n",
            "\n",
            "as it turns out , you can go home again .\n",
            "\n",
            "\n"
          ]
        },
        {
          "output_type": "stream",
          "name": "stderr",
          "text": [
            "\n",
            "[Succeeded / Failed / Skipped / Total] 0 / 15 / 4 / 19:  20%|██        | 20/100 [00:12<00:50,  1.57it/s]\u001b[A\n",
            "[Succeeded / Failed / Skipped / Total] 0 / 16 / 4 / 20:  20%|██        | 20/100 [00:12<00:50,  1.57it/s]\u001b[A"
          ]
        },
        {
          "output_type": "stream",
          "name": "stdout",
          "text": [
            "--------------------------------------------- Result 20 ---------------------------------------------\n",
            "[[Positive (99%)]] --> [[[FAILED]]]\n",
            "\n",
            "you've already seen city by the sea under a variety of titles , but it's worth yet another visit .\n",
            "\n",
            "\n"
          ]
        },
        {
          "output_type": "stream",
          "name": "stderr",
          "text": [
            "\n",
            "[Succeeded / Failed / Skipped / Total] 0 / 17 / 4 / 21:  21%|██        | 21/100 [00:13<00:52,  1.50it/s]\u001b[A"
          ]
        },
        {
          "output_type": "stream",
          "name": "stdout",
          "text": [
            "--------------------------------------------- Result 21 ---------------------------------------------\n",
            "[[Positive (100%)]] --> [[[FAILED]]]\n",
            "\n",
            "this kind of hands-on storytelling is ultimately what makes shanghai ghetto move beyond a good , dry , reliable textbook and what allows it to rank with its worthy predecessors .\n",
            "\n",
            "\n"
          ]
        },
        {
          "output_type": "stream",
          "name": "stderr",
          "text": [
            "\n",
            "[Succeeded / Failed / Skipped / Total] 0 / 17 / 4 / 21:  22%|██▏       | 22/100 [00:15<00:55,  1.40it/s]\u001b[A\n",
            "[Succeeded / Failed / Skipped / Total] 0 / 18 / 4 / 22:  22%|██▏       | 22/100 [00:15<00:55,  1.40it/s]\u001b[A"
          ]
        },
        {
          "output_type": "stream",
          "name": "stdout",
          "text": [
            "--------------------------------------------- Result 22 ---------------------------------------------\n",
            "[[Positive (83%)]] --> [[[FAILED]]]\n",
            "\n",
            "making such a tragedy the backdrop to a love story risks trivializing it , though chouraqui no doubt intended the film to affirm love's power to help people endure almost unimaginable horror .\n",
            "\n",
            "\n"
          ]
        },
        {
          "output_type": "stream",
          "name": "stderr",
          "text": [
            "\n",
            "[Succeeded / Failed / Skipped / Total] 0 / 19 / 4 / 23:  23%|██▎       | 23/100 [00:16<00:55,  1.39it/s]\u001b[A"
          ]
        },
        {
          "output_type": "stream",
          "name": "stdout",
          "text": [
            "--------------------------------------------- Result 23 ---------------------------------------------\n",
            "[[Positive (79%)]] --> [[[FAILED]]]\n",
            "\n",
            "grown-up quibbles are beside the point here . the little girls understand , and mccracken knows that's all that matters .\n",
            "\n",
            "\n"
          ]
        },
        {
          "output_type": "stream",
          "name": "stderr",
          "text": [
            "\n",
            "[Succeeded / Failed / Skipped / Total] 0 / 19 / 4 / 23:  24%|██▍       | 24/100 [00:17<00:54,  1.40it/s]\u001b[A\n",
            "[Succeeded / Failed / Skipped / Total] 0 / 20 / 4 / 24:  24%|██▍       | 24/100 [00:17<00:54,  1.40it/s]\u001b[A"
          ]
        },
        {
          "output_type": "stream",
          "name": "stdout",
          "text": [
            "--------------------------------------------- Result 24 ---------------------------------------------\n",
            "[[Positive (100%)]] --> [[[FAILED]]]\n",
            "\n",
            "a powerful , chilling , and affecting study of one man's dying fall .\n",
            "\n",
            "\n"
          ]
        },
        {
          "output_type": "stream",
          "name": "stderr",
          "text": [
            "\n",
            "[Succeeded / Failed / Skipped / Total] 0 / 21 / 4 / 25:  25%|██▌       | 25/100 [00:17<00:53,  1.41it/s]\u001b[A\n",
            "[Succeeded / Failed / Skipped / Total] 0 / 21 / 4 / 25:  26%|██▌       | 26/100 [00:17<00:50,  1.46it/s]\u001b[A\n",
            "[Succeeded / Failed / Skipped / Total] 0 / 21 / 5 / 26:  26%|██▌       | 26/100 [00:17<00:50,  1.46it/s]\u001b[A"
          ]
        },
        {
          "output_type": "stream",
          "name": "stdout",
          "text": [
            "--------------------------------------------- Result 25 ---------------------------------------------\n",
            "[[Positive (92%)]] --> [[[FAILED]]]\n",
            "\n",
            "this is a fascinating film because there is no clear-cut hero and no all-out villain .\n",
            "\n",
            "\n",
            "--------------------------------------------- Result 26 ---------------------------------------------\n",
            "[[Negative (66%)]] --> [[[SKIPPED]]]\n",
            "\n",
            "a dreadful day in irish history is given passionate , if somewhat flawed , treatment .\n",
            "\n",
            "\n"
          ]
        },
        {
          "output_type": "stream",
          "name": "stderr",
          "text": [
            "\n",
            "[Succeeded / Failed / Skipped / Total] 0 / 22 / 5 / 27:  27%|██▋       | 27/100 [00:18<00:49,  1.47it/s]\u001b[A"
          ]
        },
        {
          "output_type": "stream",
          "name": "stdout",
          "text": [
            "--------------------------------------------- Result 27 ---------------------------------------------\n",
            "[[Positive (92%)]] --> [[[FAILED]]]\n",
            "\n",
            ". . . a good film that must have baffled the folks in the marketing department .\n",
            "\n",
            "\n"
          ]
        },
        {
          "output_type": "stream",
          "name": "stderr",
          "text": [
            "\n",
            "[Succeeded / Failed / Skipped / Total] 0 / 22 / 5 / 27:  28%|██▊       | 28/100 [00:19<00:50,  1.42it/s]\u001b[A\n",
            "[Succeeded / Failed / Skipped / Total] 0 / 23 / 5 / 28:  28%|██▊       | 28/100 [00:19<00:50,  1.42it/s]\u001b[A\n",
            "[Succeeded / Failed / Skipped / Total] 0 / 23 / 6 / 29:  29%|██▉       | 29/100 [00:19<00:48,  1.47it/s]\u001b[A"
          ]
        },
        {
          "output_type": "stream",
          "name": "stdout",
          "text": [
            "--------------------------------------------- Result 28 ---------------------------------------------\n",
            "[[Positive (100%)]] --> [[[FAILED]]]\n",
            "\n",
            ". . . is funny in the way that makes you ache with sadness ( the way chekhov is funny ) , profound without ever being self-important , warm without ever succumbing to sentimentality .\n",
            "\n",
            "\n",
            "--------------------------------------------- Result 29 ---------------------------------------------\n",
            "[[Negative (93%)]] --> [[[SKIPPED]]]\n",
            "\n",
            "devotees of star trek ii : the wrath of khan will feel a nagging sense of deja vu , and the grandeur of the best next generation episodes is lacking .\n",
            "\n",
            "\n"
          ]
        },
        {
          "output_type": "stream",
          "name": "stderr",
          "text": [
            "\n",
            "[Succeeded / Failed / Skipped / Total] 0 / 23 / 6 / 29:  30%|███       | 30/100 [00:20<00:48,  1.45it/s]\u001b[A\n",
            "[Succeeded / Failed / Skipped / Total] 0 / 24 / 6 / 30:  30%|███       | 30/100 [00:20<00:48,  1.45it/s]\u001b[A"
          ]
        },
        {
          "output_type": "stream",
          "name": "stdout",
          "text": [
            "--------------------------------------------- Result 30 ---------------------------------------------\n",
            "[[Positive (99%)]] --> [[[FAILED]]]\n",
            "\n",
            "a soul-stirring documentary about the israeli/palestinian conflict as revealed through the eyes of some children who remain curious about each other against all odds .\n",
            "\n",
            "\n"
          ]
        },
        {
          "output_type": "stream",
          "name": "stderr",
          "text": [
            "\n",
            "[Succeeded / Failed / Skipped / Total] 0 / 25 / 6 / 31:  31%|███       | 31/100 [00:21<00:48,  1.42it/s]\u001b[A\n",
            "[Succeeded / Failed / Skipped / Total] 0 / 25 / 6 / 31:  32%|███▏      | 32/100 [00:21<00:46,  1.47it/s]\u001b[A\n",
            "[Succeeded / Failed / Skipped / Total] 0 / 25 / 7 / 32:  32%|███▏      | 32/100 [00:21<00:46,  1.47it/s]\u001b[A"
          ]
        },
        {
          "output_type": "stream",
          "name": "stdout",
          "text": [
            "--------------------------------------------- Result 31 ---------------------------------------------\n",
            "[[Positive (93%)]] --> [[[FAILED]]]\n",
            "\n",
            "what's so striking about jolie's performance is that she never lets her character become a caricature -- not even with that radioactive hair .\n",
            "\n",
            "\n",
            "--------------------------------------------- Result 32 ---------------------------------------------\n",
            "[[Negative (98%)]] --> [[[SKIPPED]]]\n",
            "\n",
            "the main story . . . is compelling enough , but it's difficult to shrug off the annoyance of that chatty fish .\n",
            "\n",
            "\n"
          ]
        },
        {
          "output_type": "stream",
          "name": "stderr",
          "text": [
            "\n",
            "[Succeeded / Failed / Skipped / Total] 0 / 26 / 7 / 33:  33%|███▎      | 33/100 [00:22<00:45,  1.48it/s]\u001b[A"
          ]
        },
        {
          "output_type": "stream",
          "name": "stdout",
          "text": [
            "--------------------------------------------- Result 33 ---------------------------------------------\n",
            "[[Positive (100%)]] --> [[[FAILED]]]\n",
            "\n",
            "the performances are immaculate , with roussillon providing comic relief .\n",
            "\n",
            "\n"
          ]
        },
        {
          "output_type": "stream",
          "name": "stderr",
          "text": [
            "\n",
            "[Succeeded / Failed / Skipped / Total] 0 / 26 / 7 / 33:  34%|███▍      | 34/100 [00:23<00:44,  1.47it/s]\u001b[A\n",
            "[Succeeded / Failed / Skipped / Total] 0 / 27 / 7 / 34:  34%|███▍      | 34/100 [00:23<00:44,  1.47it/s]\u001b[A"
          ]
        },
        {
          "output_type": "stream",
          "name": "stdout",
          "text": [
            "--------------------------------------------- Result 34 ---------------------------------------------\n",
            "[[Positive (99%)]] --> [[[FAILED]]]\n",
            "\n",
            "kinnear . . . gives his best screen performance with an oddly winning portrayal of one of life's ultimate losers .\n",
            "\n",
            "\n"
          ]
        },
        {
          "output_type": "stream",
          "name": "stderr",
          "text": [
            "\n",
            "[Succeeded / Failed / Skipped / Total] 0 / 28 / 7 / 35:  35%|███▌      | 35/100 [00:23<00:44,  1.47it/s]\u001b[A"
          ]
        },
        {
          "output_type": "stream",
          "name": "stdout",
          "text": [
            "--------------------------------------------- Result 35 ---------------------------------------------\n",
            "[[Positive (98%)]] --> [[[FAILED]]]\n",
            "\n",
            "hugh grant , who has a good line in charm , has never been more charming than in about a boy .\n",
            "\n",
            "\n"
          ]
        },
        {
          "output_type": "stream",
          "name": "stderr",
          "text": [
            "\n",
            "[Succeeded / Failed / Skipped / Total] 0 / 28 / 7 / 35:  36%|███▌      | 36/100 [00:24<00:44,  1.45it/s]\u001b[A\n",
            "[Succeeded / Failed / Skipped / Total] 0 / 29 / 7 / 36:  36%|███▌      | 36/100 [00:24<00:44,  1.45it/s]\u001b[A"
          ]
        },
        {
          "output_type": "stream",
          "name": "stdout",
          "text": [
            "--------------------------------------------- Result 36 ---------------------------------------------\n",
            "[[Positive (94%)]] --> [[[FAILED]]]\n",
            "\n",
            "there's a lot of tooth in roger dodger . but what's nice is that there's a casual intelligence that permeates the script .\n",
            "\n",
            "\n"
          ]
        },
        {
          "output_type": "stream",
          "name": "stderr",
          "text": [
            "\n",
            "[Succeeded / Failed / Skipped / Total] 0 / 30 / 7 / 37:  37%|███▋      | 37/100 [00:25<00:43,  1.43it/s]\u001b[A"
          ]
        },
        {
          "output_type": "stream",
          "name": "stdout",
          "text": [
            "--------------------------------------------- Result 37 ---------------------------------------------\n",
            "[[Positive (97%)]] --> [[[FAILED]]]\n",
            "\n",
            "reminiscent of alfred hitchcock's thrillers , most of the scary parts in 'signs' occur while waiting for things to happen .\n",
            "\n",
            "\n"
          ]
        },
        {
          "output_type": "stream",
          "name": "stderr",
          "text": [
            "\n",
            "[Succeeded / Failed / Skipped / Total] 0 / 30 / 7 / 37:  38%|███▊      | 38/100 [00:26<00:43,  1.44it/s]\u001b[A\n",
            "[Succeeded / Failed / Skipped / Total] 0 / 31 / 7 / 38:  38%|███▊      | 38/100 [00:26<00:43,  1.44it/s]\u001b[A"
          ]
        },
        {
          "output_type": "stream",
          "name": "stdout",
          "text": [
            "--------------------------------------------- Result 38 ---------------------------------------------\n",
            "[[Positive (100%)]] --> [[[FAILED]]]\n",
            "\n",
            "one of the best looking and stylish animated movies in quite a while . . .\n",
            "\n",
            "\n"
          ]
        },
        {
          "output_type": "stream",
          "name": "stderr",
          "text": [
            "\n",
            "[Succeeded / Failed / Skipped / Total] 0 / 32 / 7 / 39:  39%|███▉      | 39/100 [00:27<00:43,  1.41it/s]\u001b[A"
          ]
        },
        {
          "output_type": "stream",
          "name": "stdout",
          "text": [
            "--------------------------------------------- Result 39 ---------------------------------------------\n",
            "[[Positive (100%)]] --> [[[FAILED]]]\n",
            "\n",
            "its use of the thriller form to examine the labyrinthine ways in which people's lives cross and change , buffeted by events seemingly out of their control , is intriguing , provocative stuff .\n",
            "\n",
            "\n"
          ]
        },
        {
          "output_type": "stream",
          "name": "stderr",
          "text": [
            "\n",
            "[Succeeded / Failed / Skipped / Total] 0 / 32 / 7 / 39:  40%|████      | 40/100 [00:28<00:43,  1.39it/s]\u001b[A\n",
            "[Succeeded / Failed / Skipped / Total] 0 / 33 / 7 / 40:  40%|████      | 40/100 [00:28<00:43,  1.39it/s]\u001b[A"
          ]
        },
        {
          "output_type": "stream",
          "name": "stdout",
          "text": [
            "--------------------------------------------- Result 40 ---------------------------------------------\n",
            "[[Positive (100%)]] --> [[[FAILED]]]\n",
            "\n",
            "denver should not get the first and last look at one of the most triumphant performances of vanessa redgrave's career . it deserves to be seen everywhere .\n",
            "\n",
            "\n"
          ]
        },
        {
          "output_type": "stream",
          "name": "stderr",
          "text": [
            "\n",
            "[Succeeded / Failed / Skipped / Total] 0 / 34 / 7 / 41:  41%|████      | 41/100 [00:30<00:43,  1.35it/s]\u001b[A"
          ]
        },
        {
          "output_type": "stream",
          "name": "stdout",
          "text": [
            "--------------------------------------------- Result 41 ---------------------------------------------\n",
            "[[Positive (100%)]] --> [[[FAILED]]]\n",
            "\n",
            "you needn't be steeped in '50s sociology , pop culture or movie lore to appreciate the emotional depth of haynes' work . though haynes' style apes films from the period . . . its message is not rooted in that decade .\n",
            "\n",
            "\n"
          ]
        },
        {
          "output_type": "stream",
          "name": "stderr",
          "text": [
            "\n",
            "[Succeeded / Failed / Skipped / Total] 0 / 34 / 7 / 41:  42%|████▏     | 42/100 [00:30<00:42,  1.36it/s]\u001b[A\n",
            "[Succeeded / Failed / Skipped / Total] 0 / 35 / 7 / 42:  42%|████▏     | 42/100 [00:30<00:42,  1.36it/s]\u001b[A"
          ]
        },
        {
          "output_type": "stream",
          "name": "stdout",
          "text": [
            "--------------------------------------------- Result 42 ---------------------------------------------\n",
            "[[Positive (99%)]] --> [[[FAILED]]]\n",
            "\n",
            "waiting for godard can be fruitful : 'in praise of love' is the director's epitaph for himself .\n",
            "\n",
            "\n"
          ]
        },
        {
          "output_type": "stream",
          "name": "stderr",
          "text": [
            "\n",
            "[Succeeded / Failed / Skipped / Total] 0 / 36 / 7 / 43:  43%|████▎     | 43/100 [00:31<00:41,  1.37it/s]\u001b[A"
          ]
        },
        {
          "output_type": "stream",
          "name": "stdout",
          "text": [
            "--------------------------------------------- Result 43 ---------------------------------------------\n",
            "[[Positive (98%)]] --> [[[FAILED]]]\n",
            "\n",
            "a gangster movie with the capacity to surprise .\n",
            "\n",
            "\n"
          ]
        },
        {
          "output_type": "stream",
          "name": "stderr",
          "text": [
            "\n",
            "[Succeeded / Failed / Skipped / Total] 0 / 36 / 7 / 43:  44%|████▍     | 44/100 [00:32<00:41,  1.34it/s]\u001b[A\n",
            "[Succeeded / Failed / Skipped / Total] 0 / 37 / 7 / 44:  44%|████▍     | 44/100 [00:32<00:41,  1.34it/s]\u001b[A\n",
            "[Succeeded / Failed / Skipped / Total] 0 / 37 / 8 / 45:  45%|████▌     | 45/100 [00:32<00:40,  1.37it/s]\u001b[A\n",
            "[Succeeded / Failed / Skipped / Total] 0 / 37 / 9 / 46:  46%|████▌     | 46/100 [00:32<00:38,  1.40it/s]\u001b[A"
          ]
        },
        {
          "output_type": "stream",
          "name": "stdout",
          "text": [
            "--------------------------------------------- Result 44 ---------------------------------------------\n",
            "[[Positive (99%)]] --> [[[FAILED]]]\n",
            "\n",
            "the film has a laundry list of minor shortcomings , but the numerous scenes of gory mayhem are worth the price of admission . . . if \" gory mayhem \" is your idea of a good time .\n",
            "\n",
            "\n",
            "--------------------------------------------- Result 45 ---------------------------------------------\n",
            "[[Negative (94%)]] --> [[[SKIPPED]]]\n",
            "\n",
            "if not a home run , then at least a solid base hit .\n",
            "\n",
            "\n",
            "--------------------------------------------- Result 46 ---------------------------------------------\n",
            "[[Negative (86%)]] --> [[[SKIPPED]]]\n",
            "\n",
            "goldmember is funny enough to justify the embarrassment of bringing a barf bag to the moviehouse .\n",
            "\n",
            "\n"
          ]
        },
        {
          "output_type": "stream",
          "name": "stderr",
          "text": [
            "\n",
            "[Succeeded / Failed / Skipped / Total] 0 / 37 / 9 / 46:  47%|████▋     | 47/100 [00:33<00:37,  1.41it/s]\u001b[A\n",
            "[Succeeded / Failed / Skipped / Total] 0 / 38 / 9 / 47:  47%|████▋     | 47/100 [00:33<00:37,  1.41it/s]\u001b[A"
          ]
        },
        {
          "output_type": "stream",
          "name": "stdout",
          "text": [
            "--------------------------------------------- Result 47 ---------------------------------------------\n",
            "[[Positive (96%)]] --> [[[FAILED]]]\n",
            "\n",
            ". . . a fairly disposable yet still entertaining b picture .\n",
            "\n",
            "\n"
          ]
        },
        {
          "output_type": "stream",
          "name": "stderr",
          "text": [
            "\n",
            "[Succeeded / Failed / Skipped / Total] 0 / 39 / 9 / 48:  48%|████▊     | 48/100 [00:34<00:37,  1.39it/s]\u001b[A"
          ]
        },
        {
          "output_type": "stream",
          "name": "stdout",
          "text": [
            "--------------------------------------------- Result 48 ---------------------------------------------\n",
            "[[Positive (100%)]] --> [[[FAILED]]]\n",
            "\n",
            "it may not be particularly innovative , but the film's crisp , unaffected style and air of gentle longing make it unexpectedly rewarding .\n",
            "\n",
            "\n"
          ]
        },
        {
          "output_type": "stream",
          "name": "stderr",
          "text": [
            "\n",
            "[Succeeded / Failed / Skipped / Total] 0 / 40 / 9 / 49:  49%|████▉     | 49/100 [00:35<00:36,  1.39it/s]\u001b[A"
          ]
        },
        {
          "output_type": "stream",
          "name": "stdout",
          "text": [
            "--------------------------------------------- Result 49 ---------------------------------------------\n",
            "[[Positive (100%)]] --> [[[FAILED]]]\n",
            "\n",
            "the film truly does rescue [the funk brothers] from motown's shadows . it's about time .\n",
            "\n",
            "\n"
          ]
        },
        {
          "output_type": "stream",
          "name": "stderr",
          "text": [
            "\n",
            "[Succeeded / Failed / Skipped / Total] 0 / 40 / 9 / 49:  50%|█████     | 50/100 [00:36<00:36,  1.36it/s]\u001b[A\n",
            "[Succeeded / Failed / Skipped / Total] 0 / 41 / 9 / 50:  50%|█████     | 50/100 [00:36<00:36,  1.36it/s]\u001b[A"
          ]
        },
        {
          "output_type": "stream",
          "name": "stdout",
          "text": [
            "--------------------------------------------- Result 50 ---------------------------------------------\n",
            "[[Positive (99%)]] --> [[[FAILED]]]\n",
            "\n",
            "drawing on an irresistible , languid romanticism , byler reveals the ways in which a sultry evening or a beer-fueled afternoon in the sun can inspire even the most retiring heart to venture forth .\n",
            "\n",
            "\n"
          ]
        },
        {
          "output_type": "stream",
          "name": "stderr",
          "text": [
            "\n",
            "[Succeeded / Failed / Skipped / Total] 0 / 42 / 9 / 51:  51%|█████     | 51/100 [00:37<00:36,  1.35it/s]\u001b[A"
          ]
        },
        {
          "output_type": "stream",
          "name": "stdout",
          "text": [
            "--------------------------------------------- Result 51 ---------------------------------------------\n",
            "[[Positive (95%)]] --> [[[FAILED]]]\n",
            "\n",
            "works because we're never sure if ohlinger's on the level or merely a dying , delusional man trying to get into the history books before he croaks .\n",
            "\n",
            "\n"
          ]
        },
        {
          "output_type": "stream",
          "name": "stderr",
          "text": [
            "\n",
            "[Succeeded / Failed / Skipped / Total] 0 / 43 / 9 / 52:  52%|█████▏    | 52/100 [00:38<00:35,  1.34it/s]\u001b[A"
          ]
        },
        {
          "output_type": "stream",
          "name": "stdout",
          "text": [
            "--------------------------------------------- Result 52 ---------------------------------------------\n",
            "[[Positive (99%)]] --> [[[FAILED]]]\n",
            "\n",
            "[scherfig] has made a movie that will leave you wondering about the characters' lives after the clever credits roll .\n",
            "\n",
            "\n"
          ]
        },
        {
          "output_type": "stream",
          "name": "stderr",
          "text": [
            "\n",
            "[Succeeded / Failed / Skipped / Total] 0 / 43 / 9 / 52:  53%|█████▎    | 53/100 [00:40<00:35,  1.32it/s]\u001b[A\n",
            "[Succeeded / Failed / Skipped / Total] 0 / 44 / 9 / 53:  53%|█████▎    | 53/100 [00:40<00:35,  1.32it/s]\u001b[A"
          ]
        },
        {
          "output_type": "stream",
          "name": "stdout",
          "text": [
            "--------------------------------------------- Result 53 ---------------------------------------------\n",
            "[[Positive (94%)]] --> [[[FAILED]]]\n",
            "\n",
            "a heady , biting , be-bop ride through nighttime manhattan , a loquacious videologue of the modern male and the lengths to which he'll go to weave a protective cocoon around his own ego .\n",
            "\n",
            "\n"
          ]
        },
        {
          "output_type": "stream",
          "name": "stderr",
          "text": [
            "\n",
            "[Succeeded / Failed / Skipped / Total] 0 / 45 / 9 / 54:  54%|█████▍    | 54/100 [00:41<00:35,  1.29it/s]\u001b[A"
          ]
        },
        {
          "output_type": "stream",
          "name": "stdout",
          "text": [
            "--------------------------------------------- Result 54 ---------------------------------------------\n",
            "[[Positive (86%)]] --> [[[FAILED]]]\n",
            "\n",
            "skin of man gets a few cheap shocks from its kids-in-peril theatrics , but it also taps into the primal fears of young people trying to cope with the mysterious and brutal nature of adults .\n",
            "\n",
            "\n"
          ]
        },
        {
          "output_type": "stream",
          "name": "stderr",
          "text": [
            "\n",
            "[Succeeded / Failed / Skipped / Total] 0 / 46 / 9 / 55:  55%|█████▌    | 55/100 [00:43<00:35,  1.27it/s]\u001b[A"
          ]
        },
        {
          "output_type": "stream",
          "name": "stdout",
          "text": [
            "--------------------------------------------- Result 55 ---------------------------------------------\n",
            "[[Positive (99%)]] --> [[[FAILED]]]\n",
            "\n",
            "the piano teacher is not an easy film . it forces you to watch people doing unpleasant things to each other and themselves , and it maintains a cool distance from its material that is deliberately unsettling .\n",
            "\n",
            "\n"
          ]
        },
        {
          "output_type": "stream",
          "name": "stderr",
          "text": [
            "\n",
            "[Succeeded / Failed / Skipped / Total] 0 / 46 / 9 / 55:  56%|█████▌    | 56/100 [00:43<00:34,  1.28it/s]\u001b[A\n",
            "[Succeeded / Failed / Skipped / Total] 0 / 47 / 9 / 56:  56%|█████▌    | 56/100 [00:43<00:34,  1.28it/s]\u001b[A"
          ]
        },
        {
          "output_type": "stream",
          "name": "stdout",
          "text": [
            "--------------------------------------------- Result 56 ---------------------------------------------\n",
            "[[Positive (97%)]] --> [[[FAILED]]]\n",
            "\n",
            "as refreshing as a drink from a woodland stream .\n",
            "\n",
            "\n"
          ]
        },
        {
          "output_type": "stream",
          "name": "stderr",
          "text": [
            "\n",
            "[Succeeded / Failed / Skipped / Total] 0 / 48 / 9 / 57:  57%|█████▋    | 57/100 [00:44<00:33,  1.29it/s]\u001b[A"
          ]
        },
        {
          "output_type": "stream",
          "name": "stdout",
          "text": [
            "--------------------------------------------- Result 57 ---------------------------------------------\n",
            "[[Positive (100%)]] --> [[[FAILED]]]\n",
            "\n",
            "williams absolutely nails sy's queasy infatuation and overall strangeness .\n",
            "\n",
            "\n"
          ]
        },
        {
          "output_type": "stream",
          "name": "stderr",
          "text": [
            "\n",
            "[Succeeded / Failed / Skipped / Total] 0 / 49 / 9 / 58:  58%|█████▊    | 58/100 [00:45<00:32,  1.28it/s]\u001b[A"
          ]
        },
        {
          "output_type": "stream",
          "name": "stdout",
          "text": [
            "--------------------------------------------- Result 58 ---------------------------------------------\n",
            "[[Positive (90%)]] --> [[[FAILED]]]\n",
            "\n",
            "can i admit xxx is as deep as a petri dish and as well-characterized as a telephone book but still say it was a guilty pleasure ?\n",
            "\n",
            "\n"
          ]
        },
        {
          "output_type": "stream",
          "name": "stderr",
          "text": [
            "\n",
            "[Succeeded / Failed / Skipped / Total] 0 / 49 / 9 / 58:  59%|█████▉    | 59/100 [00:46<00:32,  1.28it/s]\u001b[A\n",
            "[Succeeded / Failed / Skipped / Total] 0 / 50 / 9 / 59:  59%|█████▉    | 59/100 [00:46<00:32,  1.28it/s]\u001b[A"
          ]
        },
        {
          "output_type": "stream",
          "name": "stdout",
          "text": [
            "--------------------------------------------- Result 59 ---------------------------------------------\n",
            "[[Positive (99%)]] --> [[[FAILED]]]\n",
            "\n",
            "while it's nothing we haven't seen before from murphy , i spy is still fun and enjoyable and so aggressively silly that it's more than a worthwhile effort .\n",
            "\n",
            "\n"
          ]
        },
        {
          "output_type": "stream",
          "name": "stderr",
          "text": [
            "\n",
            "[Succeeded / Failed / Skipped / Total] 0 / 51 / 9 / 60:  60%|██████    | 60/100 [00:47<00:31,  1.26it/s]\u001b[A"
          ]
        },
        {
          "output_type": "stream",
          "name": "stdout",
          "text": [
            "--------------------------------------------- Result 60 ---------------------------------------------\n",
            "[[Positive (67%)]] --> [[[FAILED]]]\n",
            "\n",
            "by the time it ends in a rush of sequins , flashbulbs , blaring brass and back-stabbing babes , it has said plenty about how show business has infiltrated every corner of society -- and not always for the better .\n",
            "\n",
            "\n"
          ]
        },
        {
          "output_type": "stream",
          "name": "stderr",
          "text": [
            "\n",
            "[Succeeded / Failed / Skipped / Total] 0 / 52 / 9 / 61:  61%|██████    | 61/100 [00:48<00:30,  1.27it/s]\u001b[A\n",
            "[Succeeded / Failed / Skipped / Total] 0 / 52 / 9 / 61:  62%|██████▏   | 62/100 [00:48<00:29,  1.29it/s]\u001b[A\n",
            "[Succeeded / Failed / Skipped / Total] 0 / 52 / 10 / 62:  62%|██████▏   | 62/100 [00:48<00:29,  1.29it/s]\u001b[A"
          ]
        },
        {
          "output_type": "stream",
          "name": "stdout",
          "text": [
            "--------------------------------------------- Result 61 ---------------------------------------------\n",
            "[[Positive (100%)]] --> [[[FAILED]]]\n",
            "\n",
            "an intimate contemplation of two marvelously messy lives .\n",
            "\n",
            "\n",
            "--------------------------------------------- Result 62 ---------------------------------------------\n",
            "[[Negative (73%)]] --> [[[SKIPPED]]]\n",
            "\n",
            "rarely has skin looked as beautiful , desirable , even delectable , as it does in trouble every day .\n",
            "\n",
            "\n"
          ]
        },
        {
          "output_type": "stream",
          "name": "stderr",
          "text": [
            "\n",
            "[Succeeded / Failed / Skipped / Total] 0 / 53 / 10 / 63:  63%|██████▎   | 63/100 [00:49<00:28,  1.28it/s]\u001b[A"
          ]
        },
        {
          "output_type": "stream",
          "name": "stdout",
          "text": [
            "--------------------------------------------- Result 63 ---------------------------------------------\n",
            "[[Positive (100%)]] --> [[[FAILED]]]\n",
            "\n",
            "this is one of those rare docs that paints a grand picture of an era and makes the journey feel like a party .\n",
            "\n",
            "\n"
          ]
        },
        {
          "output_type": "stream",
          "name": "stderr",
          "text": [
            "\n",
            "[Succeeded / Failed / Skipped / Total] 0 / 54 / 10 / 64:  64%|██████▍   | 64/100 [00:49<00:27,  1.29it/s]\u001b[A"
          ]
        },
        {
          "output_type": "stream",
          "name": "stdout",
          "text": [
            "--------------------------------------------- Result 64 ---------------------------------------------\n",
            "[[Positive (97%)]] --> [[[FAILED]]]\n",
            "\n",
            "poignant if familiar story of a young person suspended between two cultures .\n",
            "\n",
            "\n"
          ]
        },
        {
          "output_type": "stream",
          "name": "stderr",
          "text": [
            "\n",
            "[Succeeded / Failed / Skipped / Total] 0 / 54 / 10 / 64:  65%|██████▌   | 65/100 [00:50<00:27,  1.29it/s]\u001b[A\n",
            "[Succeeded / Failed / Skipped / Total] 0 / 55 / 10 / 65:  65%|██████▌   | 65/100 [00:50<00:27,  1.29it/s]\u001b[A"
          ]
        },
        {
          "output_type": "stream",
          "name": "stdout",
          "text": [
            "--------------------------------------------- Result 65 ---------------------------------------------\n",
            "[[Positive (97%)]] --> [[[FAILED]]]\n",
            "\n",
            "a metaphor for a modern-day urban china searching for its identity .\n",
            "\n",
            "\n"
          ]
        },
        {
          "output_type": "stream",
          "name": "stderr",
          "text": [
            "\n",
            "[Succeeded / Failed / Skipped / Total] 0 / 56 / 10 / 66:  66%|██████▌   | 66/100 [00:51<00:26,  1.29it/s]\u001b[A"
          ]
        },
        {
          "output_type": "stream",
          "name": "stdout",
          "text": [
            "--------------------------------------------- Result 66 ---------------------------------------------\n",
            "[[Positive (100%)]] --> [[[FAILED]]]\n",
            "\n",
            "for all its brooding quality , ash wednesday is suspenseful and ultimately unpredictable , with a sterling ensemble cast .\n",
            "\n",
            "\n"
          ]
        },
        {
          "output_type": "stream",
          "name": "stderr",
          "text": [
            "\n",
            "[Succeeded / Failed / Skipped / Total] 0 / 57 / 10 / 67:  67%|██████▋   | 67/100 [00:52<00:25,  1.29it/s]\u001b[A"
          ]
        },
        {
          "output_type": "stream",
          "name": "stdout",
          "text": [
            "--------------------------------------------- Result 67 ---------------------------------------------\n",
            "[[Positive (99%)]] --> [[[FAILED]]]\n",
            "\n",
            "an odd drama set in the world of lingerie models and bar dancers in the midwest that held my interest precisely because it didn't try to .\n",
            "\n",
            "\n"
          ]
        },
        {
          "output_type": "stream",
          "name": "stderr",
          "text": [
            "\n",
            "[Succeeded / Failed / Skipped / Total] 0 / 57 / 10 / 67:  68%|██████▊   | 68/100 [00:52<00:24,  1.28it/s]\u001b[A\n",
            "[Succeeded / Failed / Skipped / Total] 0 / 58 / 10 / 68:  68%|██████▊   | 68/100 [00:52<00:24,  1.28it/s]\u001b[A"
          ]
        },
        {
          "output_type": "stream",
          "name": "stdout",
          "text": [
            "--------------------------------------------- Result 68 ---------------------------------------------\n",
            "[[Positive (92%)]] --> [[[FAILED]]]\n",
            "\n",
            "the film feels uncomfortably real , its language and locations bearing the unmistakable stamp of authority .\n",
            "\n",
            "\n"
          ]
        },
        {
          "output_type": "stream",
          "name": "stderr",
          "text": [
            "\n",
            "[Succeeded / Failed / Skipped / Total] 0 / 59 / 10 / 69:  69%|██████▉   | 69/100 [00:53<00:24,  1.29it/s]\u001b[A"
          ]
        },
        {
          "output_type": "stream",
          "name": "stdout",
          "text": [
            "--------------------------------------------- Result 69 ---------------------------------------------\n",
            "[[Positive (99%)]] --> [[[FAILED]]]\n",
            "\n",
            "despite its faults , gangs excels in spectacle and pacing .\n",
            "\n",
            "\n"
          ]
        },
        {
          "output_type": "stream",
          "name": "stderr",
          "text": [
            "\n",
            "[Succeeded / Failed / Skipped / Total] 0 / 60 / 10 / 70:  70%|███████   | 70/100 [00:54<00:23,  1.29it/s]\u001b[A"
          ]
        },
        {
          "output_type": "stream",
          "name": "stdout",
          "text": [
            "--------------------------------------------- Result 70 ---------------------------------------------\n",
            "[[Positive (99%)]] --> [[[FAILED]]]\n",
            "\n",
            "entertaining despite its one-joke premise with the thesis that women from venus and men from mars can indeed get together .\n",
            "\n",
            "\n"
          ]
        },
        {
          "output_type": "stream",
          "name": "stderr",
          "text": [
            "\n",
            "[Succeeded / Failed / Skipped / Total] 0 / 60 / 10 / 70:  71%|███████   | 71/100 [00:55<00:22,  1.29it/s]\u001b[A\n",
            "[Succeeded / Failed / Skipped / Total] 0 / 61 / 10 / 71:  71%|███████   | 71/100 [00:55<00:22,  1.29it/s]\u001b[A"
          ]
        },
        {
          "output_type": "stream",
          "name": "stdout",
          "text": [
            "--------------------------------------------- Result 71 ---------------------------------------------\n",
            "[[Positive (100%)]] --> [[[FAILED]]]\n",
            "\n",
            "a tightly directed , highly professional film that's old-fashioned in all the best possible ways .\n",
            "\n",
            "\n"
          ]
        },
        {
          "output_type": "stream",
          "name": "stderr",
          "text": [
            "\n",
            "[Succeeded / Failed / Skipped / Total] 0 / 62 / 10 / 72:  72%|███████▏  | 72/100 [00:56<00:21,  1.28it/s]\u001b[A"
          ]
        },
        {
          "output_type": "stream",
          "name": "stdout",
          "text": [
            "--------------------------------------------- Result 72 ---------------------------------------------\n",
            "[[Positive (100%)]] --> [[[FAILED]]]\n",
            "\n",
            "it's dark but has wonderfully funny moments ; you care about the characters ; and the action and special effects are first-rate .\n",
            "\n",
            "\n"
          ]
        },
        {
          "output_type": "stream",
          "name": "stderr",
          "text": [
            "\n",
            "[Succeeded / Failed / Skipped / Total] 0 / 63 / 10 / 73:  73%|███████▎  | 73/100 [00:56<00:21,  1.29it/s]\u001b[A"
          ]
        },
        {
          "output_type": "stream",
          "name": "stdout",
          "text": [
            "--------------------------------------------- Result 73 ---------------------------------------------\n",
            "[[Positive (100%)]] --> [[[FAILED]]]\n",
            "\n",
            "in visual fertility treasure planet rivals the top japanese animations of recent vintage .\n",
            "\n",
            "\n"
          ]
        },
        {
          "output_type": "stream",
          "name": "stderr",
          "text": [
            "\n",
            "[Succeeded / Failed / Skipped / Total] 0 / 63 / 10 / 73:  74%|███████▍  | 74/100 [00:57<00:20,  1.30it/s]\u001b[A\n",
            "[Succeeded / Failed / Skipped / Total] 0 / 64 / 10 / 74:  74%|███████▍  | 74/100 [00:57<00:20,  1.30it/s]\u001b[A"
          ]
        },
        {
          "output_type": "stream",
          "name": "stdout",
          "text": [
            "--------------------------------------------- Result 74 ---------------------------------------------\n",
            "[[Positive (100%)]] --> [[[FAILED]]]\n",
            "\n",
            "enormously enjoyable , high-adrenaline documentary .\n",
            "\n",
            "\n"
          ]
        },
        {
          "output_type": "stream",
          "name": "stderr",
          "text": [
            "\n",
            "[Succeeded / Failed / Skipped / Total] 0 / 65 / 10 / 75:  75%|███████▌  | 75/100 [00:57<00:19,  1.30it/s]\u001b[A"
          ]
        },
        {
          "output_type": "stream",
          "name": "stdout",
          "text": [
            "--------------------------------------------- Result 75 ---------------------------------------------\n",
            "[[Positive (99%)]] --> [[[FAILED]]]\n",
            "\n",
            "buy is an accomplished actress , and this is a big , juicy role .\n",
            "\n",
            "\n"
          ]
        },
        {
          "output_type": "stream",
          "name": "stderr",
          "text": [
            "\n",
            "[Succeeded / Failed / Skipped / Total] 0 / 66 / 10 / 76:  76%|███████▌  | 76/100 [00:58<00:18,  1.30it/s]\u001b[A"
          ]
        },
        {
          "output_type": "stream",
          "name": "stdout",
          "text": [
            "--------------------------------------------- Result 76 ---------------------------------------------\n",
            "[[Positive (100%)]] --> [[[FAILED]]]\n",
            "\n",
            "it works its magic with such exuberance and passion that the film's length becomes a part of its fun .\n",
            "\n",
            "\n"
          ]
        },
        {
          "output_type": "stream",
          "name": "stderr",
          "text": [
            "\n",
            "[Succeeded / Failed / Skipped / Total] 0 / 66 / 10 / 76:  77%|███████▋  | 77/100 [00:59<00:17,  1.29it/s]\u001b[A\n",
            "[Succeeded / Failed / Skipped / Total] 0 / 67 / 10 / 77:  77%|███████▋  | 77/100 [00:59<00:17,  1.29it/s]\u001b[A"
          ]
        },
        {
          "output_type": "stream",
          "name": "stdout",
          "text": [
            "--------------------------------------------- Result 77 ---------------------------------------------\n",
            "[[Positive (100%)]] --> [[[FAILED]]]\n",
            "\n",
            "beautifully crafted and brutally honest , promises offers an unexpected window into the complexities of the middle east struggle and into the humanity of its people .\n",
            "\n",
            "\n"
          ]
        },
        {
          "output_type": "stream",
          "name": "stderr",
          "text": [
            "\n",
            "[Succeeded / Failed / Skipped / Total] 0 / 68 / 10 / 78:  78%|███████▊  | 78/100 [01:00<00:16,  1.29it/s]\u001b[A"
          ]
        },
        {
          "output_type": "stream",
          "name": "stdout",
          "text": [
            "--------------------------------------------- Result 78 ---------------------------------------------\n",
            "[[Positive (100%)]] --> [[[FAILED]]]\n",
            "\n",
            "an old-fashioned but emotionally stirring adventure tale of the kind they rarely make anymore .\n",
            "\n",
            "\n"
          ]
        },
        {
          "output_type": "stream",
          "name": "stderr",
          "text": [
            "\n",
            "[Succeeded / Failed / Skipped / Total] 0 / 69 / 10 / 79:  79%|███████▉  | 79/100 [01:00<00:16,  1.30it/s]\u001b[A"
          ]
        },
        {
          "output_type": "stream",
          "name": "stdout",
          "text": [
            "--------------------------------------------- Result 79 ---------------------------------------------\n",
            "[[Positive (100%)]] --> [[[FAILED]]]\n",
            "\n",
            "charlotte sometimes is a gem . it's always enthralling .\n",
            "\n",
            "\n"
          ]
        },
        {
          "output_type": "stream",
          "name": "stderr",
          "text": [
            "\n",
            "[Succeeded / Failed / Skipped / Total] 0 / 69 / 10 / 79:  80%|████████  | 80/100 [01:01<00:15,  1.30it/s]\u001b[A\n",
            "[Succeeded / Failed / Skipped / Total] 0 / 70 / 10 / 80:  80%|████████  | 80/100 [01:01<00:15,  1.30it/s]\u001b[A"
          ]
        },
        {
          "output_type": "stream",
          "name": "stdout",
          "text": [
            "--------------------------------------------- Result 80 ---------------------------------------------\n",
            "[[Positive (94%)]] --> [[[FAILED]]]\n",
            "\n",
            "in my opinion , analyze that is not as funny or entertaining as analyze this , but it is a respectable sequel .\n",
            "\n",
            "\n"
          ]
        },
        {
          "output_type": "stream",
          "name": "stderr",
          "text": [
            "\n",
            "[Succeeded / Failed / Skipped / Total] 0 / 71 / 10 / 81:  81%|████████  | 81/100 [01:01<00:14,  1.31it/s]\u001b[A"
          ]
        },
        {
          "output_type": "stream",
          "name": "stdout",
          "text": [
            "--------------------------------------------- Result 81 ---------------------------------------------\n",
            "[[Positive (99%)]] --> [[[FAILED]]]\n",
            "\n",
            "a remarkable film by bernard rose .\n",
            "\n",
            "\n"
          ]
        },
        {
          "output_type": "stream",
          "name": "stderr",
          "text": [
            "\n",
            "[Succeeded / Failed / Skipped / Total] 0 / 72 / 10 / 82:  82%|████████▏ | 82/100 [01:03<00:13,  1.30it/s]\u001b[A"
          ]
        },
        {
          "output_type": "stream",
          "name": "stdout",
          "text": [
            "--------------------------------------------- Result 82 ---------------------------------------------\n",
            "[[Positive (99%)]] --> [[[FAILED]]]\n",
            "\n",
            "zhuangzhuang creates delicate balance of style , text , and subtext that's so simple and precise that anything discordant would topple the balance , but against all odds , nothing does .\n",
            "\n",
            "\n"
          ]
        },
        {
          "output_type": "stream",
          "name": "stderr",
          "text": [
            "\n",
            "[Succeeded / Failed / Skipped / Total] 0 / 72 / 10 / 82:  83%|████████▎ | 83/100 [01:04<00:13,  1.29it/s]\u001b[A\n",
            "[Succeeded / Failed / Skipped / Total] 0 / 73 / 10 / 83:  83%|████████▎ | 83/100 [01:04<00:13,  1.29it/s]\u001b[A"
          ]
        },
        {
          "output_type": "stream",
          "name": "stdout",
          "text": [
            "--------------------------------------------- Result 83 ---------------------------------------------\n",
            "[[Positive (100%)]] --> [[[FAILED]]]\n",
            "\n",
            "a much more successful translation than its most famous previous film adaptation , writer-director anthony friedman's similarly updated 1970 british production .\n",
            "\n",
            "\n"
          ]
        },
        {
          "output_type": "stream",
          "name": "stderr",
          "text": [
            "\n",
            "[Succeeded / Failed / Skipped / Total] 0 / 74 / 10 / 84:  84%|████████▍ | 84/100 [01:04<00:12,  1.30it/s]\u001b[A"
          ]
        },
        {
          "output_type": "stream",
          "name": "stdout",
          "text": [
            "--------------------------------------------- Result 84 ---------------------------------------------\n",
            "[[Positive (99%)]] --> [[[FAILED]]]\n",
            "\n",
            "an original and highly cerebral examination of the psychopathic mind\n",
            "\n",
            "\n"
          ]
        },
        {
          "output_type": "stream",
          "name": "stderr",
          "text": [
            "\n",
            "[Succeeded / Failed / Skipped / Total] 0 / 75 / 10 / 85:  85%|████████▌ | 85/100 [01:05<00:11,  1.30it/s]\u001b[A"
          ]
        },
        {
          "output_type": "stream",
          "name": "stdout",
          "text": [
            "--------------------------------------------- Result 85 ---------------------------------------------\n",
            "[[Positive (100%)]] --> [[[FAILED]]]\n",
            "\n",
            "michel piccoli's moving performance is this films reason for being .\n",
            "\n",
            "\n"
          ]
        },
        {
          "output_type": "stream",
          "name": "stderr",
          "text": [
            "\n",
            "[Succeeded / Failed / Skipped / Total] 0 / 75 / 10 / 85:  86%|████████▌ | 86/100 [01:05<00:10,  1.31it/s]\u001b[A\n",
            "[Succeeded / Failed / Skipped / Total] 0 / 76 / 10 / 86:  86%|████████▌ | 86/100 [01:05<00:10,  1.31it/s]\u001b[A"
          ]
        },
        {
          "output_type": "stream",
          "name": "stdout",
          "text": [
            "--------------------------------------------- Result 86 ---------------------------------------------\n",
            "[[Positive (100%)]] --> [[[FAILED]]]\n",
            "\n",
            "a captivating and intimate study about dying and loving . . .\n",
            "\n",
            "\n"
          ]
        },
        {
          "output_type": "stream",
          "name": "stderr",
          "text": [
            "\n",
            "[Succeeded / Failed / Skipped / Total] 0 / 77 / 10 / 87:  87%|████████▋ | 87/100 [01:06<00:09,  1.30it/s]\u001b[A"
          ]
        },
        {
          "output_type": "stream",
          "name": "stdout",
          "text": [
            "--------------------------------------------- Result 87 ---------------------------------------------\n",
            "[[Positive (100%)]] --> [[[FAILED]]]\n",
            "\n",
            "this is an elegantly balanced movie -- every member of the ensemble has something fascinating to do -- that doesn't reveal even a hint of artifice .\n",
            "\n",
            "\n"
          ]
        },
        {
          "output_type": "stream",
          "name": "stderr",
          "text": [
            "\n",
            "[Succeeded / Failed / Skipped / Total] 0 / 78 / 10 / 88:  88%|████████▊ | 88/100 [01:08<00:09,  1.29it/s]\u001b[A"
          ]
        },
        {
          "output_type": "stream",
          "name": "stdout",
          "text": [
            "--------------------------------------------- Result 88 ---------------------------------------------\n",
            "[[Positive (99%)]] --> [[[FAILED]]]\n",
            "\n",
            "[grant] goes beyond his usual fluttering and stammering and captures the soul of a man in pain who gradually comes to recognize it and deal with it .\n",
            "\n",
            "\n"
          ]
        },
        {
          "output_type": "stream",
          "name": "stderr",
          "text": [
            "\n",
            "[Succeeded / Failed / Skipped / Total] 0 / 78 / 10 / 88:  89%|████████▉ | 89/100 [01:08<00:08,  1.29it/s]\u001b[A\n",
            "[Succeeded / Failed / Skipped / Total] 0 / 79 / 10 / 89:  89%|████████▉ | 89/100 [01:08<00:08,  1.29it/s]\u001b[A"
          ]
        },
        {
          "output_type": "stream",
          "name": "stdout",
          "text": [
            "--------------------------------------------- Result 89 ---------------------------------------------\n",
            "[[Positive (98%)]] --> [[[FAILED]]]\n",
            "\n",
            "a high-spirited buddy movie about the reunion of berlin anarchists who face arrest 15 years after their crime .\n",
            "\n",
            "\n"
          ]
        },
        {
          "output_type": "stream",
          "name": "stderr",
          "text": [
            "\n",
            "[Succeeded / Failed / Skipped / Total] 0 / 80 / 10 / 90:  90%|█████████ | 90/100 [01:10<00:07,  1.28it/s]\u001b[A"
          ]
        },
        {
          "output_type": "stream",
          "name": "stdout",
          "text": [
            "--------------------------------------------- Result 90 ---------------------------------------------\n",
            "[[Positive (99%)]] --> [[[FAILED]]]\n",
            "\n",
            "about the best thing you could say about narc is that it's a rock-solid little genre picture . whether you like it or not is basically a matter of taste .\n",
            "\n",
            "\n"
          ]
        },
        {
          "output_type": "stream",
          "name": "stderr",
          "text": [
            "\n",
            "[Succeeded / Failed / Skipped / Total] 0 / 81 / 10 / 91:  91%|█████████ | 91/100 [01:10<00:06,  1.29it/s]\u001b[A"
          ]
        },
        {
          "output_type": "stream",
          "name": "stdout",
          "text": [
            "--------------------------------------------- Result 91 ---------------------------------------------\n",
            "[[Positive (100%)]] --> [[[FAILED]]]\n",
            "\n",
            "an involving , inspirational drama that sometimes falls prey to its sob-story trappings .\n",
            "\n",
            "\n"
          ]
        },
        {
          "output_type": "stream",
          "name": "stderr",
          "text": [
            "\n",
            "[Succeeded / Failed / Skipped / Total] 0 / 81 / 10 / 91:  92%|█████████▏| 92/100 [01:11<00:06,  1.29it/s]\u001b[A\n",
            "[Succeeded / Failed / Skipped / Total] 0 / 82 / 10 / 92:  92%|█████████▏| 92/100 [01:11<00:06,  1.29it/s]\u001b[A"
          ]
        },
        {
          "output_type": "stream",
          "name": "stdout",
          "text": [
            "--------------------------------------------- Result 92 ---------------------------------------------\n",
            "[[Positive (99%)]] --> [[[FAILED]]]\n",
            "\n",
            "some of the most inventive silliness you are likely to witness in a movie theatre for some time .\n",
            "\n",
            "\n"
          ]
        },
        {
          "output_type": "stream",
          "name": "stderr",
          "text": [
            "\n",
            "[Succeeded / Failed / Skipped / Total] 0 / 83 / 10 / 93:  93%|█████████▎| 93/100 [01:12<00:05,  1.28it/s]\u001b[A"
          ]
        },
        {
          "output_type": "stream",
          "name": "stdout",
          "text": [
            "--------------------------------------------- Result 93 ---------------------------------------------\n",
            "[[Positive (99%)]] --> [[[FAILED]]]\n",
            "\n",
            "canadian filmmaker gary burns' inventive and mordantly humorous take on the soullessness of work in the city .\n",
            "\n",
            "\n"
          ]
        },
        {
          "output_type": "stream",
          "name": "stderr",
          "text": [
            "\n",
            "[Succeeded / Failed / Skipped / Total] 0 / 84 / 10 / 94:  94%|█████████▍| 94/100 [01:14<00:04,  1.27it/s]\u001b[A"
          ]
        },
        {
          "output_type": "stream",
          "name": "stdout",
          "text": [
            "--------------------------------------------- Result 94 ---------------------------------------------\n",
            "[[Positive (100%)]] --> [[[FAILED]]]\n",
            "\n",
            "a rollicking ride , with jaw-dropping action sequences , striking villains , a gorgeous color palette , astounding technology , stirring music and a boffo last hour that leads up to a strangely sinister happy ending .\n",
            "\n",
            "\n"
          ]
        },
        {
          "output_type": "stream",
          "name": "stderr",
          "text": [
            "\n",
            "[Succeeded / Failed / Skipped / Total] 0 / 84 / 10 / 94:  95%|█████████▌| 95/100 [01:15<00:03,  1.27it/s]\u001b[A\n",
            "[Succeeded / Failed / Skipped / Total] 0 / 85 / 10 / 95:  95%|█████████▌| 95/100 [01:15<00:03,  1.27it/s]\u001b[A"
          ]
        },
        {
          "output_type": "stream",
          "name": "stdout",
          "text": [
            "--------------------------------------------- Result 95 ---------------------------------------------\n",
            "[[Positive (100%)]] --> [[[FAILED]]]\n",
            "\n",
            "everyone's insecure in lovely and amazing , a poignant and wryly amusing film about mothers , daughters and their relationships .\n",
            "\n",
            "\n"
          ]
        },
        {
          "output_type": "stream",
          "name": "stderr",
          "text": [
            "\n",
            "[Succeeded / Failed / Skipped / Total] 0 / 86 / 10 / 96:  96%|█████████▌| 96/100 [01:15<00:03,  1.27it/s]\u001b[A\n",
            "[Succeeded / Failed / Skipped / Total] 0 / 87 / 10 / 97:  97%|█████████▋| 97/100 [01:15<00:02,  1.28it/s]\u001b[A"
          ]
        },
        {
          "output_type": "stream",
          "name": "stdout",
          "text": [
            "--------------------------------------------- Result 96 ---------------------------------------------\n",
            "[[Positive (99%)]] --> [[[FAILED]]]\n",
            "\n",
            "the closest thing to the experience of space travel\n",
            "\n",
            "\n",
            "--------------------------------------------- Result 97 ---------------------------------------------\n",
            "[[Positive (99%)]] --> [[[FAILED]]]\n",
            "\n",
            "full of surprises .\n",
            "\n",
            "\n"
          ]
        },
        {
          "output_type": "stream",
          "name": "stderr",
          "text": [
            "\n",
            "[Succeeded / Failed / Skipped / Total] 0 / 87 / 10 / 97:  98%|█████████▊| 98/100 [01:16<00:01,  1.28it/s]\u001b[A\n",
            "[Succeeded / Failed / Skipped / Total] 0 / 88 / 10 / 98:  98%|█████████▊| 98/100 [01:16<00:01,  1.28it/s]\u001b[A"
          ]
        },
        {
          "output_type": "stream",
          "name": "stdout",
          "text": [
            "--------------------------------------------- Result 98 ---------------------------------------------\n",
            "[[Positive (95%)]] --> [[[FAILED]]]\n",
            "\n",
            "connoisseurs of chinese film will be pleased to discover that tian's meticulous talent has not withered during his enforced hiatus .\n",
            "\n",
            "\n"
          ]
        },
        {
          "output_type": "stream",
          "name": "stderr",
          "text": [
            "\n",
            "[Succeeded / Failed / Skipped / Total] 0 / 89 / 10 / 99:  99%|█████████▉| 99/100 [01:17<00:00,  1.28it/s]\u001b[A"
          ]
        },
        {
          "output_type": "stream",
          "name": "stdout",
          "text": [
            "--------------------------------------------- Result 99 ---------------------------------------------\n",
            "[[Positive (99%)]] --> [[[FAILED]]]\n",
            "\n",
            "if you can push on through the slow spots , you'll be rewarded with some fine acting .\n",
            "\n",
            "\n"
          ]
        },
        {
          "output_type": "stream",
          "name": "stderr",
          "text": [
            "\n",
            "[Succeeded / Failed / Skipped / Total] 0 / 90 / 10 / 100: 100%|██████████| 100/100 [01:18<00:00,  1.28it/s]"
          ]
        },
        {
          "output_type": "stream",
          "name": "stdout",
          "text": [
            "--------------------------------------------- Result 100 ---------------------------------------------\n",
            "[[Positive (96%)]] --> [[[FAILED]]]\n",
            "\n",
            "an unusually dry-eyed , even analytical approach to material that is generally played for maximum moisture .\n",
            "\n",
            "\n",
            "\n",
            "+-------------------------------+-------+\n",
            "| Attack Results                |       |\n",
            "+-------------------------------+-------+\n",
            "| Number of successful attacks: | 0     |\n",
            "| Number of failed attacks:     | 90    |\n",
            "| Number of skipped attacks:    | 10    |\n",
            "| Original accuracy:            | 90.0% |\n",
            "| Accuracy under attack:        | 90.0% |\n",
            "| Attack success rate:          | 0.0%  |\n",
            "| Average perturbed word %:     | nan%  |\n",
            "| Average num. words per input: | 18.45 |\n",
            "| Avg num queries:              | 37.92 |\n",
            "+-------------------------------+-------+"
          ]
        },
        {
          "output_type": "stream",
          "name": "stderr",
          "text": [
            "\n",
            "textattack: Unknown if model of class <class 'transformers.models.albert.modeling_albert.AlbertForSequenceClassification'> compatible with goal function <class 'textattack.goal_functions.classification.input_reduction.InputReduction'>.\n",
            "\n",
            "  0%|          | 0/100 [00:00<?, ?it/s]\u001b[A"
          ]
        },
        {
          "output_type": "stream",
          "name": "stdout",
          "text": [
            "\n",
            "Starting attack for----------------- WordSwapRandomCharacterDeletion IR\n",
            "Attack(\n",
            "  (search_method): GreedyWordSwapWIR(\n",
            "    (wir_method):  weighted-saliency\n",
            "  )\n",
            "  (goal_function):  InputReduction(\n",
            "    (maximizable):  False\n",
            "    (target_num_words):  1\n",
            "  )\n",
            "  (transformation):  WordSwapRandomCharacterDeletion(\n",
            "    (random_one):  True\n",
            "  )\n",
            "  (constraints): \n",
            "    (0): RepeatModification\n",
            "    (1): StopwordModification\n",
            "  (is_black_box):  True\n",
            ") \n",
            "\n"
          ]
        },
        {
          "output_type": "stream",
          "name": "stderr",
          "text": [
            "\n",
            "  1%|          | 1/100 [00:01<01:53,  1.14s/it]\u001b[A\n",
            "[Succeeded / Failed / Skipped / Total] 0 / 1 / 0 / 1:   1%|          | 1/100 [00:01<01:54,  1.15s/it]\u001b[A"
          ]
        },
        {
          "output_type": "stream",
          "name": "stdout",
          "text": [
            "--------------------------------------------- Result 1 ---------------------------------------------\n",
            "[[Positive (100%)]] --> [[[FAILED]]]\n",
            "\n",
            "lovingly photographed in the manner of a golden book sprung to life , stuart little 2 manages sweetness largely without stickiness .\n",
            "\n",
            "\n"
          ]
        },
        {
          "output_type": "stream",
          "name": "stderr",
          "text": [
            "\n",
            "[Succeeded / Failed / Skipped / Total] 0 / 1 / 0 / 1:   2%|▏         | 2/100 [00:01<01:08,  1.43it/s]\u001b[A\n",
            "[Succeeded / Failed / Skipped / Total] 0 / 2 / 0 / 2:   2%|▏         | 2/100 [00:01<01:08,  1.42it/s]\u001b[A\n",
            "[Succeeded / Failed / Skipped / Total] 0 / 2 / 1 / 3:   3%|▎         | 3/100 [00:01<00:46,  2.08it/s]\u001b[A"
          ]
        },
        {
          "output_type": "stream",
          "name": "stdout",
          "text": [
            "--------------------------------------------- Result 2 ---------------------------------------------\n",
            "[[Positive (100%)]] --> [[[FAILED]]]\n",
            "\n",
            "consistently clever and suspenseful .\n",
            "\n",
            "\n",
            "--------------------------------------------- Result 3 ---------------------------------------------\n",
            "[[Negative (85%)]] --> [[[SKIPPED]]]\n",
            "\n",
            "it's like a \" big chill \" reunion of the baader-meinhof gang , only these guys are more harmless pranksters than political activists .\n",
            "\n",
            "\n"
          ]
        },
        {
          "output_type": "stream",
          "name": "stderr",
          "text": [
            "\n",
            "[Succeeded / Failed / Skipped / Total] 0 / 2 / 1 / 3:   4%|▍         | 4/100 [00:02<00:59,  1.61it/s]\u001b[A\n",
            "[Succeeded / Failed / Skipped / Total] 0 / 3 / 1 / 4:   4%|▍         | 4/100 [00:02<00:59,  1.60it/s]\u001b[A"
          ]
        },
        {
          "output_type": "stream",
          "name": "stdout",
          "text": [
            "--------------------------------------------- Result 4 ---------------------------------------------\n",
            "[[Positive (100%)]] --> [[[FAILED]]]\n",
            "\n",
            "the story gives ample opportunity for large-scale action and suspense , which director shekhar kapur supplies with tremendous skill .\n",
            "\n",
            "\n"
          ]
        },
        {
          "output_type": "stream",
          "name": "stderr",
          "text": [
            "\n",
            "[Succeeded / Failed / Skipped / Total] 0 / 4 / 1 / 5:   5%|▌         | 5/100 [00:02<00:55,  1.72it/s]\u001b[A\n",
            "[Succeeded / Failed / Skipped / Total] 0 / 4 / 1 / 5:   6%|▌         | 6/100 [00:02<00:45,  2.04it/s]\u001b[A\n",
            "[Succeeded / Failed / Skipped / Total] 0 / 4 / 2 / 6:   6%|▌         | 6/100 [00:02<00:46,  2.04it/s]\u001b[A"
          ]
        },
        {
          "output_type": "stream",
          "name": "stdout",
          "text": [
            "--------------------------------------------- Result 5 ---------------------------------------------\n",
            "[[Positive (74%)]] --> [[[FAILED]]]\n",
            "\n",
            "red dragon \" never cuts corners .\n",
            "\n",
            "\n",
            "--------------------------------------------- Result 6 ---------------------------------------------\n",
            "[[Negative (64%)]] --> [[[SKIPPED]]]\n",
            "\n",
            "fresnadillo has something serious to say about the ways in which extravagant chance can distort our perspective and throw us off the path of good sense .\n",
            "\n",
            "\n"
          ]
        },
        {
          "output_type": "stream",
          "name": "stderr",
          "text": [
            "\n",
            "[Succeeded / Failed / Skipped / Total] 0 / 5 / 2 / 7:   7%|▋         | 7/100 [00:03<00:48,  1.91it/s]\u001b[A"
          ]
        },
        {
          "output_type": "stream",
          "name": "stdout",
          "text": [
            "--------------------------------------------- Result 7 ---------------------------------------------\n",
            "[[Positive (100%)]] --> [[[FAILED]]]\n",
            "\n",
            "throws in enough clever and unexpected twists to make the formula feel fresh .\n",
            "\n",
            "\n"
          ]
        },
        {
          "output_type": "stream",
          "name": "stderr",
          "text": [
            "\n",
            "[Succeeded / Failed / Skipped / Total] 0 / 5 / 2 / 7:   8%|▊         | 8/100 [00:04<00:49,  1.85it/s]\u001b[A\n",
            "[Succeeded / Failed / Skipped / Total] 0 / 6 / 2 / 8:   8%|▊         | 8/100 [00:04<00:49,  1.85it/s]\u001b[A"
          ]
        },
        {
          "output_type": "stream",
          "name": "stdout",
          "text": [
            "--------------------------------------------- Result 8 ---------------------------------------------\n",
            "[[Positive (97%)]] --> [[[FAILED]]]\n",
            "\n",
            "weighty and ponderous but every bit as filling as the treat of the title .\n",
            "\n",
            "\n"
          ]
        },
        {
          "output_type": "stream",
          "name": "stderr",
          "text": [
            "\n",
            "[Succeeded / Failed / Skipped / Total] 0 / 7 / 2 / 9:   9%|▉         | 9/100 [00:05<00:57,  1.58it/s]\u001b[A"
          ]
        },
        {
          "output_type": "stream",
          "name": "stdout",
          "text": [
            "--------------------------------------------- Result 9 ---------------------------------------------\n",
            "[[Positive (100%)]] --> [[[FAILED]]]\n",
            "\n",
            "a real audience-pleaser that will strike a chord with anyone who's ever waited in a doctor's office , emergency room , hospital bed or insurance company office .\n",
            "\n",
            "\n"
          ]
        },
        {
          "output_type": "stream",
          "name": "stderr",
          "text": [
            "\n",
            "[Succeeded / Failed / Skipped / Total] 0 / 7 / 2 / 9:  10%|█         | 10/100 [00:06<00:55,  1.64it/s]\u001b[A\n",
            "[Succeeded / Failed / Skipped / Total] 0 / 8 / 2 / 10:  10%|█         | 10/100 [00:06<00:55,  1.63it/s]\u001b[A"
          ]
        },
        {
          "output_type": "stream",
          "name": "stdout",
          "text": [
            "--------------------------------------------- Result 10 ---------------------------------------------\n",
            "[[Positive (100%)]] --> [[[FAILED]]]\n",
            "\n",
            "generates an enormous feeling of empathy for its characters .\n",
            "\n",
            "\n"
          ]
        },
        {
          "output_type": "stream",
          "name": "stderr",
          "text": [
            "\n",
            "[Succeeded / Failed / Skipped / Total] 0 / 9 / 2 / 11:  11%|█         | 11/100 [00:06<00:54,  1.62it/s]\u001b[A\n",
            "[Succeeded / Failed / Skipped / Total] 0 / 9 / 2 / 11:  12%|█▏        | 12/100 [00:06<00:50,  1.76it/s]\u001b[A\n",
            "[Succeeded / Failed / Skipped / Total] 0 / 9 / 3 / 12:  12%|█▏        | 12/100 [00:06<00:50,  1.76it/s]\u001b[A"
          ]
        },
        {
          "output_type": "stream",
          "name": "stdout",
          "text": [
            "--------------------------------------------- Result 11 ---------------------------------------------\n",
            "[[Positive (99%)]] --> [[[FAILED]]]\n",
            "\n",
            "exposing the ways we fool ourselves is one hour photo's real strength .\n",
            "\n",
            "\n",
            "--------------------------------------------- Result 12 ---------------------------------------------\n",
            "[[Negative (77%)]] --> [[[SKIPPED]]]\n",
            "\n",
            "it's up to you to decide whether to admire these people's dedication to their cause or be repelled by their dogmatism , manipulativeness and narrow , fearful view of american life .\n",
            "\n",
            "\n"
          ]
        },
        {
          "output_type": "stream",
          "name": "stderr",
          "text": [
            "\n",
            "[Succeeded / Failed / Skipped / Total] 0 / 10 / 3 / 13:  13%|█▎        | 13/100 [00:07<00:50,  1.72it/s]\u001b[A"
          ]
        },
        {
          "output_type": "stream",
          "name": "stdout",
          "text": [
            "--------------------------------------------- Result 13 ---------------------------------------------\n",
            "[[Positive (96%)]] --> [[[FAILED]]]\n",
            "\n",
            "mostly , [goldbacher] just lets her complicated characters be unruly , confusing and , through it all , human .\n",
            "\n",
            "\n"
          ]
        },
        {
          "output_type": "stream",
          "name": "stderr",
          "text": [
            "\n",
            "[Succeeded / Failed / Skipped / Total] 0 / 10 / 3 / 13:  14%|█▍        | 14/100 [00:08<00:49,  1.72it/s]\u001b[A\n",
            "[Succeeded / Failed / Skipped / Total] 0 / 11 / 3 / 14:  14%|█▍        | 14/100 [00:08<00:49,  1.72it/s]\u001b[A\n",
            "[Succeeded / Failed / Skipped / Total] 0 / 11 / 4 / 15:  15%|█▌        | 15/100 [00:08<00:46,  1.84it/s]\u001b[A"
          ]
        },
        {
          "output_type": "stream",
          "name": "stdout",
          "text": [
            "--------------------------------------------- Result 14 ---------------------------------------------\n",
            "[[Positive (99%)]] --> [[[FAILED]]]\n",
            "\n",
            ". . . quite good at providing some good old fashioned spooks .\n",
            "\n",
            "\n",
            "--------------------------------------------- Result 15 ---------------------------------------------\n",
            "[[Negative (96%)]] --> [[[SKIPPED]]]\n",
            "\n",
            "at its worst , the movie is pretty diverting ; the pity is that it rarely achieves its best .\n",
            "\n",
            "\n"
          ]
        },
        {
          "output_type": "stream",
          "name": "stderr",
          "text": [
            "\n",
            "[Succeeded / Failed / Skipped / Total] 0 / 11 / 4 / 15:  16%|█▌        | 16/100 [00:08<00:46,  1.80it/s]\u001b[A\n",
            "[Succeeded / Failed / Skipped / Total] 0 / 12 / 4 / 16:  16%|█▌        | 16/100 [00:08<00:46,  1.80it/s]\u001b[A"
          ]
        },
        {
          "output_type": "stream",
          "name": "stdout",
          "text": [
            "--------------------------------------------- Result 16 ---------------------------------------------\n",
            "[[Positive (100%)]] --> [[[FAILED]]]\n",
            "\n",
            "scherfig's light-hearted profile of emotional desperation is achingly honest and delightfully cheeky .\n",
            "\n",
            "\n"
          ]
        },
        {
          "output_type": "stream",
          "name": "stderr",
          "text": [
            "\n",
            "[Succeeded / Failed / Skipped / Total] 0 / 13 / 4 / 17:  17%|█▋        | 17/100 [00:10<00:52,  1.57it/s]\u001b[A"
          ]
        },
        {
          "output_type": "stream",
          "name": "stdout",
          "text": [
            "--------------------------------------------- Result 17 ---------------------------------------------\n",
            "[[Positive (100%)]] --> [[[FAILED]]]\n",
            "\n",
            "a journey spanning nearly three decades of bittersweet camaraderie and history , in which we feel that we truly know what makes holly and marina tick , and our hearts go out to them as both continue to negotiate their imperfect , love-hate relationship .\n",
            "\n",
            "\n"
          ]
        },
        {
          "output_type": "stream",
          "name": "stderr",
          "text": [
            "\n",
            "[Succeeded / Failed / Skipped / Total] 0 / 13 / 4 / 17:  18%|█▊        | 18/100 [00:12<00:57,  1.42it/s]\u001b[A\n",
            "[Succeeded / Failed / Skipped / Total] 0 / 14 / 4 / 18:  18%|█▊        | 18/100 [00:12<00:57,  1.42it/s]\u001b[A"
          ]
        },
        {
          "output_type": "stream",
          "name": "stdout",
          "text": [
            "--------------------------------------------- Result 18 ---------------------------------------------\n",
            "[[Positive (100%)]] --> [[[FAILED]]]\n",
            "\n",
            "the wonderfully lush morvern callar is pure punk existentialism , and ms . ramsay and her co-writer , liana dognini , have dramatized the alan warner novel , which itself felt like an answer to irvine welsh's book trainspotting .\n",
            "\n",
            "\n"
          ]
        },
        {
          "output_type": "stream",
          "name": "stderr",
          "text": [
            "\n",
            "[Succeeded / Failed / Skipped / Total] 0 / 15 / 4 / 19:  19%|█▉        | 19/100 [00:12<00:55,  1.46it/s]\u001b[A"
          ]
        },
        {
          "output_type": "stream",
          "name": "stdout",
          "text": [
            "--------------------------------------------- Result 19 ---------------------------------------------\n",
            "[[Positive (76%)]] --> [[[FAILED]]]\n",
            "\n",
            "as it turns out , you can go home again .\n",
            "\n",
            "\n"
          ]
        },
        {
          "output_type": "stream",
          "name": "stderr",
          "text": [
            "\n",
            "[Succeeded / Failed / Skipped / Total] 0 / 15 / 4 / 19:  20%|██        | 20/100 [00:13<00:55,  1.45it/s]\u001b[A\n",
            "[Succeeded / Failed / Skipped / Total] 0 / 16 / 4 / 20:  20%|██        | 20/100 [00:13<00:55,  1.45it/s]\u001b[A"
          ]
        },
        {
          "output_type": "stream",
          "name": "stdout",
          "text": [
            "--------------------------------------------- Result 20 ---------------------------------------------\n",
            "[[Positive (99%)]] --> [[[FAILED]]]\n",
            "\n",
            "you've already seen city by the sea under a variety of titles , but it's worth yet another visit .\n",
            "\n",
            "\n"
          ]
        },
        {
          "output_type": "stream",
          "name": "stderr",
          "text": [
            "\n",
            "[Succeeded / Failed / Skipped / Total] 0 / 17 / 4 / 21:  21%|██        | 21/100 [00:15<00:57,  1.38it/s]\u001b[A"
          ]
        },
        {
          "output_type": "stream",
          "name": "stdout",
          "text": [
            "--------------------------------------------- Result 21 ---------------------------------------------\n",
            "[[Positive (100%)]] --> [[[FAILED]]]\n",
            "\n",
            "this kind of hands-on storytelling is ultimately what makes shanghai ghetto move beyond a good , dry , reliable textbook and what allows it to rank with its worthy predecessors .\n",
            "\n",
            "\n"
          ]
        },
        {
          "output_type": "stream",
          "name": "stderr",
          "text": [
            "\n",
            "[Succeeded / Failed / Skipped / Total] 0 / 17 / 4 / 21:  22%|██▏       | 22/100 [00:16<01:00,  1.30it/s]\u001b[A\n",
            "[Succeeded / Failed / Skipped / Total] 0 / 18 / 4 / 22:  22%|██▏       | 22/100 [00:16<01:00,  1.30it/s]\u001b[A"
          ]
        },
        {
          "output_type": "stream",
          "name": "stdout",
          "text": [
            "--------------------------------------------- Result 22 ---------------------------------------------\n",
            "[[Positive (83%)]] --> [[[FAILED]]]\n",
            "\n",
            "making such a tragedy the backdrop to a love story risks trivializing it , though chouraqui no doubt intended the film to affirm love's power to help people endure almost unimaginable horror .\n",
            "\n",
            "\n"
          ]
        },
        {
          "output_type": "stream",
          "name": "stderr",
          "text": [
            "\n",
            "[Succeeded / Failed / Skipped / Total] 0 / 19 / 4 / 23:  23%|██▎       | 23/100 [00:17<00:59,  1.29it/s]\u001b[A"
          ]
        },
        {
          "output_type": "stream",
          "name": "stdout",
          "text": [
            "--------------------------------------------- Result 23 ---------------------------------------------\n",
            "[[Positive (79%)]] --> [[[FAILED]]]\n",
            "\n",
            "grown-up quibbles are beside the point here . the little girls understand , and mccracken knows that's all that matters .\n",
            "\n",
            "\n"
          ]
        },
        {
          "output_type": "stream",
          "name": "stderr",
          "text": [
            "\n",
            "[Succeeded / Failed / Skipped / Total] 0 / 19 / 4 / 23:  24%|██▍       | 24/100 [00:18<00:58,  1.29it/s]\u001b[A\n",
            "[Succeeded / Failed / Skipped / Total] 0 / 20 / 4 / 24:  24%|██▍       | 24/100 [00:18<00:58,  1.29it/s]\u001b[A"
          ]
        },
        {
          "output_type": "stream",
          "name": "stdout",
          "text": [
            "--------------------------------------------- Result 24 ---------------------------------------------\n",
            "[[Positive (100%)]] --> [[[FAILED]]]\n",
            "\n",
            "a powerful , chilling , and affecting study of one man's dying fall .\n",
            "\n",
            "\n"
          ]
        },
        {
          "output_type": "stream",
          "name": "stderr",
          "text": [
            "\n",
            "[Succeeded / Failed / Skipped / Total] 0 / 21 / 4 / 25:  25%|██▌       | 25/100 [00:19<00:57,  1.30it/s]\u001b[A\n",
            "[Succeeded / Failed / Skipped / Total] 0 / 21 / 4 / 25:  26%|██▌       | 26/100 [00:19<00:54,  1.35it/s]\u001b[A\n",
            "[Succeeded / Failed / Skipped / Total] 0 / 21 / 5 / 26:  26%|██▌       | 26/100 [00:19<00:54,  1.35it/s]\u001b[A"
          ]
        },
        {
          "output_type": "stream",
          "name": "stdout",
          "text": [
            "--------------------------------------------- Result 25 ---------------------------------------------\n",
            "[[Positive (92%)]] --> [[[FAILED]]]\n",
            "\n",
            "this is a fascinating film because there is no clear-cut hero and no all-out villain .\n",
            "\n",
            "\n",
            "--------------------------------------------- Result 26 ---------------------------------------------\n",
            "[[Negative (66%)]] --> [[[SKIPPED]]]\n",
            "\n",
            "a dreadful day in irish history is given passionate , if somewhat flawed , treatment .\n",
            "\n",
            "\n"
          ]
        },
        {
          "output_type": "stream",
          "name": "stderr",
          "text": [
            "\n",
            "[Succeeded / Failed / Skipped / Total] 0 / 22 / 5 / 27:  27%|██▋       | 27/100 [00:19<00:53,  1.36it/s]\u001b[A"
          ]
        },
        {
          "output_type": "stream",
          "name": "stdout",
          "text": [
            "--------------------------------------------- Result 27 ---------------------------------------------\n",
            "[[Positive (92%)]] --> [[[FAILED]]]\n",
            "\n",
            ". . . a good film that must have baffled the folks in the marketing department .\n",
            "\n",
            "\n"
          ]
        },
        {
          "output_type": "stream",
          "name": "stderr",
          "text": [
            "\n",
            "[Succeeded / Failed / Skipped / Total] 0 / 22 / 5 / 27:  28%|██▊       | 28/100 [00:21<00:54,  1.31it/s]\u001b[A\n",
            "[Succeeded / Failed / Skipped / Total] 0 / 23 / 5 / 28:  28%|██▊       | 28/100 [00:21<00:54,  1.31it/s]\u001b[A\n",
            "[Succeeded / Failed / Skipped / Total] 0 / 23 / 6 / 29:  29%|██▉       | 29/100 [00:21<00:52,  1.36it/s]\u001b[A"
          ]
        },
        {
          "output_type": "stream",
          "name": "stdout",
          "text": [
            "--------------------------------------------- Result 28 ---------------------------------------------\n",
            "[[Positive (100%)]] --> [[[FAILED]]]\n",
            "\n",
            ". . . is funny in the way that makes you ache with sadness ( the way chekhov is funny ) , profound without ever being self-important , warm without ever succumbing to sentimentality .\n",
            "\n",
            "\n",
            "--------------------------------------------- Result 29 ---------------------------------------------\n",
            "[[Negative (93%)]] --> [[[SKIPPED]]]\n",
            "\n",
            "devotees of star trek ii : the wrath of khan will feel a nagging sense of deja vu , and the grandeur of the best next generation episodes is lacking .\n",
            "\n",
            "\n"
          ]
        },
        {
          "output_type": "stream",
          "name": "stderr",
          "text": [
            "\n",
            "[Succeeded / Failed / Skipped / Total] 0 / 23 / 6 / 29:  30%|███       | 30/100 [00:22<00:52,  1.34it/s]\u001b[A\n",
            "[Succeeded / Failed / Skipped / Total] 0 / 24 / 6 / 30:  30%|███       | 30/100 [00:22<00:52,  1.34it/s]\u001b[A"
          ]
        },
        {
          "output_type": "stream",
          "name": "stdout",
          "text": [
            "--------------------------------------------- Result 30 ---------------------------------------------\n",
            "[[Positive (99%)]] --> [[[FAILED]]]\n",
            "\n",
            "a soul-stirring documentary about the israeli/palestinian conflict as revealed through the eyes of some children who remain curious about each other against all odds .\n",
            "\n",
            "\n"
          ]
        },
        {
          "output_type": "stream",
          "name": "stderr",
          "text": [
            "\n",
            "[Succeeded / Failed / Skipped / Total] 0 / 25 / 6 / 31:  31%|███       | 31/100 [00:23<00:52,  1.32it/s]\u001b[A\n",
            "[Succeeded / Failed / Skipped / Total] 0 / 25 / 6 / 31:  32%|███▏      | 32/100 [00:23<00:50,  1.36it/s]\u001b[A\n",
            "[Succeeded / Failed / Skipped / Total] 0 / 25 / 7 / 32:  32%|███▏      | 32/100 [00:23<00:50,  1.36it/s]\u001b[A"
          ]
        },
        {
          "output_type": "stream",
          "name": "stdout",
          "text": [
            "--------------------------------------------- Result 31 ---------------------------------------------\n",
            "[[Positive (93%)]] --> [[[FAILED]]]\n",
            "\n",
            "what's so striking about jolie's performance is that she never lets her character become a caricature -- not even with that radioactive hair .\n",
            "\n",
            "\n",
            "--------------------------------------------- Result 32 ---------------------------------------------\n",
            "[[Negative (98%)]] --> [[[SKIPPED]]]\n",
            "\n",
            "the main story . . . is compelling enough , but it's difficult to shrug off the annoyance of that chatty fish .\n",
            "\n",
            "\n"
          ]
        },
        {
          "output_type": "stream",
          "name": "stderr",
          "text": [
            "\n",
            "[Succeeded / Failed / Skipped / Total] 0 / 26 / 7 / 33:  33%|███▎      | 33/100 [00:24<00:48,  1.37it/s]\u001b[A"
          ]
        },
        {
          "output_type": "stream",
          "name": "stdout",
          "text": [
            "--------------------------------------------- Result 33 ---------------------------------------------\n",
            "[[Positive (100%)]] --> [[[FAILED]]]\n",
            "\n",
            "the performances are immaculate , with roussillon providing comic relief .\n",
            "\n",
            "\n"
          ]
        },
        {
          "output_type": "stream",
          "name": "stderr",
          "text": [
            "\n",
            "[Succeeded / Failed / Skipped / Total] 0 / 26 / 7 / 33:  34%|███▍      | 34/100 [00:25<00:48,  1.36it/s]\u001b[A\n",
            "[Succeeded / Failed / Skipped / Total] 0 / 27 / 7 / 34:  34%|███▍      | 34/100 [00:25<00:48,  1.36it/s]\u001b[A"
          ]
        },
        {
          "output_type": "stream",
          "name": "stdout",
          "text": [
            "--------------------------------------------- Result 34 ---------------------------------------------\n",
            "[[Positive (99%)]] --> [[[FAILED]]]\n",
            "\n",
            "kinnear . . . gives his best screen performance with an oddly winning portrayal of one of life's ultimate losers .\n",
            "\n",
            "\n"
          ]
        },
        {
          "output_type": "stream",
          "name": "stderr",
          "text": [
            "\n",
            "[Succeeded / Failed / Skipped / Total] 0 / 28 / 7 / 35:  35%|███▌      | 35/100 [00:25<00:48,  1.35it/s]\u001b[A"
          ]
        },
        {
          "output_type": "stream",
          "name": "stdout",
          "text": [
            "--------------------------------------------- Result 35 ---------------------------------------------\n",
            "[[Positive (98%)]] --> [[[FAILED]]]\n",
            "\n",
            "hugh grant , who has a good line in charm , has never been more charming than in about a boy .\n",
            "\n",
            "\n"
          ]
        },
        {
          "output_type": "stream",
          "name": "stderr",
          "text": [
            "\n",
            "[Succeeded / Failed / Skipped / Total] 0 / 28 / 7 / 35:  36%|███▌      | 36/100 [00:26<00:47,  1.34it/s]\u001b[A\n",
            "[Succeeded / Failed / Skipped / Total] 0 / 29 / 7 / 36:  36%|███▌      | 36/100 [00:26<00:47,  1.34it/s]\u001b[A"
          ]
        },
        {
          "output_type": "stream",
          "name": "stdout",
          "text": [
            "--------------------------------------------- Result 36 ---------------------------------------------\n",
            "[[Positive (94%)]] --> [[[FAILED]]]\n",
            "\n",
            "there's a lot of tooth in roger dodger . but what's nice is that there's a casual intelligence that permeates the script .\n",
            "\n",
            "\n"
          ]
        },
        {
          "output_type": "stream",
          "name": "stderr",
          "text": [
            "\n",
            "[Succeeded / Failed / Skipped / Total] 0 / 30 / 7 / 37:  37%|███▋      | 37/100 [00:27<00:47,  1.32it/s]\u001b[A"
          ]
        },
        {
          "output_type": "stream",
          "name": "stdout",
          "text": [
            "--------------------------------------------- Result 37 ---------------------------------------------\n",
            "[[Positive (97%)]] --> [[[FAILED]]]\n",
            "\n",
            "reminiscent of alfred hitchcock's thrillers , most of the scary parts in 'signs' occur while waiting for things to happen .\n",
            "\n",
            "\n"
          ]
        },
        {
          "output_type": "stream",
          "name": "stderr",
          "text": [
            "\n",
            "[Succeeded / Failed / Skipped / Total] 0 / 30 / 7 / 37:  38%|███▊      | 38/100 [00:28<00:46,  1.33it/s]\u001b[A\n",
            "[Succeeded / Failed / Skipped / Total] 0 / 31 / 7 / 38:  38%|███▊      | 38/100 [00:28<00:46,  1.33it/s]\u001b[A"
          ]
        },
        {
          "output_type": "stream",
          "name": "stdout",
          "text": [
            "--------------------------------------------- Result 38 ---------------------------------------------\n",
            "[[Positive (100%)]] --> [[[FAILED]]]\n",
            "\n",
            "one of the best looking and stylish animated movies in quite a while . . .\n",
            "\n",
            "\n"
          ]
        },
        {
          "output_type": "stream",
          "name": "stderr",
          "text": [
            "\n",
            "[Succeeded / Failed / Skipped / Total] 0 / 32 / 7 / 39:  39%|███▉      | 39/100 [00:30<00:46,  1.30it/s]\u001b[A"
          ]
        },
        {
          "output_type": "stream",
          "name": "stdout",
          "text": [
            "--------------------------------------------- Result 39 ---------------------------------------------\n",
            "[[Positive (100%)]] --> [[[FAILED]]]\n",
            "\n",
            "its use of the thriller form to examine the labyrinthine ways in which people's lives cross and change , buffeted by events seemingly out of their control , is intriguing , provocative stuff .\n",
            "\n",
            "\n"
          ]
        },
        {
          "output_type": "stream",
          "name": "stderr",
          "text": [
            "\n",
            "[Succeeded / Failed / Skipped / Total] 0 / 32 / 7 / 39:  40%|████      | 40/100 [00:31<00:46,  1.28it/s]\u001b[A\n",
            "[Succeeded / Failed / Skipped / Total] 0 / 33 / 7 / 40:  40%|████      | 40/100 [00:31<00:46,  1.28it/s]\u001b[A"
          ]
        },
        {
          "output_type": "stream",
          "name": "stdout",
          "text": [
            "--------------------------------------------- Result 40 ---------------------------------------------\n",
            "[[Positive (100%)]] --> [[[FAILED]]]\n",
            "\n",
            "denver should not get the first and last look at one of the most triumphant performances of vanessa redgrave's career . it deserves to be seen everywhere .\n",
            "\n",
            "\n"
          ]
        },
        {
          "output_type": "stream",
          "name": "stderr",
          "text": [
            "\n",
            "[Succeeded / Failed / Skipped / Total] 0 / 34 / 7 / 41:  41%|████      | 41/100 [00:33<00:47,  1.24it/s]\u001b[A"
          ]
        },
        {
          "output_type": "stream",
          "name": "stdout",
          "text": [
            "--------------------------------------------- Result 41 ---------------------------------------------\n",
            "[[Positive (100%)]] --> [[[FAILED]]]\n",
            "\n",
            "you needn't be steeped in '50s sociology , pop culture or movie lore to appreciate the emotional depth of haynes' work . though haynes' style apes films from the period . . . its message is not rooted in that decade .\n",
            "\n",
            "\n"
          ]
        },
        {
          "output_type": "stream",
          "name": "stderr",
          "text": [
            "\n",
            "[Succeeded / Failed / Skipped / Total] 0 / 34 / 7 / 41:  42%|████▏     | 42/100 [00:33<00:46,  1.24it/s]\u001b[A\n",
            "[Succeeded / Failed / Skipped / Total] 0 / 35 / 7 / 42:  42%|████▏     | 42/100 [00:33<00:46,  1.24it/s]\u001b[A"
          ]
        },
        {
          "output_type": "stream",
          "name": "stdout",
          "text": [
            "--------------------------------------------- Result 42 ---------------------------------------------\n",
            "[[Positive (99%)]] --> [[[FAILED]]]\n",
            "\n",
            "waiting for godard can be fruitful : 'in praise of love' is the director's epitaph for himself .\n",
            "\n",
            "\n"
          ]
        },
        {
          "output_type": "stream",
          "name": "stderr",
          "text": [
            "\n",
            "[Succeeded / Failed / Skipped / Total] 0 / 36 / 7 / 43:  43%|████▎     | 43/100 [00:34<00:45,  1.26it/s]\u001b[A"
          ]
        },
        {
          "output_type": "stream",
          "name": "stdout",
          "text": [
            "--------------------------------------------- Result 43 ---------------------------------------------\n",
            "[[Positive (98%)]] --> [[[FAILED]]]\n",
            "\n",
            "a gangster movie with the capacity to surprise .\n",
            "\n",
            "\n"
          ]
        },
        {
          "output_type": "stream",
          "name": "stderr",
          "text": [
            "\n",
            "[Succeeded / Failed / Skipped / Total] 0 / 36 / 7 / 43:  44%|████▍     | 44/100 [00:35<00:45,  1.23it/s]\u001b[A\n",
            "[Succeeded / Failed / Skipped / Total] 0 / 37 / 7 / 44:  44%|████▍     | 44/100 [00:35<00:45,  1.23it/s]\u001b[A\n",
            "[Succeeded / Failed / Skipped / Total] 0 / 37 / 8 / 45:  45%|████▌     | 45/100 [00:35<00:43,  1.26it/s]\u001b[A\n",
            "[Succeeded / Failed / Skipped / Total] 0 / 37 / 9 / 46:  46%|████▌     | 46/100 [00:35<00:42,  1.28it/s]\u001b[A"
          ]
        },
        {
          "output_type": "stream",
          "name": "stdout",
          "text": [
            "--------------------------------------------- Result 44 ---------------------------------------------\n",
            "[[Positive (99%)]] --> [[[FAILED]]]\n",
            "\n",
            "the film has a laundry list of minor shortcomings , but the numerous scenes of gory mayhem are worth the price of admission . . . if \" gory mayhem \" is your idea of a good time .\n",
            "\n",
            "\n",
            "--------------------------------------------- Result 45 ---------------------------------------------\n",
            "[[Negative (94%)]] --> [[[SKIPPED]]]\n",
            "\n",
            "if not a home run , then at least a solid base hit .\n",
            "\n",
            "\n",
            "--------------------------------------------- Result 46 ---------------------------------------------\n",
            "[[Negative (86%)]] --> [[[SKIPPED]]]\n",
            "\n",
            "goldmember is funny enough to justify the embarrassment of bringing a barf bag to the moviehouse .\n",
            "\n",
            "\n"
          ]
        },
        {
          "output_type": "stream",
          "name": "stderr",
          "text": [
            "\n",
            "[Succeeded / Failed / Skipped / Total] 0 / 37 / 9 / 46:  47%|████▋     | 47/100 [00:36<00:40,  1.29it/s]\u001b[A\n",
            "[Succeeded / Failed / Skipped / Total] 0 / 38 / 9 / 47:  47%|████▋     | 47/100 [00:36<00:40,  1.29it/s]\u001b[A"
          ]
        },
        {
          "output_type": "stream",
          "name": "stdout",
          "text": [
            "--------------------------------------------- Result 47 ---------------------------------------------\n",
            "[[Positive (96%)]] --> [[[FAILED]]]\n",
            "\n",
            ". . . a fairly disposable yet still entertaining b picture .\n",
            "\n",
            "\n"
          ]
        },
        {
          "output_type": "stream",
          "name": "stderr",
          "text": [
            "\n",
            "[Succeeded / Failed / Skipped / Total] 0 / 39 / 9 / 48:  48%|████▊     | 48/100 [00:37<00:40,  1.28it/s]\u001b[A"
          ]
        },
        {
          "output_type": "stream",
          "name": "stdout",
          "text": [
            "--------------------------------------------- Result 48 ---------------------------------------------\n",
            "[[Positive (100%)]] --> [[[FAILED]]]\n",
            "\n",
            "it may not be particularly innovative , but the film's crisp , unaffected style and air of gentle longing make it unexpectedly rewarding .\n",
            "\n",
            "\n"
          ]
        },
        {
          "output_type": "stream",
          "name": "stderr",
          "text": [
            "\n",
            "[Succeeded / Failed / Skipped / Total] 0 / 40 / 9 / 49:  49%|████▉     | 49/100 [00:38<00:39,  1.28it/s]\u001b[A"
          ]
        },
        {
          "output_type": "stream",
          "name": "stdout",
          "text": [
            "--------------------------------------------- Result 49 ---------------------------------------------\n",
            "[[Positive (100%)]] --> [[[FAILED]]]\n",
            "\n",
            "the film truly does rescue [the funk brothers] from motown's shadows . it's about time .\n",
            "\n",
            "\n"
          ]
        },
        {
          "output_type": "stream",
          "name": "stderr",
          "text": [
            "\n",
            "[Succeeded / Failed / Skipped / Total] 0 / 40 / 9 / 49:  50%|█████     | 50/100 [00:39<00:39,  1.26it/s]\u001b[A\n",
            "[Succeeded / Failed / Skipped / Total] 0 / 41 / 9 / 50:  50%|█████     | 50/100 [00:39<00:39,  1.26it/s]\u001b[A"
          ]
        },
        {
          "output_type": "stream",
          "name": "stdout",
          "text": [
            "--------------------------------------------- Result 50 ---------------------------------------------\n",
            "[[Positive (99%)]] --> [[[FAILED]]]\n",
            "\n",
            "drawing on an irresistible , languid romanticism , byler reveals the ways in which a sultry evening or a beer-fueled afternoon in the sun can inspire even the most retiring heart to venture forth .\n",
            "\n",
            "\n"
          ]
        },
        {
          "output_type": "stream",
          "name": "stderr",
          "text": [
            "\n",
            "[Succeeded / Failed / Skipped / Total] 0 / 42 / 9 / 51:  51%|█████     | 51/100 [00:41<00:39,  1.24it/s]\u001b[A"
          ]
        },
        {
          "output_type": "stream",
          "name": "stdout",
          "text": [
            "--------------------------------------------- Result 51 ---------------------------------------------\n",
            "[[Positive (95%)]] --> [[[FAILED]]]\n",
            "\n",
            "works because we're never sure if ohlinger's on the level or merely a dying , delusional man trying to get into the history books before he croaks .\n",
            "\n",
            "\n"
          ]
        },
        {
          "output_type": "stream",
          "name": "stderr",
          "text": [
            "\n",
            "[Succeeded / Failed / Skipped / Total] 0 / 43 / 9 / 52:  52%|█████▏    | 52/100 [00:41<00:38,  1.24it/s]\u001b[A"
          ]
        },
        {
          "output_type": "stream",
          "name": "stdout",
          "text": [
            "--------------------------------------------- Result 52 ---------------------------------------------\n",
            "[[Positive (99%)]] --> [[[FAILED]]]\n",
            "\n",
            "[scherfig] has made a movie that will leave you wondering about the characters' lives after the clever credits roll .\n",
            "\n",
            "\n"
          ]
        },
        {
          "output_type": "stream",
          "name": "stderr",
          "text": [
            "\n",
            "[Succeeded / Failed / Skipped / Total] 0 / 43 / 9 / 52:  53%|█████▎    | 53/100 [00:43<00:38,  1.22it/s]\u001b[A\n",
            "[Succeeded / Failed / Skipped / Total] 0 / 44 / 9 / 53:  53%|█████▎    | 53/100 [00:43<00:38,  1.22it/s]\u001b[A"
          ]
        },
        {
          "output_type": "stream",
          "name": "stdout",
          "text": [
            "--------------------------------------------- Result 53 ---------------------------------------------\n",
            "[[Positive (94%)]] --> [[[FAILED]]]\n",
            "\n",
            "a heady , biting , be-bop ride through nighttime manhattan , a loquacious videologue of the modern male and the lengths to which he'll go to weave a protective cocoon around his own ego .\n",
            "\n",
            "\n"
          ]
        },
        {
          "output_type": "stream",
          "name": "stderr",
          "text": [
            "\n",
            "[Succeeded / Failed / Skipped / Total] 0 / 45 / 9 / 54:  54%|█████▍    | 54/100 [00:45<00:38,  1.20it/s]\u001b[A"
          ]
        },
        {
          "output_type": "stream",
          "name": "stdout",
          "text": [
            "--------------------------------------------- Result 54 ---------------------------------------------\n",
            "[[Positive (86%)]] --> [[[FAILED]]]\n",
            "\n",
            "skin of man gets a few cheap shocks from its kids-in-peril theatrics , but it also taps into the primal fears of young people trying to cope with the mysterious and brutal nature of adults .\n",
            "\n",
            "\n"
          ]
        },
        {
          "output_type": "stream",
          "name": "stderr",
          "text": [
            "\n",
            "[Succeeded / Failed / Skipped / Total] 0 / 46 / 9 / 55:  55%|█████▌    | 55/100 [00:46<00:38,  1.18it/s]\u001b[A"
          ]
        },
        {
          "output_type": "stream",
          "name": "stdout",
          "text": [
            "--------------------------------------------- Result 55 ---------------------------------------------\n",
            "[[Positive (99%)]] --> [[[FAILED]]]\n",
            "\n",
            "the piano teacher is not an easy film . it forces you to watch people doing unpleasant things to each other and themselves , and it maintains a cool distance from its material that is deliberately unsettling .\n",
            "\n",
            "\n"
          ]
        },
        {
          "output_type": "stream",
          "name": "stderr",
          "text": [
            "\n",
            "[Succeeded / Failed / Skipped / Total] 0 / 46 / 9 / 55:  56%|█████▌    | 56/100 [00:47<00:37,  1.19it/s]\u001b[A\n",
            "[Succeeded / Failed / Skipped / Total] 0 / 47 / 9 / 56:  56%|█████▌    | 56/100 [00:47<00:37,  1.19it/s]\u001b[A"
          ]
        },
        {
          "output_type": "stream",
          "name": "stdout",
          "text": [
            "--------------------------------------------- Result 56 ---------------------------------------------\n",
            "[[Positive (97%)]] --> [[[FAILED]]]\n",
            "\n",
            "as refreshing as a drink from a woodland stream .\n",
            "\n",
            "\n"
          ]
        },
        {
          "output_type": "stream",
          "name": "stderr",
          "text": [
            "\n",
            "[Succeeded / Failed / Skipped / Total] 0 / 48 / 9 / 57:  57%|█████▋    | 57/100 [00:47<00:35,  1.20it/s]\u001b[A"
          ]
        },
        {
          "output_type": "stream",
          "name": "stdout",
          "text": [
            "--------------------------------------------- Result 57 ---------------------------------------------\n",
            "[[Positive (100%)]] --> [[[FAILED]]]\n",
            "\n",
            "williams absolutely nails sy's queasy infatuation and overall strangeness .\n",
            "\n",
            "\n"
          ]
        },
        {
          "output_type": "stream",
          "name": "stderr",
          "text": [
            "\n",
            "[Succeeded / Failed / Skipped / Total] 0 / 49 / 9 / 58:  58%|█████▊    | 58/100 [00:48<00:35,  1.19it/s]\u001b[A"
          ]
        },
        {
          "output_type": "stream",
          "name": "stdout",
          "text": [
            "--------------------------------------------- Result 58 ---------------------------------------------\n",
            "[[Positive (90%)]] --> [[[FAILED]]]\n",
            "\n",
            "can i admit xxx is as deep as a petri dish and as well-characterized as a telephone book but still say it was a guilty pleasure ?\n",
            "\n",
            "\n"
          ]
        },
        {
          "output_type": "stream",
          "name": "stderr",
          "text": [
            "\n",
            "[Succeeded / Failed / Skipped / Total] 0 / 49 / 9 / 58:  59%|█████▉    | 59/100 [00:49<00:34,  1.18it/s]\u001b[A\n",
            "[Succeeded / Failed / Skipped / Total] 0 / 50 / 9 / 59:  59%|█████▉    | 59/100 [00:49<00:34,  1.18it/s]\u001b[A"
          ]
        },
        {
          "output_type": "stream",
          "name": "stdout",
          "text": [
            "--------------------------------------------- Result 59 ---------------------------------------------\n",
            "[[Positive (99%)]] --> [[[FAILED]]]\n",
            "\n",
            "while it's nothing we haven't seen before from murphy , i spy is still fun and enjoyable and so aggressively silly that it's more than a worthwhile effort .\n",
            "\n",
            "\n"
          ]
        },
        {
          "output_type": "stream",
          "name": "stderr",
          "text": [
            "\n",
            "[Succeeded / Failed / Skipped / Total] 0 / 51 / 9 / 60:  60%|██████    | 60/100 [00:51<00:34,  1.16it/s]\u001b[A"
          ]
        },
        {
          "output_type": "stream",
          "name": "stdout",
          "text": [
            "--------------------------------------------- Result 60 ---------------------------------------------\n",
            "[[Positive (67%)]] --> [[[FAILED]]]\n",
            "\n",
            "by the time it ends in a rush of sequins , flashbulbs , blaring brass and back-stabbing babes , it has said plenty about how show business has infiltrated every corner of society -- and not always for the better .\n",
            "\n",
            "\n"
          ]
        },
        {
          "output_type": "stream",
          "name": "stderr",
          "text": [
            "\n",
            "[Succeeded / Failed / Skipped / Total] 0 / 52 / 9 / 61:  61%|██████    | 61/100 [00:52<00:33,  1.17it/s]\u001b[A\n",
            "[Succeeded / Failed / Skipped / Total] 0 / 52 / 9 / 61:  62%|██████▏   | 62/100 [00:52<00:32,  1.19it/s]\u001b[A\n",
            "[Succeeded / Failed / Skipped / Total] 0 / 52 / 10 / 62:  62%|██████▏   | 62/100 [00:52<00:32,  1.19it/s]\u001b[A"
          ]
        },
        {
          "output_type": "stream",
          "name": "stdout",
          "text": [
            "--------------------------------------------- Result 61 ---------------------------------------------\n",
            "[[Positive (100%)]] --> [[[FAILED]]]\n",
            "\n",
            "an intimate contemplation of two marvelously messy lives .\n",
            "\n",
            "\n",
            "--------------------------------------------- Result 62 ---------------------------------------------\n",
            "[[Negative (73%)]] --> [[[SKIPPED]]]\n",
            "\n",
            "rarely has skin looked as beautiful , desirable , even delectable , as it does in trouble every day .\n",
            "\n",
            "\n"
          ]
        },
        {
          "output_type": "stream",
          "name": "stderr",
          "text": [
            "\n",
            "[Succeeded / Failed / Skipped / Total] 0 / 53 / 10 / 63:  63%|██████▎   | 63/100 [00:53<00:31,  1.18it/s]\u001b[A"
          ]
        },
        {
          "output_type": "stream",
          "name": "stdout",
          "text": [
            "--------------------------------------------- Result 63 ---------------------------------------------\n",
            "[[Positive (100%)]] --> [[[FAILED]]]\n",
            "\n",
            "this is one of those rare docs that paints a grand picture of an era and makes the journey feel like a party .\n",
            "\n",
            "\n"
          ]
        },
        {
          "output_type": "stream",
          "name": "stderr",
          "text": [
            "\n",
            "[Succeeded / Failed / Skipped / Total] 0 / 54 / 10 / 64:  64%|██████▍   | 64/100 [00:53<00:30,  1.19it/s]\u001b[A"
          ]
        },
        {
          "output_type": "stream",
          "name": "stdout",
          "text": [
            "--------------------------------------------- Result 64 ---------------------------------------------\n",
            "[[Positive (97%)]] --> [[[FAILED]]]\n",
            "\n",
            "poignant if familiar story of a young person suspended between two cultures .\n",
            "\n",
            "\n"
          ]
        },
        {
          "output_type": "stream",
          "name": "stderr",
          "text": [
            "\n",
            "[Succeeded / Failed / Skipped / Total] 0 / 54 / 10 / 64:  65%|██████▌   | 65/100 [00:54<00:29,  1.19it/s]\u001b[A\n",
            "[Succeeded / Failed / Skipped / Total] 0 / 55 / 10 / 65:  65%|██████▌   | 65/100 [00:54<00:29,  1.19it/s]\u001b[A"
          ]
        },
        {
          "output_type": "stream",
          "name": "stdout",
          "text": [
            "--------------------------------------------- Result 65 ---------------------------------------------\n",
            "[[Positive (97%)]] --> [[[FAILED]]]\n",
            "\n",
            "a metaphor for a modern-day urban china searching for its identity .\n",
            "\n",
            "\n"
          ]
        },
        {
          "output_type": "stream",
          "name": "stderr",
          "text": [
            "\n",
            "[Succeeded / Failed / Skipped / Total] 0 / 56 / 10 / 66:  66%|██████▌   | 66/100 [00:55<00:28,  1.19it/s]\u001b[A"
          ]
        },
        {
          "output_type": "stream",
          "name": "stdout",
          "text": [
            "--------------------------------------------- Result 66 ---------------------------------------------\n",
            "[[Positive (100%)]] --> [[[FAILED]]]\n",
            "\n",
            "for all its brooding quality , ash wednesday is suspenseful and ultimately unpredictable , with a sterling ensemble cast .\n",
            "\n",
            "\n"
          ]
        },
        {
          "output_type": "stream",
          "name": "stderr",
          "text": [
            "\n",
            "[Succeeded / Failed / Skipped / Total] 0 / 57 / 10 / 67:  67%|██████▋   | 67/100 [00:56<00:27,  1.18it/s]\u001b[A"
          ]
        },
        {
          "output_type": "stream",
          "name": "stdout",
          "text": [
            "--------------------------------------------- Result 67 ---------------------------------------------\n",
            "[[Positive (99%)]] --> [[[FAILED]]]\n",
            "\n",
            "an odd drama set in the world of lingerie models and bar dancers in the midwest that held my interest precisely because it didn't try to .\n",
            "\n",
            "\n"
          ]
        },
        {
          "output_type": "stream",
          "name": "stderr",
          "text": [
            "\n",
            "[Succeeded / Failed / Skipped / Total] 0 / 57 / 10 / 67:  68%|██████▊   | 68/100 [00:57<00:27,  1.18it/s]\u001b[A\n",
            "[Succeeded / Failed / Skipped / Total] 0 / 58 / 10 / 68:  68%|██████▊   | 68/100 [00:57<00:27,  1.18it/s]\u001b[A"
          ]
        },
        {
          "output_type": "stream",
          "name": "stdout",
          "text": [
            "--------------------------------------------- Result 68 ---------------------------------------------\n",
            "[[Positive (92%)]] --> [[[FAILED]]]\n",
            "\n",
            "the film feels uncomfortably real , its language and locations bearing the unmistakable stamp of authority .\n",
            "\n",
            "\n"
          ]
        },
        {
          "output_type": "stream",
          "name": "stderr",
          "text": [
            "\n",
            "[Succeeded / Failed / Skipped / Total] 0 / 59 / 10 / 69:  69%|██████▉   | 69/100 [00:57<00:26,  1.19it/s]\u001b[A"
          ]
        },
        {
          "output_type": "stream",
          "name": "stdout",
          "text": [
            "--------------------------------------------- Result 69 ---------------------------------------------\n",
            "[[Positive (99%)]] --> [[[FAILED]]]\n",
            "\n",
            "despite its faults , gangs excels in spectacle and pacing .\n",
            "\n",
            "\n"
          ]
        },
        {
          "output_type": "stream",
          "name": "stderr",
          "text": [
            "\n",
            "[Succeeded / Failed / Skipped / Total] 0 / 60 / 10 / 70:  70%|███████   | 70/100 [00:59<00:25,  1.19it/s]\u001b[A"
          ]
        },
        {
          "output_type": "stream",
          "name": "stdout",
          "text": [
            "--------------------------------------------- Result 70 ---------------------------------------------\n",
            "[[Positive (99%)]] --> [[[FAILED]]]\n",
            "\n",
            "entertaining despite its one-joke premise with the thesis that women from venus and men from mars can indeed get together .\n",
            "\n",
            "\n"
          ]
        },
        {
          "output_type": "stream",
          "name": "stderr",
          "text": [
            "\n",
            "[Succeeded / Failed / Skipped / Total] 0 / 60 / 10 / 70:  71%|███████   | 71/100 [00:59<00:24,  1.19it/s]\u001b[A\n",
            "[Succeeded / Failed / Skipped / Total] 0 / 61 / 10 / 71:  71%|███████   | 71/100 [00:59<00:24,  1.19it/s]\u001b[A"
          ]
        },
        {
          "output_type": "stream",
          "name": "stdout",
          "text": [
            "--------------------------------------------- Result 71 ---------------------------------------------\n",
            "[[Positive (100%)]] --> [[[FAILED]]]\n",
            "\n",
            "a tightly directed , highly professional film that's old-fashioned in all the best possible ways .\n",
            "\n",
            "\n"
          ]
        },
        {
          "output_type": "stream",
          "name": "stderr",
          "text": [
            "\n",
            "[Succeeded / Failed / Skipped / Total] 0 / 62 / 10 / 72:  72%|███████▏  | 72/100 [01:00<00:23,  1.18it/s]\u001b[A"
          ]
        },
        {
          "output_type": "stream",
          "name": "stdout",
          "text": [
            "--------------------------------------------- Result 72 ---------------------------------------------\n",
            "[[Positive (100%)]] --> [[[FAILED]]]\n",
            "\n",
            "it's dark but has wonderfully funny moments ; you care about the characters ; and the action and special effects are first-rate .\n",
            "\n",
            "\n"
          ]
        },
        {
          "output_type": "stream",
          "name": "stderr",
          "text": [
            "\n",
            "[Succeeded / Failed / Skipped / Total] 0 / 63 / 10 / 73:  73%|███████▎  | 73/100 [01:01<00:22,  1.19it/s]\u001b[A"
          ]
        },
        {
          "output_type": "stream",
          "name": "stdout",
          "text": [
            "--------------------------------------------- Result 73 ---------------------------------------------\n",
            "[[Positive (100%)]] --> [[[FAILED]]]\n",
            "\n",
            "in visual fertility treasure planet rivals the top japanese animations of recent vintage .\n",
            "\n",
            "\n"
          ]
        },
        {
          "output_type": "stream",
          "name": "stderr",
          "text": [
            "\n",
            "[Succeeded / Failed / Skipped / Total] 0 / 63 / 10 / 73:  74%|███████▍  | 74/100 [01:01<00:21,  1.20it/s]\u001b[A\n",
            "[Succeeded / Failed / Skipped / Total] 0 / 64 / 10 / 74:  74%|███████▍  | 74/100 [01:01<00:21,  1.20it/s]\u001b[A"
          ]
        },
        {
          "output_type": "stream",
          "name": "stdout",
          "text": [
            "--------------------------------------------- Result 74 ---------------------------------------------\n",
            "[[Positive (100%)]] --> [[[FAILED]]]\n",
            "\n",
            "enormously enjoyable , high-adrenaline documentary .\n",
            "\n",
            "\n"
          ]
        },
        {
          "output_type": "stream",
          "name": "stderr",
          "text": [
            "\n",
            "[Succeeded / Failed / Skipped / Total] 0 / 65 / 10 / 75:  75%|███████▌  | 75/100 [01:02<00:20,  1.20it/s]\u001b[A"
          ]
        },
        {
          "output_type": "stream",
          "name": "stdout",
          "text": [
            "--------------------------------------------- Result 75 ---------------------------------------------\n",
            "[[Positive (99%)]] --> [[[FAILED]]]\n",
            "\n",
            "buy is an accomplished actress , and this is a big , juicy role .\n",
            "\n",
            "\n"
          ]
        },
        {
          "output_type": "stream",
          "name": "stderr",
          "text": [
            "\n",
            "[Succeeded / Failed / Skipped / Total] 0 / 66 / 10 / 76:  76%|███████▌  | 76/100 [01:03<00:20,  1.20it/s]\u001b[A"
          ]
        },
        {
          "output_type": "stream",
          "name": "stdout",
          "text": [
            "--------------------------------------------- Result 76 ---------------------------------------------\n",
            "[[Positive (100%)]] --> [[[FAILED]]]\n",
            "\n",
            "it works its magic with such exuberance and passion that the film's length becomes a part of its fun .\n",
            "\n",
            "\n"
          ]
        },
        {
          "output_type": "stream",
          "name": "stderr",
          "text": [
            "\n",
            "[Succeeded / Failed / Skipped / Total] 0 / 66 / 10 / 76:  77%|███████▋  | 77/100 [01:04<00:19,  1.19it/s]\u001b[A\n",
            "[Succeeded / Failed / Skipped / Total] 0 / 67 / 10 / 77:  77%|███████▋  | 77/100 [01:04<00:19,  1.19it/s]\u001b[A"
          ]
        },
        {
          "output_type": "stream",
          "name": "stdout",
          "text": [
            "--------------------------------------------- Result 77 ---------------------------------------------\n",
            "[[Positive (100%)]] --> [[[FAILED]]]\n",
            "\n",
            "beautifully crafted and brutally honest , promises offers an unexpected window into the complexities of the middle east struggle and into the humanity of its people .\n",
            "\n",
            "\n"
          ]
        },
        {
          "output_type": "stream",
          "name": "stderr",
          "text": [
            "\n",
            "[Succeeded / Failed / Skipped / Total] 0 / 68 / 10 / 78:  78%|███████▊  | 78/100 [01:05<00:18,  1.19it/s]\u001b[A"
          ]
        },
        {
          "output_type": "stream",
          "name": "stdout",
          "text": [
            "--------------------------------------------- Result 78 ---------------------------------------------\n",
            "[[Positive (100%)]] --> [[[FAILED]]]\n",
            "\n",
            "an old-fashioned but emotionally stirring adventure tale of the kind they rarely make anymore .\n",
            "\n",
            "\n"
          ]
        },
        {
          "output_type": "stream",
          "name": "stderr",
          "text": [
            "\n",
            "[Succeeded / Failed / Skipped / Total] 0 / 69 / 10 / 79:  79%|███████▉  | 79/100 [01:05<00:17,  1.20it/s]\u001b[A"
          ]
        },
        {
          "output_type": "stream",
          "name": "stdout",
          "text": [
            "--------------------------------------------- Result 79 ---------------------------------------------\n",
            "[[Positive (100%)]] --> [[[FAILED]]]\n",
            "\n",
            "charlotte sometimes is a gem . it's always enthralling .\n",
            "\n",
            "\n"
          ]
        },
        {
          "output_type": "stream",
          "name": "stderr",
          "text": [
            "\n",
            "[Succeeded / Failed / Skipped / Total] 0 / 69 / 10 / 79:  80%|████████  | 80/100 [01:06<00:16,  1.20it/s]\u001b[A\n",
            "[Succeeded / Failed / Skipped / Total] 0 / 70 / 10 / 80:  80%|████████  | 80/100 [01:06<00:16,  1.20it/s]\u001b[A"
          ]
        },
        {
          "output_type": "stream",
          "name": "stdout",
          "text": [
            "--------------------------------------------- Result 80 ---------------------------------------------\n",
            "[[Positive (94%)]] --> [[[FAILED]]]\n",
            "\n",
            "in my opinion , analyze that is not as funny or entertaining as analyze this , but it is a respectable sequel .\n",
            "\n",
            "\n"
          ]
        },
        {
          "output_type": "stream",
          "name": "stderr",
          "text": [
            "\n",
            "[Succeeded / Failed / Skipped / Total] 0 / 71 / 10 / 81:  81%|████████  | 81/100 [01:06<00:15,  1.21it/s]\u001b[A"
          ]
        },
        {
          "output_type": "stream",
          "name": "stdout",
          "text": [
            "--------------------------------------------- Result 81 ---------------------------------------------\n",
            "[[Positive (99%)]] --> [[[FAILED]]]\n",
            "\n",
            "a remarkable film by bernard rose .\n",
            "\n",
            "\n"
          ]
        },
        {
          "output_type": "stream",
          "name": "stderr",
          "text": [
            "\n",
            "[Succeeded / Failed / Skipped / Total] 0 / 72 / 10 / 82:  82%|████████▏ | 82/100 [01:08<00:15,  1.20it/s]\u001b[A"
          ]
        },
        {
          "output_type": "stream",
          "name": "stdout",
          "text": [
            "--------------------------------------------- Result 82 ---------------------------------------------\n",
            "[[Positive (99%)]] --> [[[FAILED]]]\n",
            "\n",
            "zhuangzhuang creates delicate balance of style , text , and subtext that's so simple and precise that anything discordant would topple the balance , but against all odds , nothing does .\n",
            "\n",
            "\n"
          ]
        },
        {
          "output_type": "stream",
          "name": "stderr",
          "text": [
            "\n",
            "[Succeeded / Failed / Skipped / Total] 0 / 72 / 10 / 82:  83%|████████▎ | 83/100 [01:09<00:14,  1.19it/s]\u001b[A\n",
            "[Succeeded / Failed / Skipped / Total] 0 / 73 / 10 / 83:  83%|████████▎ | 83/100 [01:09<00:14,  1.19it/s]\u001b[A"
          ]
        },
        {
          "output_type": "stream",
          "name": "stdout",
          "text": [
            "--------------------------------------------- Result 83 ---------------------------------------------\n",
            "[[Positive (100%)]] --> [[[FAILED]]]\n",
            "\n",
            "a much more successful translation than its most famous previous film adaptation , writer-director anthony friedman's similarly updated 1970 british production .\n",
            "\n",
            "\n"
          ]
        },
        {
          "output_type": "stream",
          "name": "stderr",
          "text": [
            "\n",
            "[Succeeded / Failed / Skipped / Total] 0 / 74 / 10 / 84:  84%|████████▍ | 84/100 [01:10<00:13,  1.20it/s]\u001b[A"
          ]
        },
        {
          "output_type": "stream",
          "name": "stdout",
          "text": [
            "--------------------------------------------- Result 84 ---------------------------------------------\n",
            "[[Positive (99%)]] --> [[[FAILED]]]\n",
            "\n",
            "an original and highly cerebral examination of the psychopathic mind\n",
            "\n",
            "\n"
          ]
        },
        {
          "output_type": "stream",
          "name": "stderr",
          "text": [
            "\n",
            "[Succeeded / Failed / Skipped / Total] 0 / 75 / 10 / 85:  85%|████████▌ | 85/100 [01:10<00:12,  1.20it/s]\u001b[A"
          ]
        },
        {
          "output_type": "stream",
          "name": "stdout",
          "text": [
            "--------------------------------------------- Result 85 ---------------------------------------------\n",
            "[[Positive (100%)]] --> [[[FAILED]]]\n",
            "\n",
            "michel piccoli's moving performance is this films reason for being .\n",
            "\n",
            "\n"
          ]
        },
        {
          "output_type": "stream",
          "name": "stderr",
          "text": [
            "\n",
            "[Succeeded / Failed / Skipped / Total] 0 / 75 / 10 / 85:  86%|████████▌ | 86/100 [01:11<00:11,  1.21it/s]\u001b[A\n",
            "[Succeeded / Failed / Skipped / Total] 0 / 76 / 10 / 86:  86%|████████▌ | 86/100 [01:11<00:11,  1.21it/s]\u001b[A"
          ]
        },
        {
          "output_type": "stream",
          "name": "stdout",
          "text": [
            "--------------------------------------------- Result 86 ---------------------------------------------\n",
            "[[Positive (100%)]] --> [[[FAILED]]]\n",
            "\n",
            "a captivating and intimate study about dying and loving . . .\n",
            "\n",
            "\n"
          ]
        },
        {
          "output_type": "stream",
          "name": "stderr",
          "text": [
            "\n",
            "[Succeeded / Failed / Skipped / Total] 0 / 77 / 10 / 87:  87%|████████▋ | 87/100 [01:12<00:10,  1.20it/s]\u001b[A"
          ]
        },
        {
          "output_type": "stream",
          "name": "stdout",
          "text": [
            "--------------------------------------------- Result 87 ---------------------------------------------\n",
            "[[Positive (100%)]] --> [[[FAILED]]]\n",
            "\n",
            "this is an elegantly balanced movie -- every member of the ensemble has something fascinating to do -- that doesn't reveal even a hint of artifice .\n",
            "\n",
            "\n"
          ]
        },
        {
          "output_type": "stream",
          "name": "stderr",
          "text": [
            "\n",
            "[Succeeded / Failed / Skipped / Total] 0 / 78 / 10 / 88:  88%|████████▊ | 88/100 [01:13<00:10,  1.20it/s]\u001b[A"
          ]
        },
        {
          "output_type": "stream",
          "name": "stdout",
          "text": [
            "--------------------------------------------- Result 88 ---------------------------------------------\n",
            "[[Positive (99%)]] --> [[[FAILED]]]\n",
            "\n",
            "[grant] goes beyond his usual fluttering and stammering and captures the soul of a man in pain who gradually comes to recognize it and deal with it .\n",
            "\n",
            "\n"
          ]
        },
        {
          "output_type": "stream",
          "name": "stderr",
          "text": [
            "\n",
            "[Succeeded / Failed / Skipped / Total] 0 / 78 / 10 / 88:  89%|████████▉ | 89/100 [01:14<00:09,  1.19it/s]\u001b[A\n",
            "[Succeeded / Failed / Skipped / Total] 0 / 79 / 10 / 89:  89%|████████▉ | 89/100 [01:14<00:09,  1.19it/s]\u001b[A"
          ]
        },
        {
          "output_type": "stream",
          "name": "stdout",
          "text": [
            "--------------------------------------------- Result 89 ---------------------------------------------\n",
            "[[Positive (98%)]] --> [[[FAILED]]]\n",
            "\n",
            "a high-spirited buddy movie about the reunion of berlin anarchists who face arrest 15 years after their crime .\n",
            "\n",
            "\n"
          ]
        },
        {
          "output_type": "stream",
          "name": "stderr",
          "text": [
            "\n",
            "[Succeeded / Failed / Skipped / Total] 0 / 80 / 10 / 90:  90%|█████████ | 90/100 [01:15<00:08,  1.19it/s]\u001b[A"
          ]
        },
        {
          "output_type": "stream",
          "name": "stdout",
          "text": [
            "--------------------------------------------- Result 90 ---------------------------------------------\n",
            "[[Positive (99%)]] --> [[[FAILED]]]\n",
            "\n",
            "about the best thing you could say about narc is that it's a rock-solid little genre picture . whether you like it or not is basically a matter of taste .\n",
            "\n",
            "\n"
          ]
        },
        {
          "output_type": "stream",
          "name": "stderr",
          "text": [
            "\n",
            "[Succeeded / Failed / Skipped / Total] 0 / 81 / 10 / 91:  91%|█████████ | 91/100 [01:16<00:07,  1.19it/s]\u001b[A"
          ]
        },
        {
          "output_type": "stream",
          "name": "stdout",
          "text": [
            "--------------------------------------------- Result 91 ---------------------------------------------\n",
            "[[Positive (100%)]] --> [[[FAILED]]]\n",
            "\n",
            "an involving , inspirational drama that sometimes falls prey to its sob-story trappings .\n",
            "\n",
            "\n"
          ]
        },
        {
          "output_type": "stream",
          "name": "stderr",
          "text": [
            "\n",
            "[Succeeded / Failed / Skipped / Total] 0 / 81 / 10 / 91:  92%|█████████▏| 92/100 [01:17<00:06,  1.19it/s]\u001b[A\n",
            "[Succeeded / Failed / Skipped / Total] 0 / 82 / 10 / 92:  92%|█████████▏| 92/100 [01:17<00:06,  1.19it/s]\u001b[A"
          ]
        },
        {
          "output_type": "stream",
          "name": "stdout",
          "text": [
            "--------------------------------------------- Result 92 ---------------------------------------------\n",
            "[[Positive (99%)]] --> [[[FAILED]]]\n",
            "\n",
            "some of the most inventive silliness you are likely to witness in a movie theatre for some time .\n",
            "\n",
            "\n"
          ]
        },
        {
          "output_type": "stream",
          "name": "stderr",
          "text": [
            "\n",
            "[Succeeded / Failed / Skipped / Total] 0 / 83 / 10 / 93:  93%|█████████▎| 93/100 [01:18<00:05,  1.19it/s]\u001b[A"
          ]
        },
        {
          "output_type": "stream",
          "name": "stdout",
          "text": [
            "--------------------------------------------- Result 93 ---------------------------------------------\n",
            "[[Positive (99%)]] --> [[[FAILED]]]\n",
            "\n",
            "canadian filmmaker gary burns' inventive and mordantly humorous take on the soullessness of work in the city .\n",
            "\n",
            "\n"
          ]
        },
        {
          "output_type": "stream",
          "name": "stderr",
          "text": [
            "\n",
            "[Succeeded / Failed / Skipped / Total] 0 / 84 / 10 / 94:  94%|█████████▍| 94/100 [01:19<00:05,  1.18it/s]\u001b[A"
          ]
        },
        {
          "output_type": "stream",
          "name": "stdout",
          "text": [
            "--------------------------------------------- Result 94 ---------------------------------------------\n",
            "[[Positive (100%)]] --> [[[FAILED]]]\n",
            "\n",
            "a rollicking ride , with jaw-dropping action sequences , striking villains , a gorgeous color palette , astounding technology , stirring music and a boffo last hour that leads up to a strangely sinister happy ending .\n",
            "\n",
            "\n"
          ]
        },
        {
          "output_type": "stream",
          "name": "stderr",
          "text": [
            "\n",
            "[Succeeded / Failed / Skipped / Total] 0 / 84 / 10 / 94:  95%|█████████▌| 95/100 [01:20<00:04,  1.18it/s]\u001b[A\n",
            "[Succeeded / Failed / Skipped / Total] 0 / 85 / 10 / 95:  95%|█████████▌| 95/100 [01:20<00:04,  1.18it/s]\u001b[A"
          ]
        },
        {
          "output_type": "stream",
          "name": "stdout",
          "text": [
            "--------------------------------------------- Result 95 ---------------------------------------------\n",
            "[[Positive (100%)]] --> [[[FAILED]]]\n",
            "\n",
            "everyone's insecure in lovely and amazing , a poignant and wryly amusing film about mothers , daughters and their relationships .\n",
            "\n",
            "\n"
          ]
        },
        {
          "output_type": "stream",
          "name": "stderr",
          "text": [
            "\n",
            "[Succeeded / Failed / Skipped / Total] 0 / 86 / 10 / 96:  96%|█████████▌| 96/100 [01:21<00:03,  1.18it/s]\u001b[A\n",
            "[Succeeded / Failed / Skipped / Total] 0 / 87 / 10 / 97:  97%|█████████▋| 97/100 [01:21<00:02,  1.19it/s]\u001b[A"
          ]
        },
        {
          "output_type": "stream",
          "name": "stdout",
          "text": [
            "--------------------------------------------- Result 96 ---------------------------------------------\n",
            "[[Positive (99%)]] --> [[[FAILED]]]\n",
            "\n",
            "the closest thing to the experience of space travel\n",
            "\n",
            "\n",
            "--------------------------------------------- Result 97 ---------------------------------------------\n",
            "[[Positive (99%)]] --> [[[FAILED]]]\n",
            "\n",
            "full of surprises .\n",
            "\n",
            "\n"
          ]
        },
        {
          "output_type": "stream",
          "name": "stderr",
          "text": [
            "\n",
            "[Succeeded / Failed / Skipped / Total] 0 / 87 / 10 / 97:  98%|█████████▊| 98/100 [01:22<00:01,  1.19it/s]\u001b[A\n",
            "[Succeeded / Failed / Skipped / Total] 0 / 88 / 10 / 98:  98%|█████████▊| 98/100 [01:22<00:01,  1.19it/s]\u001b[A"
          ]
        },
        {
          "output_type": "stream",
          "name": "stdout",
          "text": [
            "--------------------------------------------- Result 98 ---------------------------------------------\n",
            "[[Positive (95%)]] --> [[[FAILED]]]\n",
            "\n",
            "connoisseurs of chinese film will be pleased to discover that tian's meticulous talent has not withered during his enforced hiatus .\n",
            "\n",
            "\n"
          ]
        },
        {
          "output_type": "stream",
          "name": "stderr",
          "text": [
            "\n",
            "[Succeeded / Failed / Skipped / Total] 0 / 89 / 10 / 99:  99%|█████████▉| 99/100 [01:23<00:00,  1.19it/s]\u001b[A"
          ]
        },
        {
          "output_type": "stream",
          "name": "stdout",
          "text": [
            "--------------------------------------------- Result 99 ---------------------------------------------\n",
            "[[Positive (99%)]] --> [[[FAILED]]]\n",
            "\n",
            "if you can push on through the slow spots , you'll be rewarded with some fine acting .\n",
            "\n",
            "\n"
          ]
        },
        {
          "output_type": "stream",
          "name": "stderr",
          "text": [
            "\n",
            "[Succeeded / Failed / Skipped / Total] 0 / 90 / 10 / 100: 100%|██████████| 100/100 [01:23<00:00,  1.19it/s]"
          ]
        },
        {
          "output_type": "stream",
          "name": "stdout",
          "text": [
            "--------------------------------------------- Result 100 ---------------------------------------------\n",
            "[[Positive (96%)]] --> [[[FAILED]]]\n",
            "\n",
            "an unusually dry-eyed , even analytical approach to material that is generally played for maximum moisture .\n",
            "\n",
            "\n",
            "\n",
            "+-------------------------------+-------+\n",
            "| Attack Results                |       |\n",
            "+-------------------------------+-------+\n",
            "| Number of successful attacks: | 0     |\n",
            "| Number of failed attacks:     | 90    |\n",
            "| Number of skipped attacks:    | 10    |\n",
            "| Original accuracy:            | 90.0% |\n",
            "| Accuracy under attack:        | 90.0% |\n",
            "| Attack success rate:          | 0.0%  |\n",
            "| Average perturbed word %:     | nan%  |\n",
            "| Average num. words per input: | 18.45 |\n",
            "| Avg num queries:              | 40.31 |\n",
            "+-------------------------------+-------+"
          ]
        },
        {
          "output_type": "stream",
          "name": "stderr",
          "text": [
            "\n",
            "textattack: Unknown if model of class <class 'transformers.models.albert.modeling_albert.AlbertForSequenceClassification'> compatible with goal function <class 'textattack.goal_functions.classification.input_reduction.InputReduction'>.\n",
            "\n",
            "  0%|          | 0/100 [00:00<?, ?it/s]\u001b[A"
          ]
        },
        {
          "output_type": "stream",
          "name": "stdout",
          "text": [
            "\n",
            "Starting attack for----------------- WordSwapEmbedding IR\n",
            "Attack(\n",
            "  (search_method): GreedyWordSwapWIR(\n",
            "    (wir_method):  weighted-saliency\n",
            "  )\n",
            "  (goal_function):  InputReduction(\n",
            "    (maximizable):  False\n",
            "    (target_num_words):  1\n",
            "  )\n",
            "  (transformation):  WordSwapEmbedding(\n",
            "    (max_candidates):  5\n",
            "    (embedding):  WordEmbedding\n",
            "  )\n",
            "  (constraints): \n",
            "    (0): RepeatModification\n",
            "    (1): StopwordModification\n",
            "  (is_black_box):  True\n",
            ") \n",
            "\n"
          ]
        },
        {
          "output_type": "stream",
          "name": "stderr",
          "text": [
            "\n",
            "  1%|          | 1/100 [00:03<05:46,  3.49s/it]\u001b[A\n",
            "[Succeeded / Failed / Skipped / Total] 0 / 1 / 0 / 1:   1%|          | 1/100 [00:03<05:46,  3.50s/it]\u001b[A"
          ]
        },
        {
          "output_type": "stream",
          "name": "stdout",
          "text": [
            "--------------------------------------------- Result 1 ---------------------------------------------\n",
            "[[Positive (100%)]] --> [[[FAILED]]]\n",
            "\n",
            "lovingly photographed in the manner of a golden book sprung to life , stuart little 2 manages sweetness largely without stickiness .\n",
            "\n",
            "\n"
          ]
        },
        {
          "output_type": "stream",
          "name": "stderr",
          "text": [
            "\n",
            "[Succeeded / Failed / Skipped / Total] 0 / 1 / 0 / 1:   2%|▏         | 2/100 [00:04<03:21,  2.06s/it]\u001b[A\n",
            "[Succeeded / Failed / Skipped / Total] 0 / 2 / 0 / 2:   2%|▏         | 2/100 [00:04<03:21,  2.06s/it]\u001b[A\n",
            "[Succeeded / Failed / Skipped / Total] 0 / 2 / 1 / 3:   3%|▎         | 3/100 [00:04<02:14,  1.38s/it]\u001b[A"
          ]
        },
        {
          "output_type": "stream",
          "name": "stdout",
          "text": [
            "--------------------------------------------- Result 2 ---------------------------------------------\n",
            "[[Positive (100%)]] --> [[[FAILED]]]\n",
            "\n",
            "consistently clever and suspenseful .\n",
            "\n",
            "\n",
            "--------------------------------------------- Result 3 ---------------------------------------------\n",
            "[[Negative (85%)]] --> [[[SKIPPED]]]\n",
            "\n",
            "it's like a \" big chill \" reunion of the baader-meinhof gang , only these guys are more harmless pranksters than political activists .\n",
            "\n",
            "\n"
          ]
        },
        {
          "output_type": "stream",
          "name": "stderr",
          "text": [
            "\n",
            "[Succeeded / Failed / Skipped / Total] 0 / 2 / 1 / 3:   4%|▍         | 4/100 [00:07<02:50,  1.78s/it]\u001b[A\n",
            "[Succeeded / Failed / Skipped / Total] 0 / 3 / 1 / 4:   4%|▍         | 4/100 [00:07<02:50,  1.78s/it]\u001b[A"
          ]
        },
        {
          "output_type": "stream",
          "name": "stdout",
          "text": [
            "--------------------------------------------- Result 4 ---------------------------------------------\n",
            "[[Positive (100%)]] --> [[[FAILED]]]\n",
            "\n",
            "the story gives ample opportunity for large-scale action and suspense , which director shekhar kapur supplies with tremendous skill .\n",
            "\n",
            "\n"
          ]
        },
        {
          "output_type": "stream",
          "name": "stderr",
          "text": [
            "\n",
            "[Succeeded / Failed / Skipped / Total] 0 / 4 / 1 / 5:   5%|▌         | 5/100 [00:08<02:39,  1.67s/it]\u001b[A\n",
            "[Succeeded / Failed / Skipped / Total] 0 / 4 / 1 / 5:   6%|▌         | 6/100 [00:08<02:11,  1.40s/it]\u001b[A\n",
            "[Succeeded / Failed / Skipped / Total] 0 / 4 / 2 / 6:   6%|▌         | 6/100 [00:08<02:11,  1.40s/it]\u001b[A"
          ]
        },
        {
          "output_type": "stream",
          "name": "stdout",
          "text": [
            "--------------------------------------------- Result 5 ---------------------------------------------\n",
            "[[Positive (74%)]] --> [[[FAILED]]]\n",
            "\n",
            "red dragon \" never cuts corners .\n",
            "\n",
            "\n",
            "--------------------------------------------- Result 6 ---------------------------------------------\n",
            "[[Negative (64%)]] --> [[[SKIPPED]]]\n",
            "\n",
            "fresnadillo has something serious to say about the ways in which extravagant chance can distort our perspective and throw us off the path of good sense .\n",
            "\n",
            "\n"
          ]
        },
        {
          "output_type": "stream",
          "name": "stderr",
          "text": [
            "\n",
            "[Succeeded / Failed / Skipped / Total] 0 / 5 / 2 / 7:   7%|▋         | 7/100 [00:10<02:23,  1.54s/it]\u001b[A"
          ]
        },
        {
          "output_type": "stream",
          "name": "stdout",
          "text": [
            "--------------------------------------------- Result 7 ---------------------------------------------\n",
            "[[Positive (100%)]] --> [[[FAILED]]]\n",
            "\n",
            "throws in enough clever and unexpected twists to make the formula feel fresh .\n",
            "\n",
            "\n"
          ]
        },
        {
          "output_type": "stream",
          "name": "stderr",
          "text": [
            "\n",
            "[Succeeded / Failed / Skipped / Total] 0 / 5 / 2 / 7:   8%|▊         | 8/100 [00:12<02:25,  1.59s/it]\u001b[A\n",
            "[Succeeded / Failed / Skipped / Total] 0 / 6 / 2 / 8:   8%|▊         | 8/100 [00:12<02:25,  1.59s/it]\u001b[A"
          ]
        },
        {
          "output_type": "stream",
          "name": "stdout",
          "text": [
            "--------------------------------------------- Result 8 ---------------------------------------------\n",
            "[[Positive (97%)]] --> [[[FAILED]]]\n",
            "\n",
            "weighty and ponderous but every bit as filling as the treat of the title .\n",
            "\n",
            "\n"
          ]
        },
        {
          "output_type": "stream",
          "name": "stderr",
          "text": [
            "\n",
            "[Succeeded / Failed / Skipped / Total] 0 / 7 / 2 / 9:   9%|▉         | 9/100 [00:16<02:47,  1.84s/it]\u001b[A"
          ]
        },
        {
          "output_type": "stream",
          "name": "stdout",
          "text": [
            "--------------------------------------------- Result 9 ---------------------------------------------\n",
            "[[Positive (100%)]] --> [[[FAILED]]]\n",
            "\n",
            "a real audience-pleaser that will strike a chord with anyone who's ever waited in a doctor's office , emergency room , hospital bed or insurance company office .\n",
            "\n",
            "\n"
          ]
        },
        {
          "output_type": "stream",
          "name": "stderr",
          "text": [
            "\n",
            "[Succeeded / Failed / Skipped / Total] 0 / 7 / 2 / 9:  10%|█         | 10/100 [00:17<02:37,  1.75s/it]\u001b[A\n",
            "[Succeeded / Failed / Skipped / Total] 0 / 8 / 2 / 10:  10%|█         | 10/100 [00:17<02:37,  1.75s/it]\u001b[A"
          ]
        },
        {
          "output_type": "stream",
          "name": "stdout",
          "text": [
            "--------------------------------------------- Result 10 ---------------------------------------------\n",
            "[[Positive (100%)]] --> [[[FAILED]]]\n",
            "\n",
            "generates an enormous feeling of empathy for its characters .\n",
            "\n",
            "\n"
          ]
        },
        {
          "output_type": "stream",
          "name": "stderr",
          "text": [
            "\n",
            "[Succeeded / Failed / Skipped / Total] 0 / 9 / 2 / 11:  11%|█         | 11/100 [00:19<02:36,  1.76s/it]\u001b[A\n",
            "[Succeeded / Failed / Skipped / Total] 0 / 9 / 2 / 11:  12%|█▏        | 12/100 [00:19<02:22,  1.62s/it]\u001b[A\n",
            "[Succeeded / Failed / Skipped / Total] 0 / 9 / 3 / 12:  12%|█▏        | 12/100 [00:19<02:22,  1.62s/it]\u001b[A"
          ]
        },
        {
          "output_type": "stream",
          "name": "stdout",
          "text": [
            "--------------------------------------------- Result 11 ---------------------------------------------\n",
            "[[Positive (99%)]] --> [[[FAILED]]]\n",
            "\n",
            "exposing the ways we fool ourselves is one hour photo's real strength .\n",
            "\n",
            "\n",
            "--------------------------------------------- Result 12 ---------------------------------------------\n",
            "[[Negative (77%)]] --> [[[SKIPPED]]]\n",
            "\n",
            "it's up to you to decide whether to admire these people's dedication to their cause or be repelled by their dogmatism , manipulativeness and narrow , fearful view of american life .\n",
            "\n",
            "\n"
          ]
        },
        {
          "output_type": "stream",
          "name": "stderr",
          "text": [
            "\n",
            "[Succeeded / Failed / Skipped / Total] 0 / 10 / 3 / 13:  13%|█▎        | 13/100 [00:21<02:22,  1.64s/it]\u001b[A"
          ]
        },
        {
          "output_type": "stream",
          "name": "stdout",
          "text": [
            "--------------------------------------------- Result 13 ---------------------------------------------\n",
            "[[Positive (96%)]] --> [[[FAILED]]]\n",
            "\n",
            "mostly , [goldbacher] just lets her complicated characters be unruly , confusing and , through it all , human .\n",
            "\n",
            "\n"
          ]
        },
        {
          "output_type": "stream",
          "name": "stderr",
          "text": [
            "\n",
            "[Succeeded / Failed / Skipped / Total] 0 / 10 / 3 / 13:  14%|█▍        | 14/100 [00:23<02:22,  1.65s/it]\u001b[A\n",
            "[Succeeded / Failed / Skipped / Total] 0 / 11 / 3 / 14:  14%|█▍        | 14/100 [00:23<02:22,  1.65s/it]\u001b[A\n",
            "[Succeeded / Failed / Skipped / Total] 0 / 11 / 4 / 15:  15%|█▌        | 15/100 [00:23<02:11,  1.55s/it]\u001b[A"
          ]
        },
        {
          "output_type": "stream",
          "name": "stdout",
          "text": [
            "--------------------------------------------- Result 14 ---------------------------------------------\n",
            "[[Positive (99%)]] --> [[[FAILED]]]\n",
            "\n",
            ". . . quite good at providing some good old fashioned spooks .\n",
            "\n",
            "\n",
            "--------------------------------------------- Result 15 ---------------------------------------------\n",
            "[[Negative (96%)]] --> [[[SKIPPED]]]\n",
            "\n",
            "at its worst , the movie is pretty diverting ; the pity is that it rarely achieves its best .\n",
            "\n",
            "\n"
          ]
        },
        {
          "output_type": "stream",
          "name": "stderr",
          "text": [
            "\n",
            "[Succeeded / Failed / Skipped / Total] 0 / 11 / 4 / 15:  16%|█▌        | 16/100 [00:24<02:10,  1.55s/it]\u001b[A\n",
            "[Succeeded / Failed / Skipped / Total] 0 / 12 / 4 / 16:  16%|█▌        | 16/100 [00:24<02:10,  1.55s/it]\u001b[A"
          ]
        },
        {
          "output_type": "stream",
          "name": "stdout",
          "text": [
            "--------------------------------------------- Result 16 ---------------------------------------------\n",
            "[[Positive (100%)]] --> [[[FAILED]]]\n",
            "\n",
            "scherfig's light-hearted profile of emotional desperation is achingly honest and delightfully cheeky .\n",
            "\n",
            "\n"
          ]
        },
        {
          "output_type": "stream",
          "name": "stderr",
          "text": [
            "\n",
            "[Succeeded / Failed / Skipped / Total] 0 / 13 / 4 / 17:  17%|█▋        | 17/100 [00:30<02:30,  1.81s/it]\u001b[A"
          ]
        },
        {
          "output_type": "stream",
          "name": "stdout",
          "text": [
            "--------------------------------------------- Result 17 ---------------------------------------------\n",
            "[[Positive (100%)]] --> [[[FAILED]]]\n",
            "\n",
            "a journey spanning nearly three decades of bittersweet camaraderie and history , in which we feel that we truly know what makes holly and marina tick , and our hearts go out to them as both continue to negotiate their imperfect , love-hate relationship .\n",
            "\n",
            "\n"
          ]
        },
        {
          "output_type": "stream",
          "name": "stderr",
          "text": [
            "\n",
            "[Succeeded / Failed / Skipped / Total] 0 / 13 / 4 / 17:  17%|█▋        | 17/100 [00:35<02:51,  2.06s/it]\u001b[A\n",
            "[Succeeded / Failed / Skipped / Total] 0 / 13 / 4 / 17:  18%|█▊        | 18/100 [00:35<02:41,  1.97s/it]\u001b[A\n",
            "[Succeeded / Failed / Skipped / Total] 0 / 14 / 4 / 18:  18%|█▊        | 18/100 [00:35<02:41,  1.97s/it]\u001b[A"
          ]
        },
        {
          "output_type": "stream",
          "name": "stdout",
          "text": [
            "--------------------------------------------- Result 18 ---------------------------------------------\n",
            "[[Positive (100%)]] --> [[[FAILED]]]\n",
            "\n",
            "the wonderfully lush morvern callar is pure punk existentialism , and ms . ramsay and her co-writer , liana dognini , have dramatized the alan warner novel , which itself felt like an answer to irvine welsh's book trainspotting .\n",
            "\n",
            "\n"
          ]
        },
        {
          "output_type": "stream",
          "name": "stderr",
          "text": [
            "\n",
            "[Succeeded / Failed / Skipped / Total] 0 / 14 / 4 / 18:  19%|█▉        | 19/100 [00:36<02:34,  1.91s/it]\u001b[A\n",
            "[Succeeded / Failed / Skipped / Total] 0 / 15 / 4 / 19:  19%|█▉        | 19/100 [00:36<02:34,  1.91s/it]\u001b[A"
          ]
        },
        {
          "output_type": "stream",
          "name": "stdout",
          "text": [
            "--------------------------------------------- Result 19 ---------------------------------------------\n",
            "[[Positive (76%)]] --> [[[FAILED]]]\n",
            "\n",
            "as it turns out , you can go home again .\n",
            "\n",
            "\n"
          ]
        },
        {
          "output_type": "stream",
          "name": "stderr",
          "text": [
            "\n",
            "[Succeeded / Failed / Skipped / Total] 0 / 15 / 4 / 19:  20%|██        | 20/100 [00:39<02:36,  1.95s/it]\u001b[A\n",
            "[Succeeded / Failed / Skipped / Total] 0 / 16 / 4 / 20:  20%|██        | 20/100 [00:39<02:36,  1.95s/it]\u001b[A"
          ]
        },
        {
          "output_type": "stream",
          "name": "stdout",
          "text": [
            "--------------------------------------------- Result 20 ---------------------------------------------\n",
            "[[Positive (99%)]] --> [[[FAILED]]]\n",
            "\n",
            "you've already seen city by the sea under a variety of titles , but it's worth yet another visit .\n",
            "\n",
            "\n"
          ]
        },
        {
          "output_type": "stream",
          "name": "stderr",
          "text": [
            "\n",
            "[Succeeded / Failed / Skipped / Total] 0 / 16 / 4 / 20:  21%|██        | 21/100 [00:43<02:43,  2.07s/it]\u001b[A\n",
            "[Succeeded / Failed / Skipped / Total] 0 / 17 / 4 / 21:  21%|██        | 21/100 [00:43<02:43,  2.07s/it]\u001b[A"
          ]
        },
        {
          "output_type": "stream",
          "name": "stdout",
          "text": [
            "--------------------------------------------- Result 21 ---------------------------------------------\n",
            "[[Positive (100%)]] --> [[[FAILED]]]\n",
            "\n",
            "this kind of hands-on storytelling is ultimately what makes shanghai ghetto move beyond a good , dry , reliable textbook and what allows it to rank with its worthy predecessors .\n",
            "\n",
            "\n"
          ]
        },
        {
          "output_type": "stream",
          "name": "stderr",
          "text": [
            "\n",
            "[Succeeded / Failed / Skipped / Total] 0 / 17 / 4 / 21:  22%|██▏       | 22/100 [00:48<02:51,  2.20s/it]\u001b[A\n",
            "[Succeeded / Failed / Skipped / Total] 0 / 18 / 4 / 22:  22%|██▏       | 22/100 [00:48<02:51,  2.20s/it]\u001b[A"
          ]
        },
        {
          "output_type": "stream",
          "name": "stdout",
          "text": [
            "--------------------------------------------- Result 22 ---------------------------------------------\n",
            "[[Positive (83%)]] --> [[[FAILED]]]\n",
            "\n",
            "making such a tragedy the backdrop to a love story risks trivializing it , though chouraqui no doubt intended the film to affirm love's power to help people endure almost unimaginable horror .\n",
            "\n",
            "\n"
          ]
        },
        {
          "output_type": "stream",
          "name": "stderr",
          "text": [
            "\n",
            "[Succeeded / Failed / Skipped / Total] 0 / 18 / 4 / 22:  23%|██▎       | 23/100 [00:50<02:49,  2.20s/it]\u001b[A\n",
            "[Succeeded / Failed / Skipped / Total] 0 / 19 / 4 / 23:  23%|██▎       | 23/100 [00:50<02:49,  2.20s/it]\u001b[A"
          ]
        },
        {
          "output_type": "stream",
          "name": "stdout",
          "text": [
            "--------------------------------------------- Result 23 ---------------------------------------------\n",
            "[[Positive (79%)]] --> [[[FAILED]]]\n",
            "\n",
            "grown-up quibbles are beside the point here . the little girls understand , and mccracken knows that's all that matters .\n",
            "\n",
            "\n"
          ]
        },
        {
          "output_type": "stream",
          "name": "stderr",
          "text": [
            "\n",
            "[Succeeded / Failed / Skipped / Total] 0 / 19 / 4 / 23:  24%|██▍       | 24/100 [00:52<02:46,  2.19s/it]\u001b[A\n",
            "[Succeeded / Failed / Skipped / Total] 0 / 20 / 4 / 24:  24%|██▍       | 24/100 [00:52<02:46,  2.19s/it]\u001b[A"
          ]
        },
        {
          "output_type": "stream",
          "name": "stdout",
          "text": [
            "--------------------------------------------- Result 24 ---------------------------------------------\n",
            "[[Positive (100%)]] --> [[[FAILED]]]\n",
            "\n",
            "a powerful , chilling , and affecting study of one man's dying fall .\n",
            "\n",
            "\n"
          ]
        },
        {
          "output_type": "stream",
          "name": "stderr",
          "text": [
            "\n",
            "[Succeeded / Failed / Skipped / Total] 0 / 20 / 4 / 24:  25%|██▌       | 25/100 [00:53<02:41,  2.15s/it]\u001b[A\n",
            "[Succeeded / Failed / Skipped / Total] 0 / 21 / 4 / 25:  25%|██▌       | 25/100 [00:53<02:41,  2.15s/it]\u001b[A\n",
            "[Succeeded / Failed / Skipped / Total] 0 / 21 / 5 / 26:  26%|██▌       | 26/100 [00:53<02:33,  2.07s/it]\u001b[A"
          ]
        },
        {
          "output_type": "stream",
          "name": "stdout",
          "text": [
            "--------------------------------------------- Result 25 ---------------------------------------------\n",
            "[[Positive (92%)]] --> [[[FAILED]]]\n",
            "\n",
            "this is a fascinating film because there is no clear-cut hero and no all-out villain .\n",
            "\n",
            "\n",
            "--------------------------------------------- Result 26 ---------------------------------------------\n",
            "[[Negative (66%)]] --> [[[SKIPPED]]]\n",
            "\n",
            "a dreadful day in irish history is given passionate , if somewhat flawed , treatment .\n",
            "\n",
            "\n"
          ]
        },
        {
          "output_type": "stream",
          "name": "stderr",
          "text": [
            "\n",
            "[Succeeded / Failed / Skipped / Total] 0 / 21 / 5 / 26:  27%|██▋       | 27/100 [00:55<02:30,  2.06s/it]\u001b[A\n",
            "[Succeeded / Failed / Skipped / Total] 0 / 22 / 5 / 27:  27%|██▋       | 27/100 [00:55<02:30,  2.06s/it]\u001b[A"
          ]
        },
        {
          "output_type": "stream",
          "name": "stdout",
          "text": [
            "--------------------------------------------- Result 27 ---------------------------------------------\n",
            "[[Positive (92%)]] --> [[[FAILED]]]\n",
            "\n",
            ". . . a good film that must have baffled the folks in the marketing department .\n",
            "\n",
            "\n"
          ]
        },
        {
          "output_type": "stream",
          "name": "stderr",
          "text": [
            "\n",
            "[Succeeded / Failed / Skipped / Total] 0 / 23 / 5 / 28:  28%|██▊       | 28/100 [01:00<02:34,  2.14s/it]\u001b[A\n",
            "[Succeeded / Failed / Skipped / Total] 0 / 23 / 5 / 28:  29%|██▉       | 29/100 [01:00<02:27,  2.07s/it]\u001b[A\n",
            "[Succeeded / Failed / Skipped / Total] 0 / 23 / 6 / 29:  29%|██▉       | 29/100 [01:00<02:27,  2.07s/it]\u001b[A"
          ]
        },
        {
          "output_type": "stream",
          "name": "stdout",
          "text": [
            "--------------------------------------------- Result 28 ---------------------------------------------\n",
            "[[Positive (100%)]] --> [[[FAILED]]]\n",
            "\n",
            ". . . is funny in the way that makes you ache with sadness ( the way chekhov is funny ) , profound without ever being self-important , warm without ever succumbing to sentimentality .\n",
            "\n",
            "\n",
            "--------------------------------------------- Result 29 ---------------------------------------------\n",
            "[[Negative (93%)]] --> [[[SKIPPED]]]\n",
            "\n",
            "devotees of star trek ii : the wrath of khan will feel a nagging sense of deja vu , and the grandeur of the best next generation episodes is lacking .\n",
            "\n",
            "\n"
          ]
        },
        {
          "output_type": "stream",
          "name": "stderr",
          "text": [
            "\n",
            "[Succeeded / Failed / Skipped / Total] 0 / 24 / 6 / 30:  30%|███       | 30/100 [01:02<02:26,  2.10s/it]\u001b[A"
          ]
        },
        {
          "output_type": "stream",
          "name": "stdout",
          "text": [
            "--------------------------------------------- Result 30 ---------------------------------------------\n",
            "[[Positive (99%)]] --> [[[FAILED]]]\n",
            "\n",
            "a soul-stirring documentary about the israeli/palestinian conflict as revealed through the eyes of some children who remain curious about each other against all odds .\n",
            "\n",
            "\n"
          ]
        },
        {
          "output_type": "stream",
          "name": "stderr",
          "text": [
            "\n",
            "[Succeeded / Failed / Skipped / Total] 0 / 24 / 6 / 30:  31%|███       | 31/100 [01:05<02:26,  2.12s/it]\u001b[A\n",
            "[Succeeded / Failed / Skipped / Total] 0 / 25 / 6 / 31:  31%|███       | 31/100 [01:05<02:26,  2.12s/it]\u001b[A\n",
            "[Succeeded / Failed / Skipped / Total] 0 / 25 / 7 / 32:  32%|███▏      | 32/100 [01:05<02:19,  2.06s/it]\u001b[A"
          ]
        },
        {
          "output_type": "stream",
          "name": "stdout",
          "text": [
            "--------------------------------------------- Result 31 ---------------------------------------------\n",
            "[[Positive (93%)]] --> [[[FAILED]]]\n",
            "\n",
            "what's so striking about jolie's performance is that she never lets her character become a caricature -- not even with that radioactive hair .\n",
            "\n",
            "\n",
            "--------------------------------------------- Result 32 ---------------------------------------------\n",
            "[[Negative (98%)]] --> [[[SKIPPED]]]\n",
            "\n",
            "the main story . . . is compelling enough , but it's difficult to shrug off the annoyance of that chatty fish .\n",
            "\n",
            "\n"
          ]
        },
        {
          "output_type": "stream",
          "name": "stderr",
          "text": [
            "\n",
            "[Succeeded / Failed / Skipped / Total] 0 / 25 / 7 / 32:  33%|███▎      | 33/100 [01:07<02:16,  2.03s/it]\u001b[A\n",
            "[Succeeded / Failed / Skipped / Total] 0 / 26 / 7 / 33:  33%|███▎      | 33/100 [01:07<02:16,  2.03s/it]\u001b[A"
          ]
        },
        {
          "output_type": "stream",
          "name": "stdout",
          "text": [
            "--------------------------------------------- Result 33 ---------------------------------------------\n",
            "[[Positive (100%)]] --> [[[FAILED]]]\n",
            "\n",
            "the performances are immaculate , with roussillon providing comic relief .\n",
            "\n",
            "\n"
          ]
        },
        {
          "output_type": "stream",
          "name": "stderr",
          "text": [
            "\n",
            "[Succeeded / Failed / Skipped / Total] 0 / 27 / 7 / 34:  34%|███▍      | 34/100 [01:10<02:16,  2.06s/it]\u001b[A"
          ]
        },
        {
          "output_type": "stream",
          "name": "stdout",
          "text": [
            "--------------------------------------------- Result 34 ---------------------------------------------\n",
            "[[Positive (99%)]] --> [[[FAILED]]]\n",
            "\n",
            "kinnear . . . gives his best screen performance with an oddly winning portrayal of one of life's ultimate losers .\n",
            "\n",
            "\n"
          ]
        },
        {
          "output_type": "stream",
          "name": "stderr",
          "text": [
            "\n",
            "[Succeeded / Failed / Skipped / Total] 0 / 27 / 7 / 34:  35%|███▌      | 35/100 [01:12<02:14,  2.07s/it]\u001b[A\n",
            "[Succeeded / Failed / Skipped / Total] 0 / 28 / 7 / 35:  35%|███▌      | 35/100 [01:12<02:14,  2.07s/it]\u001b[A"
          ]
        },
        {
          "output_type": "stream",
          "name": "stdout",
          "text": [
            "--------------------------------------------- Result 35 ---------------------------------------------\n",
            "[[Positive (98%)]] --> [[[FAILED]]]\n",
            "\n",
            "hugh grant , who has a good line in charm , has never been more charming than in about a boy .\n",
            "\n",
            "\n"
          ]
        },
        {
          "output_type": "stream",
          "name": "stderr",
          "text": [
            "\n",
            "[Succeeded / Failed / Skipped / Total] 0 / 29 / 7 / 36:  36%|███▌      | 36/100 [01:14<02:13,  2.08s/it]\u001b[A"
          ]
        },
        {
          "output_type": "stream",
          "name": "stdout",
          "text": [
            "--------------------------------------------- Result 36 ---------------------------------------------\n",
            "[[Positive (94%)]] --> [[[FAILED]]]\n",
            "\n",
            "there's a lot of tooth in roger dodger . but what's nice is that there's a casual intelligence that permeates the script .\n",
            "\n",
            "\n"
          ]
        },
        {
          "output_type": "stream",
          "name": "stderr",
          "text": [
            "\n",
            "[Succeeded / Failed / Skipped / Total] 0 / 29 / 7 / 36:  37%|███▋      | 37/100 [01:17<02:11,  2.09s/it]\u001b[A\n",
            "[Succeeded / Failed / Skipped / Total] 0 / 30 / 7 / 37:  37%|███▋      | 37/100 [01:17<02:11,  2.09s/it]\u001b[A"
          ]
        },
        {
          "output_type": "stream",
          "name": "stdout",
          "text": [
            "--------------------------------------------- Result 37 ---------------------------------------------\n",
            "[[Positive (97%)]] --> [[[FAILED]]]\n",
            "\n",
            "reminiscent of alfred hitchcock's thrillers , most of the scary parts in 'signs' occur while waiting for things to happen .\n",
            "\n",
            "\n"
          ]
        },
        {
          "output_type": "stream",
          "name": "stderr",
          "text": [
            "\n",
            "[Succeeded / Failed / Skipped / Total] 0 / 31 / 7 / 38:  38%|███▊      | 38/100 [01:19<02:09,  2.09s/it]\u001b[A"
          ]
        },
        {
          "output_type": "stream",
          "name": "stdout",
          "text": [
            "--------------------------------------------- Result 38 ---------------------------------------------\n",
            "[[Positive (100%)]] --> [[[FAILED]]]\n",
            "\n",
            "one of the best looking and stylish animated movies in quite a while . . .\n",
            "\n",
            "\n"
          ]
        },
        {
          "output_type": "stream",
          "name": "stderr",
          "text": [
            "\n",
            "[Succeeded / Failed / Skipped / Total] 0 / 31 / 7 / 38:  39%|███▉      | 39/100 [01:23<02:10,  2.14s/it]\u001b[A\n",
            "[Succeeded / Failed / Skipped / Total] 0 / 32 / 7 / 39:  39%|███▉      | 39/100 [01:23<02:10,  2.14s/it]\u001b[A"
          ]
        },
        {
          "output_type": "stream",
          "name": "stdout",
          "text": [
            "--------------------------------------------- Result 39 ---------------------------------------------\n",
            "[[Positive (100%)]] --> [[[FAILED]]]\n",
            "\n",
            "its use of the thriller form to examine the labyrinthine ways in which people's lives cross and change , buffeted by events seemingly out of their control , is intriguing , provocative stuff .\n",
            "\n",
            "\n"
          ]
        },
        {
          "output_type": "stream",
          "name": "stderr",
          "text": [
            "\n",
            "[Succeeded / Failed / Skipped / Total] 0 / 33 / 7 / 40:  40%|████      | 40/100 [01:27<02:10,  2.18s/it]\u001b[A"
          ]
        },
        {
          "output_type": "stream",
          "name": "stdout",
          "text": [
            "--------------------------------------------- Result 40 ---------------------------------------------\n",
            "[[Positive (100%)]] --> [[[FAILED]]]\n",
            "\n",
            "denver should not get the first and last look at one of the most triumphant performances of vanessa redgrave's career . it deserves to be seen everywhere .\n",
            "\n",
            "\n"
          ]
        },
        {
          "output_type": "stream",
          "name": "stderr",
          "text": [
            "\n",
            "[Succeeded / Failed / Skipped / Total] 0 / 33 / 7 / 40:  41%|████      | 41/100 [01:32<02:12,  2.25s/it]\u001b[A\n",
            "[Succeeded / Failed / Skipped / Total] 0 / 34 / 7 / 41:  41%|████      | 41/100 [01:32<02:12,  2.25s/it]\u001b[A"
          ]
        },
        {
          "output_type": "stream",
          "name": "stdout",
          "text": [
            "--------------------------------------------- Result 41 ---------------------------------------------\n",
            "[[Positive (100%)]] --> [[[FAILED]]]\n",
            "\n",
            "you needn't be steeped in '50s sociology , pop culture or movie lore to appreciate the emotional depth of haynes' work . though haynes' style apes films from the period . . . its message is not rooted in that decade .\n",
            "\n",
            "\n"
          ]
        },
        {
          "output_type": "stream",
          "name": "stderr",
          "text": [
            "\n",
            "[Succeeded / Failed / Skipped / Total] 0 / 35 / 7 / 42:  42%|████▏     | 42/100 [01:33<02:09,  2.23s/it]\u001b[A"
          ]
        },
        {
          "output_type": "stream",
          "name": "stdout",
          "text": [
            "--------------------------------------------- Result 42 ---------------------------------------------\n",
            "[[Positive (99%)]] --> [[[FAILED]]]\n",
            "\n",
            "waiting for godard can be fruitful : 'in praise of love' is the director's epitaph for himself .\n",
            "\n",
            "\n"
          ]
        },
        {
          "output_type": "stream",
          "name": "stderr",
          "text": [
            "\n",
            "[Succeeded / Failed / Skipped / Total] 0 / 35 / 7 / 42:  43%|████▎     | 43/100 [01:34<02:05,  2.20s/it]\u001b[A\n",
            "[Succeeded / Failed / Skipped / Total] 0 / 36 / 7 / 43:  43%|████▎     | 43/100 [01:34<02:05,  2.20s/it]\u001b[A"
          ]
        },
        {
          "output_type": "stream",
          "name": "stdout",
          "text": [
            "--------------------------------------------- Result 43 ---------------------------------------------\n",
            "[[Positive (98%)]] --> [[[FAILED]]]\n",
            "\n",
            "a gangster movie with the capacity to surprise .\n",
            "\n",
            "\n"
          ]
        },
        {
          "output_type": "stream",
          "name": "stderr",
          "text": [
            "\n",
            "[Succeeded / Failed / Skipped / Total] 0 / 37 / 7 / 44:  44%|████▍     | 44/100 [01:39<02:06,  2.26s/it]\u001b[A\n",
            "[Succeeded / Failed / Skipped / Total] 0 / 37 / 7 / 44:  45%|████▌     | 45/100 [01:39<02:01,  2.21s/it]\u001b[A\n",
            "[Succeeded / Failed / Skipped / Total] 0 / 37 / 8 / 45:  45%|████▌     | 45/100 [01:39<02:01,  2.21s/it]\u001b[A\n",
            "[Succeeded / Failed / Skipped / Total] 0 / 37 / 9 / 46:  46%|████▌     | 46/100 [01:39<01:56,  2.16s/it]\u001b[A"
          ]
        },
        {
          "output_type": "stream",
          "name": "stdout",
          "text": [
            "--------------------------------------------- Result 44 ---------------------------------------------\n",
            "[[Positive (99%)]] --> [[[FAILED]]]\n",
            "\n",
            "the film has a laundry list of minor shortcomings , but the numerous scenes of gory mayhem are worth the price of admission . . . if \" gory mayhem \" is your idea of a good time .\n",
            "\n",
            "\n",
            "--------------------------------------------- Result 45 ---------------------------------------------\n",
            "[[Negative (94%)]] --> [[[SKIPPED]]]\n",
            "\n",
            "if not a home run , then at least a solid base hit .\n",
            "\n",
            "\n",
            "--------------------------------------------- Result 46 ---------------------------------------------\n",
            "[[Negative (86%)]] --> [[[SKIPPED]]]\n",
            "\n",
            "goldmember is funny enough to justify the embarrassment of bringing a barf bag to the moviehouse .\n",
            "\n",
            "\n"
          ]
        },
        {
          "output_type": "stream",
          "name": "stderr",
          "text": [
            "\n",
            "[Succeeded / Failed / Skipped / Total] 0 / 37 / 9 / 46:  47%|████▋     | 47/100 [01:41<01:54,  2.16s/it]\u001b[A\n",
            "[Succeeded / Failed / Skipped / Total] 0 / 38 / 9 / 47:  47%|████▋     | 47/100 [01:41<01:54,  2.16s/it]\u001b[A"
          ]
        },
        {
          "output_type": "stream",
          "name": "stdout",
          "text": [
            "--------------------------------------------- Result 47 ---------------------------------------------\n",
            "[[Positive (96%)]] --> [[[FAILED]]]\n",
            "\n",
            ". . . a fairly disposable yet still entertaining b picture .\n",
            "\n",
            "\n"
          ]
        },
        {
          "output_type": "stream",
          "name": "stderr",
          "text": [
            "\n",
            "[Succeeded / Failed / Skipped / Total] 0 / 39 / 9 / 48:  48%|████▊     | 48/100 [01:44<01:53,  2.18s/it]\u001b[A"
          ]
        },
        {
          "output_type": "stream",
          "name": "stdout",
          "text": [
            "--------------------------------------------- Result 48 ---------------------------------------------\n",
            "[[Positive (100%)]] --> [[[FAILED]]]\n",
            "\n",
            "it may not be particularly innovative , but the film's crisp , unaffected style and air of gentle longing make it unexpectedly rewarding .\n",
            "\n",
            "\n"
          ]
        },
        {
          "output_type": "stream",
          "name": "stderr",
          "text": [
            "\n",
            "[Succeeded / Failed / Skipped / Total] 0 / 39 / 9 / 48:  49%|████▉     | 49/100 [01:46<01:50,  2.17s/it]\u001b[A\n",
            "[Succeeded / Failed / Skipped / Total] 0 / 40 / 9 / 49:  49%|████▉     | 49/100 [01:46<01:50,  2.17s/it]\u001b[A"
          ]
        },
        {
          "output_type": "stream",
          "name": "stdout",
          "text": [
            "--------------------------------------------- Result 49 ---------------------------------------------\n",
            "[[Positive (100%)]] --> [[[FAILED]]]\n",
            "\n",
            "the film truly does rescue [the funk brothers] from motown's shadows . it's about time .\n",
            "\n",
            "\n"
          ]
        },
        {
          "output_type": "stream",
          "name": "stderr",
          "text": [
            "\n",
            "[Succeeded / Failed / Skipped / Total] 0 / 41 / 9 / 50:  50%|█████     | 50/100 [01:50<01:50,  2.22s/it]\u001b[A"
          ]
        },
        {
          "output_type": "stream",
          "name": "stdout",
          "text": [
            "--------------------------------------------- Result 50 ---------------------------------------------\n",
            "[[Positive (99%)]] --> [[[FAILED]]]\n",
            "\n",
            "drawing on an irresistible , languid romanticism , byler reveals the ways in which a sultry evening or a beer-fueled afternoon in the sun can inspire even the most retiring heart to venture forth .\n",
            "\n",
            "\n"
          ]
        },
        {
          "output_type": "stream",
          "name": "stderr",
          "text": [
            "\n",
            "[Succeeded / Failed / Skipped / Total] 0 / 41 / 9 / 50:  51%|█████     | 51/100 [01:54<01:50,  2.25s/it]\u001b[A\n",
            "[Succeeded / Failed / Skipped / Total] 0 / 42 / 9 / 51:  51%|█████     | 51/100 [01:54<01:50,  2.25s/it]\u001b[A"
          ]
        },
        {
          "output_type": "stream",
          "name": "stdout",
          "text": [
            "--------------------------------------------- Result 51 ---------------------------------------------\n",
            "[[Positive (95%)]] --> [[[FAILED]]]\n",
            "\n",
            "works because we're never sure if ohlinger's on the level or merely a dying , delusional man trying to get into the history books before he croaks .\n",
            "\n",
            "\n"
          ]
        },
        {
          "output_type": "stream",
          "name": "stderr",
          "text": [
            "\n",
            "[Succeeded / Failed / Skipped / Total] 0 / 43 / 9 / 52:  52%|█████▏    | 52/100 [01:56<01:47,  2.25s/it]\u001b[A"
          ]
        },
        {
          "output_type": "stream",
          "name": "stdout",
          "text": [
            "--------------------------------------------- Result 52 ---------------------------------------------\n",
            "[[Positive (99%)]] --> [[[FAILED]]]\n",
            "\n",
            "[scherfig] has made a movie that will leave you wondering about the characters' lives after the clever credits roll .\n",
            "\n",
            "\n"
          ]
        },
        {
          "output_type": "stream",
          "name": "stderr",
          "text": [
            "\n",
            "[Succeeded / Failed / Skipped / Total] 0 / 43 / 9 / 52:  53%|█████▎    | 53/100 [02:00<01:47,  2.28s/it]\u001b[A\n",
            "[Succeeded / Failed / Skipped / Total] 0 / 44 / 9 / 53:  53%|█████▎    | 53/100 [02:00<01:47,  2.28s/it]\u001b[A"
          ]
        },
        {
          "output_type": "stream",
          "name": "stdout",
          "text": [
            "--------------------------------------------- Result 53 ---------------------------------------------\n",
            "[[Positive (94%)]] --> [[[FAILED]]]\n",
            "\n",
            "a heady , biting , be-bop ride through nighttime manhattan , a loquacious videologue of the modern male and the lengths to which he'll go to weave a protective cocoon around his own ego .\n",
            "\n",
            "\n"
          ]
        },
        {
          "output_type": "stream",
          "name": "stderr",
          "text": [
            "\n",
            "[Succeeded / Failed / Skipped / Total] 0 / 45 / 9 / 54:  54%|█████▍    | 54/100 [02:05<01:47,  2.33s/it]\u001b[A"
          ]
        },
        {
          "output_type": "stream",
          "name": "stdout",
          "text": [
            "--------------------------------------------- Result 54 ---------------------------------------------\n",
            "[[Positive (86%)]] --> [[[FAILED]]]\n",
            "\n",
            "skin of man gets a few cheap shocks from its kids-in-peril theatrics , but it also taps into the primal fears of young people trying to cope with the mysterious and brutal nature of adults .\n",
            "\n",
            "\n"
          ]
        },
        {
          "output_type": "stream",
          "name": "stderr",
          "text": [
            "\n",
            "[Succeeded / Failed / Skipped / Total] 0 / 45 / 9 / 54:  55%|█████▌    | 55/100 [02:10<01:46,  2.37s/it]\u001b[A\n",
            "[Succeeded / Failed / Skipped / Total] 0 / 46 / 9 / 55:  55%|█████▌    | 55/100 [02:10<01:46,  2.37s/it]\u001b[A"
          ]
        },
        {
          "output_type": "stream",
          "name": "stdout",
          "text": [
            "--------------------------------------------- Result 55 ---------------------------------------------\n",
            "[[Positive (99%)]] --> [[[FAILED]]]\n",
            "\n",
            "the piano teacher is not an easy film . it forces you to watch people doing unpleasant things to each other and themselves , and it maintains a cool distance from its material that is deliberately unsettling .\n",
            "\n",
            "\n"
          ]
        },
        {
          "output_type": "stream",
          "name": "stderr",
          "text": [
            "\n",
            "[Succeeded / Failed / Skipped / Total] 0 / 47 / 9 / 56:  56%|█████▌    | 56/100 [02:11<01:43,  2.34s/it]\u001b[A"
          ]
        },
        {
          "output_type": "stream",
          "name": "stdout",
          "text": [
            "--------------------------------------------- Result 56 ---------------------------------------------\n",
            "[[Positive (97%)]] --> [[[FAILED]]]\n",
            "\n",
            "as refreshing as a drink from a woodland stream .\n",
            "\n",
            "\n"
          ]
        },
        {
          "output_type": "stream",
          "name": "stderr",
          "text": [
            "\n",
            "[Succeeded / Failed / Skipped / Total] 0 / 47 / 9 / 56:  57%|█████▋    | 57/100 [02:13<01:40,  2.33s/it]\u001b[A\n",
            "[Succeeded / Failed / Skipped / Total] 0 / 48 / 9 / 57:  57%|█████▋    | 57/100 [02:13<01:40,  2.33s/it]\u001b[A"
          ]
        },
        {
          "output_type": "stream",
          "name": "stdout",
          "text": [
            "--------------------------------------------- Result 57 ---------------------------------------------\n",
            "[[Positive (100%)]] --> [[[FAILED]]]\n",
            "\n",
            "williams absolutely nails sy's queasy infatuation and overall strangeness .\n",
            "\n",
            "\n"
          ]
        },
        {
          "output_type": "stream",
          "name": "stderr",
          "text": [
            "\n",
            "[Succeeded / Failed / Skipped / Total] 0 / 49 / 9 / 58:  58%|█████▊    | 58/100 [02:16<01:38,  2.35s/it]\u001b[A"
          ]
        },
        {
          "output_type": "stream",
          "name": "stdout",
          "text": [
            "--------------------------------------------- Result 58 ---------------------------------------------\n",
            "[[Positive (90%)]] --> [[[FAILED]]]\n",
            "\n",
            "can i admit xxx is as deep as a petri dish and as well-characterized as a telephone book but still say it was a guilty pleasure ?\n",
            "\n",
            "\n"
          ]
        },
        {
          "output_type": "stream",
          "name": "stderr",
          "text": [
            "\n",
            "[Succeeded / Failed / Skipped / Total] 0 / 49 / 9 / 58:  59%|█████▉    | 59/100 [02:19<01:36,  2.36s/it]\u001b[A\n",
            "[Succeeded / Failed / Skipped / Total] 0 / 50 / 9 / 59:  59%|█████▉    | 59/100 [02:19<01:36,  2.36s/it]\u001b[A"
          ]
        },
        {
          "output_type": "stream",
          "name": "stdout",
          "text": [
            "--------------------------------------------- Result 59 ---------------------------------------------\n",
            "[[Positive (99%)]] --> [[[FAILED]]]\n",
            "\n",
            "while it's nothing we haven't seen before from murphy , i spy is still fun and enjoyable and so aggressively silly that it's more than a worthwhile effort .\n",
            "\n",
            "\n"
          ]
        },
        {
          "output_type": "stream",
          "name": "stderr",
          "text": [
            "\n",
            "[Succeeded / Failed / Skipped / Total] 0 / 51 / 9 / 60:  60%|██████    | 60/100 [02:24<01:36,  2.41s/it]\u001b[A"
          ]
        },
        {
          "output_type": "stream",
          "name": "stdout",
          "text": [
            "--------------------------------------------- Result 60 ---------------------------------------------\n",
            "[[Positive (67%)]] --> [[[FAILED]]]\n",
            "\n",
            "by the time it ends in a rush of sequins , flashbulbs , blaring brass and back-stabbing babes , it has said plenty about how show business has infiltrated every corner of society -- and not always for the better .\n",
            "\n",
            "\n"
          ]
        },
        {
          "output_type": "stream",
          "name": "stderr",
          "text": [
            "\n",
            "[Succeeded / Failed / Skipped / Total] 0 / 51 / 9 / 60:  61%|██████    | 61/100 [02:25<01:33,  2.39s/it]\u001b[A\n",
            "[Succeeded / Failed / Skipped / Total] 0 / 52 / 9 / 61:  61%|██████    | 61/100 [02:25<01:33,  2.39s/it]\u001b[A\n",
            "[Succeeded / Failed / Skipped / Total] 0 / 52 / 10 / 62:  62%|██████▏   | 62/100 [02:25<01:29,  2.35s/it]\u001b[A"
          ]
        },
        {
          "output_type": "stream",
          "name": "stdout",
          "text": [
            "--------------------------------------------- Result 61 ---------------------------------------------\n",
            "[[Positive (100%)]] --> [[[FAILED]]]\n",
            "\n",
            "an intimate contemplation of two marvelously messy lives .\n",
            "\n",
            "\n",
            "--------------------------------------------- Result 62 ---------------------------------------------\n",
            "[[Negative (73%)]] --> [[[SKIPPED]]]\n",
            "\n",
            "rarely has skin looked as beautiful , desirable , even delectable , as it does in trouble every day .\n",
            "\n",
            "\n"
          ]
        },
        {
          "output_type": "stream",
          "name": "stderr",
          "text": [
            "\n",
            "[Succeeded / Failed / Skipped / Total] 0 / 52 / 10 / 62:  63%|██████▎   | 63/100 [02:29<01:27,  2.37s/it]\u001b[A\n",
            "[Succeeded / Failed / Skipped / Total] 0 / 53 / 10 / 63:  63%|██████▎   | 63/100 [02:29<01:27,  2.37s/it]\u001b[A"
          ]
        },
        {
          "output_type": "stream",
          "name": "stdout",
          "text": [
            "--------------------------------------------- Result 63 ---------------------------------------------\n",
            "[[Positive (100%)]] --> [[[FAILED]]]\n",
            "\n",
            "this is one of those rare docs that paints a grand picture of an era and makes the journey feel like a party .\n",
            "\n",
            "\n"
          ]
        },
        {
          "output_type": "stream",
          "name": "stderr",
          "text": [
            "\n",
            "[Succeeded / Failed / Skipped / Total] 0 / 54 / 10 / 64:  64%|██████▍   | 64/100 [02:31<01:25,  2.37s/it]\u001b[A"
          ]
        },
        {
          "output_type": "stream",
          "name": "stdout",
          "text": [
            "--------------------------------------------- Result 64 ---------------------------------------------\n",
            "[[Positive (97%)]] --> [[[FAILED]]]\n",
            "\n",
            "poignant if familiar story of a young person suspended between two cultures .\n",
            "\n",
            "\n"
          ]
        },
        {
          "output_type": "stream",
          "name": "stderr",
          "text": [
            "\n",
            "[Succeeded / Failed / Skipped / Total] 0 / 54 / 10 / 64:  65%|██████▌   | 65/100 [02:32<01:22,  2.35s/it]\u001b[A\n",
            "[Succeeded / Failed / Skipped / Total] 0 / 55 / 10 / 65:  65%|██████▌   | 65/100 [02:32<01:22,  2.35s/it]\u001b[A"
          ]
        },
        {
          "output_type": "stream",
          "name": "stdout",
          "text": [
            "--------------------------------------------- Result 65 ---------------------------------------------\n",
            "[[Positive (97%)]] --> [[[FAILED]]]\n",
            "\n",
            "a metaphor for a modern-day urban china searching for its identity .\n",
            "\n",
            "\n"
          ]
        },
        {
          "output_type": "stream",
          "name": "stderr",
          "text": [
            "\n",
            "[Succeeded / Failed / Skipped / Total] 0 / 56 / 10 / 66:  66%|██████▌   | 66/100 [02:35<01:20,  2.36s/it]\u001b[A"
          ]
        },
        {
          "output_type": "stream",
          "name": "stdout",
          "text": [
            "--------------------------------------------- Result 66 ---------------------------------------------\n",
            "[[Positive (100%)]] --> [[[FAILED]]]\n",
            "\n",
            "for all its brooding quality , ash wednesday is suspenseful and ultimately unpredictable , with a sterling ensemble cast .\n",
            "\n",
            "\n"
          ]
        },
        {
          "output_type": "stream",
          "name": "stderr",
          "text": [
            "\n",
            "[Succeeded / Failed / Skipped / Total] 0 / 56 / 10 / 66:  67%|██████▋   | 67/100 [02:39<01:18,  2.37s/it]\u001b[A\n",
            "[Succeeded / Failed / Skipped / Total] 0 / 57 / 10 / 67:  67%|██████▋   | 67/100 [02:39<01:18,  2.37s/it]\u001b[A"
          ]
        },
        {
          "output_type": "stream",
          "name": "stdout",
          "text": [
            "--------------------------------------------- Result 67 ---------------------------------------------\n",
            "[[Positive (99%)]] --> [[[FAILED]]]\n",
            "\n",
            "an odd drama set in the world of lingerie models and bar dancers in the midwest that held my interest precisely because it didn't try to .\n",
            "\n",
            "\n"
          ]
        },
        {
          "output_type": "stream",
          "name": "stderr",
          "text": [
            "\n",
            "[Succeeded / Failed / Skipped / Total] 0 / 58 / 10 / 68:  68%|██████▊   | 68/100 [02:41<01:16,  2.38s/it]\u001b[A"
          ]
        },
        {
          "output_type": "stream",
          "name": "stdout",
          "text": [
            "--------------------------------------------- Result 68 ---------------------------------------------\n",
            "[[Positive (92%)]] --> [[[FAILED]]]\n",
            "\n",
            "the film feels uncomfortably real , its language and locations bearing the unmistakable stamp of authority .\n",
            "\n",
            "\n"
          ]
        },
        {
          "output_type": "stream",
          "name": "stderr",
          "text": [
            "\n",
            "[Succeeded / Failed / Skipped / Total] 0 / 58 / 10 / 68:  69%|██████▉   | 69/100 [02:43<01:13,  2.37s/it]\u001b[A\n",
            "[Succeeded / Failed / Skipped / Total] 0 / 59 / 10 / 69:  69%|██████▉   | 69/100 [02:43<01:13,  2.37s/it]\u001b[A"
          ]
        },
        {
          "output_type": "stream",
          "name": "stdout",
          "text": [
            "--------------------------------------------- Result 69 ---------------------------------------------\n",
            "[[Positive (99%)]] --> [[[FAILED]]]\n",
            "\n",
            "despite its faults , gangs excels in spectacle and pacing .\n",
            "\n",
            "\n"
          ]
        },
        {
          "output_type": "stream",
          "name": "stderr",
          "text": [
            "\n",
            "[Succeeded / Failed / Skipped / Total] 0 / 60 / 10 / 70:  70%|███████   | 70/100 [02:46<01:11,  2.38s/it]\u001b[A"
          ]
        },
        {
          "output_type": "stream",
          "name": "stdout",
          "text": [
            "--------------------------------------------- Result 70 ---------------------------------------------\n",
            "[[Positive (99%)]] --> [[[FAILED]]]\n",
            "\n",
            "entertaining despite its one-joke premise with the thesis that women from venus and men from mars can indeed get together .\n",
            "\n",
            "\n"
          ]
        },
        {
          "output_type": "stream",
          "name": "stderr",
          "text": [
            "\n",
            "[Succeeded / Failed / Skipped / Total] 0 / 60 / 10 / 70:  71%|███████   | 71/100 [02:48<01:08,  2.37s/it]\u001b[A\n",
            "[Succeeded / Failed / Skipped / Total] 0 / 61 / 10 / 71:  71%|███████   | 71/100 [02:48<01:08,  2.37s/it]\u001b[A"
          ]
        },
        {
          "output_type": "stream",
          "name": "stdout",
          "text": [
            "--------------------------------------------- Result 71 ---------------------------------------------\n",
            "[[Positive (100%)]] --> [[[FAILED]]]\n",
            "\n",
            "a tightly directed , highly professional film that's old-fashioned in all the best possible ways .\n",
            "\n",
            "\n"
          ]
        },
        {
          "output_type": "stream",
          "name": "stderr",
          "text": [
            "\n",
            "[Succeeded / Failed / Skipped / Total] 0 / 62 / 10 / 72:  72%|███████▏  | 72/100 [02:51<01:06,  2.38s/it]\u001b[A"
          ]
        },
        {
          "output_type": "stream",
          "name": "stdout",
          "text": [
            "--------------------------------------------- Result 72 ---------------------------------------------\n",
            "[[Positive (100%)]] --> [[[FAILED]]]\n",
            "\n",
            "it's dark but has wonderfully funny moments ; you care about the characters ; and the action and special effects are first-rate .\n",
            "\n",
            "\n"
          ]
        },
        {
          "output_type": "stream",
          "name": "stderr",
          "text": [
            "\n",
            "[Succeeded / Failed / Skipped / Total] 0 / 62 / 10 / 72:  73%|███████▎  | 73/100 [02:53<01:04,  2.38s/it]\u001b[A\n",
            "[Succeeded / Failed / Skipped / Total] 0 / 63 / 10 / 73:  73%|███████▎  | 73/100 [02:53<01:04,  2.38s/it]\u001b[A"
          ]
        },
        {
          "output_type": "stream",
          "name": "stdout",
          "text": [
            "--------------------------------------------- Result 73 ---------------------------------------------\n",
            "[[Positive (100%)]] --> [[[FAILED]]]\n",
            "\n",
            "in visual fertility treasure planet rivals the top japanese animations of recent vintage .\n",
            "\n",
            "\n"
          ]
        },
        {
          "output_type": "stream",
          "name": "stderr",
          "text": [
            "\n",
            "[Succeeded / Failed / Skipped / Total] 0 / 64 / 10 / 74:  74%|███████▍  | 74/100 [02:53<01:01,  2.35s/it]\u001b[A"
          ]
        },
        {
          "output_type": "stream",
          "name": "stdout",
          "text": [
            "--------------------------------------------- Result 74 ---------------------------------------------\n",
            "[[Positive (100%)]] --> [[[FAILED]]]\n",
            "\n",
            "enormously enjoyable , high-adrenaline documentary .\n",
            "\n",
            "\n"
          ]
        },
        {
          "output_type": "stream",
          "name": "stderr",
          "text": [
            "\n",
            "[Succeeded / Failed / Skipped / Total] 0 / 64 / 10 / 74:  75%|███████▌  | 75/100 [02:55<00:58,  2.34s/it]\u001b[A\n",
            "[Succeeded / Failed / Skipped / Total] 0 / 65 / 10 / 75:  75%|███████▌  | 75/100 [02:55<00:58,  2.34s/it]\u001b[A"
          ]
        },
        {
          "output_type": "stream",
          "name": "stdout",
          "text": [
            "--------------------------------------------- Result 75 ---------------------------------------------\n",
            "[[Positive (99%)]] --> [[[FAILED]]]\n",
            "\n",
            "buy is an accomplished actress , and this is a big , juicy role .\n",
            "\n",
            "\n"
          ]
        },
        {
          "output_type": "stream",
          "name": "stderr",
          "text": [
            "\n",
            "[Succeeded / Failed / Skipped / Total] 0 / 66 / 10 / 76:  76%|███████▌  | 76/100 [02:57<00:56,  2.34s/it]\u001b[A"
          ]
        },
        {
          "output_type": "stream",
          "name": "stdout",
          "text": [
            "--------------------------------------------- Result 76 ---------------------------------------------\n",
            "[[Positive (100%)]] --> [[[FAILED]]]\n",
            "\n",
            "it works its magic with such exuberance and passion that the film's length becomes a part of its fun .\n",
            "\n",
            "\n"
          ]
        },
        {
          "output_type": "stream",
          "name": "stderr",
          "text": [
            "\n",
            "[Succeeded / Failed / Skipped / Total] 0 / 66 / 10 / 76:  77%|███████▋  | 77/100 [03:01<00:54,  2.36s/it]\u001b[A\n",
            "[Succeeded / Failed / Skipped / Total] 0 / 67 / 10 / 77:  77%|███████▋  | 77/100 [03:01<00:54,  2.36s/it]\u001b[A"
          ]
        },
        {
          "output_type": "stream",
          "name": "stdout",
          "text": [
            "--------------------------------------------- Result 77 ---------------------------------------------\n",
            "[[Positive (100%)]] --> [[[FAILED]]]\n",
            "\n",
            "beautifully crafted and brutally honest , promises offers an unexpected window into the complexities of the middle east struggle and into the humanity of its people .\n",
            "\n",
            "\n"
          ]
        },
        {
          "output_type": "stream",
          "name": "stderr",
          "text": [
            "\n",
            "[Succeeded / Failed / Skipped / Total] 0 / 68 / 10 / 78:  78%|███████▊  | 78/100 [03:03<00:51,  2.36s/it]\u001b[A"
          ]
        },
        {
          "output_type": "stream",
          "name": "stdout",
          "text": [
            "--------------------------------------------- Result 78 ---------------------------------------------\n",
            "[[Positive (100%)]] --> [[[FAILED]]]\n",
            "\n",
            "an old-fashioned but emotionally stirring adventure tale of the kind they rarely make anymore .\n",
            "\n",
            "\n"
          ]
        },
        {
          "output_type": "stream",
          "name": "stderr",
          "text": [
            "\n",
            "[Succeeded / Failed / Skipped / Total] 0 / 68 / 10 / 78:  79%|███████▉  | 79/100 [03:05<00:49,  2.34s/it]\u001b[A\n",
            "[Succeeded / Failed / Skipped / Total] 0 / 69 / 10 / 79:  79%|███████▉  | 79/100 [03:05<00:49,  2.34s/it]\u001b[A"
          ]
        },
        {
          "output_type": "stream",
          "name": "stdout",
          "text": [
            "--------------------------------------------- Result 79 ---------------------------------------------\n",
            "[[Positive (100%)]] --> [[[FAILED]]]\n",
            "\n",
            "charlotte sometimes is a gem . it's always enthralling .\n",
            "\n",
            "\n"
          ]
        },
        {
          "output_type": "stream",
          "name": "stderr",
          "text": [
            "\n",
            "[Succeeded / Failed / Skipped / Total] 0 / 70 / 10 / 80:  80%|████████  | 80/100 [03:07<00:46,  2.34s/it]\u001b[A"
          ]
        },
        {
          "output_type": "stream",
          "name": "stdout",
          "text": [
            "--------------------------------------------- Result 80 ---------------------------------------------\n",
            "[[Positive (94%)]] --> [[[FAILED]]]\n",
            "\n",
            "in my opinion , analyze that is not as funny or entertaining as analyze this , but it is a respectable sequel .\n",
            "\n",
            "\n"
          ]
        },
        {
          "output_type": "stream",
          "name": "stderr",
          "text": [
            "\n",
            "[Succeeded / Failed / Skipped / Total] 0 / 70 / 10 / 80:  81%|████████  | 81/100 [03:08<00:44,  2.32s/it]\u001b[A\n",
            "[Succeeded / Failed / Skipped / Total] 0 / 71 / 10 / 81:  81%|████████  | 81/100 [03:08<00:44,  2.32s/it]\u001b[A"
          ]
        },
        {
          "output_type": "stream",
          "name": "stdout",
          "text": [
            "--------------------------------------------- Result 81 ---------------------------------------------\n",
            "[[Positive (99%)]] --> [[[FAILED]]]\n",
            "\n",
            "a remarkable film by bernard rose .\n",
            "\n",
            "\n"
          ]
        },
        {
          "output_type": "stream",
          "name": "stderr",
          "text": [
            "\n",
            "[Succeeded / Failed / Skipped / Total] 0 / 72 / 10 / 82:  82%|████████▏ | 82/100 [03:12<00:42,  2.34s/it]\u001b[A"
          ]
        },
        {
          "output_type": "stream",
          "name": "stdout",
          "text": [
            "--------------------------------------------- Result 82 ---------------------------------------------\n",
            "[[Positive (99%)]] --> [[[FAILED]]]\n",
            "\n",
            "zhuangzhuang creates delicate balance of style , text , and subtext that's so simple and precise that anything discordant would topple the balance , but against all odds , nothing does .\n",
            "\n",
            "\n"
          ]
        },
        {
          "output_type": "stream",
          "name": "stderr",
          "text": [
            "\n",
            "[Succeeded / Failed / Skipped / Total] 0 / 72 / 10 / 82:  83%|████████▎ | 83/100 [03:15<00:40,  2.36s/it]\u001b[A\n",
            "[Succeeded / Failed / Skipped / Total] 0 / 73 / 10 / 83:  83%|████████▎ | 83/100 [03:15<00:40,  2.36s/it]\u001b[A"
          ]
        },
        {
          "output_type": "stream",
          "name": "stdout",
          "text": [
            "--------------------------------------------- Result 83 ---------------------------------------------\n",
            "[[Positive (100%)]] --> [[[FAILED]]]\n",
            "\n",
            "a much more successful translation than its most famous previous film adaptation , writer-director anthony friedman's similarly updated 1970 british production .\n",
            "\n",
            "\n"
          ]
        },
        {
          "output_type": "stream",
          "name": "stderr",
          "text": [
            "\n",
            "[Succeeded / Failed / Skipped / Total] 0 / 74 / 10 / 84:  84%|████████▍ | 84/100 [03:17<00:37,  2.35s/it]\u001b[A"
          ]
        },
        {
          "output_type": "stream",
          "name": "stdout",
          "text": [
            "--------------------------------------------- Result 84 ---------------------------------------------\n",
            "[[Positive (99%)]] --> [[[FAILED]]]\n",
            "\n",
            "an original and highly cerebral examination of the psychopathic mind\n",
            "\n",
            "\n"
          ]
        },
        {
          "output_type": "stream",
          "name": "stderr",
          "text": [
            "\n",
            "[Succeeded / Failed / Skipped / Total] 0 / 74 / 10 / 84:  85%|████████▌ | 85/100 [03:18<00:35,  2.34s/it]\u001b[A\n",
            "[Succeeded / Failed / Skipped / Total] 0 / 75 / 10 / 85:  85%|████████▌ | 85/100 [03:18<00:35,  2.34s/it]\u001b[A"
          ]
        },
        {
          "output_type": "stream",
          "name": "stdout",
          "text": [
            "--------------------------------------------- Result 85 ---------------------------------------------\n",
            "[[Positive (100%)]] --> [[[FAILED]]]\n",
            "\n",
            "michel piccoli's moving performance is this films reason for being .\n",
            "\n",
            "\n"
          ]
        },
        {
          "output_type": "stream",
          "name": "stderr",
          "text": [
            "\n",
            "[Succeeded / Failed / Skipped / Total] 0 / 76 / 10 / 86:  86%|████████▌ | 86/100 [03:19<00:32,  2.32s/it]\u001b[A"
          ]
        },
        {
          "output_type": "stream",
          "name": "stdout",
          "text": [
            "--------------------------------------------- Result 86 ---------------------------------------------\n",
            "[[Positive (100%)]] --> [[[FAILED]]]\n",
            "\n",
            "a captivating and intimate study about dying and loving . . .\n",
            "\n",
            "\n"
          ]
        },
        {
          "output_type": "stream",
          "name": "stderr",
          "text": [
            "\n",
            "[Succeeded / Failed / Skipped / Total] 0 / 76 / 10 / 86:  87%|████████▋ | 87/100 [03:23<00:30,  2.33s/it]\u001b[A\n",
            "[Succeeded / Failed / Skipped / Total] 0 / 77 / 10 / 87:  87%|████████▋ | 87/100 [03:23<00:30,  2.33s/it]\u001b[A"
          ]
        },
        {
          "output_type": "stream",
          "name": "stdout",
          "text": [
            "--------------------------------------------- Result 87 ---------------------------------------------\n",
            "[[Positive (100%)]] --> [[[FAILED]]]\n",
            "\n",
            "this is an elegantly balanced movie -- every member of the ensemble has something fascinating to do -- that doesn't reveal even a hint of artifice .\n",
            "\n",
            "\n"
          ]
        },
        {
          "output_type": "stream",
          "name": "stderr",
          "text": [
            "\n",
            "[Succeeded / Failed / Skipped / Total] 0 / 78 / 10 / 88:  88%|████████▊ | 88/100 [03:27<00:28,  2.35s/it]\u001b[A"
          ]
        },
        {
          "output_type": "stream",
          "name": "stdout",
          "text": [
            "--------------------------------------------- Result 88 ---------------------------------------------\n",
            "[[Positive (99%)]] --> [[[FAILED]]]\n",
            "\n",
            "[grant] goes beyond his usual fluttering and stammering and captures the soul of a man in pain who gradually comes to recognize it and deal with it .\n",
            "\n",
            "\n"
          ]
        },
        {
          "output_type": "stream",
          "name": "stderr",
          "text": [
            "\n",
            "[Succeeded / Failed / Skipped / Total] 0 / 78 / 10 / 88:  89%|████████▉ | 89/100 [03:29<00:25,  2.35s/it]\u001b[A\n",
            "[Succeeded / Failed / Skipped / Total] 0 / 79 / 10 / 89:  89%|████████▉ | 89/100 [03:29<00:25,  2.35s/it]\u001b[A"
          ]
        },
        {
          "output_type": "stream",
          "name": "stdout",
          "text": [
            "--------------------------------------------- Result 89 ---------------------------------------------\n",
            "[[Positive (98%)]] --> [[[FAILED]]]\n",
            "\n",
            "a high-spirited buddy movie about the reunion of berlin anarchists who face arrest 15 years after their crime .\n",
            "\n",
            "\n"
          ]
        },
        {
          "output_type": "stream",
          "name": "stderr",
          "text": [
            "\n",
            "[Succeeded / Failed / Skipped / Total] 0 / 80 / 10 / 90:  90%|█████████ | 90/100 [03:33<00:23,  2.37s/it]\u001b[A"
          ]
        },
        {
          "output_type": "stream",
          "name": "stdout",
          "text": [
            "--------------------------------------------- Result 90 ---------------------------------------------\n",
            "[[Positive (99%)]] --> [[[FAILED]]]\n",
            "\n",
            "about the best thing you could say about narc is that it's a rock-solid little genre picture . whether you like it or not is basically a matter of taste .\n",
            "\n",
            "\n"
          ]
        },
        {
          "output_type": "stream",
          "name": "stderr",
          "text": [
            "\n",
            "[Succeeded / Failed / Skipped / Total] 0 / 80 / 10 / 90:  91%|█████████ | 91/100 [03:35<00:21,  2.36s/it]\u001b[A\n",
            "[Succeeded / Failed / Skipped / Total] 0 / 81 / 10 / 91:  91%|█████████ | 91/100 [03:35<00:21,  2.36s/it]\u001b[A"
          ]
        },
        {
          "output_type": "stream",
          "name": "stdout",
          "text": [
            "--------------------------------------------- Result 91 ---------------------------------------------\n",
            "[[Positive (100%)]] --> [[[FAILED]]]\n",
            "\n",
            "an involving , inspirational drama that sometimes falls prey to its sob-story trappings .\n",
            "\n",
            "\n"
          ]
        },
        {
          "output_type": "stream",
          "name": "stderr",
          "text": [
            "\n",
            "[Succeeded / Failed / Skipped / Total] 0 / 82 / 10 / 92:  92%|█████████▏| 92/100 [03:37<00:18,  2.36s/it]\u001b[A"
          ]
        },
        {
          "output_type": "stream",
          "name": "stdout",
          "text": [
            "--------------------------------------------- Result 92 ---------------------------------------------\n",
            "[[Positive (99%)]] --> [[[FAILED]]]\n",
            "\n",
            "some of the most inventive silliness you are likely to witness in a movie theatre for some time .\n",
            "\n",
            "\n"
          ]
        },
        {
          "output_type": "stream",
          "name": "stderr",
          "text": [
            "\n",
            "[Succeeded / Failed / Skipped / Total] 0 / 82 / 10 / 92:  93%|█████████▎| 93/100 [03:39<00:16,  2.36s/it]\u001b[A\n",
            "[Succeeded / Failed / Skipped / Total] 0 / 83 / 10 / 93:  93%|█████████▎| 93/100 [03:39<00:16,  2.36s/it]\u001b[A"
          ]
        },
        {
          "output_type": "stream",
          "name": "stdout",
          "text": [
            "--------------------------------------------- Result 93 ---------------------------------------------\n",
            "[[Positive (99%)]] --> [[[FAILED]]]\n",
            "\n",
            "canadian filmmaker gary burns' inventive and mordantly humorous take on the soullessness of work in the city .\n",
            "\n",
            "\n"
          ]
        },
        {
          "output_type": "stream",
          "name": "stderr",
          "text": [
            "\n",
            "[Succeeded / Failed / Skipped / Total] 0 / 84 / 10 / 94:  94%|█████████▍| 94/100 [03:44<00:14,  2.39s/it]\u001b[A"
          ]
        },
        {
          "output_type": "stream",
          "name": "stdout",
          "text": [
            "--------------------------------------------- Result 94 ---------------------------------------------\n",
            "[[Positive (100%)]] --> [[[FAILED]]]\n",
            "\n",
            "a rollicking ride , with jaw-dropping action sequences , striking villains , a gorgeous color palette , astounding technology , stirring music and a boffo last hour that leads up to a strangely sinister happy ending .\n",
            "\n",
            "\n"
          ]
        },
        {
          "output_type": "stream",
          "name": "stderr",
          "text": [
            "\n",
            "[Succeeded / Failed / Skipped / Total] 0 / 84 / 10 / 94:  95%|█████████▌| 95/100 [03:46<00:11,  2.39s/it]\u001b[A\n",
            "[Succeeded / Failed / Skipped / Total] 0 / 85 / 10 / 95:  95%|█████████▌| 95/100 [03:46<00:11,  2.39s/it]\u001b[A"
          ]
        },
        {
          "output_type": "stream",
          "name": "stdout",
          "text": [
            "--------------------------------------------- Result 95 ---------------------------------------------\n",
            "[[Positive (100%)]] --> [[[FAILED]]]\n",
            "\n",
            "everyone's insecure in lovely and amazing , a poignant and wryly amusing film about mothers , daughters and their relationships .\n",
            "\n",
            "\n"
          ]
        },
        {
          "output_type": "stream",
          "name": "stderr",
          "text": [
            "\n",
            "[Succeeded / Failed / Skipped / Total] 0 / 86 / 10 / 96:  96%|█████████▌| 96/100 [03:48<00:09,  2.38s/it]\u001b[A"
          ]
        },
        {
          "output_type": "stream",
          "name": "stdout",
          "text": [
            "--------------------------------------------- Result 96 ---------------------------------------------\n",
            "[[Positive (99%)]] --> [[[FAILED]]]\n",
            "\n",
            "the closest thing to the experience of space travel\n",
            "\n",
            "\n"
          ]
        },
        {
          "output_type": "stream",
          "name": "stderr",
          "text": [
            "\n",
            "[Succeeded / Failed / Skipped / Total] 0 / 86 / 10 / 96:  97%|█████████▋| 97/100 [03:48<00:07,  2.36s/it]\u001b[A\n",
            "[Succeeded / Failed / Skipped / Total] 0 / 87 / 10 / 97:  97%|█████████▋| 97/100 [03:48<00:07,  2.36s/it]\u001b[A"
          ]
        },
        {
          "output_type": "stream",
          "name": "stdout",
          "text": [
            "--------------------------------------------- Result 97 ---------------------------------------------\n",
            "[[Positive (99%)]] --> [[[FAILED]]]\n",
            "\n",
            "full of surprises .\n",
            "\n",
            "\n"
          ]
        },
        {
          "output_type": "stream",
          "name": "stderr",
          "text": [
            "\n",
            "[Succeeded / Failed / Skipped / Total] 0 / 88 / 10 / 98:  98%|█████████▊| 98/100 [03:51<00:04,  2.36s/it]\u001b[A"
          ]
        },
        {
          "output_type": "stream",
          "name": "stdout",
          "text": [
            "--------------------------------------------- Result 98 ---------------------------------------------\n",
            "[[Positive (95%)]] --> [[[FAILED]]]\n",
            "\n",
            "connoisseurs of chinese film will be pleased to discover that tian's meticulous talent has not withered during his enforced hiatus .\n",
            "\n",
            "\n"
          ]
        },
        {
          "output_type": "stream",
          "name": "stderr",
          "text": [
            "\n",
            "[Succeeded / Failed / Skipped / Total] 0 / 88 / 10 / 98:  99%|█████████▉| 99/100 [03:53<00:02,  2.36s/it]\u001b[A\n",
            "[Succeeded / Failed / Skipped / Total] 0 / 89 / 10 / 99:  99%|█████████▉| 99/100 [03:53<00:02,  2.36s/it]\u001b[A"
          ]
        },
        {
          "output_type": "stream",
          "name": "stdout",
          "text": [
            "--------------------------------------------- Result 99 ---------------------------------------------\n",
            "[[Positive (99%)]] --> [[[FAILED]]]\n",
            "\n",
            "if you can push on through the slow spots , you'll be rewarded with some fine acting .\n",
            "\n",
            "\n"
          ]
        },
        {
          "output_type": "stream",
          "name": "stderr",
          "text": [
            "\n",
            "[Succeeded / Failed / Skipped / Total] 0 / 90 / 10 / 100: 100%|██████████| 100/100 [03:55<00:00,  2.36s/it]"
          ]
        },
        {
          "output_type": "stream",
          "name": "stdout",
          "text": [
            "--------------------------------------------- Result 100 ---------------------------------------------\n",
            "[[Positive (96%)]] --> [[[FAILED]]]\n",
            "\n",
            "an unusually dry-eyed , even analytical approach to material that is generally played for maximum moisture .\n",
            "\n",
            "\n",
            "\n",
            "+-------------------------------+--------+\n",
            "| Attack Results                |        |\n",
            "+-------------------------------+--------+\n",
            "| Number of successful attacks: | 0      |\n",
            "| Number of failed attacks:     | 90     |\n",
            "| Number of skipped attacks:    | 10     |\n",
            "| Original accuracy:            | 90.0%  |\n",
            "| Accuracy under attack:        | 90.0%  |\n",
            "| Attack success rate:          | 0.0%   |\n",
            "| Average perturbed word %:     | nan%   |\n",
            "| Average num. words per input: | 18.45  |\n",
            "| Avg num queries:              | 114.67 |\n",
            "+-------------------------------+--------+\n",
            "Starting attack for----------------- WordSwapHowNet IR\n"
          ]
        },
        {
          "output_type": "stream",
          "name": "stderr",
          "text": [
            "\n",
            "textattack: Unknown if model of class <class 'transformers.models.albert.modeling_albert.AlbertForSequenceClassification'> compatible with goal function <class 'textattack.goal_functions.classification.input_reduction.InputReduction'>.\n",
            "\n",
            "  0%|          | 0/100 [00:00<?, ?it/s]\u001b[A"
          ]
        },
        {
          "output_type": "stream",
          "name": "stdout",
          "text": [
            "Attack(\n",
            "  (search_method): GreedyWordSwapWIR(\n",
            "    (wir_method):  weighted-saliency\n",
            "  )\n",
            "  (goal_function):  InputReduction(\n",
            "    (maximizable):  False\n",
            "    (target_num_words):  1\n",
            "  )\n",
            "  (transformation):  WordSwapHowNet(\n",
            "    (max_candidates):  -1\n",
            "  )\n",
            "  (constraints): \n",
            "    (0): RepeatModification\n",
            "    (1): StopwordModification\n",
            "  (is_black_box):  True\n",
            ") \n",
            "\n"
          ]
        },
        {
          "output_type": "error",
          "ename": "KeyError",
          "evalue": "ignored",
          "traceback": [
            "\u001b[0;31m---------------------------------------------------------------------------\u001b[0m",
            "\u001b[0;31mKeyError\u001b[0m                                  Traceback (most recent call last)",
            "\u001b[0;32m<ipython-input-8-b89679f2d35f>\u001b[0m in \u001b[0;36m<module>\u001b[0;34m()\u001b[0m\n\u001b[1;32m     13\u001b[0m             \u001b[0mattack_args\u001b[0m \u001b[0;34m=\u001b[0m \u001b[0mAttackArgs\u001b[0m\u001b[0;34m(\u001b[0m\u001b[0mnum_examples\u001b[0m\u001b[0;34m=\u001b[0m\u001b[0;36m100\u001b[0m\u001b[0;34m,\u001b[0m\u001b[0;34m)\u001b[0m\u001b[0;34m\u001b[0m\u001b[0;34m\u001b[0m\u001b[0m\n\u001b[1;32m     14\u001b[0m             \u001b[0mattacker\u001b[0m \u001b[0;34m=\u001b[0m \u001b[0mAttacker\u001b[0m\u001b[0;34m(\u001b[0m\u001b[0mattack\u001b[0m\u001b[0;34m,\u001b[0m \u001b[0mdataset\u001b[0m\u001b[0;34m,\u001b[0m\u001b[0mattack_args\u001b[0m\u001b[0;34m)\u001b[0m\u001b[0;34m\u001b[0m\u001b[0;34m\u001b[0m\u001b[0m\n\u001b[0;32m---> 15\u001b[0;31m             \u001b[0mattack_results\u001b[0m \u001b[0;34m=\u001b[0m \u001b[0mattacker\u001b[0m\u001b[0;34m.\u001b[0m\u001b[0mattack_dataset\u001b[0m\u001b[0;34m(\u001b[0m\u001b[0;34m)\u001b[0m\u001b[0;34m\u001b[0m\u001b[0;34m\u001b[0m\u001b[0m\n\u001b[0m\u001b[1;32m     16\u001b[0m         \u001b[0;32mexcept\u001b[0m \u001b[0mValueError\u001b[0m\u001b[0;34m:\u001b[0m\u001b[0;34m\u001b[0m\u001b[0;34m\u001b[0m\u001b[0m\n\u001b[1;32m     17\u001b[0m             \u001b[0mprint\u001b[0m\u001b[0;34m(\u001b[0m\u001b[0;34m\"Not compatible\"\u001b[0m\u001b[0;34m)\u001b[0m\u001b[0;34m\u001b[0m\u001b[0;34m\u001b[0m\u001b[0m\n",
            "\u001b[0;32m/usr/local/lib/python3.7/dist-packages/textattack/attacker.py\u001b[0m in \u001b[0;36mattack_dataset\u001b[0;34m(self)\u001b[0m\n\u001b[1;32m    439\u001b[0m             \u001b[0mself\u001b[0m\u001b[0;34m.\u001b[0m\u001b[0m_attack_parallel\u001b[0m\u001b[0;34m(\u001b[0m\u001b[0;34m)\u001b[0m\u001b[0;34m\u001b[0m\u001b[0;34m\u001b[0m\u001b[0m\n\u001b[1;32m    440\u001b[0m         \u001b[0;32melse\u001b[0m\u001b[0;34m:\u001b[0m\u001b[0;34m\u001b[0m\u001b[0;34m\u001b[0m\u001b[0m\n\u001b[0;32m--> 441\u001b[0;31m             \u001b[0mself\u001b[0m\u001b[0;34m.\u001b[0m\u001b[0m_attack\u001b[0m\u001b[0;34m(\u001b[0m\u001b[0;34m)\u001b[0m\u001b[0;34m\u001b[0m\u001b[0;34m\u001b[0m\u001b[0m\n\u001b[0m\u001b[1;32m    442\u001b[0m \u001b[0;34m\u001b[0m\u001b[0m\n\u001b[1;32m    443\u001b[0m         \u001b[0;32mif\u001b[0m \u001b[0mself\u001b[0m\u001b[0;34m.\u001b[0m\u001b[0mattack_args\u001b[0m\u001b[0;34m.\u001b[0m\u001b[0msilent\u001b[0m\u001b[0;34m:\u001b[0m\u001b[0;34m\u001b[0m\u001b[0;34m\u001b[0m\u001b[0m\n",
            "\u001b[0;32m/usr/local/lib/python3.7/dist-packages/textattack/attacker.py\u001b[0m in \u001b[0;36m_attack\u001b[0;34m(self)\u001b[0m\n\u001b[1;32m    168\u001b[0m                 \u001b[0mresult\u001b[0m \u001b[0;34m=\u001b[0m \u001b[0mself\u001b[0m\u001b[0;34m.\u001b[0m\u001b[0mattack\u001b[0m\u001b[0;34m.\u001b[0m\u001b[0mattack\u001b[0m\u001b[0;34m(\u001b[0m\u001b[0mexample\u001b[0m\u001b[0;34m,\u001b[0m \u001b[0mground_truth_output\u001b[0m\u001b[0;34m)\u001b[0m\u001b[0;34m\u001b[0m\u001b[0;34m\u001b[0m\u001b[0m\n\u001b[1;32m    169\u001b[0m             \u001b[0;32mexcept\u001b[0m \u001b[0mException\u001b[0m \u001b[0;32mas\u001b[0m \u001b[0me\u001b[0m\u001b[0;34m:\u001b[0m\u001b[0;34m\u001b[0m\u001b[0;34m\u001b[0m\u001b[0m\n\u001b[0;32m--> 170\u001b[0;31m                 \u001b[0;32mraise\u001b[0m \u001b[0me\u001b[0m\u001b[0;34m\u001b[0m\u001b[0;34m\u001b[0m\u001b[0m\n\u001b[0m\u001b[1;32m    171\u001b[0m             if (\n\u001b[1;32m    172\u001b[0m                 \u001b[0misinstance\u001b[0m\u001b[0;34m(\u001b[0m\u001b[0mresult\u001b[0m\u001b[0;34m,\u001b[0m \u001b[0mSkippedAttackResult\u001b[0m\u001b[0;34m)\u001b[0m \u001b[0;32mand\u001b[0m \u001b[0mself\u001b[0m\u001b[0;34m.\u001b[0m\u001b[0mattack_args\u001b[0m\u001b[0;34m.\u001b[0m\u001b[0mattack_n\u001b[0m\u001b[0;34m\u001b[0m\u001b[0;34m\u001b[0m\u001b[0m\n",
            "\u001b[0;32m/usr/local/lib/python3.7/dist-packages/textattack/attacker.py\u001b[0m in \u001b[0;36m_attack\u001b[0;34m(self)\u001b[0m\n\u001b[1;32m    166\u001b[0m                 \u001b[0mexample\u001b[0m\u001b[0;34m.\u001b[0m\u001b[0mattack_attrs\u001b[0m\u001b[0;34m[\u001b[0m\u001b[0;34m\"label_names\"\u001b[0m\u001b[0;34m]\u001b[0m \u001b[0;34m=\u001b[0m \u001b[0mself\u001b[0m\u001b[0;34m.\u001b[0m\u001b[0mdataset\u001b[0m\u001b[0;34m.\u001b[0m\u001b[0mlabel_names\u001b[0m\u001b[0;34m\u001b[0m\u001b[0;34m\u001b[0m\u001b[0m\n\u001b[1;32m    167\u001b[0m             \u001b[0;32mtry\u001b[0m\u001b[0;34m:\u001b[0m\u001b[0;34m\u001b[0m\u001b[0;34m\u001b[0m\u001b[0m\n\u001b[0;32m--> 168\u001b[0;31m                 \u001b[0mresult\u001b[0m \u001b[0;34m=\u001b[0m \u001b[0mself\u001b[0m\u001b[0;34m.\u001b[0m\u001b[0mattack\u001b[0m\u001b[0;34m.\u001b[0m\u001b[0mattack\u001b[0m\u001b[0;34m(\u001b[0m\u001b[0mexample\u001b[0m\u001b[0;34m,\u001b[0m \u001b[0mground_truth_output\u001b[0m\u001b[0;34m)\u001b[0m\u001b[0;34m\u001b[0m\u001b[0;34m\u001b[0m\u001b[0m\n\u001b[0m\u001b[1;32m    169\u001b[0m             \u001b[0;32mexcept\u001b[0m \u001b[0mException\u001b[0m \u001b[0;32mas\u001b[0m \u001b[0me\u001b[0m\u001b[0;34m:\u001b[0m\u001b[0;34m\u001b[0m\u001b[0;34m\u001b[0m\u001b[0m\n\u001b[1;32m    170\u001b[0m                 \u001b[0;32mraise\u001b[0m \u001b[0me\u001b[0m\u001b[0;34m\u001b[0m\u001b[0;34m\u001b[0m\u001b[0m\n",
            "\u001b[0;32m/usr/local/lib/python3.7/dist-packages/textattack/attack.py\u001b[0m in \u001b[0;36mattack\u001b[0;34m(self, example, ground_truth_output)\u001b[0m\n\u001b[1;32m    420\u001b[0m             \u001b[0;32mreturn\u001b[0m \u001b[0mSkippedAttackResult\u001b[0m\u001b[0;34m(\u001b[0m\u001b[0mgoal_function_result\u001b[0m\u001b[0;34m)\u001b[0m\u001b[0;34m\u001b[0m\u001b[0;34m\u001b[0m\u001b[0m\n\u001b[1;32m    421\u001b[0m         \u001b[0;32melse\u001b[0m\u001b[0;34m:\u001b[0m\u001b[0;34m\u001b[0m\u001b[0;34m\u001b[0m\u001b[0m\n\u001b[0;32m--> 422\u001b[0;31m             \u001b[0mresult\u001b[0m \u001b[0;34m=\u001b[0m \u001b[0mself\u001b[0m\u001b[0;34m.\u001b[0m\u001b[0m_attack\u001b[0m\u001b[0;34m(\u001b[0m\u001b[0mgoal_function_result\u001b[0m\u001b[0;34m)\u001b[0m\u001b[0;34m\u001b[0m\u001b[0;34m\u001b[0m\u001b[0m\n\u001b[0m\u001b[1;32m    423\u001b[0m             \u001b[0;32mreturn\u001b[0m \u001b[0mresult\u001b[0m\u001b[0;34m\u001b[0m\u001b[0;34m\u001b[0m\u001b[0m\n\u001b[1;32m    424\u001b[0m \u001b[0;34m\u001b[0m\u001b[0m\n",
            "\u001b[0;32m/usr/local/lib/python3.7/dist-packages/textattack/attack.py\u001b[0m in \u001b[0;36m_attack\u001b[0;34m(self, initial_result)\u001b[0m\n\u001b[1;32m    369\u001b[0m                 \u001b[0;32mor\u001b[0m\u001b[0;31m \u001b[0m\u001b[0;31m`\u001b[0m\u001b[0;31m`\u001b[0m\u001b[0mMaximizedAttackResult\u001b[0m\u001b[0;31m`\u001b[0m\u001b[0;31m`\u001b[0m\u001b[0;34m.\u001b[0m\u001b[0;34m\u001b[0m\u001b[0;34m\u001b[0m\u001b[0m\n\u001b[1;32m    370\u001b[0m         \"\"\"\n\u001b[0;32m--> 371\u001b[0;31m         \u001b[0mfinal_result\u001b[0m \u001b[0;34m=\u001b[0m \u001b[0mself\u001b[0m\u001b[0;34m.\u001b[0m\u001b[0msearch_method\u001b[0m\u001b[0;34m(\u001b[0m\u001b[0minitial_result\u001b[0m\u001b[0;34m)\u001b[0m\u001b[0;34m\u001b[0m\u001b[0;34m\u001b[0m\u001b[0m\n\u001b[0m\u001b[1;32m    372\u001b[0m         \u001b[0mself\u001b[0m\u001b[0;34m.\u001b[0m\u001b[0mclear_cache\u001b[0m\u001b[0;34m(\u001b[0m\u001b[0;34m)\u001b[0m\u001b[0;34m\u001b[0m\u001b[0;34m\u001b[0m\u001b[0m\n\u001b[1;32m    373\u001b[0m         \u001b[0;32mif\u001b[0m \u001b[0mfinal_result\u001b[0m\u001b[0;34m.\u001b[0m\u001b[0mgoal_status\u001b[0m \u001b[0;34m==\u001b[0m \u001b[0mGoalFunctionResultStatus\u001b[0m\u001b[0;34m.\u001b[0m\u001b[0mSUCCEEDED\u001b[0m\u001b[0;34m:\u001b[0m\u001b[0;34m\u001b[0m\u001b[0;34m\u001b[0m\u001b[0m\n",
            "\u001b[0;32m/usr/local/lib/python3.7/dist-packages/textattack/search_methods/search_method.py\u001b[0m in \u001b[0;36m__call__\u001b[0;34m(self, initial_result)\u001b[0m\n\u001b[1;32m     34\u001b[0m             )\n\u001b[1;32m     35\u001b[0m \u001b[0;34m\u001b[0m\u001b[0m\n\u001b[0;32m---> 36\u001b[0;31m         \u001b[0mresult\u001b[0m \u001b[0;34m=\u001b[0m \u001b[0mself\u001b[0m\u001b[0;34m.\u001b[0m\u001b[0mperform_search\u001b[0m\u001b[0;34m(\u001b[0m\u001b[0minitial_result\u001b[0m\u001b[0;34m)\u001b[0m\u001b[0;34m\u001b[0m\u001b[0;34m\u001b[0m\u001b[0m\n\u001b[0m\u001b[1;32m     37\u001b[0m         \u001b[0;31m# ensure that the number of queries for this GoalFunctionResult is up-to-date\u001b[0m\u001b[0;34m\u001b[0m\u001b[0;34m\u001b[0m\u001b[0;34m\u001b[0m\u001b[0m\n\u001b[1;32m     38\u001b[0m         \u001b[0mresult\u001b[0m\u001b[0;34m.\u001b[0m\u001b[0mnum_queries\u001b[0m \u001b[0;34m=\u001b[0m \u001b[0mself\u001b[0m\u001b[0;34m.\u001b[0m\u001b[0mgoal_function\u001b[0m\u001b[0;34m.\u001b[0m\u001b[0mnum_queries\u001b[0m\u001b[0;34m\u001b[0m\u001b[0;34m\u001b[0m\u001b[0m\n",
            "\u001b[0;32m/usr/local/lib/python3.7/dist-packages/textattack/search_methods/greedy_word_swap_wir.py\u001b[0m in \u001b[0;36mperform_search\u001b[0;34m(self, initial_result)\u001b[0m\n\u001b[1;32m    120\u001b[0m \u001b[0;34m\u001b[0m\u001b[0m\n\u001b[1;32m    121\u001b[0m         \u001b[0;31m# Sort words by order of importance\u001b[0m\u001b[0;34m\u001b[0m\u001b[0;34m\u001b[0m\u001b[0;34m\u001b[0m\u001b[0m\n\u001b[0;32m--> 122\u001b[0;31m         \u001b[0mindex_order\u001b[0m\u001b[0;34m,\u001b[0m \u001b[0msearch_over\u001b[0m \u001b[0;34m=\u001b[0m \u001b[0mself\u001b[0m\u001b[0;34m.\u001b[0m\u001b[0m_get_index_order\u001b[0m\u001b[0;34m(\u001b[0m\u001b[0mattacked_text\u001b[0m\u001b[0;34m)\u001b[0m\u001b[0;34m\u001b[0m\u001b[0;34m\u001b[0m\u001b[0m\n\u001b[0m\u001b[1;32m    123\u001b[0m \u001b[0;34m\u001b[0m\u001b[0m\n\u001b[1;32m    124\u001b[0m         \u001b[0mi\u001b[0m \u001b[0;34m=\u001b[0m \u001b[0;36m0\u001b[0m\u001b[0;34m\u001b[0m\u001b[0;34m\u001b[0m\u001b[0m\n",
            "\u001b[0;32m/usr/local/lib/python3.7/dist-packages/textattack/search_methods/greedy_word_swap_wir.py\u001b[0m in \u001b[0;36m_get_index_order\u001b[0;34m(self, initial_text)\u001b[0m\n\u001b[1;32m     65\u001b[0m                     \u001b[0minitial_text\u001b[0m\u001b[0;34m,\u001b[0m\u001b[0;34m\u001b[0m\u001b[0;34m\u001b[0m\u001b[0m\n\u001b[1;32m     66\u001b[0m                     \u001b[0moriginal_text\u001b[0m\u001b[0;34m=\u001b[0m\u001b[0minitial_text\u001b[0m\u001b[0;34m,\u001b[0m\u001b[0;34m\u001b[0m\u001b[0;34m\u001b[0m\u001b[0m\n\u001b[0;32m---> 67\u001b[0;31m                     \u001b[0mindices_to_modify\u001b[0m\u001b[0;34m=\u001b[0m\u001b[0;34m[\u001b[0m\u001b[0midx\u001b[0m\u001b[0;34m]\u001b[0m\u001b[0;34m,\u001b[0m\u001b[0;34m\u001b[0m\u001b[0;34m\u001b[0m\u001b[0m\n\u001b[0m\u001b[1;32m     68\u001b[0m                 )\n\u001b[1;32m     69\u001b[0m                 \u001b[0;32mif\u001b[0m \u001b[0;32mnot\u001b[0m \u001b[0mtransformed_text_candidates\u001b[0m\u001b[0;34m:\u001b[0m\u001b[0;34m\u001b[0m\u001b[0;34m\u001b[0m\u001b[0m\n",
            "\u001b[0;32m/usr/local/lib/python3.7/dist-packages/textattack/attack.py\u001b[0m in \u001b[0;36mget_transformations\u001b[0;34m(self, current_text, original_text, **kwargs)\u001b[0m\n\u001b[1;32m    277\u001b[0m             \u001b[0;32melse\u001b[0m\u001b[0;34m:\u001b[0m\u001b[0;34m\u001b[0m\u001b[0;34m\u001b[0m\u001b[0m\n\u001b[1;32m    278\u001b[0m                 transformed_texts = self._get_transformations_uncached(\n\u001b[0;32m--> 279\u001b[0;31m                     \u001b[0mcurrent_text\u001b[0m\u001b[0;34m,\u001b[0m \u001b[0moriginal_text\u001b[0m\u001b[0;34m,\u001b[0m \u001b[0;34m**\u001b[0m\u001b[0mkwargs\u001b[0m\u001b[0;34m\u001b[0m\u001b[0;34m\u001b[0m\u001b[0m\n\u001b[0m\u001b[1;32m    280\u001b[0m                 )\n\u001b[1;32m    281\u001b[0m                 \u001b[0;32mif\u001b[0m \u001b[0mutils\u001b[0m\u001b[0;34m.\u001b[0m\u001b[0mhashable\u001b[0m\u001b[0;34m(\u001b[0m\u001b[0mcache_key\u001b[0m\u001b[0;34m)\u001b[0m\u001b[0;34m:\u001b[0m\u001b[0;34m\u001b[0m\u001b[0;34m\u001b[0m\u001b[0m\n",
            "\u001b[0;32m/usr/local/lib/python3.7/dist-packages/textattack/attack.py\u001b[0m in \u001b[0;36m_get_transformations_uncached\u001b[0;34m(self, current_text, original_text, **kwargs)\u001b[0m\n\u001b[1;32m    247\u001b[0m             \u001b[0mcurrent_text\u001b[0m\u001b[0;34m,\u001b[0m\u001b[0;34m\u001b[0m\u001b[0;34m\u001b[0m\u001b[0m\n\u001b[1;32m    248\u001b[0m             \u001b[0mpre_transformation_constraints\u001b[0m\u001b[0;34m=\u001b[0m\u001b[0mself\u001b[0m\u001b[0;34m.\u001b[0m\u001b[0mpre_transformation_constraints\u001b[0m\u001b[0;34m,\u001b[0m\u001b[0;34m\u001b[0m\u001b[0;34m\u001b[0m\u001b[0m\n\u001b[0;32m--> 249\u001b[0;31m             \u001b[0;34m**\u001b[0m\u001b[0mkwargs\u001b[0m\u001b[0;34m,\u001b[0m\u001b[0;34m\u001b[0m\u001b[0;34m\u001b[0m\u001b[0m\n\u001b[0m\u001b[1;32m    250\u001b[0m         )\n\u001b[1;32m    251\u001b[0m \u001b[0;34m\u001b[0m\u001b[0m\n",
            "\u001b[0;32m/usr/local/lib/python3.7/dist-packages/textattack/transformations/transformation.py\u001b[0m in \u001b[0;36m__call__\u001b[0;34m(self, current_text, pre_transformation_constraints, indices_to_modify, shifted_idxs)\u001b[0m\n\u001b[1;32m     48\u001b[0m         \u001b[0;32mfor\u001b[0m \u001b[0mconstraint\u001b[0m \u001b[0;32min\u001b[0m \u001b[0mpre_transformation_constraints\u001b[0m\u001b[0;34m:\u001b[0m\u001b[0;34m\u001b[0m\u001b[0;34m\u001b[0m\u001b[0m\n\u001b[1;32m     49\u001b[0m             \u001b[0mindices_to_modify\u001b[0m \u001b[0;34m=\u001b[0m \u001b[0mindices_to_modify\u001b[0m \u001b[0;34m&\u001b[0m \u001b[0mconstraint\u001b[0m\u001b[0;34m(\u001b[0m\u001b[0mcurrent_text\u001b[0m\u001b[0;34m,\u001b[0m \u001b[0mself\u001b[0m\u001b[0;34m)\u001b[0m\u001b[0;34m\u001b[0m\u001b[0;34m\u001b[0m\u001b[0m\n\u001b[0;32m---> 50\u001b[0;31m         \u001b[0mtransformed_texts\u001b[0m \u001b[0;34m=\u001b[0m \u001b[0mself\u001b[0m\u001b[0;34m.\u001b[0m\u001b[0m_get_transformations\u001b[0m\u001b[0;34m(\u001b[0m\u001b[0mcurrent_text\u001b[0m\u001b[0;34m,\u001b[0m \u001b[0mindices_to_modify\u001b[0m\u001b[0;34m)\u001b[0m\u001b[0;34m\u001b[0m\u001b[0;34m\u001b[0m\u001b[0m\n\u001b[0m\u001b[1;32m     51\u001b[0m         \u001b[0;32mfor\u001b[0m \u001b[0mtext\u001b[0m \u001b[0;32min\u001b[0m \u001b[0mtransformed_texts\u001b[0m\u001b[0;34m:\u001b[0m\u001b[0;34m\u001b[0m\u001b[0;34m\u001b[0m\u001b[0m\n\u001b[1;32m     52\u001b[0m             \u001b[0mtext\u001b[0m\u001b[0;34m.\u001b[0m\u001b[0mattack_attrs\u001b[0m\u001b[0;34m[\u001b[0m\u001b[0;34m\"last_transformation\"\u001b[0m\u001b[0;34m]\u001b[0m \u001b[0;34m=\u001b[0m \u001b[0mself\u001b[0m\u001b[0;34m\u001b[0m\u001b[0;34m\u001b[0m\u001b[0m\n",
            "\u001b[0;32m/usr/local/lib/python3.7/dist-packages/textattack/transformations/word_swaps/word_swap_hownet.py\u001b[0m in \u001b[0;36m_get_transformations\u001b[0;34m(self, current_text, indices_to_modify)\u001b[0m\n\u001b[1;32m     59\u001b[0m         \u001b[0;32mfor\u001b[0m \u001b[0mi\u001b[0m \u001b[0;32min\u001b[0m \u001b[0mindices_to_modify\u001b[0m\u001b[0;34m:\u001b[0m\u001b[0;34m\u001b[0m\u001b[0;34m\u001b[0m\u001b[0m\n\u001b[1;32m     60\u001b[0m             \u001b[0mword_to_replace\u001b[0m \u001b[0;34m=\u001b[0m \u001b[0mcurrent_text\u001b[0m\u001b[0;34m.\u001b[0m\u001b[0mwords\u001b[0m\u001b[0;34m[\u001b[0m\u001b[0mi\u001b[0m\u001b[0;34m]\u001b[0m\u001b[0;34m\u001b[0m\u001b[0;34m\u001b[0m\u001b[0m\n\u001b[0;32m---> 61\u001b[0;31m             \u001b[0mword_to_replace_pos\u001b[0m \u001b[0;34m=\u001b[0m \u001b[0mcurrent_text\u001b[0m\u001b[0;34m.\u001b[0m\u001b[0mpos_of_word_index\u001b[0m\u001b[0;34m(\u001b[0m\u001b[0mi\u001b[0m\u001b[0;34m)\u001b[0m\u001b[0;34m\u001b[0m\u001b[0;34m\u001b[0m\u001b[0m\n\u001b[0m\u001b[1;32m     62\u001b[0m             replacement_words = self._get_replacement_words(\n\u001b[1;32m     63\u001b[0m                 \u001b[0mword_to_replace\u001b[0m\u001b[0;34m,\u001b[0m \u001b[0mword_to_replace_pos\u001b[0m\u001b[0;34m\u001b[0m\u001b[0;34m\u001b[0m\u001b[0m\n",
            "\u001b[0;32m/usr/local/lib/python3.7/dist-packages/textattack/shared/attacked_text.py\u001b[0m in \u001b[0;36mpos_of_word_index\u001b[0;34m(self, desired_word_idx)\u001b[0m\n\u001b[1;32m    144\u001b[0m             \u001b[0mself\u001b[0m\u001b[0;34m.\u001b[0m\u001b[0m_pos_tags\u001b[0m \u001b[0;34m=\u001b[0m \u001b[0msentence\u001b[0m\u001b[0;34m\u001b[0m\u001b[0;34m\u001b[0m\u001b[0m\n\u001b[1;32m    145\u001b[0m         flair_word_list, flair_pos_list = textattack.shared.utils.zip_flair_result(\n\u001b[0;32m--> 146\u001b[0;31m             \u001b[0mself\u001b[0m\u001b[0;34m.\u001b[0m\u001b[0m_pos_tags\u001b[0m\u001b[0;34m\u001b[0m\u001b[0;34m\u001b[0m\u001b[0m\n\u001b[0m\u001b[1;32m    147\u001b[0m         )\n\u001b[1;32m    148\u001b[0m \u001b[0;34m\u001b[0m\u001b[0m\n",
            "\u001b[0;32m/usr/local/lib/python3.7/dist-packages/textattack/shared/utils/strings.py\u001b[0m in \u001b[0;36mzip_flair_result\u001b[0;34m(pred, tag_type)\u001b[0m\n\u001b[1;32m    243\u001b[0m         \u001b[0mword_list\u001b[0m\u001b[0;34m.\u001b[0m\u001b[0mappend\u001b[0m\u001b[0;34m(\u001b[0m\u001b[0mtoken\u001b[0m\u001b[0;34m.\u001b[0m\u001b[0mtext\u001b[0m\u001b[0;34m)\u001b[0m\u001b[0;34m\u001b[0m\u001b[0;34m\u001b[0m\u001b[0m\n\u001b[1;32m    244\u001b[0m         \u001b[0;32mif\u001b[0m \u001b[0;34m\"pos\"\u001b[0m \u001b[0;32min\u001b[0m \u001b[0mtag_type\u001b[0m\u001b[0;34m:\u001b[0m\u001b[0;34m\u001b[0m\u001b[0;34m\u001b[0m\u001b[0m\n\u001b[0;32m--> 245\u001b[0;31m             \u001b[0mpos_list\u001b[0m\u001b[0;34m.\u001b[0m\u001b[0mappend\u001b[0m\u001b[0;34m(\u001b[0m\u001b[0mtoken\u001b[0m\u001b[0;34m.\u001b[0m\u001b[0mannotation_layers\u001b[0m\u001b[0;34m[\u001b[0m\u001b[0;34m\"pos\"\u001b[0m\u001b[0;34m]\u001b[0m\u001b[0;34m[\u001b[0m\u001b[0;36m0\u001b[0m\u001b[0;34m]\u001b[0m\u001b[0;34m.\u001b[0m\u001b[0m_value\u001b[0m\u001b[0;34m)\u001b[0m\u001b[0;34m\u001b[0m\u001b[0;34m\u001b[0m\u001b[0m\n\u001b[0m\u001b[1;32m    246\u001b[0m         \u001b[0;32melif\u001b[0m \u001b[0mtag_type\u001b[0m \u001b[0;34m==\u001b[0m \u001b[0;34m\"ner\"\u001b[0m\u001b[0;34m:\u001b[0m\u001b[0;34m\u001b[0m\u001b[0;34m\u001b[0m\u001b[0m\n\u001b[1;32m    247\u001b[0m             \u001b[0mpos_list\u001b[0m\u001b[0;34m.\u001b[0m\u001b[0mappend\u001b[0m\u001b[0;34m(\u001b[0m\u001b[0mtoken\u001b[0m\u001b[0;34m.\u001b[0m\u001b[0mget_tag\u001b[0m\u001b[0;34m(\u001b[0m\u001b[0;34m\"ner\"\u001b[0m\u001b[0;34m)\u001b[0m\u001b[0;34m)\u001b[0m\u001b[0;34m\u001b[0m\u001b[0;34m\u001b[0m\u001b[0m\n",
            "\u001b[0;31mKeyError\u001b[0m: 'pos'"
          ]
        }
      ]
    }
  ],
  "metadata": {
    "accelerator": "GPU",
    "colab": {
      "collapsed_sections": [],
      "machine_shape": "hm",
      "name": "Albert_Goal_TransformationList_GreedyWord_Custom Recipe.ipynb",
      "provenance": [],
      "authorship_tag": "ABX9TyNRt7+QAPASeNTVpmwVtG1F",
      "include_colab_link": true
    },
    "kernelspec": {
      "display_name": "Python 3",
      "name": "python3"
    },
    "language_info": {
      "name": "python"
    },
    "widgets": {
      "application/vnd.jupyter.widget-state+json": {
        "934bd177a13e4529828def5bcce4fe2b": {
          "model_module": "@jupyter-widgets/controls",
          "model_name": "HBoxModel",
          "model_module_version": "1.5.0",
          "state": {
            "_view_name": "HBoxView",
            "_dom_classes": [],
            "_model_name": "HBoxModel",
            "_view_module": "@jupyter-widgets/controls",
            "_model_module_version": "1.5.0",
            "_view_count": null,
            "_view_module_version": "1.5.0",
            "box_style": "",
            "layout": "IPY_MODEL_3653954bf0de4fab97128f76bc526daf",
            "_model_module": "@jupyter-widgets/controls",
            "children": [
              "IPY_MODEL_6e80764aa22e45fdb47b8364e5c775cf",
              "IPY_MODEL_d62778fe0d6745469fe7afb74f0c537f"
            ]
          }
        },
        "3653954bf0de4fab97128f76bc526daf": {
          "model_module": "@jupyter-widgets/base",
          "model_name": "LayoutModel",
          "model_module_version": "1.2.0",
          "state": {
            "_view_name": "LayoutView",
            "grid_template_rows": null,
            "right": null,
            "justify_content": null,
            "_view_module": "@jupyter-widgets/base",
            "overflow": null,
            "_model_module_version": "1.2.0",
            "_view_count": null,
            "flex_flow": null,
            "width": null,
            "min_width": null,
            "border": null,
            "align_items": null,
            "bottom": null,
            "_model_module": "@jupyter-widgets/base",
            "top": null,
            "grid_column": null,
            "overflow_y": null,
            "overflow_x": null,
            "grid_auto_flow": null,
            "grid_area": null,
            "grid_template_columns": null,
            "flex": null,
            "_model_name": "LayoutModel",
            "justify_items": null,
            "grid_row": null,
            "max_height": null,
            "align_content": null,
            "visibility": null,
            "align_self": null,
            "height": null,
            "min_height": null,
            "padding": null,
            "grid_auto_rows": null,
            "grid_gap": null,
            "max_width": null,
            "order": null,
            "_view_module_version": "1.2.0",
            "grid_template_areas": null,
            "object_position": null,
            "object_fit": null,
            "grid_auto_columns": null,
            "margin": null,
            "display": null,
            "left": null
          }
        },
        "6e80764aa22e45fdb47b8364e5c775cf": {
          "model_module": "@jupyter-widgets/controls",
          "model_name": "FloatProgressModel",
          "model_module_version": "1.5.0",
          "state": {
            "_view_name": "ProgressView",
            "style": "IPY_MODEL_2cd6dc64f9214a36b764f745f3ede831",
            "_dom_classes": [],
            "description": "Downloading: 100%",
            "_model_name": "FloatProgressModel",
            "bar_style": "success",
            "max": 727,
            "_view_module": "@jupyter-widgets/controls",
            "_model_module_version": "1.5.0",
            "value": 727,
            "_view_count": null,
            "_view_module_version": "1.5.0",
            "orientation": "horizontal",
            "min": 0,
            "description_tooltip": null,
            "_model_module": "@jupyter-widgets/controls",
            "layout": "IPY_MODEL_6b3e5fd7e28844ebb7af17347ac49ae1"
          }
        },
        "d62778fe0d6745469fe7afb74f0c537f": {
          "model_module": "@jupyter-widgets/controls",
          "model_name": "HTMLModel",
          "model_module_version": "1.5.0",
          "state": {
            "_view_name": "HTMLView",
            "style": "IPY_MODEL_4832592a04c34cc9be457981d0e46b41",
            "_dom_classes": [],
            "description": "",
            "_model_name": "HTMLModel",
            "placeholder": "​",
            "_view_module": "@jupyter-widgets/controls",
            "_model_module_version": "1.5.0",
            "value": " 727/727 [00:02&lt;00:00, 288B/s]",
            "_view_count": null,
            "_view_module_version": "1.5.0",
            "description_tooltip": null,
            "_model_module": "@jupyter-widgets/controls",
            "layout": "IPY_MODEL_7de3bd3677f24ea38d591bea92416b34"
          }
        },
        "2cd6dc64f9214a36b764f745f3ede831": {
          "model_module": "@jupyter-widgets/controls",
          "model_name": "ProgressStyleModel",
          "model_module_version": "1.5.0",
          "state": {
            "_view_name": "StyleView",
            "_model_name": "ProgressStyleModel",
            "description_width": "initial",
            "_view_module": "@jupyter-widgets/base",
            "_model_module_version": "1.5.0",
            "_view_count": null,
            "_view_module_version": "1.2.0",
            "bar_color": null,
            "_model_module": "@jupyter-widgets/controls"
          }
        },
        "6b3e5fd7e28844ebb7af17347ac49ae1": {
          "model_module": "@jupyter-widgets/base",
          "model_name": "LayoutModel",
          "model_module_version": "1.2.0",
          "state": {
            "_view_name": "LayoutView",
            "grid_template_rows": null,
            "right": null,
            "justify_content": null,
            "_view_module": "@jupyter-widgets/base",
            "overflow": null,
            "_model_module_version": "1.2.0",
            "_view_count": null,
            "flex_flow": null,
            "width": null,
            "min_width": null,
            "border": null,
            "align_items": null,
            "bottom": null,
            "_model_module": "@jupyter-widgets/base",
            "top": null,
            "grid_column": null,
            "overflow_y": null,
            "overflow_x": null,
            "grid_auto_flow": null,
            "grid_area": null,
            "grid_template_columns": null,
            "flex": null,
            "_model_name": "LayoutModel",
            "justify_items": null,
            "grid_row": null,
            "max_height": null,
            "align_content": null,
            "visibility": null,
            "align_self": null,
            "height": null,
            "min_height": null,
            "padding": null,
            "grid_auto_rows": null,
            "grid_gap": null,
            "max_width": null,
            "order": null,
            "_view_module_version": "1.2.0",
            "grid_template_areas": null,
            "object_position": null,
            "object_fit": null,
            "grid_auto_columns": null,
            "margin": null,
            "display": null,
            "left": null
          }
        },
        "4832592a04c34cc9be457981d0e46b41": {
          "model_module": "@jupyter-widgets/controls",
          "model_name": "DescriptionStyleModel",
          "model_module_version": "1.5.0",
          "state": {
            "_view_name": "StyleView",
            "_model_name": "DescriptionStyleModel",
            "description_width": "",
            "_view_module": "@jupyter-widgets/base",
            "_model_module_version": "1.5.0",
            "_view_count": null,
            "_view_module_version": "1.2.0",
            "_model_module": "@jupyter-widgets/controls"
          }
        },
        "7de3bd3677f24ea38d591bea92416b34": {
          "model_module": "@jupyter-widgets/base",
          "model_name": "LayoutModel",
          "model_module_version": "1.2.0",
          "state": {
            "_view_name": "LayoutView",
            "grid_template_rows": null,
            "right": null,
            "justify_content": null,
            "_view_module": "@jupyter-widgets/base",
            "overflow": null,
            "_model_module_version": "1.2.0",
            "_view_count": null,
            "flex_flow": null,
            "width": null,
            "min_width": null,
            "border": null,
            "align_items": null,
            "bottom": null,
            "_model_module": "@jupyter-widgets/base",
            "top": null,
            "grid_column": null,
            "overflow_y": null,
            "overflow_x": null,
            "grid_auto_flow": null,
            "grid_area": null,
            "grid_template_columns": null,
            "flex": null,
            "_model_name": "LayoutModel",
            "justify_items": null,
            "grid_row": null,
            "max_height": null,
            "align_content": null,
            "visibility": null,
            "align_self": null,
            "height": null,
            "min_height": null,
            "padding": null,
            "grid_auto_rows": null,
            "grid_gap": null,
            "max_width": null,
            "order": null,
            "_view_module_version": "1.2.0",
            "grid_template_areas": null,
            "object_position": null,
            "object_fit": null,
            "grid_auto_columns": null,
            "margin": null,
            "display": null,
            "left": null
          }
        },
        "ad978be2e6a8463386d026ace433124e": {
          "model_module": "@jupyter-widgets/controls",
          "model_name": "HBoxModel",
          "model_module_version": "1.5.0",
          "state": {
            "_view_name": "HBoxView",
            "_dom_classes": [],
            "_model_name": "HBoxModel",
            "_view_module": "@jupyter-widgets/controls",
            "_model_module_version": "1.5.0",
            "_view_count": null,
            "_view_module_version": "1.5.0",
            "box_style": "",
            "layout": "IPY_MODEL_1980804a6562437291c1e4663a10470c",
            "_model_module": "@jupyter-widgets/controls",
            "children": [
              "IPY_MODEL_46410bcfc58040ab9dca6cdfd23440bb",
              "IPY_MODEL_36971ca6bc074f5c87bb2cd80d8c3788"
            ]
          }
        },
        "1980804a6562437291c1e4663a10470c": {
          "model_module": "@jupyter-widgets/base",
          "model_name": "LayoutModel",
          "model_module_version": "1.2.0",
          "state": {
            "_view_name": "LayoutView",
            "grid_template_rows": null,
            "right": null,
            "justify_content": null,
            "_view_module": "@jupyter-widgets/base",
            "overflow": null,
            "_model_module_version": "1.2.0",
            "_view_count": null,
            "flex_flow": null,
            "width": null,
            "min_width": null,
            "border": null,
            "align_items": null,
            "bottom": null,
            "_model_module": "@jupyter-widgets/base",
            "top": null,
            "grid_column": null,
            "overflow_y": null,
            "overflow_x": null,
            "grid_auto_flow": null,
            "grid_area": null,
            "grid_template_columns": null,
            "flex": null,
            "_model_name": "LayoutModel",
            "justify_items": null,
            "grid_row": null,
            "max_height": null,
            "align_content": null,
            "visibility": null,
            "align_self": null,
            "height": null,
            "min_height": null,
            "padding": null,
            "grid_auto_rows": null,
            "grid_gap": null,
            "max_width": null,
            "order": null,
            "_view_module_version": "1.2.0",
            "grid_template_areas": null,
            "object_position": null,
            "object_fit": null,
            "grid_auto_columns": null,
            "margin": null,
            "display": null,
            "left": null
          }
        },
        "46410bcfc58040ab9dca6cdfd23440bb": {
          "model_module": "@jupyter-widgets/controls",
          "model_name": "FloatProgressModel",
          "model_module_version": "1.5.0",
          "state": {
            "_view_name": "ProgressView",
            "style": "IPY_MODEL_c1bef7d45e9446769747b4861008a683",
            "_dom_classes": [],
            "description": "Downloading: 100%",
            "_model_name": "FloatProgressModel",
            "bar_style": "success",
            "max": 46747112,
            "_view_module": "@jupyter-widgets/controls",
            "_model_module_version": "1.5.0",
            "value": 46747112,
            "_view_count": null,
            "_view_module_version": "1.5.0",
            "orientation": "horizontal",
            "min": 0,
            "description_tooltip": null,
            "_model_module": "@jupyter-widgets/controls",
            "layout": "IPY_MODEL_7fbb04e7c8c842a4b4877037b89c8a23"
          }
        },
        "36971ca6bc074f5c87bb2cd80d8c3788": {
          "model_module": "@jupyter-widgets/controls",
          "model_name": "HTMLModel",
          "model_module_version": "1.5.0",
          "state": {
            "_view_name": "HTMLView",
            "style": "IPY_MODEL_f43164733d0b47f990175ae419b3ec9a",
            "_dom_classes": [],
            "description": "",
            "_model_name": "HTMLModel",
            "placeholder": "​",
            "_view_module": "@jupyter-widgets/controls",
            "_model_module_version": "1.5.0",
            "value": " 44.6M/44.6M [00:01&lt;00:00, 24.7MB/s]",
            "_view_count": null,
            "_view_module_version": "1.5.0",
            "description_tooltip": null,
            "_model_module": "@jupyter-widgets/controls",
            "layout": "IPY_MODEL_bc43ec30a19b426fb785eff27d40a09b"
          }
        },
        "c1bef7d45e9446769747b4861008a683": {
          "model_module": "@jupyter-widgets/controls",
          "model_name": "ProgressStyleModel",
          "model_module_version": "1.5.0",
          "state": {
            "_view_name": "StyleView",
            "_model_name": "ProgressStyleModel",
            "description_width": "initial",
            "_view_module": "@jupyter-widgets/base",
            "_model_module_version": "1.5.0",
            "_view_count": null,
            "_view_module_version": "1.2.0",
            "bar_color": null,
            "_model_module": "@jupyter-widgets/controls"
          }
        },
        "7fbb04e7c8c842a4b4877037b89c8a23": {
          "model_module": "@jupyter-widgets/base",
          "model_name": "LayoutModel",
          "model_module_version": "1.2.0",
          "state": {
            "_view_name": "LayoutView",
            "grid_template_rows": null,
            "right": null,
            "justify_content": null,
            "_view_module": "@jupyter-widgets/base",
            "overflow": null,
            "_model_module_version": "1.2.0",
            "_view_count": null,
            "flex_flow": null,
            "width": null,
            "min_width": null,
            "border": null,
            "align_items": null,
            "bottom": null,
            "_model_module": "@jupyter-widgets/base",
            "top": null,
            "grid_column": null,
            "overflow_y": null,
            "overflow_x": null,
            "grid_auto_flow": null,
            "grid_area": null,
            "grid_template_columns": null,
            "flex": null,
            "_model_name": "LayoutModel",
            "justify_items": null,
            "grid_row": null,
            "max_height": null,
            "align_content": null,
            "visibility": null,
            "align_self": null,
            "height": null,
            "min_height": null,
            "padding": null,
            "grid_auto_rows": null,
            "grid_gap": null,
            "max_width": null,
            "order": null,
            "_view_module_version": "1.2.0",
            "grid_template_areas": null,
            "object_position": null,
            "object_fit": null,
            "grid_auto_columns": null,
            "margin": null,
            "display": null,
            "left": null
          }
        },
        "f43164733d0b47f990175ae419b3ec9a": {
          "model_module": "@jupyter-widgets/controls",
          "model_name": "DescriptionStyleModel",
          "model_module_version": "1.5.0",
          "state": {
            "_view_name": "StyleView",
            "_model_name": "DescriptionStyleModel",
            "description_width": "",
            "_view_module": "@jupyter-widgets/base",
            "_model_module_version": "1.5.0",
            "_view_count": null,
            "_view_module_version": "1.2.0",
            "_model_module": "@jupyter-widgets/controls"
          }
        },
        "bc43ec30a19b426fb785eff27d40a09b": {
          "model_module": "@jupyter-widgets/base",
          "model_name": "LayoutModel",
          "model_module_version": "1.2.0",
          "state": {
            "_view_name": "LayoutView",
            "grid_template_rows": null,
            "right": null,
            "justify_content": null,
            "_view_module": "@jupyter-widgets/base",
            "overflow": null,
            "_model_module_version": "1.2.0",
            "_view_count": null,
            "flex_flow": null,
            "width": null,
            "min_width": null,
            "border": null,
            "align_items": null,
            "bottom": null,
            "_model_module": "@jupyter-widgets/base",
            "top": null,
            "grid_column": null,
            "overflow_y": null,
            "overflow_x": null,
            "grid_auto_flow": null,
            "grid_area": null,
            "grid_template_columns": null,
            "flex": null,
            "_model_name": "LayoutModel",
            "justify_items": null,
            "grid_row": null,
            "max_height": null,
            "align_content": null,
            "visibility": null,
            "align_self": null,
            "height": null,
            "min_height": null,
            "padding": null,
            "grid_auto_rows": null,
            "grid_gap": null,
            "max_width": null,
            "order": null,
            "_view_module_version": "1.2.0",
            "grid_template_areas": null,
            "object_position": null,
            "object_fit": null,
            "grid_auto_columns": null,
            "margin": null,
            "display": null,
            "left": null
          }
        },
        "4ec15b14766c46b389ead550f5314939": {
          "model_module": "@jupyter-widgets/controls",
          "model_name": "HBoxModel",
          "model_module_version": "1.5.0",
          "state": {
            "_view_name": "HBoxView",
            "_dom_classes": [],
            "_model_name": "HBoxModel",
            "_view_module": "@jupyter-widgets/controls",
            "_model_module_version": "1.5.0",
            "_view_count": null,
            "_view_module_version": "1.5.0",
            "box_style": "",
            "layout": "IPY_MODEL_3dcd3c0951314ca4ae728cfbe0d5fb04",
            "_model_module": "@jupyter-widgets/controls",
            "children": [
              "IPY_MODEL_be5fe53bf93e4c5b9c547b0e0333494b",
              "IPY_MODEL_ae81bd4db5024674b887cc32a772c244"
            ]
          }
        },
        "3dcd3c0951314ca4ae728cfbe0d5fb04": {
          "model_module": "@jupyter-widgets/base",
          "model_name": "LayoutModel",
          "model_module_version": "1.2.0",
          "state": {
            "_view_name": "LayoutView",
            "grid_template_rows": null,
            "right": null,
            "justify_content": null,
            "_view_module": "@jupyter-widgets/base",
            "overflow": null,
            "_model_module_version": "1.2.0",
            "_view_count": null,
            "flex_flow": null,
            "width": null,
            "min_width": null,
            "border": null,
            "align_items": null,
            "bottom": null,
            "_model_module": "@jupyter-widgets/base",
            "top": null,
            "grid_column": null,
            "overflow_y": null,
            "overflow_x": null,
            "grid_auto_flow": null,
            "grid_area": null,
            "grid_template_columns": null,
            "flex": null,
            "_model_name": "LayoutModel",
            "justify_items": null,
            "grid_row": null,
            "max_height": null,
            "align_content": null,
            "visibility": null,
            "align_self": null,
            "height": null,
            "min_height": null,
            "padding": null,
            "grid_auto_rows": null,
            "grid_gap": null,
            "max_width": null,
            "order": null,
            "_view_module_version": "1.2.0",
            "grid_template_areas": null,
            "object_position": null,
            "object_fit": null,
            "grid_auto_columns": null,
            "margin": null,
            "display": null,
            "left": null
          }
        },
        "be5fe53bf93e4c5b9c547b0e0333494b": {
          "model_module": "@jupyter-widgets/controls",
          "model_name": "FloatProgressModel",
          "model_module_version": "1.5.0",
          "state": {
            "_view_name": "ProgressView",
            "style": "IPY_MODEL_32372ab1517443c28f69681ed16ec696",
            "_dom_classes": [],
            "description": "Downloading: 100%",
            "_model_name": "FloatProgressModel",
            "bar_style": "success",
            "max": 25,
            "_view_module": "@jupyter-widgets/controls",
            "_model_module_version": "1.5.0",
            "value": 25,
            "_view_count": null,
            "_view_module_version": "1.5.0",
            "orientation": "horizontal",
            "min": 0,
            "description_tooltip": null,
            "_model_module": "@jupyter-widgets/controls",
            "layout": "IPY_MODEL_9e7be9280c13429b9ff1195905cc5984"
          }
        },
        "ae81bd4db5024674b887cc32a772c244": {
          "model_module": "@jupyter-widgets/controls",
          "model_name": "HTMLModel",
          "model_module_version": "1.5.0",
          "state": {
            "_view_name": "HTMLView",
            "style": "IPY_MODEL_b2e42d556d4f4f3eb032f37e3a2e7cd0",
            "_dom_classes": [],
            "description": "",
            "_model_name": "HTMLModel",
            "placeholder": "​",
            "_view_module": "@jupyter-widgets/controls",
            "_model_module_version": "1.5.0",
            "value": " 25.0/25.0 [00:00&lt;00:00, 96.1B/s]",
            "_view_count": null,
            "_view_module_version": "1.5.0",
            "description_tooltip": null,
            "_model_module": "@jupyter-widgets/controls",
            "layout": "IPY_MODEL_82d204ec85da449eb22ab94676d8073b"
          }
        },
        "32372ab1517443c28f69681ed16ec696": {
          "model_module": "@jupyter-widgets/controls",
          "model_name": "ProgressStyleModel",
          "model_module_version": "1.5.0",
          "state": {
            "_view_name": "StyleView",
            "_model_name": "ProgressStyleModel",
            "description_width": "initial",
            "_view_module": "@jupyter-widgets/base",
            "_model_module_version": "1.5.0",
            "_view_count": null,
            "_view_module_version": "1.2.0",
            "bar_color": null,
            "_model_module": "@jupyter-widgets/controls"
          }
        },
        "9e7be9280c13429b9ff1195905cc5984": {
          "model_module": "@jupyter-widgets/base",
          "model_name": "LayoutModel",
          "model_module_version": "1.2.0",
          "state": {
            "_view_name": "LayoutView",
            "grid_template_rows": null,
            "right": null,
            "justify_content": null,
            "_view_module": "@jupyter-widgets/base",
            "overflow": null,
            "_model_module_version": "1.2.0",
            "_view_count": null,
            "flex_flow": null,
            "width": null,
            "min_width": null,
            "border": null,
            "align_items": null,
            "bottom": null,
            "_model_module": "@jupyter-widgets/base",
            "top": null,
            "grid_column": null,
            "overflow_y": null,
            "overflow_x": null,
            "grid_auto_flow": null,
            "grid_area": null,
            "grid_template_columns": null,
            "flex": null,
            "_model_name": "LayoutModel",
            "justify_items": null,
            "grid_row": null,
            "max_height": null,
            "align_content": null,
            "visibility": null,
            "align_self": null,
            "height": null,
            "min_height": null,
            "padding": null,
            "grid_auto_rows": null,
            "grid_gap": null,
            "max_width": null,
            "order": null,
            "_view_module_version": "1.2.0",
            "grid_template_areas": null,
            "object_position": null,
            "object_fit": null,
            "grid_auto_columns": null,
            "margin": null,
            "display": null,
            "left": null
          }
        },
        "b2e42d556d4f4f3eb032f37e3a2e7cd0": {
          "model_module": "@jupyter-widgets/controls",
          "model_name": "DescriptionStyleModel",
          "model_module_version": "1.5.0",
          "state": {
            "_view_name": "StyleView",
            "_model_name": "DescriptionStyleModel",
            "description_width": "",
            "_view_module": "@jupyter-widgets/base",
            "_model_module_version": "1.5.0",
            "_view_count": null,
            "_view_module_version": "1.2.0",
            "_model_module": "@jupyter-widgets/controls"
          }
        },
        "82d204ec85da449eb22ab94676d8073b": {
          "model_module": "@jupyter-widgets/base",
          "model_name": "LayoutModel",
          "model_module_version": "1.2.0",
          "state": {
            "_view_name": "LayoutView",
            "grid_template_rows": null,
            "right": null,
            "justify_content": null,
            "_view_module": "@jupyter-widgets/base",
            "overflow": null,
            "_model_module_version": "1.2.0",
            "_view_count": null,
            "flex_flow": null,
            "width": null,
            "min_width": null,
            "border": null,
            "align_items": null,
            "bottom": null,
            "_model_module": "@jupyter-widgets/base",
            "top": null,
            "grid_column": null,
            "overflow_y": null,
            "overflow_x": null,
            "grid_auto_flow": null,
            "grid_area": null,
            "grid_template_columns": null,
            "flex": null,
            "_model_name": "LayoutModel",
            "justify_items": null,
            "grid_row": null,
            "max_height": null,
            "align_content": null,
            "visibility": null,
            "align_self": null,
            "height": null,
            "min_height": null,
            "padding": null,
            "grid_auto_rows": null,
            "grid_gap": null,
            "max_width": null,
            "order": null,
            "_view_module_version": "1.2.0",
            "grid_template_areas": null,
            "object_position": null,
            "object_fit": null,
            "grid_auto_columns": null,
            "margin": null,
            "display": null,
            "left": null
          }
        },
        "d657c056c77c4a2a99e4edd39b960070": {
          "model_module": "@jupyter-widgets/controls",
          "model_name": "HBoxModel",
          "model_module_version": "1.5.0",
          "state": {
            "_view_name": "HBoxView",
            "_dom_classes": [],
            "_model_name": "HBoxModel",
            "_view_module": "@jupyter-widgets/controls",
            "_model_module_version": "1.5.0",
            "_view_count": null,
            "_view_module_version": "1.5.0",
            "box_style": "",
            "layout": "IPY_MODEL_8c9859ee502d4dddaefddc5a1121ad97",
            "_model_module": "@jupyter-widgets/controls",
            "children": [
              "IPY_MODEL_2180266c0e5c4e2fb9942751d906b725",
              "IPY_MODEL_c02819e2128b40939f49c6ff7149f323"
            ]
          }
        },
        "8c9859ee502d4dddaefddc5a1121ad97": {
          "model_module": "@jupyter-widgets/base",
          "model_name": "LayoutModel",
          "model_module_version": "1.2.0",
          "state": {
            "_view_name": "LayoutView",
            "grid_template_rows": null,
            "right": null,
            "justify_content": null,
            "_view_module": "@jupyter-widgets/base",
            "overflow": null,
            "_model_module_version": "1.2.0",
            "_view_count": null,
            "flex_flow": null,
            "width": null,
            "min_width": null,
            "border": null,
            "align_items": null,
            "bottom": null,
            "_model_module": "@jupyter-widgets/base",
            "top": null,
            "grid_column": null,
            "overflow_y": null,
            "overflow_x": null,
            "grid_auto_flow": null,
            "grid_area": null,
            "grid_template_columns": null,
            "flex": null,
            "_model_name": "LayoutModel",
            "justify_items": null,
            "grid_row": null,
            "max_height": null,
            "align_content": null,
            "visibility": null,
            "align_self": null,
            "height": null,
            "min_height": null,
            "padding": null,
            "grid_auto_rows": null,
            "grid_gap": null,
            "max_width": null,
            "order": null,
            "_view_module_version": "1.2.0",
            "grid_template_areas": null,
            "object_position": null,
            "object_fit": null,
            "grid_auto_columns": null,
            "margin": null,
            "display": null,
            "left": null
          }
        },
        "2180266c0e5c4e2fb9942751d906b725": {
          "model_module": "@jupyter-widgets/controls",
          "model_name": "FloatProgressModel",
          "model_module_version": "1.5.0",
          "state": {
            "_view_name": "ProgressView",
            "style": "IPY_MODEL_90b116eb89cc4b62beef05599c557fee",
            "_dom_classes": [],
            "description": "Downloading: 100%",
            "_model_name": "FloatProgressModel",
            "bar_style": "success",
            "max": 760289,
            "_view_module": "@jupyter-widgets/controls",
            "_model_module_version": "1.5.0",
            "value": 760289,
            "_view_count": null,
            "_view_module_version": "1.5.0",
            "orientation": "horizontal",
            "min": 0,
            "description_tooltip": null,
            "_model_module": "@jupyter-widgets/controls",
            "layout": "IPY_MODEL_77091fabdcac4076967199d7f00d02da"
          }
        },
        "c02819e2128b40939f49c6ff7149f323": {
          "model_module": "@jupyter-widgets/controls",
          "model_name": "HTMLModel",
          "model_module_version": "1.5.0",
          "state": {
            "_view_name": "HTMLView",
            "style": "IPY_MODEL_a62d80b1e0594cb0b7fd34423432c11b",
            "_dom_classes": [],
            "description": "",
            "_model_name": "HTMLModel",
            "placeholder": "​",
            "_view_module": "@jupyter-widgets/controls",
            "_model_module_version": "1.5.0",
            "value": " 742k/742k [00:00&lt;00:00, 769kB/s]",
            "_view_count": null,
            "_view_module_version": "1.5.0",
            "description_tooltip": null,
            "_model_module": "@jupyter-widgets/controls",
            "layout": "IPY_MODEL_3b6e2d60d2c741b5baf798537f9059a8"
          }
        },
        "90b116eb89cc4b62beef05599c557fee": {
          "model_module": "@jupyter-widgets/controls",
          "model_name": "ProgressStyleModel",
          "model_module_version": "1.5.0",
          "state": {
            "_view_name": "StyleView",
            "_model_name": "ProgressStyleModel",
            "description_width": "initial",
            "_view_module": "@jupyter-widgets/base",
            "_model_module_version": "1.5.0",
            "_view_count": null,
            "_view_module_version": "1.2.0",
            "bar_color": null,
            "_model_module": "@jupyter-widgets/controls"
          }
        },
        "77091fabdcac4076967199d7f00d02da": {
          "model_module": "@jupyter-widgets/base",
          "model_name": "LayoutModel",
          "model_module_version": "1.2.0",
          "state": {
            "_view_name": "LayoutView",
            "grid_template_rows": null,
            "right": null,
            "justify_content": null,
            "_view_module": "@jupyter-widgets/base",
            "overflow": null,
            "_model_module_version": "1.2.0",
            "_view_count": null,
            "flex_flow": null,
            "width": null,
            "min_width": null,
            "border": null,
            "align_items": null,
            "bottom": null,
            "_model_module": "@jupyter-widgets/base",
            "top": null,
            "grid_column": null,
            "overflow_y": null,
            "overflow_x": null,
            "grid_auto_flow": null,
            "grid_area": null,
            "grid_template_columns": null,
            "flex": null,
            "_model_name": "LayoutModel",
            "justify_items": null,
            "grid_row": null,
            "max_height": null,
            "align_content": null,
            "visibility": null,
            "align_self": null,
            "height": null,
            "min_height": null,
            "padding": null,
            "grid_auto_rows": null,
            "grid_gap": null,
            "max_width": null,
            "order": null,
            "_view_module_version": "1.2.0",
            "grid_template_areas": null,
            "object_position": null,
            "object_fit": null,
            "grid_auto_columns": null,
            "margin": null,
            "display": null,
            "left": null
          }
        },
        "a62d80b1e0594cb0b7fd34423432c11b": {
          "model_module": "@jupyter-widgets/controls",
          "model_name": "DescriptionStyleModel",
          "model_module_version": "1.5.0",
          "state": {
            "_view_name": "StyleView",
            "_model_name": "DescriptionStyleModel",
            "description_width": "",
            "_view_module": "@jupyter-widgets/base",
            "_model_module_version": "1.5.0",
            "_view_count": null,
            "_view_module_version": "1.2.0",
            "_model_module": "@jupyter-widgets/controls"
          }
        },
        "3b6e2d60d2c741b5baf798537f9059a8": {
          "model_module": "@jupyter-widgets/base",
          "model_name": "LayoutModel",
          "model_module_version": "1.2.0",
          "state": {
            "_view_name": "LayoutView",
            "grid_template_rows": null,
            "right": null,
            "justify_content": null,
            "_view_module": "@jupyter-widgets/base",
            "overflow": null,
            "_model_module_version": "1.2.0",
            "_view_count": null,
            "flex_flow": null,
            "width": null,
            "min_width": null,
            "border": null,
            "align_items": null,
            "bottom": null,
            "_model_module": "@jupyter-widgets/base",
            "top": null,
            "grid_column": null,
            "overflow_y": null,
            "overflow_x": null,
            "grid_auto_flow": null,
            "grid_area": null,
            "grid_template_columns": null,
            "flex": null,
            "_model_name": "LayoutModel",
            "justify_items": null,
            "grid_row": null,
            "max_height": null,
            "align_content": null,
            "visibility": null,
            "align_self": null,
            "height": null,
            "min_height": null,
            "padding": null,
            "grid_auto_rows": null,
            "grid_gap": null,
            "max_width": null,
            "order": null,
            "_view_module_version": "1.2.0",
            "grid_template_areas": null,
            "object_position": null,
            "object_fit": null,
            "grid_auto_columns": null,
            "margin": null,
            "display": null,
            "left": null
          }
        },
        "598ea1277cc84affa83d21899e08ea0e": {
          "model_module": "@jupyter-widgets/controls",
          "model_name": "HBoxModel",
          "model_module_version": "1.5.0",
          "state": {
            "_view_name": "HBoxView",
            "_dom_classes": [],
            "_model_name": "HBoxModel",
            "_view_module": "@jupyter-widgets/controls",
            "_model_module_version": "1.5.0",
            "_view_count": null,
            "_view_module_version": "1.5.0",
            "box_style": "",
            "layout": "IPY_MODEL_8f8c543c4d45405c9a072cddb5b6f5fc",
            "_model_module": "@jupyter-widgets/controls",
            "children": [
              "IPY_MODEL_90c45a62da854e1385f9fba03425084f",
              "IPY_MODEL_68a4ad5c07274e7fb982162110f7be92"
            ]
          }
        },
        "8f8c543c4d45405c9a072cddb5b6f5fc": {
          "model_module": "@jupyter-widgets/base",
          "model_name": "LayoutModel",
          "model_module_version": "1.2.0",
          "state": {
            "_view_name": "LayoutView",
            "grid_template_rows": null,
            "right": null,
            "justify_content": null,
            "_view_module": "@jupyter-widgets/base",
            "overflow": null,
            "_model_module_version": "1.2.0",
            "_view_count": null,
            "flex_flow": null,
            "width": null,
            "min_width": null,
            "border": null,
            "align_items": null,
            "bottom": null,
            "_model_module": "@jupyter-widgets/base",
            "top": null,
            "grid_column": null,
            "overflow_y": null,
            "overflow_x": null,
            "grid_auto_flow": null,
            "grid_area": null,
            "grid_template_columns": null,
            "flex": null,
            "_model_name": "LayoutModel",
            "justify_items": null,
            "grid_row": null,
            "max_height": null,
            "align_content": null,
            "visibility": null,
            "align_self": null,
            "height": null,
            "min_height": null,
            "padding": null,
            "grid_auto_rows": null,
            "grid_gap": null,
            "max_width": null,
            "order": null,
            "_view_module_version": "1.2.0",
            "grid_template_areas": null,
            "object_position": null,
            "object_fit": null,
            "grid_auto_columns": null,
            "margin": null,
            "display": null,
            "left": null
          }
        },
        "90c45a62da854e1385f9fba03425084f": {
          "model_module": "@jupyter-widgets/controls",
          "model_name": "FloatProgressModel",
          "model_module_version": "1.5.0",
          "state": {
            "_view_name": "ProgressView",
            "style": "IPY_MODEL_c5cb0dce1b674ac1b51d3cebd5f3984f",
            "_dom_classes": [],
            "description": "Downloading: 100%",
            "_model_name": "FloatProgressModel",
            "bar_style": "success",
            "max": 156,
            "_view_module": "@jupyter-widgets/controls",
            "_model_module_version": "1.5.0",
            "value": 156,
            "_view_count": null,
            "_view_module_version": "1.5.0",
            "orientation": "horizontal",
            "min": 0,
            "description_tooltip": null,
            "_model_module": "@jupyter-widgets/controls",
            "layout": "IPY_MODEL_7c178384a4c7440e90b3b49302624177"
          }
        },
        "68a4ad5c07274e7fb982162110f7be92": {
          "model_module": "@jupyter-widgets/controls",
          "model_name": "HTMLModel",
          "model_module_version": "1.5.0",
          "state": {
            "_view_name": "HTMLView",
            "style": "IPY_MODEL_559e349d7c4946b989c03c0622e26fba",
            "_dom_classes": [],
            "description": "",
            "_model_name": "HTMLModel",
            "placeholder": "​",
            "_view_module": "@jupyter-widgets/controls",
            "_model_module_version": "1.5.0",
            "value": " 156/156 [00:00&lt;00:00, 381B/s]",
            "_view_count": null,
            "_view_module_version": "1.5.0",
            "description_tooltip": null,
            "_model_module": "@jupyter-widgets/controls",
            "layout": "IPY_MODEL_68cd5ec1079e4f71bb6589da2a93e6ad"
          }
        },
        "c5cb0dce1b674ac1b51d3cebd5f3984f": {
          "model_module": "@jupyter-widgets/controls",
          "model_name": "ProgressStyleModel",
          "model_module_version": "1.5.0",
          "state": {
            "_view_name": "StyleView",
            "_model_name": "ProgressStyleModel",
            "description_width": "initial",
            "_view_module": "@jupyter-widgets/base",
            "_model_module_version": "1.5.0",
            "_view_count": null,
            "_view_module_version": "1.2.0",
            "bar_color": null,
            "_model_module": "@jupyter-widgets/controls"
          }
        },
        "7c178384a4c7440e90b3b49302624177": {
          "model_module": "@jupyter-widgets/base",
          "model_name": "LayoutModel",
          "model_module_version": "1.2.0",
          "state": {
            "_view_name": "LayoutView",
            "grid_template_rows": null,
            "right": null,
            "justify_content": null,
            "_view_module": "@jupyter-widgets/base",
            "overflow": null,
            "_model_module_version": "1.2.0",
            "_view_count": null,
            "flex_flow": null,
            "width": null,
            "min_width": null,
            "border": null,
            "align_items": null,
            "bottom": null,
            "_model_module": "@jupyter-widgets/base",
            "top": null,
            "grid_column": null,
            "overflow_y": null,
            "overflow_x": null,
            "grid_auto_flow": null,
            "grid_area": null,
            "grid_template_columns": null,
            "flex": null,
            "_model_name": "LayoutModel",
            "justify_items": null,
            "grid_row": null,
            "max_height": null,
            "align_content": null,
            "visibility": null,
            "align_self": null,
            "height": null,
            "min_height": null,
            "padding": null,
            "grid_auto_rows": null,
            "grid_gap": null,
            "max_width": null,
            "order": null,
            "_view_module_version": "1.2.0",
            "grid_template_areas": null,
            "object_position": null,
            "object_fit": null,
            "grid_auto_columns": null,
            "margin": null,
            "display": null,
            "left": null
          }
        },
        "559e349d7c4946b989c03c0622e26fba": {
          "model_module": "@jupyter-widgets/controls",
          "model_name": "DescriptionStyleModel",
          "model_module_version": "1.5.0",
          "state": {
            "_view_name": "StyleView",
            "_model_name": "DescriptionStyleModel",
            "description_width": "",
            "_view_module": "@jupyter-widgets/base",
            "_model_module_version": "1.5.0",
            "_view_count": null,
            "_view_module_version": "1.2.0",
            "_model_module": "@jupyter-widgets/controls"
          }
        },
        "68cd5ec1079e4f71bb6589da2a93e6ad": {
          "model_module": "@jupyter-widgets/base",
          "model_name": "LayoutModel",
          "model_module_version": "1.2.0",
          "state": {
            "_view_name": "LayoutView",
            "grid_template_rows": null,
            "right": null,
            "justify_content": null,
            "_view_module": "@jupyter-widgets/base",
            "overflow": null,
            "_model_module_version": "1.2.0",
            "_view_count": null,
            "flex_flow": null,
            "width": null,
            "min_width": null,
            "border": null,
            "align_items": null,
            "bottom": null,
            "_model_module": "@jupyter-widgets/base",
            "top": null,
            "grid_column": null,
            "overflow_y": null,
            "overflow_x": null,
            "grid_auto_flow": null,
            "grid_area": null,
            "grid_template_columns": null,
            "flex": null,
            "_model_name": "LayoutModel",
            "justify_items": null,
            "grid_row": null,
            "max_height": null,
            "align_content": null,
            "visibility": null,
            "align_self": null,
            "height": null,
            "min_height": null,
            "padding": null,
            "grid_auto_rows": null,
            "grid_gap": null,
            "max_width": null,
            "order": null,
            "_view_module_version": "1.2.0",
            "grid_template_areas": null,
            "object_position": null,
            "object_fit": null,
            "grid_auto_columns": null,
            "margin": null,
            "display": null,
            "left": null
          }
        },
        "7b6c823e0b7a45dcb59fb3c11590072e": {
          "model_module": "@jupyter-widgets/controls",
          "model_name": "HBoxModel",
          "model_module_version": "1.5.0",
          "state": {
            "_view_name": "HBoxView",
            "_dom_classes": [],
            "_model_name": "HBoxModel",
            "_view_module": "@jupyter-widgets/controls",
            "_model_module_version": "1.5.0",
            "_view_count": null,
            "_view_module_version": "1.5.0",
            "box_style": "",
            "layout": "IPY_MODEL_578d7fbd115243b5a55742c5cad15319",
            "_model_module": "@jupyter-widgets/controls",
            "children": [
              "IPY_MODEL_991a26a5dd3c49448a340ab9b2dbec5d",
              "IPY_MODEL_5dbedd62a2134bc485cb5be3077070de"
            ]
          }
        },
        "578d7fbd115243b5a55742c5cad15319": {
          "model_module": "@jupyter-widgets/base",
          "model_name": "LayoutModel",
          "model_module_version": "1.2.0",
          "state": {
            "_view_name": "LayoutView",
            "grid_template_rows": null,
            "right": null,
            "justify_content": null,
            "_view_module": "@jupyter-widgets/base",
            "overflow": null,
            "_model_module_version": "1.2.0",
            "_view_count": null,
            "flex_flow": null,
            "width": null,
            "min_width": null,
            "border": null,
            "align_items": null,
            "bottom": null,
            "_model_module": "@jupyter-widgets/base",
            "top": null,
            "grid_column": null,
            "overflow_y": null,
            "overflow_x": null,
            "grid_auto_flow": null,
            "grid_area": null,
            "grid_template_columns": null,
            "flex": null,
            "_model_name": "LayoutModel",
            "justify_items": null,
            "grid_row": null,
            "max_height": null,
            "align_content": null,
            "visibility": null,
            "align_self": null,
            "height": null,
            "min_height": null,
            "padding": null,
            "grid_auto_rows": null,
            "grid_gap": null,
            "max_width": null,
            "order": null,
            "_view_module_version": "1.2.0",
            "grid_template_areas": null,
            "object_position": null,
            "object_fit": null,
            "grid_auto_columns": null,
            "margin": null,
            "display": null,
            "left": null
          }
        },
        "991a26a5dd3c49448a340ab9b2dbec5d": {
          "model_module": "@jupyter-widgets/controls",
          "model_name": "FloatProgressModel",
          "model_module_version": "1.5.0",
          "state": {
            "_view_name": "ProgressView",
            "style": "IPY_MODEL_396932de3d2d42b8b4a3e39cf0bba4a8",
            "_dom_classes": [],
            "description": "Downloading: ",
            "_model_name": "FloatProgressModel",
            "bar_style": "success",
            "max": 1895,
            "_view_module": "@jupyter-widgets/controls",
            "_model_module_version": "1.5.0",
            "value": 1895,
            "_view_count": null,
            "_view_module_version": "1.5.0",
            "orientation": "horizontal",
            "min": 0,
            "description_tooltip": null,
            "_model_module": "@jupyter-widgets/controls",
            "layout": "IPY_MODEL_83d054f77c2940799138fd97109c72cd"
          }
        },
        "5dbedd62a2134bc485cb5be3077070de": {
          "model_module": "@jupyter-widgets/controls",
          "model_name": "HTMLModel",
          "model_module_version": "1.5.0",
          "state": {
            "_view_name": "HTMLView",
            "style": "IPY_MODEL_bc2da1351389403fbcfa9645a6419cd5",
            "_dom_classes": [],
            "description": "",
            "_model_name": "HTMLModel",
            "placeholder": "​",
            "_view_module": "@jupyter-widgets/controls",
            "_model_module_version": "1.5.0",
            "value": " 5.04k/? [00:00&lt;00:00, 16.8kB/s]",
            "_view_count": null,
            "_view_module_version": "1.5.0",
            "description_tooltip": null,
            "_model_module": "@jupyter-widgets/controls",
            "layout": "IPY_MODEL_a7e393b1549648a59d3d13dc9491dcda"
          }
        },
        "396932de3d2d42b8b4a3e39cf0bba4a8": {
          "model_module": "@jupyter-widgets/controls",
          "model_name": "ProgressStyleModel",
          "model_module_version": "1.5.0",
          "state": {
            "_view_name": "StyleView",
            "_model_name": "ProgressStyleModel",
            "description_width": "initial",
            "_view_module": "@jupyter-widgets/base",
            "_model_module_version": "1.5.0",
            "_view_count": null,
            "_view_module_version": "1.2.0",
            "bar_color": null,
            "_model_module": "@jupyter-widgets/controls"
          }
        },
        "83d054f77c2940799138fd97109c72cd": {
          "model_module": "@jupyter-widgets/base",
          "model_name": "LayoutModel",
          "model_module_version": "1.2.0",
          "state": {
            "_view_name": "LayoutView",
            "grid_template_rows": null,
            "right": null,
            "justify_content": null,
            "_view_module": "@jupyter-widgets/base",
            "overflow": null,
            "_model_module_version": "1.2.0",
            "_view_count": null,
            "flex_flow": null,
            "width": null,
            "min_width": null,
            "border": null,
            "align_items": null,
            "bottom": null,
            "_model_module": "@jupyter-widgets/base",
            "top": null,
            "grid_column": null,
            "overflow_y": null,
            "overflow_x": null,
            "grid_auto_flow": null,
            "grid_area": null,
            "grid_template_columns": null,
            "flex": null,
            "_model_name": "LayoutModel",
            "justify_items": null,
            "grid_row": null,
            "max_height": null,
            "align_content": null,
            "visibility": null,
            "align_self": null,
            "height": null,
            "min_height": null,
            "padding": null,
            "grid_auto_rows": null,
            "grid_gap": null,
            "max_width": null,
            "order": null,
            "_view_module_version": "1.2.0",
            "grid_template_areas": null,
            "object_position": null,
            "object_fit": null,
            "grid_auto_columns": null,
            "margin": null,
            "display": null,
            "left": null
          }
        },
        "bc2da1351389403fbcfa9645a6419cd5": {
          "model_module": "@jupyter-widgets/controls",
          "model_name": "DescriptionStyleModel",
          "model_module_version": "1.5.0",
          "state": {
            "_view_name": "StyleView",
            "_model_name": "DescriptionStyleModel",
            "description_width": "",
            "_view_module": "@jupyter-widgets/base",
            "_model_module_version": "1.5.0",
            "_view_count": null,
            "_view_module_version": "1.2.0",
            "_model_module": "@jupyter-widgets/controls"
          }
        },
        "a7e393b1549648a59d3d13dc9491dcda": {
          "model_module": "@jupyter-widgets/base",
          "model_name": "LayoutModel",
          "model_module_version": "1.2.0",
          "state": {
            "_view_name": "LayoutView",
            "grid_template_rows": null,
            "right": null,
            "justify_content": null,
            "_view_module": "@jupyter-widgets/base",
            "overflow": null,
            "_model_module_version": "1.2.0",
            "_view_count": null,
            "flex_flow": null,
            "width": null,
            "min_width": null,
            "border": null,
            "align_items": null,
            "bottom": null,
            "_model_module": "@jupyter-widgets/base",
            "top": null,
            "grid_column": null,
            "overflow_y": null,
            "overflow_x": null,
            "grid_auto_flow": null,
            "grid_area": null,
            "grid_template_columns": null,
            "flex": null,
            "_model_name": "LayoutModel",
            "justify_items": null,
            "grid_row": null,
            "max_height": null,
            "align_content": null,
            "visibility": null,
            "align_self": null,
            "height": null,
            "min_height": null,
            "padding": null,
            "grid_auto_rows": null,
            "grid_gap": null,
            "max_width": null,
            "order": null,
            "_view_module_version": "1.2.0",
            "grid_template_areas": null,
            "object_position": null,
            "object_fit": null,
            "grid_auto_columns": null,
            "margin": null,
            "display": null,
            "left": null
          }
        },
        "710d67ee14ac40c4be1a0e65a8061fc7": {
          "model_module": "@jupyter-widgets/controls",
          "model_name": "HBoxModel",
          "model_module_version": "1.5.0",
          "state": {
            "_view_name": "HBoxView",
            "_dom_classes": [],
            "_model_name": "HBoxModel",
            "_view_module": "@jupyter-widgets/controls",
            "_model_module_version": "1.5.0",
            "_view_count": null,
            "_view_module_version": "1.5.0",
            "box_style": "",
            "layout": "IPY_MODEL_be5780c6249e4384af5d624e6435145c",
            "_model_module": "@jupyter-widgets/controls",
            "children": [
              "IPY_MODEL_a02fa4d82f964e10be9aea6c6ae5e45e",
              "IPY_MODEL_dddbc60138874788872d2c8fb960d81c"
            ]
          }
        },
        "be5780c6249e4384af5d624e6435145c": {
          "model_module": "@jupyter-widgets/base",
          "model_name": "LayoutModel",
          "model_module_version": "1.2.0",
          "state": {
            "_view_name": "LayoutView",
            "grid_template_rows": null,
            "right": null,
            "justify_content": null,
            "_view_module": "@jupyter-widgets/base",
            "overflow": null,
            "_model_module_version": "1.2.0",
            "_view_count": null,
            "flex_flow": null,
            "width": null,
            "min_width": null,
            "border": null,
            "align_items": null,
            "bottom": null,
            "_model_module": "@jupyter-widgets/base",
            "top": null,
            "grid_column": null,
            "overflow_y": null,
            "overflow_x": null,
            "grid_auto_flow": null,
            "grid_area": null,
            "grid_template_columns": null,
            "flex": null,
            "_model_name": "LayoutModel",
            "justify_items": null,
            "grid_row": null,
            "max_height": null,
            "align_content": null,
            "visibility": null,
            "align_self": null,
            "height": null,
            "min_height": null,
            "padding": null,
            "grid_auto_rows": null,
            "grid_gap": null,
            "max_width": null,
            "order": null,
            "_view_module_version": "1.2.0",
            "grid_template_areas": null,
            "object_position": null,
            "object_fit": null,
            "grid_auto_columns": null,
            "margin": null,
            "display": null,
            "left": null
          }
        },
        "a02fa4d82f964e10be9aea6c6ae5e45e": {
          "model_module": "@jupyter-widgets/controls",
          "model_name": "FloatProgressModel",
          "model_module_version": "1.5.0",
          "state": {
            "_view_name": "ProgressView",
            "style": "IPY_MODEL_81b82c5814254178b05bb2a537fa50f4",
            "_dom_classes": [],
            "description": "Downloading: ",
            "_model_name": "FloatProgressModel",
            "bar_style": "success",
            "max": 869,
            "_view_module": "@jupyter-widgets/controls",
            "_model_module_version": "1.5.0",
            "value": 869,
            "_view_count": null,
            "_view_module_version": "1.5.0",
            "orientation": "horizontal",
            "min": 0,
            "description_tooltip": null,
            "_model_module": "@jupyter-widgets/controls",
            "layout": "IPY_MODEL_5b2bf98c5c2d4be19af21aafce9ffabd"
          }
        },
        "dddbc60138874788872d2c8fb960d81c": {
          "model_module": "@jupyter-widgets/controls",
          "model_name": "HTMLModel",
          "model_module_version": "1.5.0",
          "state": {
            "_view_name": "HTMLView",
            "style": "IPY_MODEL_3f034ac4586c4733a07eaabfb3812ea8",
            "_dom_classes": [],
            "description": "",
            "_model_name": "HTMLModel",
            "placeholder": "​",
            "_view_module": "@jupyter-widgets/controls",
            "_model_module_version": "1.5.0",
            "value": " 1.88k/? [00:00&lt;00:00, 2.56kB/s]",
            "_view_count": null,
            "_view_module_version": "1.5.0",
            "description_tooltip": null,
            "_model_module": "@jupyter-widgets/controls",
            "layout": "IPY_MODEL_d4396e4bbd8247498c30be064d7fc768"
          }
        },
        "81b82c5814254178b05bb2a537fa50f4": {
          "model_module": "@jupyter-widgets/controls",
          "model_name": "ProgressStyleModel",
          "model_module_version": "1.5.0",
          "state": {
            "_view_name": "StyleView",
            "_model_name": "ProgressStyleModel",
            "description_width": "initial",
            "_view_module": "@jupyter-widgets/base",
            "_model_module_version": "1.5.0",
            "_view_count": null,
            "_view_module_version": "1.2.0",
            "bar_color": null,
            "_model_module": "@jupyter-widgets/controls"
          }
        },
        "5b2bf98c5c2d4be19af21aafce9ffabd": {
          "model_module": "@jupyter-widgets/base",
          "model_name": "LayoutModel",
          "model_module_version": "1.2.0",
          "state": {
            "_view_name": "LayoutView",
            "grid_template_rows": null,
            "right": null,
            "justify_content": null,
            "_view_module": "@jupyter-widgets/base",
            "overflow": null,
            "_model_module_version": "1.2.0",
            "_view_count": null,
            "flex_flow": null,
            "width": null,
            "min_width": null,
            "border": null,
            "align_items": null,
            "bottom": null,
            "_model_module": "@jupyter-widgets/base",
            "top": null,
            "grid_column": null,
            "overflow_y": null,
            "overflow_x": null,
            "grid_auto_flow": null,
            "grid_area": null,
            "grid_template_columns": null,
            "flex": null,
            "_model_name": "LayoutModel",
            "justify_items": null,
            "grid_row": null,
            "max_height": null,
            "align_content": null,
            "visibility": null,
            "align_self": null,
            "height": null,
            "min_height": null,
            "padding": null,
            "grid_auto_rows": null,
            "grid_gap": null,
            "max_width": null,
            "order": null,
            "_view_module_version": "1.2.0",
            "grid_template_areas": null,
            "object_position": null,
            "object_fit": null,
            "grid_auto_columns": null,
            "margin": null,
            "display": null,
            "left": null
          }
        },
        "3f034ac4586c4733a07eaabfb3812ea8": {
          "model_module": "@jupyter-widgets/controls",
          "model_name": "DescriptionStyleModel",
          "model_module_version": "1.5.0",
          "state": {
            "_view_name": "StyleView",
            "_model_name": "DescriptionStyleModel",
            "description_width": "",
            "_view_module": "@jupyter-widgets/base",
            "_model_module_version": "1.5.0",
            "_view_count": null,
            "_view_module_version": "1.2.0",
            "_model_module": "@jupyter-widgets/controls"
          }
        },
        "d4396e4bbd8247498c30be064d7fc768": {
          "model_module": "@jupyter-widgets/base",
          "model_name": "LayoutModel",
          "model_module_version": "1.2.0",
          "state": {
            "_view_name": "LayoutView",
            "grid_template_rows": null,
            "right": null,
            "justify_content": null,
            "_view_module": "@jupyter-widgets/base",
            "overflow": null,
            "_model_module_version": "1.2.0",
            "_view_count": null,
            "flex_flow": null,
            "width": null,
            "min_width": null,
            "border": null,
            "align_items": null,
            "bottom": null,
            "_model_module": "@jupyter-widgets/base",
            "top": null,
            "grid_column": null,
            "overflow_y": null,
            "overflow_x": null,
            "grid_auto_flow": null,
            "grid_area": null,
            "grid_template_columns": null,
            "flex": null,
            "_model_name": "LayoutModel",
            "justify_items": null,
            "grid_row": null,
            "max_height": null,
            "align_content": null,
            "visibility": null,
            "align_self": null,
            "height": null,
            "min_height": null,
            "padding": null,
            "grid_auto_rows": null,
            "grid_gap": null,
            "max_width": null,
            "order": null,
            "_view_module_version": "1.2.0",
            "grid_template_areas": null,
            "object_position": null,
            "object_fit": null,
            "grid_auto_columns": null,
            "margin": null,
            "display": null,
            "left": null
          }
        },
        "04997f49a1fb4b52bd81bdfd1023f1ef": {
          "model_module": "@jupyter-widgets/controls",
          "model_name": "HBoxModel",
          "model_module_version": "1.5.0",
          "state": {
            "_view_name": "HBoxView",
            "_dom_classes": [],
            "_model_name": "HBoxModel",
            "_view_module": "@jupyter-widgets/controls",
            "_model_module_version": "1.5.0",
            "_view_count": null,
            "_view_module_version": "1.5.0",
            "box_style": "",
            "layout": "IPY_MODEL_a82ff97e4d664c9da940b20c0e67d7c8",
            "_model_module": "@jupyter-widgets/controls",
            "children": [
              "IPY_MODEL_53a47de0e04c408299ff9595071dcb5f",
              "IPY_MODEL_114a93ce190f44a19b235248d007c43c"
            ]
          }
        },
        "a82ff97e4d664c9da940b20c0e67d7c8": {
          "model_module": "@jupyter-widgets/base",
          "model_name": "LayoutModel",
          "model_module_version": "1.2.0",
          "state": {
            "_view_name": "LayoutView",
            "grid_template_rows": null,
            "right": null,
            "justify_content": null,
            "_view_module": "@jupyter-widgets/base",
            "overflow": null,
            "_model_module_version": "1.2.0",
            "_view_count": null,
            "flex_flow": null,
            "width": null,
            "min_width": null,
            "border": null,
            "align_items": null,
            "bottom": null,
            "_model_module": "@jupyter-widgets/base",
            "top": null,
            "grid_column": null,
            "overflow_y": null,
            "overflow_x": null,
            "grid_auto_flow": null,
            "grid_area": null,
            "grid_template_columns": null,
            "flex": null,
            "_model_name": "LayoutModel",
            "justify_items": null,
            "grid_row": null,
            "max_height": null,
            "align_content": null,
            "visibility": null,
            "align_self": null,
            "height": null,
            "min_height": null,
            "padding": null,
            "grid_auto_rows": null,
            "grid_gap": null,
            "max_width": null,
            "order": null,
            "_view_module_version": "1.2.0",
            "grid_template_areas": null,
            "object_position": null,
            "object_fit": null,
            "grid_auto_columns": null,
            "margin": null,
            "display": null,
            "left": null
          }
        },
        "53a47de0e04c408299ff9595071dcb5f": {
          "model_module": "@jupyter-widgets/controls",
          "model_name": "FloatProgressModel",
          "model_module_version": "1.5.0",
          "state": {
            "_view_name": "ProgressView",
            "style": "IPY_MODEL_bb987c1e4944424a8bc59d0e5673182d",
            "_dom_classes": [],
            "description": "Downloading: 100%",
            "_model_name": "FloatProgressModel",
            "bar_style": "success",
            "max": 487770,
            "_view_module": "@jupyter-widgets/controls",
            "_model_module_version": "1.5.0",
            "value": 487770,
            "_view_count": null,
            "_view_module_version": "1.5.0",
            "orientation": "horizontal",
            "min": 0,
            "description_tooltip": null,
            "_model_module": "@jupyter-widgets/controls",
            "layout": "IPY_MODEL_f759537e5b9743918daa709163c098f6"
          }
        },
        "114a93ce190f44a19b235248d007c43c": {
          "model_module": "@jupyter-widgets/controls",
          "model_name": "HTMLModel",
          "model_module_version": "1.5.0",
          "state": {
            "_view_name": "HTMLView",
            "style": "IPY_MODEL_007c35fbc0af4203b1ea9e5ab94839a4",
            "_dom_classes": [],
            "description": "",
            "_model_name": "HTMLModel",
            "placeholder": "​",
            "_view_module": "@jupyter-widgets/controls",
            "_model_module_version": "1.5.0",
            "value": " 488k/488k [00:00&lt;00:00, 6.44MB/s]",
            "_view_count": null,
            "_view_module_version": "1.5.0",
            "description_tooltip": null,
            "_model_module": "@jupyter-widgets/controls",
            "layout": "IPY_MODEL_1a8cbf1a4a864d7d940f837936a207c1"
          }
        },
        "bb987c1e4944424a8bc59d0e5673182d": {
          "model_module": "@jupyter-widgets/controls",
          "model_name": "ProgressStyleModel",
          "model_module_version": "1.5.0",
          "state": {
            "_view_name": "StyleView",
            "_model_name": "ProgressStyleModel",
            "description_width": "initial",
            "_view_module": "@jupyter-widgets/base",
            "_model_module_version": "1.5.0",
            "_view_count": null,
            "_view_module_version": "1.2.0",
            "bar_color": null,
            "_model_module": "@jupyter-widgets/controls"
          }
        },
        "f759537e5b9743918daa709163c098f6": {
          "model_module": "@jupyter-widgets/base",
          "model_name": "LayoutModel",
          "model_module_version": "1.2.0",
          "state": {
            "_view_name": "LayoutView",
            "grid_template_rows": null,
            "right": null,
            "justify_content": null,
            "_view_module": "@jupyter-widgets/base",
            "overflow": null,
            "_model_module_version": "1.2.0",
            "_view_count": null,
            "flex_flow": null,
            "width": null,
            "min_width": null,
            "border": null,
            "align_items": null,
            "bottom": null,
            "_model_module": "@jupyter-widgets/base",
            "top": null,
            "grid_column": null,
            "overflow_y": null,
            "overflow_x": null,
            "grid_auto_flow": null,
            "grid_area": null,
            "grid_template_columns": null,
            "flex": null,
            "_model_name": "LayoutModel",
            "justify_items": null,
            "grid_row": null,
            "max_height": null,
            "align_content": null,
            "visibility": null,
            "align_self": null,
            "height": null,
            "min_height": null,
            "padding": null,
            "grid_auto_rows": null,
            "grid_gap": null,
            "max_width": null,
            "order": null,
            "_view_module_version": "1.2.0",
            "grid_template_areas": null,
            "object_position": null,
            "object_fit": null,
            "grid_auto_columns": null,
            "margin": null,
            "display": null,
            "left": null
          }
        },
        "007c35fbc0af4203b1ea9e5ab94839a4": {
          "model_module": "@jupyter-widgets/controls",
          "model_name": "DescriptionStyleModel",
          "model_module_version": "1.5.0",
          "state": {
            "_view_name": "StyleView",
            "_model_name": "DescriptionStyleModel",
            "description_width": "",
            "_view_module": "@jupyter-widgets/base",
            "_model_module_version": "1.5.0",
            "_view_count": null,
            "_view_module_version": "1.2.0",
            "_model_module": "@jupyter-widgets/controls"
          }
        },
        "1a8cbf1a4a864d7d940f837936a207c1": {
          "model_module": "@jupyter-widgets/base",
          "model_name": "LayoutModel",
          "model_module_version": "1.2.0",
          "state": {
            "_view_name": "LayoutView",
            "grid_template_rows": null,
            "right": null,
            "justify_content": null,
            "_view_module": "@jupyter-widgets/base",
            "overflow": null,
            "_model_module_version": "1.2.0",
            "_view_count": null,
            "flex_flow": null,
            "width": null,
            "min_width": null,
            "border": null,
            "align_items": null,
            "bottom": null,
            "_model_module": "@jupyter-widgets/base",
            "top": null,
            "grid_column": null,
            "overflow_y": null,
            "overflow_x": null,
            "grid_auto_flow": null,
            "grid_area": null,
            "grid_template_columns": null,
            "flex": null,
            "_model_name": "LayoutModel",
            "justify_items": null,
            "grid_row": null,
            "max_height": null,
            "align_content": null,
            "visibility": null,
            "align_self": null,
            "height": null,
            "min_height": null,
            "padding": null,
            "grid_auto_rows": null,
            "grid_gap": null,
            "max_width": null,
            "order": null,
            "_view_module_version": "1.2.0",
            "grid_template_areas": null,
            "object_position": null,
            "object_fit": null,
            "grid_auto_columns": null,
            "margin": null,
            "display": null,
            "left": null
          }
        },
        "297a2d2cf7e949aeae039aa96dee2aaa": {
          "model_module": "@jupyter-widgets/controls",
          "model_name": "HBoxModel",
          "model_module_version": "1.5.0",
          "state": {
            "_view_name": "HBoxView",
            "_dom_classes": [],
            "_model_name": "HBoxModel",
            "_view_module": "@jupyter-widgets/controls",
            "_model_module_version": "1.5.0",
            "_view_count": null,
            "_view_module_version": "1.5.0",
            "box_style": "",
            "layout": "IPY_MODEL_da47cfa64b1040dc9020815b443730d8",
            "_model_module": "@jupyter-widgets/controls",
            "children": [
              "IPY_MODEL_2bc0012a3e2545e1b5877567088a03f2",
              "IPY_MODEL_096144772f90485ab7af51acaddf504f"
            ]
          }
        },
        "da47cfa64b1040dc9020815b443730d8": {
          "model_module": "@jupyter-widgets/base",
          "model_name": "LayoutModel",
          "model_module_version": "1.2.0",
          "state": {
            "_view_name": "LayoutView",
            "grid_template_rows": null,
            "right": null,
            "justify_content": null,
            "_view_module": "@jupyter-widgets/base",
            "overflow": null,
            "_model_module_version": "1.2.0",
            "_view_count": null,
            "flex_flow": null,
            "width": null,
            "min_width": null,
            "border": null,
            "align_items": null,
            "bottom": null,
            "_model_module": "@jupyter-widgets/base",
            "top": null,
            "grid_column": null,
            "overflow_y": null,
            "overflow_x": null,
            "grid_auto_flow": null,
            "grid_area": null,
            "grid_template_columns": null,
            "flex": null,
            "_model_name": "LayoutModel",
            "justify_items": null,
            "grid_row": null,
            "max_height": null,
            "align_content": null,
            "visibility": null,
            "align_self": null,
            "height": null,
            "min_height": null,
            "padding": null,
            "grid_auto_rows": null,
            "grid_gap": null,
            "max_width": null,
            "order": null,
            "_view_module_version": "1.2.0",
            "grid_template_areas": null,
            "object_position": null,
            "object_fit": null,
            "grid_auto_columns": null,
            "margin": null,
            "display": null,
            "left": null
          }
        },
        "2bc0012a3e2545e1b5877567088a03f2": {
          "model_module": "@jupyter-widgets/controls",
          "model_name": "FloatProgressModel",
          "model_module_version": "1.5.0",
          "state": {
            "_view_name": "ProgressView",
            "style": "IPY_MODEL_499d03793dd444c1bb2f082d441d8981",
            "_dom_classes": [],
            "description": "",
            "_model_name": "FloatProgressModel",
            "bar_style": "info",
            "max": 1,
            "_view_module": "@jupyter-widgets/controls",
            "_model_module_version": "1.5.0",
            "value": 1,
            "_view_count": null,
            "_view_module_version": "1.5.0",
            "orientation": "horizontal",
            "min": 0,
            "description_tooltip": null,
            "_model_module": "@jupyter-widgets/controls",
            "layout": "IPY_MODEL_95d6c0caa72147bc89f9eb4d14b68c70"
          }
        },
        "096144772f90485ab7af51acaddf504f": {
          "model_module": "@jupyter-widgets/controls",
          "model_name": "HTMLModel",
          "model_module_version": "1.5.0",
          "state": {
            "_view_name": "HTMLView",
            "style": "IPY_MODEL_aa9c4ed119bf44e097b9a9673c539bfa",
            "_dom_classes": [],
            "description": "",
            "_model_name": "HTMLModel",
            "placeholder": "​",
            "_view_module": "@jupyter-widgets/controls",
            "_model_module_version": "1.5.0",
            "value": "8530 examples [00:00, 30921.76 examples/s]",
            "_view_count": null,
            "_view_module_version": "1.5.0",
            "description_tooltip": null,
            "_model_module": "@jupyter-widgets/controls",
            "layout": "IPY_MODEL_d8cd0382711a4095b88f4d51d696f9c1"
          }
        },
        "499d03793dd444c1bb2f082d441d8981": {
          "model_module": "@jupyter-widgets/controls",
          "model_name": "ProgressStyleModel",
          "model_module_version": "1.5.0",
          "state": {
            "_view_name": "StyleView",
            "_model_name": "ProgressStyleModel",
            "description_width": "initial",
            "_view_module": "@jupyter-widgets/base",
            "_model_module_version": "1.5.0",
            "_view_count": null,
            "_view_module_version": "1.2.0",
            "bar_color": null,
            "_model_module": "@jupyter-widgets/controls"
          }
        },
        "95d6c0caa72147bc89f9eb4d14b68c70": {
          "model_module": "@jupyter-widgets/base",
          "model_name": "LayoutModel",
          "model_module_version": "1.2.0",
          "state": {
            "_view_name": "LayoutView",
            "grid_template_rows": null,
            "right": null,
            "justify_content": null,
            "_view_module": "@jupyter-widgets/base",
            "overflow": null,
            "_model_module_version": "1.2.0",
            "_view_count": null,
            "flex_flow": null,
            "width": "20px",
            "min_width": null,
            "border": null,
            "align_items": null,
            "bottom": null,
            "_model_module": "@jupyter-widgets/base",
            "top": null,
            "grid_column": null,
            "overflow_y": null,
            "overflow_x": null,
            "grid_auto_flow": null,
            "grid_area": null,
            "grid_template_columns": null,
            "flex": null,
            "_model_name": "LayoutModel",
            "justify_items": null,
            "grid_row": null,
            "max_height": null,
            "align_content": null,
            "visibility": null,
            "align_self": null,
            "height": null,
            "min_height": null,
            "padding": null,
            "grid_auto_rows": null,
            "grid_gap": null,
            "max_width": null,
            "order": null,
            "_view_module_version": "1.2.0",
            "grid_template_areas": null,
            "object_position": null,
            "object_fit": null,
            "grid_auto_columns": null,
            "margin": null,
            "display": null,
            "left": null
          }
        },
        "aa9c4ed119bf44e097b9a9673c539bfa": {
          "model_module": "@jupyter-widgets/controls",
          "model_name": "DescriptionStyleModel",
          "model_module_version": "1.5.0",
          "state": {
            "_view_name": "StyleView",
            "_model_name": "DescriptionStyleModel",
            "description_width": "",
            "_view_module": "@jupyter-widgets/base",
            "_model_module_version": "1.5.0",
            "_view_count": null,
            "_view_module_version": "1.2.0",
            "_model_module": "@jupyter-widgets/controls"
          }
        },
        "d8cd0382711a4095b88f4d51d696f9c1": {
          "model_module": "@jupyter-widgets/base",
          "model_name": "LayoutModel",
          "model_module_version": "1.2.0",
          "state": {
            "_view_name": "LayoutView",
            "grid_template_rows": null,
            "right": null,
            "justify_content": null,
            "_view_module": "@jupyter-widgets/base",
            "overflow": null,
            "_model_module_version": "1.2.0",
            "_view_count": null,
            "flex_flow": null,
            "width": null,
            "min_width": null,
            "border": null,
            "align_items": null,
            "bottom": null,
            "_model_module": "@jupyter-widgets/base",
            "top": null,
            "grid_column": null,
            "overflow_y": null,
            "overflow_x": null,
            "grid_auto_flow": null,
            "grid_area": null,
            "grid_template_columns": null,
            "flex": null,
            "_model_name": "LayoutModel",
            "justify_items": null,
            "grid_row": null,
            "max_height": null,
            "align_content": null,
            "visibility": null,
            "align_self": null,
            "height": null,
            "min_height": null,
            "padding": null,
            "grid_auto_rows": null,
            "grid_gap": null,
            "max_width": null,
            "order": null,
            "_view_module_version": "1.2.0",
            "grid_template_areas": null,
            "object_position": null,
            "object_fit": null,
            "grid_auto_columns": null,
            "margin": null,
            "display": null,
            "left": null
          }
        },
        "aabf113b01bd43dd8cf97ef433ad36ab": {
          "model_module": "@jupyter-widgets/controls",
          "model_name": "HBoxModel",
          "model_module_version": "1.5.0",
          "state": {
            "_view_name": "HBoxView",
            "_dom_classes": [],
            "_model_name": "HBoxModel",
            "_view_module": "@jupyter-widgets/controls",
            "_model_module_version": "1.5.0",
            "_view_count": null,
            "_view_module_version": "1.5.0",
            "box_style": "",
            "layout": "IPY_MODEL_1009367ca28a44a994f8844f7206975c",
            "_model_module": "@jupyter-widgets/controls",
            "children": [
              "IPY_MODEL_aecad6b228764039b70e218524d82131",
              "IPY_MODEL_faf426a93c1745179ded7535fd1e5b57"
            ]
          }
        },
        "1009367ca28a44a994f8844f7206975c": {
          "model_module": "@jupyter-widgets/base",
          "model_name": "LayoutModel",
          "model_module_version": "1.2.0",
          "state": {
            "_view_name": "LayoutView",
            "grid_template_rows": null,
            "right": null,
            "justify_content": null,
            "_view_module": "@jupyter-widgets/base",
            "overflow": null,
            "_model_module_version": "1.2.0",
            "_view_count": null,
            "flex_flow": null,
            "width": null,
            "min_width": null,
            "border": null,
            "align_items": null,
            "bottom": null,
            "_model_module": "@jupyter-widgets/base",
            "top": null,
            "grid_column": null,
            "overflow_y": null,
            "overflow_x": null,
            "grid_auto_flow": null,
            "grid_area": null,
            "grid_template_columns": null,
            "flex": null,
            "_model_name": "LayoutModel",
            "justify_items": null,
            "grid_row": null,
            "max_height": null,
            "align_content": null,
            "visibility": null,
            "align_self": null,
            "height": null,
            "min_height": null,
            "padding": null,
            "grid_auto_rows": null,
            "grid_gap": null,
            "max_width": null,
            "order": null,
            "_view_module_version": "1.2.0",
            "grid_template_areas": null,
            "object_position": null,
            "object_fit": null,
            "grid_auto_columns": null,
            "margin": null,
            "display": null,
            "left": null
          }
        },
        "aecad6b228764039b70e218524d82131": {
          "model_module": "@jupyter-widgets/controls",
          "model_name": "FloatProgressModel",
          "model_module_version": "1.5.0",
          "state": {
            "_view_name": "ProgressView",
            "style": "IPY_MODEL_d09545dbca284fd98bc5df7f96734dee",
            "_dom_classes": [],
            "description": "",
            "_model_name": "FloatProgressModel",
            "bar_style": "info",
            "max": 1,
            "_view_module": "@jupyter-widgets/controls",
            "_model_module_version": "1.5.0",
            "value": 1,
            "_view_count": null,
            "_view_module_version": "1.5.0",
            "orientation": "horizontal",
            "min": 0,
            "description_tooltip": null,
            "_model_module": "@jupyter-widgets/controls",
            "layout": "IPY_MODEL_896f36ece3484571bfbcc6ce28d57275"
          }
        },
        "faf426a93c1745179ded7535fd1e5b57": {
          "model_module": "@jupyter-widgets/controls",
          "model_name": "HTMLModel",
          "model_module_version": "1.5.0",
          "state": {
            "_view_name": "HTMLView",
            "style": "IPY_MODEL_88967b822e374190997fcd4d498cf3cc",
            "_dom_classes": [],
            "description": "",
            "_model_name": "HTMLModel",
            "placeholder": "​",
            "_view_module": "@jupyter-widgets/controls",
            "_model_module_version": "1.5.0",
            "value": "1066 examples [00:00, 16400.41 examples/s]",
            "_view_count": null,
            "_view_module_version": "1.5.0",
            "description_tooltip": null,
            "_model_module": "@jupyter-widgets/controls",
            "layout": "IPY_MODEL_c3c7a354aa0a449d8a131011a63044f3"
          }
        },
        "d09545dbca284fd98bc5df7f96734dee": {
          "model_module": "@jupyter-widgets/controls",
          "model_name": "ProgressStyleModel",
          "model_module_version": "1.5.0",
          "state": {
            "_view_name": "StyleView",
            "_model_name": "ProgressStyleModel",
            "description_width": "initial",
            "_view_module": "@jupyter-widgets/base",
            "_model_module_version": "1.5.0",
            "_view_count": null,
            "_view_module_version": "1.2.0",
            "bar_color": null,
            "_model_module": "@jupyter-widgets/controls"
          }
        },
        "896f36ece3484571bfbcc6ce28d57275": {
          "model_module": "@jupyter-widgets/base",
          "model_name": "LayoutModel",
          "model_module_version": "1.2.0",
          "state": {
            "_view_name": "LayoutView",
            "grid_template_rows": null,
            "right": null,
            "justify_content": null,
            "_view_module": "@jupyter-widgets/base",
            "overflow": null,
            "_model_module_version": "1.2.0",
            "_view_count": null,
            "flex_flow": null,
            "width": "20px",
            "min_width": null,
            "border": null,
            "align_items": null,
            "bottom": null,
            "_model_module": "@jupyter-widgets/base",
            "top": null,
            "grid_column": null,
            "overflow_y": null,
            "overflow_x": null,
            "grid_auto_flow": null,
            "grid_area": null,
            "grid_template_columns": null,
            "flex": null,
            "_model_name": "LayoutModel",
            "justify_items": null,
            "grid_row": null,
            "max_height": null,
            "align_content": null,
            "visibility": null,
            "align_self": null,
            "height": null,
            "min_height": null,
            "padding": null,
            "grid_auto_rows": null,
            "grid_gap": null,
            "max_width": null,
            "order": null,
            "_view_module_version": "1.2.0",
            "grid_template_areas": null,
            "object_position": null,
            "object_fit": null,
            "grid_auto_columns": null,
            "margin": null,
            "display": null,
            "left": null
          }
        },
        "88967b822e374190997fcd4d498cf3cc": {
          "model_module": "@jupyter-widgets/controls",
          "model_name": "DescriptionStyleModel",
          "model_module_version": "1.5.0",
          "state": {
            "_view_name": "StyleView",
            "_model_name": "DescriptionStyleModel",
            "description_width": "",
            "_view_module": "@jupyter-widgets/base",
            "_model_module_version": "1.5.0",
            "_view_count": null,
            "_view_module_version": "1.2.0",
            "_model_module": "@jupyter-widgets/controls"
          }
        },
        "c3c7a354aa0a449d8a131011a63044f3": {
          "model_module": "@jupyter-widgets/base",
          "model_name": "LayoutModel",
          "model_module_version": "1.2.0",
          "state": {
            "_view_name": "LayoutView",
            "grid_template_rows": null,
            "right": null,
            "justify_content": null,
            "_view_module": "@jupyter-widgets/base",
            "overflow": null,
            "_model_module_version": "1.2.0",
            "_view_count": null,
            "flex_flow": null,
            "width": null,
            "min_width": null,
            "border": null,
            "align_items": null,
            "bottom": null,
            "_model_module": "@jupyter-widgets/base",
            "top": null,
            "grid_column": null,
            "overflow_y": null,
            "overflow_x": null,
            "grid_auto_flow": null,
            "grid_area": null,
            "grid_template_columns": null,
            "flex": null,
            "_model_name": "LayoutModel",
            "justify_items": null,
            "grid_row": null,
            "max_height": null,
            "align_content": null,
            "visibility": null,
            "align_self": null,
            "height": null,
            "min_height": null,
            "padding": null,
            "grid_auto_rows": null,
            "grid_gap": null,
            "max_width": null,
            "order": null,
            "_view_module_version": "1.2.0",
            "grid_template_areas": null,
            "object_position": null,
            "object_fit": null,
            "grid_auto_columns": null,
            "margin": null,
            "display": null,
            "left": null
          }
        },
        "982d0f46a9ee43d2a90932f3b5bd241b": {
          "model_module": "@jupyter-widgets/controls",
          "model_name": "HBoxModel",
          "model_module_version": "1.5.0",
          "state": {
            "_view_name": "HBoxView",
            "_dom_classes": [],
            "_model_name": "HBoxModel",
            "_view_module": "@jupyter-widgets/controls",
            "_model_module_version": "1.5.0",
            "_view_count": null,
            "_view_module_version": "1.5.0",
            "box_style": "",
            "layout": "IPY_MODEL_f2705664334649bba561ae8c7c8558ba",
            "_model_module": "@jupyter-widgets/controls",
            "children": [
              "IPY_MODEL_73ff972e92d14be4a118c215cc5d5793",
              "IPY_MODEL_a07ce1ff1388437c9dfdac86af1400de"
            ]
          }
        },
        "f2705664334649bba561ae8c7c8558ba": {
          "model_module": "@jupyter-widgets/base",
          "model_name": "LayoutModel",
          "model_module_version": "1.2.0",
          "state": {
            "_view_name": "LayoutView",
            "grid_template_rows": null,
            "right": null,
            "justify_content": null,
            "_view_module": "@jupyter-widgets/base",
            "overflow": null,
            "_model_module_version": "1.2.0",
            "_view_count": null,
            "flex_flow": null,
            "width": null,
            "min_width": null,
            "border": null,
            "align_items": null,
            "bottom": null,
            "_model_module": "@jupyter-widgets/base",
            "top": null,
            "grid_column": null,
            "overflow_y": null,
            "overflow_x": null,
            "grid_auto_flow": null,
            "grid_area": null,
            "grid_template_columns": null,
            "flex": null,
            "_model_name": "LayoutModel",
            "justify_items": null,
            "grid_row": null,
            "max_height": null,
            "align_content": null,
            "visibility": null,
            "align_self": null,
            "height": null,
            "min_height": null,
            "padding": null,
            "grid_auto_rows": null,
            "grid_gap": null,
            "max_width": null,
            "order": null,
            "_view_module_version": "1.2.0",
            "grid_template_areas": null,
            "object_position": null,
            "object_fit": null,
            "grid_auto_columns": null,
            "margin": null,
            "display": null,
            "left": null
          }
        },
        "73ff972e92d14be4a118c215cc5d5793": {
          "model_module": "@jupyter-widgets/controls",
          "model_name": "FloatProgressModel",
          "model_module_version": "1.5.0",
          "state": {
            "_view_name": "ProgressView",
            "style": "IPY_MODEL_0a5595c531854171b7e978c5d04c62dd",
            "_dom_classes": [],
            "description": "",
            "_model_name": "FloatProgressModel",
            "bar_style": "info",
            "max": 1,
            "_view_module": "@jupyter-widgets/controls",
            "_model_module_version": "1.5.0",
            "value": 1,
            "_view_count": null,
            "_view_module_version": "1.5.0",
            "orientation": "horizontal",
            "min": 0,
            "description_tooltip": null,
            "_model_module": "@jupyter-widgets/controls",
            "layout": "IPY_MODEL_740c72e7e5be49d2a2c04d4a3ec98034"
          }
        },
        "a07ce1ff1388437c9dfdac86af1400de": {
          "model_module": "@jupyter-widgets/controls",
          "model_name": "HTMLModel",
          "model_module_version": "1.5.0",
          "state": {
            "_view_name": "HTMLView",
            "style": "IPY_MODEL_520280dd727c4db6aa956f57bff28433",
            "_dom_classes": [],
            "description": "",
            "_model_name": "HTMLModel",
            "placeholder": "​",
            "_view_module": "@jupyter-widgets/controls",
            "_model_module_version": "1.5.0",
            "value": "1066 examples [00:00, 14508.50 examples/s]",
            "_view_count": null,
            "_view_module_version": "1.5.0",
            "description_tooltip": null,
            "_model_module": "@jupyter-widgets/controls",
            "layout": "IPY_MODEL_de39049f1f3f4a95bcedbe2916cf4c65"
          }
        },
        "0a5595c531854171b7e978c5d04c62dd": {
          "model_module": "@jupyter-widgets/controls",
          "model_name": "ProgressStyleModel",
          "model_module_version": "1.5.0",
          "state": {
            "_view_name": "StyleView",
            "_model_name": "ProgressStyleModel",
            "description_width": "initial",
            "_view_module": "@jupyter-widgets/base",
            "_model_module_version": "1.5.0",
            "_view_count": null,
            "_view_module_version": "1.2.0",
            "bar_color": null,
            "_model_module": "@jupyter-widgets/controls"
          }
        },
        "740c72e7e5be49d2a2c04d4a3ec98034": {
          "model_module": "@jupyter-widgets/base",
          "model_name": "LayoutModel",
          "model_module_version": "1.2.0",
          "state": {
            "_view_name": "LayoutView",
            "grid_template_rows": null,
            "right": null,
            "justify_content": null,
            "_view_module": "@jupyter-widgets/base",
            "overflow": null,
            "_model_module_version": "1.2.0",
            "_view_count": null,
            "flex_flow": null,
            "width": "20px",
            "min_width": null,
            "border": null,
            "align_items": null,
            "bottom": null,
            "_model_module": "@jupyter-widgets/base",
            "top": null,
            "grid_column": null,
            "overflow_y": null,
            "overflow_x": null,
            "grid_auto_flow": null,
            "grid_area": null,
            "grid_template_columns": null,
            "flex": null,
            "_model_name": "LayoutModel",
            "justify_items": null,
            "grid_row": null,
            "max_height": null,
            "align_content": null,
            "visibility": null,
            "align_self": null,
            "height": null,
            "min_height": null,
            "padding": null,
            "grid_auto_rows": null,
            "grid_gap": null,
            "max_width": null,
            "order": null,
            "_view_module_version": "1.2.0",
            "grid_template_areas": null,
            "object_position": null,
            "object_fit": null,
            "grid_auto_columns": null,
            "margin": null,
            "display": null,
            "left": null
          }
        },
        "520280dd727c4db6aa956f57bff28433": {
          "model_module": "@jupyter-widgets/controls",
          "model_name": "DescriptionStyleModel",
          "model_module_version": "1.5.0",
          "state": {
            "_view_name": "StyleView",
            "_model_name": "DescriptionStyleModel",
            "description_width": "",
            "_view_module": "@jupyter-widgets/base",
            "_model_module_version": "1.5.0",
            "_view_count": null,
            "_view_module_version": "1.2.0",
            "_model_module": "@jupyter-widgets/controls"
          }
        },
        "de39049f1f3f4a95bcedbe2916cf4c65": {
          "model_module": "@jupyter-widgets/base",
          "model_name": "LayoutModel",
          "model_module_version": "1.2.0",
          "state": {
            "_view_name": "LayoutView",
            "grid_template_rows": null,
            "right": null,
            "justify_content": null,
            "_view_module": "@jupyter-widgets/base",
            "overflow": null,
            "_model_module_version": "1.2.0",
            "_view_count": null,
            "flex_flow": null,
            "width": null,
            "min_width": null,
            "border": null,
            "align_items": null,
            "bottom": null,
            "_model_module": "@jupyter-widgets/base",
            "top": null,
            "grid_column": null,
            "overflow_y": null,
            "overflow_x": null,
            "grid_auto_flow": null,
            "grid_area": null,
            "grid_template_columns": null,
            "flex": null,
            "_model_name": "LayoutModel",
            "justify_items": null,
            "grid_row": null,
            "max_height": null,
            "align_content": null,
            "visibility": null,
            "align_self": null,
            "height": null,
            "min_height": null,
            "padding": null,
            "grid_auto_rows": null,
            "grid_gap": null,
            "max_width": null,
            "order": null,
            "_view_module_version": "1.2.0",
            "grid_template_areas": null,
            "object_position": null,
            "object_fit": null,
            "grid_auto_columns": null,
            "margin": null,
            "display": null,
            "left": null
          }
        },
        "0b79561ddcb94994a6955e9d86218dd6": {
          "model_module": "@jupyter-widgets/controls",
          "model_name": "HBoxModel",
          "model_module_version": "1.5.0",
          "state": {
            "_view_name": "HBoxView",
            "_dom_classes": [],
            "_model_name": "HBoxModel",
            "_view_module": "@jupyter-widgets/controls",
            "_model_module_version": "1.5.0",
            "_view_count": null,
            "_view_module_version": "1.5.0",
            "box_style": "",
            "layout": "IPY_MODEL_4333ed216ccb41f2a6f3bb9f76532232",
            "_model_module": "@jupyter-widgets/controls",
            "children": [
              "IPY_MODEL_2db6fff68af24a35ae2fa4a475b923d3",
              "IPY_MODEL_31a031fff8ce4b45a3f86c33ff6d2047"
            ]
          }
        },
        "4333ed216ccb41f2a6f3bb9f76532232": {
          "model_module": "@jupyter-widgets/base",
          "model_name": "LayoutModel",
          "model_module_version": "1.2.0",
          "state": {
            "_view_name": "LayoutView",
            "grid_template_rows": null,
            "right": null,
            "justify_content": null,
            "_view_module": "@jupyter-widgets/base",
            "overflow": null,
            "_model_module_version": "1.2.0",
            "_view_count": null,
            "flex_flow": null,
            "width": null,
            "min_width": null,
            "border": null,
            "align_items": null,
            "bottom": null,
            "_model_module": "@jupyter-widgets/base",
            "top": null,
            "grid_column": null,
            "overflow_y": null,
            "overflow_x": null,
            "grid_auto_flow": null,
            "grid_area": null,
            "grid_template_columns": null,
            "flex": null,
            "_model_name": "LayoutModel",
            "justify_items": null,
            "grid_row": null,
            "max_height": null,
            "align_content": null,
            "visibility": null,
            "align_self": null,
            "height": null,
            "min_height": null,
            "padding": null,
            "grid_auto_rows": null,
            "grid_gap": null,
            "max_width": null,
            "order": null,
            "_view_module_version": "1.2.0",
            "grid_template_areas": null,
            "object_position": null,
            "object_fit": null,
            "grid_auto_columns": null,
            "margin": null,
            "display": null,
            "left": null
          }
        },
        "2db6fff68af24a35ae2fa4a475b923d3": {
          "model_module": "@jupyter-widgets/controls",
          "model_name": "FloatProgressModel",
          "model_module_version": "1.5.0",
          "state": {
            "_view_name": "ProgressView",
            "style": "IPY_MODEL_7752afbb59bc4cc28eddb48f6b8fc9c7",
            "_dom_classes": [],
            "description": "Downloading: 100%",
            "_model_name": "FloatProgressModel",
            "bar_style": "success",
            "max": 570,
            "_view_module": "@jupyter-widgets/controls",
            "_model_module_version": "1.5.0",
            "value": 570,
            "_view_count": null,
            "_view_module_version": "1.5.0",
            "orientation": "horizontal",
            "min": 0,
            "description_tooltip": null,
            "_model_module": "@jupyter-widgets/controls",
            "layout": "IPY_MODEL_7d5fe95ecd68494b81925e78daf67cc4"
          }
        },
        "31a031fff8ce4b45a3f86c33ff6d2047": {
          "model_module": "@jupyter-widgets/controls",
          "model_name": "HTMLModel",
          "model_module_version": "1.5.0",
          "state": {
            "_view_name": "HTMLView",
            "style": "IPY_MODEL_250a92d3fdb44a75ac0d539352a19388",
            "_dom_classes": [],
            "description": "",
            "_model_name": "HTMLModel",
            "placeholder": "​",
            "_view_module": "@jupyter-widgets/controls",
            "_model_module_version": "1.5.0",
            "value": " 570/570 [00:00&lt;00:00, 1.85kB/s]",
            "_view_count": null,
            "_view_module_version": "1.5.0",
            "description_tooltip": null,
            "_model_module": "@jupyter-widgets/controls",
            "layout": "IPY_MODEL_103fd11ff33d4750a222685f13cc8890"
          }
        },
        "7752afbb59bc4cc28eddb48f6b8fc9c7": {
          "model_module": "@jupyter-widgets/controls",
          "model_name": "ProgressStyleModel",
          "model_module_version": "1.5.0",
          "state": {
            "_view_name": "StyleView",
            "_model_name": "ProgressStyleModel",
            "description_width": "initial",
            "_view_module": "@jupyter-widgets/base",
            "_model_module_version": "1.5.0",
            "_view_count": null,
            "_view_module_version": "1.2.0",
            "bar_color": null,
            "_model_module": "@jupyter-widgets/controls"
          }
        },
        "7d5fe95ecd68494b81925e78daf67cc4": {
          "model_module": "@jupyter-widgets/base",
          "model_name": "LayoutModel",
          "model_module_version": "1.2.0",
          "state": {
            "_view_name": "LayoutView",
            "grid_template_rows": null,
            "right": null,
            "justify_content": null,
            "_view_module": "@jupyter-widgets/base",
            "overflow": null,
            "_model_module_version": "1.2.0",
            "_view_count": null,
            "flex_flow": null,
            "width": null,
            "min_width": null,
            "border": null,
            "align_items": null,
            "bottom": null,
            "_model_module": "@jupyter-widgets/base",
            "top": null,
            "grid_column": null,
            "overflow_y": null,
            "overflow_x": null,
            "grid_auto_flow": null,
            "grid_area": null,
            "grid_template_columns": null,
            "flex": null,
            "_model_name": "LayoutModel",
            "justify_items": null,
            "grid_row": null,
            "max_height": null,
            "align_content": null,
            "visibility": null,
            "align_self": null,
            "height": null,
            "min_height": null,
            "padding": null,
            "grid_auto_rows": null,
            "grid_gap": null,
            "max_width": null,
            "order": null,
            "_view_module_version": "1.2.0",
            "grid_template_areas": null,
            "object_position": null,
            "object_fit": null,
            "grid_auto_columns": null,
            "margin": null,
            "display": null,
            "left": null
          }
        },
        "250a92d3fdb44a75ac0d539352a19388": {
          "model_module": "@jupyter-widgets/controls",
          "model_name": "DescriptionStyleModel",
          "model_module_version": "1.5.0",
          "state": {
            "_view_name": "StyleView",
            "_model_name": "DescriptionStyleModel",
            "description_width": "",
            "_view_module": "@jupyter-widgets/base",
            "_model_module_version": "1.5.0",
            "_view_count": null,
            "_view_module_version": "1.2.0",
            "_model_module": "@jupyter-widgets/controls"
          }
        },
        "103fd11ff33d4750a222685f13cc8890": {
          "model_module": "@jupyter-widgets/base",
          "model_name": "LayoutModel",
          "model_module_version": "1.2.0",
          "state": {
            "_view_name": "LayoutView",
            "grid_template_rows": null,
            "right": null,
            "justify_content": null,
            "_view_module": "@jupyter-widgets/base",
            "overflow": null,
            "_model_module_version": "1.2.0",
            "_view_count": null,
            "flex_flow": null,
            "width": null,
            "min_width": null,
            "border": null,
            "align_items": null,
            "bottom": null,
            "_model_module": "@jupyter-widgets/base",
            "top": null,
            "grid_column": null,
            "overflow_y": null,
            "overflow_x": null,
            "grid_auto_flow": null,
            "grid_area": null,
            "grid_template_columns": null,
            "flex": null,
            "_model_name": "LayoutModel",
            "justify_items": null,
            "grid_row": null,
            "max_height": null,
            "align_content": null,
            "visibility": null,
            "align_self": null,
            "height": null,
            "min_height": null,
            "padding": null,
            "grid_auto_rows": null,
            "grid_gap": null,
            "max_width": null,
            "order": null,
            "_view_module_version": "1.2.0",
            "grid_template_areas": null,
            "object_position": null,
            "object_fit": null,
            "grid_auto_columns": null,
            "margin": null,
            "display": null,
            "left": null
          }
        },
        "7a2b9efefac8463a9e00944593309cd4": {
          "model_module": "@jupyter-widgets/controls",
          "model_name": "HBoxModel",
          "model_module_version": "1.5.0",
          "state": {
            "_view_name": "HBoxView",
            "_dom_classes": [],
            "_model_name": "HBoxModel",
            "_view_module": "@jupyter-widgets/controls",
            "_model_module_version": "1.5.0",
            "_view_count": null,
            "_view_module_version": "1.5.0",
            "box_style": "",
            "layout": "IPY_MODEL_18401a1bca554b4daa5014aeeced5ad4",
            "_model_module": "@jupyter-widgets/controls",
            "children": [
              "IPY_MODEL_60b05515a26041ee8731958a585739f0",
              "IPY_MODEL_0d865f19e4684b1cba84e2db69e3d830"
            ]
          }
        },
        "18401a1bca554b4daa5014aeeced5ad4": {
          "model_module": "@jupyter-widgets/base",
          "model_name": "LayoutModel",
          "model_module_version": "1.2.0",
          "state": {
            "_view_name": "LayoutView",
            "grid_template_rows": null,
            "right": null,
            "justify_content": null,
            "_view_module": "@jupyter-widgets/base",
            "overflow": null,
            "_model_module_version": "1.2.0",
            "_view_count": null,
            "flex_flow": null,
            "width": null,
            "min_width": null,
            "border": null,
            "align_items": null,
            "bottom": null,
            "_model_module": "@jupyter-widgets/base",
            "top": null,
            "grid_column": null,
            "overflow_y": null,
            "overflow_x": null,
            "grid_auto_flow": null,
            "grid_area": null,
            "grid_template_columns": null,
            "flex": null,
            "_model_name": "LayoutModel",
            "justify_items": null,
            "grid_row": null,
            "max_height": null,
            "align_content": null,
            "visibility": null,
            "align_self": null,
            "height": null,
            "min_height": null,
            "padding": null,
            "grid_auto_rows": null,
            "grid_gap": null,
            "max_width": null,
            "order": null,
            "_view_module_version": "1.2.0",
            "grid_template_areas": null,
            "object_position": null,
            "object_fit": null,
            "grid_auto_columns": null,
            "margin": null,
            "display": null,
            "left": null
          }
        },
        "60b05515a26041ee8731958a585739f0": {
          "model_module": "@jupyter-widgets/controls",
          "model_name": "FloatProgressModel",
          "model_module_version": "1.5.0",
          "state": {
            "_view_name": "ProgressView",
            "style": "IPY_MODEL_3c09d81cf0dd4bfe8df44df4828b6ba9",
            "_dom_classes": [],
            "description": "Downloading: 100%",
            "_model_name": "FloatProgressModel",
            "bar_style": "success",
            "max": 440473133,
            "_view_module": "@jupyter-widgets/controls",
            "_model_module_version": "1.5.0",
            "value": 440473133,
            "_view_count": null,
            "_view_module_version": "1.5.0",
            "orientation": "horizontal",
            "min": 0,
            "description_tooltip": null,
            "_model_module": "@jupyter-widgets/controls",
            "layout": "IPY_MODEL_65b5a89d3fd84ac3b566da2aac63dc9f"
          }
        },
        "0d865f19e4684b1cba84e2db69e3d830": {
          "model_module": "@jupyter-widgets/controls",
          "model_name": "HTMLModel",
          "model_module_version": "1.5.0",
          "state": {
            "_view_name": "HTMLView",
            "style": "IPY_MODEL_7c66f289ccc042938084e2291f78b94f",
            "_dom_classes": [],
            "description": "",
            "_model_name": "HTMLModel",
            "placeholder": "​",
            "_view_module": "@jupyter-widgets/controls",
            "_model_module_version": "1.5.0",
            "value": " 420M/420M [00:38&lt;00:00, 11.5MB/s]",
            "_view_count": null,
            "_view_module_version": "1.5.0",
            "description_tooltip": null,
            "_model_module": "@jupyter-widgets/controls",
            "layout": "IPY_MODEL_096b54354a9346f2b920b36280b73881"
          }
        },
        "3c09d81cf0dd4bfe8df44df4828b6ba9": {
          "model_module": "@jupyter-widgets/controls",
          "model_name": "ProgressStyleModel",
          "model_module_version": "1.5.0",
          "state": {
            "_view_name": "StyleView",
            "_model_name": "ProgressStyleModel",
            "description_width": "initial",
            "_view_module": "@jupyter-widgets/base",
            "_model_module_version": "1.5.0",
            "_view_count": null,
            "_view_module_version": "1.2.0",
            "bar_color": null,
            "_model_module": "@jupyter-widgets/controls"
          }
        },
        "65b5a89d3fd84ac3b566da2aac63dc9f": {
          "model_module": "@jupyter-widgets/base",
          "model_name": "LayoutModel",
          "model_module_version": "1.2.0",
          "state": {
            "_view_name": "LayoutView",
            "grid_template_rows": null,
            "right": null,
            "justify_content": null,
            "_view_module": "@jupyter-widgets/base",
            "overflow": null,
            "_model_module_version": "1.2.0",
            "_view_count": null,
            "flex_flow": null,
            "width": null,
            "min_width": null,
            "border": null,
            "align_items": null,
            "bottom": null,
            "_model_module": "@jupyter-widgets/base",
            "top": null,
            "grid_column": null,
            "overflow_y": null,
            "overflow_x": null,
            "grid_auto_flow": null,
            "grid_area": null,
            "grid_template_columns": null,
            "flex": null,
            "_model_name": "LayoutModel",
            "justify_items": null,
            "grid_row": null,
            "max_height": null,
            "align_content": null,
            "visibility": null,
            "align_self": null,
            "height": null,
            "min_height": null,
            "padding": null,
            "grid_auto_rows": null,
            "grid_gap": null,
            "max_width": null,
            "order": null,
            "_view_module_version": "1.2.0",
            "grid_template_areas": null,
            "object_position": null,
            "object_fit": null,
            "grid_auto_columns": null,
            "margin": null,
            "display": null,
            "left": null
          }
        },
        "7c66f289ccc042938084e2291f78b94f": {
          "model_module": "@jupyter-widgets/controls",
          "model_name": "DescriptionStyleModel",
          "model_module_version": "1.5.0",
          "state": {
            "_view_name": "StyleView",
            "_model_name": "DescriptionStyleModel",
            "description_width": "",
            "_view_module": "@jupyter-widgets/base",
            "_model_module_version": "1.5.0",
            "_view_count": null,
            "_view_module_version": "1.2.0",
            "_model_module": "@jupyter-widgets/controls"
          }
        },
        "096b54354a9346f2b920b36280b73881": {
          "model_module": "@jupyter-widgets/base",
          "model_name": "LayoutModel",
          "model_module_version": "1.2.0",
          "state": {
            "_view_name": "LayoutView",
            "grid_template_rows": null,
            "right": null,
            "justify_content": null,
            "_view_module": "@jupyter-widgets/base",
            "overflow": null,
            "_model_module_version": "1.2.0",
            "_view_count": null,
            "flex_flow": null,
            "width": null,
            "min_width": null,
            "border": null,
            "align_items": null,
            "bottom": null,
            "_model_module": "@jupyter-widgets/base",
            "top": null,
            "grid_column": null,
            "overflow_y": null,
            "overflow_x": null,
            "grid_auto_flow": null,
            "grid_area": null,
            "grid_template_columns": null,
            "flex": null,
            "_model_name": "LayoutModel",
            "justify_items": null,
            "grid_row": null,
            "max_height": null,
            "align_content": null,
            "visibility": null,
            "align_self": null,
            "height": null,
            "min_height": null,
            "padding": null,
            "grid_auto_rows": null,
            "grid_gap": null,
            "max_width": null,
            "order": null,
            "_view_module_version": "1.2.0",
            "grid_template_areas": null,
            "object_position": null,
            "object_fit": null,
            "grid_auto_columns": null,
            "margin": null,
            "display": null,
            "left": null
          }
        },
        "71093297219e4fe1afd45d8b8a99000b": {
          "model_module": "@jupyter-widgets/controls",
          "model_name": "HBoxModel",
          "model_module_version": "1.5.0",
          "state": {
            "_view_name": "HBoxView",
            "_dom_classes": [],
            "_model_name": "HBoxModel",
            "_view_module": "@jupyter-widgets/controls",
            "_model_module_version": "1.5.0",
            "_view_count": null,
            "_view_module_version": "1.5.0",
            "box_style": "",
            "layout": "IPY_MODEL_29465f6a2ca74544b892406ac975d365",
            "_model_module": "@jupyter-widgets/controls",
            "children": [
              "IPY_MODEL_287679ccfd0d4bf18e762e5776ccb749",
              "IPY_MODEL_4d78b36b0c074827b9efc5a9045e730e"
            ]
          }
        },
        "29465f6a2ca74544b892406ac975d365": {
          "model_module": "@jupyter-widgets/base",
          "model_name": "LayoutModel",
          "model_module_version": "1.2.0",
          "state": {
            "_view_name": "LayoutView",
            "grid_template_rows": null,
            "right": null,
            "justify_content": null,
            "_view_module": "@jupyter-widgets/base",
            "overflow": null,
            "_model_module_version": "1.2.0",
            "_view_count": null,
            "flex_flow": null,
            "width": null,
            "min_width": null,
            "border": null,
            "align_items": null,
            "bottom": null,
            "_model_module": "@jupyter-widgets/base",
            "top": null,
            "grid_column": null,
            "overflow_y": null,
            "overflow_x": null,
            "grid_auto_flow": null,
            "grid_area": null,
            "grid_template_columns": null,
            "flex": null,
            "_model_name": "LayoutModel",
            "justify_items": null,
            "grid_row": null,
            "max_height": null,
            "align_content": null,
            "visibility": null,
            "align_self": null,
            "height": null,
            "min_height": null,
            "padding": null,
            "grid_auto_rows": null,
            "grid_gap": null,
            "max_width": null,
            "order": null,
            "_view_module_version": "1.2.0",
            "grid_template_areas": null,
            "object_position": null,
            "object_fit": null,
            "grid_auto_columns": null,
            "margin": null,
            "display": null,
            "left": null
          }
        },
        "287679ccfd0d4bf18e762e5776ccb749": {
          "model_module": "@jupyter-widgets/controls",
          "model_name": "FloatProgressModel",
          "model_module_version": "1.5.0",
          "state": {
            "_view_name": "ProgressView",
            "style": "IPY_MODEL_b39bafe01b0d4943a520188c4a2ef499",
            "_dom_classes": [],
            "description": "Downloading: 100%",
            "_model_name": "FloatProgressModel",
            "bar_style": "success",
            "max": 28,
            "_view_module": "@jupyter-widgets/controls",
            "_model_module_version": "1.5.0",
            "value": 28,
            "_view_count": null,
            "_view_module_version": "1.5.0",
            "orientation": "horizontal",
            "min": 0,
            "description_tooltip": null,
            "_model_module": "@jupyter-widgets/controls",
            "layout": "IPY_MODEL_eb23f5ad06594a79909a75c90ebb3dba"
          }
        },
        "4d78b36b0c074827b9efc5a9045e730e": {
          "model_module": "@jupyter-widgets/controls",
          "model_name": "HTMLModel",
          "model_module_version": "1.5.0",
          "state": {
            "_view_name": "HTMLView",
            "style": "IPY_MODEL_113cefacd7fc497880064860238e236f",
            "_dom_classes": [],
            "description": "",
            "_model_name": "HTMLModel",
            "placeholder": "​",
            "_view_module": "@jupyter-widgets/controls",
            "_model_module_version": "1.5.0",
            "value": " 28.0/28.0 [00:00&lt;00:00, 54.8B/s]",
            "_view_count": null,
            "_view_module_version": "1.5.0",
            "description_tooltip": null,
            "_model_module": "@jupyter-widgets/controls",
            "layout": "IPY_MODEL_ca071a8f55214ca5b2917899720e6880"
          }
        },
        "b39bafe01b0d4943a520188c4a2ef499": {
          "model_module": "@jupyter-widgets/controls",
          "model_name": "ProgressStyleModel",
          "model_module_version": "1.5.0",
          "state": {
            "_view_name": "StyleView",
            "_model_name": "ProgressStyleModel",
            "description_width": "initial",
            "_view_module": "@jupyter-widgets/base",
            "_model_module_version": "1.5.0",
            "_view_count": null,
            "_view_module_version": "1.2.0",
            "bar_color": null,
            "_model_module": "@jupyter-widgets/controls"
          }
        },
        "eb23f5ad06594a79909a75c90ebb3dba": {
          "model_module": "@jupyter-widgets/base",
          "model_name": "LayoutModel",
          "model_module_version": "1.2.0",
          "state": {
            "_view_name": "LayoutView",
            "grid_template_rows": null,
            "right": null,
            "justify_content": null,
            "_view_module": "@jupyter-widgets/base",
            "overflow": null,
            "_model_module_version": "1.2.0",
            "_view_count": null,
            "flex_flow": null,
            "width": null,
            "min_width": null,
            "border": null,
            "align_items": null,
            "bottom": null,
            "_model_module": "@jupyter-widgets/base",
            "top": null,
            "grid_column": null,
            "overflow_y": null,
            "overflow_x": null,
            "grid_auto_flow": null,
            "grid_area": null,
            "grid_template_columns": null,
            "flex": null,
            "_model_name": "LayoutModel",
            "justify_items": null,
            "grid_row": null,
            "max_height": null,
            "align_content": null,
            "visibility": null,
            "align_self": null,
            "height": null,
            "min_height": null,
            "padding": null,
            "grid_auto_rows": null,
            "grid_gap": null,
            "max_width": null,
            "order": null,
            "_view_module_version": "1.2.0",
            "grid_template_areas": null,
            "object_position": null,
            "object_fit": null,
            "grid_auto_columns": null,
            "margin": null,
            "display": null,
            "left": null
          }
        },
        "113cefacd7fc497880064860238e236f": {
          "model_module": "@jupyter-widgets/controls",
          "model_name": "DescriptionStyleModel",
          "model_module_version": "1.5.0",
          "state": {
            "_view_name": "StyleView",
            "_model_name": "DescriptionStyleModel",
            "description_width": "",
            "_view_module": "@jupyter-widgets/base",
            "_model_module_version": "1.5.0",
            "_view_count": null,
            "_view_module_version": "1.2.0",
            "_model_module": "@jupyter-widgets/controls"
          }
        },
        "ca071a8f55214ca5b2917899720e6880": {
          "model_module": "@jupyter-widgets/base",
          "model_name": "LayoutModel",
          "model_module_version": "1.2.0",
          "state": {
            "_view_name": "LayoutView",
            "grid_template_rows": null,
            "right": null,
            "justify_content": null,
            "_view_module": "@jupyter-widgets/base",
            "overflow": null,
            "_model_module_version": "1.2.0",
            "_view_count": null,
            "flex_flow": null,
            "width": null,
            "min_width": null,
            "border": null,
            "align_items": null,
            "bottom": null,
            "_model_module": "@jupyter-widgets/base",
            "top": null,
            "grid_column": null,
            "overflow_y": null,
            "overflow_x": null,
            "grid_auto_flow": null,
            "grid_area": null,
            "grid_template_columns": null,
            "flex": null,
            "_model_name": "LayoutModel",
            "justify_items": null,
            "grid_row": null,
            "max_height": null,
            "align_content": null,
            "visibility": null,
            "align_self": null,
            "height": null,
            "min_height": null,
            "padding": null,
            "grid_auto_rows": null,
            "grid_gap": null,
            "max_width": null,
            "order": null,
            "_view_module_version": "1.2.0",
            "grid_template_areas": null,
            "object_position": null,
            "object_fit": null,
            "grid_auto_columns": null,
            "margin": null,
            "display": null,
            "left": null
          }
        },
        "89a1864b8d7e4f31b9f0fb0bcbcfc980": {
          "model_module": "@jupyter-widgets/controls",
          "model_name": "HBoxModel",
          "model_module_version": "1.5.0",
          "state": {
            "_view_name": "HBoxView",
            "_dom_classes": [],
            "_model_name": "HBoxModel",
            "_view_module": "@jupyter-widgets/controls",
            "_model_module_version": "1.5.0",
            "_view_count": null,
            "_view_module_version": "1.5.0",
            "box_style": "",
            "layout": "IPY_MODEL_6d32e4f857944dfabfda6f3475524f10",
            "_model_module": "@jupyter-widgets/controls",
            "children": [
              "IPY_MODEL_af367c1fd33f48f786e25867cf044083",
              "IPY_MODEL_d213ba25ce664ac6917975c403d1e6c9"
            ]
          }
        },
        "6d32e4f857944dfabfda6f3475524f10": {
          "model_module": "@jupyter-widgets/base",
          "model_name": "LayoutModel",
          "model_module_version": "1.2.0",
          "state": {
            "_view_name": "LayoutView",
            "grid_template_rows": null,
            "right": null,
            "justify_content": null,
            "_view_module": "@jupyter-widgets/base",
            "overflow": null,
            "_model_module_version": "1.2.0",
            "_view_count": null,
            "flex_flow": null,
            "width": null,
            "min_width": null,
            "border": null,
            "align_items": null,
            "bottom": null,
            "_model_module": "@jupyter-widgets/base",
            "top": null,
            "grid_column": null,
            "overflow_y": null,
            "overflow_x": null,
            "grid_auto_flow": null,
            "grid_area": null,
            "grid_template_columns": null,
            "flex": null,
            "_model_name": "LayoutModel",
            "justify_items": null,
            "grid_row": null,
            "max_height": null,
            "align_content": null,
            "visibility": null,
            "align_self": null,
            "height": null,
            "min_height": null,
            "padding": null,
            "grid_auto_rows": null,
            "grid_gap": null,
            "max_width": null,
            "order": null,
            "_view_module_version": "1.2.0",
            "grid_template_areas": null,
            "object_position": null,
            "object_fit": null,
            "grid_auto_columns": null,
            "margin": null,
            "display": null,
            "left": null
          }
        },
        "af367c1fd33f48f786e25867cf044083": {
          "model_module": "@jupyter-widgets/controls",
          "model_name": "FloatProgressModel",
          "model_module_version": "1.5.0",
          "state": {
            "_view_name": "ProgressView",
            "style": "IPY_MODEL_f35682d3467b4ee5ac6e17984dd8a4fd",
            "_dom_classes": [],
            "description": "Downloading: 100%",
            "_model_name": "FloatProgressModel",
            "bar_style": "success",
            "max": 231508,
            "_view_module": "@jupyter-widgets/controls",
            "_model_module_version": "1.5.0",
            "value": 231508,
            "_view_count": null,
            "_view_module_version": "1.5.0",
            "orientation": "horizontal",
            "min": 0,
            "description_tooltip": null,
            "_model_module": "@jupyter-widgets/controls",
            "layout": "IPY_MODEL_06f691de26a24cc4a0b0b8c905474c2f"
          }
        },
        "d213ba25ce664ac6917975c403d1e6c9": {
          "model_module": "@jupyter-widgets/controls",
          "model_name": "HTMLModel",
          "model_module_version": "1.5.0",
          "state": {
            "_view_name": "HTMLView",
            "style": "IPY_MODEL_13868dd2981e4ffca7d6fc7202e153ff",
            "_dom_classes": [],
            "description": "",
            "_model_name": "HTMLModel",
            "placeholder": "​",
            "_view_module": "@jupyter-widgets/controls",
            "_model_module_version": "1.5.0",
            "value": " 226k/226k [00:10&lt;00:00, 21.2kB/s]",
            "_view_count": null,
            "_view_module_version": "1.5.0",
            "description_tooltip": null,
            "_model_module": "@jupyter-widgets/controls",
            "layout": "IPY_MODEL_71e1b57203254414bf8592592aba26bb"
          }
        },
        "f35682d3467b4ee5ac6e17984dd8a4fd": {
          "model_module": "@jupyter-widgets/controls",
          "model_name": "ProgressStyleModel",
          "model_module_version": "1.5.0",
          "state": {
            "_view_name": "StyleView",
            "_model_name": "ProgressStyleModel",
            "description_width": "initial",
            "_view_module": "@jupyter-widgets/base",
            "_model_module_version": "1.5.0",
            "_view_count": null,
            "_view_module_version": "1.2.0",
            "bar_color": null,
            "_model_module": "@jupyter-widgets/controls"
          }
        },
        "06f691de26a24cc4a0b0b8c905474c2f": {
          "model_module": "@jupyter-widgets/base",
          "model_name": "LayoutModel",
          "model_module_version": "1.2.0",
          "state": {
            "_view_name": "LayoutView",
            "grid_template_rows": null,
            "right": null,
            "justify_content": null,
            "_view_module": "@jupyter-widgets/base",
            "overflow": null,
            "_model_module_version": "1.2.0",
            "_view_count": null,
            "flex_flow": null,
            "width": null,
            "min_width": null,
            "border": null,
            "align_items": null,
            "bottom": null,
            "_model_module": "@jupyter-widgets/base",
            "top": null,
            "grid_column": null,
            "overflow_y": null,
            "overflow_x": null,
            "grid_auto_flow": null,
            "grid_area": null,
            "grid_template_columns": null,
            "flex": null,
            "_model_name": "LayoutModel",
            "justify_items": null,
            "grid_row": null,
            "max_height": null,
            "align_content": null,
            "visibility": null,
            "align_self": null,
            "height": null,
            "min_height": null,
            "padding": null,
            "grid_auto_rows": null,
            "grid_gap": null,
            "max_width": null,
            "order": null,
            "_view_module_version": "1.2.0",
            "grid_template_areas": null,
            "object_position": null,
            "object_fit": null,
            "grid_auto_columns": null,
            "margin": null,
            "display": null,
            "left": null
          }
        },
        "13868dd2981e4ffca7d6fc7202e153ff": {
          "model_module": "@jupyter-widgets/controls",
          "model_name": "DescriptionStyleModel",
          "model_module_version": "1.5.0",
          "state": {
            "_view_name": "StyleView",
            "_model_name": "DescriptionStyleModel",
            "description_width": "",
            "_view_module": "@jupyter-widgets/base",
            "_model_module_version": "1.5.0",
            "_view_count": null,
            "_view_module_version": "1.2.0",
            "_model_module": "@jupyter-widgets/controls"
          }
        },
        "71e1b57203254414bf8592592aba26bb": {
          "model_module": "@jupyter-widgets/base",
          "model_name": "LayoutModel",
          "model_module_version": "1.2.0",
          "state": {
            "_view_name": "LayoutView",
            "grid_template_rows": null,
            "right": null,
            "justify_content": null,
            "_view_module": "@jupyter-widgets/base",
            "overflow": null,
            "_model_module_version": "1.2.0",
            "_view_count": null,
            "flex_flow": null,
            "width": null,
            "min_width": null,
            "border": null,
            "align_items": null,
            "bottom": null,
            "_model_module": "@jupyter-widgets/base",
            "top": null,
            "grid_column": null,
            "overflow_y": null,
            "overflow_x": null,
            "grid_auto_flow": null,
            "grid_area": null,
            "grid_template_columns": null,
            "flex": null,
            "_model_name": "LayoutModel",
            "justify_items": null,
            "grid_row": null,
            "max_height": null,
            "align_content": null,
            "visibility": null,
            "align_self": null,
            "height": null,
            "min_height": null,
            "padding": null,
            "grid_auto_rows": null,
            "grid_gap": null,
            "max_width": null,
            "order": null,
            "_view_module_version": "1.2.0",
            "grid_template_areas": null,
            "object_position": null,
            "object_fit": null,
            "grid_auto_columns": null,
            "margin": null,
            "display": null,
            "left": null
          }
        },
        "c05f24b096c840f49c44cd1455f28bd1": {
          "model_module": "@jupyter-widgets/controls",
          "model_name": "HBoxModel",
          "model_module_version": "1.5.0",
          "state": {
            "_view_name": "HBoxView",
            "_dom_classes": [],
            "_model_name": "HBoxModel",
            "_view_module": "@jupyter-widgets/controls",
            "_model_module_version": "1.5.0",
            "_view_count": null,
            "_view_module_version": "1.5.0",
            "box_style": "",
            "layout": "IPY_MODEL_2ec18cd40d1c41e1acd947231424e196",
            "_model_module": "@jupyter-widgets/controls",
            "children": [
              "IPY_MODEL_c2ac7e37cd3c4169a8fd92e1bb14a533",
              "IPY_MODEL_771e617aec804643a5ba93229ebfdd5e"
            ]
          }
        },
        "2ec18cd40d1c41e1acd947231424e196": {
          "model_module": "@jupyter-widgets/base",
          "model_name": "LayoutModel",
          "model_module_version": "1.2.0",
          "state": {
            "_view_name": "LayoutView",
            "grid_template_rows": null,
            "right": null,
            "justify_content": null,
            "_view_module": "@jupyter-widgets/base",
            "overflow": null,
            "_model_module_version": "1.2.0",
            "_view_count": null,
            "flex_flow": null,
            "width": null,
            "min_width": null,
            "border": null,
            "align_items": null,
            "bottom": null,
            "_model_module": "@jupyter-widgets/base",
            "top": null,
            "grid_column": null,
            "overflow_y": null,
            "overflow_x": null,
            "grid_auto_flow": null,
            "grid_area": null,
            "grid_template_columns": null,
            "flex": null,
            "_model_name": "LayoutModel",
            "justify_items": null,
            "grid_row": null,
            "max_height": null,
            "align_content": null,
            "visibility": null,
            "align_self": null,
            "height": null,
            "min_height": null,
            "padding": null,
            "grid_auto_rows": null,
            "grid_gap": null,
            "max_width": null,
            "order": null,
            "_view_module_version": "1.2.0",
            "grid_template_areas": null,
            "object_position": null,
            "object_fit": null,
            "grid_auto_columns": null,
            "margin": null,
            "display": null,
            "left": null
          }
        },
        "c2ac7e37cd3c4169a8fd92e1bb14a533": {
          "model_module": "@jupyter-widgets/controls",
          "model_name": "FloatProgressModel",
          "model_module_version": "1.5.0",
          "state": {
            "_view_name": "ProgressView",
            "style": "IPY_MODEL_e067c8a65fbc41a0ace2e94ba2ae4507",
            "_dom_classes": [],
            "description": "Downloading: 100%",
            "_model_name": "FloatProgressModel",
            "bar_style": "success",
            "max": 466062,
            "_view_module": "@jupyter-widgets/controls",
            "_model_module_version": "1.5.0",
            "value": 466062,
            "_view_count": null,
            "_view_module_version": "1.5.0",
            "orientation": "horizontal",
            "min": 0,
            "description_tooltip": null,
            "_model_module": "@jupyter-widgets/controls",
            "layout": "IPY_MODEL_e140e05262564e0189bac3746b120e23"
          }
        },
        "771e617aec804643a5ba93229ebfdd5e": {
          "model_module": "@jupyter-widgets/controls",
          "model_name": "HTMLModel",
          "model_module_version": "1.5.0",
          "state": {
            "_view_name": "HTMLView",
            "style": "IPY_MODEL_a69e412d18c247749a034021eb438803",
            "_dom_classes": [],
            "description": "",
            "_model_name": "HTMLModel",
            "placeholder": "​",
            "_view_module": "@jupyter-widgets/controls",
            "_model_module_version": "1.5.0",
            "value": " 455k/455k [00:10&lt;00:00, 44.1kB/s]",
            "_view_count": null,
            "_view_module_version": "1.5.0",
            "description_tooltip": null,
            "_model_module": "@jupyter-widgets/controls",
            "layout": "IPY_MODEL_ecf6a606c47d481cb13399415d8640d5"
          }
        },
        "e067c8a65fbc41a0ace2e94ba2ae4507": {
          "model_module": "@jupyter-widgets/controls",
          "model_name": "ProgressStyleModel",
          "model_module_version": "1.5.0",
          "state": {
            "_view_name": "StyleView",
            "_model_name": "ProgressStyleModel",
            "description_width": "initial",
            "_view_module": "@jupyter-widgets/base",
            "_model_module_version": "1.5.0",
            "_view_count": null,
            "_view_module_version": "1.2.0",
            "bar_color": null,
            "_model_module": "@jupyter-widgets/controls"
          }
        },
        "e140e05262564e0189bac3746b120e23": {
          "model_module": "@jupyter-widgets/base",
          "model_name": "LayoutModel",
          "model_module_version": "1.2.0",
          "state": {
            "_view_name": "LayoutView",
            "grid_template_rows": null,
            "right": null,
            "justify_content": null,
            "_view_module": "@jupyter-widgets/base",
            "overflow": null,
            "_model_module_version": "1.2.0",
            "_view_count": null,
            "flex_flow": null,
            "width": null,
            "min_width": null,
            "border": null,
            "align_items": null,
            "bottom": null,
            "_model_module": "@jupyter-widgets/base",
            "top": null,
            "grid_column": null,
            "overflow_y": null,
            "overflow_x": null,
            "grid_auto_flow": null,
            "grid_area": null,
            "grid_template_columns": null,
            "flex": null,
            "_model_name": "LayoutModel",
            "justify_items": null,
            "grid_row": null,
            "max_height": null,
            "align_content": null,
            "visibility": null,
            "align_self": null,
            "height": null,
            "min_height": null,
            "padding": null,
            "grid_auto_rows": null,
            "grid_gap": null,
            "max_width": null,
            "order": null,
            "_view_module_version": "1.2.0",
            "grid_template_areas": null,
            "object_position": null,
            "object_fit": null,
            "grid_auto_columns": null,
            "margin": null,
            "display": null,
            "left": null
          }
        },
        "a69e412d18c247749a034021eb438803": {
          "model_module": "@jupyter-widgets/controls",
          "model_name": "DescriptionStyleModel",
          "model_module_version": "1.5.0",
          "state": {
            "_view_name": "StyleView",
            "_model_name": "DescriptionStyleModel",
            "description_width": "",
            "_view_module": "@jupyter-widgets/base",
            "_model_module_version": "1.5.0",
            "_view_count": null,
            "_view_module_version": "1.2.0",
            "_model_module": "@jupyter-widgets/controls"
          }
        },
        "ecf6a606c47d481cb13399415d8640d5": {
          "model_module": "@jupyter-widgets/base",
          "model_name": "LayoutModel",
          "model_module_version": "1.2.0",
          "state": {
            "_view_name": "LayoutView",
            "grid_template_rows": null,
            "right": null,
            "justify_content": null,
            "_view_module": "@jupyter-widgets/base",
            "overflow": null,
            "_model_module_version": "1.2.0",
            "_view_count": null,
            "flex_flow": null,
            "width": null,
            "min_width": null,
            "border": null,
            "align_items": null,
            "bottom": null,
            "_model_module": "@jupyter-widgets/base",
            "top": null,
            "grid_column": null,
            "overflow_y": null,
            "overflow_x": null,
            "grid_auto_flow": null,
            "grid_area": null,
            "grid_template_columns": null,
            "flex": null,
            "_model_name": "LayoutModel",
            "justify_items": null,
            "grid_row": null,
            "max_height": null,
            "align_content": null,
            "visibility": null,
            "align_self": null,
            "height": null,
            "min_height": null,
            "padding": null,
            "grid_auto_rows": null,
            "grid_gap": null,
            "max_width": null,
            "order": null,
            "_view_module_version": "1.2.0",
            "grid_template_areas": null,
            "object_position": null,
            "object_fit": null,
            "grid_auto_columns": null,
            "margin": null,
            "display": null,
            "left": null
          }
        },
        "6b4f25c1e37d4867848e979917e1866f": {
          "model_module": "@jupyter-widgets/controls",
          "model_name": "HBoxModel",
          "model_module_version": "1.5.0",
          "state": {
            "_view_name": "HBoxView",
            "_dom_classes": [],
            "_model_name": "HBoxModel",
            "_view_module": "@jupyter-widgets/controls",
            "_model_module_version": "1.5.0",
            "_view_count": null,
            "_view_module_version": "1.5.0",
            "box_style": "",
            "layout": "IPY_MODEL_7e2178a555154be9b022adbcf00775fe",
            "_model_module": "@jupyter-widgets/controls",
            "children": [
              "IPY_MODEL_474d8e43e5394d389ab7b779c57bbed1",
              "IPY_MODEL_3e0c5ee660384559ad4bf836698edf1a"
            ]
          }
        },
        "7e2178a555154be9b022adbcf00775fe": {
          "model_module": "@jupyter-widgets/base",
          "model_name": "LayoutModel",
          "model_module_version": "1.2.0",
          "state": {
            "_view_name": "LayoutView",
            "grid_template_rows": null,
            "right": null,
            "justify_content": null,
            "_view_module": "@jupyter-widgets/base",
            "overflow": null,
            "_model_module_version": "1.2.0",
            "_view_count": null,
            "flex_flow": null,
            "width": null,
            "min_width": null,
            "border": null,
            "align_items": null,
            "bottom": null,
            "_model_module": "@jupyter-widgets/base",
            "top": null,
            "grid_column": null,
            "overflow_y": null,
            "overflow_x": null,
            "grid_auto_flow": null,
            "grid_area": null,
            "grid_template_columns": null,
            "flex": null,
            "_model_name": "LayoutModel",
            "justify_items": null,
            "grid_row": null,
            "max_height": null,
            "align_content": null,
            "visibility": null,
            "align_self": null,
            "height": null,
            "min_height": null,
            "padding": null,
            "grid_auto_rows": null,
            "grid_gap": null,
            "max_width": null,
            "order": null,
            "_view_module_version": "1.2.0",
            "grid_template_areas": null,
            "object_position": null,
            "object_fit": null,
            "grid_auto_columns": null,
            "margin": null,
            "display": null,
            "left": null
          }
        },
        "474d8e43e5394d389ab7b779c57bbed1": {
          "model_module": "@jupyter-widgets/controls",
          "model_name": "FloatProgressModel",
          "model_module_version": "1.5.0",
          "state": {
            "_view_name": "ProgressView",
            "style": "IPY_MODEL_f31ce134373e458cb04308888805903c",
            "_dom_classes": [],
            "description": "Downloading: 100%",
            "_model_name": "FloatProgressModel",
            "bar_style": "success",
            "max": 432176557,
            "_view_module": "@jupyter-widgets/controls",
            "_model_module_version": "1.5.0",
            "value": 432176557,
            "_view_count": null,
            "_view_module_version": "1.5.0",
            "orientation": "horizontal",
            "min": 0,
            "description_tooltip": null,
            "_model_module": "@jupyter-widgets/controls",
            "layout": "IPY_MODEL_ea3b284f4903444e8a839f79d8244ac8"
          }
        },
        "3e0c5ee660384559ad4bf836698edf1a": {
          "model_module": "@jupyter-widgets/controls",
          "model_name": "HTMLModel",
          "model_module_version": "1.5.0",
          "state": {
            "_view_name": "HTMLView",
            "style": "IPY_MODEL_ccfcf6ccccc8484e9cd38b04ae0f2d73",
            "_dom_classes": [],
            "description": "",
            "_model_name": "HTMLModel",
            "placeholder": "​",
            "_view_module": "@jupyter-widgets/controls",
            "_model_module_version": "1.5.0",
            "value": " 432M/432M [00:11&lt;00:00, 36.4MB/s]",
            "_view_count": null,
            "_view_module_version": "1.5.0",
            "description_tooltip": null,
            "_model_module": "@jupyter-widgets/controls",
            "layout": "IPY_MODEL_215d3973f0504ac5a5adc3ae7f8b5d5f"
          }
        },
        "f31ce134373e458cb04308888805903c": {
          "model_module": "@jupyter-widgets/controls",
          "model_name": "ProgressStyleModel",
          "model_module_version": "1.5.0",
          "state": {
            "_view_name": "StyleView",
            "_model_name": "ProgressStyleModel",
            "description_width": "initial",
            "_view_module": "@jupyter-widgets/base",
            "_model_module_version": "1.5.0",
            "_view_count": null,
            "_view_module_version": "1.2.0",
            "bar_color": null,
            "_model_module": "@jupyter-widgets/controls"
          }
        },
        "ea3b284f4903444e8a839f79d8244ac8": {
          "model_module": "@jupyter-widgets/base",
          "model_name": "LayoutModel",
          "model_module_version": "1.2.0",
          "state": {
            "_view_name": "LayoutView",
            "grid_template_rows": null,
            "right": null,
            "justify_content": null,
            "_view_module": "@jupyter-widgets/base",
            "overflow": null,
            "_model_module_version": "1.2.0",
            "_view_count": null,
            "flex_flow": null,
            "width": null,
            "min_width": null,
            "border": null,
            "align_items": null,
            "bottom": null,
            "_model_module": "@jupyter-widgets/base",
            "top": null,
            "grid_column": null,
            "overflow_y": null,
            "overflow_x": null,
            "grid_auto_flow": null,
            "grid_area": null,
            "grid_template_columns": null,
            "flex": null,
            "_model_name": "LayoutModel",
            "justify_items": null,
            "grid_row": null,
            "max_height": null,
            "align_content": null,
            "visibility": null,
            "align_self": null,
            "height": null,
            "min_height": null,
            "padding": null,
            "grid_auto_rows": null,
            "grid_gap": null,
            "max_width": null,
            "order": null,
            "_view_module_version": "1.2.0",
            "grid_template_areas": null,
            "object_position": null,
            "object_fit": null,
            "grid_auto_columns": null,
            "margin": null,
            "display": null,
            "left": null
          }
        },
        "ccfcf6ccccc8484e9cd38b04ae0f2d73": {
          "model_module": "@jupyter-widgets/controls",
          "model_name": "DescriptionStyleModel",
          "model_module_version": "1.5.0",
          "state": {
            "_view_name": "StyleView",
            "_model_name": "DescriptionStyleModel",
            "description_width": "",
            "_view_module": "@jupyter-widgets/base",
            "_model_module_version": "1.5.0",
            "_view_count": null,
            "_view_module_version": "1.2.0",
            "_model_module": "@jupyter-widgets/controls"
          }
        },
        "215d3973f0504ac5a5adc3ae7f8b5d5f": {
          "model_module": "@jupyter-widgets/base",
          "model_name": "LayoutModel",
          "model_module_version": "1.2.0",
          "state": {
            "_view_name": "LayoutView",
            "grid_template_rows": null,
            "right": null,
            "justify_content": null,
            "_view_module": "@jupyter-widgets/base",
            "overflow": null,
            "_model_module_version": "1.2.0",
            "_view_count": null,
            "flex_flow": null,
            "width": null,
            "min_width": null,
            "border": null,
            "align_items": null,
            "bottom": null,
            "_model_module": "@jupyter-widgets/base",
            "top": null,
            "grid_column": null,
            "overflow_y": null,
            "overflow_x": null,
            "grid_auto_flow": null,
            "grid_area": null,
            "grid_template_columns": null,
            "flex": null,
            "_model_name": "LayoutModel",
            "justify_items": null,
            "grid_row": null,
            "max_height": null,
            "align_content": null,
            "visibility": null,
            "align_self": null,
            "height": null,
            "min_height": null,
            "padding": null,
            "grid_auto_rows": null,
            "grid_gap": null,
            "max_width": null,
            "order": null,
            "_view_module_version": "1.2.0",
            "grid_template_areas": null,
            "object_position": null,
            "object_fit": null,
            "grid_auto_columns": null,
            "margin": null,
            "display": null,
            "left": null
          }
        }
      }
    }
  },
  "nbformat": 4,
  "nbformat_minor": 0
}