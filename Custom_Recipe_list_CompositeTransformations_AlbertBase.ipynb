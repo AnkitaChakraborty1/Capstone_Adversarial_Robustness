{
  "cells": [
    {
      "cell_type": "markdown",
      "metadata": {
        "id": "view-in-github",
        "colab_type": "text"
      },
      "source": [
        "<a href=\"https://colab.research.google.com/github/AnkitaChakraborty1/Capstone_Adversarial_Robustness/blob/main/Custom_Recipe_list_CompositeTransformations_AlbertBase.ipynb\" target=\"_parent\"><img src=\"https://colab.research.google.com/assets/colab-badge.svg\" alt=\"Open In Colab\"/></a>"
      ]
    },
    {
      "cell_type": "markdown",
      "source": [
        "##pip installs"
      ],
      "metadata": {
        "id": "qFwazax85sRR"
      }
    },
    {
      "cell_type": "code",
      "execution_count": 1,
      "metadata": {
        "id": "ByQttbCVWzZ9",
        "colab": {
          "base_uri": "https://localhost:8080/"
        },
        "outputId": "9eb24f1d-4e68-42de-e7f3-e9616631214a"
      },
      "outputs": [
        {
          "output_type": "stream",
          "name": "stdout",
          "text": [
            "Collecting transformers\n",
            "  Downloading transformers-4.16.2-py3-none-any.whl (3.5 MB)\n",
            "\u001b[K     |████████████████████████████████| 3.5 MB 4.2 MB/s \n",
            "\u001b[?25hRequirement already satisfied: requests in /usr/local/lib/python3.7/dist-packages (from transformers) (2.23.0)\n",
            "Collecting huggingface-hub<1.0,>=0.1.0\n",
            "  Downloading huggingface_hub-0.4.0-py3-none-any.whl (67 kB)\n",
            "\u001b[K     |████████████████████████████████| 67 kB 5.8 MB/s \n",
            "\u001b[?25hRequirement already satisfied: tqdm>=4.27 in /usr/local/lib/python3.7/dist-packages (from transformers) (4.62.3)\n",
            "Collecting pyyaml>=5.1\n",
            "  Downloading PyYAML-6.0-cp37-cp37m-manylinux_2_5_x86_64.manylinux1_x86_64.manylinux_2_12_x86_64.manylinux2010_x86_64.whl (596 kB)\n",
            "\u001b[K     |████████████████████████████████| 596 kB 72.0 MB/s \n",
            "\u001b[?25hCollecting sacremoses\n",
            "  Downloading sacremoses-0.0.47-py2.py3-none-any.whl (895 kB)\n",
            "\u001b[K     |████████████████████████████████| 895 kB 76.6 MB/s \n",
            "\u001b[?25hRequirement already satisfied: numpy>=1.17 in /usr/local/lib/python3.7/dist-packages (from transformers) (1.21.5)\n",
            "Collecting tokenizers!=0.11.3,>=0.10.1\n",
            "  Downloading tokenizers-0.11.5-cp37-cp37m-manylinux_2_12_x86_64.manylinux2010_x86_64.whl (6.8 MB)\n",
            "\u001b[K     |████████████████████████████████| 6.8 MB 47.7 MB/s \n",
            "\u001b[?25hRequirement already satisfied: regex!=2019.12.17 in /usr/local/lib/python3.7/dist-packages (from transformers) (2019.12.20)\n",
            "Requirement already satisfied: filelock in /usr/local/lib/python3.7/dist-packages (from transformers) (3.6.0)\n",
            "Requirement already satisfied: packaging>=20.0 in /usr/local/lib/python3.7/dist-packages (from transformers) (21.3)\n",
            "Requirement already satisfied: importlib-metadata in /usr/local/lib/python3.7/dist-packages (from transformers) (4.11.1)\n",
            "Requirement already satisfied: typing-extensions>=3.7.4.3 in /usr/local/lib/python3.7/dist-packages (from huggingface-hub<1.0,>=0.1.0->transformers) (3.10.0.2)\n",
            "Requirement already satisfied: pyparsing!=3.0.5,>=2.0.2 in /usr/local/lib/python3.7/dist-packages (from packaging>=20.0->transformers) (3.0.7)\n",
            "Requirement already satisfied: zipp>=0.5 in /usr/local/lib/python3.7/dist-packages (from importlib-metadata->transformers) (3.7.0)\n",
            "Requirement already satisfied: idna<3,>=2.5 in /usr/local/lib/python3.7/dist-packages (from requests->transformers) (2.10)\n",
            "Requirement already satisfied: certifi>=2017.4.17 in /usr/local/lib/python3.7/dist-packages (from requests->transformers) (2021.10.8)\n",
            "Requirement already satisfied: urllib3!=1.25.0,!=1.25.1,<1.26,>=1.21.1 in /usr/local/lib/python3.7/dist-packages (from requests->transformers) (1.24.3)\n",
            "Requirement already satisfied: chardet<4,>=3.0.2 in /usr/local/lib/python3.7/dist-packages (from requests->transformers) (3.0.4)\n",
            "Requirement already satisfied: joblib in /usr/local/lib/python3.7/dist-packages (from sacremoses->transformers) (1.1.0)\n",
            "Requirement already satisfied: click in /usr/local/lib/python3.7/dist-packages (from sacremoses->transformers) (7.1.2)\n",
            "Requirement already satisfied: six in /usr/local/lib/python3.7/dist-packages (from sacremoses->transformers) (1.15.0)\n",
            "Installing collected packages: pyyaml, tokenizers, sacremoses, huggingface-hub, transformers\n",
            "  Attempting uninstall: pyyaml\n",
            "    Found existing installation: PyYAML 3.13\n",
            "    Uninstalling PyYAML-3.13:\n",
            "      Successfully uninstalled PyYAML-3.13\n",
            "Successfully installed huggingface-hub-0.4.0 pyyaml-6.0 sacremoses-0.0.47 tokenizers-0.11.5 transformers-4.16.2\n"
          ]
        }
      ],
      "source": [
        "pip install transformers"
      ]
    },
    {
      "cell_type": "code",
      "execution_count": 2,
      "metadata": {
        "id": "Gcp6ZZGvVk_T",
        "colab": {
          "base_uri": "https://localhost:8080/",
          "height": 1000
        },
        "outputId": "156c75b5-1e6c-4949-c022-d0459578b2c1"
      },
      "outputs": [
        {
          "output_type": "stream",
          "name": "stdout",
          "text": [
            "Collecting textattack[tensorflow]\n",
            "  Downloading textattack-0.3.4-py3-none-any.whl (373 kB)\n",
            "\u001b[K     |████████████████████████████████| 373 kB 4.2 MB/s \n",
            "\u001b[?25hRequirement already satisfied: more-itertools in /usr/local/lib/python3.7/dist-packages (from textattack[tensorflow]) (8.12.0)\n",
            "Collecting terminaltables\n",
            "  Downloading terminaltables-3.1.10-py2.py3-none-any.whl (15 kB)\n",
            "Collecting lemminflect\n",
            "  Downloading lemminflect-0.2.2-py3-none-any.whl (769 kB)\n",
            "\u001b[K     |████████████████████████████████| 769 kB 72.2 MB/s \n",
            "\u001b[?25hRequirement already satisfied: pandas>=1.0.1 in /usr/local/lib/python3.7/dist-packages (from textattack[tensorflow]) (1.3.5)\n",
            "Requirement already satisfied: nltk in /usr/local/lib/python3.7/dist-packages (from textattack[tensorflow]) (3.2.5)\n",
            "Requirement already satisfied: torch!=1.8,>=1.7.0 in /usr/local/lib/python3.7/dist-packages (from textattack[tensorflow]) (1.10.0+cu111)\n",
            "Collecting datasets\n",
            "  Downloading datasets-1.18.3-py3-none-any.whl (311 kB)\n",
            "\u001b[K     |████████████████████████████████| 311 kB 68.8 MB/s \n",
            "\u001b[?25hRequirement already satisfied: editdistance in /usr/local/lib/python3.7/dist-packages (from textattack[tensorflow]) (0.5.3)\n",
            "Collecting language-tool-python\n",
            "  Downloading language_tool_python-2.7.0-py3-none-any.whl (34 kB)\n",
            "Requirement already satisfied: scipy>=1.4.1 in /usr/local/lib/python3.7/dist-packages (from textattack[tensorflow]) (1.4.1)\n",
            "Collecting word2number\n",
            "  Downloading word2number-1.1.zip (9.7 kB)\n",
            "Requirement already satisfied: transformers>=3.3.0 in /usr/local/lib/python3.7/dist-packages (from textattack[tensorflow]) (4.16.2)\n",
            "Requirement already satisfied: numpy>=1.19.2 in /usr/local/lib/python3.7/dist-packages (from textattack[tensorflow]) (1.21.5)\n",
            "Collecting num2words\n",
            "  Downloading num2words-0.5.10-py3-none-any.whl (101 kB)\n",
            "\u001b[K     |████████████████████████████████| 101 kB 15.2 MB/s \n",
            "\u001b[?25hRequirement already satisfied: PySocks!=1.5.7,>=1.5.6 in /usr/local/lib/python3.7/dist-packages (from textattack[tensorflow]) (1.7.1)\n",
            "Collecting lru-dict\n",
            "  Downloading lru-dict-1.1.7.tar.gz (10 kB)\n",
            "Collecting flair\n",
            "  Downloading flair-0.10-py3-none-any.whl (322 kB)\n",
            "\u001b[K     |████████████████████████████████| 322 kB 48.7 MB/s \n",
            "\u001b[?25hRequirement already satisfied: filelock in /usr/local/lib/python3.7/dist-packages (from textattack[tensorflow]) (3.6.0)\n",
            "Collecting tqdm<4.50.0,>=4.27\n",
            "  Downloading tqdm-4.49.0-py2.py3-none-any.whl (69 kB)\n",
            "\u001b[K     |████████████████████████████████| 69 kB 9.3 MB/s \n",
            "\u001b[?25hCollecting bert-score>=0.3.5\n",
            "  Downloading bert_score-0.3.11-py3-none-any.whl (60 kB)\n",
            "\u001b[K     |████████████████████████████████| 60 kB 1.2 MB/s \n",
            "\u001b[?25hCollecting tensorflow-text>=2\n",
            "  Downloading tensorflow_text-2.8.1-cp37-cp37m-manylinux_2_12_x86_64.manylinux2010_x86_64.whl (4.9 MB)\n",
            "\u001b[K     |████████████████████████████████| 4.9 MB 71.7 MB/s \n",
            "\u001b[?25hCollecting tensorflow==2.5.0\n",
            "  Downloading tensorflow-2.5.0-cp37-cp37m-manylinux2010_x86_64.whl (454.3 MB)\n",
            "\u001b[K     |████████████████████████████████| 454.3 MB 16 kB/s \n",
            "\u001b[?25hCollecting tensorflow-estimator==2.5.0\n",
            "  Downloading tensorflow_estimator-2.5.0-py2.py3-none-any.whl (462 kB)\n",
            "\u001b[K     |████████████████████████████████| 462 kB 72.8 MB/s \n",
            "\u001b[?25hCollecting tensorboardX\n",
            "  Downloading tensorboardX-2.5-py2.py3-none-any.whl (125 kB)\n",
            "\u001b[K     |████████████████████████████████| 125 kB 75.6 MB/s \n",
            "\u001b[?25hRequirement already satisfied: tensorflow-hub in /usr/local/lib/python3.7/dist-packages (from textattack[tensorflow]) (0.12.0)\n",
            "Collecting keras-nightly~=2.5.0.dev\n",
            "  Downloading keras_nightly-2.5.0.dev2021032900-py2.py3-none-any.whl (1.2 MB)\n",
            "\u001b[K     |████████████████████████████████| 1.2 MB 63.3 MB/s \n",
            "\u001b[?25hRequirement already satisfied: tensorboard~=2.5 in /usr/local/lib/python3.7/dist-packages (from tensorflow==2.5.0->textattack[tensorflow]) (2.8.0)\n",
            "Requirement already satisfied: protobuf>=3.9.2 in /usr/local/lib/python3.7/dist-packages (from tensorflow==2.5.0->textattack[tensorflow]) (3.17.3)\n",
            "Requirement already satisfied: six~=1.15.0 in /usr/local/lib/python3.7/dist-packages (from tensorflow==2.5.0->textattack[tensorflow]) (1.15.0)\n",
            "Collecting gast==0.4.0\n",
            "  Downloading gast-0.4.0-py3-none-any.whl (9.8 kB)\n",
            "Requirement already satisfied: h5py~=3.1.0 in /usr/local/lib/python3.7/dist-packages (from tensorflow==2.5.0->textattack[tensorflow]) (3.1.0)\n",
            "Collecting typing-extensions~=3.7.4\n",
            "  Downloading typing_extensions-3.7.4.3-py3-none-any.whl (22 kB)\n",
            "Requirement already satisfied: opt-einsum~=3.3.0 in /usr/local/lib/python3.7/dist-packages (from tensorflow==2.5.0->textattack[tensorflow]) (3.3.0)\n",
            "Collecting wrapt~=1.12.1\n",
            "  Downloading wrapt-1.12.1.tar.gz (27 kB)\n",
            "Requirement already satisfied: termcolor~=1.1.0 in /usr/local/lib/python3.7/dist-packages (from tensorflow==2.5.0->textattack[tensorflow]) (1.1.0)\n",
            "Requirement already satisfied: wheel~=0.35 in /usr/local/lib/python3.7/dist-packages (from tensorflow==2.5.0->textattack[tensorflow]) (0.37.1)\n",
            "Requirement already satisfied: google-pasta~=0.2 in /usr/local/lib/python3.7/dist-packages (from tensorflow==2.5.0->textattack[tensorflow]) (0.2.0)\n",
            "Requirement already satisfied: astunparse~=1.6.3 in /usr/local/lib/python3.7/dist-packages (from tensorflow==2.5.0->textattack[tensorflow]) (1.6.3)\n",
            "Collecting numpy>=1.19.2\n",
            "  Downloading numpy-1.19.5-cp37-cp37m-manylinux2010_x86_64.whl (14.8 MB)\n",
            "\u001b[K     |████████████████████████████████| 14.8 MB 54.1 MB/s \n",
            "\u001b[?25hCollecting flatbuffers~=1.12.0\n",
            "  Downloading flatbuffers-1.12-py2.py3-none-any.whl (15 kB)\n",
            "Collecting absl-py~=0.10\n",
            "  Downloading absl_py-0.15.0-py3-none-any.whl (132 kB)\n",
            "\u001b[K     |████████████████████████████████| 132 kB 71.0 MB/s \n",
            "\u001b[?25hRequirement already satisfied: keras-preprocessing~=1.1.2 in /usr/local/lib/python3.7/dist-packages (from tensorflow==2.5.0->textattack[tensorflow]) (1.1.2)\n",
            "Collecting grpcio~=1.34.0\n",
            "  Downloading grpcio-1.34.1-cp37-cp37m-manylinux2014_x86_64.whl (4.0 MB)\n",
            "\u001b[K     |████████████████████████████████| 4.0 MB 52.8 MB/s \n",
            "\u001b[?25hRequirement already satisfied: requests in /usr/local/lib/python3.7/dist-packages (from bert-score>=0.3.5->textattack[tensorflow]) (2.23.0)\n",
            "Requirement already satisfied: packaging>=20.9 in /usr/local/lib/python3.7/dist-packages (from bert-score>=0.3.5->textattack[tensorflow]) (21.3)\n",
            "Requirement already satisfied: matplotlib in /usr/local/lib/python3.7/dist-packages (from bert-score>=0.3.5->textattack[tensorflow]) (3.2.2)\n",
            "Requirement already satisfied: cached-property in /usr/local/lib/python3.7/dist-packages (from h5py~=3.1.0->tensorflow==2.5.0->textattack[tensorflow]) (1.5.2)\n",
            "Requirement already satisfied: pyparsing!=3.0.5,>=2.0.2 in /usr/local/lib/python3.7/dist-packages (from packaging>=20.9->bert-score>=0.3.5->textattack[tensorflow]) (3.0.7)\n",
            "Requirement already satisfied: pytz>=2017.3 in /usr/local/lib/python3.7/dist-packages (from pandas>=1.0.1->textattack[tensorflow]) (2018.9)\n",
            "Requirement already satisfied: python-dateutil>=2.7.3 in /usr/local/lib/python3.7/dist-packages (from pandas>=1.0.1->textattack[tensorflow]) (2.8.2)\n",
            "Requirement already satisfied: tensorboard-plugin-wit>=1.6.0 in /usr/local/lib/python3.7/dist-packages (from tensorboard~=2.5->tensorflow==2.5.0->textattack[tensorflow]) (1.8.1)\n",
            "Requirement already satisfied: setuptools>=41.0.0 in /usr/local/lib/python3.7/dist-packages (from tensorboard~=2.5->tensorflow==2.5.0->textattack[tensorflow]) (57.4.0)\n",
            "Requirement already satisfied: google-auth-oauthlib<0.5,>=0.4.1 in /usr/local/lib/python3.7/dist-packages (from tensorboard~=2.5->tensorflow==2.5.0->textattack[tensorflow]) (0.4.6)\n",
            "Requirement already satisfied: google-auth<3,>=1.6.3 in /usr/local/lib/python3.7/dist-packages (from tensorboard~=2.5->tensorflow==2.5.0->textattack[tensorflow]) (1.35.0)\n",
            "Requirement already satisfied: tensorboard-data-server<0.7.0,>=0.6.0 in /usr/local/lib/python3.7/dist-packages (from tensorboard~=2.5->tensorflow==2.5.0->textattack[tensorflow]) (0.6.1)\n",
            "Requirement already satisfied: markdown>=2.6.8 in /usr/local/lib/python3.7/dist-packages (from tensorboard~=2.5->tensorflow==2.5.0->textattack[tensorflow]) (3.3.6)\n",
            "Requirement already satisfied: werkzeug>=0.11.15 in /usr/local/lib/python3.7/dist-packages (from tensorboard~=2.5->tensorflow==2.5.0->textattack[tensorflow]) (1.0.1)\n",
            "Requirement already satisfied: cachetools<5.0,>=2.0.0 in /usr/local/lib/python3.7/dist-packages (from google-auth<3,>=1.6.3->tensorboard~=2.5->tensorflow==2.5.0->textattack[tensorflow]) (4.2.4)\n",
            "Requirement already satisfied: rsa<5,>=3.1.4 in /usr/local/lib/python3.7/dist-packages (from google-auth<3,>=1.6.3->tensorboard~=2.5->tensorflow==2.5.0->textattack[tensorflow]) (4.8)\n",
            "Requirement already satisfied: pyasn1-modules>=0.2.1 in /usr/local/lib/python3.7/dist-packages (from google-auth<3,>=1.6.3->tensorboard~=2.5->tensorflow==2.5.0->textattack[tensorflow]) (0.2.8)\n",
            "Requirement already satisfied: requests-oauthlib>=0.7.0 in /usr/local/lib/python3.7/dist-packages (from google-auth-oauthlib<0.5,>=0.4.1->tensorboard~=2.5->tensorflow==2.5.0->textattack[tensorflow]) (1.3.1)\n",
            "Requirement already satisfied: importlib-metadata>=4.4 in /usr/local/lib/python3.7/dist-packages (from markdown>=2.6.8->tensorboard~=2.5->tensorflow==2.5.0->textattack[tensorflow]) (4.11.1)\n",
            "Requirement already satisfied: zipp>=0.5 in /usr/local/lib/python3.7/dist-packages (from importlib-metadata>=4.4->markdown>=2.6.8->tensorboard~=2.5->tensorflow==2.5.0->textattack[tensorflow]) (3.7.0)\n",
            "Requirement already satisfied: pyasn1<0.5.0,>=0.4.6 in /usr/local/lib/python3.7/dist-packages (from pyasn1-modules>=0.2.1->google-auth<3,>=1.6.3->tensorboard~=2.5->tensorflow==2.5.0->textattack[tensorflow]) (0.4.8)\n",
            "Requirement already satisfied: idna<3,>=2.5 in /usr/local/lib/python3.7/dist-packages (from requests->bert-score>=0.3.5->textattack[tensorflow]) (2.10)\n",
            "Requirement already satisfied: certifi>=2017.4.17 in /usr/local/lib/python3.7/dist-packages (from requests->bert-score>=0.3.5->textattack[tensorflow]) (2021.10.8)\n",
            "Requirement already satisfied: chardet<4,>=3.0.2 in /usr/local/lib/python3.7/dist-packages (from requests->bert-score>=0.3.5->textattack[tensorflow]) (3.0.4)\n",
            "Requirement already satisfied: urllib3!=1.25.0,!=1.25.1,<1.26,>=1.21.1 in /usr/local/lib/python3.7/dist-packages (from requests->bert-score>=0.3.5->textattack[tensorflow]) (1.24.3)\n",
            "Requirement already satisfied: oauthlib>=3.0.0 in /usr/local/lib/python3.7/dist-packages (from requests-oauthlib>=0.7.0->google-auth-oauthlib<0.5,>=0.4.1->tensorboard~=2.5->tensorflow==2.5.0->textattack[tensorflow]) (3.2.0)\n",
            "Collecting tensorflow-text>=2\n",
            "  Downloading tensorflow_text-2.7.3-cp37-cp37m-manylinux2010_x86_64.whl (4.9 MB)\n",
            "\u001b[K     |████████████████████████████████| 4.9 MB 52.8 MB/s \n",
            "\u001b[?25h  Downloading tensorflow_text-2.7.0-cp37-cp37m-manylinux2010_x86_64.whl (4.9 MB)\n",
            "\u001b[K     |████████████████████████████████| 4.9 MB 14.6 MB/s \n",
            "\u001b[?25h  Downloading tensorflow_text-2.6.0-cp37-cp37m-manylinux1_x86_64.whl (4.4 MB)\n",
            "\u001b[K     |████████████████████████████████| 4.4 MB 55.4 MB/s \n",
            "\u001b[?25h  Downloading tensorflow_text-2.5.0-cp37-cp37m-manylinux1_x86_64.whl (4.3 MB)\n",
            "\u001b[K     |████████████████████████████████| 4.3 MB 57.6 MB/s \n",
            "\u001b[?25hRequirement already satisfied: tokenizers!=0.11.3,>=0.10.1 in /usr/local/lib/python3.7/dist-packages (from transformers>=3.3.0->textattack[tensorflow]) (0.11.5)\n",
            "Requirement already satisfied: sacremoses in /usr/local/lib/python3.7/dist-packages (from transformers>=3.3.0->textattack[tensorflow]) (0.0.47)\n",
            "Requirement already satisfied: huggingface-hub<1.0,>=0.1.0 in /usr/local/lib/python3.7/dist-packages (from transformers>=3.3.0->textattack[tensorflow]) (0.4.0)\n",
            "Requirement already satisfied: pyyaml>=5.1 in /usr/local/lib/python3.7/dist-packages (from transformers>=3.3.0->textattack[tensorflow]) (6.0)\n",
            "Requirement already satisfied: regex!=2019.12.17 in /usr/local/lib/python3.7/dist-packages (from transformers>=3.3.0->textattack[tensorflow]) (2019.12.20)\n",
            "Collecting fsspec[http]>=2021.05.0\n",
            "  Downloading fsspec-2022.2.0-py3-none-any.whl (134 kB)\n",
            "\u001b[K     |████████████████████████████████| 134 kB 81.4 MB/s \n",
            "\u001b[?25hRequirement already satisfied: multiprocess in /usr/local/lib/python3.7/dist-packages (from datasets->textattack[tensorflow]) (0.70.12.2)\n",
            "Requirement already satisfied: dill in /usr/local/lib/python3.7/dist-packages (from datasets->textattack[tensorflow]) (0.3.4)\n",
            "Requirement already satisfied: pyarrow!=4.0.0,>=3.0.0 in /usr/local/lib/python3.7/dist-packages (from datasets->textattack[tensorflow]) (6.0.1)\n",
            "Collecting datasets\n",
            "  Downloading datasets-1.18.2-py3-none-any.whl (312 kB)\n",
            "\u001b[K     |████████████████████████████████| 312 kB 66.4 MB/s \n",
            "\u001b[?25h  Downloading datasets-1.18.1-py3-none-any.whl (311 kB)\n",
            "\u001b[K     |████████████████████████████████| 311 kB 95.5 MB/s \n",
            "\u001b[?25h  Downloading datasets-1.18.0-py3-none-any.whl (311 kB)\n",
            "\u001b[K     |████████████████████████████████| 311 kB 87.0 MB/s \n",
            "\u001b[?25h  Downloading datasets-1.17.0-py3-none-any.whl (306 kB)\n",
            "\u001b[K     |████████████████████████████████| 306 kB 80.0 MB/s \n",
            "\u001b[?25h  Downloading datasets-1.16.1-py3-none-any.whl (298 kB)\n",
            "\u001b[K     |████████████████████████████████| 298 kB 77.4 MB/s \n",
            "\u001b[?25h  Downloading datasets-1.16.0-py3-none-any.whl (298 kB)\n",
            "\u001b[K     |████████████████████████████████| 298 kB 75.6 MB/s \n",
            "\u001b[?25h  Downloading datasets-1.15.1-py3-none-any.whl (290 kB)\n",
            "\u001b[K     |████████████████████████████████| 290 kB 70.8 MB/s \n",
            "\u001b[?25h  Downloading datasets-1.15.0-py3-none-any.whl (290 kB)\n",
            "\u001b[K     |████████████████████████████████| 290 kB 76.1 MB/s \n",
            "\u001b[?25h  Downloading datasets-1.14.0-py3-none-any.whl (290 kB)\n",
            "\u001b[K     |████████████████████████████████| 290 kB 88.2 MB/s \n",
            "\u001b[?25h  Downloading datasets-1.13.3-py3-none-any.whl (287 kB)\n",
            "\u001b[K     |████████████████████████████████| 287 kB 97.2 MB/s \n",
            "\u001b[?25h  Downloading datasets-1.13.2-py3-none-any.whl (287 kB)\n",
            "\u001b[K     |████████████████████████████████| 287 kB 86.8 MB/s \n",
            "\u001b[?25h  Downloading datasets-1.13.1-py3-none-any.whl (287 kB)\n",
            "\u001b[K     |████████████████████████████████| 287 kB 82.4 MB/s \n",
            "\u001b[?25h  Downloading datasets-1.13.0-py3-none-any.whl (285 kB)\n",
            "\u001b[K     |████████████████████████████████| 285 kB 63.3 MB/s \n",
            "\u001b[?25h  Downloading datasets-1.12.1-py3-none-any.whl (270 kB)\n",
            "\u001b[K     |████████████████████████████████| 270 kB 68.0 MB/s \n",
            "\u001b[?25h  Downloading datasets-1.12.0-py3-none-any.whl (269 kB)\n",
            "\u001b[K     |████████████████████████████████| 269 kB 70.6 MB/s \n",
            "\u001b[?25h  Downloading datasets-1.11.0-py3-none-any.whl (264 kB)\n",
            "\u001b[K     |████████████████████████████████| 264 kB 69.1 MB/s \n",
            "\u001b[?25h  Downloading datasets-1.10.2-py3-none-any.whl (542 kB)\n",
            "\u001b[K     |████████████████████████████████| 542 kB 66.3 MB/s \n",
            "\u001b[?25h  Downloading datasets-1.10.1-py3-none-any.whl (542 kB)\n",
            "\u001b[K     |████████████████████████████████| 542 kB 74.9 MB/s \n",
            "\u001b[?25h  Downloading datasets-1.10.0-py3-none-any.whl (542 kB)\n",
            "\u001b[K     |████████████████████████████████| 542 kB 72.6 MB/s \n",
            "\u001b[?25h  Downloading datasets-1.9.0-py3-none-any.whl (262 kB)\n",
            "\u001b[K     |████████████████████████████████| 262 kB 85.5 MB/s \n",
            "\u001b[?25h  Downloading datasets-1.8.0-py3-none-any.whl (237 kB)\n",
            "\u001b[K     |████████████████████████████████| 237 kB 89.5 MB/s \n",
            "\u001b[?25h  Downloading datasets-1.7.0-py3-none-any.whl (234 kB)\n",
            "\u001b[K     |████████████████████████████████| 234 kB 89.2 MB/s \n",
            "\u001b[?25h  Downloading datasets-1.6.2-py3-none-any.whl (221 kB)\n",
            "\u001b[K     |████████████████████████████████| 221 kB 61.0 MB/s \n",
            "\u001b[?25h  Downloading datasets-1.6.1-py3-none-any.whl (220 kB)\n",
            "\u001b[K     |████████████████████████████████| 220 kB 86.9 MB/s \n",
            "\u001b[?25h  Downloading datasets-1.6.0-py3-none-any.whl (202 kB)\n",
            "\u001b[K     |████████████████████████████████| 202 kB 62.3 MB/s \n",
            "\u001b[?25h  Downloading datasets-1.5.0-py3-none-any.whl (192 kB)\n",
            "\u001b[K     |████████████████████████████████| 192 kB 91.0 MB/s \n",
            "\u001b[?25h  Downloading datasets-1.4.1-py3-none-any.whl (186 kB)\n",
            "\u001b[K     |████████████████████████████████| 186 kB 73.3 MB/s \n",
            "\u001b[?25h  Downloading datasets-1.4.0-py3-none-any.whl (186 kB)\n",
            "\u001b[K     |████████████████████████████████| 186 kB 87.6 MB/s \n",
            "\u001b[?25h  Downloading datasets-1.3.0-py3-none-any.whl (181 kB)\n",
            "\u001b[K     |████████████████████████████████| 181 kB 83.9 MB/s \n",
            "\u001b[?25h  Downloading datasets-1.2.1-py3-none-any.whl (159 kB)\n",
            "\u001b[K     |████████████████████████████████| 159 kB 89.1 MB/s \n",
            "\u001b[?25hCollecting xxhash\n",
            "  Downloading xxhash-2.0.2-cp37-cp37m-manylinux2010_x86_64.whl (243 kB)\n",
            "\u001b[K     |████████████████████████████████| 243 kB 87.8 MB/s \n",
            "\u001b[?25hCollecting segtok>=1.5.7\n",
            "  Downloading segtok-1.5.11-py3-none-any.whl (24 kB)\n",
            "Collecting janome\n",
            "  Downloading Janome-0.4.2-py2.py3-none-any.whl (19.7 MB)\n",
            "\u001b[K     |████████████████████████████████| 19.7 MB 374 kB/s \n",
            "\u001b[?25hRequirement already satisfied: scikit-learn>=0.21.3 in /usr/local/lib/python3.7/dist-packages (from flair->textattack[tensorflow]) (1.0.2)\n",
            "Collecting langdetect\n",
            "  Downloading langdetect-1.0.9.tar.gz (981 kB)\n",
            "\u001b[K     |████████████████████████████████| 981 kB 66.7 MB/s \n",
            "\u001b[?25hRequirement already satisfied: lxml in /usr/local/lib/python3.7/dist-packages (from flair->textattack[tensorflow]) (4.2.6)\n",
            "Collecting gdown==3.12.2\n",
            "  Downloading gdown-3.12.2.tar.gz (8.2 kB)\n",
            "  Installing build dependencies ... \u001b[?25l\u001b[?25hdone\n",
            "  Getting requirements to build wheel ... \u001b[?25l\u001b[?25hdone\n",
            "    Preparing wheel metadata ... \u001b[?25l\u001b[?25hdone\n",
            "Collecting wikipedia-api\n",
            "  Downloading Wikipedia-API-0.5.4.tar.gz (18 kB)\n",
            "Collecting konoha<5.0.0,>=4.0.0\n",
            "  Downloading konoha-4.6.5-py3-none-any.whl (20 kB)\n",
            "Collecting conllu>=4.0\n",
            "  Downloading conllu-4.4.1-py2.py3-none-any.whl (15 kB)\n",
            "Collecting sqlitedict>=1.6.0\n",
            "  Downloading sqlitedict-1.7.0.tar.gz (28 kB)\n",
            "Collecting deprecated>=1.2.4\n",
            "  Downloading Deprecated-1.2.13-py2.py3-none-any.whl (9.6 kB)\n",
            "Collecting mpld3==0.3\n",
            "  Downloading mpld3-0.3.tar.gz (788 kB)\n",
            "\u001b[K     |████████████████████████████████| 788 kB 70.9 MB/s \n",
            "\u001b[?25hRequirement already satisfied: gensim>=3.4.0 in /usr/local/lib/python3.7/dist-packages (from flair->textattack[tensorflow]) (3.6.0)\n",
            "Requirement already satisfied: tabulate in /usr/local/lib/python3.7/dist-packages (from flair->textattack[tensorflow]) (0.8.9)\n",
            "Collecting sentencepiece==0.1.95\n",
            "  Downloading sentencepiece-0.1.95-cp37-cp37m-manylinux2014_x86_64.whl (1.2 MB)\n",
            "\u001b[K     |████████████████████████████████| 1.2 MB 72.6 MB/s \n",
            "\u001b[?25hCollecting bpemb>=0.3.2\n",
            "  Downloading bpemb-0.3.3-py3-none-any.whl (19 kB)\n",
            "Collecting ftfy\n",
            "  Downloading ftfy-6.1.1-py3-none-any.whl (53 kB)\n",
            "\u001b[K     |████████████████████████████████| 53 kB 2.2 MB/s \n",
            "\u001b[?25hCollecting more-itertools\n",
            "  Downloading more_itertools-8.8.0-py3-none-any.whl (48 kB)\n",
            "\u001b[K     |████████████████████████████████| 48 kB 7.3 MB/s \n",
            "\u001b[?25hRequirement already satisfied: smart-open>=1.2.1 in /usr/local/lib/python3.7/dist-packages (from gensim>=3.4.0->flair->textattack[tensorflow]) (5.2.1)\n",
            "Collecting overrides<4.0.0,>=3.0.0\n",
            "  Downloading overrides-3.1.0.tar.gz (11 kB)\n",
            "Collecting requests\n",
            "  Downloading requests-2.27.1-py2.py3-none-any.whl (63 kB)\n",
            "\u001b[K     |████████████████████████████████| 63 kB 2.2 MB/s \n",
            "\u001b[?25hCollecting konoha<5.0.0,>=4.0.0\n",
            "  Downloading konoha-4.6.4-py3-none-any.whl (19 kB)\n",
            "  Downloading konoha-4.6.3-py3-none-any.whl (19 kB)\n",
            "Requirement already satisfied: cycler>=0.10 in /usr/local/lib/python3.7/dist-packages (from matplotlib->bert-score>=0.3.5->textattack[tensorflow]) (0.11.0)\n",
            "Requirement already satisfied: kiwisolver>=1.0.1 in /usr/local/lib/python3.7/dist-packages (from matplotlib->bert-score>=0.3.5->textattack[tensorflow]) (1.3.2)\n",
            "Requirement already satisfied: threadpoolctl>=2.0.0 in /usr/local/lib/python3.7/dist-packages (from scikit-learn>=0.21.3->flair->textattack[tensorflow]) (3.1.0)\n",
            "Requirement already satisfied: joblib>=0.11 in /usr/local/lib/python3.7/dist-packages (from scikit-learn>=0.21.3->flair->textattack[tensorflow]) (1.1.0)\n",
            "Requirement already satisfied: wcwidth>=0.2.5 in /usr/local/lib/python3.7/dist-packages (from ftfy->flair->textattack[tensorflow]) (0.2.5)\n",
            "Requirement already satisfied: docopt>=0.6.2 in /usr/local/lib/python3.7/dist-packages (from num2words->textattack[tensorflow]) (0.6.2)\n",
            "Requirement already satisfied: click in /usr/local/lib/python3.7/dist-packages (from sacremoses->transformers>=3.3.0->textattack[tensorflow]) (7.1.2)\n",
            "Building wheels for collected packages: wrapt, gdown, mpld3, overrides, sqlitedict, langdetect, lru-dict, wikipedia-api, word2number\n",
            "  Building wheel for wrapt (setup.py) ... \u001b[?25l\u001b[?25hdone\n",
            "  Created wheel for wrapt: filename=wrapt-1.12.1-cp37-cp37m-linux_x86_64.whl size=68718 sha256=da16811136a3e7416bcac4fb7f176c4fab05b616fa116e2b63aa3e4a54279897\n",
            "  Stored in directory: /root/.cache/pip/wheels/62/76/4c/aa25851149f3f6d9785f6c869387ad82b3fd37582fa8147ac6\n",
            "  Building wheel for gdown (PEP 517) ... \u001b[?25l\u001b[?25hdone\n",
            "  Created wheel for gdown: filename=gdown-3.12.2-py3-none-any.whl size=9692 sha256=06048d84d508ecbde2cbd18d1e7ef1653770a142c0ad85495ec37d4ed9c65307\n",
            "  Stored in directory: /root/.cache/pip/wheels/ba/e0/7e/726e872a53f7358b4b96a9975b04e98113b005cd8609a63abc\n",
            "  Building wheel for mpld3 (setup.py) ... \u001b[?25l\u001b[?25hdone\n",
            "  Created wheel for mpld3: filename=mpld3-0.3-py3-none-any.whl size=116702 sha256=5859bf947f00202f1e0f57ac35f2a9bf399c88cb9a1f2c750c9d7adedb0d9994\n",
            "  Stored in directory: /root/.cache/pip/wheels/26/70/6a/1c79e59951a41b4045497da187b2724f5659ca64033cf4548e\n",
            "  Building wheel for overrides (setup.py) ... \u001b[?25l\u001b[?25hdone\n",
            "  Created wheel for overrides: filename=overrides-3.1.0-py3-none-any.whl size=10187 sha256=416cad610566ebd139ffb1b484ec054e7017467675d1c022e2f06092707a345e\n",
            "  Stored in directory: /root/.cache/pip/wheels/3a/0d/38/01a9bc6e20dcfaf0a6a7b552d03137558ba1c38aea47644682\n",
            "  Building wheel for sqlitedict (setup.py) ... \u001b[?25l\u001b[?25hdone\n",
            "  Created wheel for sqlitedict: filename=sqlitedict-1.7.0-py3-none-any.whl size=14393 sha256=6c0c627dd85234bee3c52acbfb90b9df5ad310927870d7860c046fb40cb31f29\n",
            "  Stored in directory: /root/.cache/pip/wheels/af/94/06/18c0e83e9e227da8f3582810b51f319bbfd181e508676a56c8\n",
            "  Building wheel for langdetect (setup.py) ... \u001b[?25l\u001b[?25hdone\n",
            "  Created wheel for langdetect: filename=langdetect-1.0.9-py3-none-any.whl size=993242 sha256=abe07bb336d9e9683bb7a46438e6642c0de01fea28d357bb91cd8d3259809c8c\n",
            "  Stored in directory: /root/.cache/pip/wheels/c5/96/8a/f90c59ed25d75e50a8c10a1b1c2d4c402e4dacfa87f3aff36a\n",
            "  Building wheel for lru-dict (setup.py) ... \u001b[?25l\u001b[?25hdone\n",
            "  Created wheel for lru-dict: filename=lru_dict-1.1.7-cp37-cp37m-linux_x86_64.whl size=28413 sha256=abdb8399f3a6831d4980b69491a63316b7d69f1f46dc765cef4a130e537d5043\n",
            "  Stored in directory: /root/.cache/pip/wheels/9d/0b/4e/aa8fec9833090cd52bcd76f92f9d95e1ee7b915c12093663b4\n",
            "  Building wheel for wikipedia-api (setup.py) ... \u001b[?25l\u001b[?25hdone\n",
            "  Created wheel for wikipedia-api: filename=Wikipedia_API-0.5.4-py3-none-any.whl size=13477 sha256=39e1cea707d630ea14f004e6044acb2275a620b419d2874555a1c1afda6f44a2\n",
            "  Stored in directory: /root/.cache/pip/wheels/d3/24/56/58ba93cf78be162451144e7a9889603f437976ef1ae7013d04\n",
            "  Building wheel for word2number (setup.py) ... \u001b[?25l\u001b[?25hdone\n",
            "  Created wheel for word2number: filename=word2number-1.1-py3-none-any.whl size=5582 sha256=251758fe89eed94a27a0efd4da6eb96075906a604a82dabd8e3a537c673221f9\n",
            "  Stored in directory: /root/.cache/pip/wheels/4b/c3/77/a5f48aeb0d3efb7cd5ad61cbd3da30bbf9ffc9662b07c9f879\n",
            "Successfully built wrapt gdown mpld3 overrides sqlitedict langdetect lru-dict wikipedia-api word2number\n",
            "Installing collected packages: typing-extensions, numpy, tqdm, wrapt, sentencepiece, overrides, grpcio, absl-py, xxhash, wikipedia-api, tensorflow-estimator, sqlitedict, segtok, mpld3, more-itertools, langdetect, konoha, keras-nightly, janome, gdown, gast, ftfy, flatbuffers, deprecated, conllu, bpemb, word2number, terminaltables, tensorflow, num2words, lru-dict, lemminflect, language-tool-python, flair, datasets, bert-score, textattack, tensorflow-text, tensorboardX\n",
            "  Attempting uninstall: typing-extensions\n",
            "    Found existing installation: typing-extensions 3.10.0.2\n",
            "    Uninstalling typing-extensions-3.10.0.2:\n",
            "      Successfully uninstalled typing-extensions-3.10.0.2\n",
            "  Attempting uninstall: numpy\n",
            "    Found existing installation: numpy 1.21.5\n",
            "    Uninstalling numpy-1.21.5:\n",
            "      Successfully uninstalled numpy-1.21.5\n",
            "  Attempting uninstall: tqdm\n",
            "    Found existing installation: tqdm 4.62.3\n",
            "    Uninstalling tqdm-4.62.3:\n",
            "      Successfully uninstalled tqdm-4.62.3\n",
            "  Attempting uninstall: wrapt\n",
            "    Found existing installation: wrapt 1.13.3\n",
            "    Uninstalling wrapt-1.13.3:\n",
            "      Successfully uninstalled wrapt-1.13.3\n",
            "  Attempting uninstall: grpcio\n",
            "    Found existing installation: grpcio 1.43.0\n",
            "    Uninstalling grpcio-1.43.0:\n",
            "      Successfully uninstalled grpcio-1.43.0\n",
            "  Attempting uninstall: absl-py\n",
            "    Found existing installation: absl-py 1.0.0\n",
            "    Uninstalling absl-py-1.0.0:\n",
            "      Successfully uninstalled absl-py-1.0.0\n",
            "  Attempting uninstall: tensorflow-estimator\n",
            "    Found existing installation: tensorflow-estimator 2.8.0\n",
            "    Uninstalling tensorflow-estimator-2.8.0:\n",
            "      Successfully uninstalled tensorflow-estimator-2.8.0\n",
            "  Attempting uninstall: more-itertools\n",
            "    Found existing installation: more-itertools 8.12.0\n",
            "    Uninstalling more-itertools-8.12.0:\n",
            "      Successfully uninstalled more-itertools-8.12.0\n",
            "  Attempting uninstall: gdown\n",
            "    Found existing installation: gdown 4.2.1\n",
            "    Uninstalling gdown-4.2.1:\n",
            "      Successfully uninstalled gdown-4.2.1\n",
            "  Attempting uninstall: gast\n",
            "    Found existing installation: gast 0.5.3\n",
            "    Uninstalling gast-0.5.3:\n",
            "      Successfully uninstalled gast-0.5.3\n",
            "  Attempting uninstall: flatbuffers\n",
            "    Found existing installation: flatbuffers 2.0\n",
            "    Uninstalling flatbuffers-2.0:\n",
            "      Successfully uninstalled flatbuffers-2.0\n",
            "  Attempting uninstall: tensorflow\n",
            "    Found existing installation: tensorflow 2.8.0\n",
            "    Uninstalling tensorflow-2.8.0:\n",
            "      Successfully uninstalled tensorflow-2.8.0\n",
            "\u001b[31mERROR: pip's dependency resolver does not currently take into account all the packages that are installed. This behaviour is the source of the following dependency conflicts.\n",
            "datascience 0.10.6 requires folium==0.2.1, but you have folium 0.8.3 which is incompatible.\n",
            "albumentations 0.1.12 requires imgaug<0.2.7,>=0.2.5, but you have imgaug 0.2.9 which is incompatible.\u001b[0m\n",
            "Successfully installed absl-py-0.15.0 bert-score-0.3.11 bpemb-0.3.3 conllu-4.4.1 datasets-1.2.1 deprecated-1.2.13 flair-0.10 flatbuffers-1.12 ftfy-6.1.1 gast-0.4.0 gdown-3.12.2 grpcio-1.34.1 janome-0.4.2 keras-nightly-2.5.0.dev2021032900 konoha-4.6.3 langdetect-1.0.9 language-tool-python-2.7.0 lemminflect-0.2.2 lru-dict-1.1.7 more-itertools-8.8.0 mpld3-0.3 num2words-0.5.10 numpy-1.19.5 overrides-3.1.0 segtok-1.5.11 sentencepiece-0.1.95 sqlitedict-1.7.0 tensorboardX-2.5 tensorflow-2.5.0 tensorflow-estimator-2.5.0 tensorflow-text-2.5.0 terminaltables-3.1.10 textattack-0.3.4 tqdm-4.49.0 typing-extensions-3.7.4.3 wikipedia-api-0.5.4 word2number-1.1 wrapt-1.12.1 xxhash-2.0.2\n"
          ]
        },
        {
          "output_type": "display_data",
          "data": {
            "application/vnd.colab-display-data+json": {
              "pip_warning": {
                "packages": [
                  "numpy"
                ]
              }
            }
          },
          "metadata": {}
        }
      ],
      "source": [
        "!pip3 install textattack[tensorflow]"
      ]
    },
    {
      "cell_type": "code",
      "execution_count": 3,
      "metadata": {
        "colab": {
          "base_uri": "https://localhost:8080/",
          "height": 346
        },
        "id": "KNCInb7pfKEt",
        "outputId": "d7771fd8-2c43-48a3-b178-44a9011a68d1"
      },
      "outputs": [
        {
          "output_type": "stream",
          "name": "stdout",
          "text": [
            "Requirement already satisfied: numpy in /usr/local/lib/python3.7/dist-packages (1.19.5)\n",
            "Collecting numpy\n",
            "  Downloading numpy-1.21.5-cp37-cp37m-manylinux_2_12_x86_64.manylinux2010_x86_64.whl (15.7 MB)\n",
            "\u001b[K     |████████████████████████████████| 15.7 MB 4.3 MB/s \n",
            "\u001b[?25hInstalling collected packages: numpy\n",
            "  Attempting uninstall: numpy\n",
            "    Found existing installation: numpy 1.19.5\n",
            "    Uninstalling numpy-1.19.5:\n",
            "      Successfully uninstalled numpy-1.19.5\n",
            "\u001b[31mERROR: pip's dependency resolver does not currently take into account all the packages that are installed. This behaviour is the source of the following dependency conflicts.\n",
            "tensorflow 2.5.0 requires numpy~=1.19.2, but you have numpy 1.21.5 which is incompatible.\n",
            "datascience 0.10.6 requires folium==0.2.1, but you have folium 0.8.3 which is incompatible.\n",
            "albumentations 0.1.12 requires imgaug<0.2.7,>=0.2.5, but you have imgaug 0.2.9 which is incompatible.\u001b[0m\n",
            "Successfully installed numpy-1.21.5\n"
          ]
        },
        {
          "output_type": "display_data",
          "data": {
            "application/vnd.colab-display-data+json": {
              "pip_warning": {
                "packages": [
                  "numpy"
                ]
              }
            }
          },
          "metadata": {}
        }
      ],
      "source": [
        "pip install --upgrade numpy"
      ]
    },
    {
      "cell_type": "code",
      "execution_count": 4,
      "metadata": {
        "colab": {
          "base_uri": "https://localhost:8080/"
        },
        "id": "jNCaMfyjeEcP",
        "outputId": "607fd482-319c-4640-b4cc-4560cd52d8c4"
      },
      "outputs": [
        {
          "output_type": "stream",
          "name": "stdout",
          "text": [
            "Collecting folium==0.2.1\n",
            "  Downloading folium-0.2.1.tar.gz (69 kB)\n",
            "\u001b[K     |████████████████████████████████| 69 kB 145 kB/s \n",
            "\u001b[?25hRequirement already satisfied: Jinja2 in /usr/local/lib/python3.7/dist-packages (from folium==0.2.1) (2.11.3)\n",
            "Requirement already satisfied: MarkupSafe>=0.23 in /usr/local/lib/python3.7/dist-packages (from Jinja2->folium==0.2.1) (2.0.1)\n",
            "Building wheels for collected packages: folium\n",
            "  Building wheel for folium (setup.py) ... \u001b[?25l\u001b[?25hdone\n",
            "  Created wheel for folium: filename=folium-0.2.1-py3-none-any.whl size=79808 sha256=881f445bcb5d646f6e2ae74da3693253961ccc57cacb627e9ed1cce2004c48c3\n",
            "  Stored in directory: /root/.cache/pip/wheels/9a/f0/3a/3f79a6914ff5affaf50cabad60c9f4d565283283c97f0bdccf\n",
            "Successfully built folium\n",
            "Installing collected packages: folium\n",
            "  Attempting uninstall: folium\n",
            "    Found existing installation: folium 0.8.3\n",
            "    Uninstalling folium-0.8.3:\n",
            "      Successfully uninstalled folium-0.8.3\n",
            "Successfully installed folium-0.2.1\n"
          ]
        }
      ],
      "source": [
        "pip install folium==0.2.1"
      ]
    },
    {
      "cell_type": "markdown",
      "metadata": {
        "id": "lrq7Mk7seR2N"
      },
      "source": [
        "## Imports"
      ]
    },
    {
      "cell_type": "code",
      "source": [
        "from textattack import AttackArgs, Attacker\n",
        "from textattack.datasets import HuggingFaceDataset\n",
        "from textattack.models.wrappers import ModelWrapper\n",
        "from textattack import Attack\n",
        "from textattack.constraints.pre_transformation import (\n",
        "        InputColumnModification,\n",
        "        MaxModificationRate,\n",
        "        RepeatModification,\n",
        "        StopwordModification,\n",
        "        MaxWordIndexModification\n",
        "                )\n",
        "from textattack.constraints.semantics import WordEmbeddingDistance\n",
        "from textattack.goal_functions import UntargetedClassification\n",
        "from textattack.search_methods import GreedyWordSwapWIR,AlzantotGeneticAlgorithm\n",
        "from textattack.transformations import WordSwapQWERTY\n",
        "from textattack.transformations import (\n",
        "    CompositeTransformation,\n",
        "    WordSwapNeighboringCharacterSwap,\n",
        "    WordSwapQWERTY,\n",
        "    WordSwapWordNet,\n",
        "    WordSwapRandomCharacterDeletion,\n",
        "    WordSwapRandomCharacterInsertion,\n",
        "    WordSwapRandomCharacterSubstitution,\n",
        "    WordSwapHomoglyphSwap,\n",
        "    WordSwapEmbedding\n",
        ")\n",
        "from textattack.constraints.overlap import LevenshteinEditDistance\n",
        "#from textattack.attack_recipe import AttackRecipe\n",
        "\n",
        "from abc import ABC, abstractmethod"
      ],
      "metadata": {
        "id": "qmQ9-Bl74Ihv",
        "colab": {
          "base_uri": "https://localhost:8080/"
        },
        "outputId": "28e7f442-96e0-451e-a18c-8b3a8a127382"
      },
      "execution_count": 7,
      "outputs": [
        {
          "output_type": "stream",
          "name": "stderr",
          "text": [
            "textattack: Updating TextAttack package dependencies.\n",
            "textattack: Downloading NLTK required packages.\n",
            "[nltk_data] Downloading package averaged_perceptron_tagger to\n",
            "[nltk_data]     /root/nltk_data...\n",
            "[nltk_data]   Unzipping taggers/averaged_perceptron_tagger.zip.\n",
            "[nltk_data] Downloading package stopwords to /root/nltk_data...\n",
            "[nltk_data]   Unzipping corpora/stopwords.zip.\n",
            "[nltk_data] Downloading package omw to /root/nltk_data...\n",
            "[nltk_data]   Unzipping corpora/omw.zip.\n",
            "[nltk_data] Downloading package universal_tagset to /root/nltk_data...\n",
            "[nltk_data]   Unzipping taggers/universal_tagset.zip.\n",
            "[nltk_data] Downloading package wordnet to /root/nltk_data...\n",
            "[nltk_data]   Unzipping corpora/wordnet.zip.\n",
            "[nltk_data] Downloading package punkt to /root/nltk_data...\n",
            "[nltk_data]   Unzipping tokenizers/punkt.zip.\n",
            "textattack: Downloading https://textattack.s3.amazonaws.com/word_embeddings/paragramcf.\n",
            "100%|██████████| 481M/481M [00:37<00:00, 12.8MB/s]\n",
            "textattack: Unzipping file /root/.cache/textattack/tmpj3rmfkg_.zip to /root/.cache/textattack/word_embeddings/paragramcf.\n",
            "textattack: Successfully saved word_embeddings/paragramcf to cache.\n"
          ]
        }
      ]
    },
    {
      "cell_type": "code",
      "source": [
        "from textattack.datasets import HuggingFaceDataset\n",
        "from textattack.attacker import Attacker\n",
        "from textattack import AttackArgs, Attacker\n",
        "from textattack.datasets import HuggingFaceDataset\n",
        "from textattack.goal_functions import TargetedClassification\n",
        "import transformers\n",
        "from textattack.models.wrappers import HuggingFaceModelWrapper\n",
        "import torch\n",
        "\n",
        "model = transformers.AutoModelForSequenceClassification.from_pretrained(\"textattack/albert-base-v2-imdb\")\n",
        "tokenizer = transformers.AutoTokenizer.from_pretrained(\"textattack/albert-base-v2-imdb\")\n",
        "# We wrap the model so it can be used by textattack\n",
        "model_wrapper = HuggingFaceModelWrapper(model, tokenizer)\n",
        "\n",
        "#dataset = HuggingFaceDataset(\"rotten_tomatoes\", None, \"test\", shuffle=True)\n",
        "#dataset = HuggingFaceDataset(\"imdb\", split=\"test\")\n",
        "dataset = HuggingFaceDataset(\"glue\", \"sst2\", \"train\")"
      ],
      "metadata": {
        "colab": {
          "base_uri": "https://localhost:8080/",
          "height": 217,
          "referenced_widgets": [
            "ceaee37db1074cab8959b194a1bf77c2",
            "3000ca0b7d4f46dd9075234ac20ebd59",
            "8ff89663934f4d15960c889b4967c852",
            "9eecc4da9efa448888f2937c3d5d7deb",
            "bdd0f34875684af9950c4e98e461e191",
            "9c392a2b51404b61bec9451b1cce987c",
            "66bc49bf8dc94f4082d0067369d8f400",
            "12b6ca9f4d024c37a66592e9eb1257c4",
            "ef0f9aa2505e47688033af8e07bf7779",
            "89e42dc3db714f518d60beb802cc7c02",
            "31aa5c88334e418a842a45a0d53b0c74",
            "105dc528319048179428427d300432e5",
            "1217216228704152b550671ab16cff13",
            "cc3e0853afad44b9a3b1d4803ff37a98",
            "e0ce49a2bf844dd5aa464a0bf33f8690",
            "05ce4ddc64b54747bf8eb28d1fe6deab",
            "12a3fe8dc67a4469be26320ac231b27d",
            "51998eced39e4c618dfc646b01697dca",
            "3899bf0a35024f3dbe24a9d957d46e2d",
            "a3b2504465204611891098fa60826f93",
            "2fcdb90ed8a1427588da7b061c872e6c",
            "83245174f7224932a87af30a0e62ad9d",
            "0dbedfaab0ed431e8feae802e73150df",
            "d69d3d6b39424c18b3f4759556c3430c",
            "d66c2d0529d44b77a7a916bb44c40a58",
            "0eaf07396d684e52a2f9b99d7d92e317",
            "ff380534401e4b9c93fd728f4a200daa",
            "e3acc85a51f74205bdb1d91e6eccd5b4",
            "6b951474a16145e597d5c0579659dc7e",
            "e0c732c6103e4fe2ad04e58548a84fcb",
            "6bde45d954804f09b2b534fb35cb49c6",
            "37342f573f114668ac1d9dbe9259b780",
            "3cac6e27431e428e8a82b4ddd2c5bd68",
            "6ff991cc7af1407195e4a1c0bc1d6451",
            "873be231a7c44115bf1328f9dfd66c53",
            "99bd97c2c989448793992eb1e5cf7a8d",
            "42fcc2d433324029a89ef13b8de27960",
            "36add9250c78404c8c5539eb7c953a89",
            "f393e5328e7c474a858b7d6e72826036",
            "a2f723bdf1ce4b638992fa8744671766",
            "300611f6cfdf4409826873bf69b60bbd",
            "8ae043f697784d35840b8b8ec2a5a096",
            "3b02c9c8fc1e4324bf74dc2790d764e0",
            "4492e83e3f1c478ba7425b8b18dd979f",
            "57e9bd3a48334ae1b0ea7b0d8d1e8e9d",
            "86263f967cac4b19967dc242d34329f2",
            "1a73921de5024f96a3f8a361c1174701",
            "ca8d5cba12264ce09b391fd885ccb4bd",
            "fd5b65746e84445c9a11a9ac0c1be578",
            "6667681d8c2a404f8ab0169f478914eb",
            "55ad98712b9245869b52bf1ba5672c6f",
            "daaf862dde52442c91224279e72eff51",
            "aeb88bbdbff8454d8a26735a8a65a60b",
            "e304362554ff482aaa53ec9b8f9da1e5",
            "e04fb49594f442bdae7ac1ab45c89f86",
            "013b1547eee44e2cbd40f3d4649e78bb",
            "9f77828028e74b51a5c993078709ba88",
            "2a93c9cadf274d0ea1c2ad9739941277",
            "40b23e09d5a34d8aa18b88edd5fca4e2",
            "9a4cbf52f13a4c688131109feb04cf47",
            "c381de12a1c147ee8ce448d8a6f829e1",
            "57af31dca21746e88094fc5df5aa0602",
            "c81550805b974c61af9f27de08a3e10a",
            "cb48ba5d40914eca87ee1bc3f7e9bf9d",
            "172c337f154f4a5a9ecdac76e173b890",
            "c8ab7b6c27ea461582031f91855e6085",
            "aaa177cec44e4d7dae43267e245b33d3",
            "e8c5dea93b13472bbaff13c2887bbb0e",
            "da6d4c6d5efd45e8b1fa55dcd6571ee2",
            "35ed368643ff426fa8c86b8fe32beabb",
            "a1b7ea0bd9bd4bfe983f61ab0ca9c7e4",
            "0ad0ab2e8fe246c89ef451ed80f4313f",
            "71f6270889a94a328726fa8e2460e7c0",
            "55e13c93b20341b191ff25b1cf88917e",
            "2f6d40f7fe4c40a5a0bf054defc98ff5",
            "2a608619f20e439cba2b40743875e872",
            "23652595f7dd4731b0055c3b9002c833"
          ]
        },
        "id": "QQmwMwqyQ7Qy",
        "outputId": "f12fcb03-42bd-470f-ea51-f600971a133b"
      },
      "execution_count": 11,
      "outputs": [
        {
          "output_type": "display_data",
          "data": {
            "application/vnd.jupyter.widget-view+json": {
              "model_id": "ceaee37db1074cab8959b194a1bf77c2",
              "version_minor": 0,
              "version_major": 2
            },
            "text/plain": [
              "Downloading:   0%|          | 0.00/7.78k [00:00<?, ?B/s]"
            ]
          },
          "metadata": {}
        },
        {
          "output_type": "display_data",
          "data": {
            "application/vnd.jupyter.widget-view+json": {
              "model_id": "105dc528319048179428427d300432e5",
              "version_minor": 0,
              "version_major": 2
            },
            "text/plain": [
              "Downloading:   0%|          | 0.00/4.47k [00:00<?, ?B/s]"
            ]
          },
          "metadata": {}
        },
        {
          "output_type": "stream",
          "name": "stdout",
          "text": [
            "Downloading and preparing dataset glue/sst2 (download: 7.09 MiB, generated: 4.81 MiB, post-processed: Unknown size, total: 11.90 MiB) to /root/.cache/huggingface/datasets/glue/sst2/1.0.0/dacbe3125aa31d7f70367a07a8a9e72a5a0bfeb5fc42e75c9db75b96da6053ad...\n"
          ]
        },
        {
          "output_type": "display_data",
          "data": {
            "application/vnd.jupyter.widget-view+json": {
              "model_id": "0dbedfaab0ed431e8feae802e73150df",
              "version_minor": 0,
              "version_major": 2
            },
            "text/plain": [
              "Downloading:   0%|          | 0.00/7.44M [00:00<?, ?B/s]"
            ]
          },
          "metadata": {}
        },
        {
          "output_type": "display_data",
          "data": {
            "application/vnd.jupyter.widget-view+json": {
              "model_id": "6ff991cc7af1407195e4a1c0bc1d6451",
              "version_minor": 0,
              "version_major": 2
            },
            "text/plain": [
              "0 examples [00:00, ? examples/s]"
            ]
          },
          "metadata": {}
        },
        {
          "output_type": "display_data",
          "data": {
            "application/vnd.jupyter.widget-view+json": {
              "model_id": "57e9bd3a48334ae1b0ea7b0d8d1e8e9d",
              "version_minor": 0,
              "version_major": 2
            },
            "text/plain": [
              "0 examples [00:00, ? examples/s]"
            ]
          },
          "metadata": {}
        },
        {
          "output_type": "display_data",
          "data": {
            "application/vnd.jupyter.widget-view+json": {
              "model_id": "013b1547eee44e2cbd40f3d4649e78bb",
              "version_minor": 0,
              "version_major": 2
            },
            "text/plain": [
              "0 examples [00:00, ? examples/s]"
            ]
          },
          "metadata": {}
        },
        {
          "output_type": "stream",
          "name": "stdout",
          "text": [
            "Dataset glue downloaded and prepared to /root/.cache/huggingface/datasets/glue/sst2/1.0.0/dacbe3125aa31d7f70367a07a8a9e72a5a0bfeb5fc42e75c9db75b96da6053ad. Subsequent calls will reuse this data.\n"
          ]
        },
        {
          "output_type": "display_data",
          "data": {
            "application/vnd.jupyter.widget-view+json": {
              "model_id": "aaa177cec44e4d7dae43267e245b33d3",
              "version_minor": 0,
              "version_major": 2
            },
            "text/plain": [
              "  0%|          | 0/3 [00:00<?, ?it/s]"
            ]
          },
          "metadata": {}
        },
        {
          "output_type": "stream",
          "name": "stderr",
          "text": [
            "textattack: Loading \u001b[94mdatasets\u001b[0m dataset \u001b[94mglue\u001b[0m, subset \u001b[94msst2\u001b[0m, split \u001b[94mtrain\u001b[0m.\n"
          ]
        }
      ]
    },
    {
      "cell_type": "markdown",
      "source": [
        "##Custom Recipes"
      ],
      "metadata": {
        "id": "vShRxU9QwnG9"
      }
    },
    {
      "cell_type": "markdown",
      "source": [
        "##Recipe1    \n",
        "            WordSwapQWERTY\n",
        "            WordSwapWordNet\n",
        "            WordSwapHomoglyphSwap\n",
        "            WordSwapNeighboringCharacterSwap\n",
        "            WordSwapRandomCharacterInsertion\n",
        "            WordSwapRandomCharacterDeletion\n",
        "            WordSwapEmbedding\n",
        "      "
      ],
      "metadata": {
        "id": "_R6DAeBUQeOG"
      }
    },
    {
      "cell_type": "code",
      "source": [
        "class Recipe1(Attack,ABC):\n",
        "    @staticmethod\n",
        "    def build(model_wrapper):\n",
        "        #transformation =  WordSwapNeighboringCharacterSwap(random_one=True,skip_first_char=True,skip_last_char=True,)\n",
        "        transformation = CompositeTransformation(\n",
        "                [\n",
        "                    WordSwapQWERTY(),\n",
        "                    WordSwapWordNet(),\n",
        "                    WordSwapHomoglyphSwap(),\n",
        "                    WordSwapNeighboringCharacterSwap(random_one=True,skip_first_char=True,skip_last_char=True,),\n",
        "                    # (1) Insert: Insert a space into the word.\n",
        "                    # Generally, words are segmented by spaces in English. Therefore,\n",
        "                    # we can deceive classifiers by inserting spaces into words.\n",
        "                    WordSwapRandomCharacterInsertion(\n",
        "                        random_one=True,\n",
        "                        letters_to_insert=\" \",\n",
        "                        skip_first_char=True,\n",
        "                        skip_last_char=True,\n",
        "                    ),\n",
        "                    # (2) Delete: Delete a random character of the word except for the first\n",
        "                    # and the last character\n",
        "                    WordSwapRandomCharacterDeletion(\n",
        "                        random_one=True, skip_first_char=True, skip_last_char=True\n",
        "                    ),\n",
        "                    # (5) Substitute-W\n",
        "                    # (Sub-W): Replace a word with its topk nearest neighbors in a\n",
        "                    # context-aware word vector space. Specifically, we use the pre-trained\n",
        "                    # GloVe model [30] provided by Stanford for word embedding and set\n",
        "                    # topk = 5 in the experiment.\n",
        "                    WordSwapEmbedding(max_candidates=5),\n",
        "                ])\n",
        "\n",
        "        constraints = [RepeatModification(), StopwordModification()]\n",
        "\n",
        "        goal_function = UntargetedClassification(model_wrapper)\n",
        "        # search over words based on a combination of their saliency score, and how efficient the WordSwap transform is\n",
        "        search_method = GreedyWordSwapWIR(wir_method=\"delete\")\n",
        "        return Attack(goal_function, constraints, transformation, search_method)\n"
      ],
      "metadata": {
        "id": "BNET1-TUwlx-"
      },
      "execution_count": 12,
      "outputs": []
    },
    {
      "cell_type": "code",
      "execution_count": 13,
      "metadata": {
        "colab": {
          "base_uri": "https://localhost:8080/"
        },
        "id": "fFCHzAdCFZNj",
        "outputId": "2a9d82c7-927d-4652-cd23-54b79e3ec2ef"
      },
      "outputs": [
        {
          "output_type": "stream",
          "name": "stderr",
          "text": [
            "textattack: Unknown if model of class <class 'transformers.models.albert.modeling_albert.AlbertForSequenceClassification'> compatible with goal function <class 'textattack.goal_functions.classification.untargeted_classification.UntargetedClassification'>.\n"
          ]
        },
        {
          "output_type": "stream",
          "name": "stdout",
          "text": [
            "Attack(\n",
            "  (search_method): GreedyWordSwapWIR(\n",
            "    (wir_method):  delete\n",
            "  )\n",
            "  (goal_function):  UntargetedClassification\n",
            "  (transformation):  CompositeTransformation(\n",
            "    (0): WordSwapQWERTY\n",
            "    (1): WordSwapWordNet\n",
            "    (2): WordSwapHomoglyphSwap\n",
            "    (3): WordSwapNeighboringCharacterSwap(\n",
            "        (random_one):  True\n",
            "      )\n",
            "    (4): WordSwapRandomCharacterInsertion(\n",
            "        (random_one):  True\n",
            "      )\n",
            "    (5): WordSwapRandomCharacterDeletion(\n",
            "        (random_one):  True\n",
            "      )\n",
            "    (6): WordSwapEmbedding(\n",
            "        (max_candidates):  5\n",
            "        (embedding):  WordEmbedding\n",
            "      )\n",
            "    )\n",
            "  (constraints): \n",
            "    (0): RepeatModification\n",
            "    (1): StopwordModification\n",
            "  (is_black_box):  True\n",
            ") \n",
            "\n"
          ]
        },
        {
          "output_type": "stream",
          "name": "stderr",
          "text": [
            "\n",
            "  0%|          | 0/10 [00:00<?, ?it/s]\u001b[A\n",
            " 10%|█         | 1/10 [00:01<00:10,  1.17s/it]\u001b[A\n",
            "[Succeeded / Failed / Skipped / Total] 1 / 0 / 0 / 1:  10%|█         | 1/10 [00:01<00:10,  1.17s/it]\u001b[A"
          ]
        },
        {
          "output_type": "stream",
          "name": "stdout",
          "text": [
            "--------------------------------------------- Result 1 ---------------------------------------------\n",
            "[[Negative (79%)]] --> [[Positive (70%)]]\n",
            "\n",
            "[[hide]] new secretions from the parental units \n",
            "\n",
            "[[hides]] new secretions from the parental units \n",
            "\n",
            "\n"
          ]
        },
        {
          "output_type": "stream",
          "name": "stderr",
          "text": [
            "\n",
            "[Succeeded / Failed / Skipped / Total] 1 / 0 / 0 / 1:  20%|██        | 2/10 [00:02<00:08,  1.07s/it]\u001b[A\n",
            "[Succeeded / Failed / Skipped / Total] 2 / 0 / 0 / 2:  20%|██        | 2/10 [00:02<00:08,  1.08s/it]\u001b[A"
          ]
        },
        {
          "output_type": "stream",
          "name": "stdout",
          "text": [
            "--------------------------------------------- Result 2 ---------------------------------------------\n",
            "[[Negative (66%)]] --> [[Positive (87%)]]\n",
            "\n",
            "contains no [[wit]] , only labored gags \n",
            "\n",
            "contains no [[waite]] , only labored gags \n",
            "\n",
            "\n"
          ]
        },
        {
          "output_type": "stream",
          "name": "stderr",
          "text": [
            "\n",
            "[Succeeded / Failed / Skipped / Total] 2 / 0 / 0 / 2:  30%|███       | 3/10 [00:04<00:10,  1.50s/it]\u001b[A\n",
            "[Succeeded / Failed / Skipped / Total] 3 / 0 / 0 / 3:  30%|███       | 3/10 [00:04<00:10,  1.50s/it]\u001b[A\n",
            "[Succeeded / Failed / Skipped / Total] 3 / 0 / 1 / 4:  40%|████      | 4/10 [00:04<00:06,  1.13s/it]\u001b[A"
          ]
        },
        {
          "output_type": "stream",
          "name": "stdout",
          "text": [
            "--------------------------------------------- Result 3 ---------------------------------------------\n",
            "[[Positive (100%)]] --> [[Negative (85%)]]\n",
            "\n",
            "that loves its [[characters]] and communicates something [[rather]] beautiful about human nature \n",
            "\n",
            "that loves its [[personages]] and communicates something [[somewhat]] beautiful about human nature \n",
            "\n",
            "\n",
            "--------------------------------------------- Result 4 ---------------------------------------------\n",
            "[[Positive (99%)]] --> [[[SKIPPED]]]\n",
            "\n",
            "remains utterly satisfied to remain the same throughout \n",
            "\n",
            "\n"
          ]
        },
        {
          "output_type": "stream",
          "name": "stderr",
          "text": [
            "\n",
            "[Succeeded / Failed / Skipped / Total] 3 / 0 / 1 / 4:  50%|█████     | 5/10 [00:09<00:09,  1.85s/it]\u001b[A\n",
            "[Succeeded / Failed / Skipped / Total] 3 / 1 / 1 / 5:  50%|█████     | 5/10 [00:09<00:09,  1.85s/it]\u001b[A"
          ]
        },
        {
          "output_type": "stream",
          "name": "stdout",
          "text": [
            "--------------------------------------------- Result 5 ---------------------------------------------\n",
            "[[Negative (97%)]] --> [[[FAILED]]]\n",
            "\n",
            "on the worst revenge-of-the-nerds clichés the filmmakers could dredge up \n",
            "\n",
            "\n"
          ]
        },
        {
          "output_type": "stream",
          "name": "stderr",
          "text": [
            "\n",
            "[Succeeded / Failed / Skipped / Total] 4 / 1 / 1 / 6:  60%|██████    | 6/10 [00:10<00:06,  1.73s/it]\u001b[A\n",
            "[Succeeded / Failed / Skipped / Total] 4 / 1 / 1 / 6:  70%|███████   | 7/10 [00:10<00:04,  1.49s/it]\u001b[A\n",
            "[Succeeded / Failed / Skipped / Total] 4 / 1 / 2 / 7:  70%|███████   | 7/10 [00:10<00:04,  1.49s/it]\u001b[A"
          ]
        },
        {
          "output_type": "stream",
          "name": "stdout",
          "text": [
            "--------------------------------------------- Result 6 ---------------------------------------------\n",
            "[[Negative (96%)]] --> [[Positive (55%)]]\n",
            "\n",
            "that 's far too tragic to merit such [[superficial]] treatment \n",
            "\n",
            "that 's far too tragic to merit such [[superficiɑl]] treatment \n",
            "\n",
            "\n",
            "--------------------------------------------- Result 7 ---------------------------------------------\n",
            "[[Negative (94%)]] --> [[[SKIPPED]]]\n",
            "\n",
            "demonstrates that the director of such hollywood blockbusters as patriot games can still turn out a small , personal film with an emotional wallop . \n",
            "\n",
            "\n"
          ]
        },
        {
          "output_type": "stream",
          "name": "stderr",
          "text": [
            "\n",
            "[Succeeded / Failed / Skipped / Total] 5 / 1 / 2 / 8:  80%|████████  | 8/10 [00:11<00:02,  1.42s/it]\u001b[A"
          ]
        },
        {
          "output_type": "stream",
          "name": "stdout",
          "text": [
            "--------------------------------------------- Result 8 ---------------------------------------------\n",
            "[[Positive (86%)]] --> [[Negative (77%)]]\n",
            "\n",
            "of [[saucy]] \n",
            "\n",
            "of [[overbold]] \n",
            "\n",
            "\n"
          ]
        },
        {
          "output_type": "stream",
          "name": "stderr",
          "text": [
            "\n",
            "[Succeeded / Failed / Skipped / Total] 5 / 1 / 2 / 8:  90%|█████████ | 9/10 [00:12<00:01,  1.37s/it]\u001b[A\n",
            "[Succeeded / Failed / Skipped / Total] 6 / 1 / 2 / 9:  90%|█████████ | 9/10 [00:12<00:01,  1.37s/it]\u001b[A"
          ]
        },
        {
          "output_type": "stream",
          "name": "stdout",
          "text": [
            "--------------------------------------------- Result 9 ---------------------------------------------\n",
            "[[Negative (84%)]] --> [[Positive (65%)]]\n",
            "\n",
            "a depressed fifteen-year-old 's [[suicidal]] poetry \n",
            "\n",
            "a depressed fifteen-year-old 's [[martyrdom]] poetry \n",
            "\n",
            "\n"
          ]
        },
        {
          "output_type": "stream",
          "name": "stderr",
          "text": [
            "\n",
            "[Succeeded / Failed / Skipped / Total] 7 / 1 / 2 / 10: 100%|██████████| 10/10 [00:14<00:00,  1.43s/it]"
          ]
        },
        {
          "output_type": "stream",
          "name": "stdout",
          "text": [
            "--------------------------------------------- Result 10 ---------------------------------------------\n",
            "[[Positive (99%)]] --> [[Negative (88%)]]\n",
            "\n",
            "are more [[deeply]] thought through than in most ` right-thinking ' [[films]] \n",
            "\n",
            "are more [[severely]] thought through than in most ` right-thinking ' [[celluloid]] \n",
            "\n",
            "\n",
            "\n",
            "+-------------------------------+--------+\n",
            "| Attack Results                |        |\n",
            "+-------------------------------+--------+\n",
            "| Number of successful attacks: | 7      |\n",
            "| Number of failed attacks:     | 1      |\n",
            "| Number of skipped attacks:    | 2      |\n",
            "| Original accuracy:            | 80.0%  |\n",
            "| Accuracy under attack:        | 10.0%  |\n",
            "| Attack success rate:          | 87.5%  |\n",
            "| Average perturbed word %:     | 20.35% |\n",
            "| Average num. words per input: | 9.5    |\n",
            "| Avg num queries:              | 48.62  |\n",
            "+-------------------------------+--------+\n"
          ]
        },
        {
          "output_type": "stream",
          "name": "stderr",
          "text": [
            "\n"
          ]
        },
        {
          "output_type": "execute_result",
          "data": {
            "text/plain": [
              "[<textattack.attack_results.successful_attack_result.SuccessfulAttackResult at 0x7fbbde5cbf50>,\n",
              " <textattack.attack_results.successful_attack_result.SuccessfulAttackResult at 0x7fba5950c750>,\n",
              " <textattack.attack_results.successful_attack_result.SuccessfulAttackResult at 0x7fbad8674710>,\n",
              " <textattack.attack_results.skipped_attack_result.SkippedAttackResult at 0x7fbbfaefe890>,\n",
              " <textattack.attack_results.failed_attack_result.FailedAttackResult at 0x7fba610bb050>,\n",
              " <textattack.attack_results.successful_attack_result.SuccessfulAttackResult at 0x7fbc1be573d0>,\n",
              " <textattack.attack_results.skipped_attack_result.SkippedAttackResult at 0x7fba596ea450>,\n",
              " <textattack.attack_results.successful_attack_result.SuccessfulAttackResult at 0x7fbad8266710>,\n",
              " <textattack.attack_results.successful_attack_result.SuccessfulAttackResult at 0x7fba616050d0>,\n",
              " <textattack.attack_results.successful_attack_result.SuccessfulAttackResult at 0x7fbbfdd8b2d0>]"
            ]
          },
          "metadata": {},
          "execution_count": 13
        }
      ],
      "source": [
        "attack = Recipe1.build(model_wrapper)\n",
        "attacker = Attacker(attack, dataset)\n",
        "attacker.attack_dataset()"
      ]
    },
    {
      "cell_type": "markdown",
      "source": [
        "##Recipe2\n",
        "          WordSwapQWERTY\n",
        "          WordSwapWordNet\n",
        "          WordSwapHomoglyphSwap\n",
        "          WordSwapNeighboringCharacterSwap\n",
        "          WordSwapRandomCharacterInsertion\n",
        "          WordSwapRandomCharacterDeletion       "
      ],
      "metadata": {
        "id": "DoPybFRWRF7A"
      }
    },
    {
      "cell_type": "code",
      "source": [
        "class Recipe2(Attack,ABC):\n",
        "    @staticmethod\n",
        "    def build(model_wrapper):\n",
        "        #transformation =  WordSwapNeighboringCharacterSwap(random_one=True,skip_first_char=True,skip_last_char=True,)\n",
        "        transformation = CompositeTransformation(\n",
        "                [\n",
        "                    WordSwapQWERTY(),\n",
        "                    WordSwapWordNet(),\n",
        "                    WordSwapHomoglyphSwap(),\n",
        "                    WordSwapNeighboringCharacterSwap(random_one=True,skip_first_char=True,skip_last_char=True,),\n",
        "                    # (1) Insert: Insert a space into the word.\n",
        "                    # Generally, words are segmented by spaces in English. Therefore,\n",
        "                    # we can deceive classifiers by inserting spaces into words.\n",
        "                    WordSwapRandomCharacterInsertion(\n",
        "                        random_one=True,\n",
        "                        letters_to_insert=\" \",\n",
        "                        skip_first_char=True,\n",
        "                        skip_last_char=True,\n",
        "                    ),\n",
        "                    # (2) Delete: Delete a random character of the word except for the first\n",
        "                    # and the last character\n",
        "                    WordSwapRandomCharacterDeletion(\n",
        "                        random_one=True, skip_first_char=True, skip_last_char=True\n",
        "                    ),\n",
        "                ])\n",
        "\n",
        "        constraints = [RepeatModification(), StopwordModification()]\n",
        "\n",
        "        goal_function = UntargetedClassification(model_wrapper)\n",
        "        # search over words based on a combination of their saliency score, and how efficient the WordSwap transform is\n",
        "        search_method = GreedyWordSwapWIR(wir_method=\"delete\")\n",
        "        return Attack(goal_function, constraints, transformation, search_method)"
      ],
      "metadata": {
        "id": "SJpgU5uq44vJ"
      },
      "execution_count": 14,
      "outputs": []
    },
    {
      "cell_type": "code",
      "source": [
        "attack = Recipe2.build(model_wrapper)\n",
        "attacker = Attacker(attack, dataset)\n",
        "attacker.attack_dataset()"
      ],
      "metadata": {
        "colab": {
          "base_uri": "https://localhost:8080/"
        },
        "id": "fIVDor5P5eHU",
        "outputId": "90133778-4c46-443f-aab2-70b653d0dc00"
      },
      "execution_count": 15,
      "outputs": [
        {
          "output_type": "stream",
          "name": "stderr",
          "text": [
            "textattack: Unknown if model of class <class 'transformers.models.albert.modeling_albert.AlbertForSequenceClassification'> compatible with goal function <class 'textattack.goal_functions.classification.untargeted_classification.UntargetedClassification'>.\n"
          ]
        },
        {
          "output_type": "stream",
          "name": "stdout",
          "text": [
            "Attack(\n",
            "  (search_method): GreedyWordSwapWIR(\n",
            "    (wir_method):  delete\n",
            "  )\n",
            "  (goal_function):  UntargetedClassification\n",
            "  (transformation):  CompositeTransformation(\n",
            "    (0): WordSwapQWERTY\n",
            "    (1): WordSwapWordNet\n",
            "    (2): WordSwapHomoglyphSwap\n",
            "    (3): WordSwapNeighboringCharacterSwap(\n",
            "        (random_one):  True\n",
            "      )\n",
            "    (4): WordSwapRandomCharacterInsertion(\n",
            "        (random_one):  True\n",
            "      )\n",
            "    (5): WordSwapRandomCharacterDeletion(\n",
            "        (random_one):  True\n",
            "      )\n",
            "    )\n",
            "  (constraints): \n",
            "    (0): RepeatModification\n",
            "    (1): StopwordModification\n",
            "  (is_black_box):  True\n",
            ") \n",
            "\n"
          ]
        },
        {
          "output_type": "stream",
          "name": "stderr",
          "text": [
            "\n",
            "  0%|          | 0/10 [00:00<?, ?it/s]\u001b[A\n",
            " 10%|█         | 1/10 [00:01<00:09,  1.02s/it]\u001b[A\n",
            "[Succeeded / Failed / Skipped / Total] 1 / 0 / 0 / 1:  10%|█         | 1/10 [00:01<00:09,  1.03s/it]\u001b[A"
          ]
        },
        {
          "output_type": "stream",
          "name": "stdout",
          "text": [
            "--------------------------------------------- Result 1 ---------------------------------------------\n",
            "[[Negative (79%)]] --> [[Positive (59%)]]\n",
            "\n",
            "[[hide]] new secretions from the parental units \n",
            "\n",
            "[[hde]] new secretions from the parental units \n",
            "\n",
            "\n"
          ]
        },
        {
          "output_type": "stream",
          "name": "stderr",
          "text": [
            "\n",
            "[Succeeded / Failed / Skipped / Total] 1 / 0 / 0 / 1:  20%|██        | 2/10 [00:01<00:07,  1.09it/s]\u001b[A\n",
            "[Succeeded / Failed / Skipped / Total] 2 / 0 / 0 / 2:  20%|██        | 2/10 [00:01<00:07,  1.09it/s]\u001b[A"
          ]
        },
        {
          "output_type": "stream",
          "name": "stdout",
          "text": [
            "--------------------------------------------- Result 2 ---------------------------------------------\n",
            "[[Negative (66%)]] --> [[Positive (81%)]]\n",
            "\n",
            "contains no [[wit]] , only labored gags \n",
            "\n",
            "contains no [[card]] , only labored gags \n",
            "\n",
            "\n"
          ]
        },
        {
          "output_type": "stream",
          "name": "stderr",
          "text": [
            "\n",
            "[Succeeded / Failed / Skipped / Total] 2 / 0 / 0 / 2:  30%|███       | 3/10 [00:03<00:09,  1.29s/it]\u001b[A\n",
            "[Succeeded / Failed / Skipped / Total] 3 / 0 / 0 / 3:  30%|███       | 3/10 [00:03<00:09,  1.29s/it]\u001b[A\n",
            "[Succeeded / Failed / Skipped / Total] 3 / 0 / 1 / 4:  40%|████      | 4/10 [00:03<00:05,  1.02it/s]\u001b[A"
          ]
        },
        {
          "output_type": "stream",
          "name": "stdout",
          "text": [
            "--------------------------------------------- Result 3 ---------------------------------------------\n",
            "[[Positive (100%)]] --> [[Negative (60%)]]\n",
            "\n",
            "that loves its [[characters]] and communicates something [[rather]] beautiful about human nature \n",
            "\n",
            "that loves its [[chɑracters]] and communicates something [[instead]] beautiful about human nature \n",
            "\n",
            "\n",
            "--------------------------------------------- Result 4 ---------------------------------------------\n",
            "[[Positive (99%)]] --> [[[SKIPPED]]]\n",
            "\n",
            "remains utterly satisfied to remain the same throughout \n",
            "\n",
            "\n"
          ]
        },
        {
          "output_type": "stream",
          "name": "stderr",
          "text": [
            "\n",
            "[Succeeded / Failed / Skipped / Total] 3 / 0 / 1 / 4:  50%|█████     | 5/10 [00:07<00:07,  1.55s/it]\u001b[A\n",
            "[Succeeded / Failed / Skipped / Total] 3 / 1 / 1 / 5:  50%|█████     | 5/10 [00:07<00:07,  1.55s/it]\u001b[A"
          ]
        },
        {
          "output_type": "stream",
          "name": "stdout",
          "text": [
            "--------------------------------------------- Result 5 ---------------------------------------------\n",
            "[[Negative (97%)]] --> [[[FAILED]]]\n",
            "\n",
            "on the worst revenge-of-the-nerds clichés the filmmakers could dredge up \n",
            "\n",
            "\n"
          ]
        },
        {
          "output_type": "stream",
          "name": "stderr",
          "text": [
            "\n",
            "[Succeeded / Failed / Skipped / Total] 4 / 1 / 1 / 6:  60%|██████    | 6/10 [00:08<00:05,  1.46s/it]\u001b[A\n",
            "[Succeeded / Failed / Skipped / Total] 4 / 1 / 1 / 6:  70%|███████   | 7/10 [00:08<00:03,  1.26s/it]\u001b[A\n",
            "[Succeeded / Failed / Skipped / Total] 4 / 1 / 2 / 7:  70%|███████   | 7/10 [00:08<00:03,  1.26s/it]\u001b[A"
          ]
        },
        {
          "output_type": "stream",
          "name": "stdout",
          "text": [
            "--------------------------------------------- Result 6 ---------------------------------------------\n",
            "[[Negative (96%)]] --> [[Positive (55%)]]\n",
            "\n",
            "that 's far too tragic to merit such [[superficial]] treatment \n",
            "\n",
            "that 's far too tragic to merit such [[superficiɑl]] treatment \n",
            "\n",
            "\n",
            "--------------------------------------------- Result 7 ---------------------------------------------\n",
            "[[Negative (94%)]] --> [[[SKIPPED]]]\n",
            "\n",
            "demonstrates that the director of such hollywood blockbusters as patriot games can still turn out a small , personal film with an emotional wallop . \n",
            "\n",
            "\n"
          ]
        },
        {
          "output_type": "stream",
          "name": "stderr",
          "text": [
            "\n",
            "[Succeeded / Failed / Skipped / Total] 5 / 1 / 2 / 8:  80%|████████  | 8/10 [00:09<00:02,  1.20s/it]\u001b[A"
          ]
        },
        {
          "output_type": "stream",
          "name": "stdout",
          "text": [
            "--------------------------------------------- Result 8 ---------------------------------------------\n",
            "[[Positive (86%)]] --> [[Negative (77%)]]\n",
            "\n",
            "of [[saucy]] \n",
            "\n",
            "of [[overbold]] \n",
            "\n",
            "\n"
          ]
        },
        {
          "output_type": "stream",
          "name": "stderr",
          "text": [
            "\n",
            "[Succeeded / Failed / Skipped / Total] 5 / 1 / 2 / 8:  90%|█████████ | 9/10 [00:10<00:01,  1.15s/it]\u001b[A\n",
            "[Succeeded / Failed / Skipped / Total] 6 / 1 / 2 / 9:  90%|█████████ | 9/10 [00:10<00:01,  1.15s/it]\u001b[A"
          ]
        },
        {
          "output_type": "stream",
          "name": "stdout",
          "text": [
            "--------------------------------------------- Result 9 ---------------------------------------------\n",
            "[[Negative (84%)]] --> [[Positive (57%)]]\n",
            "\n",
            "a depressed fifteen-year-old 's [[suicidal]] poetry \n",
            "\n",
            "a depressed fifteen-year-old 's [[su]] [[icidal]] poetry \n",
            "\n",
            "\n"
          ]
        },
        {
          "output_type": "stream",
          "name": "stderr",
          "text": [
            "\n",
            "[Succeeded / Failed / Skipped / Total] 7 / 1 / 2 / 10: 100%|██████████| 10/10 [00:11<00:00,  1.20s/it]"
          ]
        },
        {
          "output_type": "stream",
          "name": "stdout",
          "text": [
            "--------------------------------------------- Result 10 ---------------------------------------------\n",
            "[[Positive (99%)]] --> [[Negative (85%)]]\n",
            "\n",
            "are more [[deeply]] thought through than in most ` right-thinking ' [[films]] \n",
            "\n",
            "are more [[depely]] thought through than in most ` right-thinking ' [[celluloid]] \n",
            "\n",
            "\n",
            "\n",
            "+-------------------------------+--------+\n",
            "| Attack Results                |        |\n",
            "+-------------------------------+--------+\n",
            "| Number of successful attacks: | 7      |\n",
            "| Number of failed attacks:     | 1      |\n",
            "| Number of skipped attacks:    | 2      |\n",
            "| Original accuracy:            | 80.0%  |\n",
            "| Accuracy under attack:        | 10.0%  |\n",
            "| Attack success rate:          | 87.5%  |\n",
            "| Average perturbed word %:     | 22.73% |\n",
            "| Average num. words per input: | 9.5    |\n",
            "| Avg num queries:              | 39.88  |\n",
            "+-------------------------------+--------+\n"
          ]
        },
        {
          "output_type": "stream",
          "name": "stderr",
          "text": [
            "\n"
          ]
        },
        {
          "output_type": "execute_result",
          "data": {
            "text/plain": [
              "[<textattack.attack_results.successful_attack_result.SuccessfulAttackResult at 0x7fba54a21110>,\n",
              " <textattack.attack_results.successful_attack_result.SuccessfulAttackResult at 0x7fba5f97f990>,\n",
              " <textattack.attack_results.successful_attack_result.SuccessfulAttackResult at 0x7fba532dcb50>,\n",
              " <textattack.attack_results.skipped_attack_result.SkippedAttackResult at 0x7fba532dc8d0>,\n",
              " <textattack.attack_results.failed_attack_result.FailedAttackResult at 0x7fbbf766bb90>,\n",
              " <textattack.attack_results.successful_attack_result.SuccessfulAttackResult at 0x7fbc036e0810>,\n",
              " <textattack.attack_results.skipped_attack_result.SkippedAttackResult at 0x7fbad860f290>,\n",
              " <textattack.attack_results.successful_attack_result.SuccessfulAttackResult at 0x7fba545f9810>,\n",
              " <textattack.attack_results.successful_attack_result.SuccessfulAttackResult at 0x7fbad860fa10>,\n",
              " <textattack.attack_results.successful_attack_result.SuccessfulAttackResult at 0x7fba54e59350>]"
            ]
          },
          "metadata": {},
          "execution_count": 15
        }
      ]
    },
    {
      "cell_type": "markdown",
      "source": [
        "##Recipe3\n",
        "          WordSwapWordNet\n",
        "          WordSwapHomoglyphSwap\n",
        "          WordSwapNeighboringCharacterSwap\n",
        "          WordSwapRandomCharacterInsertion\n",
        "          WordSwapRandomCharacterDeletion\n",
        "          WordSwapEmbedding"
      ],
      "metadata": {
        "id": "Sfx6pm64RdFM"
      }
    },
    {
      "cell_type": "code",
      "source": [
        "class Recipe3(Attack,ABC):\n",
        "    @staticmethod\n",
        "    def build(model_wrapper):\n",
        "        #transformation =  WordSwapNeighboringCharacterSwap(random_one=True,skip_first_char=True,skip_last_char=True,)\n",
        "        transformation = CompositeTransformation(\n",
        "                [\n",
        "                    WordSwapWordNet(),\n",
        "                    WordSwapHomoglyphSwap(),\n",
        "                    WordSwapNeighboringCharacterSwap(random_one=True,skip_first_char=True,skip_last_char=True,),\n",
        "                    # (1) Insert: Insert a space into the word.\n",
        "                    # Generally, words are segmented by spaces in English. Therefore,\n",
        "                    # we can deceive classifiers by inserting spaces into words.\n",
        "                    WordSwapRandomCharacterInsertion(\n",
        "                        random_one=True,\n",
        "                        letters_to_insert=\" \",\n",
        "                        skip_first_char=True,\n",
        "                        skip_last_char=True,\n",
        "                    ),\n",
        "                    # (2) Delete: Delete a random character of the word except for the first\n",
        "                    # and the last character\n",
        "                    WordSwapRandomCharacterDeletion(\n",
        "                        random_one=True, skip_first_char=True, skip_last_char=True\n",
        "                    ),\n",
        "                    # (5) Substitute-W\n",
        "                    # (Sub-W): Replace a word with its topk nearest neighbors in a\n",
        "                    # context-aware word vector space. Specifically, we use the pre-trained\n",
        "                    # GloVe model [30] provided by Stanford for word embedding and set\n",
        "                    # topk = 5 in the experiment.\n",
        "                    WordSwapEmbedding(max_candidates=5),\n",
        "                ])\n",
        "\n",
        "        constraints = [RepeatModification(), StopwordModification()]\n",
        "\n",
        "        goal_function = UntargetedClassification(model_wrapper)\n",
        "        # search over words based on a combination of their saliency score, and how efficient the WordSwap transform is\n",
        "        search_method = GreedyWordSwapWIR(wir_method=\"delete\")\n",
        "        return Attack(goal_function, constraints, transformation, search_method)\n"
      ],
      "metadata": {
        "id": "5T0zD0Y263N8"
      },
      "execution_count": 16,
      "outputs": []
    },
    {
      "cell_type": "code",
      "source": [
        "attack = Recipe3.build(model_wrapper)\n",
        "attacker = Attacker(attack, dataset)\n",
        "attacker.attack_dataset()"
      ],
      "metadata": {
        "colab": {
          "base_uri": "https://localhost:8080/"
        },
        "id": "iHjjyO6j7HXx",
        "outputId": "e01eb533-0c9b-4dba-86f4-c2e58d4d4f97"
      },
      "execution_count": 17,
      "outputs": [
        {
          "output_type": "stream",
          "name": "stderr",
          "text": [
            "textattack: Unknown if model of class <class 'transformers.models.albert.modeling_albert.AlbertForSequenceClassification'> compatible with goal function <class 'textattack.goal_functions.classification.untargeted_classification.UntargetedClassification'>.\n"
          ]
        },
        {
          "output_type": "stream",
          "name": "stdout",
          "text": [
            "Attack(\n",
            "  (search_method): GreedyWordSwapWIR(\n",
            "    (wir_method):  delete\n",
            "  )\n",
            "  (goal_function):  UntargetedClassification\n",
            "  (transformation):  CompositeTransformation(\n",
            "    (0): WordSwapWordNet\n",
            "    (1): WordSwapHomoglyphSwap\n",
            "    (2): WordSwapNeighboringCharacterSwap(\n",
            "        (random_one):  True\n",
            "      )\n",
            "    (3): WordSwapRandomCharacterInsertion(\n",
            "        (random_one):  True\n",
            "      )\n",
            "    (4): WordSwapRandomCharacterDeletion(\n",
            "        (random_one):  True\n",
            "      )\n",
            "    (5): WordSwapEmbedding(\n",
            "        (max_candidates):  5\n",
            "        (embedding):  WordEmbedding\n",
            "      )\n",
            "    )\n",
            "  (constraints): \n",
            "    (0): RepeatModification\n",
            "    (1): StopwordModification\n",
            "  (is_black_box):  True\n",
            ") \n",
            "\n"
          ]
        },
        {
          "output_type": "stream",
          "name": "stderr",
          "text": [
            "\n",
            "  0%|          | 0/10 [00:00<?, ?it/s]\u001b[A\n",
            " 10%|█         | 1/10 [00:01<00:10,  1.17s/it]\u001b[A\n",
            "[Succeeded / Failed / Skipped / Total] 1 / 0 / 0 / 1:  10%|█         | 1/10 [00:01<00:10,  1.18s/it]\u001b[A"
          ]
        },
        {
          "output_type": "stream",
          "name": "stdout",
          "text": [
            "--------------------------------------------- Result 1 ---------------------------------------------\n",
            "[[Negative (79%)]] --> [[Positive (70%)]]\n",
            "\n",
            "[[hide]] new secretions from the parental units \n",
            "\n",
            "[[hides]] new secretions from the parental units \n",
            "\n",
            "\n"
          ]
        },
        {
          "output_type": "stream",
          "name": "stderr",
          "text": [
            "\n",
            "[Succeeded / Failed / Skipped / Total] 1 / 0 / 0 / 1:  20%|██        | 2/10 [00:02<00:08,  1.07s/it]\u001b[A\n",
            "[Succeeded / Failed / Skipped / Total] 2 / 0 / 0 / 2:  20%|██        | 2/10 [00:02<00:08,  1.07s/it]\u001b[A"
          ]
        },
        {
          "output_type": "stream",
          "name": "stdout",
          "text": [
            "--------------------------------------------- Result 2 ---------------------------------------------\n",
            "[[Negative (66%)]] --> [[Positive (87%)]]\n",
            "\n",
            "contains no [[wit]] , only labored gags \n",
            "\n",
            "contains no [[waite]] , only labored gags \n",
            "\n",
            "\n"
          ]
        },
        {
          "output_type": "stream",
          "name": "stderr",
          "text": [
            "\n",
            "[Succeeded / Failed / Skipped / Total] 2 / 0 / 0 / 2:  30%|███       | 3/10 [00:04<00:10,  1.50s/it]\u001b[A\n",
            "[Succeeded / Failed / Skipped / Total] 3 / 0 / 0 / 3:  30%|███       | 3/10 [00:04<00:10,  1.50s/it]\u001b[A\n",
            "[Succeeded / Failed / Skipped / Total] 3 / 0 / 1 / 4:  40%|████      | 4/10 [00:04<00:06,  1.14s/it]\u001b[A"
          ]
        },
        {
          "output_type": "stream",
          "name": "stdout",
          "text": [
            "--------------------------------------------- Result 3 ---------------------------------------------\n",
            "[[Positive (100%)]] --> [[Negative (85%)]]\n",
            "\n",
            "that loves its [[characters]] and communicates something [[rather]] beautiful about human nature \n",
            "\n",
            "that loves its [[personages]] and communicates something [[somewhat]] beautiful about human nature \n",
            "\n",
            "\n",
            "--------------------------------------------- Result 4 ---------------------------------------------\n",
            "[[Positive (99%)]] --> [[[SKIPPED]]]\n",
            "\n",
            "remains utterly satisfied to remain the same throughout \n",
            "\n",
            "\n"
          ]
        },
        {
          "output_type": "stream",
          "name": "stderr",
          "text": [
            "\n",
            "[Succeeded / Failed / Skipped / Total] 3 / 0 / 1 / 4:  50%|█████     | 5/10 [00:09<00:09,  1.84s/it]\u001b[A\n",
            "[Succeeded / Failed / Skipped / Total] 3 / 1 / 1 / 5:  50%|█████     | 5/10 [00:09<00:09,  1.84s/it]\u001b[A"
          ]
        },
        {
          "output_type": "stream",
          "name": "stdout",
          "text": [
            "--------------------------------------------- Result 5 ---------------------------------------------\n",
            "[[Negative (97%)]] --> [[[FAILED]]]\n",
            "\n",
            "on the worst revenge-of-the-nerds clichés the filmmakers could dredge up \n",
            "\n",
            "\n"
          ]
        },
        {
          "output_type": "stream",
          "name": "stderr",
          "text": [
            "\n",
            "[Succeeded / Failed / Skipped / Total] 4 / 1 / 1 / 6:  60%|██████    | 6/10 [00:10<00:06,  1.72s/it]\u001b[A\n",
            "[Succeeded / Failed / Skipped / Total] 4 / 1 / 1 / 6:  70%|███████   | 7/10 [00:10<00:04,  1.48s/it]\u001b[A\n",
            "[Succeeded / Failed / Skipped / Total] 4 / 1 / 2 / 7:  70%|███████   | 7/10 [00:10<00:04,  1.48s/it]\u001b[A"
          ]
        },
        {
          "output_type": "stream",
          "name": "stdout",
          "text": [
            "--------------------------------------------- Result 6 ---------------------------------------------\n",
            "[[Negative (96%)]] --> [[Positive (55%)]]\n",
            "\n",
            "that 's far too tragic to merit such [[superficial]] treatment \n",
            "\n",
            "that 's far too tragic to merit such [[superficiɑl]] treatment \n",
            "\n",
            "\n",
            "--------------------------------------------- Result 7 ---------------------------------------------\n",
            "[[Negative (94%)]] --> [[[SKIPPED]]]\n",
            "\n",
            "demonstrates that the director of such hollywood blockbusters as patriot games can still turn out a small , personal film with an emotional wallop . \n",
            "\n",
            "\n"
          ]
        },
        {
          "output_type": "stream",
          "name": "stderr",
          "text": [
            "\n",
            "[Succeeded / Failed / Skipped / Total] 5 / 1 / 2 / 8:  80%|████████  | 8/10 [00:11<00:02,  1.41s/it]\u001b[A"
          ]
        },
        {
          "output_type": "stream",
          "name": "stdout",
          "text": [
            "--------------------------------------------- Result 8 ---------------------------------------------\n",
            "[[Positive (86%)]] --> [[Negative (77%)]]\n",
            "\n",
            "of [[saucy]] \n",
            "\n",
            "of [[overbold]] \n",
            "\n",
            "\n"
          ]
        },
        {
          "output_type": "stream",
          "name": "stderr",
          "text": [
            "\n",
            "[Succeeded / Failed / Skipped / Total] 5 / 1 / 2 / 8:  90%|█████████ | 9/10 [00:12<00:01,  1.36s/it]\u001b[A\n",
            "[Succeeded / Failed / Skipped / Total] 6 / 1 / 2 / 9:  90%|█████████ | 9/10 [00:12<00:01,  1.36s/it]\u001b[A"
          ]
        },
        {
          "output_type": "stream",
          "name": "stdout",
          "text": [
            "--------------------------------------------- Result 9 ---------------------------------------------\n",
            "[[Negative (84%)]] --> [[Positive (65%)]]\n",
            "\n",
            "a depressed fifteen-year-old 's [[suicidal]] poetry \n",
            "\n",
            "a depressed fifteen-year-old 's [[martyrdom]] poetry \n",
            "\n",
            "\n"
          ]
        },
        {
          "output_type": "stream",
          "name": "stderr",
          "text": [
            "\n",
            "[Succeeded / Failed / Skipped / Total] 7 / 1 / 2 / 10: 100%|██████████| 10/10 [00:14<00:00,  1.42s/it]"
          ]
        },
        {
          "output_type": "stream",
          "name": "stdout",
          "text": [
            "--------------------------------------------- Result 10 ---------------------------------------------\n",
            "[[Positive (99%)]] --> [[Negative (88%)]]\n",
            "\n",
            "are more [[deeply]] thought through than in most ` right-thinking ' [[films]] \n",
            "\n",
            "are more [[severely]] thought through than in most ` right-thinking ' [[celluloid]] \n",
            "\n",
            "\n",
            "\n",
            "+-------------------------------+--------+\n",
            "| Attack Results                |        |\n",
            "+-------------------------------+--------+\n",
            "| Number of successful attacks: | 7      |\n",
            "| Number of failed attacks:     | 1      |\n",
            "| Number of skipped attacks:    | 2      |\n",
            "| Original accuracy:            | 80.0%  |\n",
            "| Accuracy under attack:        | 10.0%  |\n",
            "| Attack success rate:          | 87.5%  |\n",
            "| Average perturbed word %:     | 20.35% |\n",
            "| Average num. words per input: | 9.5    |\n",
            "| Avg num queries:              | 46.75  |\n",
            "+-------------------------------+--------+\n"
          ]
        },
        {
          "output_type": "stream",
          "name": "stderr",
          "text": [
            "\n"
          ]
        },
        {
          "output_type": "execute_result",
          "data": {
            "text/plain": [
              "[<textattack.attack_results.successful_attack_result.SuccessfulAttackResult at 0x7fba65b2f250>,\n",
              " <textattack.attack_results.successful_attack_result.SuccessfulAttackResult at 0x7fbbfdd8b150>,\n",
              " <textattack.attack_results.successful_attack_result.SuccessfulAttackResult at 0x7fba62f4e090>,\n",
              " <textattack.attack_results.skipped_attack_result.SkippedAttackResult at 0x7fba62f4e9d0>,\n",
              " <textattack.attack_results.failed_attack_result.FailedAttackResult at 0x7fbad8696210>,\n",
              " <textattack.attack_results.successful_attack_result.SuccessfulAttackResult at 0x7fba5f256790>,\n",
              " <textattack.attack_results.skipped_attack_result.SkippedAttackResult at 0x7fba631e0a10>,\n",
              " <textattack.attack_results.successful_attack_result.SuccessfulAttackResult at 0x7fba5f292bd0>,\n",
              " <textattack.attack_results.successful_attack_result.SuccessfulAttackResult at 0x7fbbf7694b10>,\n",
              " <textattack.attack_results.successful_attack_result.SuccessfulAttackResult at 0x7fba5891e450>]"
            ]
          },
          "metadata": {},
          "execution_count": 17
        }
      ]
    },
    {
      "cell_type": "markdown",
      "source": [
        "##Recipe 4\n",
        "            WordSwapWordNet\n",
        "            WordSwapNeighboringCharacterSwap\n",
        "            WordSwapRandomCharacterInsertion\n",
        "            WordSwapRandomCharacterDeletion\n",
        "            WordSwapEmbedding"
      ],
      "metadata": {
        "id": "PIoqPccXSBV_"
      }
    },
    {
      "cell_type": "code",
      "source": [
        "class Recipe4(Attack,ABC):\n",
        "    @staticmethod\n",
        "    def build(model_wrapper):\n",
        "        #transformation =  WordSwapNeighboringCharacterSwap(random_one=True,skip_first_char=True,skip_last_char=True,)\n",
        "        transformation = CompositeTransformation(\n",
        "                [\n",
        "                    WordSwapWordNet(),\n",
        "\n",
        "                    WordSwapNeighboringCharacterSwap(random_one=True,skip_first_char=True,skip_last_char=True,),\n",
        "                    # (1) Insert: Insert a space into the word.\n",
        "                    # Generally, words are segmented by spaces in English. Therefore,\n",
        "                    # we can deceive classifiers by inserting spaces into words.\n",
        "                    WordSwapRandomCharacterInsertion(\n",
        "                        random_one=True,\n",
        "                        letters_to_insert=\" \",\n",
        "                        skip_first_char=True,\n",
        "                        skip_last_char=True,\n",
        "                    ),\n",
        "                    # (2) Delete: Delete a random character of the word except for the first\n",
        "                    # and the last character\n",
        "                    WordSwapRandomCharacterDeletion(\n",
        "                        random_one=True, skip_first_char=True, skip_last_char=True\n",
        "                    ),\n",
        "                    # (5) Substitute-W\n",
        "                    # (Sub-W): Replace a word with its topk nearest neighbors in a\n",
        "                    # context-aware word vector space. Specifically, we use the pre-trained\n",
        "                    # GloVe model [30] provided by Stanford for word embedding and set\n",
        "                    # topk = 5 in the experiment.\n",
        "                    WordSwapEmbedding(max_candidates=5),\n",
        "                ])\n",
        "\n",
        "        constraints = [RepeatModification(), StopwordModification()]\n",
        "\n",
        "        goal_function = UntargetedClassification(model_wrapper)\n",
        "        # search over words based on a combination of their saliency score, and how efficient the WordSwap transform is\n",
        "        search_method = GreedyWordSwapWIR(wir_method=\"delete\")\n",
        "        return Attack(goal_function, constraints, transformation, search_method)"
      ],
      "metadata": {
        "id": "L5Z4wggn7fqj"
      },
      "execution_count": 18,
      "outputs": []
    },
    {
      "cell_type": "code",
      "source": [
        "attack = Recipe4.build(model_wrapper)\n",
        "attacker = Attacker(attack, dataset)\n",
        "attacker.attack_dataset()"
      ],
      "metadata": {
        "colab": {
          "base_uri": "https://localhost:8080/"
        },
        "id": "aAszwyzK8LTK",
        "outputId": "823ab903-76a0-469e-a254-5f4f1f22add8"
      },
      "execution_count": 19,
      "outputs": [
        {
          "output_type": "stream",
          "name": "stderr",
          "text": [
            "textattack: Unknown if model of class <class 'transformers.models.albert.modeling_albert.AlbertForSequenceClassification'> compatible with goal function <class 'textattack.goal_functions.classification.untargeted_classification.UntargetedClassification'>.\n"
          ]
        },
        {
          "output_type": "stream",
          "name": "stdout",
          "text": [
            "Attack(\n",
            "  (search_method): GreedyWordSwapWIR(\n",
            "    (wir_method):  delete\n",
            "  )\n",
            "  (goal_function):  UntargetedClassification\n",
            "  (transformation):  CompositeTransformation(\n",
            "    (0): WordSwapWordNet\n",
            "    (1): WordSwapNeighboringCharacterSwap(\n",
            "        (random_one):  True\n",
            "      )\n",
            "    (2): WordSwapRandomCharacterInsertion(\n",
            "        (random_one):  True\n",
            "      )\n",
            "    (3): WordSwapRandomCharacterDeletion(\n",
            "        (random_one):  True\n",
            "      )\n",
            "    (4): WordSwapEmbedding(\n",
            "        (max_candidates):  5\n",
            "        (embedding):  WordEmbedding\n",
            "      )\n",
            "    )\n",
            "  (constraints): \n",
            "    (0): RepeatModification\n",
            "    (1): StopwordModification\n",
            "  (is_black_box):  True\n",
            ") \n",
            "\n"
          ]
        },
        {
          "output_type": "stream",
          "name": "stderr",
          "text": [
            "\n",
            "  0%|          | 0/10 [00:00<?, ?it/s]\u001b[A\n",
            " 10%|█         | 1/10 [00:01<00:09,  1.01s/it]\u001b[A\n",
            "[Succeeded / Failed / Skipped / Total] 1 / 0 / 0 / 1:  10%|█         | 1/10 [00:01<00:09,  1.01s/it]\u001b[A"
          ]
        },
        {
          "output_type": "stream",
          "name": "stdout",
          "text": [
            "--------------------------------------------- Result 1 ---------------------------------------------\n",
            "[[Negative (79%)]] --> [[Positive (70%)]]\n",
            "\n",
            "[[hide]] new secretions from the parental units \n",
            "\n",
            "[[hides]] new secretions from the parental units \n",
            "\n",
            "\n"
          ]
        },
        {
          "output_type": "stream",
          "name": "stderr",
          "text": [
            "\n",
            "[Succeeded / Failed / Skipped / Total] 1 / 0 / 0 / 1:  20%|██        | 2/10 [00:01<00:07,  1.06it/s]\u001b[A\n",
            "[Succeeded / Failed / Skipped / Total] 2 / 0 / 0 / 2:  20%|██        | 2/10 [00:01<00:07,  1.05it/s]\u001b[A"
          ]
        },
        {
          "output_type": "stream",
          "name": "stdout",
          "text": [
            "--------------------------------------------- Result 2 ---------------------------------------------\n",
            "[[Negative (66%)]] --> [[Positive (87%)]]\n",
            "\n",
            "contains no [[wit]] , only labored gags \n",
            "\n",
            "contains no [[waite]] , only labored gags \n",
            "\n",
            "\n"
          ]
        },
        {
          "output_type": "stream",
          "name": "stderr",
          "text": [
            "\n",
            "[Succeeded / Failed / Skipped / Total] 2 / 0 / 0 / 2:  30%|███       | 3/10 [00:03<00:08,  1.23s/it]\u001b[A\n",
            "[Succeeded / Failed / Skipped / Total] 3 / 0 / 0 / 3:  30%|███       | 3/10 [00:03<00:08,  1.23s/it]\u001b[A\n",
            "[Succeeded / Failed / Skipped / Total] 3 / 0 / 1 / 4:  40%|████      | 4/10 [00:03<00:05,  1.07it/s]\u001b[A"
          ]
        },
        {
          "output_type": "stream",
          "name": "stdout",
          "text": [
            "--------------------------------------------- Result 3 ---------------------------------------------\n",
            "[[Positive (100%)]] --> [[Negative (85%)]]\n",
            "\n",
            "that loves its [[characters]] and communicates something [[rather]] beautiful about human nature \n",
            "\n",
            "that loves its [[personages]] and communicates something [[somewhat]] beautiful about human nature \n",
            "\n",
            "\n",
            "--------------------------------------------- Result 4 ---------------------------------------------\n",
            "[[Positive (99%)]] --> [[[SKIPPED]]]\n",
            "\n",
            "remains utterly satisfied to remain the same throughout \n",
            "\n",
            "\n"
          ]
        },
        {
          "output_type": "stream",
          "name": "stderr",
          "text": [
            "\n",
            "[Succeeded / Failed / Skipped / Total] 3 / 0 / 1 / 4:  50%|█████     | 5/10 [00:06<00:06,  1.30s/it]\u001b[A\n",
            "[Succeeded / Failed / Skipped / Total] 4 / 0 / 1 / 5:  50%|█████     | 5/10 [00:06<00:06,  1.30s/it]\u001b[A"
          ]
        },
        {
          "output_type": "stream",
          "name": "stdout",
          "text": [
            "--------------------------------------------- Result 5 ---------------------------------------------\n",
            "[[Negative (97%)]] --> [[Positive (99%)]]\n",
            "\n",
            "on the [[worst]] [[revenge-of-the-nerds]] [[clichés]] the filmmakers [[could]] [[dredge]] up \n",
            "\n",
            "on the [[tough]] [[revenge-of-the-nreds]] [[clicéhs]] the filmmakers [[cuold]] [[derdge]] up \n",
            "\n",
            "\n"
          ]
        },
        {
          "output_type": "stream",
          "name": "stderr",
          "text": [
            "\n",
            "[Succeeded / Failed / Skipped / Total] 5 / 0 / 1 / 6:  60%|██████    | 6/10 [00:08<00:05,  1.35s/it]\u001b[A\n",
            "[Succeeded / Failed / Skipped / Total] 5 / 0 / 1 / 6:  70%|███████   | 7/10 [00:08<00:03,  1.16s/it]\u001b[A\n",
            "[Succeeded / Failed / Skipped / Total] 5 / 0 / 2 / 7:  70%|███████   | 7/10 [00:08<00:03,  1.16s/it]\u001b[A"
          ]
        },
        {
          "output_type": "stream",
          "name": "stdout",
          "text": [
            "--------------------------------------------- Result 6 ---------------------------------------------\n",
            "[[Negative (96%)]] --> [[Positive (65%)]]\n",
            "\n",
            "that 's [[far]] too tragic to merit such [[superficial]] treatment \n",
            "\n",
            "that 's [[considerably]] too tragic to merit such [[superficil]] treatment \n",
            "\n",
            "\n",
            "--------------------------------------------- Result 7 ---------------------------------------------\n",
            "[[Negative (94%)]] --> [[[SKIPPED]]]\n",
            "\n",
            "demonstrates that the director of such hollywood blockbusters as patriot games can still turn out a small , personal film with an emotional wallop . \n",
            "\n",
            "\n"
          ]
        },
        {
          "output_type": "stream",
          "name": "stderr",
          "text": [
            "\n",
            "[Succeeded / Failed / Skipped / Total] 6 / 0 / 2 / 8:  80%|████████  | 8/10 [00:08<00:02,  1.11s/it]\u001b[A"
          ]
        },
        {
          "output_type": "stream",
          "name": "stdout",
          "text": [
            "--------------------------------------------- Result 8 ---------------------------------------------\n",
            "[[Positive (86%)]] --> [[Negative (77%)]]\n",
            "\n",
            "of [[saucy]] \n",
            "\n",
            "of [[overbold]] \n",
            "\n",
            "\n"
          ]
        },
        {
          "output_type": "stream",
          "name": "stderr",
          "text": [
            "\n",
            "[Succeeded / Failed / Skipped / Total] 6 / 0 / 2 / 8:  90%|█████████ | 9/10 [00:09<00:01,  1.06s/it]\u001b[A\n",
            "[Succeeded / Failed / Skipped / Total] 7 / 0 / 2 / 9:  90%|█████████ | 9/10 [00:09<00:01,  1.06s/it]\u001b[A"
          ]
        },
        {
          "output_type": "stream",
          "name": "stdout",
          "text": [
            "--------------------------------------------- Result 9 ---------------------------------------------\n",
            "[[Negative (84%)]] --> [[Positive (98%)]]\n",
            "\n",
            "a depressed fifteen-year-old 's [[suicidal]] poetry \n",
            "\n",
            "a depressed fifteen-year-old 's [[sui]] [[cidal]] poetry \n",
            "\n",
            "\n"
          ]
        },
        {
          "output_type": "stream",
          "name": "stderr",
          "text": [
            "\n",
            "[Succeeded / Failed / Skipped / Total] 8 / 0 / 2 / 10: 100%|██████████| 10/10 [00:11<00:00,  1.10s/it]"
          ]
        },
        {
          "output_type": "stream",
          "name": "stdout",
          "text": [
            "--------------------------------------------- Result 10 ---------------------------------------------\n",
            "[[Positive (99%)]] --> [[Negative (88%)]]\n",
            "\n",
            "are more [[deeply]] thought through than in most ` right-thinking ' [[films]] \n",
            "\n",
            "are more [[severely]] thought through than in most ` right-thinking ' [[celluloid]] \n",
            "\n",
            "\n",
            "\n",
            "+-------------------------------+--------+\n",
            "| Attack Results                |        |\n",
            "+-------------------------------+--------+\n",
            "| Number of successful attacks: | 8      |\n",
            "| Number of failed attacks:     | 0      |\n",
            "| Number of skipped attacks:    | 2      |\n",
            "| Original accuracy:            | 80.0%  |\n",
            "| Accuracy under attack:        | 0.0%   |\n",
            "| Attack success rate:          | 100.0% |\n",
            "| Average perturbed word %:     | 27.39% |\n",
            "| Average num. words per input: | 9.5    |\n",
            "| Avg num queries:              | 35.62  |\n",
            "+-------------------------------+--------+\n"
          ]
        },
        {
          "output_type": "stream",
          "name": "stderr",
          "text": [
            "\n"
          ]
        },
        {
          "output_type": "execute_result",
          "data": {
            "text/plain": [
              "[<textattack.attack_results.successful_attack_result.SuccessfulAttackResult at 0x7fba61d731d0>,\n",
              " <textattack.attack_results.successful_attack_result.SuccessfulAttackResult at 0x7fba6422ef90>,\n",
              " <textattack.attack_results.successful_attack_result.SuccessfulAttackResult at 0x7fba55b2d810>,\n",
              " <textattack.attack_results.skipped_attack_result.SkippedAttackResult at 0x7fbbf662ef10>,\n",
              " <textattack.attack_results.successful_attack_result.SuccessfulAttackResult at 0x7fba64210a50>,\n",
              " <textattack.attack_results.successful_attack_result.SuccessfulAttackResult at 0x7fba602aaf90>,\n",
              " <textattack.attack_results.skipped_attack_result.SkippedAttackResult at 0x7fba66285cd0>,\n",
              " <textattack.attack_results.successful_attack_result.SuccessfulAttackResult at 0x7fba588a2d50>,\n",
              " <textattack.attack_results.successful_attack_result.SuccessfulAttackResult at 0x7fbad8602ad0>,\n",
              " <textattack.attack_results.successful_attack_result.SuccessfulAttackResult at 0x7fba61abc790>]"
            ]
          },
          "metadata": {},
          "execution_count": 19
        }
      ]
    },
    {
      "cell_type": "markdown",
      "source": [
        "##Recipe5\n",
        "          WordSwapQWERTY\n",
        "          WordSwapWordNet\n",
        "          WordSwapHomoglyphSwap\n",
        "          WordSwapNeighboringCharacterSwap\n",
        "          WordSwapRandomCharacterInsertion"
      ],
      "metadata": {
        "id": "XDFKtTLpSEex"
      }
    },
    {
      "cell_type": "code",
      "source": [
        "class Recipe5(Attack,ABC):\n",
        "    @staticmethod\n",
        "    def build(model_wrapper):\n",
        "        #transformation =  WordSwapNeighboringCharacterSwap(random_one=True,skip_first_char=True,skip_last_char=True,)\n",
        "        transformation = CompositeTransformation(\n",
        "                [\n",
        "                    WordSwapQWERTY(),\n",
        "                    WordSwapWordNet(),\n",
        "                    WordSwapHomoglyphSwap(),\n",
        "                    WordSwapNeighboringCharacterSwap(random_one=True,skip_first_char=True,skip_last_char=True,),\n",
        "                    # (1) Insert: Insert a space into the word.\n",
        "                    # Generally, words are segmented by spaces in English. Therefore,\n",
        "                    # we can deceive classifiers by inserting spaces into words.\n",
        "                    WordSwapRandomCharacterInsertion(\n",
        "                        random_one=True,\n",
        "                        letters_to_insert=\" \",\n",
        "                        skip_first_char=True,\n",
        "                        skip_last_char=True,\n",
        "                    ),\n",
        "                ])\n",
        "\n",
        "        constraints = [RepeatModification(), StopwordModification()]\n",
        "\n",
        "        goal_function = UntargetedClassification(model_wrapper)\n",
        "        # search over words based on a combination of their saliency score, and how efficient the WordSwap transform is\n",
        "        search_method = GreedyWordSwapWIR(wir_method=\"delete\")\n",
        "        return Attack(goal_function, constraints, transformation, search_method)\n"
      ],
      "metadata": {
        "id": "0u2SNXbu8w18"
      },
      "execution_count": 20,
      "outputs": []
    },
    {
      "cell_type": "code",
      "source": [
        "attack = Recipe5.build(model_wrapper)\n",
        "attacker = Attacker(attack, dataset)\n",
        "attacker.attack_dataset()"
      ],
      "metadata": {
        "colab": {
          "base_uri": "https://localhost:8080/"
        },
        "id": "wapesCEW9MCi",
        "outputId": "90d24c95-22fb-4a9a-c3d1-aaf6d8640529"
      },
      "execution_count": 21,
      "outputs": [
        {
          "output_type": "stream",
          "name": "stderr",
          "text": [
            "textattack: Unknown if model of class <class 'transformers.models.albert.modeling_albert.AlbertForSequenceClassification'> compatible with goal function <class 'textattack.goal_functions.classification.untargeted_classification.UntargetedClassification'>.\n"
          ]
        },
        {
          "output_type": "stream",
          "name": "stdout",
          "text": [
            "Attack(\n",
            "  (search_method): GreedyWordSwapWIR(\n",
            "    (wir_method):  delete\n",
            "  )\n",
            "  (goal_function):  UntargetedClassification\n",
            "  (transformation):  CompositeTransformation(\n",
            "    (0): WordSwapQWERTY\n",
            "    (1): WordSwapWordNet\n",
            "    (2): WordSwapHomoglyphSwap\n",
            "    (3): WordSwapNeighboringCharacterSwap(\n",
            "        (random_one):  True\n",
            "      )\n",
            "    (4): WordSwapRandomCharacterInsertion(\n",
            "        (random_one):  True\n",
            "      )\n",
            "    )\n",
            "  (constraints): \n",
            "    (0): RepeatModification\n",
            "    (1): StopwordModification\n",
            "  (is_black_box):  True\n",
            ") \n",
            "\n"
          ]
        },
        {
          "output_type": "stream",
          "name": "stderr",
          "text": [
            "\n",
            "  0%|          | 0/10 [00:00<?, ?it/s]\u001b[A\n",
            " 10%|█         | 1/10 [00:01<00:09,  1.02s/it]\u001b[A\n",
            "[Succeeded / Failed / Skipped / Total] 1 / 0 / 0 / 1:  10%|█         | 1/10 [00:01<00:09,  1.02s/it]\u001b[A"
          ]
        },
        {
          "output_type": "stream",
          "name": "stdout",
          "text": [
            "--------------------------------------------- Result 1 ---------------------------------------------\n",
            "[[Negative (79%)]] --> [[Positive (57%)]]\n",
            "\n",
            "[[hide]] new secretions from the parental units \n",
            "\n",
            "[[gide]] new secretions from the parental units \n",
            "\n",
            "\n"
          ]
        },
        {
          "output_type": "stream",
          "name": "stderr",
          "text": [
            "\n",
            "[Succeeded / Failed / Skipped / Total] 1 / 0 / 0 / 1:  20%|██        | 2/10 [00:01<00:07,  1.09it/s]\u001b[A\n",
            "[Succeeded / Failed / Skipped / Total] 2 / 0 / 0 / 2:  20%|██        | 2/10 [00:01<00:07,  1.08it/s]\u001b[A"
          ]
        },
        {
          "output_type": "stream",
          "name": "stdout",
          "text": [
            "--------------------------------------------- Result 2 ---------------------------------------------\n",
            "[[Negative (66%)]] --> [[Positive (81%)]]\n",
            "\n",
            "contains no [[wit]] , only labored gags \n",
            "\n",
            "contains no [[card]] , only labored gags \n",
            "\n",
            "\n"
          ]
        },
        {
          "output_type": "stream",
          "name": "stderr",
          "text": [
            "\n",
            "[Succeeded / Failed / Skipped / Total] 2 / 0 / 0 / 2:  30%|███       | 3/10 [00:03<00:08,  1.29s/it]\u001b[A\n",
            "[Succeeded / Failed / Skipped / Total] 3 / 0 / 0 / 3:  30%|███       | 3/10 [00:03<00:09,  1.29s/it]\u001b[A\n",
            "[Succeeded / Failed / Skipped / Total] 3 / 0 / 1 / 4:  40%|████      | 4/10 [00:03<00:05,  1.02it/s]\u001b[A"
          ]
        },
        {
          "output_type": "stream",
          "name": "stdout",
          "text": [
            "--------------------------------------------- Result 3 ---------------------------------------------\n",
            "[[Positive (100%)]] --> [[Negative (60%)]]\n",
            "\n",
            "that loves its [[characters]] and communicates something [[rather]] beautiful about human nature \n",
            "\n",
            "that loves its [[chɑracters]] and communicates something [[instead]] beautiful about human nature \n",
            "\n",
            "\n",
            "--------------------------------------------- Result 4 ---------------------------------------------\n",
            "[[Positive (99%)]] --> [[[SKIPPED]]]\n",
            "\n",
            "remains utterly satisfied to remain the same throughout \n",
            "\n",
            "\n"
          ]
        },
        {
          "output_type": "stream",
          "name": "stderr",
          "text": [
            "\n",
            "[Succeeded / Failed / Skipped / Total] 3 / 0 / 1 / 4:  50%|█████     | 5/10 [00:07<00:07,  1.53s/it]\u001b[A\n",
            "[Succeeded / Failed / Skipped / Total] 4 / 0 / 1 / 5:  50%|█████     | 5/10 [00:07<00:07,  1.54s/it]\u001b[A"
          ]
        },
        {
          "output_type": "stream",
          "name": "stdout",
          "text": [
            "--------------------------------------------- Result 5 ---------------------------------------------\n",
            "[[Negative (97%)]] --> [[Positive (80%)]]\n",
            "\n",
            "on the [[worst]] [[revenge-of-the-nerds]] [[clichés]] the [[filmmakers]] could [[dredge]] up \n",
            "\n",
            "on the [[tough]] [[revenge-of-the-n]] [[erds]] [[clіchés]] the [[filmmakeⲅs]] could [[ԁredge]] up \n",
            "\n",
            "\n"
          ]
        },
        {
          "output_type": "stream",
          "name": "stderr",
          "text": [
            "\n",
            "[Succeeded / Failed / Skipped / Total] 5 / 0 / 1 / 6:  60%|██████    | 6/10 [00:08<00:05,  1.44s/it]\u001b[A\n",
            "[Succeeded / Failed / Skipped / Total] 5 / 0 / 1 / 6:  70%|███████   | 7/10 [00:08<00:03,  1.24s/it]\u001b[A\n",
            "[Succeeded / Failed / Skipped / Total] 5 / 0 / 2 / 7:  70%|███████   | 7/10 [00:08<00:03,  1.24s/it]\u001b[A"
          ]
        },
        {
          "output_type": "stream",
          "name": "stdout",
          "text": [
            "--------------------------------------------- Result 6 ---------------------------------------------\n",
            "[[Negative (96%)]] --> [[Positive (55%)]]\n",
            "\n",
            "that 's far too tragic to merit such [[superficial]] treatment \n",
            "\n",
            "that 's far too tragic to merit such [[superficiɑl]] treatment \n",
            "\n",
            "\n",
            "--------------------------------------------- Result 7 ---------------------------------------------\n",
            "[[Negative (94%)]] --> [[[SKIPPED]]]\n",
            "\n",
            "demonstrates that the director of such hollywood blockbusters as patriot games can still turn out a small , personal film with an emotional wallop . \n",
            "\n",
            "\n"
          ]
        },
        {
          "output_type": "stream",
          "name": "stderr",
          "text": [
            "\n",
            "[Succeeded / Failed / Skipped / Total] 6 / 0 / 2 / 8:  80%|████████  | 8/10 [00:09<00:02,  1.19s/it]\u001b[A"
          ]
        },
        {
          "output_type": "stream",
          "name": "stdout",
          "text": [
            "--------------------------------------------- Result 8 ---------------------------------------------\n",
            "[[Positive (86%)]] --> [[Negative (77%)]]\n",
            "\n",
            "of [[saucy]] \n",
            "\n",
            "of [[overbold]] \n",
            "\n",
            "\n"
          ]
        },
        {
          "output_type": "stream",
          "name": "stderr",
          "text": [
            "\n",
            "[Succeeded / Failed / Skipped / Total] 6 / 0 / 2 / 8:  90%|█████████ | 9/10 [00:10<00:01,  1.14s/it]\u001b[A\n",
            "[Succeeded / Failed / Skipped / Total] 7 / 0 / 2 / 9:  90%|█████████ | 9/10 [00:10<00:01,  1.14s/it]\u001b[A"
          ]
        },
        {
          "output_type": "stream",
          "name": "stdout",
          "text": [
            "--------------------------------------------- Result 9 ---------------------------------------------\n",
            "[[Negative (84%)]] --> [[Positive (54%)]]\n",
            "\n",
            "a depressed fifteen-year-old 's [[suicidal]] poetry \n",
            "\n",
            "a depressed fifteen-year-old 's [[suiciԁal]] poetry \n",
            "\n",
            "\n"
          ]
        },
        {
          "output_type": "stream",
          "name": "stderr",
          "text": [
            "\n",
            "[Succeeded / Failed / Skipped / Total] 8 / 0 / 2 / 10: 100%|██████████| 10/10 [00:11<00:00,  1.18s/it]"
          ]
        },
        {
          "output_type": "stream",
          "name": "stdout",
          "text": [
            "--------------------------------------------- Result 10 ---------------------------------------------\n",
            "[[Positive (99%)]] --> [[Negative (77%)]]\n",
            "\n",
            "are more [[deeply]] thought through than in most ` right-thinking ' [[films]] \n",
            "\n",
            "are more [[deеply]] thought through than in most ` right-thinking ' [[celluloid]] \n",
            "\n",
            "\n",
            "\n",
            "+-------------------------------+--------+\n",
            "| Attack Results                |        |\n",
            "+-------------------------------+--------+\n",
            "| Number of successful attacks: | 8      |\n",
            "| Number of failed attacks:     | 0      |\n",
            "| Number of skipped attacks:    | 2      |\n",
            "| Original accuracy:            | 80.0%  |\n",
            "| Accuracy under attack:        | 0.0%   |\n",
            "| Attack success rate:          | 100.0% |\n",
            "| Average perturbed word %:     | 27.81% |\n",
            "| Average num. words per input: | 9.5    |\n",
            "| Avg num queries:              | 37.75  |\n",
            "+-------------------------------+--------+\n"
          ]
        },
        {
          "output_type": "stream",
          "name": "stderr",
          "text": [
            "\n"
          ]
        },
        {
          "output_type": "execute_result",
          "data": {
            "text/plain": [
              "[<textattack.attack_results.successful_attack_result.SuccessfulAttackResult at 0x7fbad8666e90>,\n",
              " <textattack.attack_results.successful_attack_result.SuccessfulAttackResult at 0x7fbad86175d0>,\n",
              " <textattack.attack_results.successful_attack_result.SuccessfulAttackResult at 0x7fba6628cd10>,\n",
              " <textattack.attack_results.skipped_attack_result.SkippedAttackResult at 0x7fba5ffbf090>,\n",
              " <textattack.attack_results.successful_attack_result.SuccessfulAttackResult at 0x7fba64730610>,\n",
              " <textattack.attack_results.successful_attack_result.SuccessfulAttackResult at 0x7fba5f490ad0>,\n",
              " <textattack.attack_results.skipped_attack_result.SkippedAttackResult at 0x7fba6352d210>,\n",
              " <textattack.attack_results.successful_attack_result.SuccessfulAttackResult at 0x7fbad866a0d0>,\n",
              " <textattack.attack_results.successful_attack_result.SuccessfulAttackResult at 0x7fba6628cc10>,\n",
              " <textattack.attack_results.successful_attack_result.SuccessfulAttackResult at 0x7fba5eab1210>]"
            ]
          },
          "metadata": {},
          "execution_count": 21
        }
      ]
    },
    {
      "cell_type": "markdown",
      "source": [
        "##Recipe 6\n",
        "          WordSwapNeighboringCharacterSwap\n",
        "          WordSwapRandomCharacterInsertion\n",
        "          WordSwapRandomCharacterDeletion\n",
        "          WordSwapEmbedding"
      ],
      "metadata": {
        "id": "5-W9A9dL-L9M"
      }
    },
    {
      "cell_type": "code",
      "source": [
        "class Recipe6(Attack,ABC):\n",
        "    @staticmethod\n",
        "    def build(model_wrapper):\n",
        "        #transformation =  WordSwapNeighboringCharacterSwap(random_one=True,skip_first_char=True,skip_last_char=True,)\n",
        "        transformation = CompositeTransformation(\n",
        "                [\n",
        "                    WordSwapNeighboringCharacterSwap(random_one=True,skip_first_char=True,skip_last_char=True,),\n",
        "                    # (1) Insert: Insert a space into the word.\n",
        "                    # Generally, words are segmented by spaces in English. Therefore,\n",
        "                    # we can deceive classifiers by inserting spaces into words.\n",
        "                    WordSwapRandomCharacterInsertion(\n",
        "                        random_one=True,\n",
        "                        letters_to_insert=\" \",\n",
        "                        skip_first_char=True,\n",
        "                        skip_last_char=True,\n",
        "                    ),\n",
        "                    # (2) Delete: Delete a random character of the word except for the first\n",
        "                    # and the last character\n",
        "                    WordSwapRandomCharacterDeletion(\n",
        "                        random_one=True, skip_first_char=True, skip_last_char=True\n",
        "                    ),\n",
        "                    # (5) Substitute-W\n",
        "                    # (Sub-W): Replace a word with its topk nearest neighbors in a\n",
        "                    # context-aware word vector space. Specifically, we use the pre-trained\n",
        "                    # GloVe model [30] provided by Stanford for word embedding and set\n",
        "                    # topk = 5 in the experiment.\n",
        "                    WordSwapEmbedding(max_candidates=5),\n",
        "                ])\n",
        "\n",
        "        constraints = [RepeatModification(), StopwordModification()]\n",
        "\n",
        "        goal_function = UntargetedClassification(model_wrapper)\n",
        "        # search over words based on a combination of their saliency score, and how efficient the WordSwap transform is\n",
        "        search_method = GreedyWordSwapWIR(wir_method=\"delete\")\n",
        "        return Attack(goal_function, constraints, transformation, search_method)"
      ],
      "metadata": {
        "id": "4LO67u7L9VBs"
      },
      "execution_count": 22,
      "outputs": []
    },
    {
      "cell_type": "code",
      "source": [
        "attack = Recipe6.build(model_wrapper)\n",
        "attacker = Attacker(attack, dataset)\n",
        "attacker.attack_dataset()"
      ],
      "metadata": {
        "colab": {
          "base_uri": "https://localhost:8080/"
        },
        "id": "6-p5CtH49qOm",
        "outputId": "c641d136-1b42-466c-e3fa-6fa8356a533d"
      },
      "execution_count": 23,
      "outputs": [
        {
          "output_type": "stream",
          "name": "stderr",
          "text": [
            "textattack: Unknown if model of class <class 'transformers.models.albert.modeling_albert.AlbertForSequenceClassification'> compatible with goal function <class 'textattack.goal_functions.classification.untargeted_classification.UntargetedClassification'>.\n"
          ]
        },
        {
          "output_type": "stream",
          "name": "stdout",
          "text": [
            "Attack(\n",
            "  (search_method): GreedyWordSwapWIR(\n",
            "    (wir_method):  delete\n",
            "  )\n",
            "  (goal_function):  UntargetedClassification\n",
            "  (transformation):  CompositeTransformation(\n",
            "    (0): WordSwapNeighboringCharacterSwap(\n",
            "        (random_one):  True\n",
            "      )\n",
            "    (1): WordSwapRandomCharacterInsertion(\n",
            "        (random_one):  True\n",
            "      )\n",
            "    (2): WordSwapRandomCharacterDeletion(\n",
            "        (random_one):  True\n",
            "      )\n",
            "    (3): WordSwapEmbedding(\n",
            "        (max_candidates):  5\n",
            "        (embedding):  WordEmbedding\n",
            "      )\n",
            "    )\n",
            "  (constraints): \n",
            "    (0): RepeatModification\n",
            "    (1): StopwordModification\n",
            "  (is_black_box):  True\n",
            ") \n",
            "\n"
          ]
        },
        {
          "output_type": "stream",
          "name": "stderr",
          "text": [
            "\n",
            "  0%|          | 0/10 [00:00<?, ?it/s]\u001b[A\n",
            " 10%|█         | 1/10 [00:00<00:06,  1.48it/s]\u001b[A\n",
            "[Succeeded / Failed / Skipped / Total] 1 / 0 / 0 / 1:  10%|█         | 1/10 [00:00<00:06,  1.47it/s]\u001b[A"
          ]
        },
        {
          "output_type": "stream",
          "name": "stdout",
          "text": [
            "--------------------------------------------- Result 1 ---------------------------------------------\n",
            "[[Negative (79%)]] --> [[Positive (70%)]]\n",
            "\n",
            "[[hide]] new secretions from the parental units \n",
            "\n",
            "[[hides]] new secretions from the parental units \n",
            "\n",
            "\n"
          ]
        },
        {
          "output_type": "stream",
          "name": "stderr",
          "text": [
            "\n",
            "[Succeeded / Failed / Skipped / Total] 1 / 0 / 0 / 1:  20%|██        | 2/10 [00:01<00:05,  1.60it/s]\u001b[A\n",
            "[Succeeded / Failed / Skipped / Total] 2 / 0 / 0 / 2:  20%|██        | 2/10 [00:01<00:05,  1.59it/s]\u001b[A"
          ]
        },
        {
          "output_type": "stream",
          "name": "stdout",
          "text": [
            "--------------------------------------------- Result 2 ---------------------------------------------\n",
            "[[Negative (66%)]] --> [[Positive (87%)]]\n",
            "\n",
            "contains no [[wit]] , only labored gags \n",
            "\n",
            "contains no [[waite]] , only labored gags \n",
            "\n",
            "\n"
          ]
        },
        {
          "output_type": "stream",
          "name": "stderr",
          "text": [
            "\n",
            "[Succeeded / Failed / Skipped / Total] 2 / 0 / 0 / 2:  30%|███       | 3/10 [00:02<00:05,  1.25it/s]\u001b[A\n",
            "[Succeeded / Failed / Skipped / Total] 3 / 0 / 0 / 3:  30%|███       | 3/10 [00:02<00:05,  1.25it/s]\u001b[A\n",
            "[Succeeded / Failed / Skipped / Total] 3 / 0 / 1 / 4:  40%|████      | 4/10 [00:02<00:03,  1.63it/s]\u001b[A"
          ]
        },
        {
          "output_type": "stream",
          "name": "stdout",
          "text": [
            "--------------------------------------------- Result 3 ---------------------------------------------\n",
            "[[Positive (100%)]] --> [[Negative (85%)]]\n",
            "\n",
            "that loves its [[characters]] and communicates something [[rather]] beautiful about human nature \n",
            "\n",
            "that loves its [[personages]] and communicates something [[somewhat]] beautiful about human nature \n",
            "\n",
            "\n",
            "--------------------------------------------- Result 4 ---------------------------------------------\n",
            "[[Positive (99%)]] --> [[[SKIPPED]]]\n",
            "\n",
            "remains utterly satisfied to remain the same throughout \n",
            "\n",
            "\n"
          ]
        },
        {
          "output_type": "stream",
          "name": "stderr",
          "text": [
            "\n",
            "[Succeeded / Failed / Skipped / Total] 3 / 0 / 1 / 4:  50%|█████     | 5/10 [00:04<00:04,  1.10it/s]\u001b[A\n",
            "[Succeeded / Failed / Skipped / Total] 3 / 1 / 1 / 5:  50%|█████     | 5/10 [00:04<00:04,  1.10it/s]\u001b[A"
          ]
        },
        {
          "output_type": "stream",
          "name": "stdout",
          "text": [
            "--------------------------------------------- Result 5 ---------------------------------------------\n",
            "[[Negative (97%)]] --> [[[FAILED]]]\n",
            "\n",
            "on the worst revenge-of-the-nerds clichés the filmmakers could dredge up \n",
            "\n",
            "\n"
          ]
        },
        {
          "output_type": "stream",
          "name": "stderr",
          "text": [
            "\n",
            "[Succeeded / Failed / Skipped / Total] 4 / 1 / 1 / 6:  60%|██████    | 6/10 [00:05<00:03,  1.02it/s]\u001b[A\n",
            "[Succeeded / Failed / Skipped / Total] 4 / 1 / 1 / 6:  70%|███████   | 7/10 [00:05<00:02,  1.18it/s]\u001b[A\n",
            "[Succeeded / Failed / Skipped / Total] 4 / 1 / 2 / 7:  70%|███████   | 7/10 [00:05<00:02,  1.18it/s]\u001b[A"
          ]
        },
        {
          "output_type": "stream",
          "name": "stdout",
          "text": [
            "--------------------------------------------- Result 6 ---------------------------------------------\n",
            "[[Negative (96%)]] --> [[Positive (65%)]]\n",
            "\n",
            "that 's [[far]] too tragic to merit such [[superficial]] treatment \n",
            "\n",
            "that 's [[considerably]] too tragic to merit such [[superficil]] treatment \n",
            "\n",
            "\n",
            "--------------------------------------------- Result 7 ---------------------------------------------\n",
            "[[Negative (94%)]] --> [[[SKIPPED]]]\n",
            "\n",
            "demonstrates that the director of such hollywood blockbusters as patriot games can still turn out a small , personal film with an emotional wallop . \n",
            "\n",
            "\n"
          ]
        },
        {
          "output_type": "stream",
          "name": "stderr",
          "text": [
            "\n",
            "[Succeeded / Failed / Skipped / Total] 4 / 2 / 2 / 8:  80%|████████  | 8/10 [00:06<00:01,  1.26it/s]\u001b[A"
          ]
        },
        {
          "output_type": "stream",
          "name": "stdout",
          "text": [
            "--------------------------------------------- Result 8 ---------------------------------------------\n",
            "[[Positive (86%)]] --> [[[FAILED]]]\n",
            "\n",
            "of saucy \n",
            "\n",
            "\n"
          ]
        },
        {
          "output_type": "stream",
          "name": "stderr",
          "text": [
            "\n",
            "[Succeeded / Failed / Skipped / Total] 4 / 2 / 2 / 8:  90%|█████████ | 9/10 [00:06<00:00,  1.29it/s]\u001b[A\n",
            "[Succeeded / Failed / Skipped / Total] 5 / 2 / 2 / 9:  90%|█████████ | 9/10 [00:06<00:00,  1.29it/s]\u001b[A"
          ]
        },
        {
          "output_type": "stream",
          "name": "stdout",
          "text": [
            "--------------------------------------------- Result 9 ---------------------------------------------\n",
            "[[Negative (84%)]] --> [[Positive (98%)]]\n",
            "\n",
            "a depressed fifteen-year-old 's [[suicidal]] poetry \n",
            "\n",
            "a depressed fifteen-year-old 's [[sui]] [[cidal]] poetry \n",
            "\n",
            "\n"
          ]
        },
        {
          "output_type": "stream",
          "name": "stderr",
          "text": [
            "\n",
            "[Succeeded / Failed / Skipped / Total] 6 / 2 / 2 / 10: 100%|██████████| 10/10 [00:08<00:00,  1.24it/s]"
          ]
        },
        {
          "output_type": "stream",
          "name": "stdout",
          "text": [
            "--------------------------------------------- Result 10 ---------------------------------------------\n",
            "[[Positive (99%)]] --> [[Negative (78%)]]\n",
            "\n",
            "are more [[deeply]] thought through than in most ` right-thinking ' [[films]] \n",
            "\n",
            "are more [[severely]] thought through than in most ` right-thinking ' [[fi]] [[lms]] \n",
            "\n",
            "\n",
            "\n",
            "+-------------------------------+--------+\n",
            "| Attack Results                |        |\n",
            "+-------------------------------+--------+\n",
            "| Number of successful attacks: | 6      |\n",
            "| Number of failed attacks:     | 2      |\n",
            "| Number of skipped attacks:    | 2      |\n",
            "| Original accuracy:            | 80.0%  |\n",
            "| Accuracy under attack:        | 20.0%  |\n",
            "| Attack success rate:          | 75.0%  |\n",
            "| Average perturbed word %:     | 19.86% |\n",
            "| Average num. words per input: | 9.5    |\n",
            "| Avg num queries:              | 25.0   |\n",
            "+-------------------------------+--------+\n"
          ]
        },
        {
          "output_type": "stream",
          "name": "stderr",
          "text": [
            "\n"
          ]
        },
        {
          "output_type": "execute_result",
          "data": {
            "text/plain": [
              "[<textattack.attack_results.successful_attack_result.SuccessfulAttackResult at 0x7fbad8612710>,\n",
              " <textattack.attack_results.successful_attack_result.SuccessfulAttackResult at 0x7fbad866a510>,\n",
              " <textattack.attack_results.successful_attack_result.SuccessfulAttackResult at 0x7fba5ea9a410>,\n",
              " <textattack.attack_results.skipped_attack_result.SkippedAttackResult at 0x7fba630e85d0>,\n",
              " <textattack.attack_results.failed_attack_result.FailedAttackResult at 0x7fba68b05850>,\n",
              " <textattack.attack_results.successful_attack_result.SuccessfulAttackResult at 0x7fba60c2c650>,\n",
              " <textattack.attack_results.skipped_attack_result.SkippedAttackResult at 0x7fba66285310>,\n",
              " <textattack.attack_results.failed_attack_result.FailedAttackResult at 0x7fba633f0fd0>,\n",
              " <textattack.attack_results.successful_attack_result.SuccessfulAttackResult at 0x7fba66285490>,\n",
              " <textattack.attack_results.successful_attack_result.SuccessfulAttackResult at 0x7fba532dc990>]"
            ]
          },
          "metadata": {},
          "execution_count": 23
        }
      ]
    },
    {
      "cell_type": "markdown",
      "source": [
        "##Recipe 7\n",
        "          WordSwapQWERTY\n",
        "          WordSwapWordNet\n",
        "          WordSwapHomoglyphSwap\n",
        "          WordSwapNeighboringCharacterSwap"
      ],
      "metadata": {
        "id": "rDbqWY_M-T86"
      }
    },
    {
      "cell_type": "code",
      "source": [
        "class Recipe7(Attack,ABC):\n",
        "    @staticmethod\n",
        "    def build(model_wrapper):\n",
        "        #transformation =  WordSwapNeighboringCharacterSwap(random_one=True,skip_first_char=True,skip_last_char=True,)\n",
        "        transformation = CompositeTransformation(\n",
        "                [\n",
        "                    WordSwapQWERTY(),\n",
        "                    WordSwapWordNet(),\n",
        "                    WordSwapHomoglyphSwap(),\n",
        "                    WordSwapNeighboringCharacterSwap(random_one=True,skip_first_char=True,skip_last_char=True,),\n",
        "                ])\n",
        "\n",
        "        constraints = [RepeatModification(), StopwordModification()]\n",
        "\n",
        "        goal_function = UntargetedClassification(model_wrapper)\n",
        "        # search over words based on a combination of their saliency score, and how efficient the WordSwap transform is\n",
        "        search_method = GreedyWordSwapWIR(wir_method=\"delete\")\n",
        "        return Attack(goal_function, constraints, transformation, search_method)"
      ],
      "metadata": {
        "id": "sgZmFGKJ94Jz"
      },
      "execution_count": 24,
      "outputs": []
    },
    {
      "cell_type": "code",
      "source": [
        "attack = Recipe7.build(model_wrapper)\n",
        "attacker = Attacker(attack, dataset)\n",
        "attacker.attack_dataset()"
      ],
      "metadata": {
        "colab": {
          "base_uri": "https://localhost:8080/"
        },
        "id": "WZjAoX2a-Isx",
        "outputId": "8640dd3e-0d80-4228-aeb5-73542a2451bd"
      },
      "execution_count": 25,
      "outputs": [
        {
          "output_type": "stream",
          "name": "stderr",
          "text": [
            "textattack: Unknown if model of class <class 'transformers.models.albert.modeling_albert.AlbertForSequenceClassification'> compatible with goal function <class 'textattack.goal_functions.classification.untargeted_classification.UntargetedClassification'>.\n"
          ]
        },
        {
          "output_type": "stream",
          "name": "stdout",
          "text": [
            "Attack(\n",
            "  (search_method): GreedyWordSwapWIR(\n",
            "    (wir_method):  delete\n",
            "  )\n",
            "  (goal_function):  UntargetedClassification\n",
            "  (transformation):  CompositeTransformation(\n",
            "    (0): WordSwapQWERTY\n",
            "    (1): WordSwapWordNet\n",
            "    (2): WordSwapHomoglyphSwap\n",
            "    (3): WordSwapNeighboringCharacterSwap(\n",
            "        (random_one):  True\n",
            "      )\n",
            "    )\n",
            "  (constraints): \n",
            "    (0): RepeatModification\n",
            "    (1): StopwordModification\n",
            "  (is_black_box):  True\n",
            ") \n",
            "\n"
          ]
        },
        {
          "output_type": "stream",
          "name": "stderr",
          "text": [
            "\n",
            "  0%|          | 0/10 [00:00<?, ?it/s]\u001b[A\n",
            " 10%|█         | 1/10 [00:00<00:08,  1.03it/s]\u001b[A\n",
            "[Succeeded / Failed / Skipped / Total] 1 / 0 / 0 / 1:  10%|█         | 1/10 [00:00<00:08,  1.03it/s]\u001b[A"
          ]
        },
        {
          "output_type": "stream",
          "name": "stdout",
          "text": [
            "--------------------------------------------- Result 1 ---------------------------------------------\n",
            "[[Negative (79%)]] --> [[Positive (57%)]]\n",
            "\n",
            "[[hide]] new secretions from the parental units \n",
            "\n",
            "[[gide]] new secretions from the parental units \n",
            "\n",
            "\n"
          ]
        },
        {
          "output_type": "stream",
          "name": "stderr",
          "text": [
            "\n",
            "[Succeeded / Failed / Skipped / Total] 1 / 0 / 0 / 1:  20%|██        | 2/10 [00:01<00:07,  1.12it/s]\u001b[A\n",
            "[Succeeded / Failed / Skipped / Total] 2 / 0 / 0 / 2:  20%|██        | 2/10 [00:01<00:07,  1.12it/s]\u001b[A"
          ]
        },
        {
          "output_type": "stream",
          "name": "stdout",
          "text": [
            "--------------------------------------------- Result 2 ---------------------------------------------\n",
            "[[Negative (66%)]] --> [[Positive (81%)]]\n",
            "\n",
            "contains no [[wit]] , only labored gags \n",
            "\n",
            "contains no [[card]] , only labored gags \n",
            "\n",
            "\n"
          ]
        },
        {
          "output_type": "stream",
          "name": "stderr",
          "text": [
            "\n",
            "[Succeeded / Failed / Skipped / Total] 2 / 0 / 0 / 2:  30%|███       | 3/10 [00:03<00:08,  1.25s/it]\u001b[A\n",
            "[Succeeded / Failed / Skipped / Total] 3 / 0 / 0 / 3:  30%|███       | 3/10 [00:03<00:08,  1.25s/it]\u001b[A\n",
            "[Succeeded / Failed / Skipped / Total] 3 / 0 / 1 / 4:  40%|████      | 4/10 [00:03<00:05,  1.05it/s]\u001b[A"
          ]
        },
        {
          "output_type": "stream",
          "name": "stdout",
          "text": [
            "--------------------------------------------- Result 3 ---------------------------------------------\n",
            "[[Positive (100%)]] --> [[Negative (60%)]]\n",
            "\n",
            "that loves its [[characters]] and communicates something [[rather]] beautiful about human nature \n",
            "\n",
            "that loves its [[chɑracters]] and communicates something [[instead]] beautiful about human nature \n",
            "\n",
            "\n",
            "--------------------------------------------- Result 4 ---------------------------------------------\n",
            "[[Positive (99%)]] --> [[[SKIPPED]]]\n",
            "\n",
            "remains utterly satisfied to remain the same throughout \n",
            "\n",
            "\n"
          ]
        },
        {
          "output_type": "stream",
          "name": "stderr",
          "text": [
            "\n",
            "[Succeeded / Failed / Skipped / Total] 3 / 0 / 1 / 4:  50%|█████     | 5/10 [00:07<00:07,  1.50s/it]\u001b[A\n",
            "[Succeeded / Failed / Skipped / Total] 3 / 1 / 1 / 5:  50%|█████     | 5/10 [00:07<00:07,  1.50s/it]\u001b[A"
          ]
        },
        {
          "output_type": "stream",
          "name": "stdout",
          "text": [
            "--------------------------------------------- Result 5 ---------------------------------------------\n",
            "[[Negative (97%)]] --> [[[FAILED]]]\n",
            "\n",
            "on the worst revenge-of-the-nerds clichés the filmmakers could dredge up \n",
            "\n",
            "\n"
          ]
        },
        {
          "output_type": "stream",
          "name": "stderr",
          "text": [
            "\n",
            "[Succeeded / Failed / Skipped / Total] 4 / 1 / 1 / 6:  60%|██████    | 6/10 [00:08<00:05,  1.42s/it]\u001b[A\n",
            "[Succeeded / Failed / Skipped / Total] 4 / 1 / 1 / 6:  70%|███████   | 7/10 [00:08<00:03,  1.22s/it]\u001b[A\n",
            "[Succeeded / Failed / Skipped / Total] 4 / 1 / 2 / 7:  70%|███████   | 7/10 [00:08<00:03,  1.22s/it]\u001b[A"
          ]
        },
        {
          "output_type": "stream",
          "name": "stdout",
          "text": [
            "--------------------------------------------- Result 6 ---------------------------------------------\n",
            "[[Negative (96%)]] --> [[Positive (55%)]]\n",
            "\n",
            "that 's far too tragic to merit such [[superficial]] treatment \n",
            "\n",
            "that 's far too tragic to merit such [[superficiɑl]] treatment \n",
            "\n",
            "\n",
            "--------------------------------------------- Result 7 ---------------------------------------------\n",
            "[[Negative (94%)]] --> [[[SKIPPED]]]\n",
            "\n",
            "demonstrates that the director of such hollywood blockbusters as patriot games can still turn out a small , personal film with an emotional wallop . \n",
            "\n",
            "\n"
          ]
        },
        {
          "output_type": "stream",
          "name": "stderr",
          "text": [
            "\n",
            "[Succeeded / Failed / Skipped / Total] 5 / 1 / 2 / 8:  80%|████████  | 8/10 [00:09<00:02,  1.16s/it]\u001b[A"
          ]
        },
        {
          "output_type": "stream",
          "name": "stdout",
          "text": [
            "--------------------------------------------- Result 8 ---------------------------------------------\n",
            "[[Positive (86%)]] --> [[Negative (77%)]]\n",
            "\n",
            "of [[saucy]] \n",
            "\n",
            "of [[overbold]] \n",
            "\n",
            "\n"
          ]
        },
        {
          "output_type": "stream",
          "name": "stderr",
          "text": [
            "\n",
            "[Succeeded / Failed / Skipped / Total] 5 / 1 / 2 / 8:  90%|█████████ | 9/10 [00:10<00:01,  1.12s/it]\u001b[A\n",
            "[Succeeded / Failed / Skipped / Total] 6 / 1 / 2 / 9:  90%|█████████ | 9/10 [00:10<00:01,  1.12s/it]\u001b[A"
          ]
        },
        {
          "output_type": "stream",
          "name": "stdout",
          "text": [
            "--------------------------------------------- Result 9 ---------------------------------------------\n",
            "[[Negative (84%)]] --> [[Positive (54%)]]\n",
            "\n",
            "a depressed fifteen-year-old 's [[suicidal]] poetry \n",
            "\n",
            "a depressed fifteen-year-old 's [[suiciԁal]] poetry \n",
            "\n",
            "\n"
          ]
        },
        {
          "output_type": "stream",
          "name": "stderr",
          "text": [
            "\n",
            "[Succeeded / Failed / Skipped / Total] 7 / 1 / 2 / 10: 100%|██████████| 10/10 [00:11<00:00,  1.16s/it]"
          ]
        },
        {
          "output_type": "stream",
          "name": "stdout",
          "text": [
            "--------------------------------------------- Result 10 ---------------------------------------------\n",
            "[[Positive (99%)]] --> [[Negative (77%)]]\n",
            "\n",
            "are more [[deeply]] thought through than in most ` right-thinking ' [[films]] \n",
            "\n",
            "are more [[deеply]] thought through than in most ` right-thinking ' [[celluloid]] \n",
            "\n",
            "\n",
            "\n",
            "+-------------------------------+--------+\n",
            "| Attack Results                |        |\n",
            "+-------------------------------+--------+\n",
            "| Number of successful attacks: | 7      |\n",
            "| Number of failed attacks:     | 1      |\n",
            "| Number of skipped attacks:    | 2      |\n",
            "| Original accuracy:            | 80.0%  |\n",
            "| Accuracy under attack:        | 10.0%  |\n",
            "| Attack success rate:          | 87.5%  |\n",
            "| Average perturbed word %:     | 20.35% |\n",
            "| Average num. words per input: | 9.5    |\n",
            "| Avg num queries:              | 36.0   |\n",
            "+-------------------------------+--------+\n"
          ]
        },
        {
          "output_type": "stream",
          "name": "stderr",
          "text": [
            "\n"
          ]
        },
        {
          "output_type": "execute_result",
          "data": {
            "text/plain": [
              "[<textattack.attack_results.successful_attack_result.SuccessfulAttackResult at 0x7fba65ce4050>,\n",
              " <textattack.attack_results.successful_attack_result.SuccessfulAttackResult at 0x7fba532dc910>,\n",
              " <textattack.attack_results.successful_attack_result.SuccessfulAttackResult at 0x7fba5eab1e10>,\n",
              " <textattack.attack_results.skipped_attack_result.SkippedAttackResult at 0x7fba61a731d0>,\n",
              " <textattack.attack_results.failed_attack_result.FailedAttackResult at 0x7fba662850d0>,\n",
              " <textattack.attack_results.successful_attack_result.SuccessfulAttackResult at 0x7fbad8612650>,\n",
              " <textattack.attack_results.skipped_attack_result.SkippedAttackResult at 0x7fbad8612f10>,\n",
              " <textattack.attack_results.successful_attack_result.SuccessfulAttackResult at 0x7fba60e27690>,\n",
              " <textattack.attack_results.successful_attack_result.SuccessfulAttackResult at 0x7fba633d0ed0>,\n",
              " <textattack.attack_results.successful_attack_result.SuccessfulAttackResult at 0x7fba629ae5d0>]"
            ]
          },
          "metadata": {},
          "execution_count": 25
        }
      ]
    },
    {
      "cell_type": "markdown",
      "source": [
        "##Recipe 8\n",
        "            WordSwapRandomCharacterInsertion\n",
        "            WordSwapRandomCharacterDeletion\n",
        "            WordSwapEmbedding"
      ],
      "metadata": {
        "id": "wnsWg7ei-g5e"
      }
    },
    {
      "cell_type": "code",
      "source": [
        "class Recipe8(Attack,ABC):\n",
        "    @staticmethod\n",
        "    def build(model_wrapper):\n",
        "        #transformation =  WordSwapNeighboringCharacterSwap(random_one=True,skip_first_char=True,skip_last_char=True,)\n",
        "        transformation = CompositeTransformation(\n",
        "                [\n",
        "                    # (1) Insert: Insert a space into the word.\n",
        "                    # Generally, words are segmented by spaces in English. Therefore,\n",
        "                    # we can deceive classifiers by inserting spaces into words.\n",
        "                    WordSwapRandomCharacterInsertion(\n",
        "                        random_one=True,\n",
        "                        letters_to_insert=\" \",\n",
        "                        skip_first_char=True,\n",
        "                        skip_last_char=True,\n",
        "                    ),\n",
        "                    # (2) Delete: Delete a random character of the word except for the first\n",
        "                    # and the last character\n",
        "                    WordSwapRandomCharacterDeletion(\n",
        "                        random_one=True, skip_first_char=True, skip_last_char=True\n",
        "                    ),\n",
        "                    # (5) Substitute-W\n",
        "                    # (Sub-W): Replace a word with its topk nearest neighbors in a\n",
        "                    # context-aware word vector space. Specifically, we use the pre-trained\n",
        "                    # GloVe model [30] provided by Stanford for word embedding and set\n",
        "                    # topk = 5 in the experiment.\n",
        "                    WordSwapEmbedding(max_candidates=5),\n",
        "                ])\n",
        "\n",
        "        constraints = [RepeatModification(), StopwordModification()]\n",
        "\n",
        "        goal_function = UntargetedClassification(model_wrapper)\n",
        "        # search over words based on a combination of their saliency score, and how efficient the WordSwap transform is\n",
        "        search_method = GreedyWordSwapWIR(wir_method=\"delete\")\n",
        "        return Attack(goal_function, constraints, transformation, search_method)"
      ],
      "metadata": {
        "id": "ssUZmZzX-msX"
      },
      "execution_count": 26,
      "outputs": []
    },
    {
      "cell_type": "code",
      "source": [
        "attack = Recipe8.build(model_wrapper)\n",
        "attacker = Attacker(attack, dataset)\n",
        "attacker.attack_dataset()"
      ],
      "metadata": {
        "colab": {
          "base_uri": "https://localhost:8080/"
        },
        "id": "U-DefkGS-8UZ",
        "outputId": "899ecee4-aa69-4400-9104-81e7abed4b1c"
      },
      "execution_count": 27,
      "outputs": [
        {
          "output_type": "stream",
          "name": "stderr",
          "text": [
            "textattack: Unknown if model of class <class 'transformers.models.albert.modeling_albert.AlbertForSequenceClassification'> compatible with goal function <class 'textattack.goal_functions.classification.untargeted_classification.UntargetedClassification'>.\n"
          ]
        },
        {
          "output_type": "stream",
          "name": "stdout",
          "text": [
            "Attack(\n",
            "  (search_method): GreedyWordSwapWIR(\n",
            "    (wir_method):  delete\n",
            "  )\n",
            "  (goal_function):  UntargetedClassification\n",
            "  (transformation):  CompositeTransformation(\n",
            "    (0): WordSwapRandomCharacterInsertion(\n",
            "        (random_one):  True\n",
            "      )\n",
            "    (1): WordSwapRandomCharacterDeletion(\n",
            "        (random_one):  True\n",
            "      )\n",
            "    (2): WordSwapEmbedding(\n",
            "        (max_candidates):  5\n",
            "        (embedding):  WordEmbedding\n",
            "      )\n",
            "    )\n",
            "  (constraints): \n",
            "    (0): RepeatModification\n",
            "    (1): StopwordModification\n",
            "  (is_black_box):  True\n",
            ") \n",
            "\n"
          ]
        },
        {
          "output_type": "stream",
          "name": "stderr",
          "text": [
            "\n",
            "  0%|          | 0/10 [00:00<?, ?it/s]\u001b[A\n",
            " 10%|█         | 1/10 [00:00<00:05,  1.59it/s]\u001b[A\n",
            "[Succeeded / Failed / Skipped / Total] 1 / 0 / 0 / 1:  10%|█         | 1/10 [00:00<00:05,  1.58it/s]\u001b[A"
          ]
        },
        {
          "output_type": "stream",
          "name": "stdout",
          "text": [
            "--------------------------------------------- Result 1 ---------------------------------------------\n",
            "[[Negative (79%)]] --> [[Positive (70%)]]\n",
            "\n",
            "[[hide]] new secretions from the parental units \n",
            "\n",
            "[[hides]] new secretions from the parental units \n",
            "\n",
            "\n"
          ]
        },
        {
          "output_type": "stream",
          "name": "stderr",
          "text": [
            "\n",
            "[Succeeded / Failed / Skipped / Total] 1 / 0 / 0 / 1:  20%|██        | 2/10 [00:01<00:04,  1.67it/s]\u001b[A\n",
            "[Succeeded / Failed / Skipped / Total] 2 / 0 / 0 / 2:  20%|██        | 2/10 [00:01<00:04,  1.67it/s]\u001b[A"
          ]
        },
        {
          "output_type": "stream",
          "name": "stdout",
          "text": [
            "--------------------------------------------- Result 2 ---------------------------------------------\n",
            "[[Negative (66%)]] --> [[Positive (87%)]]\n",
            "\n",
            "contains no [[wit]] , only labored gags \n",
            "\n",
            "contains no [[waite]] , only labored gags \n",
            "\n",
            "\n"
          ]
        },
        {
          "output_type": "stream",
          "name": "stderr",
          "text": [
            "\n",
            "[Succeeded / Failed / Skipped / Total] 2 / 0 / 0 / 2:  30%|███       | 3/10 [00:02<00:05,  1.32it/s]\u001b[A\n",
            "[Succeeded / Failed / Skipped / Total] 3 / 0 / 0 / 3:  30%|███       | 3/10 [00:02<00:05,  1.32it/s]\u001b[A\n",
            "[Succeeded / Failed / Skipped / Total] 3 / 0 / 1 / 4:  40%|████      | 4/10 [00:02<00:03,  1.73it/s]\u001b[A"
          ]
        },
        {
          "output_type": "stream",
          "name": "stdout",
          "text": [
            "--------------------------------------------- Result 3 ---------------------------------------------\n",
            "[[Positive (100%)]] --> [[Negative (85%)]]\n",
            "\n",
            "that loves its [[characters]] and communicates something [[rather]] beautiful about human nature \n",
            "\n",
            "that loves its [[personages]] and communicates something [[somewhat]] beautiful about human nature \n",
            "\n",
            "\n",
            "--------------------------------------------- Result 4 ---------------------------------------------\n",
            "[[Positive (99%)]] --> [[[SKIPPED]]]\n",
            "\n",
            "remains utterly satisfied to remain the same throughout \n",
            "\n",
            "\n"
          ]
        },
        {
          "output_type": "stream",
          "name": "stderr",
          "text": [
            "\n",
            "[Succeeded / Failed / Skipped / Total] 3 / 0 / 1 / 4:  50%|█████     | 5/10 [00:04<00:04,  1.20it/s]\u001b[A\n",
            "[Succeeded / Failed / Skipped / Total] 3 / 1 / 1 / 5:  50%|█████     | 5/10 [00:04<00:04,  1.19it/s]\u001b[A"
          ]
        },
        {
          "output_type": "stream",
          "name": "stdout",
          "text": [
            "--------------------------------------------- Result 5 ---------------------------------------------\n",
            "[[Negative (97%)]] --> [[[FAILED]]]\n",
            "\n",
            "on the worst revenge-of-the-nerds clichés the filmmakers could dredge up \n",
            "\n",
            "\n"
          ]
        },
        {
          "output_type": "stream",
          "name": "stderr",
          "text": [
            "\n",
            "[Succeeded / Failed / Skipped / Total] 4 / 1 / 1 / 6:  60%|██████    | 6/10 [00:05<00:03,  1.11it/s]\u001b[A\n",
            "[Succeeded / Failed / Skipped / Total] 4 / 1 / 1 / 6:  70%|███████   | 7/10 [00:05<00:02,  1.28it/s]\u001b[A\n",
            "[Succeeded / Failed / Skipped / Total] 4 / 1 / 2 / 7:  70%|███████   | 7/10 [00:05<00:02,  1.28it/s]\u001b[A"
          ]
        },
        {
          "output_type": "stream",
          "name": "stdout",
          "text": [
            "--------------------------------------------- Result 6 ---------------------------------------------\n",
            "[[Negative (96%)]] --> [[Positive (71%)]]\n",
            "\n",
            "that 's [[far]] too tragic to [[merit]] such [[superficial]] treatment \n",
            "\n",
            "that 's [[considerably]] too tragic to [[merits]] such [[supericial]] treatment \n",
            "\n",
            "\n",
            "--------------------------------------------- Result 7 ---------------------------------------------\n",
            "[[Negative (94%)]] --> [[[SKIPPED]]]\n",
            "\n",
            "demonstrates that the director of such hollywood blockbusters as patriot games can still turn out a small , personal film with an emotional wallop . \n",
            "\n",
            "\n"
          ]
        },
        {
          "output_type": "stream",
          "name": "stderr",
          "text": [
            "\n",
            "[Succeeded / Failed / Skipped / Total] 4 / 2 / 2 / 8:  80%|████████  | 8/10 [00:05<00:01,  1.37it/s]\u001b[A"
          ]
        },
        {
          "output_type": "stream",
          "name": "stdout",
          "text": [
            "--------------------------------------------- Result 8 ---------------------------------------------\n",
            "[[Positive (86%)]] --> [[[FAILED]]]\n",
            "\n",
            "of saucy \n",
            "\n",
            "\n"
          ]
        },
        {
          "output_type": "stream",
          "name": "stderr",
          "text": [
            "\n",
            "[Succeeded / Failed / Skipped / Total] 4 / 2 / 2 / 8:  90%|█████████ | 9/10 [00:06<00:00,  1.40it/s]\u001b[A\n",
            "[Succeeded / Failed / Skipped / Total] 5 / 2 / 2 / 9:  90%|█████████ | 9/10 [00:06<00:00,  1.40it/s]\u001b[A"
          ]
        },
        {
          "output_type": "stream",
          "name": "stdout",
          "text": [
            "--------------------------------------------- Result 9 ---------------------------------------------\n",
            "[[Negative (84%)]] --> [[Positive (65%)]]\n",
            "\n",
            "a depressed fifteen-year-old 's [[suicidal]] poetry \n",
            "\n",
            "a depressed fifteen-year-old 's [[martyrdom]] poetry \n",
            "\n",
            "\n"
          ]
        },
        {
          "output_type": "stream",
          "name": "stderr",
          "text": [
            "\n",
            "[Succeeded / Failed / Skipped / Total] 6 / 2 / 2 / 10: 100%|██████████| 10/10 [00:07<00:00,  1.34it/s]"
          ]
        },
        {
          "output_type": "stream",
          "name": "stdout",
          "text": [
            "--------------------------------------------- Result 10 ---------------------------------------------\n",
            "[[Positive (99%)]] --> [[Negative (69%)]]\n",
            "\n",
            "are more [[deeply]] thought through than in most ` right-thinking ' [[films]] \n",
            "\n",
            "are more [[severely]] thought through than in most ` right-thinking ' [[fils]] \n",
            "\n",
            "\n",
            "\n",
            "+-------------------------------+--------+\n",
            "| Attack Results                |        |\n",
            "+-------------------------------+--------+\n",
            "| Number of successful attacks: | 6      |\n",
            "| Number of failed attacks:     | 2      |\n",
            "| Number of skipped attacks:    | 2      |\n",
            "| Original accuracy:            | 80.0%  |\n",
            "| Accuracy under attack:        | 20.0%  |\n",
            "| Attack success rate:          | 75.0%  |\n",
            "| Average perturbed word %:     | 18.74% |\n",
            "| Average num. words per input: | 9.5    |\n",
            "| Avg num queries:              | 23.25  |\n",
            "+-------------------------------+--------+\n"
          ]
        },
        {
          "output_type": "stream",
          "name": "stderr",
          "text": [
            "\n"
          ]
        },
        {
          "output_type": "execute_result",
          "data": {
            "text/plain": [
              "[<textattack.attack_results.successful_attack_result.SuccessfulAttackResult at 0x7fba62d2e490>,\n",
              " <textattack.attack_results.successful_attack_result.SuccessfulAttackResult at 0x7fba62a31510>,\n",
              " <textattack.attack_results.successful_attack_result.SuccessfulAttackResult at 0x7fbad8617bd0>,\n",
              " <textattack.attack_results.skipped_attack_result.SkippedAttackResult at 0x7fba62dfef50>,\n",
              " <textattack.attack_results.failed_attack_result.FailedAttackResult at 0x7fba619a1050>,\n",
              " <textattack.attack_results.successful_attack_result.SuccessfulAttackResult at 0x7fba6422e390>,\n",
              " <textattack.attack_results.skipped_attack_result.SkippedAttackResult at 0x7fba62a3b390>,\n",
              " <textattack.attack_results.failed_attack_result.FailedAttackResult at 0x7fba62a3b290>,\n",
              " <textattack.attack_results.successful_attack_result.SuccessfulAttackResult at 0x7fba62d2ebd0>,\n",
              " <textattack.attack_results.successful_attack_result.SuccessfulAttackResult at 0x7fba62a31ed0>]"
            ]
          },
          "metadata": {},
          "execution_count": 27
        }
      ]
    },
    {
      "cell_type": "markdown",
      "source": [
        "##Recipe 9\n",
        "          WordSwapQWERTY,WordSwapWordNet"
      ],
      "metadata": {
        "id": "F83t0S8T_Gx5"
      }
    },
    {
      "cell_type": "code",
      "source": [
        "class Recipe9(Attack,ABC):\n",
        "    @staticmethod\n",
        "    def build(model_wrapper):\n",
        "        #transformation =  WordSwapNeighboringCharacterSwap(random_one=True,skip_first_char=True,skip_last_char=True,)\n",
        "        transformation = CompositeTransformation(\n",
        "                [\n",
        "                    WordSwapQWERTY(),\n",
        "                    WordSwapWordNet(),\n",
        "                ])\n",
        "\n",
        "        constraints = [RepeatModification(), StopwordModification()]\n",
        "\n",
        "        goal_function = UntargetedClassification(model_wrapper)\n",
        "        # search over words based on a combination of their saliency score, and how efficient the WordSwap transform is\n",
        "        search_method = GreedyWordSwapWIR(wir_method=\"delete\")\n",
        "        return Attack(goal_function, constraints, transformation, search_method)"
      ],
      "metadata": {
        "id": "nPG67q70_Gx6"
      },
      "execution_count": 38,
      "outputs": []
    },
    {
      "cell_type": "code",
      "source": [
        "attack = Recipe9.build(model_wrapper)\n",
        "attacker = Attacker(attack, dataset)\n",
        "attacker.attack_dataset()"
      ],
      "metadata": {
        "colab": {
          "base_uri": "https://localhost:8080/"
        },
        "outputId": "87f462a6-6471-40f4-d651-39af67821922",
        "id": "R9FtS6OH_Gx8"
      },
      "execution_count": 39,
      "outputs": [
        {
          "output_type": "stream",
          "name": "stderr",
          "text": [
            "textattack: Unknown if model of class <class 'transformers.models.albert.modeling_albert.AlbertForSequenceClassification'> compatible with goal function <class 'textattack.goal_functions.classification.untargeted_classification.UntargetedClassification'>.\n"
          ]
        },
        {
          "output_type": "stream",
          "name": "stdout",
          "text": [
            "Attack(\n",
            "  (search_method): GreedyWordSwapWIR(\n",
            "    (wir_method):  delete\n",
            "  )\n",
            "  (goal_function):  UntargetedClassification\n",
            "  (transformation):  CompositeTransformation(\n",
            "    (0): WordSwapQWERTY\n",
            "    (1): WordSwapWordNet\n",
            "    )\n",
            "  (constraints): \n",
            "    (0): RepeatModification\n",
            "    (1): StopwordModification\n",
            "  (is_black_box):  True\n",
            ") \n",
            "\n"
          ]
        },
        {
          "output_type": "stream",
          "name": "stderr",
          "text": [
            "\n",
            "\n",
            "  0%|          | 0/10 [00:00<?, ?it/s]\u001b[A\u001b[A\n",
            "\n",
            " 10%|█         | 1/10 [00:00<00:06,  1.30it/s]\u001b[A\u001b[A\n",
            "\n",
            "[Succeeded / Failed / Skipped / Total] 1 / 0 / 0 / 1:  10%|█         | 1/10 [00:00<00:06,  1.29it/s]\u001b[A\u001b[A"
          ]
        },
        {
          "output_type": "stream",
          "name": "stdout",
          "text": [
            "--------------------------------------------- Result 1 ---------------------------------------------\n",
            "[[Negative (79%)]] --> [[Positive (57%)]]\n",
            "\n",
            "[[hide]] new secretions from the parental units \n",
            "\n",
            "[[gide]] new secretions from the parental units \n",
            "\n",
            "\n"
          ]
        },
        {
          "output_type": "stream",
          "name": "stderr",
          "text": [
            "\n",
            "\n",
            "[Succeeded / Failed / Skipped / Total] 1 / 0 / 0 / 1:  20%|██        | 2/10 [00:01<00:05,  1.42it/s]\u001b[A\u001b[A\n",
            "\n",
            "[Succeeded / Failed / Skipped / Total] 2 / 0 / 0 / 2:  20%|██        | 2/10 [00:01<00:05,  1.42it/s]\u001b[A\u001b[A"
          ]
        },
        {
          "output_type": "stream",
          "name": "stdout",
          "text": [
            "--------------------------------------------- Result 2 ---------------------------------------------\n",
            "[[Negative (66%)]] --> [[Positive (81%)]]\n",
            "\n",
            "contains no [[wit]] , only labored gags \n",
            "\n",
            "contains no [[card]] , only labored gags \n",
            "\n",
            "\n"
          ]
        },
        {
          "output_type": "stream",
          "name": "stderr",
          "text": [
            "\n",
            "\n",
            "[Succeeded / Failed / Skipped / Total] 2 / 0 / 0 / 2:  30%|███       | 3/10 [00:03<00:07,  1.09s/it]\u001b[A\u001b[A\n",
            "\n",
            "[Succeeded / Failed / Skipped / Total] 3 / 0 / 0 / 3:  30%|███       | 3/10 [00:03<00:07,  1.09s/it]\u001b[A\u001b[A\n",
            "\n",
            "[Succeeded / Failed / Skipped / Total] 3 / 0 / 1 / 4:  40%|████      | 4/10 [00:03<00:04,  1.21it/s]\u001b[A\u001b[A"
          ]
        },
        {
          "output_type": "stream",
          "name": "stdout",
          "text": [
            "--------------------------------------------- Result 3 ---------------------------------------------\n",
            "[[Positive (100%)]] --> [[Negative (96%)]]\n",
            "\n",
            "that [[loves]] its [[characters]] and communicates something [[rather]] beautiful about human nature \n",
            "\n",
            "that [[fuck]] its [[reference]] and communicates something [[instead]] beautiful about human nature \n",
            "\n",
            "\n",
            "--------------------------------------------- Result 4 ---------------------------------------------\n",
            "[[Positive (99%)]] --> [[[SKIPPED]]]\n",
            "\n",
            "remains utterly satisfied to remain the same throughout \n",
            "\n",
            "\n"
          ]
        },
        {
          "output_type": "stream",
          "name": "stderr",
          "text": [
            "\n",
            "\n",
            "[Succeeded / Failed / Skipped / Total] 3 / 0 / 1 / 4:  50%|█████     | 5/10 [00:04<00:04,  1.08it/s]\u001b[A\u001b[A\n",
            "\n",
            "[Succeeded / Failed / Skipped / Total] 3 / 1 / 1 / 5:  50%|█████     | 5/10 [00:04<00:04,  1.08it/s]\u001b[A\u001b[A"
          ]
        },
        {
          "output_type": "stream",
          "name": "stdout",
          "text": [
            "--------------------------------------------- Result 5 ---------------------------------------------\n",
            "[[Negative (97%)]] --> [[[FAILED]]]\n",
            "\n",
            "on the worst revenge-of-the-nerds clichés the filmmakers could dredge up \n",
            "\n",
            "\n"
          ]
        },
        {
          "output_type": "stream",
          "name": "stderr",
          "text": [
            "\n",
            "\n",
            "[Succeeded / Failed / Skipped / Total] 4 / 1 / 1 / 6:  60%|██████    | 6/10 [00:05<00:03,  1.17it/s]\u001b[A\u001b[A\n",
            "\n",
            "[Succeeded / Failed / Skipped / Total] 4 / 1 / 1 / 6:  70%|███████   | 7/10 [00:05<00:02,  1.35it/s]\u001b[A\u001b[A\n",
            "\n",
            "[Succeeded / Failed / Skipped / Total] 4 / 1 / 2 / 7:  70%|███████   | 7/10 [00:05<00:02,  1.35it/s]\u001b[A\u001b[A"
          ]
        },
        {
          "output_type": "stream",
          "name": "stdout",
          "text": [
            "--------------------------------------------- Result 6 ---------------------------------------------\n",
            "[[Negative (96%)]] --> [[Positive (68%)]]\n",
            "\n",
            "that 's far too tragic to merit such [[superficial]] treatment \n",
            "\n",
            "that 's far too tragic to merit such [[supfrficial]] treatment \n",
            "\n",
            "\n",
            "--------------------------------------------- Result 7 ---------------------------------------------\n",
            "[[Negative (94%)]] --> [[[SKIPPED]]]\n",
            "\n",
            "demonstrates that the director of such hollywood blockbusters as patriot games can still turn out a small , personal film with an emotional wallop . \n",
            "\n",
            "\n"
          ]
        },
        {
          "output_type": "stream",
          "name": "stderr",
          "text": [
            "\n",
            "\n",
            "[Succeeded / Failed / Skipped / Total] 5 / 1 / 2 / 8:  80%|████████  | 8/10 [00:05<00:01,  1.42it/s]\u001b[A\u001b[A"
          ]
        },
        {
          "output_type": "stream",
          "name": "stdout",
          "text": [
            "--------------------------------------------- Result 8 ---------------------------------------------\n",
            "[[Positive (86%)]] --> [[Negative (77%)]]\n",
            "\n",
            "of [[saucy]] \n",
            "\n",
            "of [[overbold]] \n",
            "\n",
            "\n"
          ]
        },
        {
          "output_type": "stream",
          "name": "stderr",
          "text": [
            "\n",
            "\n",
            "[Succeeded / Failed / Skipped / Total] 5 / 1 / 2 / 8:  90%|█████████ | 9/10 [00:05<00:00,  1.50it/s]\u001b[A\u001b[A\n",
            "\n",
            "[Succeeded / Failed / Skipped / Total] 6 / 1 / 2 / 9:  90%|█████████ | 9/10 [00:05<00:00,  1.50it/s]\u001b[A\u001b[A"
          ]
        },
        {
          "output_type": "stream",
          "name": "stdout",
          "text": [
            "--------------------------------------------- Result 9 ---------------------------------------------\n",
            "[[Negative (84%)]] --> [[Positive (54%)]]\n",
            "\n",
            "a depressed fifteen-year-old 's [[suicidal]] poetry \n",
            "\n",
            "a depressed fifteen-year-old 's [[zuicidal]] poetry \n",
            "\n",
            "\n"
          ]
        },
        {
          "output_type": "stream",
          "name": "stderr",
          "text": [
            "\n",
            "\n",
            "[Succeeded / Failed / Skipped / Total] 7 / 1 / 2 / 10: 100%|██████████| 10/10 [00:06<00:00,  1.44it/s]"
          ]
        },
        {
          "output_type": "stream",
          "name": "stdout",
          "text": [
            "--------------------------------------------- Result 10 ---------------------------------------------\n",
            "[[Positive (99%)]] --> [[Negative (63%)]]\n",
            "\n",
            "are more [[deeply]] thought through than in most ` right-thinking ' [[films]] \n",
            "\n",
            "are more [[dweply]] thought through than in most ` right-thinking ' [[celluloid]] \n",
            "\n",
            "\n",
            "\n",
            "+-------------------------------+--------+\n",
            "| Attack Results                |        |\n",
            "+-------------------------------+--------+\n",
            "| Number of successful attacks: | 7      |\n",
            "| Number of failed attacks:     | 1      |\n",
            "| Number of skipped attacks:    | 2      |\n",
            "| Original accuracy:            | 80.0%  |\n",
            "| Accuracy under attack:        | 10.0%  |\n",
            "| Attack success rate:          | 87.5%  |\n",
            "| Average perturbed word %:     | 21.54% |\n",
            "| Average num. words per input: | 9.5    |\n",
            "| Avg num queries:              | 22.88  |\n",
            "+-------------------------------+--------+\n"
          ]
        },
        {
          "output_type": "stream",
          "name": "stderr",
          "text": [
            "\n"
          ]
        },
        {
          "output_type": "execute_result",
          "data": {
            "text/plain": [
              "[<textattack.attack_results.successful_attack_result.SuccessfulAttackResult at 0x7fba63b52950>,\n",
              " <textattack.attack_results.successful_attack_result.SuccessfulAttackResult at 0x7fba694d8810>,\n",
              " <textattack.attack_results.successful_attack_result.SuccessfulAttackResult at 0x7fba687611d0>,\n",
              " <textattack.attack_results.skipped_attack_result.SkippedAttackResult at 0x7fba68761b10>,\n",
              " <textattack.attack_results.failed_attack_result.FailedAttackResult at 0x7fba68778690>,\n",
              " <textattack.attack_results.successful_attack_result.SuccessfulAttackResult at 0x7fba63b62210>,\n",
              " <textattack.attack_results.skipped_attack_result.SkippedAttackResult at 0x7fba63b62510>,\n",
              " <textattack.attack_results.successful_attack_result.SuccessfulAttackResult at 0x7fba694d8fd0>,\n",
              " <textattack.attack_results.successful_attack_result.SuccessfulAttackResult at 0x7fba634bc410>,\n",
              " <textattack.attack_results.successful_attack_result.SuccessfulAttackResult at 0x7fba68761a10>]"
            ]
          },
          "metadata": {},
          "execution_count": 39
        }
      ]
    },
    {
      "cell_type": "markdown",
      "source": [
        "##Recipe 10\n",
        "            WordSwapQWERTY\n",
        "            WordSwapWordNet\n",
        "            WordSwapNeighboringCharacterSwap"
      ],
      "metadata": {
        "id": "GT5YmnJJAETS"
      }
    },
    {
      "cell_type": "code",
      "source": [
        "class Recipe10(Attack,ABC):\n",
        "    @staticmethod\n",
        "    def build(model_wrapper):\n",
        "        #transformation =  WordSwapNeighboringCharacterSwap(random_one=True,skip_first_char=True,skip_last_char=True,)\n",
        "        transformation = CompositeTransformation(\n",
        "                [\n",
        "                    WordSwapQWERTY(),\n",
        "                    WordSwapWordNet(),\n",
        "                    WordSwapNeighboringCharacterSwap(random_one=True,skip_first_char=True,skip_last_char=True,)\n",
        "                ])\n",
        "\n",
        "        constraints = [RepeatModification(), StopwordModification()]\n",
        "\n",
        "        goal_function = UntargetedClassification(model_wrapper)\n",
        "        # search over words based on a combination of their saliency score, and how efficient the WordSwap transform is\n",
        "        search_method = GreedyWordSwapWIR(wir_method=\"delete\")\n",
        "        return Attack(goal_function, constraints, transformation, search_method)"
      ],
      "metadata": {
        "id": "NaI9OrA4AETl"
      },
      "execution_count": 30,
      "outputs": []
    },
    {
      "cell_type": "code",
      "source": [
        "attack = Recipe10.build(model_wrapper)\n",
        "attacker = Attacker(attack, dataset)\n",
        "attacker.attack_dataset()"
      ],
      "metadata": {
        "colab": {
          "base_uri": "https://localhost:8080/"
        },
        "outputId": "05533e65-6907-4832-ec70-41f7f818bf04",
        "id": "NmUZ_iM5AETm"
      },
      "execution_count": 31,
      "outputs": [
        {
          "output_type": "stream",
          "name": "stderr",
          "text": [
            "textattack: Unknown if model of class <class 'transformers.models.albert.modeling_albert.AlbertForSequenceClassification'> compatible with goal function <class 'textattack.goal_functions.classification.untargeted_classification.UntargetedClassification'>.\n"
          ]
        },
        {
          "output_type": "stream",
          "name": "stdout",
          "text": [
            "Attack(\n",
            "  (search_method): GreedyWordSwapWIR(\n",
            "    (wir_method):  delete\n",
            "  )\n",
            "  (goal_function):  UntargetedClassification\n",
            "  (transformation):  CompositeTransformation(\n",
            "    (0): WordSwapQWERTY\n",
            "    (1): WordSwapWordNet\n",
            "    (2): WordSwapNeighboringCharacterSwap(\n",
            "        (random_one):  True\n",
            "      )\n",
            "    )\n",
            "  (constraints): \n",
            "    (0): RepeatModification\n",
            "    (1): StopwordModification\n",
            "  (is_black_box):  True\n",
            ") \n",
            "\n"
          ]
        },
        {
          "output_type": "stream",
          "name": "stderr",
          "text": [
            "\n",
            "  0%|          | 0/10 [00:00<?, ?it/s]\u001b[A\n",
            " 10%|█         | 1/10 [00:00<00:07,  1.22it/s]\u001b[A\n",
            "[Succeeded / Failed / Skipped / Total] 1 / 0 / 0 / 1:  10%|█         | 1/10 [00:00<00:07,  1.21it/s]\u001b[A"
          ]
        },
        {
          "output_type": "stream",
          "name": "stdout",
          "text": [
            "--------------------------------------------- Result 1 ---------------------------------------------\n",
            "[[Negative (79%)]] --> [[Positive (57%)]]\n",
            "\n",
            "[[hide]] new secretions from the parental units \n",
            "\n",
            "[[gide]] new secretions from the parental units \n",
            "\n",
            "\n"
          ]
        },
        {
          "output_type": "stream",
          "name": "stderr",
          "text": [
            "\n",
            "[Succeeded / Failed / Skipped / Total] 1 / 0 / 0 / 1:  20%|██        | 2/10 [00:01<00:05,  1.33it/s]\u001b[A\n",
            "[Succeeded / Failed / Skipped / Total] 2 / 0 / 0 / 2:  20%|██        | 2/10 [00:01<00:06,  1.33it/s]\u001b[A"
          ]
        },
        {
          "output_type": "stream",
          "name": "stdout",
          "text": [
            "--------------------------------------------- Result 2 ---------------------------------------------\n",
            "[[Negative (66%)]] --> [[Positive (81%)]]\n",
            "\n",
            "contains no [[wit]] , only labored gags \n",
            "\n",
            "contains no [[card]] , only labored gags \n",
            "\n",
            "\n"
          ]
        },
        {
          "output_type": "stream",
          "name": "stderr",
          "text": [
            "\n",
            "[Succeeded / Failed / Skipped / Total] 2 / 0 / 0 / 2:  30%|███       | 3/10 [00:03<00:08,  1.19s/it]\u001b[A\n",
            "[Succeeded / Failed / Skipped / Total] 3 / 0 / 0 / 3:  30%|███       | 3/10 [00:03<00:08,  1.19s/it]\u001b[A\n",
            "[Succeeded / Failed / Skipped / Total] 3 / 0 / 1 / 4:  40%|████      | 4/10 [00:03<00:05,  1.10it/s]\u001b[A"
          ]
        },
        {
          "output_type": "stream",
          "name": "stdout",
          "text": [
            "--------------------------------------------- Result 3 ---------------------------------------------\n",
            "[[Positive (100%)]] --> [[Negative (95%)]]\n",
            "\n",
            "that [[loves]] its [[characters]] and communicates something [[rather]] beautiful about human nature \n",
            "\n",
            "that [[bang]] its [[characetrs]] and communicates something [[instead]] beautiful about human nature \n",
            "\n",
            "\n",
            "--------------------------------------------- Result 4 ---------------------------------------------\n",
            "[[Positive (99%)]] --> [[[SKIPPED]]]\n",
            "\n",
            "remains utterly satisfied to remain the same throughout \n",
            "\n",
            "\n"
          ]
        },
        {
          "output_type": "stream",
          "name": "stderr",
          "text": [
            "\n",
            "[Succeeded / Failed / Skipped / Total] 3 / 0 / 1 / 4:  50%|█████     | 5/10 [00:05<00:05,  1.05s/it]\u001b[A\n",
            "[Succeeded / Failed / Skipped / Total] 4 / 0 / 1 / 5:  50%|█████     | 5/10 [00:05<00:05,  1.05s/it]\u001b[A"
          ]
        },
        {
          "output_type": "stream",
          "name": "stdout",
          "text": [
            "--------------------------------------------- Result 5 ---------------------------------------------\n",
            "[[Negative (97%)]] --> [[Positive (82%)]]\n",
            "\n",
            "on the [[worst]] [[revenge-of-the-nerds]] [[clichés]] the filmmakers [[could]] [[dredge]] up \n",
            "\n",
            "on the [[wrost]] [[reveneg-of-the-nerds]] [[cilchés]] the filmmakers [[cohld]] [[dgedge]] up \n",
            "\n",
            "\n"
          ]
        },
        {
          "output_type": "stream",
          "name": "stderr",
          "text": [
            "\n",
            "[Succeeded / Failed / Skipped / Total] 5 / 0 / 1 / 6:  60%|██████    | 6/10 [00:05<00:03,  1.03it/s]\u001b[A\n",
            "[Succeeded / Failed / Skipped / Total] 5 / 0 / 1 / 6:  70%|███████   | 7/10 [00:05<00:02,  1.19it/s]\u001b[A\n",
            "[Succeeded / Failed / Skipped / Total] 5 / 0 / 2 / 7:  70%|███████   | 7/10 [00:05<00:02,  1.19it/s]\u001b[A"
          ]
        },
        {
          "output_type": "stream",
          "name": "stdout",
          "text": [
            "--------------------------------------------- Result 6 ---------------------------------------------\n",
            "[[Negative (96%)]] --> [[Positive (68%)]]\n",
            "\n",
            "that 's far too tragic to merit such [[superficial]] treatment \n",
            "\n",
            "that 's far too tragic to merit such [[supfrficial]] treatment \n",
            "\n",
            "\n",
            "--------------------------------------------- Result 7 ---------------------------------------------\n",
            "[[Negative (94%)]] --> [[[SKIPPED]]]\n",
            "\n",
            "demonstrates that the director of such hollywood blockbusters as patriot games can still turn out a small , personal film with an emotional wallop . \n",
            "\n",
            "\n"
          ]
        },
        {
          "output_type": "stream",
          "name": "stderr",
          "text": [
            "\n",
            "[Succeeded / Failed / Skipped / Total] 6 / 0 / 2 / 8:  80%|████████  | 8/10 [00:06<00:01,  1.24it/s]\u001b[A"
          ]
        },
        {
          "output_type": "stream",
          "name": "stdout",
          "text": [
            "--------------------------------------------- Result 8 ---------------------------------------------\n",
            "[[Positive (86%)]] --> [[Negative (77%)]]\n",
            "\n",
            "of [[saucy]] \n",
            "\n",
            "of [[overbold]] \n",
            "\n",
            "\n"
          ]
        },
        {
          "output_type": "stream",
          "name": "stderr",
          "text": [
            "\n",
            "[Succeeded / Failed / Skipped / Total] 6 / 0 / 2 / 8:  90%|█████████ | 9/10 [00:06<00:00,  1.31it/s]\u001b[A\n",
            "[Succeeded / Failed / Skipped / Total] 7 / 0 / 2 / 9:  90%|█████████ | 9/10 [00:06<00:00,  1.31it/s]\u001b[A"
          ]
        },
        {
          "output_type": "stream",
          "name": "stdout",
          "text": [
            "--------------------------------------------- Result 9 ---------------------------------------------\n",
            "[[Negative (84%)]] --> [[Positive (54%)]]\n",
            "\n",
            "a depressed fifteen-year-old 's [[suicidal]] poetry \n",
            "\n",
            "a depressed fifteen-year-old 's [[zuicidal]] poetry \n",
            "\n",
            "\n"
          ]
        },
        {
          "output_type": "stream",
          "name": "stderr",
          "text": [
            "\n",
            "[Succeeded / Failed / Skipped / Total] 8 / 0 / 2 / 10: 100%|██████████| 10/10 [00:07<00:00,  1.26it/s]"
          ]
        },
        {
          "output_type": "stream",
          "name": "stdout",
          "text": [
            "--------------------------------------------- Result 10 ---------------------------------------------\n",
            "[[Positive (99%)]] --> [[Negative (78%)]]\n",
            "\n",
            "are more [[deeply]] thought through than in most ` right-thinking ' [[films]] \n",
            "\n",
            "are more [[deelpy]] thought through than in most ` right-thinking ' [[celluloid]] \n",
            "\n",
            "\n",
            "\n",
            "+-------------------------------+--------+\n",
            "| Attack Results                |        |\n",
            "+-------------------------------+--------+\n",
            "| Number of successful attacks: | 8      |\n",
            "| Number of failed attacks:     | 0      |\n",
            "| Number of skipped attacks:    | 2      |\n",
            "| Original accuracy:            | 80.0%  |\n",
            "| Accuracy under attack:        | 0.0%   |\n",
            "| Attack success rate:          | 100.0% |\n",
            "| Average perturbed word %:     | 25.1%  |\n",
            "| Average num. words per input: | 9.5    |\n",
            "| Avg num queries:              | 24.75  |\n",
            "+-------------------------------+--------+\n"
          ]
        },
        {
          "output_type": "stream",
          "name": "stderr",
          "text": [
            "\n"
          ]
        },
        {
          "output_type": "execute_result",
          "data": {
            "text/plain": [
              "[<textattack.attack_results.successful_attack_result.SuccessfulAttackResult at 0x7fba65d08450>,\n",
              " <textattack.attack_results.successful_attack_result.SuccessfulAttackResult at 0x7fba64730090>,\n",
              " <textattack.attack_results.successful_attack_result.SuccessfulAttackResult at 0x7fba62a3b650>,\n",
              " <textattack.attack_results.skipped_attack_result.SkippedAttackResult at 0x7fba633f05d0>,\n",
              " <textattack.attack_results.successful_attack_result.SuccessfulAttackResult at 0x7fba62a0e390>,\n",
              " <textattack.attack_results.successful_attack_result.SuccessfulAttackResult at 0x7fba62a26d90>,\n",
              " <textattack.attack_results.skipped_attack_result.SkippedAttackResult at 0x7fba61d73510>,\n",
              " <textattack.attack_results.successful_attack_result.SuccessfulAttackResult at 0x7fbad8670190>,\n",
              " <textattack.attack_results.successful_attack_result.SuccessfulAttackResult at 0x7fba61abc410>,\n",
              " <textattack.attack_results.successful_attack_result.SuccessfulAttackResult at 0x7fba62a31790>]"
            ]
          },
          "metadata": {},
          "execution_count": 31
        }
      ]
    },
    {
      "cell_type": "markdown",
      "source": [
        "##Recipe 11\n",
        "            WordSwapRandomCharacterDeletion\n",
        "            WordSwapEmbedding"
      ],
      "metadata": {
        "id": "xEgGAofUApQp"
      }
    },
    {
      "cell_type": "code",
      "source": [
        "class Recipe11(Attack,ABC):\n",
        "    @staticmethod\n",
        "    def build(model_wrapper):\n",
        "        #transformation =  WordSwapNeighboringCharacterSwap(random_one=True,skip_first_char=True,skip_last_char=True,)\n",
        "        transformation = CompositeTransformation(\n",
        "                [\n",
        "                    # (2) Delete: Delete a random character of the word except for the first\n",
        "                    # and the last character\n",
        "                    WordSwapRandomCharacterDeletion(\n",
        "                        random_one=True, skip_first_char=True, skip_last_char=True\n",
        "                    ),\n",
        "                    # (5) Substitute-W\n",
        "                    # (Sub-W): Replace a word with its topk nearest neighbors in a\n",
        "                    # context-aware word vector space. Specifically, we use the pre-trained\n",
        "                    # GloVe model [30] provided by Stanford for word embedding and set\n",
        "                    # topk = 5 in the experiment.\n",
        "                    WordSwapEmbedding(max_candidates=5),\n",
        "                ])\n",
        "\n",
        "        constraints = [RepeatModification(), StopwordModification()]\n",
        "\n",
        "        goal_function = UntargetedClassification(model_wrapper)\n",
        "        # search over words based on a combination of their saliency score, and how efficient the WordSwap transform is\n",
        "        search_method = GreedyWordSwapWIR(wir_method=\"delete\")\n",
        "        return Attack(goal_function, constraints, transformation, search_method)\n"
      ],
      "metadata": {
        "id": "aWvisNnGApQ4"
      },
      "execution_count": 32,
      "outputs": []
    },
    {
      "cell_type": "code",
      "source": [
        "attack = Recipe11.build(model_wrapper)\n",
        "attacker = Attacker(attack, dataset)\n",
        "attacker.attack_dataset()"
      ],
      "metadata": {
        "colab": {
          "base_uri": "https://localhost:8080/"
        },
        "outputId": "3297deac-5d61-4c02-c6ea-cd0b711b9680",
        "id": "hjjFku33ApQ4"
      },
      "execution_count": 33,
      "outputs": [
        {
          "output_type": "stream",
          "name": "stderr",
          "text": [
            "textattack: Unknown if model of class <class 'transformers.models.albert.modeling_albert.AlbertForSequenceClassification'> compatible with goal function <class 'textattack.goal_functions.classification.untargeted_classification.UntargetedClassification'>.\n"
          ]
        },
        {
          "output_type": "stream",
          "name": "stdout",
          "text": [
            "Attack(\n",
            "  (search_method): GreedyWordSwapWIR(\n",
            "    (wir_method):  delete\n",
            "  )\n",
            "  (goal_function):  UntargetedClassification\n",
            "  (transformation):  CompositeTransformation(\n",
            "    (0): WordSwapRandomCharacterDeletion(\n",
            "        (random_one):  True\n",
            "      )\n",
            "    (1): WordSwapEmbedding(\n",
            "        (max_candidates):  5\n",
            "        (embedding):  WordEmbedding\n",
            "      )\n",
            "    )\n",
            "  (constraints): \n",
            "    (0): RepeatModification\n",
            "    (1): StopwordModification\n",
            "  (is_black_box):  True\n",
            ") \n",
            "\n"
          ]
        },
        {
          "output_type": "stream",
          "name": "stderr",
          "text": [
            "\n",
            "  0%|          | 0/10 [00:00<?, ?it/s]\u001b[A\n",
            " 10%|█         | 1/10 [00:00<00:05,  1.63it/s]\u001b[A\n",
            "[Succeeded / Failed / Skipped / Total] 1 / 0 / 0 / 1:  10%|█         | 1/10 [00:00<00:05,  1.62it/s]\u001b[A"
          ]
        },
        {
          "output_type": "stream",
          "name": "stdout",
          "text": [
            "--------------------------------------------- Result 1 ---------------------------------------------\n",
            "[[Negative (79%)]] --> [[Positive (70%)]]\n",
            "\n",
            "[[hide]] new secretions from the parental units \n",
            "\n",
            "[[hides]] new secretions from the parental units \n",
            "\n",
            "\n"
          ]
        },
        {
          "output_type": "stream",
          "name": "stderr",
          "text": [
            "\n",
            "[Succeeded / Failed / Skipped / Total] 1 / 0 / 0 / 1:  20%|██        | 2/10 [00:01<00:04,  1.74it/s]\u001b[A\n",
            "[Succeeded / Failed / Skipped / Total] 2 / 0 / 0 / 2:  20%|██        | 2/10 [00:01<00:04,  1.73it/s]\u001b[A"
          ]
        },
        {
          "output_type": "stream",
          "name": "stdout",
          "text": [
            "--------------------------------------------- Result 2 ---------------------------------------------\n",
            "[[Negative (66%)]] --> [[Positive (87%)]]\n",
            "\n",
            "contains no [[wit]] , only labored gags \n",
            "\n",
            "contains no [[waite]] , only labored gags \n",
            "\n",
            "\n"
          ]
        },
        {
          "output_type": "stream",
          "name": "stderr",
          "text": [
            "\n",
            "[Succeeded / Failed / Skipped / Total] 2 / 0 / 0 / 2:  30%|███       | 3/10 [00:02<00:05,  1.37it/s]\u001b[A\n",
            "[Succeeded / Failed / Skipped / Total] 3 / 0 / 0 / 3:  30%|███       | 3/10 [00:02<00:05,  1.37it/s]\u001b[A\n",
            "[Succeeded / Failed / Skipped / Total] 3 / 0 / 1 / 4:  40%|████      | 4/10 [00:02<00:03,  1.79it/s]\u001b[A"
          ]
        },
        {
          "output_type": "stream",
          "name": "stdout",
          "text": [
            "--------------------------------------------- Result 3 ---------------------------------------------\n",
            "[[Positive (100%)]] --> [[Negative (92%)]]\n",
            "\n",
            "that loves its [[characters]] and communicates something [[rather]] beautiful about human nature \n",
            "\n",
            "that loves its [[chaacters]] and communicates something [[somewhat]] beautiful about human nature \n",
            "\n",
            "\n",
            "--------------------------------------------- Result 4 ---------------------------------------------\n",
            "[[Positive (99%)]] --> [[[SKIPPED]]]\n",
            "\n",
            "remains utterly satisfied to remain the same throughout \n",
            "\n",
            "\n"
          ]
        },
        {
          "output_type": "stream",
          "name": "stderr",
          "text": [
            "\n",
            "[Succeeded / Failed / Skipped / Total] 3 / 0 / 1 / 4:  50%|█████     | 5/10 [00:03<00:03,  1.35it/s]\u001b[A\n",
            "[Succeeded / Failed / Skipped / Total] 4 / 0 / 1 / 5:  50%|█████     | 5/10 [00:03<00:03,  1.35it/s]\u001b[A"
          ]
        },
        {
          "output_type": "stream",
          "name": "stdout",
          "text": [
            "--------------------------------------------- Result 5 ---------------------------------------------\n",
            "[[Negative (97%)]] --> [[Positive (52%)]]\n",
            "\n",
            "on the worst [[revenge-of-the-nerds]] clichés the [[filmmakers]] [[could]] [[dredge]] up \n",
            "\n",
            "on the worst [[revene-of-the-nerds]] clichés the [[cinematography]] [[do]] [[dragging]] up \n",
            "\n",
            "\n"
          ]
        },
        {
          "output_type": "stream",
          "name": "stderr",
          "text": [
            "\n",
            "[Succeeded / Failed / Skipped / Total] 5 / 0 / 1 / 6:  60%|██████    | 6/10 [00:04<00:03,  1.23it/s]\u001b[A\n",
            "[Succeeded / Failed / Skipped / Total] 5 / 0 / 1 / 6:  70%|███████   | 7/10 [00:04<00:02,  1.42it/s]\u001b[A\n",
            "[Succeeded / Failed / Skipped / Total] 5 / 0 / 2 / 7:  70%|███████   | 7/10 [00:04<00:02,  1.42it/s]\u001b[A"
          ]
        },
        {
          "output_type": "stream",
          "name": "stdout",
          "text": [
            "--------------------------------------------- Result 6 ---------------------------------------------\n",
            "[[Negative (96%)]] --> [[Positive (67%)]]\n",
            "\n",
            "that 's [[far]] too tragic to merit such [[superficial]] treatment \n",
            "\n",
            "that 's [[considerably]] too tragic to merit such [[supeficial]] treatment \n",
            "\n",
            "\n",
            "--------------------------------------------- Result 7 ---------------------------------------------\n",
            "[[Negative (94%)]] --> [[[SKIPPED]]]\n",
            "\n",
            "demonstrates that the director of such hollywood blockbusters as patriot games can still turn out a small , personal film with an emotional wallop . \n",
            "\n",
            "\n"
          ]
        },
        {
          "output_type": "stream",
          "name": "stderr",
          "text": [
            "\n",
            "[Succeeded / Failed / Skipped / Total] 5 / 1 / 2 / 8:  80%|████████  | 8/10 [00:05<00:01,  1.51it/s]\u001b[A"
          ]
        },
        {
          "output_type": "stream",
          "name": "stdout",
          "text": [
            "--------------------------------------------- Result 8 ---------------------------------------------\n",
            "[[Positive (86%)]] --> [[[FAILED]]]\n",
            "\n",
            "of saucy \n",
            "\n",
            "\n"
          ]
        },
        {
          "output_type": "stream",
          "name": "stderr",
          "text": [
            "\n",
            "[Succeeded / Failed / Skipped / Total] 5 / 1 / 2 / 8:  90%|█████████ | 9/10 [00:05<00:00,  1.54it/s]\u001b[A\n",
            "[Succeeded / Failed / Skipped / Total] 6 / 1 / 2 / 9:  90%|█████████ | 9/10 [00:05<00:00,  1.54it/s]\u001b[A"
          ]
        },
        {
          "output_type": "stream",
          "name": "stdout",
          "text": [
            "--------------------------------------------- Result 9 ---------------------------------------------\n",
            "[[Negative (84%)]] --> [[Positive (65%)]]\n",
            "\n",
            "a depressed fifteen-year-old 's [[suicidal]] poetry \n",
            "\n",
            "a depressed fifteen-year-old 's [[martyrdom]] poetry \n",
            "\n",
            "\n"
          ]
        },
        {
          "output_type": "stream",
          "name": "stderr",
          "text": [
            "\n",
            "[Succeeded / Failed / Skipped / Total] 7 / 1 / 2 / 10: 100%|██████████| 10/10 [00:06<00:00,  1.46it/s]"
          ]
        },
        {
          "output_type": "stream",
          "name": "stdout",
          "text": [
            "--------------------------------------------- Result 10 ---------------------------------------------\n",
            "[[Positive (99%)]] --> [[Negative (69%)]]\n",
            "\n",
            "are more [[deeply]] thought through than in most ` right-thinking ' [[films]] \n",
            "\n",
            "are more [[severely]] thought through than in most ` right-thinking ' [[fils]] \n",
            "\n",
            "\n",
            "\n",
            "+-------------------------------+--------+\n",
            "| Attack Results                |        |\n",
            "+-------------------------------+--------+\n",
            "| Number of successful attacks: | 7      |\n",
            "| Number of failed attacks:     | 1      |\n",
            "| Number of skipped attacks:    | 2      |\n",
            "| Original accuracy:            | 80.0%  |\n",
            "| Accuracy under attack:        | 10.0%  |\n",
            "| Attack success rate:          | 87.5%  |\n",
            "| Average perturbed word %:     | 20.35% |\n",
            "| Average num. words per input: | 9.5    |\n",
            "| Avg num queries:              | 20.38  |\n",
            "+-------------------------------+--------+\n"
          ]
        },
        {
          "output_type": "stream",
          "name": "stderr",
          "text": [
            "\n"
          ]
        },
        {
          "output_type": "execute_result",
          "data": {
            "text/plain": [
              "[<textattack.attack_results.successful_attack_result.SuccessfulAttackResult at 0x7fba62dfeed0>,\n",
              " <textattack.attack_results.successful_attack_result.SuccessfulAttackResult at 0x7fba610bb290>,\n",
              " <textattack.attack_results.successful_attack_result.SuccessfulAttackResult at 0x7fba5984ba10>,\n",
              " <textattack.attack_results.skipped_attack_result.SkippedAttackResult at 0x7fba6356b710>,\n",
              " <textattack.attack_results.successful_attack_result.SuccessfulAttackResult at 0x7fba631e0910>,\n",
              " <textattack.attack_results.successful_attack_result.SuccessfulAttackResult at 0x7fba602b3890>,\n",
              " <textattack.attack_results.skipped_attack_result.SkippedAttackResult at 0x7fba63b93c50>,\n",
              " <textattack.attack_results.failed_attack_result.FailedAttackResult at 0x7fba642103d0>,\n",
              " <textattack.attack_results.successful_attack_result.SuccessfulAttackResult at 0x7fbad86020d0>,\n",
              " <textattack.attack_results.successful_attack_result.SuccessfulAttackResult at 0x7fba6245eb10>]"
            ]
          },
          "metadata": {},
          "execution_count": 33
        }
      ]
    },
    {
      "cell_type": "markdown",
      "source": [
        "##Recipe 13         \n",
        "                    TargetedClassification"
      ],
      "metadata": {
        "id": "gcHEYHsQKvlS"
      }
    },
    {
      "cell_type": "code",
      "source": [
        "class Recipe13(Attack,ABC):\n",
        "    @staticmethod\n",
        "    def build(model_wrapper):\n",
        "        transformation = WordSwapWordNet()\n",
        "        constraints = [RepeatModification(), StopwordModification()]\n",
        "        goal_function = TargetedClassification(model_wrapper)\n",
        "        # search over words based on a combination of their saliency score, and how efficient the WordSwap transform is\n",
        "        search_method = GreedyWordSwapWIR(wir_method=\"delete\")\n",
        "        return Attack(goal_function, constraints, transformation, search_method)\n"
      ],
      "metadata": {
        "id": "IQ-Y_I66Kvlq"
      },
      "execution_count": 36,
      "outputs": []
    },
    {
      "cell_type": "code",
      "source": [
        "attack = Recipe13.build(model_wrapper)\n",
        "attacker = Attacker(attack, dataset)\n",
        "attacker.attack_dataset()"
      ],
      "metadata": {
        "colab": {
          "base_uri": "https://localhost:8080/"
        },
        "outputId": "b99a5b70-f2b5-4b0c-a4a2-84bc3df43603",
        "id": "K5Zz_i-iKvlq"
      },
      "execution_count": 37,
      "outputs": [
        {
          "output_type": "stream",
          "name": "stderr",
          "text": [
            "textattack: Unknown if model of class <class 'transformers.models.albert.modeling_albert.AlbertForSequenceClassification'> compatible with goal function <class 'textattack.goal_functions.classification.targeted_classification.TargetedClassification'>.\n"
          ]
        },
        {
          "output_type": "stream",
          "name": "stdout",
          "text": [
            "Attack(\n",
            "  (search_method): GreedyWordSwapWIR(\n",
            "    (wir_method):  delete\n",
            "  )\n",
            "  (goal_function):  TargetedClassification(\n",
            "    (target_class):  0\n",
            "  )\n",
            "  (transformation):  WordSwapWordNet\n",
            "  (constraints): \n",
            "    (0): RepeatModification\n",
            "    (1): StopwordModification\n",
            "  (is_black_box):  True\n",
            ") \n",
            "\n"
          ]
        },
        {
          "output_type": "stream",
          "name": "stderr",
          "text": [
            "\n",
            "\n",
            "  0%|          | 0/10 [00:00<?, ?it/s]\u001b[A\u001b[A\n",
            "\n",
            "[Succeeded / Failed / Skipped / Total] 0 / 0 / 1 / 1:  10%|█         | 1/10 [00:00<00:00, 15.89it/s]\u001b[A\u001b[A\n",
            "\n",
            "[Succeeded / Failed / Skipped / Total] 0 / 0 / 1 / 1:  20%|██        | 2/10 [00:00<00:00, 15.63it/s]\u001b[A\u001b[A\n",
            "\n",
            "[Succeeded / Failed / Skipped / Total] 0 / 0 / 2 / 2:  20%|██        | 2/10 [00:00<00:00, 15.00it/s]\u001b[A\u001b[A"
          ]
        },
        {
          "output_type": "stream",
          "name": "stdout",
          "text": [
            "--------------------------------------------- Result 1 ---------------------------------------------\n",
            "[[Negative (79%)]] --> [[[SKIPPED]]]\n",
            "\n",
            "hide new secretions from the parental units \n",
            "\n",
            "\n",
            "--------------------------------------------- Result 2 ---------------------------------------------\n",
            "[[Negative (66%)]] --> [[[SKIPPED]]]\n",
            "\n",
            "contains no wit , only labored gags \n",
            "\n",
            "\n"
          ]
        },
        {
          "output_type": "stream",
          "name": "stderr",
          "text": [
            "\n",
            "\n",
            "[Succeeded / Failed / Skipped / Total] 1 / 0 / 2 / 3:  30%|███       | 3/10 [00:02<00:04,  1.49it/s]\u001b[A\u001b[A\n",
            "\n",
            "[Succeeded / Failed / Skipped / Total] 1 / 0 / 2 / 3:  40%|████      | 4/10 [00:02<00:03,  1.95it/s]\u001b[A\u001b[A\n",
            "\n",
            "[Succeeded / Failed / Skipped / Total] 1 / 0 / 3 / 4:  40%|████      | 4/10 [00:02<00:03,  1.94it/s]\u001b[A\u001b[A\n",
            "\n",
            "[Succeeded / Failed / Skipped / Total] 1 / 0 / 4 / 5:  50%|█████     | 5/10 [00:02<00:02,  2.38it/s]\u001b[A\u001b[A\n",
            "\n",
            "[Succeeded / Failed / Skipped / Total] 1 / 0 / 5 / 6:  60%|██████    | 6/10 [00:02<00:01,  2.79it/s]\u001b[A\u001b[A\n",
            "\n",
            "[Succeeded / Failed / Skipped / Total] 1 / 0 / 5 / 6:  70%|███████   | 7/10 [00:02<00:00,  3.19it/s]\u001b[A\u001b[A\n",
            "\n",
            "[Succeeded / Failed / Skipped / Total] 1 / 0 / 6 / 7:  70%|███████   | 7/10 [00:02<00:00,  3.18it/s]\u001b[A\u001b[A"
          ]
        },
        {
          "output_type": "stream",
          "name": "stdout",
          "text": [
            "--------------------------------------------- Result 3 ---------------------------------------------\n",
            "[[Positive (100%)]] --> [[Negative (96%)]]\n",
            "\n",
            "that [[loves]] its [[characters]] and communicates something [[rather]] beautiful about human nature \n",
            "\n",
            "that [[fuck]] its [[reference]] and communicates something [[instead]] beautiful about human nature \n",
            "\n",
            "\n",
            "--------------------------------------------- Result 4 ---------------------------------------------\n",
            "[[Positive (99%)]] --> [[[SKIPPED]]]\n",
            "\n",
            "remains utterly satisfied to remain the same throughout \n",
            "\n",
            "\n",
            "--------------------------------------------- Result 5 ---------------------------------------------\n",
            "[[Negative (97%)]] --> [[[SKIPPED]]]\n",
            "\n",
            "on the worst revenge-of-the-nerds clichés the filmmakers could dredge up \n",
            "\n",
            "\n",
            "--------------------------------------------- Result 6 ---------------------------------------------\n",
            "[[Negative (96%)]] --> [[[SKIPPED]]]\n",
            "\n",
            "that 's far too tragic to merit such superficial treatment \n",
            "\n",
            "\n",
            "--------------------------------------------- Result 7 ---------------------------------------------\n",
            "[[Negative (94%)]] --> [[[SKIPPED]]]\n",
            "\n",
            "demonstrates that the director of such hollywood blockbusters as patriot games can still turn out a small , personal film with an emotional wallop . \n",
            "\n",
            "\n"
          ]
        },
        {
          "output_type": "stream",
          "name": "stderr",
          "text": [
            "\n",
            "\n",
            "[Succeeded / Failed / Skipped / Total] 2 / 0 / 6 / 8:  80%|████████  | 8/10 [00:02<00:00,  3.00it/s]\u001b[A\u001b[A\n",
            "\n",
            "[Succeeded / Failed / Skipped / Total] 2 / 0 / 7 / 9:  90%|█████████ | 9/10 [00:02<00:00,  3.32it/s]\u001b[A\u001b[A"
          ]
        },
        {
          "output_type": "stream",
          "name": "stdout",
          "text": [
            "--------------------------------------------- Result 8 ---------------------------------------------\n",
            "[[Positive (86%)]] --> [[Negative (77%)]]\n",
            "\n",
            "of [[saucy]] \n",
            "\n",
            "of [[overbold]] \n",
            "\n",
            "\n",
            "--------------------------------------------- Result 9 ---------------------------------------------\n",
            "[[Negative (84%)]] --> [[[SKIPPED]]]\n",
            "\n",
            "a depressed fifteen-year-old 's suicidal poetry \n",
            "\n",
            "\n"
          ]
        },
        {
          "output_type": "stream",
          "name": "stderr",
          "text": [
            "\n",
            "\n",
            "[Succeeded / Failed / Skipped / Total] 2 / 0 / 7 / 9: 100%|██████████| 10/10 [00:04<00:00,  2.16it/s]\u001b[A\u001b[A\n",
            "\n",
            "[Succeeded / Failed / Skipped / Total] 3 / 0 / 7 / 10: 100%|██████████| 10/10 [00:04<00:00,  2.16it/s]"
          ]
        },
        {
          "output_type": "stream",
          "name": "stdout",
          "text": [
            "--------------------------------------------- Result 10 ---------------------------------------------\n",
            "[[Positive (99%)]] --> [[Negative (79%)]]\n",
            "\n",
            "are more deeply [[thought]] through than in most ` right-thinking ' [[films]] \n",
            "\n",
            "are more deeply [[mean]] through than in most ` right-thinking ' [[celluloid]] \n",
            "\n",
            "\n",
            "\n",
            "+-------------------------------+--------+\n",
            "| Attack Results                |        |\n",
            "+-------------------------------+--------+\n",
            "| Number of successful attacks: | 3      |\n",
            "| Number of failed attacks:     | 0      |\n",
            "| Number of skipped attacks:    | 7      |\n",
            "| Original accuracy:            | 30.0%  |\n",
            "| Accuracy under attack:        | 0.0%   |\n",
            "| Attack success rate:          | 100.0% |\n",
            "| Average perturbed word %:     | 31.06% |\n",
            "| Average num. words per input: | 9.5    |\n",
            "| Avg num queries:              | 36.33  |\n",
            "+-------------------------------+--------+\n"
          ]
        },
        {
          "output_type": "stream",
          "name": "stderr",
          "text": [
            "\n"
          ]
        },
        {
          "output_type": "execute_result",
          "data": {
            "text/plain": [
              "[<textattack.attack_results.skipped_attack_result.SkippedAttackResult at 0x7fba634bc210>,\n",
              " <textattack.attack_results.skipped_attack_result.SkippedAttackResult at 0x7fba5e7d3650>,\n",
              " <textattack.attack_results.successful_attack_result.SuccessfulAttackResult at 0x7fba7b657090>,\n",
              " <textattack.attack_results.skipped_attack_result.SkippedAttackResult at 0x7fba7b6575d0>,\n",
              " <textattack.attack_results.skipped_attack_result.SkippedAttackResult at 0x7fba7b657690>,\n",
              " <textattack.attack_results.skipped_attack_result.SkippedAttackResult at 0x7fba7b657150>,\n",
              " <textattack.attack_results.skipped_attack_result.SkippedAttackResult at 0x7fba7b657890>,\n",
              " <textattack.attack_results.successful_attack_result.SuccessfulAttackResult at 0x7fba65566f50>,\n",
              " <textattack.attack_results.skipped_attack_result.SkippedAttackResult at 0x7fba5e7d30d0>,\n",
              " <textattack.attack_results.successful_attack_result.SuccessfulAttackResult at 0x7fba65553710>]"
            ]
          },
          "metadata": {},
          "execution_count": 37
        }
      ]
    }
  ],
  "metadata": {
    "accelerator": "GPU",
    "colab": {
      "collapsed_sections": [
        "0av-2lHpejrW",
        "lrq7Mk7seR2N",
        "Y3QOjBI1c4kT",
        "-FIldZfrdIDm"
      ],
      "machine_shape": "hm",
      "name": "Custom Recipe_list_CompositeTransformations_AlbertBase.ipynb",
      "provenance": [],
      "authorship_tag": "ABX9TyOazx1IX83dJ+vWB1kqgdLj",
      "include_colab_link": true
    },
    "kernelspec": {
      "display_name": "Python 3",
      "name": "python3"
    },
    "language_info": {
      "name": "python"
    },
    "widgets": {
      "application/vnd.jupyter.widget-state+json": {
        "ceaee37db1074cab8959b194a1bf77c2": {
          "model_module": "@jupyter-widgets/controls",
          "model_name": "HBoxModel",
          "model_module_version": "1.5.0",
          "state": {
            "_view_name": "HBoxView",
            "_dom_classes": [],
            "_model_name": "HBoxModel",
            "_view_module": "@jupyter-widgets/controls",
            "_model_module_version": "1.5.0",
            "_view_count": null,
            "_view_module_version": "1.5.0",
            "box_style": "",
            "layout": "IPY_MODEL_3000ca0b7d4f46dd9075234ac20ebd59",
            "_model_module": "@jupyter-widgets/controls",
            "children": [
              "IPY_MODEL_8ff89663934f4d15960c889b4967c852",
              "IPY_MODEL_9eecc4da9efa448888f2937c3d5d7deb",
              "IPY_MODEL_bdd0f34875684af9950c4e98e461e191"
            ]
          }
        },
        "3000ca0b7d4f46dd9075234ac20ebd59": {
          "model_module": "@jupyter-widgets/base",
          "model_name": "LayoutModel",
          "model_module_version": "1.2.0",
          "state": {
            "_view_name": "LayoutView",
            "grid_template_rows": null,
            "right": null,
            "justify_content": null,
            "_view_module": "@jupyter-widgets/base",
            "overflow": null,
            "_model_module_version": "1.2.0",
            "_view_count": null,
            "flex_flow": null,
            "width": null,
            "min_width": null,
            "border": null,
            "align_items": null,
            "bottom": null,
            "_model_module": "@jupyter-widgets/base",
            "top": null,
            "grid_column": null,
            "overflow_y": null,
            "overflow_x": null,
            "grid_auto_flow": null,
            "grid_area": null,
            "grid_template_columns": null,
            "flex": null,
            "_model_name": "LayoutModel",
            "justify_items": null,
            "grid_row": null,
            "max_height": null,
            "align_content": null,
            "visibility": null,
            "align_self": null,
            "height": null,
            "min_height": null,
            "padding": null,
            "grid_auto_rows": null,
            "grid_gap": null,
            "max_width": null,
            "order": null,
            "_view_module_version": "1.2.0",
            "grid_template_areas": null,
            "object_position": null,
            "object_fit": null,
            "grid_auto_columns": null,
            "margin": null,
            "display": null,
            "left": null
          }
        },
        "8ff89663934f4d15960c889b4967c852": {
          "model_module": "@jupyter-widgets/controls",
          "model_name": "HTMLModel",
          "model_module_version": "1.5.0",
          "state": {
            "_view_name": "HTMLView",
            "style": "IPY_MODEL_9c392a2b51404b61bec9451b1cce987c",
            "_dom_classes": [],
            "description": "",
            "_model_name": "HTMLModel",
            "placeholder": "​",
            "_view_module": "@jupyter-widgets/controls",
            "_model_module_version": "1.5.0",
            "value": "Downloading: ",
            "_view_count": null,
            "_view_module_version": "1.5.0",
            "description_tooltip": null,
            "_model_module": "@jupyter-widgets/controls",
            "layout": "IPY_MODEL_66bc49bf8dc94f4082d0067369d8f400"
          }
        },
        "9eecc4da9efa448888f2937c3d5d7deb": {
          "model_module": "@jupyter-widgets/controls",
          "model_name": "FloatProgressModel",
          "model_module_version": "1.5.0",
          "state": {
            "_view_name": "ProgressView",
            "style": "IPY_MODEL_12b6ca9f4d024c37a66592e9eb1257c4",
            "_dom_classes": [],
            "description": "",
            "_model_name": "FloatProgressModel",
            "bar_style": "success",
            "max": 7777,
            "_view_module": "@jupyter-widgets/controls",
            "_model_module_version": "1.5.0",
            "value": 7777,
            "_view_count": null,
            "_view_module_version": "1.5.0",
            "orientation": "horizontal",
            "min": 0,
            "description_tooltip": null,
            "_model_module": "@jupyter-widgets/controls",
            "layout": "IPY_MODEL_ef0f9aa2505e47688033af8e07bf7779"
          }
        },
        "bdd0f34875684af9950c4e98e461e191": {
          "model_module": "@jupyter-widgets/controls",
          "model_name": "HTMLModel",
          "model_module_version": "1.5.0",
          "state": {
            "_view_name": "HTMLView",
            "style": "IPY_MODEL_89e42dc3db714f518d60beb802cc7c02",
            "_dom_classes": [],
            "description": "",
            "_model_name": "HTMLModel",
            "placeholder": "​",
            "_view_module": "@jupyter-widgets/controls",
            "_model_module_version": "1.5.0",
            "value": " 28.8k/? [00:00&lt;00:00, 1.03MB/s]",
            "_view_count": null,
            "_view_module_version": "1.5.0",
            "description_tooltip": null,
            "_model_module": "@jupyter-widgets/controls",
            "layout": "IPY_MODEL_31aa5c88334e418a842a45a0d53b0c74"
          }
        },
        "9c392a2b51404b61bec9451b1cce987c": {
          "model_module": "@jupyter-widgets/controls",
          "model_name": "DescriptionStyleModel",
          "model_module_version": "1.5.0",
          "state": {
            "_view_name": "StyleView",
            "_model_name": "DescriptionStyleModel",
            "description_width": "",
            "_view_module": "@jupyter-widgets/base",
            "_model_module_version": "1.5.0",
            "_view_count": null,
            "_view_module_version": "1.2.0",
            "_model_module": "@jupyter-widgets/controls"
          }
        },
        "66bc49bf8dc94f4082d0067369d8f400": {
          "model_module": "@jupyter-widgets/base",
          "model_name": "LayoutModel",
          "model_module_version": "1.2.0",
          "state": {
            "_view_name": "LayoutView",
            "grid_template_rows": null,
            "right": null,
            "justify_content": null,
            "_view_module": "@jupyter-widgets/base",
            "overflow": null,
            "_model_module_version": "1.2.0",
            "_view_count": null,
            "flex_flow": null,
            "width": null,
            "min_width": null,
            "border": null,
            "align_items": null,
            "bottom": null,
            "_model_module": "@jupyter-widgets/base",
            "top": null,
            "grid_column": null,
            "overflow_y": null,
            "overflow_x": null,
            "grid_auto_flow": null,
            "grid_area": null,
            "grid_template_columns": null,
            "flex": null,
            "_model_name": "LayoutModel",
            "justify_items": null,
            "grid_row": null,
            "max_height": null,
            "align_content": null,
            "visibility": null,
            "align_self": null,
            "height": null,
            "min_height": null,
            "padding": null,
            "grid_auto_rows": null,
            "grid_gap": null,
            "max_width": null,
            "order": null,
            "_view_module_version": "1.2.0",
            "grid_template_areas": null,
            "object_position": null,
            "object_fit": null,
            "grid_auto_columns": null,
            "margin": null,
            "display": null,
            "left": null
          }
        },
        "12b6ca9f4d024c37a66592e9eb1257c4": {
          "model_module": "@jupyter-widgets/controls",
          "model_name": "ProgressStyleModel",
          "model_module_version": "1.5.0",
          "state": {
            "_view_name": "StyleView",
            "_model_name": "ProgressStyleModel",
            "description_width": "",
            "_view_module": "@jupyter-widgets/base",
            "_model_module_version": "1.5.0",
            "_view_count": null,
            "_view_module_version": "1.2.0",
            "bar_color": null,
            "_model_module": "@jupyter-widgets/controls"
          }
        },
        "ef0f9aa2505e47688033af8e07bf7779": {
          "model_module": "@jupyter-widgets/base",
          "model_name": "LayoutModel",
          "model_module_version": "1.2.0",
          "state": {
            "_view_name": "LayoutView",
            "grid_template_rows": null,
            "right": null,
            "justify_content": null,
            "_view_module": "@jupyter-widgets/base",
            "overflow": null,
            "_model_module_version": "1.2.0",
            "_view_count": null,
            "flex_flow": null,
            "width": null,
            "min_width": null,
            "border": null,
            "align_items": null,
            "bottom": null,
            "_model_module": "@jupyter-widgets/base",
            "top": null,
            "grid_column": null,
            "overflow_y": null,
            "overflow_x": null,
            "grid_auto_flow": null,
            "grid_area": null,
            "grid_template_columns": null,
            "flex": null,
            "_model_name": "LayoutModel",
            "justify_items": null,
            "grid_row": null,
            "max_height": null,
            "align_content": null,
            "visibility": null,
            "align_self": null,
            "height": null,
            "min_height": null,
            "padding": null,
            "grid_auto_rows": null,
            "grid_gap": null,
            "max_width": null,
            "order": null,
            "_view_module_version": "1.2.0",
            "grid_template_areas": null,
            "object_position": null,
            "object_fit": null,
            "grid_auto_columns": null,
            "margin": null,
            "display": null,
            "left": null
          }
        },
        "89e42dc3db714f518d60beb802cc7c02": {
          "model_module": "@jupyter-widgets/controls",
          "model_name": "DescriptionStyleModel",
          "model_module_version": "1.5.0",
          "state": {
            "_view_name": "StyleView",
            "_model_name": "DescriptionStyleModel",
            "description_width": "",
            "_view_module": "@jupyter-widgets/base",
            "_model_module_version": "1.5.0",
            "_view_count": null,
            "_view_module_version": "1.2.0",
            "_model_module": "@jupyter-widgets/controls"
          }
        },
        "31aa5c88334e418a842a45a0d53b0c74": {
          "model_module": "@jupyter-widgets/base",
          "model_name": "LayoutModel",
          "model_module_version": "1.2.0",
          "state": {
            "_view_name": "LayoutView",
            "grid_template_rows": null,
            "right": null,
            "justify_content": null,
            "_view_module": "@jupyter-widgets/base",
            "overflow": null,
            "_model_module_version": "1.2.0",
            "_view_count": null,
            "flex_flow": null,
            "width": null,
            "min_width": null,
            "border": null,
            "align_items": null,
            "bottom": null,
            "_model_module": "@jupyter-widgets/base",
            "top": null,
            "grid_column": null,
            "overflow_y": null,
            "overflow_x": null,
            "grid_auto_flow": null,
            "grid_area": null,
            "grid_template_columns": null,
            "flex": null,
            "_model_name": "LayoutModel",
            "justify_items": null,
            "grid_row": null,
            "max_height": null,
            "align_content": null,
            "visibility": null,
            "align_self": null,
            "height": null,
            "min_height": null,
            "padding": null,
            "grid_auto_rows": null,
            "grid_gap": null,
            "max_width": null,
            "order": null,
            "_view_module_version": "1.2.0",
            "grid_template_areas": null,
            "object_position": null,
            "object_fit": null,
            "grid_auto_columns": null,
            "margin": null,
            "display": null,
            "left": null
          }
        },
        "105dc528319048179428427d300432e5": {
          "model_module": "@jupyter-widgets/controls",
          "model_name": "HBoxModel",
          "model_module_version": "1.5.0",
          "state": {
            "_view_name": "HBoxView",
            "_dom_classes": [],
            "_model_name": "HBoxModel",
            "_view_module": "@jupyter-widgets/controls",
            "_model_module_version": "1.5.0",
            "_view_count": null,
            "_view_module_version": "1.5.0",
            "box_style": "",
            "layout": "IPY_MODEL_1217216228704152b550671ab16cff13",
            "_model_module": "@jupyter-widgets/controls",
            "children": [
              "IPY_MODEL_cc3e0853afad44b9a3b1d4803ff37a98",
              "IPY_MODEL_e0ce49a2bf844dd5aa464a0bf33f8690",
              "IPY_MODEL_05ce4ddc64b54747bf8eb28d1fe6deab"
            ]
          }
        },
        "1217216228704152b550671ab16cff13": {
          "model_module": "@jupyter-widgets/base",
          "model_name": "LayoutModel",
          "model_module_version": "1.2.0",
          "state": {
            "_view_name": "LayoutView",
            "grid_template_rows": null,
            "right": null,
            "justify_content": null,
            "_view_module": "@jupyter-widgets/base",
            "overflow": null,
            "_model_module_version": "1.2.0",
            "_view_count": null,
            "flex_flow": null,
            "width": null,
            "min_width": null,
            "border": null,
            "align_items": null,
            "bottom": null,
            "_model_module": "@jupyter-widgets/base",
            "top": null,
            "grid_column": null,
            "overflow_y": null,
            "overflow_x": null,
            "grid_auto_flow": null,
            "grid_area": null,
            "grid_template_columns": null,
            "flex": null,
            "_model_name": "LayoutModel",
            "justify_items": null,
            "grid_row": null,
            "max_height": null,
            "align_content": null,
            "visibility": null,
            "align_self": null,
            "height": null,
            "min_height": null,
            "padding": null,
            "grid_auto_rows": null,
            "grid_gap": null,
            "max_width": null,
            "order": null,
            "_view_module_version": "1.2.0",
            "grid_template_areas": null,
            "object_position": null,
            "object_fit": null,
            "grid_auto_columns": null,
            "margin": null,
            "display": null,
            "left": null
          }
        },
        "cc3e0853afad44b9a3b1d4803ff37a98": {
          "model_module": "@jupyter-widgets/controls",
          "model_name": "HTMLModel",
          "model_module_version": "1.5.0",
          "state": {
            "_view_name": "HTMLView",
            "style": "IPY_MODEL_12a3fe8dc67a4469be26320ac231b27d",
            "_dom_classes": [],
            "description": "",
            "_model_name": "HTMLModel",
            "placeholder": "​",
            "_view_module": "@jupyter-widgets/controls",
            "_model_module_version": "1.5.0",
            "value": "Downloading: ",
            "_view_count": null,
            "_view_module_version": "1.5.0",
            "description_tooltip": null,
            "_model_module": "@jupyter-widgets/controls",
            "layout": "IPY_MODEL_51998eced39e4c618dfc646b01697dca"
          }
        },
        "e0ce49a2bf844dd5aa464a0bf33f8690": {
          "model_module": "@jupyter-widgets/controls",
          "model_name": "FloatProgressModel",
          "model_module_version": "1.5.0",
          "state": {
            "_view_name": "ProgressView",
            "style": "IPY_MODEL_3899bf0a35024f3dbe24a9d957d46e2d",
            "_dom_classes": [],
            "description": "",
            "_model_name": "FloatProgressModel",
            "bar_style": "success",
            "max": 4473,
            "_view_module": "@jupyter-widgets/controls",
            "_model_module_version": "1.5.0",
            "value": 4473,
            "_view_count": null,
            "_view_module_version": "1.5.0",
            "orientation": "horizontal",
            "min": 0,
            "description_tooltip": null,
            "_model_module": "@jupyter-widgets/controls",
            "layout": "IPY_MODEL_a3b2504465204611891098fa60826f93"
          }
        },
        "05ce4ddc64b54747bf8eb28d1fe6deab": {
          "model_module": "@jupyter-widgets/controls",
          "model_name": "HTMLModel",
          "model_module_version": "1.5.0",
          "state": {
            "_view_name": "HTMLView",
            "style": "IPY_MODEL_2fcdb90ed8a1427588da7b061c872e6c",
            "_dom_classes": [],
            "description": "",
            "_model_name": "HTMLModel",
            "placeholder": "​",
            "_view_module": "@jupyter-widgets/controls",
            "_model_module_version": "1.5.0",
            "value": " 28.7k/? [00:00&lt;00:00, 1.15MB/s]",
            "_view_count": null,
            "_view_module_version": "1.5.0",
            "description_tooltip": null,
            "_model_module": "@jupyter-widgets/controls",
            "layout": "IPY_MODEL_83245174f7224932a87af30a0e62ad9d"
          }
        },
        "12a3fe8dc67a4469be26320ac231b27d": {
          "model_module": "@jupyter-widgets/controls",
          "model_name": "DescriptionStyleModel",
          "model_module_version": "1.5.0",
          "state": {
            "_view_name": "StyleView",
            "_model_name": "DescriptionStyleModel",
            "description_width": "",
            "_view_module": "@jupyter-widgets/base",
            "_model_module_version": "1.5.0",
            "_view_count": null,
            "_view_module_version": "1.2.0",
            "_model_module": "@jupyter-widgets/controls"
          }
        },
        "51998eced39e4c618dfc646b01697dca": {
          "model_module": "@jupyter-widgets/base",
          "model_name": "LayoutModel",
          "model_module_version": "1.2.0",
          "state": {
            "_view_name": "LayoutView",
            "grid_template_rows": null,
            "right": null,
            "justify_content": null,
            "_view_module": "@jupyter-widgets/base",
            "overflow": null,
            "_model_module_version": "1.2.0",
            "_view_count": null,
            "flex_flow": null,
            "width": null,
            "min_width": null,
            "border": null,
            "align_items": null,
            "bottom": null,
            "_model_module": "@jupyter-widgets/base",
            "top": null,
            "grid_column": null,
            "overflow_y": null,
            "overflow_x": null,
            "grid_auto_flow": null,
            "grid_area": null,
            "grid_template_columns": null,
            "flex": null,
            "_model_name": "LayoutModel",
            "justify_items": null,
            "grid_row": null,
            "max_height": null,
            "align_content": null,
            "visibility": null,
            "align_self": null,
            "height": null,
            "min_height": null,
            "padding": null,
            "grid_auto_rows": null,
            "grid_gap": null,
            "max_width": null,
            "order": null,
            "_view_module_version": "1.2.0",
            "grid_template_areas": null,
            "object_position": null,
            "object_fit": null,
            "grid_auto_columns": null,
            "margin": null,
            "display": null,
            "left": null
          }
        },
        "3899bf0a35024f3dbe24a9d957d46e2d": {
          "model_module": "@jupyter-widgets/controls",
          "model_name": "ProgressStyleModel",
          "model_module_version": "1.5.0",
          "state": {
            "_view_name": "StyleView",
            "_model_name": "ProgressStyleModel",
            "description_width": "",
            "_view_module": "@jupyter-widgets/base",
            "_model_module_version": "1.5.0",
            "_view_count": null,
            "_view_module_version": "1.2.0",
            "bar_color": null,
            "_model_module": "@jupyter-widgets/controls"
          }
        },
        "a3b2504465204611891098fa60826f93": {
          "model_module": "@jupyter-widgets/base",
          "model_name": "LayoutModel",
          "model_module_version": "1.2.0",
          "state": {
            "_view_name": "LayoutView",
            "grid_template_rows": null,
            "right": null,
            "justify_content": null,
            "_view_module": "@jupyter-widgets/base",
            "overflow": null,
            "_model_module_version": "1.2.0",
            "_view_count": null,
            "flex_flow": null,
            "width": null,
            "min_width": null,
            "border": null,
            "align_items": null,
            "bottom": null,
            "_model_module": "@jupyter-widgets/base",
            "top": null,
            "grid_column": null,
            "overflow_y": null,
            "overflow_x": null,
            "grid_auto_flow": null,
            "grid_area": null,
            "grid_template_columns": null,
            "flex": null,
            "_model_name": "LayoutModel",
            "justify_items": null,
            "grid_row": null,
            "max_height": null,
            "align_content": null,
            "visibility": null,
            "align_self": null,
            "height": null,
            "min_height": null,
            "padding": null,
            "grid_auto_rows": null,
            "grid_gap": null,
            "max_width": null,
            "order": null,
            "_view_module_version": "1.2.0",
            "grid_template_areas": null,
            "object_position": null,
            "object_fit": null,
            "grid_auto_columns": null,
            "margin": null,
            "display": null,
            "left": null
          }
        },
        "2fcdb90ed8a1427588da7b061c872e6c": {
          "model_module": "@jupyter-widgets/controls",
          "model_name": "DescriptionStyleModel",
          "model_module_version": "1.5.0",
          "state": {
            "_view_name": "StyleView",
            "_model_name": "DescriptionStyleModel",
            "description_width": "",
            "_view_module": "@jupyter-widgets/base",
            "_model_module_version": "1.5.0",
            "_view_count": null,
            "_view_module_version": "1.2.0",
            "_model_module": "@jupyter-widgets/controls"
          }
        },
        "83245174f7224932a87af30a0e62ad9d": {
          "model_module": "@jupyter-widgets/base",
          "model_name": "LayoutModel",
          "model_module_version": "1.2.0",
          "state": {
            "_view_name": "LayoutView",
            "grid_template_rows": null,
            "right": null,
            "justify_content": null,
            "_view_module": "@jupyter-widgets/base",
            "overflow": null,
            "_model_module_version": "1.2.0",
            "_view_count": null,
            "flex_flow": null,
            "width": null,
            "min_width": null,
            "border": null,
            "align_items": null,
            "bottom": null,
            "_model_module": "@jupyter-widgets/base",
            "top": null,
            "grid_column": null,
            "overflow_y": null,
            "overflow_x": null,
            "grid_auto_flow": null,
            "grid_area": null,
            "grid_template_columns": null,
            "flex": null,
            "_model_name": "LayoutModel",
            "justify_items": null,
            "grid_row": null,
            "max_height": null,
            "align_content": null,
            "visibility": null,
            "align_self": null,
            "height": null,
            "min_height": null,
            "padding": null,
            "grid_auto_rows": null,
            "grid_gap": null,
            "max_width": null,
            "order": null,
            "_view_module_version": "1.2.0",
            "grid_template_areas": null,
            "object_position": null,
            "object_fit": null,
            "grid_auto_columns": null,
            "margin": null,
            "display": null,
            "left": null
          }
        },
        "0dbedfaab0ed431e8feae802e73150df": {
          "model_module": "@jupyter-widgets/controls",
          "model_name": "HBoxModel",
          "model_module_version": "1.5.0",
          "state": {
            "_view_name": "HBoxView",
            "_dom_classes": [],
            "_model_name": "HBoxModel",
            "_view_module": "@jupyter-widgets/controls",
            "_model_module_version": "1.5.0",
            "_view_count": null,
            "_view_module_version": "1.5.0",
            "box_style": "",
            "layout": "IPY_MODEL_d69d3d6b39424c18b3f4759556c3430c",
            "_model_module": "@jupyter-widgets/controls",
            "children": [
              "IPY_MODEL_d66c2d0529d44b77a7a916bb44c40a58",
              "IPY_MODEL_0eaf07396d684e52a2f9b99d7d92e317",
              "IPY_MODEL_ff380534401e4b9c93fd728f4a200daa"
            ]
          }
        },
        "d69d3d6b39424c18b3f4759556c3430c": {
          "model_module": "@jupyter-widgets/base",
          "model_name": "LayoutModel",
          "model_module_version": "1.2.0",
          "state": {
            "_view_name": "LayoutView",
            "grid_template_rows": null,
            "right": null,
            "justify_content": null,
            "_view_module": "@jupyter-widgets/base",
            "overflow": null,
            "_model_module_version": "1.2.0",
            "_view_count": null,
            "flex_flow": null,
            "width": null,
            "min_width": null,
            "border": null,
            "align_items": null,
            "bottom": null,
            "_model_module": "@jupyter-widgets/base",
            "top": null,
            "grid_column": null,
            "overflow_y": null,
            "overflow_x": null,
            "grid_auto_flow": null,
            "grid_area": null,
            "grid_template_columns": null,
            "flex": null,
            "_model_name": "LayoutModel",
            "justify_items": null,
            "grid_row": null,
            "max_height": null,
            "align_content": null,
            "visibility": null,
            "align_self": null,
            "height": null,
            "min_height": null,
            "padding": null,
            "grid_auto_rows": null,
            "grid_gap": null,
            "max_width": null,
            "order": null,
            "_view_module_version": "1.2.0",
            "grid_template_areas": null,
            "object_position": null,
            "object_fit": null,
            "grid_auto_columns": null,
            "margin": null,
            "display": null,
            "left": null
          }
        },
        "d66c2d0529d44b77a7a916bb44c40a58": {
          "model_module": "@jupyter-widgets/controls",
          "model_name": "HTMLModel",
          "model_module_version": "1.5.0",
          "state": {
            "_view_name": "HTMLView",
            "style": "IPY_MODEL_e3acc85a51f74205bdb1d91e6eccd5b4",
            "_dom_classes": [],
            "description": "",
            "_model_name": "HTMLModel",
            "placeholder": "​",
            "_view_module": "@jupyter-widgets/controls",
            "_model_module_version": "1.5.0",
            "value": "Downloading: 100%",
            "_view_count": null,
            "_view_module_version": "1.5.0",
            "description_tooltip": null,
            "_model_module": "@jupyter-widgets/controls",
            "layout": "IPY_MODEL_6b951474a16145e597d5c0579659dc7e"
          }
        },
        "0eaf07396d684e52a2f9b99d7d92e317": {
          "model_module": "@jupyter-widgets/controls",
          "model_name": "FloatProgressModel",
          "model_module_version": "1.5.0",
          "state": {
            "_view_name": "ProgressView",
            "style": "IPY_MODEL_e0c732c6103e4fe2ad04e58548a84fcb",
            "_dom_classes": [],
            "description": "",
            "_model_name": "FloatProgressModel",
            "bar_style": "success",
            "max": 7439277,
            "_view_module": "@jupyter-widgets/controls",
            "_model_module_version": "1.5.0",
            "value": 7439277,
            "_view_count": null,
            "_view_module_version": "1.5.0",
            "orientation": "horizontal",
            "min": 0,
            "description_tooltip": null,
            "_model_module": "@jupyter-widgets/controls",
            "layout": "IPY_MODEL_6bde45d954804f09b2b534fb35cb49c6"
          }
        },
        "ff380534401e4b9c93fd728f4a200daa": {
          "model_module": "@jupyter-widgets/controls",
          "model_name": "HTMLModel",
          "model_module_version": "1.5.0",
          "state": {
            "_view_name": "HTMLView",
            "style": "IPY_MODEL_37342f573f114668ac1d9dbe9259b780",
            "_dom_classes": [],
            "description": "",
            "_model_name": "HTMLModel",
            "placeholder": "​",
            "_view_module": "@jupyter-widgets/controls",
            "_model_module_version": "1.5.0",
            "value": " 7.44M/7.44M [00:01&lt;00:00, 6.75MB/s]",
            "_view_count": null,
            "_view_module_version": "1.5.0",
            "description_tooltip": null,
            "_model_module": "@jupyter-widgets/controls",
            "layout": "IPY_MODEL_3cac6e27431e428e8a82b4ddd2c5bd68"
          }
        },
        "e3acc85a51f74205bdb1d91e6eccd5b4": {
          "model_module": "@jupyter-widgets/controls",
          "model_name": "DescriptionStyleModel",
          "model_module_version": "1.5.0",
          "state": {
            "_view_name": "StyleView",
            "_model_name": "DescriptionStyleModel",
            "description_width": "",
            "_view_module": "@jupyter-widgets/base",
            "_model_module_version": "1.5.0",
            "_view_count": null,
            "_view_module_version": "1.2.0",
            "_model_module": "@jupyter-widgets/controls"
          }
        },
        "6b951474a16145e597d5c0579659dc7e": {
          "model_module": "@jupyter-widgets/base",
          "model_name": "LayoutModel",
          "model_module_version": "1.2.0",
          "state": {
            "_view_name": "LayoutView",
            "grid_template_rows": null,
            "right": null,
            "justify_content": null,
            "_view_module": "@jupyter-widgets/base",
            "overflow": null,
            "_model_module_version": "1.2.0",
            "_view_count": null,
            "flex_flow": null,
            "width": null,
            "min_width": null,
            "border": null,
            "align_items": null,
            "bottom": null,
            "_model_module": "@jupyter-widgets/base",
            "top": null,
            "grid_column": null,
            "overflow_y": null,
            "overflow_x": null,
            "grid_auto_flow": null,
            "grid_area": null,
            "grid_template_columns": null,
            "flex": null,
            "_model_name": "LayoutModel",
            "justify_items": null,
            "grid_row": null,
            "max_height": null,
            "align_content": null,
            "visibility": null,
            "align_self": null,
            "height": null,
            "min_height": null,
            "padding": null,
            "grid_auto_rows": null,
            "grid_gap": null,
            "max_width": null,
            "order": null,
            "_view_module_version": "1.2.0",
            "grid_template_areas": null,
            "object_position": null,
            "object_fit": null,
            "grid_auto_columns": null,
            "margin": null,
            "display": null,
            "left": null
          }
        },
        "e0c732c6103e4fe2ad04e58548a84fcb": {
          "model_module": "@jupyter-widgets/controls",
          "model_name": "ProgressStyleModel",
          "model_module_version": "1.5.0",
          "state": {
            "_view_name": "StyleView",
            "_model_name": "ProgressStyleModel",
            "description_width": "",
            "_view_module": "@jupyter-widgets/base",
            "_model_module_version": "1.5.0",
            "_view_count": null,
            "_view_module_version": "1.2.0",
            "bar_color": null,
            "_model_module": "@jupyter-widgets/controls"
          }
        },
        "6bde45d954804f09b2b534fb35cb49c6": {
          "model_module": "@jupyter-widgets/base",
          "model_name": "LayoutModel",
          "model_module_version": "1.2.0",
          "state": {
            "_view_name": "LayoutView",
            "grid_template_rows": null,
            "right": null,
            "justify_content": null,
            "_view_module": "@jupyter-widgets/base",
            "overflow": null,
            "_model_module_version": "1.2.0",
            "_view_count": null,
            "flex_flow": null,
            "width": null,
            "min_width": null,
            "border": null,
            "align_items": null,
            "bottom": null,
            "_model_module": "@jupyter-widgets/base",
            "top": null,
            "grid_column": null,
            "overflow_y": null,
            "overflow_x": null,
            "grid_auto_flow": null,
            "grid_area": null,
            "grid_template_columns": null,
            "flex": null,
            "_model_name": "LayoutModel",
            "justify_items": null,
            "grid_row": null,
            "max_height": null,
            "align_content": null,
            "visibility": null,
            "align_self": null,
            "height": null,
            "min_height": null,
            "padding": null,
            "grid_auto_rows": null,
            "grid_gap": null,
            "max_width": null,
            "order": null,
            "_view_module_version": "1.2.0",
            "grid_template_areas": null,
            "object_position": null,
            "object_fit": null,
            "grid_auto_columns": null,
            "margin": null,
            "display": null,
            "left": null
          }
        },
        "37342f573f114668ac1d9dbe9259b780": {
          "model_module": "@jupyter-widgets/controls",
          "model_name": "DescriptionStyleModel",
          "model_module_version": "1.5.0",
          "state": {
            "_view_name": "StyleView",
            "_model_name": "DescriptionStyleModel",
            "description_width": "",
            "_view_module": "@jupyter-widgets/base",
            "_model_module_version": "1.5.0",
            "_view_count": null,
            "_view_module_version": "1.2.0",
            "_model_module": "@jupyter-widgets/controls"
          }
        },
        "3cac6e27431e428e8a82b4ddd2c5bd68": {
          "model_module": "@jupyter-widgets/base",
          "model_name": "LayoutModel",
          "model_module_version": "1.2.0",
          "state": {
            "_view_name": "LayoutView",
            "grid_template_rows": null,
            "right": null,
            "justify_content": null,
            "_view_module": "@jupyter-widgets/base",
            "overflow": null,
            "_model_module_version": "1.2.0",
            "_view_count": null,
            "flex_flow": null,
            "width": null,
            "min_width": null,
            "border": null,
            "align_items": null,
            "bottom": null,
            "_model_module": "@jupyter-widgets/base",
            "top": null,
            "grid_column": null,
            "overflow_y": null,
            "overflow_x": null,
            "grid_auto_flow": null,
            "grid_area": null,
            "grid_template_columns": null,
            "flex": null,
            "_model_name": "LayoutModel",
            "justify_items": null,
            "grid_row": null,
            "max_height": null,
            "align_content": null,
            "visibility": null,
            "align_self": null,
            "height": null,
            "min_height": null,
            "padding": null,
            "grid_auto_rows": null,
            "grid_gap": null,
            "max_width": null,
            "order": null,
            "_view_module_version": "1.2.0",
            "grid_template_areas": null,
            "object_position": null,
            "object_fit": null,
            "grid_auto_columns": null,
            "margin": null,
            "display": null,
            "left": null
          }
        },
        "6ff991cc7af1407195e4a1c0bc1d6451": {
          "model_module": "@jupyter-widgets/controls",
          "model_name": "HBoxModel",
          "model_module_version": "1.5.0",
          "state": {
            "_view_name": "HBoxView",
            "_dom_classes": [],
            "_model_name": "HBoxModel",
            "_view_module": "@jupyter-widgets/controls",
            "_model_module_version": "1.5.0",
            "_view_count": null,
            "_view_module_version": "1.5.0",
            "box_style": "",
            "layout": "IPY_MODEL_873be231a7c44115bf1328f9dfd66c53",
            "_model_module": "@jupyter-widgets/controls",
            "children": [
              "IPY_MODEL_99bd97c2c989448793992eb1e5cf7a8d",
              "IPY_MODEL_42fcc2d433324029a89ef13b8de27960",
              "IPY_MODEL_36add9250c78404c8c5539eb7c953a89"
            ]
          }
        },
        "873be231a7c44115bf1328f9dfd66c53": {
          "model_module": "@jupyter-widgets/base",
          "model_name": "LayoutModel",
          "model_module_version": "1.2.0",
          "state": {
            "_view_name": "LayoutView",
            "grid_template_rows": null,
            "right": null,
            "justify_content": null,
            "_view_module": "@jupyter-widgets/base",
            "overflow": null,
            "_model_module_version": "1.2.0",
            "_view_count": null,
            "flex_flow": null,
            "width": null,
            "min_width": null,
            "border": null,
            "align_items": null,
            "bottom": null,
            "_model_module": "@jupyter-widgets/base",
            "top": null,
            "grid_column": null,
            "overflow_y": null,
            "overflow_x": null,
            "grid_auto_flow": null,
            "grid_area": null,
            "grid_template_columns": null,
            "flex": null,
            "_model_name": "LayoutModel",
            "justify_items": null,
            "grid_row": null,
            "max_height": null,
            "align_content": null,
            "visibility": null,
            "align_self": null,
            "height": null,
            "min_height": null,
            "padding": null,
            "grid_auto_rows": null,
            "grid_gap": null,
            "max_width": null,
            "order": null,
            "_view_module_version": "1.2.0",
            "grid_template_areas": null,
            "object_position": null,
            "object_fit": null,
            "grid_auto_columns": null,
            "margin": null,
            "display": null,
            "left": null
          }
        },
        "99bd97c2c989448793992eb1e5cf7a8d": {
          "model_module": "@jupyter-widgets/controls",
          "model_name": "HTMLModel",
          "model_module_version": "1.5.0",
          "state": {
            "_view_name": "HTMLView",
            "style": "IPY_MODEL_f393e5328e7c474a858b7d6e72826036",
            "_dom_classes": [],
            "description": "",
            "_model_name": "HTMLModel",
            "placeholder": "​",
            "_view_module": "@jupyter-widgets/controls",
            "_model_module_version": "1.5.0",
            "value": "",
            "_view_count": null,
            "_view_module_version": "1.5.0",
            "description_tooltip": null,
            "_model_module": "@jupyter-widgets/controls",
            "layout": "IPY_MODEL_a2f723bdf1ce4b638992fa8744671766"
          }
        },
        "42fcc2d433324029a89ef13b8de27960": {
          "model_module": "@jupyter-widgets/controls",
          "model_name": "FloatProgressModel",
          "model_module_version": "1.5.0",
          "state": {
            "_view_name": "ProgressView",
            "style": "IPY_MODEL_300611f6cfdf4409826873bf69b60bbd",
            "_dom_classes": [],
            "description": "",
            "_model_name": "FloatProgressModel",
            "bar_style": "info",
            "max": 1,
            "_view_module": "@jupyter-widgets/controls",
            "_model_module_version": "1.5.0",
            "value": 1,
            "_view_count": null,
            "_view_module_version": "1.5.0",
            "orientation": "horizontal",
            "min": 0,
            "description_tooltip": null,
            "_model_module": "@jupyter-widgets/controls",
            "layout": "IPY_MODEL_8ae043f697784d35840b8b8ec2a5a096"
          }
        },
        "36add9250c78404c8c5539eb7c953a89": {
          "model_module": "@jupyter-widgets/controls",
          "model_name": "HTMLModel",
          "model_module_version": "1.5.0",
          "state": {
            "_view_name": "HTMLView",
            "style": "IPY_MODEL_3b02c9c8fc1e4324bf74dc2790d764e0",
            "_dom_classes": [],
            "description": "",
            "_model_name": "HTMLModel",
            "placeholder": "​",
            "_view_module": "@jupyter-widgets/controls",
            "_model_module_version": "1.5.0",
            "value": " 66187/0 [00:02&lt;00:00, 21426.69 examples/s]",
            "_view_count": null,
            "_view_module_version": "1.5.0",
            "description_tooltip": null,
            "_model_module": "@jupyter-widgets/controls",
            "layout": "IPY_MODEL_4492e83e3f1c478ba7425b8b18dd979f"
          }
        },
        "f393e5328e7c474a858b7d6e72826036": {
          "model_module": "@jupyter-widgets/controls",
          "model_name": "DescriptionStyleModel",
          "model_module_version": "1.5.0",
          "state": {
            "_view_name": "StyleView",
            "_model_name": "DescriptionStyleModel",
            "description_width": "",
            "_view_module": "@jupyter-widgets/base",
            "_model_module_version": "1.5.0",
            "_view_count": null,
            "_view_module_version": "1.2.0",
            "_model_module": "@jupyter-widgets/controls"
          }
        },
        "a2f723bdf1ce4b638992fa8744671766": {
          "model_module": "@jupyter-widgets/base",
          "model_name": "LayoutModel",
          "model_module_version": "1.2.0",
          "state": {
            "_view_name": "LayoutView",
            "grid_template_rows": null,
            "right": null,
            "justify_content": null,
            "_view_module": "@jupyter-widgets/base",
            "overflow": null,
            "_model_module_version": "1.2.0",
            "_view_count": null,
            "flex_flow": null,
            "width": null,
            "min_width": null,
            "border": null,
            "align_items": null,
            "bottom": null,
            "_model_module": "@jupyter-widgets/base",
            "top": null,
            "grid_column": null,
            "overflow_y": null,
            "overflow_x": null,
            "grid_auto_flow": null,
            "grid_area": null,
            "grid_template_columns": null,
            "flex": null,
            "_model_name": "LayoutModel",
            "justify_items": null,
            "grid_row": null,
            "max_height": null,
            "align_content": null,
            "visibility": null,
            "align_self": null,
            "height": null,
            "min_height": null,
            "padding": null,
            "grid_auto_rows": null,
            "grid_gap": null,
            "max_width": null,
            "order": null,
            "_view_module_version": "1.2.0",
            "grid_template_areas": null,
            "object_position": null,
            "object_fit": null,
            "grid_auto_columns": null,
            "margin": null,
            "display": null,
            "left": null
          }
        },
        "300611f6cfdf4409826873bf69b60bbd": {
          "model_module": "@jupyter-widgets/controls",
          "model_name": "ProgressStyleModel",
          "model_module_version": "1.5.0",
          "state": {
            "_view_name": "StyleView",
            "_model_name": "ProgressStyleModel",
            "description_width": "",
            "_view_module": "@jupyter-widgets/base",
            "_model_module_version": "1.5.0",
            "_view_count": null,
            "_view_module_version": "1.2.0",
            "bar_color": null,
            "_model_module": "@jupyter-widgets/controls"
          }
        },
        "8ae043f697784d35840b8b8ec2a5a096": {
          "model_module": "@jupyter-widgets/base",
          "model_name": "LayoutModel",
          "model_module_version": "1.2.0",
          "state": {
            "_view_name": "LayoutView",
            "grid_template_rows": null,
            "right": null,
            "justify_content": null,
            "_view_module": "@jupyter-widgets/base",
            "overflow": null,
            "_model_module_version": "1.2.0",
            "_view_count": null,
            "flex_flow": null,
            "width": "20px",
            "min_width": null,
            "border": null,
            "align_items": null,
            "bottom": null,
            "_model_module": "@jupyter-widgets/base",
            "top": null,
            "grid_column": null,
            "overflow_y": null,
            "overflow_x": null,
            "grid_auto_flow": null,
            "grid_area": null,
            "grid_template_columns": null,
            "flex": null,
            "_model_name": "LayoutModel",
            "justify_items": null,
            "grid_row": null,
            "max_height": null,
            "align_content": null,
            "visibility": null,
            "align_self": null,
            "height": null,
            "min_height": null,
            "padding": null,
            "grid_auto_rows": null,
            "grid_gap": null,
            "max_width": null,
            "order": null,
            "_view_module_version": "1.2.0",
            "grid_template_areas": null,
            "object_position": null,
            "object_fit": null,
            "grid_auto_columns": null,
            "margin": null,
            "display": null,
            "left": null
          }
        },
        "3b02c9c8fc1e4324bf74dc2790d764e0": {
          "model_module": "@jupyter-widgets/controls",
          "model_name": "DescriptionStyleModel",
          "model_module_version": "1.5.0",
          "state": {
            "_view_name": "StyleView",
            "_model_name": "DescriptionStyleModel",
            "description_width": "",
            "_view_module": "@jupyter-widgets/base",
            "_model_module_version": "1.5.0",
            "_view_count": null,
            "_view_module_version": "1.2.0",
            "_model_module": "@jupyter-widgets/controls"
          }
        },
        "4492e83e3f1c478ba7425b8b18dd979f": {
          "model_module": "@jupyter-widgets/base",
          "model_name": "LayoutModel",
          "model_module_version": "1.2.0",
          "state": {
            "_view_name": "LayoutView",
            "grid_template_rows": null,
            "right": null,
            "justify_content": null,
            "_view_module": "@jupyter-widgets/base",
            "overflow": null,
            "_model_module_version": "1.2.0",
            "_view_count": null,
            "flex_flow": null,
            "width": null,
            "min_width": null,
            "border": null,
            "align_items": null,
            "bottom": null,
            "_model_module": "@jupyter-widgets/base",
            "top": null,
            "grid_column": null,
            "overflow_y": null,
            "overflow_x": null,
            "grid_auto_flow": null,
            "grid_area": null,
            "grid_template_columns": null,
            "flex": null,
            "_model_name": "LayoutModel",
            "justify_items": null,
            "grid_row": null,
            "max_height": null,
            "align_content": null,
            "visibility": null,
            "align_self": null,
            "height": null,
            "min_height": null,
            "padding": null,
            "grid_auto_rows": null,
            "grid_gap": null,
            "max_width": null,
            "order": null,
            "_view_module_version": "1.2.0",
            "grid_template_areas": null,
            "object_position": null,
            "object_fit": null,
            "grid_auto_columns": null,
            "margin": null,
            "display": null,
            "left": null
          }
        },
        "57e9bd3a48334ae1b0ea7b0d8d1e8e9d": {
          "model_module": "@jupyter-widgets/controls",
          "model_name": "HBoxModel",
          "model_module_version": "1.5.0",
          "state": {
            "_view_name": "HBoxView",
            "_dom_classes": [],
            "_model_name": "HBoxModel",
            "_view_module": "@jupyter-widgets/controls",
            "_model_module_version": "1.5.0",
            "_view_count": null,
            "_view_module_version": "1.5.0",
            "box_style": "",
            "layout": "IPY_MODEL_86263f967cac4b19967dc242d34329f2",
            "_model_module": "@jupyter-widgets/controls",
            "children": [
              "IPY_MODEL_1a73921de5024f96a3f8a361c1174701",
              "IPY_MODEL_ca8d5cba12264ce09b391fd885ccb4bd",
              "IPY_MODEL_fd5b65746e84445c9a11a9ac0c1be578"
            ]
          }
        },
        "86263f967cac4b19967dc242d34329f2": {
          "model_module": "@jupyter-widgets/base",
          "model_name": "LayoutModel",
          "model_module_version": "1.2.0",
          "state": {
            "_view_name": "LayoutView",
            "grid_template_rows": null,
            "right": null,
            "justify_content": null,
            "_view_module": "@jupyter-widgets/base",
            "overflow": null,
            "_model_module_version": "1.2.0",
            "_view_count": null,
            "flex_flow": null,
            "width": null,
            "min_width": null,
            "border": null,
            "align_items": null,
            "bottom": null,
            "_model_module": "@jupyter-widgets/base",
            "top": null,
            "grid_column": null,
            "overflow_y": null,
            "overflow_x": null,
            "grid_auto_flow": null,
            "grid_area": null,
            "grid_template_columns": null,
            "flex": null,
            "_model_name": "LayoutModel",
            "justify_items": null,
            "grid_row": null,
            "max_height": null,
            "align_content": null,
            "visibility": null,
            "align_self": null,
            "height": null,
            "min_height": null,
            "padding": null,
            "grid_auto_rows": null,
            "grid_gap": null,
            "max_width": null,
            "order": null,
            "_view_module_version": "1.2.0",
            "grid_template_areas": null,
            "object_position": null,
            "object_fit": null,
            "grid_auto_columns": null,
            "margin": null,
            "display": null,
            "left": null
          }
        },
        "1a73921de5024f96a3f8a361c1174701": {
          "model_module": "@jupyter-widgets/controls",
          "model_name": "HTMLModel",
          "model_module_version": "1.5.0",
          "state": {
            "_view_name": "HTMLView",
            "style": "IPY_MODEL_6667681d8c2a404f8ab0169f478914eb",
            "_dom_classes": [],
            "description": "",
            "_model_name": "HTMLModel",
            "placeholder": "​",
            "_view_module": "@jupyter-widgets/controls",
            "_model_module_version": "1.5.0",
            "value": "",
            "_view_count": null,
            "_view_module_version": "1.5.0",
            "description_tooltip": null,
            "_model_module": "@jupyter-widgets/controls",
            "layout": "IPY_MODEL_55ad98712b9245869b52bf1ba5672c6f"
          }
        },
        "ca8d5cba12264ce09b391fd885ccb4bd": {
          "model_module": "@jupyter-widgets/controls",
          "model_name": "FloatProgressModel",
          "model_module_version": "1.5.0",
          "state": {
            "_view_name": "ProgressView",
            "style": "IPY_MODEL_daaf862dde52442c91224279e72eff51",
            "_dom_classes": [],
            "description": "",
            "_model_name": "FloatProgressModel",
            "bar_style": "info",
            "max": 1,
            "_view_module": "@jupyter-widgets/controls",
            "_model_module_version": "1.5.0",
            "value": 1,
            "_view_count": null,
            "_view_module_version": "1.5.0",
            "orientation": "horizontal",
            "min": 0,
            "description_tooltip": null,
            "_model_module": "@jupyter-widgets/controls",
            "layout": "IPY_MODEL_aeb88bbdbff8454d8a26735a8a65a60b"
          }
        },
        "fd5b65746e84445c9a11a9ac0c1be578": {
          "model_module": "@jupyter-widgets/controls",
          "model_name": "HTMLModel",
          "model_module_version": "1.5.0",
          "state": {
            "_view_name": "HTMLView",
            "style": "IPY_MODEL_e304362554ff482aaa53ec9b8f9da1e5",
            "_dom_classes": [],
            "description": "",
            "_model_name": "HTMLModel",
            "placeholder": "​",
            "_view_module": "@jupyter-widgets/controls",
            "_model_module_version": "1.5.0",
            "value": " 0/0 [00:00&lt;?, ? examples/s]",
            "_view_count": null,
            "_view_module_version": "1.5.0",
            "description_tooltip": null,
            "_model_module": "@jupyter-widgets/controls",
            "layout": "IPY_MODEL_e04fb49594f442bdae7ac1ab45c89f86"
          }
        },
        "6667681d8c2a404f8ab0169f478914eb": {
          "model_module": "@jupyter-widgets/controls",
          "model_name": "DescriptionStyleModel",
          "model_module_version": "1.5.0",
          "state": {
            "_view_name": "StyleView",
            "_model_name": "DescriptionStyleModel",
            "description_width": "",
            "_view_module": "@jupyter-widgets/base",
            "_model_module_version": "1.5.0",
            "_view_count": null,
            "_view_module_version": "1.2.0",
            "_model_module": "@jupyter-widgets/controls"
          }
        },
        "55ad98712b9245869b52bf1ba5672c6f": {
          "model_module": "@jupyter-widgets/base",
          "model_name": "LayoutModel",
          "model_module_version": "1.2.0",
          "state": {
            "_view_name": "LayoutView",
            "grid_template_rows": null,
            "right": null,
            "justify_content": null,
            "_view_module": "@jupyter-widgets/base",
            "overflow": null,
            "_model_module_version": "1.2.0",
            "_view_count": null,
            "flex_flow": null,
            "width": null,
            "min_width": null,
            "border": null,
            "align_items": null,
            "bottom": null,
            "_model_module": "@jupyter-widgets/base",
            "top": null,
            "grid_column": null,
            "overflow_y": null,
            "overflow_x": null,
            "grid_auto_flow": null,
            "grid_area": null,
            "grid_template_columns": null,
            "flex": null,
            "_model_name": "LayoutModel",
            "justify_items": null,
            "grid_row": null,
            "max_height": null,
            "align_content": null,
            "visibility": null,
            "align_self": null,
            "height": null,
            "min_height": null,
            "padding": null,
            "grid_auto_rows": null,
            "grid_gap": null,
            "max_width": null,
            "order": null,
            "_view_module_version": "1.2.0",
            "grid_template_areas": null,
            "object_position": null,
            "object_fit": null,
            "grid_auto_columns": null,
            "margin": null,
            "display": null,
            "left": null
          }
        },
        "daaf862dde52442c91224279e72eff51": {
          "model_module": "@jupyter-widgets/controls",
          "model_name": "ProgressStyleModel",
          "model_module_version": "1.5.0",
          "state": {
            "_view_name": "StyleView",
            "_model_name": "ProgressStyleModel",
            "description_width": "",
            "_view_module": "@jupyter-widgets/base",
            "_model_module_version": "1.5.0",
            "_view_count": null,
            "_view_module_version": "1.2.0",
            "bar_color": null,
            "_model_module": "@jupyter-widgets/controls"
          }
        },
        "aeb88bbdbff8454d8a26735a8a65a60b": {
          "model_module": "@jupyter-widgets/base",
          "model_name": "LayoutModel",
          "model_module_version": "1.2.0",
          "state": {
            "_view_name": "LayoutView",
            "grid_template_rows": null,
            "right": null,
            "justify_content": null,
            "_view_module": "@jupyter-widgets/base",
            "overflow": null,
            "_model_module_version": "1.2.0",
            "_view_count": null,
            "flex_flow": null,
            "width": "20px",
            "min_width": null,
            "border": null,
            "align_items": null,
            "bottom": null,
            "_model_module": "@jupyter-widgets/base",
            "top": null,
            "grid_column": null,
            "overflow_y": null,
            "overflow_x": null,
            "grid_auto_flow": null,
            "grid_area": null,
            "grid_template_columns": null,
            "flex": null,
            "_model_name": "LayoutModel",
            "justify_items": null,
            "grid_row": null,
            "max_height": null,
            "align_content": null,
            "visibility": null,
            "align_self": null,
            "height": null,
            "min_height": null,
            "padding": null,
            "grid_auto_rows": null,
            "grid_gap": null,
            "max_width": null,
            "order": null,
            "_view_module_version": "1.2.0",
            "grid_template_areas": null,
            "object_position": null,
            "object_fit": null,
            "grid_auto_columns": null,
            "margin": null,
            "display": null,
            "left": null
          }
        },
        "e304362554ff482aaa53ec9b8f9da1e5": {
          "model_module": "@jupyter-widgets/controls",
          "model_name": "DescriptionStyleModel",
          "model_module_version": "1.5.0",
          "state": {
            "_view_name": "StyleView",
            "_model_name": "DescriptionStyleModel",
            "description_width": "",
            "_view_module": "@jupyter-widgets/base",
            "_model_module_version": "1.5.0",
            "_view_count": null,
            "_view_module_version": "1.2.0",
            "_model_module": "@jupyter-widgets/controls"
          }
        },
        "e04fb49594f442bdae7ac1ab45c89f86": {
          "model_module": "@jupyter-widgets/base",
          "model_name": "LayoutModel",
          "model_module_version": "1.2.0",
          "state": {
            "_view_name": "LayoutView",
            "grid_template_rows": null,
            "right": null,
            "justify_content": null,
            "_view_module": "@jupyter-widgets/base",
            "overflow": null,
            "_model_module_version": "1.2.0",
            "_view_count": null,
            "flex_flow": null,
            "width": null,
            "min_width": null,
            "border": null,
            "align_items": null,
            "bottom": null,
            "_model_module": "@jupyter-widgets/base",
            "top": null,
            "grid_column": null,
            "overflow_y": null,
            "overflow_x": null,
            "grid_auto_flow": null,
            "grid_area": null,
            "grid_template_columns": null,
            "flex": null,
            "_model_name": "LayoutModel",
            "justify_items": null,
            "grid_row": null,
            "max_height": null,
            "align_content": null,
            "visibility": null,
            "align_self": null,
            "height": null,
            "min_height": null,
            "padding": null,
            "grid_auto_rows": null,
            "grid_gap": null,
            "max_width": null,
            "order": null,
            "_view_module_version": "1.2.0",
            "grid_template_areas": null,
            "object_position": null,
            "object_fit": null,
            "grid_auto_columns": null,
            "margin": null,
            "display": null,
            "left": null
          }
        },
        "013b1547eee44e2cbd40f3d4649e78bb": {
          "model_module": "@jupyter-widgets/controls",
          "model_name": "HBoxModel",
          "model_module_version": "1.5.0",
          "state": {
            "_view_name": "HBoxView",
            "_dom_classes": [],
            "_model_name": "HBoxModel",
            "_view_module": "@jupyter-widgets/controls",
            "_model_module_version": "1.5.0",
            "_view_count": null,
            "_view_module_version": "1.5.0",
            "box_style": "",
            "layout": "IPY_MODEL_9f77828028e74b51a5c993078709ba88",
            "_model_module": "@jupyter-widgets/controls",
            "children": [
              "IPY_MODEL_2a93c9cadf274d0ea1c2ad9739941277",
              "IPY_MODEL_40b23e09d5a34d8aa18b88edd5fca4e2",
              "IPY_MODEL_9a4cbf52f13a4c688131109feb04cf47"
            ]
          }
        },
        "9f77828028e74b51a5c993078709ba88": {
          "model_module": "@jupyter-widgets/base",
          "model_name": "LayoutModel",
          "model_module_version": "1.2.0",
          "state": {
            "_view_name": "LayoutView",
            "grid_template_rows": null,
            "right": null,
            "justify_content": null,
            "_view_module": "@jupyter-widgets/base",
            "overflow": null,
            "_model_module_version": "1.2.0",
            "_view_count": null,
            "flex_flow": null,
            "width": null,
            "min_width": null,
            "border": null,
            "align_items": null,
            "bottom": null,
            "_model_module": "@jupyter-widgets/base",
            "top": null,
            "grid_column": null,
            "overflow_y": null,
            "overflow_x": null,
            "grid_auto_flow": null,
            "grid_area": null,
            "grid_template_columns": null,
            "flex": null,
            "_model_name": "LayoutModel",
            "justify_items": null,
            "grid_row": null,
            "max_height": null,
            "align_content": null,
            "visibility": null,
            "align_self": null,
            "height": null,
            "min_height": null,
            "padding": null,
            "grid_auto_rows": null,
            "grid_gap": null,
            "max_width": null,
            "order": null,
            "_view_module_version": "1.2.0",
            "grid_template_areas": null,
            "object_position": null,
            "object_fit": null,
            "grid_auto_columns": null,
            "margin": null,
            "display": null,
            "left": null
          }
        },
        "2a93c9cadf274d0ea1c2ad9739941277": {
          "model_module": "@jupyter-widgets/controls",
          "model_name": "HTMLModel",
          "model_module_version": "1.5.0",
          "state": {
            "_view_name": "HTMLView",
            "style": "IPY_MODEL_c381de12a1c147ee8ce448d8a6f829e1",
            "_dom_classes": [],
            "description": "",
            "_model_name": "HTMLModel",
            "placeholder": "​",
            "_view_module": "@jupyter-widgets/controls",
            "_model_module_version": "1.5.0",
            "value": "",
            "_view_count": null,
            "_view_module_version": "1.5.0",
            "description_tooltip": null,
            "_model_module": "@jupyter-widgets/controls",
            "layout": "IPY_MODEL_57af31dca21746e88094fc5df5aa0602"
          }
        },
        "40b23e09d5a34d8aa18b88edd5fca4e2": {
          "model_module": "@jupyter-widgets/controls",
          "model_name": "FloatProgressModel",
          "model_module_version": "1.5.0",
          "state": {
            "_view_name": "ProgressView",
            "style": "IPY_MODEL_c81550805b974c61af9f27de08a3e10a",
            "_dom_classes": [],
            "description": "",
            "_model_name": "FloatProgressModel",
            "bar_style": "info",
            "max": 1,
            "_view_module": "@jupyter-widgets/controls",
            "_model_module_version": "1.5.0",
            "value": 1,
            "_view_count": null,
            "_view_module_version": "1.5.0",
            "orientation": "horizontal",
            "min": 0,
            "description_tooltip": null,
            "_model_module": "@jupyter-widgets/controls",
            "layout": "IPY_MODEL_cb48ba5d40914eca87ee1bc3f7e9bf9d"
          }
        },
        "9a4cbf52f13a4c688131109feb04cf47": {
          "model_module": "@jupyter-widgets/controls",
          "model_name": "HTMLModel",
          "model_module_version": "1.5.0",
          "state": {
            "_view_name": "HTMLView",
            "style": "IPY_MODEL_172c337f154f4a5a9ecdac76e173b890",
            "_dom_classes": [],
            "description": "",
            "_model_name": "HTMLModel",
            "placeholder": "​",
            "_view_module": "@jupyter-widgets/controls",
            "_model_module_version": "1.5.0",
            "value": " 1682/0 [00:00&lt;00:00, 16816.33 examples/s]",
            "_view_count": null,
            "_view_module_version": "1.5.0",
            "description_tooltip": null,
            "_model_module": "@jupyter-widgets/controls",
            "layout": "IPY_MODEL_c8ab7b6c27ea461582031f91855e6085"
          }
        },
        "c381de12a1c147ee8ce448d8a6f829e1": {
          "model_module": "@jupyter-widgets/controls",
          "model_name": "DescriptionStyleModel",
          "model_module_version": "1.5.0",
          "state": {
            "_view_name": "StyleView",
            "_model_name": "DescriptionStyleModel",
            "description_width": "",
            "_view_module": "@jupyter-widgets/base",
            "_model_module_version": "1.5.0",
            "_view_count": null,
            "_view_module_version": "1.2.0",
            "_model_module": "@jupyter-widgets/controls"
          }
        },
        "57af31dca21746e88094fc5df5aa0602": {
          "model_module": "@jupyter-widgets/base",
          "model_name": "LayoutModel",
          "model_module_version": "1.2.0",
          "state": {
            "_view_name": "LayoutView",
            "grid_template_rows": null,
            "right": null,
            "justify_content": null,
            "_view_module": "@jupyter-widgets/base",
            "overflow": null,
            "_model_module_version": "1.2.0",
            "_view_count": null,
            "flex_flow": null,
            "width": null,
            "min_width": null,
            "border": null,
            "align_items": null,
            "bottom": null,
            "_model_module": "@jupyter-widgets/base",
            "top": null,
            "grid_column": null,
            "overflow_y": null,
            "overflow_x": null,
            "grid_auto_flow": null,
            "grid_area": null,
            "grid_template_columns": null,
            "flex": null,
            "_model_name": "LayoutModel",
            "justify_items": null,
            "grid_row": null,
            "max_height": null,
            "align_content": null,
            "visibility": null,
            "align_self": null,
            "height": null,
            "min_height": null,
            "padding": null,
            "grid_auto_rows": null,
            "grid_gap": null,
            "max_width": null,
            "order": null,
            "_view_module_version": "1.2.0",
            "grid_template_areas": null,
            "object_position": null,
            "object_fit": null,
            "grid_auto_columns": null,
            "margin": null,
            "display": null,
            "left": null
          }
        },
        "c81550805b974c61af9f27de08a3e10a": {
          "model_module": "@jupyter-widgets/controls",
          "model_name": "ProgressStyleModel",
          "model_module_version": "1.5.0",
          "state": {
            "_view_name": "StyleView",
            "_model_name": "ProgressStyleModel",
            "description_width": "",
            "_view_module": "@jupyter-widgets/base",
            "_model_module_version": "1.5.0",
            "_view_count": null,
            "_view_module_version": "1.2.0",
            "bar_color": null,
            "_model_module": "@jupyter-widgets/controls"
          }
        },
        "cb48ba5d40914eca87ee1bc3f7e9bf9d": {
          "model_module": "@jupyter-widgets/base",
          "model_name": "LayoutModel",
          "model_module_version": "1.2.0",
          "state": {
            "_view_name": "LayoutView",
            "grid_template_rows": null,
            "right": null,
            "justify_content": null,
            "_view_module": "@jupyter-widgets/base",
            "overflow": null,
            "_model_module_version": "1.2.0",
            "_view_count": null,
            "flex_flow": null,
            "width": "20px",
            "min_width": null,
            "border": null,
            "align_items": null,
            "bottom": null,
            "_model_module": "@jupyter-widgets/base",
            "top": null,
            "grid_column": null,
            "overflow_y": null,
            "overflow_x": null,
            "grid_auto_flow": null,
            "grid_area": null,
            "grid_template_columns": null,
            "flex": null,
            "_model_name": "LayoutModel",
            "justify_items": null,
            "grid_row": null,
            "max_height": null,
            "align_content": null,
            "visibility": null,
            "align_self": null,
            "height": null,
            "min_height": null,
            "padding": null,
            "grid_auto_rows": null,
            "grid_gap": null,
            "max_width": null,
            "order": null,
            "_view_module_version": "1.2.0",
            "grid_template_areas": null,
            "object_position": null,
            "object_fit": null,
            "grid_auto_columns": null,
            "margin": null,
            "display": null,
            "left": null
          }
        },
        "172c337f154f4a5a9ecdac76e173b890": {
          "model_module": "@jupyter-widgets/controls",
          "model_name": "DescriptionStyleModel",
          "model_module_version": "1.5.0",
          "state": {
            "_view_name": "StyleView",
            "_model_name": "DescriptionStyleModel",
            "description_width": "",
            "_view_module": "@jupyter-widgets/base",
            "_model_module_version": "1.5.0",
            "_view_count": null,
            "_view_module_version": "1.2.0",
            "_model_module": "@jupyter-widgets/controls"
          }
        },
        "c8ab7b6c27ea461582031f91855e6085": {
          "model_module": "@jupyter-widgets/base",
          "model_name": "LayoutModel",
          "model_module_version": "1.2.0",
          "state": {
            "_view_name": "LayoutView",
            "grid_template_rows": null,
            "right": null,
            "justify_content": null,
            "_view_module": "@jupyter-widgets/base",
            "overflow": null,
            "_model_module_version": "1.2.0",
            "_view_count": null,
            "flex_flow": null,
            "width": null,
            "min_width": null,
            "border": null,
            "align_items": null,
            "bottom": null,
            "_model_module": "@jupyter-widgets/base",
            "top": null,
            "grid_column": null,
            "overflow_y": null,
            "overflow_x": null,
            "grid_auto_flow": null,
            "grid_area": null,
            "grid_template_columns": null,
            "flex": null,
            "_model_name": "LayoutModel",
            "justify_items": null,
            "grid_row": null,
            "max_height": null,
            "align_content": null,
            "visibility": null,
            "align_self": null,
            "height": null,
            "min_height": null,
            "padding": null,
            "grid_auto_rows": null,
            "grid_gap": null,
            "max_width": null,
            "order": null,
            "_view_module_version": "1.2.0",
            "grid_template_areas": null,
            "object_position": null,
            "object_fit": null,
            "grid_auto_columns": null,
            "margin": null,
            "display": null,
            "left": null
          }
        },
        "aaa177cec44e4d7dae43267e245b33d3": {
          "model_module": "@jupyter-widgets/controls",
          "model_name": "HBoxModel",
          "model_module_version": "1.5.0",
          "state": {
            "_view_name": "HBoxView",
            "_dom_classes": [],
            "_model_name": "HBoxModel",
            "_view_module": "@jupyter-widgets/controls",
            "_model_module_version": "1.5.0",
            "_view_count": null,
            "_view_module_version": "1.5.0",
            "box_style": "",
            "layout": "IPY_MODEL_e8c5dea93b13472bbaff13c2887bbb0e",
            "_model_module": "@jupyter-widgets/controls",
            "children": [
              "IPY_MODEL_da6d4c6d5efd45e8b1fa55dcd6571ee2",
              "IPY_MODEL_35ed368643ff426fa8c86b8fe32beabb",
              "IPY_MODEL_a1b7ea0bd9bd4bfe983f61ab0ca9c7e4"
            ]
          }
        },
        "e8c5dea93b13472bbaff13c2887bbb0e": {
          "model_module": "@jupyter-widgets/base",
          "model_name": "LayoutModel",
          "model_module_version": "1.2.0",
          "state": {
            "_view_name": "LayoutView",
            "grid_template_rows": null,
            "right": null,
            "justify_content": null,
            "_view_module": "@jupyter-widgets/base",
            "overflow": null,
            "_model_module_version": "1.2.0",
            "_view_count": null,
            "flex_flow": null,
            "width": null,
            "min_width": null,
            "border": null,
            "align_items": null,
            "bottom": null,
            "_model_module": "@jupyter-widgets/base",
            "top": null,
            "grid_column": null,
            "overflow_y": null,
            "overflow_x": null,
            "grid_auto_flow": null,
            "grid_area": null,
            "grid_template_columns": null,
            "flex": null,
            "_model_name": "LayoutModel",
            "justify_items": null,
            "grid_row": null,
            "max_height": null,
            "align_content": null,
            "visibility": null,
            "align_self": null,
            "height": null,
            "min_height": null,
            "padding": null,
            "grid_auto_rows": null,
            "grid_gap": null,
            "max_width": null,
            "order": null,
            "_view_module_version": "1.2.0",
            "grid_template_areas": null,
            "object_position": null,
            "object_fit": null,
            "grid_auto_columns": null,
            "margin": null,
            "display": null,
            "left": null
          }
        },
        "da6d4c6d5efd45e8b1fa55dcd6571ee2": {
          "model_module": "@jupyter-widgets/controls",
          "model_name": "HTMLModel",
          "model_module_version": "1.5.0",
          "state": {
            "_view_name": "HTMLView",
            "style": "IPY_MODEL_0ad0ab2e8fe246c89ef451ed80f4313f",
            "_dom_classes": [],
            "description": "",
            "_model_name": "HTMLModel",
            "placeholder": "​",
            "_view_module": "@jupyter-widgets/controls",
            "_model_module_version": "1.5.0",
            "value": "100%",
            "_view_count": null,
            "_view_module_version": "1.5.0",
            "description_tooltip": null,
            "_model_module": "@jupyter-widgets/controls",
            "layout": "IPY_MODEL_71f6270889a94a328726fa8e2460e7c0"
          }
        },
        "35ed368643ff426fa8c86b8fe32beabb": {
          "model_module": "@jupyter-widgets/controls",
          "model_name": "FloatProgressModel",
          "model_module_version": "1.5.0",
          "state": {
            "_view_name": "ProgressView",
            "style": "IPY_MODEL_55e13c93b20341b191ff25b1cf88917e",
            "_dom_classes": [],
            "description": "",
            "_model_name": "FloatProgressModel",
            "bar_style": "success",
            "max": 3,
            "_view_module": "@jupyter-widgets/controls",
            "_model_module_version": "1.5.0",
            "value": 3,
            "_view_count": null,
            "_view_module_version": "1.5.0",
            "orientation": "horizontal",
            "min": 0,
            "description_tooltip": null,
            "_model_module": "@jupyter-widgets/controls",
            "layout": "IPY_MODEL_2f6d40f7fe4c40a5a0bf054defc98ff5"
          }
        },
        "a1b7ea0bd9bd4bfe983f61ab0ca9c7e4": {
          "model_module": "@jupyter-widgets/controls",
          "model_name": "HTMLModel",
          "model_module_version": "1.5.0",
          "state": {
            "_view_name": "HTMLView",
            "style": "IPY_MODEL_2a608619f20e439cba2b40743875e872",
            "_dom_classes": [],
            "description": "",
            "_model_name": "HTMLModel",
            "placeholder": "​",
            "_view_module": "@jupyter-widgets/controls",
            "_model_module_version": "1.5.0",
            "value": " 3/3 [00:00&lt;00:00, 86.77it/s]",
            "_view_count": null,
            "_view_module_version": "1.5.0",
            "description_tooltip": null,
            "_model_module": "@jupyter-widgets/controls",
            "layout": "IPY_MODEL_23652595f7dd4731b0055c3b9002c833"
          }
        },
        "0ad0ab2e8fe246c89ef451ed80f4313f": {
          "model_module": "@jupyter-widgets/controls",
          "model_name": "DescriptionStyleModel",
          "model_module_version": "1.5.0",
          "state": {
            "_view_name": "StyleView",
            "_model_name": "DescriptionStyleModel",
            "description_width": "",
            "_view_module": "@jupyter-widgets/base",
            "_model_module_version": "1.5.0",
            "_view_count": null,
            "_view_module_version": "1.2.0",
            "_model_module": "@jupyter-widgets/controls"
          }
        },
        "71f6270889a94a328726fa8e2460e7c0": {
          "model_module": "@jupyter-widgets/base",
          "model_name": "LayoutModel",
          "model_module_version": "1.2.0",
          "state": {
            "_view_name": "LayoutView",
            "grid_template_rows": null,
            "right": null,
            "justify_content": null,
            "_view_module": "@jupyter-widgets/base",
            "overflow": null,
            "_model_module_version": "1.2.0",
            "_view_count": null,
            "flex_flow": null,
            "width": null,
            "min_width": null,
            "border": null,
            "align_items": null,
            "bottom": null,
            "_model_module": "@jupyter-widgets/base",
            "top": null,
            "grid_column": null,
            "overflow_y": null,
            "overflow_x": null,
            "grid_auto_flow": null,
            "grid_area": null,
            "grid_template_columns": null,
            "flex": null,
            "_model_name": "LayoutModel",
            "justify_items": null,
            "grid_row": null,
            "max_height": null,
            "align_content": null,
            "visibility": null,
            "align_self": null,
            "height": null,
            "min_height": null,
            "padding": null,
            "grid_auto_rows": null,
            "grid_gap": null,
            "max_width": null,
            "order": null,
            "_view_module_version": "1.2.0",
            "grid_template_areas": null,
            "object_position": null,
            "object_fit": null,
            "grid_auto_columns": null,
            "margin": null,
            "display": null,
            "left": null
          }
        },
        "55e13c93b20341b191ff25b1cf88917e": {
          "model_module": "@jupyter-widgets/controls",
          "model_name": "ProgressStyleModel",
          "model_module_version": "1.5.0",
          "state": {
            "_view_name": "StyleView",
            "_model_name": "ProgressStyleModel",
            "description_width": "",
            "_view_module": "@jupyter-widgets/base",
            "_model_module_version": "1.5.0",
            "_view_count": null,
            "_view_module_version": "1.2.0",
            "bar_color": null,
            "_model_module": "@jupyter-widgets/controls"
          }
        },
        "2f6d40f7fe4c40a5a0bf054defc98ff5": {
          "model_module": "@jupyter-widgets/base",
          "model_name": "LayoutModel",
          "model_module_version": "1.2.0",
          "state": {
            "_view_name": "LayoutView",
            "grid_template_rows": null,
            "right": null,
            "justify_content": null,
            "_view_module": "@jupyter-widgets/base",
            "overflow": null,
            "_model_module_version": "1.2.0",
            "_view_count": null,
            "flex_flow": null,
            "width": null,
            "min_width": null,
            "border": null,
            "align_items": null,
            "bottom": null,
            "_model_module": "@jupyter-widgets/base",
            "top": null,
            "grid_column": null,
            "overflow_y": null,
            "overflow_x": null,
            "grid_auto_flow": null,
            "grid_area": null,
            "grid_template_columns": null,
            "flex": null,
            "_model_name": "LayoutModel",
            "justify_items": null,
            "grid_row": null,
            "max_height": null,
            "align_content": null,
            "visibility": null,
            "align_self": null,
            "height": null,
            "min_height": null,
            "padding": null,
            "grid_auto_rows": null,
            "grid_gap": null,
            "max_width": null,
            "order": null,
            "_view_module_version": "1.2.0",
            "grid_template_areas": null,
            "object_position": null,
            "object_fit": null,
            "grid_auto_columns": null,
            "margin": null,
            "display": null,
            "left": null
          }
        },
        "2a608619f20e439cba2b40743875e872": {
          "model_module": "@jupyter-widgets/controls",
          "model_name": "DescriptionStyleModel",
          "model_module_version": "1.5.0",
          "state": {
            "_view_name": "StyleView",
            "_model_name": "DescriptionStyleModel",
            "description_width": "",
            "_view_module": "@jupyter-widgets/base",
            "_model_module_version": "1.5.0",
            "_view_count": null,
            "_view_module_version": "1.2.0",
            "_model_module": "@jupyter-widgets/controls"
          }
        },
        "23652595f7dd4731b0055c3b9002c833": {
          "model_module": "@jupyter-widgets/base",
          "model_name": "LayoutModel",
          "model_module_version": "1.2.0",
          "state": {
            "_view_name": "LayoutView",
            "grid_template_rows": null,
            "right": null,
            "justify_content": null,
            "_view_module": "@jupyter-widgets/base",
            "overflow": null,
            "_model_module_version": "1.2.0",
            "_view_count": null,
            "flex_flow": null,
            "width": null,
            "min_width": null,
            "border": null,
            "align_items": null,
            "bottom": null,
            "_model_module": "@jupyter-widgets/base",
            "top": null,
            "grid_column": null,
            "overflow_y": null,
            "overflow_x": null,
            "grid_auto_flow": null,
            "grid_area": null,
            "grid_template_columns": null,
            "flex": null,
            "_model_name": "LayoutModel",
            "justify_items": null,
            "grid_row": null,
            "max_height": null,
            "align_content": null,
            "visibility": null,
            "align_self": null,
            "height": null,
            "min_height": null,
            "padding": null,
            "grid_auto_rows": null,
            "grid_gap": null,
            "max_width": null,
            "order": null,
            "_view_module_version": "1.2.0",
            "grid_template_areas": null,
            "object_position": null,
            "object_fit": null,
            "grid_auto_columns": null,
            "margin": null,
            "display": null,
            "left": null
          }
        }
      }
    }
  },
  "nbformat": 4,
  "nbformat_minor": 0
}